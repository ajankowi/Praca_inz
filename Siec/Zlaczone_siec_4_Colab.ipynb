{
  "cells": [
    {
      "cell_type": "markdown",
      "metadata": {
        "id": "view-in-github",
        "colab_type": "text"
      },
      "source": [
        "<a href=\"https://colab.research.google.com/github/ajankowi/Praca_inz/blob/master/Siec/Zlaczone_siec_4_Colab.ipynb\" target=\"_parent\"><img src=\"https://colab.research.google.com/assets/colab-badge.svg\" alt=\"Open In Colab\"/></a>"
      ]
    },
    {
      "cell_type": "code",
      "execution_count": null,
      "id": "613f08b5",
      "metadata": {
        "id": "613f08b5",
        "outputId": "b202f869-7444-4e01-85c0-9841520c7a4c",
        "colab": {
          "base_uri": "https://localhost:8080/"
        }
      },
      "outputs": [
        {
          "output_type": "stream",
          "name": "stdout",
          "text": [
            "3.8.16 (default, Dec  7 2022, 01:12:13) \n",
            "[GCC 7.5.0]\n"
          ]
        }
      ],
      "source": [
        "import sys\n",
        "print(sys.version)"
      ]
    },
    {
      "cell_type": "code",
      "source": [
        "from google.colab import drive\n",
        "drive.mount(\"/content/drive\", force_remount=True)"
      ],
      "metadata": {
        "id": "iY1o7_NmVlGs"
      },
      "id": "iY1o7_NmVlGs",
      "execution_count": null,
      "outputs": []
    },
    {
      "cell_type": "code",
      "execution_count": null,
      "id": "5eca1117",
      "metadata": {
        "id": "5eca1117",
        "outputId": "301641e3-ef34-4487-b197-56743673d6ed",
        "colab": {
          "base_uri": "https://localhost:8080/"
        }
      },
      "outputs": [
        {
          "output_type": "stream",
          "name": "stdout",
          "text": [
            "TensorFlow version: 2.9.2\n"
          ]
        }
      ],
      "source": [
        "import tensorflow as tf\n",
        "from tensorflow import keras\n",
        "from keras import layers, models, regularizers\n",
        "from keras.layers import Flatten, add, Dense, Dropout \n",
        "from keras.callbacks import ModelCheckpoint, EarlyStopping\n",
        "\n",
        "\n",
        "print(\"TensorFlow version:\", tf.__version__)\n",
        "tf.keras.backend.set_floatx('float64')"
      ]
    },
    {
      "cell_type": "code",
      "execution_count": null,
      "id": "12022d37",
      "metadata": {
        "id": "12022d37"
      },
      "outputs": [],
      "source": [
        "import matplotlib.pyplot as plt\n",
        "import numpy as np\n",
        "import pandas as pd\n",
        "import seaborn as sns\n",
        "from PIL import Image\n",
        "import os\n",
        "import csv\n",
        "import random\n",
        "\n",
        "import cv2\n",
        "import imutils\n",
        "import glob\n",
        "# Make NumPy printouts easier to read.\n",
        "np.set_printoptions(precision=3, suppress=True)"
      ]
    },
    {
      "cell_type": "code",
      "execution_count": null,
      "id": "1086f893",
      "metadata": {
        "id": "1086f893"
      },
      "outputs": [],
      "source": [
        "#Określenie ścieżek do plików\n",
        "test_zip = '/content/drive/MyDrive/Sieci/Baza_zdjec_zlaczone_2/Test.zip'\n",
        "test_csv = 'test.csv'\n",
        "\n",
        "train_zip = '/content/drive/MyDrive/Sieci/Baza_zdjec_zlaczone_2/Train.zip'\n",
        "test_sip = 'train.csv'\n",
        "\n",
        "folder = '/content/drive/MyDrive/Sieci/Baza_zdjec_zlaczone_2/'\n",
        "slesh = '/'\n",
        "png = '.png'"
      ]
    },
    {
      "cell_type": "code",
      "source": [
        "!unzip '/content/drive/MyDrive/Sieci/Baza_zdjec_zlaczone_2/Train.zip' -d '/content/zdjecia/train/'\n",
        "!unzip '/content/drive/MyDrive/Sieci/Baza_zdjec_zlaczone_2/Test.zip' -d '/content/zdjecia/test/'"
      ],
      "metadata": {
        "id": "FXtX4UDo9x77"
      },
      "id": "FXtX4UDo9x77",
      "execution_count": null,
      "outputs": []
    },
    {
      "cell_type": "code",
      "execution_count": null,
      "id": "d0329f31",
      "metadata": {
        "id": "d0329f31"
      },
      "outputs": [],
      "source": [
        "def release_list(a):\n",
        "    \n",
        "    del a[:]\n",
        "    del a"
      ]
    },
    {
      "cell_type": "code",
      "execution_count": null,
      "id": "5beb89e7",
      "metadata": {
        "id": "5beb89e7",
        "outputId": "233d3401-8ab9-4fa1-caaf-0c5482f1f694",
        "colab": {
          "base_uri": "https://localhost:8080/"
        }
      },
      "outputs": [
        {
          "output_type": "stream",
          "name": "stdout",
          "text": [
            "25200\n"
          ]
        }
      ],
      "source": [
        "#Wczytanie etykiet do treninegu \n",
        "\n",
        "with open(folder+train_csv,\"r\") as csvfile:\n",
        "    lines = csvfile.readlines()\n",
        "csvfile.close()\n",
        "\n",
        "new = []\n",
        "\n",
        "for i in lines:\n",
        "    new.append(i.split(\" \"))\n",
        "\n",
        "    \n",
        "value_train = []\n",
        "for i in new[0]:\n",
        "    value_train.append(int(i))    \n",
        "    \n",
        "print(len(value_train))"
      ]
    },
    {
      "cell_type": "code",
      "source": [
        "#Wczytanie etykiet do testowania\n",
        "\n",
        "with open(folder+test_csv,\"r\") as csvfile:\n",
        "    lines = csvfile.readlines()\n",
        "csvfile.close()\n",
        "\n",
        "new = []\n",
        "\n",
        "for i in lines:\n",
        "    new.append(i.split(\" \"))\n",
        "\n",
        "    \n",
        "value_test = []\n",
        "for i in new[0]:\n",
        "    value_test.append(int(i))    \n",
        "    \n",
        "print(len(value_test))"
      ],
      "metadata": {
        "id": "_BbuBDFDgvdp"
      },
      "id": "_BbuBDFDgvdp",
      "execution_count": null,
      "outputs": []
    },
    {
      "cell_type": "code",
      "source": [],
      "metadata": {
        "id": "uSMvghSlgvj1"
      },
      "id": "uSMvghSlgvj1",
      "execution_count": null,
      "outputs": []
    },
    {
      "cell_type": "code",
      "execution_count": null,
      "id": "d9cb09d8",
      "metadata": {
        "id": "d9cb09d8",
        "outputId": "9d1efe8c-3a15-4b22-876a-0af6ab3fe59c",
        "colab": {
          "base_uri": "https://localhost:8080/"
        }
      },
      "outputs": [
        {
          "output_type": "stream",
          "name": "stdout",
          "text": [
            "25200\n"
          ]
        }
      ],
      "source": [
        "#Wczytanie zdjęć treningowych \n",
        "images_train = []\n",
        "size = len(value_train)\n",
        "\n",
        "for i in range(size):\n",
        "    im = Image.open('/content/zdjecia/'+str(i)+'.png')\n",
        "    arr_im = np.array(im) \n",
        "    arr_im = arr_im / 255.0\n",
        "    images_train.append(arr_im) \n",
        "print(len(images_train))"
      ]
    },
    {
      "cell_type": "code",
      "execution_count": null,
      "id": "44a7c0bf",
      "metadata": {
        "id": "44a7c0bf"
      },
      "outputs": [],
      "source": [
        "#Inicjalizacja tablic\n",
        "rand_list = []\n",
        "rand_list = np.zeros((len(images)), dtype=np.uint8)\n",
        "\n",
        "x_test = []\n",
        "y_test = []\n",
        "\n",
        "x_train = []\n",
        "y_train = []\n",
        "\n",
        "\n",
        "#Okreslanie wielkosci zbiorów\n",
        "nighty = int(len(images)*90/100)\n",
        "ten = len(images) - nighty\n",
        "\n",
        "#Losowanie zbioru testowego\n",
        "for i in range(nighty):\n",
        "    \n",
        "    #Pierwsze losowanie wartości\n",
        "    rand = random.randint(0,len(images)-1)\n",
        "    \n",
        "    #Sprawdzenie czy wylosowana wartość się powtarza\n",
        "    while (rand_list[rand] == 1) :\n",
        "        #Jeżeli tak to ponownie losuje\n",
        "        rand = random.randint(0,len(images)-1)\n",
        "    \n",
        "    #Zapisanie zdjecia i wartości do nowej tablicy\n",
        "    x_train.append(images[rand])\n",
        "    y_train.append(value[rand])\n",
        "    rand_list[rand] = 1\n",
        "\n",
        "#Losowanie zbioru uczącego\n",
        "for j in range(ten):\n",
        "    \n",
        "    #Pierwsze losowanie wartości\n",
        "    rand = random.randint(0,len(images)-1)\n",
        "    \n",
        "    #Sprawdzenie czy wylosowana wartość się powtarza\n",
        "    while (rand_list[rand] == 1) :\n",
        "        #Jeżeli tak to ponownie losuje\n",
        "        rand = random.randint(0,len(images)-1)\n",
        "        \n",
        "    #Zapisanie zdjecia i wartości do nowej tablicy\n",
        "    x_test.append(images[rand])\n",
        "    y_test.append(value[rand])\n",
        "    rand_list[rand] = 1\n",
        "    \n",
        "    \n",
        "release_list(images)\n",
        "release_list(value)"
      ]
    },
    {
      "cell_type": "code",
      "execution_count": null,
      "id": "8fccbbcc",
      "metadata": {
        "id": "8fccbbcc",
        "outputId": "b801581f-08c4-4752-8e6e-48a9a69c1ff8",
        "colab": {
          "base_uri": "https://localhost:8080/"
        }
      },
      "outputs": [
        {
          "output_type": "stream",
          "name": "stdout",
          "text": [
            "9.90%\n",
            "90.10%\n"
          ]
        }
      ],
      "source": [
        "#Sprawdzenie poprawności losowania\n",
        "val_1 = 100 * sum(y_test) / (size / 2)\n",
        "print(\"%.2f\" % val_1 + '%') \n",
        "\n",
        "\n",
        "val_2 = 100 * sum(y_train) / (size / 2)\n",
        "print(\"%.2f\" % val_2 + '%') \n",
        "\n",
        "\n"
      ]
    },
    {
      "cell_type": "code",
      "execution_count": null,
      "id": "f7f4dd4b",
      "metadata": {
        "id": "f7f4dd4b"
      },
      "outputs": [],
      "source": [
        "x_train = np.array(x_train)\n",
        "x_test = np.array(x_test)\n",
        "\n",
        "y_train = np.array(y_train)\n",
        "y_test = np.array(y_test)"
      ]
    },
    {
      "cell_type": "code",
      "execution_count": null,
      "id": "d3a370cb",
      "metadata": {
        "id": "d3a370cb",
        "outputId": "781a242e-3944-45bf-cdad-bb71bf526a5a",
        "colab": {
          "base_uri": "https://localhost:8080/",
          "height": 357
        }
      },
      "outputs": [
        {
          "output_type": "stream",
          "name": "stdout",
          "text": [
            "[[0.    0.    0.    ... 0.    0.    0.   ]\n",
            " [0.    0.    0.    ... 0.    0.    0.   ]\n",
            " [0.    0.    0.004 ... 0.008 0.    0.   ]\n",
            " ...\n",
            " [0.    0.    0.063 ... 0.082 0.02  0.   ]\n",
            " [0.    0.    0.02  ... 0.    0.    0.   ]\n",
            " [0.    0.    0.    ... 0.    0.    0.   ]]\n",
            "1\n"
          ]
        },
        {
          "output_type": "display_data",
          "data": {
            "text/plain": [
              "<Figure size 432x288 with 1 Axes>"
            ],
            "image/png": "[encoded data removed]"
          },
          "metadata": {
            "needs_background": "light"
          }
        }
      ],
      "source": [
        "plt.imshow(x_train[0],cmap = 'gray')\n",
        "print(x_train[0])\n",
        "print(y_train[0])"
      ]
    },
    {
      "cell_type": "code",
      "execution_count": null,
      "id": "772c7d7c",
      "metadata": {
        "id": "772c7d7c"
      },
      "outputs": [],
      "source": [
        "model = models.Sequential()\n",
        "model.add(layers.Conv2D(32, (3, 3), activation='relu', input_shape=(64, 128, 1)))\n",
        "model.add(layers.MaxPooling2D((2, 2)))\n",
        "model.add(Dropout(0.1))\n",
        "\n",
        "model.add(layers.Conv2D(64, (3, 3), activation='relu'))\n",
        "model.add(layers.MaxPooling2D((2, 2)))\n",
        "model.add(Dropout(0.1))\n",
        "\n",
        "model.add(layers.Conv2D(64, (3, 3), activation='relu'))\n",
        "model.add(layers.MaxPooling2D((2, 2)))\n",
        "model.add(Dropout(0.1))\n",
        "\n",
        "model.add(layers.Flatten())\n",
        "model.add(layers.Dense(64, activation='relu', kernel_regularizer=keras.regularizers.l2(l=0.1)))\n",
        "model.add(layers.Dense(1, activation='relu'))\n"
      ]
    },
    {
      "cell_type": "code",
      "execution_count": null,
      "id": "b86f72df",
      "metadata": {
        "id": "b86f72df",
        "outputId": "28bfc537-88c6-4726-a53c-9ffff5cfd542",
        "colab": {
          "base_uri": "https://localhost:8080/"
        }
      },
      "outputs": [
        {
          "output_type": "stream",
          "name": "stdout",
          "text": [
            "Model: \"sequential\"\n",
            "_________________________________________________________________\n",
            " Layer (type)                Output Shape              Param #   \n",
            "=================================================================\n",
            " conv2d (Conv2D)             (None, 62, 126, 32)       320       \n",
            "                                                                 \n",
            " max_pooling2d (MaxPooling2D  (None, 31, 63, 32)       0         \n",
            " )                                                               \n",
            "                                                                 \n",
            " dropout (Dropout)           (None, 31, 63, 32)        0         \n",
            "                                                                 \n",
            " conv2d_1 (Conv2D)           (None, 29, 61, 64)        18496     \n",
            "                                                                 \n",
            " max_pooling2d_1 (MaxPooling  (None, 14, 30, 64)       0         \n",
            " 2D)                                                             \n",
            "                                                                 \n",
            " dropout_1 (Dropout)         (None, 14, 30, 64)        0         \n",
            "                                                                 \n",
            " conv2d_2 (Conv2D)           (None, 12, 28, 64)        36928     \n",
            "                                                                 \n",
            " max_pooling2d_2 (MaxPooling  (None, 6, 14, 64)        0         \n",
            " 2D)                                                             \n",
            "                                                                 \n",
            " dropout_2 (Dropout)         (None, 6, 14, 64)         0         \n",
            "                                                                 \n",
            " flatten (Flatten)           (None, 5376)              0         \n",
            "                                                                 \n",
            " dense (Dense)               (None, 64)                344128    \n",
            "                                                                 \n",
            " dense_1 (Dense)             (None, 1)                 65        \n",
            "                                                                 \n",
            "=================================================================\n",
            "Total params: 399,937\n",
            "Trainable params: 399,937\n",
            "Non-trainable params: 0\n",
            "_________________________________________________________________\n"
          ]
        }
      ],
      "source": [
        "model.summary()"
      ]
    },
    {
      "cell_type": "code",
      "execution_count": null,
      "id": "9beb77e5",
      "metadata": {
        "id": "9beb77e5",
        "outputId": "2089b3be-1b9e-4527-e361-87074429b80d",
        "colab": {
          "base_uri": "https://localhost:8080/"
        }
      },
      "outputs": [
        {
          "output_type": "stream",
          "name": "stdout",
          "text": [
            "Epoch 1/100\n",
            "80/80 [==============================] - 40s 449ms/step - loss: 2.0003 - accuracy: 0.5830 - mse: 0.2433 - val_loss: 0.2367 - val_accuracy: 0.5079 - val_mse: 0.2215\n",
            "Epoch 2/100\n",
            "80/80 [==============================] - 36s 444ms/step - loss: 0.1946 - accuracy: 0.7139 - mse: 0.1812 - val_loss: 0.1899 - val_accuracy: 0.7156 - val_mse: 0.1769\n",
            "Epoch 3/100\n",
            "80/80 [==============================] - 36s 445ms/step - loss: 0.1702 - accuracy: 0.7724 - mse: 0.1534 - val_loss: 0.1534 - val_accuracy: 0.8095 - val_mse: 0.1353\n",
            "Epoch 4/100\n",
            "80/80 [==============================] - 36s 445ms/step - loss: 0.1434 - accuracy: 0.8269 - mse: 0.1249 - val_loss: 0.1277 - val_accuracy: 0.8483 - val_mse: 0.1088\n",
            "Epoch 5/100\n",
            "80/80 [==============================] - 36s 448ms/step - loss: 0.1223 - accuracy: 0.8683 - mse: 0.1010 - val_loss: 0.1077 - val_accuracy: 0.9070 - val_mse: 0.0853\n",
            "Epoch 6/100\n",
            "80/80 [==============================] - 36s 446ms/step - loss: 0.1057 - accuracy: 0.9045 - mse: 0.0824 - val_loss: 0.0776 - val_accuracy: 0.9458 - val_mse: 0.0554\n",
            "Epoch 7/100\n",
            "80/80 [==============================] - 34s 425ms/step - loss: 0.0948 - accuracy: 0.9199 - mse: 0.0710 - val_loss: 0.0777 - val_accuracy: 0.9502 - val_mse: 0.0552\n",
            "Epoch 8/100\n",
            "80/80 [==============================] - 34s 426ms/step - loss: 0.0754 - accuracy: 0.9476 - mse: 0.0539 - val_loss: 0.1009 - val_accuracy: 0.9189 - val_mse: 0.0805\n",
            "Epoch 9/100\n",
            "80/80 [==============================] - 36s 446ms/step - loss: 0.0724 - accuracy: 0.9497 - mse: 0.0523 - val_loss: 0.0613 - val_accuracy: 0.9696 - val_mse: 0.0415\n",
            "Epoch 10/100\n",
            "80/80 [==============================] - 36s 447ms/step - loss: 0.0647 - accuracy: 0.9581 - mse: 0.0455 - val_loss: 0.0512 - val_accuracy: 0.9824 - val_mse: 0.0322\n",
            "Epoch 11/100\n",
            "80/80 [==============================] - 34s 424ms/step - loss: 0.0596 - accuracy: 0.9596 - mse: 0.0416 - val_loss: 0.0587 - val_accuracy: 0.9793 - val_mse: 0.0411\n",
            "Epoch 12/100\n",
            "80/80 [==============================] - 34s 424ms/step - loss: 0.0566 - accuracy: 0.9654 - mse: 0.0391 - val_loss: 0.0515 - val_accuracy: 0.9656 - val_mse: 0.0343\n",
            "Epoch 13/100\n",
            "80/80 [==============================] - 36s 446ms/step - loss: 0.0507 - accuracy: 0.9697 - mse: 0.0344 - val_loss: 0.0364 - val_accuracy: 0.9850 - val_mse: 0.0212\n",
            "Epoch 14/100\n",
            "80/80 [==============================] - 34s 424ms/step - loss: 0.0500 - accuracy: 0.9696 - mse: 0.0341 - val_loss: 0.0378 - val_accuracy: 0.9859 - val_mse: 0.0229\n",
            "Epoch 15/100\n",
            "80/80 [==============================] - 34s 425ms/step - loss: 0.0478 - accuracy: 0.9699 - mse: 0.0326 - val_loss: 0.0415 - val_accuracy: 0.9762 - val_mse: 0.0263\n",
            "Epoch 16/100\n",
            "80/80 [==============================] - 34s 424ms/step - loss: 0.0448 - accuracy: 0.9730 - mse: 0.0302 - val_loss: 0.0407 - val_accuracy: 0.9863 - val_mse: 0.0264\n",
            "Epoch 17/100\n",
            "80/80 [==============================] - 36s 446ms/step - loss: 0.0426 - accuracy: 0.9747 - mse: 0.0282 - val_loss: 0.0333 - val_accuracy: 0.9885 - val_mse: 0.0179\n",
            "Epoch 18/100\n",
            "80/80 [==============================] - 34s 424ms/step - loss: 0.0405 - accuracy: 0.9756 - mse: 0.0268 - val_loss: 0.0349 - val_accuracy: 0.9885 - val_mse: 0.0199\n",
            "Epoch 19/100\n",
            "80/80 [==============================] - 36s 444ms/step - loss: 0.0368 - accuracy: 0.9796 - mse: 0.0235 - val_loss: 0.0286 - val_accuracy: 0.9899 - val_mse: 0.0157\n",
            "Epoch 20/100\n",
            "80/80 [==============================] - 34s 424ms/step - loss: 0.0360 - accuracy: 0.9789 - mse: 0.0237 - val_loss: 0.0362 - val_accuracy: 0.9894 - val_mse: 0.0242\n",
            "Epoch 21/100\n",
            "80/80 [==============================] - 34s 424ms/step - loss: 0.0385 - accuracy: 0.9770 - mse: 0.0251 - val_loss: 0.0360 - val_accuracy: 0.9877 - val_mse: 0.0227\n",
            "Epoch 22/100\n",
            "80/80 [==============================] - 37s 458ms/step - loss: 0.0366 - accuracy: 0.9787 - mse: 0.0234 - val_loss: 0.0244 - val_accuracy: 0.9912 - val_mse: 0.0137\n",
            "Epoch 23/100\n",
            "80/80 [==============================] - 34s 426ms/step - loss: 0.0319 - accuracy: 0.9809 - mse: 0.0207 - val_loss: 0.0249 - val_accuracy: 0.9925 - val_mse: 0.0134\n",
            "Epoch 24/100\n",
            "80/80 [==============================] - 34s 425ms/step - loss: 0.0334 - accuracy: 0.9813 - mse: 0.0216 - val_loss: 0.0253 - val_accuracy: 0.9907 - val_mse: 0.0136\n",
            "Epoch 25/100\n",
            "80/80 [==============================] - 36s 448ms/step - loss: 0.0304 - accuracy: 0.9825 - mse: 0.0191 - val_loss: 0.0223 - val_accuracy: 0.9912 - val_mse: 0.0115\n",
            "Epoch 26/100\n",
            "80/80 [==============================] - 34s 426ms/step - loss: 0.0336 - accuracy: 0.9808 - mse: 0.0209 - val_loss: 0.0261 - val_accuracy: 0.9921 - val_mse: 0.0131\n",
            "Epoch 27/100\n",
            "80/80 [==============================] - 34s 424ms/step - loss: 0.0447 - accuracy: 0.9729 - mse: 0.0294 - val_loss: 0.0758 - val_accuracy: 0.9656 - val_mse: 0.0427\n",
            "Epoch 28/100\n",
            "80/80 [==============================] - 34s 424ms/step - loss: 0.0442 - accuracy: 0.9738 - mse: 0.0255 - val_loss: 0.0226 - val_accuracy: 0.9912 - val_mse: 0.0112\n",
            "Epoch 29/100\n",
            "80/80 [==============================] - 34s 426ms/step - loss: 0.0287 - accuracy: 0.9842 - mse: 0.0181 - val_loss: 0.0226 - val_accuracy: 0.9885 - val_mse: 0.0119\n",
            "Epoch 30/100\n",
            "80/80 [==============================] - 34s 425ms/step - loss: 0.0273 - accuracy: 0.9852 - mse: 0.0170 - val_loss: 0.0251 - val_accuracy: 0.9859 - val_mse: 0.0135\n",
            "Epoch 30: early stopping\n"
          ]
        }
      ],
      "source": [
        "model.compile(optimizer='adam',\n",
        "              loss='mse',\n",
        "              metrics=['accuracy','mse'])\n",
        "\n",
        "#Funcka umożliwia zatrzymanie się uczenia \n",
        "#gdy wartość strat przstanie maleć\n",
        "EarlyStop = EarlyStopping(monitor='val_loss',  \n",
        "                          verbose=1, \n",
        "                          patience=5)\n",
        "\n",
        "\n",
        "ModelCheck = ModelCheckpoint(filepath='/content/drive/MyDrive/Sieci/Zlaczone.h5',\n",
        "                             monitor='val_loss',\n",
        "                             save_best_only=True)\n",
        "\n",
        "\n",
        "history = model.fit(x=x_train, \n",
        "                    y=y_train, \n",
        "                    epochs=100,\n",
        "                    batch_size=256,\n",
        "                    validation_split=0.1,\n",
        "                    callbacks = [EarlyStop, ModelCheck]\n",
        "                   )"
      ]
    },
    {
      "cell_type": "code",
      "execution_count": null,
      "id": "fe8633db",
      "metadata": {
        "id": "fe8633db",
        "colab": {
          "base_uri": "https://localhost:8080/",
          "height": 300
        },
        "outputId": "36337e91-2554-4c8e-f414-59429fe3b448"
      },
      "outputs": [
        {
          "output_type": "execute_result",
          "data": {
            "text/plain": [
              "<matplotlib.legend.Legend at 0x7fd61c45b190>"
            ]
          },
          "metadata": {},
          "execution_count": 17
        },
        {
          "output_type": "display_data",
          "data": {
            "text/plain": [
              "<Figure size 432x288 with 1 Axes>"
            ],
            "image/png": "[encoded data removed]"
          },
          "metadata": {
            "needs_background": "light"
          }
        }
      ],
      "source": [
        "plt.plot(history.history['loss'], label='strata')\n",
        "plt.plot(history.history['val_loss'], label = 'strata walidacyjna')\n",
        "plt.xlabel('Epoka')\n",
        "plt.ylabel('Strata')\n",
        "plt.ylim([0.0, 0.5])\n",
        "plt.legend(loc='upper right')"
      ]
    },
    {
      "cell_type": "code",
      "execution_count": null,
      "id": "8b976089",
      "metadata": {
        "scrolled": true,
        "id": "8b976089",
        "colab": {
          "base_uri": "https://localhost:8080/",
          "height": 300
        },
        "outputId": "a9521ff7-bae0-4c44-9666-413ea157c36e"
      },
      "outputs": [
        {
          "output_type": "execute_result",
          "data": {
            "text/plain": [
              "<matplotlib.legend.Legend at 0x7fd61c3f6a60>"
            ]
          },
          "metadata": {},
          "execution_count": 18
        },
        {
          "output_type": "display_data",
          "data": {
            "text/plain": [
              "<Figure size 432x288 with 1 Axes>"
            ],
            "image/png": "[encoded data removed]"
          },
          "metadata": {
            "needs_background": "light"
          }
        }
      ],
      "source": [
        "plt.plot(history.history['accuracy'], label='precyzja')\n",
        "plt.plot(history.history['val_accuracy'], label = 'precyzja walidacyjna')\n",
        "plt.xlabel('Epoka')\n",
        "plt.ylabel('Precyzja')\n",
        "plt.ylim([0.5, 1])\n",
        "plt.legend(loc='lower right')"
      ]
    },
    {
      "cell_type": "code",
      "source": [
        "best_model = tf.keras.models.load_model('/content/drive/MyDrive/Sieci/Zlaczone.h5')\n"
      ],
      "metadata": {
        "id": "HWqm9BVzLHfw"
      },
      "id": "HWqm9BVzLHfw",
      "execution_count": null,
      "outputs": []
    },
    {
      "cell_type": "code",
      "execution_count": null,
      "id": "685a286c",
      "metadata": {
        "id": "685a286c",
        "colab": {
          "base_uri": "https://localhost:8080/"
        },
        "outputId": "ba7e693d-a8ff-4e8c-8d64-79f6b7d6f16e"
      },
      "outputs": [
        {
          "output_type": "stream",
          "name": "stdout",
          "text": [
            "79/79 - 2s - loss: 0.0212 - accuracy: 0.9937 - mse: 0.0105 - 2s/epoch - 25ms/step\n"
          ]
        },
        {
          "output_type": "execute_result",
          "data": {
            "text/plain": [
              "[0.0211956880952961, 0.9936507936507937, 0.01046930199792959]"
            ]
          },
          "metadata": {},
          "execution_count": 20
        }
      ],
      "source": [
        "best_model.evaluate(x_test,  y_test, verbose=2)"
      ]
    },
    {
      "cell_type": "code",
      "execution_count": null,
      "id": "ee941c13",
      "metadata": {
        "id": "ee941c13",
        "colab": {
          "base_uri": "https://localhost:8080/"
        },
        "outputId": "cab944d3-830e-46f5-f0b2-7893f4279fba"
      },
      "outputs": [
        {
          "output_type": "stream",
          "name": "stdout",
          "text": [
            "79/79 [==============================] - 2s 19ms/step\n"
          ]
        }
      ],
      "source": [
        "predict_x = best_model.predict(x_test) \n",
        "\n",
        "predictions = (predict_x > 0.5).astype(\"int32\")"
      ]
    },
    {
      "cell_type": "code",
      "execution_count": null,
      "id": "d8fb12f1",
      "metadata": {
        "id": "d8fb12f1",
        "colab": {
          "base_uri": "https://localhost:8080/"
        },
        "outputId": "9b52cbd5-49a7-4d01-b06c-4ae11eb6b8fc"
      },
      "outputs": [
        {
          "output_type": "stream",
          "name": "stdout",
          "text": [
            "[['Tn' 'Nn']\n",
            " ['Np' 'Tp']]\n",
            "tf.Tensor(\n",
            "[[1257   16]\n",
            " [   0 1247]], shape=(2, 2), dtype=int32)\n"
          ]
        }
      ],
      "source": [
        "names = [['Tn','Nn'],['Np', 'Tp']]\n",
        "names = np.reshape(names,(2,2))\n",
        "print(names)\n",
        "\n",
        "conf = tf.math.confusion_matrix(y_test,predictions)\n",
        "\n",
        "print(conf)"
      ]
    }
  ],
  "metadata": {
    "kernelspec": {
      "display_name": "py39",
      "language": "python",
      "name": "py39"
    },
    "language_info": {
      "codemirror_mode": {
        "name": "ipython",
        "version": 3
      },
      "file_extension": ".py",
      "mimetype": "text/x-python",
      "name": "python",
      "nbconvert_exporter": "python",
      "pygments_lexer": "ipython3",
      "version": "3.9.12"
    },
    "colab": {
      "provenance": [],
      "include_colab_link": true
    },
    "accelerator": "GPU",
    "gpuClass": "standard"
  },
  "nbformat": 4,
  "nbformat_minor": 5
}