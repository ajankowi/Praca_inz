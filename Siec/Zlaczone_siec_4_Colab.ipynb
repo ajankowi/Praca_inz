{
  "cells": [
    {
      "cell_type": "markdown",
      "metadata": {
        "id": "view-in-github",
        "colab_type": "text"
      },
      "source": [
        "<a href=\"https://colab.research.google.com/github/ajankowi/Praca_inz/blob/master/Siec/Zlaczone_siec_4_Colab.ipynb\" target=\"_parent\"><img src=\"https://colab.research.google.com/assets/colab-badge.svg\" alt=\"Open In Colab\"/></a>"
      ]
    },
    {
      "cell_type": "code",
      "execution_count": 1,
      "id": "613f08b5",
      "metadata": {
        "id": "613f08b5",
        "outputId": "5fc9acbe-56ce-4e62-e693-053008d8f940",
        "colab": {
          "base_uri": "https://localhost:8080/"
        }
      },
      "outputs": [
        {
          "output_type": "stream",
          "name": "stdout",
          "text": [
            "3.8.16 (default, Dec  7 2022, 01:12:13) \n",
            "[GCC 7.5.0]\n"
          ]
        }
      ],
      "source": [
        "import sys\n",
        "print(sys.version)"
      ]
    },
    {
      "cell_type": "code",
      "source": [
        "#from google.colab import drive\n",
        "#drive.mount(\"/content/drive\", force_remount=True)"
      ],
      "metadata": {
        "id": "iY1o7_NmVlGs",
        "outputId": "5af2d6f1-cf6e-42f0-9ef7-5cb68cb01795",
        "colab": {
          "base_uri": "https://localhost:8080/"
        }
      },
      "id": "iY1o7_NmVlGs",
      "execution_count": 7,
      "outputs": [
        {
          "output_type": "stream",
          "name": "stdout",
          "text": [
            "Mounted at /content/drive\n"
          ]
        }
      ]
    },
    {
      "cell_type": "code",
      "execution_count": 3,
      "id": "5eca1117",
      "metadata": {
        "id": "5eca1117",
        "outputId": "7cd8a328-36cf-4f1f-95ba-ed1cecb9c714",
        "colab": {
          "base_uri": "https://localhost:8080/"
        }
      },
      "outputs": [
        {
          "output_type": "stream",
          "name": "stdout",
          "text": [
            "TensorFlow version: 2.9.2\n"
          ]
        }
      ],
      "source": [
        "import tensorflow as tf\n",
        "from tensorflow import keras\n",
        "from keras import layers, models, regularizers\n",
        "from keras.layers import Flatten, add, Dense, Dropout \n",
        "from keras.callbacks import ModelCheckpoint, EarlyStopping\n",
        "\n",
        "\n",
        "print(\"TensorFlow version:\", tf.__version__)\n",
        "tf.keras.backend.set_floatx('float64')"
      ]
    },
    {
      "cell_type": "code",
      "execution_count": 4,
      "id": "12022d37",
      "metadata": {
        "id": "12022d37"
      },
      "outputs": [],
      "source": [
        "import matplotlib.pyplot as plt\n",
        "import numpy as np\n",
        "import pandas as pd\n",
        "import seaborn as sns\n",
        "from PIL import Image\n",
        "import os\n",
        "import csv\n",
        "import random\n",
        "\n",
        "import cv2\n",
        "import imutils\n",
        "import glob\n",
        "# Make NumPy printouts easier to read.\n",
        "np.set_printoptions(precision=3, suppress=True)"
      ]
    },
    {
      "cell_type": "code",
      "execution_count": 5,
      "id": "1086f893",
      "metadata": {
        "id": "1086f893"
      },
      "outputs": [],
      "source": [
        "#Określenie ścieżek do plików\n",
        "zip = '/content/drive/MyDrive/Sieci/Baza_zdjec_zlaczone_2/Baza_zdjec_zlaczone_2.zip'\n",
        "nazwa_CSV = 'nowe.csv'\n",
        "folder = '/content/drive/MyDrive/Sieci/Baza_zdjec_zlaczone_2/'\n",
        "folder_aktorzy = '/content/drive/MyDrive/Sieci/Baza_aktorzy_zlaczone/'\n",
        "aktorzy_CSV = 'aktorzy.csv'\n",
        "slesh = '/'\n",
        "png = '.png'"
      ]
    },
    {
      "cell_type": "code",
      "source": [
        "#!unzip '/content/drive/MyDrive/Sieci/Baza_zdjec_zlaczone_2/Baza_zdjec_zlaczone_2.zip' -d '/content/zdjecia/'\n",
        "#!unzip '/content/drive/MyDrive/Sieci/Baza_aktorzy_zlaczone/Baza_aktorzy_zlaczone.zip' -d '/content/aktorzy/'"
      ],
      "metadata": {
        "id": "FXtX4UDo9x77"
      },
      "id": "FXtX4UDo9x77",
      "execution_count": null,
      "outputs": []
    },
    {
      "cell_type": "code",
      "execution_count": 9,
      "id": "d0329f31",
      "metadata": {
        "id": "d0329f31"
      },
      "outputs": [],
      "source": [
        "def release_list(a):\n",
        "    \n",
        "    del a[:]\n",
        "    del a"
      ]
    },
    {
      "cell_type": "code",
      "execution_count": 10,
      "id": "5beb89e7",
      "metadata": {
        "id": "5beb89e7",
        "outputId": "6f1907ed-f292-432c-bcd7-3749e1ae54be",
        "colab": {
          "base_uri": "https://localhost:8080/"
        }
      },
      "outputs": [
        {
          "output_type": "stream",
          "name": "stdout",
          "text": [
            "25200\n"
          ]
        }
      ],
      "source": [
        "#Wczytanie pliku CSV do tablicy images\n",
        "\n",
        "with open(folder+nazwa_CSV,\"r\") as csvfile:\n",
        "    lines = csvfile.readlines()\n",
        "csvfile.close()\n",
        "\n",
        "new = []\n",
        "\n",
        "for i in lines:\n",
        "    new.append(i.split(\" \"))\n",
        "\n",
        "    \n",
        "value = []\n",
        "for i in new[0]:\n",
        "    value.append(int(i))    \n",
        "    \n",
        "print(len(value))"
      ]
    },
    {
      "cell_type": "code",
      "execution_count": 11,
      "id": "d9cb09d8",
      "metadata": {
        "id": "d9cb09d8",
        "outputId": "eb2ed405-b8f9-42fb-ded2-214928476e7c",
        "colab": {
          "base_uri": "https://localhost:8080/"
        }
      },
      "outputs": [
        {
          "output_type": "stream",
          "name": "stdout",
          "text": [
            "25200\n"
          ]
        }
      ],
      "source": [
        "#Wczytanie zdjęć do tablicy images\n",
        "images = []\n",
        "size = len(value)\n",
        "\n",
        "for i in range(size):\n",
        "    im = Image.open('/content/zdjecia/'+str(i)+'.png')\n",
        "    arr_im = np.array(im) \n",
        "    arr_im = arr_im / 255.0\n",
        "    images.append(arr_im) \n",
        "print(len(images))"
      ]
    },
    {
      "cell_type": "code",
      "execution_count": 12,
      "id": "44a7c0bf",
      "metadata": {
        "id": "44a7c0bf"
      },
      "outputs": [],
      "source": [
        "#Inicjalizacja tablic\n",
        "rand_list = []\n",
        "rand_list = np.zeros((len(images)), dtype=np.uint8)\n",
        "\n",
        "x_test = []\n",
        "y_test = []\n",
        "\n",
        "x_train = []\n",
        "y_train = []\n",
        "\n",
        "\n",
        "#Okreslanie wielkosci zbiorów\n",
        "nighty = int(len(images)*90/100)\n",
        "ten = len(images) - nighty\n",
        "\n",
        "#Losowanie zbioru testowego\n",
        "for i in range(nighty):\n",
        "    \n",
        "    #Pierwsze losowanie wartości\n",
        "    rand = random.randint(0,len(images)-1)\n",
        "    \n",
        "    #Sprawdzenie czy wylosowana wartość się powtarza\n",
        "    while (rand_list[rand] == 1) :\n",
        "        #Jeżeli tak to ponownie losuje\n",
        "        rand = random.randint(0,len(images)-1)\n",
        "    \n",
        "    #Zapisanie zdjecia i wartości do nowej tablicy\n",
        "    x_train.append(images[rand])\n",
        "    y_train.append(value[rand])\n",
        "    rand_list[rand] = 1\n",
        "\n",
        "#Losowanie zbioru uczącego\n",
        "for j in range(ten):\n",
        "    \n",
        "    #Pierwsze losowanie wartości\n",
        "    rand = random.randint(0,len(images)-1)\n",
        "    \n",
        "    #Sprawdzenie czy wylosowana wartość się powtarza\n",
        "    while (rand_list[rand] == 1) :\n",
        "        #Jeżeli tak to ponownie losuje\n",
        "        rand = random.randint(0,len(images)-1)\n",
        "        \n",
        "    #Zapisanie zdjecia i wartości do nowej tablicy\n",
        "    x_test.append(images[rand])\n",
        "    y_test.append(value[rand])\n",
        "    rand_list[rand] = 1\n",
        "    \n",
        "    \n",
        "release_list(images)\n",
        "release_list(value)"
      ]
    },
    {
      "cell_type": "code",
      "execution_count": 13,
      "id": "8fccbbcc",
      "metadata": {
        "id": "8fccbbcc",
        "outputId": "ccaebad0-8f9c-4a82-827c-ce36b48a23cf",
        "colab": {
          "base_uri": "https://localhost:8080/"
        }
      },
      "outputs": [
        {
          "output_type": "stream",
          "name": "stdout",
          "text": [
            "10.11%\n",
            "89.89%\n"
          ]
        }
      ],
      "source": [
        "#Sprawdzenie poprawności losowania\n",
        "val_1 = 100 * sum(y_test) / (size / 2)\n",
        "print(\"%.2f\" % val_1 + '%') \n",
        "\n",
        "\n",
        "val_2 = 100 * sum(y_train) / (size / 2)\n",
        "print(\"%.2f\" % val_2 + '%') \n",
        "\n",
        "\n"
      ]
    },
    {
      "cell_type": "code",
      "execution_count": 14,
      "id": "f7f4dd4b",
      "metadata": {
        "id": "f7f4dd4b"
      },
      "outputs": [],
      "source": [
        "x_train = np.array(x_train)\n",
        "x_test = np.array(x_test)\n",
        "\n",
        "y_train = np.array(y_train)\n",
        "y_test = np.array(y_test)"
      ]
    },
    {
      "cell_type": "code",
      "execution_count": 15,
      "id": "d3a370cb",
      "metadata": {
        "id": "d3a370cb",
        "outputId": "8694312a-af32-4711-f790-11bfc4a5f1b4",
        "colab": {
          "base_uri": "https://localhost:8080/",
          "height": 357
        }
      },
      "outputs": [
        {
          "output_type": "stream",
          "name": "stdout",
          "text": [
            "[[0.    0.    0.    ... 0.376 0.    0.   ]\n",
            " [0.    0.    0.    ... 0.408 0.    0.   ]\n",
            " [0.361 0.392 0.412 ... 0.439 0.    0.   ]\n",
            " ...\n",
            " [0.    0.024 0.361 ... 0.204 0.196 0.176]\n",
            " [0.    0.    0.349 ... 0.012 0.    0.   ]\n",
            " [0.    0.    0.325 ... 0.    0.    0.   ]]\n",
            "1\n"
          ]
        },
        {
          "output_type": "display_data",
          "data": {
            "text/plain": [
              "<Figure size 432x288 with 1 Axes>"
            ],
            "image/png": "[encoded data removed]"
          },
          "metadata": {
            "needs_background": "light"
          }
        }
      ],
      "source": [
        "plt.imshow(x_train[0],cmap = 'gray')\n",
        "print(x_train[0])\n",
        "print(y_train[0])"
      ]
    },
    {
      "cell_type": "code",
      "execution_count": 16,
      "id": "772c7d7c",
      "metadata": {
        "id": "772c7d7c"
      },
      "outputs": [],
      "source": [
        "model = models.Sequential()\n",
        "model.add(layers.Conv2D(32, (3, 3), activation='relu', input_shape=(64, 128, 1)))\n",
        "model.add(layers.MaxPooling2D((2, 2)))\n",
        "model.add(Dropout(0.1))\n",
        "\n",
        "model.add(layers.Conv2D(64, (3, 3), activation='relu'))\n",
        "model.add(layers.MaxPooling2D((2, 2)))\n",
        "model.add(Dropout(0.1))\n",
        "\n",
        "model.add(layers.Conv2D(128, (3, 3), activation='relu'))\n",
        "model.add(layers.MaxPooling2D((2, 2)))\n",
        "model.add(Dropout(0.1))\n",
        "\n",
        "model.add(layers.Flatten())\n",
        "model.add(layers.Dense(128, activation='relu', kernel_regularizer=keras.regularizers.l2(l=0.1)))\n",
        "model.add(layers.Dense(1, activation='relu'))\n"
      ]
    },
    {
      "cell_type": "code",
      "execution_count": 17,
      "id": "b86f72df",
      "metadata": {
        "id": "b86f72df",
        "outputId": "eb682807-e59d-4223-acd6-d501c7b7e075",
        "colab": {
          "base_uri": "https://localhost:8080/"
        }
      },
      "outputs": [
        {
          "output_type": "stream",
          "name": "stdout",
          "text": [
            "Model: \"sequential\"\n",
            "_________________________________________________________________\n",
            " Layer (type)                Output Shape              Param #   \n",
            "=================================================================\n",
            " conv2d (Conv2D)             (None, 62, 126, 32)       320       \n",
            "                                                                 \n",
            " max_pooling2d (MaxPooling2D  (None, 31, 63, 32)       0         \n",
            " )                                                               \n",
            "                                                                 \n",
            " dropout (Dropout)           (None, 31, 63, 32)        0         \n",
            "                                                                 \n",
            " conv2d_1 (Conv2D)           (None, 29, 61, 64)        18496     \n",
            "                                                                 \n",
            " max_pooling2d_1 (MaxPooling  (None, 14, 30, 64)       0         \n",
            " 2D)                                                             \n",
            "                                                                 \n",
            " dropout_1 (Dropout)         (None, 14, 30, 64)        0         \n",
            "                                                                 \n",
            " conv2d_2 (Conv2D)           (None, 12, 28, 128)       73856     \n",
            "                                                                 \n",
            " max_pooling2d_2 (MaxPooling  (None, 6, 14, 128)       0         \n",
            " 2D)                                                             \n",
            "                                                                 \n",
            " dropout_2 (Dropout)         (None, 6, 14, 128)        0         \n",
            "                                                                 \n",
            " flatten (Flatten)           (None, 10752)             0         \n",
            "                                                                 \n",
            " dense (Dense)               (None, 128)               1376384   \n",
            "                                                                 \n",
            " dense_1 (Dense)             (None, 1)                 129       \n",
            "                                                                 \n",
            "=================================================================\n",
            "Total params: 1,469,185\n",
            "Trainable params: 1,469,185\n",
            "Non-trainable params: 0\n",
            "_________________________________________________________________\n"
          ]
        }
      ],
      "source": [
        "model.summary()"
      ]
    },
    {
      "cell_type": "code",
      "execution_count": 18,
      "id": "9beb77e5",
      "metadata": {
        "id": "9beb77e5",
        "outputId": "a8dc90fa-cf69-4234-88dd-7057800876ba",
        "colab": {
          "base_uri": "https://localhost:8080/"
        }
      },
      "outputs": [
        {
          "output_type": "stream",
          "name": "stdout",
          "text": [
            "Epoch 1/100\n",
            "80/80 [==============================] - 58s 572ms/step - loss: 2.9717 - accuracy: 0.5929 - mse: 0.2617 - val_loss: 0.2177 - val_accuracy: 0.6803 - val_mse: 0.1949\n",
            "Epoch 2/100\n",
            "80/80 [==============================] - 46s 569ms/step - loss: 0.2001 - accuracy: 0.7068 - mse: 0.1835 - val_loss: 0.1898 - val_accuracy: 0.7394 - val_mse: 0.1725\n",
            "Epoch 3/100\n",
            "80/80 [==============================] - 44s 551ms/step - loss: 0.1723 - accuracy: 0.7764 - mse: 0.1504 - val_loss: 0.1493 - val_accuracy: 0.8051 - val_mse: 0.1269\n",
            "Epoch 4/100\n",
            "80/80 [==============================] - 44s 553ms/step - loss: 0.1554 - accuracy: 0.8198 - mse: 0.1264 - val_loss: 0.1426 - val_accuracy: 0.8051 - val_mse: 0.1212\n",
            "Epoch 5/100\n",
            "80/80 [==============================] - 44s 552ms/step - loss: 0.1251 - accuracy: 0.8645 - mse: 0.1018 - val_loss: 0.1052 - val_accuracy: 0.9017 - val_mse: 0.0815\n",
            "Epoch 6/100\n",
            "80/80 [==============================] - 44s 551ms/step - loss: 0.1128 - accuracy: 0.8917 - mse: 0.0880 - val_loss: 0.0958 - val_accuracy: 0.9215 - val_mse: 0.0685\n",
            "Epoch 7/100\n",
            "80/80 [==============================] - 42s 523ms/step - loss: 0.1111 - accuracy: 0.8973 - mse: 0.0829 - val_loss: 0.1253 - val_accuracy: 0.8624 - val_mse: 0.0891\n",
            "Epoch 8/100\n",
            "80/80 [==============================] - 44s 549ms/step - loss: 0.0900 - accuracy: 0.9247 - mse: 0.0669 - val_loss: 0.0724 - val_accuracy: 0.9480 - val_mse: 0.0508\n",
            "Epoch 9/100\n",
            "80/80 [==============================] - 45s 555ms/step - loss: 0.0771 - accuracy: 0.9418 - mse: 0.0561 - val_loss: 0.0638 - val_accuracy: 0.9528 - val_mse: 0.0443\n",
            "Epoch 10/100\n",
            "80/80 [==============================] - 42s 523ms/step - loss: 0.0726 - accuracy: 0.9467 - mse: 0.0525 - val_loss: 0.0845 - val_accuracy: 0.9383 - val_mse: 0.0633\n",
            "Epoch 11/100\n",
            "80/80 [==============================] - 42s 523ms/step - loss: 0.0732 - accuracy: 0.9434 - mse: 0.0524 - val_loss: 0.0674 - val_accuracy: 0.9568 - val_mse: 0.0443\n",
            "Epoch 12/100\n",
            "80/80 [==============================] - 44s 552ms/step - loss: 0.0656 - accuracy: 0.9531 - mse: 0.0459 - val_loss: 0.0570 - val_accuracy: 0.9660 - val_mse: 0.0390\n",
            "Epoch 13/100\n",
            "80/80 [==============================] - 44s 553ms/step - loss: 0.0600 - accuracy: 0.9587 - mse: 0.0417 - val_loss: 0.0506 - val_accuracy: 0.9674 - val_mse: 0.0324\n",
            "Epoch 14/100\n",
            "80/80 [==============================] - 42s 523ms/step - loss: 0.0619 - accuracy: 0.9590 - mse: 0.0409 - val_loss: 0.0528 - val_accuracy: 0.9599 - val_mse: 0.0358\n",
            "Epoch 15/100\n",
            "80/80 [==============================] - 44s 549ms/step - loss: 0.0574 - accuracy: 0.9611 - mse: 0.0397 - val_loss: 0.0479 - val_accuracy: 0.9665 - val_mse: 0.0308\n",
            "Epoch 16/100\n",
            "80/80 [==============================] - 42s 523ms/step - loss: 0.0603 - accuracy: 0.9603 - mse: 0.0394 - val_loss: 0.0569 - val_accuracy: 0.9674 - val_mse: 0.0395\n",
            "Epoch 17/100\n",
            "80/80 [==============================] - 44s 548ms/step - loss: 0.0538 - accuracy: 0.9638 - mse: 0.0365 - val_loss: 0.0473 - val_accuracy: 0.9683 - val_mse: 0.0303\n",
            "Epoch 18/100\n",
            "80/80 [==============================] - 42s 523ms/step - loss: 0.0510 - accuracy: 0.9665 - mse: 0.0345 - val_loss: 0.0483 - val_accuracy: 0.9625 - val_mse: 0.0314\n",
            "Epoch 19/100\n",
            "80/80 [==============================] - 45s 561ms/step - loss: 0.0451 - accuracy: 0.9708 - mse: 0.0298 - val_loss: 0.0432 - val_accuracy: 0.9660 - val_mse: 0.0289\n",
            "Epoch 20/100\n",
            "80/80 [==============================] - 42s 523ms/step - loss: 0.0459 - accuracy: 0.9717 - mse: 0.0305 - val_loss: 0.0434 - val_accuracy: 0.9691 - val_mse: 0.0280\n",
            "Epoch 21/100\n",
            "80/80 [==============================] - 42s 523ms/step - loss: 0.0455 - accuracy: 0.9696 - mse: 0.0305 - val_loss: 0.0506 - val_accuracy: 0.9744 - val_mse: 0.0325\n",
            "Epoch 22/100\n",
            "80/80 [==============================] - 42s 523ms/step - loss: 0.0490 - accuracy: 0.9684 - mse: 0.0318 - val_loss: 0.0493 - val_accuracy: 0.9722 - val_mse: 0.0321\n",
            "Epoch 23/100\n",
            "80/80 [==============================] - 42s 523ms/step - loss: 0.0401 - accuracy: 0.9769 - mse: 0.0252 - val_loss: 0.0451 - val_accuracy: 0.9599 - val_mse: 0.0323\n",
            "Epoch 24/100\n",
            "80/80 [==============================] - 44s 548ms/step - loss: 0.0407 - accuracy: 0.9749 - mse: 0.0262 - val_loss: 0.0378 - val_accuracy: 0.9691 - val_mse: 0.0235\n",
            "Epoch 25/100\n",
            "80/80 [==============================] - 42s 523ms/step - loss: 0.0426 - accuracy: 0.9765 - mse: 0.0264 - val_loss: 0.0422 - val_accuracy: 0.9757 - val_mse: 0.0272\n",
            "Epoch 26/100\n",
            "80/80 [==============================] - 42s 522ms/step - loss: 0.0408 - accuracy: 0.9760 - mse: 0.0260 - val_loss: 0.0387 - val_accuracy: 0.9819 - val_mse: 0.0230\n",
            "Epoch 27/100\n",
            "80/80 [==============================] - 45s 563ms/step - loss: 0.0374 - accuracy: 0.9786 - mse: 0.0232 - val_loss: 0.0373 - val_accuracy: 0.9753 - val_mse: 0.0225\n",
            "Epoch 28/100\n",
            "80/80 [==============================] - 44s 553ms/step - loss: 0.0366 - accuracy: 0.9797 - mse: 0.0222 - val_loss: 0.0303 - val_accuracy: 0.9784 - val_mse: 0.0175\n",
            "Epoch 29/100\n",
            "80/80 [==============================] - 45s 563ms/step - loss: 0.0320 - accuracy: 0.9839 - mse: 0.0195 - val_loss: 0.0298 - val_accuracy: 0.9837 - val_mse: 0.0167\n",
            "Epoch 30/100\n",
            "80/80 [==============================] - 42s 523ms/step - loss: 0.0350 - accuracy: 0.9820 - mse: 0.0212 - val_loss: 0.0306 - val_accuracy: 0.9841 - val_mse: 0.0165\n",
            "Epoch 31/100\n",
            "80/80 [==============================] - 42s 522ms/step - loss: 0.0336 - accuracy: 0.9826 - mse: 0.0204 - val_loss: 0.0311 - val_accuracy: 0.9832 - val_mse: 0.0173\n",
            "Epoch 32/100\n",
            "80/80 [==============================] - 42s 522ms/step - loss: 0.0327 - accuracy: 0.9831 - mse: 0.0193 - val_loss: 0.0350 - val_accuracy: 0.9749 - val_mse: 0.0215\n",
            "Epoch 33/100\n",
            "80/80 [==============================] - 42s 524ms/step - loss: 0.0351 - accuracy: 0.9811 - mse: 0.0212 - val_loss: 0.0308 - val_accuracy: 0.9828 - val_mse: 0.0153\n",
            "Epoch 34/100\n",
            "80/80 [==============================] - 45s 561ms/step - loss: 0.0310 - accuracy: 0.9855 - mse: 0.0176 - val_loss: 0.0291 - val_accuracy: 0.9907 - val_mse: 0.0170\n",
            "Epoch 35/100\n",
            "80/80 [==============================] - 44s 549ms/step - loss: 0.0291 - accuracy: 0.9856 - mse: 0.0171 - val_loss: 0.0251 - val_accuracy: 0.9903 - val_mse: 0.0130\n",
            "Epoch 36/100\n",
            "80/80 [==============================] - 45s 564ms/step - loss: 0.0290 - accuracy: 0.9852 - mse: 0.0166 - val_loss: 0.0234 - val_accuracy: 0.9881 - val_mse: 0.0116\n",
            "Epoch 37/100\n",
            "80/80 [==============================] - 45s 562ms/step - loss: 0.0280 - accuracy: 0.9854 - mse: 0.0165 - val_loss: 0.0226 - val_accuracy: 0.9947 - val_mse: 0.0113\n",
            "Epoch 38/100\n",
            "80/80 [==============================] - 43s 535ms/step - loss: 0.0272 - accuracy: 0.9857 - mse: 0.0160 - val_loss: 0.0269 - val_accuracy: 0.9854 - val_mse: 0.0151\n",
            "Epoch 39/100\n",
            "80/80 [==============================] - 42s 523ms/step - loss: 0.0311 - accuracy: 0.9846 - mse: 0.0182 - val_loss: 0.0271 - val_accuracy: 0.9832 - val_mse: 0.0137\n",
            "Epoch 40/100\n",
            "80/80 [==============================] - 42s 522ms/step - loss: 0.0263 - accuracy: 0.9886 - mse: 0.0147 - val_loss: 0.0248 - val_accuracy: 0.9894 - val_mse: 0.0126\n",
            "Epoch 41/100\n",
            "80/80 [==============================] - 44s 549ms/step - loss: 0.0262 - accuracy: 0.9872 - mse: 0.0149 - val_loss: 0.0222 - val_accuracy: 0.9921 - val_mse: 0.0110\n",
            "Epoch 42/100\n",
            "80/80 [==============================] - 42s 522ms/step - loss: 0.0261 - accuracy: 0.9870 - mse: 0.0150 - val_loss: 0.0249 - val_accuracy: 0.9868 - val_mse: 0.0139\n",
            "Epoch 43/100\n",
            "80/80 [==============================] - 44s 553ms/step - loss: 0.0257 - accuracy: 0.9886 - mse: 0.0146 - val_loss: 0.0181 - val_accuracy: 0.9943 - val_mse: 0.0080\n",
            "Epoch 44/100\n",
            "80/80 [==============================] - 42s 522ms/step - loss: 0.0228 - accuracy: 0.9886 - mse: 0.0128 - val_loss: 0.0240 - val_accuracy: 0.9951 - val_mse: 0.0130\n",
            "Epoch 45/100\n",
            "80/80 [==============================] - 42s 523ms/step - loss: 0.0231 - accuracy: 0.9897 - mse: 0.0127 - val_loss: 0.0205 - val_accuracy: 0.9894 - val_mse: 0.0099\n",
            "Epoch 46/100\n",
            "80/80 [==============================] - 42s 522ms/step - loss: 0.0256 - accuracy: 0.9872 - mse: 0.0146 - val_loss: 0.0215 - val_accuracy: 0.9934 - val_mse: 0.0100\n",
            "Epoch 47/100\n",
            "80/80 [==============================] - 42s 523ms/step - loss: 0.0237 - accuracy: 0.9896 - mse: 0.0132 - val_loss: 0.0228 - val_accuracy: 0.9877 - val_mse: 0.0111\n",
            "Epoch 48/100\n",
            "80/80 [==============================] - 42s 522ms/step - loss: 0.0225 - accuracy: 0.9905 - mse: 0.0119 - val_loss: 0.0181 - val_accuracy: 0.9921 - val_mse: 0.0084\n",
            "Epoch 48: early stopping\n"
          ]
        }
      ],
      "source": [
        "model.compile(optimizer='adam',\n",
        "              loss='mse',\n",
        "              metrics=['accuracy','mse'])\n",
        "\n",
        "#Funcka umożliwia zatrzymanie się uczenia \n",
        "#gdy wartość strat przstanie maleć\n",
        "EarlyStop = EarlyStopping(monitor='val_loss',  \n",
        "                          verbose=1, \n",
        "                          patience=5)\n",
        "\n",
        "\n",
        "ModelCheck = ModelCheckpoint(filepath='/content/drive/MyDrive/Sieci/Zlaczone.h5',\n",
        "                             monitor='val_loss',\n",
        "                             save_best_only=True)\n",
        "\n",
        "\n",
        "history = model.fit(x=x_train, \n",
        "                    y=y_train, \n",
        "                    epochs=100,\n",
        "                    batch_size=256,\n",
        "                    validation_split=0.1,\n",
        "                    callbacks = [EarlyStop, ModelCheck]\n",
        "                   )"
      ]
    },
    {
      "cell_type": "code",
      "execution_count": 19,
      "id": "fe8633db",
      "metadata": {
        "id": "fe8633db",
        "outputId": "ae97da3d-6b38-4b53-c262-22d3b403afeb",
        "colab": {
          "base_uri": "https://localhost:8080/",
          "height": 300
        }
      },
      "outputs": [
        {
          "output_type": "execute_result",
          "data": {
            "text/plain": [
              "<matplotlib.legend.Legend at 0x7fd07451d0a0>"
            ]
          },
          "metadata": {},
          "execution_count": 19
        },
        {
          "output_type": "display_data",
          "data": {
            "text/plain": [
              "<Figure size 432x288 with 1 Axes>"
            ],
            "image/png": "[encoded data removed]"
          },
          "metadata": {
            "needs_background": "light"
          }
        }
      ],
      "source": [
        "plt.plot(history.history['loss'], label='strata')\n",
        "plt.plot(history.history['val_loss'], label = 'strata walidacyjna')\n",
        "plt.xlabel('Epoka')\n",
        "plt.ylabel('Strata')\n",
        "plt.ylim([0.0, 0.5])\n",
        "plt.legend(loc='upper right')"
      ]
    },
    {
      "cell_type": "code",
      "execution_count": 20,
      "id": "8b976089",
      "metadata": {
        "scrolled": true,
        "id": "8b976089",
        "outputId": "4e6656c3-ff82-4b31-d362-0d15c6f52753",
        "colab": {
          "base_uri": "https://localhost:8080/",
          "height": 300
        }
      },
      "outputs": [
        {
          "output_type": "execute_result",
          "data": {
            "text/plain": [
              "<matplotlib.legend.Legend at 0x7fd0744e31c0>"
            ]
          },
          "metadata": {},
          "execution_count": 20
        },
        {
          "output_type": "display_data",
          "data": {
            "text/plain": [
              "<Figure size 432x288 with 1 Axes>"
            ],
            "image/png": "[encoded data removed]"
          },
          "metadata": {
            "needs_background": "light"
          }
        }
      ],
      "source": [
        "plt.plot(history.history['accuracy'], label='precyzja')\n",
        "plt.plot(history.history['val_accuracy'], label = 'precyzja walidacyjna')\n",
        "plt.xlabel('Epoka')\n",
        "plt.ylabel('Precyzja')\n",
        "plt.ylim([0.5, 1])\n",
        "plt.legend(loc='lower right')"
      ]
    },
    {
      "cell_type": "code",
      "source": [
        "best_model = tf.keras.models.load_model('/content/drive/MyDrive/Sieci/Zlaczone.h5')\n"
      ],
      "metadata": {
        "id": "HWqm9BVzLHfw"
      },
      "id": "HWqm9BVzLHfw",
      "execution_count": 21,
      "outputs": []
    },
    {
      "cell_type": "code",
      "execution_count": 22,
      "id": "685a286c",
      "metadata": {
        "id": "685a286c",
        "outputId": "68a6b457-84b1-4e3e-eeb0-4c4baed8e725",
        "colab": {
          "base_uri": "https://localhost:8080/"
        }
      },
      "outputs": [
        {
          "output_type": "stream",
          "name": "stdout",
          "text": [
            "79/79 - 2s - loss: 0.0182 - accuracy: 0.9933 - mse: 0.0081 - 2s/epoch - 31ms/step\n"
          ]
        },
        {
          "output_type": "execute_result",
          "data": {
            "text/plain": [
              "[0.018168738656380034, 0.9932539682539683, 0.008070989031114374]"
            ]
          },
          "metadata": {},
          "execution_count": 22
        }
      ],
      "source": [
        "best_model.evaluate(x_test,  y_test, verbose=2)"
      ]
    },
    {
      "cell_type": "code",
      "execution_count": 23,
      "id": "ee941c13",
      "metadata": {
        "id": "ee941c13",
        "outputId": "9796c5a9-d98a-466c-8c2e-d29960ccd13a",
        "colab": {
          "base_uri": "https://localhost:8080/"
        }
      },
      "outputs": [
        {
          "output_type": "stream",
          "name": "stdout",
          "text": [
            "79/79 [==============================] - 2s 22ms/step\n"
          ]
        }
      ],
      "source": [
        "predict_x = best_model.predict(x_test) \n",
        "\n",
        "predictions = (predict_x > 0.5).astype(\"int32\")"
      ]
    },
    {
      "cell_type": "code",
      "execution_count": 25,
      "id": "d8fb12f1",
      "metadata": {
        "id": "d8fb12f1",
        "outputId": "895fbe24-b7ef-4d39-ebb7-a3ab06bc5bc8",
        "colab": {
          "base_uri": "https://localhost:8080/"
        }
      },
      "outputs": [
        {
          "output_type": "stream",
          "name": "stdout",
          "text": [
            "[['Tn' 'Nn']\n",
            " ['Np' 'Tp']]\n",
            "tf.Tensor(\n",
            "[[1230   16]\n",
            " [   1 1273]], shape=(2, 2), dtype=int32)\n"
          ]
        }
      ],
      "source": [
        "names = [['Tn','Nn'],['Np', 'Tp']]\n",
        "names = np.reshape(names,(2,2))\n",
        "print(names)\n",
        "\n",
        "conf = tf.math.confusion_matrix(y_test,predictions)\n",
        "\n",
        "print(conf)"
      ]
    },
    {
      "cell_type": "code",
      "source": [
        "\n",
        "#################################\n",
        "#                               #\n",
        "#    Wczytanie zdjęć aktorów    #\n",
        "#                               #\n",
        "#################################"
      ],
      "metadata": {
        "id": "8bjxw97eKGtx"
      },
      "id": "8bjxw97eKGtx",
      "execution_count": 26,
      "outputs": []
    },
    {
      "cell_type": "code",
      "source": [
        "with open(folder_aktorzy+aktorzy_CSV,\"r\") as csvfile:\n",
        "    lines = csvfile.readlines()\n",
        "csvfile.close()\n",
        "\n",
        "\n",
        "tmp = []\n",
        "actors_label = []\n",
        "\n",
        "for i in lines:\n",
        "    tmp.append(i.split(\" \"))\n",
        "\n",
        "#Tablica przechowująca etykiety aktorów   \n",
        "act_label = []\n",
        "for i in tmp[0]:\n",
        "    actors_label.append(int(i))    \n",
        "    \n",
        "print(len(actors_label))"
      ],
      "metadata": {
        "id": "c8Fko2c4KG7r",
        "outputId": "191fd965-dd7e-42a1-b600-6a28df79ad1e",
        "colab": {
          "base_uri": "https://localhost:8080/"
        }
      },
      "id": "c8Fko2c4KG7r",
      "execution_count": 27,
      "outputs": [
        {
          "output_type": "stream",
          "name": "stdout",
          "text": [
            "2052\n"
          ]
        }
      ]
    },
    {
      "cell_type": "code",
      "execution_count": 32,
      "id": "62ceaefe",
      "metadata": {
        "id": "62ceaefe",
        "outputId": "34edc56a-88be-4733-dfd3-e377a8aeac4c",
        "colab": {
          "base_uri": "https://localhost:8080/"
        }
      },
      "outputs": [
        {
          "output_type": "stream",
          "name": "stdout",
          "text": [
            "2052\n"
          ]
        }
      ],
      "source": [
        "#Wczytanie zdjęć aktorów do tablicy\n",
        "\n",
        "actors_img = []\n",
        "size = len(actors_label)\n",
        "\n",
        "for i in range(size):\n",
        "    im = Image.open('/content/aktorzy/'+str(i)+'.png')\n",
        "    arr_im = np.array(im) \n",
        "    arr_im = arr_im / 255.0\n",
        "    actors_img.append(arr_im) \n",
        "print(len(actors_img))\n"
      ]
    },
    {
      "cell_type": "code",
      "execution_count": 33,
      "id": "d8cd5537",
      "metadata": {
        "id": "d8cd5537",
        "outputId": "c2a9276c-61f0-4450-bbc9-d825364c0f4c",
        "colab": {
          "base_uri": "https://localhost:8080/",
          "height": 340
        }
      },
      "outputs": [
        {
          "output_type": "stream",
          "name": "stdout",
          "text": [
            "[[0.984 0.984 0.984 ... 0.192 0.196 0.196]\n",
            " [0.984 0.984 0.98  ... 0.2   0.192 0.192]\n",
            " [0.984 0.98  0.976 ... 0.204 0.196 0.192]\n",
            " ...\n",
            " [0.98  0.98  0.98  ... 0.298 0.294 0.29 ]\n",
            " [0.98  0.98  0.98  ... 0.294 0.298 0.302]\n",
            " [0.98  0.98  0.98  ... 0.298 0.31  0.302]]\n"
          ]
        },
        {
          "output_type": "display_data",
          "data": {
            "text/plain": [
              "<Figure size 432x288 with 1 Axes>"
            ],
            "image/png": "[encoded data removed]"
          },
          "metadata": {
            "needs_background": "light"
          }
        }
      ],
      "source": [
        "actors_label = np.array(actors_label)\n",
        "actors_img= np.array(actors_img)\n",
        "plt.imshow(actors_img[0],cmap = 'gray')\n",
        "print(actors_img[0])"
      ]
    },
    {
      "cell_type": "code",
      "source": [
        "best_model.evaluate(actors_img, actors_label, verbose=2)"
      ],
      "metadata": {
        "id": "SV4EtOtbdfgb",
        "outputId": "f5a15ad5-b805-4ffa-91f9-608c5b4da3e8",
        "colab": {
          "base_uri": "https://localhost:8080/"
        }
      },
      "id": "SV4EtOtbdfgb",
      "execution_count": 34,
      "outputs": [
        {
          "output_type": "stream",
          "name": "stdout",
          "text": [
            "65/65 - 2s - loss: 0.3747 - accuracy: 0.5541 - mse: 0.3646 - 2s/epoch - 26ms/step\n"
          ]
        },
        {
          "output_type": "execute_result",
          "data": {
            "text/plain": [
              "[0.3747168888202856, 0.554093567251462, 0.3646191391950201]"
            ]
          },
          "metadata": {},
          "execution_count": 34
        }
      ]
    },
    {
      "cell_type": "code",
      "execution_count": 35,
      "id": "304612c1",
      "metadata": {
        "id": "304612c1",
        "outputId": "1f35bb93-6b6a-407f-9341-b47ce6891761",
        "colab": {
          "base_uri": "https://localhost:8080/"
        }
      },
      "outputs": [
        {
          "output_type": "stream",
          "name": "stdout",
          "text": [
            "65/65 [==============================] - 2s 25ms/step\n",
            "[[0.907]\n",
            " [0.95 ]\n",
            " [0.919]\n",
            " ...\n",
            " [0.05 ]\n",
            " [0.771]\n",
            " [0.   ]]\n"
          ]
        }
      ],
      "source": [
        "#Testowanie sieci z wykorzystaniem zdjęć aktorów \n",
        "\n",
        "predict_actors = best_model.predict(actors_img) \n",
        "\n",
        "print(predict_actors)\n",
        "predict = (predict_actors > 0.5).astype(\"int32\")"
      ]
    },
    {
      "cell_type": "code",
      "execution_count": 36,
      "id": "29f5ab15",
      "metadata": {
        "id": "29f5ab15",
        "outputId": "4bf108ce-94be-4c71-800d-2731292325fe",
        "colab": {
          "base_uri": "https://localhost:8080/"
        }
      },
      "outputs": [
        {
          "output_type": "stream",
          "name": "stdout",
          "text": [
            "[['Tn' 'Nn']\n",
            " ['Np' 'Tp']]\n",
            "tf.Tensor(\n",
            "[[724 302]\n",
            " [613 413]], shape=(2, 2), dtype=int32)\n"
          ]
        }
      ],
      "source": [
        "print(names)\n",
        "\n",
        "conf = tf.math.confusion_matrix(actors_label,predict)\n",
        "\n",
        "print(conf)"
      ]
    },
    {
      "cell_type": "code",
      "execution_count": null,
      "id": "992cfbdd",
      "metadata": {
        "id": "992cfbdd"
      },
      "outputs": [],
      "source": []
    }
  ],
  "metadata": {
    "kernelspec": {
      "display_name": "py39",
      "language": "python",
      "name": "py39"
    },
    "language_info": {
      "codemirror_mode": {
        "name": "ipython",
        "version": 3
      },
      "file_extension": ".py",
      "mimetype": "text/x-python",
      "name": "python",
      "nbconvert_exporter": "python",
      "pygments_lexer": "ipython3",
      "version": "3.9.12"
    },
    "colab": {
      "provenance": [],
      "include_colab_link": true
    },
    "accelerator": "GPU",
    "gpuClass": "standard"
  },
  "nbformat": 4,
  "nbformat_minor": 5
}