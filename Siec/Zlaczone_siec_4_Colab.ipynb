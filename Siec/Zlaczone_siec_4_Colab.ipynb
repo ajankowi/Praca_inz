{
  "cells": [
    {
      "cell_type": "markdown",
      "metadata": {
        "id": "view-in-github",
        "colab_type": "text"
      },
      "source": [
        "<a href=\"https://colab.research.google.com/github/ajankowi/Praca_inz/blob/master/Siec/Zlaczone_siec_4_Colab.ipynb\" target=\"_parent\"><img src=\"https://colab.research.google.com/assets/colab-badge.svg\" alt=\"Open In Colab\"/></a>"
      ]
    },
    {
      "cell_type": "code",
      "execution_count": 1,
      "id": "613f08b5",
      "metadata": {
        "id": "613f08b5",
        "outputId": "80171e51-1b44-41d4-b37e-e8015c8e4a48",
        "colab": {
          "base_uri": "https://localhost:8080/"
        }
      },
      "outputs": [
        {
          "output_type": "stream",
          "name": "stdout",
          "text": [
            "3.8.16 (default, Dec  7 2022, 01:12:13) \n",
            "[GCC 7.5.0]\n"
          ]
        }
      ],
      "source": [
        "import sys\n",
        "print(sys.version)"
      ]
    },
    {
      "cell_type": "code",
      "source": [
        "#from google.colab import drive\n",
        "#drive.mount(\"/content/drive\", force_remount=True)"
      ],
      "metadata": {
        "id": "iY1o7_NmVlGs"
      },
      "id": "iY1o7_NmVlGs",
      "execution_count": 2,
      "outputs": []
    },
    {
      "cell_type": "code",
      "execution_count": 3,
      "id": "5eca1117",
      "metadata": {
        "id": "5eca1117",
        "outputId": "71aebb60-1249-44af-f93e-5bf134da3bd8",
        "colab": {
          "base_uri": "https://localhost:8080/"
        }
      },
      "outputs": [
        {
          "output_type": "stream",
          "name": "stdout",
          "text": [
            "TensorFlow version: 2.9.2\n"
          ]
        }
      ],
      "source": [
        "import tensorflow as tf\n",
        "from tensorflow import keras\n",
        "from keras import layers, models, regularizers\n",
        "from keras.layers import Flatten, add, Dense, Dropout, Conv2D, MaxPooling2D, BatchNormalization\n",
        "from keras.callbacks import ModelCheckpoint, EarlyStopping\n",
        "\n",
        "\n",
        "print(\"TensorFlow version:\", tf.__version__)\n",
        "tf.keras.backend.set_floatx('float64')"
      ]
    },
    {
      "cell_type": "code",
      "execution_count": 4,
      "id": "12022d37",
      "metadata": {
        "id": "12022d37"
      },
      "outputs": [],
      "source": [
        "import matplotlib.pyplot as plt\n",
        "import numpy as np\n",
        "import pandas as pd\n",
        "import seaborn as sns\n",
        "from PIL import Image\n",
        "import os\n",
        "import csv\n",
        "import random\n",
        "\n",
        "import cv2\n",
        "import imutils\n",
        "import glob\n",
        "# Make NumPy printouts easier to read.\n",
        "np.set_printoptions(precision=3, suppress=True)"
      ]
    },
    {
      "cell_type": "code",
      "execution_count": 5,
      "id": "1086f893",
      "metadata": {
        "id": "1086f893"
      },
      "outputs": [],
      "source": [
        "#Określenie ścieżek do plików\n",
        "test_zip = '/content/drive/MyDrive/Sieci/Baza_zdjec_zlaczone_2/Test.zip'\n",
        "test_csv = 'test.csv'\n",
        "\n",
        "train_zip = '/content/drive/MyDrive/Sieci/Baza_zdjec_zlaczone_2/Train.zip'\n",
        "train_csv = 'train.csv'\n",
        "\n",
        "folder = '/content/drive/MyDrive/Sieci/Baza_zdjec_zlaczone_2/'\n",
        "slesh = '/'\n",
        "png = '.png'"
      ]
    },
    {
      "cell_type": "code",
      "source": [
        "#!unzip '/content/drive/MyDrive/Sieci/Baza_zdjec_zlaczone_2/Train.zip' -d '/content/train/'\n",
        "#!unzip '/content/drive/MyDrive/Sieci/Baza_zdjec_zlaczone_2/Test.zip' -d '/content/test/'"
      ],
      "metadata": {
        "id": "FXtX4UDo9x77"
      },
      "id": "FXtX4UDo9x77",
      "execution_count": 6,
      "outputs": []
    },
    {
      "cell_type": "code",
      "execution_count": 7,
      "id": "d0329f31",
      "metadata": {
        "id": "d0329f31"
      },
      "outputs": [],
      "source": [
        "def release_list(a):\n",
        "    \n",
        "    del a[:]\n",
        "    del a"
      ]
    },
    {
      "cell_type": "code",
      "execution_count": 8,
      "id": "5beb89e7",
      "metadata": {
        "id": "5beb89e7",
        "outputId": "78b5dfa6-283a-4ca0-b96c-9a8074cacdb4",
        "colab": {
          "base_uri": "https://localhost:8080/"
        }
      },
      "outputs": [
        {
          "output_type": "stream",
          "name": "stdout",
          "text": [
            "22680\n"
          ]
        }
      ],
      "source": [
        "#Wczytanie etykiet do treninegu \n",
        "\n",
        "with open(folder+train_csv,\"r\") as csvfile:\n",
        "    lines = csvfile.readlines()\n",
        "csvfile.close()\n",
        "\n",
        "new = []\n",
        "\n",
        "for i in lines:\n",
        "    new.append(i.split(\" \"))\n",
        "\n",
        "    \n",
        "value_train = []\n",
        "for i in new[0]:\n",
        "    value_train.append(int(i))    \n",
        "    \n",
        "print(len(value_train))"
      ]
    },
    {
      "cell_type": "code",
      "source": [
        "#Wczytanie etykiet do testowania\n",
        "\n",
        "with open(folder+test_csv,\"r\") as csvfile:\n",
        "    lines = csvfile.readlines()\n",
        "csvfile.close()\n",
        "\n",
        "new = []\n",
        "\n",
        "for i in lines:\n",
        "    new.append(i.split(\" \"))\n",
        "\n",
        "    \n",
        "value_test = []\n",
        "for i in new[0]:\n",
        "    value_test.append(int(i))    \n",
        "    \n",
        "print(len(value_test))"
      ],
      "metadata": {
        "id": "_BbuBDFDgvdp",
        "colab": {
          "base_uri": "https://localhost:8080/"
        },
        "outputId": "f84ff4f2-9409-44e1-a8e5-86b12d9e1b72"
      },
      "id": "_BbuBDFDgvdp",
      "execution_count": 9,
      "outputs": [
        {
          "output_type": "stream",
          "name": "stdout",
          "text": [
            "2520\n"
          ]
        }
      ]
    },
    {
      "cell_type": "code",
      "execution_count": 10,
      "id": "d9cb09d8",
      "metadata": {
        "id": "d9cb09d8",
        "outputId": "0e079970-79ca-4c86-e818-c5394dd7886a",
        "colab": {
          "base_uri": "https://localhost:8080/"
        }
      },
      "outputs": [
        {
          "output_type": "stream",
          "name": "stdout",
          "text": [
            "22680\n"
          ]
        }
      ],
      "source": [
        "#Wczytanie zdjęć treningowych \n",
        "images_train = []\n",
        "size = len(value_train)\n",
        "\n",
        "for i in range(size):\n",
        "    im = Image.open('/content/train/'+str(i)+'.png')\n",
        "    arr_im = np.array(im) \n",
        "    arr_im = arr_im / 255.0\n",
        "    images_train.append(arr_im) \n",
        "print(len(images_train))"
      ]
    },
    {
      "cell_type": "code",
      "source": [
        "#Wczytanie zdjęć testowych \n",
        "images_test = []\n",
        "size = len(value_test)\n",
        "\n",
        "for i in range(size):\n",
        "    im = Image.open('/content/test/'+str(i)+'.png')\n",
        "    arr_im = np.array(im) \n",
        "    arr_im = arr_im / 255.0\n",
        "    images_test.append(arr_im) \n",
        "print(len(images_test))"
      ],
      "metadata": {
        "colab": {
          "base_uri": "https://localhost:8080/"
        },
        "id": "9I51x6abky3Q",
        "outputId": "908e7493-1a9a-409a-c1a7-02185e13af99"
      },
      "id": "9I51x6abky3Q",
      "execution_count": 11,
      "outputs": [
        {
          "output_type": "stream",
          "name": "stdout",
          "text": [
            "2520\n"
          ]
        }
      ]
    },
    {
      "cell_type": "code",
      "execution_count": 12,
      "id": "f7f4dd4b",
      "metadata": {
        "id": "f7f4dd4b"
      },
      "outputs": [],
      "source": [
        "x_train = np.array(images_train)\n",
        "x_test = np.array(images_test)\n",
        "\n",
        "y_train = np.array(value_train)\n",
        "y_test = np.array(value_test)"
      ]
    },
    {
      "cell_type": "code",
      "execution_count": 13,
      "id": "772c7d7c",
      "metadata": {
        "id": "772c7d7c"
      },
      "outputs": [],
      "source": [
        "model = models.Sequential()\n",
        "model.add(layers.Conv2D(32, (3, 3), activation='relu', input_shape=(64, 128, 1)))\n",
        "model.add(layers.MaxPooling2D((2, 2)))\n",
        "model.add(layers.Conv2D(32, (3, 3), activation='relu'))\n",
        "model.add(layers.MaxPooling2D((2, 2)))\n",
        "\n",
        "model.add(layers.BatchNormalization())\n",
        "\n",
        "model.add(layers.Conv2D(64, (3, 3), activation='relu'))\n",
        "model.add(layers.MaxPooling2D((2, 2)))\n",
        "model.add(layers.Conv2D(64, (3, 3), activation='relu'))\n",
        "model.add(layers.MaxPooling2D((2, 2)))\n",
        "\n",
        "\n",
        "model.add(layers.Flatten())\n",
        "model.add(layers.Dense(64, activation='relu', kernel_regularizer=keras.regularizers.l2(l=0.1)))\n",
        "model.add(layers.Dense(1, activation='relu'))\n"
      ]
    },
    {
      "cell_type": "code",
      "execution_count": 14,
      "id": "b86f72df",
      "metadata": {
        "id": "b86f72df",
        "outputId": "be88f605-6c11-45e8-a5a0-4f3938acbe67",
        "colab": {
          "base_uri": "https://localhost:8080/"
        }
      },
      "outputs": [
        {
          "output_type": "stream",
          "name": "stdout",
          "text": [
            "Model: \"sequential\"\n",
            "_________________________________________________________________\n",
            " Layer (type)                Output Shape              Param #   \n",
            "=================================================================\n",
            " conv2d (Conv2D)             (None, 62, 126, 32)       320       \n",
            "                                                                 \n",
            " max_pooling2d (MaxPooling2D  (None, 31, 63, 32)       0         \n",
            " )                                                               \n",
            "                                                                 \n",
            " conv2d_1 (Conv2D)           (None, 29, 61, 32)        9248      \n",
            "                                                                 \n",
            " max_pooling2d_1 (MaxPooling  (None, 14, 30, 32)       0         \n",
            " 2D)                                                             \n",
            "                                                                 \n",
            " batch_normalization (BatchN  (None, 14, 30, 32)       128       \n",
            " ormalization)                                                   \n",
            "                                                                 \n",
            " conv2d_2 (Conv2D)           (None, 12, 28, 64)        18496     \n",
            "                                                                 \n",
            " max_pooling2d_2 (MaxPooling  (None, 6, 14, 64)        0         \n",
            " 2D)                                                             \n",
            "                                                                 \n",
            " conv2d_3 (Conv2D)           (None, 4, 12, 64)         36928     \n",
            "                                                                 \n",
            " max_pooling2d_3 (MaxPooling  (None, 2, 6, 64)         0         \n",
            " 2D)                                                             \n",
            "                                                                 \n",
            " flatten (Flatten)           (None, 768)               0         \n",
            "                                                                 \n",
            " dense (Dense)               (None, 64)                49216     \n",
            "                                                                 \n",
            " dense_1 (Dense)             (None, 1)                 65        \n",
            "                                                                 \n",
            "=================================================================\n",
            "Total params: 114,401\n",
            "Trainable params: 114,337\n",
            "Non-trainable params: 64\n",
            "_________________________________________________________________\n"
          ]
        }
      ],
      "source": [
        "model.summary()"
      ]
    },
    {
      "cell_type": "code",
      "execution_count": null,
      "id": "9beb77e5",
      "metadata": {
        "id": "9beb77e5",
        "outputId": "a89db08e-9c11-4b54-d7b6-05389b2a5837",
        "colab": {
          "base_uri": "https://localhost:8080/"
        }
      },
      "outputs": [
        {
          "output_type": "stream",
          "name": "stdout",
          "text": [
            "Epoch 1/100\n",
            "160/160 [==============================] - 28s 151ms/step - loss: 2.3353 - accuracy: 0.8679 - mse: 0.1060 - val_loss: 0.1068 - val_accuracy: 1.0000 - val_mse: 0.0050\n",
            "Epoch 2/100\n",
            "160/160 [==============================] - 23s 145ms/step - loss: 0.0782 - accuracy: 0.9763 - mse: 0.0306 - val_loss: 0.0280 - val_accuracy: 1.0000 - val_mse: 0.0047\n",
            "Epoch 3/100\n",
            "160/160 [==============================] - 24s 147ms/step - loss: 0.0303 - accuracy: 0.9918 - mse: 0.0141 - val_loss: 0.0187 - val_accuracy: 1.0000 - val_mse: 0.0059\n",
            "Epoch 4/100\n",
            "160/160 [==============================] - 23s 143ms/step - loss: 0.0184 - accuracy: 0.9968 - mse: 0.0092 - val_loss: 0.0365 - val_accuracy: 0.9775 - val_mse: 0.0260\n",
            "Epoch 5/100\n",
            "160/160 [==============================] - 24s 150ms/step - loss: 0.0133 - accuracy: 0.9981 - mse: 0.0062 - val_loss: 0.0070 - val_accuracy: 0.9996 - val_mse: 0.0017\n",
            "Epoch 6/100\n",
            "160/160 [==============================] - 24s 147ms/step - loss: 0.0085 - accuracy: 0.9994 - mse: 0.0038 - val_loss: 0.0066 - val_accuracy: 0.9991 - val_mse: 0.0025\n",
            "Epoch 7/100\n",
            "160/160 [==============================] - 24s 150ms/step - loss: 0.0067 - accuracy: 0.9997 - mse: 0.0030 - val_loss: 0.0058 - val_accuracy: 1.0000 - val_mse: 0.0020\n",
            "Epoch 8/100\n",
            "160/160 [==============================] - 23s 141ms/step - loss: 0.0065 - accuracy: 0.9998 - mse: 0.0031 - val_loss: 0.0124 - val_accuracy: 0.9943 - val_mse: 0.0096\n",
            "Epoch 9/100\n",
            "160/160 [==============================] - 24s 147ms/step - loss: 0.0048 - accuracy: 0.9999 - mse: 0.0020 - val_loss: 0.0049 - val_accuracy: 0.9996 - val_mse: 0.0023\n",
            "Epoch 10/100\n",
            "160/160 [==============================] - 24s 147ms/step - loss: 0.0056 - accuracy: 0.9997 - mse: 0.0028 - val_loss: 0.0044 - val_accuracy: 1.0000 - val_mse: 6.4685e-04\n",
            "Epoch 11/100\n",
            "160/160 [==============================] - 24s 149ms/step - loss: 0.0053 - accuracy: 0.9998 - mse: 0.0025 - val_loss: 0.0040 - val_accuracy: 0.9996 - val_mse: 0.0016\n",
            "Epoch 12/100\n",
            "160/160 [==============================] - 24s 149ms/step - loss: 0.0036 - accuracy: 0.9999 - mse: 0.0015 - val_loss: 0.0023 - val_accuracy: 1.0000 - val_mse: 2.2423e-04\n",
            "Epoch 13/100\n",
            "160/160 [==============================] - 22s 141ms/step - loss: 0.0027 - accuracy: 0.9999 - mse: 0.0010 - val_loss: 0.0023 - val_accuracy: 1.0000 - val_mse: 4.8209e-04\n",
            "Epoch 14/100\n",
            "160/160 [==============================] - 24s 148ms/step - loss: 0.0037 - accuracy: 0.9999 - mse: 0.0016 - val_loss: 0.0020 - val_accuracy: 1.0000 - val_mse: 1.0714e-04\n",
            "Epoch 15/100\n",
            "160/160 [==============================] - 22s 141ms/step - loss: 0.0041 - accuracy: 0.9998 - mse: 0.0020 - val_loss: 0.0052 - val_accuracy: 0.9982 - val_mse: 0.0030\n",
            "Epoch 16/100\n",
            "160/160 [==============================] - 24s 148ms/step - loss: 0.0035 - accuracy: 0.9998 - mse: 0.0014 - val_loss: 0.0015 - val_accuracy: 1.0000 - val_mse: 5.8215e-05\n",
            "Epoch 17/100\n",
            "160/160 [==============================] - 24s 148ms/step - loss: 0.0029 - accuracy: 1.0000 - mse: 9.8944e-04 - val_loss: 0.0015 - val_accuracy: 1.0000 - val_mse: 2.2196e-04\n",
            "Epoch 18/100\n",
            "160/160 [==============================] - 24s 149ms/step - loss: 0.0021 - accuracy: 1.0000 - mse: 8.1324e-04 - val_loss: 0.0013 - val_accuracy: 1.0000 - val_mse: 1.8740e-04\n",
            "Epoch 19/100\n",
            "160/160 [==============================] - 23s 141ms/step - loss: 0.0023 - accuracy: 1.0000 - mse: 9.7935e-04 - val_loss: 0.0044 - val_accuracy: 0.9982 - val_mse: 0.0022\n",
            "Epoch 20/100\n",
            "160/160 [==============================] - 23s 141ms/step - loss: 0.0028 - accuracy: 0.9999 - mse: 0.0011 - val_loss: 0.0014 - val_accuracy: 1.0000 - val_mse: 5.1100e-04\n",
            "Epoch 21/100\n",
            "160/160 [==============================] - 23s 141ms/step - loss: 0.0055 - accuracy: 0.9987 - mse: 0.0030 - val_loss: 0.0737 - val_accuracy: 0.8959 - val_mse: 0.0711\n",
            "Epoch 22/100\n",
            "160/160 [==============================] - 23s 141ms/step - loss: 0.0026 - accuracy: 0.9999 - mse: 9.4547e-04 - val_loss: 0.0020 - val_accuracy: 1.0000 - val_mse: 2.3618e-05\n",
            "Epoch 23/100\n",
            "139/160 [=========================>....] - ETA: 2s - loss: 0.0018 - accuracy: 0.9999 - mse: 4.8948e-04"
          ]
        }
      ],
      "source": [
        "model.compile(optimizer='adam',\n",
        "              loss='mse',\n",
        "              metrics=['accuracy','mse'])\n",
        "\n",
        "#Funcka umożliwia zatrzymanie się uczenia \n",
        "#gdy wartość strat przstanie maleć\n",
        "EarlyStop = EarlyStopping(monitor='val_loss',  \n",
        "                          verbose=1, \n",
        "                          patience=10)\n",
        "\n",
        "\n",
        "ModelCheck = ModelCheckpoint(filepath='/content/drive/MyDrive/Sieci/Zlaczone.h5',\n",
        "                             monitor='val_loss',\n",
        "                             save_best_only=True)\n",
        "\n",
        "\n",
        "history = model.fit(x=x_train, \n",
        "                    y=y_train, \n",
        "                    epochs=100,\n",
        "                    batch_size=128,\n",
        "                    validation_split=0.1,\n",
        "                    #validation_data = (x_test, y_test),\n",
        "                    callbacks = [EarlyStop, ModelCheck]\n",
        "                   )"
      ]
    },
    {
      "cell_type": "code",
      "execution_count": null,
      "id": "fe8633db",
      "metadata": {
        "id": "fe8633db"
      },
      "outputs": [],
      "source": [
        "plt.plot(history.history['loss'], label='strata')\n",
        "plt.plot(history.history['val_loss'], label = 'strata walidacyjna')\n",
        "plt.xlabel('Epoka')\n",
        "plt.ylabel('Strata')\n",
        "plt.ylim([0.0, 0.5])\n",
        "plt.legend(loc='upper right')"
      ]
    },
    {
      "cell_type": "code",
      "execution_count": null,
      "id": "8b976089",
      "metadata": {
        "scrolled": true,
        "id": "8b976089"
      },
      "outputs": [],
      "source": [
        "plt.plot(history.history['accuracy'], label='precyzja')\n",
        "plt.plot(history.history['val_accuracy'], label = 'precyzja walidacyjna')\n",
        "plt.xlabel('Epoka')\n",
        "plt.ylabel('Precyzja')\n",
        "plt.ylim([0.5, 1])\n",
        "plt.legend(loc='lower right')"
      ]
    },
    {
      "cell_type": "code",
      "source": [
        "best_model = tf.keras.models.load_model('/content/drive/MyDrive/Sieci/Zlaczone.h5')\n"
      ],
      "metadata": {
        "id": "HWqm9BVzLHfw"
      },
      "id": "HWqm9BVzLHfw",
      "execution_count": null,
      "outputs": []
    },
    {
      "cell_type": "code",
      "execution_count": null,
      "id": "685a286c",
      "metadata": {
        "id": "685a286c"
      },
      "outputs": [],
      "source": [
        "best_model.evaluate(x_test,  y_test, verbose=2)"
      ]
    },
    {
      "cell_type": "code",
      "execution_count": null,
      "id": "ee941c13",
      "metadata": {
        "id": "ee941c13"
      },
      "outputs": [],
      "source": [
        "predict_x = best_model.predict(x_test) \n",
        "\n",
        "predictions = (predict_x > 0.5).astype(\"int32\")"
      ]
    },
    {
      "cell_type": "code",
      "execution_count": null,
      "id": "d8fb12f1",
      "metadata": {
        "id": "d8fb12f1"
      },
      "outputs": [],
      "source": [
        "names = [['Tn','Nn'],['Np', 'Tp']]\n",
        "names = np.reshape(names,(2,2))\n",
        "print(names)\n",
        "\n",
        "conf = tf.math.confusion_matrix(y_test,predictions)\n",
        "\n",
        "print(conf)"
      ]
    }
  ],
  "metadata": {
    "kernelspec": {
      "display_name": "py39",
      "language": "python",
      "name": "py39"
    },
    "language_info": {
      "codemirror_mode": {
        "name": "ipython",
        "version": 3
      },
      "file_extension": ".py",
      "mimetype": "text/x-python",
      "name": "python",
      "nbconvert_exporter": "python",
      "pygments_lexer": "ipython3",
      "version": "3.9.12"
    },
    "colab": {
      "provenance": [],
      "include_colab_link": true
    },
    "accelerator": "GPU",
    "gpuClass": "standard"
  },
  "nbformat": 4,
  "nbformat_minor": 5
}