{
  "cells": [
    {
      "cell_type": "markdown",
      "metadata": {
        "id": "view-in-github",
        "colab_type": "text"
      },
      "source": [
        "<a href=\"https://colab.research.google.com/github/ajankowi/Praca_inz/blob/master/Siec/Zlaczone_siec_4_Colab.ipynb\" target=\"_parent\"><img src=\"https://colab.research.google.com/assets/colab-badge.svg\" alt=\"Open In Colab\"/></a>"
      ]
    },
    {
      "cell_type": "code",
      "execution_count": 1,
      "id": "613f08b5",
      "metadata": {
        "id": "613f08b5",
        "outputId": "8832f295-b9c4-454e-cfa2-13608f76593e",
        "colab": {
          "base_uri": "https://localhost:8080/"
        }
      },
      "outputs": [
        {
          "output_type": "stream",
          "name": "stdout",
          "text": [
            "3.8.16 (default, Dec  7 2022, 01:12:13) \n",
            "[GCC 7.5.0]\n"
          ]
        }
      ],
      "source": [
        "import sys\n",
        "print(sys.version)"
      ]
    },
    {
      "cell_type": "code",
      "source": [
        "#from google.colab import drive\n",
        "#drive.mount(\"/content/drive\", force_remount=True)"
      ],
      "metadata": {
        "id": "iY1o7_NmVlGs"
      },
      "id": "iY1o7_NmVlGs",
      "execution_count": 2,
      "outputs": []
    },
    {
      "cell_type": "code",
      "execution_count": 3,
      "id": "5eca1117",
      "metadata": {
        "id": "5eca1117",
        "outputId": "aaa5b1da-9c66-44f2-cc89-09f993a3b2f0",
        "colab": {
          "base_uri": "https://localhost:8080/"
        }
      },
      "outputs": [
        {
          "output_type": "stream",
          "name": "stdout",
          "text": [
            "TensorFlow version: 2.9.2\n"
          ]
        }
      ],
      "source": [
        "import tensorflow as tf\n",
        "from tensorflow import keras\n",
        "from keras import layers, models, regularizers\n",
        "from keras.layers import Flatten, add, Dense, Dropout, Conv2D, MaxPooling2D, BatchNormalization\n",
        "from keras.callbacks import ModelCheckpoint, EarlyStopping\n",
        "\n",
        "\n",
        "print(\"TensorFlow version:\", tf.__version__)\n",
        "tf.keras.backend.set_floatx('float64')"
      ]
    },
    {
      "cell_type": "code",
      "execution_count": 4,
      "id": "12022d37",
      "metadata": {
        "id": "12022d37"
      },
      "outputs": [],
      "source": [
        "import matplotlib.pyplot as plt\n",
        "import numpy as np\n",
        "import pandas as pd\n",
        "import seaborn as sns\n",
        "from PIL import Image\n",
        "import os\n",
        "import csv\n",
        "import random\n",
        "\n",
        "import cv2\n",
        "import imutils\n",
        "import glob\n",
        "# Make NumPy printouts easier to read.\n",
        "np.set_printoptions(precision=3, suppress=True)"
      ]
    },
    {
      "cell_type": "code",
      "execution_count": 5,
      "id": "1086f893",
      "metadata": {
        "id": "1086f893"
      },
      "outputs": [],
      "source": [
        "#Określenie ścieżek do plików\n",
        "test_zip = '/content/drive/MyDrive/Sieci/Baza_zdjec_zlaczone_2/Test.zip'\n",
        "test_csv = 'test.csv'\n",
        "\n",
        "train_zip = '/content/drive/MyDrive/Sieci/Baza_zdjec_zlaczone_2/Train.zip'\n",
        "train_csv = 'train.csv'\n",
        "\n",
        "folder = '/content/drive/MyDrive/Sieci/Baza_zdjec_zlaczone_2/'\n",
        "slesh = '/'\n",
        "png = '.png'"
      ]
    },
    {
      "cell_type": "code",
      "source": [
        "#!unzip '/content/drive/MyDrive/Sieci/Baza_zdjec_zlaczone_2/Train.zip' -d '/content/train/'\n",
        "#!unzip '/content/drive/MyDrive/Sieci/Baza_zdjec_zlaczone_2/Test.zip' -d '/content/test/'"
      ],
      "metadata": {
        "id": "FXtX4UDo9x77"
      },
      "id": "FXtX4UDo9x77",
      "execution_count": 6,
      "outputs": []
    },
    {
      "cell_type": "code",
      "execution_count": 7,
      "id": "d0329f31",
      "metadata": {
        "id": "d0329f31"
      },
      "outputs": [],
      "source": [
        "def release_list(a):\n",
        "    \n",
        "    del a[:]\n",
        "    del a"
      ]
    },
    {
      "cell_type": "code",
      "execution_count": 8,
      "id": "5beb89e7",
      "metadata": {
        "id": "5beb89e7",
        "outputId": "c45e9162-eb17-400b-ba54-2b576ce977f0",
        "colab": {
          "base_uri": "https://localhost:8080/"
        }
      },
      "outputs": [
        {
          "output_type": "stream",
          "name": "stdout",
          "text": [
            "22680\n"
          ]
        }
      ],
      "source": [
        "#Wczytanie etykiet do treninegu \n",
        "\n",
        "with open(folder+train_csv,\"r\") as csvfile:\n",
        "    lines = csvfile.readlines()\n",
        "csvfile.close()\n",
        "\n",
        "new = []\n",
        "\n",
        "for i in lines:\n",
        "    new.append(i.split(\" \"))\n",
        "\n",
        "    \n",
        "value_train = []\n",
        "for i in new[0]:\n",
        "    value_train.append(int(i))    \n",
        "    \n",
        "print(len(value_train))"
      ]
    },
    {
      "cell_type": "code",
      "source": [
        "#Wczytanie etykiet do testowania\n",
        "\n",
        "with open(folder+test_csv,\"r\") as csvfile:\n",
        "    lines = csvfile.readlines()\n",
        "csvfile.close()\n",
        "\n",
        "new = []\n",
        "\n",
        "for i in lines:\n",
        "    new.append(i.split(\" \"))\n",
        "\n",
        "    \n",
        "value_test = []\n",
        "for i in new[0]:\n",
        "    value_test.append(int(i))    \n",
        "    \n",
        "print(len(value_test))"
      ],
      "metadata": {
        "id": "_BbuBDFDgvdp",
        "colab": {
          "base_uri": "https://localhost:8080/"
        },
        "outputId": "ab2ce576-6fec-4e4a-f5c5-dc1d75904748"
      },
      "id": "_BbuBDFDgvdp",
      "execution_count": 9,
      "outputs": [
        {
          "output_type": "stream",
          "name": "stdout",
          "text": [
            "2520\n"
          ]
        }
      ]
    },
    {
      "cell_type": "code",
      "execution_count": 10,
      "id": "d9cb09d8",
      "metadata": {
        "id": "d9cb09d8",
        "outputId": "87289728-ea5a-4001-98a0-e9ddb4abcf67",
        "colab": {
          "base_uri": "https://localhost:8080/"
        }
      },
      "outputs": [
        {
          "output_type": "stream",
          "name": "stdout",
          "text": [
            "22680\n"
          ]
        }
      ],
      "source": [
        "#Wczytanie zdjęć treningowych \n",
        "images_train = []\n",
        "size = len(value_train)\n",
        "\n",
        "for i in range(size):\n",
        "    im = Image.open('/content/train/'+str(i)+'.png')\n",
        "    arr_im = np.array(im) \n",
        "    arr_im = arr_im / 255.0\n",
        "    images_train.append(arr_im) \n",
        "print(len(images_train))"
      ]
    },
    {
      "cell_type": "code",
      "source": [
        "#Wczytanie zdjęć testowych \n",
        "images_test = []\n",
        "size = len(value_test)\n",
        "\n",
        "for i in range(size):\n",
        "    im = Image.open('/content/test/'+str(i)+'.png')\n",
        "    arr_im = np.array(im) \n",
        "    arr_im = arr_im / 255.0\n",
        "    images_test.append(arr_im) \n",
        "print(len(images_test))"
      ],
      "metadata": {
        "colab": {
          "base_uri": "https://localhost:8080/"
        },
        "id": "9I51x6abky3Q",
        "outputId": "1e9ac51a-174b-4194-80fe-e14d231aaa59"
      },
      "id": "9I51x6abky3Q",
      "execution_count": 11,
      "outputs": [
        {
          "output_type": "stream",
          "name": "stdout",
          "text": [
            "2520\n"
          ]
        }
      ]
    },
    {
      "cell_type": "code",
      "execution_count": 12,
      "id": "f7f4dd4b",
      "metadata": {
        "id": "f7f4dd4b"
      },
      "outputs": [],
      "source": [
        "x_train = np.array(images_train)\n",
        "x_test = np.array(images_test)\n",
        "\n",
        "y_train = np.array(value_train)\n",
        "y_test = np.array(value_test)"
      ]
    },
    {
      "cell_type": "code",
      "execution_count": 13,
      "id": "772c7d7c",
      "metadata": {
        "id": "772c7d7c"
      },
      "outputs": [],
      "source": [
        "model = models.Sequential()\n",
        "model.add(layers.Conv2D(32, (3, 3), activation='relu', input_shape=(64, 128, 1)))\n",
        "model.add(layers.MaxPooling2D((2, 2)))\n",
        "model.add(layers.Conv2D(32, (3, 3), activation='relu'))\n",
        "model.add(layers.MaxPooling2D((2, 2)))\n",
        "\n",
        "model.add(layers.BatchNormalization())\n",
        "\n",
        "model.add(layers.Conv2D(64, (3, 3), activation='relu'))\n",
        "model.add(layers.MaxPooling2D((2, 2)))\n",
        "model.add(layers.Conv2D(64, (3, 3), activation='relu'))\n",
        "model.add(layers.MaxPooling2D((2, 2)))\n",
        "\n",
        "model.add(layers.BatchNormalization())\n",
        "\n",
        "\n",
        "model.add(layers.Flatten())\n",
        "model.add(layers.Dense(64, activation='relu'))\n",
        "model.add(layers.Dense(1, activation='relu'))\n"
      ]
    },
    {
      "cell_type": "code",
      "execution_count": 14,
      "id": "b86f72df",
      "metadata": {
        "id": "b86f72df",
        "outputId": "92ab1d97-959f-4334-bb92-9f6b95adead1",
        "colab": {
          "base_uri": "https://localhost:8080/"
        }
      },
      "outputs": [
        {
          "output_type": "stream",
          "name": "stdout",
          "text": [
            "Model: \"sequential\"\n",
            "_________________________________________________________________\n",
            " Layer (type)                Output Shape              Param #   \n",
            "=================================================================\n",
            " conv2d (Conv2D)             (None, 62, 126, 32)       320       \n",
            "                                                                 \n",
            " max_pooling2d (MaxPooling2D  (None, 31, 63, 32)       0         \n",
            " )                                                               \n",
            "                                                                 \n",
            " conv2d_1 (Conv2D)           (None, 29, 61, 32)        9248      \n",
            "                                                                 \n",
            " max_pooling2d_1 (MaxPooling  (None, 14, 30, 32)       0         \n",
            " 2D)                                                             \n",
            "                                                                 \n",
            " batch_normalization (BatchN  (None, 14, 30, 32)       128       \n",
            " ormalization)                                                   \n",
            "                                                                 \n",
            " conv2d_2 (Conv2D)           (None, 12, 28, 64)        18496     \n",
            "                                                                 \n",
            " max_pooling2d_2 (MaxPooling  (None, 6, 14, 64)        0         \n",
            " 2D)                                                             \n",
            "                                                                 \n",
            " conv2d_3 (Conv2D)           (None, 4, 12, 64)         36928     \n",
            "                                                                 \n",
            " max_pooling2d_3 (MaxPooling  (None, 2, 6, 64)         0         \n",
            " 2D)                                                             \n",
            "                                                                 \n",
            " batch_normalization_1 (Batc  (None, 2, 6, 64)         256       \n",
            " hNormalization)                                                 \n",
            "                                                                 \n",
            " flatten (Flatten)           (None, 768)               0         \n",
            "                                                                 \n",
            " dense (Dense)               (None, 64)                49216     \n",
            "                                                                 \n",
            " dense_1 (Dense)             (None, 1)                 65        \n",
            "                                                                 \n",
            "=================================================================\n",
            "Total params: 114,657\n",
            "Trainable params: 114,465\n",
            "Non-trainable params: 192\n",
            "_________________________________________________________________\n"
          ]
        }
      ],
      "source": [
        "model.summary()"
      ]
    },
    {
      "cell_type": "code",
      "execution_count": 15,
      "id": "9beb77e5",
      "metadata": {
        "id": "9beb77e5",
        "outputId": "ee102cc2-49b0-4297-af48-06161da8f517",
        "colab": {
          "base_uri": "https://localhost:8080/"
        }
      },
      "outputs": [
        {
          "output_type": "stream",
          "name": "stdout",
          "text": [
            "Epoch 1/100\n",
            "160/160 [==============================] - 30s 150ms/step - loss: 0.2046 - accuracy: 0.7905 - mse: 0.2046 - val_loss: 1.2262 - val_accuracy: 0.0000e+00 - val_mse: 1.2262\n",
            "Epoch 2/100\n",
            "160/160 [==============================] - 22s 138ms/step - loss: 0.0206 - accuracy: 0.9906 - mse: 0.0206 - val_loss: 1.6585 - val_accuracy: 0.0000e+00 - val_mse: 1.6585\n",
            "Epoch 3/100\n",
            "160/160 [==============================] - 23s 145ms/step - loss: 0.0077 - accuracy: 0.9987 - mse: 0.0077 - val_loss: 0.5977 - val_accuracy: 0.2632 - val_mse: 0.5977\n",
            "Epoch 4/100\n",
            "160/160 [==============================] - 24s 148ms/step - loss: 0.0047 - accuracy: 0.9998 - mse: 0.0047 - val_loss: 0.0248 - val_accuracy: 0.9744 - val_mse: 0.0248\n",
            "Epoch 5/100\n",
            "160/160 [==============================] - 23s 147ms/step - loss: 0.0034 - accuracy: 0.9999 - mse: 0.0034 - val_loss: 0.0032 - val_accuracy: 0.9996 - val_mse: 0.0032\n",
            "Epoch 6/100\n",
            "160/160 [==============================] - 23s 146ms/step - loss: 0.0025 - accuracy: 1.0000 - mse: 0.0025 - val_loss: 0.0024 - val_accuracy: 0.9991 - val_mse: 0.0024\n",
            "Epoch 7/100\n",
            "160/160 [==============================] - 24s 148ms/step - loss: 0.0019 - accuracy: 1.0000 - mse: 0.0019 - val_loss: 0.0017 - val_accuracy: 0.9996 - val_mse: 0.0017\n",
            "Epoch 8/100\n",
            "160/160 [==============================] - 24s 147ms/step - loss: 0.0017 - accuracy: 1.0000 - mse: 0.0017 - val_loss: 8.4952e-04 - val_accuracy: 0.9996 - val_mse: 8.4952e-04\n",
            "Epoch 9/100\n",
            "160/160 [==============================] - 24s 148ms/step - loss: 0.0014 - accuracy: 1.0000 - mse: 0.0014 - val_loss: 7.8990e-04 - val_accuracy: 1.0000 - val_mse: 7.8990e-04\n",
            "Epoch 10/100\n",
            "160/160 [==============================] - 22s 140ms/step - loss: 0.0013 - accuracy: 1.0000 - mse: 0.0013 - val_loss: 0.0020 - val_accuracy: 0.9991 - val_mse: 0.0020\n",
            "Epoch 11/100\n",
            "160/160 [==============================] - 22s 140ms/step - loss: 0.0011 - accuracy: 1.0000 - mse: 0.0011 - val_loss: 0.0019 - val_accuracy: 0.9991 - val_mse: 0.0019\n",
            "Epoch 12/100\n",
            "160/160 [==============================] - 23s 141ms/step - loss: 8.4097e-04 - accuracy: 1.0000 - mse: 8.4097e-04 - val_loss: 0.0014 - val_accuracy: 0.9996 - val_mse: 0.0014\n",
            "Epoch 13/100\n",
            "160/160 [==============================] - 24s 149ms/step - loss: 7.4258e-04 - accuracy: 1.0000 - mse: 7.4258e-04 - val_loss: 6.9075e-04 - val_accuracy: 1.0000 - val_mse: 6.9075e-04\n",
            "Epoch 14/100\n",
            "160/160 [==============================] - 23s 141ms/step - loss: 7.4904e-04 - accuracy: 1.0000 - mse: 7.4904e-04 - val_loss: 6.9165e-04 - val_accuracy: 0.9996 - val_mse: 6.9165e-04\n",
            "Epoch 15/100\n",
            "160/160 [==============================] - 23s 141ms/step - loss: 7.8343e-04 - accuracy: 1.0000 - mse: 7.8343e-04 - val_loss: 0.0011 - val_accuracy: 0.9991 - val_mse: 0.0011\n",
            "Epoch 16/100\n",
            "160/160 [==============================] - 24s 148ms/step - loss: 5.1246e-04 - accuracy: 1.0000 - mse: 5.1246e-04 - val_loss: 3.5521e-04 - val_accuracy: 1.0000 - val_mse: 3.5521e-04\n",
            "Epoch 17/100\n",
            "160/160 [==============================] - 23s 141ms/step - loss: 5.7580e-04 - accuracy: 1.0000 - mse: 5.7580e-04 - val_loss: 9.8595e-04 - val_accuracy: 0.9996 - val_mse: 9.8595e-04\n",
            "Epoch 18/100\n",
            "160/160 [==============================] - 23s 141ms/step - loss: 4.7514e-04 - accuracy: 1.0000 - mse: 4.7514e-04 - val_loss: 8.4142e-04 - val_accuracy: 0.9991 - val_mse: 8.4142e-04\n",
            "Epoch 19/100\n",
            "160/160 [==============================] - 23s 143ms/step - loss: 5.1624e-04 - accuracy: 1.0000 - mse: 5.1624e-04 - val_loss: 0.0020 - val_accuracy: 0.9982 - val_mse: 0.0020\n",
            "Epoch 20/100\n",
            "160/160 [==============================] - 23s 141ms/step - loss: 3.8314e-04 - accuracy: 1.0000 - mse: 3.8314e-04 - val_loss: 9.2116e-04 - val_accuracy: 0.9996 - val_mse: 9.2116e-04\n",
            "Epoch 21/100\n",
            "160/160 [==============================] - 23s 141ms/step - loss: 3.2216e-04 - accuracy: 1.0000 - mse: 3.2216e-04 - val_loss: 7.7284e-04 - val_accuracy: 0.9991 - val_mse: 7.7284e-04\n",
            "Epoch 22/100\n",
            "160/160 [==============================] - 23s 142ms/step - loss: 3.2869e-04 - accuracy: 1.0000 - mse: 3.2869e-04 - val_loss: 0.0013 - val_accuracy: 0.9991 - val_mse: 0.0013\n",
            "Epoch 23/100\n",
            "160/160 [==============================] - 24s 148ms/step - loss: 3.8713e-04 - accuracy: 1.0000 - mse: 3.8713e-04 - val_loss: 3.4136e-04 - val_accuracy: 0.9996 - val_mse: 3.4136e-04\n",
            "Epoch 24/100\n",
            "160/160 [==============================] - 23s 141ms/step - loss: 0.0021 - accuracy: 0.9995 - mse: 0.0021 - val_loss: 0.0013 - val_accuracy: 0.9987 - val_mse: 0.0013\n",
            "Epoch 25/100\n",
            "160/160 [==============================] - 23s 141ms/step - loss: 0.0021 - accuracy: 0.9994 - mse: 0.0021 - val_loss: 8.5176e-04 - val_accuracy: 0.9987 - val_mse: 8.5176e-04\n",
            "Epoch 26/100\n",
            "160/160 [==============================] - 25s 155ms/step - loss: 6.8963e-04 - accuracy: 1.0000 - mse: 6.8963e-04 - val_loss: 1.3395e-04 - val_accuracy: 1.0000 - val_mse: 1.3395e-04\n",
            "Epoch 27/100\n",
            "160/160 [==============================] - 23s 144ms/step - loss: 2.6374e-04 - accuracy: 1.0000 - mse: 2.6374e-04 - val_loss: 2.8000e-04 - val_accuracy: 1.0000 - val_mse: 2.8000e-04\n",
            "Epoch 28/100\n",
            "160/160 [==============================] - 23s 142ms/step - loss: 1.8922e-04 - accuracy: 1.0000 - mse: 1.8922e-04 - val_loss: 3.5482e-04 - val_accuracy: 1.0000 - val_mse: 3.5482e-04\n",
            "Epoch 29/100\n",
            "160/160 [==============================] - 23s 142ms/step - loss: 1.7830e-04 - accuracy: 1.0000 - mse: 1.7830e-04 - val_loss: 1.8710e-04 - val_accuracy: 0.9996 - val_mse: 1.8710e-04\n",
            "Epoch 30/100\n",
            "160/160 [==============================] - 23s 142ms/step - loss: 1.3883e-04 - accuracy: 1.0000 - mse: 1.3883e-04 - val_loss: 2.0237e-04 - val_accuracy: 0.9996 - val_mse: 2.0237e-04\n",
            "Epoch 31/100\n",
            "160/160 [==============================] - 23s 144ms/step - loss: 1.4025e-04 - accuracy: 1.0000 - mse: 1.4025e-04 - val_loss: 2.4219e-04 - val_accuracy: 0.9996 - val_mse: 2.4219e-04\n",
            "Epoch 32/100\n",
            "160/160 [==============================] - 23s 141ms/step - loss: 1.0898e-04 - accuracy: 1.0000 - mse: 1.0898e-04 - val_loss: 3.2289e-04 - val_accuracy: 0.9996 - val_mse: 3.2289e-04\n",
            "Epoch 33/100\n",
            "160/160 [==============================] - 23s 141ms/step - loss: 1.1039e-04 - accuracy: 1.0000 - mse: 1.1039e-04 - val_loss: 2.7919e-04 - val_accuracy: 0.9996 - val_mse: 2.7919e-04\n",
            "Epoch 34/100\n",
            "160/160 [==============================] - 23s 141ms/step - loss: 1.1524e-04 - accuracy: 1.0000 - mse: 1.1524e-04 - val_loss: 3.1458e-04 - val_accuracy: 0.9996 - val_mse: 3.1458e-04\n",
            "Epoch 35/100\n",
            "160/160 [==============================] - 23s 145ms/step - loss: 1.9879e-04 - accuracy: 1.0000 - mse: 1.9879e-04 - val_loss: 0.0055 - val_accuracy: 0.9934 - val_mse: 0.0055\n",
            "Epoch 36/100\n",
            "160/160 [==============================] - 25s 155ms/step - loss: 0.0059 - accuracy: 0.9956 - mse: 0.0059 - val_loss: 0.0000e+00 - val_accuracy: 1.0000 - val_mse: 0.0000e+00\n",
            "Epoch 37/100\n",
            "160/160 [==============================] - 23s 141ms/step - loss: 0.0014 - accuracy: 0.9995 - mse: 0.0014 - val_loss: 0.0071 - val_accuracy: 0.9881 - val_mse: 0.0071\n",
            "Epoch 38/100\n",
            "160/160 [==============================] - 23s 141ms/step - loss: 2.5188e-04 - accuracy: 1.0000 - mse: 2.5188e-04 - val_loss: 1.1765e-04 - val_accuracy: 1.0000 - val_mse: 1.1765e-04\n",
            "Epoch 39/100\n",
            "160/160 [==============================] - 23s 142ms/step - loss: 1.4274e-04 - accuracy: 1.0000 - mse: 1.4274e-04 - val_loss: 2.6325e-04 - val_accuracy: 0.9996 - val_mse: 2.6325e-04\n",
            "Epoch 40/100\n",
            "160/160 [==============================] - 23s 141ms/step - loss: 1.3023e-04 - accuracy: 1.0000 - mse: 1.3023e-04 - val_loss: 1.2529e-04 - val_accuracy: 1.0000 - val_mse: 1.2529e-04\n",
            "Epoch 41/100\n",
            "160/160 [==============================] - 23s 141ms/step - loss: 1.1527e-04 - accuracy: 1.0000 - mse: 1.1527e-04 - val_loss: 1.7780e-04 - val_accuracy: 1.0000 - val_mse: 1.7780e-04\n",
            "Epoch 42/100\n",
            "160/160 [==============================] - 23s 142ms/step - loss: 1.0878e-04 - accuracy: 1.0000 - mse: 1.0878e-04 - val_loss: 2.5663e-04 - val_accuracy: 0.9996 - val_mse: 2.5663e-04\n",
            "Epoch 43/100\n",
            "160/160 [==============================] - 23s 142ms/step - loss: 7.6659e-05 - accuracy: 1.0000 - mse: 7.6659e-05 - val_loss: 2.9073e-04 - val_accuracy: 0.9996 - val_mse: 2.9073e-04\n",
            "Epoch 44/100\n",
            "160/160 [==============================] - 23s 143ms/step - loss: 8.8942e-05 - accuracy: 1.0000 - mse: 8.8942e-05 - val_loss: 2.1369e-04 - val_accuracy: 0.9996 - val_mse: 2.1369e-04\n",
            "Epoch 45/100\n",
            "160/160 [==============================] - 23s 142ms/step - loss: 7.2460e-05 - accuracy: 1.0000 - mse: 7.2460e-05 - val_loss: 3.2989e-04 - val_accuracy: 0.9996 - val_mse: 3.2989e-04\n",
            "Epoch 46/100\n",
            "160/160 [==============================] - 23s 142ms/step - loss: 7.4601e-05 - accuracy: 1.0000 - mse: 7.4601e-05 - val_loss: 3.2714e-04 - val_accuracy: 0.9996 - val_mse: 3.2714e-04\n",
            "Epoch 46: early stopping\n"
          ]
        }
      ],
      "source": [
        "model.compile(optimizer='adam',\n",
        "              loss='mse',\n",
        "              metrics=['accuracy','mse'])\n",
        "\n",
        "#Funcka umożliwia zatrzymanie się uczenia \n",
        "#gdy wartość strat przstanie maleć\n",
        "EarlyStop = EarlyStopping(monitor='val_loss',  \n",
        "                          verbose=1, \n",
        "                          patience=10)\n",
        "\n",
        "\n",
        "ModelCheck = ModelCheckpoint(filepath='/content/drive/MyDrive/Sieci/Zlaczone.h5',\n",
        "                             monitor='val_loss',\n",
        "                             save_best_only=True)\n",
        "\n",
        "\n",
        "history = model.fit(x=x_train, \n",
        "                    y=y_train, \n",
        "                    epochs=100,\n",
        "                    batch_size=128,\n",
        "                    validation_split=0.1,\n",
        "                    #validation_data = (x_test, y_test),\n",
        "                    callbacks = [EarlyStop, ModelCheck]\n",
        "                   )"
      ]
    },
    {
      "cell_type": "code",
      "execution_count": 16,
      "id": "fe8633db",
      "metadata": {
        "id": "fe8633db",
        "colab": {
          "base_uri": "https://localhost:8080/",
          "height": 300
        },
        "outputId": "ce81d8b0-aeaa-484f-8bf8-ba754b2db565"
      },
      "outputs": [
        {
          "output_type": "execute_result",
          "data": {
            "text/plain": [
              "<matplotlib.legend.Legend at 0x7f3b901203a0>"
            ]
          },
          "metadata": {},
          "execution_count": 16
        },
        {
          "output_type": "display_data",
          "data": {
            "text/plain": [
              "<Figure size 432x288 with 1 Axes>"
            ],
            "image/png": "[encoded data removed]"
          },
          "metadata": {
            "needs_background": "light"
          }
        }
      ],
      "source": [
        "plt.plot(history.history['loss'], label='strata')\n",
        "plt.plot(history.history['val_loss'], label = 'strata walidacyjna')\n",
        "plt.xlabel('Epoka')\n",
        "plt.ylabel('Strata')\n",
        "plt.ylim([0.0, 0.5])\n",
        "plt.legend(loc='upper right')"
      ]
    },
    {
      "cell_type": "code",
      "execution_count": 17,
      "id": "8b976089",
      "metadata": {
        "scrolled": true,
        "id": "8b976089",
        "colab": {
          "base_uri": "https://localhost:8080/",
          "height": 300
        },
        "outputId": "2215c249-191e-4a81-bbf9-c464fc6a1c0d"
      },
      "outputs": [
        {
          "output_type": "execute_result",
          "data": {
            "text/plain": [
              "<matplotlib.legend.Legend at 0x7f3b9019d4c0>"
            ]
          },
          "metadata": {},
          "execution_count": 17
        },
        {
          "output_type": "display_data",
          "data": {
            "text/plain": [
              "<Figure size 432x288 with 1 Axes>"
            ],
            "image/png": "[encoded data removed]"
          },
          "metadata": {
            "needs_background": "light"
          }
        }
      ],
      "source": [
        "plt.plot(history.history['accuracy'], label='precyzja')\n",
        "plt.plot(history.history['val_accuracy'], label = 'precyzja walidacyjna')\n",
        "plt.xlabel('Epoka')\n",
        "plt.ylabel('Precyzja')\n",
        "plt.ylim([0.5, 1])\n",
        "plt.legend(loc='lower right')"
      ]
    },
    {
      "cell_type": "code",
      "source": [
        "best_model = tf.keras.models.load_model('/content/drive/MyDrive/Sieci/Zlaczone.h5')\n"
      ],
      "metadata": {
        "id": "HWqm9BVzLHfw"
      },
      "id": "HWqm9BVzLHfw",
      "execution_count": 18,
      "outputs": []
    },
    {
      "cell_type": "code",
      "execution_count": 19,
      "id": "685a286c",
      "metadata": {
        "id": "685a286c",
        "colab": {
          "base_uri": "https://localhost:8080/"
        },
        "outputId": "1859d0e2-fd1a-45df-ffe8-9dd4cf649cd2"
      },
      "outputs": [
        {
          "output_type": "stream",
          "name": "stdout",
          "text": [
            "79/79 - 1s - loss: 0.3552 - accuracy: 0.6123 - mse: 0.3552 - 1s/epoch - 18ms/step\n"
          ]
        },
        {
          "output_type": "execute_result",
          "data": {
            "text/plain": [
              "[0.355155565866384, 0.6123015873015873, 0.355155565866384]"
            ]
          },
          "metadata": {},
          "execution_count": 19
        }
      ],
      "source": [
        "best_model.evaluate(x_test,  y_test, verbose=2)"
      ]
    },
    {
      "cell_type": "code",
      "execution_count": 20,
      "id": "ee941c13",
      "metadata": {
        "id": "ee941c13",
        "colab": {
          "base_uri": "https://localhost:8080/"
        },
        "outputId": "11dda2f2-dfcb-4d15-b72f-7167f2289693"
      },
      "outputs": [
        {
          "output_type": "stream",
          "name": "stdout",
          "text": [
            "79/79 [==============================] - 1s 11ms/step\n"
          ]
        }
      ],
      "source": [
        "predict_x = best_model.predict(x_test) \n",
        "\n",
        "predictions = (predict_x > 0.5).astype(\"int32\")"
      ]
    },
    {
      "cell_type": "code",
      "execution_count": 21,
      "id": "d8fb12f1",
      "metadata": {
        "id": "d8fb12f1",
        "colab": {
          "base_uri": "https://localhost:8080/"
        },
        "outputId": "c77d2e5e-f522-4e68-fe28-0d397743a421"
      },
      "outputs": [
        {
          "output_type": "stream",
          "name": "stdout",
          "text": [
            "[['Tn' 'Nn']\n",
            " ['Np' 'Tp']]\n",
            "tf.Tensor(\n",
            "[[1256    4]\n",
            " [ 973  287]], shape=(2, 2), dtype=int32)\n"
          ]
        }
      ],
      "source": [
        "names = [['Tn','Nn'],['Np', 'Tp']]\n",
        "names = np.reshape(names,(2,2))\n",
        "print(names)\n",
        "\n",
        "conf = tf.math.confusion_matrix(y_test,predictions)\n",
        "\n",
        "print(conf)"
      ]
    }
  ],
  "metadata": {
    "kernelspec": {
      "display_name": "py39",
      "language": "python",
      "name": "py39"
    },
    "language_info": {
      "codemirror_mode": {
        "name": "ipython",
        "version": 3
      },
      "file_extension": ".py",
      "mimetype": "text/x-python",
      "name": "python",
      "nbconvert_exporter": "python",
      "pygments_lexer": "ipython3",
      "version": "3.9.12"
    },
    "colab": {
      "provenance": [],
      "include_colab_link": true
    },
    "accelerator": "GPU",
    "gpuClass": "standard"
  },
  "nbformat": 4,
  "nbformat_minor": 5
}