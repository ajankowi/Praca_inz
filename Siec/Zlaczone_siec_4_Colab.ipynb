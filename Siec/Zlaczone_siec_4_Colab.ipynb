{
  "cells": [
    {
      "cell_type": "markdown",
      "metadata": {
        "id": "view-in-github",
        "colab_type": "text"
      },
      "source": [
        "<a href=\"https://colab.research.google.com/github/ajankowi/Praca_inz/blob/master/Siec/Zlaczone_siec_4_Colab.ipynb\" target=\"_parent\"><img src=\"https://colab.research.google.com/assets/colab-badge.svg\" alt=\"Open In Colab\"/></a>"
      ]
    },
    {
      "cell_type": "code",
      "execution_count": 1,
      "id": "613f08b5",
      "metadata": {
        "id": "613f08b5",
        "outputId": "64f1fe5d-4072-4e5c-8c38-f451bfb0db6a",
        "colab": {
          "base_uri": "https://localhost:8080/"
        }
      },
      "outputs": [
        {
          "output_type": "stream",
          "name": "stdout",
          "text": [
            "3.8.16 (default, Dec  7 2022, 01:12:13) \n",
            "[GCC 7.5.0]\n"
          ]
        }
      ],
      "source": [
        "import sys\n",
        "print(sys.version)"
      ]
    },
    {
      "cell_type": "code",
      "source": [
        "from google.colab import drive\n",
        "drive.mount(\"/content/drive\", force_remount=True)"
      ],
      "metadata": {
        "id": "iY1o7_NmVlGs",
        "colab": {
          "base_uri": "https://localhost:8080/"
        },
        "outputId": "57edf63c-c5dd-4020-facd-eaec8512aa01"
      },
      "id": "iY1o7_NmVlGs",
      "execution_count": 2,
      "outputs": [
        {
          "output_type": "stream",
          "name": "stdout",
          "text": [
            "Mounted at /content/drive\n"
          ]
        }
      ]
    },
    {
      "cell_type": "code",
      "execution_count": 3,
      "id": "5eca1117",
      "metadata": {
        "id": "5eca1117",
        "outputId": "26a68355-b810-475a-8fc2-c3bc049c6f91",
        "colab": {
          "base_uri": "https://localhost:8080/"
        }
      },
      "outputs": [
        {
          "output_type": "stream",
          "name": "stdout",
          "text": [
            "TensorFlow version: 2.9.2\n"
          ]
        }
      ],
      "source": [
        "import tensorflow as tf\n",
        "from tensorflow import keras\n",
        "from keras import layers, models, regularizers\n",
        "from keras.layers import Flatten, add, Dense, Dropout \n",
        "from keras.callbacks import ModelCheckpoint, EarlyStopping\n",
        "\n",
        "\n",
        "print(\"TensorFlow version:\", tf.__version__)\n",
        "tf.keras.backend.set_floatx('float64')"
      ]
    },
    {
      "cell_type": "code",
      "execution_count": 4,
      "id": "12022d37",
      "metadata": {
        "id": "12022d37"
      },
      "outputs": [],
      "source": [
        "import matplotlib.pyplot as plt\n",
        "import numpy as np\n",
        "import pandas as pd\n",
        "import seaborn as sns\n",
        "from PIL import Image\n",
        "import os\n",
        "import csv\n",
        "import random\n",
        "\n",
        "import cv2\n",
        "import imutils\n",
        "import glob\n",
        "# Make NumPy printouts easier to read.\n",
        "np.set_printoptions(precision=3, suppress=True)"
      ]
    },
    {
      "cell_type": "code",
      "execution_count": 5,
      "id": "1086f893",
      "metadata": {
        "id": "1086f893"
      },
      "outputs": [],
      "source": [
        "#Określenie ścieżek do plików\n",
        "test_zip = '/content/drive/MyDrive/Sieci/Baza_zdjec_zlaczone_2/Test.zip'\n",
        "test_csv = 'test.csv'\n",
        "\n",
        "train_zip = '/content/drive/MyDrive/Sieci/Baza_zdjec_zlaczone_2/Train.zip'\n",
        "train_csv = 'train.csv'\n",
        "\n",
        "folder = '/content/drive/MyDrive/Sieci/Baza_zdjec_zlaczone_2/'\n",
        "slesh = '/'\n",
        "png = '.png'"
      ]
    },
    {
      "cell_type": "code",
      "source": [
        "!unzip '/content/drive/MyDrive/Sieci/Baza_zdjec_zlaczone_2/Train.zip' -d '/content/train/'\n",
        "!unzip '/content/drive/MyDrive/Sieci/Baza_zdjec_zlaczone_2/Test.zip' -d '/content/test/'"
      ],
      "metadata": {
        "id": "FXtX4UDo9x77"
      },
      "id": "FXtX4UDo9x77",
      "execution_count": null,
      "outputs": []
    },
    {
      "cell_type": "code",
      "execution_count": 12,
      "id": "d0329f31",
      "metadata": {
        "id": "d0329f31"
      },
      "outputs": [],
      "source": [
        "def release_list(a):\n",
        "    \n",
        "    del a[:]\n",
        "    del a"
      ]
    },
    {
      "cell_type": "code",
      "execution_count": 13,
      "id": "5beb89e7",
      "metadata": {
        "id": "5beb89e7",
        "outputId": "6dfad97b-cbdc-4c31-9dac-c42318274c2d",
        "colab": {
          "base_uri": "https://localhost:8080/"
        }
      },
      "outputs": [
        {
          "output_type": "stream",
          "name": "stdout",
          "text": [
            "22680\n"
          ]
        }
      ],
      "source": [
        "#Wczytanie etykiet do treninegu \n",
        "\n",
        "with open(folder+train_csv,\"r\") as csvfile:\n",
        "    lines = csvfile.readlines()\n",
        "csvfile.close()\n",
        "\n",
        "new = []\n",
        "\n",
        "for i in lines:\n",
        "    new.append(i.split(\" \"))\n",
        "\n",
        "    \n",
        "value_train = []\n",
        "for i in new[0]:\n",
        "    value_train.append(int(i))    \n",
        "    \n",
        "print(len(value_train))"
      ]
    },
    {
      "cell_type": "code",
      "source": [
        "#Wczytanie etykiet do testowania\n",
        "\n",
        "with open(folder+test_csv,\"r\") as csvfile:\n",
        "    lines = csvfile.readlines()\n",
        "csvfile.close()\n",
        "\n",
        "new = []\n",
        "\n",
        "for i in lines:\n",
        "    new.append(i.split(\" \"))\n",
        "\n",
        "    \n",
        "value_test = []\n",
        "for i in new[0]:\n",
        "    value_test.append(int(i))    \n",
        "    \n",
        "print(len(value_test))"
      ],
      "metadata": {
        "id": "_BbuBDFDgvdp",
        "colab": {
          "base_uri": "https://localhost:8080/"
        },
        "outputId": "a831d6cc-aaa5-47e3-cc52-91e6ca05210c"
      },
      "id": "_BbuBDFDgvdp",
      "execution_count": 14,
      "outputs": [
        {
          "output_type": "stream",
          "name": "stdout",
          "text": [
            "2520\n"
          ]
        }
      ]
    },
    {
      "cell_type": "code",
      "execution_count": 15,
      "id": "d9cb09d8",
      "metadata": {
        "id": "d9cb09d8",
        "outputId": "10605b18-0134-4d6a-8068-7701a0ddbd2d",
        "colab": {
          "base_uri": "https://localhost:8080/"
        }
      },
      "outputs": [
        {
          "output_type": "stream",
          "name": "stdout",
          "text": [
            "22680\n"
          ]
        }
      ],
      "source": [
        "#Wczytanie zdjęć treningowych \n",
        "images_train = []\n",
        "size = len(value_train)\n",
        "\n",
        "for i in range(size):\n",
        "    im = Image.open('/content/train/'+str(i)+'.png')\n",
        "    arr_im = np.array(im) \n",
        "    arr_im = arr_im / 255.0\n",
        "    images_train.append(arr_im) \n",
        "print(len(images_train))"
      ]
    },
    {
      "cell_type": "code",
      "source": [
        "#Wczytanie zdjęć testowych \n",
        "images_test = []\n",
        "size = len(value_test)\n",
        "\n",
        "for i in range(size):\n",
        "    im = Image.open('/content/test/'+str(i)+'.png')\n",
        "    arr_im = np.array(im) \n",
        "    arr_im = arr_im / 255.0\n",
        "    images_test.append(arr_im) \n",
        "print(len(images_test))"
      ],
      "metadata": {
        "colab": {
          "base_uri": "https://localhost:8080/"
        },
        "id": "9I51x6abky3Q",
        "outputId": "c774541d-b70e-492e-aaca-78b45738856d"
      },
      "id": "9I51x6abky3Q",
      "execution_count": 16,
      "outputs": [
        {
          "output_type": "stream",
          "name": "stdout",
          "text": [
            "2520\n"
          ]
        }
      ]
    },
    {
      "cell_type": "code",
      "execution_count": 21,
      "id": "f7f4dd4b",
      "metadata": {
        "id": "f7f4dd4b"
      },
      "outputs": [],
      "source": [
        "x_train = np.array(images_train)\n",
        "x_test = np.array(images_test)\n",
        "\n",
        "y_train = np.array(value_train)\n",
        "y_test = np.array(value_test)"
      ]
    },
    {
      "cell_type": "code",
      "execution_count": 37,
      "id": "d3a370cb",
      "metadata": {
        "id": "d3a370cb",
        "outputId": "22e8ce9b-72b9-46ee-8cf5-27c5ce1c3706",
        "colab": {
          "base_uri": "https://localhost:8080/",
          "height": 357
        }
      },
      "outputs": [
        {
          "output_type": "stream",
          "name": "stdout",
          "text": [
            "[[0.196 0.196 0.192 ... 0.235 0.216 0.263]\n",
            " [0.196 0.208 0.165 ... 0.275 0.153 0.259]\n",
            " [0.204 0.22  0.173 ... 0.275 0.192 0.247]\n",
            " ...\n",
            " [0.196 0.204 0.192 ... 0.18  0.173 0.173]\n",
            " [0.192 0.196 0.2   ... 0.176 0.18  0.18 ]\n",
            " [0.192 0.192 0.2   ... 0.169 0.173 0.176]]\n",
            "1\n"
          ]
        },
        {
          "output_type": "display_data",
          "data": {
            "text/plain": [
              "<Figure size 432x288 with 1 Axes>"
            ],
            "image/png": "[encoded data removed]"
          },
          "metadata": {
            "needs_background": "light"
          }
        }
      ],
      "source": [
        "plt.imshow(x_train[4000],cmap = 'gray')\n",
        "print(x_train[0])\n",
        "print(y_train[0])"
      ]
    },
    {
      "cell_type": "code",
      "execution_count": 38,
      "id": "772c7d7c",
      "metadata": {
        "id": "772c7d7c"
      },
      "outputs": [],
      "source": [
        "model = models.Sequential()\n",
        "model.add(layers.Conv2D(32, (3, 3), activation='relu', input_shape=(64, 128, 1)))\n",
        "model.add(layers.MaxPooling2D((2, 2)))\n",
        "model.add(Dropout(0.1))\n",
        "\n",
        "model.add(layers.Conv2D(64, (3, 3), activation='relu'))\n",
        "model.add(layers.MaxPooling2D((2, 2)))\n",
        "model.add(Dropout(0.1))\n",
        "\n",
        "model.add(layers.Conv2D(64, (3, 3), activation='relu'))\n",
        "model.add(layers.MaxPooling2D((2, 2)))\n",
        "model.add(Dropout(0.1))\n",
        "\n",
        "model.add(layers.Flatten())\n",
        "model.add(layers.Dense(64, activation='relu', kernel_regularizer=keras.regularizers.l2(l=0.1)))\n",
        "model.add(layers.Dense(1, activation='relu'))\n"
      ]
    },
    {
      "cell_type": "code",
      "execution_count": 39,
      "id": "b86f72df",
      "metadata": {
        "id": "b86f72df",
        "outputId": "4dd17966-2ea3-4abd-cca1-78f286ca12c2",
        "colab": {
          "base_uri": "https://localhost:8080/"
        }
      },
      "outputs": [
        {
          "output_type": "stream",
          "name": "stdout",
          "text": [
            "Model: \"sequential\"\n",
            "_________________________________________________________________\n",
            " Layer (type)                Output Shape              Param #   \n",
            "=================================================================\n",
            " conv2d (Conv2D)             (None, 62, 126, 32)       320       \n",
            "                                                                 \n",
            " max_pooling2d (MaxPooling2D  (None, 31, 63, 32)       0         \n",
            " )                                                               \n",
            "                                                                 \n",
            " dropout (Dropout)           (None, 31, 63, 32)        0         \n",
            "                                                                 \n",
            " conv2d_1 (Conv2D)           (None, 29, 61, 64)        18496     \n",
            "                                                                 \n",
            " max_pooling2d_1 (MaxPooling  (None, 14, 30, 64)       0         \n",
            " 2D)                                                             \n",
            "                                                                 \n",
            " dropout_1 (Dropout)         (None, 14, 30, 64)        0         \n",
            "                                                                 \n",
            " conv2d_2 (Conv2D)           (None, 12, 28, 64)        36928     \n",
            "                                                                 \n",
            " max_pooling2d_2 (MaxPooling  (None, 6, 14, 64)        0         \n",
            " 2D)                                                             \n",
            "                                                                 \n",
            " dropout_2 (Dropout)         (None, 6, 14, 64)         0         \n",
            "                                                                 \n",
            " flatten (Flatten)           (None, 5376)              0         \n",
            "                                                                 \n",
            " dense (Dense)               (None, 64)                344128    \n",
            "                                                                 \n",
            " dense_1 (Dense)             (None, 1)                 65        \n",
            "                                                                 \n",
            "=================================================================\n",
            "Total params: 399,937\n",
            "Trainable params: 399,937\n",
            "Non-trainable params: 0\n",
            "_________________________________________________________________\n"
          ]
        }
      ],
      "source": [
        "model.summary()"
      ]
    },
    {
      "cell_type": "code",
      "execution_count": 40,
      "id": "9beb77e5",
      "metadata": {
        "id": "9beb77e5",
        "outputId": "10078b8c-fad1-4ff0-893f-f5cc23b45954",
        "colab": {
          "base_uri": "https://localhost:8080/"
        }
      },
      "outputs": [
        {
          "output_type": "stream",
          "name": "stdout",
          "text": [
            "Epoch 1/100\n",
            "80/80 [==============================] - 47s 456ms/step - loss: 1.8845 - accuracy: 0.5429 - mse: 0.2893 - val_loss: 0.2360 - val_accuracy: 0.4916 - val_mse: 0.2150\n",
            "Epoch 2/100\n",
            "80/80 [==============================] - 33s 405ms/step - loss: 0.2023 - accuracy: 0.7101 - mse: 0.1871 - val_loss: 0.2586 - val_accuracy: 0.5520 - val_mse: 0.2440\n",
            "Epoch 3/100\n",
            "80/80 [==============================] - 34s 431ms/step - loss: 0.1542 - accuracy: 0.8213 - mse: 0.1354 - val_loss: 0.0841 - val_accuracy: 0.9092 - val_mse: 0.0618\n",
            "Epoch 4/100\n",
            "80/80 [==============================] - 35s 432ms/step - loss: 0.1110 - accuracy: 0.8932 - mse: 0.0870 - val_loss: 0.0480 - val_accuracy: 0.9687 - val_mse: 0.0249\n",
            "Epoch 5/100\n",
            "80/80 [==============================] - 33s 412ms/step - loss: 0.0875 - accuracy: 0.9244 - mse: 0.0660 - val_loss: 0.0693 - val_accuracy: 0.9295 - val_mse: 0.0495\n",
            "Epoch 6/100\n",
            "80/80 [==============================] - 35s 435ms/step - loss: 0.0662 - accuracy: 0.9514 - mse: 0.0470 - val_loss: 0.0378 - val_accuracy: 0.9793 - val_mse: 0.0194\n",
            "Epoch 7/100\n",
            "80/80 [==============================] - 35s 434ms/step - loss: 0.0602 - accuracy: 0.9577 - mse: 0.0417 - val_loss: 0.0341 - val_accuracy: 0.9824 - val_mse: 0.0181\n",
            "Epoch 8/100\n",
            "80/80 [==============================] - 35s 442ms/step - loss: 0.0552 - accuracy: 0.9640 - mse: 0.0375 - val_loss: 0.0305 - val_accuracy: 0.9877 - val_mse: 0.0131\n",
            "Epoch 9/100\n",
            "80/80 [==============================] - 35s 441ms/step - loss: 0.0454 - accuracy: 0.9721 - mse: 0.0296 - val_loss: 0.0219 - val_accuracy: 0.9956 - val_mse: 0.0071\n",
            "Epoch 10/100\n",
            "80/80 [==============================] - 35s 439ms/step - loss: 0.0427 - accuracy: 0.9753 - mse: 0.0277 - val_loss: 0.0203 - val_accuracy: 0.9978 - val_mse: 0.0057\n",
            "Epoch 11/100\n",
            "80/80 [==============================] - 33s 418ms/step - loss: 0.0380 - accuracy: 0.9811 - mse: 0.0242 - val_loss: 0.0253 - val_accuracy: 0.9903 - val_mse: 0.0121\n",
            "Epoch 12/100\n",
            "80/80 [==============================] - 33s 419ms/step - loss: 0.0391 - accuracy: 0.9798 - mse: 0.0248 - val_loss: 0.0426 - val_accuracy: 0.9683 - val_mse: 0.0266\n",
            "Epoch 13/100\n",
            "80/80 [==============================] - 35s 442ms/step - loss: 0.0311 - accuracy: 0.9854 - mse: 0.0185 - val_loss: 0.0187 - val_accuracy: 0.9938 - val_mse: 0.0073\n",
            "Epoch 14/100\n",
            "80/80 [==============================] - 34s 418ms/step - loss: 0.0311 - accuracy: 0.9847 - mse: 0.0196 - val_loss: 0.0199 - val_accuracy: 0.9965 - val_mse: 0.0072\n",
            "Epoch 15/100\n",
            "80/80 [==============================] - 35s 441ms/step - loss: 0.0295 - accuracy: 0.9857 - mse: 0.0179 - val_loss: 0.0133 - val_accuracy: 1.0000 - val_mse: 0.0030\n",
            "Epoch 16/100\n",
            "80/80 [==============================] - 33s 418ms/step - loss: 0.0279 - accuracy: 0.9879 - mse: 0.0168 - val_loss: 0.0331 - val_accuracy: 0.9713 - val_mse: 0.0222\n",
            "Epoch 17/100\n",
            "80/80 [==============================] - 33s 419ms/step - loss: 0.0275 - accuracy: 0.9879 - mse: 0.0168 - val_loss: 0.0226 - val_accuracy: 0.9934 - val_mse: 0.0105\n",
            "Epoch 18/100\n",
            "80/80 [==============================] - 33s 418ms/step - loss: 0.0259 - accuracy: 0.9888 - mse: 0.0153 - val_loss: 0.0142 - val_accuracy: 0.9987 - val_mse: 0.0046\n",
            "Epoch 19/100\n",
            "80/80 [==============================] - 33s 419ms/step - loss: 0.0237 - accuracy: 0.9901 - mse: 0.0132 - val_loss: 0.0231 - val_accuracy: 0.9841 - val_mse: 0.0125\n",
            "Epoch 20/100\n",
            "80/80 [==============================] - 33s 418ms/step - loss: 0.0267 - accuracy: 0.9882 - mse: 0.0161 - val_loss: 0.0142 - val_accuracy: 0.9991 - val_mse: 0.0029\n",
            "Epoch 20: early stopping\n"
          ]
        }
      ],
      "source": [
        "model.compile(optimizer='adam',\n",
        "              loss='mse',\n",
        "              metrics=['accuracy','mse'])\n",
        "\n",
        "#Funcka umożliwia zatrzymanie się uczenia \n",
        "#gdy wartość strat przstanie maleć\n",
        "EarlyStop = EarlyStopping(monitor='val_loss',  \n",
        "                          verbose=1, \n",
        "                          patience=5)\n",
        "\n",
        "\n",
        "ModelCheck = ModelCheckpoint(filepath='/content/drive/MyDrive/Sieci/Zlaczone.h5',\n",
        "                             monitor='val_loss',\n",
        "                             save_best_only=True)\n",
        "\n",
        "\n",
        "history = model.fit(x=x_train, \n",
        "                    y=y_train, \n",
        "                    epochs=100,\n",
        "                    batch_size=256,\n",
        "                    validation_split=0.1,\n",
        "                    callbacks = [EarlyStop, ModelCheck]\n",
        "                   )"
      ]
    },
    {
      "cell_type": "code",
      "execution_count": 41,
      "id": "fe8633db",
      "metadata": {
        "id": "fe8633db",
        "colab": {
          "base_uri": "https://localhost:8080/",
          "height": 300
        },
        "outputId": "7bd85d7a-686d-4168-fc05-449855a1b41e"
      },
      "outputs": [
        {
          "output_type": "execute_result",
          "data": {
            "text/plain": [
              "<matplotlib.legend.Legend at 0x7fa7824d42b0>"
            ]
          },
          "metadata": {},
          "execution_count": 41
        },
        {
          "output_type": "display_data",
          "data": {
            "text/plain": [
              "<Figure size 432x288 with 1 Axes>"
            ],
            "image/png": "[encoded data removed]"
          },
          "metadata": {
            "needs_background": "light"
          }
        }
      ],
      "source": [
        "plt.plot(history.history['loss'], label='strata')\n",
        "plt.plot(history.history['val_loss'], label = 'strata walidacyjna')\n",
        "plt.xlabel('Epoka')\n",
        "plt.ylabel('Strata')\n",
        "plt.ylim([0.0, 0.5])\n",
        "plt.legend(loc='upper right')"
      ]
    },
    {
      "cell_type": "code",
      "execution_count": 42,
      "id": "8b976089",
      "metadata": {
        "scrolled": true,
        "id": "8b976089",
        "colab": {
          "base_uri": "https://localhost:8080/",
          "height": 300
        },
        "outputId": "7d61a6f0-655f-46c3-c0a6-af0a78c8a5fc"
      },
      "outputs": [
        {
          "output_type": "execute_result",
          "data": {
            "text/plain": [
              "<matplotlib.legend.Legend at 0x7fa7e6f92be0>"
            ]
          },
          "metadata": {},
          "execution_count": 42
        },
        {
          "output_type": "display_data",
          "data": {
            "text/plain": [
              "<Figure size 432x288 with 1 Axes>"
            ],
            "image/png": "[encoded data removed]"
          },
          "metadata": {
            "needs_background": "light"
          }
        }
      ],
      "source": [
        "plt.plot(history.history['accuracy'], label='precyzja')\n",
        "plt.plot(history.history['val_accuracy'], label = 'precyzja walidacyjna')\n",
        "plt.xlabel('Epoka')\n",
        "plt.ylabel('Precyzja')\n",
        "plt.ylim([0.5, 1])\n",
        "plt.legend(loc='lower right')"
      ]
    },
    {
      "cell_type": "code",
      "source": [
        "best_model = tf.keras.models.load_model('/content/drive/MyDrive/Sieci/Zlaczone.h5')\n"
      ],
      "metadata": {
        "id": "HWqm9BVzLHfw"
      },
      "id": "HWqm9BVzLHfw",
      "execution_count": 43,
      "outputs": []
    },
    {
      "cell_type": "code",
      "execution_count": 44,
      "id": "685a286c",
      "metadata": {
        "id": "685a286c",
        "colab": {
          "base_uri": "https://localhost:8080/"
        },
        "outputId": "ad915fd7-ad73-453c-afac-b6ed0da7633b"
      },
      "outputs": [
        {
          "output_type": "stream",
          "name": "stdout",
          "text": [
            "79/79 - 2s - loss: 0.1749 - accuracy: 0.8020 - mse: 0.1646 - 2s/epoch - 24ms/step\n"
          ]
        },
        {
          "output_type": "execute_result",
          "data": {
            "text/plain": [
              "[0.17490099718032096, 0.801984126984127, 0.16463202004711597]"
            ]
          },
          "metadata": {},
          "execution_count": 44
        }
      ],
      "source": [
        "best_model.evaluate(x_test,  y_test, verbose=2)"
      ]
    },
    {
      "cell_type": "code",
      "execution_count": 45,
      "id": "ee941c13",
      "metadata": {
        "id": "ee941c13",
        "colab": {
          "base_uri": "https://localhost:8080/"
        },
        "outputId": "37e2372e-cf54-45d9-9bc3-3f023f999f72"
      },
      "outputs": [
        {
          "output_type": "stream",
          "name": "stdout",
          "text": [
            "79/79 [==============================] - 2s 19ms/step\n"
          ]
        }
      ],
      "source": [
        "predict_x = best_model.predict(x_test) \n",
        "\n",
        "predictions = (predict_x > 0.5).astype(\"int32\")"
      ]
    },
    {
      "cell_type": "code",
      "execution_count": 46,
      "id": "d8fb12f1",
      "metadata": {
        "id": "d8fb12f1",
        "colab": {
          "base_uri": "https://localhost:8080/"
        },
        "outputId": "9a83b784-81c9-4d53-b9fa-addfc813a043"
      },
      "outputs": [
        {
          "output_type": "stream",
          "name": "stdout",
          "text": [
            "[['Tn' 'Nn']\n",
            " ['Np' 'Tp']]\n",
            "tf.Tensor(\n",
            "[[ 799  461]\n",
            " [  38 1222]], shape=(2, 2), dtype=int32)\n"
          ]
        }
      ],
      "source": [
        "names = [['Tn','Nn'],['Np', 'Tp']]\n",
        "names = np.reshape(names,(2,2))\n",
        "print(names)\n",
        "\n",
        "conf = tf.math.confusion_matrix(y_test,predictions)\n",
        "\n",
        "print(conf)"
      ]
    }
  ],
  "metadata": {
    "kernelspec": {
      "display_name": "py39",
      "language": "python",
      "name": "py39"
    },
    "language_info": {
      "codemirror_mode": {
        "name": "ipython",
        "version": 3
      },
      "file_extension": ".py",
      "mimetype": "text/x-python",
      "name": "python",
      "nbconvert_exporter": "python",
      "pygments_lexer": "ipython3",
      "version": "3.9.12"
    },
    "colab": {
      "provenance": [],
      "include_colab_link": true
    },
    "accelerator": "GPU",
    "gpuClass": "standard"
  },
  "nbformat": 4,
  "nbformat_minor": 5
}