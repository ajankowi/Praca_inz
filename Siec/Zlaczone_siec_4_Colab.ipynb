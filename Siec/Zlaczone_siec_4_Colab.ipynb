{
  "cells": [
    {
      "cell_type": "markdown",
      "metadata": {
        "id": "view-in-github",
        "colab_type": "text"
      },
      "source": [
        "<a href=\"https://colab.research.google.com/github/ajankowi/Praca_inz/blob/master/Siec/Zlaczone_siec_4_Colab.ipynb\" target=\"_parent\"><img src=\"https://colab.research.google.com/assets/colab-badge.svg\" alt=\"Open In Colab\"/></a>"
      ]
    },
    {
      "cell_type": "code",
      "execution_count": 2,
      "id": "613f08b5",
      "metadata": {
        "id": "613f08b5",
        "outputId": "1f8ba522-a70d-4696-ed7a-c1939951316a",
        "colab": {
          "base_uri": "https://localhost:8080/"
        }
      },
      "outputs": [
        {
          "output_type": "stream",
          "name": "stdout",
          "text": [
            "3.8.16 (default, Dec  7 2022, 01:12:13) \n",
            "[GCC 7.5.0]\n"
          ]
        }
      ],
      "source": [
        "import sys\n",
        "print(sys.version)"
      ]
    },
    {
      "cell_type": "code",
      "source": [
        "from google.colab import drive\n",
        "drive.mount('/content/drive')"
      ],
      "metadata": {
        "colab": {
          "base_uri": "https://localhost:8080/"
        },
        "id": "iY1o7_NmVlGs",
        "outputId": "8e366895-3611-4fac-f7a0-b500fe88bfda"
      },
      "id": "iY1o7_NmVlGs",
      "execution_count": 3,
      "outputs": [
        {
          "output_type": "stream",
          "name": "stdout",
          "text": [
            "Drive already mounted at /content/drive; to attempt to forcibly remount, call drive.mount(\"/content/drive\", force_remount=True).\n"
          ]
        }
      ]
    },
    {
      "cell_type": "code",
      "execution_count": 4,
      "id": "5eca1117",
      "metadata": {
        "id": "5eca1117",
        "outputId": "ada9c2a0-511e-4eee-87dd-339e56d01a58",
        "colab": {
          "base_uri": "https://localhost:8080/"
        }
      },
      "outputs": [
        {
          "output_type": "stream",
          "name": "stdout",
          "text": [
            "TensorFlow version: 2.9.2\n"
          ]
        }
      ],
      "source": [
        "import tensorflow as tf\n",
        "from tensorflow.keras import layers, models\n",
        "from tensorflow.keras.layers import Flatten, add, Dense, Dropout\n",
        "from tensorflow.keras.callbacks import EarlyStopping\n",
        "from tensorflow.keras.callbacks import ModelCheckpoint\n",
        "\n",
        "\n",
        "print(\"TensorFlow version:\", tf.__version__)\n",
        "tf.keras.backend.set_floatx('float64')"
      ]
    },
    {
      "cell_type": "code",
      "execution_count": 5,
      "id": "12022d37",
      "metadata": {
        "id": "12022d37"
      },
      "outputs": [],
      "source": [
        "import matplotlib.pyplot as plt\n",
        "import numpy as np\n",
        "import pandas as pd\n",
        "import seaborn as sns\n",
        "from PIL import Image\n",
        "import os\n",
        "import csv\n",
        "import random\n",
        "\n",
        "import cv2\n",
        "import imutils\n",
        "import glob\n",
        "# Make NumPy printouts easier to read.\n",
        "np.set_printoptions(precision=3, suppress=True)"
      ]
    },
    {
      "cell_type": "code",
      "execution_count": 6,
      "id": "1086f893",
      "metadata": {
        "id": "1086f893"
      },
      "outputs": [],
      "source": [
        "#Określenie ścieżek do plików\n",
        "folder = '/content/drive/MyDrive/test/Baza_zdjec_zlaczone_2/'\n",
        "nazwa_CSV = 'nowe.csv'\n",
        "#folder_aktorzy = '../../Dane/Baza_aktorzy_zlaczone/'\n",
        "#nazwa_aktorzy_CSV = 'nowe.csv'\n",
        "slesh = '/'\n",
        "png = '.png'"
      ]
    },
    {
      "cell_type": "code",
      "execution_count": 7,
      "id": "d0329f31",
      "metadata": {
        "id": "d0329f31"
      },
      "outputs": [],
      "source": [
        "def release_list(a):\n",
        "    \n",
        "    del a[:]\n",
        "    del a"
      ]
    },
    {
      "cell_type": "code",
      "execution_count": 8,
      "id": "5beb89e7",
      "metadata": {
        "id": "5beb89e7",
        "outputId": "a7c771ab-3b21-47f5-a22e-a3aa8865f066",
        "colab": {
          "base_uri": "https://localhost:8080/"
        }
      },
      "outputs": [
        {
          "output_type": "stream",
          "name": "stdout",
          "text": [
            "25200\n"
          ]
        }
      ],
      "source": [
        "#Wczytanie pliku CSV do tablicy images\n",
        "\n",
        "with open(folder+nazwa_CSV,\"r\") as csvfile:\n",
        "    lines = csvfile.readlines()\n",
        "csvfile.close()\n",
        "\n",
        "new = []\n",
        "\n",
        "for i in lines:\n",
        "    new.append(i.split(\" \"))\n",
        "\n",
        "    \n",
        "value = []\n",
        "for i in new[0]:\n",
        "    value.append(int(i))    \n",
        "    \n",
        "print(len(value))"
      ]
    },
    {
      "cell_type": "code",
      "execution_count": 9,
      "id": "d9cb09d8",
      "metadata": {
        "id": "d9cb09d8",
        "outputId": "cee6dc1a-5a85-447b-8941-4480b6ccef58",
        "colab": {
          "base_uri": "https://localhost:8080/"
        }
      },
      "outputs": [
        {
          "output_type": "stream",
          "name": "stdout",
          "text": [
            "25200\n"
          ]
        }
      ],
      "source": [
        "#Wczytanie zdjęć do tablicy images\n",
        "images = []\n",
        "size = len(value)\n",
        "\n",
        "for i in range(size):\n",
        "    im = Image.open('/content/drive/MyDrive/test/Baza_zdjec_zlaczone_2/'+str(i)+'.png')\n",
        "    arr_im = np.array(im) \n",
        "    arr_im = arr_im / 255.0\n",
        "    images.append(arr_im) \n",
        "print(len(images))"
      ]
    },
    {
      "cell_type": "code",
      "execution_count": 10,
      "id": "44a7c0bf",
      "metadata": {
        "id": "44a7c0bf"
      },
      "outputs": [],
      "source": [
        "#Inicjalizacja tablic\n",
        "rand_list = []\n",
        "rand_list = np.zeros((len(images)), dtype=np.uint8)\n",
        "\n",
        "x_test = []\n",
        "y_test = []\n",
        "\n",
        "x_train = []\n",
        "y_train = []\n",
        "\n",
        "\n",
        "#Okreslanie wielkosci zbiorów\n",
        "nighty = int(len(images)*90/100)\n",
        "ten = len(images) - nighty\n",
        "\n",
        "#Losowanie zbioru testowego\n",
        "for i in range(nighty):\n",
        "    \n",
        "    #Pierwsze losowanie wartości\n",
        "    rand = random.randint(0,len(images)-1)\n",
        "    \n",
        "    #Sprawdzenie czy wylosowana wartość się powtarza\n",
        "    while (rand_list[rand] == 1) :\n",
        "        #Jeżeli tak to ponownie losuje\n",
        "        rand = random.randint(0,len(images)-1)\n",
        "    \n",
        "    #Zapisanie zdjecia i wartości do nowej tablicy\n",
        "    x_train.append(images[rand])\n",
        "    y_train.append(value[rand])\n",
        "    rand_list[rand] = 1\n",
        "\n",
        "#Losowanie zbioru uczącego\n",
        "for j in range(ten):\n",
        "    \n",
        "    #Pierwsze losowanie wartości\n",
        "    rand = random.randint(0,len(images)-1)\n",
        "    \n",
        "    #Sprawdzenie czy wylosowana wartość się powtarza\n",
        "    while (rand_list[rand] == 1) :\n",
        "        #Jeżeli tak to ponownie losuje\n",
        "        rand = random.randint(0,len(images)-1)\n",
        "        \n",
        "    #Zapisanie zdjecia i wartości do nowej tablicy\n",
        "    x_test.append(images[rand])\n",
        "    y_test.append(value[rand])\n",
        "    rand_list[rand] = 1\n",
        "    \n",
        "    \n",
        "release_list(images)\n",
        "release_list(value)"
      ]
    },
    {
      "cell_type": "code",
      "execution_count": 11,
      "id": "8fccbbcc",
      "metadata": {
        "id": "8fccbbcc",
        "outputId": "bfaea5f9-3087-492b-c31a-4c48d1ba24ec",
        "colab": {
          "base_uri": "https://localhost:8080/"
        }
      },
      "outputs": [
        {
          "output_type": "stream",
          "name": "stdout",
          "text": [
            "10.00%\n",
            "90.00%\n"
          ]
        }
      ],
      "source": [
        "#Sprawdzenie poprawności losowania\n",
        "val_1 = 100 * sum(y_test) / (size / 2)\n",
        "print(\"%.2f\" % val_1 + '%') \n",
        "\n",
        "\n",
        "val_2 = 100 * sum(y_train) / (size / 2)\n",
        "print(\"%.2f\" % val_2 + '%') \n",
        "\n",
        "\n"
      ]
    },
    {
      "cell_type": "code",
      "execution_count": 13,
      "id": "f7f4dd4b",
      "metadata": {
        "id": "f7f4dd4b"
      },
      "outputs": [],
      "source": [
        "x_train = np.array(x_train)\n",
        "x_test = np.array(x_test)\n",
        "\n",
        "y_train = np.array(y_train)\n",
        "y_test = np.array(y_test)"
      ]
    },
    {
      "cell_type": "code",
      "execution_count": 14,
      "id": "d3a370cb",
      "metadata": {
        "id": "d3a370cb",
        "outputId": "4ddadaf7-ce29-4aa8-e5f9-e4e0e13dcdec",
        "colab": {
          "base_uri": "https://localhost:8080/",
          "height": 340
        }
      },
      "outputs": [
        {
          "output_type": "stream",
          "name": "stdout",
          "text": [
            "[[0.    0.    0.404 ... 0.    0.    0.   ]\n",
            " [0.    0.    0.431 ... 0.027 0.    0.   ]\n",
            " [0.    0.    0.459 ... 0.439 0.435 0.412]\n",
            " ...\n",
            " [0.439 0.251 0.325 ... 0.373 0.024 0.   ]\n",
            " [0.    0.    0.    ... 0.357 0.    0.   ]\n",
            " [0.    0.    0.    ... 0.373 0.    0.   ]]\n"
          ]
        },
        {
          "output_type": "display_data",
          "data": {
            "text/plain": [
              "<Figure size 432x288 with 1 Axes>"
            ],
            "image/png": "[encoded data removed]"
          },
          "metadata": {
            "needs_background": "light"
          }
        }
      ],
      "source": [
        "plt.imshow(x_train[0],cmap = 'gray')\n",
        "print(x_train[0])"
      ]
    },
    {
      "cell_type": "code",
      "execution_count": 12,
      "id": "772c7d7c",
      "metadata": {
        "id": "772c7d7c"
      },
      "outputs": [],
      "source": [
        "model = models.Sequential()\n",
        "model.add(layers.Conv2D(32, (3, 3), activation='relu', input_shape=(64, 128, 1)))\n",
        "model.add(layers.MaxPooling2D((2, 2)))\n",
        "model.add(Dropout(0.1))\n",
        "\n",
        "model.add(layers.Conv2D(64, (3, 3), activation='relu'))\n",
        "model.add(layers.MaxPooling2D((2, 2)))\n",
        "model.add(Dropout(0.1))\n",
        "\n",
        "model.add(layers.Conv2D(64, (3, 3), activation='relu'))\n",
        "model.add(layers.MaxPooling2D((2, 2)))\n",
        "model.add(Dropout(0.1))\n",
        "\n",
        "model.add(layers.Flatten())\n",
        "model.add(layers.Dense(64, activation='relu'))\n",
        "model.add(layers.Dense(1, activation='relu'))\n"
      ]
    },
    {
      "cell_type": "code",
      "execution_count": 15,
      "id": "b86f72df",
      "metadata": {
        "id": "b86f72df",
        "outputId": "c3779407-d207-4119-e041-ea82eeb679a8",
        "colab": {
          "base_uri": "https://localhost:8080/"
        }
      },
      "outputs": [
        {
          "output_type": "stream",
          "name": "stdout",
          "text": [
            "Model: \"sequential\"\n",
            "_________________________________________________________________\n",
            " Layer (type)                Output Shape              Param #   \n",
            "=================================================================\n",
            " conv2d (Conv2D)             (None, 62, 126, 32)       320       \n",
            "                                                                 \n",
            " max_pooling2d (MaxPooling2D  (None, 31, 63, 32)       0         \n",
            " )                                                               \n",
            "                                                                 \n",
            " dropout (Dropout)           (None, 31, 63, 32)        0         \n",
            "                                                                 \n",
            " conv2d_1 (Conv2D)           (None, 29, 61, 64)        18496     \n",
            "                                                                 \n",
            " max_pooling2d_1 (MaxPooling  (None, 14, 30, 64)       0         \n",
            " 2D)                                                             \n",
            "                                                                 \n",
            " dropout_1 (Dropout)         (None, 14, 30, 64)        0         \n",
            "                                                                 \n",
            " conv2d_2 (Conv2D)           (None, 12, 28, 64)        36928     \n",
            "                                                                 \n",
            " max_pooling2d_2 (MaxPooling  (None, 6, 14, 64)        0         \n",
            " 2D)                                                             \n",
            "                                                                 \n",
            " dropout_2 (Dropout)         (None, 6, 14, 64)         0         \n",
            "                                                                 \n",
            " flatten (Flatten)           (None, 5376)              0         \n",
            "                                                                 \n",
            " dense (Dense)               (None, 64)                344128    \n",
            "                                                                 \n",
            " dense_1 (Dense)             (None, 1)                 65        \n",
            "                                                                 \n",
            "=================================================================\n",
            "Total params: 399,937\n",
            "Trainable params: 399,937\n",
            "Non-trainable params: 0\n",
            "_________________________________________________________________\n"
          ]
        }
      ],
      "source": [
        "model.summary()"
      ]
    },
    {
      "cell_type": "code",
      "execution_count": 16,
      "id": "9beb77e5",
      "metadata": {
        "id": "9beb77e5",
        "outputId": "d26ab174-5dea-4e6c-e62e-bcc208c07b9e",
        "colab": {
          "base_uri": "https://localhost:8080/"
        }
      },
      "outputs": [
        {
          "output_type": "stream",
          "name": "stdout",
          "text": [
            "Epoch 1/40\n",
            "80/80 [==============================] - 41s 446ms/step - loss: 0.2334 - accuracy: 0.6010 - mse: 0.2334 - val_loss: 0.1921 - val_accuracy: 0.6874 - val_mse: 0.1921\n",
            "Epoch 2/40\n",
            "80/80 [==============================] - 33s 416ms/step - loss: 0.1489 - accuracy: 0.7881 - mse: 0.1489 - val_loss: 0.0973 - val_accuracy: 0.8915 - val_mse: 0.0973\n",
            "Epoch 3/40\n",
            "80/80 [==============================] - 33s 414ms/step - loss: 0.0751 - accuracy: 0.9126 - mse: 0.0751 - val_loss: 0.0618 - val_accuracy: 0.9418 - val_mse: 0.0618\n",
            "Epoch 4/40\n",
            "80/80 [==============================] - 33s 414ms/step - loss: 0.0458 - accuracy: 0.9564 - mse: 0.0458 - val_loss: 0.0395 - val_accuracy: 0.9762 - val_mse: 0.0395\n",
            "Epoch 5/40\n",
            "80/80 [==============================] - 33s 413ms/step - loss: 0.0322 - accuracy: 0.9760 - mse: 0.0322 - val_loss: 0.0265 - val_accuracy: 0.9903 - val_mse: 0.0265\n",
            "Epoch 6/40\n",
            "80/80 [==============================] - 33s 413ms/step - loss: 0.0248 - accuracy: 0.9853 - mse: 0.0248 - val_loss: 0.0256 - val_accuracy: 0.9929 - val_mse: 0.0256\n",
            "Epoch 7/40\n",
            "80/80 [==============================] - 33s 412ms/step - loss: 0.0201 - accuracy: 0.9885 - mse: 0.0201 - val_loss: 0.0220 - val_accuracy: 0.9943 - val_mse: 0.0220\n",
            "Epoch 8/40\n",
            "80/80 [==============================] - 33s 412ms/step - loss: 0.0163 - accuracy: 0.9924 - mse: 0.0163 - val_loss: 0.0186 - val_accuracy: 0.9965 - val_mse: 0.0186\n",
            "Epoch 9/40\n",
            "80/80 [==============================] - 33s 412ms/step - loss: 0.0139 - accuracy: 0.9943 - mse: 0.0139 - val_loss: 0.0190 - val_accuracy: 0.9965 - val_mse: 0.0190\n",
            "Epoch 10/40\n",
            "80/80 [==============================] - 33s 412ms/step - loss: 0.0111 - accuracy: 0.9963 - mse: 0.0111 - val_loss: 0.0159 - val_accuracy: 0.9987 - val_mse: 0.0159\n",
            "Epoch 11/40\n",
            "80/80 [==============================] - 33s 412ms/step - loss: 0.0095 - accuracy: 0.9971 - mse: 0.0095 - val_loss: 0.0136 - val_accuracy: 0.9987 - val_mse: 0.0136\n",
            "Epoch 12/40\n",
            "80/80 [==============================] - 33s 412ms/step - loss: 0.0082 - accuracy: 0.9979 - mse: 0.0082 - val_loss: 0.0113 - val_accuracy: 0.9982 - val_mse: 0.0113\n",
            "Epoch 13/40\n",
            "80/80 [==============================] - 33s 412ms/step - loss: 0.0066 - accuracy: 0.9982 - mse: 0.0066 - val_loss: 0.0113 - val_accuracy: 0.9991 - val_mse: 0.0113\n",
            "Epoch 14/40\n",
            "80/80 [==============================] - 33s 412ms/step - loss: 0.0056 - accuracy: 0.9990 - mse: 0.0056 - val_loss: 0.0091 - val_accuracy: 0.9996 - val_mse: 0.0091\n",
            "Epoch 15/40\n",
            "80/80 [==============================] - 33s 412ms/step - loss: 0.0048 - accuracy: 0.9991 - mse: 0.0048 - val_loss: 0.0117 - val_accuracy: 0.9996 - val_mse: 0.0117\n",
            "Epoch 16/40\n",
            "80/80 [==============================] - 33s 411ms/step - loss: 0.0045 - accuracy: 0.9992 - mse: 0.0045 - val_loss: 0.0083 - val_accuracy: 0.9996 - val_mse: 0.0083\n",
            "Epoch 17/40\n",
            "80/80 [==============================] - 33s 412ms/step - loss: 0.0036 - accuracy: 0.9996 - mse: 0.0036 - val_loss: 0.0069 - val_accuracy: 0.9996 - val_mse: 0.0069\n",
            "Epoch 18/40\n",
            "80/80 [==============================] - 33s 412ms/step - loss: 0.0030 - accuracy: 0.9995 - mse: 0.0030 - val_loss: 0.0062 - val_accuracy: 1.0000 - val_mse: 0.0062\n",
            "Epoch 19/40\n",
            "80/80 [==============================] - 33s 411ms/step - loss: 0.0026 - accuracy: 0.9998 - mse: 0.0026 - val_loss: 0.0053 - val_accuracy: 0.9996 - val_mse: 0.0053\n",
            "Epoch 20/40\n",
            "80/80 [==============================] - 33s 411ms/step - loss: 0.0023 - accuracy: 0.9999 - mse: 0.0023 - val_loss: 0.0058 - val_accuracy: 0.9996 - val_mse: 0.0058\n",
            "Epoch 21/40\n",
            "80/80 [==============================] - 33s 412ms/step - loss: 0.0022 - accuracy: 0.9995 - mse: 0.0022 - val_loss: 0.0053 - val_accuracy: 1.0000 - val_mse: 0.0053\n",
            "Epoch 22/40\n",
            "80/80 [==============================] - 33s 411ms/step - loss: 0.0018 - accuracy: 0.9997 - mse: 0.0018 - val_loss: 0.0052 - val_accuracy: 1.0000 - val_mse: 0.0052\n",
            "Epoch 23/40\n",
            "80/80 [==============================] - 33s 411ms/step - loss: 0.0015 - accuracy: 0.9999 - mse: 0.0015 - val_loss: 0.0033 - val_accuracy: 1.0000 - val_mse: 0.0033\n",
            "Epoch 24/40\n",
            "80/80 [==============================] - 33s 411ms/step - loss: 0.0015 - accuracy: 0.9999 - mse: 0.0015 - val_loss: 0.0032 - val_accuracy: 1.0000 - val_mse: 0.0032\n",
            "Epoch 25/40\n",
            "80/80 [==============================] - 33s 412ms/step - loss: 0.0014 - accuracy: 0.9999 - mse: 0.0014 - val_loss: 0.0034 - val_accuracy: 1.0000 - val_mse: 0.0034\n",
            "Epoch 26/40\n",
            "80/80 [==============================] - 33s 412ms/step - loss: 0.0012 - accuracy: 0.9998 - mse: 0.0012 - val_loss: 0.0037 - val_accuracy: 1.0000 - val_mse: 0.0037\n",
            "Epoch 27/40\n",
            "80/80 [==============================] - 33s 411ms/step - loss: 0.0012 - accuracy: 0.9999 - mse: 0.0012 - val_loss: 0.0039 - val_accuracy: 1.0000 - val_mse: 0.0039\n",
            "Epoch 28/40\n",
            "80/80 [==============================] - 33s 411ms/step - loss: 9.8800e-04 - accuracy: 0.9999 - mse: 9.8800e-04 - val_loss: 0.0049 - val_accuracy: 0.9996 - val_mse: 0.0049\n",
            "Epoch 29/40\n",
            "80/80 [==============================] - 33s 411ms/step - loss: 9.6148e-04 - accuracy: 0.9999 - mse: 9.6148e-04 - val_loss: 0.0046 - val_accuracy: 0.9996 - val_mse: 0.0046\n",
            "Epoch 29: early stopping\n"
          ]
        }
      ],
      "source": [
        "model.compile(optimizer='adam',\n",
        "              loss='mse',\n",
        "              metrics=['accuracy','mse'])\n",
        "\n",
        "#Funcka umożliwia zatrzymanie się uczenia \n",
        "#gdy wartość strat przstanie maleć\n",
        "EarlyStop = EarlyStopping(monitor='val_loss',  \n",
        "                          verbose=1, \n",
        "                          patience=5)\n",
        "\n",
        "\n",
        "#ModelCheck = ModelCheckpoint(filepath='Zlaczone.h5',\n",
        "#                             monitor='var_loss',\n",
        "#                             save_best_only=True)\n",
        "\n",
        "\n",
        "history = model.fit(x=x_train, \n",
        "                    y=y_train, \n",
        "                    epochs=40,\n",
        "                    batch_size=256,\n",
        "                    validation_split=0.1,\n",
        "                    callbacks = [EarlyStop]\n",
        "                   )"
      ]
    },
    {
      "cell_type": "code",
      "execution_count": 17,
      "id": "fe8633db",
      "metadata": {
        "id": "fe8633db",
        "outputId": "c0ca5c5d-e526-442e-ad83-b9214ad757fc",
        "colab": {
          "base_uri": "https://localhost:8080/",
          "height": 300
        }
      },
      "outputs": [
        {
          "output_type": "execute_result",
          "data": {
            "text/plain": [
              "<matplotlib.legend.Legend at 0x7f288023c1c0>"
            ]
          },
          "metadata": {},
          "execution_count": 17
        },
        {
          "output_type": "display_data",
          "data": {
            "text/plain": [
              "<Figure size 432x288 with 1 Axes>"
            ],
            "image/png": "[encoded data removed]"
          },
          "metadata": {
            "needs_background": "light"
          }
        }
      ],
      "source": [
        "plt.plot(history.history['loss'], label='strata')\n",
        "plt.plot(history.history['val_loss'], label = 'strata walidacyjna')\n",
        "plt.xlabel('Epoka')\n",
        "plt.ylabel('Strata')\n",
        "plt.ylim([0.0, 0.5])\n",
        "plt.legend(loc='upper right')"
      ]
    },
    {
      "cell_type": "code",
      "execution_count": 18,
      "id": "8b976089",
      "metadata": {
        "scrolled": true,
        "id": "8b976089",
        "outputId": "e53b866f-e6fb-4eef-fe9d-2a98879d404e",
        "colab": {
          "base_uri": "https://localhost:8080/",
          "height": 300
        }
      },
      "outputs": [
        {
          "output_type": "execute_result",
          "data": {
            "text/plain": [
              "<matplotlib.legend.Legend at 0x7f28801fa2e0>"
            ]
          },
          "metadata": {},
          "execution_count": 18
        },
        {
          "output_type": "display_data",
          "data": {
            "text/plain": [
              "<Figure size 432x288 with 1 Axes>"
            ],
            "image/png": "[encoded data removed]"
          },
          "metadata": {
            "needs_background": "light"
          }
        }
      ],
      "source": [
        "plt.plot(history.history['accuracy'], label='precyzja')\n",
        "plt.plot(history.history['val_accuracy'], label = 'precyzja walidacyjna')\n",
        "plt.xlabel('Epoka')\n",
        "plt.ylabel('Precyzja')\n",
        "plt.ylim([0.5, 1])\n",
        "plt.legend(loc='lower right')"
      ]
    },
    {
      "cell_type": "code",
      "execution_count": 19,
      "id": "685a286c",
      "metadata": {
        "id": "685a286c",
        "outputId": "1668b9b5-6494-4b30-f445-f05b6ae2bd3f",
        "colab": {
          "base_uri": "https://localhost:8080/"
        }
      },
      "outputs": [
        {
          "output_type": "stream",
          "name": "stdout",
          "text": [
            "79/79 - 2s - loss: 0.0050 - accuracy: 0.9996 - mse: 0.0050 - 2s/epoch - 23ms/step\n"
          ]
        },
        {
          "output_type": "execute_result",
          "data": {
            "text/plain": [
              "[0.004960293337685816, 0.9996031746031746, 0.004960293337685816]"
            ]
          },
          "metadata": {},
          "execution_count": 19
        }
      ],
      "source": [
        "model.evaluate(x_test,  y_test, verbose=2)"
      ]
    },
    {
      "cell_type": "code",
      "execution_count": 20,
      "id": "ee941c13",
      "metadata": {
        "id": "ee941c13",
        "colab": {
          "base_uri": "https://localhost:8080/"
        },
        "outputId": "992e2282-6c8a-47f5-b6cc-30b336ad447d"
      },
      "outputs": [
        {
          "output_type": "stream",
          "name": "stdout",
          "text": [
            "79/79 [==============================] - 2s 20ms/step\n"
          ]
        }
      ],
      "source": [
        "predict_x = model.predict(x_test) \n",
        "\n",
        "predictions = (predict_x > 0.5).astype(\"int32\")"
      ]
    },
    {
      "cell_type": "code",
      "execution_count": 21,
      "id": "d8fb12f1",
      "metadata": {
        "id": "d8fb12f1",
        "outputId": "7b82648c-0a41-4d06-a11c-ec3f57d9b8ae",
        "colab": {
          "base_uri": "https://localhost:8080/"
        }
      },
      "outputs": [
        {
          "output_type": "stream",
          "name": "stdout",
          "text": [
            "[['Tn' 'Nn']\n",
            " ['Np' 'Tp']]\n"
          ]
        },
        {
          "output_type": "execute_result",
          "data": {
            "text/plain": [
              "<tf.Tensor: shape=(2, 2), dtype=int32, numpy=\n",
              "array([[1259,    1],\n",
              "       [   0, 1260]], dtype=int32)>"
            ]
          },
          "metadata": {},
          "execution_count": 21
        }
      ],
      "source": [
        "names = [['Tn','Nn'],['Np', 'Tp']]\n",
        "names = np.reshape(names,(2,2))\n",
        "print(names)\n",
        "\n",
        "tf.math.confusion_matrix(y_test,predictions)"
      ]
    },
    {
      "cell_type": "code",
      "execution_count": null,
      "id": "391d9616",
      "metadata": {
        "id": "391d9616"
      },
      "outputs": [],
      "source": [
        "#Wczytanie zdjęć aktorów"
      ]
    },
    {
      "cell_type": "code",
      "execution_count": null,
      "id": "53be553c",
      "metadata": {
        "id": "53be553c",
        "outputId": "2260b943-f1d3-41c5-8a7e-117874acc9ff"
      },
      "outputs": [
        {
          "name": "stdout",
          "output_type": "stream",
          "text": [
            "2837\n"
          ]
        }
      ],
      "source": [
        "with open(folder_aktorzy+nazwa_aktorzy_CSV,\"r\") as csvfile:\n",
        "    lines = csvfile.readlines()\n",
        "csvfile.close()\n",
        "\n",
        "\n",
        "tmp = []\n",
        "act_label = []\n",
        "\n",
        "for i in lines:\n",
        "    tmp.append(i.split(\" \"))\n",
        "\n",
        "    \n",
        "act_label = []\n",
        "for i in tmp[0]:\n",
        "    act_label.append(int(i))    \n",
        "    \n",
        "print(len(act_label))"
      ]
    },
    {
      "cell_type": "code",
      "execution_count": null,
      "id": "62ceaefe",
      "metadata": {
        "id": "62ceaefe",
        "outputId": "f7b83bc7-74c8-4bcb-b987-c5b080cb359a"
      },
      "outputs": [
        {
          "name": "stdout",
          "output_type": "stream",
          "text": [
            "2837\n"
          ]
        }
      ],
      "source": [
        "#Wczytanie zdjęć aktorów do tablicy\n",
        "\n",
        "act = []\n",
        "size = len(act_label)\n",
        "\n",
        "for i in range(size):\n",
        "    im = Image.open(folder_aktorzy+str(i)+png)\n",
        "    arr_im = np.array(im) \n",
        "    arr_im = arr_im / 255.0\n",
        "    act.append(arr_im) \n",
        "print(len(act))"
      ]
    },
    {
      "cell_type": "code",
      "execution_count": null,
      "id": "d8cd5537",
      "metadata": {
        "id": "d8cd5537",
        "outputId": "a51de0ee-a9b3-42ed-92ae-08ee29b7d9ba"
      },
      "outputs": [
        {
          "name": "stdout",
          "output_type": "stream",
          "text": [
            "[[0.984 0.984 0.984 ... 0.192 0.196 0.196]\n",
            " [0.984 0.984 0.98  ... 0.2   0.192 0.192]\n",
            " [0.984 0.98  0.976 ... 0.204 0.196 0.192]\n",
            " ...\n",
            " [0.98  0.98  0.98  ... 0.298 0.294 0.29 ]\n",
            " [0.98  0.98  0.98  ... 0.294 0.298 0.302]\n",
            " [0.98  0.98  0.98  ... 0.298 0.31  0.302]]\n"
          ]
        },
        {
          "data": {
            "image/png": "[encoded data removed]",
            "text/plain": [
              "<Figure size 640x480 with 1 Axes>"
            ]
          },
          "metadata": {},
          "output_type": "display_data"
        }
      ],
      "source": [
        "plt.imshow(act[0],cmap = 'gray')\n",
        "print(act[0])"
      ]
    },
    {
      "cell_type": "code",
      "execution_count": null,
      "id": "6c4a9ea9",
      "metadata": {
        "id": "6c4a9ea9"
      },
      "outputs": [],
      "source": [
        "act= np.array(act)"
      ]
    },
    {
      "cell_type": "code",
      "execution_count": null,
      "id": "304612c1",
      "metadata": {
        "id": "304612c1",
        "outputId": "b1bb61a9-9e0d-44d0-f6c3-3d5655d057b4"
      },
      "outputs": [
        {
          "name": "stderr",
          "output_type": "stream",
          "text": [
            "2022-12-01 19:20:18.082980: W tensorflow/core/common_runtime/bfc_allocator.cc:462] Allocator (mklcpu) ran out of memory trying to allocate 5.28GiB (rounded to 5673636864)requested by op Conv2D\n",
            "If the cause is memory fragmentation maybe the environment variable 'TF_GPU_ALLOCATOR=cuda_malloc_async' will improve the situation. \n",
            "Current allocation summary follows.\n",
            "Current allocation summary follows.\n",
            "2022-12-01 19:20:18.083059: I tensorflow/core/common_runtime/bfc_allocator.cc:1010] BFCAllocator dump for mklcpu\n",
            "2022-12-01 19:20:18.083070: I tensorflow/core/common_runtime/bfc_allocator.cc:1017] Bin (256): \tTotal Chunks: 0, Chunks in use: 0. 0B allocated for chunks. 0B in use in bin. 0B client-requested in use in bin.\n",
            "2022-12-01 19:20:18.083075: I tensorflow/core/common_runtime/bfc_allocator.cc:1017] Bin (512): \tTotal Chunks: 0, Chunks in use: 0. 0B allocated for chunks. 0B in use in bin. 0B client-requested in use in bin.\n",
            "2022-12-01 19:20:18.083079: I tensorflow/core/common_runtime/bfc_allocator.cc:1017] Bin (1024): \tTotal Chunks: 0, Chunks in use: 0. 0B allocated for chunks. 0B in use in bin. 0B client-requested in use in bin.\n",
            "2022-12-01 19:20:18.083083: I tensorflow/core/common_runtime/bfc_allocator.cc:1017] Bin (2048): \tTotal Chunks: 0, Chunks in use: 0. 0B allocated for chunks. 0B in use in bin. 0B client-requested in use in bin.\n",
            "2022-12-01 19:20:18.083091: I tensorflow/core/common_runtime/bfc_allocator.cc:1017] Bin (4096): \tTotal Chunks: 4, Chunks in use: 3. 20.8KiB allocated for chunks. 15.0KiB in use in bin. 15.0KiB client-requested in use in bin.\n",
            "2022-12-01 19:20:18.083096: I tensorflow/core/common_runtime/bfc_allocator.cc:1017] Bin (8192): \tTotal Chunks: 0, Chunks in use: 0. 0B allocated for chunks. 0B in use in bin. 0B client-requested in use in bin.\n",
            "2022-12-01 19:20:18.083100: I tensorflow/core/common_runtime/bfc_allocator.cc:1017] Bin (16384): \tTotal Chunks: 0, Chunks in use: 0. 0B allocated for chunks. 0B in use in bin. 0B client-requested in use in bin.\n",
            "2022-12-01 19:20:18.083105: I tensorflow/core/common_runtime/bfc_allocator.cc:1017] Bin (32768): \tTotal Chunks: 2, Chunks in use: 1. 101.2KiB allocated for chunks. 56.2KiB in use in bin. 56.2KiB client-requested in use in bin.\n",
            "2022-12-01 19:20:18.083110: I tensorflow/core/common_runtime/bfc_allocator.cc:1017] Bin (65536): \tTotal Chunks: 1, Chunks in use: 0. 82.0KiB allocated for chunks. 0B in use in bin. 0B client-requested in use in bin.\n",
            "2022-12-01 19:20:18.083114: I tensorflow/core/common_runtime/bfc_allocator.cc:1017] Bin (131072): \tTotal Chunks: 3, Chunks in use: 3. 516.0KiB allocated for chunks. 516.0KiB in use in bin. 432.0KiB client-requested in use in bin.\n",
            "2022-12-01 19:20:18.083119: I tensorflow/core/common_runtime/bfc_allocator.cc:1017] Bin (262144): \tTotal Chunks: 5, Chunks in use: 3. 1.58MiB allocated for chunks. 864.0KiB in use in bin. 864.0KiB client-requested in use in bin.\n",
            "2022-12-01 19:20:18.083123: I tensorflow/core/common_runtime/bfc_allocator.cc:1017] Bin (524288): \tTotal Chunks: 0, Chunks in use: 0. 0B allocated for chunks. 0B in use in bin. 0B client-requested in use in bin.\n",
            "2022-12-01 19:20:18.083127: I tensorflow/core/common_runtime/bfc_allocator.cc:1017] Bin (1048576): \tTotal Chunks: 0, Chunks in use: 0. 0B allocated for chunks. 0B in use in bin. 0B client-requested in use in bin.\n",
            "2022-12-01 19:20:18.083130: I tensorflow/core/common_runtime/bfc_allocator.cc:1017] Bin (2097152): \tTotal Chunks: 0, Chunks in use: 0. 0B allocated for chunks. 0B in use in bin. 0B client-requested in use in bin.\n",
            "2022-12-01 19:20:18.083134: I tensorflow/core/common_runtime/bfc_allocator.cc:1017] Bin (4194304): \tTotal Chunks: 1, Chunks in use: 0. 5.44MiB allocated for chunks. 0B in use in bin. 0B client-requested in use in bin.\n",
            "2022-12-01 19:20:18.083139: I tensorflow/core/common_runtime/bfc_allocator.cc:1017] Bin (8388608): \tTotal Chunks: 1, Chunks in use: 1. 10.50MiB allocated for chunks. 10.50MiB in use in bin. 10.50MiB client-requested in use in bin.\n",
            "2022-12-01 19:20:18.083144: I tensorflow/core/common_runtime/bfc_allocator.cc:1017] Bin (16777216): \tTotal Chunks: 4, Chunks in use: 2. 85.05MiB allocated for chunks. 32.00MiB in use in bin. 21.00MiB client-requested in use in bin.\n",
            "2022-12-01 19:20:18.083149: I tensorflow/core/common_runtime/bfc_allocator.cc:1017] Bin (33554432): \tTotal Chunks: 0, Chunks in use: 0. 0B allocated for chunks. 0B in use in bin. 0B client-requested in use in bin.\n",
            "2022-12-01 19:20:18.083153: I tensorflow/core/common_runtime/bfc_allocator.cc:1017] Bin (67108864): \tTotal Chunks: 0, Chunks in use: 0. 0B allocated for chunks. 0B in use in bin. 0B client-requested in use in bin.\n",
            "2022-12-01 19:20:18.083158: I tensorflow/core/common_runtime/bfc_allocator.cc:1017] Bin (134217728): \tTotal Chunks: 1, Chunks in use: 1. 218.73MiB allocated for chunks. 218.73MiB in use in bin. 177.31MiB client-requested in use in bin.\n",
            "2022-12-01 19:20:18.083162: I tensorflow/core/common_runtime/bfc_allocator.cc:1017] Bin (268435456): \tTotal Chunks: 4, Chunks in use: 0. 4.75GiB allocated for chunks. 0B in use in bin. 0B client-requested in use in bin.\n",
            "2022-12-01 19:20:18.083167: I tensorflow/core/common_runtime/bfc_allocator.cc:1033] Bin for 5.28GiB was 256.00MiB, Chunk State: \n",
            "2022-12-01 19:20:18.083174: I tensorflow/core/common_runtime/bfc_allocator.cc:1039]   Size: 256.00MiB | Requested Size: 180.00MiB | in_use: 0 | bin_num: 20\n",
            "2022-12-01 19:20:18.083179: I tensorflow/core/common_runtime/bfc_allocator.cc:1039]   Size: 512.00MiB | Requested Size: 147.66MiB | in_use: 0 | bin_num: 20\n",
            "2022-12-01 19:20:18.083184: I tensorflow/core/common_runtime/bfc_allocator.cc:1039]   Size: 2.00GiB | Requested Size: 621.91MiB | in_use: 0 | bin_num: 20\n",
            "2022-12-01 19:20:18.083188: I tensorflow/core/common_runtime/bfc_allocator.cc:1039]   Size: 2.00GiB | Requested Size: 1.34GiB | in_use: 0 | bin_num: 20\n",
            "2022-12-01 19:20:18.083191: I tensorflow/core/common_runtime/bfc_allocator.cc:1046] Next region of size 33554432\n",
            "2022-12-01 19:20:18.083196: I tensorflow/core/common_runtime/bfc_allocator.cc:1066] Free  at 559188a99400 of size 27557888 next 52\n",
            "2022-12-01 19:20:18.083200: I tensorflow/core/common_runtime/bfc_allocator.cc:1066] InUse at 55918a4e1400 of size 294912 next 50\n",
            "2022-12-01 19:20:18.083203: I tensorflow/core/common_runtime/bfc_allocator.cc:1066] Free  at 55918a529400 of size 5701632 next 18446744073709551615\n",
            "2022-12-01 19:20:18.083207: I tensorflow/core/common_runtime/bfc_allocator.cc:1046] Next region of size 16777216\n",
            "2022-12-01 19:20:18.083211: I tensorflow/core/common_runtime/bfc_allocator.cc:1066] InUse at 55918be678c0 of size 16777216 next 18446744073709551615\n",
            "2022-12-01 19:20:18.083214: I tensorflow/core/common_runtime/bfc_allocator.cc:1046] Next region of size 2097152\n",
            "2022-12-01 19:20:18.083218: I tensorflow/core/common_runtime/bfc_allocator.cc:1066] InUse at 55918d228580 of size 5120 next 14\n",
            "2022-12-01 19:20:18.083223: I tensorflow/core/common_runtime/bfc_allocator.cc:1066] InUse at 55918d229980 of size 5120 next 10\n",
            "2022-12-01 19:20:18.083227: I tensorflow/core/common_runtime/bfc_allocator.cc:1066] InUse at 55918d22ad80 of size 5120 next 11\n",
            "2022-12-01 19:20:18.083230: I tensorflow/core/common_runtime/bfc_allocator.cc:1066] Free  at 55918d22c180 of size 46080 next 13\n",
            "2022-12-01 19:20:18.083233: I tensorflow/core/common_runtime/bfc_allocator.cc:1066] InUse at 55918d237580 of size 233472 next 2\n",
            "2022-12-01 19:20:18.083237: I tensorflow/core/common_runtime/bfc_allocator.cc:1066] Free  at 55918d270580 of size 5888 next 20\n",
            "2022-12-01 19:20:18.083240: I tensorflow/core/common_runtime/bfc_allocator.cc:1066] InUse at 55918d271c80 of size 57600 next 38\n",
            "2022-12-01 19:20:18.083243: I tensorflow/core/common_runtime/bfc_allocator.cc:1066] Free  at 55918d27fd80 of size 83968 next 3\n",
            "2022-12-01 19:20:18.083271: I tensorflow/core/common_runtime/bfc_allocator.cc:1066] InUse at 55918d294580 of size 294912 next 1\n",
            "2022-12-01 19:20:18.083275: I tensorflow/core/common_runtime/bfc_allocator.cc:1066] Free  at 55918d2dc580 of size 294912 next 4\n",
            "2022-12-01 19:20:18.083279: I tensorflow/core/common_runtime/bfc_allocator.cc:1066] InUse at 55918d324580 of size 147456 next 15\n",
            "2022-12-01 19:20:18.083292: I tensorflow/core/common_runtime/bfc_allocator.cc:1066] InUse at 55918d348580 of size 294912 next 16\n",
            "2022-12-01 19:20:18.083296: I tensorflow/core/common_runtime/bfc_allocator.cc:1066] InUse at 55918d390580 of size 147456 next 46\n",
            "2022-12-01 19:20:18.083300: I tensorflow/core/common_runtime/bfc_allocator.cc:1066] Free  at 55918d3b4580 of size 475136 next 18446744073709551615\n",
            "2022-12-01 19:20:18.083304: I tensorflow/core/common_runtime/bfc_allocator.cc:1046] Next region of size 16777216\n",
            "2022-12-01 19:20:18.083309: I tensorflow/core/common_runtime/bfc_allocator.cc:1066] InUse at 55918def4400 of size 16777216 next 18446744073709551615\n",
            "2022-12-01 19:20:18.083313: I tensorflow/core/common_runtime/bfc_allocator.cc:1046] Next region of size 2147483648\n",
            "2022-12-01 19:20:18.083318: I tensorflow/core/common_runtime/bfc_allocator.cc:1066] Free  at 7fa767ffd040 of size 2147483648 next 18446744073709551615\n",
            "2022-12-01 19:20:18.083322: I tensorflow/core/common_runtime/bfc_allocator.cc:1046] Next region of size 2147483648\n",
            "2022-12-01 19:20:18.083326: I tensorflow/core/common_runtime/bfc_allocator.cc:1066] Free  at 7fa7ebfff040 of size 2147483648 next 18446744073709551615\n",
            "2022-12-01 19:20:18.083330: I tensorflow/core/common_runtime/bfc_allocator.cc:1046] Next region of size 536870912\n",
            "2022-12-01 19:20:18.083334: I tensorflow/core/common_runtime/bfc_allocator.cc:1066] Free  at 7fa8b3ffe040 of size 536870912 next 18446744073709551615\n",
            "2022-12-01 19:20:18.083339: I tensorflow/core/common_runtime/bfc_allocator.cc:1046] Next region of size 268435456\n",
            "2022-12-01 19:20:18.083343: I tensorflow/core/common_runtime/bfc_allocator.cc:1066] InUse at 7fa8d3fff040 of size 229359616 next 27\n",
            "2022-12-01 19:20:18.083347: I tensorflow/core/common_runtime/bfc_allocator.cc:1066] InUse at 7fa8e1abb040 of size 11010048 next 31\n",
            "2022-12-01 19:20:18.083350: I tensorflow/core/common_runtime/bfc_allocator.cc:1066] Free  at 7fa8e253b040 of size 28065792 next 18446744073709551615\n",
            "2022-12-01 19:20:18.083354: I tensorflow/core/common_runtime/bfc_allocator.cc:1046] Next region of size 268435456\n",
            "2022-12-01 19:20:18.083371: I tensorflow/core/common_runtime/bfc_allocator.cc:1066] Free  at 7fa927fff040 of size 268435456 next 18446744073709551615\n",
            "2022-12-01 19:20:18.083434: I tensorflow/core/common_runtime/bfc_allocator.cc:1071]      Summary of in-use Chunks by size: \n",
            "2022-12-01 19:20:18.083459: I tensorflow/core/common_runtime/bfc_allocator.cc:1074] 3 Chunks of size 5120 totalling 15.0KiB\n",
            "2022-12-01 19:20:18.083472: I tensorflow/core/common_runtime/bfc_allocator.cc:1074] 1 Chunks of size 57600 totalling 56.2KiB\n",
            "2022-12-01 19:20:18.083496: I tensorflow/core/common_runtime/bfc_allocator.cc:1074] 2 Chunks of size 147456 totalling 288.0KiB\n",
            "2022-12-01 19:20:18.083501: I tensorflow/core/common_runtime/bfc_allocator.cc:1074] 1 Chunks of size 233472 totalling 228.0KiB\n",
            "2022-12-01 19:20:18.083527: I tensorflow/core/common_runtime/bfc_allocator.cc:1074] 3 Chunks of size 294912 totalling 864.0KiB\n",
            "2022-12-01 19:20:18.083547: I tensorflow/core/common_runtime/bfc_allocator.cc:1074] 1 Chunks of size 11010048 totalling 10.50MiB\n",
            "2022-12-01 19:20:18.083553: I tensorflow/core/common_runtime/bfc_allocator.cc:1074] 2 Chunks of size 16777216 totalling 32.00MiB\n",
            "2022-12-01 19:20:18.083573: I tensorflow/core/common_runtime/bfc_allocator.cc:1074] 1 Chunks of size 229359616 totalling 218.73MiB\n",
            "2022-12-01 19:20:18.083579: I tensorflow/core/common_runtime/bfc_allocator.cc:1078] Sum Total of in-use chunks: 262.65MiB\n",
            "2022-12-01 19:20:18.083603: I tensorflow/core/common_runtime/bfc_allocator.cc:1080] total_region_allocated_bytes_: 5437915136 memory_limit_: 6574743552 available bytes: 1136828416 curr_region_allocation_bytes_: 4294967296\n",
            "2022-12-01 19:20:18.083615: I tensorflow/core/common_runtime/bfc_allocator.cc:1086] Stats: \n",
            "Limit:                      6574743552\n",
            "InUse:                       275410176\n",
            "MaxInUse:                   3400248064\n",
            "NumAllocs:                       46290\n",
            "MaxAllocSize:               1439907840\n",
            "Reserved:                            0\n",
            "PeakReserved:                        0\n",
            "LargestFreeBlock:                    0\n",
            "\n",
            "2022-12-01 19:20:18.083647: W tensorflow/core/common_runtime/bfc_allocator.cc:474] **________________________________________________________________________________________*****_____\n",
            "2022-12-01 19:20:18.083738: W tensorflow/core/framework/op_kernel.cc:1745] OP_REQUIRES failed at conv_ops.cc:684 : RESOURCE_EXHAUSTED: OOM when allocating tensor with shape[2837,62,126,32] and type double on /job:localhost/replica:0/task:0/device:CPU:0 by allocator mklcpu\n"
          ]
        },
        {
          "ename": "ResourceExhaustedError",
          "evalue": "Exception encountered when calling layer \"conv2d\" (type Conv2D).\n\nOOM when allocating tensor with shape[2837,62,126,32] and type double on /job:localhost/replica:0/task:0/device:CPU:0 by allocator mklcpu [Op:Conv2D]\n\nCall arguments received:\n  • inputs=tf.Tensor(shape=(2837, 64, 128, 1), dtype=float64)",
          "output_type": "error",
          "traceback": [
            "\u001b[0;31m---------------------------------------------------------------------------\u001b[0m",
            "\u001b[0;31mResourceExhaustedError\u001b[0m                    Traceback (most recent call last)",
            "Input \u001b[0;32mIn [32]\u001b[0m, in \u001b[0;36m<cell line: 2>\u001b[0;34m()\u001b[0m\n\u001b[1;32m      1\u001b[0m \u001b[38;5;66;03m#Testowanie sieci z wykorzystaniem zdjęć aktorów \u001b[39;00m\n\u001b[0;32m----> 2\u001b[0m act_prob \u001b[38;5;241m=\u001b[39m \u001b[43mprobability_model\u001b[49m\u001b[43m(\u001b[49m\u001b[43mact\u001b[49m\u001b[43m)\u001b[49m\n",
            "File \u001b[0;32m~/anaconda3/envs/py39/lib/python3.9/site-packages/keras/utils/traceback_utils.py:67\u001b[0m, in \u001b[0;36mfilter_traceback.<locals>.error_handler\u001b[0;34m(*args, **kwargs)\u001b[0m\n\u001b[1;32m     65\u001b[0m \u001b[38;5;28;01mexcept\u001b[39;00m \u001b[38;5;167;01mException\u001b[39;00m \u001b[38;5;28;01mas\u001b[39;00m e:  \u001b[38;5;66;03m# pylint: disable=broad-except\u001b[39;00m\n\u001b[1;32m     66\u001b[0m   filtered_tb \u001b[38;5;241m=\u001b[39m _process_traceback_frames(e\u001b[38;5;241m.\u001b[39m__traceback__)\n\u001b[0;32m---> 67\u001b[0m   \u001b[38;5;28;01mraise\u001b[39;00m e\u001b[38;5;241m.\u001b[39mwith_traceback(filtered_tb) \u001b[38;5;28;01mfrom\u001b[39;00m \u001b[38;5;28mNone\u001b[39m\n\u001b[1;32m     68\u001b[0m \u001b[38;5;28;01mfinally\u001b[39;00m:\n\u001b[1;32m     69\u001b[0m   \u001b[38;5;28;01mdel\u001b[39;00m filtered_tb\n",
            "File \u001b[0;32m~/anaconda3/envs/py39/lib/python3.9/site-packages/tensorflow/python/framework/ops.py:7186\u001b[0m, in \u001b[0;36mraise_from_not_ok_status\u001b[0;34m(e, name)\u001b[0m\n\u001b[1;32m   7184\u001b[0m \u001b[38;5;28;01mdef\u001b[39;00m \u001b[38;5;21mraise_from_not_ok_status\u001b[39m(e, name):\n\u001b[1;32m   7185\u001b[0m   e\u001b[38;5;241m.\u001b[39mmessage \u001b[38;5;241m+\u001b[39m\u001b[38;5;241m=\u001b[39m (\u001b[38;5;124m\"\u001b[39m\u001b[38;5;124m name: \u001b[39m\u001b[38;5;124m\"\u001b[39m \u001b[38;5;241m+\u001b[39m name \u001b[38;5;28;01mif\u001b[39;00m name \u001b[38;5;129;01mis\u001b[39;00m \u001b[38;5;129;01mnot\u001b[39;00m \u001b[38;5;28;01mNone\u001b[39;00m \u001b[38;5;28;01melse\u001b[39;00m \u001b[38;5;124m\"\u001b[39m\u001b[38;5;124m\"\u001b[39m)\n\u001b[0;32m-> 7186\u001b[0m   \u001b[38;5;28;01mraise\u001b[39;00m core\u001b[38;5;241m.\u001b[39m_status_to_exception(e) \u001b[38;5;28;01mfrom\u001b[39;00m \u001b[38;5;28mNone\u001b[39m\n",
            "\u001b[0;31mResourceExhaustedError\u001b[0m: Exception encountered when calling layer \"conv2d\" (type Conv2D).\n\nOOM when allocating tensor with shape[2837,62,126,32] and type double on /job:localhost/replica:0/task:0/device:CPU:0 by allocator mklcpu [Op:Conv2D]\n\nCall arguments received:\n  • inputs=tf.Tensor(shape=(2837, 64, 128, 1), dtype=float64)"
          ]
        }
      ],
      "source": [
        "#Testowanie sieci z wykorzystaniem zdjęć aktorów \n",
        "act_prob = probability_model(act)"
      ]
    },
    {
      "cell_type": "code",
      "execution_count": null,
      "id": "29f5ab15",
      "metadata": {
        "id": "29f5ab15"
      },
      "outputs": [],
      "source": []
    },
    {
      "cell_type": "code",
      "execution_count": null,
      "id": "992cfbdd",
      "metadata": {
        "id": "992cfbdd"
      },
      "outputs": [],
      "source": []
    },
    {
      "cell_type": "code",
      "execution_count": null,
      "id": "0e1aee07",
      "metadata": {
        "id": "0e1aee07"
      },
      "outputs": [],
      "source": [
        "model = models.Sequential()\n",
        "\n",
        "model.add(layers.Conv2D(32, (3, 3), activation='relu', input_shape=(64, 128, 1)))\n",
        "model.add(layers.MaxPooling2D((2, 2)))\n",
        "model.add(layers.BatchNormalization())\n",
        "\n",
        "model.add(layers.Conv2D(64, (3, 3), activation='relu'))\n",
        "model.add(layers.MaxPooling2D((2, 2)))\n",
        "model.add(layers.BatchNormalization())\n",
        "\n",
        "model.add(layers.Conv2D(64, (3, 3), activation='relu'))\n",
        "model.add(layers.MaxPooling2D((2, 2)))\n",
        "model.add(layers.BatchNormalization())\n",
        "\n",
        "model.add(layers.Flatten())\n",
        "model.add(layers.Dense(64, activation='relu'))\n",
        "model.add(layers.Dense(1))"
      ]
    }
  ],
  "metadata": {
    "kernelspec": {
      "display_name": "py39",
      "language": "python",
      "name": "py39"
    },
    "language_info": {
      "codemirror_mode": {
        "name": "ipython",
        "version": 3
      },
      "file_extension": ".py",
      "mimetype": "text/x-python",
      "name": "python",
      "nbconvert_exporter": "python",
      "pygments_lexer": "ipython3",
      "version": "3.9.12"
    },
    "colab": {
      "provenance": [],
      "include_colab_link": true
    },
    "accelerator": "GPU",
    "gpuClass": "standard"
  },
  "nbformat": 4,
  "nbformat_minor": 5
}