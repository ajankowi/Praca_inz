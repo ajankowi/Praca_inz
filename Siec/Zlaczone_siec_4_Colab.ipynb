{
  "cells": [
    {
      "cell_type": "markdown",
      "metadata": {
        "id": "view-in-github",
        "colab_type": "text"
      },
      "source": [
        "<a href=\"https://colab.research.google.com/github/ajankowi/Praca_inz/blob/master/Siec/Zlaczone_siec_4_Colab.ipynb\" target=\"_parent\"><img src=\"https://colab.research.google.com/assets/colab-badge.svg\" alt=\"Open In Colab\"/></a>"
      ]
    },
    {
      "cell_type": "code",
      "execution_count": 1,
      "id": "613f08b5",
      "metadata": {
        "id": "613f08b5",
        "outputId": "85dfdffa-651d-4856-d54f-d852fecfd9e3",
        "colab": {
          "base_uri": "https://localhost:8080/"
        }
      },
      "outputs": [
        {
          "output_type": "stream",
          "name": "stdout",
          "text": [
            "3.8.16 (default, Dec  7 2022, 01:12:13) \n",
            "[GCC 7.5.0]\n"
          ]
        }
      ],
      "source": [
        "import sys\n",
        "print(sys.version)"
      ]
    },
    {
      "cell_type": "code",
      "source": [
        "#from google.colab import drive\n",
        "#drive.mount(\"/content/drive\", force_remount=True)"
      ],
      "metadata": {
        "id": "iY1o7_NmVlGs"
      },
      "id": "iY1o7_NmVlGs",
      "execution_count": 2,
      "outputs": []
    },
    {
      "cell_type": "code",
      "execution_count": 3,
      "id": "5eca1117",
      "metadata": {
        "id": "5eca1117",
        "outputId": "2789de4a-ebef-4948-b477-490b1d4bf402",
        "colab": {
          "base_uri": "https://localhost:8080/"
        }
      },
      "outputs": [
        {
          "output_type": "stream",
          "name": "stdout",
          "text": [
            "TensorFlow version: 2.9.2\n"
          ]
        }
      ],
      "source": [
        "import tensorflow as tf\n",
        "from tensorflow import keras\n",
        "from keras import layers, models, regularizers\n",
        "from keras.layers import Flatten, add, Dense, Dropout \n",
        "from keras.callbacks import ModelCheckpoint, EarlyStopping\n",
        "\n",
        "\n",
        "print(\"TensorFlow version:\", tf.__version__)\n",
        "tf.keras.backend.set_floatx('float64')"
      ]
    },
    {
      "cell_type": "code",
      "execution_count": 4,
      "id": "12022d37",
      "metadata": {
        "id": "12022d37"
      },
      "outputs": [],
      "source": [
        "import matplotlib.pyplot as plt\n",
        "import numpy as np\n",
        "import pandas as pd\n",
        "import seaborn as sns\n",
        "from PIL import Image\n",
        "import os\n",
        "import csv\n",
        "import random\n",
        "\n",
        "import cv2\n",
        "import imutils\n",
        "import glob\n",
        "# Make NumPy printouts easier to read.\n",
        "np.set_printoptions(precision=3, suppress=True)"
      ]
    },
    {
      "cell_type": "code",
      "execution_count": 5,
      "id": "1086f893",
      "metadata": {
        "id": "1086f893"
      },
      "outputs": [],
      "source": [
        "#Określenie ścieżek do plików\n",
        "zip = '/content/drive/MyDrive/Sieci/Baza_zdjec_zlaczone_2/Baza_zdjec_zlaczone_2.zip'\n",
        "nazwa_CSV = 'nowe.csv'\n",
        "folder = '/content/drive/MyDrive/Sieci/Baza_zdjec_zlaczone_2/'\n",
        "slesh = '/'\n",
        "png = '.png'"
      ]
    },
    {
      "cell_type": "code",
      "source": [
        "#!unzip '/content/drive/MyDrive/Sieci/Baza_zdjec_zlaczone_2/Baza_zdjec_zlaczone_2.zip' -d '/content/zdjecia/'"
      ],
      "metadata": {
        "id": "FXtX4UDo9x77"
      },
      "id": "FXtX4UDo9x77",
      "execution_count": 6,
      "outputs": []
    },
    {
      "cell_type": "code",
      "execution_count": 7,
      "id": "d0329f31",
      "metadata": {
        "id": "d0329f31"
      },
      "outputs": [],
      "source": [
        "def release_list(a):\n",
        "    \n",
        "    del a[:]\n",
        "    del a"
      ]
    },
    {
      "cell_type": "code",
      "execution_count": 8,
      "id": "5beb89e7",
      "metadata": {
        "id": "5beb89e7",
        "outputId": "4ce90d9d-3485-4e0f-9da9-bc43f8f5f456",
        "colab": {
          "base_uri": "https://localhost:8080/"
        }
      },
      "outputs": [
        {
          "output_type": "stream",
          "name": "stdout",
          "text": [
            "25200\n"
          ]
        }
      ],
      "source": [
        "#Wczytanie pliku CSV do tablicy images\n",
        "\n",
        "with open(folder+nazwa_CSV,\"r\") as csvfile:\n",
        "    lines = csvfile.readlines()\n",
        "csvfile.close()\n",
        "\n",
        "new = []\n",
        "\n",
        "for i in lines:\n",
        "    new.append(i.split(\" \"))\n",
        "\n",
        "    \n",
        "value = []\n",
        "for i in new[0]:\n",
        "    value.append(int(i))    \n",
        "    \n",
        "print(len(value))"
      ]
    },
    {
      "cell_type": "code",
      "execution_count": 9,
      "id": "d9cb09d8",
      "metadata": {
        "id": "d9cb09d8",
        "outputId": "dabd2207-0d9a-46cc-b2ae-5a18be975164",
        "colab": {
          "base_uri": "https://localhost:8080/"
        }
      },
      "outputs": [
        {
          "output_type": "stream",
          "name": "stdout",
          "text": [
            "25200\n"
          ]
        }
      ],
      "source": [
        "#Wczytanie zdjęć do tablicy images\n",
        "images = []\n",
        "size = len(value)\n",
        "\n",
        "for i in range(size):\n",
        "    im = Image.open('/content/zdjecia/'+str(i)+'.png')\n",
        "    arr_im = np.array(im) \n",
        "    arr_im = arr_im / 255.0\n",
        "    images.append(arr_im) \n",
        "print(len(images))"
      ]
    },
    {
      "cell_type": "code",
      "execution_count": 10,
      "id": "44a7c0bf",
      "metadata": {
        "id": "44a7c0bf"
      },
      "outputs": [],
      "source": [
        "#Inicjalizacja tablic\n",
        "rand_list = []\n",
        "rand_list = np.zeros((len(images)), dtype=np.uint8)\n",
        "\n",
        "x_test = []\n",
        "y_test = []\n",
        "\n",
        "x_train = []\n",
        "y_train = []\n",
        "\n",
        "\n",
        "#Okreslanie wielkosci zbiorów\n",
        "nighty = int(len(images)*90/100)\n",
        "ten = len(images) - nighty\n",
        "\n",
        "#Losowanie zbioru testowego\n",
        "for i in range(nighty):\n",
        "    \n",
        "    #Pierwsze losowanie wartości\n",
        "    rand = random.randint(0,len(images)-1)\n",
        "    \n",
        "    #Sprawdzenie czy wylosowana wartość się powtarza\n",
        "    while (rand_list[rand] == 1) :\n",
        "        #Jeżeli tak to ponownie losuje\n",
        "        rand = random.randint(0,len(images)-1)\n",
        "    \n",
        "    #Zapisanie zdjecia i wartości do nowej tablicy\n",
        "    x_train.append(images[rand])\n",
        "    y_train.append(value[rand])\n",
        "    rand_list[rand] = 1\n",
        "\n",
        "#Losowanie zbioru uczącego\n",
        "for j in range(ten):\n",
        "    \n",
        "    #Pierwsze losowanie wartości\n",
        "    rand = random.randint(0,len(images)-1)\n",
        "    \n",
        "    #Sprawdzenie czy wylosowana wartość się powtarza\n",
        "    while (rand_list[rand] == 1) :\n",
        "        #Jeżeli tak to ponownie losuje\n",
        "        rand = random.randint(0,len(images)-1)\n",
        "        \n",
        "    #Zapisanie zdjecia i wartości do nowej tablicy\n",
        "    x_test.append(images[rand])\n",
        "    y_test.append(value[rand])\n",
        "    rand_list[rand] = 1\n",
        "    \n",
        "    \n",
        "release_list(images)\n",
        "release_list(value)"
      ]
    },
    {
      "cell_type": "code",
      "execution_count": 11,
      "id": "8fccbbcc",
      "metadata": {
        "id": "8fccbbcc",
        "outputId": "7a2a85fa-2e37-49cf-e78a-fe5d0b816387",
        "colab": {
          "base_uri": "https://localhost:8080/"
        }
      },
      "outputs": [
        {
          "output_type": "stream",
          "name": "stdout",
          "text": [
            "9.79%\n",
            "90.21%\n"
          ]
        }
      ],
      "source": [
        "#Sprawdzenie poprawności losowania\n",
        "val_1 = 100 * sum(y_test) / (size / 2)\n",
        "print(\"%.2f\" % val_1 + '%') \n",
        "\n",
        "\n",
        "val_2 = 100 * sum(y_train) / (size / 2)\n",
        "print(\"%.2f\" % val_2 + '%') \n",
        "\n",
        "\n"
      ]
    },
    {
      "cell_type": "code",
      "execution_count": 12,
      "id": "f7f4dd4b",
      "metadata": {
        "id": "f7f4dd4b"
      },
      "outputs": [],
      "source": [
        "x_train = np.array(x_train)\n",
        "x_test = np.array(x_test)\n",
        "\n",
        "y_train = np.array(y_train)\n",
        "y_test = np.array(y_test)"
      ]
    },
    {
      "cell_type": "code",
      "execution_count": 13,
      "id": "d3a370cb",
      "metadata": {
        "id": "d3a370cb",
        "outputId": "d3890e47-cf11-42d6-c8b0-3128bcf67aee",
        "colab": {
          "base_uri": "https://localhost:8080/",
          "height": 357
        }
      },
      "outputs": [
        {
          "output_type": "stream",
          "name": "stdout",
          "text": [
            "[[0.    0.365 0.408 ... 0.447 0.443 0.447]\n",
            " [0.    0.38  0.412 ... 0.439 0.451 0.451]\n",
            " [0.    0.392 0.396 ... 0.447 0.443 0.443]\n",
            " ...\n",
            " [0.51  0.518 0.455 ... 0.365 0.369 0.361]\n",
            " [0.463 0.478 0.482 ... 0.357 0.365 0.361]\n",
            " [0.    0.    0.    ... 0.353 0.361 0.357]]\n",
            "0\n"
          ]
        },
        {
          "output_type": "display_data",
          "data": {
            "text/plain": [
              "<Figure size 432x288 with 1 Axes>"
            ],
            "image/png": "[encoded data removed]"
          },
          "metadata": {
            "needs_background": "light"
          }
        }
      ],
      "source": [
        "plt.imshow(x_train[0],cmap = 'gray')\n",
        "print(x_train[0])\n",
        "print(y_train[0])"
      ]
    },
    {
      "cell_type": "code",
      "execution_count": 14,
      "id": "772c7d7c",
      "metadata": {
        "id": "772c7d7c"
      },
      "outputs": [],
      "source": [
        "model = models.Sequential()\n",
        "model.add(layers.Conv2D(32, (3, 3), activation='relu', input_shape=(64, 128, 1)))\n",
        "model.add(layers.MaxPooling2D((2, 2)))\n",
        "model.add(Dropout(0.1))\n",
        "\n",
        "model.add(layers.Conv2D(64, (3, 3), activation='relu'))\n",
        "model.add(layers.MaxPooling2D((2, 2)))\n",
        "model.add(Dropout(0.1))\n",
        "\n",
        "model.add(layers.Conv2D(64, (3, 3), activation='relu'))\n",
        "model.add(layers.MaxPooling2D((2, 2)))\n",
        "model.add(Dropout(0.1))\n",
        "\n",
        "model.add(layers.Flatten())\n",
        "model.add(layers.Dense(64, activation='relu', kernel_regularizer=keras.regularizers.l2(l=0.1)))\n",
        "model.add(layers.Dense(1, activation='relu'))\n"
      ]
    },
    {
      "cell_type": "code",
      "execution_count": 15,
      "id": "b86f72df",
      "metadata": {
        "id": "b86f72df",
        "outputId": "73a26e5c-f1e0-4c53-c6a6-fe50e0dd6b08",
        "colab": {
          "base_uri": "https://localhost:8080/"
        }
      },
      "outputs": [
        {
          "output_type": "stream",
          "name": "stdout",
          "text": [
            "Model: \"sequential\"\n",
            "_________________________________________________________________\n",
            " Layer (type)                Output Shape              Param #   \n",
            "=================================================================\n",
            " conv2d (Conv2D)             (None, 62, 126, 32)       320       \n",
            "                                                                 \n",
            " max_pooling2d (MaxPooling2D  (None, 31, 63, 32)       0         \n",
            " )                                                               \n",
            "                                                                 \n",
            " dropout (Dropout)           (None, 31, 63, 32)        0         \n",
            "                                                                 \n",
            " conv2d_1 (Conv2D)           (None, 29, 61, 64)        18496     \n",
            "                                                                 \n",
            " max_pooling2d_1 (MaxPooling  (None, 14, 30, 64)       0         \n",
            " 2D)                                                             \n",
            "                                                                 \n",
            " dropout_1 (Dropout)         (None, 14, 30, 64)        0         \n",
            "                                                                 \n",
            " conv2d_2 (Conv2D)           (None, 12, 28, 64)        36928     \n",
            "                                                                 \n",
            " max_pooling2d_2 (MaxPooling  (None, 6, 14, 64)        0         \n",
            " 2D)                                                             \n",
            "                                                                 \n",
            " dropout_2 (Dropout)         (None, 6, 14, 64)         0         \n",
            "                                                                 \n",
            " flatten (Flatten)           (None, 5376)              0         \n",
            "                                                                 \n",
            " dense (Dense)               (None, 64)                344128    \n",
            "                                                                 \n",
            " dense_1 (Dense)             (None, 1)                 65        \n",
            "                                                                 \n",
            "=================================================================\n",
            "Total params: 399,937\n",
            "Trainable params: 399,937\n",
            "Non-trainable params: 0\n",
            "_________________________________________________________________\n"
          ]
        }
      ],
      "source": [
        "model.summary()"
      ]
    },
    {
      "cell_type": "code",
      "execution_count": 16,
      "id": "9beb77e5",
      "metadata": {
        "id": "9beb77e5",
        "outputId": "15a29607-c082-4050-a4fd-9e612cdcdbae",
        "colab": {
          "base_uri": "https://localhost:8080/"
        }
      },
      "outputs": [
        {
          "output_type": "stream",
          "name": "stdout",
          "text": [
            "Epoch 1/100\n",
            "80/80 [==============================] - 43s 464ms/step - loss: 1.8084 - accuracy: 0.6319 - mse: 0.2163 - val_loss: 0.1966 - val_accuracy: 0.7271 - val_mse: 0.1798\n",
            "Epoch 2/100\n",
            "80/80 [==============================] - 36s 452ms/step - loss: 0.1789 - accuracy: 0.7680 - mse: 0.1602 - val_loss: 0.1582 - val_accuracy: 0.8073 - val_mse: 0.1365\n",
            "Epoch 3/100\n",
            "80/80 [==============================] - 36s 455ms/step - loss: 0.1631 - accuracy: 0.8052 - mse: 0.1367 - val_loss: 0.1410 - val_accuracy: 0.8333 - val_mse: 0.1200\n",
            "Epoch 4/100\n",
            "80/80 [==============================] - 36s 453ms/step - loss: 0.1305 - accuracy: 0.8594 - mse: 0.1062 - val_loss: 0.1113 - val_accuracy: 0.9030 - val_mse: 0.0842\n",
            "Epoch 5/100\n",
            "80/80 [==============================] - 36s 450ms/step - loss: 0.1046 - accuracy: 0.9072 - mse: 0.0792 - val_loss: 0.0985 - val_accuracy: 0.9303 - val_mse: 0.0725\n",
            "Epoch 6/100\n",
            "80/80 [==============================] - 37s 467ms/step - loss: 0.0950 - accuracy: 0.9247 - mse: 0.0689 - val_loss: 0.0872 - val_accuracy: 0.9458 - val_mse: 0.0632\n",
            "Epoch 7/100\n",
            "80/80 [==============================] - 36s 449ms/step - loss: 0.0910 - accuracy: 0.9318 - mse: 0.0638 - val_loss: 0.0667 - val_accuracy: 0.9656 - val_mse: 0.0409\n",
            "Epoch 8/100\n",
            "80/80 [==============================] - 34s 426ms/step - loss: 0.0721 - accuracy: 0.9568 - mse: 0.0485 - val_loss: 0.0833 - val_accuracy: 0.9621 - val_mse: 0.0586\n",
            "Epoch 9/100\n",
            "80/80 [==============================] - 36s 450ms/step - loss: 0.0592 - accuracy: 0.9687 - mse: 0.0380 - val_loss: 0.0482 - val_accuracy: 0.9718 - val_mse: 0.0281\n",
            "Epoch 10/100\n",
            "80/80 [==============================] - 34s 429ms/step - loss: 0.0571 - accuracy: 0.9705 - mse: 0.0371 - val_loss: 0.0571 - val_accuracy: 0.9696 - val_mse: 0.0378\n",
            "Epoch 11/100\n",
            "80/80 [==============================] - 36s 449ms/step - loss: 0.0542 - accuracy: 0.9728 - mse: 0.0344 - val_loss: 0.0383 - val_accuracy: 0.9899 - val_mse: 0.0198\n",
            "Epoch 12/100\n",
            "80/80 [==============================] - 36s 451ms/step - loss: 0.0500 - accuracy: 0.9747 - mse: 0.0318 - val_loss: 0.0377 - val_accuracy: 0.9912 - val_mse: 0.0203\n",
            "Epoch 13/100\n",
            "80/80 [==============================] - 34s 426ms/step - loss: 0.0568 - accuracy: 0.9740 - mse: 0.0339 - val_loss: 0.0424 - val_accuracy: 0.9877 - val_mse: 0.0216\n",
            "Epoch 14/100\n",
            "80/80 [==============================] - 36s 448ms/step - loss: 0.0432 - accuracy: 0.9798 - mse: 0.0264 - val_loss: 0.0304 - val_accuracy: 0.9894 - val_mse: 0.0151\n",
            "Epoch 15/100\n",
            "80/80 [==============================] - 34s 426ms/step - loss: 0.0409 - accuracy: 0.9814 - mse: 0.0250 - val_loss: 0.0360 - val_accuracy: 0.9912 - val_mse: 0.0216\n",
            "Epoch 16/100\n",
            "80/80 [==============================] - 34s 426ms/step - loss: 0.0391 - accuracy: 0.9808 - mse: 0.0237 - val_loss: 0.0317 - val_accuracy: 0.9850 - val_mse: 0.0170\n",
            "Epoch 17/100\n",
            "80/80 [==============================] - 37s 461ms/step - loss: 0.0366 - accuracy: 0.9842 - mse: 0.0219 - val_loss: 0.0292 - val_accuracy: 0.9907 - val_mse: 0.0149\n",
            "Epoch 18/100\n",
            "80/80 [==============================] - 36s 451ms/step - loss: 0.0345 - accuracy: 0.9854 - mse: 0.0209 - val_loss: 0.0289 - val_accuracy: 0.9938 - val_mse: 0.0147\n",
            "Epoch 19/100\n",
            "80/80 [==============================] - 34s 426ms/step - loss: 0.0376 - accuracy: 0.9818 - mse: 0.0229 - val_loss: 0.0356 - val_accuracy: 0.9815 - val_mse: 0.0185\n",
            "Epoch 20/100\n",
            "80/80 [==============================] - 36s 448ms/step - loss: 0.0344 - accuracy: 0.9839 - mse: 0.0198 - val_loss: 0.0261 - val_accuracy: 0.9938 - val_mse: 0.0127\n",
            "Epoch 21/100\n",
            "80/80 [==============================] - 34s 425ms/step - loss: 0.0303 - accuracy: 0.9867 - mse: 0.0177 - val_loss: 0.0302 - val_accuracy: 0.9925 - val_mse: 0.0167\n",
            "Epoch 22/100\n",
            "80/80 [==============================] - 36s 446ms/step - loss: 0.0312 - accuracy: 0.9867 - mse: 0.0179 - val_loss: 0.0221 - val_accuracy: 0.9965 - val_mse: 0.0090\n",
            "Epoch 23/100\n",
            "80/80 [==============================] - 34s 425ms/step - loss: 0.0552 - accuracy: 0.9587 - mse: 0.0388 - val_loss: 0.2268 - val_accuracy: 0.7390 - val_mse: 0.1642\n",
            "Epoch 24/100\n",
            "80/80 [==============================] - 34s 423ms/step - loss: 0.0929 - accuracy: 0.9315 - mse: 0.0555 - val_loss: 0.0350 - val_accuracy: 0.9854 - val_mse: 0.0170\n",
            "Epoch 25/100\n",
            "80/80 [==============================] - 34s 424ms/step - loss: 0.0363 - accuracy: 0.9811 - mse: 0.0215 - val_loss: 0.0275 - val_accuracy: 0.9938 - val_mse: 0.0141\n",
            "Epoch 26/100\n",
            "80/80 [==============================] - 34s 425ms/step - loss: 0.0306 - accuracy: 0.9856 - mse: 0.0175 - val_loss: 0.0343 - val_accuracy: 0.9819 - val_mse: 0.0221\n",
            "Epoch 27/100\n",
            "80/80 [==============================] - 36s 446ms/step - loss: 0.0320 - accuracy: 0.9853 - mse: 0.0193 - val_loss: 0.0217 - val_accuracy: 0.9947 - val_mse: 0.0092\n",
            "Epoch 28/100\n",
            "80/80 [==============================] - 34s 424ms/step - loss: 0.0294 - accuracy: 0.9881 - mse: 0.0166 - val_loss: 0.0247 - val_accuracy: 0.9965 - val_mse: 0.0107\n",
            "Epoch 29/100\n",
            "80/80 [==============================] - 36s 445ms/step - loss: 0.0261 - accuracy: 0.9896 - mse: 0.0140 - val_loss: 0.0198 - val_accuracy: 0.9960 - val_mse: 0.0088\n",
            "Epoch 30/100\n",
            "80/80 [==============================] - 34s 424ms/step - loss: 0.0253 - accuracy: 0.9897 - mse: 0.0137 - val_loss: 0.0276 - val_accuracy: 0.9929 - val_mse: 0.0176\n",
            "Epoch 31/100\n",
            "80/80 [==============================] - 34s 426ms/step - loss: 0.0253 - accuracy: 0.9895 - mse: 0.0143 - val_loss: 0.0330 - val_accuracy: 0.9960 - val_mse: 0.0222\n",
            "Epoch 32/100\n",
            "80/80 [==============================] - 36s 446ms/step - loss: 0.0272 - accuracy: 0.9888 - mse: 0.0148 - val_loss: 0.0198 - val_accuracy: 0.9947 - val_mse: 0.0091\n",
            "Epoch 33/100\n",
            "80/80 [==============================] - 34s 425ms/step - loss: 0.0236 - accuracy: 0.9904 - mse: 0.0126 - val_loss: 0.0210 - val_accuracy: 0.9938 - val_mse: 0.0088\n",
            "Epoch 34/100\n",
            "80/80 [==============================] - 34s 425ms/step - loss: 0.0237 - accuracy: 0.9909 - mse: 0.0123 - val_loss: 0.0237 - val_accuracy: 0.9921 - val_mse: 0.0099\n",
            "Epoch 35/100\n",
            "80/80 [==============================] - 34s 424ms/step - loss: 0.0262 - accuracy: 0.9894 - mse: 0.0141 - val_loss: 0.0202 - val_accuracy: 0.9956 - val_mse: 0.0084\n",
            "Epoch 36/100\n",
            "80/80 [==============================] - 34s 426ms/step - loss: 0.0250 - accuracy: 0.9896 - mse: 0.0132 - val_loss: 0.0214 - val_accuracy: 0.9951 - val_mse: 0.0092\n",
            "Epoch 37/100\n",
            "80/80 [==============================] - 37s 460ms/step - loss: 0.0222 - accuracy: 0.9913 - mse: 0.0115 - val_loss: 0.0173 - val_accuracy: 0.9974 - val_mse: 0.0065\n",
            "Epoch 38/100\n",
            "80/80 [==============================] - 34s 426ms/step - loss: 0.0245 - accuracy: 0.9904 - mse: 0.0128 - val_loss: 0.0188 - val_accuracy: 0.9969 - val_mse: 0.0068\n",
            "Epoch 39/100\n",
            "80/80 [==============================] - 34s 425ms/step - loss: 0.0211 - accuracy: 0.9914 - mse: 0.0108 - val_loss: 0.0228 - val_accuracy: 0.9921 - val_mse: 0.0115\n",
            "Epoch 40/100\n",
            "80/80 [==============================] - 34s 424ms/step - loss: 0.0222 - accuracy: 0.9909 - mse: 0.0117 - val_loss: 0.0189 - val_accuracy: 0.9969 - val_mse: 0.0090\n",
            "Epoch 41/100\n",
            "80/80 [==============================] - 34s 426ms/step - loss: 0.0243 - accuracy: 0.9895 - mse: 0.0129 - val_loss: 0.0265 - val_accuracy: 0.9947 - val_mse: 0.0115\n",
            "Epoch 42/100\n",
            "80/80 [==============================] - 34s 424ms/step - loss: 0.0228 - accuracy: 0.9911 - mse: 0.0114 - val_loss: 0.0209 - val_accuracy: 0.9912 - val_mse: 0.0106\n",
            "Epoch 42: early stopping\n"
          ]
        }
      ],
      "source": [
        "model.compile(optimizer='adam',\n",
        "              loss='mse',\n",
        "              metrics=['accuracy','mse'])\n",
        "\n",
        "#Funcka umożliwia zatrzymanie się uczenia \n",
        "#gdy wartość strat przstanie maleć\n",
        "EarlyStop = EarlyStopping(monitor='val_loss',  \n",
        "                          verbose=1, \n",
        "                          patience=5)\n",
        "\n",
        "\n",
        "ModelCheck = ModelCheckpoint(filepath='/content/drive/MyDrive/Sieci/Zlaczone.h5',\n",
        "                             monitor='val_loss',\n",
        "                             save_best_only=True)\n",
        "\n",
        "\n",
        "history = model.fit(x=x_train, \n",
        "                    y=y_train, \n",
        "                    epochs=100,\n",
        "                    batch_size=256,\n",
        "                    validation_split=0.1,\n",
        "                    callbacks = [EarlyStop, ModelCheck]\n",
        "                   )"
      ]
    },
    {
      "cell_type": "code",
      "execution_count": 17,
      "id": "fe8633db",
      "metadata": {
        "id": "fe8633db",
        "colab": {
          "base_uri": "https://localhost:8080/",
          "height": 300
        },
        "outputId": "e21b285c-63c0-48e2-da08-edff9121339a"
      },
      "outputs": [
        {
          "output_type": "execute_result",
          "data": {
            "text/plain": [
              "<matplotlib.legend.Legend at 0x7f5f3022ea30>"
            ]
          },
          "metadata": {},
          "execution_count": 17
        },
        {
          "output_type": "display_data",
          "data": {
            "text/plain": [
              "<Figure size 432x288 with 1 Axes>"
            ],
            "image/png": "[encoded data removed]"
          },
          "metadata": {
            "needs_background": "light"
          }
        }
      ],
      "source": [
        "plt.plot(history.history['loss'], label='strata')\n",
        "plt.plot(history.history['val_loss'], label = 'strata walidacyjna')\n",
        "plt.xlabel('Epoka')\n",
        "plt.ylabel('Strata')\n",
        "plt.ylim([0.0, 0.5])\n",
        "plt.legend(loc='upper right')"
      ]
    },
    {
      "cell_type": "code",
      "execution_count": 18,
      "id": "8b976089",
      "metadata": {
        "scrolled": true,
        "id": "8b976089",
        "colab": {
          "base_uri": "https://localhost:8080/",
          "height": 300
        },
        "outputId": "6c8b53df-d566-4f37-a9b6-b8e53fdfb239"
      },
      "outputs": [
        {
          "output_type": "execute_result",
          "data": {
            "text/plain": [
              "<matplotlib.legend.Legend at 0x7f5f302b9520>"
            ]
          },
          "metadata": {},
          "execution_count": 18
        },
        {
          "output_type": "display_data",
          "data": {
            "text/plain": [
              "<Figure size 432x288 with 1 Axes>"
            ],
            "image/png": "[encoded data removed]"
          },
          "metadata": {
            "needs_background": "light"
          }
        }
      ],
      "source": [
        "plt.plot(history.history['accuracy'], label='precyzja')\n",
        "plt.plot(history.history['val_accuracy'], label = 'precyzja walidacyjna')\n",
        "plt.xlabel('Epoka')\n",
        "plt.ylabel('Precyzja')\n",
        "plt.ylim([0.5, 1])\n",
        "plt.legend(loc='lower right')"
      ]
    },
    {
      "cell_type": "code",
      "source": [
        "best_model = tf.keras.models.load_model('/content/drive/MyDrive/Sieci/Zlaczone.h5')\n"
      ],
      "metadata": {
        "id": "HWqm9BVzLHfw"
      },
      "id": "HWqm9BVzLHfw",
      "execution_count": 19,
      "outputs": []
    },
    {
      "cell_type": "code",
      "execution_count": 20,
      "id": "685a286c",
      "metadata": {
        "id": "685a286c",
        "colab": {
          "base_uri": "https://localhost:8080/"
        },
        "outputId": "5186dae7-7158-4435-eea6-1dbafb901f65"
      },
      "outputs": [
        {
          "output_type": "stream",
          "name": "stdout",
          "text": [
            "79/79 - 2s - loss: 0.0170 - accuracy: 0.9972 - mse: 0.0062 - 2s/epoch - 26ms/step\n"
          ]
        },
        {
          "output_type": "execute_result",
          "data": {
            "text/plain": [
              "[0.017031030263266297, 0.9972222222222222, 0.006212048514048992]"
            ]
          },
          "metadata": {},
          "execution_count": 20
        }
      ],
      "source": [
        "best_model.evaluate(x_test,  y_test, verbose=2)"
      ]
    },
    {
      "cell_type": "code",
      "execution_count": 21,
      "id": "ee941c13",
      "metadata": {
        "id": "ee941c13",
        "colab": {
          "base_uri": "https://localhost:8080/"
        },
        "outputId": "79382eae-79d6-4bba-f4ed-af9722b2690e"
      },
      "outputs": [
        {
          "output_type": "stream",
          "name": "stdout",
          "text": [
            "79/79 [==============================] - 2s 18ms/step\n"
          ]
        }
      ],
      "source": [
        "predict_x = best_model.predict(x_test) \n",
        "\n",
        "predictions = (predict_x > 0.5).astype(\"int32\")"
      ]
    },
    {
      "cell_type": "code",
      "execution_count": 22,
      "id": "d8fb12f1",
      "metadata": {
        "id": "d8fb12f1",
        "colab": {
          "base_uri": "https://localhost:8080/"
        },
        "outputId": "e75e772b-4214-451e-bbb0-ffdb99fefae5"
      },
      "outputs": [
        {
          "output_type": "stream",
          "name": "stdout",
          "text": [
            "[['Tn' 'Nn']\n",
            " ['Np' 'Tp']]\n",
            "tf.Tensor(\n",
            "[[1280    6]\n",
            " [   1 1233]], shape=(2, 2), dtype=int32)\n"
          ]
        }
      ],
      "source": [
        "names = [['Tn','Nn'],['Np', 'Tp']]\n",
        "names = np.reshape(names,(2,2))\n",
        "print(names)\n",
        "\n",
        "conf = tf.math.confusion_matrix(y_test,predictions)\n",
        "\n",
        "print(conf)"
      ]
    }
  ],
  "metadata": {
    "kernelspec": {
      "display_name": "py39",
      "language": "python",
      "name": "py39"
    },
    "language_info": {
      "codemirror_mode": {
        "name": "ipython",
        "version": 3
      },
      "file_extension": ".py",
      "mimetype": "text/x-python",
      "name": "python",
      "nbconvert_exporter": "python",
      "pygments_lexer": "ipython3",
      "version": "3.9.12"
    },
    "colab": {
      "provenance": [],
      "include_colab_link": true
    },
    "accelerator": "GPU",
    "gpuClass": "standard"
  },
  "nbformat": 4,
  "nbformat_minor": 5
}