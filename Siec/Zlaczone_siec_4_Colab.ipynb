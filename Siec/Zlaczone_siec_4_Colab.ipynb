{
  "cells": [
    {
      "cell_type": "markdown",
      "metadata": {
        "id": "view-in-github",
        "colab_type": "text"
      },
      "source": [
        "<a href=\"https://colab.research.google.com/github/ajankowi/Praca_inz/blob/master/Siec/Zlaczone_siec_4_Colab.ipynb\" target=\"_parent\"><img src=\"https://colab.research.google.com/assets/colab-badge.svg\" alt=\"Open In Colab\"/></a>"
      ]
    },
    {
      "cell_type": "code",
      "execution_count": 1,
      "id": "613f08b5",
      "metadata": {
        "id": "613f08b5",
        "outputId": "0db7991b-dbe9-4351-ce1a-142c17e03761",
        "colab": {
          "base_uri": "https://localhost:8080/"
        }
      },
      "outputs": [
        {
          "output_type": "stream",
          "name": "stdout",
          "text": [
            "3.8.16 (default, Dec  7 2022, 01:12:13) \n",
            "[GCC 7.5.0]\n"
          ]
        }
      ],
      "source": [
        "import sys\n",
        "print(sys.version)"
      ]
    },
    {
      "cell_type": "code",
      "source": [
        "#from google.colab import drive\n",
        "#drive.mount(\"/content/drive\", force_remount=True)"
      ],
      "metadata": {
        "id": "iY1o7_NmVlGs"
      },
      "id": "iY1o7_NmVlGs",
      "execution_count": 2,
      "outputs": []
    },
    {
      "cell_type": "code",
      "execution_count": 3,
      "id": "5eca1117",
      "metadata": {
        "id": "5eca1117",
        "outputId": "fd46564a-c10f-4f16-d988-4db67a6f9ae6",
        "colab": {
          "base_uri": "https://localhost:8080/"
        }
      },
      "outputs": [
        {
          "output_type": "stream",
          "name": "stdout",
          "text": [
            "TensorFlow version: 2.9.2\n"
          ]
        }
      ],
      "source": [
        "import tensorflow as tf\n",
        "from tensorflow import keras\n",
        "from keras import layers, models, regularizers\n",
        "from keras.layers import Flatten, add, Dense, Dropout \n",
        "from keras.callbacks import ModelCheckpoint, EarlyStopping\n",
        "\n",
        "\n",
        "print(\"TensorFlow version:\", tf.__version__)\n",
        "tf.keras.backend.set_floatx('float64')"
      ]
    },
    {
      "cell_type": "code",
      "execution_count": 4,
      "id": "12022d37",
      "metadata": {
        "id": "12022d37"
      },
      "outputs": [],
      "source": [
        "import matplotlib.pyplot as plt\n",
        "import numpy as np\n",
        "import pandas as pd\n",
        "import seaborn as sns\n",
        "from PIL import Image\n",
        "import os\n",
        "import csv\n",
        "import random\n",
        "\n",
        "import cv2\n",
        "import imutils\n",
        "import glob\n",
        "# Make NumPy printouts easier to read.\n",
        "np.set_printoptions(precision=3, suppress=True)"
      ]
    },
    {
      "cell_type": "code",
      "execution_count": 5,
      "id": "1086f893",
      "metadata": {
        "id": "1086f893"
      },
      "outputs": [],
      "source": [
        "#Określenie ścieżek do plików\n",
        "zip = '/content/drive/MyDrive/Sieci/Baza_zdjec_zlaczone_2/Baza_zdjec_zlaczone_2.zip'\n",
        "nazwa_CSV = 'nowe.csv'\n",
        "folder = '/content/drive/MyDrive/Sieci/Baza_zdjec_zlaczone_2/'\n",
        "folder_aktorzy = '/content/drive/MyDrive/Sieci/Baza_aktorzy_zlaczone/'\n",
        "aktorzy_CSV = 'aktorzy.csv'\n",
        "slesh = '/'\n",
        "png = '.png'"
      ]
    },
    {
      "cell_type": "code",
      "source": [
        "#!unzip '/content/drive/MyDrive/Sieci/Baza_zdjec_zlaczone_2/Baza_zdjec_zlaczone_2.zip' -d '/content/zdjecia/'\n",
        "#!unzip '/content/drive/MyDrive/Sieci/Baza_aktorzy_zlaczone/Baza_aktorzy_zlaczone.zip' -d '/content/aktorzy/'"
      ],
      "metadata": {
        "id": "FXtX4UDo9x77"
      },
      "id": "FXtX4UDo9x77",
      "execution_count": 6,
      "outputs": []
    },
    {
      "cell_type": "code",
      "execution_count": 7,
      "id": "d0329f31",
      "metadata": {
        "id": "d0329f31"
      },
      "outputs": [],
      "source": [
        "def release_list(a):\n",
        "    \n",
        "    del a[:]\n",
        "    del a"
      ]
    },
    {
      "cell_type": "code",
      "execution_count": 8,
      "id": "5beb89e7",
      "metadata": {
        "id": "5beb89e7",
        "outputId": "d3c3d872-5173-4b39-82fa-ff825f015189",
        "colab": {
          "base_uri": "https://localhost:8080/"
        }
      },
      "outputs": [
        {
          "output_type": "stream",
          "name": "stdout",
          "text": [
            "25200\n"
          ]
        }
      ],
      "source": [
        "#Wczytanie pliku CSV do tablicy images\n",
        "\n",
        "with open(folder+nazwa_CSV,\"r\") as csvfile:\n",
        "    lines = csvfile.readlines()\n",
        "csvfile.close()\n",
        "\n",
        "new = []\n",
        "\n",
        "for i in lines:\n",
        "    new.append(i.split(\" \"))\n",
        "\n",
        "    \n",
        "value = []\n",
        "for i in new[0]:\n",
        "    value.append(int(i))    \n",
        "    \n",
        "print(len(value))"
      ]
    },
    {
      "cell_type": "code",
      "execution_count": 9,
      "id": "d9cb09d8",
      "metadata": {
        "id": "d9cb09d8",
        "outputId": "c6579c3e-bcfe-49ce-8ccc-aefee300cd39",
        "colab": {
          "base_uri": "https://localhost:8080/"
        }
      },
      "outputs": [
        {
          "output_type": "stream",
          "name": "stdout",
          "text": [
            "25200\n"
          ]
        }
      ],
      "source": [
        "#Wczytanie zdjęć do tablicy images\n",
        "images = []\n",
        "size = len(value)\n",
        "\n",
        "for i in range(size):\n",
        "    im = Image.open('/content/zdjecia/'+str(i)+'.png')\n",
        "    arr_im = np.array(im) \n",
        "    arr_im = arr_im / 255.0\n",
        "    images.append(arr_im) \n",
        "print(len(images))"
      ]
    },
    {
      "cell_type": "code",
      "execution_count": 10,
      "id": "44a7c0bf",
      "metadata": {
        "id": "44a7c0bf"
      },
      "outputs": [],
      "source": [
        "#Inicjalizacja tablic\n",
        "rand_list = []\n",
        "rand_list = np.zeros((len(images)), dtype=np.uint8)\n",
        "\n",
        "x_test = []\n",
        "y_test = []\n",
        "\n",
        "x_train = []\n",
        "y_train = []\n",
        "\n",
        "\n",
        "#Okreslanie wielkosci zbiorów\n",
        "nighty = int(len(images)*90/100)\n",
        "ten = len(images) - nighty\n",
        "\n",
        "#Losowanie zbioru testowego\n",
        "for i in range(nighty):\n",
        "    \n",
        "    #Pierwsze losowanie wartości\n",
        "    rand = random.randint(0,len(images)-1)\n",
        "    \n",
        "    #Sprawdzenie czy wylosowana wartość się powtarza\n",
        "    while (rand_list[rand] == 1) :\n",
        "        #Jeżeli tak to ponownie losuje\n",
        "        rand = random.randint(0,len(images)-1)\n",
        "    \n",
        "    #Zapisanie zdjecia i wartości do nowej tablicy\n",
        "    x_train.append(images[rand])\n",
        "    y_train.append(value[rand])\n",
        "    rand_list[rand] = 1\n",
        "\n",
        "#Losowanie zbioru uczącego\n",
        "for j in range(ten):\n",
        "    \n",
        "    #Pierwsze losowanie wartości\n",
        "    rand = random.randint(0,len(images)-1)\n",
        "    \n",
        "    #Sprawdzenie czy wylosowana wartość się powtarza\n",
        "    while (rand_list[rand] == 1) :\n",
        "        #Jeżeli tak to ponownie losuje\n",
        "        rand = random.randint(0,len(images)-1)\n",
        "        \n",
        "    #Zapisanie zdjecia i wartości do nowej tablicy\n",
        "    x_test.append(images[rand])\n",
        "    y_test.append(value[rand])\n",
        "    rand_list[rand] = 1\n",
        "    \n",
        "    \n",
        "release_list(images)\n",
        "release_list(value)"
      ]
    },
    {
      "cell_type": "code",
      "execution_count": 11,
      "id": "8fccbbcc",
      "metadata": {
        "id": "8fccbbcc",
        "outputId": "7b50ac4c-c26b-407d-cb22-b9651730c098",
        "colab": {
          "base_uri": "https://localhost:8080/"
        }
      },
      "outputs": [
        {
          "output_type": "stream",
          "name": "stdout",
          "text": [
            "10.12%\n",
            "89.88%\n"
          ]
        }
      ],
      "source": [
        "#Sprawdzenie poprawności losowania\n",
        "val_1 = 100 * sum(y_test) / (size / 2)\n",
        "print(\"%.2f\" % val_1 + '%') \n",
        "\n",
        "\n",
        "val_2 = 100 * sum(y_train) / (size / 2)\n",
        "print(\"%.2f\" % val_2 + '%') \n",
        "\n",
        "\n"
      ]
    },
    {
      "cell_type": "code",
      "execution_count": 12,
      "id": "f7f4dd4b",
      "metadata": {
        "id": "f7f4dd4b"
      },
      "outputs": [],
      "source": [
        "x_train = np.array(x_train)\n",
        "x_test = np.array(x_test)\n",
        "\n",
        "y_train = np.array(y_train)\n",
        "y_test = np.array(y_test)"
      ]
    },
    {
      "cell_type": "code",
      "execution_count": 13,
      "id": "d3a370cb",
      "metadata": {
        "id": "d3a370cb",
        "outputId": "7259d199-bd3a-4367-b8db-42df77cb1092",
        "colab": {
          "base_uri": "https://localhost:8080/",
          "height": 357
        }
      },
      "outputs": [
        {
          "output_type": "stream",
          "name": "stdout",
          "text": [
            "[[0.    0.    0.    ... 0.    0.    0.   ]\n",
            " [0.    0.    0.    ... 0.    0.    0.   ]\n",
            " [0.    0.    0.004 ... 0.024 0.004 0.   ]\n",
            " ...\n",
            " [0.    0.    0.004 ... 0.027 0.    0.   ]\n",
            " [0.    0.    0.    ... 0.008 0.    0.   ]\n",
            " [0.    0.    0.    ... 0.    0.    0.   ]]\n",
            "1\n"
          ]
        },
        {
          "output_type": "display_data",
          "data": {
            "text/plain": [
              "<Figure size 432x288 with 1 Axes>"
            ],
            "image/png": "[encoded data removed]"
          },
          "metadata": {
            "needs_background": "light"
          }
        }
      ],
      "source": [
        "plt.imshow(x_train[0],cmap = 'gray')\n",
        "print(x_train[0])\n",
        "print(y_train[0])"
      ]
    },
    {
      "cell_type": "code",
      "execution_count": 14,
      "id": "772c7d7c",
      "metadata": {
        "id": "772c7d7c"
      },
      "outputs": [],
      "source": [
        "model = models.Sequential()\n",
        "model.add(layers.Conv2D(32, (3, 3), activation='relu', input_shape=(64, 128, 1)))\n",
        "model.add(layers.Conv2D(32, (3, 3), activation='relu'))\n",
        "model.add(layers.MaxPooling2D((2, 2)))\n",
        "model.add(Dropout(0.2))\n",
        "\n",
        "model.add(layers.Conv2D(64, (3, 3), activation='relu'))\n",
        "model.add(layers.Conv2D(64, (3, 3), activation='relu'))\n",
        "model.add(layers.MaxPooling2D((2, 2)))\n",
        "model.add(Dropout(0.2))\n",
        "\n",
        "model.add(layers.Conv2D(64, (3, 3), activation='relu'))\n",
        "model.add(layers.Conv2D(64, (3, 3), activation='relu'))\n",
        "model.add(layers.MaxPooling2D((2, 2)))\n",
        "model.add(Dropout(0.2))\n",
        "\n",
        "model.add(layers.Flatten())\n",
        "model.add(layers.Dense(64, activation='relu'))\n",
        "model.add(layers.Dense(1, activation='relu'))\n"
      ]
    },
    {
      "cell_type": "code",
      "execution_count": 15,
      "id": "b86f72df",
      "metadata": {
        "id": "b86f72df",
        "outputId": "95fcb5fd-d800-4737-d593-f47c96456b76",
        "colab": {
          "base_uri": "https://localhost:8080/"
        }
      },
      "outputs": [
        {
          "output_type": "stream",
          "name": "stdout",
          "text": [
            "Model: \"sequential\"\n",
            "_________________________________________________________________\n",
            " Layer (type)                Output Shape              Param #   \n",
            "=================================================================\n",
            " conv2d (Conv2D)             (None, 62, 126, 32)       320       \n",
            "                                                                 \n",
            " conv2d_1 (Conv2D)           (None, 60, 124, 32)       9248      \n",
            "                                                                 \n",
            " max_pooling2d (MaxPooling2D  (None, 30, 62, 32)       0         \n",
            " )                                                               \n",
            "                                                                 \n",
            " dropout (Dropout)           (None, 30, 62, 32)        0         \n",
            "                                                                 \n",
            " conv2d_2 (Conv2D)           (None, 28, 60, 64)        18496     \n",
            "                                                                 \n",
            " conv2d_3 (Conv2D)           (None, 26, 58, 64)        36928     \n",
            "                                                                 \n",
            " max_pooling2d_1 (MaxPooling  (None, 13, 29, 64)       0         \n",
            " 2D)                                                             \n",
            "                                                                 \n",
            " dropout_1 (Dropout)         (None, 13, 29, 64)        0         \n",
            "                                                                 \n",
            " conv2d_4 (Conv2D)           (None, 11, 27, 64)        36928     \n",
            "                                                                 \n",
            " conv2d_5 (Conv2D)           (None, 9, 25, 64)         36928     \n",
            "                                                                 \n",
            " max_pooling2d_2 (MaxPooling  (None, 4, 12, 64)        0         \n",
            " 2D)                                                             \n",
            "                                                                 \n",
            " dropout_2 (Dropout)         (None, 4, 12, 64)         0         \n",
            "                                                                 \n",
            " flatten (Flatten)           (None, 3072)              0         \n",
            "                                                                 \n",
            " dense (Dense)               (None, 64)                196672    \n",
            "                                                                 \n",
            " dense_1 (Dense)             (None, 1)                 65        \n",
            "                                                                 \n",
            "=================================================================\n",
            "Total params: 335,585\n",
            "Trainable params: 335,585\n",
            "Non-trainable params: 0\n",
            "_________________________________________________________________\n"
          ]
        }
      ],
      "source": [
        "model.summary()"
      ]
    },
    {
      "cell_type": "code",
      "execution_count": 16,
      "id": "9beb77e5",
      "metadata": {
        "id": "9beb77e5",
        "outputId": "8ed65d6e-b0f5-4bad-903f-6d25bc31b088",
        "colab": {
          "base_uri": "https://localhost:8080/"
        }
      },
      "outputs": [
        {
          "output_type": "stream",
          "name": "stdout",
          "text": [
            "Epoch 1/100\n",
            "80/80 [==============================] - 123s 1s/step - loss: 0.2466 - accuracy: 0.5624 - mse: 0.2466 - val_loss: 0.2065 - val_accuracy: 0.6459 - val_mse: 0.2065\n",
            "Epoch 2/100\n",
            "80/80 [==============================] - 106s 1s/step - loss: 0.1808 - accuracy: 0.7194 - mse: 0.1808 - val_loss: 0.1530 - val_accuracy: 0.7941 - val_mse: 0.1530\n",
            "Epoch 3/100\n",
            "80/80 [==============================] - 105s 1s/step - loss: 0.1233 - accuracy: 0.8401 - mse: 0.1233 - val_loss: 0.0797 - val_accuracy: 0.9083 - val_mse: 0.0797\n",
            "Epoch 4/100\n",
            "80/80 [==============================] - 105s 1s/step - loss: 0.0621 - accuracy: 0.9328 - mse: 0.0621 - val_loss: 0.0466 - val_accuracy: 0.9594 - val_mse: 0.0466\n",
            "Epoch 5/100\n",
            "80/80 [==============================] - 105s 1s/step - loss: 0.0364 - accuracy: 0.9676 - mse: 0.0364 - val_loss: 0.0348 - val_accuracy: 0.9802 - val_mse: 0.0348\n",
            "Epoch 6/100\n",
            "80/80 [==============================] - 105s 1s/step - loss: 0.0262 - accuracy: 0.9796 - mse: 0.0262 - val_loss: 0.0205 - val_accuracy: 0.9841 - val_mse: 0.0205\n",
            "Epoch 7/100\n",
            "80/80 [==============================] - 105s 1s/step - loss: 0.0204 - accuracy: 0.9865 - mse: 0.0204 - val_loss: 0.0143 - val_accuracy: 0.9890 - val_mse: 0.0143\n",
            "Epoch 8/100\n",
            "80/80 [==============================] - 105s 1s/step - loss: 0.0168 - accuracy: 0.9898 - mse: 0.0168 - val_loss: 0.0142 - val_accuracy: 0.9894 - val_mse: 0.0142\n",
            "Epoch 9/100\n",
            "80/80 [==============================] - 105s 1s/step - loss: 0.0141 - accuracy: 0.9913 - mse: 0.0141 - val_loss: 0.0110 - val_accuracy: 0.9912 - val_mse: 0.0110\n",
            "Epoch 10/100\n",
            "80/80 [==============================] - 105s 1s/step - loss: 0.0122 - accuracy: 0.9931 - mse: 0.0122 - val_loss: 0.0103 - val_accuracy: 0.9899 - val_mse: 0.0103\n",
            "Epoch 11/100\n",
            "80/80 [==============================] - 105s 1s/step - loss: 0.0106 - accuracy: 0.9947 - mse: 0.0106 - val_loss: 0.0104 - val_accuracy: 0.9934 - val_mse: 0.0104\n",
            "Epoch 12/100\n",
            "80/80 [==============================] - 104s 1s/step - loss: 0.0096 - accuracy: 0.9951 - mse: 0.0096 - val_loss: 0.0112 - val_accuracy: 0.9947 - val_mse: 0.0112\n",
            "Epoch 13/100\n",
            "80/80 [==============================] - 105s 1s/step - loss: 0.0084 - accuracy: 0.9960 - mse: 0.0084 - val_loss: 0.0085 - val_accuracy: 0.9965 - val_mse: 0.0085\n",
            "Epoch 14/100\n",
            "80/80 [==============================] - 105s 1s/step - loss: 0.0081 - accuracy: 0.9962 - mse: 0.0081 - val_loss: 0.0071 - val_accuracy: 0.9947 - val_mse: 0.0071\n",
            "Epoch 15/100\n",
            "80/80 [==============================] - 105s 1s/step - loss: 0.0075 - accuracy: 0.9967 - mse: 0.0075 - val_loss: 0.0065 - val_accuracy: 0.9965 - val_mse: 0.0065\n",
            "Epoch 16/100\n",
            "80/80 [==============================] - 105s 1s/step - loss: 0.0070 - accuracy: 0.9968 - mse: 0.0070 - val_loss: 0.0054 - val_accuracy: 0.9960 - val_mse: 0.0054\n",
            "Epoch 17/100\n",
            "80/80 [==============================] - 105s 1s/step - loss: 0.0059 - accuracy: 0.9979 - mse: 0.0059 - val_loss: 0.0048 - val_accuracy: 0.9965 - val_mse: 0.0048\n",
            "Epoch 18/100\n",
            "80/80 [==============================] - 105s 1s/step - loss: 0.0056 - accuracy: 0.9976 - mse: 0.0056 - val_loss: 0.0041 - val_accuracy: 0.9969 - val_mse: 0.0041\n",
            "Epoch 19/100\n",
            "80/80 [==============================] - 104s 1s/step - loss: 0.0051 - accuracy: 0.9978 - mse: 0.0051 - val_loss: 0.0050 - val_accuracy: 0.9969 - val_mse: 0.0050\n",
            "Epoch 20/100\n",
            "80/80 [==============================] - 105s 1s/step - loss: 0.0045 - accuracy: 0.9980 - mse: 0.0045 - val_loss: 0.0036 - val_accuracy: 0.9982 - val_mse: 0.0036\n",
            "Epoch 21/100\n",
            "80/80 [==============================] - 104s 1s/step - loss: 0.0043 - accuracy: 0.9981 - mse: 0.0043 - val_loss: 0.0036 - val_accuracy: 0.9978 - val_mse: 0.0036\n",
            "Epoch 22/100\n",
            "80/80 [==============================] - 105s 1s/step - loss: 0.0043 - accuracy: 0.9982 - mse: 0.0043 - val_loss: 0.0031 - val_accuracy: 0.9987 - val_mse: 0.0031\n",
            "Epoch 23/100\n",
            "80/80 [==============================] - 105s 1s/step - loss: 0.0038 - accuracy: 0.9985 - mse: 0.0038 - val_loss: 0.0027 - val_accuracy: 0.9987 - val_mse: 0.0027\n",
            "Epoch 24/100\n",
            "80/80 [==============================] - 104s 1s/step - loss: 0.0033 - accuracy: 0.9986 - mse: 0.0033 - val_loss: 0.0029 - val_accuracy: 0.9987 - val_mse: 0.0029\n",
            "Epoch 25/100\n",
            "80/80 [==============================] - 104s 1s/step - loss: 0.0031 - accuracy: 0.9988 - mse: 0.0031 - val_loss: 0.0039 - val_accuracy: 0.9974 - val_mse: 0.0039\n",
            "Epoch 26/100\n",
            "80/80 [==============================] - 104s 1s/step - loss: 0.0029 - accuracy: 0.9988 - mse: 0.0029 - val_loss: 0.0030 - val_accuracy: 0.9978 - val_mse: 0.0030\n",
            "Epoch 27/100\n",
            "80/80 [==============================] - 106s 1s/step - loss: 0.0030 - accuracy: 0.9986 - mse: 0.0030 - val_loss: 0.0027 - val_accuracy: 0.9991 - val_mse: 0.0027\n",
            "Epoch 28/100\n",
            "80/80 [==============================] - 104s 1s/step - loss: 0.0028 - accuracy: 0.9988 - mse: 0.0028 - val_loss: 0.0034 - val_accuracy: 0.9982 - val_mse: 0.0034\n",
            "Epoch 29/100\n",
            "80/80 [==============================] - 104s 1s/step - loss: 0.0029 - accuracy: 0.9992 - mse: 0.0029 - val_loss: 0.0029 - val_accuracy: 0.9974 - val_mse: 0.0029\n",
            "Epoch 30/100\n",
            "80/80 [==============================] - 106s 1s/step - loss: 0.0029 - accuracy: 0.9983 - mse: 0.0029 - val_loss: 0.0024 - val_accuracy: 0.9987 - val_mse: 0.0024\n",
            "Epoch 31/100\n",
            "80/80 [==============================] - 104s 1s/step - loss: 0.0025 - accuracy: 0.9985 - mse: 0.0025 - val_loss: 0.0028 - val_accuracy: 0.9987 - val_mse: 0.0028\n",
            "Epoch 32/100\n",
            "80/80 [==============================] - 105s 1s/step - loss: 0.0021 - accuracy: 0.9989 - mse: 0.0021 - val_loss: 0.0020 - val_accuracy: 0.9982 - val_mse: 0.0020\n",
            "Epoch 33/100\n",
            "80/80 [==============================] - 108s 1s/step - loss: 0.0023 - accuracy: 0.9986 - mse: 0.0023 - val_loss: 0.0013 - val_accuracy: 0.9991 - val_mse: 0.0013\n",
            "Epoch 34/100\n",
            "80/80 [==============================] - 104s 1s/step - loss: 0.0021 - accuracy: 0.9992 - mse: 0.0021 - val_loss: 0.0016 - val_accuracy: 0.9987 - val_mse: 0.0016\n",
            "Epoch 35/100\n",
            "80/80 [==============================] - 104s 1s/step - loss: 0.0020 - accuracy: 0.9990 - mse: 0.0020 - val_loss: 0.0033 - val_accuracy: 0.9987 - val_mse: 0.0033\n",
            "Epoch 36/100\n",
            "80/80 [==============================] - 104s 1s/step - loss: 0.0024 - accuracy: 0.9983 - mse: 0.0024 - val_loss: 0.0018 - val_accuracy: 0.9996 - val_mse: 0.0018\n",
            "Epoch 37/100\n",
            "80/80 [==============================] - 104s 1s/step - loss: 0.0670 - accuracy: 0.9231 - mse: 0.0670 - val_loss: 0.0096 - val_accuracy: 0.9907 - val_mse: 0.0096\n",
            "Epoch 38/100\n",
            "80/80 [==============================] - 104s 1s/step - loss: 0.0078 - accuracy: 0.9933 - mse: 0.0078 - val_loss: 0.0048 - val_accuracy: 0.9938 - val_mse: 0.0048\n",
            "Epoch 38: early stopping\n"
          ]
        }
      ],
      "source": [
        "model.compile(optimizer='adam',\n",
        "              loss='mse',\n",
        "              metrics=['accuracy','mse'])\n",
        "\n",
        "#Funcka umożliwia zatrzymanie się uczenia \n",
        "#gdy wartość strat przstanie maleć\n",
        "EarlyStop = EarlyStopping(monitor='val_loss',  \n",
        "                          verbose=1, \n",
        "                          patience=5)\n",
        "\n",
        "\n",
        "ModelCheck = ModelCheckpoint(filepath='/content/drive/MyDrive/Sieci/Zlaczone.h5',\n",
        "                             monitor='val_loss',\n",
        "                             save_best_only=True)\n",
        "\n",
        "\n",
        "history = model.fit(x=x_train, \n",
        "                    y=y_train, \n",
        "                    epochs=100,\n",
        "                    batch_size=256,\n",
        "                    validation_split=0.1,\n",
        "                    callbacks = [EarlyStop, ModelCheck]\n",
        "                   )"
      ]
    },
    {
      "cell_type": "code",
      "execution_count": 17,
      "id": "fe8633db",
      "metadata": {
        "id": "fe8633db",
        "outputId": "0aa3e804-5f64-4a5c-d561-19bf1538137b",
        "colab": {
          "base_uri": "https://localhost:8080/",
          "height": 300
        }
      },
      "outputs": [
        {
          "output_type": "execute_result",
          "data": {
            "text/plain": [
              "<matplotlib.legend.Legend at 0x7fa6f04f3250>"
            ]
          },
          "metadata": {},
          "execution_count": 17
        },
        {
          "output_type": "display_data",
          "data": {
            "text/plain": [
              "<Figure size 432x288 with 1 Axes>"
            ],
            "image/png": "[encoded data removed]"
          },
          "metadata": {
            "needs_background": "light"
          }
        }
      ],
      "source": [
        "plt.plot(history.history['loss'], label='strata')\n",
        "plt.plot(history.history['val_loss'], label = 'strata walidacyjna')\n",
        "plt.xlabel('Epoka')\n",
        "plt.ylabel('Strata')\n",
        "plt.ylim([0.0, 0.5])\n",
        "plt.legend(loc='upper right')"
      ]
    },
    {
      "cell_type": "code",
      "execution_count": 18,
      "id": "8b976089",
      "metadata": {
        "scrolled": true,
        "id": "8b976089",
        "outputId": "59e379d9-dba4-448f-99e8-0ff41b330da7",
        "colab": {
          "base_uri": "https://localhost:8080/",
          "height": 300
        }
      },
      "outputs": [
        {
          "output_type": "execute_result",
          "data": {
            "text/plain": [
              "<matplotlib.legend.Legend at 0x7fa6f04fec70>"
            ]
          },
          "metadata": {},
          "execution_count": 18
        },
        {
          "output_type": "display_data",
          "data": {
            "text/plain": [
              "<Figure size 432x288 with 1 Axes>"
            ],
            "image/png": "[encoded data removed]"
          },
          "metadata": {
            "needs_background": "light"
          }
        }
      ],
      "source": [
        "plt.plot(history.history['accuracy'], label='precyzja')\n",
        "plt.plot(history.history['val_accuracy'], label = 'precyzja walidacyjna')\n",
        "plt.xlabel('Epoka')\n",
        "plt.ylabel('Precyzja')\n",
        "plt.ylim([0.5, 1])\n",
        "plt.legend(loc='lower right')"
      ]
    },
    {
      "cell_type": "code",
      "source": [
        "best_model = tf.keras.models.load_model('/content/drive/MyDrive/Sieci/Zlaczone.h5')\n"
      ],
      "metadata": {
        "id": "HWqm9BVzLHfw"
      },
      "id": "HWqm9BVzLHfw",
      "execution_count": 19,
      "outputs": []
    },
    {
      "cell_type": "code",
      "execution_count": 20,
      "id": "685a286c",
      "metadata": {
        "id": "685a286c",
        "outputId": "9a0e5866-9e88-436c-c2d5-b111a864d982",
        "colab": {
          "base_uri": "https://localhost:8080/"
        }
      },
      "outputs": [
        {
          "output_type": "stream",
          "name": "stdout",
          "text": [
            "79/79 - 5s - loss: 0.0012 - accuracy: 0.9996 - mse: 0.0012 - 5s/epoch - 68ms/step\n"
          ]
        },
        {
          "output_type": "execute_result",
          "data": {
            "text/plain": [
              "[0.0011856788900864064, 0.9996031746031746, 0.0011856788900864064]"
            ]
          },
          "metadata": {},
          "execution_count": 20
        }
      ],
      "source": [
        "best_model.evaluate(x_test,  y_test, verbose=2)"
      ]
    },
    {
      "cell_type": "code",
      "execution_count": 21,
      "id": "ee941c13",
      "metadata": {
        "id": "ee941c13",
        "colab": {
          "base_uri": "https://localhost:8080/"
        },
        "outputId": "96a38a0f-afb8-453e-aff1-0b126d9549e1"
      },
      "outputs": [
        {
          "output_type": "stream",
          "name": "stdout",
          "text": [
            "79/79 [==============================] - 4s 53ms/step\n"
          ]
        }
      ],
      "source": [
        "predict_x = best_model.predict(x_test) \n",
        "\n",
        "predictions = (predict_x > 0.5).astype(\"int32\")"
      ]
    },
    {
      "cell_type": "code",
      "execution_count": 22,
      "id": "d8fb12f1",
      "metadata": {
        "id": "d8fb12f1",
        "outputId": "9cb8ea02-6c79-4f21-80f0-981e15bf3584",
        "colab": {
          "base_uri": "https://localhost:8080/"
        }
      },
      "outputs": [
        {
          "output_type": "stream",
          "name": "stdout",
          "text": [
            "[['Tn' 'Nn']\n",
            " ['Np' 'Tp']]\n"
          ]
        },
        {
          "output_type": "execute_result",
          "data": {
            "text/plain": [
              "<tf.Tensor: shape=(2, 2), dtype=int32, numpy=\n",
              "array([[1244,    1],\n",
              "       [   0, 1275]], dtype=int32)>"
            ]
          },
          "metadata": {},
          "execution_count": 22
        }
      ],
      "source": [
        "names = [['Tn','Nn'],['Np', 'Tp']]\n",
        "names = np.reshape(names,(2,2))\n",
        "print(names)\n",
        "\n",
        "names = tf.math.confusion_matrix(y_test,predictions)"
      ]
    },
    {
      "cell_type": "code",
      "source": [
        "\n",
        "#################################\n",
        "#                               #\n",
        "#    Wczytanie zdjęć aktorów    #\n",
        "#                               #\n",
        "#################################"
      ],
      "metadata": {
        "id": "8bjxw97eKGtx"
      },
      "id": "8bjxw97eKGtx",
      "execution_count": 23,
      "outputs": []
    },
    {
      "cell_type": "code",
      "source": [
        "with open(folder_aktorzy+aktorzy_CSV,\"r\") as csvfile:\n",
        "    lines = csvfile.readlines()\n",
        "csvfile.close()\n",
        "\n",
        "\n",
        "tmp = []\n",
        "actors_label = []\n",
        "\n",
        "for i in lines:\n",
        "    tmp.append(i.split(\" \"))\n",
        "\n",
        "#Tablica przechowująca etykiety aktorów   \n",
        "act_label = []\n",
        "for i in tmp[0]:\n",
        "    actors_label.append(int(i))    \n",
        "    \n",
        "print(len(actors_label))"
      ],
      "metadata": {
        "colab": {
          "base_uri": "https://localhost:8080/"
        },
        "id": "c8Fko2c4KG7r",
        "outputId": "b2731079-0755-481e-9b93-a339e64d2a81"
      },
      "id": "c8Fko2c4KG7r",
      "execution_count": 24,
      "outputs": [
        {
          "output_type": "stream",
          "name": "stdout",
          "text": [
            "2052\n"
          ]
        }
      ]
    },
    {
      "cell_type": "code",
      "execution_count": 25,
      "id": "62ceaefe",
      "metadata": {
        "id": "62ceaefe",
        "outputId": "f88fb2fb-47cf-4544-bf13-37d171256f8d",
        "colab": {
          "base_uri": "https://localhost:8080/"
        }
      },
      "outputs": [
        {
          "output_type": "stream",
          "name": "stdout",
          "text": [
            "2052\n"
          ]
        }
      ],
      "source": [
        "#Wczytanie zdjęć aktorów do tablicy\n",
        "\n",
        "actors_img = []\n",
        "size = len(actors_label)\n",
        "\n",
        "for i in range(size):\n",
        "    im = Image.open('/content/aktorzy/'+str(i)+'.png')\n",
        "    arr_im = np.array(im) \n",
        "    arr_im = arr_im / 255.0\n",
        "    actors_img.append(arr_im) \n",
        "print(len(actors_img))\n"
      ]
    },
    {
      "cell_type": "code",
      "execution_count": 26,
      "id": "d8cd5537",
      "metadata": {
        "id": "d8cd5537",
        "outputId": "4f3fffd0-9371-4b7c-b1e2-0773a4725d3e",
        "colab": {
          "base_uri": "https://localhost:8080/",
          "height": 340
        }
      },
      "outputs": [
        {
          "output_type": "stream",
          "name": "stdout",
          "text": [
            "[[0.984 0.984 0.984 ... 0.192 0.196 0.196]\n",
            " [0.984 0.984 0.98  ... 0.2   0.192 0.192]\n",
            " [0.984 0.98  0.976 ... 0.204 0.196 0.192]\n",
            " ...\n",
            " [0.98  0.98  0.98  ... 0.298 0.294 0.29 ]\n",
            " [0.98  0.98  0.98  ... 0.294 0.298 0.302]\n",
            " [0.98  0.98  0.98  ... 0.298 0.31  0.302]]\n"
          ]
        },
        {
          "output_type": "display_data",
          "data": {
            "text/plain": [
              "<Figure size 432x288 with 1 Axes>"
            ],
            "image/png": "[encoded data removed]"
          },
          "metadata": {
            "needs_background": "light"
          }
        }
      ],
      "source": [
        "actors_label = np.array(actors_label)\n",
        "actors_img= np.array(actors_img)\n",
        "plt.imshow(actors_img[0],cmap = 'gray')\n",
        "print(actors_img[0])"
      ]
    },
    {
      "cell_type": "code",
      "source": [
        "best_model.evaluate(actors_img, actors_label, verbose=2)"
      ],
      "metadata": {
        "colab": {
          "base_uri": "https://localhost:8080/"
        },
        "id": "SV4EtOtbdfgb",
        "outputId": "d6f2f720-7900-488a-af3c-f6d8288f9af6"
      },
      "id": "SV4EtOtbdfgb",
      "execution_count": 27,
      "outputs": [
        {
          "output_type": "stream",
          "name": "stdout",
          "text": [
            "65/65 - 4s - loss: 0.4848 - accuracy: 0.4288 - mse: 0.4848 - 4s/epoch - 55ms/step\n"
          ]
        },
        {
          "output_type": "execute_result",
          "data": {
            "text/plain": [
              "[0.484803090217225, 0.42884990253411304, 0.484803090217225]"
            ]
          },
          "metadata": {},
          "execution_count": 27
        }
      ]
    },
    {
      "cell_type": "code",
      "execution_count": 28,
      "id": "304612c1",
      "metadata": {
        "id": "304612c1",
        "outputId": "21e4970b-2365-4e21-ed5d-220b01f378d1",
        "colab": {
          "base_uri": "https://localhost:8080/"
        }
      },
      "outputs": [
        {
          "output_type": "stream",
          "name": "stdout",
          "text": [
            "65/65 [==============================] - 3s 53ms/step\n",
            "[[0.375]\n",
            " [0.58 ]\n",
            " [0.629]\n",
            " ...\n",
            " [0.848]\n",
            " [0.798]\n",
            " [0.   ]]\n"
          ]
        }
      ],
      "source": [
        "#Testowanie sieci z wykorzystaniem zdjęć aktorów \n",
        "\n",
        "predict_actors = best_model.predict(actors_img) \n",
        "\n",
        "print(predict_actors)\n",
        "predict = (predict_actors > 0.5).astype(\"int32\")"
      ]
    },
    {
      "cell_type": "code",
      "execution_count": 29,
      "id": "29f5ab15",
      "metadata": {
        "id": "29f5ab15",
        "colab": {
          "base_uri": "https://localhost:8080/"
        },
        "outputId": "10f52548-0b24-4dc1-bef9-4cf9c0e837b4"
      },
      "outputs": [
        {
          "output_type": "stream",
          "name": "stdout",
          "text": [
            "[['Tn' 'Nn']\n",
            " ['Np' 'Tp']]\n"
          ]
        },
        {
          "output_type": "execute_result",
          "data": {
            "text/plain": [
              "<tf.Tensor: shape=(2, 2), dtype=int32, numpy=\n",
              "array([[397, 629],\n",
              "       [543, 483]], dtype=int32)>"
            ]
          },
          "metadata": {},
          "execution_count": 29
        }
      ],
      "source": [
        "print(names)\n",
        "\n",
        "tf.math.confusion_matrix(actors_label,predict)"
      ]
    },
    {
      "cell_type": "code",
      "execution_count": 29,
      "id": "992cfbdd",
      "metadata": {
        "id": "992cfbdd"
      },
      "outputs": [],
      "source": []
    }
  ],
  "metadata": {
    "kernelspec": {
      "display_name": "py39",
      "language": "python",
      "name": "py39"
    },
    "language_info": {
      "codemirror_mode": {
        "name": "ipython",
        "version": 3
      },
      "file_extension": ".py",
      "mimetype": "text/x-python",
      "name": "python",
      "nbconvert_exporter": "python",
      "pygments_lexer": "ipython3",
      "version": "3.9.12"
    },
    "colab": {
      "provenance": [],
      "include_colab_link": true
    },
    "accelerator": "GPU",
    "gpuClass": "standard"
  },
  "nbformat": 4,
  "nbformat_minor": 5
}