{
  "cells": [
    {
      "cell_type": "markdown",
      "metadata": {
        "id": "view-in-github",
        "colab_type": "text"
      },
      "source": [
        "<a href=\"https://colab.research.google.com/github/ajankowi/Praca_inz/blob/master/Siec/Zlaczone_siec_4_Colab.ipynb\" target=\"_parent\"><img src=\"https://colab.research.google.com/assets/colab-badge.svg\" alt=\"Open In Colab\"/></a>"
      ]
    },
    {
      "cell_type": "code",
      "execution_count": 9,
      "id": "613f08b5",
      "metadata": {
        "id": "613f08b5",
        "outputId": "88b302e2-ab2c-4c3e-a950-59081e5e1a3e",
        "colab": {
          "base_uri": "https://localhost:8080/"
        }
      },
      "outputs": [
        {
          "output_type": "stream",
          "name": "stdout",
          "text": [
            "3.8.16 (default, Dec  7 2022, 01:12:13) \n",
            "[GCC 7.5.0]\n"
          ]
        }
      ],
      "source": [
        "import sys\n",
        "print(sys.version)"
      ]
    },
    {
      "cell_type": "code",
      "source": [
        "from google.colab import drive\n",
        "drive.mount(\"/content/drive\", force_remount=True)"
      ],
      "metadata": {
        "colab": {
          "base_uri": "https://localhost:8080/"
        },
        "id": "iY1o7_NmVlGs",
        "outputId": "d68775f2-8806-4693-896a-0aa8e4d613ac"
      },
      "id": "iY1o7_NmVlGs",
      "execution_count": 10,
      "outputs": [
        {
          "output_type": "stream",
          "name": "stdout",
          "text": [
            "Mounted at /content/drive\n"
          ]
        }
      ]
    },
    {
      "cell_type": "code",
      "execution_count": 11,
      "id": "5eca1117",
      "metadata": {
        "id": "5eca1117",
        "outputId": "6de61b77-3760-4dde-b3ad-b76e377a7966",
        "colab": {
          "base_uri": "https://localhost:8080/"
        }
      },
      "outputs": [
        {
          "output_type": "stream",
          "name": "stdout",
          "text": [
            "TensorFlow version: 2.9.2\n"
          ]
        }
      ],
      "source": [
        "import tensorflow as tf\n",
        "from tensorflow.keras import layers, models\n",
        "from tensorflow.keras.layers import Flatten, add, Dense, Dropout\n",
        "from tensorflow.keras.callbacks import EarlyStopping\n",
        "from tensorflow.keras.callbacks import ModelCheckpoint\n",
        "\n",
        "\n",
        "print(\"TensorFlow version:\", tf.__version__)\n",
        "tf.keras.backend.set_floatx('float64')"
      ]
    },
    {
      "cell_type": "code",
      "execution_count": 12,
      "id": "12022d37",
      "metadata": {
        "id": "12022d37"
      },
      "outputs": [],
      "source": [
        "import matplotlib.pyplot as plt\n",
        "import numpy as np\n",
        "import pandas as pd\n",
        "import seaborn as sns\n",
        "from PIL import Image\n",
        "import os\n",
        "import csv\n",
        "import random\n",
        "\n",
        "import cv2\n",
        "import imutils\n",
        "import glob\n",
        "# Make NumPy printouts easier to read.\n",
        "np.set_printoptions(precision=3, suppress=True)"
      ]
    },
    {
      "cell_type": "code",
      "execution_count": 13,
      "id": "1086f893",
      "metadata": {
        "id": "1086f893"
      },
      "outputs": [],
      "source": [
        "#Określenie ścieżek do plików\n",
        "zip = '/content/drive/MyDrive/Sieci/Baza_zdjec_zlaczone_2/Baza_zdjec_zlaczone_2.zip'\n",
        "nazwa_CSV = 'nowe.csv'\n",
        "\n",
        "folder_aktorzy = '/content/drive/MyDrive/Sieci/Baza_aktorzy_zlaczone/'\n",
        "aktorzy_CSV = 'aktorzy.csv'\n",
        "slesh = '/'\n",
        "png = '.png'"
      ]
    },
    {
      "cell_type": "code",
      "source": [
        "!unzip '/content/drive/MyDrive/Sieci/Baza_zdjec_zlaczone_2/Baza_zdjec_zlaczone_2.zip' -d '/content'"
      ],
      "metadata": {
        "id": "FXtX4UDo9x77"
      },
      "id": "FXtX4UDo9x77",
      "execution_count": null,
      "outputs": []
    },
    {
      "cell_type": "code",
      "execution_count": 16,
      "id": "d0329f31",
      "metadata": {
        "id": "d0329f31"
      },
      "outputs": [],
      "source": [
        "def release_list(a):\n",
        "    \n",
        "    del a[:]\n",
        "    del a"
      ]
    },
    {
      "cell_type": "code",
      "execution_count": 18,
      "id": "5beb89e7",
      "metadata": {
        "id": "5beb89e7",
        "outputId": "84d6f973-af27-4e16-d23e-d4ae27d74450",
        "colab": {
          "base_uri": "https://localhost:8080/"
        }
      },
      "outputs": [
        {
          "output_type": "stream",
          "name": "stdout",
          "text": [
            "25200\n"
          ]
        }
      ],
      "source": [
        "#Wczytanie pliku CSV do tablicy images\n",
        "\n",
        "with open(folder+nazwa_CSV,\"r\") as csvfile:\n",
        "    lines = csvfile.readlines()\n",
        "csvfile.close()\n",
        "\n",
        "new = []\n",
        "\n",
        "for i in lines:\n",
        "    new.append(i.split(\" \"))\n",
        "\n",
        "    \n",
        "value = []\n",
        "for i in new[0]:\n",
        "    value.append(int(i))    \n",
        "    \n",
        "print(len(value))"
      ]
    },
    {
      "cell_type": "code",
      "execution_count": 19,
      "id": "d9cb09d8",
      "metadata": {
        "id": "d9cb09d8",
        "outputId": "76152202-72bd-475e-9d0f-491ffa884dc6",
        "colab": {
          "base_uri": "https://localhost:8080/"
        }
      },
      "outputs": [
        {
          "output_type": "stream",
          "name": "stdout",
          "text": [
            "25200\n"
          ]
        }
      ],
      "source": [
        "#Wczytanie zdjęć do tablicy images\n",
        "images = []\n",
        "size = len(value)\n",
        "\n",
        "for i in range(size):\n",
        "    im = Image.open('/content/'+str(i)+'.png')\n",
        "    arr_im = np.array(im) \n",
        "    arr_im = arr_im / 255.0\n",
        "    images.append(arr_im) \n",
        "print(len(images))"
      ]
    },
    {
      "cell_type": "code",
      "execution_count": null,
      "id": "44a7c0bf",
      "metadata": {
        "id": "44a7c0bf"
      },
      "outputs": [],
      "source": [
        "#Inicjalizacja tablic\n",
        "rand_list = []\n",
        "rand_list = np.zeros((len(images)), dtype=np.uint8)\n",
        "\n",
        "x_test = []\n",
        "y_test = []\n",
        "\n",
        "x_train = []\n",
        "y_train = []\n",
        "\n",
        "\n",
        "#Okreslanie wielkosci zbiorów\n",
        "nighty = int(len(images)*90/100)\n",
        "ten = len(images) - nighty\n",
        "\n",
        "#Losowanie zbioru testowego\n",
        "for i in range(nighty):\n",
        "    \n",
        "    #Pierwsze losowanie wartości\n",
        "    rand = random.randint(0,len(images)-1)\n",
        "    \n",
        "    #Sprawdzenie czy wylosowana wartość się powtarza\n",
        "    while (rand_list[rand] == 1) :\n",
        "        #Jeżeli tak to ponownie losuje\n",
        "        rand = random.randint(0,len(images)-1)\n",
        "    \n",
        "    #Zapisanie zdjecia i wartości do nowej tablicy\n",
        "    x_train.append(images[rand])\n",
        "    y_train.append(value[rand])\n",
        "    rand_list[rand] = 1\n",
        "\n",
        "#Losowanie zbioru uczącego\n",
        "for j in range(ten):\n",
        "    \n",
        "    #Pierwsze losowanie wartości\n",
        "    rand = random.randint(0,len(images)-1)\n",
        "    \n",
        "    #Sprawdzenie czy wylosowana wartość się powtarza\n",
        "    while (rand_list[rand] == 1) :\n",
        "        #Jeżeli tak to ponownie losuje\n",
        "        rand = random.randint(0,len(images)-1)\n",
        "        \n",
        "    #Zapisanie zdjecia i wartości do nowej tablicy\n",
        "    x_test.append(images[rand])\n",
        "    y_test.append(value[rand])\n",
        "    rand_list[rand] = 1\n",
        "    \n",
        "    \n",
        "release_list(images)\n",
        "release_list(value)"
      ]
    },
    {
      "cell_type": "code",
      "execution_count": null,
      "id": "8fccbbcc",
      "metadata": {
        "id": "8fccbbcc",
        "outputId": "8d2a56f2-34af-4de8-992c-f9778edefa3d",
        "colab": {
          "base_uri": "https://localhost:8080/"
        }
      },
      "outputs": [
        {
          "output_type": "stream",
          "name": "stdout",
          "text": [
            "9.96%\n",
            "90.04%\n"
          ]
        }
      ],
      "source": [
        "#Sprawdzenie poprawności losowania\n",
        "val_1 = 100 * sum(y_test) / (size / 2)\n",
        "print(\"%.2f\" % val_1 + '%') \n",
        "\n",
        "\n",
        "val_2 = 100 * sum(y_train) / (size / 2)\n",
        "print(\"%.2f\" % val_2 + '%') \n",
        "\n",
        "\n"
      ]
    },
    {
      "cell_type": "code",
      "execution_count": null,
      "id": "f7f4dd4b",
      "metadata": {
        "id": "f7f4dd4b"
      },
      "outputs": [],
      "source": [
        "x_train = np.array(x_train)\n",
        "x_test = np.array(x_test)\n",
        "\n",
        "y_train = np.array(y_train)\n",
        "y_test = np.array(y_test)"
      ]
    },
    {
      "cell_type": "code",
      "execution_count": null,
      "id": "d3a370cb",
      "metadata": {
        "id": "d3a370cb",
        "outputId": "da839661-cd27-4b92-a9a0-737f5337563d",
        "colab": {
          "base_uri": "https://localhost:8080/",
          "height": 340
        }
      },
      "outputs": [
        {
          "output_type": "stream",
          "name": "stdout",
          "text": [
            "[[0.    0.    0.    ... 0.    0.    0.   ]\n",
            " [0.149 0.145 0.161 ... 0.    0.    0.   ]\n",
            " [0.165 0.157 0.227 ... 0.027 0.008 0.   ]\n",
            " ...\n",
            " [0.    0.129 0.145 ... 0.031 0.    0.   ]\n",
            " [0.    0.129 0.141 ... 0.008 0.    0.   ]\n",
            " [0.    0.125 0.133 ... 0.    0.    0.   ]]\n"
          ]
        },
        {
          "output_type": "display_data",
          "data": {
            "text/plain": [
              "<Figure size 432x288 with 1 Axes>"
            ],
            "image/png": "[encoded data removed]"
          },
          "metadata": {
            "needs_background": "light"
          }
        }
      ],
      "source": [
        "plt.imshow(x_train[0],cmap = 'gray')\n",
        "print(x_train[0])"
      ]
    },
    {
      "cell_type": "code",
      "execution_count": null,
      "id": "772c7d7c",
      "metadata": {
        "id": "772c7d7c"
      },
      "outputs": [],
      "source": [
        "model = models.Sequential()\n",
        "model.add(layers.Conv2D(32, (3, 3), activation='relu', input_shape=(64, 128, 1)))\n",
        "model.add(layers.MaxPooling2D((2, 2)))\n",
        "model.add(Dropout(0.1))\n",
        "\n",
        "model.add(layers.Conv2D(64, (3, 3), activation='relu'))\n",
        "model.add(layers.MaxPooling2D((2, 2)))\n",
        "model.add(Dropout(0.1))\n",
        "\n",
        "model.add(layers.Conv2D(64, (3, 3), activation='relu'))\n",
        "model.add(layers.MaxPooling2D((2, 2)))\n",
        "model.add(Dropout(0.1))\n",
        "\n",
        "model.add(layers.Flatten())\n",
        "model.add(layers.Dense(64, activation='relu', kernel_regularizer=regularizers.l2(0.01)))\n",
        "model.add(layers.Dense(1, activation='relu'))\n"
      ]
    },
    {
      "cell_type": "code",
      "execution_count": null,
      "id": "b86f72df",
      "metadata": {
        "id": "b86f72df",
        "outputId": "47bf9d6f-5795-43f6-8b6a-208596abea27",
        "colab": {
          "base_uri": "https://localhost:8080/"
        }
      },
      "outputs": [
        {
          "output_type": "stream",
          "name": "stdout",
          "text": [
            "Model: \"sequential\"\n",
            "_________________________________________________________________\n",
            " Layer (type)                Output Shape              Param #   \n",
            "=================================================================\n",
            " conv2d (Conv2D)             (None, 62, 126, 32)       320       \n",
            "                                                                 \n",
            " max_pooling2d (MaxPooling2D  (None, 31, 63, 32)       0         \n",
            " )                                                               \n",
            "                                                                 \n",
            " dropout (Dropout)           (None, 31, 63, 32)        0         \n",
            "                                                                 \n",
            " conv2d_1 (Conv2D)           (None, 29, 61, 64)        18496     \n",
            "                                                                 \n",
            " max_pooling2d_1 (MaxPooling  (None, 14, 30, 64)       0         \n",
            " 2D)                                                             \n",
            "                                                                 \n",
            " dropout_1 (Dropout)         (None, 14, 30, 64)        0         \n",
            "                                                                 \n",
            " conv2d_2 (Conv2D)           (None, 12, 28, 64)        36928     \n",
            "                                                                 \n",
            " max_pooling2d_2 (MaxPooling  (None, 6, 14, 64)        0         \n",
            " 2D)                                                             \n",
            "                                                                 \n",
            " dropout_2 (Dropout)         (None, 6, 14, 64)         0         \n",
            "                                                                 \n",
            " flatten (Flatten)           (None, 5376)              0         \n",
            "                                                                 \n",
            " dense (Dense)               (None, 64)                344128    \n",
            "                                                                 \n",
            " dense_1 (Dense)             (None, 1)                 65        \n",
            "                                                                 \n",
            "=================================================================\n",
            "Total params: 399,937\n",
            "Trainable params: 399,937\n",
            "Non-trainable params: 0\n",
            "_________________________________________________________________\n"
          ]
        }
      ],
      "source": [
        "model.summary()"
      ]
    },
    {
      "cell_type": "code",
      "execution_count": null,
      "id": "9beb77e5",
      "metadata": {
        "id": "9beb77e5",
        "outputId": "73b9206b-5945-4a47-e79b-504faff07d6b",
        "colab": {
          "base_uri": "https://localhost:8080/"
        }
      },
      "outputs": [
        {
          "output_type": "stream",
          "name": "stdout",
          "text": [
            "Epoch 1/40\n",
            "80/80 [==============================] - 39s 436ms/step - loss: 0.2774 - accuracy: 0.5377 - mse: 0.2774 - val_loss: 0.2504 - val_accuracy: 0.4894 - val_mse: 0.2504\n",
            "Epoch 2/40\n",
            "80/80 [==============================] - 33s 409ms/step - loss: 0.1927 - accuracy: 0.6811 - mse: 0.1927 - val_loss: 0.1780 - val_accuracy: 0.7496 - val_mse: 0.1780\n",
            "Epoch 3/40\n",
            "80/80 [==============================] - 33s 414ms/step - loss: 0.1293 - accuracy: 0.8295 - mse: 0.1293 - val_loss: 0.0944 - val_accuracy: 0.8986 - val_mse: 0.0944\n",
            "Epoch 4/40\n",
            "80/80 [==============================] - 33s 415ms/step - loss: 0.0786 - accuracy: 0.9098 - mse: 0.0786 - val_loss: 0.0809 - val_accuracy: 0.9255 - val_mse: 0.0809\n",
            "Epoch 5/40\n",
            "80/80 [==============================] - 33s 413ms/step - loss: 0.0577 - accuracy: 0.9397 - mse: 0.0577 - val_loss: 0.0533 - val_accuracy: 0.9674 - val_mse: 0.0533\n",
            "Epoch 6/40\n",
            "80/80 [==============================] - 33s 414ms/step - loss: 0.0451 - accuracy: 0.9600 - mse: 0.0451 - val_loss: 0.0584 - val_accuracy: 0.9533 - val_mse: 0.0584\n",
            "Epoch 7/40\n",
            "80/80 [==============================] - 33s 414ms/step - loss: 0.0396 - accuracy: 0.9668 - mse: 0.0396 - val_loss: 0.0309 - val_accuracy: 0.9859 - val_mse: 0.0309\n",
            "Epoch 8/40\n",
            "80/80 [==============================] - 33s 415ms/step - loss: 0.0317 - accuracy: 0.9757 - mse: 0.0317 - val_loss: 0.0327 - val_accuracy: 0.9903 - val_mse: 0.0327\n",
            "Epoch 9/40\n",
            "80/80 [==============================] - 33s 414ms/step - loss: 0.0288 - accuracy: 0.9815 - mse: 0.0288 - val_loss: 0.0226 - val_accuracy: 0.9934 - val_mse: 0.0226\n",
            "Epoch 10/40\n",
            "80/80 [==============================] - 33s 413ms/step - loss: 0.0238 - accuracy: 0.9871 - mse: 0.0238 - val_loss: 0.0296 - val_accuracy: 0.9912 - val_mse: 0.0296\n",
            "Epoch 11/40\n",
            "80/80 [==============================] - 33s 414ms/step - loss: 0.0208 - accuracy: 0.9898 - mse: 0.0208 - val_loss: 0.0206 - val_accuracy: 0.9956 - val_mse: 0.0206\n",
            "Epoch 12/40\n",
            "80/80 [==============================] - 33s 414ms/step - loss: 0.0188 - accuracy: 0.9925 - mse: 0.0188 - val_loss: 0.0215 - val_accuracy: 0.9969 - val_mse: 0.0215\n",
            "Epoch 13/40\n",
            "80/80 [==============================] - 34s 420ms/step - loss: 0.0168 - accuracy: 0.9936 - mse: 0.0168 - val_loss: 0.0196 - val_accuracy: 0.9965 - val_mse: 0.0196\n",
            "Epoch 14/40\n",
            "80/80 [==============================] - 33s 415ms/step - loss: 0.0154 - accuracy: 0.9944 - mse: 0.0154 - val_loss: 0.0132 - val_accuracy: 0.9982 - val_mse: 0.0132\n",
            "Epoch 15/40\n",
            "80/80 [==============================] - 33s 413ms/step - loss: 0.0139 - accuracy: 0.9959 - mse: 0.0139 - val_loss: 0.0150 - val_accuracy: 0.9974 - val_mse: 0.0150\n",
            "Epoch 16/40\n",
            "80/80 [==============================] - 33s 415ms/step - loss: 0.0131 - accuracy: 0.9964 - mse: 0.0131 - val_loss: 0.0127 - val_accuracy: 0.9991 - val_mse: 0.0127\n",
            "Epoch 17/40\n",
            "80/80 [==============================] - 33s 413ms/step - loss: 0.0118 - accuracy: 0.9968 - mse: 0.0118 - val_loss: 0.0124 - val_accuracy: 0.9991 - val_mse: 0.0124\n",
            "Epoch 18/40\n",
            "80/80 [==============================] - 33s 414ms/step - loss: 0.0109 - accuracy: 0.9971 - mse: 0.0109 - val_loss: 0.0105 - val_accuracy: 0.9982 - val_mse: 0.0105\n",
            "Epoch 19/40\n",
            "80/80 [==============================] - 33s 413ms/step - loss: 0.0103 - accuracy: 0.9977 - mse: 0.0103 - val_loss: 0.0098 - val_accuracy: 0.9987 - val_mse: 0.0098\n",
            "Epoch 20/40\n",
            "80/80 [==============================] - 33s 415ms/step - loss: 0.0103 - accuracy: 0.9977 - mse: 0.0103 - val_loss: 0.0081 - val_accuracy: 0.9991 - val_mse: 0.0081\n",
            "Epoch 21/40\n",
            "80/80 [==============================] - 33s 414ms/step - loss: 0.0087 - accuracy: 0.9980 - mse: 0.0087 - val_loss: 0.0075 - val_accuracy: 0.9991 - val_mse: 0.0075\n",
            "Epoch 22/40\n",
            "80/80 [==============================] - 33s 414ms/step - loss: 0.0082 - accuracy: 0.9985 - mse: 0.0082 - val_loss: 0.0077 - val_accuracy: 0.9996 - val_mse: 0.0077\n",
            "Epoch 23/40\n",
            "80/80 [==============================] - 33s 413ms/step - loss: 0.0081 - accuracy: 0.9982 - mse: 0.0081 - val_loss: 0.0076 - val_accuracy: 0.9991 - val_mse: 0.0076\n",
            "Epoch 24/40\n",
            "80/80 [==============================] - 33s 413ms/step - loss: 0.0076 - accuracy: 0.9986 - mse: 0.0076 - val_loss: 0.0076 - val_accuracy: 0.9996 - val_mse: 0.0076\n",
            "Epoch 25/40\n",
            "80/80 [==============================] - 33s 414ms/step - loss: 0.0073 - accuracy: 0.9988 - mse: 0.0073 - val_loss: 0.0070 - val_accuracy: 0.9996 - val_mse: 0.0070\n",
            "Epoch 26/40\n",
            "80/80 [==============================] - 33s 414ms/step - loss: 0.0069 - accuracy: 0.9988 - mse: 0.0069 - val_loss: 0.0077 - val_accuracy: 0.9996 - val_mse: 0.0077\n",
            "Epoch 27/40\n",
            "80/80 [==============================] - 33s 413ms/step - loss: 0.0066 - accuracy: 0.9990 - mse: 0.0066 - val_loss: 0.0074 - val_accuracy: 0.9991 - val_mse: 0.0074\n",
            "Epoch 28/40\n",
            "80/80 [==============================] - 33s 413ms/step - loss: 0.0063 - accuracy: 0.9990 - mse: 0.0063 - val_loss: 0.0080 - val_accuracy: 0.9991 - val_mse: 0.0080\n",
            "Epoch 29/40\n",
            "80/80 [==============================] - 33s 414ms/step - loss: 0.0060 - accuracy: 0.9993 - mse: 0.0060 - val_loss: 0.0049 - val_accuracy: 0.9996 - val_mse: 0.0049\n",
            "Epoch 30/40\n",
            "80/80 [==============================] - 33s 413ms/step - loss: 0.0058 - accuracy: 0.9991 - mse: 0.0058 - val_loss: 0.0057 - val_accuracy: 0.9991 - val_mse: 0.0057\n",
            "Epoch 31/40\n",
            "80/80 [==============================] - 33s 414ms/step - loss: 0.0055 - accuracy: 0.9993 - mse: 0.0055 - val_loss: 0.0059 - val_accuracy: 0.9996 - val_mse: 0.0059\n",
            "Epoch 32/40\n",
            "80/80 [==============================] - 33s 413ms/step - loss: 0.0052 - accuracy: 0.9993 - mse: 0.0052 - val_loss: 0.0042 - val_accuracy: 0.9996 - val_mse: 0.0042\n",
            "Epoch 33/40\n",
            "80/80 [==============================] - 33s 414ms/step - loss: 0.0052 - accuracy: 0.9995 - mse: 0.0052 - val_loss: 0.0054 - val_accuracy: 0.9996 - val_mse: 0.0054\n",
            "Epoch 34/40\n",
            "80/80 [==============================] - 33s 414ms/step - loss: 0.0047 - accuracy: 0.9997 - mse: 0.0047 - val_loss: 0.0059 - val_accuracy: 0.9996 - val_mse: 0.0059\n",
            "Epoch 35/40\n",
            "80/80 [==============================] - 33s 414ms/step - loss: 0.0048 - accuracy: 0.9992 - mse: 0.0048 - val_loss: 0.0066 - val_accuracy: 0.9996 - val_mse: 0.0066\n",
            "Epoch 36/40\n",
            "80/80 [==============================] - 33s 413ms/step - loss: 0.0046 - accuracy: 0.9995 - mse: 0.0046 - val_loss: 0.0075 - val_accuracy: 0.9996 - val_mse: 0.0075\n",
            "Epoch 37/40\n",
            "80/80 [==============================] - 33s 414ms/step - loss: 0.0045 - accuracy: 0.9994 - mse: 0.0045 - val_loss: 0.0049 - val_accuracy: 0.9996 - val_mse: 0.0049\n",
            "Epoch 37: early stopping\n"
          ]
        }
      ],
      "source": [
        "model.compile(optimizer='adam',\n",
        "              loss='mse',\n",
        "              metrics=['accuracy','mse'])\n",
        "\n",
        "#Funcka umożliwia zatrzymanie się uczenia \n",
        "#gdy wartość strat przstanie maleć\n",
        "EarlyStop = EarlyStopping(monitor='val_loss',  \n",
        "                          verbose=1, \n",
        "                          patience=5)\n",
        "\n",
        "\n",
        "ModelCheck = ModelCheckpoint(filepath='/content/drive/MyDrive/Sieci/Zlaczone.h5',\n",
        "                             monitor='var_loss',\n",
        "                             save_best_only=True)\n",
        "\n",
        "\n",
        "history = model.fit(x=x_train, \n",
        "                    y=y_train, \n",
        "                    epochs=100,\n",
        "                    batch_size=256,\n",
        "                    validation_split=0.1,\n",
        "                    callbacks = [EarlyStop, ModelCheck]\n",
        "                   )"
      ]
    },
    {
      "cell_type": "code",
      "execution_count": null,
      "id": "fe8633db",
      "metadata": {
        "id": "fe8633db",
        "outputId": "6c4cf0c6-70eb-4740-a4bd-64cf3849f57b",
        "colab": {
          "base_uri": "https://localhost:8080/",
          "height": 300
        }
      },
      "outputs": [
        {
          "output_type": "execute_result",
          "data": {
            "text/plain": [
              "<matplotlib.legend.Legend at 0x7f753a2a8580>"
            ]
          },
          "metadata": {},
          "execution_count": 16
        },
        {
          "output_type": "display_data",
          "data": {
            "text/plain": [
              "<Figure size 432x288 with 1 Axes>"
            ],
            "image/png": "[encoded data removed]"
          },
          "metadata": {
            "needs_background": "light"
          }
        }
      ],
      "source": [
        "plt.plot(history.history['loss'], label='strata')\n",
        "plt.plot(history.history['val_loss'], label = 'strata walidacyjna')\n",
        "plt.xlabel('Epoka')\n",
        "plt.ylabel('Strata')\n",
        "plt.ylim([0.0, 0.5])\n",
        "plt.legend(loc='upper right')"
      ]
    },
    {
      "cell_type": "code",
      "execution_count": null,
      "id": "8b976089",
      "metadata": {
        "scrolled": true,
        "id": "8b976089",
        "outputId": "a6b8b900-a20a-40dc-ae0e-4b1af9017d6b",
        "colab": {
          "base_uri": "https://localhost:8080/",
          "height": 300
        }
      },
      "outputs": [
        {
          "output_type": "execute_result",
          "data": {
            "text/plain": [
              "<matplotlib.legend.Legend at 0x7f753a1ef880>"
            ]
          },
          "metadata": {},
          "execution_count": 17
        },
        {
          "output_type": "display_data",
          "data": {
            "text/plain": [
              "<Figure size 432x288 with 1 Axes>"
            ],
            "image/png": "[encoded data removed]"
          },
          "metadata": {
            "needs_background": "light"
          }
        }
      ],
      "source": [
        "plt.plot(history.history['accuracy'], label='precyzja')\n",
        "plt.plot(history.history['val_accuracy'], label = 'precyzja walidacyjna')\n",
        "plt.xlabel('Epoka')\n",
        "plt.ylabel('Precyzja')\n",
        "plt.ylim([0.5, 1])\n",
        "plt.legend(loc='lower right')"
      ]
    },
    {
      "cell_type": "code",
      "execution_count": null,
      "id": "685a286c",
      "metadata": {
        "id": "685a286c",
        "outputId": "cccb4979-497c-400d-d222-a27c768b4e39",
        "colab": {
          "base_uri": "https://localhost:8080/"
        }
      },
      "outputs": [
        {
          "output_type": "stream",
          "name": "stdout",
          "text": [
            "79/79 - 2s - loss: 0.0048 - accuracy: 0.9992 - mse: 0.0048 - 2s/epoch - 23ms/step\n"
          ]
        },
        {
          "output_type": "execute_result",
          "data": {
            "text/plain": [
              "[0.004811971610372273, 0.9992063492063492, 0.004811971610372273]"
            ]
          },
          "metadata": {},
          "execution_count": 18
        }
      ],
      "source": [
        "model.evaluate(x_test,  y_test, verbose=2)"
      ]
    },
    {
      "cell_type": "code",
      "execution_count": null,
      "id": "ee941c13",
      "metadata": {
        "id": "ee941c13",
        "colab": {
          "base_uri": "https://localhost:8080/"
        },
        "outputId": "3ff1aa44-7db1-4af6-d551-8f6e9ef9a6cf"
      },
      "outputs": [
        {
          "output_type": "stream",
          "name": "stdout",
          "text": [
            "79/79 [==============================] - 1s 17ms/step\n"
          ]
        }
      ],
      "source": [
        "predict_x = model.predict(x_test) \n",
        "\n",
        "predictions = (predict_x > 0.5).astype(\"int32\")"
      ]
    },
    {
      "cell_type": "code",
      "execution_count": null,
      "id": "d8fb12f1",
      "metadata": {
        "id": "d8fb12f1",
        "outputId": "cdf0f390-6ede-47f1-f5c8-2a1aa301096e",
        "colab": {
          "base_uri": "https://localhost:8080/"
        }
      },
      "outputs": [
        {
          "output_type": "stream",
          "name": "stdout",
          "text": [
            "[['Tn' 'Nn']\n",
            " ['Np' 'Tp']]\n"
          ]
        },
        {
          "output_type": "execute_result",
          "data": {
            "text/plain": [
              "<tf.Tensor: shape=(2, 2), dtype=int32, numpy=\n",
              "array([[1263,    2],\n",
              "       [   0, 1255]], dtype=int32)>"
            ]
          },
          "metadata": {},
          "execution_count": 20
        }
      ],
      "source": [
        "names = [['Tn','Nn'],['Np', 'Tp']]\n",
        "names = np.reshape(names,(2,2))\n",
        "print(names)\n",
        "\n",
        "tf.math.confusion_matrix(y_test,predictions)"
      ]
    },
    {
      "cell_type": "code",
      "execution_count": null,
      "id": "391d9616",
      "metadata": {
        "id": "391d9616"
      },
      "outputs": [],
      "source": [
        "\n",
        "\n",
        "\n",
        "\n",
        "\n",
        "#################################\n",
        "#                               #\n",
        "#    Wczytanie zdjęć aktorów    #\n",
        "#                               #\n",
        "#################################\n",
        "\n",
        "\n",
        "\n",
        "\n"
      ]
    },
    {
      "cell_type": "code",
      "execution_count": null,
      "id": "53be553c",
      "metadata": {
        "id": "53be553c",
        "outputId": "fcf123cd-f0f2-4097-e248-71390a761972",
        "colab": {
          "base_uri": "https://localhost:8080/"
        }
      },
      "outputs": [
        {
          "output_type": "stream",
          "name": "stdout",
          "text": [
            "2052\n"
          ]
        }
      ],
      "source": [
        "with open(folder_aktorzy+aktorzy_CSV,\"r\") as csvfile:\n",
        "    lines = csvfile.readlines()\n",
        "csvfile.close()\n",
        "\n",
        "\n",
        "tmp = []\n",
        "actors_label = []\n",
        "\n",
        "for i in lines:\n",
        "    tmp.append(i.split(\" \"))\n",
        "\n",
        "#Tablica przechowująca etykiety aktorów   \n",
        "act_label = []\n",
        "for i in tmp[0]:\n",
        "    actors_label.append(int(i))    \n",
        "    \n",
        "print(len(actors_label))"
      ]
    },
    {
      "cell_type": "code",
      "execution_count": null,
      "id": "62ceaefe",
      "metadata": {
        "id": "62ceaefe",
        "outputId": "755903b0-1181-469e-e682-f999e4ae4d1d",
        "colab": {
          "base_uri": "https://localhost:8080/"
        }
      },
      "outputs": [
        {
          "output_type": "stream",
          "name": "stdout",
          "text": [
            "2052\n"
          ]
        }
      ],
      "source": [
        "#Wczytanie zdjęć aktorów do tablicy\n",
        "\n",
        "actors_img = []\n",
        "size = len(actors_label)\n",
        "\n",
        "for i in range(size):\n",
        "    im = Image.open('/content/drive/MyDrive/Sieci/Baza_aktorzy_zlaczone/'+str(i)+'.png')\n",
        "    arr_im = np.array(im) \n",
        "    arr_im = arr_im / 255.0\n",
        "    actors_img.append(arr_im) \n",
        "print(len(actors_img))"
      ]
    },
    {
      "cell_type": "code",
      "execution_count": null,
      "id": "d8cd5537",
      "metadata": {
        "id": "d8cd5537",
        "outputId": "1277160d-7f97-41ea-8c74-45e0b21d033b",
        "colab": {
          "base_uri": "https://localhost:8080/",
          "height": 340
        }
      },
      "outputs": [
        {
          "output_type": "stream",
          "name": "stdout",
          "text": [
            "[[0.984 0.984 0.984 ... 0.192 0.196 0.196]\n",
            " [0.984 0.984 0.98  ... 0.2   0.192 0.192]\n",
            " [0.984 0.98  0.976 ... 0.204 0.196 0.192]\n",
            " ...\n",
            " [0.98  0.98  0.98  ... 0.298 0.294 0.29 ]\n",
            " [0.98  0.98  0.98  ... 0.294 0.298 0.302]\n",
            " [0.98  0.98  0.98  ... 0.298 0.31  0.302]]\n"
          ]
        },
        {
          "output_type": "display_data",
          "data": {
            "text/plain": [
              "<Figure size 432x288 with 1 Axes>"
            ],
            "image/png": "[encoded data removed]"
          },
          "metadata": {
            "needs_background": "light"
          }
        }
      ],
      "source": [
        "actors_img= np.array(actors_img)\n",
        "plt.imshow(actors_img[0],cmap = 'gray')\n",
        "print(actors_img[0])"
      ]
    },
    {
      "cell_type": "code",
      "execution_count": null,
      "id": "304612c1",
      "metadata": {
        "id": "304612c1",
        "outputId": "ae32c3ea-2ce5-4866-fdd5-c6345126c340",
        "colab": {
          "base_uri": "https://localhost:8080/"
        }
      },
      "outputs": [
        {
          "output_type": "stream",
          "name": "stdout",
          "text": [
            "65/65 [==============================] - 1s 19ms/step\n",
            "[[0.   ]\n",
            " [0.469]\n",
            " [0.136]\n",
            " ...\n",
            " [0.252]\n",
            " [0.525]\n",
            " [0.026]]\n"
          ]
        }
      ],
      "source": [
        "#Testowanie sieci z wykorzystaniem zdjęć aktorów \n",
        "\n",
        "predict_actors = model.predict(actors_img) \n",
        "\n",
        "print(predict_actors)\n",
        "predict = (predict_actors > 0.5).astype(\"int32\")"
      ]
    },
    {
      "cell_type": "code",
      "execution_count": null,
      "id": "29f5ab15",
      "metadata": {
        "id": "29f5ab15",
        "colab": {
          "base_uri": "https://localhost:8080/"
        },
        "outputId": "39b79673-a864-4b7c-ddd4-7157c1428040"
      },
      "outputs": [
        {
          "output_type": "stream",
          "name": "stdout",
          "text": [
            "[['Tn' 'Nn']\n",
            " ['Np' 'Tp']]\n"
          ]
        },
        {
          "output_type": "execute_result",
          "data": {
            "text/plain": [
              "<tf.Tensor: shape=(2, 2), dtype=int32, numpy=\n",
              "array([[672, 354],\n",
              "       [489, 537]], dtype=int32)>"
            ]
          },
          "metadata": {},
          "execution_count": 28
        }
      ],
      "source": [
        "print(names)\n",
        "\n",
        "tf.math.confusion_matrix(actors_label,predict)"
      ]
    },
    {
      "cell_type": "code",
      "execution_count": null,
      "id": "992cfbdd",
      "metadata": {
        "id": "992cfbdd"
      },
      "outputs": [],
      "source": []
    }
  ],
  "metadata": {
    "kernelspec": {
      "display_name": "py39",
      "language": "python",
      "name": "py39"
    },
    "language_info": {
      "codemirror_mode": {
        "name": "ipython",
        "version": 3
      },
      "file_extension": ".py",
      "mimetype": "text/x-python",
      "name": "python",
      "nbconvert_exporter": "python",
      "pygments_lexer": "ipython3",
      "version": "3.9.12"
    },
    "colab": {
      "provenance": [],
      "include_colab_link": true
    },
    "accelerator": "GPU",
    "gpuClass": "standard"
  },
  "nbformat": 4,
  "nbformat_minor": 5
}