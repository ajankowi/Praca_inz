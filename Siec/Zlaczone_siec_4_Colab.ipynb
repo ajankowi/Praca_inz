{
  "cells": [
    {
      "cell_type": "markdown",
      "metadata": {
        "id": "view-in-github",
        "colab_type": "text"
      },
      "source": [
        "<a href=\"https://colab.research.google.com/github/ajankowi/Praca_inz/blob/master/Siec/Zlaczone_siec_4_Colab.ipynb\" target=\"_parent\"><img src=\"https://colab.research.google.com/assets/colab-badge.svg\" alt=\"Open In Colab\"/></a>"
      ]
    },
    {
      "cell_type": "code",
      "execution_count": 1,
      "id": "613f08b5",
      "metadata": {
        "id": "613f08b5",
        "outputId": "ac3a6ef4-5dab-4517-8341-e4fdb5f9be67",
        "colab": {
          "base_uri": "https://localhost:8080/"
        }
      },
      "outputs": [
        {
          "output_type": "stream",
          "name": "stdout",
          "text": [
            "3.8.16 (default, Dec  7 2022, 01:12:13) \n",
            "[GCC 7.5.0]\n"
          ]
        }
      ],
      "source": [
        "import sys\n",
        "print(sys.version)"
      ]
    },
    {
      "cell_type": "code",
      "source": [
        "#from google.colab import drive\n",
        "#drive.mount(\"/content/drive\", force_remount=True)"
      ],
      "metadata": {
        "id": "iY1o7_NmVlGs"
      },
      "id": "iY1o7_NmVlGs",
      "execution_count": 2,
      "outputs": []
    },
    {
      "cell_type": "code",
      "execution_count": 3,
      "id": "5eca1117",
      "metadata": {
        "id": "5eca1117",
        "outputId": "4548a427-2b23-4dc7-cf8d-83b37fa97420",
        "colab": {
          "base_uri": "https://localhost:8080/"
        }
      },
      "outputs": [
        {
          "output_type": "stream",
          "name": "stdout",
          "text": [
            "TensorFlow version: 2.9.2\n"
          ]
        }
      ],
      "source": [
        "import tensorflow as tf\n",
        "from tensorflow import keras\n",
        "from keras import layers, models, regularizers\n",
        "from keras.layers import Flatten, add, Dense, Dropout \n",
        "from keras.callbacks import ModelCheckpoint, EarlyStopping\n",
        "\n",
        "\n",
        "print(\"TensorFlow version:\", tf.__version__)\n",
        "tf.keras.backend.set_floatx('float64')"
      ]
    },
    {
      "cell_type": "code",
      "execution_count": 4,
      "id": "12022d37",
      "metadata": {
        "id": "12022d37"
      },
      "outputs": [],
      "source": [
        "import matplotlib.pyplot as plt\n",
        "import numpy as np\n",
        "import pandas as pd\n",
        "import seaborn as sns\n",
        "from PIL import Image\n",
        "import os\n",
        "import csv\n",
        "import random\n",
        "\n",
        "import cv2\n",
        "import imutils\n",
        "import glob\n",
        "# Make NumPy printouts easier to read.\n",
        "np.set_printoptions(precision=3, suppress=True)"
      ]
    },
    {
      "cell_type": "code",
      "execution_count": 5,
      "id": "1086f893",
      "metadata": {
        "id": "1086f893"
      },
      "outputs": [],
      "source": [
        "#Określenie ścieżek do plików\n",
        "zip = '/content/drive/MyDrive/Sieci/Baza_zdjec_zlaczone_2/Baza_zdjec_zlaczone_2.zip'\n",
        "nazwa_CSV = 'nowe.csv'\n",
        "folder = '/content/drive/MyDrive/Sieci/Baza_zdjec_zlaczone_2/'\n",
        "folder_aktorzy = '/content/drive/MyDrive/Sieci/Baza_aktorzy_zlaczone/'\n",
        "aktorzy_CSV = 'aktorzy.csv'\n",
        "slesh = '/'\n",
        "png = '.png'"
      ]
    },
    {
      "cell_type": "code",
      "source": [
        "#!unzip '/content/drive/MyDrive/Sieci/Baza_zdjec_zlaczone_2/Baza_zdjec_zlaczone_2.zip' -d '/content/zdjecia/'\n",
        "#!unzip '/content/drive/MyDrive/Sieci/Baza_aktorzy_zlaczone/Baza_aktorzy_zlaczone.zip' -d '/content/aktorzy/'"
      ],
      "metadata": {
        "id": "FXtX4UDo9x77"
      },
      "id": "FXtX4UDo9x77",
      "execution_count": 6,
      "outputs": []
    },
    {
      "cell_type": "code",
      "execution_count": 7,
      "id": "d0329f31",
      "metadata": {
        "id": "d0329f31"
      },
      "outputs": [],
      "source": [
        "def release_list(a):\n",
        "    \n",
        "    del a[:]\n",
        "    del a"
      ]
    },
    {
      "cell_type": "code",
      "execution_count": 8,
      "id": "5beb89e7",
      "metadata": {
        "id": "5beb89e7",
        "outputId": "1eb196a1-bfcc-44ef-c33c-f03ac40751ba",
        "colab": {
          "base_uri": "https://localhost:8080/"
        }
      },
      "outputs": [
        {
          "output_type": "stream",
          "name": "stdout",
          "text": [
            "25200\n"
          ]
        }
      ],
      "source": [
        "#Wczytanie pliku CSV do tablicy images\n",
        "\n",
        "with open(folder+nazwa_CSV,\"r\") as csvfile:\n",
        "    lines = csvfile.readlines()\n",
        "csvfile.close()\n",
        "\n",
        "new = []\n",
        "\n",
        "for i in lines:\n",
        "    new.append(i.split(\" \"))\n",
        "\n",
        "    \n",
        "value = []\n",
        "for i in new[0]:\n",
        "    value.append(int(i))    \n",
        "    \n",
        "print(len(value))"
      ]
    },
    {
      "cell_type": "code",
      "execution_count": 9,
      "id": "d9cb09d8",
      "metadata": {
        "id": "d9cb09d8",
        "outputId": "e770d91f-ca90-45bb-eac7-15f2169036d7",
        "colab": {
          "base_uri": "https://localhost:8080/"
        }
      },
      "outputs": [
        {
          "output_type": "stream",
          "name": "stdout",
          "text": [
            "25200\n"
          ]
        }
      ],
      "source": [
        "#Wczytanie zdjęć do tablicy images\n",
        "images = []\n",
        "size = len(value)\n",
        "\n",
        "for i in range(size):\n",
        "    im = Image.open('/content/zdjecia/'+str(i)+'.png')\n",
        "    arr_im = np.array(im) \n",
        "    arr_im = arr_im / 255.0\n",
        "    images.append(arr_im) \n",
        "print(len(images))"
      ]
    },
    {
      "cell_type": "code",
      "execution_count": 10,
      "id": "44a7c0bf",
      "metadata": {
        "id": "44a7c0bf"
      },
      "outputs": [],
      "source": [
        "#Inicjalizacja tablic\n",
        "rand_list = []\n",
        "rand_list = np.zeros((len(images)), dtype=np.uint8)\n",
        "\n",
        "x_test = []\n",
        "y_test = []\n",
        "\n",
        "x_train = []\n",
        "y_train = []\n",
        "\n",
        "\n",
        "#Okreslanie wielkosci zbiorów\n",
        "nighty = int(len(images)*90/100)\n",
        "ten = len(images) - nighty\n",
        "\n",
        "#Losowanie zbioru testowego\n",
        "for i in range(nighty):\n",
        "    \n",
        "    #Pierwsze losowanie wartości\n",
        "    rand = random.randint(0,len(images)-1)\n",
        "    \n",
        "    #Sprawdzenie czy wylosowana wartość się powtarza\n",
        "    while (rand_list[rand] == 1) :\n",
        "        #Jeżeli tak to ponownie losuje\n",
        "        rand = random.randint(0,len(images)-1)\n",
        "    \n",
        "    #Zapisanie zdjecia i wartości do nowej tablicy\n",
        "    x_train.append(images[rand])\n",
        "    y_train.append(value[rand])\n",
        "    rand_list[rand] = 1\n",
        "\n",
        "#Losowanie zbioru uczącego\n",
        "for j in range(ten):\n",
        "    \n",
        "    #Pierwsze losowanie wartości\n",
        "    rand = random.randint(0,len(images)-1)\n",
        "    \n",
        "    #Sprawdzenie czy wylosowana wartość się powtarza\n",
        "    while (rand_list[rand] == 1) :\n",
        "        #Jeżeli tak to ponownie losuje\n",
        "        rand = random.randint(0,len(images)-1)\n",
        "        \n",
        "    #Zapisanie zdjecia i wartości do nowej tablicy\n",
        "    x_test.append(images[rand])\n",
        "    y_test.append(value[rand])\n",
        "    rand_list[rand] = 1\n",
        "    \n",
        "    \n",
        "release_list(images)\n",
        "release_list(value)"
      ]
    },
    {
      "cell_type": "code",
      "execution_count": 11,
      "id": "8fccbbcc",
      "metadata": {
        "id": "8fccbbcc",
        "outputId": "b40176da-a873-4785-dec9-6a35f7451bf8",
        "colab": {
          "base_uri": "https://localhost:8080/"
        }
      },
      "outputs": [
        {
          "output_type": "stream",
          "name": "stdout",
          "text": [
            "9.79%\n",
            "90.21%\n"
          ]
        }
      ],
      "source": [
        "#Sprawdzenie poprawności losowania\n",
        "val_1 = 100 * sum(y_test) / (size / 2)\n",
        "print(\"%.2f\" % val_1 + '%') \n",
        "\n",
        "\n",
        "val_2 = 100 * sum(y_train) / (size / 2)\n",
        "print(\"%.2f\" % val_2 + '%') \n",
        "\n",
        "\n"
      ]
    },
    {
      "cell_type": "code",
      "execution_count": 12,
      "id": "f7f4dd4b",
      "metadata": {
        "id": "f7f4dd4b"
      },
      "outputs": [],
      "source": [
        "x_train = np.array(x_train)\n",
        "x_test = np.array(x_test)\n",
        "\n",
        "y_train = np.array(y_train)\n",
        "y_test = np.array(y_test)"
      ]
    },
    {
      "cell_type": "code",
      "execution_count": 13,
      "id": "d3a370cb",
      "metadata": {
        "id": "d3a370cb",
        "outputId": "ae992815-7ddd-40c3-e36e-373e9ae4f88c",
        "colab": {
          "base_uri": "https://localhost:8080/",
          "height": 357
        }
      },
      "outputs": [
        {
          "output_type": "stream",
          "name": "stdout",
          "text": [
            "[[0.    0.    0.    ... 0.369 0.    0.   ]\n",
            " [0.    0.    0.    ... 0.396 0.    0.   ]\n",
            " [0.373 0.408 0.412 ... 0.431 0.    0.   ]\n",
            " ...\n",
            " [0.    0.02  0.294 ... 0.278 0.282 0.275]\n",
            " [0.    0.    0.278 ... 0.016 0.    0.   ]\n",
            " [0.    0.    0.259 ... 0.    0.    0.   ]]\n",
            "1\n"
          ]
        },
        {
          "output_type": "display_data",
          "data": {
            "text/plain": [
              "<Figure size 432x288 with 1 Axes>"
            ],
            "image/png": "[encoded data removed]"
          },
          "metadata": {
            "needs_background": "light"
          }
        }
      ],
      "source": [
        "plt.imshow(x_train[0],cmap = 'gray')\n",
        "print(x_train[0])\n",
        "print(y_train[0])"
      ]
    },
    {
      "cell_type": "code",
      "execution_count": 14,
      "id": "772c7d7c",
      "metadata": {
        "id": "772c7d7c"
      },
      "outputs": [],
      "source": [
        "model = models.Sequential()\n",
        "model.add(layers.Conv2D(32, (3, 3), activation='relu', input_shape=(64, 128, 1)))\n",
        "model.add(layers.MaxPooling2D((2, 2)))\n",
        "model.add(Dropout(0.1))\n",
        "\n",
        "model.add(layers.Conv2D(64, (3, 3), activation='relu'))\n",
        "model.add(layers.MaxPooling2D((2, 2)))\n",
        "model.add(Dropout(0.1))\n",
        "\n",
        "model.add(layers.Conv2D(64, (3, 3), activation='relu'))\n",
        "model.add(layers.MaxPooling2D((2, 2)))\n",
        "model.add(Dropout(0.1))\n",
        "\n",
        "model.add(layers.Flatten())\n",
        "model.add(layers.Dense(64, activation='relu', kernel_regularizer=keras.regularizers.l2(l=0.1)))\n",
        "model.add(layers.Dense(1, activation='relu'))\n"
      ]
    },
    {
      "cell_type": "code",
      "execution_count": 15,
      "id": "b86f72df",
      "metadata": {
        "id": "b86f72df",
        "outputId": "e41de8c8-5a6b-4f5f-bb24-02f47dab8d4e",
        "colab": {
          "base_uri": "https://localhost:8080/"
        }
      },
      "outputs": [
        {
          "output_type": "stream",
          "name": "stdout",
          "text": [
            "Model: \"sequential\"\n",
            "_________________________________________________________________\n",
            " Layer (type)                Output Shape              Param #   \n",
            "=================================================================\n",
            " conv2d (Conv2D)             (None, 62, 126, 32)       320       \n",
            "                                                                 \n",
            " max_pooling2d (MaxPooling2D  (None, 31, 63, 32)       0         \n",
            " )                                                               \n",
            "                                                                 \n",
            " dropout (Dropout)           (None, 31, 63, 32)        0         \n",
            "                                                                 \n",
            " conv2d_1 (Conv2D)           (None, 29, 61, 64)        18496     \n",
            "                                                                 \n",
            " max_pooling2d_1 (MaxPooling  (None, 14, 30, 64)       0         \n",
            " 2D)                                                             \n",
            "                                                                 \n",
            " dropout_1 (Dropout)         (None, 14, 30, 64)        0         \n",
            "                                                                 \n",
            " conv2d_2 (Conv2D)           (None, 12, 28, 64)        36928     \n",
            "                                                                 \n",
            " max_pooling2d_2 (MaxPooling  (None, 6, 14, 64)        0         \n",
            " 2D)                                                             \n",
            "                                                                 \n",
            " dropout_2 (Dropout)         (None, 6, 14, 64)         0         \n",
            "                                                                 \n",
            " flatten (Flatten)           (None, 5376)              0         \n",
            "                                                                 \n",
            " dense (Dense)               (None, 64)                344128    \n",
            "                                                                 \n",
            " dense_1 (Dense)             (None, 1)                 65        \n",
            "                                                                 \n",
            "=================================================================\n",
            "Total params: 399,937\n",
            "Trainable params: 399,937\n",
            "Non-trainable params: 0\n",
            "_________________________________________________________________\n"
          ]
        }
      ],
      "source": [
        "model.summary()"
      ]
    },
    {
      "cell_type": "code",
      "execution_count": 16,
      "id": "9beb77e5",
      "metadata": {
        "id": "9beb77e5",
        "outputId": "426bb6b6-0735-4ba9-c1ce-c064485fd25e",
        "colab": {
          "base_uri": "https://localhost:8080/"
        }
      },
      "outputs": [
        {
          "output_type": "stream",
          "name": "stdout",
          "text": [
            "Epoch 1/100\n",
            "80/80 [==============================] - 42s 466ms/step - loss: 1.8891 - accuracy: 0.6245 - mse: 0.2235 - val_loss: 0.2113 - val_accuracy: 0.6618 - val_mse: 0.1950\n",
            "Epoch 2/100\n",
            "80/80 [==============================] - 34s 425ms/step - loss: 0.1865 - accuracy: 0.7451 - mse: 0.1672 - val_loss: 0.1757 - val_accuracy: 0.7822 - val_mse: 0.1544\n",
            "Epoch 3/100\n",
            "80/80 [==============================] - 34s 425ms/step - loss: 0.1617 - accuracy: 0.8043 - mse: 0.1368 - val_loss: 0.1383 - val_accuracy: 0.8571 - val_mse: 0.1112\n",
            "Epoch 4/100\n",
            "80/80 [==============================] - 34s 426ms/step - loss: 0.1371 - accuracy: 0.8534 - mse: 0.1107 - val_loss: 0.1116 - val_accuracy: 0.8955 - val_mse: 0.0855\n",
            "Epoch 5/100\n",
            "80/80 [==============================] - 33s 417ms/step - loss: 0.2019 - accuracy: 0.8313 - mse: 0.1307 - val_loss: 0.5199 - val_accuracy: 0.7487 - val_mse: 0.1779\n",
            "Epoch 6/100\n",
            "80/80 [==============================] - 33s 416ms/step - loss: 0.2487 - accuracy: 0.8360 - mse: 0.1210 - val_loss: 0.1337 - val_accuracy: 0.8999 - val_mse: 0.0907\n",
            "Epoch 7/100\n",
            "80/80 [==============================] - 33s 417ms/step - loss: 0.1666 - accuracy: 0.8314 - mse: 0.1250 - val_loss: 0.1402 - val_accuracy: 0.8677 - val_mse: 0.1078\n",
            "Epoch 8/100\n",
            "80/80 [==============================] - 34s 422ms/step - loss: 0.1113 - accuracy: 0.8996 - mse: 0.0837 - val_loss: 0.0943 - val_accuracy: 0.9092 - val_mse: 0.0706\n",
            "Epoch 9/100\n",
            "80/80 [==============================] - 34s 422ms/step - loss: 0.0857 - accuracy: 0.9283 - mse: 0.0643 - val_loss: 0.0721 - val_accuracy: 0.9577 - val_mse: 0.0523\n",
            "Epoch 10/100\n",
            "80/80 [==============================] - 34s 422ms/step - loss: 0.0767 - accuracy: 0.9374 - mse: 0.0580 - val_loss: 0.0704 - val_accuracy: 0.9608 - val_mse: 0.0516\n",
            "Epoch 11/100\n",
            "80/80 [==============================] - 34s 422ms/step - loss: 0.0662 - accuracy: 0.9509 - mse: 0.0487 - val_loss: 0.0542 - val_accuracy: 0.9603 - val_mse: 0.0367\n",
            "Epoch 12/100\n",
            "80/80 [==============================] - 33s 416ms/step - loss: 0.0612 - accuracy: 0.9542 - mse: 0.0451 - val_loss: 0.0636 - val_accuracy: 0.9656 - val_mse: 0.0473\n",
            "Epoch 13/100\n",
            "80/80 [==============================] - 34s 422ms/step - loss: 0.0586 - accuracy: 0.9576 - mse: 0.0424 - val_loss: 0.0452 - val_accuracy: 0.9727 - val_mse: 0.0302\n",
            "Epoch 14/100\n",
            "80/80 [==============================] - 34s 420ms/step - loss: 0.0539 - accuracy: 0.9617 - mse: 0.0391 - val_loss: 0.0434 - val_accuracy: 0.9771 - val_mse: 0.0286\n",
            "Epoch 15/100\n",
            "80/80 [==============================] - 33s 416ms/step - loss: 0.0543 - accuracy: 0.9623 - mse: 0.0396 - val_loss: 0.0630 - val_accuracy: 0.9674 - val_mse: 0.0479\n",
            "Epoch 16/100\n",
            "80/80 [==============================] - 34s 420ms/step - loss: 0.0507 - accuracy: 0.9645 - mse: 0.0359 - val_loss: 0.0384 - val_accuracy: 0.9766 - val_mse: 0.0244\n",
            "Epoch 17/100\n",
            "80/80 [==============================] - 33s 415ms/step - loss: 0.0546 - accuracy: 0.9590 - mse: 0.0386 - val_loss: 0.0421 - val_accuracy: 0.9634 - val_mse: 0.0284\n",
            "Epoch 18/100\n",
            "80/80 [==============================] - 33s 416ms/step - loss: 0.0475 - accuracy: 0.9673 - mse: 0.0337 - val_loss: 0.0407 - val_accuracy: 0.9691 - val_mse: 0.0270\n",
            "Epoch 19/100\n",
            "80/80 [==============================] - 33s 416ms/step - loss: 0.0462 - accuracy: 0.9681 - mse: 0.0327 - val_loss: 0.0416 - val_accuracy: 0.9696 - val_mse: 0.0283\n",
            "Epoch 20/100\n",
            "80/80 [==============================] - 33s 415ms/step - loss: 0.0494 - accuracy: 0.9661 - mse: 0.0355 - val_loss: 0.0397 - val_accuracy: 0.9775 - val_mse: 0.0259\n",
            "Epoch 21/100\n",
            "80/80 [==============================] - 34s 425ms/step - loss: 0.0423 - accuracy: 0.9720 - mse: 0.0292 - val_loss: 0.0350 - val_accuracy: 0.9788 - val_mse: 0.0220\n",
            "Epoch 22/100\n",
            "80/80 [==============================] - 33s 415ms/step - loss: 0.0416 - accuracy: 0.9718 - mse: 0.0289 - val_loss: 0.0372 - val_accuracy: 0.9744 - val_mse: 0.0240\n",
            "Epoch 23/100\n",
            "80/80 [==============================] - 33s 417ms/step - loss: 0.0442 - accuracy: 0.9695 - mse: 0.0311 - val_loss: 0.0357 - val_accuracy: 0.9810 - val_mse: 0.0230\n",
            "Epoch 24/100\n",
            "80/80 [==============================] - 33s 417ms/step - loss: 0.0414 - accuracy: 0.9724 - mse: 0.0285 - val_loss: 0.0368 - val_accuracy: 0.9846 - val_mse: 0.0241\n",
            "Epoch 25/100\n",
            "80/80 [==============================] - 34s 421ms/step - loss: 0.0436 - accuracy: 0.9688 - mse: 0.0303 - val_loss: 0.0339 - val_accuracy: 0.9766 - val_mse: 0.0207\n",
            "Epoch 26/100\n",
            "80/80 [==============================] - 33s 416ms/step - loss: 0.0390 - accuracy: 0.9741 - mse: 0.0264 - val_loss: 0.0363 - val_accuracy: 0.9872 - val_mse: 0.0241\n",
            "Epoch 27/100\n",
            "80/80 [==============================] - 34s 422ms/step - loss: 0.0370 - accuracy: 0.9755 - mse: 0.0246 - val_loss: 0.0326 - val_accuracy: 0.9806 - val_mse: 0.0210\n",
            "Epoch 28/100\n",
            "80/80 [==============================] - 34s 421ms/step - loss: 0.0419 - accuracy: 0.9716 - mse: 0.0289 - val_loss: 0.0290 - val_accuracy: 0.9863 - val_mse: 0.0167\n",
            "Epoch 29/100\n",
            "80/80 [==============================] - 33s 415ms/step - loss: 0.0392 - accuracy: 0.9743 - mse: 0.0265 - val_loss: 0.0311 - val_accuracy: 0.9837 - val_mse: 0.0196\n",
            "Epoch 30/100\n",
            "80/80 [==============================] - 34s 422ms/step - loss: 0.0362 - accuracy: 0.9778 - mse: 0.0242 - val_loss: 0.0288 - val_accuracy: 0.9850 - val_mse: 0.0160\n",
            "Epoch 31/100\n",
            "80/80 [==============================] - 33s 417ms/step - loss: 0.0367 - accuracy: 0.9780 - mse: 0.0242 - val_loss: 0.0394 - val_accuracy: 0.9740 - val_mse: 0.0274\n",
            "Epoch 32/100\n",
            "80/80 [==============================] - 33s 416ms/step - loss: 0.0360 - accuracy: 0.9774 - mse: 0.0237 - val_loss: 0.0305 - val_accuracy: 0.9841 - val_mse: 0.0175\n",
            "Epoch 33/100\n",
            "80/80 [==============================] - 34s 423ms/step - loss: 0.0351 - accuracy: 0.9783 - mse: 0.0228 - val_loss: 0.0274 - val_accuracy: 0.9872 - val_mse: 0.0152\n",
            "Epoch 34/100\n",
            "80/80 [==============================] - 33s 415ms/step - loss: 0.0328 - accuracy: 0.9807 - mse: 0.0209 - val_loss: 0.0318 - val_accuracy: 0.9793 - val_mse: 0.0210\n",
            "Epoch 35/100\n",
            "80/80 [==============================] - 33s 416ms/step - loss: 0.0346 - accuracy: 0.9776 - mse: 0.0232 - val_loss: 0.0309 - val_accuracy: 0.9824 - val_mse: 0.0191\n",
            "Epoch 36/100\n",
            "80/80 [==============================] - 33s 416ms/step - loss: 0.0331 - accuracy: 0.9800 - mse: 0.0213 - val_loss: 0.0304 - val_accuracy: 0.9850 - val_mse: 0.0190\n",
            "Epoch 37/100\n",
            "80/80 [==============================] - 34s 424ms/step - loss: 0.0334 - accuracy: 0.9801 - mse: 0.0216 - val_loss: 0.0268 - val_accuracy: 0.9885 - val_mse: 0.0156\n",
            "Epoch 38/100\n",
            "80/80 [==============================] - 33s 417ms/step - loss: 0.0316 - accuracy: 0.9798 - mse: 0.0204 - val_loss: 0.0320 - val_accuracy: 0.9810 - val_mse: 0.0206\n",
            "Epoch 39/100\n",
            "80/80 [==============================] - 34s 422ms/step - loss: 0.0300 - accuracy: 0.9826 - mse: 0.0189 - val_loss: 0.0252 - val_accuracy: 0.9877 - val_mse: 0.0144\n",
            "Epoch 40/100\n",
            "80/80 [==============================] - 33s 416ms/step - loss: 0.0323 - accuracy: 0.9807 - mse: 0.0208 - val_loss: 0.0264 - val_accuracy: 0.9793 - val_mse: 0.0154\n",
            "Epoch 41/100\n",
            "80/80 [==============================] - 33s 415ms/step - loss: 0.0300 - accuracy: 0.9829 - mse: 0.0188 - val_loss: 0.0377 - val_accuracy: 0.9810 - val_mse: 0.0262\n",
            "Epoch 42/100\n",
            "80/80 [==============================] - 34s 421ms/step - loss: 0.0298 - accuracy: 0.9834 - mse: 0.0185 - val_loss: 0.0217 - val_accuracy: 0.9921 - val_mse: 0.0113\n",
            "Epoch 43/100\n",
            "80/80 [==============================] - 33s 416ms/step - loss: 0.0298 - accuracy: 0.9817 - mse: 0.0193 - val_loss: 0.0351 - val_accuracy: 0.9802 - val_mse: 0.0229\n",
            "Epoch 44/100\n",
            "80/80 [==============================] - 33s 415ms/step - loss: 0.0303 - accuracy: 0.9823 - mse: 0.0187 - val_loss: 0.0219 - val_accuracy: 0.9903 - val_mse: 0.0121\n",
            "Epoch 45/100\n",
            "80/80 [==============================] - 34s 423ms/step - loss: 0.0265 - accuracy: 0.9837 - mse: 0.0166 - val_loss: 0.0228 - val_accuracy: 0.9925 - val_mse: 0.0125\n",
            "Epoch 46/100\n",
            "80/80 [==============================] - 33s 416ms/step - loss: 0.0263 - accuracy: 0.9854 - mse: 0.0159 - val_loss: 0.0234 - val_accuracy: 0.9899 - val_mse: 0.0119\n",
            "Epoch 47/100\n",
            "80/80 [==============================] - 33s 415ms/step - loss: 0.0285 - accuracy: 0.9828 - mse: 0.0178 - val_loss: 0.0240 - val_accuracy: 0.9899 - val_mse: 0.0127\n",
            "Epoch 47: early stopping\n"
          ]
        }
      ],
      "source": [
        "model.compile(optimizer='adam',\n",
        "              loss='mse',\n",
        "              metrics=['accuracy','mse'])\n",
        "\n",
        "#Funcka umożliwia zatrzymanie się uczenia \n",
        "#gdy wartość strat przstanie maleć\n",
        "EarlyStop = EarlyStopping(monitor='val_loss',  \n",
        "                          verbose=1, \n",
        "                          patience=5)\n",
        "\n",
        "\n",
        "ModelCheck = ModelCheckpoint(filepath='/content/drive/MyDrive/Sieci/Zlaczone.h5',\n",
        "                             monitor='val_loss',\n",
        "                             save_best_only=True)\n",
        "\n",
        "\n",
        "history = model.fit(x=x_train, \n",
        "                    y=y_train, \n",
        "                    epochs=100,\n",
        "                    batch_size=256,\n",
        "                    validation_split=0.1,\n",
        "                    callbacks = [EarlyStop, ModelCheck]\n",
        "                   )"
      ]
    },
    {
      "cell_type": "code",
      "execution_count": 17,
      "id": "fe8633db",
      "metadata": {
        "id": "fe8633db",
        "outputId": "2781445e-1ecb-4ff8-ef0b-5bf02261cfb3",
        "colab": {
          "base_uri": "https://localhost:8080/",
          "height": 300
        }
      },
      "outputs": [
        {
          "output_type": "execute_result",
          "data": {
            "text/plain": [
              "<matplotlib.legend.Legend at 0x7fa430388be0>"
            ]
          },
          "metadata": {},
          "execution_count": 17
        },
        {
          "output_type": "display_data",
          "data": {
            "text/plain": [
              "<Figure size 432x288 with 1 Axes>"
            ],
            "image/png": "[encoded data removed]"
          },
          "metadata": {
            "needs_background": "light"
          }
        }
      ],
      "source": [
        "plt.plot(history.history['loss'], label='strata')\n",
        "plt.plot(history.history['val_loss'], label = 'strata walidacyjna')\n",
        "plt.xlabel('Epoka')\n",
        "plt.ylabel('Strata')\n",
        "plt.ylim([0.0, 0.5])\n",
        "plt.legend(loc='upper right')"
      ]
    },
    {
      "cell_type": "code",
      "execution_count": 18,
      "id": "8b976089",
      "metadata": {
        "scrolled": true,
        "id": "8b976089",
        "outputId": "68a91452-d5f0-45fc-f271-b500a81302c6",
        "colab": {
          "base_uri": "https://localhost:8080/",
          "height": 300
        }
      },
      "outputs": [
        {
          "output_type": "execute_result",
          "data": {
            "text/plain": [
              "<matplotlib.legend.Legend at 0x7fa430e0ecd0>"
            ]
          },
          "metadata": {},
          "execution_count": 18
        },
        {
          "output_type": "display_data",
          "data": {
            "text/plain": [
              "<Figure size 432x288 with 1 Axes>"
            ],
            "image/png": "[encoded data removed]"
          },
          "metadata": {
            "needs_background": "light"
          }
        }
      ],
      "source": [
        "plt.plot(history.history['accuracy'], label='precyzja')\n",
        "plt.plot(history.history['val_accuracy'], label = 'precyzja walidacyjna')\n",
        "plt.xlabel('Epoka')\n",
        "plt.ylabel('Precyzja')\n",
        "plt.ylim([0.5, 1])\n",
        "plt.legend(loc='lower right')"
      ]
    },
    {
      "cell_type": "code",
      "execution_count": 19,
      "id": "685a286c",
      "metadata": {
        "id": "685a286c",
        "outputId": "f7fad6a7-dd7f-43cc-ac2a-180e1fa0b40b",
        "colab": {
          "base_uri": "https://localhost:8080/"
        }
      },
      "outputs": [
        {
          "output_type": "stream",
          "name": "stdout",
          "text": [
            "79/79 - 2s - loss: 0.0217 - accuracy: 0.9921 - mse: 0.0104 - 2s/epoch - 24ms/step\n"
          ]
        },
        {
          "output_type": "execute_result",
          "data": {
            "text/plain": [
              "[0.021747124494439368, 0.9920634920634921, 0.010407135325876875]"
            ]
          },
          "metadata": {},
          "execution_count": 19
        }
      ],
      "source": [
        "model.evaluate(x_test,  y_test, verbose=2)"
      ]
    },
    {
      "cell_type": "code",
      "execution_count": 20,
      "id": "ee941c13",
      "metadata": {
        "id": "ee941c13",
        "colab": {
          "base_uri": "https://localhost:8080/"
        },
        "outputId": "bd7aa83e-ac34-47eb-d45d-0473b7c115c2"
      },
      "outputs": [
        {
          "output_type": "stream",
          "name": "stdout",
          "text": [
            "79/79 [==============================] - 1s 17ms/step\n"
          ]
        }
      ],
      "source": [
        "predict_x = model.predict(x_test) \n",
        "\n",
        "predictions = (predict_x > 0.5).astype(\"int32\")"
      ]
    },
    {
      "cell_type": "code",
      "execution_count": 21,
      "id": "d8fb12f1",
      "metadata": {
        "id": "d8fb12f1",
        "outputId": "6d0e3141-7334-4a76-9de8-dfbe5b5df8a4",
        "colab": {
          "base_uri": "https://localhost:8080/"
        }
      },
      "outputs": [
        {
          "output_type": "stream",
          "name": "stdout",
          "text": [
            "[['Tn' 'Nn']\n",
            " ['Np' 'Tp']]\n"
          ]
        },
        {
          "output_type": "execute_result",
          "data": {
            "text/plain": [
              "<tf.Tensor: shape=(2, 2), dtype=int32, numpy=\n",
              "array([[1273,   13],\n",
              "       [   7, 1227]], dtype=int32)>"
            ]
          },
          "metadata": {},
          "execution_count": 21
        }
      ],
      "source": [
        "names = [['Tn','Nn'],['Np', 'Tp']]\n",
        "names = np.reshape(names,(2,2))\n",
        "print(names)\n",
        "\n",
        "tf.math.confusion_matrix(y_test,predictions, verbose=2)"
      ]
    },
    {
      "cell_type": "code",
      "source": [
        "\n",
        "#################################\n",
        "#                               #\n",
        "#    Wczytanie zdjęć aktorów    #\n",
        "#                               #\n",
        "#################################"
      ],
      "metadata": {
        "id": "8bjxw97eKGtx"
      },
      "id": "8bjxw97eKGtx",
      "execution_count": 22,
      "outputs": []
    },
    {
      "cell_type": "code",
      "source": [
        "with open(folder_aktorzy+aktorzy_CSV,\"r\") as csvfile:\n",
        "    lines = csvfile.readlines()\n",
        "csvfile.close()\n",
        "\n",
        "\n",
        "tmp = []\n",
        "actors_label = []\n",
        "\n",
        "for i in lines:\n",
        "    tmp.append(i.split(\" \"))\n",
        "\n",
        "#Tablica przechowująca etykiety aktorów   \n",
        "act_label = []\n",
        "for i in tmp[0]:\n",
        "    actors_label.append(int(i))    \n",
        "    \n",
        "print(len(actors_label))"
      ],
      "metadata": {
        "colab": {
          "base_uri": "https://localhost:8080/"
        },
        "id": "c8Fko2c4KG7r",
        "outputId": "325b0f2d-8d3e-45a6-915f-220e09e92268"
      },
      "id": "c8Fko2c4KG7r",
      "execution_count": 23,
      "outputs": [
        {
          "output_type": "stream",
          "name": "stdout",
          "text": [
            "2052\n"
          ]
        }
      ]
    },
    {
      "cell_type": "code",
      "execution_count": 24,
      "id": "62ceaefe",
      "metadata": {
        "id": "62ceaefe",
        "outputId": "2514f2e5-169a-48bb-efe5-8d4103eee5bb",
        "colab": {
          "base_uri": "https://localhost:8080/"
        }
      },
      "outputs": [
        {
          "output_type": "stream",
          "name": "stdout",
          "text": [
            "2052\n"
          ]
        }
      ],
      "source": [
        "#Wczytanie zdjęć aktorów do tablicy\n",
        "\n",
        "actors_img = []\n",
        "size = len(actors_label)\n",
        "\n",
        "for i in range(size):\n",
        "    im = Image.open('/content/aktorzy/'+str(i)+'.png')\n",
        "    arr_im = np.array(im) \n",
        "    arr_im = arr_im / 255.0\n",
        "    actors_img.append(arr_im) \n",
        "print(len(actors_img))\n"
      ]
    },
    {
      "cell_type": "code",
      "execution_count": 25,
      "id": "d8cd5537",
      "metadata": {
        "id": "d8cd5537",
        "outputId": "b2a4b596-bf6f-492f-ed2e-f85a0d82925d",
        "colab": {
          "base_uri": "https://localhost:8080/",
          "height": 340
        }
      },
      "outputs": [
        {
          "output_type": "stream",
          "name": "stdout",
          "text": [
            "[[0.984 0.984 0.984 ... 0.192 0.196 0.196]\n",
            " [0.984 0.984 0.98  ... 0.2   0.192 0.192]\n",
            " [0.984 0.98  0.976 ... 0.204 0.196 0.192]\n",
            " ...\n",
            " [0.98  0.98  0.98  ... 0.298 0.294 0.29 ]\n",
            " [0.98  0.98  0.98  ... 0.294 0.298 0.302]\n",
            " [0.98  0.98  0.98  ... 0.298 0.31  0.302]]\n"
          ]
        },
        {
          "output_type": "display_data",
          "data": {
            "text/plain": [
              "<Figure size 432x288 with 1 Axes>"
            ],
            "image/png": "[encoded data removed]"
          },
          "metadata": {
            "needs_background": "light"
          }
        }
      ],
      "source": [
        "actors_label = np.array(actors_label)\n",
        "actors_img= np.array(actors_img)\n",
        "plt.imshow(actors_img[0],cmap = 'gray')\n",
        "print(actors_img[0])"
      ]
    },
    {
      "cell_type": "code",
      "execution_count": 26,
      "id": "304612c1",
      "metadata": {
        "id": "304612c1",
        "outputId": "bb4d8a32-a7dd-4219-fd6d-f82ed816b83d",
        "colab": {
          "base_uri": "https://localhost:8080/"
        }
      },
      "outputs": [
        {
          "output_type": "stream",
          "name": "stdout",
          "text": [
            "65/65 [==============================] - 1s 20ms/step\n",
            "[[0.035]\n",
            " [0.   ]\n",
            " [0.   ]\n",
            " ...\n",
            " [0.256]\n",
            " [0.568]\n",
            " [0.   ]]\n"
          ]
        }
      ],
      "source": [
        "#Testowanie sieci z wykorzystaniem zdjęć aktorów \n",
        "\n",
        "predict_actors = model.predict(actors_img) \n",
        "\n",
        "print(predict_actors)\n",
        "predict = (predict_actors > 0.5).astype(\"int32\")"
      ]
    },
    {
      "cell_type": "code",
      "source": [
        "model.evaluate(actors_img, actors_label, verbose=2)"
      ],
      "metadata": {
        "colab": {
          "base_uri": "https://localhost:8080/"
        },
        "id": "SV4EtOtbdfgb",
        "outputId": "5e4d4914-a9be-4bb3-96d1-3ab92e21144c"
      },
      "id": "SV4EtOtbdfgb",
      "execution_count": 27,
      "outputs": [
        {
          "output_type": "stream",
          "name": "stdout",
          "text": [
            "65/65 - 1s - loss: 0.4142 - accuracy: 0.5424 - mse: 0.4028 - 1s/epoch - 18ms/step\n"
          ]
        },
        {
          "output_type": "execute_result",
          "data": {
            "text/plain": [
              "[0.4141737192819294, 0.5423976608187134, 0.4028337301133666]"
            ]
          },
          "metadata": {},
          "execution_count": 27
        }
      ]
    },
    {
      "cell_type": "code",
      "execution_count": 28,
      "id": "29f5ab15",
      "metadata": {
        "id": "29f5ab15",
        "colab": {
          "base_uri": "https://localhost:8080/"
        },
        "outputId": "245e99ea-0b41-4b59-b91a-8fe841351d6a"
      },
      "outputs": [
        {
          "output_type": "stream",
          "name": "stdout",
          "text": [
            "[['Tn' 'Nn']\n",
            " ['Np' 'Tp']]\n"
          ]
        },
        {
          "output_type": "execute_result",
          "data": {
            "text/plain": [
              "<tf.Tensor: shape=(2, 2), dtype=int32, numpy=\n",
              "array([[775, 251],\n",
              "       [688, 338]], dtype=int32)>"
            ]
          },
          "metadata": {},
          "execution_count": 28
        }
      ],
      "source": [
        "print(names)\n",
        "\n",
        "tf.math.confusion_matrix(actors_label,predict, verbose=2)"
      ]
    },
    {
      "cell_type": "code",
      "execution_count": 28,
      "id": "992cfbdd",
      "metadata": {
        "id": "992cfbdd"
      },
      "outputs": [],
      "source": []
    }
  ],
  "metadata": {
    "kernelspec": {
      "display_name": "py39",
      "language": "python",
      "name": "py39"
    },
    "language_info": {
      "codemirror_mode": {
        "name": "ipython",
        "version": 3
      },
      "file_extension": ".py",
      "mimetype": "text/x-python",
      "name": "python",
      "nbconvert_exporter": "python",
      "pygments_lexer": "ipython3",
      "version": "3.9.12"
    },
    "colab": {
      "provenance": [],
      "include_colab_link": true
    },
    "accelerator": "GPU",
    "gpuClass": "standard"
  },
  "nbformat": 4,
  "nbformat_minor": 5
}