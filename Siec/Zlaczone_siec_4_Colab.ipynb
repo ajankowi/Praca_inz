{
  "cells": [
    {
      "cell_type": "markdown",
      "metadata": {
        "id": "view-in-github",
        "colab_type": "text"
      },
      "source": [
        "<a href=\"https://colab.research.google.com/github/ajankowi/Praca_inz/blob/master/Siec/Zlaczone_siec_4_Colab.ipynb\" target=\"_parent\"><img src=\"https://colab.research.google.com/assets/colab-badge.svg\" alt=\"Open In Colab\"/></a>"
      ]
    },
    {
      "cell_type": "code",
      "execution_count": 1,
      "id": "613f08b5",
      "metadata": {
        "id": "613f08b5",
        "outputId": "528f9613-2546-41a5-e727-eecf602ed0a1",
        "colab": {
          "base_uri": "https://localhost:8080/"
        }
      },
      "outputs": [
        {
          "output_type": "stream",
          "name": "stdout",
          "text": [
            "3.8.16 (default, Dec  7 2022, 01:12:13) \n",
            "[GCC 7.5.0]\n"
          ]
        }
      ],
      "source": [
        "import sys\n",
        "print(sys.version)"
      ]
    },
    {
      "cell_type": "code",
      "source": [
        "#from google.colab import drive\n",
        "#drive.mount(\"/content/drive\", force_remount=True)"
      ],
      "metadata": {
        "id": "iY1o7_NmVlGs"
      },
      "id": "iY1o7_NmVlGs",
      "execution_count": 2,
      "outputs": []
    },
    {
      "cell_type": "code",
      "execution_count": 3,
      "id": "5eca1117",
      "metadata": {
        "id": "5eca1117",
        "outputId": "2d4e32b6-b8ce-4d94-af23-c667fae563e9",
        "colab": {
          "base_uri": "https://localhost:8080/"
        }
      },
      "outputs": [
        {
          "output_type": "stream",
          "name": "stdout",
          "text": [
            "TensorFlow version: 2.9.2\n"
          ]
        }
      ],
      "source": [
        "import tensorflow as tf\n",
        "from tensorflow import keras\n",
        "from keras import layers, models, regularizers\n",
        "from keras.layers import Flatten, add, Dense, Dropout \n",
        "from keras.callbacks import ModelCheckpoint, EarlyStopping\n",
        "\n",
        "\n",
        "print(\"TensorFlow version:\", tf.__version__)\n",
        "tf.keras.backend.set_floatx('float64')"
      ]
    },
    {
      "cell_type": "code",
      "execution_count": 4,
      "id": "12022d37",
      "metadata": {
        "id": "12022d37"
      },
      "outputs": [],
      "source": [
        "import matplotlib.pyplot as plt\n",
        "import numpy as np\n",
        "import pandas as pd\n",
        "import seaborn as sns\n",
        "from PIL import Image\n",
        "import os\n",
        "import csv\n",
        "import random\n",
        "\n",
        "import cv2\n",
        "import imutils\n",
        "import glob\n",
        "# Make NumPy printouts easier to read.\n",
        "np.set_printoptions(precision=3, suppress=True)"
      ]
    },
    {
      "cell_type": "code",
      "execution_count": 5,
      "id": "1086f893",
      "metadata": {
        "id": "1086f893"
      },
      "outputs": [],
      "source": [
        "#Określenie ścieżek do plików\n",
        "zip = '/content/drive/MyDrive/Sieci/Baza_zdjec_zlaczone_2/Baza_zdjec_zlaczone_2.zip'\n",
        "nazwa_CSV = 'nowe.csv'\n",
        "folder = '/content/drive/MyDrive/Sieci/Baza_zdjec_zlaczone_2/'\n",
        "folder_aktorzy = '/content/drive/MyDrive/Sieci/Baza_aktorzy_zlaczone/'\n",
        "aktorzy_CSV = 'aktorzy.csv'\n",
        "slesh = '/'\n",
        "png = '.png'"
      ]
    },
    {
      "cell_type": "code",
      "source": [
        "#!unzip '/content/drive/MyDrive/Sieci/Baza_zdjec_zlaczone_2/Baza_zdjec_zlaczone_2.zip' -d '/content/zdjecia/'\n",
        "#!unzip '/content/drive/MyDrive/Sieci/Baza_aktorzy_zlaczone/Baza_aktorzy_zlaczone.zip' -d '/content/aktorzy/'"
      ],
      "metadata": {
        "id": "FXtX4UDo9x77"
      },
      "id": "FXtX4UDo9x77",
      "execution_count": 6,
      "outputs": []
    },
    {
      "cell_type": "code",
      "execution_count": 7,
      "id": "d0329f31",
      "metadata": {
        "id": "d0329f31"
      },
      "outputs": [],
      "source": [
        "def release_list(a):\n",
        "    \n",
        "    del a[:]\n",
        "    del a"
      ]
    },
    {
      "cell_type": "code",
      "execution_count": 8,
      "id": "5beb89e7",
      "metadata": {
        "id": "5beb89e7",
        "outputId": "4e123074-0a86-4f0e-9d5d-0fd85067ae7f",
        "colab": {
          "base_uri": "https://localhost:8080/"
        }
      },
      "outputs": [
        {
          "output_type": "stream",
          "name": "stdout",
          "text": [
            "25200\n"
          ]
        }
      ],
      "source": [
        "#Wczytanie pliku CSV do tablicy images\n",
        "\n",
        "with open(folder+nazwa_CSV,\"r\") as csvfile:\n",
        "    lines = csvfile.readlines()\n",
        "csvfile.close()\n",
        "\n",
        "new = []\n",
        "\n",
        "for i in lines:\n",
        "    new.append(i.split(\" \"))\n",
        "\n",
        "    \n",
        "value = []\n",
        "for i in new[0]:\n",
        "    value.append(int(i))    \n",
        "    \n",
        "print(len(value))"
      ]
    },
    {
      "cell_type": "code",
      "execution_count": 9,
      "id": "d9cb09d8",
      "metadata": {
        "id": "d9cb09d8",
        "outputId": "155d230e-e32c-4b71-97b1-bc4178825c87",
        "colab": {
          "base_uri": "https://localhost:8080/"
        }
      },
      "outputs": [
        {
          "output_type": "stream",
          "name": "stdout",
          "text": [
            "25200\n"
          ]
        }
      ],
      "source": [
        "#Wczytanie zdjęć do tablicy images\n",
        "images = []\n",
        "size = len(value)\n",
        "\n",
        "for i in range(size):\n",
        "    im = Image.open('/content/zdjecia/'+str(i)+'.png')\n",
        "    arr_im = np.array(im) \n",
        "    arr_im = arr_im / 255.0\n",
        "    images.append(arr_im) \n",
        "print(len(images))"
      ]
    },
    {
      "cell_type": "code",
      "execution_count": 10,
      "id": "44a7c0bf",
      "metadata": {
        "id": "44a7c0bf"
      },
      "outputs": [],
      "source": [
        "#Inicjalizacja tablic\n",
        "rand_list = []\n",
        "rand_list = np.zeros((len(images)), dtype=np.uint8)\n",
        "\n",
        "x_test = []\n",
        "y_test = []\n",
        "\n",
        "x_train = []\n",
        "y_train = []\n",
        "\n",
        "\n",
        "#Okreslanie wielkosci zbiorów\n",
        "nighty = int(len(images)*90/100)\n",
        "ten = len(images) - nighty\n",
        "\n",
        "#Losowanie zbioru testowego\n",
        "for i in range(nighty):\n",
        "    \n",
        "    #Pierwsze losowanie wartości\n",
        "    rand = random.randint(0,len(images)-1)\n",
        "    \n",
        "    #Sprawdzenie czy wylosowana wartość się powtarza\n",
        "    while (rand_list[rand] == 1) :\n",
        "        #Jeżeli tak to ponownie losuje\n",
        "        rand = random.randint(0,len(images)-1)\n",
        "    \n",
        "    #Zapisanie zdjecia i wartości do nowej tablicy\n",
        "    x_train.append(images[rand])\n",
        "    y_train.append(value[rand])\n",
        "    rand_list[rand] = 1\n",
        "\n",
        "#Losowanie zbioru uczącego\n",
        "for j in range(ten):\n",
        "    \n",
        "    #Pierwsze losowanie wartości\n",
        "    rand = random.randint(0,len(images)-1)\n",
        "    \n",
        "    #Sprawdzenie czy wylosowana wartość się powtarza\n",
        "    while (rand_list[rand] == 1) :\n",
        "        #Jeżeli tak to ponownie losuje\n",
        "        rand = random.randint(0,len(images)-1)\n",
        "        \n",
        "    #Zapisanie zdjecia i wartości do nowej tablicy\n",
        "    x_test.append(images[rand])\n",
        "    y_test.append(value[rand])\n",
        "    rand_list[rand] = 1\n",
        "    \n",
        "    \n",
        "release_list(images)\n",
        "release_list(value)"
      ]
    },
    {
      "cell_type": "code",
      "execution_count": 11,
      "id": "8fccbbcc",
      "metadata": {
        "id": "8fccbbcc",
        "outputId": "2a8a9f97-c5f4-4272-8e7d-48589f292382",
        "colab": {
          "base_uri": "https://localhost:8080/"
        }
      },
      "outputs": [
        {
          "output_type": "stream",
          "name": "stdout",
          "text": [
            "9.96%\n",
            "90.04%\n"
          ]
        }
      ],
      "source": [
        "#Sprawdzenie poprawności losowania\n",
        "val_1 = 100 * sum(y_test) / (size / 2)\n",
        "print(\"%.2f\" % val_1 + '%') \n",
        "\n",
        "\n",
        "val_2 = 100 * sum(y_train) / (size / 2)\n",
        "print(\"%.2f\" % val_2 + '%') \n",
        "\n",
        "\n"
      ]
    },
    {
      "cell_type": "code",
      "execution_count": 12,
      "id": "f7f4dd4b",
      "metadata": {
        "id": "f7f4dd4b"
      },
      "outputs": [],
      "source": [
        "x_train = np.array(x_train)\n",
        "x_test = np.array(x_test)\n",
        "\n",
        "y_train = np.array(y_train)\n",
        "y_test = np.array(y_test)"
      ]
    },
    {
      "cell_type": "code",
      "execution_count": 13,
      "id": "d3a370cb",
      "metadata": {
        "id": "d3a370cb",
        "outputId": "85259abe-bfba-412b-85f4-28217ec64d96",
        "colab": {
          "base_uri": "https://localhost:8080/",
          "height": 357
        }
      },
      "outputs": [
        {
          "output_type": "stream",
          "name": "stdout",
          "text": [
            "[[0.    0.    0.    ... 0.    0.    0.   ]\n",
            " [0.    0.    0.    ... 0.    0.    0.   ]\n",
            " [0.447 0.482 0.502 ... 0.012 0.    0.   ]\n",
            " ...\n",
            " [0.    0.008 0.149 ... 0.02  0.004 0.   ]\n",
            " [0.    0.    0.157 ... 0.    0.    0.   ]\n",
            " [0.    0.    0.141 ... 0.    0.    0.   ]]\n",
            "0\n"
          ]
        },
        {
          "output_type": "display_data",
          "data": {
            "text/plain": [
              "<Figure size 432x288 with 1 Axes>"
            ],
            "image/png": "[encoded data removed]"
          },
          "metadata": {
            "needs_background": "light"
          }
        }
      ],
      "source": [
        "plt.imshow(x_train[0],cmap = 'gray')\n",
        "print(x_train[0])\n",
        "print(y_train[0])"
      ]
    },
    {
      "cell_type": "code",
      "execution_count": 14,
      "id": "772c7d7c",
      "metadata": {
        "id": "772c7d7c"
      },
      "outputs": [],
      "source": [
        "model = models.Sequential()\n",
        "model.add(layers.Conv2D(32, (3, 3), activation='relu', input_shape=(64, 128, 1)))\n",
        "model.add(layers.MaxPooling2D((2, 2)))\n",
        "model.add(Dropout(0.1))\n",
        "\n",
        "model.add(layers.Conv2D(64, (3, 3), activation='relu'))\n",
        "model.add(layers.MaxPooling2D((2, 2)))\n",
        "model.add(Dropout(0.1))\n",
        "\n",
        "model.add(layers.Conv2D(64, (3, 3), activation='relu'))\n",
        "model.add(layers.MaxPooling2D((2, 2)))\n",
        "model.add(Dropout(0.1))\n",
        "\n",
        "model.add(layers.Flatten())\n",
        "model.add(layers.Dense(64, activation='relu', kernel_regularizer=keras.regularizers.l2(l=0.1)))\n",
        "model.add(layers.Dense(1, activation='relu'))\n"
      ]
    },
    {
      "cell_type": "code",
      "execution_count": 15,
      "id": "b86f72df",
      "metadata": {
        "id": "b86f72df",
        "outputId": "57195a20-b216-434b-8c4e-4a706db93107",
        "colab": {
          "base_uri": "https://localhost:8080/"
        }
      },
      "outputs": [
        {
          "output_type": "stream",
          "name": "stdout",
          "text": [
            "Model: \"sequential\"\n",
            "_________________________________________________________________\n",
            " Layer (type)                Output Shape              Param #   \n",
            "=================================================================\n",
            " conv2d (Conv2D)             (None, 62, 126, 32)       320       \n",
            "                                                                 \n",
            " max_pooling2d (MaxPooling2D  (None, 31, 63, 32)       0         \n",
            " )                                                               \n",
            "                                                                 \n",
            " dropout (Dropout)           (None, 31, 63, 32)        0         \n",
            "                                                                 \n",
            " conv2d_1 (Conv2D)           (None, 29, 61, 64)        18496     \n",
            "                                                                 \n",
            " max_pooling2d_1 (MaxPooling  (None, 14, 30, 64)       0         \n",
            " 2D)                                                             \n",
            "                                                                 \n",
            " dropout_1 (Dropout)         (None, 14, 30, 64)        0         \n",
            "                                                                 \n",
            " conv2d_2 (Conv2D)           (None, 12, 28, 64)        36928     \n",
            "                                                                 \n",
            " max_pooling2d_2 (MaxPooling  (None, 6, 14, 64)        0         \n",
            " 2D)                                                             \n",
            "                                                                 \n",
            " dropout_2 (Dropout)         (None, 6, 14, 64)         0         \n",
            "                                                                 \n",
            " flatten (Flatten)           (None, 5376)              0         \n",
            "                                                                 \n",
            " dense (Dense)               (None, 64)                344128    \n",
            "                                                                 \n",
            " dense_1 (Dense)             (None, 1)                 65        \n",
            "                                                                 \n",
            "=================================================================\n",
            "Total params: 399,937\n",
            "Trainable params: 399,937\n",
            "Non-trainable params: 0\n",
            "_________________________________________________________________\n"
          ]
        }
      ],
      "source": [
        "model.summary()"
      ]
    },
    {
      "cell_type": "code",
      "execution_count": 16,
      "id": "9beb77e5",
      "metadata": {
        "id": "9beb77e5",
        "outputId": "a8796d25-d611-498d-da76-a35635b8e58f",
        "colab": {
          "base_uri": "https://localhost:8080/"
        }
      },
      "outputs": [
        {
          "output_type": "stream",
          "name": "stdout",
          "text": [
            "Epoch 1/100\n",
            "80/80 [==============================] - 41s 453ms/step - loss: 0.2869 - accuracy: 0.5385 - mse: 0.2869 - val_loss: 0.2853 - val_accuracy: 0.4991 - val_mse: 0.2853\n",
            "Epoch 2/100\n",
            "80/80 [==============================] - 34s 422ms/step - loss: 0.1842 - accuracy: 0.7057 - mse: 0.1842 - val_loss: 0.1587 - val_accuracy: 0.7800 - val_mse: 0.1587\n",
            "Epoch 3/100\n",
            "80/80 [==============================] - 34s 422ms/step - loss: 0.1178 - accuracy: 0.8438 - mse: 0.1178 - val_loss: 0.0977 - val_accuracy: 0.8726 - val_mse: 0.0977\n",
            "Epoch 4/100\n",
            "80/80 [==============================] - 34s 422ms/step - loss: 0.0780 - accuracy: 0.9072 - mse: 0.0780 - val_loss: 0.0610 - val_accuracy: 0.9462 - val_mse: 0.0610\n",
            "Epoch 5/100\n",
            "80/80 [==============================] - 33s 415ms/step - loss: 0.0598 - accuracy: 0.9393 - mse: 0.0598 - val_loss: 0.0742 - val_accuracy: 0.9281 - val_mse: 0.0742\n",
            "Epoch 6/100\n",
            "80/80 [==============================] - 34s 419ms/step - loss: 0.0501 - accuracy: 0.9549 - mse: 0.0501 - val_loss: 0.0632 - val_accuracy: 0.9462 - val_mse: 0.0632\n",
            "Epoch 7/100\n",
            "80/80 [==============================] - 34s 422ms/step - loss: 0.0405 - accuracy: 0.9680 - mse: 0.0405 - val_loss: 0.0494 - val_accuracy: 0.9652 - val_mse: 0.0494\n",
            "Epoch 8/100\n",
            "80/80 [==============================] - 34s 422ms/step - loss: 0.0325 - accuracy: 0.9773 - mse: 0.0325 - val_loss: 0.0298 - val_accuracy: 0.9837 - val_mse: 0.0298\n",
            "Epoch 9/100\n",
            "80/80 [==============================] - 33s 415ms/step - loss: 0.0284 - accuracy: 0.9821 - mse: 0.0284 - val_loss: 0.0336 - val_accuracy: 0.9872 - val_mse: 0.0336\n",
            "Epoch 10/100\n",
            "80/80 [==============================] - 33s 416ms/step - loss: 0.0240 - accuracy: 0.9868 - mse: 0.0240 - val_loss: 0.0335 - val_accuracy: 0.9877 - val_mse: 0.0335\n",
            "Epoch 11/100\n",
            "80/80 [==============================] - 34s 420ms/step - loss: 0.0199 - accuracy: 0.9899 - mse: 0.0199 - val_loss: 0.0303 - val_accuracy: 0.9929 - val_mse: 0.0303\n",
            "Epoch 12/100\n",
            "80/80 [==============================] - 34s 423ms/step - loss: 0.0185 - accuracy: 0.9913 - mse: 0.0185 - val_loss: 0.0214 - val_accuracy: 0.9934 - val_mse: 0.0214\n",
            "Epoch 13/100\n",
            "80/80 [==============================] - 34s 421ms/step - loss: 0.0159 - accuracy: 0.9926 - mse: 0.0159 - val_loss: 0.0209 - val_accuracy: 0.9943 - val_mse: 0.0209\n",
            "Epoch 14/100\n",
            "80/80 [==============================] - 34s 422ms/step - loss: 0.0135 - accuracy: 0.9942 - mse: 0.0135 - val_loss: 0.0178 - val_accuracy: 0.9956 - val_mse: 0.0178\n",
            "Epoch 15/100\n",
            "80/80 [==============================] - 34s 422ms/step - loss: 0.0125 - accuracy: 0.9947 - mse: 0.0125 - val_loss: 0.0169 - val_accuracy: 0.9956 - val_mse: 0.0169\n",
            "Epoch 16/100\n",
            "80/80 [==============================] - 33s 415ms/step - loss: 0.0108 - accuracy: 0.9962 - mse: 0.0108 - val_loss: 0.0173 - val_accuracy: 0.9956 - val_mse: 0.0173\n",
            "Epoch 17/100\n",
            "80/80 [==============================] - 34s 421ms/step - loss: 0.0099 - accuracy: 0.9965 - mse: 0.0099 - val_loss: 0.0167 - val_accuracy: 0.9969 - val_mse: 0.0167\n",
            "Epoch 18/100\n",
            "80/80 [==============================] - 34s 421ms/step - loss: 0.0086 - accuracy: 0.9972 - mse: 0.0086 - val_loss: 0.0107 - val_accuracy: 0.9974 - val_mse: 0.0107\n",
            "Epoch 19/100\n",
            "80/80 [==============================] - 33s 415ms/step - loss: 0.0077 - accuracy: 0.9976 - mse: 0.0077 - val_loss: 0.0122 - val_accuracy: 0.9974 - val_mse: 0.0122\n",
            "Epoch 20/100\n",
            "80/80 [==============================] - 33s 416ms/step - loss: 0.0068 - accuracy: 0.9975 - mse: 0.0068 - val_loss: 0.0176 - val_accuracy: 0.9974 - val_mse: 0.0176\n",
            "Epoch 21/100\n",
            "80/80 [==============================] - 33s 415ms/step - loss: 0.0065 - accuracy: 0.9979 - mse: 0.0065 - val_loss: 0.0146 - val_accuracy: 0.9987 - val_mse: 0.0146\n",
            "Epoch 22/100\n",
            "80/80 [==============================] - 33s 416ms/step - loss: 0.0060 - accuracy: 0.9981 - mse: 0.0060 - val_loss: 0.0138 - val_accuracy: 0.9969 - val_mse: 0.0138\n",
            "Epoch 23/100\n",
            "80/80 [==============================] - 34s 421ms/step - loss: 0.0053 - accuracy: 0.9982 - mse: 0.0053 - val_loss: 0.0097 - val_accuracy: 0.9978 - val_mse: 0.0097\n",
            "Epoch 24/100\n",
            "80/80 [==============================] - 33s 416ms/step - loss: 0.0050 - accuracy: 0.9984 - mse: 0.0050 - val_loss: 0.0111 - val_accuracy: 0.9978 - val_mse: 0.0111\n",
            "Epoch 25/100\n",
            "80/80 [==============================] - 34s 422ms/step - loss: 0.0045 - accuracy: 0.9988 - mse: 0.0045 - val_loss: 0.0091 - val_accuracy: 0.9987 - val_mse: 0.0091\n",
            "Epoch 26/100\n",
            "80/80 [==============================] - 34s 420ms/step - loss: 0.0038 - accuracy: 0.9989 - mse: 0.0038 - val_loss: 0.0067 - val_accuracy: 0.9982 - val_mse: 0.0067\n",
            "Epoch 27/100\n",
            "80/80 [==============================] - 34s 424ms/step - loss: 0.0037 - accuracy: 0.9988 - mse: 0.0037 - val_loss: 0.0064 - val_accuracy: 0.9987 - val_mse: 0.0064\n",
            "Epoch 28/100\n",
            "80/80 [==============================] - 33s 414ms/step - loss: 0.0036 - accuracy: 0.9986 - mse: 0.0036 - val_loss: 0.0077 - val_accuracy: 0.9982 - val_mse: 0.0077\n",
            "Epoch 29/100\n",
            "80/80 [==============================] - 33s 415ms/step - loss: 0.0032 - accuracy: 0.9990 - mse: 0.0032 - val_loss: 0.0083 - val_accuracy: 0.9987 - val_mse: 0.0083\n",
            "Epoch 30/100\n",
            "80/80 [==============================] - 34s 421ms/step - loss: 0.0030 - accuracy: 0.9988 - mse: 0.0030 - val_loss: 0.0057 - val_accuracy: 0.9987 - val_mse: 0.0057\n",
            "Epoch 31/100\n",
            "80/80 [==============================] - 34s 423ms/step - loss: 0.0027 - accuracy: 0.9990 - mse: 0.0027 - val_loss: 0.0042 - val_accuracy: 0.9987 - val_mse: 0.0042\n",
            "Epoch 32/100\n",
            "80/80 [==============================] - 34s 421ms/step - loss: 0.0029 - accuracy: 0.9985 - mse: 0.0029 - val_loss: 0.0066 - val_accuracy: 0.9987 - val_mse: 0.0066\n",
            "Epoch 33/100\n",
            "80/80 [==============================] - 33s 417ms/step - loss: 0.0026 - accuracy: 0.9986 - mse: 0.0026 - val_loss: 0.0062 - val_accuracy: 0.9987 - val_mse: 0.0062\n",
            "Epoch 34/100\n",
            "80/80 [==============================] - 33s 415ms/step - loss: 0.0023 - accuracy: 0.9990 - mse: 0.0023 - val_loss: 0.0053 - val_accuracy: 0.9991 - val_mse: 0.0053\n",
            "Epoch 35/100\n",
            "80/80 [==============================] - 33s 416ms/step - loss: 0.0024 - accuracy: 0.9987 - mse: 0.0024 - val_loss: 0.0064 - val_accuracy: 0.9991 - val_mse: 0.0064\n",
            "Epoch 36/100\n",
            "80/80 [==============================] - 33s 415ms/step - loss: 0.0021 - accuracy: 0.9990 - mse: 0.0021 - val_loss: 0.0061 - val_accuracy: 0.9991 - val_mse: 0.0061\n",
            "Epoch 36: early stopping\n"
          ]
        }
      ],
      "source": [
        "model.compile(optimizer='adam',\n",
        "              loss='mse',\n",
        "              metrics=['accuracy','mse'])\n",
        "\n",
        "#Funcka umożliwia zatrzymanie się uczenia \n",
        "#gdy wartość strat przstanie maleć\n",
        "EarlyStop = EarlyStopping(monitor='val_loss',  \n",
        "                          verbose=1, \n",
        "                          patience=5)\n",
        "\n",
        "\n",
        "ModelCheck = ModelCheckpoint(filepath='/content/drive/MyDrive/Sieci/Zlaczone.h5',\n",
        "                             monitor='val_loss',\n",
        "                             save_best_only=True)\n",
        "\n",
        "\n",
        "history = model.fit(x=x_train, \n",
        "                    y=y_train, \n",
        "                    epochs=100,\n",
        "                    batch_size=256,\n",
        "                    validation_split=0.1,\n",
        "                    callbacks = [EarlyStop, ModelCheck]\n",
        "                   )"
      ]
    },
    {
      "cell_type": "code",
      "execution_count": 17,
      "id": "fe8633db",
      "metadata": {
        "id": "fe8633db",
        "outputId": "2748a0d7-c3c0-47a4-bda3-82b3f6085cdc",
        "colab": {
          "base_uri": "https://localhost:8080/",
          "height": 300
        }
      },
      "outputs": [
        {
          "output_type": "execute_result",
          "data": {
            "text/plain": [
              "<matplotlib.legend.Legend at 0x7f33afb98b50>"
            ]
          },
          "metadata": {},
          "execution_count": 17
        },
        {
          "output_type": "display_data",
          "data": {
            "text/plain": [
              "<Figure size 432x288 with 1 Axes>"
            ],
            "image/png": "[encoded data removed]"
          },
          "metadata": {
            "needs_background": "light"
          }
        }
      ],
      "source": [
        "plt.plot(history.history['loss'], label='strata')\n",
        "plt.plot(history.history['val_loss'], label = 'strata walidacyjna')\n",
        "plt.xlabel('Epoka')\n",
        "plt.ylabel('Strata')\n",
        "plt.ylim([0.0, 0.5])\n",
        "plt.legend(loc='upper right')"
      ]
    },
    {
      "cell_type": "code",
      "execution_count": 18,
      "id": "8b976089",
      "metadata": {
        "scrolled": true,
        "id": "8b976089",
        "outputId": "d582ff7e-f804-44c6-ac45-f925d95cca0d",
        "colab": {
          "base_uri": "https://localhost:8080/",
          "height": 300
        }
      },
      "outputs": [
        {
          "output_type": "execute_result",
          "data": {
            "text/plain": [
              "<matplotlib.legend.Legend at 0x7f33a0186430>"
            ]
          },
          "metadata": {},
          "execution_count": 18
        },
        {
          "output_type": "display_data",
          "data": {
            "text/plain": [
              "<Figure size 432x288 with 1 Axes>"
            ],
            "image/png": "[encoded data removed]"
          },
          "metadata": {
            "needs_background": "light"
          }
        }
      ],
      "source": [
        "plt.plot(history.history['accuracy'], label='precyzja')\n",
        "plt.plot(history.history['val_accuracy'], label = 'precyzja walidacyjna')\n",
        "plt.xlabel('Epoka')\n",
        "plt.ylabel('Precyzja')\n",
        "plt.ylim([0.5, 1])\n",
        "plt.legend(loc='lower right')"
      ]
    },
    {
      "cell_type": "code",
      "execution_count": 19,
      "id": "685a286c",
      "metadata": {
        "id": "685a286c",
        "outputId": "63cb47d8-1414-49c0-98f8-f23606f3f9cc",
        "colab": {
          "base_uri": "https://localhost:8080/"
        }
      },
      "outputs": [
        {
          "output_type": "stream",
          "name": "stdout",
          "text": [
            "79/79 - 2s - loss: 0.0058 - accuracy: 0.9992 - mse: 0.0058 - 2s/epoch - 24ms/step\n"
          ]
        },
        {
          "output_type": "execute_result",
          "data": {
            "text/plain": [
              "[0.00577426526775254, 0.9992063492063492, 0.00577426526775254]"
            ]
          },
          "metadata": {},
          "execution_count": 19
        }
      ],
      "source": [
        "model.evaluate(x_test,  y_test, verbose=2)"
      ]
    },
    {
      "cell_type": "code",
      "execution_count": 20,
      "id": "ee941c13",
      "metadata": {
        "id": "ee941c13",
        "colab": {
          "base_uri": "https://localhost:8080/"
        },
        "outputId": "3889b005-3d58-4381-a446-a9e39dd38abd"
      },
      "outputs": [
        {
          "output_type": "stream",
          "name": "stdout",
          "text": [
            "79/79 [==============================] - 2s 19ms/step\n"
          ]
        }
      ],
      "source": [
        "predict_x = model.predict(x_test) \n",
        "\n",
        "predictions = (predict_x > 0.5).astype(\"int32\")"
      ]
    },
    {
      "cell_type": "code",
      "execution_count": 21,
      "id": "d8fb12f1",
      "metadata": {
        "id": "d8fb12f1",
        "outputId": "8b17066f-e35a-4ad8-b4e1-34f83b392c5a",
        "colab": {
          "base_uri": "https://localhost:8080/"
        }
      },
      "outputs": [
        {
          "output_type": "stream",
          "name": "stdout",
          "text": [
            "[['Tn' 'Nn']\n",
            " ['Np' 'Tp']]\n"
          ]
        },
        {
          "output_type": "execute_result",
          "data": {
            "text/plain": [
              "<tf.Tensor: shape=(2, 2), dtype=int32, numpy=\n",
              "array([[1263,    2],\n",
              "       [   0, 1255]], dtype=int32)>"
            ]
          },
          "metadata": {},
          "execution_count": 21
        }
      ],
      "source": [
        "names = [['Tn','Nn'],['Np', 'Tp']]\n",
        "names = np.reshape(names,(2,2))\n",
        "print(names)\n",
        "\n",
        "tf.math.confusion_matrix(y_test,predictions)"
      ]
    },
    {
      "cell_type": "code",
      "source": [
        "\n",
        "#################################\n",
        "#                               #\n",
        "#    Wczytanie zdjęć aktorów    #\n",
        "#                               #\n",
        "#################################"
      ],
      "metadata": {
        "id": "8bjxw97eKGtx"
      },
      "id": "8bjxw97eKGtx",
      "execution_count": 22,
      "outputs": []
    },
    {
      "cell_type": "code",
      "source": [
        "with open(folder_aktorzy+aktorzy_CSV,\"r\") as csvfile:\n",
        "    lines = csvfile.readlines()\n",
        "csvfile.close()\n",
        "\n",
        "\n",
        "tmp = []\n",
        "actors_label = []\n",
        "\n",
        "for i in lines:\n",
        "    tmp.append(i.split(\" \"))\n",
        "\n",
        "#Tablica przechowująca etykiety aktorów   \n",
        "act_label = []\n",
        "for i in tmp[0]:\n",
        "    actors_label.append(int(i))    \n",
        "    \n",
        "print(len(actors_label))"
      ],
      "metadata": {
        "colab": {
          "base_uri": "https://localhost:8080/"
        },
        "id": "c8Fko2c4KG7r",
        "outputId": "1aa08cac-fdc9-400d-d4fe-25e3249e6187"
      },
      "id": "c8Fko2c4KG7r",
      "execution_count": 23,
      "outputs": [
        {
          "output_type": "stream",
          "name": "stdout",
          "text": [
            "2052\n"
          ]
        }
      ]
    },
    {
      "cell_type": "code",
      "execution_count": 24,
      "id": "62ceaefe",
      "metadata": {
        "id": "62ceaefe",
        "outputId": "731e0140-7489-4940-9f69-c5a7d10fdc59",
        "colab": {
          "base_uri": "https://localhost:8080/"
        }
      },
      "outputs": [
        {
          "output_type": "stream",
          "name": "stdout",
          "text": [
            "2052\n"
          ]
        }
      ],
      "source": [
        "#Wczytanie zdjęć aktorów do tablicy\n",
        "\n",
        "actors_img = []\n",
        "size = len(actors_label)\n",
        "\n",
        "for i in range(size):\n",
        "    im = Image.open('/content/aktorzy/'+str(i)+'.png')\n",
        "    arr_im = np.array(im) \n",
        "    arr_im = arr_im / 255.0\n",
        "    actors_img.append(arr_im) \n",
        "print(len(actors_img))\n"
      ]
    },
    {
      "cell_type": "code",
      "execution_count": 29,
      "id": "d8cd5537",
      "metadata": {
        "id": "d8cd5537",
        "outputId": "ee7eaded-03a1-466e-d897-91922dfd9bee",
        "colab": {
          "base_uri": "https://localhost:8080/",
          "height": 340
        }
      },
      "outputs": [
        {
          "output_type": "stream",
          "name": "stdout",
          "text": [
            "[[0.984 0.984 0.984 ... 0.192 0.196 0.196]\n",
            " [0.984 0.984 0.98  ... 0.2   0.192 0.192]\n",
            " [0.984 0.98  0.976 ... 0.204 0.196 0.192]\n",
            " ...\n",
            " [0.98  0.98  0.98  ... 0.298 0.294 0.29 ]\n",
            " [0.98  0.98  0.98  ... 0.294 0.298 0.302]\n",
            " [0.98  0.98  0.98  ... 0.298 0.31  0.302]]\n"
          ]
        },
        {
          "output_type": "display_data",
          "data": {
            "text/plain": [
              "<Figure size 432x288 with 1 Axes>"
            ],
            "image/png": "[encoded data removed]"
          },
          "metadata": {
            "needs_background": "light"
          }
        }
      ],
      "source": [
        "actors_label = np.array(actors_label)\n",
        "actors_img= np.array(actors_img)\n",
        "plt.imshow(actors_img[0],cmap = 'gray')\n",
        "print(actors_img[0])"
      ]
    },
    {
      "cell_type": "code",
      "execution_count": 30,
      "id": "304612c1",
      "metadata": {
        "id": "304612c1",
        "outputId": "14efab89-9627-4fd3-a144-5a2f73c81b43",
        "colab": {
          "base_uri": "https://localhost:8080/"
        }
      },
      "outputs": [
        {
          "output_type": "stream",
          "name": "stdout",
          "text": [
            "65/65 [==============================] - 1s 19ms/step\n",
            "[[0.015]\n",
            " [0.232]\n",
            " [0.231]\n",
            " ...\n",
            " [0.   ]\n",
            " [0.703]\n",
            " [0.   ]]\n"
          ]
        }
      ],
      "source": [
        "#Testowanie sieci z wykorzystaniem zdjęć aktorów \n",
        "\n",
        "predict_actors = model.predict(actors_img) \n",
        "\n",
        "print(predict_actors)\n",
        "predict = (predict_actors > 0.5).astype(\"int32\")"
      ]
    },
    {
      "cell_type": "code",
      "source": [
        "model.evaluate(actors_img, actors_label, verbose=2)"
      ],
      "metadata": {
        "id": "SV4EtOtbdfgb",
        "outputId": "9aba7e8c-f108-46ac-d4e2-7317d5c30c76",
        "colab": {
          "base_uri": "https://localhost:8080/"
        }
      },
      "id": "SV4EtOtbdfgb",
      "execution_count": 31,
      "outputs": [
        {
          "output_type": "stream",
          "name": "stdout",
          "text": [
            "65/65 - 1s - loss: 0.3592 - accuracy: 0.5677 - mse: 0.3592 - 1s/epoch - 20ms/step\n"
          ]
        },
        {
          "output_type": "execute_result",
          "data": {
            "text/plain": [
              "[0.35922508544923376, 0.567738791423002, 0.35922508544923376]"
            ]
          },
          "metadata": {},
          "execution_count": 31
        }
      ]
    },
    {
      "cell_type": "code",
      "execution_count": 32,
      "id": "29f5ab15",
      "metadata": {
        "id": "29f5ab15",
        "colab": {
          "base_uri": "https://localhost:8080/"
        },
        "outputId": "aeefce90-7502-4661-8e60-e396fb17ce99"
      },
      "outputs": [
        {
          "output_type": "stream",
          "name": "stdout",
          "text": [
            "[['Tn' 'Nn']\n",
            " ['Np' 'Tp']]\n"
          ]
        },
        {
          "output_type": "execute_result",
          "data": {
            "text/plain": [
              "<tf.Tensor: shape=(2, 2), dtype=int32, numpy=\n",
              "array([[817, 209],\n",
              "       [678, 348]], dtype=int32)>"
            ]
          },
          "metadata": {},
          "execution_count": 32
        }
      ],
      "source": [
        "print(names)\n",
        "\n",
        "tf.math.confusion_matrix(actors_label,predict)"
      ]
    },
    {
      "cell_type": "code",
      "execution_count": 27,
      "id": "992cfbdd",
      "metadata": {
        "id": "992cfbdd"
      },
      "outputs": [],
      "source": []
    }
  ],
  "metadata": {
    "kernelspec": {
      "display_name": "py39",
      "language": "python",
      "name": "py39"
    },
    "language_info": {
      "codemirror_mode": {
        "name": "ipython",
        "version": 3
      },
      "file_extension": ".py",
      "mimetype": "text/x-python",
      "name": "python",
      "nbconvert_exporter": "python",
      "pygments_lexer": "ipython3",
      "version": "3.9.12"
    },
    "colab": {
      "provenance": [],
      "include_colab_link": true
    },
    "accelerator": "GPU",
    "gpuClass": "standard"
  },
  "nbformat": 4,
  "nbformat_minor": 5
}