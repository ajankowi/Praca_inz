{
  "cells": [
    {
      "cell_type": "markdown",
      "metadata": {
        "id": "view-in-github",
        "colab_type": "text"
      },
      "source": [
        "<a href=\"https://colab.research.google.com/github/ajankowi/Praca_inz/blob/master/Siec/Zlaczone_siec_4_Colab.ipynb\" target=\"_parent\"><img src=\"https://colab.research.google.com/assets/colab-badge.svg\" alt=\"Open In Colab\"/></a>"
      ]
    },
    {
      "cell_type": "code",
      "execution_count": 1,
      "id": "613f08b5",
      "metadata": {
        "id": "613f08b5",
        "outputId": "4b4d2fd3-5d1d-4f11-8afd-f589c9ac9e04",
        "colab": {
          "base_uri": "https://localhost:8080/"
        }
      },
      "outputs": [
        {
          "output_type": "stream",
          "name": "stdout",
          "text": [
            "3.8.16 (default, Dec  7 2022, 01:12:13) \n",
            "[GCC 7.5.0]\n"
          ]
        }
      ],
      "source": [
        "import sys\n",
        "print(sys.version)"
      ]
    },
    {
      "cell_type": "code",
      "source": [
        "#from google.colab import drive\n",
        "#drive.mount(\"/content/drive\", force_remount=True)"
      ],
      "metadata": {
        "id": "iY1o7_NmVlGs"
      },
      "id": "iY1o7_NmVlGs",
      "execution_count": 2,
      "outputs": []
    },
    {
      "cell_type": "code",
      "execution_count": 3,
      "id": "5eca1117",
      "metadata": {
        "id": "5eca1117",
        "outputId": "05b6d0fb-a1a9-4f32-8c54-9d9deabec01b",
        "colab": {
          "base_uri": "https://localhost:8080/"
        }
      },
      "outputs": [
        {
          "output_type": "stream",
          "name": "stdout",
          "text": [
            "TensorFlow version: 2.9.2\n"
          ]
        }
      ],
      "source": [
        "import tensorflow as tf\n",
        "from tensorflow import keras\n",
        "from keras import layers, models, regularizers\n",
        "from keras.layers import Flatten, add, Dense, Dropout \n",
        "from keras.callbacks import ModelCheckpoint, EarlyStopping\n",
        "\n",
        "\n",
        "print(\"TensorFlow version:\", tf.__version__)\n",
        "tf.keras.backend.set_floatx('float64')"
      ]
    },
    {
      "cell_type": "code",
      "execution_count": 4,
      "id": "12022d37",
      "metadata": {
        "id": "12022d37"
      },
      "outputs": [],
      "source": [
        "import matplotlib.pyplot as plt\n",
        "import numpy as np\n",
        "import pandas as pd\n",
        "import seaborn as sns\n",
        "from PIL import Image\n",
        "import os\n",
        "import csv\n",
        "import random\n",
        "\n",
        "import cv2\n",
        "import imutils\n",
        "import glob\n",
        "# Make NumPy printouts easier to read.\n",
        "np.set_printoptions(precision=3, suppress=True)"
      ]
    },
    {
      "cell_type": "code",
      "execution_count": 5,
      "id": "1086f893",
      "metadata": {
        "id": "1086f893"
      },
      "outputs": [],
      "source": [
        "#Określenie ścieżek do plików\n",
        "zip = '/content/drive/MyDrive/Sieci/Baza_zdjec_zlaczone_2/Baza_zdjec_zlaczone_2.zip'\n",
        "nazwa_CSV = 'nowe.csv'\n",
        "folder = '/content/drive/MyDrive/Sieci/Baza_zdjec_zlaczone_2/'\n",
        "folder_aktorzy = '/content/drive/MyDrive/Sieci/Baza_aktorzy_zlaczone/'\n",
        "aktorzy_CSV = 'aktorzy.csv'\n",
        "slesh = '/'\n",
        "png = '.png'"
      ]
    },
    {
      "cell_type": "code",
      "source": [
        "#!unzip '/content/drive/MyDrive/Sieci/Baza_zdjec_zlaczone_2/Baza_zdjec_zlaczone_2.zip' -d '/content/zdjecia/'\n",
        "#!unzip '/content/drive/MyDrive/Sieci/Baza_aktorzy_zlaczone/Baza_aktorzy_zlaczone.zip' -d '/content/aktorzy/'"
      ],
      "metadata": {
        "id": "FXtX4UDo9x77"
      },
      "id": "FXtX4UDo9x77",
      "execution_count": 6,
      "outputs": []
    },
    {
      "cell_type": "code",
      "execution_count": 7,
      "id": "d0329f31",
      "metadata": {
        "id": "d0329f31"
      },
      "outputs": [],
      "source": [
        "def release_list(a):\n",
        "    \n",
        "    del a[:]\n",
        "    del a"
      ]
    },
    {
      "cell_type": "code",
      "execution_count": 8,
      "id": "5beb89e7",
      "metadata": {
        "id": "5beb89e7",
        "outputId": "322f4a03-1f5e-49d9-b94f-d34af0a4c219",
        "colab": {
          "base_uri": "https://localhost:8080/"
        }
      },
      "outputs": [
        {
          "output_type": "stream",
          "name": "stdout",
          "text": [
            "25200\n"
          ]
        }
      ],
      "source": [
        "#Wczytanie pliku CSV do tablicy images\n",
        "\n",
        "with open(folder+nazwa_CSV,\"r\") as csvfile:\n",
        "    lines = csvfile.readlines()\n",
        "csvfile.close()\n",
        "\n",
        "new = []\n",
        "\n",
        "for i in lines:\n",
        "    new.append(i.split(\" \"))\n",
        "\n",
        "    \n",
        "value = []\n",
        "for i in new[0]:\n",
        "    value.append(int(i))    \n",
        "    \n",
        "print(len(value))"
      ]
    },
    {
      "cell_type": "code",
      "execution_count": 9,
      "id": "d9cb09d8",
      "metadata": {
        "id": "d9cb09d8",
        "outputId": "508f823c-660b-46f3-d3a1-f44598477906",
        "colab": {
          "base_uri": "https://localhost:8080/"
        }
      },
      "outputs": [
        {
          "output_type": "stream",
          "name": "stdout",
          "text": [
            "25200\n"
          ]
        }
      ],
      "source": [
        "#Wczytanie zdjęć do tablicy images\n",
        "images = []\n",
        "size = len(value)\n",
        "\n",
        "for i in range(size):\n",
        "    im = Image.open('/content/zdjecia/'+str(i)+'.png')\n",
        "    arr_im = np.array(im) \n",
        "    arr_im = arr_im / 255.0\n",
        "    images.append(arr_im) \n",
        "print(len(images))"
      ]
    },
    {
      "cell_type": "code",
      "execution_count": 10,
      "id": "44a7c0bf",
      "metadata": {
        "id": "44a7c0bf"
      },
      "outputs": [],
      "source": [
        "#Inicjalizacja tablic\n",
        "rand_list = []\n",
        "rand_list = np.zeros((len(images)), dtype=np.uint8)\n",
        "\n",
        "x_test = []\n",
        "y_test = []\n",
        "\n",
        "x_train = []\n",
        "y_train = []\n",
        "\n",
        "\n",
        "#Okreslanie wielkosci zbiorów\n",
        "nighty = int(len(images)*90/100)\n",
        "ten = len(images) - nighty\n",
        "\n",
        "#Losowanie zbioru testowego\n",
        "for i in range(nighty):\n",
        "    \n",
        "    #Pierwsze losowanie wartości\n",
        "    rand = random.randint(0,len(images)-1)\n",
        "    \n",
        "    #Sprawdzenie czy wylosowana wartość się powtarza\n",
        "    while (rand_list[rand] == 1) :\n",
        "        #Jeżeli tak to ponownie losuje\n",
        "        rand = random.randint(0,len(images)-1)\n",
        "    \n",
        "    #Zapisanie zdjecia i wartości do nowej tablicy\n",
        "    x_train.append(images[rand])\n",
        "    y_train.append(value[rand])\n",
        "    rand_list[rand] = 1\n",
        "\n",
        "#Losowanie zbioru uczącego\n",
        "for j in range(ten):\n",
        "    \n",
        "    #Pierwsze losowanie wartości\n",
        "    rand = random.randint(0,len(images)-1)\n",
        "    \n",
        "    #Sprawdzenie czy wylosowana wartość się powtarza\n",
        "    while (rand_list[rand] == 1) :\n",
        "        #Jeżeli tak to ponownie losuje\n",
        "        rand = random.randint(0,len(images)-1)\n",
        "        \n",
        "    #Zapisanie zdjecia i wartości do nowej tablicy\n",
        "    x_test.append(images[rand])\n",
        "    y_test.append(value[rand])\n",
        "    rand_list[rand] = 1\n",
        "    \n",
        "    \n",
        "release_list(images)\n",
        "release_list(value)"
      ]
    },
    {
      "cell_type": "code",
      "execution_count": 11,
      "id": "8fccbbcc",
      "metadata": {
        "id": "8fccbbcc",
        "outputId": "791a6e75-2502-4367-c8b9-6816658f4e79",
        "colab": {
          "base_uri": "https://localhost:8080/"
        }
      },
      "outputs": [
        {
          "output_type": "stream",
          "name": "stdout",
          "text": [
            "10.25%\n",
            "89.75%\n"
          ]
        }
      ],
      "source": [
        "#Sprawdzenie poprawności losowania\n",
        "val_1 = 100 * sum(y_test) / (size / 2)\n",
        "print(\"%.2f\" % val_1 + '%') \n",
        "\n",
        "\n",
        "val_2 = 100 * sum(y_train) / (size / 2)\n",
        "print(\"%.2f\" % val_2 + '%') \n",
        "\n",
        "\n"
      ]
    },
    {
      "cell_type": "code",
      "execution_count": 12,
      "id": "f7f4dd4b",
      "metadata": {
        "id": "f7f4dd4b"
      },
      "outputs": [],
      "source": [
        "x_train = np.array(x_train)\n",
        "x_test = np.array(x_test)\n",
        "\n",
        "y_train = np.array(y_train)\n",
        "y_test = np.array(y_test)"
      ]
    },
    {
      "cell_type": "code",
      "execution_count": 13,
      "id": "d3a370cb",
      "metadata": {
        "id": "d3a370cb",
        "outputId": "38ff9643-ddf9-4a18-b601-1afc86534837",
        "colab": {
          "base_uri": "https://localhost:8080/",
          "height": 357
        }
      },
      "outputs": [
        {
          "output_type": "stream",
          "name": "stdout",
          "text": [
            "[[0.    0.    0.    ... 0.427 0.396 0.   ]\n",
            " [0.412 0.431 0.435 ... 0.325 0.369 0.   ]\n",
            " [0.455 0.459 0.451 ... 0.278 0.302 0.   ]\n",
            " ...\n",
            " [0.    0.38  0.388 ... 0.216 0.216 0.216]\n",
            " [0.    0.38  0.384 ... 0.216 0.208 0.2  ]\n",
            " [0.    0.361 0.376 ... 0.    0.    0.   ]]\n",
            "1\n"
          ]
        },
        {
          "output_type": "display_data",
          "data": {
            "text/plain": [
              "<Figure size 432x288 with 1 Axes>"
            ],
            "image/png": "[encoded data removed]"
          },
          "metadata": {
            "needs_background": "light"
          }
        }
      ],
      "source": [
        "plt.imshow(x_train[0],cmap = 'gray')\n",
        "print(x_train[0])\n",
        "print(y_train[0])"
      ]
    },
    {
      "cell_type": "code",
      "execution_count": 14,
      "id": "772c7d7c",
      "metadata": {
        "id": "772c7d7c"
      },
      "outputs": [],
      "source": [
        "model = models.Sequential()\n",
        "model.add(layers.Conv2D(32, (3, 3), activation='relu', input_shape=(64, 128, 1)))\n",
        "model.add(layers.MaxPooling2D((2, 2)))\n",
        "model.add(Dropout(0.1))\n",
        "\n",
        "model.add(layers.Conv2D(64, (3, 3), activation='relu'))\n",
        "model.add(layers.MaxPooling2D((2, 2)))\n",
        "model.add(Dropout(0.1))\n",
        "\n",
        "model.add(layers.Conv2D(64, (3, 3), activation='relu'))\n",
        "model.add(layers.MaxPooling2D((2, 2)))\n",
        "model.add(Dropout(0.1))\n",
        "\n",
        "model.add(layers.Flatten())\n",
        "model.add(layers.Dense(64, activation='relu'))\n",
        "model.add(layers.Dense(1, activation='relu'))\n"
      ]
    },
    {
      "cell_type": "code",
      "execution_count": 15,
      "id": "b86f72df",
      "metadata": {
        "id": "b86f72df",
        "outputId": "ac3672eb-8dd1-44f5-925d-7512ec6e6762",
        "colab": {
          "base_uri": "https://localhost:8080/"
        }
      },
      "outputs": [
        {
          "output_type": "stream",
          "name": "stdout",
          "text": [
            "Model: \"sequential\"\n",
            "_________________________________________________________________\n",
            " Layer (type)                Output Shape              Param #   \n",
            "=================================================================\n",
            " conv2d (Conv2D)             (None, 62, 126, 32)       320       \n",
            "                                                                 \n",
            " max_pooling2d (MaxPooling2D  (None, 31, 63, 32)       0         \n",
            " )                                                               \n",
            "                                                                 \n",
            " dropout (Dropout)           (None, 31, 63, 32)        0         \n",
            "                                                                 \n",
            " conv2d_1 (Conv2D)           (None, 29, 61, 64)        18496     \n",
            "                                                                 \n",
            " max_pooling2d_1 (MaxPooling  (None, 14, 30, 64)       0         \n",
            " 2D)                                                             \n",
            "                                                                 \n",
            " dropout_1 (Dropout)         (None, 14, 30, 64)        0         \n",
            "                                                                 \n",
            " conv2d_2 (Conv2D)           (None, 12, 28, 64)        36928     \n",
            "                                                                 \n",
            " max_pooling2d_2 (MaxPooling  (None, 6, 14, 64)        0         \n",
            " 2D)                                                             \n",
            "                                                                 \n",
            " dropout_2 (Dropout)         (None, 6, 14, 64)         0         \n",
            "                                                                 \n",
            " flatten (Flatten)           (None, 5376)              0         \n",
            "                                                                 \n",
            " dense (Dense)               (None, 64)                344128    \n",
            "                                                                 \n",
            " dense_1 (Dense)             (None, 1)                 65        \n",
            "                                                                 \n",
            "=================================================================\n",
            "Total params: 399,937\n",
            "Trainable params: 399,937\n",
            "Non-trainable params: 0\n",
            "_________________________________________________________________\n"
          ]
        }
      ],
      "source": [
        "model.summary()"
      ]
    },
    {
      "cell_type": "code",
      "execution_count": null,
      "id": "9beb77e5",
      "metadata": {
        "id": "9beb77e5",
        "outputId": "2b2dba1b-95bb-47d0-a7ea-8974f5d4e4ec",
        "colab": {
          "base_uri": "https://localhost:8080/"
        }
      },
      "outputs": [
        {
          "output_type": "stream",
          "name": "stdout",
          "text": [
            "Epoch 1/100\n",
            "80/80 [==============================] - 40s 446ms/step - loss: 0.5159 - accuracy: 0.5027 - mse: 0.5159 - val_loss: 0.5022 - val_accuracy: 0.4978 - val_mse: 0.5022\n",
            "Epoch 2/100\n",
            "80/80 [==============================] - 33s 412ms/step - loss: 0.4982 - accuracy: 0.5018 - mse: 0.4982 - val_loss: 0.5022 - val_accuracy: 0.4978 - val_mse: 0.5022\n",
            "Epoch 3/100\n",
            "80/80 [==============================] - 33s 414ms/step - loss: 0.4982 - accuracy: 0.5018 - mse: 0.4982 - val_loss: 0.5022 - val_accuracy: 0.4978 - val_mse: 0.5022\n",
            "Epoch 4/100\n",
            " 6/80 [=>............................] - ETA: 29s - loss: 0.5091 - accuracy: 0.4909 - mse: 0.5091"
          ]
        }
      ],
      "source": [
        "model.compile(optimizer='adam',\n",
        "              loss='mse',\n",
        "              metrics=['accuracy','mse'])\n",
        "\n",
        "#Funcka umożliwia zatrzymanie się uczenia \n",
        "#gdy wartość strat przstanie maleć\n",
        "EarlyStop = EarlyStopping(monitor='val_loss',  \n",
        "                          verbose=1, \n",
        "                          patience=5)\n",
        "\n",
        "\n",
        "ModelCheck = ModelCheckpoint(filepath='/content/drive/MyDrive/Sieci/Zlaczone.h5',\n",
        "                             monitor='val_loss',\n",
        "                             save_best_only=True)\n",
        "\n",
        "\n",
        "history = model.fit(x=x_train, \n",
        "                    y=y_train, \n",
        "                    epochs=100,\n",
        "                    batch_size=256,\n",
        "                    validation_split=0.1,\n",
        "                    callbacks = [EarlyStop, ModelCheck]\n",
        "                   )"
      ]
    },
    {
      "cell_type": "code",
      "execution_count": null,
      "id": "fe8633db",
      "metadata": {
        "id": "fe8633db"
      },
      "outputs": [],
      "source": [
        "plt.plot(history.history['loss'], label='strata')\n",
        "plt.plot(history.history['val_loss'], label = 'strata walidacyjna')\n",
        "plt.xlabel('Epoka')\n",
        "plt.ylabel('Strata')\n",
        "plt.ylim([0.0, 0.5])\n",
        "plt.legend(loc='upper right')"
      ]
    },
    {
      "cell_type": "code",
      "execution_count": null,
      "id": "8b976089",
      "metadata": {
        "scrolled": true,
        "id": "8b976089"
      },
      "outputs": [],
      "source": [
        "plt.plot(history.history['accuracy'], label='precyzja')\n",
        "plt.plot(history.history['val_accuracy'], label = 'precyzja walidacyjna')\n",
        "plt.xlabel('Epoka')\n",
        "plt.ylabel('Precyzja')\n",
        "plt.ylim([0.5, 1])\n",
        "plt.legend(loc='lower right')"
      ]
    },
    {
      "cell_type": "code",
      "execution_count": null,
      "id": "685a286c",
      "metadata": {
        "id": "685a286c"
      },
      "outputs": [],
      "source": [
        "model.evaluate(x_test,  y_test, verbose=2)"
      ]
    },
    {
      "cell_type": "code",
      "execution_count": null,
      "id": "ee941c13",
      "metadata": {
        "id": "ee941c13"
      },
      "outputs": [],
      "source": [
        "predict_x = model.predict(x_test) \n",
        "\n",
        "predictions = (predict_x > 0.5).astype(\"int32\")"
      ]
    },
    {
      "cell_type": "code",
      "execution_count": null,
      "id": "d8fb12f1",
      "metadata": {
        "id": "d8fb12f1"
      },
      "outputs": [],
      "source": [
        "names = [['Tn','Nn'],['Np', 'Tp']]\n",
        "names = np.reshape(names,(2,2))\n",
        "print(names)\n",
        "\n",
        "tf.math.confusion_matrix(y_test,predictions)"
      ]
    },
    {
      "cell_type": "code",
      "source": [
        "\n",
        "#################################\n",
        "#                               #\n",
        "#    Wczytanie zdjęć aktorów    #\n",
        "#                               #\n",
        "#################################"
      ],
      "metadata": {
        "id": "8bjxw97eKGtx"
      },
      "id": "8bjxw97eKGtx",
      "execution_count": null,
      "outputs": []
    },
    {
      "cell_type": "code",
      "source": [
        "with open(folder_aktorzy+aktorzy_CSV,\"r\") as csvfile:\n",
        "    lines = csvfile.readlines()\n",
        "csvfile.close()\n",
        "\n",
        "\n",
        "tmp = []\n",
        "actors_label = []\n",
        "\n",
        "for i in lines:\n",
        "    tmp.append(i.split(\" \"))\n",
        "\n",
        "#Tablica przechowująca etykiety aktorów   \n",
        "act_label = []\n",
        "for i in tmp[0]:\n",
        "    actors_label.append(int(i))    \n",
        "    \n",
        "print(len(actors_label))"
      ],
      "metadata": {
        "id": "c8Fko2c4KG7r"
      },
      "id": "c8Fko2c4KG7r",
      "execution_count": null,
      "outputs": []
    },
    {
      "cell_type": "code",
      "execution_count": null,
      "id": "62ceaefe",
      "metadata": {
        "id": "62ceaefe"
      },
      "outputs": [],
      "source": [
        "#Wczytanie zdjęć aktorów do tablicy\n",
        "\n",
        "actors_img = []\n",
        "size = len(actors_label)\n",
        "\n",
        "for i in range(size):\n",
        "    im = Image.open('/content/aktorzy/'+str(i)+'.png')\n",
        "    arr_im = np.array(im) \n",
        "    arr_im = arr_im / 255.0\n",
        "    actors_img.append(arr_im) \n",
        "print(len(actors_img))"
      ]
    },
    {
      "cell_type": "code",
      "execution_count": null,
      "id": "d8cd5537",
      "metadata": {
        "id": "d8cd5537"
      },
      "outputs": [],
      "source": [
        "actors_img= np.array(actors_img)\n",
        "plt.imshow(actors_img[0],cmap = 'gray')\n",
        "print(actors_img[0])"
      ]
    },
    {
      "cell_type": "code",
      "execution_count": null,
      "id": "304612c1",
      "metadata": {
        "id": "304612c1"
      },
      "outputs": [],
      "source": [
        "#Testowanie sieci z wykorzystaniem zdjęć aktorów \n",
        "\n",
        "predict_actors = model.predict(actors_img) \n",
        "\n",
        "print(predict_actors)\n",
        "predict = (predict_actors > 0.5).astype(\"int32\")"
      ]
    },
    {
      "cell_type": "code",
      "execution_count": null,
      "id": "29f5ab15",
      "metadata": {
        "id": "29f5ab15"
      },
      "outputs": [],
      "source": [
        "print(names)\n",
        "\n",
        "tf.math.confusion_matrix(actors_label,predict)"
      ]
    },
    {
      "cell_type": "code",
      "execution_count": null,
      "id": "992cfbdd",
      "metadata": {
        "id": "992cfbdd"
      },
      "outputs": [],
      "source": []
    }
  ],
  "metadata": {
    "kernelspec": {
      "display_name": "py39",
      "language": "python",
      "name": "py39"
    },
    "language_info": {
      "codemirror_mode": {
        "name": "ipython",
        "version": 3
      },
      "file_extension": ".py",
      "mimetype": "text/x-python",
      "name": "python",
      "nbconvert_exporter": "python",
      "pygments_lexer": "ipython3",
      "version": "3.9.12"
    },
    "colab": {
      "provenance": [],
      "include_colab_link": true
    },
    "accelerator": "GPU",
    "gpuClass": "standard"
  },
  "nbformat": 4,
  "nbformat_minor": 5
}