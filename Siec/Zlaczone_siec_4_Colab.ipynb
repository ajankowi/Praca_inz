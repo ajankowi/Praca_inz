{
  "cells": [
    {
      "cell_type": "markdown",
      "metadata": {
        "id": "view-in-github",
        "colab_type": "text"
      },
      "source": [
        "<a href=\"https://colab.research.google.com/github/ajankowi/Praca_inz/blob/master/Siec/Zlaczone_siec_4_Colab.ipynb\" target=\"_parent\"><img src=\"https://colab.research.google.com/assets/colab-badge.svg\" alt=\"Open In Colab\"/></a>"
      ]
    },
    {
      "cell_type": "code",
      "execution_count": 1,
      "id": "613f08b5",
      "metadata": {
        "id": "613f08b5",
        "outputId": "3b65e5d4-6aaf-4987-c7ea-6141746e98af",
        "colab": {
          "base_uri": "https://localhost:8080/"
        }
      },
      "outputs": [
        {
          "output_type": "stream",
          "name": "stdout",
          "text": [
            "3.8.16 (default, Dec  7 2022, 01:12:13) \n",
            "[GCC 7.5.0]\n"
          ]
        }
      ],
      "source": [
        "import sys\n",
        "print(sys.version)"
      ]
    },
    {
      "cell_type": "code",
      "source": [
        "#from google.colab import drive\n",
        "#drive.mount(\"/content/drive\", force_remount=True)"
      ],
      "metadata": {
        "id": "iY1o7_NmVlGs"
      },
      "id": "iY1o7_NmVlGs",
      "execution_count": 2,
      "outputs": []
    },
    {
      "cell_type": "code",
      "execution_count": 3,
      "id": "5eca1117",
      "metadata": {
        "id": "5eca1117",
        "outputId": "1565dca8-4217-4d50-db5a-5affbd921210",
        "colab": {
          "base_uri": "https://localhost:8080/"
        }
      },
      "outputs": [
        {
          "output_type": "stream",
          "name": "stdout",
          "text": [
            "TensorFlow version: 2.9.2\n"
          ]
        }
      ],
      "source": [
        "import tensorflow as tf\n",
        "from tensorflow import keras\n",
        "from keras import layers, models, regularizers\n",
        "from keras.layers import Flatten, add, Dense, Dropout \n",
        "from keras.callbacks import ModelCheckpoint, EarlyStopping\n",
        "\n",
        "\n",
        "print(\"TensorFlow version:\", tf.__version__)\n",
        "tf.keras.backend.set_floatx('float64')"
      ]
    },
    {
      "cell_type": "code",
      "execution_count": 4,
      "id": "12022d37",
      "metadata": {
        "id": "12022d37"
      },
      "outputs": [],
      "source": [
        "import matplotlib.pyplot as plt\n",
        "import numpy as np\n",
        "import pandas as pd\n",
        "import seaborn as sns\n",
        "from PIL import Image\n",
        "import os\n",
        "import csv\n",
        "import random\n",
        "\n",
        "import cv2\n",
        "import imutils\n",
        "import glob\n",
        "# Make NumPy printouts easier to read.\n",
        "np.set_printoptions(precision=3, suppress=True)"
      ]
    },
    {
      "cell_type": "code",
      "execution_count": 5,
      "id": "1086f893",
      "metadata": {
        "id": "1086f893"
      },
      "outputs": [],
      "source": [
        "#Określenie ścieżek do plików\n",
        "zip = '/content/drive/MyDrive/Sieci/Baza_zdjec_zlaczone_2/Baza_zdjec_zlaczone_2.zip'\n",
        "nazwa_CSV = 'nowe.csv'\n",
        "folder = '/content/drive/MyDrive/Sieci/Baza_zdjec_zlaczone_2/'\n",
        "slesh = '/'\n",
        "png = '.png'"
      ]
    },
    {
      "cell_type": "code",
      "source": [
        "#!unzip '/content/drive/MyDrive/Sieci/Baza_zdjec_zlaczone_2/Baza_zdjec_zlaczone_2.zip' -d '/content/zdjecia/'"
      ],
      "metadata": {
        "id": "FXtX4UDo9x77"
      },
      "id": "FXtX4UDo9x77",
      "execution_count": 6,
      "outputs": []
    },
    {
      "cell_type": "code",
      "execution_count": 7,
      "id": "d0329f31",
      "metadata": {
        "id": "d0329f31"
      },
      "outputs": [],
      "source": [
        "def release_list(a):\n",
        "    \n",
        "    del a[:]\n",
        "    del a"
      ]
    },
    {
      "cell_type": "code",
      "execution_count": 8,
      "id": "5beb89e7",
      "metadata": {
        "id": "5beb89e7",
        "outputId": "e2b309cc-0bfc-4cae-95e6-4d3d39ffa7b3",
        "colab": {
          "base_uri": "https://localhost:8080/"
        }
      },
      "outputs": [
        {
          "output_type": "stream",
          "name": "stdout",
          "text": [
            "25200\n"
          ]
        }
      ],
      "source": [
        "#Wczytanie pliku CSV do tablicy images\n",
        "\n",
        "with open(folder+nazwa_CSV,\"r\") as csvfile:\n",
        "    lines = csvfile.readlines()\n",
        "csvfile.close()\n",
        "\n",
        "new = []\n",
        "\n",
        "for i in lines:\n",
        "    new.append(i.split(\" \"))\n",
        "\n",
        "    \n",
        "value = []\n",
        "for i in new[0]:\n",
        "    value.append(int(i))    \n",
        "    \n",
        "print(len(value))"
      ]
    },
    {
      "cell_type": "code",
      "execution_count": 9,
      "id": "d9cb09d8",
      "metadata": {
        "id": "d9cb09d8",
        "outputId": "cba79d2e-f6e3-43f6-85f9-964f264e643f",
        "colab": {
          "base_uri": "https://localhost:8080/"
        }
      },
      "outputs": [
        {
          "output_type": "stream",
          "name": "stdout",
          "text": [
            "25200\n"
          ]
        }
      ],
      "source": [
        "#Wczytanie zdjęć do tablicy images\n",
        "images = []\n",
        "size = len(value)\n",
        "\n",
        "for i in range(size):\n",
        "    im = Image.open('/content/zdjecia/'+str(i)+'.png')\n",
        "    arr_im = np.array(im) \n",
        "    arr_im = arr_im / 255.0\n",
        "    images.append(arr_im) \n",
        "print(len(images))"
      ]
    },
    {
      "cell_type": "code",
      "execution_count": 10,
      "id": "44a7c0bf",
      "metadata": {
        "id": "44a7c0bf"
      },
      "outputs": [],
      "source": [
        "#Inicjalizacja tablic\n",
        "rand_list = []\n",
        "rand_list = np.zeros((len(images)), dtype=np.uint8)\n",
        "\n",
        "x_test = []\n",
        "y_test = []\n",
        "\n",
        "x_train = []\n",
        "y_train = []\n",
        "\n",
        "\n",
        "#Okreslanie wielkosci zbiorów\n",
        "nighty = int(len(images)*90/100)\n",
        "ten = len(images) - nighty\n",
        "\n",
        "#Losowanie zbioru testowego\n",
        "for i in range(nighty):\n",
        "    \n",
        "    #Pierwsze losowanie wartości\n",
        "    rand = random.randint(0,len(images)-1)\n",
        "    \n",
        "    #Sprawdzenie czy wylosowana wartość się powtarza\n",
        "    while (rand_list[rand] == 1) :\n",
        "        #Jeżeli tak to ponownie losuje\n",
        "        rand = random.randint(0,len(images)-1)\n",
        "    \n",
        "    #Zapisanie zdjecia i wartości do nowej tablicy\n",
        "    x_train.append(images[rand])\n",
        "    y_train.append(value[rand])\n",
        "    rand_list[rand] = 1\n",
        "\n",
        "#Losowanie zbioru uczącego\n",
        "for j in range(ten):\n",
        "    \n",
        "    #Pierwsze losowanie wartości\n",
        "    rand = random.randint(0,len(images)-1)\n",
        "    \n",
        "    #Sprawdzenie czy wylosowana wartość się powtarza\n",
        "    while (rand_list[rand] == 1) :\n",
        "        #Jeżeli tak to ponownie losuje\n",
        "        rand = random.randint(0,len(images)-1)\n",
        "        \n",
        "    #Zapisanie zdjecia i wartości do nowej tablicy\n",
        "    x_test.append(images[rand])\n",
        "    y_test.append(value[rand])\n",
        "    rand_list[rand] = 1\n",
        "    \n",
        "    \n",
        "release_list(images)\n",
        "release_list(value)"
      ]
    },
    {
      "cell_type": "code",
      "execution_count": 11,
      "id": "8fccbbcc",
      "metadata": {
        "id": "8fccbbcc",
        "outputId": "dd053cc6-c768-409c-f933-596fd2a8f6ae",
        "colab": {
          "base_uri": "https://localhost:8080/"
        }
      },
      "outputs": [
        {
          "output_type": "stream",
          "name": "stdout",
          "text": [
            "10.10%\n",
            "89.90%\n"
          ]
        }
      ],
      "source": [
        "#Sprawdzenie poprawności losowania\n",
        "val_1 = 100 * sum(y_test) / (size / 2)\n",
        "print(\"%.2f\" % val_1 + '%') \n",
        "\n",
        "\n",
        "val_2 = 100 * sum(y_train) / (size / 2)\n",
        "print(\"%.2f\" % val_2 + '%') \n",
        "\n",
        "\n"
      ]
    },
    {
      "cell_type": "code",
      "execution_count": 12,
      "id": "f7f4dd4b",
      "metadata": {
        "id": "f7f4dd4b"
      },
      "outputs": [],
      "source": [
        "x_train = np.array(x_train)\n",
        "x_test = np.array(x_test)\n",
        "\n",
        "y_train = np.array(y_train)\n",
        "y_test = np.array(y_test)"
      ]
    },
    {
      "cell_type": "code",
      "execution_count": 13,
      "id": "d3a370cb",
      "metadata": {
        "id": "d3a370cb",
        "outputId": "96c6ea6a-81e3-4a0b-88a3-4129b6423871",
        "colab": {
          "base_uri": "https://localhost:8080/",
          "height": 357
        }
      },
      "outputs": [
        {
          "output_type": "stream",
          "name": "stdout",
          "text": [
            "[[0.    0.    0.    ... 0.    0.    0.   ]\n",
            " [0.    0.    0.    ... 0.    0.    0.   ]\n",
            " [0.431 0.447 0.471 ... 0.012 0.    0.   ]\n",
            " ...\n",
            " [0.    0.004 0.071 ... 0.039 0.008 0.   ]\n",
            " [0.    0.    0.071 ... 0.    0.    0.   ]\n",
            " [0.    0.    0.098 ... 0.    0.    0.   ]]\n",
            "0\n"
          ]
        },
        {
          "output_type": "display_data",
          "data": {
            "text/plain": [
              "<Figure size 432x288 with 1 Axes>"
            ],
            "image/png": "[encoded data removed]"
          },
          "metadata": {
            "needs_background": "light"
          }
        }
      ],
      "source": [
        "plt.imshow(x_train[0],cmap = 'gray')\n",
        "print(x_train[0])\n",
        "print(y_train[0])"
      ]
    },
    {
      "cell_type": "code",
      "execution_count": 14,
      "id": "772c7d7c",
      "metadata": {
        "id": "772c7d7c"
      },
      "outputs": [],
      "source": [
        "model = models.Sequential()\n",
        "model.add(layers.Conv2D(32, (3, 3), activation='relu', input_shape=(64, 128, 1)))\n",
        "model.add(layers.MaxPooling2D((2, 2)))\n",
        "model.add(Dropout(0.1))\n",
        "\n",
        "model.add(layers.Conv2D(64, (3, 3), activation='relu'))\n",
        "model.add(layers.MaxPooling2D((2, 2)))\n",
        "model.add(Dropout(0.1))\n",
        "\n",
        "model.add(layers.Conv2D(64, (3, 3), activation='relu'))\n",
        "model.add(layers.MaxPooling2D((2, 2)))\n",
        "model.add(Dropout(0.1))\n",
        "\n",
        "model.add(layers.Flatten())\n",
        "model.add(layers.Dense(64, activation='relu', kernel_regularizer=keras.regularizers.l2(l=0.1)))\n",
        "model.add(layers.Dense(1, activation='relu'))\n"
      ]
    },
    {
      "cell_type": "code",
      "execution_count": 15,
      "id": "b86f72df",
      "metadata": {
        "id": "b86f72df",
        "outputId": "7f41571f-e35c-4ee6-ee3b-0136999d84d2",
        "colab": {
          "base_uri": "https://localhost:8080/"
        }
      },
      "outputs": [
        {
          "output_type": "stream",
          "name": "stdout",
          "text": [
            "Model: \"sequential\"\n",
            "_________________________________________________________________\n",
            " Layer (type)                Output Shape              Param #   \n",
            "=================================================================\n",
            " conv2d (Conv2D)             (None, 62, 126, 32)       320       \n",
            "                                                                 \n",
            " max_pooling2d (MaxPooling2D  (None, 31, 63, 32)       0         \n",
            " )                                                               \n",
            "                                                                 \n",
            " dropout (Dropout)           (None, 31, 63, 32)        0         \n",
            "                                                                 \n",
            " conv2d_1 (Conv2D)           (None, 29, 61, 64)        18496     \n",
            "                                                                 \n",
            " max_pooling2d_1 (MaxPooling  (None, 14, 30, 64)       0         \n",
            " 2D)                                                             \n",
            "                                                                 \n",
            " dropout_1 (Dropout)         (None, 14, 30, 64)        0         \n",
            "                                                                 \n",
            " conv2d_2 (Conv2D)           (None, 12, 28, 64)        36928     \n",
            "                                                                 \n",
            " max_pooling2d_2 (MaxPooling  (None, 6, 14, 64)        0         \n",
            " 2D)                                                             \n",
            "                                                                 \n",
            " dropout_2 (Dropout)         (None, 6, 14, 64)         0         \n",
            "                                                                 \n",
            " flatten (Flatten)           (None, 5376)              0         \n",
            "                                                                 \n",
            " dense (Dense)               (None, 64)                344128    \n",
            "                                                                 \n",
            " dense_1 (Dense)             (None, 1)                 65        \n",
            "                                                                 \n",
            "=================================================================\n",
            "Total params: 399,937\n",
            "Trainable params: 399,937\n",
            "Non-trainable params: 0\n",
            "_________________________________________________________________\n"
          ]
        }
      ],
      "source": [
        "model.summary()"
      ]
    },
    {
      "cell_type": "code",
      "execution_count": 16,
      "id": "9beb77e5",
      "metadata": {
        "id": "9beb77e5",
        "outputId": "2e06bc22-b6d5-4548-e5a4-ba0fbe6e5bc9",
        "colab": {
          "base_uri": "https://localhost:8080/"
        }
      },
      "outputs": [
        {
          "output_type": "stream",
          "name": "stdout",
          "text": [
            "Epoch 1/100\n",
            "80/80 [==============================] - 44s 481ms/step - loss: 2.2175 - accuracy: 0.5554 - mse: 0.2643 - val_loss: 0.3041 - val_accuracy: 0.5150 - val_mse: 0.2568\n",
            "Epoch 2/100\n",
            "80/80 [==============================] - 36s 451ms/step - loss: 0.2044 - accuracy: 0.7092 - mse: 0.1816 - val_loss: 0.1882 - val_accuracy: 0.7165 - val_mse: 0.1685\n",
            "Epoch 3/100\n",
            "80/80 [==============================] - 36s 449ms/step - loss: 0.1627 - accuracy: 0.8120 - mse: 0.1345 - val_loss: 0.1783 - val_accuracy: 0.8280 - val_mse: 0.1292\n",
            "Epoch 4/100\n",
            "80/80 [==============================] - 36s 451ms/step - loss: 0.1426 - accuracy: 0.8479 - mse: 0.1137 - val_loss: 0.1287 - val_accuracy: 0.8743 - val_mse: 0.0971\n",
            "Epoch 5/100\n",
            "80/80 [==============================] - 36s 448ms/step - loss: 0.1169 - accuracy: 0.8921 - mse: 0.0901 - val_loss: 0.0946 - val_accuracy: 0.9087 - val_mse: 0.0699\n",
            "Epoch 6/100\n",
            "80/80 [==============================] - 36s 446ms/step - loss: 0.0959 - accuracy: 0.9173 - mse: 0.0725 - val_loss: 0.0824 - val_accuracy: 0.9378 - val_mse: 0.0604\n",
            "Epoch 7/100\n",
            "80/80 [==============================] - 37s 462ms/step - loss: 0.0907 - accuracy: 0.9214 - mse: 0.0681 - val_loss: 0.0765 - val_accuracy: 0.9383 - val_mse: 0.0555\n",
            "Epoch 8/100\n",
            "80/80 [==============================] - 34s 426ms/step - loss: 0.0818 - accuracy: 0.9359 - mse: 0.0602 - val_loss: 0.1084 - val_accuracy: 0.8827 - val_mse: 0.0870\n",
            "Epoch 9/100\n",
            "80/80 [==============================] - 36s 454ms/step - loss: 0.0791 - accuracy: 0.9433 - mse: 0.0549 - val_loss: 0.0594 - val_accuracy: 0.9660 - val_mse: 0.0384\n",
            "Epoch 10/100\n",
            "80/80 [==============================] - 37s 461ms/step - loss: 0.0637 - accuracy: 0.9589 - mse: 0.0438 - val_loss: 0.0548 - val_accuracy: 0.9709 - val_mse: 0.0350\n",
            "Epoch 11/100\n",
            "80/80 [==============================] - 36s 449ms/step - loss: 0.0589 - accuracy: 0.9632 - mse: 0.0398 - val_loss: 0.0519 - val_accuracy: 0.9744 - val_mse: 0.0313\n",
            "Epoch 12/100\n",
            "80/80 [==============================] - 36s 454ms/step - loss: 0.0586 - accuracy: 0.9653 - mse: 0.0379 - val_loss: 0.0486 - val_accuracy: 0.9832 - val_mse: 0.0302\n",
            "Epoch 13/100\n",
            "80/80 [==============================] - 34s 425ms/step - loss: 0.0457 - accuracy: 0.9774 - mse: 0.0283 - val_loss: 0.0517 - val_accuracy: 0.9802 - val_mse: 0.0343\n",
            "Epoch 14/100\n",
            "80/80 [==============================] - 36s 448ms/step - loss: 0.0472 - accuracy: 0.9749 - mse: 0.0298 - val_loss: 0.0341 - val_accuracy: 0.9894 - val_mse: 0.0168\n",
            "Epoch 15/100\n",
            "80/80 [==============================] - 36s 445ms/step - loss: 0.0410 - accuracy: 0.9798 - mse: 0.0248 - val_loss: 0.0308 - val_accuracy: 0.9859 - val_mse: 0.0160\n",
            "Epoch 16/100\n",
            "80/80 [==============================] - 34s 427ms/step - loss: 0.0456 - accuracy: 0.9760 - mse: 0.0280 - val_loss: 0.0417 - val_accuracy: 0.9749 - val_mse: 0.0239\n",
            "Epoch 17/100\n",
            "80/80 [==============================] - 34s 425ms/step - loss: 0.0395 - accuracy: 0.9820 - mse: 0.0234 - val_loss: 0.0427 - val_accuracy: 0.9819 - val_mse: 0.0286\n",
            "Epoch 18/100\n",
            "80/80 [==============================] - 34s 425ms/step - loss: 0.0415 - accuracy: 0.9782 - mse: 0.0258 - val_loss: 0.0374 - val_accuracy: 0.9894 - val_mse: 0.0214\n",
            "Epoch 19/100\n",
            "80/80 [==============================] - 34s 426ms/step - loss: 0.0394 - accuracy: 0.9792 - mse: 0.0242 - val_loss: 0.0381 - val_accuracy: 0.9784 - val_mse: 0.0197\n",
            "Epoch 20/100\n",
            "80/80 [==============================] - 36s 448ms/step - loss: 0.0348 - accuracy: 0.9832 - mse: 0.0196 - val_loss: 0.0281 - val_accuracy: 0.9877 - val_mse: 0.0146\n",
            "Epoch 21/100\n",
            "80/80 [==============================] - 34s 424ms/step - loss: 0.0331 - accuracy: 0.9842 - mse: 0.0193 - val_loss: 0.0421 - val_accuracy: 0.9890 - val_mse: 0.0261\n",
            "Epoch 22/100\n",
            "80/80 [==============================] - 37s 460ms/step - loss: 0.0317 - accuracy: 0.9859 - mse: 0.0185 - val_loss: 0.0228 - val_accuracy: 0.9925 - val_mse: 0.0107\n",
            "Epoch 23/100\n",
            "80/80 [==============================] - 36s 449ms/step - loss: 0.0309 - accuracy: 0.9867 - mse: 0.0169 - val_loss: 0.0216 - val_accuracy: 0.9938 - val_mse: 0.0089\n",
            "Epoch 24/100\n",
            "80/80 [==============================] - 34s 425ms/step - loss: 0.0305 - accuracy: 0.9852 - mse: 0.0177 - val_loss: 0.0308 - val_accuracy: 0.9925 - val_mse: 0.0188\n",
            "Epoch 25/100\n",
            "80/80 [==============================] - 34s 424ms/step - loss: 0.0426 - accuracy: 0.9799 - mse: 0.0229 - val_loss: 0.0239 - val_accuracy: 0.9890 - val_mse: 0.0116\n",
            "Epoch 26/100\n",
            "80/80 [==============================] - 34s 424ms/step - loss: 0.0332 - accuracy: 0.9864 - mse: 0.0178 - val_loss: 0.0232 - val_accuracy: 0.9916 - val_mse: 0.0093\n",
            "Epoch 27/100\n",
            "80/80 [==============================] - 36s 447ms/step - loss: 0.0260 - accuracy: 0.9886 - mse: 0.0141 - val_loss: 0.0214 - val_accuracy: 0.9907 - val_mse: 0.0108\n",
            "Epoch 28/100\n",
            "80/80 [==============================] - 36s 447ms/step - loss: 0.0277 - accuracy: 0.9865 - mse: 0.0157 - val_loss: 0.0199 - val_accuracy: 0.9938 - val_mse: 0.0082\n",
            "Epoch 29/100\n",
            "80/80 [==============================] - 34s 424ms/step - loss: 0.0272 - accuracy: 0.9874 - mse: 0.0145 - val_loss: 0.0228 - val_accuracy: 0.9899 - val_mse: 0.0101\n",
            "Epoch 30/100\n",
            "80/80 [==============================] - 34s 424ms/step - loss: 0.0282 - accuracy: 0.9894 - mse: 0.0139 - val_loss: 0.0223 - val_accuracy: 0.9877 - val_mse: 0.0118\n",
            "Epoch 31/100\n",
            "80/80 [==============================] - 34s 425ms/step - loss: 0.0262 - accuracy: 0.9879 - mse: 0.0145 - val_loss: 0.0218 - val_accuracy: 0.9916 - val_mse: 0.0093\n",
            "Epoch 32/100\n",
            "80/80 [==============================] - 36s 445ms/step - loss: 0.0229 - accuracy: 0.9901 - mse: 0.0124 - val_loss: 0.0149 - val_accuracy: 0.9982 - val_mse: 0.0047\n",
            "Epoch 33/100\n",
            "80/80 [==============================] - 34s 424ms/step - loss: 0.0264 - accuracy: 0.9878 - mse: 0.0147 - val_loss: 0.0188 - val_accuracy: 0.9925 - val_mse: 0.0074\n",
            "Epoch 34/100\n",
            "80/80 [==============================] - 34s 425ms/step - loss: 0.0244 - accuracy: 0.9889 - mse: 0.0130 - val_loss: 0.0226 - val_accuracy: 0.9894 - val_mse: 0.0102\n",
            "Epoch 35/100\n",
            "80/80 [==============================] - 34s 423ms/step - loss: 0.0391 - accuracy: 0.9829 - mse: 0.0196 - val_loss: 0.0316 - val_accuracy: 0.9912 - val_mse: 0.0175\n",
            "Epoch 36/100\n",
            "80/80 [==============================] - 34s 424ms/step - loss: 0.0258 - accuracy: 0.9890 - mse: 0.0138 - val_loss: 0.0201 - val_accuracy: 0.9916 - val_mse: 0.0093\n",
            "Epoch 37/100\n",
            "80/80 [==============================] - 34s 423ms/step - loss: 0.0235 - accuracy: 0.9882 - mse: 0.0130 - val_loss: 0.0252 - val_accuracy: 0.9894 - val_mse: 0.0136\n",
            "Epoch 37: early stopping\n"
          ]
        }
      ],
      "source": [
        "model.compile(optimizer='adam',\n",
        "              loss='mse',\n",
        "              metrics=['accuracy','mse'])\n",
        "\n",
        "#Funcka umożliwia zatrzymanie się uczenia \n",
        "#gdy wartość strat przstanie maleć\n",
        "EarlyStop = EarlyStopping(monitor='val_loss',  \n",
        "                          verbose=1, \n",
        "                          patience=5)\n",
        "\n",
        "\n",
        "ModelCheck = ModelCheckpoint(filepath='/content/drive/MyDrive/Sieci/Zlaczone.h5',\n",
        "                             monitor='val_loss',\n",
        "                             save_best_only=True)\n",
        "\n",
        "\n",
        "history = model.fit(x=x_train, \n",
        "                    y=y_train, \n",
        "                    epochs=100,\n",
        "                    batch_size=256,\n",
        "                    validation_split=0.1,\n",
        "                    callbacks = [EarlyStop, ModelCheck]\n",
        "                   )"
      ]
    },
    {
      "cell_type": "code",
      "execution_count": 17,
      "id": "fe8633db",
      "metadata": {
        "id": "fe8633db",
        "colab": {
          "base_uri": "https://localhost:8080/",
          "height": 300
        },
        "outputId": "76fa97e9-0561-4a2f-a8b5-d85852cbb301"
      },
      "outputs": [
        {
          "output_type": "execute_result",
          "data": {
            "text/plain": [
              "<matplotlib.legend.Legend at 0x7f34b02fe1c0>"
            ]
          },
          "metadata": {},
          "execution_count": 17
        },
        {
          "output_type": "display_data",
          "data": {
            "text/plain": [
              "<Figure size 432x288 with 1 Axes>"
            ],
            "image/png": "[encoded data removed]"
          },
          "metadata": {
            "needs_background": "light"
          }
        }
      ],
      "source": [
        "plt.plot(history.history['loss'], label='strata')\n",
        "plt.plot(history.history['val_loss'], label = 'strata walidacyjna')\n",
        "plt.xlabel('Epoka')\n",
        "plt.ylabel('Strata')\n",
        "plt.ylim([0.0, 0.5])\n",
        "plt.legend(loc='upper right')"
      ]
    },
    {
      "cell_type": "code",
      "execution_count": 18,
      "id": "8b976089",
      "metadata": {
        "scrolled": true,
        "id": "8b976089",
        "colab": {
          "base_uri": "https://localhost:8080/",
          "height": 300
        },
        "outputId": "02b254f0-f336-4017-e44a-b762c76e10ff"
      },
      "outputs": [
        {
          "output_type": "execute_result",
          "data": {
            "text/plain": [
              "<matplotlib.legend.Legend at 0x7f34b0320580>"
            ]
          },
          "metadata": {},
          "execution_count": 18
        },
        {
          "output_type": "display_data",
          "data": {
            "text/plain": [
              "<Figure size 432x288 with 1 Axes>"
            ],
            "image/png": "[encoded data removed]"
          },
          "metadata": {
            "needs_background": "light"
          }
        }
      ],
      "source": [
        "plt.plot(history.history['accuracy'], label='precyzja')\n",
        "plt.plot(history.history['val_accuracy'], label = 'precyzja walidacyjna')\n",
        "plt.xlabel('Epoka')\n",
        "plt.ylabel('Precyzja')\n",
        "plt.ylim([0.5, 1])\n",
        "plt.legend(loc='lower right')"
      ]
    },
    {
      "cell_type": "code",
      "source": [
        "best_model = tf.keras.models.load_model('/content/drive/MyDrive/Sieci/Zlaczone.h5')\n"
      ],
      "metadata": {
        "id": "HWqm9BVzLHfw"
      },
      "id": "HWqm9BVzLHfw",
      "execution_count": 19,
      "outputs": []
    },
    {
      "cell_type": "code",
      "execution_count": 20,
      "id": "685a286c",
      "metadata": {
        "id": "685a286c",
        "colab": {
          "base_uri": "https://localhost:8080/"
        },
        "outputId": "91903859-8d2f-42b6-892c-d540973c71d3"
      },
      "outputs": [
        {
          "output_type": "stream",
          "name": "stdout",
          "text": [
            "79/79 - 2s - loss: 0.0170 - accuracy: 0.9948 - mse: 0.0068 - 2s/epoch - 25ms/step\n"
          ]
        },
        {
          "output_type": "execute_result",
          "data": {
            "text/plain": [
              "[0.017002334226352684, 0.9948412698412699, 0.006832152443233709]"
            ]
          },
          "metadata": {},
          "execution_count": 20
        }
      ],
      "source": [
        "best_model.evaluate(x_test,  y_test, verbose=2)"
      ]
    },
    {
      "cell_type": "code",
      "execution_count": 21,
      "id": "ee941c13",
      "metadata": {
        "id": "ee941c13",
        "colab": {
          "base_uri": "https://localhost:8080/"
        },
        "outputId": "7f6f102d-be27-4e9c-ae13-7736935f5e05"
      },
      "outputs": [
        {
          "output_type": "stream",
          "name": "stdout",
          "text": [
            "79/79 [==============================] - 1s 18ms/step\n"
          ]
        }
      ],
      "source": [
        "predict_x = best_model.predict(x_test) \n",
        "\n",
        "predictions = (predict_x > 0.5).astype(\"int32\")"
      ]
    },
    {
      "cell_type": "code",
      "execution_count": 22,
      "id": "d8fb12f1",
      "metadata": {
        "id": "d8fb12f1",
        "colab": {
          "base_uri": "https://localhost:8080/"
        },
        "outputId": "07d6fffd-b931-4a40-880a-656dec4adb9a"
      },
      "outputs": [
        {
          "output_type": "stream",
          "name": "stdout",
          "text": [
            "[['Tn' 'Nn']\n",
            " ['Np' 'Tp']]\n",
            "tf.Tensor(\n",
            "[[1237   11]\n",
            " [   2 1270]], shape=(2, 2), dtype=int32)\n"
          ]
        }
      ],
      "source": [
        "names = [['Tn','Nn'],['Np', 'Tp']]\n",
        "names = np.reshape(names,(2,2))\n",
        "print(names)\n",
        "\n",
        "conf = tf.math.confusion_matrix(y_test,predictions)\n",
        "\n",
        "print(conf)"
      ]
    }
  ],
  "metadata": {
    "kernelspec": {
      "display_name": "py39",
      "language": "python",
      "name": "py39"
    },
    "language_info": {
      "codemirror_mode": {
        "name": "ipython",
        "version": 3
      },
      "file_extension": ".py",
      "mimetype": "text/x-python",
      "name": "python",
      "nbconvert_exporter": "python",
      "pygments_lexer": "ipython3",
      "version": "3.9.12"
    },
    "colab": {
      "provenance": [],
      "include_colab_link": true
    },
    "accelerator": "GPU",
    "gpuClass": "standard"
  },
  "nbformat": 4,
  "nbformat_minor": 5
}