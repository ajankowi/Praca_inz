{
  "cells": [
    {
      "cell_type": "markdown",
      "metadata": {
        "id": "view-in-github",
        "colab_type": "text"
      },
      "source": [
        "<a href=\"https://colab.research.google.com/github/ajankowi/Praca_inz/blob/master/Siec/Zlaczone_siec_4_Colab.ipynb\" target=\"_parent\"><img src=\"https://colab.research.google.com/assets/colab-badge.svg\" alt=\"Open In Colab\"/></a>"
      ]
    },
    {
      "cell_type": "code",
      "execution_count": 1,
      "id": "613f08b5",
      "metadata": {
        "id": "613f08b5",
        "outputId": "181d5a18-e4d4-4051-ffea-b94567759053",
        "colab": {
          "base_uri": "https://localhost:8080/"
        }
      },
      "outputs": [
        {
          "output_type": "stream",
          "name": "stdout",
          "text": [
            "3.8.16 (default, Dec  7 2022, 01:12:13) \n",
            "[GCC 7.5.0]\n"
          ]
        }
      ],
      "source": [
        "import sys\n",
        "print(sys.version)"
      ]
    },
    {
      "cell_type": "code",
      "source": [
        "#from google.colab import drive\n",
        "#drive.mount(\"/content/drive\", force_remount=True)"
      ],
      "metadata": {
        "id": "iY1o7_NmVlGs",
        "colab": {
          "base_uri": "https://localhost:8080/"
        },
        "outputId": "916faab2-f628-477c-f3d4-674d4c418e85"
      },
      "id": "iY1o7_NmVlGs",
      "execution_count": 2,
      "outputs": [
        {
          "output_type": "stream",
          "name": "stdout",
          "text": [
            "Mounted at /content/drive\n"
          ]
        }
      ]
    },
    {
      "cell_type": "code",
      "execution_count": 3,
      "id": "5eca1117",
      "metadata": {
        "id": "5eca1117",
        "outputId": "7796addf-2d22-4d6d-f51c-17acdad8b013",
        "colab": {
          "base_uri": "https://localhost:8080/"
        }
      },
      "outputs": [
        {
          "output_type": "stream",
          "name": "stdout",
          "text": [
            "TensorFlow version: 2.9.2\n"
          ]
        }
      ],
      "source": [
        "import tensorflow as tf\n",
        "from tensorflow import keras\n",
        "from keras import layers, models, regularizers\n",
        "from keras.layers import Flatten, add, Dense, Dropout \n",
        "from keras.callbacks import ModelCheckpoint, EarlyStopping\n",
        "\n",
        "\n",
        "print(\"TensorFlow version:\", tf.__version__)\n",
        "tf.keras.backend.set_floatx('float64')"
      ]
    },
    {
      "cell_type": "code",
      "execution_count": 4,
      "id": "12022d37",
      "metadata": {
        "id": "12022d37"
      },
      "outputs": [],
      "source": [
        "import matplotlib.pyplot as plt\n",
        "import numpy as np\n",
        "import pandas as pd\n",
        "import seaborn as sns\n",
        "from PIL import Image\n",
        "import os\n",
        "import csv\n",
        "import random\n",
        "\n",
        "import cv2\n",
        "import imutils\n",
        "import glob\n",
        "# Make NumPy printouts easier to read.\n",
        "np.set_printoptions(precision=3, suppress=True)"
      ]
    },
    {
      "cell_type": "code",
      "execution_count": 5,
      "id": "1086f893",
      "metadata": {
        "id": "1086f893"
      },
      "outputs": [],
      "source": [
        "#Określenie ścieżek do plików\n",
        "test_zip = '/content/drive/MyDrive/Sieci/Baza_zdjec_zlaczone_2/Test.zip'\n",
        "test_csv = 'test.csv'\n",
        "\n",
        "train_zip = '/content/drive/MyDrive/Sieci/Baza_zdjec_zlaczone_2/Train.zip'\n",
        "train_csv = 'train.csv'\n",
        "\n",
        "folder = '/content/drive/MyDrive/Sieci/Baza_zdjec_zlaczone_2/'\n",
        "slesh = '/'\n",
        "png = '.png'"
      ]
    },
    {
      "cell_type": "code",
      "source": [
        "#!unzip '/content/drive/MyDrive/Sieci/Baza_zdjec_zlaczone_2/Train.zip' -d '/content/train/'\n",
        "#!unzip '/content/drive/MyDrive/Sieci/Baza_zdjec_zlaczone_2/Test.zip' -d '/content/test/'"
      ],
      "metadata": {
        "id": "FXtX4UDo9x77"
      },
      "id": "FXtX4UDo9x77",
      "execution_count": null,
      "outputs": []
    },
    {
      "cell_type": "code",
      "execution_count": 7,
      "id": "d0329f31",
      "metadata": {
        "id": "d0329f31"
      },
      "outputs": [],
      "source": [
        "def release_list(a):\n",
        "    \n",
        "    del a[:]\n",
        "    del a"
      ]
    },
    {
      "cell_type": "code",
      "execution_count": 8,
      "id": "5beb89e7",
      "metadata": {
        "id": "5beb89e7",
        "outputId": "5b9ad340-f69d-4769-94ba-0b7fc2e5b0f3",
        "colab": {
          "base_uri": "https://localhost:8080/"
        }
      },
      "outputs": [
        {
          "output_type": "stream",
          "name": "stdout",
          "text": [
            "22680\n"
          ]
        }
      ],
      "source": [
        "#Wczytanie etykiet do treninegu \n",
        "\n",
        "with open(folder+train_csv,\"r\") as csvfile:\n",
        "    lines = csvfile.readlines()\n",
        "csvfile.close()\n",
        "\n",
        "new = []\n",
        "\n",
        "for i in lines:\n",
        "    new.append(i.split(\" \"))\n",
        "\n",
        "    \n",
        "value_train = []\n",
        "for i in new[0]:\n",
        "    value_train.append(int(i))    \n",
        "    \n",
        "print(len(value_train))"
      ]
    },
    {
      "cell_type": "code",
      "source": [
        "#Wczytanie etykiet do testowania\n",
        "\n",
        "with open(folder+test_csv,\"r\") as csvfile:\n",
        "    lines = csvfile.readlines()\n",
        "csvfile.close()\n",
        "\n",
        "new = []\n",
        "\n",
        "for i in lines:\n",
        "    new.append(i.split(\" \"))\n",
        "\n",
        "    \n",
        "value_test = []\n",
        "for i in new[0]:\n",
        "    value_test.append(int(i))    \n",
        "    \n",
        "print(len(value_test))"
      ],
      "metadata": {
        "id": "_BbuBDFDgvdp",
        "colab": {
          "base_uri": "https://localhost:8080/"
        },
        "outputId": "817f8707-5128-4eae-9664-2a4346837aa8"
      },
      "id": "_BbuBDFDgvdp",
      "execution_count": 9,
      "outputs": [
        {
          "output_type": "stream",
          "name": "stdout",
          "text": [
            "2520\n"
          ]
        }
      ]
    },
    {
      "cell_type": "code",
      "execution_count": 10,
      "id": "d9cb09d8",
      "metadata": {
        "id": "d9cb09d8",
        "outputId": "2e630944-30db-46e1-bad1-8e900ec95e96",
        "colab": {
          "base_uri": "https://localhost:8080/"
        }
      },
      "outputs": [
        {
          "output_type": "stream",
          "name": "stdout",
          "text": [
            "22680\n"
          ]
        }
      ],
      "source": [
        "#Wczytanie zdjęć treningowych \n",
        "images_train = []\n",
        "size = len(value_train)\n",
        "\n",
        "for i in range(size):\n",
        "    im = Image.open('/content/train/'+str(i)+'.png')\n",
        "    arr_im = np.array(im) \n",
        "    arr_im = arr_im / 255.0\n",
        "    images_train.append(arr_im) \n",
        "print(len(images_train))"
      ]
    },
    {
      "cell_type": "code",
      "source": [
        "#Wczytanie zdjęć testowych \n",
        "images_test = []\n",
        "size = len(value_test)\n",
        "\n",
        "for i in range(size):\n",
        "    im = Image.open('/content/test/'+str(i)+'.png')\n",
        "    arr_im = np.array(im) \n",
        "    arr_im = arr_im / 255.0\n",
        "    images_test.append(arr_im) \n",
        "print(len(images_test))"
      ],
      "metadata": {
        "colab": {
          "base_uri": "https://localhost:8080/"
        },
        "id": "9I51x6abky3Q",
        "outputId": "779d89fb-0cb7-4a23-c1bc-6ce9f52f1f44"
      },
      "id": "9I51x6abky3Q",
      "execution_count": 11,
      "outputs": [
        {
          "output_type": "stream",
          "name": "stdout",
          "text": [
            "2520\n"
          ]
        }
      ]
    },
    {
      "cell_type": "code",
      "execution_count": 12,
      "id": "f7f4dd4b",
      "metadata": {
        "id": "f7f4dd4b"
      },
      "outputs": [],
      "source": [
        "x_train = np.array(images_train)\n",
        "x_test = np.array(images_test)\n",
        "\n",
        "y_train = np.array(value_train)\n",
        "y_test = np.array(value_test)"
      ]
    },
    {
      "cell_type": "code",
      "execution_count": 13,
      "id": "d3a370cb",
      "metadata": {
        "id": "d3a370cb",
        "outputId": "26699846-bccd-4b06-ae2b-f73768ef1e58",
        "colab": {
          "base_uri": "https://localhost:8080/",
          "height": 357
        }
      },
      "outputs": [
        {
          "output_type": "stream",
          "name": "stdout",
          "text": [
            "[[0.196 0.196 0.192 ... 0.235 0.216 0.263]\n",
            " [0.196 0.208 0.165 ... 0.275 0.153 0.259]\n",
            " [0.204 0.22  0.173 ... 0.275 0.192 0.247]\n",
            " ...\n",
            " [0.196 0.204 0.192 ... 0.18  0.173 0.173]\n",
            " [0.192 0.196 0.2   ... 0.176 0.18  0.18 ]\n",
            " [0.192 0.192 0.2   ... 0.169 0.173 0.176]]\n",
            "1\n"
          ]
        },
        {
          "output_type": "display_data",
          "data": {
            "text/plain": [
              "<Figure size 432x288 with 1 Axes>"
            ],
            "image/png": "[encoded data removed]"
          },
          "metadata": {
            "needs_background": "light"
          }
        }
      ],
      "source": [
        "plt.imshow(x_train[4000],cmap = 'gray')\n",
        "print(x_train[0])\n",
        "print(y_train[0])"
      ]
    },
    {
      "cell_type": "code",
      "execution_count": 14,
      "id": "772c7d7c",
      "metadata": {
        "id": "772c7d7c"
      },
      "outputs": [],
      "source": [
        "model = models.Sequential()\n",
        "model.add(layers.Conv2D(32, (3, 3), activation='relu', input_shape=(64, 128, 1)))\n",
        "model.add(layers.BatchNormalization())\n",
        "model.add(layers.MaxPooling2D((2, 2)))\n",
        "\n",
        "\n",
        "model.add(layers.Conv2D(64, (3, 3), activation='relu'))\n",
        "model.add(layers.BatchNormalization())\n",
        "model.add(layers.MaxPooling2D((2, 2)))\n",
        "\n",
        "\n",
        "model.add(layers.Conv2D(64, (3, 3), activation='relu'))\n",
        "model.add(layers.BatchNormalization())\n",
        "model.add(layers.MaxPooling2D((2, 2)))\n",
        "\n",
        "model.add(layers.Flatten())\n",
        "model.add(layers.Dense(64, activation='relu', kernel_regularizer=keras.regularizers.l2(l=0.1)))\n",
        "model.add(layers.Dense(1, activation='relu'))\n"
      ]
    },
    {
      "cell_type": "code",
      "execution_count": 15,
      "id": "b86f72df",
      "metadata": {
        "id": "b86f72df",
        "outputId": "1e9acf13-59de-4995-fbde-5a6ecbed5e36",
        "colab": {
          "base_uri": "https://localhost:8080/"
        }
      },
      "outputs": [
        {
          "output_type": "stream",
          "name": "stdout",
          "text": [
            "Model: \"sequential\"\n",
            "_________________________________________________________________\n",
            " Layer (type)                Output Shape              Param #   \n",
            "=================================================================\n",
            " conv2d (Conv2D)             (None, 62, 126, 32)       320       \n",
            "                                                                 \n",
            " conv2d_1 (Conv2D)           (None, 60, 124, 32)       9248      \n",
            "                                                                 \n",
            " max_pooling2d (MaxPooling2D  (None, 30, 62, 32)       0         \n",
            " )                                                               \n",
            "                                                                 \n",
            " dropout (Dropout)           (None, 30, 62, 32)        0         \n",
            "                                                                 \n",
            " conv2d_2 (Conv2D)           (None, 28, 60, 64)        18496     \n",
            "                                                                 \n",
            " conv2d_3 (Conv2D)           (None, 26, 58, 64)        36928     \n",
            "                                                                 \n",
            " max_pooling2d_1 (MaxPooling  (None, 13, 29, 64)       0         \n",
            " 2D)                                                             \n",
            "                                                                 \n",
            " dropout_1 (Dropout)         (None, 13, 29, 64)        0         \n",
            "                                                                 \n",
            " conv2d_4 (Conv2D)           (None, 11, 27, 64)        36928     \n",
            "                                                                 \n",
            " conv2d_5 (Conv2D)           (None, 9, 25, 64)         36928     \n",
            "                                                                 \n",
            " max_pooling2d_2 (MaxPooling  (None, 4, 12, 64)        0         \n",
            " 2D)                                                             \n",
            "                                                                 \n",
            " dropout_2 (Dropout)         (None, 4, 12, 64)         0         \n",
            "                                                                 \n",
            " flatten (Flatten)           (None, 3072)              0         \n",
            "                                                                 \n",
            " dense (Dense)               (None, 64)                196672    \n",
            "                                                                 \n",
            " dense_1 (Dense)             (None, 1)                 65        \n",
            "                                                                 \n",
            "=================================================================\n",
            "Total params: 335,585\n",
            "Trainable params: 335,585\n",
            "Non-trainable params: 0\n",
            "_________________________________________________________________\n"
          ]
        }
      ],
      "source": [
        "model.summary()"
      ]
    },
    {
      "cell_type": "code",
      "execution_count": 16,
      "id": "9beb77e5",
      "metadata": {
        "id": "9beb77e5",
        "outputId": "2b1f818c-4f04-4a4b-af0b-15506d3da831",
        "colab": {
          "base_uri": "https://localhost:8080/"
        }
      },
      "outputs": [
        {
          "output_type": "stream",
          "name": "stdout",
          "text": [
            "Epoch 1/100\n",
            "80/80 [==============================] - 122s 1s/step - loss: 2.2354 - accuracy: 0.5814 - mse: 0.2457 - val_loss: 0.1928 - val_accuracy: 0.7685 - val_mse: 0.1683\n",
            "Epoch 2/100\n",
            "80/80 [==============================] - 107s 1s/step - loss: 0.2356 - accuracy: 0.6619 - mse: 0.2145 - val_loss: 0.2271 - val_accuracy: 0.6287 - val_mse: 0.2110\n",
            "Epoch 3/100\n",
            "80/80 [==============================] - 110s 1s/step - loss: 0.1578 - accuracy: 0.8160 - mse: 0.1380 - val_loss: 0.0714 - val_accuracy: 0.9299 - val_mse: 0.0504\n",
            "Epoch 4/100\n",
            "80/80 [==============================] - 108s 1s/step - loss: 0.0899 - accuracy: 0.9194 - mse: 0.0708 - val_loss: 0.0736 - val_accuracy: 0.9255 - val_mse: 0.0570\n",
            "Epoch 5/100\n",
            "80/80 [==============================] - 109s 1s/step - loss: 0.0604 - accuracy: 0.9529 - mse: 0.0455 - val_loss: 0.0279 - val_accuracy: 0.9846 - val_mse: 0.0150\n",
            "Epoch 6/100\n",
            "80/80 [==============================] - 109s 1s/step - loss: 0.0639 - accuracy: 0.9508 - mse: 0.0478 - val_loss: 0.0248 - val_accuracy: 0.9859 - val_mse: 0.0127\n",
            "Epoch 7/100\n",
            "80/80 [==============================] - 108s 1s/step - loss: 0.0423 - accuracy: 0.9722 - mse: 0.0307 - val_loss: 0.0360 - val_accuracy: 0.9678 - val_mse: 0.0229\n",
            "Epoch 8/100\n",
            "80/80 [==============================] - 107s 1s/step - loss: 0.0401 - accuracy: 0.9755 - mse: 0.0286 - val_loss: 0.0348 - val_accuracy: 0.9709 - val_mse: 0.0236\n",
            "Epoch 9/100\n",
            "80/80 [==============================] - 109s 1s/step - loss: 0.0349 - accuracy: 0.9818 - mse: 0.0244 - val_loss: 0.0186 - val_accuracy: 0.9934 - val_mse: 0.0087\n",
            "Epoch 10/100\n",
            "80/80 [==============================] - 107s 1s/step - loss: 0.0281 - accuracy: 0.9856 - mse: 0.0189 - val_loss: 0.0203 - val_accuracy: 0.9921 - val_mse: 0.0113\n",
            "Epoch 11/100\n",
            "80/80 [==============================] - 109s 1s/step - loss: 0.0291 - accuracy: 0.9850 - mse: 0.0201 - val_loss: 0.0159 - val_accuracy: 0.9943 - val_mse: 0.0066\n",
            "Epoch 12/100\n",
            "80/80 [==============================] - 109s 1s/step - loss: 0.0260 - accuracy: 0.9878 - mse: 0.0174 - val_loss: 0.0121 - val_accuracy: 0.9978 - val_mse: 0.0040\n",
            "Epoch 13/100\n",
            "80/80 [==============================] - 107s 1s/step - loss: 0.0224 - accuracy: 0.9898 - mse: 0.0145 - val_loss: 0.0157 - val_accuracy: 0.9934 - val_mse: 0.0085\n",
            "Epoch 14/100\n",
            "80/80 [==============================] - 107s 1s/step - loss: 0.0230 - accuracy: 0.9900 - mse: 0.0148 - val_loss: 0.0133 - val_accuracy: 0.9956 - val_mse: 0.0061\n",
            "Epoch 15/100\n",
            "80/80 [==============================] - 107s 1s/step - loss: 0.0228 - accuracy: 0.9902 - mse: 0.0144 - val_loss: 0.0141 - val_accuracy: 0.9925 - val_mse: 0.0071\n",
            "Epoch 16/100\n",
            "80/80 [==============================] - 109s 1s/step - loss: 0.0187 - accuracy: 0.9928 - mse: 0.0115 - val_loss: 0.0119 - val_accuracy: 0.9969 - val_mse: 0.0048\n",
            "Epoch 17/100\n",
            "80/80 [==============================] - 111s 1s/step - loss: 0.0190 - accuracy: 0.9919 - mse: 0.0121 - val_loss: 0.0109 - val_accuracy: 0.9951 - val_mse: 0.0037\n",
            "Epoch 18/100\n",
            "80/80 [==============================] - 108s 1s/step - loss: 0.0203 - accuracy: 0.9926 - mse: 0.0126 - val_loss: 0.0116 - val_accuracy: 0.9969 - val_mse: 0.0043\n",
            "Epoch 19/100\n",
            "80/80 [==============================] - 109s 1s/step - loss: 0.0161 - accuracy: 0.9935 - mse: 0.0097 - val_loss: 0.0073 - val_accuracy: 1.0000 - val_mse: 8.5415e-04\n",
            "Epoch 20/100\n",
            "80/80 [==============================] - 108s 1s/step - loss: 0.0176 - accuracy: 0.9936 - mse: 0.0105 - val_loss: 0.0086 - val_accuracy: 0.9991 - val_mse: 0.0021\n",
            "Epoch 21/100\n",
            "80/80 [==============================] - 108s 1s/step - loss: 0.0147 - accuracy: 0.9947 - mse: 0.0088 - val_loss: 0.0081 - val_accuracy: 0.9991 - val_mse: 0.0021\n",
            "Epoch 22/100\n",
            "80/80 [==============================] - 108s 1s/step - loss: 0.0137 - accuracy: 0.9952 - mse: 0.0080 - val_loss: 0.0095 - val_accuracy: 0.9969 - val_mse: 0.0036\n",
            "Epoch 23/100\n",
            "80/80 [==============================] - 108s 1s/step - loss: 0.0169 - accuracy: 0.9942 - mse: 0.0104 - val_loss: 0.0119 - val_accuracy: 0.9982 - val_mse: 0.0026\n",
            "Epoch 24/100\n",
            "80/80 [==============================] - 110s 1s/step - loss: 0.0142 - accuracy: 0.9951 - mse: 0.0078 - val_loss: 0.0071 - val_accuracy: 0.9987 - val_mse: 0.0015\n",
            "Epoch 25/100\n",
            "80/80 [==============================] - 108s 1s/step - loss: 0.0155 - accuracy: 0.9938 - mse: 0.0088 - val_loss: 0.0091 - val_accuracy: 0.9960 - val_mse: 0.0032\n",
            "Epoch 26/100\n",
            "80/80 [==============================] - 107s 1s/step - loss: 0.0123 - accuracy: 0.9961 - mse: 0.0067 - val_loss: 0.0181 - val_accuracy: 0.9824 - val_mse: 0.0125\n",
            "Epoch 27/100\n",
            "80/80 [==============================] - 107s 1s/step - loss: 0.0166 - accuracy: 0.9927 - mse: 0.0098 - val_loss: 0.0086 - val_accuracy: 0.9987 - val_mse: 0.0017\n",
            "Epoch 28/100\n",
            "80/80 [==============================] - 109s 1s/step - loss: 0.0133 - accuracy: 0.9966 - mse: 0.0075 - val_loss: 0.0067 - val_accuracy: 0.9991 - val_mse: 0.0018\n",
            "Epoch 29/100\n",
            "80/80 [==============================] - 107s 1s/step - loss: 0.0133 - accuracy: 0.9951 - mse: 0.0074 - val_loss: 0.0072 - val_accuracy: 0.9996 - val_mse: 5.4838e-04\n",
            "Epoch 30/100\n",
            "80/80 [==============================] - 107s 1s/step - loss: 0.0133 - accuracy: 0.9954 - mse: 0.0075 - val_loss: 0.0089 - val_accuracy: 0.9974 - val_mse: 0.0038\n",
            "Epoch 31/100\n",
            "80/80 [==============================] - 107s 1s/step - loss: 0.0106 - accuracy: 0.9970 - mse: 0.0057 - val_loss: 0.0088 - val_accuracy: 0.9969 - val_mse: 0.0035\n",
            "Epoch 32/100\n",
            "80/80 [==============================] - 107s 1s/step - loss: 0.0109 - accuracy: 0.9968 - mse: 0.0061 - val_loss: 0.0068 - val_accuracy: 0.9996 - val_mse: 0.0013\n",
            "Epoch 33/100\n",
            "80/80 [==============================] - 107s 1s/step - loss: 0.0100 - accuracy: 0.9967 - mse: 0.0053 - val_loss: 0.0068 - val_accuracy: 0.9987 - val_mse: 0.0018\n",
            "Epoch 33: early stopping\n"
          ]
        }
      ],
      "source": [
        "model.compile(optimizer='adam',\n",
        "              loss='mse',\n",
        "              metrics=['accuracy','mse'])\n",
        "\n",
        "#Funcka umożliwia zatrzymanie się uczenia \n",
        "#gdy wartość strat przstanie maleć\n",
        "EarlyStop = EarlyStopping(monitor='val_loss',  \n",
        "                          verbose=1, \n",
        "                          patience=5)\n",
        "\n",
        "\n",
        "ModelCheck = ModelCheckpoint(filepath='/content/drive/MyDrive/Sieci/Zlaczone.h5',\n",
        "                             monitor='val_loss',\n",
        "                             save_best_only=True)\n",
        "\n",
        "\n",
        "history = model.fit(x=x_train, \n",
        "                    y=y_train, \n",
        "                    epochs=100,\n",
        "                    batch_size=256,\n",
        "                    validation_split=0.1,\n",
        "                    callbacks = [EarlyStop, ModelCheck]\n",
        "                   )"
      ]
    },
    {
      "cell_type": "code",
      "execution_count": 17,
      "id": "fe8633db",
      "metadata": {
        "id": "fe8633db",
        "colab": {
          "base_uri": "https://localhost:8080/",
          "height": 300
        },
        "outputId": "73d552a0-c085-4136-abf3-05cab07b9229"
      },
      "outputs": [
        {
          "output_type": "execute_result",
          "data": {
            "text/plain": [
              "<matplotlib.legend.Legend at 0x7f356043c0d0>"
            ]
          },
          "metadata": {},
          "execution_count": 17
        },
        {
          "output_type": "display_data",
          "data": {
            "text/plain": [
              "<Figure size 432x288 with 1 Axes>"
            ],
            "image/png": "[encoded data removed]"
          },
          "metadata": {
            "needs_background": "light"
          }
        }
      ],
      "source": [
        "plt.plot(history.history['loss'], label='strata')\n",
        "plt.plot(history.history['val_loss'], label = 'strata walidacyjna')\n",
        "plt.xlabel('Epoka')\n",
        "plt.ylabel('Strata')\n",
        "plt.ylim([0.0, 0.5])\n",
        "plt.legend(loc='upper right')"
      ]
    },
    {
      "cell_type": "code",
      "execution_count": 18,
      "id": "8b976089",
      "metadata": {
        "scrolled": true,
        "id": "8b976089",
        "colab": {
          "base_uri": "https://localhost:8080/",
          "height": 300
        },
        "outputId": "8dca5573-b091-4909-e09b-b5dbc0aee861"
      },
      "outputs": [
        {
          "output_type": "execute_result",
          "data": {
            "text/plain": [
              "<matplotlib.legend.Legend at 0x7f356043cac0>"
            ]
          },
          "metadata": {},
          "execution_count": 18
        },
        {
          "output_type": "display_data",
          "data": {
            "text/plain": [
              "<Figure size 432x288 with 1 Axes>"
            ],
            "image/png": "[encoded data removed]"
          },
          "metadata": {
            "needs_background": "light"
          }
        }
      ],
      "source": [
        "plt.plot(history.history['accuracy'], label='precyzja')\n",
        "plt.plot(history.history['val_accuracy'], label = 'precyzja walidacyjna')\n",
        "plt.xlabel('Epoka')\n",
        "plt.ylabel('Precyzja')\n",
        "plt.ylim([0.5, 1])\n",
        "plt.legend(loc='lower right')"
      ]
    },
    {
      "cell_type": "code",
      "source": [
        "best_model = tf.keras.models.load_model('/content/drive/MyDrive/Sieci/Zlaczone.h5')\n"
      ],
      "metadata": {
        "id": "HWqm9BVzLHfw"
      },
      "id": "HWqm9BVzLHfw",
      "execution_count": 19,
      "outputs": []
    },
    {
      "cell_type": "code",
      "execution_count": 20,
      "id": "685a286c",
      "metadata": {
        "id": "685a286c",
        "colab": {
          "base_uri": "https://localhost:8080/"
        },
        "outputId": "02980da8-9298-421b-d13b-79ddd5d4a548"
      },
      "outputs": [
        {
          "output_type": "stream",
          "name": "stdout",
          "text": [
            "79/79 - 5s - loss: 0.1760 - accuracy: 0.8071 - mse: 0.1711 - 5s/epoch - 67ms/step\n"
          ]
        },
        {
          "output_type": "execute_result",
          "data": {
            "text/plain": [
              "[0.17602673040904304, 0.8071428571428572, 0.17107407108044756]"
            ]
          },
          "metadata": {},
          "execution_count": 20
        }
      ],
      "source": [
        "best_model.evaluate(x_test,  y_test, verbose=2)"
      ]
    },
    {
      "cell_type": "code",
      "execution_count": 21,
      "id": "ee941c13",
      "metadata": {
        "id": "ee941c13",
        "colab": {
          "base_uri": "https://localhost:8080/"
        },
        "outputId": "0e9b618c-4b89-43e2-9a14-4c1159fed7e4"
      },
      "outputs": [
        {
          "output_type": "stream",
          "name": "stdout",
          "text": [
            "79/79 [==============================] - 4s 52ms/step\n"
          ]
        }
      ],
      "source": [
        "predict_x = best_model.predict(x_test) \n",
        "\n",
        "predictions = (predict_x > 0.5).astype(\"int32\")"
      ]
    },
    {
      "cell_type": "code",
      "execution_count": 22,
      "id": "d8fb12f1",
      "metadata": {
        "id": "d8fb12f1",
        "colab": {
          "base_uri": "https://localhost:8080/"
        },
        "outputId": "e53bea27-8cc1-43f2-a243-c30a9e45ed69"
      },
      "outputs": [
        {
          "output_type": "stream",
          "name": "stdout",
          "text": [
            "[['Tn' 'Nn']\n",
            " ['Np' 'Tp']]\n",
            "tf.Tensor(\n",
            "[[ 790  470]\n",
            " [  16 1244]], shape=(2, 2), dtype=int32)\n"
          ]
        }
      ],
      "source": [
        "names = [['Tn','Nn'],['Np', 'Tp']]\n",
        "names = np.reshape(names,(2,2))\n",
        "print(names)\n",
        "\n",
        "conf = tf.math.confusion_matrix(y_test,predictions)\n",
        "\n",
        "print(conf)"
      ]
    }
  ],
  "metadata": {
    "kernelspec": {
      "display_name": "py39",
      "language": "python",
      "name": "py39"
    },
    "language_info": {
      "codemirror_mode": {
        "name": "ipython",
        "version": 3
      },
      "file_extension": ".py",
      "mimetype": "text/x-python",
      "name": "python",
      "nbconvert_exporter": "python",
      "pygments_lexer": "ipython3",
      "version": "3.9.12"
    },
    "colab": {
      "provenance": [],
      "include_colab_link": true
    },
    "accelerator": "GPU",
    "gpuClass": "standard"
  },
  "nbformat": 4,
  "nbformat_minor": 5
}