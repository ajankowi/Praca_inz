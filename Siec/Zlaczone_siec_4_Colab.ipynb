{
  "cells": [
    {
      "cell_type": "markdown",
      "metadata": {
        "id": "view-in-github",
        "colab_type": "text"
      },
      "source": [
        "<a href=\"https://colab.research.google.com/github/ajankowi/Praca_inz/blob/master/Siec/Zlaczone_siec_4_Colab.ipynb\" target=\"_parent\"><img src=\"https://colab.research.google.com/assets/colab-badge.svg\" alt=\"Open In Colab\"/></a>"
      ]
    },
    {
      "cell_type": "code",
      "execution_count": 1,
      "id": "613f08b5",
      "metadata": {
        "id": "613f08b5",
        "outputId": "c740739e-1ac2-4965-e0b2-6d593890b25b",
        "colab": {
          "base_uri": "https://localhost:8080/"
        }
      },
      "outputs": [
        {
          "output_type": "stream",
          "name": "stdout",
          "text": [
            "3.8.16 (default, Dec  7 2022, 01:12:13) \n",
            "[GCC 7.5.0]\n"
          ]
        }
      ],
      "source": [
        "import sys\n",
        "print(sys.version)"
      ]
    },
    {
      "cell_type": "code",
      "source": [
        "#from google.colab import drive\n",
        "#drive.mount(\"/content/drive\", force_remount=True)"
      ],
      "metadata": {
        "id": "iY1o7_NmVlGs"
      },
      "id": "iY1o7_NmVlGs",
      "execution_count": 2,
      "outputs": []
    },
    {
      "cell_type": "code",
      "execution_count": 3,
      "id": "5eca1117",
      "metadata": {
        "id": "5eca1117",
        "outputId": "011a657d-f578-4a76-df1d-a1aa52218a15",
        "colab": {
          "base_uri": "https://localhost:8080/"
        }
      },
      "outputs": [
        {
          "output_type": "stream",
          "name": "stdout",
          "text": [
            "TensorFlow version: 2.9.2\n"
          ]
        }
      ],
      "source": [
        "import tensorflow as tf\n",
        "from tensorflow import keras\n",
        "from keras import layers, models, regularizers\n",
        "from keras.layers import Flatten, add, Dense, Dropout \n",
        "from keras.callbacks import ModelCheckpoint, EarlyStopping\n",
        "\n",
        "\n",
        "print(\"TensorFlow version:\", tf.__version__)\n",
        "tf.keras.backend.set_floatx('float64')"
      ]
    },
    {
      "cell_type": "code",
      "execution_count": 4,
      "id": "12022d37",
      "metadata": {
        "id": "12022d37"
      },
      "outputs": [],
      "source": [
        "import matplotlib.pyplot as plt\n",
        "import numpy as np\n",
        "import pandas as pd\n",
        "import seaborn as sns\n",
        "from PIL import Image\n",
        "import os\n",
        "import csv\n",
        "import random\n",
        "\n",
        "import cv2\n",
        "import imutils\n",
        "import glob\n",
        "# Make NumPy printouts easier to read.\n",
        "np.set_printoptions(precision=3, suppress=True)"
      ]
    },
    {
      "cell_type": "code",
      "execution_count": 5,
      "id": "1086f893",
      "metadata": {
        "id": "1086f893"
      },
      "outputs": [],
      "source": [
        "#Określenie ścieżek do plików\n",
        "zip = '/content/drive/MyDrive/Sieci/Baza_zdjec_zlaczone_2/Baza_zdjec_zlaczone_2.zip'\n",
        "nazwa_CSV = 'nowe.csv'\n",
        "folder = '/content/drive/MyDrive/Sieci/Baza_zdjec_zlaczone_2/'\n",
        "folder_aktorzy = '/content/drive/MyDrive/Sieci/Baza_aktorzy_zlaczone/'\n",
        "aktorzy_CSV = 'aktorzy.csv'\n",
        "slesh = '/'\n",
        "png = '.png'"
      ]
    },
    {
      "cell_type": "code",
      "source": [
        "#!unzip '/content/drive/MyDrive/Sieci/Baza_zdjec_zlaczone_2/Baza_zdjec_zlaczone_2.zip' -d '/content/zdjecia/'\n",
        "#!unzip '/content/drive/MyDrive/Sieci/Baza_aktorzy_zlaczone/Baza_aktorzy_zlaczone.zip' -d '/content/aktorzy/'"
      ],
      "metadata": {
        "id": "FXtX4UDo9x77"
      },
      "id": "FXtX4UDo9x77",
      "execution_count": 6,
      "outputs": []
    },
    {
      "cell_type": "code",
      "execution_count": 7,
      "id": "d0329f31",
      "metadata": {
        "id": "d0329f31"
      },
      "outputs": [],
      "source": [
        "def release_list(a):\n",
        "    \n",
        "    del a[:]\n",
        "    del a"
      ]
    },
    {
      "cell_type": "code",
      "execution_count": 8,
      "id": "5beb89e7",
      "metadata": {
        "id": "5beb89e7",
        "outputId": "eaefe2e7-5412-4c09-98da-4246b2a7a9f2",
        "colab": {
          "base_uri": "https://localhost:8080/"
        }
      },
      "outputs": [
        {
          "output_type": "stream",
          "name": "stdout",
          "text": [
            "25200\n"
          ]
        }
      ],
      "source": [
        "#Wczytanie pliku CSV do tablicy images\n",
        "\n",
        "with open(folder+nazwa_CSV,\"r\") as csvfile:\n",
        "    lines = csvfile.readlines()\n",
        "csvfile.close()\n",
        "\n",
        "new = []\n",
        "\n",
        "for i in lines:\n",
        "    new.append(i.split(\" \"))\n",
        "\n",
        "    \n",
        "value = []\n",
        "for i in new[0]:\n",
        "    value.append(int(i))    \n",
        "    \n",
        "print(len(value))"
      ]
    },
    {
      "cell_type": "code",
      "execution_count": 9,
      "id": "d9cb09d8",
      "metadata": {
        "id": "d9cb09d8",
        "outputId": "ff71c9f4-8ba2-4f8b-d590-5f9a60df7300",
        "colab": {
          "base_uri": "https://localhost:8080/"
        }
      },
      "outputs": [
        {
          "output_type": "stream",
          "name": "stdout",
          "text": [
            "25200\n"
          ]
        }
      ],
      "source": [
        "#Wczytanie zdjęć do tablicy images\n",
        "images = []\n",
        "size = len(value)\n",
        "\n",
        "for i in range(size):\n",
        "    im = Image.open('/content/zdjecia/'+str(i)+'.png')\n",
        "    arr_im = np.array(im) \n",
        "    arr_im = arr_im / 255.0\n",
        "    images.append(arr_im) \n",
        "print(len(images))"
      ]
    },
    {
      "cell_type": "code",
      "execution_count": 10,
      "id": "44a7c0bf",
      "metadata": {
        "id": "44a7c0bf"
      },
      "outputs": [],
      "source": [
        "#Inicjalizacja tablic\n",
        "rand_list = []\n",
        "rand_list = np.zeros((len(images)), dtype=np.uint8)\n",
        "\n",
        "x_test = []\n",
        "y_test = []\n",
        "\n",
        "x_train = []\n",
        "y_train = []\n",
        "\n",
        "\n",
        "#Okreslanie wielkosci zbiorów\n",
        "nighty = int(len(images)*90/100)\n",
        "ten = len(images) - nighty\n",
        "\n",
        "#Losowanie zbioru testowego\n",
        "for i in range(nighty):\n",
        "    \n",
        "    #Pierwsze losowanie wartości\n",
        "    rand = random.randint(0,len(images)-1)\n",
        "    \n",
        "    #Sprawdzenie czy wylosowana wartość się powtarza\n",
        "    while (rand_list[rand] == 1) :\n",
        "        #Jeżeli tak to ponownie losuje\n",
        "        rand = random.randint(0,len(images)-1)\n",
        "    \n",
        "    #Zapisanie zdjecia i wartości do nowej tablicy\n",
        "    x_train.append(images[rand])\n",
        "    y_train.append(value[rand])\n",
        "    rand_list[rand] = 1\n",
        "\n",
        "#Losowanie zbioru uczącego\n",
        "for j in range(ten):\n",
        "    \n",
        "    #Pierwsze losowanie wartości\n",
        "    rand = random.randint(0,len(images)-1)\n",
        "    \n",
        "    #Sprawdzenie czy wylosowana wartość się powtarza\n",
        "    while (rand_list[rand] == 1) :\n",
        "        #Jeżeli tak to ponownie losuje\n",
        "        rand = random.randint(0,len(images)-1)\n",
        "        \n",
        "    #Zapisanie zdjecia i wartości do nowej tablicy\n",
        "    x_test.append(images[rand])\n",
        "    y_test.append(value[rand])\n",
        "    rand_list[rand] = 1\n",
        "    \n",
        "    \n",
        "release_list(images)\n",
        "release_list(value)"
      ]
    },
    {
      "cell_type": "code",
      "execution_count": 11,
      "id": "8fccbbcc",
      "metadata": {
        "id": "8fccbbcc",
        "outputId": "4f22870d-4dfa-40e7-a67e-e524a8978c5c",
        "colab": {
          "base_uri": "https://localhost:8080/"
        }
      },
      "outputs": [
        {
          "output_type": "stream",
          "name": "stdout",
          "text": [
            "10.09%\n",
            "89.91%\n"
          ]
        }
      ],
      "source": [
        "#Sprawdzenie poprawności losowania\n",
        "val_1 = 100 * sum(y_test) / (size / 2)\n",
        "print(\"%.2f\" % val_1 + '%') \n",
        "\n",
        "\n",
        "val_2 = 100 * sum(y_train) / (size / 2)\n",
        "print(\"%.2f\" % val_2 + '%') \n",
        "\n",
        "\n"
      ]
    },
    {
      "cell_type": "code",
      "execution_count": 12,
      "id": "f7f4dd4b",
      "metadata": {
        "id": "f7f4dd4b"
      },
      "outputs": [],
      "source": [
        "x_train = np.array(x_train)\n",
        "x_test = np.array(x_test)\n",
        "\n",
        "y_train = np.array(y_train)\n",
        "y_test = np.array(y_test)"
      ]
    },
    {
      "cell_type": "code",
      "execution_count": 13,
      "id": "d3a370cb",
      "metadata": {
        "id": "d3a370cb",
        "outputId": "59c2ce51-4990-4f77-db5f-b8a1cddd6088",
        "colab": {
          "base_uri": "https://localhost:8080/",
          "height": 357
        }
      },
      "outputs": [
        {
          "output_type": "stream",
          "name": "stdout",
          "text": [
            "[[0.    0.337 0.227 ... 0.    0.    0.   ]\n",
            " [0.    0.271 0.122 ... 0.427 0.416 0.404]\n",
            " [0.    0.216 0.075 ... 0.424 0.431 0.431]\n",
            " ...\n",
            " [0.243 0.208 0.173 ... 0.357 0.361 0.   ]\n",
            " [0.192 0.173 0.165 ... 0.341 0.341 0.   ]\n",
            " [0.    0.    0.    ... 0.282 0.286 0.   ]]\n",
            "1\n"
          ]
        },
        {
          "output_type": "display_data",
          "data": {
            "text/plain": [
              "<Figure size 432x288 with 1 Axes>"
            ],
            "image/png": "[encoded data removed]"
          },
          "metadata": {
            "needs_background": "light"
          }
        }
      ],
      "source": [
        "plt.imshow(x_train[0],cmap = 'gray')\n",
        "print(x_train[0])\n",
        "print(y_train[0])"
      ]
    },
    {
      "cell_type": "code",
      "execution_count": 14,
      "id": "772c7d7c",
      "metadata": {
        "id": "772c7d7c"
      },
      "outputs": [],
      "source": [
        "model = models.Sequential()\n",
        "model.add(layers.Conv2D(32, (3, 3), activation='relu', input_shape=(64, 128, 1)))\n",
        "model.add(layers.Conv2D(32, (3, 3), activation='relu'))\n",
        "model.add(layers.MaxPooling2D((2, 2)))\n",
        "model.add(Dropout(0.1))\n",
        "\n",
        "model.add(layers.Conv2D(64, (3, 3), activation='relu'))\n",
        "model.add(layers.Conv2D(64, (3, 3), activation='relu'))\n",
        "model.add(layers.MaxPooling2D((2, 2)))\n",
        "model.add(Dropout(0.1))\n",
        "\n",
        "model.add(layers.Conv2D(64, (3, 3), activation='relu'))\n",
        "model.add(layers.Conv2D(64, (3, 3), activation='relu'))\n",
        "model.add(layers.MaxPooling2D((2, 2)))\n",
        "model.add(Dropout(0.1))\n",
        "\n",
        "model.add(layers.Flatten())\n",
        "model.add(layers.Dense(64, activation='relu'))\n",
        "model.add(layers.Dense(1, activation='relu'))\n"
      ]
    },
    {
      "cell_type": "code",
      "execution_count": 15,
      "id": "b86f72df",
      "metadata": {
        "id": "b86f72df",
        "outputId": "251121b5-8d1d-43b1-818e-0caa39ebb2b2",
        "colab": {
          "base_uri": "https://localhost:8080/"
        }
      },
      "outputs": [
        {
          "output_type": "stream",
          "name": "stdout",
          "text": [
            "Model: \"sequential\"\n",
            "_________________________________________________________________\n",
            " Layer (type)                Output Shape              Param #   \n",
            "=================================================================\n",
            " conv2d (Conv2D)             (None, 62, 126, 32)       320       \n",
            "                                                                 \n",
            " conv2d_1 (Conv2D)           (None, 60, 124, 32)       9248      \n",
            "                                                                 \n",
            " max_pooling2d (MaxPooling2D  (None, 30, 62, 32)       0         \n",
            " )                                                               \n",
            "                                                                 \n",
            " dropout (Dropout)           (None, 30, 62, 32)        0         \n",
            "                                                                 \n",
            " conv2d_2 (Conv2D)           (None, 28, 60, 64)        18496     \n",
            "                                                                 \n",
            " conv2d_3 (Conv2D)           (None, 26, 58, 64)        36928     \n",
            "                                                                 \n",
            " max_pooling2d_1 (MaxPooling  (None, 13, 29, 64)       0         \n",
            " 2D)                                                             \n",
            "                                                                 \n",
            " dropout_1 (Dropout)         (None, 13, 29, 64)        0         \n",
            "                                                                 \n",
            " conv2d_4 (Conv2D)           (None, 11, 27, 64)        36928     \n",
            "                                                                 \n",
            " conv2d_5 (Conv2D)           (None, 9, 25, 64)         36928     \n",
            "                                                                 \n",
            " max_pooling2d_2 (MaxPooling  (None, 4, 12, 64)        0         \n",
            " 2D)                                                             \n",
            "                                                                 \n",
            " dropout_2 (Dropout)         (None, 4, 12, 64)         0         \n",
            "                                                                 \n",
            " flatten (Flatten)           (None, 3072)              0         \n",
            "                                                                 \n",
            " dense (Dense)               (None, 64)                196672    \n",
            "                                                                 \n",
            " dense_1 (Dense)             (None, 1)                 65        \n",
            "                                                                 \n",
            "=================================================================\n",
            "Total params: 335,585\n",
            "Trainable params: 335,585\n",
            "Non-trainable params: 0\n",
            "_________________________________________________________________\n"
          ]
        }
      ],
      "source": [
        "model.summary()"
      ]
    },
    {
      "cell_type": "code",
      "execution_count": 16,
      "id": "9beb77e5",
      "metadata": {
        "id": "9beb77e5",
        "outputId": "c2dbb636-06d7-4037-c74d-76a882cedb41",
        "colab": {
          "base_uri": "https://localhost:8080/"
        }
      },
      "outputs": [
        {
          "output_type": "stream",
          "name": "stdout",
          "text": [
            "Epoch 1/100\n",
            "80/80 [==============================] - 126s 1s/step - loss: 0.2448 - accuracy: 0.5709 - mse: 0.2448 - val_loss: 0.1824 - val_accuracy: 0.7116 - val_mse: 0.1824\n",
            "Epoch 2/100\n",
            "80/80 [==============================] - 106s 1s/step - loss: 0.1769 - accuracy: 0.7297 - mse: 0.1769 - val_loss: 0.1318 - val_accuracy: 0.8183 - val_mse: 0.1318\n",
            "Epoch 3/100\n",
            "80/80 [==============================] - 106s 1s/step - loss: 0.1111 - accuracy: 0.8518 - mse: 0.1111 - val_loss: 0.0717 - val_accuracy: 0.9140 - val_mse: 0.0717\n",
            "Epoch 4/100\n",
            "80/80 [==============================] - 106s 1s/step - loss: 0.0691 - accuracy: 0.9232 - mse: 0.0691 - val_loss: 0.0512 - val_accuracy: 0.9497 - val_mse: 0.0512\n",
            "Epoch 5/100\n",
            "80/80 [==============================] - 106s 1s/step - loss: 0.0434 - accuracy: 0.9595 - mse: 0.0434 - val_loss: 0.0324 - val_accuracy: 0.9683 - val_mse: 0.0324\n",
            "Epoch 6/100\n",
            "80/80 [==============================] - 106s 1s/step - loss: 0.0294 - accuracy: 0.9759 - mse: 0.0294 - val_loss: 0.0199 - val_accuracy: 0.9850 - val_mse: 0.0199\n",
            "Epoch 7/100\n",
            "80/80 [==============================] - 106s 1s/step - loss: 0.0202 - accuracy: 0.9878 - mse: 0.0202 - val_loss: 0.0137 - val_accuracy: 0.9934 - val_mse: 0.0137\n",
            "Epoch 8/100\n",
            "80/80 [==============================] - 106s 1s/step - loss: 0.0153 - accuracy: 0.9915 - mse: 0.0153 - val_loss: 0.0089 - val_accuracy: 0.9974 - val_mse: 0.0089\n",
            "Epoch 9/100\n",
            "80/80 [==============================] - 106s 1s/step - loss: 0.0114 - accuracy: 0.9951 - mse: 0.0114 - val_loss: 0.0074 - val_accuracy: 0.9965 - val_mse: 0.0074\n",
            "Epoch 10/100\n",
            "80/80 [==============================] - 106s 1s/step - loss: 0.0093 - accuracy: 0.9962 - mse: 0.0093 - val_loss: 0.0069 - val_accuracy: 0.9978 - val_mse: 0.0069\n",
            "Epoch 11/100\n",
            "80/80 [==============================] - 106s 1s/step - loss: 0.0066 - accuracy: 0.9981 - mse: 0.0066 - val_loss: 0.0039 - val_accuracy: 0.9982 - val_mse: 0.0039\n",
            "Epoch 12/100\n",
            "80/80 [==============================] - 106s 1s/step - loss: 0.0053 - accuracy: 0.9984 - mse: 0.0053 - val_loss: 0.0029 - val_accuracy: 0.9991 - val_mse: 0.0029\n",
            "Epoch 13/100\n",
            "80/80 [==============================] - 106s 1s/step - loss: 0.0045 - accuracy: 0.9989 - mse: 0.0045 - val_loss: 0.0027 - val_accuracy: 1.0000 - val_mse: 0.0027\n",
            "Epoch 14/100\n",
            "80/80 [==============================] - 106s 1s/step - loss: 0.0037 - accuracy: 0.9992 - mse: 0.0037 - val_loss: 0.0027 - val_accuracy: 0.9996 - val_mse: 0.0027\n",
            "Epoch 15/100\n",
            "80/80 [==============================] - 106s 1s/step - loss: 0.0032 - accuracy: 0.9991 - mse: 0.0032 - val_loss: 0.0023 - val_accuracy: 0.9991 - val_mse: 0.0023\n",
            "Epoch 16/100\n",
            "80/80 [==============================] - 106s 1s/step - loss: 0.0026 - accuracy: 0.9996 - mse: 0.0026 - val_loss: 0.0015 - val_accuracy: 0.9996 - val_mse: 0.0015\n",
            "Epoch 17/100\n",
            "80/80 [==============================] - 106s 1s/step - loss: 0.0022 - accuracy: 0.9994 - mse: 0.0022 - val_loss: 0.0020 - val_accuracy: 1.0000 - val_mse: 0.0020\n",
            "Epoch 18/100\n",
            "80/80 [==============================] - 106s 1s/step - loss: 0.0018 - accuracy: 0.9996 - mse: 0.0018 - val_loss: 0.0015 - val_accuracy: 1.0000 - val_mse: 0.0015\n",
            "Epoch 19/100\n",
            "80/80 [==============================] - 106s 1s/step - loss: 0.0018 - accuracy: 0.9997 - mse: 0.0018 - val_loss: 0.0015 - val_accuracy: 1.0000 - val_mse: 0.0015\n",
            "Epoch 20/100\n",
            "80/80 [==============================] - 106s 1s/step - loss: 0.0015 - accuracy: 0.9999 - mse: 0.0015 - val_loss: 0.0012 - val_accuracy: 0.9996 - val_mse: 0.0012\n",
            "Epoch 21/100\n",
            "80/80 [==============================] - 106s 1s/step - loss: 0.0013 - accuracy: 0.9995 - mse: 0.0013 - val_loss: 0.0012 - val_accuracy: 1.0000 - val_mse: 0.0012\n",
            "Epoch 22/100\n",
            "80/80 [==============================] - 106s 1s/step - loss: 0.0011 - accuracy: 0.9997 - mse: 0.0011 - val_loss: 0.0013 - val_accuracy: 1.0000 - val_mse: 0.0013\n",
            "Epoch 23/100\n",
            "80/80 [==============================] - 106s 1s/step - loss: 0.0010 - accuracy: 0.9999 - mse: 0.0010 - val_loss: 5.9691e-04 - val_accuracy: 1.0000 - val_mse: 5.9691e-04\n",
            "Epoch 24/100\n",
            "80/80 [==============================] - 106s 1s/step - loss: 0.0012 - accuracy: 0.9997 - mse: 0.0012 - val_loss: 0.0011 - val_accuracy: 0.9996 - val_mse: 0.0011\n",
            "Epoch 25/100\n",
            "80/80 [==============================] - 105s 1s/step - loss: 0.0011 - accuracy: 0.9999 - mse: 0.0011 - val_loss: 0.0010 - val_accuracy: 0.9996 - val_mse: 0.0010\n",
            "Epoch 26/100\n",
            "80/80 [==============================] - 106s 1s/step - loss: 0.0011 - accuracy: 0.9997 - mse: 0.0011 - val_loss: 4.3393e-04 - val_accuracy: 1.0000 - val_mse: 4.3393e-04\n",
            "Epoch 27/100\n",
            "80/80 [==============================] - 106s 1s/step - loss: 0.0012 - accuracy: 0.9997 - mse: 0.0012 - val_loss: 8.1262e-04 - val_accuracy: 1.0000 - val_mse: 8.1262e-04\n",
            "Epoch 28/100\n",
            "80/80 [==============================] - 105s 1s/step - loss: 8.2174e-04 - accuracy: 0.9999 - mse: 8.2174e-04 - val_loss: 0.0011 - val_accuracy: 0.9991 - val_mse: 0.0011\n",
            "Epoch 29/100\n",
            "80/80 [==============================] - 105s 1s/step - loss: 0.2030 - accuracy: 0.7969 - mse: 0.2030 - val_loss: 0.4965 - val_accuracy: 0.5035 - val_mse: 0.4965\n",
            "Epoch 30/100\n",
            "80/80 [==============================] - 105s 1s/step - loss: 0.4999 - accuracy: 0.5001 - mse: 0.4999 - val_loss: 0.4965 - val_accuracy: 0.5035 - val_mse: 0.4965\n",
            "Epoch 31/100\n",
            "80/80 [==============================] - 105s 1s/step - loss: 0.4999 - accuracy: 0.5001 - mse: 0.4999 - val_loss: 0.4965 - val_accuracy: 0.5035 - val_mse: 0.4965\n",
            "Epoch 31: early stopping\n"
          ]
        }
      ],
      "source": [
        "model.compile(optimizer='adam',\n",
        "              loss='mse',\n",
        "              metrics=['accuracy','mse'])\n",
        "\n",
        "#Funcka umożliwia zatrzymanie się uczenia \n",
        "#gdy wartość strat przstanie maleć\n",
        "EarlyStop = EarlyStopping(monitor='val_loss',  \n",
        "                          verbose=1, \n",
        "                          patience=5)\n",
        "\n",
        "\n",
        "ModelCheck = ModelCheckpoint(filepath='/content/drive/MyDrive/Sieci/Zlaczone.h5',\n",
        "                             monitor='val_loss',\n",
        "                             save_best_only=True)\n",
        "\n",
        "\n",
        "history = model.fit(x=x_train, \n",
        "                    y=y_train, \n",
        "                    epochs=100,\n",
        "                    batch_size=256,\n",
        "                    validation_split=0.1,\n",
        "                    callbacks = [EarlyStop, ModelCheck]\n",
        "                   )"
      ]
    },
    {
      "cell_type": "code",
      "execution_count": 17,
      "id": "fe8633db",
      "metadata": {
        "id": "fe8633db",
        "outputId": "ff245ee9-4519-4135-c009-76704c05d071",
        "colab": {
          "base_uri": "https://localhost:8080/",
          "height": 300
        }
      },
      "outputs": [
        {
          "output_type": "execute_result",
          "data": {
            "text/plain": [
              "<matplotlib.legend.Legend at 0x7f11801d0400>"
            ]
          },
          "metadata": {},
          "execution_count": 17
        },
        {
          "output_type": "display_data",
          "data": {
            "text/plain": [
              "<Figure size 432x288 with 1 Axes>"
            ],
            "image/png": "[encoded data removed]"
          },
          "metadata": {
            "needs_background": "light"
          }
        }
      ],
      "source": [
        "plt.plot(history.history['loss'], label='strata')\n",
        "plt.plot(history.history['val_loss'], label = 'strata walidacyjna')\n",
        "plt.xlabel('Epoka')\n",
        "plt.ylabel('Strata')\n",
        "plt.ylim([0.0, 0.5])\n",
        "plt.legend(loc='upper right')"
      ]
    },
    {
      "cell_type": "code",
      "execution_count": 18,
      "id": "8b976089",
      "metadata": {
        "scrolled": true,
        "id": "8b976089",
        "outputId": "d6af9ad9-d912-43aa-eb2d-8aa41bd21cc4",
        "colab": {
          "base_uri": "https://localhost:8080/",
          "height": 300
        }
      },
      "outputs": [
        {
          "output_type": "execute_result",
          "data": {
            "text/plain": [
              "<matplotlib.legend.Legend at 0x7f11801f3790>"
            ]
          },
          "metadata": {},
          "execution_count": 18
        },
        {
          "output_type": "display_data",
          "data": {
            "text/plain": [
              "<Figure size 432x288 with 1 Axes>"
            ],
            "image/png": "[encoded data removed]"
          },
          "metadata": {
            "needs_background": "light"
          }
        }
      ],
      "source": [
        "plt.plot(history.history['accuracy'], label='precyzja')\n",
        "plt.plot(history.history['val_accuracy'], label = 'precyzja walidacyjna')\n",
        "plt.xlabel('Epoka')\n",
        "plt.ylabel('Precyzja')\n",
        "plt.ylim([0.5, 1])\n",
        "plt.legend(loc='lower right')"
      ]
    },
    {
      "cell_type": "code",
      "execution_count": 19,
      "id": "685a286c",
      "metadata": {
        "id": "685a286c",
        "outputId": "01937caf-920a-4b1e-ba99-2efea63759b1",
        "colab": {
          "base_uri": "https://localhost:8080/"
        }
      },
      "outputs": [
        {
          "output_type": "stream",
          "name": "stdout",
          "text": [
            "79/79 - 5s - loss: 0.5044 - accuracy: 0.4956 - mse: 0.5044 - 5s/epoch - 66ms/step\n"
          ]
        },
        {
          "output_type": "execute_result",
          "data": {
            "text/plain": [
              "[0.5043650793650793, 0.49563492063492065, 0.5043650793650793]"
            ]
          },
          "metadata": {},
          "execution_count": 19
        }
      ],
      "source": [
        "model.evaluate(x_test,  y_test, verbose=2)"
      ]
    },
    {
      "cell_type": "code",
      "execution_count": 20,
      "id": "ee941c13",
      "metadata": {
        "id": "ee941c13",
        "colab": {
          "base_uri": "https://localhost:8080/"
        },
        "outputId": "44bbaa28-6862-44ea-b776-a459225ff90f"
      },
      "outputs": [
        {
          "output_type": "stream",
          "name": "stdout",
          "text": [
            "79/79 [==============================] - 4s 52ms/step\n"
          ]
        }
      ],
      "source": [
        "predict_x = model.predict(x_test) \n",
        "\n",
        "predictions = (predict_x > 0.5).astype(\"int32\")"
      ]
    },
    {
      "cell_type": "code",
      "execution_count": 22,
      "id": "d8fb12f1",
      "metadata": {
        "id": "d8fb12f1",
        "outputId": "2b4a8af6-fa11-413a-db0c-6d00bf5a0e6d",
        "colab": {
          "base_uri": "https://localhost:8080/"
        }
      },
      "outputs": [
        {
          "output_type": "stream",
          "name": "stdout",
          "text": [
            "[['Tn' 'Nn']\n",
            " ['Np' 'Tp']]\n"
          ]
        },
        {
          "output_type": "execute_result",
          "data": {
            "text/plain": [
              "<tf.Tensor: shape=(2, 2), dtype=int32, numpy=\n",
              "array([[1249,    0],\n",
              "       [1271,    0]], dtype=int32)>"
            ]
          },
          "metadata": {},
          "execution_count": 22
        }
      ],
      "source": [
        "names = [['Tn','Nn'],['Np', 'Tp']]\n",
        "names = np.reshape(names,(2,2))\n",
        "print(names)\n",
        "\n",
        "tf.math.confusion_matrix(y_test,predictions)"
      ]
    },
    {
      "cell_type": "code",
      "source": [
        "\n",
        "#################################\n",
        "#                               #\n",
        "#    Wczytanie zdjęć aktorów    #\n",
        "#                               #\n",
        "#################################"
      ],
      "metadata": {
        "id": "8bjxw97eKGtx"
      },
      "id": "8bjxw97eKGtx",
      "execution_count": 23,
      "outputs": []
    },
    {
      "cell_type": "code",
      "source": [
        "with open(folder_aktorzy+aktorzy_CSV,\"r\") as csvfile:\n",
        "    lines = csvfile.readlines()\n",
        "csvfile.close()\n",
        "\n",
        "\n",
        "tmp = []\n",
        "actors_label = []\n",
        "\n",
        "for i in lines:\n",
        "    tmp.append(i.split(\" \"))\n",
        "\n",
        "#Tablica przechowująca etykiety aktorów   \n",
        "act_label = []\n",
        "for i in tmp[0]:\n",
        "    actors_label.append(int(i))    \n",
        "    \n",
        "print(len(actors_label))"
      ],
      "metadata": {
        "colab": {
          "base_uri": "https://localhost:8080/"
        },
        "id": "c8Fko2c4KG7r",
        "outputId": "717afb39-61d1-42c9-bd3c-a0d7be640c2f"
      },
      "id": "c8Fko2c4KG7r",
      "execution_count": 24,
      "outputs": [
        {
          "output_type": "stream",
          "name": "stdout",
          "text": [
            "2052\n"
          ]
        }
      ]
    },
    {
      "cell_type": "code",
      "execution_count": 25,
      "id": "62ceaefe",
      "metadata": {
        "id": "62ceaefe",
        "outputId": "dab4ec9d-1711-4463-ece3-af7db0eb76a6",
        "colab": {
          "base_uri": "https://localhost:8080/"
        }
      },
      "outputs": [
        {
          "output_type": "stream",
          "name": "stdout",
          "text": [
            "2052\n"
          ]
        }
      ],
      "source": [
        "#Wczytanie zdjęć aktorów do tablicy\n",
        "\n",
        "actors_img = []\n",
        "size = len(actors_label)\n",
        "\n",
        "for i in range(size):\n",
        "    im = Image.open('/content/aktorzy/'+str(i)+'.png')\n",
        "    arr_im = np.array(im) \n",
        "    arr_im = arr_im / 255.0\n",
        "    actors_img.append(arr_im) \n",
        "print(len(actors_img))\n"
      ]
    },
    {
      "cell_type": "code",
      "execution_count": 26,
      "id": "d8cd5537",
      "metadata": {
        "id": "d8cd5537",
        "outputId": "faf68541-0009-4e3b-9006-e32804af1115",
        "colab": {
          "base_uri": "https://localhost:8080/",
          "height": 340
        }
      },
      "outputs": [
        {
          "output_type": "stream",
          "name": "stdout",
          "text": [
            "[[0.984 0.984 0.984 ... 0.192 0.196 0.196]\n",
            " [0.984 0.984 0.98  ... 0.2   0.192 0.192]\n",
            " [0.984 0.98  0.976 ... 0.204 0.196 0.192]\n",
            " ...\n",
            " [0.98  0.98  0.98  ... 0.298 0.294 0.29 ]\n",
            " [0.98  0.98  0.98  ... 0.294 0.298 0.302]\n",
            " [0.98  0.98  0.98  ... 0.298 0.31  0.302]]\n"
          ]
        },
        {
          "output_type": "display_data",
          "data": {
            "text/plain": [
              "<Figure size 432x288 with 1 Axes>"
            ],
            "image/png": "[encoded data removed]"
          },
          "metadata": {
            "needs_background": "light"
          }
        }
      ],
      "source": [
        "actors_label = np.array(actors_label)\n",
        "actors_img= np.array(actors_img)\n",
        "plt.imshow(actors_img[0],cmap = 'gray')\n",
        "print(actors_img[0])"
      ]
    },
    {
      "cell_type": "code",
      "execution_count": 27,
      "id": "304612c1",
      "metadata": {
        "id": "304612c1",
        "outputId": "8f9aa10e-d330-4bdf-d46d-a88b785ac535",
        "colab": {
          "base_uri": "https://localhost:8080/"
        }
      },
      "outputs": [
        {
          "output_type": "stream",
          "name": "stdout",
          "text": [
            "65/65 [==============================] - 4s 57ms/step\n",
            "[[0.]\n",
            " [0.]\n",
            " [0.]\n",
            " ...\n",
            " [0.]\n",
            " [0.]\n",
            " [0.]]\n"
          ]
        }
      ],
      "source": [
        "#Testowanie sieci z wykorzystaniem zdjęć aktorów \n",
        "\n",
        "predict_actors = model.predict(actors_img) \n",
        "\n",
        "print(predict_actors)\n",
        "predict = (predict_actors > 0.5).astype(\"int32\")"
      ]
    },
    {
      "cell_type": "code",
      "source": [
        "model.evaluate(actors_img, actors_label, verbose=2)"
      ],
      "metadata": {
        "colab": {
          "base_uri": "https://localhost:8080/"
        },
        "id": "SV4EtOtbdfgb",
        "outputId": "d51e27ce-f41a-4324-b794-0ed554eeb229"
      },
      "id": "SV4EtOtbdfgb",
      "execution_count": 28,
      "outputs": [
        {
          "output_type": "stream",
          "name": "stdout",
          "text": [
            "65/65 - 3s - loss: 0.5000 - accuracy: 0.5000 - mse: 0.5000 - 3s/epoch - 53ms/step\n"
          ]
        },
        {
          "output_type": "execute_result",
          "data": {
            "text/plain": [
              "[0.5, 0.5, 0.5]"
            ]
          },
          "metadata": {},
          "execution_count": 28
        }
      ]
    },
    {
      "cell_type": "code",
      "execution_count": 30,
      "id": "29f5ab15",
      "metadata": {
        "id": "29f5ab15",
        "colab": {
          "base_uri": "https://localhost:8080/"
        },
        "outputId": "21c496c8-9374-4cc9-deca-b778de48c032"
      },
      "outputs": [
        {
          "output_type": "stream",
          "name": "stdout",
          "text": [
            "[['Tn' 'Nn']\n",
            " ['Np' 'Tp']]\n"
          ]
        },
        {
          "output_type": "execute_result",
          "data": {
            "text/plain": [
              "<tf.Tensor: shape=(2, 2), dtype=int32, numpy=\n",
              "array([[1026,    0],\n",
              "       [1026,    0]], dtype=int32)>"
            ]
          },
          "metadata": {},
          "execution_count": 30
        }
      ],
      "source": [
        "print(names)\n",
        "\n",
        "tf.math.confusion_matrix(actors_label,predict)"
      ]
    },
    {
      "cell_type": "code",
      "execution_count": null,
      "id": "992cfbdd",
      "metadata": {
        "id": "992cfbdd"
      },
      "outputs": [],
      "source": []
    }
  ],
  "metadata": {
    "kernelspec": {
      "display_name": "py39",
      "language": "python",
      "name": "py39"
    },
    "language_info": {
      "codemirror_mode": {
        "name": "ipython",
        "version": 3
      },
      "file_extension": ".py",
      "mimetype": "text/x-python",
      "name": "python",
      "nbconvert_exporter": "python",
      "pygments_lexer": "ipython3",
      "version": "3.9.12"
    },
    "colab": {
      "provenance": [],
      "include_colab_link": true
    },
    "accelerator": "GPU",
    "gpuClass": "standard"
  },
  "nbformat": 4,
  "nbformat_minor": 5
}