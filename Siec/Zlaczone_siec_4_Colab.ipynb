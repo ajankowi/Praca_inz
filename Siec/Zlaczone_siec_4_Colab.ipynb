{
  "cells": [
    {
      "cell_type": "markdown",
      "metadata": {
        "id": "view-in-github",
        "colab_type": "text"
      },
      "source": [
        "<a href=\"https://colab.research.google.com/github/ajankowi/Praca_inz/blob/master/Siec/Zlaczone_siec_4_Colab.ipynb\" target=\"_parent\"><img src=\"https://colab.research.google.com/assets/colab-badge.svg\" alt=\"Open In Colab\"/></a>"
      ]
    },
    {
      "cell_type": "code",
      "execution_count": 1,
      "id": "613f08b5",
      "metadata": {
        "id": "613f08b5",
        "outputId": "3b2c06e5-3431-4175-c609-f94ca8fc1d29",
        "colab": {
          "base_uri": "https://localhost:8080/"
        }
      },
      "outputs": [
        {
          "output_type": "stream",
          "name": "stdout",
          "text": [
            "3.8.16 (default, Dec  7 2022, 01:12:13) \n",
            "[GCC 7.5.0]\n"
          ]
        }
      ],
      "source": [
        "import sys\n",
        "print(sys.version)"
      ]
    },
    {
      "cell_type": "code",
      "source": [
        "#from google.colab import drive\n",
        "#drive.mount(\"/content/drive\", force_remount=True)"
      ],
      "metadata": {
        "id": "iY1o7_NmVlGs"
      },
      "id": "iY1o7_NmVlGs",
      "execution_count": 2,
      "outputs": []
    },
    {
      "cell_type": "code",
      "execution_count": 3,
      "id": "5eca1117",
      "metadata": {
        "id": "5eca1117",
        "outputId": "711e483b-c16d-47d6-d6ae-966315f4ffbb",
        "colab": {
          "base_uri": "https://localhost:8080/"
        }
      },
      "outputs": [
        {
          "output_type": "stream",
          "name": "stdout",
          "text": [
            "TensorFlow version: 2.9.2\n"
          ]
        }
      ],
      "source": [
        "import tensorflow as tf\n",
        "from tensorflow import keras\n",
        "from keras import layers, models, regularizers\n",
        "from keras.layers import Flatten, add, Dense, Dropout, Conv2D, MaxPooling2D, BatchNormalization\n",
        "from keras.callbacks import ModelCheckpoint, EarlyStopping\n",
        "\n",
        "\n",
        "print(\"TensorFlow version:\", tf.__version__)\n",
        "tf.keras.backend.set_floatx('float64')"
      ]
    },
    {
      "cell_type": "code",
      "execution_count": 4,
      "id": "12022d37",
      "metadata": {
        "id": "12022d37"
      },
      "outputs": [],
      "source": [
        "import matplotlib.pyplot as plt\n",
        "import numpy as np\n",
        "import pandas as pd\n",
        "import seaborn as sns\n",
        "from PIL import Image\n",
        "import os\n",
        "import csv\n",
        "import random\n",
        "\n",
        "import cv2\n",
        "import imutils\n",
        "import glob\n",
        "# Make NumPy printouts easier to read.\n",
        "np.set_printoptions(precision=3, suppress=True)"
      ]
    },
    {
      "cell_type": "code",
      "execution_count": 5,
      "id": "1086f893",
      "metadata": {
        "id": "1086f893"
      },
      "outputs": [],
      "source": [
        "#Określenie ścieżek do plików\n",
        "test_zip = '/content/drive/MyDrive/Sieci/Baza_zdjec_zlaczone_2/Test.zip'\n",
        "test_csv = 'test.csv'\n",
        "\n",
        "train_zip = '/content/drive/MyDrive/Sieci/Baza_zdjec_zlaczone_2/Train.zip'\n",
        "train_csv = 'train.csv'\n",
        "\n",
        "folder = '/content/drive/MyDrive/Sieci/Baza_zdjec_zlaczone_2/'\n",
        "slesh = '/'\n",
        "png = '.png'"
      ]
    },
    {
      "cell_type": "code",
      "source": [
        "#!unzip '/content/drive/MyDrive/Sieci/Baza_zdjec_zlaczone_2/Train.zip' -d '/content/train/'\n",
        "#!unzip '/content/drive/MyDrive/Sieci/Baza_zdjec_zlaczone_2/Test.zip' -d '/content/test/'"
      ],
      "metadata": {
        "id": "FXtX4UDo9x77"
      },
      "id": "FXtX4UDo9x77",
      "execution_count": 6,
      "outputs": []
    },
    {
      "cell_type": "code",
      "execution_count": 7,
      "id": "d0329f31",
      "metadata": {
        "id": "d0329f31"
      },
      "outputs": [],
      "source": [
        "def release_list(a):\n",
        "    \n",
        "    del a[:]\n",
        "    del a"
      ]
    },
    {
      "cell_type": "code",
      "execution_count": 8,
      "id": "5beb89e7",
      "metadata": {
        "id": "5beb89e7",
        "outputId": "8acf4b3a-3c98-47bb-c7a5-8e5f49c64d00",
        "colab": {
          "base_uri": "https://localhost:8080/"
        }
      },
      "outputs": [
        {
          "output_type": "stream",
          "name": "stdout",
          "text": [
            "22680\n"
          ]
        }
      ],
      "source": [
        "#Wczytanie etykiet do treninegu \n",
        "\n",
        "with open(folder+train_csv,\"r\") as csvfile:\n",
        "    lines = csvfile.readlines()\n",
        "csvfile.close()\n",
        "\n",
        "new = []\n",
        "\n",
        "for i in lines:\n",
        "    new.append(i.split(\" \"))\n",
        "\n",
        "    \n",
        "value_train = []\n",
        "for i in new[0]:\n",
        "    value_train.append(int(i))    \n",
        "    \n",
        "print(len(value_train))"
      ]
    },
    {
      "cell_type": "code",
      "source": [
        "#Wczytanie etykiet do testowania\n",
        "\n",
        "with open(folder+test_csv,\"r\") as csvfile:\n",
        "    lines = csvfile.readlines()\n",
        "csvfile.close()\n",
        "\n",
        "new = []\n",
        "\n",
        "for i in lines:\n",
        "    new.append(i.split(\" \"))\n",
        "\n",
        "    \n",
        "value_test = []\n",
        "for i in new[0]:\n",
        "    value_test.append(int(i))    \n",
        "    \n",
        "print(len(value_test))"
      ],
      "metadata": {
        "id": "_BbuBDFDgvdp",
        "colab": {
          "base_uri": "https://localhost:8080/"
        },
        "outputId": "e9340417-c763-44e5-a3d6-9d01350a382b"
      },
      "id": "_BbuBDFDgvdp",
      "execution_count": 9,
      "outputs": [
        {
          "output_type": "stream",
          "name": "stdout",
          "text": [
            "2520\n"
          ]
        }
      ]
    },
    {
      "cell_type": "code",
      "execution_count": 10,
      "id": "d9cb09d8",
      "metadata": {
        "id": "d9cb09d8",
        "outputId": "a50c5a9a-d5df-4478-be54-7fac47f9e58d",
        "colab": {
          "base_uri": "https://localhost:8080/"
        }
      },
      "outputs": [
        {
          "output_type": "stream",
          "name": "stdout",
          "text": [
            "22680\n"
          ]
        }
      ],
      "source": [
        "#Wczytanie zdjęć treningowych \n",
        "images_train = []\n",
        "size = len(value_train)\n",
        "\n",
        "for i in range(size):\n",
        "    im = Image.open('/content/train/'+str(i)+'.png')\n",
        "    arr_im = np.array(im) \n",
        "    arr_im = arr_im / 255.0\n",
        "    images_train.append(arr_im) \n",
        "print(len(images_train))"
      ]
    },
    {
      "cell_type": "code",
      "source": [
        "#Wczytanie zdjęć testowych \n",
        "images_test = []\n",
        "size = len(value_test)\n",
        "\n",
        "for i in range(size):\n",
        "    im = Image.open('/content/test/'+str(i)+'.png')\n",
        "    arr_im = np.array(im) \n",
        "    arr_im = arr_im / 255.0\n",
        "    images_test.append(arr_im) \n",
        "print(len(images_test))"
      ],
      "metadata": {
        "colab": {
          "base_uri": "https://localhost:8080/"
        },
        "id": "9I51x6abky3Q",
        "outputId": "c6536008-cf92-4593-83a9-df389a85b4b6"
      },
      "id": "9I51x6abky3Q",
      "execution_count": 11,
      "outputs": [
        {
          "output_type": "stream",
          "name": "stdout",
          "text": [
            "2520\n"
          ]
        }
      ]
    },
    {
      "cell_type": "code",
      "execution_count": 12,
      "id": "f7f4dd4b",
      "metadata": {
        "id": "f7f4dd4b"
      },
      "outputs": [],
      "source": [
        "x_train = np.array(images_train)\n",
        "x_test = np.array(images_test)\n",
        "\n",
        "y_train = np.array(value_train)\n",
        "y_test = np.array(value_test)"
      ]
    },
    {
      "cell_type": "code",
      "execution_count": 15,
      "id": "772c7d7c",
      "metadata": {
        "id": "772c7d7c"
      },
      "outputs": [],
      "source": [
        "model = models.Sequential()\n",
        "model.add(layers.Conv2D(32, (3, 3), activation='relu', input_shape=(64, 128, 1)))\n",
        "model.add(layers.MaxPooling2D((2, 2)))\n",
        "model.add(layers.Conv2D(32, (3, 3), activation='relu'))\n",
        "model.add(layers.MaxPooling2D((2, 2)))\n",
        "\n",
        "model.add(layers.BatchNormalization())\n",
        "\n",
        "model.add(layers.Conv2D(64, (3, 3), activation='relu'))\n",
        "model.add(layers.MaxPooling2D((2, 2)))\n",
        "model.add(layers.Conv2D(64, (3, 3), activation='relu'))\n",
        "model.add(layers.MaxPooling2D((2, 2)))\n",
        "\n",
        "\n",
        "model.add(layers.Flatten())\n",
        "model.add(layers.Dense(64, activation='relu', kernel_regularizer=keras.regularizers.l2(l=0.1)))\n",
        "model.add(layers.Dense(1, activation='relu'))\n"
      ]
    },
    {
      "cell_type": "code",
      "execution_count": 16,
      "id": "b86f72df",
      "metadata": {
        "id": "b86f72df",
        "outputId": "3576065a-3e76-4d3e-9f98-99a68fbe8d6f",
        "colab": {
          "base_uri": "https://localhost:8080/"
        }
      },
      "outputs": [
        {
          "output_type": "stream",
          "name": "stdout",
          "text": [
            "Model: \"sequential_1\"\n",
            "_________________________________________________________________\n",
            " Layer (type)                Output Shape              Param #   \n",
            "=================================================================\n",
            " conv2d_4 (Conv2D)           (None, 62, 126, 32)       320       \n",
            "                                                                 \n",
            " max_pooling2d_4 (MaxPooling  (None, 31, 63, 32)       0         \n",
            " 2D)                                                             \n",
            "                                                                 \n",
            " conv2d_5 (Conv2D)           (None, 29, 61, 32)        9248      \n",
            "                                                                 \n",
            " max_pooling2d_5 (MaxPooling  (None, 14, 30, 32)       0         \n",
            " 2D)                                                             \n",
            "                                                                 \n",
            " batch_normalization_2 (Batc  (None, 14, 30, 32)       128       \n",
            " hNormalization)                                                 \n",
            "                                                                 \n",
            " conv2d_6 (Conv2D)           (None, 12, 28, 64)        18496     \n",
            "                                                                 \n",
            " max_pooling2d_6 (MaxPooling  (None, 6, 14, 64)        0         \n",
            " 2D)                                                             \n",
            "                                                                 \n",
            " conv2d_7 (Conv2D)           (None, 4, 12, 64)         36928     \n",
            "                                                                 \n",
            " max_pooling2d_7 (MaxPooling  (None, 2, 6, 64)         0         \n",
            " 2D)                                                             \n",
            "                                                                 \n",
            " batch_normalization_3 (Batc  (None, 2, 6, 64)         256       \n",
            " hNormalization)                                                 \n",
            "                                                                 \n",
            " flatten_1 (Flatten)         (None, 768)               0         \n",
            "                                                                 \n",
            " dense_1 (Dense)             (None, 64)                49216     \n",
            "                                                                 \n",
            " dense_2 (Dense)             (None, 1)                 65        \n",
            "                                                                 \n",
            "=================================================================\n",
            "Total params: 114,657\n",
            "Trainable params: 114,465\n",
            "Non-trainable params: 192\n",
            "_________________________________________________________________\n"
          ]
        }
      ],
      "source": [
        "model.summary()"
      ]
    },
    {
      "cell_type": "code",
      "execution_count": 17,
      "id": "9beb77e5",
      "metadata": {
        "id": "9beb77e5",
        "outputId": "6f4348e8-ce73-4667-c43d-c05a947c0206",
        "colab": {
          "base_uri": "https://localhost:8080/"
        }
      },
      "outputs": [
        {
          "output_type": "stream",
          "name": "stdout",
          "text": [
            "Epoch 1/100\n",
            "160/160 [==============================] - 27s 143ms/step - loss: 2.4577 - accuracy: 0.8776 - mse: 0.1143 - val_loss: 0.4716 - val_accuracy: 0.0000e+00 - val_mse: 0.3995\n",
            "Epoch 2/100\n",
            "160/160 [==============================] - 22s 136ms/step - loss: 0.0547 - accuracy: 0.9848 - mse: 0.0234 - val_loss: 0.6314 - val_accuracy: 0.0000e+00 - val_mse: 0.6130\n",
            "Epoch 3/100\n",
            "160/160 [==============================] - 22s 137ms/step - loss: 0.0292 - accuracy: 0.9940 - mse: 0.0143 - val_loss: 0.6416 - val_accuracy: 0.0617 - val_mse: 0.6284\n",
            "Epoch 4/100\n",
            "160/160 [==============================] - 23s 145ms/step - loss: 0.0204 - accuracy: 0.9976 - mse: 0.0093 - val_loss: 0.2433 - val_accuracy: 0.6177 - val_mse: 0.2343\n",
            "Epoch 5/100\n",
            "160/160 [==============================] - 23s 145ms/step - loss: 0.0186 - accuracy: 0.9970 - mse: 0.0091 - val_loss: 0.0447 - val_accuracy: 0.9511 - val_mse: 0.0355\n",
            "Epoch 6/100\n",
            "160/160 [==============================] - 22s 138ms/step - loss: 0.0131 - accuracy: 0.9984 - mse: 0.0059 - val_loss: 0.1298 - val_accuracy: 0.8267 - val_mse: 0.1224\n",
            "Epoch 7/100\n",
            "160/160 [==============================] - 24s 151ms/step - loss: 0.0146 - accuracy: 0.9972 - mse: 0.0071 - val_loss: 0.0156 - val_accuracy: 0.9890 - val_mse: 0.0098\n",
            "Epoch 8/100\n",
            "160/160 [==============================] - 23s 146ms/step - loss: 0.0117 - accuracy: 0.9984 - mse: 0.0052 - val_loss: 0.0114 - val_accuracy: 0.9921 - val_mse: 0.0065\n",
            "Epoch 9/100\n",
            "160/160 [==============================] - 22s 140ms/step - loss: 0.0079 - accuracy: 0.9991 - mse: 0.0034 - val_loss: 0.0143 - val_accuracy: 0.9903 - val_mse: 0.0102\n",
            "Epoch 10/100\n",
            "160/160 [==============================] - 23s 141ms/step - loss: 0.0070 - accuracy: 0.9996 - mse: 0.0031 - val_loss: 0.0121 - val_accuracy: 0.9881 - val_mse: 0.0081\n",
            "Epoch 11/100\n",
            "160/160 [==============================] - 25s 154ms/step - loss: 0.0057 - accuracy: 0.9998 - mse: 0.0024 - val_loss: 0.0109 - val_accuracy: 0.9938 - val_mse: 0.0078\n",
            "Epoch 12/100\n",
            "160/160 [==============================] - 24s 149ms/step - loss: 0.0048 - accuracy: 0.9997 - mse: 0.0020 - val_loss: 0.0064 - val_accuracy: 0.9969 - val_mse: 0.0035\n",
            "Epoch 13/100\n",
            "160/160 [==============================] - 24s 148ms/step - loss: 0.0054 - accuracy: 0.9997 - mse: 0.0025 - val_loss: 0.0046 - val_accuracy: 0.9982 - val_mse: 0.0015\n",
            "Epoch 14/100\n",
            "160/160 [==============================] - 23s 141ms/step - loss: 0.0062 - accuracy: 0.9994 - mse: 0.0028 - val_loss: 0.0236 - val_accuracy: 0.9749 - val_mse: 0.0188\n",
            "Epoch 15/100\n",
            "160/160 [==============================] - 23s 141ms/step - loss: 0.0086 - accuracy: 0.9975 - mse: 0.0042 - val_loss: 0.0439 - val_accuracy: 0.9515 - val_mse: 0.0399\n",
            "Epoch 16/100\n",
            "160/160 [==============================] - 23s 142ms/step - loss: 0.0091 - accuracy: 0.9972 - mse: 0.0047 - val_loss: 0.0176 - val_accuracy: 0.9806 - val_mse: 0.0137\n",
            "Epoch 17/100\n",
            "160/160 [==============================] - 24s 149ms/step - loss: 0.0034 - accuracy: 0.9998 - mse: 0.0012 - val_loss: 0.0035 - val_accuracy: 0.9987 - val_mse: 0.0017\n",
            "Epoch 18/100\n",
            "160/160 [==============================] - 23s 141ms/step - loss: 0.0040 - accuracy: 0.9995 - mse: 0.0017 - val_loss: 0.0054 - val_accuracy: 0.9974 - val_mse: 0.0032\n",
            "Epoch 19/100\n",
            "160/160 [==============================] - 23s 141ms/step - loss: 0.0063 - accuracy: 0.9981 - mse: 0.0032 - val_loss: 0.0110 - val_accuracy: 0.9921 - val_mse: 0.0062\n",
            "Epoch 20/100\n",
            "160/160 [==============================] - 24s 148ms/step - loss: 0.0051 - accuracy: 0.9989 - mse: 0.0020 - val_loss: 0.0020 - val_accuracy: 1.0000 - val_mse: 7.4053e-04\n",
            "Epoch 21/100\n",
            "160/160 [==============================] - 23s 141ms/step - loss: 0.0019 - accuracy: 1.0000 - mse: 6.0121e-04 - val_loss: 0.0031 - val_accuracy: 0.9996 - val_mse: 0.0019\n",
            "Epoch 22/100\n",
            "160/160 [==============================] - 23s 142ms/step - loss: 0.0017 - accuracy: 0.9999 - mse: 5.2276e-04 - val_loss: 0.0030 - val_accuracy: 0.9987 - val_mse: 0.0013\n",
            "Epoch 23/100\n",
            "160/160 [==============================] - 23s 141ms/step - loss: 0.0025 - accuracy: 0.9999 - mse: 6.7409e-04 - val_loss: 0.0114 - val_accuracy: 0.9846 - val_mse: 0.0100\n",
            "Epoch 24/100\n",
            "160/160 [==============================] - 23s 142ms/step - loss: 0.0058 - accuracy: 0.9984 - mse: 0.0027 - val_loss: 0.0476 - val_accuracy: 0.9414 - val_mse: 0.0436\n",
            "Epoch 25/100\n",
            "160/160 [==============================] - 23s 144ms/step - loss: 0.0062 - accuracy: 0.9974 - mse: 0.0032 - val_loss: 0.0783 - val_accuracy: 0.8880 - val_mse: 0.0743\n",
            "Epoch 26/100\n",
            "160/160 [==============================] - 23s 141ms/step - loss: 0.0070 - accuracy: 0.9966 - mse: 0.0037 - val_loss: 0.0050 - val_accuracy: 0.9974 - val_mse: 0.0029\n",
            "Epoch 27/100\n",
            "160/160 [==============================] - 23s 141ms/step - loss: 0.0029 - accuracy: 0.9991 - mse: 0.0012 - val_loss: 0.0052 - val_accuracy: 0.9969 - val_mse: 0.0038\n",
            "Epoch 28/100\n",
            "160/160 [==============================] - 23s 141ms/step - loss: 0.0025 - accuracy: 0.9993 - mse: 0.0010 - val_loss: 0.0650 - val_accuracy: 0.9083 - val_mse: 0.0635\n",
            "Epoch 29/100\n",
            "160/160 [==============================] - 23s 141ms/step - loss: 0.0026 - accuracy: 0.9990 - mse: 0.0011 - val_loss: 0.0045 - val_accuracy: 0.9951 - val_mse: 0.0033\n",
            "Epoch 30/100\n",
            "160/160 [==============================] - 23s 141ms/step - loss: 0.0016 - accuracy: 0.9999 - mse: 4.8166e-04 - val_loss: 0.0089 - val_accuracy: 0.9903 - val_mse: 0.0077\n",
            "Epoch 30: early stopping\n"
          ]
        }
      ],
      "source": [
        "model.compile(optimizer='adam',\n",
        "              loss='mse',\n",
        "              metrics=['accuracy','mse'])\n",
        "\n",
        "#Funcka umożliwia zatrzymanie się uczenia \n",
        "#gdy wartość strat przstanie maleć\n",
        "EarlyStop = EarlyStopping(monitor='val_loss',  \n",
        "                          verbose=1, \n",
        "                          patience=10)\n",
        "\n",
        "\n",
        "ModelCheck = ModelCheckpoint(filepath='/content/drive/MyDrive/Sieci/Zlaczone.h5',\n",
        "                             monitor='val_loss',\n",
        "                             save_best_only=True)\n",
        "\n",
        "\n",
        "history = model.fit(x=x_train, \n",
        "                    y=y_train, \n",
        "                    epochs=100,\n",
        "                    batch_size=128,\n",
        "                    validation_split=0.1,\n",
        "                    #validation_data = (x_test, y_test),\n",
        "                    callbacks = [EarlyStop, ModelCheck]\n",
        "                   )"
      ]
    },
    {
      "cell_type": "code",
      "execution_count": 18,
      "id": "fe8633db",
      "metadata": {
        "id": "fe8633db",
        "colab": {
          "base_uri": "https://localhost:8080/",
          "height": 300
        },
        "outputId": "b6b4c490-3ade-493e-f3ff-fb23ca22f3e6"
      },
      "outputs": [
        {
          "output_type": "execute_result",
          "data": {
            "text/plain": [
              "<matplotlib.legend.Legend at 0x7fd9d442a940>"
            ]
          },
          "metadata": {},
          "execution_count": 18
        },
        {
          "output_type": "display_data",
          "data": {
            "text/plain": [
              "<Figure size 432x288 with 1 Axes>"
            ],
            "image/png": "[encoded data removed]"
          },
          "metadata": {
            "needs_background": "light"
          }
        }
      ],
      "source": [
        "plt.plot(history.history['loss'], label='strata')\n",
        "plt.plot(history.history['val_loss'], label = 'strata walidacyjna')\n",
        "plt.xlabel('Epoka')\n",
        "plt.ylabel('Strata')\n",
        "plt.ylim([0.0, 0.5])\n",
        "plt.legend(loc='upper right')"
      ]
    },
    {
      "cell_type": "code",
      "execution_count": 19,
      "id": "8b976089",
      "metadata": {
        "scrolled": true,
        "id": "8b976089",
        "colab": {
          "base_uri": "https://localhost:8080/",
          "height": 300
        },
        "outputId": "6c7d1a3c-8a2e-4a8d-ccd3-84e158a0b9f6"
      },
      "outputs": [
        {
          "output_type": "execute_result",
          "data": {
            "text/plain": [
              "<matplotlib.legend.Legend at 0x7fd9d439f3a0>"
            ]
          },
          "metadata": {},
          "execution_count": 19
        },
        {
          "output_type": "display_data",
          "data": {
            "text/plain": [
              "<Figure size 432x288 with 1 Axes>"
            ],
            "image/png": "[encoded data removed]"
          },
          "metadata": {
            "needs_background": "light"
          }
        }
      ],
      "source": [
        "plt.plot(history.history['accuracy'], label='precyzja')\n",
        "plt.plot(history.history['val_accuracy'], label = 'precyzja walidacyjna')\n",
        "plt.xlabel('Epoka')\n",
        "plt.ylabel('Precyzja')\n",
        "plt.ylim([0.5, 1])\n",
        "plt.legend(loc='lower right')"
      ]
    },
    {
      "cell_type": "code",
      "source": [
        "best_model = tf.keras.models.load_model('/content/drive/MyDrive/Sieci/Zlaczone.h5')\n"
      ],
      "metadata": {
        "id": "HWqm9BVzLHfw"
      },
      "id": "HWqm9BVzLHfw",
      "execution_count": 20,
      "outputs": []
    },
    {
      "cell_type": "code",
      "execution_count": 21,
      "id": "685a286c",
      "metadata": {
        "id": "685a286c",
        "colab": {
          "base_uri": "https://localhost:8080/"
        },
        "outputId": "64c48622-d517-42e9-ff75-3b27e338b155"
      },
      "outputs": [
        {
          "output_type": "stream",
          "name": "stdout",
          "text": [
            "79/79 - 1s - loss: 0.2467 - accuracy: 0.7353 - mse: 0.2454 - 1s/epoch - 18ms/step\n"
          ]
        },
        {
          "output_type": "execute_result",
          "data": {
            "text/plain": [
              "[0.24669668950693258, 0.7353174603174604, 0.24541429173517965]"
            ]
          },
          "metadata": {},
          "execution_count": 21
        }
      ],
      "source": [
        "best_model.evaluate(x_test,  y_test, verbose=2)"
      ]
    },
    {
      "cell_type": "code",
      "execution_count": 22,
      "id": "ee941c13",
      "metadata": {
        "id": "ee941c13",
        "colab": {
          "base_uri": "https://localhost:8080/"
        },
        "outputId": "35cf7dae-54b7-4b4f-b883-9fb38e31f54a"
      },
      "outputs": [
        {
          "output_type": "stream",
          "name": "stdout",
          "text": [
            "79/79 [==============================] - 1s 11ms/step\n"
          ]
        }
      ],
      "source": [
        "predict_x = best_model.predict(x_test) \n",
        "\n",
        "predictions = (predict_x > 0.5).astype(\"int32\")"
      ]
    },
    {
      "cell_type": "code",
      "execution_count": 23,
      "id": "d8fb12f1",
      "metadata": {
        "id": "d8fb12f1",
        "colab": {
          "base_uri": "https://localhost:8080/"
        },
        "outputId": "0d4d1071-6849-4818-ec32-20d426892675"
      },
      "outputs": [
        {
          "output_type": "stream",
          "name": "stdout",
          "text": [
            "[['Tn' 'Nn']\n",
            " ['Np' 'Tp']]\n",
            "tf.Tensor(\n",
            "[[ 593  667]\n",
            " [   0 1260]], shape=(2, 2), dtype=int32)\n"
          ]
        }
      ],
      "source": [
        "names = [['Tn','Nn'],['Np', 'Tp']]\n",
        "names = np.reshape(names,(2,2))\n",
        "print(names)\n",
        "\n",
        "conf = tf.math.confusion_matrix(y_test,predictions)\n",
        "\n",
        "print(conf)"
      ]
    }
  ],
  "metadata": {
    "kernelspec": {
      "display_name": "py39",
      "language": "python",
      "name": "py39"
    },
    "language_info": {
      "codemirror_mode": {
        "name": "ipython",
        "version": 3
      },
      "file_extension": ".py",
      "mimetype": "text/x-python",
      "name": "python",
      "nbconvert_exporter": "python",
      "pygments_lexer": "ipython3",
      "version": "3.9.12"
    },
    "colab": {
      "provenance": [],
      "include_colab_link": true
    },
    "accelerator": "GPU",
    "gpuClass": "standard"
  },
  "nbformat": 4,
  "nbformat_minor": 5
}