{
  "cells": [
    {
      "cell_type": "markdown",
      "metadata": {
        "id": "view-in-github",
        "colab_type": "text"
      },
      "source": [
        "<a href=\"https://colab.research.google.com/github/ajankowi/Praca_inz/blob/master/Siec/Zlaczone_siec_4_Colab.ipynb\" target=\"_parent\"><img src=\"https://colab.research.google.com/assets/colab-badge.svg\" alt=\"Open In Colab\"/></a>"
      ]
    },
    {
      "cell_type": "code",
      "execution_count": 1,
      "id": "613f08b5",
      "metadata": {
        "id": "613f08b5",
        "outputId": "72439f38-c7a8-4eb8-89ee-d6085c0ef2df",
        "colab": {
          "base_uri": "https://localhost:8080/"
        }
      },
      "outputs": [
        {
          "output_type": "stream",
          "name": "stdout",
          "text": [
            "3.8.16 (default, Dec  7 2022, 01:12:13) \n",
            "[GCC 7.5.0]\n"
          ]
        }
      ],
      "source": [
        "import sys\n",
        "print(sys.version)"
      ]
    },
    {
      "cell_type": "code",
      "source": [
        "#from google.colab import drive\n",
        "#drive.mount(\"/content/drive\", force_remount=True)"
      ],
      "metadata": {
        "id": "iY1o7_NmVlGs",
        "outputId": "f9fa0f15-13bd-4aa9-8fd9-7b5157ce1c29",
        "colab": {
          "base_uri": "https://localhost:8080/"
        }
      },
      "id": "iY1o7_NmVlGs",
      "execution_count": 2,
      "outputs": [
        {
          "output_type": "stream",
          "name": "stdout",
          "text": [
            "Mounted at /content/drive\n"
          ]
        }
      ]
    },
    {
      "cell_type": "code",
      "execution_count": 3,
      "id": "5eca1117",
      "metadata": {
        "id": "5eca1117",
        "outputId": "c6340f6e-a061-40f5-8611-7eddfde61214",
        "colab": {
          "base_uri": "https://localhost:8080/"
        }
      },
      "outputs": [
        {
          "output_type": "stream",
          "name": "stdout",
          "text": [
            "TensorFlow version: 2.9.2\n"
          ]
        }
      ],
      "source": [
        "import tensorflow as tf\n",
        "from tensorflow import keras\n",
        "from keras import layers, models, regularizers\n",
        "from keras.layers import Flatten, add, Dense, Dropout, Conv2D, MaxPooling2D, BatchNormalization\n",
        "from keras.callbacks import ModelCheckpoint, EarlyStopping\n",
        "\n",
        "\n",
        "print(\"TensorFlow version:\", tf.__version__)\n",
        "tf.keras.backend.set_floatx('float64')"
      ]
    },
    {
      "cell_type": "code",
      "execution_count": 4,
      "id": "12022d37",
      "metadata": {
        "id": "12022d37"
      },
      "outputs": [],
      "source": [
        "import matplotlib.pyplot as plt\n",
        "import numpy as np\n",
        "import pandas as pd\n",
        "import seaborn as sns\n",
        "from PIL import Image\n",
        "import os\n",
        "import csv\n",
        "import random\n",
        "\n",
        "import cv2\n",
        "import imutils\n",
        "import glob\n",
        "# Make NumPy printouts easier to read.\n",
        "np.set_printoptions(precision=3, suppress=True)"
      ]
    },
    {
      "cell_type": "code",
      "execution_count": 5,
      "id": "1086f893",
      "metadata": {
        "id": "1086f893"
      },
      "outputs": [],
      "source": [
        "#Określenie ścieżek do plików\n",
        "test_zip = '/content/drive/MyDrive/Sieci/Baza_zdjec_zlaczone_2/Test.zip'\n",
        "test_csv = 'test.csv'\n",
        "\n",
        "train_zip = '/content/drive/MyDrive/Sieci/Baza_zdjec_zlaczone_2/Train.zip'\n",
        "train_csv = 'train.csv'\n",
        "\n",
        "folder = '/content/drive/MyDrive/Sieci/Baza_zdjec_zlaczone_2/'\n",
        "slesh = '/'\n",
        "png = '.png'"
      ]
    },
    {
      "cell_type": "code",
      "source": [
        "#!unzip '/content/drive/MyDrive/Sieci/Baza_zdjec_zlaczone_2/Train.zip' -d '/content/train/'\n",
        "#!unzip '/content/drive/MyDrive/Sieci/Baza_zdjec_zlaczone_2/Test.zip' -d '/content/test/'"
      ],
      "metadata": {
        "id": "FXtX4UDo9x77"
      },
      "id": "FXtX4UDo9x77",
      "execution_count": null,
      "outputs": []
    },
    {
      "cell_type": "code",
      "execution_count": 7,
      "id": "d0329f31",
      "metadata": {
        "id": "d0329f31"
      },
      "outputs": [],
      "source": [
        "def release_list(a):\n",
        "    \n",
        "    del a[:]\n",
        "    del a"
      ]
    },
    {
      "cell_type": "code",
      "execution_count": 8,
      "id": "5beb89e7",
      "metadata": {
        "id": "5beb89e7",
        "outputId": "d90b135e-3564-40cb-8463-e3e17e375902",
        "colab": {
          "base_uri": "https://localhost:8080/"
        }
      },
      "outputs": [
        {
          "output_type": "stream",
          "name": "stdout",
          "text": [
            "22680\n"
          ]
        }
      ],
      "source": [
        "#Wczytanie etykiet do treninegu \n",
        "\n",
        "with open(folder+train_csv,\"r\") as csvfile:\n",
        "    lines = csvfile.readlines()\n",
        "csvfile.close()\n",
        "\n",
        "new = []\n",
        "\n",
        "for i in lines:\n",
        "    new.append(i.split(\" \"))\n",
        "\n",
        "    \n",
        "value_train = []\n",
        "for i in new[0]:\n",
        "    value_train.append(int(i))    \n",
        "    \n",
        "print(len(value_train))"
      ]
    },
    {
      "cell_type": "code",
      "source": [
        "#Wczytanie etykiet do testowania\n",
        "\n",
        "with open(folder+test_csv,\"r\") as csvfile:\n",
        "    lines = csvfile.readlines()\n",
        "csvfile.close()\n",
        "\n",
        "new = []\n",
        "\n",
        "for i in lines:\n",
        "    new.append(i.split(\" \"))\n",
        "\n",
        "    \n",
        "value_test = []\n",
        "for i in new[0]:\n",
        "    value_test.append(int(i))    \n",
        "    \n",
        "print(len(value_test))"
      ],
      "metadata": {
        "id": "_BbuBDFDgvdp",
        "colab": {
          "base_uri": "https://localhost:8080/"
        },
        "outputId": "b8b882b1-9a94-424b-cdc2-51d5de1017a5"
      },
      "id": "_BbuBDFDgvdp",
      "execution_count": 9,
      "outputs": [
        {
          "output_type": "stream",
          "name": "stdout",
          "text": [
            "2520\n"
          ]
        }
      ]
    },
    {
      "cell_type": "code",
      "execution_count": 10,
      "id": "d9cb09d8",
      "metadata": {
        "id": "d9cb09d8",
        "outputId": "3dfdf250-ee69-4e05-97e0-ad5199618667",
        "colab": {
          "base_uri": "https://localhost:8080/"
        }
      },
      "outputs": [
        {
          "output_type": "stream",
          "name": "stdout",
          "text": [
            "22680\n"
          ]
        }
      ],
      "source": [
        "#Wczytanie zdjęć treningowych \n",
        "images_train = []\n",
        "size = len(value_train)\n",
        "\n",
        "for i in range(size):\n",
        "    im = Image.open('/content/train/'+str(i)+'.png')\n",
        "    arr_im = np.array(im) \n",
        "    arr_im = arr_im / 255.0\n",
        "    images_train.append(arr_im) \n",
        "print(len(images_train))"
      ]
    },
    {
      "cell_type": "code",
      "source": [
        "#Wczytanie zdjęć testowych \n",
        "images_test = []\n",
        "size = len(value_test)\n",
        "\n",
        "for i in range(size):\n",
        "    im = Image.open('/content/test/'+str(i)+'.png')\n",
        "    arr_im = np.array(im) \n",
        "    arr_im = arr_im / 255.0\n",
        "    images_test.append(arr_im) \n",
        "print(len(images_test))"
      ],
      "metadata": {
        "colab": {
          "base_uri": "https://localhost:8080/"
        },
        "id": "9I51x6abky3Q",
        "outputId": "98091c6b-532b-472c-cf3e-a65e95c32d5d"
      },
      "id": "9I51x6abky3Q",
      "execution_count": 11,
      "outputs": [
        {
          "output_type": "stream",
          "name": "stdout",
          "text": [
            "2520\n"
          ]
        }
      ]
    },
    {
      "cell_type": "code",
      "execution_count": 12,
      "id": "f7f4dd4b",
      "metadata": {
        "id": "f7f4dd4b"
      },
      "outputs": [],
      "source": [
        "x_train = np.array(images_train)\n",
        "x_test = np.array(images_test)\n",
        "\n",
        "y_train = np.array(value_train)\n",
        "y_test = np.array(value_test)"
      ]
    },
    {
      "cell_type": "code",
      "execution_count": 13,
      "id": "772c7d7c",
      "metadata": {
        "id": "772c7d7c"
      },
      "outputs": [],
      "source": [
        "model = models.Sequential()\n",
        "model.add(layers.Conv2D(32, (3, 3), activation='relu', input_shape=(64, 128, 1)))\n",
        "model.add(layers.MaxPooling2D((2, 2)))\n",
        "model.add(layers.Conv2D(32, (3, 3), activation='relu'))\n",
        "model.add(layers.MaxPooling2D((2, 2)))\n",
        "\n",
        "model.add(layers.BatchNormalization())\n",
        "\n",
        "model.add(layers.Conv2D(64, (3, 3), activation='relu'))\n",
        "model.add(layers.MaxPooling2D((2, 2)))\n",
        "model.add(layers.Conv2D(64, (3, 3), activation='relu'))\n",
        "model.add(layers.MaxPooling2D((2, 2)))\n",
        "\n",
        "\n",
        "\n",
        "model.add(layers.Flatten())\n",
        "model.add(layers.Dense(64, activation='relu', kernel_regularizer=keras.regularizers.l2(l=0.1)))\n",
        "model.add(layers.Dense(1, activation='relu'))\n"
      ]
    },
    {
      "cell_type": "code",
      "execution_count": 14,
      "id": "b86f72df",
      "metadata": {
        "id": "b86f72df",
        "outputId": "89e842a3-14d4-401b-9c45-4fbd1eee303b",
        "colab": {
          "base_uri": "https://localhost:8080/"
        }
      },
      "outputs": [
        {
          "output_type": "stream",
          "name": "stdout",
          "text": [
            "Model: \"sequential\"\n",
            "_________________________________________________________________\n",
            " Layer (type)                Output Shape              Param #   \n",
            "=================================================================\n",
            " conv2d (Conv2D)             (None, 62, 126, 32)       320       \n",
            "                                                                 \n",
            " max_pooling2d (MaxPooling2D  (None, 31, 63, 32)       0         \n",
            " )                                                               \n",
            "                                                                 \n",
            " conv2d_1 (Conv2D)           (None, 29, 61, 32)        9248      \n",
            "                                                                 \n",
            " max_pooling2d_1 (MaxPooling  (None, 14, 30, 32)       0         \n",
            " 2D)                                                             \n",
            "                                                                 \n",
            " batch_normalization (BatchN  (None, 14, 30, 32)       128       \n",
            " ormalization)                                                   \n",
            "                                                                 \n",
            " conv2d_2 (Conv2D)           (None, 12, 28, 64)        18496     \n",
            "                                                                 \n",
            " max_pooling2d_2 (MaxPooling  (None, 6, 14, 64)        0         \n",
            " 2D)                                                             \n",
            "                                                                 \n",
            " conv2d_3 (Conv2D)           (None, 4, 12, 64)         36928     \n",
            "                                                                 \n",
            " max_pooling2d_3 (MaxPooling  (None, 2, 6, 64)         0         \n",
            " 2D)                                                             \n",
            "                                                                 \n",
            " flatten (Flatten)           (None, 768)               0         \n",
            "                                                                 \n",
            " dense (Dense)               (None, 64)                49216     \n",
            "                                                                 \n",
            " dense_1 (Dense)             (None, 1)                 65        \n",
            "                                                                 \n",
            "=================================================================\n",
            "Total params: 114,401\n",
            "Trainable params: 114,337\n",
            "Non-trainable params: 64\n",
            "_________________________________________________________________\n"
          ]
        }
      ],
      "source": [
        "model.summary()"
      ]
    },
    {
      "cell_type": "code",
      "execution_count": 15,
      "id": "9beb77e5",
      "metadata": {
        "id": "9beb77e5",
        "outputId": "49d78f3d-1a9c-4e37-ac11-84ea11dbf54a",
        "colab": {
          "base_uri": "https://localhost:8080/"
        }
      },
      "outputs": [
        {
          "output_type": "stream",
          "name": "stdout",
          "text": [
            "Epoch 1/100\n",
            "160/160 [==============================] - 33s 144ms/step - loss: 2.7150 - accuracy: 0.7838 - mse: 0.1637 - val_loss: 0.1635 - val_accuracy: 1.0000 - val_mse: 0.0025\n",
            "Epoch 2/100\n",
            "160/160 [==============================] - 22s 139ms/step - loss: 0.1109 - accuracy: 0.9524 - mse: 0.0469 - val_loss: 0.0297 - val_accuracy: 1.0000 - val_mse: 0.0045\n",
            "Epoch 3/100\n",
            "160/160 [==============================] - 23s 142ms/step - loss: 0.0428 - accuracy: 0.9801 - mse: 0.0246 - val_loss: 0.0240 - val_accuracy: 0.9991 - val_mse: 0.0103\n",
            "Epoch 4/100\n",
            "160/160 [==============================] - 23s 147ms/step - loss: 0.0273 - accuracy: 0.9902 - mse: 0.0154 - val_loss: 0.0239 - val_accuracy: 0.9894 - val_mse: 0.0139\n",
            "Epoch 5/100\n",
            "160/160 [==============================] - 22s 140ms/step - loss: 0.0208 - accuracy: 0.9940 - mse: 0.0114 - val_loss: 0.0379 - val_accuracy: 0.9652 - val_mse: 0.0301\n",
            "Epoch 6/100\n",
            "160/160 [==============================] - 23s 142ms/step - loss: 0.0167 - accuracy: 0.9962 - mse: 0.0089 - val_loss: 0.0075 - val_accuracy: 1.0000 - val_mse: 5.4831e-04\n",
            "Epoch 7/100\n",
            "160/160 [==============================] - 22s 140ms/step - loss: 0.0125 - accuracy: 0.9979 - mse: 0.0061 - val_loss: 0.0079 - val_accuracy: 0.9991 - val_mse: 0.0024\n",
            "Epoch 8/100\n",
            "160/160 [==============================] - 22s 140ms/step - loss: 0.0129 - accuracy: 0.9979 - mse: 0.0068 - val_loss: 0.0107 - val_accuracy: 0.9991 - val_mse: 0.0032\n",
            "Epoch 9/100\n",
            "160/160 [==============================] - 23s 142ms/step - loss: 0.0084 - accuracy: 0.9994 - mse: 0.0034 - val_loss: 0.0043 - val_accuracy: 1.0000 - val_mse: 2.1891e-04\n",
            "Epoch 10/100\n",
            "160/160 [==============================] - 22s 140ms/step - loss: 0.0084 - accuracy: 0.9989 - mse: 0.0039 - val_loss: 0.0105 - val_accuracy: 0.9951 - val_mse: 0.0065\n",
            "Epoch 11/100\n",
            "160/160 [==============================] - 23s 142ms/step - loss: 0.0074 - accuracy: 0.9995 - mse: 0.0034 - val_loss: 0.0039 - val_accuracy: 0.9996 - val_mse: 6.0055e-04\n",
            "Epoch 12/100\n",
            "160/160 [==============================] - 23s 142ms/step - loss: 0.0080 - accuracy: 0.9992 - mse: 0.0040 - val_loss: 0.0035 - val_accuracy: 1.0000 - val_mse: 1.8483e-04\n",
            "Epoch 13/100\n",
            "160/160 [==============================] - 22s 140ms/step - loss: 0.0053 - accuracy: 0.9996 - mse: 0.0023 - val_loss: 0.0070 - val_accuracy: 0.9974 - val_mse: 0.0041\n",
            "Epoch 14/100\n",
            "160/160 [==============================] - 22s 140ms/step - loss: 0.0052 - accuracy: 0.9996 - mse: 0.0022 - val_loss: 0.0049 - val_accuracy: 0.9991 - val_mse: 0.0024\n",
            "Epoch 15/100\n",
            "160/160 [==============================] - 22s 140ms/step - loss: 0.0040 - accuracy: 0.9998 - mse: 0.0016 - val_loss: 0.0050 - val_accuracy: 0.9987 - val_mse: 0.0026\n",
            "Epoch 16/100\n",
            "160/160 [==============================] - 23s 142ms/step - loss: 0.0044 - accuracy: 0.9995 - mse: 0.0021 - val_loss: 0.0030 - val_accuracy: 1.0000 - val_mse: 6.0366e-05\n",
            "Epoch 17/100\n",
            "160/160 [==============================] - 22s 140ms/step - loss: 0.0052 - accuracy: 0.9996 - mse: 0.0024 - val_loss: 0.0047 - val_accuracy: 0.9987 - val_mse: 0.0023\n",
            "Epoch 18/100\n",
            "160/160 [==============================] - 22s 140ms/step - loss: 0.0040 - accuracy: 0.9996 - mse: 0.0020 - val_loss: 0.0040 - val_accuracy: 0.9996 - val_mse: 4.5589e-04\n",
            "Epoch 19/100\n",
            "160/160 [==============================] - 23s 142ms/step - loss: 0.0046 - accuracy: 0.9994 - mse: 0.0019 - val_loss: 0.0020 - val_accuracy: 1.0000 - val_mse: 1.9172e-04\n",
            "Epoch 20/100\n",
            "160/160 [==============================] - 22s 140ms/step - loss: 0.0028 - accuracy: 0.9999 - mse: 9.7173e-04 - val_loss: 0.0024 - val_accuracy: 0.9991 - val_mse: 0.0011\n",
            "Epoch 21/100\n",
            "160/160 [==============================] - 22s 140ms/step - loss: 0.0039 - accuracy: 0.9995 - mse: 0.0020 - val_loss: 0.0026 - val_accuracy: 1.0000 - val_mse: 1.7201e-04\n",
            "Epoch 22/100\n",
            "160/160 [==============================] - 23s 141ms/step - loss: 0.0026 - accuracy: 0.9999 - mse: 8.3641e-04 - val_loss: 0.0052 - val_accuracy: 0.9978 - val_mse: 0.0040\n",
            "Epoch 23/100\n",
            "160/160 [==============================] - 23s 142ms/step - loss: 0.0027 - accuracy: 0.9998 - mse: 0.0012 - val_loss: 0.0014 - val_accuracy: 1.0000 - val_mse: 1.7543e-04\n",
            "Epoch 24/100\n",
            "160/160 [==============================] - 22s 140ms/step - loss: 0.0019 - accuracy: 1.0000 - mse: 6.5924e-04 - val_loss: 0.0074 - val_accuracy: 0.9951 - val_mse: 0.0064\n",
            "Epoch 25/100\n",
            "160/160 [==============================] - 22s 140ms/step - loss: 0.0027 - accuracy: 0.9999 - mse: 0.0013 - val_loss: 0.0020 - val_accuracy: 1.0000 - val_mse: 2.3443e-05\n",
            "Epoch 26/100\n",
            "160/160 [==============================] - 22s 140ms/step - loss: 0.0036 - accuracy: 0.9996 - mse: 0.0018 - val_loss: 0.0155 - val_accuracy: 0.9837 - val_mse: 0.0139\n",
            "Epoch 27/100\n",
            "160/160 [==============================] - 23s 144ms/step - loss: 0.0018 - accuracy: 1.0000 - mse: 5.8343e-04 - val_loss: 0.0017 - val_accuracy: 1.0000 - val_mse: 6.8398e-04\n",
            "Epoch 28/100\n",
            "160/160 [==============================] - 23s 141ms/step - loss: 0.0015 - accuracy: 1.0000 - mse: 4.5709e-04 - val_loss: 0.0034 - val_accuracy: 0.9978 - val_mse: 0.0026\n",
            "Epoch 29/100\n",
            "160/160 [==============================] - 22s 140ms/step - loss: 0.0084 - accuracy: 0.9956 - mse: 0.0056 - val_loss: 0.0360 - val_accuracy: 0.9524 - val_mse: 0.0316\n",
            "Epoch 30/100\n",
            "160/160 [==============================] - 23s 141ms/step - loss: 0.0044 - accuracy: 0.9992 - mse: 0.0019 - val_loss: 0.0015 - val_accuracy: 1.0000 - val_mse: 9.0306e-05\n",
            "Epoch 31/100\n",
            "160/160 [==============================] - 23s 142ms/step - loss: 0.0017 - accuracy: 1.0000 - mse: 5.2475e-04 - val_loss: 0.0013 - val_accuracy: 1.0000 - val_mse: 2.4243e-04\n",
            "Epoch 32/100\n",
            "160/160 [==============================] - 22s 140ms/step - loss: 0.0030 - accuracy: 0.9992 - mse: 0.0015 - val_loss: 0.0040 - val_accuracy: 0.9969 - val_mse: 0.0022\n",
            "Epoch 33/100\n",
            "160/160 [==============================] - 23s 143ms/step - loss: 0.0021 - accuracy: 0.9998 - mse: 8.1610e-04 - val_loss: 0.0022 - val_accuracy: 0.9991 - val_mse: 0.0014\n",
            "Epoch 34/100\n",
            "160/160 [==============================] - 23s 142ms/step - loss: 0.0013 - accuracy: 1.0000 - mse: 3.7028e-04 - val_loss: 0.0012 - val_accuracy: 0.9996 - val_mse: 2.8873e-04\n",
            "Epoch 35/100\n",
            "160/160 [==============================] - 23s 143ms/step - loss: 0.0012 - accuracy: 1.0000 - mse: 3.5238e-04 - val_loss: 0.0011 - val_accuracy: 1.0000 - val_mse: 1.7025e-04\n",
            "Epoch 36/100\n",
            "160/160 [==============================] - 22s 140ms/step - loss: 0.0026 - accuracy: 0.9992 - mse: 0.0015 - val_loss: 0.2373 - val_accuracy: 0.7451 - val_mse: 0.2350\n",
            "Epoch 37/100\n",
            "160/160 [==============================] - 22s 141ms/step - loss: 0.0049 - accuracy: 0.9985 - mse: 0.0024 - val_loss: 0.0023 - val_accuracy: 0.9996 - val_mse: 5.0228e-04\n",
            "Epoch 38/100\n",
            "160/160 [==============================] - 22s 140ms/step - loss: 0.0018 - accuracy: 0.9998 - mse: 4.9244e-04 - val_loss: 0.0011 - val_accuracy: 0.9996 - val_mse: 3.2182e-04\n",
            "Epoch 39/100\n",
            "160/160 [==============================] - 22s 140ms/step - loss: 0.0015 - accuracy: 0.9997 - mse: 6.0702e-04 - val_loss: 0.0012 - val_accuracy: 1.0000 - val_mse: 4.2206e-06\n",
            "Epoch 40/100\n",
            "160/160 [==============================] - 22s 140ms/step - loss: 0.0031 - accuracy: 0.9986 - mse: 0.0017 - val_loss: 0.0033 - val_accuracy: 0.9982 - val_mse: 0.0013\n",
            "Epoch 41/100\n",
            "160/160 [==============================] - 22s 140ms/step - loss: 0.0031 - accuracy: 0.9995 - mse: 9.9312e-04 - val_loss: 0.0131 - val_accuracy: 0.9815 - val_mse: 0.0120\n",
            "Epoch 42/100\n",
            "160/160 [==============================] - 23s 142ms/step - loss: 9.7930e-04 - accuracy: 1.0000 - mse: 2.4951e-04 - val_loss: 8.2399e-04 - val_accuracy: 0.9996 - val_mse: 2.1657e-04\n",
            "Epoch 43/100\n",
            "160/160 [==============================] - 23s 142ms/step - loss: 6.7109e-04 - accuracy: 1.0000 - mse: 1.6636e-04 - val_loss: 6.8091e-04 - val_accuracy: 1.0000 - val_mse: 2.8393e-04\n",
            "Epoch 44/100\n",
            "160/160 [==============================] - 23s 142ms/step - loss: 0.0021 - accuracy: 0.9993 - mse: 0.0012 - val_loss: 0.0029 - val_accuracy: 0.9978 - val_mse: 0.0020\n",
            "Epoch 45/100\n",
            "160/160 [==============================] - 22s 140ms/step - loss: 8.4981e-04 - accuracy: 1.0000 - mse: 1.9494e-04 - val_loss: 0.0022 - val_accuracy: 0.9982 - val_mse: 0.0017\n",
            "Epoch 46/100\n",
            "160/160 [==============================] - 22s 140ms/step - loss: 6.3530e-04 - accuracy: 1.0000 - mse: 1.9783e-04 - val_loss: 7.0782e-04 - val_accuracy: 1.0000 - val_mse: 1.0014e-05\n",
            "Epoch 47/100\n",
            "160/160 [==============================] - 22s 140ms/step - loss: 9.1008e-04 - accuracy: 1.0000 - mse: 1.8694e-04 - val_loss: 0.0015 - val_accuracy: 0.9996 - val_mse: 0.0011\n",
            "Epoch 48/100\n",
            "160/160 [==============================] - 22s 140ms/step - loss: 0.0058 - accuracy: 0.9969 - mse: 0.0042 - val_loss: 0.0111 - val_accuracy: 0.9885 - val_mse: 0.0080\n",
            "Epoch 49/100\n",
            "160/160 [==============================] - 22s 140ms/step - loss: 0.0082 - accuracy: 0.9964 - mse: 0.0045 - val_loss: 0.0024 - val_accuracy: 0.9982 - val_mse: 7.0365e-04\n",
            "Epoch 50/100\n",
            "160/160 [==============================] - 22s 139ms/step - loss: 0.0017 - accuracy: 0.9998 - mse: 4.7711e-04 - val_loss: 9.4579e-04 - val_accuracy: 1.0000 - val_mse: 1.8698e-04\n",
            "Epoch 51/100\n",
            "160/160 [==============================] - 22s 140ms/step - loss: 8.7138e-04 - accuracy: 1.0000 - mse: 1.5388e-04 - val_loss: 0.0012 - val_accuracy: 1.0000 - val_mse: 1.0326e-04\n",
            "Epoch 52/100\n",
            "160/160 [==============================] - 22s 140ms/step - loss: 6.9446e-04 - accuracy: 1.0000 - mse: 1.5482e-04 - val_loss: 0.0016 - val_accuracy: 0.9991 - val_mse: 8.3118e-04\n",
            "Epoch 53/100\n",
            "160/160 [==============================] - 22s 140ms/step - loss: 9.7721e-04 - accuracy: 1.0000 - mse: 1.9185e-04 - val_loss: 7.8205e-04 - val_accuracy: 0.9996 - val_mse: 3.3878e-04\n",
            "Epoch 53: early stopping\n"
          ]
        }
      ],
      "source": [
        "model.compile(optimizer='adam',\n",
        "              loss='mse',\n",
        "              metrics=['accuracy','mse'])\n",
        "\n",
        "#Funcka umożliwia zatrzymanie się uczenia \n",
        "#gdy wartość strat przstanie maleć\n",
        "EarlyStop = EarlyStopping(monitor='val_loss',  \n",
        "                          verbose=1, \n",
        "                          patience=10)\n",
        "\n",
        "\n",
        "ModelCheck = ModelCheckpoint(filepath='/content/drive/MyDrive/Sieci/Zlaczone.h5',\n",
        "                             monitor='val_loss',\n",
        "                             save_best_only=True)\n",
        "\n",
        "\n",
        "history = model.fit(x=x_train, \n",
        "                    y=y_train, \n",
        "                    epochs=100,\n",
        "                    batch_size=128,\n",
        "                    validation_split=0.1,\n",
        "                    callbacks = [EarlyStop, ModelCheck]\n",
        "                   )"
      ]
    },
    {
      "cell_type": "code",
      "execution_count": 16,
      "id": "fe8633db",
      "metadata": {
        "id": "fe8633db",
        "outputId": "a172b2c1-b8f5-404c-ab7a-d8c02e0d07c3",
        "colab": {
          "base_uri": "https://localhost:8080/",
          "height": 300
        }
      },
      "outputs": [
        {
          "output_type": "execute_result",
          "data": {
            "text/plain": [
              "<matplotlib.legend.Legend at 0x7f3576151280>"
            ]
          },
          "metadata": {},
          "execution_count": 16
        },
        {
          "output_type": "display_data",
          "data": {
            "text/plain": [
              "<Figure size 432x288 with 1 Axes>"
            ],
            "image/png": "[encoded data removed]"
          },
          "metadata": {
            "needs_background": "light"
          }
        }
      ],
      "source": [
        "plt.plot(history.history['loss'], label='strata')\n",
        "plt.plot(history.history['val_loss'], label = 'strata walidacyjna')\n",
        "plt.xlabel('Epoka')\n",
        "plt.ylabel('Strata')\n",
        "plt.ylim([0.0, 0.5])\n",
        "plt.legend(loc='upper right')"
      ]
    },
    {
      "cell_type": "code",
      "execution_count": 17,
      "id": "8b976089",
      "metadata": {
        "scrolled": true,
        "id": "8b976089",
        "outputId": "4e041c5b-0d88-4f96-eb66-b1507c8dc5b3",
        "colab": {
          "base_uri": "https://localhost:8080/",
          "height": 300
        }
      },
      "outputs": [
        {
          "output_type": "execute_result",
          "data": {
            "text/plain": [
              "<matplotlib.legend.Legend at 0x7f3576101760>"
            ]
          },
          "metadata": {},
          "execution_count": 17
        },
        {
          "output_type": "display_data",
          "data": {
            "text/plain": [
              "<Figure size 432x288 with 1 Axes>"
            ],
            "image/png": "[encoded data removed]"
          },
          "metadata": {
            "needs_background": "light"
          }
        }
      ],
      "source": [
        "plt.plot(history.history['accuracy'], label='precyzja')\n",
        "plt.plot(history.history['val_accuracy'], label = 'precyzja walidacyjna')\n",
        "plt.xlabel('Epoka')\n",
        "plt.ylabel('Precyzja')\n",
        "plt.ylim([0.5, 1])\n",
        "plt.legend(loc='lower right')"
      ]
    },
    {
      "cell_type": "code",
      "source": [
        "best_model = tf.keras.models.load_model('/content/drive/MyDrive/Sieci/Zlaczone.h5')\n"
      ],
      "metadata": {
        "id": "HWqm9BVzLHfw"
      },
      "id": "HWqm9BVzLHfw",
      "execution_count": 18,
      "outputs": []
    },
    {
      "cell_type": "code",
      "execution_count": 19,
      "id": "685a286c",
      "metadata": {
        "id": "685a286c",
        "outputId": "4954ae78-cc82-40cb-caae-9c7f10e2e8c4",
        "colab": {
          "base_uri": "https://localhost:8080/"
        }
      },
      "outputs": [
        {
          "output_type": "stream",
          "name": "stdout",
          "text": [
            "79/79 - 1s - loss: 0.1898 - accuracy: 0.8052 - mse: 0.1894 - 1s/epoch - 18ms/step\n"
          ]
        },
        {
          "output_type": "execute_result",
          "data": {
            "text/plain": [
              "[0.18980224200200205, 0.8051587301587302, 0.18940525693575813]"
            ]
          },
          "metadata": {},
          "execution_count": 19
        }
      ],
      "source": [
        "best_model.evaluate(x_test,  y_test, verbose=2)"
      ]
    },
    {
      "cell_type": "code",
      "execution_count": 20,
      "id": "ee941c13",
      "metadata": {
        "id": "ee941c13",
        "outputId": "a23bf0b5-d0d7-426d-8297-97f462374b11",
        "colab": {
          "base_uri": "https://localhost:8080/"
        }
      },
      "outputs": [
        {
          "output_type": "stream",
          "name": "stdout",
          "text": [
            "79/79 [==============================] - 1s 11ms/step\n"
          ]
        }
      ],
      "source": [
        "predict_x = best_model.predict(x_test) \n",
        "\n",
        "predictions = (predict_x > 0.5).astype(\"int32\")"
      ]
    },
    {
      "cell_type": "code",
      "execution_count": 21,
      "id": "d8fb12f1",
      "metadata": {
        "id": "d8fb12f1",
        "outputId": "b6046346-bd6a-4634-ce80-d2be891bbf4d",
        "colab": {
          "base_uri": "https://localhost:8080/"
        }
      },
      "outputs": [
        {
          "output_type": "stream",
          "name": "stdout",
          "text": [
            "[['Tn' 'Nn']\n",
            " ['Np' 'Tp']]\n",
            "tf.Tensor(\n",
            "[[ 772  488]\n",
            " [   3 1257]], shape=(2, 2), dtype=int32)\n"
          ]
        }
      ],
      "source": [
        "names = [['Tn','Nn'],['Np', 'Tp']]\n",
        "names = np.reshape(names,(2,2))\n",
        "print(names)\n",
        "\n",
        "conf = tf.math.confusion_matrix(y_test,predictions)\n",
        "\n",
        "print(conf)"
      ]
    }
  ],
  "metadata": {
    "kernelspec": {
      "display_name": "py39",
      "language": "python",
      "name": "py39"
    },
    "language_info": {
      "codemirror_mode": {
        "name": "ipython",
        "version": 3
      },
      "file_extension": ".py",
      "mimetype": "text/x-python",
      "name": "python",
      "nbconvert_exporter": "python",
      "pygments_lexer": "ipython3",
      "version": "3.9.12"
    },
    "colab": {
      "provenance": [],
      "include_colab_link": true
    },
    "accelerator": "GPU",
    "gpuClass": "standard"
  },
  "nbformat": 4,
  "nbformat_minor": 5
}