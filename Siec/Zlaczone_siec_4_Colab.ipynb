{
  "cells": [
    {
      "cell_type": "markdown",
      "metadata": {
        "id": "view-in-github",
        "colab_type": "text"
      },
      "source": [
        "<a href=\"https://colab.research.google.com/github/ajankowi/Praca_inz/blob/master/Siec/Zlaczone_siec_4_Colab.ipynb\" target=\"_parent\"><img src=\"https://colab.research.google.com/assets/colab-badge.svg\" alt=\"Open In Colab\"/></a>"
      ]
    },
    {
      "cell_type": "code",
      "execution_count": 1,
      "id": "613f08b5",
      "metadata": {
        "id": "613f08b5",
        "outputId": "bfe77720-f42e-404c-e1c8-7f0c0601ba53",
        "colab": {
          "base_uri": "https://localhost:8080/"
        }
      },
      "outputs": [
        {
          "output_type": "stream",
          "name": "stdout",
          "text": [
            "3.8.16 (default, Dec  7 2022, 01:12:13) \n",
            "[GCC 7.5.0]\n"
          ]
        }
      ],
      "source": [
        "import sys\n",
        "print(sys.version)"
      ]
    },
    {
      "cell_type": "code",
      "source": [
        "#from google.colab import drive\n",
        "#drive.mount(\"/content/drive\", force_remount=True)"
      ],
      "metadata": {
        "id": "iY1o7_NmVlGs"
      },
      "id": "iY1o7_NmVlGs",
      "execution_count": 2,
      "outputs": []
    },
    {
      "cell_type": "code",
      "execution_count": 3,
      "id": "5eca1117",
      "metadata": {
        "id": "5eca1117",
        "outputId": "d0e3a89d-ef43-4e32-c958-ba6544737411",
        "colab": {
          "base_uri": "https://localhost:8080/"
        }
      },
      "outputs": [
        {
          "output_type": "stream",
          "name": "stdout",
          "text": [
            "TensorFlow version: 2.9.2\n"
          ]
        }
      ],
      "source": [
        "import tensorflow as tf\n",
        "from tensorflow import keras\n",
        "from keras import layers, models, regularizers\n",
        "from keras.layers import Flatten, add, Dense, Dropout, Conv2D, MaxPooling2D, BatchNormalization\n",
        "from keras.callbacks import ModelCheckpoint, EarlyStopping\n",
        "\n",
        "\n",
        "print(\"TensorFlow version:\", tf.__version__)\n",
        "tf.keras.backend.set_floatx('float64')"
      ]
    },
    {
      "cell_type": "code",
      "execution_count": 4,
      "id": "12022d37",
      "metadata": {
        "id": "12022d37"
      },
      "outputs": [],
      "source": [
        "import matplotlib.pyplot as plt\n",
        "import numpy as np\n",
        "import pandas as pd\n",
        "import seaborn as sns\n",
        "from PIL import Image\n",
        "import os\n",
        "import csv\n",
        "import random\n",
        "\n",
        "import cv2\n",
        "import imutils\n",
        "import glob\n",
        "# Make NumPy printouts easier to read.\n",
        "np.set_printoptions(precision=3, suppress=True)"
      ]
    },
    {
      "cell_type": "code",
      "execution_count": 5,
      "id": "1086f893",
      "metadata": {
        "id": "1086f893"
      },
      "outputs": [],
      "source": [
        "#Określenie ścieżek do plików\n",
        "test_zip = '/content/drive/MyDrive/Sieci/Baza_zdjec_zlaczone_2/Test.zip'\n",
        "test_csv = 'test.csv'\n",
        "\n",
        "train_zip = '/content/drive/MyDrive/Sieci/Baza_zdjec_zlaczone_2/Train.zip'\n",
        "train_csv = 'train.csv'\n",
        "\n",
        "folder = '/content/drive/MyDrive/Sieci/Baza_zdjec_zlaczone_2/'\n",
        "slesh = '/'\n",
        "png = '.png'"
      ]
    },
    {
      "cell_type": "code",
      "source": [
        "#!unzip '/content/drive/MyDrive/Sieci/Baza_zdjec_zlaczone_2/Train.zip' -d '/content/train/'\n",
        "#!unzip '/content/drive/MyDrive/Sieci/Baza_zdjec_zlaczone_2/Test.zip' -d '/content/test/'"
      ],
      "metadata": {
        "id": "FXtX4UDo9x77"
      },
      "id": "FXtX4UDo9x77",
      "execution_count": 6,
      "outputs": []
    },
    {
      "cell_type": "code",
      "execution_count": 7,
      "id": "d0329f31",
      "metadata": {
        "id": "d0329f31"
      },
      "outputs": [],
      "source": [
        "def release_list(a):\n",
        "    \n",
        "    del a[:]\n",
        "    del a"
      ]
    },
    {
      "cell_type": "code",
      "execution_count": 8,
      "id": "5beb89e7",
      "metadata": {
        "id": "5beb89e7",
        "outputId": "92d901d3-cf55-47ae-d8c7-4d39f63b1938",
        "colab": {
          "base_uri": "https://localhost:8080/"
        }
      },
      "outputs": [
        {
          "output_type": "stream",
          "name": "stdout",
          "text": [
            "22680\n"
          ]
        }
      ],
      "source": [
        "#Wczytanie etykiet do treninegu \n",
        "\n",
        "with open(folder+train_csv,\"r\") as csvfile:\n",
        "    lines = csvfile.readlines()\n",
        "csvfile.close()\n",
        "\n",
        "new = []\n",
        "\n",
        "for i in lines:\n",
        "    new.append(i.split(\" \"))\n",
        "\n",
        "    \n",
        "value_train = []\n",
        "for i in new[0]:\n",
        "    value_train.append(int(i))    \n",
        "    \n",
        "print(len(value_train))"
      ]
    },
    {
      "cell_type": "code",
      "source": [
        "#Wczytanie etykiet do testowania\n",
        "\n",
        "with open(folder+test_csv,\"r\") as csvfile:\n",
        "    lines = csvfile.readlines()\n",
        "csvfile.close()\n",
        "\n",
        "new = []\n",
        "\n",
        "for i in lines:\n",
        "    new.append(i.split(\" \"))\n",
        "\n",
        "    \n",
        "value_test = []\n",
        "for i in new[0]:\n",
        "    value_test.append(int(i))    \n",
        "    \n",
        "print(len(value_test))"
      ],
      "metadata": {
        "id": "_BbuBDFDgvdp",
        "colab": {
          "base_uri": "https://localhost:8080/"
        },
        "outputId": "04e7ba2a-6dd3-4298-edb9-9307d105e021"
      },
      "id": "_BbuBDFDgvdp",
      "execution_count": 9,
      "outputs": [
        {
          "output_type": "stream",
          "name": "stdout",
          "text": [
            "2520\n"
          ]
        }
      ]
    },
    {
      "cell_type": "code",
      "execution_count": 10,
      "id": "d9cb09d8",
      "metadata": {
        "id": "d9cb09d8",
        "outputId": "345f3322-9e55-41eb-b0ce-3a294156599f",
        "colab": {
          "base_uri": "https://localhost:8080/"
        }
      },
      "outputs": [
        {
          "output_type": "stream",
          "name": "stdout",
          "text": [
            "22680\n"
          ]
        }
      ],
      "source": [
        "#Wczytanie zdjęć treningowych \n",
        "images_train = []\n",
        "size = len(value_train)\n",
        "\n",
        "for i in range(size):\n",
        "    im = Image.open('/content/train/'+str(i)+'.png')\n",
        "    arr_im = np.array(im) \n",
        "    arr_im = arr_im / 255.0\n",
        "    images_train.append(arr_im) \n",
        "print(len(images_train))"
      ]
    },
    {
      "cell_type": "code",
      "source": [
        "#Wczytanie zdjęć testowych \n",
        "images_test = []\n",
        "size = len(value_test)\n",
        "\n",
        "for i in range(size):\n",
        "    im = Image.open('/content/test/'+str(i)+'.png')\n",
        "    arr_im = np.array(im) \n",
        "    arr_im = arr_im / 255.0\n",
        "    images_test.append(arr_im) \n",
        "print(len(images_test))"
      ],
      "metadata": {
        "colab": {
          "base_uri": "https://localhost:8080/"
        },
        "id": "9I51x6abky3Q",
        "outputId": "966af6c2-004a-400f-c03d-84bc229c94e3"
      },
      "id": "9I51x6abky3Q",
      "execution_count": 11,
      "outputs": [
        {
          "output_type": "stream",
          "name": "stdout",
          "text": [
            "2520\n"
          ]
        }
      ]
    },
    {
      "cell_type": "code",
      "source": [
        "#Losowanie próbek tablic\n",
        "rand_list = []\n",
        "rand_list = np.zeros((len(images_train)), dtype=np.uint8)\n",
        "\n",
        "x_train = []\n",
        "y_train = []\n",
        "\n",
        "\n",
        "#Losowanie zbioru uczącego\n",
        "for i in range(len(images_train)):\n",
        "    \n",
        "    #Pierwsze losowanie wartości\n",
        "    rand = random.randint(0,len(images_train)-1)\n",
        "    \n",
        "    #Sprawdzenie czy wylosowana wartość się powtarza\n",
        "    while (rand_list[rand] == 1) :\n",
        "        #Jeżeli tak to ponownie losuje\n",
        "        rand = random.randint(0,len(images_train)-1)\n",
        "    \n",
        "    #Zapisanie zdjecia i wartości do nowej tablicy\n",
        "    x_train.append(images_train[rand])\n",
        "    y_train.append(value_train[rand])\n",
        "    rand_list[rand] = 1\n"
      ],
      "metadata": {
        "id": "2L8diBB2C8OQ"
      },
      "id": "2L8diBB2C8OQ",
      "execution_count": 12,
      "outputs": []
    },
    {
      "cell_type": "code",
      "execution_count": 13,
      "id": "d3a370cb",
      "metadata": {
        "id": "d3a370cb",
        "outputId": "84e02e4f-7072-445c-d6bc-ca478587f79e",
        "colab": {
          "base_uri": "https://localhost:8080/",
          "height": 357
        }
      },
      "outputs": [
        {
          "output_type": "stream",
          "name": "stdout",
          "text": [
            "1\n",
            "[[0.    0.    0.    ... 0.204 0.188 0.   ]\n",
            " [0.216 0.227 0.22  ... 0.212 0.196 0.   ]\n",
            " [0.227 0.235 0.235 ... 0.216 0.2   0.   ]\n",
            " ...\n",
            " [0.    0.196 0.173 ... 0.125 0.129 0.125]\n",
            " [0.    0.184 0.173 ... 0.129 0.118 0.11 ]\n",
            " [0.    0.165 0.18  ... 0.    0.    0.   ]]\n"
          ]
        },
        {
          "output_type": "display_data",
          "data": {
            "text/plain": [
              "<Figure size 432x288 with 1 Axes>"
            ],
            "image/png": "[encoded data removed]"
          },
          "metadata": {
            "needs_background": "light"
          }
        }
      ],
      "source": [
        "a = 20000\n",
        "\n",
        "plt.imshow(x_train[a],cmap = 'gray')\n",
        "print(y_train[a])\n",
        "\n",
        "print(x_train[a])"
      ]
    },
    {
      "cell_type": "code",
      "execution_count": 14,
      "id": "f7f4dd4b",
      "metadata": {
        "id": "f7f4dd4b"
      },
      "outputs": [],
      "source": [
        "x_train = np.array(x_train)\n",
        "x_test = np.array(images_test)\n",
        "\n",
        "y_train = np.array(y_train)\n",
        "y_test = np.array(value_test)"
      ]
    },
    {
      "cell_type": "code",
      "execution_count": 15,
      "id": "772c7d7c",
      "metadata": {
        "id": "772c7d7c"
      },
      "outputs": [],
      "source": [
        "model = models.Sequential()\n",
        "model.add(layers.Conv2D(32, (3, 3), activation='relu', input_shape=(64, 128, 1)))\n",
        "model.add(layers.MaxPooling2D((2, 2)))\n",
        "model.add(layers.Conv2D(32, (3, 3), activation='relu'))\n",
        "model.add(layers.MaxPooling2D((2, 2)))\n",
        "\n",
        "model.add(layers.BatchNormalization())\n",
        "\n",
        "model.add(layers.Conv2D(64, (3, 3), activation='relu'))\n",
        "model.add(layers.MaxPooling2D((2, 2)))\n",
        "model.add(layers.Conv2D(64, (3, 3), activation='relu'))\n",
        "model.add(layers.MaxPooling2D((2, 2)))\n",
        "\n",
        "model.add(layers.BatchNormalization())\n",
        "\n",
        "\n",
        "model.add(layers.Flatten())\n",
        "model.add(layers.Dense(64, activation='relu'))\n",
        "model.add(layers.Dense(1, activation='relu'))\n"
      ]
    },
    {
      "cell_type": "code",
      "execution_count": 16,
      "id": "b86f72df",
      "metadata": {
        "id": "b86f72df",
        "outputId": "c2158022-bf42-4889-d234-e5668b595416",
        "colab": {
          "base_uri": "https://localhost:8080/"
        }
      },
      "outputs": [
        {
          "output_type": "stream",
          "name": "stdout",
          "text": [
            "Model: \"sequential\"\n",
            "_________________________________________________________________\n",
            " Layer (type)                Output Shape              Param #   \n",
            "=================================================================\n",
            " conv2d (Conv2D)             (None, 62, 126, 32)       320       \n",
            "                                                                 \n",
            " max_pooling2d (MaxPooling2D  (None, 31, 63, 32)       0         \n",
            " )                                                               \n",
            "                                                                 \n",
            " conv2d_1 (Conv2D)           (None, 29, 61, 32)        9248      \n",
            "                                                                 \n",
            " max_pooling2d_1 (MaxPooling  (None, 14, 30, 32)       0         \n",
            " 2D)                                                             \n",
            "                                                                 \n",
            " batch_normalization (BatchN  (None, 14, 30, 32)       128       \n",
            " ormalization)                                                   \n",
            "                                                                 \n",
            " conv2d_2 (Conv2D)           (None, 12, 28, 64)        18496     \n",
            "                                                                 \n",
            " max_pooling2d_2 (MaxPooling  (None, 6, 14, 64)        0         \n",
            " 2D)                                                             \n",
            "                                                                 \n",
            " conv2d_3 (Conv2D)           (None, 4, 12, 64)         36928     \n",
            "                                                                 \n",
            " max_pooling2d_3 (MaxPooling  (None, 2, 6, 64)         0         \n",
            " 2D)                                                             \n",
            "                                                                 \n",
            " batch_normalization_1 (Batc  (None, 2, 6, 64)         256       \n",
            " hNormalization)                                                 \n",
            "                                                                 \n",
            " flatten (Flatten)           (None, 768)               0         \n",
            "                                                                 \n",
            " dense (Dense)               (None, 64)                49216     \n",
            "                                                                 \n",
            " dense_1 (Dense)             (None, 1)                 65        \n",
            "                                                                 \n",
            "=================================================================\n",
            "Total params: 114,657\n",
            "Trainable params: 114,465\n",
            "Non-trainable params: 192\n",
            "_________________________________________________________________\n"
          ]
        }
      ],
      "source": [
        "model.summary()"
      ]
    },
    {
      "cell_type": "code",
      "execution_count": 17,
      "id": "9beb77e5",
      "metadata": {
        "id": "9beb77e5",
        "outputId": "eae7e1f2-ef13-476c-ab9c-6af191fecef1",
        "colab": {
          "base_uri": "https://localhost:8080/"
        }
      },
      "outputs": [
        {
          "output_type": "stream",
          "name": "stdout",
          "text": [
            "Epoch 1/100\n",
            "160/160 [==============================] - 28s 142ms/step - loss: 0.1862 - accuracy: 0.8061 - mse: 0.1862 - val_loss: 0.6035 - val_accuracy: 0.5062 - val_mse: 0.6035\n",
            "Epoch 2/100\n",
            "160/160 [==============================] - 22s 136ms/step - loss: 0.0212 - accuracy: 0.9879 - mse: 0.0212 - val_loss: 1.1777 - val_accuracy: 0.5071 - val_mse: 1.1777\n",
            "Epoch 3/100\n",
            "160/160 [==============================] - 23s 144ms/step - loss: 0.0095 - accuracy: 0.9979 - mse: 0.0095 - val_loss: 0.2134 - val_accuracy: 0.7354 - val_mse: 0.2134\n",
            "Epoch 4/100\n",
            "160/160 [==============================] - 23s 145ms/step - loss: 0.0048 - accuracy: 0.9996 - mse: 0.0048 - val_loss: 0.0228 - val_accuracy: 0.9877 - val_mse: 0.0228\n",
            "Epoch 5/100\n",
            "160/160 [==============================] - 24s 148ms/step - loss: 0.0034 - accuracy: 0.9999 - mse: 0.0034 - val_loss: 0.0075 - val_accuracy: 0.9978 - val_mse: 0.0075\n",
            "Epoch 6/100\n",
            "160/160 [==============================] - 23s 146ms/step - loss: 0.0027 - accuracy: 1.0000 - mse: 0.0027 - val_loss: 0.0059 - val_accuracy: 0.9987 - val_mse: 0.0059\n",
            "Epoch 7/100\n",
            "160/160 [==============================] - 23s 146ms/step - loss: 0.0018 - accuracy: 1.0000 - mse: 0.0018 - val_loss: 0.0031 - val_accuracy: 0.9991 - val_mse: 0.0031\n",
            "Epoch 8/100\n",
            "160/160 [==============================] - 24s 147ms/step - loss: 0.0016 - accuracy: 1.0000 - mse: 0.0016 - val_loss: 0.0024 - val_accuracy: 0.9996 - val_mse: 0.0024\n",
            "Epoch 9/100\n",
            "160/160 [==============================] - 23s 147ms/step - loss: 0.0014 - accuracy: 1.0000 - mse: 0.0014 - val_loss: 0.0021 - val_accuracy: 0.9996 - val_mse: 0.0021\n",
            "Epoch 10/100\n",
            "160/160 [==============================] - 24s 149ms/step - loss: 0.0011 - accuracy: 1.0000 - mse: 0.0011 - val_loss: 0.0018 - val_accuracy: 1.0000 - val_mse: 0.0018\n",
            "Epoch 11/100\n",
            "160/160 [==============================] - 24s 148ms/step - loss: 9.0555e-04 - accuracy: 1.0000 - mse: 9.0555e-04 - val_loss: 0.0011 - val_accuracy: 1.0000 - val_mse: 0.0011\n",
            "Epoch 12/100\n",
            "160/160 [==============================] - 23s 141ms/step - loss: 6.6902e-04 - accuracy: 1.0000 - mse: 6.6902e-04 - val_loss: 0.0012 - val_accuracy: 0.9996 - val_mse: 0.0012\n",
            "Epoch 13/100\n",
            "160/160 [==============================] - 23s 141ms/step - loss: 6.4548e-04 - accuracy: 1.0000 - mse: 6.4548e-04 - val_loss: 0.0020 - val_accuracy: 1.0000 - val_mse: 0.0020\n",
            "Epoch 14/100\n",
            "160/160 [==============================] - 23s 141ms/step - loss: 6.4232e-04 - accuracy: 1.0000 - mse: 6.4232e-04 - val_loss: 0.0038 - val_accuracy: 0.9991 - val_mse: 0.0038\n",
            "Epoch 15/100\n",
            "160/160 [==============================] - 24s 148ms/step - loss: 7.1636e-04 - accuracy: 1.0000 - mse: 7.1636e-04 - val_loss: 0.0011 - val_accuracy: 1.0000 - val_mse: 0.0011\n",
            "Epoch 16/100\n",
            "160/160 [==============================] - 24s 149ms/step - loss: 4.7965e-04 - accuracy: 1.0000 - mse: 4.7965e-04 - val_loss: 8.1787e-04 - val_accuracy: 1.0000 - val_mse: 8.1787e-04\n",
            "Epoch 17/100\n",
            "160/160 [==============================] - 24s 149ms/step - loss: 4.7647e-04 - accuracy: 1.0000 - mse: 4.7647e-04 - val_loss: 8.1279e-04 - val_accuracy: 0.9996 - val_mse: 8.1279e-04\n",
            "Epoch 18/100\n",
            "160/160 [==============================] - 23s 141ms/step - loss: 5.4166e-04 - accuracy: 1.0000 - mse: 5.4166e-04 - val_loss: 0.0031 - val_accuracy: 0.9996 - val_mse: 0.0031\n",
            "Epoch 19/100\n",
            "160/160 [==============================] - 23s 141ms/step - loss: 5.6324e-04 - accuracy: 1.0000 - mse: 5.6324e-04 - val_loss: 0.0031 - val_accuracy: 0.9996 - val_mse: 0.0031\n",
            "Epoch 20/100\n",
            "160/160 [==============================] - 23s 142ms/step - loss: 9.6247e-04 - accuracy: 1.0000 - mse: 9.6247e-04 - val_loss: 0.0027 - val_accuracy: 0.9996 - val_mse: 0.0027\n",
            "Epoch 21/100\n",
            "160/160 [==============================] - 23s 141ms/step - loss: 0.0058 - accuracy: 0.9972 - mse: 0.0058 - val_loss: 0.0070 - val_accuracy: 0.9982 - val_mse: 0.0070\n",
            "Epoch 22/100\n",
            "160/160 [==============================] - 23s 141ms/step - loss: 9.3710e-04 - accuracy: 0.9998 - mse: 9.3710e-04 - val_loss: 0.0010 - val_accuracy: 1.0000 - val_mse: 0.0010\n",
            "Epoch 23/100\n",
            "160/160 [==============================] - 24s 148ms/step - loss: 3.8927e-04 - accuracy: 1.0000 - mse: 3.8927e-04 - val_loss: 7.7868e-04 - val_accuracy: 1.0000 - val_mse: 7.7868e-04\n",
            "Epoch 24/100\n",
            "160/160 [==============================] - 24s 150ms/step - loss: 2.3945e-04 - accuracy: 1.0000 - mse: 2.3945e-04 - val_loss: 4.3390e-04 - val_accuracy: 1.0000 - val_mse: 4.3390e-04\n",
            "Epoch 25/100\n",
            "160/160 [==============================] - 24s 148ms/step - loss: 1.8831e-04 - accuracy: 1.0000 - mse: 1.8831e-04 - val_loss: 3.2058e-04 - val_accuracy: 1.0000 - val_mse: 3.2058e-04\n",
            "Epoch 26/100\n",
            "160/160 [==============================] - 24s 149ms/step - loss: 1.5482e-04 - accuracy: 1.0000 - mse: 1.5482e-04 - val_loss: 2.7068e-04 - val_accuracy: 1.0000 - val_mse: 2.7068e-04\n",
            "Epoch 27/100\n",
            "160/160 [==============================] - 23s 141ms/step - loss: 2.0248e-04 - accuracy: 1.0000 - mse: 2.0248e-04 - val_loss: 2.7588e-04 - val_accuracy: 1.0000 - val_mse: 2.7588e-04\n",
            "Epoch 28/100\n",
            "160/160 [==============================] - 24s 149ms/step - loss: 1.3715e-04 - accuracy: 1.0000 - mse: 1.3715e-04 - val_loss: 2.2671e-04 - val_accuracy: 1.0000 - val_mse: 2.2671e-04\n",
            "Epoch 29/100\n",
            "160/160 [==============================] - 24s 149ms/step - loss: 1.3994e-04 - accuracy: 1.0000 - mse: 1.3994e-04 - val_loss: 1.9427e-04 - val_accuracy: 1.0000 - val_mse: 1.9427e-04\n",
            "Epoch 30/100\n",
            "160/160 [==============================] - 23s 141ms/step - loss: 1.2925e-04 - accuracy: 1.0000 - mse: 1.2925e-04 - val_loss: 2.2208e-04 - val_accuracy: 1.0000 - val_mse: 2.2208e-04\n",
            "Epoch 31/100\n",
            "160/160 [==============================] - 24s 148ms/step - loss: 1.0805e-04 - accuracy: 1.0000 - mse: 1.0805e-04 - val_loss: 1.1650e-04 - val_accuracy: 1.0000 - val_mse: 1.1650e-04\n",
            "Epoch 32/100\n",
            "160/160 [==============================] - 23s 141ms/step - loss: 9.0482e-05 - accuracy: 1.0000 - mse: 9.0482e-05 - val_loss: 1.6954e-04 - val_accuracy: 1.0000 - val_mse: 1.6954e-04\n",
            "Epoch 33/100\n",
            "160/160 [==============================] - 23s 142ms/step - loss: 8.0247e-05 - accuracy: 1.0000 - mse: 8.0247e-05 - val_loss: 2.3219e-04 - val_accuracy: 1.0000 - val_mse: 2.3219e-04\n",
            "Epoch 34/100\n",
            "160/160 [==============================] - 23s 141ms/step - loss: 1.2797e-04 - accuracy: 1.0000 - mse: 1.2797e-04 - val_loss: 1.4648e-04 - val_accuracy: 1.0000 - val_mse: 1.4648e-04\n",
            "Epoch 35/100\n",
            "160/160 [==============================] - 23s 141ms/step - loss: 1.1173e-04 - accuracy: 1.0000 - mse: 1.1173e-04 - val_loss: 6.0975e-04 - val_accuracy: 1.0000 - val_mse: 6.0975e-04\n",
            "Epoch 36/100\n",
            "160/160 [==============================] - 23s 141ms/step - loss: 0.0070 - accuracy: 0.9932 - mse: 0.0070 - val_loss: 0.5062 - val_accuracy: 0.4938 - val_mse: 0.5062\n",
            "Epoch 37/100\n",
            "160/160 [==============================] - 23s 141ms/step - loss: 0.0022 - accuracy: 0.9986 - mse: 0.0022 - val_loss: 0.0061 - val_accuracy: 0.9947 - val_mse: 0.0061\n",
            "Epoch 38/100\n",
            "160/160 [==============================] - 23s 141ms/step - loss: 5.3324e-04 - accuracy: 1.0000 - mse: 5.3324e-04 - val_loss: 5.3498e-04 - val_accuracy: 1.0000 - val_mse: 5.3498e-04\n",
            "Epoch 39/100\n",
            "160/160 [==============================] - 23s 141ms/step - loss: 3.0741e-04 - accuracy: 1.0000 - mse: 3.0741e-04 - val_loss: 5.0056e-04 - val_accuracy: 1.0000 - val_mse: 5.0056e-04\n",
            "Epoch 40/100\n",
            "160/160 [==============================] - 23s 144ms/step - loss: 1.5957e-04 - accuracy: 1.0000 - mse: 1.5957e-04 - val_loss: 1.5712e-04 - val_accuracy: 1.0000 - val_mse: 1.5712e-04\n",
            "Epoch 41/100\n",
            "160/160 [==============================] - 24s 148ms/step - loss: 1.1291e-04 - accuracy: 1.0000 - mse: 1.1291e-04 - val_loss: 9.9693e-05 - val_accuracy: 1.0000 - val_mse: 9.9693e-05\n",
            "Epoch 42/100\n",
            "160/160 [==============================] - 23s 142ms/step - loss: 1.0054e-04 - accuracy: 1.0000 - mse: 1.0054e-04 - val_loss: 1.2441e-04 - val_accuracy: 1.0000 - val_mse: 1.2441e-04\n",
            "Epoch 43/100\n",
            "160/160 [==============================] - 24s 148ms/step - loss: 9.9925e-05 - accuracy: 1.0000 - mse: 9.9925e-05 - val_loss: 8.6548e-05 - val_accuracy: 1.0000 - val_mse: 8.6548e-05\n",
            "Epoch 44/100\n",
            "160/160 [==============================] - 24s 148ms/step - loss: 8.3429e-05 - accuracy: 1.0000 - mse: 8.3429e-05 - val_loss: 7.7140e-05 - val_accuracy: 1.0000 - val_mse: 7.7140e-05\n",
            "Epoch 45/100\n",
            "160/160 [==============================] - 24s 148ms/step - loss: 7.3425e-05 - accuracy: 1.0000 - mse: 7.3425e-05 - val_loss: 6.1738e-05 - val_accuracy: 1.0000 - val_mse: 6.1738e-05\n",
            "Epoch 46/100\n",
            "160/160 [==============================] - 24s 147ms/step - loss: 7.2343e-05 - accuracy: 1.0000 - mse: 7.2343e-05 - val_loss: 5.7476e-05 - val_accuracy: 1.0000 - val_mse: 5.7476e-05\n",
            "Epoch 47/100\n",
            "160/160 [==============================] - 24s 148ms/step - loss: 7.1052e-05 - accuracy: 1.0000 - mse: 7.1052e-05 - val_loss: 5.7222e-05 - val_accuracy: 1.0000 - val_mse: 5.7222e-05\n",
            "Epoch 48/100\n",
            "160/160 [==============================] - 23s 141ms/step - loss: 6.6666e-05 - accuracy: 1.0000 - mse: 6.6666e-05 - val_loss: 1.3838e-04 - val_accuracy: 1.0000 - val_mse: 1.3838e-04\n",
            "Epoch 49/100\n",
            "160/160 [==============================] - 24s 148ms/step - loss: 6.9937e-05 - accuracy: 1.0000 - mse: 6.9937e-05 - val_loss: 4.0660e-05 - val_accuracy: 1.0000 - val_mse: 4.0660e-05\n",
            "Epoch 50/100\n",
            "160/160 [==============================] - 23s 141ms/step - loss: 8.3492e-05 - accuracy: 1.0000 - mse: 8.3492e-05 - val_loss: 3.5053e-04 - val_accuracy: 1.0000 - val_mse: 3.5053e-04\n",
            "Epoch 51/100\n",
            "160/160 [==============================] - 23s 141ms/step - loss: 8.7939e-04 - accuracy: 0.9993 - mse: 8.7939e-04 - val_loss: 0.0672 - val_accuracy: 0.9158 - val_mse: 0.0672\n",
            "Epoch 52/100\n",
            "160/160 [==============================] - 23s 141ms/step - loss: 0.0036 - accuracy: 0.9967 - mse: 0.0036 - val_loss: 0.0094 - val_accuracy: 0.9912 - val_mse: 0.0094\n",
            "Epoch 53/100\n",
            "160/160 [==============================] - 23s 141ms/step - loss: 4.7980e-04 - accuracy: 0.9997 - mse: 4.7980e-04 - val_loss: 3.6004e-04 - val_accuracy: 1.0000 - val_mse: 3.6004e-04\n",
            "Epoch 54/100\n",
            "160/160 [==============================] - 23s 141ms/step - loss: 1.3125e-04 - accuracy: 1.0000 - mse: 1.3125e-04 - val_loss: 2.2234e-04 - val_accuracy: 1.0000 - val_mse: 2.2234e-04\n",
            "Epoch 55/100\n",
            "160/160 [==============================] - 23s 142ms/step - loss: 9.5940e-05 - accuracy: 1.0000 - mse: 9.5940e-05 - val_loss: 1.1204e-04 - val_accuracy: 1.0000 - val_mse: 1.1204e-04\n",
            "Epoch 56/100\n",
            "160/160 [==============================] - 22s 140ms/step - loss: 6.9439e-05 - accuracy: 1.0000 - mse: 6.9439e-05 - val_loss: 1.0442e-04 - val_accuracy: 1.0000 - val_mse: 1.0442e-04\n",
            "Epoch 57/100\n",
            "160/160 [==============================] - 23s 141ms/step - loss: 6.6831e-05 - accuracy: 1.0000 - mse: 6.6831e-05 - val_loss: 5.4204e-05 - val_accuracy: 1.0000 - val_mse: 5.4204e-05\n",
            "Epoch 58/100\n",
            "160/160 [==============================] - 23s 141ms/step - loss: 5.5232e-05 - accuracy: 1.0000 - mse: 5.5232e-05 - val_loss: 7.4403e-05 - val_accuracy: 1.0000 - val_mse: 7.4403e-05\n",
            "Epoch 59/100\n",
            "160/160 [==============================] - 22s 140ms/step - loss: 4.6251e-05 - accuracy: 1.0000 - mse: 4.6251e-05 - val_loss: 7.2176e-05 - val_accuracy: 1.0000 - val_mse: 7.2176e-05\n",
            "Epoch 59: early stopping\n"
          ]
        }
      ],
      "source": [
        "model.compile(optimizer='adam',\n",
        "              loss='mse',\n",
        "              metrics=['accuracy','mse'])\n",
        "\n",
        "#Funcka umożliwia zatrzymanie się uczenia \n",
        "#gdy wartość strat przstanie maleć\n",
        "EarlyStop = EarlyStopping(monitor='val_loss',  \n",
        "                          verbose=1, \n",
        "                          patience=10)\n",
        "\n",
        "\n",
        "ModelCheck = ModelCheckpoint(filepath='/content/drive/MyDrive/Sieci/Zlaczone.h5',\n",
        "                             monitor='val_loss',\n",
        "                             save_best_only=True)\n",
        "\n",
        "\n",
        "history = model.fit(x=x_train, \n",
        "                    y=y_train, \n",
        "                    epochs=100,\n",
        "                    batch_size=128,\n",
        "                    validation_split=0.1,\n",
        "                    #validation_data = (x_test, y_test),\n",
        "                    callbacks = [EarlyStop, ModelCheck]\n",
        "                   )"
      ]
    },
    {
      "cell_type": "code",
      "execution_count": 18,
      "id": "fe8633db",
      "metadata": {
        "id": "fe8633db",
        "colab": {
          "base_uri": "https://localhost:8080/",
          "height": 300
        },
        "outputId": "ec146a18-c37c-43d4-cf6b-538ddb85399f"
      },
      "outputs": [
        {
          "output_type": "execute_result",
          "data": {
            "text/plain": [
              "<matplotlib.legend.Legend at 0x7fc016557280>"
            ]
          },
          "metadata": {},
          "execution_count": 18
        },
        {
          "output_type": "display_data",
          "data": {
            "text/plain": [
              "<Figure size 432x288 with 1 Axes>"
            ],
            "image/png": "[encoded data removed]"
          },
          "metadata": {
            "needs_background": "light"
          }
        }
      ],
      "source": [
        "plt.plot(history.history['loss'], label='strata')\n",
        "plt.plot(history.history['val_loss'], label = 'strata walidacyjna')\n",
        "plt.xlabel('Epoka')\n",
        "plt.ylabel('Strata')\n",
        "plt.ylim([0.0, 0.5])\n",
        "plt.legend(loc='upper right')"
      ]
    },
    {
      "cell_type": "code",
      "execution_count": 19,
      "id": "8b976089",
      "metadata": {
        "scrolled": true,
        "id": "8b976089",
        "colab": {
          "base_uri": "https://localhost:8080/",
          "height": 300
        },
        "outputId": "4fe43df9-ea59-472e-82af-e7515d1d4caa"
      },
      "outputs": [
        {
          "output_type": "execute_result",
          "data": {
            "text/plain": [
              "<matplotlib.legend.Legend at 0x7fc0164f92e0>"
            ]
          },
          "metadata": {},
          "execution_count": 19
        },
        {
          "output_type": "display_data",
          "data": {
            "text/plain": [
              "<Figure size 432x288 with 1 Axes>"
            ],
            "image/png": "[encoded data removed]"
          },
          "metadata": {
            "needs_background": "light"
          }
        }
      ],
      "source": [
        "plt.plot(history.history['accuracy'], label='precyzja')\n",
        "plt.plot(history.history['val_accuracy'], label = 'precyzja walidacyjna')\n",
        "plt.xlabel('Epoka')\n",
        "plt.ylabel('Precyzja')\n",
        "plt.ylim([0.5, 1])\n",
        "plt.legend(loc='lower right')"
      ]
    },
    {
      "cell_type": "code",
      "source": [
        "best_model = tf.keras.models.load_model('/content/drive/MyDrive/Sieci/Zlaczone.h5')\n"
      ],
      "metadata": {
        "id": "HWqm9BVzLHfw"
      },
      "id": "HWqm9BVzLHfw",
      "execution_count": 20,
      "outputs": []
    },
    {
      "cell_type": "code",
      "execution_count": 21,
      "id": "685a286c",
      "metadata": {
        "id": "685a286c",
        "colab": {
          "base_uri": "https://localhost:8080/"
        },
        "outputId": "e9b0b9d0-be56-433c-fd8c-c2b43bb2ab8f"
      },
      "outputs": [
        {
          "output_type": "stream",
          "name": "stdout",
          "text": [
            "79/79 - 1s - loss: 0.1257 - accuracy: 0.8429 - mse: 0.1257 - 1s/epoch - 19ms/step\n"
          ]
        },
        {
          "output_type": "execute_result",
          "data": {
            "text/plain": [
              "[0.12567794973433727, 0.8428571428571429, 0.12567794973433727]"
            ]
          },
          "metadata": {},
          "execution_count": 21
        }
      ],
      "source": [
        "best_model.evaluate(x_test,  y_test, verbose=2)"
      ]
    },
    {
      "cell_type": "code",
      "execution_count": 22,
      "id": "ee941c13",
      "metadata": {
        "id": "ee941c13",
        "colab": {
          "base_uri": "https://localhost:8080/"
        },
        "outputId": "400c5c63-8b3a-464f-e0ac-72ce0ab3594d"
      },
      "outputs": [
        {
          "output_type": "stream",
          "name": "stdout",
          "text": [
            "79/79 [==============================] - 1s 11ms/step\n"
          ]
        }
      ],
      "source": [
        "predict_x = best_model.predict(x_test) \n",
        "\n",
        "predictions = (predict_x > 0.5).astype(\"int32\")"
      ]
    },
    {
      "cell_type": "code",
      "execution_count": 23,
      "id": "d8fb12f1",
      "metadata": {
        "id": "d8fb12f1",
        "colab": {
          "base_uri": "https://localhost:8080/"
        },
        "outputId": "de3ec991-31b8-4632-9d61-14dcf8b1a56a"
      },
      "outputs": [
        {
          "output_type": "stream",
          "name": "stdout",
          "text": [
            "[['Tn' 'Nn']\n",
            " ['Np' 'Tp']]\n",
            "tf.Tensor(\n",
            "[[ 880  380]\n",
            " [  16 1244]], shape=(2, 2), dtype=int32)\n"
          ]
        }
      ],
      "source": [
        "names = [['Tn','Nn'],['Np', 'Tp']]\n",
        "names = np.reshape(names,(2,2))\n",
        "print(names)\n",
        "\n",
        "conf = tf.math.confusion_matrix(y_test,predictions)\n",
        "\n",
        "print(conf)"
      ]
    }
  ],
  "metadata": {
    "kernelspec": {
      "display_name": "py39",
      "language": "python",
      "name": "py39"
    },
    "language_info": {
      "codemirror_mode": {
        "name": "ipython",
        "version": 3
      },
      "file_extension": ".py",
      "mimetype": "text/x-python",
      "name": "python",
      "nbconvert_exporter": "python",
      "pygments_lexer": "ipython3",
      "version": "3.9.12"
    },
    "colab": {
      "provenance": [],
      "include_colab_link": true
    },
    "accelerator": "GPU",
    "gpuClass": "standard"
  },
  "nbformat": 4,
  "nbformat_minor": 5
}