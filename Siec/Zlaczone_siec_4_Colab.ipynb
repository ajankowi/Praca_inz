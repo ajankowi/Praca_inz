{
  "cells": [
    {
      "cell_type": "markdown",
      "metadata": {
        "id": "view-in-github",
        "colab_type": "text"
      },
      "source": [
        "<a href=\"https://colab.research.google.com/github/ajankowi/Praca_inz/blob/master/Siec/Zlaczone_siec_4_Colab.ipynb\" target=\"_parent\"><img src=\"https://colab.research.google.com/assets/colab-badge.svg\" alt=\"Open In Colab\"/></a>"
      ]
    },
    {
      "cell_type": "code",
      "execution_count": 1,
      "id": "613f08b5",
      "metadata": {
        "id": "613f08b5",
        "outputId": "cc003696-b58c-4ed6-b110-2f6a3f8f2de2",
        "colab": {
          "base_uri": "https://localhost:8080/"
        }
      },
      "outputs": [
        {
          "output_type": "stream",
          "name": "stdout",
          "text": [
            "3.8.16 (default, Dec  7 2022, 01:12:13) \n",
            "[GCC 7.5.0]\n"
          ]
        }
      ],
      "source": [
        "import sys\n",
        "print(sys.version)"
      ]
    },
    {
      "cell_type": "code",
      "source": [
        "#from google.colab import drive\n",
        "#drive.mount(\"/content/drive\", force_remount=True)"
      ],
      "metadata": {
        "id": "iY1o7_NmVlGs"
      },
      "id": "iY1o7_NmVlGs",
      "execution_count": 2,
      "outputs": []
    },
    {
      "cell_type": "code",
      "execution_count": 3,
      "id": "5eca1117",
      "metadata": {
        "id": "5eca1117",
        "outputId": "d9709652-380d-4d41-91b8-df8cbac0f979",
        "colab": {
          "base_uri": "https://localhost:8080/"
        }
      },
      "outputs": [
        {
          "output_type": "stream",
          "name": "stdout",
          "text": [
            "TensorFlow version: 2.9.2\n"
          ]
        }
      ],
      "source": [
        "import tensorflow as tf\n",
        "from tensorflow.keras import layers, models, regularizers\n",
        "from tensorflow.keras.layers import Flatten, add, Dense, Dropout \n",
        "from tensorflow.keras.callbacks import ModelCheckpoint, EarlyStopping\n",
        "\n",
        "\n",
        "print(\"TensorFlow version:\", tf.__version__)\n",
        "tf.keras.backend.set_floatx('float64')"
      ]
    },
    {
      "cell_type": "code",
      "execution_count": 4,
      "id": "12022d37",
      "metadata": {
        "id": "12022d37"
      },
      "outputs": [],
      "source": [
        "import matplotlib.pyplot as plt\n",
        "import numpy as np\n",
        "import pandas as pd\n",
        "import seaborn as sns\n",
        "from PIL import Image\n",
        "import os\n",
        "import csv\n",
        "import random\n",
        "\n",
        "import cv2\n",
        "import imutils\n",
        "import glob\n",
        "# Make NumPy printouts easier to read.\n",
        "np.set_printoptions(precision=3, suppress=True)"
      ]
    },
    {
      "cell_type": "code",
      "execution_count": 5,
      "id": "1086f893",
      "metadata": {
        "id": "1086f893"
      },
      "outputs": [],
      "source": [
        "#Określenie ścieżek do plików\n",
        "zip = '/content/drive/MyDrive/Sieci/Baza_zdjec_zlaczone_2/Baza_zdjec_zlaczone_2.zip'\n",
        "nazwa_CSV = 'nowe.csv'\n",
        "folder = '/content/drive/MyDrive/Sieci/Baza_zdjec_zlaczone_2/'\n",
        "folder_aktorzy = '/content/drive/MyDrive/Sieci/Baza_aktorzy_zlaczone/'\n",
        "aktorzy_CSV = 'aktorzy.csv'\n",
        "slesh = '/'\n",
        "png = '.png'"
      ]
    },
    {
      "cell_type": "code",
      "source": [
        "#!unzip '/content/drive/MyDrive/Sieci/Baza_zdjec_zlaczone_2/Baza_zdjec_zlaczone_2.zip' -d '/content'"
      ],
      "metadata": {
        "id": "FXtX4UDo9x77"
      },
      "id": "FXtX4UDo9x77",
      "execution_count": 6,
      "outputs": []
    },
    {
      "cell_type": "code",
      "execution_count": 7,
      "id": "d0329f31",
      "metadata": {
        "id": "d0329f31"
      },
      "outputs": [],
      "source": [
        "def release_list(a):\n",
        "    \n",
        "    del a[:]\n",
        "    del a"
      ]
    },
    {
      "cell_type": "code",
      "execution_count": 8,
      "id": "5beb89e7",
      "metadata": {
        "id": "5beb89e7",
        "outputId": "3d9e9394-d4b9-4d16-c289-d448657d58b2",
        "colab": {
          "base_uri": "https://localhost:8080/"
        }
      },
      "outputs": [
        {
          "output_type": "stream",
          "name": "stdout",
          "text": [
            "25200\n"
          ]
        }
      ],
      "source": [
        "#Wczytanie pliku CSV do tablicy images\n",
        "\n",
        "with open(folder+nazwa_CSV,\"r\") as csvfile:\n",
        "    lines = csvfile.readlines()\n",
        "csvfile.close()\n",
        "\n",
        "new = []\n",
        "\n",
        "for i in lines:\n",
        "    new.append(i.split(\" \"))\n",
        "\n",
        "    \n",
        "value = []\n",
        "for i in new[0]:\n",
        "    value.append(int(i))    \n",
        "    \n",
        "print(len(value))"
      ]
    },
    {
      "cell_type": "code",
      "execution_count": 9,
      "id": "d9cb09d8",
      "metadata": {
        "id": "d9cb09d8",
        "outputId": "b47b6bae-7611-4230-fb29-ac54b4cc9aed",
        "colab": {
          "base_uri": "https://localhost:8080/"
        }
      },
      "outputs": [
        {
          "output_type": "stream",
          "name": "stdout",
          "text": [
            "25200\n"
          ]
        }
      ],
      "source": [
        "#Wczytanie zdjęć do tablicy images\n",
        "images = []\n",
        "size = len(value)\n",
        "\n",
        "for i in range(size):\n",
        "    im = Image.open('/content/'+str(i)+'.png')\n",
        "    arr_im = np.array(im) \n",
        "    arr_im = arr_im / 255.0\n",
        "    images.append(arr_im) \n",
        "print(len(images))"
      ]
    },
    {
      "cell_type": "code",
      "execution_count": 10,
      "id": "44a7c0bf",
      "metadata": {
        "id": "44a7c0bf"
      },
      "outputs": [],
      "source": [
        "#Inicjalizacja tablic\n",
        "rand_list = []\n",
        "rand_list = np.zeros((len(images)), dtype=np.uint8)\n",
        "\n",
        "x_test = []\n",
        "y_test = []\n",
        "\n",
        "x_train = []\n",
        "y_train = []\n",
        "\n",
        "\n",
        "#Okreslanie wielkosci zbiorów\n",
        "nighty = int(len(images)*90/100)\n",
        "ten = len(images) - nighty\n",
        "\n",
        "#Losowanie zbioru testowego\n",
        "for i in range(nighty):\n",
        "    \n",
        "    #Pierwsze losowanie wartości\n",
        "    rand = random.randint(0,len(images)-1)\n",
        "    \n",
        "    #Sprawdzenie czy wylosowana wartość się powtarza\n",
        "    while (rand_list[rand] == 1) :\n",
        "        #Jeżeli tak to ponownie losuje\n",
        "        rand = random.randint(0,len(images)-1)\n",
        "    \n",
        "    #Zapisanie zdjecia i wartości do nowej tablicy\n",
        "    x_train.append(images[rand])\n",
        "    y_train.append(value[rand])\n",
        "    rand_list[rand] = 1\n",
        "\n",
        "#Losowanie zbioru uczącego\n",
        "for j in range(ten):\n",
        "    \n",
        "    #Pierwsze losowanie wartości\n",
        "    rand = random.randint(0,len(images)-1)\n",
        "    \n",
        "    #Sprawdzenie czy wylosowana wartość się powtarza\n",
        "    while (rand_list[rand] == 1) :\n",
        "        #Jeżeli tak to ponownie losuje\n",
        "        rand = random.randint(0,len(images)-1)\n",
        "        \n",
        "    #Zapisanie zdjecia i wartości do nowej tablicy\n",
        "    x_test.append(images[rand])\n",
        "    y_test.append(value[rand])\n",
        "    rand_list[rand] = 1\n",
        "    \n",
        "    \n",
        "release_list(images)\n",
        "release_list(value)"
      ]
    },
    {
      "cell_type": "code",
      "execution_count": 11,
      "id": "8fccbbcc",
      "metadata": {
        "id": "8fccbbcc",
        "outputId": "12412420-f719-4a56-c925-3b036deaf697",
        "colab": {
          "base_uri": "https://localhost:8080/"
        }
      },
      "outputs": [
        {
          "output_type": "stream",
          "name": "stdout",
          "text": [
            "10.06%\n",
            "89.94%\n"
          ]
        }
      ],
      "source": [
        "#Sprawdzenie poprawności losowania\n",
        "val_1 = 100 * sum(y_test) / (size / 2)\n",
        "print(\"%.2f\" % val_1 + '%') \n",
        "\n",
        "\n",
        "val_2 = 100 * sum(y_train) / (size / 2)\n",
        "print(\"%.2f\" % val_2 + '%') \n",
        "\n",
        "\n"
      ]
    },
    {
      "cell_type": "code",
      "execution_count": 12,
      "id": "f7f4dd4b",
      "metadata": {
        "id": "f7f4dd4b"
      },
      "outputs": [],
      "source": [
        "x_train = np.array(x_train)\n",
        "x_test = np.array(x_test)\n",
        "\n",
        "y_train = np.array(y_train)\n",
        "y_test = np.array(y_test)"
      ]
    },
    {
      "cell_type": "code",
      "execution_count": 13,
      "id": "d3a370cb",
      "metadata": {
        "id": "d3a370cb",
        "outputId": "01fe05cd-9cff-4764-c910-63d6b6f3e0fe",
        "colab": {
          "base_uri": "https://localhost:8080/",
          "height": 357
        }
      },
      "outputs": [
        {
          "output_type": "stream",
          "name": "stdout",
          "text": [
            "[[0.424 0.043 0.427 ... 0.6   0.478 0.475]\n",
            " [0.    0.169 0.122 ... 0.478 0.412 0.482]\n",
            " [0.192 0.42  0.318 ... 0.506 0.263 0.416]\n",
            " ...\n",
            " [0.114 0.043 0.255 ... 0.231 0.412 0.337]\n",
            " [0.173 0.188 0.141 ... 0.255 0.173 0.329]\n",
            " [0.031 0.235 0.275 ... 0.255 0.212 0.012]]\n",
            "0\n"
          ]
        },
        {
          "output_type": "display_data",
          "data": {
            "text/plain": [
              "<Figure size 432x288 with 1 Axes>"
            ],
            "image/png": "[encoded data removed]"
          },
          "metadata": {
            "needs_background": "light"
          }
        }
      ],
      "source": [
        "plt.imshow(x_train[0],cmap = 'gray')\n",
        "print(x_train[0])\n",
        "print(y_train[0])"
      ]
    },
    {
      "cell_type": "code",
      "execution_count": 14,
      "id": "772c7d7c",
      "metadata": {
        "id": "772c7d7c"
      },
      "outputs": [],
      "source": [
        "model = models.Sequential()\n",
        "model.add(layers.Conv2D(32, (3, 3), activation='relu', input_shape=(64, 128, 1)))\n",
        "model.add(layers.MaxPooling2D((2, 2)))\n",
        "#model.add(layers.BatchNormalization())\n",
        "model.add(Dropout(0.1))\n",
        "\n",
        "model.add(layers.Conv2D(64, (3, 3), activation='relu'))\n",
        "model.add(layers.MaxPooling2D((2, 2)))\n",
        "#model.add(layers.BatchNormalization())\n",
        "model.add(Dropout(0.1))\n",
        "\n",
        "model.add(layers.Conv2D(64, (3, 3), activation='relu'))\n",
        "model.add(layers.MaxPooling2D((2, 2)))\n",
        "#model.add(layers.BatchNormalization())\n",
        "model.add(Dropout(0.1))\n",
        "\n",
        "model.add(layers.Flatten())\n",
        "model.add(layers.Dense(64, activation='relu'))\n",
        "model.add(layers.Dense(1, activation='relu'))\n"
      ]
    },
    {
      "cell_type": "code",
      "execution_count": 15,
      "id": "b86f72df",
      "metadata": {
        "id": "b86f72df",
        "outputId": "4cb92d3d-f61a-4239-ca7d-6fff9652fb32",
        "colab": {
          "base_uri": "https://localhost:8080/"
        }
      },
      "outputs": [
        {
          "output_type": "stream",
          "name": "stdout",
          "text": [
            "Model: \"sequential\"\n",
            "_________________________________________________________________\n",
            " Layer (type)                Output Shape              Param #   \n",
            "=================================================================\n",
            " conv2d (Conv2D)             (None, 62, 126, 32)       320       \n",
            "                                                                 \n",
            " max_pooling2d (MaxPooling2D  (None, 31, 63, 32)       0         \n",
            " )                                                               \n",
            "                                                                 \n",
            " dropout (Dropout)           (None, 31, 63, 32)        0         \n",
            "                                                                 \n",
            " conv2d_1 (Conv2D)           (None, 29, 61, 64)        18496     \n",
            "                                                                 \n",
            " max_pooling2d_1 (MaxPooling  (None, 14, 30, 64)       0         \n",
            " 2D)                                                             \n",
            "                                                                 \n",
            " dropout_1 (Dropout)         (None, 14, 30, 64)        0         \n",
            "                                                                 \n",
            " conv2d_2 (Conv2D)           (None, 12, 28, 64)        36928     \n",
            "                                                                 \n",
            " max_pooling2d_2 (MaxPooling  (None, 6, 14, 64)        0         \n",
            " 2D)                                                             \n",
            "                                                                 \n",
            " dropout_2 (Dropout)         (None, 6, 14, 64)         0         \n",
            "                                                                 \n",
            " flatten (Flatten)           (None, 5376)              0         \n",
            "                                                                 \n",
            " dense (Dense)               (None, 64)                344128    \n",
            "                                                                 \n",
            " dense_1 (Dense)             (None, 1)                 65        \n",
            "                                                                 \n",
            "=================================================================\n",
            "Total params: 399,937\n",
            "Trainable params: 399,937\n",
            "Non-trainable params: 0\n",
            "_________________________________________________________________\n"
          ]
        }
      ],
      "source": [
        "model.summary()"
      ]
    },
    {
      "cell_type": "code",
      "execution_count": 16,
      "id": "9beb77e5",
      "metadata": {
        "id": "9beb77e5",
        "outputId": "9e536779-d237-4594-b90e-cced50fa4202",
        "colab": {
          "base_uri": "https://localhost:8080/"
        }
      },
      "outputs": [
        {
          "output_type": "stream",
          "name": "stdout",
          "text": [
            "Epoch 1/100\n",
            "80/80 [==============================] - 41s 452ms/step - loss: 0.2469 - accuracy: 0.5859 - mse: 0.2469 - val_loss: 0.2152 - val_accuracy: 0.5419 - val_mse: 0.2152\n",
            "Epoch 2/100\n",
            "80/80 [==============================] - 34s 424ms/step - loss: 0.1736 - accuracy: 0.7366 - mse: 0.1736 - val_loss: 0.1417 - val_accuracy: 0.8073 - val_mse: 0.1417\n",
            "Epoch 3/100\n",
            "80/80 [==============================] - 34s 421ms/step - loss: 0.1170 - accuracy: 0.8471 - mse: 0.1170 - val_loss: 0.0826 - val_accuracy: 0.9131 - val_mse: 0.0826\n",
            "Epoch 4/100\n",
            "80/80 [==============================] - 34s 424ms/step - loss: 0.0718 - accuracy: 0.9211 - mse: 0.0718 - val_loss: 0.0589 - val_accuracy: 0.9497 - val_mse: 0.0589\n",
            "Epoch 5/100\n",
            "80/80 [==============================] - 33s 416ms/step - loss: 0.0534 - accuracy: 0.9492 - mse: 0.0534 - val_loss: 0.0594 - val_accuracy: 0.9497 - val_mse: 0.0594\n",
            "Epoch 6/100\n",
            "80/80 [==============================] - 34s 422ms/step - loss: 0.0417 - accuracy: 0.9647 - mse: 0.0417 - val_loss: 0.0446 - val_accuracy: 0.9713 - val_mse: 0.0446\n",
            "Epoch 7/100\n",
            "80/80 [==============================] - 34s 422ms/step - loss: 0.0352 - accuracy: 0.9743 - mse: 0.0352 - val_loss: 0.0414 - val_accuracy: 0.9757 - val_mse: 0.0414\n",
            "Epoch 8/100\n",
            "80/80 [==============================] - 34s 422ms/step - loss: 0.0296 - accuracy: 0.9804 - mse: 0.0296 - val_loss: 0.0269 - val_accuracy: 0.9863 - val_mse: 0.0269\n",
            "Epoch 9/100\n",
            "80/80 [==============================] - 34s 420ms/step - loss: 0.0255 - accuracy: 0.9849 - mse: 0.0255 - val_loss: 0.0228 - val_accuracy: 0.9890 - val_mse: 0.0228\n",
            "Epoch 10/100\n",
            "80/80 [==============================] - 33s 417ms/step - loss: 0.0220 - accuracy: 0.9884 - mse: 0.0220 - val_loss: 0.0269 - val_accuracy: 0.9881 - val_mse: 0.0269\n",
            "Epoch 11/100\n",
            "80/80 [==============================] - 34s 421ms/step - loss: 0.0202 - accuracy: 0.9906 - mse: 0.0202 - val_loss: 0.0204 - val_accuracy: 0.9916 - val_mse: 0.0204\n",
            "Epoch 12/100\n",
            "80/80 [==============================] - 34s 424ms/step - loss: 0.0180 - accuracy: 0.9931 - mse: 0.0180 - val_loss: 0.0195 - val_accuracy: 0.9903 - val_mse: 0.0195\n",
            "Epoch 13/100\n",
            "80/80 [==============================] - 34s 420ms/step - loss: 0.0158 - accuracy: 0.9937 - mse: 0.0158 - val_loss: 0.0163 - val_accuracy: 0.9951 - val_mse: 0.0163\n",
            "Epoch 14/100\n",
            "80/80 [==============================] - 34s 421ms/step - loss: 0.0147 - accuracy: 0.9948 - mse: 0.0147 - val_loss: 0.0135 - val_accuracy: 0.9956 - val_mse: 0.0135\n",
            "Epoch 15/100\n",
            "80/80 [==============================] - 33s 415ms/step - loss: 0.0134 - accuracy: 0.9959 - mse: 0.0134 - val_loss: 0.0143 - val_accuracy: 0.9934 - val_mse: 0.0143\n",
            "Epoch 16/100\n",
            "80/80 [==============================] - 33s 417ms/step - loss: 0.0124 - accuracy: 0.9962 - mse: 0.0124 - val_loss: 0.0141 - val_accuracy: 0.9960 - val_mse: 0.0141\n",
            "Epoch 17/100\n",
            "80/80 [==============================] - 34s 421ms/step - loss: 0.0112 - accuracy: 0.9975 - mse: 0.0112 - val_loss: 0.0128 - val_accuracy: 0.9969 - val_mse: 0.0128\n",
            "Epoch 18/100\n",
            "80/80 [==============================] - 33s 414ms/step - loss: 0.0106 - accuracy: 0.9973 - mse: 0.0106 - val_loss: 0.0152 - val_accuracy: 0.9951 - val_mse: 0.0152\n",
            "Epoch 19/100\n",
            "80/80 [==============================] - 33s 415ms/step - loss: 0.0101 - accuracy: 0.9973 - mse: 0.0101 - val_loss: 0.0132 - val_accuracy: 0.9960 - val_mse: 0.0132\n",
            "Epoch 20/100\n",
            "80/80 [==============================] - 34s 420ms/step - loss: 0.0090 - accuracy: 0.9979 - mse: 0.0090 - val_loss: 0.0101 - val_accuracy: 0.9974 - val_mse: 0.0101\n",
            "Epoch 21/100\n",
            "80/80 [==============================] - 33s 415ms/step - loss: 0.0090 - accuracy: 0.9980 - mse: 0.0090 - val_loss: 0.0138 - val_accuracy: 0.9969 - val_mse: 0.0138\n",
            "Epoch 22/100\n",
            "80/80 [==============================] - 34s 425ms/step - loss: 0.0086 - accuracy: 0.9982 - mse: 0.0086 - val_loss: 0.0080 - val_accuracy: 0.9987 - val_mse: 0.0080\n",
            "Epoch 23/100\n",
            "80/80 [==============================] - 34s 421ms/step - loss: 0.0082 - accuracy: 0.9985 - mse: 0.0082 - val_loss: 0.0080 - val_accuracy: 0.9982 - val_mse: 0.0080\n",
            "Epoch 24/100\n",
            "80/80 [==============================] - 34s 421ms/step - loss: 0.0079 - accuracy: 0.9985 - mse: 0.0079 - val_loss: 0.0067 - val_accuracy: 0.9987 - val_mse: 0.0067\n",
            "Epoch 25/100\n",
            "80/80 [==============================] - 33s 415ms/step - loss: 0.0076 - accuracy: 0.9986 - mse: 0.0076 - val_loss: 0.0109 - val_accuracy: 0.9978 - val_mse: 0.0109\n",
            "Epoch 26/100\n",
            "80/80 [==============================] - 34s 420ms/step - loss: 0.0070 - accuracy: 0.9991 - mse: 0.0070 - val_loss: 0.0061 - val_accuracy: 0.9991 - val_mse: 0.0061\n",
            "Epoch 27/100\n",
            "80/80 [==============================] - 33s 415ms/step - loss: 0.0068 - accuracy: 0.9988 - mse: 0.0068 - val_loss: 0.0098 - val_accuracy: 0.9978 - val_mse: 0.0098\n",
            "Epoch 28/100\n",
            "80/80 [==============================] - 33s 416ms/step - loss: 0.0066 - accuracy: 0.9987 - mse: 0.0066 - val_loss: 0.0087 - val_accuracy: 0.9991 - val_mse: 0.0087\n",
            "Epoch 29/100\n",
            "80/80 [==============================] - 34s 421ms/step - loss: 0.0064 - accuracy: 0.9991 - mse: 0.0064 - val_loss: 0.0056 - val_accuracy: 0.9991 - val_mse: 0.0056\n",
            "Epoch 30/100\n",
            "80/80 [==============================] - 34s 419ms/step - loss: 0.0063 - accuracy: 0.9991 - mse: 0.0063 - val_loss: 0.0051 - val_accuracy: 0.9996 - val_mse: 0.0051\n",
            "Epoch 31/100\n",
            "80/80 [==============================] - 33s 414ms/step - loss: 0.0061 - accuracy: 0.9991 - mse: 0.0061 - val_loss: 0.0069 - val_accuracy: 0.9991 - val_mse: 0.0069\n",
            "Epoch 32/100\n",
            "80/80 [==============================] - 33s 414ms/step - loss: 0.0058 - accuracy: 0.9990 - mse: 0.0058 - val_loss: 0.0059 - val_accuracy: 0.9996 - val_mse: 0.0059\n",
            "Epoch 33/100\n",
            "80/80 [==============================] - 33s 415ms/step - loss: 0.0055 - accuracy: 0.9991 - mse: 0.0055 - val_loss: 0.0053 - val_accuracy: 0.9991 - val_mse: 0.0053\n",
            "Epoch 34/100\n",
            "80/80 [==============================] - 33s 419ms/step - loss: 0.0052 - accuracy: 0.9994 - mse: 0.0052 - val_loss: 0.0038 - val_accuracy: 0.9996 - val_mse: 0.0038\n",
            "Epoch 35/100\n",
            "80/80 [==============================] - 33s 413ms/step - loss: 0.0051 - accuracy: 0.9994 - mse: 0.0051 - val_loss: 0.0062 - val_accuracy: 0.9996 - val_mse: 0.0062\n",
            "Epoch 36/100\n",
            "80/80 [==============================] - 33s 415ms/step - loss: 0.0049 - accuracy: 0.9993 - mse: 0.0049 - val_loss: 0.0055 - val_accuracy: 0.9991 - val_mse: 0.0055\n",
            "Epoch 37/100\n",
            "80/80 [==============================] - 33s 414ms/step - loss: 0.0049 - accuracy: 0.9995 - mse: 0.0049 - val_loss: 0.0045 - val_accuracy: 0.9996 - val_mse: 0.0045\n",
            "Epoch 38/100\n",
            "80/80 [==============================] - 33s 415ms/step - loss: 0.0047 - accuracy: 0.9995 - mse: 0.0047 - val_loss: 0.0070 - val_accuracy: 1.0000 - val_mse: 0.0070\n",
            "Epoch 39/100\n",
            "80/80 [==============================] - 33s 413ms/step - loss: 0.0046 - accuracy: 0.9995 - mse: 0.0046 - val_loss: 0.0055 - val_accuracy: 0.9996 - val_mse: 0.0055\n",
            "Epoch 39: early stopping\n"
          ]
        }
      ],
      "source": [
        "model.compile(optimizer='adam',\n",
        "              loss='mse',\n",
        "              metrics=['accuracy','mse'])\n",
        "\n",
        "#Funcka umożliwia zatrzymanie się uczenia \n",
        "#gdy wartość strat przstanie maleć\n",
        "EarlyStop = EarlyStopping(monitor='val_loss',  \n",
        "                          verbose=1, \n",
        "                          patience=5)\n",
        "\n",
        "\n",
        "ModelCheck = ModelCheckpoint(filepath='/content/drive/MyDrive/Sieci/Zlaczone.h5',\n",
        "                             monitor='val_loss',\n",
        "                             save_best_only=True)\n",
        "\n",
        "\n",
        "history = model.fit(x=x_train, \n",
        "                    y=y_train, \n",
        "                    epochs=100,\n",
        "                    batch_size=256,\n",
        "                    validation_split=0.1,\n",
        "                    callbacks = [EarlyStop, ModelCheck]\n",
        "                   )"
      ]
    },
    {
      "cell_type": "code",
      "execution_count": 17,
      "id": "fe8633db",
      "metadata": {
        "id": "fe8633db",
        "outputId": "f1de7832-1811-4fae-cfc9-8b061db84cab",
        "colab": {
          "base_uri": "https://localhost:8080/",
          "height": 300
        }
      },
      "outputs": [
        {
          "output_type": "execute_result",
          "data": {
            "text/plain": [
              "<matplotlib.legend.Legend at 0x7faf80104190>"
            ]
          },
          "metadata": {},
          "execution_count": 17
        },
        {
          "output_type": "display_data",
          "data": {
            "text/plain": [
              "<Figure size 432x288 with 1 Axes>"
            ],
            "image/png": "[encoded data removed]"
          },
          "metadata": {
            "needs_background": "light"
          }
        }
      ],
      "source": [
        "plt.plot(history.history['loss'], label='strata')\n",
        "plt.plot(history.history['val_loss'], label = 'strata walidacyjna')\n",
        "plt.xlabel('Epoka')\n",
        "plt.ylabel('Strata')\n",
        "plt.ylim([0.0, 0.5])\n",
        "plt.legend(loc='upper right')"
      ]
    },
    {
      "cell_type": "code",
      "execution_count": 18,
      "id": "8b976089",
      "metadata": {
        "scrolled": true,
        "id": "8b976089",
        "outputId": "c04fecb7-e963-4039-bf4d-d4cda3aa6489",
        "colab": {
          "base_uri": "https://localhost:8080/",
          "height": 300
        }
      },
      "outputs": [
        {
          "output_type": "execute_result",
          "data": {
            "text/plain": [
              "<matplotlib.legend.Legend at 0x7faf8006ffd0>"
            ]
          },
          "metadata": {},
          "execution_count": 18
        },
        {
          "output_type": "display_data",
          "data": {
            "text/plain": [
              "<Figure size 432x288 with 1 Axes>"
            ],
            "image/png": "[encoded data removed]"
          },
          "metadata": {
            "needs_background": "light"
          }
        }
      ],
      "source": [
        "plt.plot(history.history['accuracy'], label='precyzja')\n",
        "plt.plot(history.history['val_accuracy'], label = 'precyzja walidacyjna')\n",
        "plt.xlabel('Epoka')\n",
        "plt.ylabel('Precyzja')\n",
        "plt.ylim([0.5, 1])\n",
        "plt.legend(loc='lower right')"
      ]
    },
    {
      "cell_type": "code",
      "execution_count": 19,
      "id": "685a286c",
      "metadata": {
        "id": "685a286c",
        "outputId": "9e62c10b-f851-4683-b733-41eff371ff25",
        "colab": {
          "base_uri": "https://localhost:8080/"
        }
      },
      "outputs": [
        {
          "output_type": "stream",
          "name": "stdout",
          "text": [
            "79/79 - 2s - loss: 0.0056 - accuracy: 0.9992 - mse: 0.0056 - 2s/epoch - 22ms/step\n"
          ]
        },
        {
          "output_type": "execute_result",
          "data": {
            "text/plain": [
              "[0.005566102893346457, 0.9992063492063492, 0.005566102893346457]"
            ]
          },
          "metadata": {},
          "execution_count": 19
        }
      ],
      "source": [
        "model.evaluate(x_test,  y_test, verbose=2)"
      ]
    },
    {
      "cell_type": "code",
      "execution_count": 20,
      "id": "ee941c13",
      "metadata": {
        "id": "ee941c13",
        "colab": {
          "base_uri": "https://localhost:8080/"
        },
        "outputId": "958ed7fc-1b28-4ea0-d81b-75d12f97993b"
      },
      "outputs": [
        {
          "output_type": "stream",
          "name": "stdout",
          "text": [
            "79/79 [==============================] - 1s 17ms/step\n"
          ]
        }
      ],
      "source": [
        "predict_x = model.predict(x_test) \n",
        "\n",
        "predictions = (predict_x > 0.5).astype(\"int32\")"
      ]
    },
    {
      "cell_type": "code",
      "execution_count": 21,
      "id": "d8fb12f1",
      "metadata": {
        "id": "d8fb12f1",
        "outputId": "ae816ea5-b38f-4332-efae-02357669c085",
        "colab": {
          "base_uri": "https://localhost:8080/"
        }
      },
      "outputs": [
        {
          "output_type": "stream",
          "name": "stdout",
          "text": [
            "[['Tn' 'Nn']\n",
            " ['Np' 'Tp']]\n"
          ]
        },
        {
          "output_type": "execute_result",
          "data": {
            "text/plain": [
              "<tf.Tensor: shape=(2, 2), dtype=int32, numpy=\n",
              "array([[1250,    2],\n",
              "       [   0, 1268]], dtype=int32)>"
            ]
          },
          "metadata": {},
          "execution_count": 21
        }
      ],
      "source": [
        "names = [['Tn','Nn'],['Np', 'Tp']]\n",
        "names = np.reshape(names,(2,2))\n",
        "print(names)\n",
        "\n",
        "tf.math.confusion_matrix(y_test,predictions)"
      ]
    },
    {
      "cell_type": "code",
      "source": [
        "\n",
        "#################################\n",
        "#                               #\n",
        "#    Wczytanie zdjęć aktorów    #\n",
        "#                               #\n",
        "#################################"
      ],
      "metadata": {
        "id": "8bjxw97eKGtx"
      },
      "id": "8bjxw97eKGtx",
      "execution_count": 22,
      "outputs": []
    },
    {
      "cell_type": "code",
      "source": [
        "with open(folder_aktorzy+aktorzy_CSV,\"r\") as csvfile:\n",
        "    lines = csvfile.readlines()\n",
        "csvfile.close()\n",
        "\n",
        "\n",
        "tmp = []\n",
        "actors_label = []\n",
        "\n",
        "for i in lines:\n",
        "    tmp.append(i.split(\" \"))\n",
        "\n",
        "#Tablica przechowująca etykiety aktorów   \n",
        "act_label = []\n",
        "for i in tmp[0]:\n",
        "    actors_label.append(int(i))    \n",
        "    \n",
        "print(len(actors_label))"
      ],
      "metadata": {
        "colab": {
          "base_uri": "https://localhost:8080/",
          "height": 237
        },
        "id": "c8Fko2c4KG7r",
        "outputId": "009e0eac-127b-4306-fff0-47f07998db05"
      },
      "id": "c8Fko2c4KG7r",
      "execution_count": 23,
      "outputs": [
        {
          "output_type": "error",
          "ename": "FileNotFoundError",
          "evalue": "ignored",
          "traceback": [
            "\u001b[0;31m---------------------------------------------------------------------------\u001b[0m",
            "\u001b[0;31mFileNotFoundError\u001b[0m                         Traceback (most recent call last)",
            "\u001b[0;32m<ipython-input-23-9b3781fb4d17>\u001b[0m in \u001b[0;36m<module>\u001b[0;34m\u001b[0m\n\u001b[0;32m----> 1\u001b[0;31m \u001b[0;32mwith\u001b[0m \u001b[0mopen\u001b[0m\u001b[0;34m(\u001b[0m\u001b[0mfolder_aktorzy\u001b[0m\u001b[0;34m+\u001b[0m\u001b[0maktorzy_CSV\u001b[0m\u001b[0;34m,\u001b[0m\u001b[0;34m\"r\"\u001b[0m\u001b[0;34m)\u001b[0m \u001b[0;32mas\u001b[0m \u001b[0mcsvfile\u001b[0m\u001b[0;34m:\u001b[0m\u001b[0;34m\u001b[0m\u001b[0;34m\u001b[0m\u001b[0m\n\u001b[0m\u001b[1;32m      2\u001b[0m     \u001b[0mlines\u001b[0m \u001b[0;34m=\u001b[0m \u001b[0mcsvfile\u001b[0m\u001b[0;34m.\u001b[0m\u001b[0mreadlines\u001b[0m\u001b[0;34m(\u001b[0m\u001b[0;34m)\u001b[0m\u001b[0;34m\u001b[0m\u001b[0;34m\u001b[0m\u001b[0m\n\u001b[1;32m      3\u001b[0m \u001b[0mcsvfile\u001b[0m\u001b[0;34m.\u001b[0m\u001b[0mclose\u001b[0m\u001b[0;34m(\u001b[0m\u001b[0;34m)\u001b[0m\u001b[0;34m\u001b[0m\u001b[0;34m\u001b[0m\u001b[0m\n\u001b[1;32m      4\u001b[0m \u001b[0;34m\u001b[0m\u001b[0m\n\u001b[1;32m      5\u001b[0m \u001b[0;34m\u001b[0m\u001b[0m\n",
            "\u001b[0;31mFileNotFoundError\u001b[0m: [Errno 2] No such file or directory: '/content/drive/MyDrive/Sieci/Baza_aktorzy_zlaczone/aktorzy.csv'"
          ]
        }
      ]
    },
    {
      "cell_type": "code",
      "execution_count": null,
      "id": "62ceaefe",
      "metadata": {
        "id": "62ceaefe"
      },
      "outputs": [],
      "source": [
        "#Wczytanie zdjęć aktorów do tablicy\n",
        "\n",
        "actors_img = []\n",
        "size = len(actors_label)\n",
        "\n",
        "for i in range(size):\n",
        "    im = Image.open('/content/drive/MyDrive/Sieci/Baza_aktorzy_zlaczone/'+str(i)+'.png')\n",
        "    arr_im = np.array(im) \n",
        "    arr_im = arr_im / 255.0\n",
        "    actors_img.append(arr_im) \n",
        "print(len(actors_img))"
      ]
    },
    {
      "cell_type": "code",
      "execution_count": null,
      "id": "d8cd5537",
      "metadata": {
        "id": "d8cd5537"
      },
      "outputs": [],
      "source": [
        "actors_img= np.array(actors_img)\n",
        "plt.imshow(actors_img[0],cmap = 'gray')\n",
        "print(actors_img[0])"
      ]
    },
    {
      "cell_type": "code",
      "execution_count": null,
      "id": "304612c1",
      "metadata": {
        "id": "304612c1"
      },
      "outputs": [],
      "source": [
        "#Testowanie sieci z wykorzystaniem zdjęć aktorów \n",
        "\n",
        "predict_actors = model.predict(actors_img) \n",
        "\n",
        "print(predict_actors)\n",
        "predict = (predict_actors > 0.5).astype(\"int32\")"
      ]
    },
    {
      "cell_type": "code",
      "execution_count": null,
      "id": "29f5ab15",
      "metadata": {
        "id": "29f5ab15"
      },
      "outputs": [],
      "source": [
        "print(names)\n",
        "\n",
        "tf.math.confusion_matrix(actors_label,predict)"
      ]
    },
    {
      "cell_type": "code",
      "execution_count": null,
      "id": "992cfbdd",
      "metadata": {
        "id": "992cfbdd"
      },
      "outputs": [],
      "source": []
    }
  ],
  "metadata": {
    "kernelspec": {
      "display_name": "py39",
      "language": "python",
      "name": "py39"
    },
    "language_info": {
      "codemirror_mode": {
        "name": "ipython",
        "version": 3
      },
      "file_extension": ".py",
      "mimetype": "text/x-python",
      "name": "python",
      "nbconvert_exporter": "python",
      "pygments_lexer": "ipython3",
      "version": "3.9.12"
    },
    "colab": {
      "provenance": [],
      "include_colab_link": true
    },
    "accelerator": "GPU",
    "gpuClass": "standard"
  },
  "nbformat": 4,
  "nbformat_minor": 5
}