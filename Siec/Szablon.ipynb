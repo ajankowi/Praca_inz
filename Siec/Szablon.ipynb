{
 "cells": [
  {
   "cell_type": "code",
   "execution_count": 1,
   "id": "613f08b5",
   "metadata": {},
   "outputs": [
    {
     "name": "stdout",
     "output_type": "stream",
     "text": [
      "3.9.12 (main, Jun  1 2022, 11:38:51) \n",
      "[GCC 7.5.0]\n"
     ]
    }
   ],
   "source": [
    "import sys\n",
    "print(sys.version)"
   ]
  },
  {
   "cell_type": "code",
   "execution_count": 2,
   "id": "5eca1117",
   "metadata": {},
   "outputs": [
    {
     "name": "stdout",
     "output_type": "stream",
     "text": [
      "TensorFlow version: 2.8.2\n"
     ]
    }
   ],
   "source": [
    "import tensorflow as tf\n",
    "\n",
    "print(\"TensorFlow version:\", tf.__version__)\n",
    "tf.keras.backend.set_floatx('float64')"
   ]
  },
  {
   "cell_type": "code",
   "execution_count": 3,
   "id": "12022d37",
   "metadata": {},
   "outputs": [],
   "source": [
    "import matplotlib.pyplot as plt\n",
    "import numpy as np\n",
    "import pandas as pd\n",
    "import seaborn as sns\n",
    "from PIL import Image\n",
    "import os\n",
    "import csv\n",
    "import random\n",
    "\n",
    "import cv2\n",
    "import imutils\n",
    "import glob\n",
    "# Make NumPy printouts easier to read.\n",
    "np.set_printoptions(precision=3, suppress=True)"
   ]
  },
  {
   "cell_type": "code",
   "execution_count": 4,
   "id": "1086f893",
   "metadata": {},
   "outputs": [],
   "source": [
    "#Określenie ścieżek do plików\n",
    "folder = '../../Dane/Baza_zdjec_zlaczone_1/'\n",
    "nazwa_CSV = 'nowe.csv'\n",
    "slesh = '/'\n",
    "png = '.png'"
   ]
  },
  {
   "cell_type": "code",
   "execution_count": 5,
   "id": "c21d0d85",
   "metadata": {},
   "outputs": [
    {
     "name": "stdout",
     "output_type": "stream",
     "text": [
      "3600\n"
     ]
    }
   ],
   "source": [
    "#Wczytanie zdjęć do tablicy images\n",
    "images = []\n",
    "size = 3600\n",
    "\n",
    "for i in range(size):\n",
    "    im = Image.open(folder+str(i)+png)\n",
    "    arr_im = np.array(im) \n",
    "    images.append(arr_im) \n",
    "print(len(images))"
   ]
  },
  {
   "cell_type": "code",
   "execution_count": 6,
   "id": "3e7c98d5",
   "metadata": {},
   "outputs": [
    {
     "name": "stdout",
     "output_type": "stream",
     "text": [
      "3600\n"
     ]
    }
   ],
   "source": [
    "#Wczytanie pliku CSV do tablicy images\n",
    "\n",
    "with open(folder+nazwa_CSV,\"r\") as csvfile:\n",
    "    lines = csvfile.readlines()\n",
    "csvfile.close()\n",
    "\n",
    "new = []\n",
    "\n",
    "for i in lines:\n",
    "    new.append(i.split(\" \"))\n",
    "\n",
    "    \n",
    "value = []\n",
    "for i in new[0]:\n",
    "    value.append(int(i))    \n",
    "    \n",
    "print(len(value))"
   ]
  },
  {
   "cell_type": "code",
   "execution_count": 7,
   "id": "e6084b31",
   "metadata": {},
   "outputs": [
    {
     "name": "stdout",
     "output_type": "stream",
     "text": [
      "1\n"
     ]
    }
   ],
   "source": [
    "print(value[1799])"
   ]
  },
  {
   "cell_type": "code",
   "execution_count": 8,
   "id": "fe4d0d23",
   "metadata": {},
   "outputs": [],
   "source": [
    "arr_1 = [0,1,2,3,4,5,6,7,8,9]\n",
    "arr_2 = [10,11,12,13,14,15,16,17,18,19]"
   ]
  },
  {
   "cell_type": "code",
   "execution_count": 9,
   "id": "b24b570f",
   "metadata": {},
   "outputs": [
    {
     "data": {
      "text/plain": [
       "3600"
      ]
     },
     "execution_count": 9,
     "metadata": {},
     "output_type": "execute_result"
    }
   ],
   "source": [
    "len(images)"
   ]
  },
  {
   "cell_type": "code",
   "execution_count": 18,
   "id": "d3c7282b",
   "metadata": {},
   "outputs": [],
   "source": [
    "#Inicjalizacja tablic\n",
    "rand_list = []\n",
    "rand_list = np.zeros((len(images)), dtype=np.uint8)\n",
    "\n",
    "x_test = []\n",
    "y_test = []\n",
    "\n",
    "x_train = []\n",
    "y_train = []\n",
    "\n",
    "\n",
    "#Okreslanie wielkosci zbiorów\n",
    "eighty = int(len(images)*80/100)\n",
    "twenty = len(images) - eighty\n",
    "\n",
    "#Losowanie zbioru uczącego\n",
    "for i in range(eighty):\n",
    "    \n",
    "    #Pierwsze losowanie wartości\n",
    "    rand = random.randint(0,len(images)-1)\n",
    "    \n",
    "    #Sprawdzenie czy wylosowana wartość się powtarza\n",
    "    while (rand_list[rand] == 1) :\n",
    "        #Jeżeli tak to ponownie losuje\n",
    "        rand = random.randint(0,len(images)-1)\n",
    "    \n",
    "    #Zapisanie zdjecia i wartości do nowej tablicy\n",
    "    x_test.append(images[rand])\n",
    "    y_test.append(value[rand])\n",
    "    rand_list[rand] = 1\n",
    "\n",
    "#Losowanie zbioru treningowego\n",
    "for j in range(twenty):\n",
    "    \n",
    "    #Pierwsze losowanie wartości\n",
    "    rand = random.randint(0,len(images)-1)\n",
    "    \n",
    "    #Sprawdzenie czy wylosowana wartość się powtarza\n",
    "    while (rand_list[rand] == 1) :\n",
    "        #Jeżeli tak to ponownie losuje\n",
    "        rand = random.randint(0,len(images)-1)\n",
    "        \n",
    "    #Zapisanie zdjecia i wartości do nowej tablicy\n",
    "    x_train.append(images[rand])\n",
    "    y_train.append(value[rand])\n",
    "    rand_list[rand] = 1"
   ]
  },
  {
   "cell_type": "code",
   "execution_count": null,
   "id": "d88ed898",
   "metadata": {},
   "outputs": [],
   "source": []
  },
  {
   "cell_type": "code",
   "execution_count": null,
   "id": "6f5acbcb",
   "metadata": {},
   "outputs": [],
   "source": []
  },
  {
   "cell_type": "code",
   "execution_count": null,
   "id": "404d77f1",
   "metadata": {},
   "outputs": [],
   "source": []
  },
  {
   "cell_type": "code",
   "execution_count": null,
   "id": "ab3c8c89",
   "metadata": {},
   "outputs": [],
   "source": []
  },
  {
   "cell_type": "code",
   "execution_count": 12,
   "id": "4e026a6f",
   "metadata": {},
   "outputs": [],
   "source": [
    "                                            #Rozmiar 128x64x1 ?\n",
    "model = tf.keras.models.Sequential([         \n",
    "    tf.keras.layers.Conv2D(8,3, input_shape= [64,64,1], activation='relu', padding='same'),\n",
    "    tf.keras.layers.Conv2D(16,3, activation='relu', padding='same'),\n",
    "    tf.keras.layers.Conv2D(32,3, activation='relu', padding='same'),\n",
    "    tf.keras.layers.Flatten(),\n",
    "    tf.keras.layers.Dense(8, activation='relu'),\n",
    "    tf.keras.layers.Dense(1, activation='sigmoid')\n",
    "])"
   ]
  },
  {
   "cell_type": "code",
   "execution_count": 14,
   "id": "4d02a8b8",
   "metadata": {
    "scrolled": true
   },
   "outputs": [
    {
     "name": "stdout",
     "output_type": "stream",
     "text": [
      "Model: \"sequential_3\"\n",
      "_________________________________________________________________\n",
      " Layer (type)                Output Shape              Param #   \n",
      "=================================================================\n",
      " conv2d_6 (Conv2D)           (None, 64, 64, 8)         80        \n",
      "                                                                 \n",
      " conv2d_7 (Conv2D)           (None, 64, 64, 16)        1168      \n",
      "                                                                 \n",
      " conv2d_8 (Conv2D)           (None, 64, 64, 32)        4640      \n",
      "                                                                 \n",
      " flatten_3 (Flatten)         (None, 131072)            0         \n",
      "                                                                 \n",
      " dense_6 (Dense)             (None, 8)                 1048584   \n",
      "                                                                 \n",
      " dense_7 (Dense)             (None, 1)                 9         \n",
      "                                                                 \n",
      "=================================================================\n",
      "Total params: 1,054,481\n",
      "Trainable params: 1,054,481\n",
      "Non-trainable params: 0\n",
      "_________________________________________________________________\n"
     ]
    }
   ],
   "source": [
    "model.summary()"
   ]
  },
  {
   "cell_type": "code",
   "execution_count": 1,
   "id": "4d01cc33",
   "metadata": {},
   "outputs": [
    {
     "name": "stdout",
     "output_type": "stream",
     "text": [
      "64\n",
      "1\n"
     ]
    }
   ],
   "source": []
  },
  {
   "cell_type": "code",
   "execution_count": null,
   "id": "92e86f22",
   "metadata": {},
   "outputs": [],
   "source": []
  },
  {
   "cell_type": "code",
   "execution_count": null,
   "id": "80ff562f",
   "metadata": {},
   "outputs": [],
   "source": []
  }
 ],
 "metadata": {
  "kernelspec": {
   "display_name": "py39",
   "language": "python",
   "name": "py39"
  },
  "language_info": {
   "codemirror_mode": {
    "name": "ipython",
    "version": 3
   },
   "file_extension": ".py",
   "mimetype": "text/x-python",
   "name": "python",
   "nbconvert_exporter": "python",
   "pygments_lexer": "ipython3",
   "version": "3.9.12"
  }
 },
 "nbformat": 4,
 "nbformat_minor": 5
}
