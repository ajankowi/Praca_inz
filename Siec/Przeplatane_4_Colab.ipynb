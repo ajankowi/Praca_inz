{
  "cells": [
    {
      "cell_type": "code",
      "execution_count": 1,
      "id": "613f08b5",
      "metadata": {
        "id": "613f08b5",
        "outputId": "57834a42-5c87-4c7c-ec89-e0fb6c0c492c",
        "colab": {
          "base_uri": "https://localhost:8080/"
        }
      },
      "outputs": [
        {
          "output_type": "stream",
          "name": "stdout",
          "text": [
            "3.8.16 (default, Dec  7 2022, 01:12:13) \n",
            "[GCC 7.5.0]\n"
          ]
        }
      ],
      "source": [
        "import sys\n",
        "print(sys.version)"
      ]
    },
    {
      "cell_type": "code",
      "source": [
        "#from google.colab import drive\n",
        "#drive.mount(\"/content/drive\", force_remount=True)"
      ],
      "metadata": {
        "id": "0n78XAHmDiUv"
      },
      "id": "0n78XAHmDiUv",
      "execution_count": 2,
      "outputs": []
    },
    {
      "cell_type": "code",
      "execution_count": 3,
      "id": "5eca1117",
      "metadata": {
        "id": "5eca1117",
        "outputId": "ccf686a5-f6a0-413d-a1b0-118ce98cf47f",
        "colab": {
          "base_uri": "https://localhost:8080/"
        }
      },
      "outputs": [
        {
          "output_type": "stream",
          "name": "stdout",
          "text": [
            "TensorFlow version: 2.9.2\n"
          ]
        }
      ],
      "source": [
        "import tensorflow as tf\n",
        "from tensorflow import keras\n",
        "from keras import layers, models, regularizers\n",
        "from keras.layers import Flatten, add, Dense, Dropout \n",
        "from keras.callbacks import ModelCheckpoint, EarlyStopping\n",
        "\n",
        "\n",
        "print(\"TensorFlow version:\", tf.__version__)\n",
        "tf.keras.backend.set_floatx('float64')"
      ]
    },
    {
      "cell_type": "code",
      "execution_count": 4,
      "id": "12022d37",
      "metadata": {
        "id": "12022d37"
      },
      "outputs": [],
      "source": [
        "import matplotlib.pyplot as plt\n",
        "import numpy as np\n",
        "import pandas as pd\n",
        "import seaborn as sns\n",
        "from PIL import Image\n",
        "import os\n",
        "import csv\n",
        "import random\n",
        "\n",
        "import cv2\n",
        "import imutils\n",
        "import glob\n",
        "# Make NumPy printouts easier to read.\n",
        "np.set_printoptions(precision=3, suppress=True)"
      ]
    },
    {
      "cell_type": "code",
      "execution_count": 5,
      "id": "1086f893",
      "metadata": {
        "id": "1086f893"
      },
      "outputs": [],
      "source": [
        "#Określenie ścieżek do plików\n",
        "zip = '/content/drive/MyDrive/Sieci/Baza_zdjec_przeplatane_2/Baza_zdjec_przeplatane_2.zip'\n",
        "nazwa_CSV = 'nowe.csv'\n",
        "folder = '/content/drive/MyDrive/Sieci/Baza_zdjec_przeplatane_2/'\n",
        "folder_aktorzy = '/content/drive/MyDrive/Sieci/Baza_aktorzy_przeplatane/'\n",
        "aktorzy_CSV = 'aktorzy.csv'\n",
        "slesh = '/'\n",
        "png = '.png'"
      ]
    },
    {
      "cell_type": "code",
      "source": [
        "#!unzip '/content/drive/MyDrive/Sieci/Baza_zdjec_przeplatane_2/Baza_zdjec_przeplatane_2.zip' -d '/content/zdjecia/'\n",
        "#!unzip '/content/drive/MyDrive/Sieci/Baza_aktorzy_przeplatane/Baza_aktorzy_przeplatane.zip' -d '/content/aktorzy/'"
      ],
      "metadata": {
        "id": "P6mVaPsPDDID"
      },
      "id": "P6mVaPsPDDID",
      "execution_count": 6,
      "outputs": []
    },
    {
      "cell_type": "code",
      "execution_count": 7,
      "id": "723b71fc",
      "metadata": {
        "id": "723b71fc"
      },
      "outputs": [],
      "source": [
        "def release_list(a):\n",
        "    \n",
        "    del a[:]\n",
        "    del a"
      ]
    },
    {
      "cell_type": "code",
      "execution_count": 8,
      "id": "5beb89e7",
      "metadata": {
        "id": "5beb89e7",
        "outputId": "2c8faab5-756d-487e-d27b-e0171cb27a07",
        "colab": {
          "base_uri": "https://localhost:8080/"
        }
      },
      "outputs": [
        {
          "output_type": "stream",
          "name": "stdout",
          "text": [
            "25200\n"
          ]
        }
      ],
      "source": [
        "#Wczytanie pliku CSV do tablicy images\n",
        "\n",
        "with open(folder+nazwa_CSV,\"r\") as csvfile:\n",
        "    lines = csvfile.readlines()\n",
        "csvfile.close()\n",
        "\n",
        "new = []\n",
        "\n",
        "for i in lines:\n",
        "    new.append(i.split(\" \"))\n",
        "\n",
        "    \n",
        "value = []\n",
        "for i in new[0]:\n",
        "    value.append(int(i))    \n",
        "    \n",
        "print(len(value))"
      ]
    },
    {
      "cell_type": "code",
      "execution_count": 9,
      "id": "d9cb09d8",
      "metadata": {
        "id": "d9cb09d8",
        "colab": {
          "base_uri": "https://localhost:8080/"
        },
        "outputId": "a462d079-bde7-4fbb-9939-6ab3ead1b4b7"
      },
      "outputs": [
        {
          "output_type": "stream",
          "name": "stdout",
          "text": [
            "25200\n"
          ]
        }
      ],
      "source": [
        "#Wczytanie zdjęć do tablicy images\n",
        "images = []\n",
        "size = len(value)\n",
        "\n",
        "for i in range(size):\n",
        "    im = Image.open('/content/zdjecia/'+str(i)+'.png')\n",
        "    arr_im = np.array(im) \n",
        "    arr_im = arr_im / 255.0\n",
        "    images.append(arr_im) \n",
        "print(len(images))"
      ]
    },
    {
      "cell_type": "code",
      "execution_count": 10,
      "id": "44a7c0bf",
      "metadata": {
        "id": "44a7c0bf"
      },
      "outputs": [],
      "source": [
        "#Inicjalizacja tablic\n",
        "rand_list = []\n",
        "rand_list = np.zeros((len(images)), dtype=np.uint8)\n",
        "\n",
        "x_test = []\n",
        "y_test = []\n",
        "\n",
        "x_train = []\n",
        "y_train = []\n",
        "\n",
        "\n",
        "#Okreslanie wielkosci zbiorów\n",
        "nighty = int(len(images)*90/100)\n",
        "ten = len(images) - nighty\n",
        "\n",
        "#Losowanie zbioru testowego\n",
        "for i in range(nighty):\n",
        "    \n",
        "    #Pierwsze losowanie wartości\n",
        "    rand = random.randint(0,len(images)-1)\n",
        "    \n",
        "    #Sprawdzenie czy wylosowana wartość się powtarza\n",
        "    while (rand_list[rand] == 1) :\n",
        "        #Jeżeli tak to ponownie losuje\n",
        "        rand = random.randint(0,len(images)-1)\n",
        "    \n",
        "    #Zapisanie zdjecia i wartości do nowej tablicy\n",
        "    x_train.append(images[rand])\n",
        "    y_train.append(value[rand])\n",
        "    rand_list[rand] = 1\n",
        "\n",
        "#Losowanie zbioru uczącego\n",
        "for j in range(ten):\n",
        "    \n",
        "    #Pierwsze losowanie wartości\n",
        "    rand = random.randint(0,len(images)-1)\n",
        "    \n",
        "    #Sprawdzenie czy wylosowana wartość się powtarza\n",
        "    while (rand_list[rand] == 1) :\n",
        "        #Jeżeli tak to ponownie losuje\n",
        "        rand = random.randint(0,len(images)-1)\n",
        "        \n",
        "    #Zapisanie zdjecia i wartości do nowej tablicy\n",
        "    x_test.append(images[rand])\n",
        "    y_test.append(value[rand])\n",
        "    rand_list[rand] = 1\n",
        "    \n",
        "release_list(images)\n",
        "release_list(value)"
      ]
    },
    {
      "cell_type": "code",
      "execution_count": 11,
      "id": "8fccbbcc",
      "metadata": {
        "id": "8fccbbcc",
        "outputId": "044a1fbd-2975-4c8d-b5c7-636a0e7c07f7",
        "colab": {
          "base_uri": "https://localhost:8080/"
        }
      },
      "outputs": [
        {
          "output_type": "stream",
          "name": "stdout",
          "text": [
            "9.98%\n",
            "90.02%\n"
          ]
        }
      ],
      "source": [
        "#Sprawdzenie poprawności losowania\n",
        "val_1 = 100 * sum(y_test) / (size / 2)\n",
        "print(\"%.2f\" % val_1 + '%') \n",
        "\n",
        "\n",
        "val_2 = 100 * sum(y_train) / (size / 2)\n",
        "print(\"%.2f\" % val_2 + '%') "
      ]
    },
    {
      "cell_type": "code",
      "execution_count": 12,
      "id": "f7f4dd4b",
      "metadata": {
        "id": "f7f4dd4b"
      },
      "outputs": [],
      "source": [
        "x_train = np.array(x_train)\n",
        "x_test = np.array(x_test)\n",
        "\n",
        "y_train = np.array(y_train)\n",
        "y_test = np.array(y_test)"
      ]
    },
    {
      "cell_type": "code",
      "execution_count": 13,
      "id": "d3a370cb",
      "metadata": {
        "id": "d3a370cb",
        "outputId": "97cf2e7e-bf97-4f77-ce6a-5d8896a75565",
        "colab": {
          "base_uri": "https://localhost:8080/",
          "height": 393
        }
      },
      "outputs": [
        {
          "output_type": "stream",
          "name": "stdout",
          "text": [
            "[[0.    0.388 0.424 ... 0.    0.    0.   ]\n",
            " [0.    0.396 0.435 ... 0.    0.    0.   ]\n",
            " [0.    0.4   0.435 ... 0.439 0.42  0.4  ]\n",
            " ...\n",
            " [0.114 0.098 0.082 ... 0.424 0.471 0.   ]\n",
            " [0.    0.    0.    ... 0.11  0.122 0.   ]\n",
            " [0.    0.    0.    ... 0.353 0.384 0.   ]]\n"
          ]
        },
        {
          "output_type": "display_data",
          "data": {
            "text/plain": [
              "<Figure size 432x288 with 1 Axes>"
            ],
            "image/png": "[encoded data removed]"
          },
          "metadata": {
            "needs_background": "light"
          }
        }
      ],
      "source": [
        "plt.imshow(x_train[0],cmap = 'gray')\n",
        "print(x_train[0])"
      ]
    },
    {
      "cell_type": "code",
      "execution_count": 14,
      "id": "772c7d7c",
      "metadata": {
        "id": "772c7d7c"
      },
      "outputs": [],
      "source": [
        "model = models.Sequential()\n",
        "model.add(layers.Conv2D(32, (3, 3), activation='relu', input_shape=(128, 64, 1)))\n",
        "model.add(layers.Conv2D(32, (3, 3), activation='relu'))\n",
        "model.add(layers.MaxPooling2D((2, 2)))\n",
        "model.add(Dropout(0.1))\n",
        "\n",
        "model.add(layers.Conv2D(64, (3, 3), activation='relu'))\n",
        "model.add(layers.Conv2D(64, (3, 3), activation='relu'))\n",
        "model.add(layers.MaxPooling2D((2, 2)))\n",
        "model.add(Dropout(0.1))\n",
        "\n",
        "model.add(layers.Conv2D(64, (3, 3), activation='relu'))\n",
        "model.add(layers.Conv2D(64, (3, 3), activation='relu'))\n",
        "model.add(layers.MaxPooling2D((2, 2)))\n",
        "model.add(Dropout(0.1))\n",
        "\n",
        "model.add(layers.Flatten())\n",
        "model.add(layers.Dense(64, activation='relu',kernel_regularizer=keras.regularizers.l2(l=0.1)))\n",
        "model.add(layers.Dense(1, activation='relu'))\n"
      ]
    },
    {
      "cell_type": "code",
      "execution_count": 15,
      "id": "b86f72df",
      "metadata": {
        "id": "b86f72df",
        "outputId": "48d09251-b325-4eca-bcbd-c223b2b56e18",
        "colab": {
          "base_uri": "https://localhost:8080/"
        }
      },
      "outputs": [
        {
          "output_type": "stream",
          "name": "stdout",
          "text": [
            "Model: \"sequential\"\n",
            "_________________________________________________________________\n",
            " Layer (type)                Output Shape              Param #   \n",
            "=================================================================\n",
            " conv2d (Conv2D)             (None, 126, 62, 32)       320       \n",
            "                                                                 \n",
            " conv2d_1 (Conv2D)           (None, 124, 60, 32)       9248      \n",
            "                                                                 \n",
            " max_pooling2d (MaxPooling2D  (None, 62, 30, 32)       0         \n",
            " )                                                               \n",
            "                                                                 \n",
            " dropout (Dropout)           (None, 62, 30, 32)        0         \n",
            "                                                                 \n",
            " conv2d_2 (Conv2D)           (None, 60, 28, 64)        18496     \n",
            "                                                                 \n",
            " conv2d_3 (Conv2D)           (None, 58, 26, 64)        36928     \n",
            "                                                                 \n",
            " max_pooling2d_1 (MaxPooling  (None, 29, 13, 64)       0         \n",
            " 2D)                                                             \n",
            "                                                                 \n",
            " dropout_1 (Dropout)         (None, 29, 13, 64)        0         \n",
            "                                                                 \n",
            " conv2d_4 (Conv2D)           (None, 27, 11, 64)        36928     \n",
            "                                                                 \n",
            " conv2d_5 (Conv2D)           (None, 25, 9, 64)         36928     \n",
            "                                                                 \n",
            " max_pooling2d_2 (MaxPooling  (None, 12, 4, 64)        0         \n",
            " 2D)                                                             \n",
            "                                                                 \n",
            " dropout_2 (Dropout)         (None, 12, 4, 64)         0         \n",
            "                                                                 \n",
            " flatten (Flatten)           (None, 3072)              0         \n",
            "                                                                 \n",
            " dense (Dense)               (None, 64)                196672    \n",
            "                                                                 \n",
            " dense_1 (Dense)             (None, 1)                 65        \n",
            "                                                                 \n",
            "=================================================================\n",
            "Total params: 335,585\n",
            "Trainable params: 335,585\n",
            "Non-trainable params: 0\n",
            "_________________________________________________________________\n"
          ]
        }
      ],
      "source": [
        "model.summary()"
      ]
    },
    {
      "cell_type": "code",
      "execution_count": 16,
      "id": "9beb77e5",
      "metadata": {
        "id": "9beb77e5",
        "outputId": "40060103-1435-4249-a001-5d92f2b65d17",
        "colab": {
          "base_uri": "https://localhost:8080/"
        }
      },
      "outputs": [
        {
          "output_type": "stream",
          "name": "stdout",
          "text": [
            "Epoch 1/100\n",
            "80/80 [==============================] - 166s 2s/step - loss: 2.1857 - accuracy: 0.7259 - mse: 0.1732 - val_loss: 0.1137 - val_accuracy: 0.8699 - val_mse: 0.0949\n",
            "Epoch 2/100\n",
            "80/80 [==============================] - 143s 2s/step - loss: 0.1199 - accuracy: 0.8580 - mse: 0.1060 - val_loss: 0.0988 - val_accuracy: 0.8898 - val_mse: 0.0901\n",
            "Epoch 3/100\n",
            "80/80 [==============================] - 142s 2s/step - loss: 0.1010 - accuracy: 0.8770 - mse: 0.0933 - val_loss: 0.0875 - val_accuracy: 0.8986 - val_mse: 0.0789\n",
            "Epoch 4/100\n",
            "80/80 [==============================] - 142s 2s/step - loss: 0.0841 - accuracy: 0.9004 - mse: 0.0764 - val_loss: 0.0830 - val_accuracy: 0.9175 - val_mse: 0.0757\n",
            "Epoch 5/100\n",
            "80/80 [==============================] - 142s 2s/step - loss: 0.0755 - accuracy: 0.9169 - mse: 0.0676 - val_loss: 0.0574 - val_accuracy: 0.9334 - val_mse: 0.0502\n",
            "Epoch 6/100\n",
            "80/80 [==============================] - 142s 2s/step - loss: 0.0656 - accuracy: 0.9325 - mse: 0.0577 - val_loss: 0.0560 - val_accuracy: 0.9334 - val_mse: 0.0483\n",
            "Epoch 7/100\n",
            "80/80 [==============================] - 142s 2s/step - loss: 0.0475 - accuracy: 0.9568 - mse: 0.0398 - val_loss: 0.0313 - val_accuracy: 0.9757 - val_mse: 0.0240\n",
            "Epoch 8/100\n",
            "80/80 [==============================] - 143s 2s/step - loss: 0.0365 - accuracy: 0.9708 - mse: 0.0292 - val_loss: 0.0275 - val_accuracy: 0.9793 - val_mse: 0.0204\n",
            "Epoch 9/100\n",
            "80/80 [==============================] - 142s 2s/step - loss: 0.0244 - accuracy: 0.9829 - mse: 0.0184 - val_loss: 0.0170 - val_accuracy: 0.9885 - val_mse: 0.0117\n",
            "Epoch 10/100\n",
            "80/80 [==============================] - 142s 2s/step - loss: 0.0248 - accuracy: 0.9837 - mse: 0.0189 - val_loss: 0.0184 - val_accuracy: 0.9868 - val_mse: 0.0125\n",
            "Epoch 11/100\n",
            "80/80 [==============================] - 141s 2s/step - loss: 0.0198 - accuracy: 0.9868 - mse: 0.0147 - val_loss: 0.0242 - val_accuracy: 0.9819 - val_mse: 0.0198\n",
            "Epoch 12/100\n",
            "80/80 [==============================] - 143s 2s/step - loss: 0.0151 - accuracy: 0.9903 - mse: 0.0110 - val_loss: 0.0142 - val_accuracy: 0.9960 - val_mse: 0.0100\n",
            "Epoch 13/100\n",
            "80/80 [==============================] - 141s 2s/step - loss: 0.0141 - accuracy: 0.9910 - mse: 0.0101 - val_loss: 0.0227 - val_accuracy: 0.9912 - val_mse: 0.0182\n",
            "Epoch 14/100\n",
            "80/80 [==============================] - 143s 2s/step - loss: 0.0150 - accuracy: 0.9908 - mse: 0.0108 - val_loss: 0.0105 - val_accuracy: 0.9934 - val_mse: 0.0069\n",
            "Epoch 15/100\n",
            "80/80 [==============================] - 141s 2s/step - loss: 0.0152 - accuracy: 0.9908 - mse: 0.0113 - val_loss: 0.0138 - val_accuracy: 0.9960 - val_mse: 0.0103\n",
            "Epoch 16/100\n",
            "80/80 [==============================] - 143s 2s/step - loss: 0.0119 - accuracy: 0.9927 - mse: 0.0084 - val_loss: 0.0082 - val_accuracy: 0.9974 - val_mse: 0.0050\n",
            "Epoch 17/100\n",
            "80/80 [==============================] - 141s 2s/step - loss: 0.0131 - accuracy: 0.9923 - mse: 0.0093 - val_loss: 0.0102 - val_accuracy: 0.9943 - val_mse: 0.0066\n",
            "Epoch 18/100\n",
            "80/80 [==============================] - 143s 2s/step - loss: 0.0103 - accuracy: 0.9948 - mse: 0.0071 - val_loss: 0.0064 - val_accuracy: 0.9982 - val_mse: 0.0037\n",
            "Epoch 19/100\n",
            "80/80 [==============================] - 141s 2s/step - loss: 0.0098 - accuracy: 0.9946 - mse: 0.0070 - val_loss: 0.0091 - val_accuracy: 0.9925 - val_mse: 0.0058\n",
            "Epoch 20/100\n",
            "80/80 [==============================] - 143s 2s/step - loss: 0.0088 - accuracy: 0.9952 - mse: 0.0060 - val_loss: 0.0060 - val_accuracy: 0.9982 - val_mse: 0.0036\n",
            "Epoch 21/100\n",
            "80/80 [==============================] - 141s 2s/step - loss: 0.0108 - accuracy: 0.9933 - mse: 0.0076 - val_loss: 0.0105 - val_accuracy: 0.9903 - val_mse: 0.0073\n",
            "Epoch 22/100\n",
            "80/80 [==============================] - 141s 2s/step - loss: 0.0070 - accuracy: 0.9967 - mse: 0.0046 - val_loss: 0.0071 - val_accuracy: 0.9965 - val_mse: 0.0051\n",
            "Epoch 23/100\n",
            "80/80 [==============================] - 144s 2s/step - loss: 0.0075 - accuracy: 0.9966 - mse: 0.0051 - val_loss: 0.0046 - val_accuracy: 0.9987 - val_mse: 0.0025\n",
            "Epoch 24/100\n",
            "80/80 [==============================] - 141s 2s/step - loss: 0.0058 - accuracy: 0.9974 - mse: 0.0038 - val_loss: 0.0062 - val_accuracy: 0.9987 - val_mse: 0.0042\n",
            "Epoch 25/100\n",
            "80/80 [==============================] - 141s 2s/step - loss: 0.0079 - accuracy: 0.9956 - mse: 0.0055 - val_loss: 0.0068 - val_accuracy: 0.9987 - val_mse: 0.0045\n",
            "Epoch 26/100\n",
            "80/80 [==============================] - 141s 2s/step - loss: 0.0058 - accuracy: 0.9969 - mse: 0.0039 - val_loss: 0.0051 - val_accuracy: 0.9969 - val_mse: 0.0032\n",
            "Epoch 27/100\n",
            "80/80 [==============================] - 141s 2s/step - loss: 0.0046 - accuracy: 0.9982 - mse: 0.0028 - val_loss: 0.0078 - val_accuracy: 0.9951 - val_mse: 0.0061\n",
            "Epoch 28/100\n",
            "80/80 [==============================] - 141s 2s/step - loss: 0.0110 - accuracy: 0.9935 - mse: 0.0077 - val_loss: 0.0052 - val_accuracy: 0.9987 - val_mse: 0.0031\n",
            "Epoch 28: early stopping\n"
          ]
        }
      ],
      "source": [
        "model.compile(optimizer='adam',\n",
        "              loss='mse',\n",
        "              metrics=['accuracy','mse'])\n",
        "\n",
        "#Funcka umożliwia zatrzymanie się uczenia \n",
        "#gdy wartość strat przstanie maleć\n",
        "EarlyStop = EarlyStopping(monitor='val_loss',  \n",
        "                          verbose=1, \n",
        "                          patience=5)\n",
        "\n",
        "\n",
        "ModelCheck = ModelCheckpoint(filepath='/content/drive/MyDrive/Sieci/Przeplatane.h5',\n",
        "                             monitor='val_loss',\n",
        "                             save_best_only=True)\n",
        "\n",
        "history = model.fit(x=x_train, \n",
        "                    y=y_train, \n",
        "                    epochs=100,\n",
        "                    batch_size=256,\n",
        "                    validation_split=0.1,\n",
        "                    callbacks = [EarlyStop, ModelCheck]\n",
        "                   )"
      ]
    },
    {
      "cell_type": "code",
      "execution_count": 18,
      "id": "3680f8c1",
      "metadata": {
        "scrolled": true,
        "id": "3680f8c1",
        "outputId": "09d75df8-108a-4ddc-988a-ee484f5f0dd6",
        "colab": {
          "base_uri": "https://localhost:8080/",
          "height": 301
        }
      },
      "outputs": [
        {
          "output_type": "execute_result",
          "data": {
            "text/plain": [
              "<matplotlib.legend.Legend at 0x7f4895dc9790>"
            ]
          },
          "metadata": {},
          "execution_count": 18
        },
        {
          "output_type": "display_data",
          "data": {
            "text/plain": [
              "<Figure size 432x288 with 1 Axes>"
            ],
            "image/png": "[encoded data removed]"
          },
          "metadata": {
            "needs_background": "light"
          }
        }
      ],
      "source": [
        "plt.plot(history.history['loss'], label='strata')\n",
        "plt.plot(history.history['val_loss'], label = 'strata walidacyjna')\n",
        "plt.xlabel('Epoka')\n",
        "plt.ylabel('Strata')\n",
        "plt.ylim([0.0, 0.5])\n",
        "plt.legend(loc='upper right')"
      ]
    },
    {
      "cell_type": "code",
      "execution_count": 19,
      "id": "fe8633db",
      "metadata": {
        "id": "fe8633db",
        "outputId": "899032fc-805a-4da2-daff-1d8d938787bb",
        "colab": {
          "base_uri": "https://localhost:8080/",
          "height": 301
        }
      },
      "outputs": [
        {
          "output_type": "execute_result",
          "data": {
            "text/plain": [
              "<matplotlib.legend.Legend at 0x7f4830575460>"
            ]
          },
          "metadata": {},
          "execution_count": 19
        },
        {
          "output_type": "display_data",
          "data": {
            "text/plain": [
              "<Figure size 432x288 with 1 Axes>"
            ],
            "image/png": "[encoded data removed]"
          },
          "metadata": {
            "needs_background": "light"
          }
        }
      ],
      "source": [
        "plt.plot(history.history['accuracy'], label='precyzja')\n",
        "plt.plot(history.history['val_accuracy'], label = 'precyzja walidacyjna')\n",
        "plt.xlabel('Epoka')\n",
        "plt.ylabel('Precyzja')\n",
        "plt.ylim([0.5, 1])\n",
        "plt.legend(loc='lower right')"
      ]
    },
    {
      "cell_type": "code",
      "execution_count": 20,
      "id": "685a286c",
      "metadata": {
        "id": "685a286c",
        "outputId": "98b2cf56-d975-4008-b6af-d9aaa4dc3492",
        "colab": {
          "base_uri": "https://localhost:8080/"
        }
      },
      "outputs": [
        {
          "output_type": "stream",
          "name": "stdout",
          "text": [
            "79/79 - 4s - loss: 0.0049 - accuracy: 0.9984 - mse: 0.0028 - 4s/epoch - 54ms/step\n"
          ]
        },
        {
          "output_type": "execute_result",
          "data": {
            "text/plain": [
              "[0.004893399949203304, 0.9984126984126984, 0.0027931769116786003]"
            ]
          },
          "metadata": {},
          "execution_count": 20
        }
      ],
      "source": [
        "model.evaluate(x_test,  y_test, verbose=2)"
      ]
    },
    {
      "cell_type": "code",
      "execution_count": 22,
      "id": "194f39e9",
      "metadata": {
        "id": "194f39e9"
      },
      "outputs": [],
      "source": [
        "best_model = tf.keras.models.load_model('/content/drive/MyDrive/Sieci/Przeplatane.h5')"
      ]
    },
    {
      "cell_type": "code",
      "source": [
        "best_model.evaluate(x_test,  y_test, verbose=2)"
      ],
      "metadata": {
        "id": "ewHB7W_bskUm",
        "outputId": "acb84805-28ca-47b5-89bf-ab9dd0e5fca1",
        "colab": {
          "base_uri": "https://localhost:8080/"
        }
      },
      "id": "ewHB7W_bskUm",
      "execution_count": 23,
      "outputs": [
        {
          "output_type": "stream",
          "name": "stdout",
          "text": [
            "79/79 - 4s - loss: 0.0042 - accuracy: 0.9980 - mse: 0.0021 - 4s/epoch - 56ms/step\n"
          ]
        },
        {
          "output_type": "execute_result",
          "data": {
            "text/plain": [
              "[0.0042055978492649615, 0.998015873015873, 0.0020882739523384363]"
            ]
          },
          "metadata": {},
          "execution_count": 23
        }
      ]
    },
    {
      "cell_type": "code",
      "source": [
        "predict_x = best_model.predict(x_test) \n",
        "\n",
        "predictions = (predict_x > 0.5).astype(\"int32\")"
      ],
      "metadata": {
        "id": "UXFfOAksska6",
        "outputId": "8a373c2a-e720-476c-d034-49c51efe94d5",
        "colab": {
          "base_uri": "https://localhost:8080/"
        }
      },
      "id": "UXFfOAksska6",
      "execution_count": 24,
      "outputs": [
        {
          "output_type": "stream",
          "name": "stdout",
          "text": [
            "79/79 [==============================] - 4s 55ms/step\n"
          ]
        }
      ]
    },
    {
      "cell_type": "code",
      "source": [
        "names = [['Tn','Nn'],['Np', 'Tp']]\n",
        "names = np.reshape(names,(2,2))\n",
        "print(names)\n",
        "\n",
        "conf = tf.math.confusion_matrix(y_test,predictions)\n",
        "\n",
        "print(conf)"
      ],
      "metadata": {
        "id": "u4OPDhfgskeU",
        "outputId": "0550c5bd-de2e-491b-d748-b0689fed2674",
        "colab": {
          "base_uri": "https://localhost:8080/"
        }
      },
      "id": "u4OPDhfgskeU",
      "execution_count": 25,
      "outputs": [
        {
          "output_type": "stream",
          "name": "stdout",
          "text": [
            "[['Tn' 'Nn']\n",
            " ['Np' 'Tp']]\n",
            "tf.Tensor(\n",
            "[[1258    5]\n",
            " [   0 1257]], shape=(2, 2), dtype=int32)\n"
          ]
        }
      ]
    }
  ],
  "metadata": {
    "kernelspec": {
      "display_name": "py39",
      "language": "python",
      "name": "py39"
    },
    "language_info": {
      "codemirror_mode": {
        "name": "ipython",
        "version": 3
      },
      "file_extension": ".py",
      "mimetype": "text/x-python",
      "name": "python",
      "nbconvert_exporter": "python",
      "pygments_lexer": "ipython3",
      "version": "3.9.12"
    },
    "colab": {
      "provenance": []
    },
    "gpuClass": "standard",
    "accelerator": "GPU"
  },
  "nbformat": 4,
  "nbformat_minor": 5
}