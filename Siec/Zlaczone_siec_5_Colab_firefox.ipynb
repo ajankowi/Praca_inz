{
  "cells": [
    {
      "cell_type": "markdown",
      "metadata": {
        "id": "view-in-github",
        "colab_type": "text"
      },
      "source": [
        "<a href=\"https://colab.research.google.com/github/ajankowi/Praca_inz/blob/master/Siec/Zlaczone_siec_5_Colab_firefox.ipynb\" target=\"_parent\"><img src=\"https://colab.research.google.com/assets/colab-badge.svg\" alt=\"Open In Colab\"/></a>"
      ]
    },
    {
      "cell_type": "code",
      "execution_count": 1,
      "id": "613f08b5",
      "metadata": {
        "colab": {
          "base_uri": "https://localhost:8080/"
        },
        "id": "613f08b5",
        "outputId": "0ded3868-7c7c-4d85-fe35-c6351cda7497"
      },
      "outputs": [
        {
          "output_type": "stream",
          "name": "stdout",
          "text": [
            "3.8.16 (default, Dec  7 2022, 01:12:13) \n",
            "[GCC 7.5.0]\n"
          ]
        }
      ],
      "source": [
        "import sys\n",
        "print(sys.version)"
      ]
    },
    {
      "cell_type": "code",
      "execution_count": 2,
      "id": "iY1o7_NmVlGs",
      "metadata": {
        "id": "iY1o7_NmVlGs",
        "colab": {
          "base_uri": "https://localhost:8080/"
        },
        "outputId": "c68525b2-8f95-4361-e38f-977bcefc9de2"
      },
      "outputs": [
        {
          "output_type": "stream",
          "name": "stdout",
          "text": [
            "Mounted at /content/drive\n"
          ]
        }
      ],
      "source": [
        "from google.colab import drive\n",
        "drive.mount(\"/content/drive\", force_remount=True)"
      ]
    },
    {
      "cell_type": "code",
      "execution_count": 3,
      "id": "5eca1117",
      "metadata": {
        "colab": {
          "base_uri": "https://localhost:8080/"
        },
        "id": "5eca1117",
        "outputId": "0f232d29-e879-4693-b61d-b9485964bccb"
      },
      "outputs": [
        {
          "output_type": "stream",
          "name": "stdout",
          "text": [
            "TensorFlow version: 2.9.2\n"
          ]
        }
      ],
      "source": [
        "import tensorflow as tf\n",
        "from tensorflow import keras\n",
        "from keras import layers, models, regularizers\n",
        "from keras.layers import Flatten, add, Dense, Dropout \n",
        "from keras.callbacks import ModelCheckpoint, EarlyStopping\n",
        "\n",
        "\n",
        "print(\"TensorFlow version:\", tf.__version__)\n",
        "tf.keras.backend.set_floatx('float64')"
      ]
    },
    {
      "cell_type": "code",
      "execution_count": 4,
      "id": "12022d37",
      "metadata": {
        "id": "12022d37"
      },
      "outputs": [],
      "source": [
        "import matplotlib.pyplot as plt\n",
        "import numpy as np\n",
        "import pandas as pd\n",
        "import seaborn as sns\n",
        "from PIL import Image\n",
        "import os\n",
        "import csv\n",
        "import random\n",
        "\n",
        "import cv2\n",
        "import imutils\n",
        "import glob\n",
        "# Make NumPy printouts easier to read.\n",
        "np.set_printoptions(precision=3, suppress=True)"
      ]
    },
    {
      "cell_type": "code",
      "execution_count": 5,
      "id": "1086f893",
      "metadata": {
        "id": "1086f893"
      },
      "outputs": [],
      "source": [
        "#Określenie ścieżek do plików\n",
        "test_zip = '/content/drive/MyDrive/Sieci/Baza_zdjec_zlaczone_2/Test.zip'\n",
        "test_csv = 'test.csv'\n",
        "\n",
        "train_zip = '/content/drive/MyDrive/Sieci/Baza_zdjec_zlaczone_2/Train.zip'\n",
        "train_csv = 'train.csv'\n",
        "\n",
        "folder = '/content/drive/MyDrive/Sieci/Baza_zdjec_zlaczone_2/'\n",
        "slesh = '/'\n",
        "png = '.png'"
      ]
    },
    {
      "cell_type": "code",
      "execution_count": null,
      "id": "FXtX4UDo9x77",
      "metadata": {
        "id": "FXtX4UDo9x77"
      },
      "outputs": [],
      "source": [
        "#!unzip '/content/drive/MyDrive/Sieci/Baza_zdjec_zlaczone_2/Train.zip' -d '/content/train/'\n",
        "#!unzip '/content/drive/MyDrive/Sieci/Baza_zdjec_zlaczone_2/Test.zip' -d '/content/test/'"
      ]
    },
    {
      "cell_type": "code",
      "execution_count": 7,
      "id": "d0329f31",
      "metadata": {
        "id": "d0329f31"
      },
      "outputs": [],
      "source": [
        "def release_list(a):\n",
        "    \n",
        "    del a[:]\n",
        "    del a"
      ]
    },
    {
      "cell_type": "code",
      "execution_count": 8,
      "id": "5beb89e7",
      "metadata": {
        "colab": {
          "base_uri": "https://localhost:8080/"
        },
        "id": "5beb89e7",
        "outputId": "77467814-c8a6-40c9-8c85-fd0f9f54f036"
      },
      "outputs": [
        {
          "output_type": "stream",
          "name": "stdout",
          "text": [
            "22680\n"
          ]
        }
      ],
      "source": [
        "#Wczytanie etykiet do treninegu \n",
        "\n",
        "with open(folder+train_csv,\"r\") as csvfile:\n",
        "    lines = csvfile.readlines()\n",
        "csvfile.close()\n",
        "\n",
        "new = []\n",
        "\n",
        "for i in lines:\n",
        "    new.append(i.split(\" \"))\n",
        "\n",
        "    \n",
        "value_train = []\n",
        "for i in new[0]:\n",
        "    value_train.append(int(i))    \n",
        "    \n",
        "print(len(value_train))"
      ]
    },
    {
      "cell_type": "code",
      "execution_count": 9,
      "id": "_BbuBDFDgvdp",
      "metadata": {
        "colab": {
          "base_uri": "https://localhost:8080/"
        },
        "id": "_BbuBDFDgvdp",
        "outputId": "903aac2b-c15e-4ca4-b2aa-c3e3e25265f0"
      },
      "outputs": [
        {
          "output_type": "stream",
          "name": "stdout",
          "text": [
            "2520\n"
          ]
        }
      ],
      "source": [
        "#Wczytanie etykiet do testowania\n",
        "\n",
        "with open(folder+test_csv,\"r\") as csvfile:\n",
        "    lines = csvfile.readlines()\n",
        "csvfile.close()\n",
        "\n",
        "new = []\n",
        "\n",
        "for i in lines:\n",
        "    new.append(i.split(\" \"))\n",
        "\n",
        "    \n",
        "value_test = []\n",
        "for i in new[0]:\n",
        "    value_test.append(int(i))    \n",
        "    \n",
        "print(len(value_test))"
      ]
    },
    {
      "cell_type": "code",
      "execution_count": 10,
      "id": "d9cb09d8",
      "metadata": {
        "colab": {
          "base_uri": "https://localhost:8080/"
        },
        "id": "d9cb09d8",
        "outputId": "b0b8f922-1b20-48ca-ba2a-941883c8e5f4"
      },
      "outputs": [
        {
          "output_type": "stream",
          "name": "stdout",
          "text": [
            "22680\n"
          ]
        }
      ],
      "source": [
        "#Wczytanie zdjęć treningowych (90% całego zbioru)\n",
        "images_train = []\n",
        "size = len(value_train)\n",
        "\n",
        "for i in range(size):\n",
        "    im = Image.open('/content/train/'+str(i)+'.png')\n",
        "    arr_im = np.array(im) \n",
        "    arr_im = arr_im / 255.0\n",
        "    images_train.append(arr_im) \n",
        "print(len(images_train))"
      ]
    },
    {
      "cell_type": "code",
      "execution_count": 11,
      "id": "9I51x6abky3Q",
      "metadata": {
        "colab": {
          "base_uri": "https://localhost:8080/"
        },
        "id": "9I51x6abky3Q",
        "outputId": "f02be538-8071-4cd4-910e-17ae3b70ecb1"
      },
      "outputs": [
        {
          "output_type": "stream",
          "name": "stdout",
          "text": [
            "2520\n"
          ]
        }
      ],
      "source": [
        "#Wczytanie zdjęć testowych (10% całego zbioru)\n",
        "images_test = []\n",
        "size = len(value_test)\n",
        "\n",
        "for i in range(size):\n",
        "    im = Image.open('/content/test/'+str(i)+'.png')\n",
        "    arr_im = np.array(im) \n",
        "    arr_im = arr_im / 255.0\n",
        "    images_test.append(arr_im) \n",
        "print(len(images_test))"
      ]
    },
    {
      "cell_type": "code",
      "execution_count": 12,
      "id": "f7f4dd4b",
      "metadata": {
        "id": "f7f4dd4b"
      },
      "outputs": [],
      "source": [
        "x_train = np.array(images_train)\n",
        "x_test = np.array(images_test)\n",
        "\n",
        "y_train = np.array(value_train)\n",
        "y_test = np.array(value_test)"
      ]
    },
    {
      "cell_type": "code",
      "execution_count": 13,
      "id": "d3a370cb",
      "metadata": {
        "colab": {
          "base_uri": "https://localhost:8080/",
          "height": 235
        },
        "id": "d3a370cb",
        "outputId": "db06623f-3592-495c-c0c5-f5b9048db65d"
      },
      "outputs": [
        {
          "output_type": "stream",
          "name": "stdout",
          "text": [
            "0\n"
          ]
        },
        {
          "output_type": "display_data",
          "data": {
            "text/plain": [
              "<Figure size 432x288 with 1 Axes>"
            ],
            "image/png": "[encoded data removed]"
          },
          "metadata": {
            "needs_background": "light"
          }
        }
      ],
      "source": [
        "a = 19000\n",
        "plt.imshow(x_train[a],cmap = 'gray')\n",
        "print(y_train[a])"
      ]
    },
    {
      "cell_type": "code",
      "execution_count": 14,
      "id": "772c7d7c",
      "metadata": {
        "id": "772c7d7c"
      },
      "outputs": [],
      "source": [
        "model = models.Sequential()\n",
        "model.add(layers.Conv2D(32, (3, 3), activation='relu', input_shape=(64, 128, 1)))\n",
        "model.add(layers.MaxPooling2D((2, 2)))\n",
        "\n",
        "model.add(layers.BatchNormalization())\n",
        "\n",
        "model.add(layers.Conv2D(32, (3, 3), activation='relu'))\n",
        "model.add(layers.MaxPooling2D((2, 2)))\n",
        "\n",
        "model.add(layers.BatchNormalization())\n",
        "\n",
        "model.add(layers.Conv2D(64, (3, 3), activation='relu'))\n",
        "model.add(layers.MaxPooling2D((2, 2)))\n",
        "\n",
        "model.add(layers.BatchNormalization())\n",
        "\n",
        "model.add(layers.Conv2D(64, (3, 3), activation='relu'))\n",
        "model.add(layers.MaxPooling2D((2, 2)))\n",
        "\n",
        "\n",
        "model.add(layers.BatchNormalization())\n",
        "\n",
        "model.add(layers.Flatten())\n",
        "model.add(layers.Dense(64, activation='relu'))\n",
        "model.add(layers.Dense(1, activation='relu'))"
      ]
    },
    {
      "cell_type": "code",
      "execution_count": 15,
      "id": "b86f72df",
      "metadata": {
        "colab": {
          "base_uri": "https://localhost:8080/"
        },
        "id": "b86f72df",
        "outputId": "d7e85a5b-31e6-44b6-aecc-f531394637db"
      },
      "outputs": [
        {
          "output_type": "stream",
          "name": "stdout",
          "text": [
            "Model: \"sequential\"\n",
            "_________________________________________________________________\n",
            " Layer (type)                Output Shape              Param #   \n",
            "=================================================================\n",
            " conv2d (Conv2D)             (None, 62, 126, 32)       320       \n",
            "                                                                 \n",
            " max_pooling2d (MaxPooling2D  (None, 31, 63, 32)       0         \n",
            " )                                                               \n",
            "                                                                 \n",
            " batch_normalization (BatchN  (None, 31, 63, 32)       128       \n",
            " ormalization)                                                   \n",
            "                                                                 \n",
            " conv2d_1 (Conv2D)           (None, 29, 61, 32)        9248      \n",
            "                                                                 \n",
            " max_pooling2d_1 (MaxPooling  (None, 14, 30, 32)       0         \n",
            " 2D)                                                             \n",
            "                                                                 \n",
            " batch_normalization_1 (Batc  (None, 14, 30, 32)       128       \n",
            " hNormalization)                                                 \n",
            "                                                                 \n",
            " conv2d_2 (Conv2D)           (None, 12, 28, 64)        18496     \n",
            "                                                                 \n",
            " max_pooling2d_2 (MaxPooling  (None, 6, 14, 64)        0         \n",
            " 2D)                                                             \n",
            "                                                                 \n",
            " batch_normalization_2 (Batc  (None, 6, 14, 64)        256       \n",
            " hNormalization)                                                 \n",
            "                                                                 \n",
            " conv2d_3 (Conv2D)           (None, 4, 12, 64)         36928     \n",
            "                                                                 \n",
            " max_pooling2d_3 (MaxPooling  (None, 2, 6, 64)         0         \n",
            " 2D)                                                             \n",
            "                                                                 \n",
            " batch_normalization_3 (Batc  (None, 2, 6, 64)         256       \n",
            " hNormalization)                                                 \n",
            "                                                                 \n",
            " flatten (Flatten)           (None, 768)               0         \n",
            "                                                                 \n",
            " dense (Dense)               (None, 64)                49216     \n",
            "                                                                 \n",
            " dense_1 (Dense)             (None, 1)                 65        \n",
            "                                                                 \n",
            "=================================================================\n",
            "Total params: 115,041\n",
            "Trainable params: 114,657\n",
            "Non-trainable params: 384\n",
            "_________________________________________________________________\n"
          ]
        }
      ],
      "source": [
        "model.summary()"
      ]
    },
    {
      "cell_type": "code",
      "execution_count": 16,
      "id": "9beb77e5",
      "metadata": {
        "colab": {
          "base_uri": "https://localhost:8080/"
        },
        "id": "9beb77e5",
        "outputId": "659a5c7a-f842-4409-a39c-9ec31186b28a"
      },
      "outputs": [
        {
          "output_type": "stream",
          "name": "stdout",
          "text": [
            "Epoch 1/100\n",
            "160/160 [==============================] - 37s 170ms/step - loss: 0.2146 - accuracy: 0.7898 - mse: 0.2146 - val_loss: 1.6060 - val_accuracy: 0.0000e+00 - val_mse: 1.6060\n",
            "Epoch 2/100\n",
            "160/160 [==============================] - 27s 167ms/step - loss: 0.0160 - accuracy: 0.9936 - mse: 0.0160 - val_loss: 2.0727 - val_accuracy: 0.0000e+00 - val_mse: 2.0727\n",
            "Epoch 3/100\n",
            "160/160 [==============================] - 28s 174ms/step - loss: 0.0065 - accuracy: 0.9991 - mse: 0.0065 - val_loss: 0.9387 - val_accuracy: 0.1671 - val_mse: 0.9387\n",
            "Epoch 4/100\n",
            "160/160 [==============================] - 28s 175ms/step - loss: 0.0036 - accuracy: 0.9999 - mse: 0.0036 - val_loss: 0.0552 - val_accuracy: 0.9189 - val_mse: 0.0552\n",
            "Epoch 5/100\n",
            "160/160 [==============================] - 28s 174ms/step - loss: 0.0023 - accuracy: 1.0000 - mse: 0.0023 - val_loss: 0.0049 - val_accuracy: 0.9974 - val_mse: 0.0049\n",
            "Epoch 6/100\n",
            "160/160 [==============================] - 28s 174ms/step - loss: 0.0017 - accuracy: 1.0000 - mse: 0.0017 - val_loss: 0.0021 - val_accuracy: 0.9982 - val_mse: 0.0021\n",
            "Epoch 7/100\n",
            "160/160 [==============================] - 28s 174ms/step - loss: 0.0015 - accuracy: 1.0000 - mse: 0.0015 - val_loss: 8.7313e-04 - val_accuracy: 1.0000 - val_mse: 8.7313e-04\n",
            "Epoch 8/100\n",
            "160/160 [==============================] - 27s 167ms/step - loss: 0.0013 - accuracy: 1.0000 - mse: 0.0013 - val_loss: 9.9662e-04 - val_accuracy: 1.0000 - val_mse: 9.9662e-04\n",
            "Epoch 9/100\n",
            "160/160 [==============================] - 27s 167ms/step - loss: 0.0010 - accuracy: 1.0000 - mse: 0.0010 - val_loss: 0.0014 - val_accuracy: 0.9991 - val_mse: 0.0014\n",
            "Epoch 10/100\n",
            "160/160 [==============================] - 28s 175ms/step - loss: 7.6047e-04 - accuracy: 1.0000 - mse: 7.6047e-04 - val_loss: 7.6320e-04 - val_accuracy: 0.9996 - val_mse: 7.6320e-04\n",
            "Epoch 11/100\n",
            "160/160 [==============================] - 27s 167ms/step - loss: 7.3765e-04 - accuracy: 1.0000 - mse: 7.3765e-04 - val_loss: 8.7184e-04 - val_accuracy: 0.9991 - val_mse: 8.7184e-04\n",
            "Epoch 12/100\n",
            "160/160 [==============================] - 27s 169ms/step - loss: 7.0866e-04 - accuracy: 1.0000 - mse: 7.0866e-04 - val_loss: 8.3738e-04 - val_accuracy: 0.9991 - val_mse: 8.3738e-04\n",
            "Epoch 13/100\n",
            "160/160 [==============================] - 27s 167ms/step - loss: 6.7232e-04 - accuracy: 1.0000 - mse: 6.7232e-04 - val_loss: 0.0013 - val_accuracy: 0.9991 - val_mse: 0.0013\n",
            "Epoch 14/100\n",
            "160/160 [==============================] - 27s 167ms/step - loss: 5.4103e-04 - accuracy: 1.0000 - mse: 5.4103e-04 - val_loss: 9.8682e-04 - val_accuracy: 0.9991 - val_mse: 9.8682e-04\n",
            "Epoch 15/100\n",
            "160/160 [==============================] - 28s 174ms/step - loss: 4.2830e-04 - accuracy: 1.0000 - mse: 4.2830e-04 - val_loss: 7.3557e-04 - val_accuracy: 0.9996 - val_mse: 7.3557e-04\n",
            "Epoch 16/100\n",
            "160/160 [==============================] - 27s 166ms/step - loss: 3.9934e-04 - accuracy: 1.0000 - mse: 3.9934e-04 - val_loss: 8.3820e-04 - val_accuracy: 1.0000 - val_mse: 8.3820e-04\n",
            "Epoch 17/100\n",
            "160/160 [==============================] - 28s 177ms/step - loss: 3.2739e-04 - accuracy: 1.0000 - mse: 3.2739e-04 - val_loss: 5.1751e-04 - val_accuracy: 1.0000 - val_mse: 5.1751e-04\n",
            "Epoch 18/100\n",
            "160/160 [==============================] - 27s 166ms/step - loss: 4.8418e-04 - accuracy: 1.0000 - mse: 4.8418e-04 - val_loss: 0.0011 - val_accuracy: 0.9987 - val_mse: 0.0011\n",
            "Epoch 19/100\n",
            "160/160 [==============================] - 27s 166ms/step - loss: 3.2275e-04 - accuracy: 1.0000 - mse: 3.2275e-04 - val_loss: 5.8032e-04 - val_accuracy: 0.9996 - val_mse: 5.8032e-04\n",
            "Epoch 20/100\n",
            "160/160 [==============================] - 27s 166ms/step - loss: 2.9010e-04 - accuracy: 1.0000 - mse: 2.9010e-04 - val_loss: 5.9956e-04 - val_accuracy: 1.0000 - val_mse: 5.9956e-04\n",
            "Epoch 21/100\n",
            "160/160 [==============================] - 28s 174ms/step - loss: 3.3054e-04 - accuracy: 1.0000 - mse: 3.3054e-04 - val_loss: 3.7696e-04 - val_accuracy: 1.0000 - val_mse: 3.7696e-04\n",
            "Epoch 22/100\n",
            "160/160 [==============================] - 27s 166ms/step - loss: 3.8507e-04 - accuracy: 1.0000 - mse: 3.8507e-04 - val_loss: 5.0764e-04 - val_accuracy: 0.9996 - val_mse: 5.0764e-04\n",
            "Epoch 23/100\n",
            "160/160 [==============================] - 27s 166ms/step - loss: 2.9094e-04 - accuracy: 1.0000 - mse: 2.9094e-04 - val_loss: 5.6128e-04 - val_accuracy: 0.9996 - val_mse: 5.6128e-04\n",
            "Epoch 24/100\n",
            "160/160 [==============================] - 27s 166ms/step - loss: 6.2982e-04 - accuracy: 1.0000 - mse: 6.2982e-04 - val_loss: 0.0019 - val_accuracy: 0.9982 - val_mse: 0.0019\n",
            "Epoch 25/100\n",
            "160/160 [==============================] - 27s 166ms/step - loss: 0.0045 - accuracy: 0.9973 - mse: 0.0045 - val_loss: 0.0270 - val_accuracy: 0.9599 - val_mse: 0.0270\n",
            "Epoch 26/100\n",
            "160/160 [==============================] - 28s 174ms/step - loss: 0.0029 - accuracy: 0.9985 - mse: 0.0029 - val_loss: 5.6221e-06 - val_accuracy: 1.0000 - val_mse: 5.6221e-06\n",
            "Epoch 27/100\n",
            "160/160 [==============================] - 27s 166ms/step - loss: 3.3507e-04 - accuracy: 1.0000 - mse: 3.3507e-04 - val_loss: 3.1487e-04 - val_accuracy: 1.0000 - val_mse: 3.1487e-04\n",
            "Epoch 28/100\n",
            "160/160 [==============================] - 27s 167ms/step - loss: 1.7668e-04 - accuracy: 1.0000 - mse: 1.7668e-04 - val_loss: 1.0352e-04 - val_accuracy: 1.0000 - val_mse: 1.0352e-04\n",
            "Epoch 29/100\n",
            "160/160 [==============================] - 27s 167ms/step - loss: 1.3938e-04 - accuracy: 1.0000 - mse: 1.3938e-04 - val_loss: 6.2957e-05 - val_accuracy: 1.0000 - val_mse: 6.2957e-05\n",
            "Epoch 30/100\n",
            "160/160 [==============================] - 27s 167ms/step - loss: 1.3729e-04 - accuracy: 1.0000 - mse: 1.3729e-04 - val_loss: 6.3823e-05 - val_accuracy: 1.0000 - val_mse: 6.3823e-05\n",
            "Epoch 31/100\n",
            "160/160 [==============================] - 27s 167ms/step - loss: 1.0035e-04 - accuracy: 1.0000 - mse: 1.0035e-04 - val_loss: 8.2793e-05 - val_accuracy: 1.0000 - val_mse: 8.2793e-05\n",
            "Epoch 31: early stopping\n"
          ]
        }
      ],
      "source": [
        "model.compile(optimizer='adam',\n",
        "              loss='mse',\n",
        "              metrics=['accuracy','mse'])\n",
        "\n",
        "#Funckja umożliwia zatrzymanie się uczenia \n",
        "#gdy wartość strat przstanie maleć\n",
        "EarlyStop = EarlyStopping(monitor='val_loss',  \n",
        "                          verbose=1, \n",
        "                          patience=5)\n",
        "\n",
        "\n",
        "ModelCheck = ModelCheckpoint(filepath='/content/drive/MyDrive/Sieci/Zlaczone_firefox.h5',\n",
        "                             monitor='val_loss',\n",
        "                             save_best_only=True)\n",
        "\n",
        "\n",
        "history = model.fit(x=x_train, \n",
        "                    y=y_train, \n",
        "                    epochs=100,\n",
        "                    batch_size=128,\n",
        "                    validation_split=0.1,\n",
        "                    callbacks = [EarlyStop, ModelCheck]\n",
        "                   )"
      ]
    },
    {
      "cell_type": "code",
      "execution_count": 17,
      "id": "fe8633db",
      "metadata": {
        "colab": {
          "base_uri": "https://localhost:8080/",
          "height": 300
        },
        "id": "fe8633db",
        "outputId": "3ae8e7be-d9c7-4d62-c270-e1a28943157d"
      },
      "outputs": [
        {
          "output_type": "execute_result",
          "data": {
            "text/plain": [
              "<matplotlib.legend.Legend at 0x7f30801cf070>"
            ]
          },
          "metadata": {},
          "execution_count": 17
        },
        {
          "output_type": "display_data",
          "data": {
            "text/plain": [
              "<Figure size 432x288 with 1 Axes>"
            ],
            "image/png": "[encoded data removed]"
          },
          "metadata": {
            "needs_background": "light"
          }
        }
      ],
      "source": [
        "plt.plot(history.history['loss'], label='strata')\n",
        "plt.plot(history.history['val_loss'], label = 'strata walidacyjna')\n",
        "plt.xlabel('Epoka')\n",
        "plt.ylabel('Strata')\n",
        "plt.ylim([0.0, 0.5])\n",
        "plt.legend(loc='upper right')"
      ]
    },
    {
      "cell_type": "code",
      "execution_count": 18,
      "id": "8b976089",
      "metadata": {
        "colab": {
          "base_uri": "https://localhost:8080/",
          "height": 300
        },
        "id": "8b976089",
        "outputId": "51d51bc2-dfbd-40b6-a666-10eb1baba003",
        "scrolled": true
      },
      "outputs": [
        {
          "output_type": "execute_result",
          "data": {
            "text/plain": [
              "<matplotlib.legend.Legend at 0x7f308019afa0>"
            ]
          },
          "metadata": {},
          "execution_count": 18
        },
        {
          "output_type": "display_data",
          "data": {
            "text/plain": [
              "<Figure size 432x288 with 1 Axes>"
            ],
            "image/png": "[encoded data removed]"
          },
          "metadata": {
            "needs_background": "light"
          }
        }
      ],
      "source": [
        "plt.plot(history.history['accuracy'], label='precyzja')\n",
        "plt.plot(history.history['val_accuracy'], label = 'precyzja walidacyjna')\n",
        "plt.xlabel('Epoka')\n",
        "plt.ylabel('Precyzja')\n",
        "plt.ylim([0.5, 1])\n",
        "plt.legend(loc='lower right')"
      ]
    },
    {
      "cell_type": "code",
      "execution_count": 19,
      "id": "HWqm9BVzLHfw",
      "metadata": {
        "id": "HWqm9BVzLHfw"
      },
      "outputs": [],
      "source": [
        "best_model = tf.keras.models.load_model('/content/drive/MyDrive/Sieci/Zlaczone_firefox.h5')\n"
      ]
    },
    {
      "cell_type": "code",
      "execution_count": 20,
      "id": "685a286c",
      "metadata": {
        "colab": {
          "base_uri": "https://localhost:8080/"
        },
        "id": "685a286c",
        "outputId": "d85639cd-f97a-4686-b08f-817287ac0b4f"
      },
      "outputs": [
        {
          "output_type": "stream",
          "name": "stdout",
          "text": [
            "79/79 - 2s - loss: 0.1110 - accuracy: 0.8794 - mse: 0.1110 - 2s/epoch - 20ms/step\n"
          ]
        },
        {
          "output_type": "execute_result",
          "data": {
            "text/plain": [
              "[0.11103896259464022, 0.8793650793650793, 0.11103896259464022]"
            ]
          },
          "metadata": {},
          "execution_count": 20
        }
      ],
      "source": [
        "best_model.evaluate(x_test,  y_test, verbose=2)"
      ]
    },
    {
      "cell_type": "code",
      "execution_count": 21,
      "id": "ee941c13",
      "metadata": {
        "colab": {
          "base_uri": "https://localhost:8080/"
        },
        "id": "ee941c13",
        "outputId": "2489caa9-7e39-49b8-a961-3f2be477d090"
      },
      "outputs": [
        {
          "output_type": "stream",
          "name": "stdout",
          "text": [
            "79/79 [==============================] - 1s 12ms/step\n"
          ]
        }
      ],
      "source": [
        "predict_x = best_model.predict(x_test) \n",
        "\n",
        "predictions = (predict_x > 0.5).astype(\"int32\")"
      ]
    },
    {
      "cell_type": "code",
      "execution_count": 22,
      "id": "d8fb12f1",
      "metadata": {
        "colab": {
          "base_uri": "https://localhost:8080/"
        },
        "id": "d8fb12f1",
        "outputId": "225bbffa-738c-486b-dc04-1bf0c1ce4abb"
      },
      "outputs": [
        {
          "output_type": "stream",
          "name": "stdout",
          "text": [
            "[['Tn' 'Nn']\n",
            " ['Np' 'Tp']]\n",
            "tf.Tensor(\n",
            "[[ 974  286]\n",
            " [  18 1242]], shape=(2, 2), dtype=int32)\n"
          ]
        }
      ],
      "source": [
        "names = [['Tn','Nn'],['Np', 'Tp']]\n",
        "names = np.reshape(names,(2,2))\n",
        "print(names)\n",
        "\n",
        "conf = tf.math.confusion_matrix(y_test,predictions)\n",
        "\n",
        "print(conf)"
      ]
    }
  ],
  "metadata": {
    "accelerator": "GPU",
    "colab": {
      "provenance": [],
      "include_colab_link": true
    },
    "gpuClass": "standard",
    "kernelspec": {
      "display_name": "py39",
      "language": "python",
      "name": "py39"
    },
    "language_info": {
      "codemirror_mode": {
        "name": "ipython",
        "version": 3
      },
      "file_extension": ".py",
      "mimetype": "text/x-python",
      "name": "python",
      "nbconvert_exporter": "python",
      "pygments_lexer": "ipython3",
      "version": "3.9.12"
    }
  },
  "nbformat": 4,
  "nbformat_minor": 5
}