{
 "cells": [
  {
   "cell_type": "markdown",
   "id": "65672231",
   "metadata": {
    "colab_type": "text",
    "id": "view-in-github"
   },
   "source": [
    "<a href=\"https://colab.research.google.com/github/ajankowi/Praca_inz/blob/master/Siec/Zlaczone_siec_4_Colab_firefox.ipynb\" target=\"_parent\"><img src=\"https://colab.research.google.com/assets/colab-badge.svg\" alt=\"Open In Colab\"/></a>"
   ]
  },
  {
   "cell_type": "code",
   "execution_count": 1,
   "id": "613f08b5",
   "metadata": {
    "colab": {
     "base_uri": "https://localhost:8080/"
    },
    "id": "613f08b5",
    "outputId": "5c7464ad-43bc-46d9-930c-da607fc4c3b5"
   },
   "outputs": [
    {
     "name": "stdout",
     "output_type": "stream",
     "text": [
      "3.8.16 (default, Dec  7 2022, 01:12:13) \n",
      "[GCC 7.5.0]\n"
     ]
    }
   ],
   "source": [
    "import sys\n",
    "print(sys.version)"
   ]
  },
  {
   "cell_type": "code",
   "execution_count": 2,
   "id": "iY1o7_NmVlGs",
   "metadata": {
    "id": "iY1o7_NmVlGs"
   },
   "outputs": [],
   "source": [
    "#from google.colab import drive\n",
    "#drive.mount(\"/content/drive\", force_remount=True)"
   ]
  },
  {
   "cell_type": "code",
   "execution_count": 3,
   "id": "5eca1117",
   "metadata": {
    "colab": {
     "base_uri": "https://localhost:8080/"
    },
    "id": "5eca1117",
    "outputId": "f06541e7-a9b8-4322-ee4a-9db062b51304"
   },
   "outputs": [
    {
     "name": "stdout",
     "output_type": "stream",
     "text": [
      "TensorFlow version: 2.9.2\n"
     ]
    }
   ],
   "source": [
    "import tensorflow as tf\n",
    "from tensorflow import keras\n",
    "from keras import layers, models, regularizers\n",
    "from keras.layers import Flatten, add, Dense, Dropout \n",
    "from keras.callbacks import ModelCheckpoint, EarlyStopping\n",
    "\n",
    "\n",
    "print(\"TensorFlow version:\", tf.__version__)\n",
    "tf.keras.backend.set_floatx('float64')"
   ]
  },
  {
   "cell_type": "code",
   "execution_count": 4,
   "id": "12022d37",
   "metadata": {
    "id": "12022d37"
   },
   "outputs": [],
   "source": [
    "import matplotlib.pyplot as plt\n",
    "import numpy as np\n",
    "import pandas as pd\n",
    "import seaborn as sns\n",
    "from PIL import Image\n",
    "import os\n",
    "import csv\n",
    "import random\n",
    "\n",
    "import cv2\n",
    "import imutils\n",
    "import glob\n",
    "# Make NumPy printouts easier to read.\n",
    "np.set_printoptions(precision=3, suppress=True)"
   ]
  },
  {
   "cell_type": "code",
   "execution_count": 5,
   "id": "1086f893",
   "metadata": {
    "id": "1086f893"
   },
   "outputs": [],
   "source": [
    "#Określenie ścieżek do plików\n",
    "test_zip = '/content/drive/MyDrive/Sieci/Baza_zdjec_zlaczone_2/Test.zip'\n",
    "test_csv = 'test.csv'\n",
    "\n",
    "train_zip = '/content/drive/MyDrive/Sieci/Baza_zdjec_zlaczone_2/Train.zip'\n",
    "train_csv = 'train.csv'\n",
    "\n",
    "folder = '/content/drive/MyDrive/Sieci/Baza_zdjec_zlaczone_2/'\n",
    "slesh = '/'\n",
    "png = '.png'"
   ]
  },
  {
   "cell_type": "code",
   "execution_count": 6,
   "id": "FXtX4UDo9x77",
   "metadata": {
    "id": "FXtX4UDo9x77"
   },
   "outputs": [],
   "source": [
    "#!unzip '/content/drive/MyDrive/Sieci/Baza_zdjec_zlaczone_2/Train.zip' -d '/content/train/'\n",
    "#!unzip '/content/drive/MyDrive/Sieci/Baza_zdjec_zlaczone_2/Test.zip' -d '/content/test/'"
   ]
  },
  {
   "cell_type": "code",
   "execution_count": 7,
   "id": "d0329f31",
   "metadata": {
    "id": "d0329f31"
   },
   "outputs": [],
   "source": [
    "def release_list(a):\n",
    "    \n",
    "    del a[:]\n",
    "    del a"
   ]
  },
  {
   "cell_type": "code",
   "execution_count": 8,
   "id": "5beb89e7",
   "metadata": {
    "colab": {
     "base_uri": "https://localhost:8080/"
    },
    "id": "5beb89e7",
    "outputId": "612b3ed1-7b82-4f39-c132-ea57eec61f55"
   },
   "outputs": [
    {
     "name": "stdout",
     "output_type": "stream",
     "text": [
      "22680\n"
     ]
    }
   ],
   "source": [
    "#Wczytanie etykiet do treninegu \n",
    "\n",
    "with open(folder+train_csv,\"r\") as csvfile:\n",
    "    lines = csvfile.readlines()\n",
    "csvfile.close()\n",
    "\n",
    "new = []\n",
    "\n",
    "for i in lines:\n",
    "    new.append(i.split(\" \"))\n",
    "\n",
    "    \n",
    "value_train = []\n",
    "for i in new[0]:\n",
    "    value_train.append(int(i))    \n",
    "    \n",
    "print(len(value_train))"
   ]
  },
  {
   "cell_type": "code",
   "execution_count": 9,
   "id": "_BbuBDFDgvdp",
   "metadata": {
    "colab": {
     "base_uri": "https://localhost:8080/"
    },
    "id": "_BbuBDFDgvdp",
    "outputId": "f7ecb5b5-4ab4-41aa-c1e5-12bf27c4538a"
   },
   "outputs": [
    {
     "name": "stdout",
     "output_type": "stream",
     "text": [
      "2520\n"
     ]
    }
   ],
   "source": [
    "#Wczytanie etykiet do testowania\n",
    "\n",
    "with open(folder+test_csv,\"r\") as csvfile:\n",
    "    lines = csvfile.readlines()\n",
    "csvfile.close()\n",
    "\n",
    "new = []\n",
    "\n",
    "for i in lines:\n",
    "    new.append(i.split(\" \"))\n",
    "\n",
    "    \n",
    "value_test = []\n",
    "for i in new[0]:\n",
    "    value_test.append(int(i))    \n",
    "    \n",
    "print(len(value_test))"
   ]
  },
  {
   "cell_type": "code",
   "execution_count": 10,
   "id": "d9cb09d8",
   "metadata": {
    "colab": {
     "base_uri": "https://localhost:8080/"
    },
    "id": "d9cb09d8",
    "outputId": "7dfd9125-87e8-4963-c650-0a2672dc8b20"
   },
   "outputs": [
    {
     "name": "stdout",
     "output_type": "stream",
     "text": [
      "22680\n"
     ]
    }
   ],
   "source": [
    "#Wczytanie zdjęć treningowych (90% całego zbioru)\n",
    "images_train = []\n",
    "size = len(value_train)\n",
    "\n",
    "for i in range(size):\n",
    "    im = Image.open('/content/train/'+str(i)+'.png')\n",
    "    arr_im = np.array(im) \n",
    "    arr_im = arr_im / 255.0\n",
    "    images_train.append(arr_im) \n",
    "print(len(images_train))"
   ]
  },
  {
   "cell_type": "code",
   "execution_count": 11,
   "id": "9I51x6abky3Q",
   "metadata": {
    "colab": {
     "base_uri": "https://localhost:8080/"
    },
    "id": "9I51x6abky3Q",
    "outputId": "a9d3454b-7886-46e0-b706-6dcc9bf6ea92"
   },
   "outputs": [
    {
     "name": "stdout",
     "output_type": "stream",
     "text": [
      "2520\n"
     ]
    }
   ],
   "source": [
    "#Wczytanie zdjęć testowych (10% całego zbioru)\n",
    "images_test = []\n",
    "size = len(value_test)\n",
    "\n",
    "for i in range(size):\n",
    "    im = Image.open('/content/test/'+str(i)+'.png')\n",
    "    arr_im = np.array(im) \n",
    "    arr_im = arr_im / 255.0\n",
    "    images_test.append(arr_im) \n",
    "print(len(images_test))"
   ]
  },
  {
   "cell_type": "code",
   "execution_count": 12,
   "id": "f7f4dd4b",
   "metadata": {
    "id": "f7f4dd4b"
   },
   "outputs": [],
   "source": [
    "x_train = np.array(images_train)\n",
    "x_test = np.array(images_test)\n",
    "\n",
    "y_train = np.array(value_train)\n",
    "y_test = np.array(value_test)"
   ]
  },
  {
   "cell_type": "code",
   "execution_count": 13,
   "id": "d3a370cb",
   "metadata": {
    "colab": {
     "base_uri": "https://localhost:8080/",
     "height": 236
    },
    "id": "d3a370cb",
    "outputId": "40c9ee0d-f7b5-4a6c-8ac1-22b1153c1dc9"
   },
   "outputs": [
    {
     "name": "stdout",
     "output_type": "stream",
     "text": [
      "0\n"
     ]
    },
    {
     "data": {
      "image/png": "[encoded data removed]",
      "text/plain": [
       "<Figure size 432x288 with 1 Axes>"
      ]
     },
     "metadata": {
      "needs_background": "light"
     },
     "output_type": "display_data"
    }
   ],
   "source": [
    "a = 19000\n",
    "plt.imshow(x_train[a],cmap = 'gray')\n",
    "print(y_train[a])"
   ]
  },
  {
   "cell_type": "code",
   "execution_count": 14,
   "id": "772c7d7c",
   "metadata": {
    "id": "772c7d7c"
   },
   "outputs": [],
   "source": [
    "model = models.Sequential()\n",
    "model.add(layers.Conv2D(32, (3, 3), activation='relu', input_shape=(64, 128, 1)))\n",
    "model.add(layers.MaxPooling2D((2, 2)))\n",
    "model.add(layers.Conv2D(32, (3, 3), activation='relu'))\n",
    "model.add(layers.MaxPooling2D((2, 2)))\n",
    "\n",
    "model.add(layers.BatchNormalization())\n",
    "\n",
    "model.add(layers.Conv2D(64, (3, 3), activation='relu'))\n",
    "model.add(layers.MaxPooling2D((2, 2)))\n",
    "model.add(layers.Conv2D(64, (3, 3), activation='relu'))\n",
    "model.add(layers.MaxPooling2D((2, 2)))\n",
    "\n",
    "\n",
    "model.add(layers.BatchNormalization())\n",
    "\n",
    "model.add(layers.Flatten())\n",
    "model.add(layers.Dense(64, activation='relu'))\n",
    "model.add(layers.Dense(1, activation='relu'))"
   ]
  },
  {
   "cell_type": "code",
   "execution_count": 15,
   "id": "b86f72df",
   "metadata": {
    "colab": {
     "base_uri": "https://localhost:8080/"
    },
    "id": "b86f72df",
    "outputId": "20d5c100-a0ec-4a76-97fe-9445beb1dbb6"
   },
   "outputs": [
    {
     "name": "stdout",
     "output_type": "stream",
     "text": [
      "Model: \"sequential\"\n",
      "_________________________________________________________________\n",
      " Layer (type)                Output Shape              Param #   \n",
      "=================================================================\n",
      " conv2d (Conv2D)             (None, 62, 126, 32)       320       \n",
      "                                                                 \n",
      " max_pooling2d (MaxPooling2D  (None, 31, 63, 32)       0         \n",
      " )                                                               \n",
      "                                                                 \n",
      " conv2d_1 (Conv2D)           (None, 29, 61, 32)        9248      \n",
      "                                                                 \n",
      " max_pooling2d_1 (MaxPooling  (None, 14, 30, 32)       0         \n",
      " 2D)                                                             \n",
      "                                                                 \n",
      " batch_normalization (BatchN  (None, 14, 30, 32)       128       \n",
      " ormalization)                                                   \n",
      "                                                                 \n",
      " conv2d_2 (Conv2D)           (None, 12, 28, 64)        18496     \n",
      "                                                                 \n",
      " max_pooling2d_2 (MaxPooling  (None, 6, 14, 64)        0         \n",
      " 2D)                                                             \n",
      "                                                                 \n",
      " conv2d_3 (Conv2D)           (None, 4, 12, 64)         36928     \n",
      "                                                                 \n",
      " max_pooling2d_3 (MaxPooling  (None, 2, 6, 64)         0         \n",
      " 2D)                                                             \n",
      "                                                                 \n",
      " batch_normalization_1 (Batc  (None, 2, 6, 64)         256       \n",
      " hNormalization)                                                 \n",
      "                                                                 \n",
      " flatten (Flatten)           (None, 768)               0         \n",
      "                                                                 \n",
      " dense (Dense)               (None, 64)                49216     \n",
      "                                                                 \n",
      " dense_1 (Dense)             (None, 1)                 65        \n",
      "                                                                 \n",
      "=================================================================\n",
      "Total params: 114,657\n",
      "Trainable params: 114,465\n",
      "Non-trainable params: 192\n",
      "_________________________________________________________________\n"
     ]
    }
   ],
   "source": [
    "model.summary()"
   ]
  },
  {
   "cell_type": "code",
   "execution_count": 16,
   "id": "9beb77e5",
   "metadata": {
    "colab": {
     "base_uri": "https://localhost:8080/"
    },
    "id": "9beb77e5",
    "outputId": "4222fac2-869d-4292-800a-7bbeba72274d"
   },
   "outputs": [
    {
     "name": "stdout",
     "output_type": "stream",
     "text": [
      "Epoch 1/100\n",
      "160/160 [==============================] - 27s 147ms/step - loss: 0.1480 - accuracy: 0.8473 - mse: 0.1480 - val_loss: 1.0422 - val_accuracy: 0.0000e+00 - val_mse: 1.0422\n",
      "Epoch 2/100\n",
      "160/160 [==============================] - 23s 143ms/step - loss: 0.0181 - accuracy: 0.9918 - mse: 0.0181 - val_loss: 0.6754 - val_accuracy: 0.1129 - val_mse: 0.6754\n",
      "Epoch 3/100\n",
      "160/160 [==============================] - 23s 144ms/step - loss: 0.0086 - accuracy: 0.9985 - mse: 0.0086 - val_loss: 0.1812 - val_accuracy: 0.7068 - val_mse: 0.1812\n",
      "Epoch 4/100\n",
      "160/160 [==============================] - 23s 141ms/step - loss: 0.0050 - accuracy: 0.9996 - mse: 0.0050 - val_loss: 0.0097 - val_accuracy: 0.9938 - val_mse: 0.0097\n",
      "Epoch 5/100\n",
      "160/160 [==============================] - 23s 144ms/step - loss: 0.0037 - accuracy: 1.0000 - mse: 0.0037 - val_loss: 0.0064 - val_accuracy: 0.9938 - val_mse: 0.0064\n",
      "Epoch 6/100\n",
      "160/160 [==============================] - 23s 141ms/step - loss: 0.0026 - accuracy: 1.0000 - mse: 0.0026 - val_loss: 0.0027 - val_accuracy: 0.9978 - val_mse: 0.0027\n",
      "Epoch 7/100\n",
      "160/160 [==============================] - 23s 141ms/step - loss: 0.0020 - accuracy: 1.0000 - mse: 0.0020 - val_loss: 0.0020 - val_accuracy: 0.9991 - val_mse: 0.0020\n",
      "Epoch 8/100\n",
      "160/160 [==============================] - 22s 141ms/step - loss: 0.0019 - accuracy: 1.0000 - mse: 0.0019 - val_loss: 0.0011 - val_accuracy: 0.9996 - val_mse: 0.0011\n",
      "Epoch 9/100\n",
      "160/160 [==============================] - 22s 140ms/step - loss: 0.0013 - accuracy: 1.0000 - mse: 0.0013 - val_loss: 0.0011 - val_accuracy: 0.9991 - val_mse: 0.0011\n",
      "Epoch 10/100\n",
      "160/160 [==============================] - 23s 141ms/step - loss: 0.0011 - accuracy: 1.0000 - mse: 0.0011 - val_loss: 7.6208e-04 - val_accuracy: 0.9991 - val_mse: 7.6208e-04\n",
      "Epoch 11/100\n",
      "160/160 [==============================] - 22s 139ms/step - loss: 9.9381e-04 - accuracy: 1.0000 - mse: 9.9381e-04 - val_loss: 0.0010 - val_accuracy: 0.9996 - val_mse: 0.0010\n",
      "Epoch 12/100\n",
      "160/160 [==============================] - 22s 139ms/step - loss: 8.5847e-04 - accuracy: 1.0000 - mse: 8.5847e-04 - val_loss: 0.0018 - val_accuracy: 0.9987 - val_mse: 0.0018\n",
      "Epoch 13/100\n",
      "160/160 [==============================] - 22s 139ms/step - loss: 8.2419e-04 - accuracy: 1.0000 - mse: 8.2419e-04 - val_loss: 0.0016 - val_accuracy: 0.9991 - val_mse: 0.0016\n",
      "Epoch 14/100\n",
      "160/160 [==============================] - 22s 139ms/step - loss: 8.3160e-04 - accuracy: 1.0000 - mse: 8.3160e-04 - val_loss: 0.0011 - val_accuracy: 0.9996 - val_mse: 0.0011\n",
      "Epoch 15/100\n",
      "160/160 [==============================] - 23s 141ms/step - loss: 9.6587e-04 - accuracy: 1.0000 - mse: 9.6587e-04 - val_loss: 3.1539e-04 - val_accuracy: 1.0000 - val_mse: 3.1539e-04\n",
      "Epoch 16/100\n",
      "160/160 [==============================] - 22s 139ms/step - loss: 7.0199e-04 - accuracy: 1.0000 - mse: 7.0199e-04 - val_loss: 0.0011 - val_accuracy: 0.9991 - val_mse: 0.0011\n",
      "Epoch 17/100\n",
      "160/160 [==============================] - 22s 139ms/step - loss: 5.2665e-04 - accuracy: 1.0000 - mse: 5.2665e-04 - val_loss: 9.7092e-04 - val_accuracy: 0.9996 - val_mse: 9.7092e-04\n",
      "Epoch 18/100\n",
      "160/160 [==============================] - 22s 140ms/step - loss: 5.6236e-04 - accuracy: 1.0000 - mse: 5.6236e-04 - val_loss: 0.0028 - val_accuracy: 0.9978 - val_mse: 0.0028\n",
      "Epoch 19/100\n",
      "160/160 [==============================] - 22s 139ms/step - loss: 6.1402e-04 - accuracy: 1.0000 - mse: 6.1402e-04 - val_loss: 6.2231e-04 - val_accuracy: 0.9996 - val_mse: 6.2231e-04\n",
      "Epoch 20/100\n",
      "160/160 [==============================] - 22s 139ms/step - loss: 4.0974e-04 - accuracy: 1.0000 - mse: 4.0974e-04 - val_loss: 0.0013 - val_accuracy: 0.9987 - val_mse: 0.0013\n",
      "Epoch 20: early stopping\n"
     ]
    }
   ],
   "source": [
    "model.compile(optimizer='adam',\n",
    "              loss='mse',\n",
    "              metrics=['accuracy','mse'])\n",
    "\n",
    "#Funckja umożliwia zatrzymanie się uczenia \n",
    "#gdy wartość strat przstanie maleć\n",
    "EarlyStop = EarlyStopping(monitor='val_loss',  \n",
    "                          verbose=1, \n",
    "                          patience=5)\n",
    "\n",
    "\n",
    "ModelCheck = ModelCheckpoint(filepath='/content/drive/MyDrive/Sieci/Zlaczone_firefox.h5',\n",
    "                             monitor='val_loss',\n",
    "                             save_best_only=True)\n",
    "\n",
    "\n",
    "history = model.fit(x=x_train, \n",
    "                    y=y_train, \n",
    "                    epochs=100,\n",
    "                    batch_size=128,\n",
    "                    validation_split=0.1,\n",
    "                    callbacks = [EarlyStop, ModelCheck]\n",
    "                   )"
   ]
  },
  {
   "cell_type": "code",
   "execution_count": 17,
   "id": "fe8633db",
   "metadata": {
    "colab": {
     "base_uri": "https://localhost:8080/",
     "height": 301
    },
    "id": "fe8633db",
    "outputId": "c9f6b105-0e57-4a4c-a07f-ffd4ad12cb1d"
   },
   "outputs": [
    {
     "data": {
      "text/plain": [
       "<matplotlib.legend.Legend at 0x7f7b73fc2640>"
      ]
     },
     "execution_count": 17,
     "metadata": {},
     "output_type": "execute_result"
    },
    {
     "data": {
      "image/png": "[encoded data removed]",
      "text/plain": [
       "<Figure size 432x288 with 1 Axes>"
      ]
     },
     "metadata": {
      "needs_background": "light"
     },
     "output_type": "display_data"
    }
   ],
   "source": [
    "plt.plot(history.history['loss'], label='strata')\n",
    "plt.plot(history.history['val_loss'], label = 'strata walidacyjna')\n",
    "plt.xlabel('Epoka')\n",
    "plt.ylabel('Strata')\n",
    "plt.ylim([0.0, 0.5])\n",
    "plt.legend(loc='upper right')"
   ]
  },
  {
   "cell_type": "code",
   "execution_count": 18,
   "id": "8b976089",
   "metadata": {
    "colab": {
     "base_uri": "https://localhost:8080/",
     "height": 301
    },
    "id": "8b976089",
    "outputId": "2aaf4699-f9a1-42d4-ca72-ed6c8d4c2012",
    "scrolled": true
   },
   "outputs": [
    {
     "data": {
      "text/plain": [
       "<matplotlib.legend.Legend at 0x7f7b73fd7af0>"
      ]
     },
     "execution_count": 18,
     "metadata": {},
     "output_type": "execute_result"
    },
    {
     "data": {
      "image/png": "[encoded data removed]",
      "text/plain": [
       "<Figure size 432x288 with 1 Axes>"
      ]
     },
     "metadata": {
      "needs_background": "light"
     },
     "output_type": "display_data"
    }
   ],
   "source": [
    "plt.plot(history.history['accuracy'], label='precyzja')\n",
    "plt.plot(history.history['val_accuracy'], label = 'precyzja walidacyjna')\n",
    "plt.xlabel('Epoka')\n",
    "plt.ylabel('Precyzja')\n",
    "plt.ylim([0.5, 1])\n",
    "plt.legend(loc='lower right')"
   ]
  },
  {
   "cell_type": "code",
   "execution_count": 19,
   "id": "HWqm9BVzLHfw",
   "metadata": {
    "id": "HWqm9BVzLHfw"
   },
   "outputs": [],
   "source": [
    "best_model = tf.keras.models.load_model('/content/drive/MyDrive/Sieci/Zlaczone_firefox.h5')\n"
   ]
  },
  {
   "cell_type": "code",
   "execution_count": 20,
   "id": "685a286c",
   "metadata": {
    "colab": {
     "base_uri": "https://localhost:8080/"
    },
    "id": "685a286c",
    "outputId": "453a1c50-e356-41cd-9f40-032010bdd0fd"
   },
   "outputs": [
    {
     "name": "stdout",
     "output_type": "stream",
     "text": [
      "79/79 - 1s - loss: 0.1041 - accuracy: 0.8786 - mse: 0.1041 - 1s/epoch - 17ms/step\n"
     ]
    },
    {
     "data": {
      "text/plain": [
       "[0.10412568281014263, 0.8785714285714286, 0.10412568281014263]"
      ]
     },
     "execution_count": 20,
     "metadata": {},
     "output_type": "execute_result"
    }
   ],
   "source": [
    "best_model.evaluate(x_test,  y_test, verbose=2)"
   ]
  },
  {
   "cell_type": "code",
   "execution_count": 21,
   "id": "ee941c13",
   "metadata": {
    "colab": {
     "base_uri": "https://localhost:8080/"
    },
    "id": "ee941c13",
    "outputId": "0182a12d-aa1d-41aa-ef31-96b485e90a5c"
   },
   "outputs": [
    {
     "name": "stdout",
     "output_type": "stream",
     "text": [
      "79/79 [==============================] - 1s 12ms/step\n"
     ]
    }
   ],
   "source": [
    "predict_x = best_model.predict(x_test) \n",
    "\n",
    "predictions = (predict_x > 0.5).astype(\"int32\")"
   ]
  },
  {
   "cell_type": "code",
   "execution_count": 22,
   "id": "d8fb12f1",
   "metadata": {
    "colab": {
     "base_uri": "https://localhost:8080/"
    },
    "id": "d8fb12f1",
    "outputId": "ef522f2c-4827-47e4-8226-388cfa832cc5"
   },
   "outputs": [
    {
     "name": "stdout",
     "output_type": "stream",
     "text": [
      "[['Tn' 'Nn']\n",
      " ['Np' 'Tp']]\n",
      "tf.Tensor(\n",
      "[[1022  238]\n",
      " [  68 1192]], shape=(2, 2), dtype=int32)\n"
     ]
    }
   ],
   "source": [
    "names = [['Tn','Nn'],['Np', 'Tp']]\n",
    "names = np.reshape(names,(2,2))\n",
    "print(names)\n",
    "\n",
    "conf = tf.math.confusion_matrix(y_test,predictions)\n",
    "\n",
    "print(conf)"
   ]
  }
 ],
 "metadata": {
  "accelerator": "GPU",
  "colab": {
   "include_colab_link": true,
   "provenance": []
  },
  "gpuClass": "standard",
  "kernelspec": {
   "display_name": "py39",
   "language": "python",
   "name": "py39"
  },
  "language_info": {
   "codemirror_mode": {
    "name": "ipython",
    "version": 3
   },
   "file_extension": ".py",
   "mimetype": "text/x-python",
   "name": "python",
   "nbconvert_exporter": "python",
   "pygments_lexer": "ipython3",
   "version": "3.9.12"
  }
 },
 "nbformat": 4,
 "nbformat_minor": 5
}
