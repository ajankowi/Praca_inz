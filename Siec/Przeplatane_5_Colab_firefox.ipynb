{
  "cells": [
    {
      "cell_type": "code",
      "execution_count": 1,
      "id": "613f08b5",
      "metadata": {
        "colab": {
          "base_uri": "https://localhost:8080/"
        },
        "id": "613f08b5",
        "outputId": "0311dbd1-500d-4dc2-d082-ad8072997afd"
      },
      "outputs": [
        {
          "output_type": "stream",
          "name": "stdout",
          "text": [
            "3.8.16 (default, Dec  7 2022, 01:12:13) \n",
            "[GCC 7.5.0]\n"
          ]
        }
      ],
      "source": [
        "import sys\n",
        "print(sys.version)"
      ]
    },
    {
      "cell_type": "code",
      "execution_count": 2,
      "id": "0n78XAHmDiUv",
      "metadata": {
        "colab": {
          "base_uri": "https://localhost:8080/"
        },
        "id": "0n78XAHmDiUv",
        "outputId": "4ded601a-024b-4895-b521-154cc61305e0"
      },
      "outputs": [
        {
          "output_type": "stream",
          "name": "stdout",
          "text": [
            "Mounted at /content/drive\n"
          ]
        }
      ],
      "source": [
        "from google.colab import drive\n",
        "drive.mount(\"/content/drive\", force_remount=True)"
      ]
    },
    {
      "cell_type": "code",
      "execution_count": 3,
      "id": "5eca1117",
      "metadata": {
        "colab": {
          "base_uri": "https://localhost:8080/"
        },
        "id": "5eca1117",
        "outputId": "d75098af-dbd0-4a48-ef16-9f38f9d35029"
      },
      "outputs": [
        {
          "output_type": "stream",
          "name": "stdout",
          "text": [
            "TensorFlow version: 2.9.2\n"
          ]
        }
      ],
      "source": [
        "import tensorflow as tf\n",
        "from tensorflow import keras\n",
        "from keras import layers, models, regularizers\n",
        "from keras.layers import Flatten, add, Dense, Dropout \n",
        "from keras.callbacks import ModelCheckpoint, EarlyStopping\n",
        "\n",
        "\n",
        "print(\"TensorFlow version:\", tf.__version__)\n",
        "tf.keras.backend.set_floatx('float64')"
      ]
    },
    {
      "cell_type": "code",
      "execution_count": 4,
      "id": "12022d37",
      "metadata": {
        "id": "12022d37"
      },
      "outputs": [],
      "source": [
        "import matplotlib.pyplot as plt\n",
        "import numpy as np\n",
        "import pandas as pd\n",
        "import seaborn as sns\n",
        "from PIL import Image\n",
        "import os\n",
        "import csv\n",
        "import random\n",
        "\n",
        "import cv2\n",
        "import imutils\n",
        "import glob\n",
        "# Make NumPy printouts easier to read.\n",
        "np.set_printoptions(precision=3, suppress=True)"
      ]
    },
    {
      "cell_type": "code",
      "execution_count": 5,
      "id": "1086f893",
      "metadata": {
        "id": "1086f893"
      },
      "outputs": [],
      "source": [
        "#Określenie ścieżek do plików\n",
        "test_zip = '/content/drive/MyDrive/Sieci/Baza_zdjec_przeplatane_2/Test.zip'\n",
        "test_csv = 'test.csv'\n",
        "\n",
        "train_zip = '/content/drive/MyDrive/Sieci/Baza_zdjec_przeplatane_2/Train.zip'\n",
        "train_csv = 'train.csv'\n",
        "\n",
        "folder = '/content/drive/MyDrive/Sieci/Baza_zdjec_przeplatane_2/'\n",
        "slesh = '/'\n",
        "png = '.png'"
      ]
    },
    {
      "cell_type": "code",
      "execution_count": null,
      "id": "P6mVaPsPDDID",
      "metadata": {
        "id": "P6mVaPsPDDID"
      },
      "outputs": [],
      "source": [
        "#!unzip '/content/drive/MyDrive/Sieci/Baza_zdjec_przeplatane_2/Train.zip' -d '/content/train/'\n",
        "#!unzip '/content/drive/MyDrive/Sieci/Baza_zdjec_przeplatane_2/Test.zip' -d '/content/test/'"
      ]
    },
    {
      "cell_type": "code",
      "execution_count": 7,
      "id": "723b71fc",
      "metadata": {
        "id": "723b71fc"
      },
      "outputs": [],
      "source": [
        "def release_list(a):\n",
        "    \n",
        "    del a[:]\n",
        "    del a"
      ]
    },
    {
      "cell_type": "code",
      "execution_count": 8,
      "id": "5beb89e7",
      "metadata": {
        "colab": {
          "base_uri": "https://localhost:8080/"
        },
        "id": "5beb89e7",
        "outputId": "6eb2a759-f908-4224-d991-83f6ed04cebd"
      },
      "outputs": [
        {
          "output_type": "stream",
          "name": "stdout",
          "text": [
            "22680\n"
          ]
        }
      ],
      "source": [
        "#Wczytanie etykiet do treninegu \n",
        "\n",
        "with open(folder+train_csv,\"r\") as csvfile:\n",
        "    lines = csvfile.readlines()\n",
        "csvfile.close()\n",
        "\n",
        "new = []\n",
        "\n",
        "for i in lines:\n",
        "    new.append(i.split(\" \"))\n",
        "\n",
        "    \n",
        "value_train = []\n",
        "for i in new[0]:\n",
        "    value_train.append(int(i))    \n",
        "    \n",
        "print(len(value_train))"
      ]
    },
    {
      "cell_type": "code",
      "execution_count": 9,
      "id": "b9FTBM2X68V7",
      "metadata": {
        "colab": {
          "base_uri": "https://localhost:8080/"
        },
        "id": "b9FTBM2X68V7",
        "outputId": "ce7a48a5-f20b-4798-ca30-e876306bc141"
      },
      "outputs": [
        {
          "output_type": "stream",
          "name": "stdout",
          "text": [
            "2520\n"
          ]
        }
      ],
      "source": [
        "#Wczytanie etykiet do testowania\n",
        "\n",
        "with open(folder+test_csv,\"r\") as csvfile:\n",
        "    lines = csvfile.readlines()\n",
        "csvfile.close()\n",
        "\n",
        "new = []\n",
        "\n",
        "for i in lines:\n",
        "    new.append(i.split(\" \"))\n",
        "\n",
        "    \n",
        "value_test = []\n",
        "for i in new[0]:\n",
        "    value_test.append(int(i))    \n",
        "    \n",
        "print(len(value_test))"
      ]
    },
    {
      "cell_type": "code",
      "execution_count": 11,
      "id": "d9cb09d8",
      "metadata": {
        "colab": {
          "base_uri": "https://localhost:8080/",
          "height": 356
        },
        "id": "d9cb09d8",
        "outputId": "0c6ea986-8a2a-4447-e749-d0dd6c0b0cd6"
      },
      "outputs": [
        {
          "output_type": "error",
          "ename": "FileNotFoundError",
          "evalue": "ignored",
          "traceback": [
            "\u001b[0;31m---------------------------------------------------------------------------\u001b[0m",
            "\u001b[0;31mFileNotFoundError\u001b[0m                         Traceback (most recent call last)",
            "\u001b[0;32m<ipython-input-11-57343ed382f0>\u001b[0m in \u001b[0;36m<module>\u001b[0;34m\u001b[0m\n\u001b[1;32m      4\u001b[0m \u001b[0;34m\u001b[0m\u001b[0m\n\u001b[1;32m      5\u001b[0m \u001b[0;32mfor\u001b[0m \u001b[0mi\u001b[0m \u001b[0;32min\u001b[0m \u001b[0mrange\u001b[0m\u001b[0;34m(\u001b[0m\u001b[0msize\u001b[0m\u001b[0;34m)\u001b[0m\u001b[0;34m:\u001b[0m\u001b[0;34m\u001b[0m\u001b[0;34m\u001b[0m\u001b[0m\n\u001b[0;32m----> 6\u001b[0;31m     \u001b[0mim\u001b[0m \u001b[0;34m=\u001b[0m \u001b[0mImage\u001b[0m\u001b[0;34m.\u001b[0m\u001b[0mopen\u001b[0m\u001b[0;34m(\u001b[0m\u001b[0;34m'/content/train/'\u001b[0m\u001b[0;34m+\u001b[0m\u001b[0mstr\u001b[0m\u001b[0;34m(\u001b[0m\u001b[0mi\u001b[0m\u001b[0;34m)\u001b[0m\u001b[0;34m+\u001b[0m\u001b[0;34m'.png'\u001b[0m\u001b[0;34m)\u001b[0m\u001b[0;34m\u001b[0m\u001b[0;34m\u001b[0m\u001b[0m\n\u001b[0m\u001b[1;32m      7\u001b[0m     \u001b[0marr_im\u001b[0m \u001b[0;34m=\u001b[0m \u001b[0mnp\u001b[0m\u001b[0;34m.\u001b[0m\u001b[0marray\u001b[0m\u001b[0;34m(\u001b[0m\u001b[0mim\u001b[0m\u001b[0;34m)\u001b[0m\u001b[0;34m\u001b[0m\u001b[0;34m\u001b[0m\u001b[0m\n\u001b[1;32m      8\u001b[0m     \u001b[0marr_im\u001b[0m \u001b[0;34m=\u001b[0m \u001b[0marr_im\u001b[0m \u001b[0;34m/\u001b[0m \u001b[0;36m255.0\u001b[0m\u001b[0;34m\u001b[0m\u001b[0;34m\u001b[0m\u001b[0m\n",
            "\u001b[0;32m/usr/local/lib/python3.8/dist-packages/PIL/Image.py\u001b[0m in \u001b[0;36mopen\u001b[0;34m(fp, mode)\u001b[0m\n\u001b[1;32m   2841\u001b[0m \u001b[0;34m\u001b[0m\u001b[0m\n\u001b[1;32m   2842\u001b[0m     \u001b[0;32mif\u001b[0m \u001b[0mfilename\u001b[0m\u001b[0;34m:\u001b[0m\u001b[0;34m\u001b[0m\u001b[0;34m\u001b[0m\u001b[0m\n\u001b[0;32m-> 2843\u001b[0;31m         \u001b[0mfp\u001b[0m \u001b[0;34m=\u001b[0m \u001b[0mbuiltins\u001b[0m\u001b[0;34m.\u001b[0m\u001b[0mopen\u001b[0m\u001b[0;34m(\u001b[0m\u001b[0mfilename\u001b[0m\u001b[0;34m,\u001b[0m \u001b[0;34m\"rb\"\u001b[0m\u001b[0;34m)\u001b[0m\u001b[0;34m\u001b[0m\u001b[0;34m\u001b[0m\u001b[0m\n\u001b[0m\u001b[1;32m   2844\u001b[0m         \u001b[0mexclusive_fp\u001b[0m \u001b[0;34m=\u001b[0m \u001b[0;32mTrue\u001b[0m\u001b[0;34m\u001b[0m\u001b[0;34m\u001b[0m\u001b[0m\n\u001b[1;32m   2845\u001b[0m \u001b[0;34m\u001b[0m\u001b[0m\n",
            "\u001b[0;31mFileNotFoundError\u001b[0m: [Errno 2] No such file or directory: '/content/train/0.png'"
          ]
        }
      ],
      "source": [
        "#Wczytanie zdjęć treningowych (90% całego zbioru)\n",
        "images_train = []\n",
        "size = len(value_train)\n",
        "\n",
        "for i in range(size):\n",
        "    im = Image.open('/content/train/'+str(i)+'.png')\n",
        "    arr_im = np.array(im) \n",
        "    arr_im = arr_im / 255.0\n",
        "    images_train.append(arr_im) \n",
        "print(len(images_train))"
      ]
    },
    {
      "cell_type": "code",
      "execution_count": null,
      "id": "jyIF3G2Q6_eq",
      "metadata": {
        "id": "jyIF3G2Q6_eq"
      },
      "outputs": [],
      "source": [
        "#Wczytanie zdjęć testowych (10% całego zbioru)\n",
        "images_test = []\n",
        "size = len(value_test)\n",
        "\n",
        "for i in range(size):\n",
        "    im = Image.open('/content/test/'+str(i)+'.png')\n",
        "    arr_im = np.array(im) \n",
        "    arr_im = arr_im / 255.0\n",
        "    images_test.append(arr_im) \n",
        "print(len(images_test))"
      ]
    },
    {
      "cell_type": "code",
      "execution_count": null,
      "id": "f7f4dd4b",
      "metadata": {
        "id": "f7f4dd4b"
      },
      "outputs": [],
      "source": [
        "x_train = np.array(images_train)\n",
        "x_test = np.array(images_test)\n",
        "\n",
        "y_train = np.array(value_train)\n",
        "y_test = np.array(value_test)"
      ]
    },
    {
      "cell_type": "code",
      "execution_count": null,
      "id": "d3a370cb",
      "metadata": {
        "id": "d3a370cb"
      },
      "outputs": [],
      "source": [
        "a = 19000\n",
        "plt.imshow(x_train[a],cmap = 'gray')\n",
        "print(y_train[a])"
      ]
    },
    {
      "cell_type": "code",
      "execution_count": null,
      "id": "772c7d7c",
      "metadata": {
        "id": "772c7d7c"
      },
      "outputs": [],
      "source": [
        "model = models.Sequential()\n",
        "model.add(layers.Conv2D(32, (3, 3), activation='relu', input_shape=(128, 64, 1)))\n",
        "model.add(layers.MaxPooling2D((2, 2)))\n",
        "\n",
        "model.add(layers.BatchNormalization())\n",
        "\n",
        "model.add(layers.Conv2D(32, (3, 3), activation='relu'))\n",
        "model.add(layers.MaxPooling2D((2, 2)))\n",
        "\n",
        "model.add(layers.BatchNormalization())\n",
        "\n",
        "model.add(layers.Conv2D(64, (3, 3), activation='relu'))\n",
        "model.add(layers.MaxPooling2D((2, 2)))\n",
        "\n",
        "model.add(layers.BatchNormalization())\n",
        "\n",
        "model.add(layers.Conv2D(64, (3, 3), activation='relu'))\n",
        "model.add(layers.MaxPooling2D((2, 2)))\n",
        "\n",
        "\n",
        "model.add(layers.BatchNormalization())\n",
        "\n",
        "model.add(layers.Flatten())\n",
        "model.add(layers.Dense(64, activation='relu', kernel_regularizer=keras.regularizers.l2(l=0.1)))\n",
        "model.add(layers.Dense(1, activation='relu'))\n"
      ]
    },
    {
      "cell_type": "code",
      "execution_count": null,
      "id": "b86f72df",
      "metadata": {
        "colab": {
          "base_uri": "https://localhost:8080/"
        },
        "id": "b86f72df",
        "outputId": "99142a94-0dfe-42e8-e0a1-b68bcb681756"
      },
      "outputs": [
        {
          "name": "stdout",
          "output_type": "stream",
          "text": [
            "Model: \"sequential\"\n",
            "_________________________________________________________________\n",
            " Layer (type)                Output Shape              Param #   \n",
            "=================================================================\n",
            " conv2d (Conv2D)             (None, 126, 62, 32)       320       \n",
            "                                                                 \n",
            " max_pooling2d (MaxPooling2D  (None, 63, 31, 32)       0         \n",
            " )                                                               \n",
            "                                                                 \n",
            " conv2d_1 (Conv2D)           (None, 61, 29, 32)        9248      \n",
            "                                                                 \n",
            " max_pooling2d_1 (MaxPooling  (None, 30, 14, 32)       0         \n",
            " 2D)                                                             \n",
            "                                                                 \n",
            " batch_normalization (BatchN  (None, 30, 14, 32)       128       \n",
            " ormalization)                                                   \n",
            "                                                                 \n",
            " conv2d_2 (Conv2D)           (None, 28, 12, 64)        18496     \n",
            "                                                                 \n",
            " max_pooling2d_2 (MaxPooling  (None, 14, 6, 64)        0         \n",
            " 2D)                                                             \n",
            "                                                                 \n",
            " conv2d_3 (Conv2D)           (None, 12, 4, 64)         36928     \n",
            "                                                                 \n",
            " max_pooling2d_3 (MaxPooling  (None, 6, 2, 64)         0         \n",
            " 2D)                                                             \n",
            "                                                                 \n",
            " batch_normalization_1 (Batc  (None, 6, 2, 64)         256       \n",
            " hNormalization)                                                 \n",
            "                                                                 \n",
            " flatten (Flatten)           (None, 768)               0         \n",
            "                                                                 \n",
            " dense (Dense)               (None, 64)                49216     \n",
            "                                                                 \n",
            " dense_1 (Dense)             (None, 1)                 65        \n",
            "                                                                 \n",
            "=================================================================\n",
            "Total params: 114,657\n",
            "Trainable params: 114,465\n",
            "Non-trainable params: 192\n",
            "_________________________________________________________________\n"
          ]
        }
      ],
      "source": [
        "model.summary()"
      ]
    },
    {
      "cell_type": "code",
      "execution_count": null,
      "id": "9beb77e5",
      "metadata": {
        "colab": {
          "base_uri": "https://localhost:8080/"
        },
        "id": "9beb77e5",
        "outputId": "1a802d7d-fdfe-476d-d11f-7feb8df9ecf0"
      },
      "outputs": [
        {
          "name": "stdout",
          "output_type": "stream",
          "text": [
            "Epoch 1/100\n",
            "160/160 [==============================] - 36s 196ms/step - loss: 2.7822 - accuracy: 0.8984 - mse: 0.1053 - val_loss: 0.1323 - val_accuracy: 1.0000 - val_mse: 0.0318\n",
            "Epoch 2/100\n",
            "160/160 [==============================] - 32s 197ms/step - loss: 0.0666 - accuracy: 0.9741 - mse: 0.0299 - val_loss: 0.0748 - val_accuracy: 0.9974 - val_mse: 0.0543\n",
            "Epoch 3/100\n",
            "160/160 [==============================] - 32s 197ms/step - loss: 0.0355 - accuracy: 0.9845 - mse: 0.0193 - val_loss: 0.0336 - val_accuracy: 0.9899 - val_mse: 0.0211\n",
            "Epoch 4/100\n",
            "160/160 [==============================] - 31s 195ms/step - loss: 0.0215 - accuracy: 0.9948 - mse: 0.0109 - val_loss: 0.0100 - val_accuracy: 0.9996 - val_mse: 0.0014\n",
            "Epoch 5/100\n",
            "160/160 [==============================] - 31s 191ms/step - loss: 0.0187 - accuracy: 0.9957 - mse: 0.0096 - val_loss: 0.0134 - val_accuracy: 0.9943 - val_mse: 0.0054\n",
            "Epoch 6/100\n",
            "160/160 [==============================] - 31s 193ms/step - loss: 0.0144 - accuracy: 0.9971 - mse: 0.0072 - val_loss: 0.0630 - val_accuracy: 0.9250 - val_mse: 0.0569\n",
            "Epoch 7/100\n",
            "160/160 [==============================] - 31s 191ms/step - loss: 0.0114 - accuracy: 0.9979 - mse: 0.0055 - val_loss: 0.0410 - val_accuracy: 0.9497 - val_mse: 0.0362\n",
            "Epoch 8/100\n",
            "160/160 [==============================] - 31s 195ms/step - loss: 0.0093 - accuracy: 0.9987 - mse: 0.0045 - val_loss: 0.0060 - val_accuracy: 0.9996 - val_mse: 7.7691e-04\n",
            "Epoch 9/100\n",
            "160/160 [==============================] - 31s 195ms/step - loss: 0.0085 - accuracy: 0.9993 - mse: 0.0039 - val_loss: 0.0049 - val_accuracy: 1.0000 - val_mse: 1.0258e-04\n",
            "Epoch 10/100\n",
            "160/160 [==============================] - 31s 191ms/step - loss: 0.0063 - accuracy: 0.9998 - mse: 0.0027 - val_loss: 0.0050 - val_accuracy: 0.9978 - val_mse: 0.0019\n",
            "Epoch 11/100\n",
            "160/160 [==============================] - 31s 191ms/step - loss: 0.0067 - accuracy: 0.9995 - mse: 0.0032 - val_loss: 0.0088 - val_accuracy: 0.9938 - val_mse: 0.0060\n",
            "Epoch 12/100\n",
            "160/160 [==============================] - 31s 196ms/step - loss: 0.0063 - accuracy: 0.9997 - mse: 0.0029 - val_loss: 0.0041 - val_accuracy: 0.9991 - val_mse: 0.0012\n",
            "Epoch 13/100\n",
            "160/160 [==============================] - 31s 191ms/step - loss: 0.0052 - accuracy: 0.9996 - mse: 0.0024 - val_loss: 0.0142 - val_accuracy: 0.9881 - val_mse: 0.0111\n",
            "Epoch 14/100\n",
            "160/160 [==============================] - 31s 195ms/step - loss: 0.0047 - accuracy: 0.9998 - mse: 0.0022 - val_loss: 0.0036 - val_accuracy: 0.9987 - val_mse: 0.0014\n",
            "Epoch 15/100\n",
            "160/160 [==============================] - 31s 191ms/step - loss: 0.0062 - accuracy: 0.9992 - mse: 0.0029 - val_loss: 0.0220 - val_accuracy: 0.9709 - val_mse: 0.0188\n",
            "Epoch 16/100\n",
            "160/160 [==============================] - 31s 191ms/step - loss: 0.0087 - accuracy: 0.9984 - mse: 0.0042 - val_loss: 0.0040 - val_accuracy: 0.9996 - val_mse: 3.5236e-04\n",
            "Epoch 17/100\n",
            "160/160 [==============================] - 31s 195ms/step - loss: 0.0036 - accuracy: 1.0000 - mse: 0.0014 - val_loss: 0.0021 - val_accuracy: 0.9996 - val_mse: 2.4537e-04\n",
            "Epoch 18/100\n",
            "160/160 [==============================] - 31s 192ms/step - loss: 0.0057 - accuracy: 0.9991 - mse: 0.0025 - val_loss: 0.0056 - val_accuracy: 0.9974 - val_mse: 0.0020\n",
            "Epoch 19/100\n",
            "160/160 [==============================] - 31s 191ms/step - loss: 0.0087 - accuracy: 0.9974 - mse: 0.0044 - val_loss: 0.0617 - val_accuracy: 0.9078 - val_mse: 0.0590\n",
            "Epoch 20/100\n",
            "160/160 [==============================] - 30s 190ms/step - loss: 0.0040 - accuracy: 0.9996 - mse: 0.0017 - val_loss: 0.0144 - val_accuracy: 0.9832 - val_mse: 0.0124\n",
            "Epoch 21/100\n",
            "160/160 [==============================] - 30s 191ms/step - loss: 0.0023 - accuracy: 1.0000 - mse: 8.6962e-04 - val_loss: 0.0024 - val_accuracy: 0.9991 - val_mse: 0.0011\n",
            "Epoch 22/100\n",
            "160/160 [==============================] - 30s 191ms/step - loss: 0.0023 - accuracy: 0.9999 - mse: 8.6678e-04 - val_loss: 0.0032 - val_accuracy: 0.9982 - val_mse: 0.0018\n",
            "Epoch 22: early stopping\n"
          ]
        }
      ],
      "source": [
        "model.compile(optimizer='adam',\n",
        "              loss='mse',\n",
        "              metrics=['accuracy','mse'])\n",
        "\n",
        "#Funcka umożliwia zatrzymanie się uczenia \n",
        "#gdy wartość strat przstanie maleć\n",
        "EarlyStop = EarlyStopping(monitor='val_loss',  \n",
        "                          verbose=1, \n",
        "                          patience=5)\n",
        "\n",
        "\n",
        "ModelCheck = ModelCheckpoint(filepath='/content/drive/MyDrive/Sieci/Przeplatane_forefox.h5',\n",
        "                             monitor='val_loss',\n",
        "                             save_best_only=True)\n",
        "\n",
        "history = model.fit(x=x_train, \n",
        "                    y=y_train, \n",
        "                    epochs=100,\n",
        "                    batch_size=128,\n",
        "                    validation_split=0.1,\n",
        "                    callbacks = [EarlyStop, ModelCheck]\n",
        "                   )"
      ]
    },
    {
      "cell_type": "code",
      "execution_count": null,
      "id": "3680f8c1",
      "metadata": {
        "colab": {
          "base_uri": "https://localhost:8080/",
          "height": 300
        },
        "id": "3680f8c1",
        "outputId": "9b3ebda5-9e59-4ece-f38a-f139bb0ba2e0",
        "scrolled": true
      },
      "outputs": [
        {
          "data": {
            "text/plain": [
              "<matplotlib.legend.Legend at 0x7ff2fa5591f0>"
            ]
          },
          "execution_count": 18,
          "metadata": {},
          "output_type": "execute_result"
        },
        {
          "data": {
            "image/png": "[encoded data removed]",
            "text/plain": [
              "<Figure size 432x288 with 1 Axes>"
            ]
          },
          "metadata": {
            "needs_background": "light"
          },
          "output_type": "display_data"
        }
      ],
      "source": [
        "plt.plot(history.history['loss'], label='strata')\n",
        "plt.plot(history.history['val_loss'], label = 'strata walidacyjna')\n",
        "plt.xlabel('Epoka')\n",
        "plt.ylabel('Strata')\n",
        "plt.ylim([0.0, 0.5])\n",
        "plt.legend(loc='upper right')"
      ]
    },
    {
      "cell_type": "code",
      "execution_count": null,
      "id": "fe8633db",
      "metadata": {
        "colab": {
          "base_uri": "https://localhost:8080/",
          "height": 300
        },
        "id": "fe8633db",
        "outputId": "bc52a33a-f286-4314-a5ca-daf68e409991"
      },
      "outputs": [
        {
          "data": {
            "text/plain": [
              "<matplotlib.legend.Legend at 0x7ff2fa593820>"
            ]
          },
          "execution_count": 19,
          "metadata": {},
          "output_type": "execute_result"
        },
        {
          "data": {
            "image/png": "[encoded data removed]",
            "text/plain": [
              "<Figure size 432x288 with 1 Axes>"
            ]
          },
          "metadata": {
            "needs_background": "light"
          },
          "output_type": "display_data"
        }
      ],
      "source": [
        "plt.plot(history.history['accuracy'], label='precyzja')\n",
        "plt.plot(history.history['val_accuracy'], label = 'precyzja walidacyjna')\n",
        "plt.xlabel('Epoka')\n",
        "plt.ylabel('Precyzja')\n",
        "plt.ylim([0.5, 1])\n",
        "plt.legend(loc='lower right')"
      ]
    },
    {
      "cell_type": "code",
      "execution_count": null,
      "id": "685a286c",
      "metadata": {
        "colab": {
          "base_uri": "https://localhost:8080/"
        },
        "id": "685a286c",
        "outputId": "f0cb4975-d59e-4d81-8b18-58c52cac064d"
      },
      "outputs": [
        {
          "name": "stdout",
          "output_type": "stream",
          "text": [
            "79/79 - 1s - loss: 0.0602 - accuracy: 0.9187 - mse: 0.0588 - 1s/epoch - 17ms/step\n"
          ]
        },
        {
          "data": {
            "text/plain": [
              "[0.06021955930022104, 0.9186507936507936, 0.05879899178705315]"
            ]
          },
          "execution_count": 20,
          "metadata": {},
          "output_type": "execute_result"
        }
      ],
      "source": [
        "model.evaluate(x_test,  y_test, verbose=2)"
      ]
    },
    {
      "cell_type": "code",
      "execution_count": null,
      "id": "194f39e9",
      "metadata": {
        "id": "194f39e9"
      },
      "outputs": [],
      "source": [
        "best_model = tf.keras.models.load_model('/content/drive/MyDrive/Sieci/Przeplatane_forefox.h5')"
      ]
    },
    {
      "cell_type": "code",
      "execution_count": null,
      "id": "ewHB7W_bskUm",
      "metadata": {
        "colab": {
          "base_uri": "https://localhost:8080/"
        },
        "id": "ewHB7W_bskUm",
        "outputId": "ffc406b2-dac9-4b5f-a8d2-443c1ba4dff4"
      },
      "outputs": [
        {
          "name": "stdout",
          "output_type": "stream",
          "text": [
            "79/79 - 1s - loss: 0.0412 - accuracy: 0.9540 - mse: 0.0393 - 1s/epoch - 17ms/step\n"
          ]
        },
        {
          "data": {
            "text/plain": [
              "[0.04116797539919396, 0.953968253968254, 0.03931635350511138]"
            ]
          },
          "execution_count": 22,
          "metadata": {},
          "output_type": "execute_result"
        }
      ],
      "source": [
        "best_model.evaluate(x_test,  y_test, verbose=2)"
      ]
    },
    {
      "cell_type": "code",
      "execution_count": null,
      "id": "UXFfOAksska6",
      "metadata": {
        "colab": {
          "base_uri": "https://localhost:8080/"
        },
        "id": "UXFfOAksska6",
        "outputId": "d3c17730-7b67-4707-9ce2-ec05939adfe2"
      },
      "outputs": [
        {
          "name": "stdout",
          "output_type": "stream",
          "text": [
            "79/79 [==============================] - 1s 12ms/step\n"
          ]
        }
      ],
      "source": [
        "predict_x = best_model.predict(x_test) \n",
        "\n",
        "predictions = (predict_x > 0.5).astype(\"int32\")"
      ]
    },
    {
      "cell_type": "code",
      "execution_count": null,
      "id": "u4OPDhfgskeU",
      "metadata": {
        "colab": {
          "base_uri": "https://localhost:8080/"
        },
        "id": "u4OPDhfgskeU",
        "outputId": "9ec3f280-23af-46b5-b999-be22ee6f745b"
      },
      "outputs": [
        {
          "name": "stdout",
          "output_type": "stream",
          "text": [
            "[['Tn' 'Nn']\n",
            " ['Np' 'Tp']]\n",
            "tf.Tensor(\n",
            "[[1247   13]\n",
            " [ 103 1157]], shape=(2, 2), dtype=int32)\n"
          ]
        }
      ],
      "source": [
        "names = [['Tn','Nn'],['Np', 'Tp']]\n",
        "names = np.reshape(names,(2,2))\n",
        "print(names)\n",
        "\n",
        "conf = tf.math.confusion_matrix(y_test,predictions)\n",
        "\n",
        "print(conf)"
      ]
    }
  ],
  "metadata": {
    "accelerator": "GPU",
    "colab": {
      "provenance": []
    },
    "gpuClass": "standard",
    "kernelspec": {
      "display_name": "py39",
      "language": "python",
      "name": "py39"
    },
    "language_info": {
      "codemirror_mode": {
        "name": "ipython",
        "version": 3
      },
      "file_extension": ".py",
      "mimetype": "text/x-python",
      "name": "python",
      "nbconvert_exporter": "python",
      "pygments_lexer": "ipython3",
      "version": "3.9.12"
    }
  },
  "nbformat": 4,
  "nbformat_minor": 5
}