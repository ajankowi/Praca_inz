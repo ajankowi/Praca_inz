{
  "cells": [
    {
      "cell_type": "markdown",
      "metadata": {
        "id": "view-in-github",
        "colab_type": "text"
      },
      "source": [
        "<a href=\"https://colab.research.google.com/github/ajankowi/Praca_inz/blob/master/Siec/Zlaczone_siec_4_Colab_firefox.ipynb\" target=\"_parent\"><img src=\"https://colab.research.google.com/assets/colab-badge.svg\" alt=\"Open In Colab\"/></a>"
      ]
    },
    {
      "cell_type": "code",
      "execution_count": 1,
      "id": "613f08b5",
      "metadata": {
        "colab": {
          "base_uri": "https://localhost:8080/"
        },
        "id": "613f08b5",
        "outputId": "630d31fc-b9a1-4dc9-8a80-c0e0ea581d8b"
      },
      "outputs": [
        {
          "output_type": "stream",
          "name": "stdout",
          "text": [
            "3.8.16 (default, Dec  7 2022, 01:12:13) \n",
            "[GCC 7.5.0]\n"
          ]
        }
      ],
      "source": [
        "import sys\n",
        "print(sys.version)"
      ]
    },
    {
      "cell_type": "code",
      "execution_count": 2,
      "id": "iY1o7_NmVlGs",
      "metadata": {
        "colab": {
          "base_uri": "https://localhost:8080/"
        },
        "id": "iY1o7_NmVlGs",
        "outputId": "fea6f35f-e5b4-46f9-beee-4328625d02cc"
      },
      "outputs": [
        {
          "output_type": "stream",
          "name": "stdout",
          "text": [
            "Mounted at /content/drive\n"
          ]
        }
      ],
      "source": [
        "#from google.colab import drive\n",
        "#drive.mount(\"/content/drive\", force_remount=True)"
      ]
    },
    {
      "cell_type": "code",
      "execution_count": 3,
      "id": "5eca1117",
      "metadata": {
        "colab": {
          "base_uri": "https://localhost:8080/"
        },
        "id": "5eca1117",
        "outputId": "49630b80-1750-427a-d00e-995d2a43276b"
      },
      "outputs": [
        {
          "output_type": "stream",
          "name": "stdout",
          "text": [
            "TensorFlow version: 2.9.2\n"
          ]
        }
      ],
      "source": [
        "import tensorflow as tf\n",
        "from tensorflow import keras\n",
        "from keras import layers, models, regularizers\n",
        "from keras.layers import Flatten, add, Dense, Dropout \n",
        "from keras.callbacks import ModelCheckpoint, EarlyStopping\n",
        "\n",
        "\n",
        "print(\"TensorFlow version:\", tf.__version__)\n",
        "tf.keras.backend.set_floatx('float64')"
      ]
    },
    {
      "cell_type": "code",
      "execution_count": 4,
      "id": "12022d37",
      "metadata": {
        "id": "12022d37"
      },
      "outputs": [],
      "source": [
        "import matplotlib.pyplot as plt\n",
        "import numpy as np\n",
        "import pandas as pd\n",
        "import seaborn as sns\n",
        "from PIL import Image\n",
        "import os\n",
        "import csv\n",
        "import random\n",
        "\n",
        "import cv2\n",
        "import imutils\n",
        "import glob\n",
        "# Make NumPy printouts easier to read.\n",
        "np.set_printoptions(precision=3, suppress=True)"
      ]
    },
    {
      "cell_type": "code",
      "execution_count": 5,
      "id": "1086f893",
      "metadata": {
        "id": "1086f893"
      },
      "outputs": [],
      "source": [
        "#Określenie ścieżek do plików\n",
        "test_zip = '/content/drive/MyDrive/Sieci/Baza_zdjec_zlaczone_2/Test.zip'\n",
        "test_csv = 'test.csv'\n",
        "\n",
        "train_zip = '/content/drive/MyDrive/Sieci/Baza_zdjec_zlaczone_2/Train.zip'\n",
        "train_csv = 'train.csv'\n",
        "\n",
        "folder = '/content/drive/MyDrive/Sieci/Baza_zdjec_zlaczone_2/'\n",
        "slesh = '/'\n",
        "png = '.png'"
      ]
    },
    {
      "cell_type": "code",
      "execution_count": null,
      "id": "FXtX4UDo9x77",
      "metadata": {
        "id": "FXtX4UDo9x77"
      },
      "outputs": [],
      "source": [
        "#!unzip '/content/drive/MyDrive/Sieci/Baza_zdjec_zlaczone_2/Train.zip' -d '/content/train/'\n",
        "#!unzip '/content/drive/MyDrive/Sieci/Baza_zdjec_zlaczone_2/Test.zip' -d '/content/test/'"
      ]
    },
    {
      "cell_type": "code",
      "execution_count": 10,
      "id": "d0329f31",
      "metadata": {
        "id": "d0329f31"
      },
      "outputs": [],
      "source": [
        "def release_list(a):\n",
        "    \n",
        "    del a[:]\n",
        "    del a"
      ]
    },
    {
      "cell_type": "code",
      "execution_count": 11,
      "id": "5beb89e7",
      "metadata": {
        "colab": {
          "base_uri": "https://localhost:8080/"
        },
        "id": "5beb89e7",
        "outputId": "373514f6-b2cb-4d26-8fba-cec7bd1936fe"
      },
      "outputs": [
        {
          "output_type": "stream",
          "name": "stdout",
          "text": [
            "22680\n"
          ]
        }
      ],
      "source": [
        "#Wczytanie etykiet do treninegu \n",
        "\n",
        "with open(folder+train_csv,\"r\") as csvfile:\n",
        "    lines = csvfile.readlines()\n",
        "csvfile.close()\n",
        "\n",
        "new = []\n",
        "\n",
        "for i in lines:\n",
        "    new.append(i.split(\" \"))\n",
        "\n",
        "    \n",
        "value_train = []\n",
        "for i in new[0]:\n",
        "    value_train.append(int(i))    \n",
        "    \n",
        "print(len(value_train))"
      ]
    },
    {
      "cell_type": "code",
      "execution_count": 12,
      "id": "_BbuBDFDgvdp",
      "metadata": {
        "colab": {
          "base_uri": "https://localhost:8080/"
        },
        "id": "_BbuBDFDgvdp",
        "outputId": "cab8362b-bce3-4827-bad9-36df346ffd6a"
      },
      "outputs": [
        {
          "output_type": "stream",
          "name": "stdout",
          "text": [
            "2520\n"
          ]
        }
      ],
      "source": [
        "#Wczytanie etykiet do testowania\n",
        "\n",
        "with open(folder+test_csv,\"r\") as csvfile:\n",
        "    lines = csvfile.readlines()\n",
        "csvfile.close()\n",
        "\n",
        "new = []\n",
        "\n",
        "for i in lines:\n",
        "    new.append(i.split(\" \"))\n",
        "\n",
        "    \n",
        "value_test = []\n",
        "for i in new[0]:\n",
        "    value_test.append(int(i))    \n",
        "    \n",
        "print(len(value_test))"
      ]
    },
    {
      "cell_type": "code",
      "execution_count": 13,
      "id": "d9cb09d8",
      "metadata": {
        "colab": {
          "base_uri": "https://localhost:8080/"
        },
        "id": "d9cb09d8",
        "outputId": "c50c43a7-e2d7-4292-9988-fe5e2fd794c0"
      },
      "outputs": [
        {
          "output_type": "stream",
          "name": "stdout",
          "text": [
            "22680\n"
          ]
        }
      ],
      "source": [
        "#Wczytanie zdjęć treningowych (90% całego zbioru)\n",
        "images_train = []\n",
        "size = len(value_train)\n",
        "\n",
        "for i in range(size):\n",
        "    im = Image.open('/content/train/'+str(i)+'.png')\n",
        "    arr_im = np.array(im) \n",
        "    arr_im = arr_im / 255.0\n",
        "    images_train.append(arr_im) \n",
        "print(len(images_train))"
      ]
    },
    {
      "cell_type": "code",
      "execution_count": 14,
      "id": "9I51x6abky3Q",
      "metadata": {
        "colab": {
          "base_uri": "https://localhost:8080/"
        },
        "id": "9I51x6abky3Q",
        "outputId": "034183a5-1a22-43ed-86e2-a2a3b9888fd9"
      },
      "outputs": [
        {
          "output_type": "stream",
          "name": "stdout",
          "text": [
            "2520\n"
          ]
        }
      ],
      "source": [
        "#Wczytanie zdjęć testowych (10% całego zbioru)\n",
        "images_test = []\n",
        "size = len(value_test)\n",
        "\n",
        "for i in range(size):\n",
        "    im = Image.open('/content/test/'+str(i)+'.png')\n",
        "    arr_im = np.array(im) \n",
        "    arr_im = arr_im / 255.0\n",
        "    images_test.append(arr_im) \n",
        "print(len(images_test))"
      ]
    },
    {
      "cell_type": "code",
      "execution_count": 15,
      "id": "f7f4dd4b",
      "metadata": {
        "id": "f7f4dd4b"
      },
      "outputs": [],
      "source": [
        "x_train = np.array(images_train)\n",
        "x_test = np.array(images_test)\n",
        "\n",
        "y_train = np.array(value_train)\n",
        "y_test = np.array(value_test)"
      ]
    },
    {
      "cell_type": "code",
      "execution_count": 16,
      "id": "d3a370cb",
      "metadata": {
        "colab": {
          "base_uri": "https://localhost:8080/",
          "height": 361
        },
        "id": "d3a370cb",
        "outputId": "49261bcb-d984-4112-e82f-d9168ca7b78c"
      },
      "outputs": [
        {
          "output_type": "stream",
          "name": "stdout",
          "text": [
            "[[0.196 0.196 0.192 ... 0.235 0.216 0.263]\n",
            " [0.196 0.208 0.165 ... 0.275 0.153 0.259]\n",
            " [0.204 0.22  0.173 ... 0.275 0.192 0.247]\n",
            " ...\n",
            " [0.196 0.204 0.192 ... 0.18  0.173 0.173]\n",
            " [0.192 0.196 0.2   ... 0.176 0.18  0.18 ]\n",
            " [0.192 0.192 0.2   ... 0.169 0.173 0.176]]\n",
            "1\n"
          ]
        },
        {
          "output_type": "display_data",
          "data": {
            "text/plain": [
              "<Figure size 432x288 with 1 Axes>"
            ],
            "image/png": "[encoded data removed]"
          },
          "metadata": {
            "needs_background": "light"
          }
        }
      ],
      "source": [
        "plt.imshow(x_train[4000],cmap = 'gray')\n",
        "print(x_train[0])\n",
        "print(y_train[0])"
      ]
    },
    {
      "cell_type": "code",
      "execution_count": 17,
      "id": "772c7d7c",
      "metadata": {
        "id": "772c7d7c"
      },
      "outputs": [],
      "source": [
        "model = models.Sequential()\n",
        "model.add(layers.Conv2D(32, (3, 3), activation='relu', input_shape=(64, 128, 1)))\n",
        "model.add(layers.BatchNormalization())\n",
        "model.add(layers.MaxPooling2D((2, 2)))\n",
        "\n",
        "\n",
        "model.add(layers.Conv2D(64, (3, 3), activation='relu'))\n",
        "model.add(layers.BatchNormalization())\n",
        "model.add(layers.MaxPooling2D((2, 2)))\n",
        "\n",
        "\n",
        "model.add(layers.Conv2D(64, (3, 3), activation='relu'))\n",
        "model.add(layers.BatchNormalization())\n",
        "model.add(layers.MaxPooling2D((2, 2)))\n",
        "\n",
        "\n",
        "model.add(layers.Flatten())\n",
        "model.add(layers.Dense(64, activation='relu', kernel_regularizer=keras.regularizers.l2(l=0.1)))\n",
        "model.add(layers.Dense(1, activation='relu'))\n"
      ]
    },
    {
      "cell_type": "code",
      "execution_count": 18,
      "id": "b86f72df",
      "metadata": {
        "colab": {
          "base_uri": "https://localhost:8080/"
        },
        "id": "b86f72df",
        "outputId": "0e821a1f-33d3-4bb6-ed51-bb09d24d226c"
      },
      "outputs": [
        {
          "output_type": "stream",
          "name": "stdout",
          "text": [
            "Model: \"sequential\"\n",
            "_________________________________________________________________\n",
            " Layer (type)                Output Shape              Param #   \n",
            "=================================================================\n",
            " conv2d (Conv2D)             (None, 62, 126, 32)       320       \n",
            "                                                                 \n",
            " batch_normalization (BatchN  (None, 62, 126, 32)      128       \n",
            " ormalization)                                                   \n",
            "                                                                 \n",
            " max_pooling2d (MaxPooling2D  (None, 31, 63, 32)       0         \n",
            " )                                                               \n",
            "                                                                 \n",
            " conv2d_1 (Conv2D)           (None, 29, 61, 64)        18496     \n",
            "                                                                 \n",
            " batch_normalization_1 (Batc  (None, 29, 61, 64)       256       \n",
            " hNormalization)                                                 \n",
            "                                                                 \n",
            " max_pooling2d_1 (MaxPooling  (None, 14, 30, 64)       0         \n",
            " 2D)                                                             \n",
            "                                                                 \n",
            " conv2d_2 (Conv2D)           (None, 12, 28, 64)        36928     \n",
            "                                                                 \n",
            " batch_normalization_2 (Batc  (None, 12, 28, 64)       256       \n",
            " hNormalization)                                                 \n",
            "                                                                 \n",
            " max_pooling2d_2 (MaxPooling  (None, 6, 14, 64)        0         \n",
            " 2D)                                                             \n",
            "                                                                 \n",
            " flatten (Flatten)           (None, 5376)              0         \n",
            "                                                                 \n",
            " dense (Dense)               (None, 64)                344128    \n",
            "                                                                 \n",
            " dense_1 (Dense)             (None, 1)                 65        \n",
            "                                                                 \n",
            "=================================================================\n",
            "Total params: 400,577\n",
            "Trainable params: 400,257\n",
            "Non-trainable params: 320\n",
            "_________________________________________________________________\n"
          ]
        }
      ],
      "source": [
        "model.summary()"
      ]
    },
    {
      "cell_type": "code",
      "execution_count": 19,
      "id": "9beb77e5",
      "metadata": {
        "colab": {
          "base_uri": "https://localhost:8080/"
        },
        "id": "9beb77e5",
        "outputId": "34889362-ee71-478a-b047-f85fce97143e"
      },
      "outputs": [
        {
          "output_type": "stream",
          "name": "stdout",
          "text": [
            "Epoch 1/100\n",
            "80/80 [==============================] - 63s 640ms/step - loss: 3.3556 - accuracy: 0.4453 - mse: 0.5581 - val_loss: 5.2725 - val_accuracy: 0.0000e+00 - val_mse: 5.1030\n",
            "Epoch 2/100\n",
            "80/80 [==============================] - 49s 616ms/step - loss: 0.6047 - accuracy: 0.4444 - mse: 0.5556 - val_loss: 0.0526 - val_accuracy: 1.0000 - val_mse: 0.0466\n",
            "Epoch 3/100\n",
            "80/80 [==============================] - 49s 618ms/step - loss: 0.5574 - accuracy: 0.4444 - mse: 0.5556 - val_loss: 2.3354e-04 - val_accuracy: 1.0000 - val_mse: 0.0000e+00\n",
            "Epoch 4/100\n",
            "80/80 [==============================] - 51s 632ms/step - loss: 0.5556 - accuracy: 0.4444 - mse: 0.5556 - val_loss: 9.9289e-06 - val_accuracy: 1.0000 - val_mse: 0.0000e+00\n",
            "Epoch 5/100\n",
            "80/80 [==============================] - 49s 617ms/step - loss: 0.5556 - accuracy: 0.4444 - mse: 0.5556 - val_loss: 4.5703e-07 - val_accuracy: 1.0000 - val_mse: 0.0000e+00\n",
            "Epoch 6/100\n",
            "80/80 [==============================] - 49s 616ms/step - loss: 0.5556 - accuracy: 0.4444 - mse: 0.5556 - val_loss: 2.2233e-08 - val_accuracy: 1.0000 - val_mse: 0.0000e+00\n",
            "Epoch 7/100\n",
            "80/80 [==============================] - 49s 616ms/step - loss: 0.5556 - accuracy: 0.4444 - mse: 0.5556 - val_loss: 1.6939e-09 - val_accuracy: 1.0000 - val_mse: 0.0000e+00\n",
            "Epoch 8/100\n",
            "80/80 [==============================] - 49s 617ms/step - loss: 0.5556 - accuracy: 0.4444 - mse: 0.5556 - val_loss: 3.2589e-10 - val_accuracy: 1.0000 - val_mse: 0.0000e+00\n",
            "Epoch 9/100\n",
            "80/80 [==============================] - 49s 617ms/step - loss: 0.5556 - accuracy: 0.4444 - mse: 0.5556 - val_loss: 5.7203e-11 - val_accuracy: 1.0000 - val_mse: 0.0000e+00\n",
            "Epoch 10/100\n",
            "80/80 [==============================] - 49s 618ms/step - loss: 0.5556 - accuracy: 0.4444 - mse: 0.5556 - val_loss: 4.2513e-12 - val_accuracy: 1.0000 - val_mse: 0.0000e+00\n",
            "Epoch 11/100\n",
            "80/80 [==============================] - 49s 607ms/step - loss: 0.5556 - accuracy: 0.4444 - mse: 0.5556 - val_loss: 4.3442e-10 - val_accuracy: 1.0000 - val_mse: 0.0000e+00\n",
            "Epoch 12/100\n",
            "80/80 [==============================] - 49s 617ms/step - loss: 0.5556 - accuracy: 0.4444 - mse: 0.5556 - val_loss: 1.9467e-12 - val_accuracy: 1.0000 - val_mse: 0.0000e+00\n",
            "Epoch 13/100\n",
            "80/80 [==============================] - 49s 607ms/step - loss: 0.5556 - accuracy: 0.4444 - mse: 0.5556 - val_loss: 5.5359e-09 - val_accuracy: 1.0000 - val_mse: 0.0000e+00\n",
            "Epoch 14/100\n",
            "80/80 [==============================] - 49s 607ms/step - loss: 0.5556 - accuracy: 0.4444 - mse: 0.5556 - val_loss: 7.3595e-09 - val_accuracy: 1.0000 - val_mse: 0.0000e+00\n",
            "Epoch 15/100\n",
            "80/80 [==============================] - 48s 606ms/step - loss: 0.5556 - accuracy: 0.4444 - mse: 0.5556 - val_loss: 3.8019e-09 - val_accuracy: 1.0000 - val_mse: 0.0000e+00\n",
            "Epoch 16/100\n",
            "80/80 [==============================] - 48s 606ms/step - loss: 0.5556 - accuracy: 0.4444 - mse: 0.5556 - val_loss: 2.7543e-09 - val_accuracy: 1.0000 - val_mse: 0.0000e+00\n",
            "Epoch 17/100\n",
            "80/80 [==============================] - 49s 607ms/step - loss: 0.5556 - accuracy: 0.4444 - mse: 0.5556 - val_loss: 2.4951e-09 - val_accuracy: 1.0000 - val_mse: 0.0000e+00\n",
            "Epoch 17: early stopping\n"
          ]
        }
      ],
      "source": [
        "model.compile(optimizer='adam',\n",
        "              loss='mse',\n",
        "              metrics=['accuracy','mse'])\n",
        "\n",
        "#Funcka umożliwia zatrzymanie się uczenia \n",
        "#gdy wartość strat przstanie maleć\n",
        "EarlyStop = EarlyStopping(monitor='val_loss',  \n",
        "                          verbose=1, \n",
        "                          patience=5)\n",
        "\n",
        "\n",
        "ModelCheck = ModelCheckpoint(filepath='/content/drive/MyDrive/Sieci/Zlaczone_firefox.h5',\n",
        "                             monitor='val_loss',\n",
        "                             save_best_only=True)\n",
        "\n",
        "\n",
        "history = model.fit(x=x_train, \n",
        "                    y=y_train, \n",
        "                    epochs=100,\n",
        "                    batch_size=256,\n",
        "                    validation_split=0.1,\n",
        "                    callbacks = [EarlyStop, ModelCheck]\n",
        "                   )"
      ]
    },
    {
      "cell_type": "code",
      "execution_count": 20,
      "id": "fe8633db",
      "metadata": {
        "colab": {
          "base_uri": "https://localhost:8080/",
          "height": 301
        },
        "id": "fe8633db",
        "outputId": "b8852735-8691-46ee-9dbe-0a1f6ae15ff1"
      },
      "outputs": [
        {
          "output_type": "execute_result",
          "data": {
            "text/plain": [
              "<matplotlib.legend.Legend at 0x7f122404f670>"
            ]
          },
          "metadata": {},
          "execution_count": 20
        },
        {
          "output_type": "display_data",
          "data": {
            "text/plain": [
              "<Figure size 432x288 with 1 Axes>"
            ],
            "image/png": "[encoded data removed]"
          },
          "metadata": {
            "needs_background": "light"
          }
        }
      ],
      "source": [
        "plt.plot(history.history['loss'], label='strata')\n",
        "plt.plot(history.history['val_loss'], label = 'strata walidacyjna')\n",
        "plt.xlabel('Epoka')\n",
        "plt.ylabel('Strata')\n",
        "plt.ylim([0.0, 0.5])\n",
        "plt.legend(loc='upper right')"
      ]
    },
    {
      "cell_type": "code",
      "execution_count": 21,
      "id": "8b976089",
      "metadata": {
        "colab": {
          "base_uri": "https://localhost:8080/",
          "height": 301
        },
        "id": "8b976089",
        "outputId": "558f9021-7892-4a2a-8234-7893f4dbd1c6",
        "scrolled": true
      },
      "outputs": [
        {
          "output_type": "execute_result",
          "data": {
            "text/plain": [
              "<matplotlib.legend.Legend at 0x7f120e7f3730>"
            ]
          },
          "metadata": {},
          "execution_count": 21
        },
        {
          "output_type": "display_data",
          "data": {
            "text/plain": [
              "<Figure size 432x288 with 1 Axes>"
            ],
            "image/png": "[encoded data removed]"
          },
          "metadata": {
            "needs_background": "light"
          }
        }
      ],
      "source": [
        "plt.plot(history.history['accuracy'], label='precyzja')\n",
        "plt.plot(history.history['val_accuracy'], label = 'precyzja walidacyjna')\n",
        "plt.xlabel('Epoka')\n",
        "plt.ylabel('Precyzja')\n",
        "plt.ylim([0.5, 1])\n",
        "plt.legend(loc='lower right')"
      ]
    },
    {
      "cell_type": "code",
      "execution_count": 22,
      "id": "HWqm9BVzLHfw",
      "metadata": {
        "id": "HWqm9BVzLHfw"
      },
      "outputs": [],
      "source": [
        "best_model = tf.keras.models.load_model('/content/drive/MyDrive/Sieci/Zlaczone_firefox.h5')\n"
      ]
    },
    {
      "cell_type": "code",
      "execution_count": 23,
      "id": "685a286c",
      "metadata": {
        "colab": {
          "base_uri": "https://localhost:8080/"
        },
        "id": "685a286c",
        "outputId": "82a1ceff-5b76-46a0-c7f0-41c6a07f8056"
      },
      "outputs": [
        {
          "output_type": "stream",
          "name": "stdout",
          "text": [
            "79/79 - 2s - loss: 0.5000 - accuracy: 0.5000 - mse: 0.5000 - 2s/epoch - 27ms/step\n"
          ]
        },
        {
          "output_type": "execute_result",
          "data": {
            "text/plain": [
              "[0.5000000000019468, 0.5, 0.5]"
            ]
          },
          "metadata": {},
          "execution_count": 23
        }
      ],
      "source": [
        "best_model.evaluate(x_test,  y_test, verbose=2)"
      ]
    },
    {
      "cell_type": "code",
      "execution_count": 24,
      "id": "ee941c13",
      "metadata": {
        "colab": {
          "base_uri": "https://localhost:8080/"
        },
        "id": "ee941c13",
        "outputId": "b15f9085-8b50-4266-ed91-6f45f881f386"
      },
      "outputs": [
        {
          "output_type": "stream",
          "name": "stdout",
          "text": [
            "79/79 [==============================] - 2s 22ms/step\n"
          ]
        }
      ],
      "source": [
        "predict_x = best_model.predict(x_test) \n",
        "\n",
        "predictions = (predict_x > 0.5).astype(\"int32\")"
      ]
    },
    {
      "cell_type": "code",
      "execution_count": 25,
      "id": "d8fb12f1",
      "metadata": {
        "colab": {
          "base_uri": "https://localhost:8080/"
        },
        "id": "d8fb12f1",
        "outputId": "4f446f74-6577-4136-9cb9-da7c4984cafc"
      },
      "outputs": [
        {
          "output_type": "stream",
          "name": "stdout",
          "text": [
            "[['Tn' 'Nn']\n",
            " ['Np' 'Tp']]\n",
            "tf.Tensor(\n",
            "[[1260    0]\n",
            " [1260    0]], shape=(2, 2), dtype=int32)\n"
          ]
        }
      ],
      "source": [
        "names = [['Tn','Nn'],['Np', 'Tp']]\n",
        "names = np.reshape(names,(2,2))\n",
        "print(names)\n",
        "\n",
        "conf = tf.math.confusion_matrix(y_test,predictions)\n",
        "\n",
        "print(conf)"
      ]
    }
  ],
  "metadata": {
    "accelerator": "GPU",
    "colab": {
      "provenance": [],
      "include_colab_link": true
    },
    "gpuClass": "standard",
    "kernelspec": {
      "display_name": "py39",
      "language": "python",
      "name": "py39"
    },
    "language_info": {
      "codemirror_mode": {
        "name": "ipython",
        "version": 3
      },
      "file_extension": ".py",
      "mimetype": "text/x-python",
      "name": "python",
      "nbconvert_exporter": "python",
      "pygments_lexer": "ipython3",
      "version": "3.9.12"
    }
  },
  "nbformat": 4,
  "nbformat_minor": 5
}