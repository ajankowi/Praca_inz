{
  "cells": [
    {
      "cell_type": "markdown",
      "metadata": {
        "id": "view-in-github",
        "colab_type": "text"
      },
      "source": [
        "<a href=\"https://colab.research.google.com/github/ajankowi/Praca_inz/blob/master/Siec/Zlaczone_siec_4_Colab_firefox.ipynb\" target=\"_parent\"><img src=\"https://colab.research.google.com/assets/colab-badge.svg\" alt=\"Open In Colab\"/></a>"
      ]
    },
    {
      "cell_type": "code",
      "execution_count": 1,
      "id": "613f08b5",
      "metadata": {
        "colab": {
          "base_uri": "https://localhost:8080/"
        },
        "id": "613f08b5",
        "outputId": "f55676e7-f02b-4f2a-8113-49817309b196"
      },
      "outputs": [
        {
          "output_type": "stream",
          "name": "stdout",
          "text": [
            "3.8.16 (default, Dec  7 2022, 01:12:13) \n",
            "[GCC 7.5.0]\n"
          ]
        }
      ],
      "source": [
        "import sys\n",
        "print(sys.version)"
      ]
    },
    {
      "cell_type": "code",
      "execution_count": 2,
      "id": "iY1o7_NmVlGs",
      "metadata": {
        "id": "iY1o7_NmVlGs"
      },
      "outputs": [],
      "source": [
        "#from google.colab import drive\n",
        "#drive.mount(\"/content/drive\", force_remount=True)"
      ]
    },
    {
      "cell_type": "code",
      "execution_count": 3,
      "id": "5eca1117",
      "metadata": {
        "colab": {
          "base_uri": "https://localhost:8080/"
        },
        "id": "5eca1117",
        "outputId": "afeec9a2-2d02-4927-fbb1-add948ea585a"
      },
      "outputs": [
        {
          "output_type": "stream",
          "name": "stdout",
          "text": [
            "TensorFlow version: 2.9.2\n"
          ]
        }
      ],
      "source": [
        "import tensorflow as tf\n",
        "from tensorflow import keras\n",
        "from keras import layers, models, regularizers\n",
        "from keras.layers import Flatten, add, Dense, Dropout \n",
        "from keras.callbacks import ModelCheckpoint, EarlyStopping\n",
        "\n",
        "\n",
        "print(\"TensorFlow version:\", tf.__version__)\n",
        "tf.keras.backend.set_floatx('float64')"
      ]
    },
    {
      "cell_type": "code",
      "execution_count": 4,
      "id": "12022d37",
      "metadata": {
        "id": "12022d37"
      },
      "outputs": [],
      "source": [
        "import matplotlib.pyplot as plt\n",
        "import numpy as np\n",
        "import pandas as pd\n",
        "import seaborn as sns\n",
        "from PIL import Image\n",
        "import os\n",
        "import csv\n",
        "import random\n",
        "\n",
        "import cv2\n",
        "import imutils\n",
        "import glob\n",
        "# Make NumPy printouts easier to read.\n",
        "np.set_printoptions(precision=3, suppress=True)"
      ]
    },
    {
      "cell_type": "code",
      "execution_count": 5,
      "id": "1086f893",
      "metadata": {
        "id": "1086f893"
      },
      "outputs": [],
      "source": [
        "#Określenie ścieżek do plików\n",
        "test_zip = '/content/drive/MyDrive/Sieci/Baza_zdjec_zlaczone_2/Test.zip'\n",
        "test_csv = 'test.csv'\n",
        "\n",
        "train_zip = '/content/drive/MyDrive/Sieci/Baza_zdjec_zlaczone_2/Train.zip'\n",
        "train_csv = 'train.csv'\n",
        "\n",
        "folder = '/content/drive/MyDrive/Sieci/Baza_zdjec_zlaczone_2/'\n",
        "slesh = '/'\n",
        "png = '.png'"
      ]
    },
    {
      "cell_type": "code",
      "execution_count": 6,
      "id": "FXtX4UDo9x77",
      "metadata": {
        "id": "FXtX4UDo9x77"
      },
      "outputs": [],
      "source": [
        "#!unzip '/content/drive/MyDrive/Sieci/Baza_zdjec_zlaczone_2/Train.zip' -d '/content/train/'\n",
        "#!unzip '/content/drive/MyDrive/Sieci/Baza_zdjec_zlaczone_2/Test.zip' -d '/content/test/'"
      ]
    },
    {
      "cell_type": "code",
      "execution_count": 7,
      "id": "d0329f31",
      "metadata": {
        "id": "d0329f31"
      },
      "outputs": [],
      "source": [
        "def release_list(a):\n",
        "    \n",
        "    del a[:]\n",
        "    del a"
      ]
    },
    {
      "cell_type": "code",
      "execution_count": 8,
      "id": "5beb89e7",
      "metadata": {
        "colab": {
          "base_uri": "https://localhost:8080/"
        },
        "id": "5beb89e7",
        "outputId": "f862be30-4b34-45a5-8b3f-03e098304773"
      },
      "outputs": [
        {
          "output_type": "stream",
          "name": "stdout",
          "text": [
            "22680\n"
          ]
        }
      ],
      "source": [
        "#Wczytanie etykiet do treninegu \n",
        "\n",
        "with open(folder+train_csv,\"r\") as csvfile:\n",
        "    lines = csvfile.readlines()\n",
        "csvfile.close()\n",
        "\n",
        "new = []\n",
        "\n",
        "for i in lines:\n",
        "    new.append(i.split(\" \"))\n",
        "\n",
        "    \n",
        "value_train = []\n",
        "for i in new[0]:\n",
        "    value_train.append(int(i))    \n",
        "    \n",
        "print(len(value_train))"
      ]
    },
    {
      "cell_type": "code",
      "execution_count": 9,
      "id": "_BbuBDFDgvdp",
      "metadata": {
        "colab": {
          "base_uri": "https://localhost:8080/"
        },
        "id": "_BbuBDFDgvdp",
        "outputId": "f4ba7f5a-d86a-4cba-c1b5-6b56ae0e8d20"
      },
      "outputs": [
        {
          "output_type": "stream",
          "name": "stdout",
          "text": [
            "2520\n"
          ]
        }
      ],
      "source": [
        "#Wczytanie etykiet do testowania\n",
        "\n",
        "with open(folder+test_csv,\"r\") as csvfile:\n",
        "    lines = csvfile.readlines()\n",
        "csvfile.close()\n",
        "\n",
        "new = []\n",
        "\n",
        "for i in lines:\n",
        "    new.append(i.split(\" \"))\n",
        "\n",
        "    \n",
        "value_test = []\n",
        "for i in new[0]:\n",
        "    value_test.append(int(i))    \n",
        "    \n",
        "print(len(value_test))"
      ]
    },
    {
      "cell_type": "code",
      "execution_count": 10,
      "id": "d9cb09d8",
      "metadata": {
        "colab": {
          "base_uri": "https://localhost:8080/"
        },
        "id": "d9cb09d8",
        "outputId": "af2107a4-b738-4a38-e1dc-30076215442d"
      },
      "outputs": [
        {
          "output_type": "stream",
          "name": "stdout",
          "text": [
            "22680\n"
          ]
        }
      ],
      "source": [
        "#Wczytanie zdjęć treningowych (90% całego zbioru)\n",
        "images_train = []\n",
        "size = len(value_train)\n",
        "\n",
        "for i in range(size):\n",
        "    im = Image.open('/content/train/'+str(i)+'.png')\n",
        "    arr_im = np.array(im) \n",
        "    arr_im = arr_im / 255.0\n",
        "    images_train.append(arr_im) \n",
        "print(len(images_train))"
      ]
    },
    {
      "cell_type": "code",
      "execution_count": 11,
      "id": "9I51x6abky3Q",
      "metadata": {
        "colab": {
          "base_uri": "https://localhost:8080/"
        },
        "id": "9I51x6abky3Q",
        "outputId": "27d0dfd2-18ec-4355-cab4-8bf11f4fe358"
      },
      "outputs": [
        {
          "output_type": "stream",
          "name": "stdout",
          "text": [
            "2520\n"
          ]
        }
      ],
      "source": [
        "#Wczytanie zdjęć testowych (10% całego zbioru)\n",
        "images_test = []\n",
        "size = len(value_test)\n",
        "\n",
        "for i in range(size):\n",
        "    im = Image.open('/content/test/'+str(i)+'.png')\n",
        "    arr_im = np.array(im) \n",
        "    arr_im = arr_im / 255.0\n",
        "    images_test.append(arr_im) \n",
        "print(len(images_test))"
      ]
    },
    {
      "cell_type": "code",
      "execution_count": 12,
      "id": "f7f4dd4b",
      "metadata": {
        "id": "f7f4dd4b"
      },
      "outputs": [],
      "source": [
        "x_train = np.array(images_train)\n",
        "x_test = np.array(images_test)\n",
        "\n",
        "y_train = np.array(value_train)\n",
        "y_test = np.array(value_test)"
      ]
    },
    {
      "cell_type": "code",
      "execution_count": 13,
      "id": "d3a370cb",
      "metadata": {
        "colab": {
          "base_uri": "https://localhost:8080/",
          "height": 236
        },
        "id": "d3a370cb",
        "outputId": "bd9d96d1-c437-413d-d5b4-85ba71b2d2bd"
      },
      "outputs": [
        {
          "output_type": "stream",
          "name": "stdout",
          "text": [
            "0\n"
          ]
        },
        {
          "output_type": "display_data",
          "data": {
            "text/plain": [
              "<Figure size 432x288 with 1 Axes>"
            ],
            "image/png": "[encoded data removed]"
          },
          "metadata": {
            "needs_background": "light"
          }
        }
      ],
      "source": [
        "a = 19000\n",
        "plt.imshow(x_train[a],cmap = 'gray')\n",
        "print(y_train[a])"
      ]
    },
    {
      "cell_type": "code",
      "execution_count": 14,
      "id": "772c7d7c",
      "metadata": {
        "id": "772c7d7c"
      },
      "outputs": [],
      "source": [
        "model = models.Sequential()\n",
        "model.add(layers.Conv2D(32, (3, 3), activation='relu', input_shape=(64, 128, 1)))\n",
        "model.add(layers.MaxPooling2D((2, 2)))\n",
        "model.add(layers.Conv2D(32, (3, 3), activation='relu'))\n",
        "model.add(layers.MaxPooling2D((2, 2)))\n",
        "\n",
        "model.add(layers.BatchNormalization())\n",
        "\n",
        "model.add(layers.Conv2D(64, (3, 3), activation='relu'))\n",
        "model.add(layers.MaxPooling2D((2, 2)))\n",
        "model.add(layers.Conv2D(64, (3, 3), activation='relu'))\n",
        "model.add(layers.MaxPooling2D((2, 2)))\n",
        "\n",
        "\n",
        "model.add(layers.BatchNormalization())\n",
        "\n",
        "model.add(layers.Flatten())\n",
        "model.add(layers.Dense(64, activation='relu', kernel_regularizer=keras.regularizers.l1(l=0.1)))\n",
        "model.add(layers.Dense(1, activation='relu'))"
      ]
    },
    {
      "cell_type": "code",
      "execution_count": 15,
      "id": "b86f72df",
      "metadata": {
        "colab": {
          "base_uri": "https://localhost:8080/"
        },
        "id": "b86f72df",
        "outputId": "0c6ae99b-01f6-49e8-dee9-c91020b2fd59"
      },
      "outputs": [
        {
          "output_type": "stream",
          "name": "stdout",
          "text": [
            "Model: \"sequential\"\n",
            "_________________________________________________________________\n",
            " Layer (type)                Output Shape              Param #   \n",
            "=================================================================\n",
            " conv2d (Conv2D)             (None, 62, 126, 32)       320       \n",
            "                                                                 \n",
            " max_pooling2d (MaxPooling2D  (None, 31, 63, 32)       0         \n",
            " )                                                               \n",
            "                                                                 \n",
            " batch_normalization (BatchN  (None, 31, 63, 32)       128       \n",
            " ormalization)                                                   \n",
            "                                                                 \n",
            " conv2d_1 (Conv2D)           (None, 29, 61, 64)        18496     \n",
            "                                                                 \n",
            " max_pooling2d_1 (MaxPooling  (None, 14, 30, 64)       0         \n",
            " 2D)                                                             \n",
            "                                                                 \n",
            " conv2d_2 (Conv2D)           (None, 12, 28, 64)        36928     \n",
            "                                                                 \n",
            " max_pooling2d_2 (MaxPooling  (None, 6, 14, 64)        0         \n",
            " 2D)                                                             \n",
            "                                                                 \n",
            " batch_normalization_1 (Batc  (None, 6, 14, 64)        256       \n",
            " hNormalization)                                                 \n",
            "                                                                 \n",
            " conv2d_3 (Conv2D)           (None, 4, 12, 64)         36928     \n",
            "                                                                 \n",
            " max_pooling2d_3 (MaxPooling  (None, 2, 6, 64)         0         \n",
            " 2D)                                                             \n",
            "                                                                 \n",
            " flatten (Flatten)           (None, 768)               0         \n",
            "                                                                 \n",
            " dense (Dense)               (None, 64)                49216     \n",
            "                                                                 \n",
            " dense_1 (Dense)             (None, 1)                 65        \n",
            "                                                                 \n",
            "=================================================================\n",
            "Total params: 142,337\n",
            "Trainable params: 142,145\n",
            "Non-trainable params: 192\n",
            "_________________________________________________________________\n"
          ]
        }
      ],
      "source": [
        "model.summary()"
      ]
    },
    {
      "cell_type": "code",
      "execution_count": 16,
      "id": "9beb77e5",
      "metadata": {
        "colab": {
          "base_uri": "https://localhost:8080/"
        },
        "id": "9beb77e5",
        "outputId": "9d91159a-4360-451d-bd0e-34efacaa6089"
      },
      "outputs": [
        {
          "output_type": "stream",
          "name": "stdout",
          "text": [
            "Epoch 1/100\n",
            "205/205 [==============================] - 47s 198ms/step - loss: 31.3843 - accuracy: 0.7705 - mse: 0.1690 - val_loss: 0.6560 - val_accuracy: 1.0000 - val_mse: 0.0250\n",
            "Epoch 2/100\n",
            "205/205 [==============================] - 39s 190ms/step - loss: 0.6474 - accuracy: 0.9456 - mse: 0.0569 - val_loss: 0.6785 - val_accuracy: 1.0000 - val_mse: 0.1036\n",
            "Epoch 3/100\n",
            "205/205 [==============================] - 41s 198ms/step - loss: 0.5774 - accuracy: 0.9918 - mse: 0.0201 - val_loss: 0.5714 - val_accuracy: 1.0000 - val_mse: 0.0234\n",
            "Epoch 4/100\n",
            "205/205 [==============================] - 40s 195ms/step - loss: 0.5521 - accuracy: 0.9972 - mse: 0.0111 - val_loss: 0.5398 - val_accuracy: 0.9991 - val_mse: 0.0057\n",
            "Epoch 5/100\n",
            "205/205 [==============================] - 40s 195ms/step - loss: 0.5420 - accuracy: 0.9989 - mse: 0.0077 - val_loss: 0.5358 - val_accuracy: 0.9996 - val_mse: 0.0026\n",
            "Epoch 6/100\n",
            "205/205 [==============================] - 40s 195ms/step - loss: 0.5378 - accuracy: 0.9995 - mse: 0.0057 - val_loss: 0.5319 - val_accuracy: 1.0000 - val_mse: 0.0023\n",
            "Epoch 7/100\n",
            "205/205 [==============================] - 39s 191ms/step - loss: 0.5346 - accuracy: 0.9997 - mse: 0.0048 - val_loss: 0.5319 - val_accuracy: 0.9996 - val_mse: 0.0025\n",
            "Epoch 8/100\n",
            "205/205 [==============================] - 40s 194ms/step - loss: 0.5312 - accuracy: 0.9999 - mse: 0.0037 - val_loss: 0.5306 - val_accuracy: 1.0000 - val_mse: 5.6745e-04\n",
            "Epoch 9/100\n",
            "205/205 [==============================] - 40s 195ms/step - loss: 0.5300 - accuracy: 1.0000 - mse: 0.0031 - val_loss: 0.5279 - val_accuracy: 1.0000 - val_mse: 0.0017\n",
            "Epoch 10/100\n",
            "205/205 [==============================] - 39s 191ms/step - loss: 0.5272 - accuracy: 1.0000 - mse: 0.0028 - val_loss: 0.5297 - val_accuracy: 1.0000 - val_mse: 0.0032\n",
            "Epoch 11/100\n",
            "205/205 [==============================] - 41s 201ms/step - loss: 0.5263 - accuracy: 1.0000 - mse: 0.0025 - val_loss: 0.5267 - val_accuracy: 1.0000 - val_mse: 0.0012\n",
            "Epoch 12/100\n",
            "205/205 [==============================] - 40s 195ms/step - loss: 0.5234 - accuracy: 1.0000 - mse: 0.0020 - val_loss: 0.5220 - val_accuracy: 1.0000 - val_mse: 0.0011\n",
            "Epoch 13/100\n",
            "205/205 [==============================] - 40s 195ms/step - loss: 0.5218 - accuracy: 1.0000 - mse: 0.0018 - val_loss: 0.5201 - val_accuracy: 1.0000 - val_mse: 4.8588e-04\n",
            "Epoch 14/100\n",
            "205/205 [==============================] - 39s 192ms/step - loss: 0.5199 - accuracy: 1.0000 - mse: 0.0015 - val_loss: 0.5209 - val_accuracy: 1.0000 - val_mse: 0.0017\n",
            "Epoch 15/100\n",
            "205/205 [==============================] - 41s 200ms/step - loss: 0.5211 - accuracy: 1.0000 - mse: 0.0018 - val_loss: 0.5184 - val_accuracy: 1.0000 - val_mse: 4.4717e-04\n",
            "Epoch 16/100\n",
            "205/205 [==============================] - 40s 195ms/step - loss: 0.5198 - accuracy: 1.0000 - mse: 0.0014 - val_loss: 0.5182 - val_accuracy: 0.9996 - val_mse: 0.0012\n",
            "Epoch 17/100\n",
            "205/205 [==============================] - 40s 195ms/step - loss: 0.5188 - accuracy: 1.0000 - mse: 0.0012 - val_loss: 0.5159 - val_accuracy: 1.0000 - val_mse: 2.1334e-04\n",
            "Epoch 18/100\n",
            "205/205 [==============================] - 40s 195ms/step - loss: 0.5183 - accuracy: 1.0000 - mse: 0.0011 - val_loss: 0.5145 - val_accuracy: 1.0000 - val_mse: 9.2080e-04\n",
            "Epoch 19/100\n",
            "205/205 [==============================] - 40s 197ms/step - loss: 0.5173 - accuracy: 1.0000 - mse: 9.7814e-04 - val_loss: 0.5172 - val_accuracy: 1.0000 - val_mse: 2.0426e-04\n",
            "Epoch 20/100\n",
            "205/205 [==============================] - 39s 192ms/step - loss: 0.5171 - accuracy: 1.0000 - mse: 9.6335e-04 - val_loss: 0.5180 - val_accuracy: 1.0000 - val_mse: 6.5403e-05\n",
            "Epoch 21/100\n",
            "205/205 [==============================] - 39s 192ms/step - loss: 0.5169 - accuracy: 1.0000 - mse: 9.6548e-04 - val_loss: 0.5174 - val_accuracy: 1.0000 - val_mse: 3.3790e-04\n",
            "Epoch 22/100\n",
            "205/205 [==============================] - 39s 192ms/step - loss: 0.5156 - accuracy: 1.0000 - mse: 5.3483e-04 - val_loss: 0.5158 - val_accuracy: 1.0000 - val_mse: 4.5181e-04\n",
            "Epoch 23/100\n",
            "205/205 [==============================] - 39s 192ms/step - loss: 0.5152 - accuracy: 1.0000 - mse: 5.4659e-04 - val_loss: 0.5155 - val_accuracy: 1.0000 - val_mse: 1.5993e-04\n",
            "Epoch 24/100\n",
            "205/205 [==============================] - 39s 192ms/step - loss: 0.5269 - accuracy: 0.9962 - mse: 0.0066 - val_loss: 0.5265 - val_accuracy: 0.9960 - val_mse: 0.0099\n",
            "Epoch 25/100\n",
            "205/205 [==============================] - 40s 195ms/step - loss: 0.5170 - accuracy: 0.9999 - mse: 9.0086e-04 - val_loss: 0.5143 - val_accuracy: 1.0000 - val_mse: 1.0809e-04\n",
            "Epoch 26/100\n",
            "205/205 [==============================] - 39s 192ms/step - loss: 0.5159 - accuracy: 1.0000 - mse: 4.1845e-04 - val_loss: 0.5147 - val_accuracy: 1.0000 - val_mse: 3.1510e-04\n",
            "Epoch 27/100\n",
            "205/205 [==============================] - 39s 192ms/step - loss: 0.5146 - accuracy: 1.0000 - mse: 1.6948e-04 - val_loss: 0.5156 - val_accuracy: 1.0000 - val_mse: 3.4310e-04\n",
            "Epoch 28/100\n",
            "205/205 [==============================] - 41s 201ms/step - loss: 0.5137 - accuracy: 1.0000 - mse: 8.6115e-05 - val_loss: 0.5128 - val_accuracy: 1.0000 - val_mse: 7.3019e-04\n",
            "Epoch 29/100\n",
            "205/205 [==============================] - 39s 192ms/step - loss: 0.5134 - accuracy: 1.0000 - mse: 8.9435e-05 - val_loss: 0.5159 - val_accuracy: 1.0000 - val_mse: 3.7746e-04\n",
            "Epoch 30/100\n",
            "205/205 [==============================] - 39s 192ms/step - loss: 0.5132 - accuracy: 1.0000 - mse: 8.7617e-05 - val_loss: 0.5134 - val_accuracy: 0.9991 - val_mse: 0.0014\n",
            "Epoch 31/100\n",
            "205/205 [==============================] - 39s 191ms/step - loss: 0.5137 - accuracy: 1.0000 - mse: 1.6020e-04 - val_loss: 0.5137 - val_accuracy: 1.0000 - val_mse: 5.7785e-05\n",
            "Epoch 32/100\n",
            "205/205 [==============================] - 39s 191ms/step - loss: 0.5132 - accuracy: 1.0000 - mse: 1.0928e-04 - val_loss: 0.5157 - val_accuracy: 0.9996 - val_mse: 0.0011\n",
            "Epoch 33/100\n",
            "205/205 [==============================] - 39s 191ms/step - loss: 0.5142 - accuracy: 0.9996 - mse: 4.5377e-04 - val_loss: 0.5220 - val_accuracy: 0.9982 - val_mse: 0.0014\n",
            "Epoch 34/100\n",
            "205/205 [==============================] - 39s 191ms/step - loss: 0.5329 - accuracy: 0.9877 - mse: 0.0115 - val_loss: 0.5190 - val_accuracy: 0.9987 - val_mse: 0.0011\n",
            "Epoch 35/100\n",
            "205/205 [==============================] - 39s 191ms/step - loss: 0.5163 - accuracy: 0.9997 - mse: 6.3060e-04 - val_loss: 0.5182 - val_accuracy: 0.9996 - val_mse: 4.4041e-04\n",
            "Epoch 36/100\n",
            "205/205 [==============================] - 39s 191ms/step - loss: 0.5149 - accuracy: 1.0000 - mse: 3.1347e-04 - val_loss: 0.5133 - val_accuracy: 0.9996 - val_mse: 0.0011\n",
            "Epoch 37/100\n",
            "205/205 [==============================] - 39s 191ms/step - loss: 0.5148 - accuracy: 1.0000 - mse: 3.1621e-04 - val_loss: 0.5171 - val_accuracy: 0.9996 - val_mse: 7.6733e-04\n",
            "Epoch 38/100\n",
            "205/205 [==============================] - 39s 191ms/step - loss: 0.5142 - accuracy: 1.0000 - mse: 1.7603e-04 - val_loss: 0.5180 - val_accuracy: 1.0000 - val_mse: 3.8051e-04\n",
            "Epoch 38: early stopping\n"
          ]
        }
      ],
      "source": [
        "model.compile(optimizer='adam',\n",
        "              loss='mse',\n",
        "              metrics=['accuracy','mse'])\n",
        "\n",
        "#Funckja umożliwia zatrzymanie się uczenia \n",
        "#gdy wartość strat przstanie maleć\n",
        "EarlyStop = EarlyStopping(monitor='val_loss',  \n",
        "                          verbose=1, \n",
        "                          patience=10)\n",
        "\n",
        "\n",
        "ModelCheck = ModelCheckpoint(filepath='/content/drive/MyDrive/Sieci/Zlaczone_firefox.h5',\n",
        "                             monitor='val_loss',\n",
        "                             save_best_only=True)\n",
        "\n",
        "\n",
        "history = model.fit(x=x_train, \n",
        "                    y=y_train, \n",
        "                    epochs=100,\n",
        "                    batch_size=100,\n",
        "                    validation_split=0.1,\n",
        "                    callbacks = [EarlyStop, ModelCheck]\n",
        "                   )"
      ]
    },
    {
      "cell_type": "code",
      "execution_count": 17,
      "id": "fe8633db",
      "metadata": {
        "colab": {
          "base_uri": "https://localhost:8080/",
          "height": 301
        },
        "id": "fe8633db",
        "outputId": "2d8b451c-572e-460c-8a81-804f20aeb3a6"
      },
      "outputs": [
        {
          "output_type": "execute_result",
          "data": {
            "text/plain": [
              "<matplotlib.legend.Legend at 0x7f897c0b1a30>"
            ]
          },
          "metadata": {},
          "execution_count": 17
        },
        {
          "output_type": "display_data",
          "data": {
            "text/plain": [
              "<Figure size 432x288 with 1 Axes>"
            ],
            "image/png": "[encoded data removed]"
          },
          "metadata": {
            "needs_background": "light"
          }
        }
      ],
      "source": [
        "plt.plot(history.history['loss'], label='strata')\n",
        "plt.plot(history.history['val_loss'], label = 'strata walidacyjna')\n",
        "plt.xlabel('Epoka')\n",
        "plt.ylabel('Strata')\n",
        "plt.ylim([0.0, 0.5])\n",
        "plt.legend(loc='upper right')"
      ]
    },
    {
      "cell_type": "code",
      "execution_count": 18,
      "id": "8b976089",
      "metadata": {
        "colab": {
          "base_uri": "https://localhost:8080/",
          "height": 301
        },
        "id": "8b976089",
        "outputId": "c8d8c28a-5e99-4036-eac2-bada90675546",
        "scrolled": true
      },
      "outputs": [
        {
          "output_type": "execute_result",
          "data": {
            "text/plain": [
              "<matplotlib.legend.Legend at 0x7f897c055a90>"
            ]
          },
          "metadata": {},
          "execution_count": 18
        },
        {
          "output_type": "display_data",
          "data": {
            "text/plain": [
              "<Figure size 432x288 with 1 Axes>"
            ],
            "image/png": "[encoded data removed]"
          },
          "metadata": {
            "needs_background": "light"
          }
        }
      ],
      "source": [
        "plt.plot(history.history['accuracy'], label='precyzja')\n",
        "plt.plot(history.history['val_accuracy'], label = 'precyzja walidacyjna')\n",
        "plt.xlabel('Epoka')\n",
        "plt.ylabel('Precyzja')\n",
        "plt.ylim([0.5, 1])\n",
        "plt.legend(loc='lower right')"
      ]
    },
    {
      "cell_type": "code",
      "execution_count": 19,
      "id": "HWqm9BVzLHfw",
      "metadata": {
        "id": "HWqm9BVzLHfw"
      },
      "outputs": [],
      "source": [
        "best_model = tf.keras.models.load_model('/content/drive/MyDrive/Sieci/Zlaczone_firefox.h5')\n"
      ]
    },
    {
      "cell_type": "code",
      "execution_count": 20,
      "id": "685a286c",
      "metadata": {
        "colab": {
          "base_uri": "https://localhost:8080/"
        },
        "id": "685a286c",
        "outputId": "3ba042bd-31dd-4571-d319-7d208973917b"
      },
      "outputs": [
        {
          "output_type": "stream",
          "name": "stdout",
          "text": [
            "79/79 - 2s - loss: 0.6878 - accuracy: 0.8143 - mse: 0.1758 - 2s/epoch - 26ms/step\n"
          ]
        },
        {
          "output_type": "execute_result",
          "data": {
            "text/plain": [
              "[0.6878120355494804, 0.8142857142857143, 0.17576101154018042]"
            ]
          },
          "metadata": {},
          "execution_count": 20
        }
      ],
      "source": [
        "best_model.evaluate(x_test,  y_test, verbose=2)"
      ]
    },
    {
      "cell_type": "code",
      "execution_count": 21,
      "id": "ee941c13",
      "metadata": {
        "colab": {
          "base_uri": "https://localhost:8080/"
        },
        "id": "ee941c13",
        "outputId": "0a478244-0cfe-40e0-e1cc-bde1e021bed6"
      },
      "outputs": [
        {
          "output_type": "stream",
          "name": "stdout",
          "text": [
            "79/79 [==============================] - 2s 18ms/step\n"
          ]
        }
      ],
      "source": [
        "predict_x = best_model.predict(x_test) \n",
        "\n",
        "predictions = (predict_x > 0.5).astype(\"int32\")"
      ]
    },
    {
      "cell_type": "code",
      "execution_count": 22,
      "id": "d8fb12f1",
      "metadata": {
        "colab": {
          "base_uri": "https://localhost:8080/"
        },
        "id": "d8fb12f1",
        "outputId": "75bafcfb-61c0-4020-d726-40bb0d406b69"
      },
      "outputs": [
        {
          "output_type": "stream",
          "name": "stdout",
          "text": [
            "[['Tn' 'Nn']\n",
            " ['Np' 'Tp']]\n",
            "tf.Tensor(\n",
            "[[ 798  462]\n",
            " [   6 1254]], shape=(2, 2), dtype=int32)\n"
          ]
        }
      ],
      "source": [
        "names = [['Tn','Nn'],['Np', 'Tp']]\n",
        "names = np.reshape(names,(2,2))\n",
        "print(names)\n",
        "\n",
        "conf = tf.math.confusion_matrix(y_test,predictions)\n",
        "\n",
        "print(conf)"
      ]
    }
  ],
  "metadata": {
    "accelerator": "GPU",
    "colab": {
      "provenance": [],
      "include_colab_link": true
    },
    "gpuClass": "standard",
    "kernelspec": {
      "display_name": "py39",
      "language": "python",
      "name": "py39"
    },
    "language_info": {
      "codemirror_mode": {
        "name": "ipython",
        "version": 3
      },
      "file_extension": ".py",
      "mimetype": "text/x-python",
      "name": "python",
      "nbconvert_exporter": "python",
      "pygments_lexer": "ipython3",
      "version": "3.9.12"
    }
  },
  "nbformat": 4,
  "nbformat_minor": 5
}