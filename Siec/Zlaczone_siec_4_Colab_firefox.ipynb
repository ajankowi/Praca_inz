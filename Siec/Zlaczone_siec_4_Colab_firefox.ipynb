{
  "cells": [
    {
      "cell_type": "markdown",
      "metadata": {
        "id": "view-in-github",
        "colab_type": "text"
      },
      "source": [
        "<a href=\"https://colab.research.google.com/github/ajankowi/Praca_inz/blob/master/Siec/Zlaczone_siec_4_Colab_firefox.ipynb\" target=\"_parent\"><img src=\"https://colab.research.google.com/assets/colab-badge.svg\" alt=\"Open In Colab\"/></a>"
      ]
    },
    {
      "cell_type": "code",
      "execution_count": 1,
      "id": "613f08b5",
      "metadata": {
        "colab": {
          "base_uri": "https://localhost:8080/"
        },
        "id": "613f08b5",
        "outputId": "5eacfec1-77e9-44f6-dc55-33cbb3d0538e"
      },
      "outputs": [
        {
          "output_type": "stream",
          "name": "stdout",
          "text": [
            "3.8.16 (default, Dec  7 2022, 01:12:13) \n",
            "[GCC 7.5.0]\n"
          ]
        }
      ],
      "source": [
        "import sys\n",
        "print(sys.version)"
      ]
    },
    {
      "cell_type": "code",
      "execution_count": 2,
      "id": "iY1o7_NmVlGs",
      "metadata": {
        "id": "iY1o7_NmVlGs",
        "outputId": "4d918901-e702-4ea8-8232-8cd3eb9ae206",
        "colab": {
          "base_uri": "https://localhost:8080/"
        }
      },
      "outputs": [
        {
          "output_type": "stream",
          "name": "stdout",
          "text": [
            "Mounted at /content/drive\n"
          ]
        }
      ],
      "source": [
        "#from google.colab import drive\n",
        "#drive.mount(\"/content/drive\", force_remount=True)"
      ]
    },
    {
      "cell_type": "code",
      "execution_count": 3,
      "id": "5eca1117",
      "metadata": {
        "colab": {
          "base_uri": "https://localhost:8080/"
        },
        "id": "5eca1117",
        "outputId": "bafbe633-f1e1-404c-f4ec-32892708bef3"
      },
      "outputs": [
        {
          "output_type": "stream",
          "name": "stdout",
          "text": [
            "TensorFlow version: 2.9.2\n"
          ]
        }
      ],
      "source": [
        "import tensorflow as tf\n",
        "from tensorflow import keras\n",
        "from keras import layers, models, regularizers\n",
        "from keras.layers import Flatten, add, Dense, Dropout \n",
        "from keras.callbacks import ModelCheckpoint, EarlyStopping\n",
        "\n",
        "\n",
        "print(\"TensorFlow version:\", tf.__version__)\n",
        "tf.keras.backend.set_floatx('float64')"
      ]
    },
    {
      "cell_type": "code",
      "execution_count": 4,
      "id": "12022d37",
      "metadata": {
        "id": "12022d37"
      },
      "outputs": [],
      "source": [
        "import matplotlib.pyplot as plt\n",
        "import numpy as np\n",
        "import pandas as pd\n",
        "import seaborn as sns\n",
        "from PIL import Image\n",
        "import os\n",
        "import csv\n",
        "import random\n",
        "\n",
        "import cv2\n",
        "import imutils\n",
        "import glob\n",
        "# Make NumPy printouts easier to read.\n",
        "np.set_printoptions(precision=3, suppress=True)"
      ]
    },
    {
      "cell_type": "code",
      "execution_count": 5,
      "id": "1086f893",
      "metadata": {
        "id": "1086f893"
      },
      "outputs": [],
      "source": [
        "#Określenie ścieżek do plików\n",
        "test_zip = '/content/drive/MyDrive/Sieci/Baza_zdjec_zlaczone_2/Test.zip'\n",
        "test_csv = 'test.csv'\n",
        "\n",
        "train_zip = '/content/drive/MyDrive/Sieci/Baza_zdjec_zlaczone_2/Train.zip'\n",
        "train_csv = 'train.csv'\n",
        "\n",
        "folder = '/content/drive/MyDrive/Sieci/Baza_zdjec_zlaczone_2/'\n",
        "slesh = '/'\n",
        "png = '.png'"
      ]
    },
    {
      "cell_type": "code",
      "execution_count": 17,
      "id": "FXtX4UDo9x77",
      "metadata": {
        "id": "FXtX4UDo9x77",
        "outputId": "0600db4d-45a5-4b3d-fa65-9cb487873621",
        "colab": {
          "base_uri": "https://localhost:8080/"
        }
      },
      "outputs": [
        {
          "output_type": "stream",
          "name": "stdout",
          "text": [
            "Archive:  /content/drive/MyDrive/Sieci/Baza_zdjec_zlaczone_2/Train.zip\n",
            "replace /content/train/22679.png? [y]es, [n]o, [A]ll, [N]one, [r]ename: Archive:  /content/drive/MyDrive/Sieci/Baza_zdjec_zlaczone_2/Test.zip\n",
            "replace /content/test/2519.png? [y]es, [n]o, [A]ll, [N]one, [r]ename: "
          ]
        }
      ],
      "source": [
        "#!unzip '/content/drive/MyDrive/Sieci/Baza_zdjec_zlaczone_2/Train.zip' -d '/content/train/'\n",
        "#!unzip '/content/drive/MyDrive/Sieci/Baza_zdjec_zlaczone_2/Test.zip' -d '/content/test/'"
      ]
    },
    {
      "cell_type": "code",
      "execution_count": 7,
      "id": "d0329f31",
      "metadata": {
        "id": "d0329f31"
      },
      "outputs": [],
      "source": [
        "def release_list(a):\n",
        "    \n",
        "    del a[:]\n",
        "    del a"
      ]
    },
    {
      "cell_type": "code",
      "execution_count": 8,
      "id": "5beb89e7",
      "metadata": {
        "colab": {
          "base_uri": "https://localhost:8080/"
        },
        "id": "5beb89e7",
        "outputId": "94e9785e-c436-49fc-a262-5e402dde2e05"
      },
      "outputs": [
        {
          "output_type": "stream",
          "name": "stdout",
          "text": [
            "22680\n"
          ]
        }
      ],
      "source": [
        "#Wczytanie etykiet do treninegu \n",
        "\n",
        "with open(folder+train_csv,\"r\") as csvfile:\n",
        "    lines = csvfile.readlines()\n",
        "csvfile.close()\n",
        "\n",
        "new = []\n",
        "\n",
        "for i in lines:\n",
        "    new.append(i.split(\" \"))\n",
        "\n",
        "    \n",
        "value_train = []\n",
        "for i in new[0]:\n",
        "    value_train.append(int(i))    \n",
        "    \n",
        "print(len(value_train))"
      ]
    },
    {
      "cell_type": "code",
      "execution_count": 9,
      "id": "_BbuBDFDgvdp",
      "metadata": {
        "colab": {
          "base_uri": "https://localhost:8080/"
        },
        "id": "_BbuBDFDgvdp",
        "outputId": "85fe7f7f-10fb-4ed1-8e2b-ff3b10d8aa02"
      },
      "outputs": [
        {
          "output_type": "stream",
          "name": "stdout",
          "text": [
            "2520\n"
          ]
        }
      ],
      "source": [
        "#Wczytanie etykiet do testowania\n",
        "\n",
        "with open(folder+test_csv,\"r\") as csvfile:\n",
        "    lines = csvfile.readlines()\n",
        "csvfile.close()\n",
        "\n",
        "new = []\n",
        "\n",
        "for i in lines:\n",
        "    new.append(i.split(\" \"))\n",
        "\n",
        "    \n",
        "value_test = []\n",
        "for i in new[0]:\n",
        "    value_test.append(int(i))    \n",
        "    \n",
        "print(len(value_test))"
      ]
    },
    {
      "cell_type": "code",
      "execution_count": 10,
      "id": "d9cb09d8",
      "metadata": {
        "colab": {
          "base_uri": "https://localhost:8080/"
        },
        "id": "d9cb09d8",
        "outputId": "d2a10f6a-e703-4c52-ad7c-ad99e7cea0f8"
      },
      "outputs": [
        {
          "output_type": "stream",
          "name": "stdout",
          "text": [
            "22680\n"
          ]
        }
      ],
      "source": [
        "#Wczytanie zdjęć treningowych (90% całego zbioru)\n",
        "images_train = []\n",
        "size = len(value_train)\n",
        "\n",
        "for i in range(size):\n",
        "    im = Image.open('/content/train/'+str(i)+'.png')\n",
        "    arr_im = np.array(im) \n",
        "    arr_im = arr_im / 255.0\n",
        "    images_train.append(arr_im) \n",
        "print(len(images_train))"
      ]
    },
    {
      "cell_type": "code",
      "execution_count": 11,
      "id": "9I51x6abky3Q",
      "metadata": {
        "colab": {
          "base_uri": "https://localhost:8080/"
        },
        "id": "9I51x6abky3Q",
        "outputId": "63314846-8fa7-451a-9281-744bd0b76989"
      },
      "outputs": [
        {
          "output_type": "stream",
          "name": "stdout",
          "text": [
            "2520\n"
          ]
        }
      ],
      "source": [
        "#Wczytanie zdjęć testowych (10% całego zbioru)\n",
        "images_test = []\n",
        "size = len(value_test)\n",
        "\n",
        "for i in range(size):\n",
        "    im = Image.open('/content/test/'+str(i)+'.png')\n",
        "    arr_im = np.array(im) \n",
        "    arr_im = arr_im / 255.0\n",
        "    images_test.append(arr_im) \n",
        "print(len(images_test))"
      ]
    },
    {
      "cell_type": "code",
      "execution_count": 12,
      "id": "f7f4dd4b",
      "metadata": {
        "id": "f7f4dd4b"
      },
      "outputs": [],
      "source": [
        "x_train = np.array(images_train)\n",
        "x_test = np.array(images_test)\n",
        "\n",
        "y_train = np.array(value_train)\n",
        "y_test = np.array(value_test)"
      ]
    },
    {
      "cell_type": "code",
      "execution_count": 13,
      "id": "d3a370cb",
      "metadata": {
        "colab": {
          "base_uri": "https://localhost:8080/",
          "height": 236
        },
        "id": "d3a370cb",
        "outputId": "6b002d8e-bba6-47cd-8711-e08c04bd99ac"
      },
      "outputs": [
        {
          "output_type": "stream",
          "name": "stdout",
          "text": [
            "0\n"
          ]
        },
        {
          "output_type": "display_data",
          "data": {
            "text/plain": [
              "<Figure size 432x288 with 1 Axes>"
            ],
            "image/png": "[encoded data removed]"
          },
          "metadata": {
            "needs_background": "light"
          }
        }
      ],
      "source": [
        "a = 19000\n",
        "plt.imshow(x_train[a],cmap = 'gray')\n",
        "print(y_train[a])"
      ]
    },
    {
      "cell_type": "code",
      "execution_count": 14,
      "id": "772c7d7c",
      "metadata": {
        "id": "772c7d7c"
      },
      "outputs": [],
      "source": [
        "model = models.Sequential()\n",
        "model.add(layers.Conv2D(32, (3, 3), activation='relu', input_shape=(64, 128, 1)))\n",
        "model.add(layers.MaxPooling2D((2, 2)))\n",
        "model.add(layers.Conv2D(32, (3, 3), activation='relu'))\n",
        "model.add(layers.MaxPooling2D((2, 2)))\n",
        "\n",
        "model.add(layers.BatchNormalization())\n",
        "\n",
        "model.add(layers.Conv2D(64, (3, 3), activation='relu'))\n",
        "model.add(layers.MaxPooling2D((2, 2)))\n",
        "model.add(layers.Conv2D(64, (3, 3), activation='relu'))\n",
        "model.add(layers.MaxPooling2D((2, 2)))\n",
        "\n",
        "\n",
        "model.add(layers.BatchNormalization())\n",
        "\n",
        "model.add(layers.Flatten())\n",
        "model.add(layers.Dense(64, activation='relu', kernel_regularizer=keras.regularizers.l2(l=0.1)))\n",
        "model.add(layers.Dense(1, activation='relu'))"
      ]
    },
    {
      "cell_type": "code",
      "execution_count": 15,
      "id": "b86f72df",
      "metadata": {
        "colab": {
          "base_uri": "https://localhost:8080/"
        },
        "id": "b86f72df",
        "outputId": "5e250efc-48d5-4827-b590-f15a630cadf8"
      },
      "outputs": [
        {
          "output_type": "stream",
          "name": "stdout",
          "text": [
            "Model: \"sequential\"\n",
            "_________________________________________________________________\n",
            " Layer (type)                Output Shape              Param #   \n",
            "=================================================================\n",
            " conv2d (Conv2D)             (None, 62, 126, 32)       320       \n",
            "                                                                 \n",
            " max_pooling2d (MaxPooling2D  (None, 31, 63, 32)       0         \n",
            " )                                                               \n",
            "                                                                 \n",
            " conv2d_1 (Conv2D)           (None, 29, 61, 32)        9248      \n",
            "                                                                 \n",
            " max_pooling2d_1 (MaxPooling  (None, 14, 30, 32)       0         \n",
            " 2D)                                                             \n",
            "                                                                 \n",
            " batch_normalization (BatchN  (None, 14, 30, 32)       128       \n",
            " ormalization)                                                   \n",
            "                                                                 \n",
            " conv2d_2 (Conv2D)           (None, 12, 28, 64)        18496     \n",
            "                                                                 \n",
            " max_pooling2d_2 (MaxPooling  (None, 6, 14, 64)        0         \n",
            " 2D)                                                             \n",
            "                                                                 \n",
            " conv2d_3 (Conv2D)           (None, 4, 12, 64)         36928     \n",
            "                                                                 \n",
            " max_pooling2d_3 (MaxPooling  (None, 2, 6, 64)         0         \n",
            " 2D)                                                             \n",
            "                                                                 \n",
            " batch_normalization_1 (Batc  (None, 2, 6, 64)         256       \n",
            " hNormalization)                                                 \n",
            "                                                                 \n",
            " flatten (Flatten)           (None, 768)               0         \n",
            "                                                                 \n",
            " dense (Dense)               (None, 64)                49216     \n",
            "                                                                 \n",
            " dense_1 (Dense)             (None, 1)                 65        \n",
            "                                                                 \n",
            "=================================================================\n",
            "Total params: 114,657\n",
            "Trainable params: 114,465\n",
            "Non-trainable params: 192\n",
            "_________________________________________________________________\n"
          ]
        }
      ],
      "source": [
        "model.summary()"
      ]
    },
    {
      "cell_type": "code",
      "execution_count": 16,
      "id": "9beb77e5",
      "metadata": {
        "colab": {
          "base_uri": "https://localhost:8080/"
        },
        "id": "9beb77e5",
        "outputId": "a398abee-6e8e-40ec-d717-c9d2955f0dbe"
      },
      "outputs": [
        {
          "output_type": "stream",
          "name": "stdout",
          "text": [
            "Epoch 1/100\n",
            "205/205 [==============================] - 35s 118ms/step - loss: 1.7998 - accuracy: 0.8354 - mse: 0.1588 - val_loss: 1.3039 - val_accuracy: 0.0000e+00 - val_mse: 1.2735\n",
            "Epoch 2/100\n",
            "205/205 [==============================] - 24s 117ms/step - loss: 0.0369 - accuracy: 0.9904 - mse: 0.0182 - val_loss: 1.1410 - val_accuracy: 0.0000e+00 - val_mse: 1.1274\n",
            "Epoch 3/100\n",
            "205/205 [==============================] - 24s 116ms/step - loss: 0.0250 - accuracy: 0.9950 - mse: 0.0124 - val_loss: 0.0603 - val_accuracy: 0.9383 - val_mse: 0.0494\n",
            "Epoch 4/100\n",
            "205/205 [==============================] - 24s 115ms/step - loss: 0.0181 - accuracy: 0.9965 - mse: 0.0084 - val_loss: 0.0602 - val_accuracy: 0.9255 - val_mse: 0.0520\n",
            "Epoch 5/100\n",
            "205/205 [==============================] - 24s 116ms/step - loss: 0.0154 - accuracy: 0.9975 - mse: 0.0072 - val_loss: 0.0165 - val_accuracy: 0.9903 - val_mse: 0.0086\n",
            "Epoch 6/100\n",
            "205/205 [==============================] - 24s 116ms/step - loss: 0.0111 - accuracy: 0.9990 - mse: 0.0049 - val_loss: 0.0102 - val_accuracy: 0.9987 - val_mse: 0.0028\n",
            "Epoch 7/100\n",
            "205/205 [==============================] - 23s 114ms/step - loss: 0.0146 - accuracy: 0.9966 - mse: 0.0068 - val_loss: 0.0277 - val_accuracy: 0.9683 - val_mse: 0.0216\n",
            "Epoch 8/100\n",
            "205/205 [==============================] - 23s 114ms/step - loss: 0.0108 - accuracy: 0.9978 - mse: 0.0053 - val_loss: 0.0810 - val_accuracy: 0.8915 - val_mse: 0.0743\n",
            "Epoch 9/100\n",
            "205/205 [==============================] - 23s 114ms/step - loss: 0.0117 - accuracy: 0.9967 - mse: 0.0057 - val_loss: 0.0341 - val_accuracy: 0.9669 - val_mse: 0.0269\n",
            "Epoch 10/100\n",
            "205/205 [==============================] - 24s 116ms/step - loss: 0.0090 - accuracy: 0.9979 - mse: 0.0043 - val_loss: 0.0063 - val_accuracy: 0.9982 - val_mse: 0.0027\n",
            "Epoch 11/100\n",
            "205/205 [==============================] - 23s 115ms/step - loss: 0.0054 - accuracy: 0.9993 - mse: 0.0025 - val_loss: 0.0105 - val_accuracy: 0.9894 - val_mse: 0.0078\n",
            "Epoch 12/100\n",
            "205/205 [==============================] - 23s 114ms/step - loss: 0.0081 - accuracy: 0.9979 - mse: 0.0043 - val_loss: 0.0068 - val_accuracy: 0.9974 - val_mse: 0.0038\n",
            "Epoch 13/100\n",
            "205/205 [==============================] - 24s 115ms/step - loss: 0.0165 - accuracy: 0.9928 - mse: 0.0094 - val_loss: 0.0048 - val_accuracy: 0.9982 - val_mse: 0.0021\n",
            "Epoch 14/100\n",
            "205/205 [==============================] - 23s 114ms/step - loss: 0.0042 - accuracy: 0.9992 - mse: 0.0019 - val_loss: 0.0051 - val_accuracy: 0.9982 - val_mse: 0.0029\n",
            "Epoch 15/100\n",
            "205/205 [==============================] - 23s 115ms/step - loss: 0.0040 - accuracy: 0.9990 - mse: 0.0019 - val_loss: 0.0017 - val_accuracy: 1.0000 - val_mse: 4.9650e-06\n",
            "Epoch 16/100\n",
            "205/205 [==============================] - 23s 113ms/step - loss: 0.0107 - accuracy: 0.9951 - mse: 0.0058 - val_loss: 0.0339 - val_accuracy: 0.9533 - val_mse: 0.0319\n",
            "Epoch 17/100\n",
            "205/205 [==============================] - 23s 113ms/step - loss: 0.0040 - accuracy: 0.9992 - mse: 0.0018 - val_loss: 0.0055 - val_accuracy: 0.9956 - val_mse: 0.0038\n",
            "Epoch 18/100\n",
            "205/205 [==============================] - 23s 114ms/step - loss: 0.0032 - accuracy: 0.9992 - mse: 0.0013 - val_loss: 0.0062 - val_accuracy: 0.9960 - val_mse: 0.0051\n",
            "Epoch 19/100\n",
            "205/205 [==============================] - 24s 115ms/step - loss: 0.0019 - accuracy: 0.9999 - mse: 6.4607e-04 - val_loss: 0.0011 - val_accuracy: 1.0000 - val_mse: 2.5322e-05\n",
            "Epoch 20/100\n",
            "205/205 [==============================] - 23s 113ms/step - loss: 0.0014 - accuracy: 1.0000 - mse: 4.3760e-04 - val_loss: 0.0023 - val_accuracy: 0.9996 - val_mse: 0.0015\n",
            "Epoch 21/100\n",
            "205/205 [==============================] - 23s 114ms/step - loss: 0.0011 - accuracy: 1.0000 - mse: 2.9921e-04 - val_loss: 0.0110 - val_accuracy: 0.9921 - val_mse: 0.0101\n",
            "Epoch 22/100\n",
            "205/205 [==============================] - 23s 114ms/step - loss: 0.0151 - accuracy: 0.9916 - mse: 0.0087 - val_loss: 0.0145 - val_accuracy: 0.9837 - val_mse: 0.0117\n",
            "Epoch 23/100\n",
            "205/205 [==============================] - 23s 114ms/step - loss: 0.0033 - accuracy: 0.9992 - mse: 0.0013 - val_loss: 0.0027 - val_accuracy: 0.9991 - val_mse: 0.0012\n",
            "Epoch 24/100\n",
            "205/205 [==============================] - 23s 114ms/step - loss: 0.0018 - accuracy: 0.9999 - mse: 5.6881e-04 - val_loss: 0.0031 - val_accuracy: 0.9996 - val_mse: 0.0011\n",
            "Epoch 25/100\n",
            "205/205 [==============================] - 23s 114ms/step - loss: 0.0013 - accuracy: 1.0000 - mse: 3.9276e-04 - val_loss: 0.0016 - val_accuracy: 1.0000 - val_mse: 3.3030e-04\n",
            "Epoch 26/100\n",
            "205/205 [==============================] - 24s 115ms/step - loss: 8.1412e-04 - accuracy: 1.0000 - mse: 1.7604e-04 - val_loss: 7.5776e-04 - val_accuracy: 1.0000 - val_mse: 1.2688e-04\n",
            "Epoch 27/100\n",
            "205/205 [==============================] - 23s 113ms/step - loss: 7.8401e-04 - accuracy: 1.0000 - mse: 1.8460e-04 - val_loss: 9.0846e-04 - val_accuracy: 1.0000 - val_mse: 1.7864e-04\n",
            "Epoch 28/100\n",
            "205/205 [==============================] - 23s 113ms/step - loss: 0.0011 - accuracy: 1.0000 - mse: 2.7622e-04 - val_loss: 9.7462e-04 - val_accuracy: 1.0000 - val_mse: 9.7325e-05\n",
            "Epoch 29/100\n",
            "205/205 [==============================] - 23s 113ms/step - loss: 9.9562e-04 - accuracy: 1.0000 - mse: 2.8242e-04 - val_loss: 0.0213 - val_accuracy: 0.9806 - val_mse: 0.0204\n",
            "Epoch 30/100\n",
            "205/205 [==============================] - 24s 115ms/step - loss: 9.2884e-04 - accuracy: 1.0000 - mse: 2.2645e-04 - val_loss: 6.7192e-04 - val_accuracy: 1.0000 - val_mse: 1.9800e-04\n",
            "Epoch 31/100\n",
            "205/205 [==============================] - 23s 113ms/step - loss: 0.0013 - accuracy: 0.9999 - mse: 3.4538e-04 - val_loss: 0.0066 - val_accuracy: 0.9960 - val_mse: 0.0058\n",
            "Epoch 32/100\n",
            "205/205 [==============================] - 23s 113ms/step - loss: 0.0149 - accuracy: 0.9924 - mse: 0.0083 - val_loss: 0.0028 - val_accuracy: 1.0000 - val_mse: 0.0000e+00\n",
            "Epoch 33/100\n",
            "205/205 [==============================] - 23s 114ms/step - loss: 0.0039 - accuracy: 0.9982 - mse: 0.0017 - val_loss: 0.0135 - val_accuracy: 0.9877 - val_mse: 0.0121\n",
            "Epoch 34/100\n",
            "205/205 [==============================] - 23s 113ms/step - loss: 0.0017 - accuracy: 0.9998 - mse: 4.5276e-04 - val_loss: 8.0981e-04 - val_accuracy: 1.0000 - val_mse: 4.3101e-05\n",
            "Epoch 35/100\n",
            "205/205 [==============================] - 23s 114ms/step - loss: 0.0029 - accuracy: 0.9991 - mse: 0.0012 - val_loss: 0.0051 - val_accuracy: 0.9947 - val_mse: 0.0031\n",
            "Epoch 36/100\n",
            "205/205 [==============================] - 23s 113ms/step - loss: 0.0019 - accuracy: 0.9997 - mse: 5.2941e-04 - val_loss: 0.0012 - val_accuracy: 1.0000 - val_mse: 2.9986e-04\n",
            "Epoch 37/100\n",
            "205/205 [==============================] - 23s 113ms/step - loss: 0.0011 - accuracy: 1.0000 - mse: 2.2225e-04 - val_loss: 0.0024 - val_accuracy: 0.9991 - val_mse: 0.0012\n",
            "Epoch 38/100\n",
            "205/205 [==============================] - 23s 113ms/step - loss: 0.0036 - accuracy: 0.9986 - mse: 0.0016 - val_loss: 0.0034 - val_accuracy: 0.9978 - val_mse: 0.0021\n",
            "Epoch 39/100\n",
            "205/205 [==============================] - 23s 113ms/step - loss: 0.0013 - accuracy: 1.0000 - mse: 2.8592e-04 - val_loss: 0.0017 - val_accuracy: 0.9991 - val_mse: 9.7528e-04\n",
            "Epoch 40/100\n",
            "205/205 [==============================] - 23s 114ms/step - loss: 8.7573e-04 - accuracy: 1.0000 - mse: 1.8089e-04 - val_loss: 0.0013 - val_accuracy: 1.0000 - val_mse: 4.8582e-04\n",
            "Epoch 40: early stopping\n"
          ]
        }
      ],
      "source": [
        "model.compile(optimizer='adam',\n",
        "              loss='mse',\n",
        "              metrics=['accuracy','mse'])\n",
        "\n",
        "#Funckja umożliwia zatrzymanie się uczenia \n",
        "#gdy wartość strat przstanie maleć\n",
        "EarlyStop = EarlyStopping(monitor='val_loss',  \n",
        "                          verbose=1, \n",
        "                          patience=10)\n",
        "\n",
        "\n",
        "ModelCheck = ModelCheckpoint(filepath='/content/drive/MyDrive/Sieci/Zlaczone_firefox.h5',\n",
        "                             monitor='val_loss',\n",
        "                             save_best_only=True)\n",
        "\n",
        "\n",
        "history = model.fit(x=x_train, \n",
        "                    y=y_train, \n",
        "                    epochs=100,\n",
        "                    batch_size=100,\n",
        "                    validation_split=0.1,\n",
        "                    callbacks = [EarlyStop, ModelCheck]\n",
        "                   )"
      ]
    },
    {
      "cell_type": "code",
      "execution_count": 18,
      "id": "fe8633db",
      "metadata": {
        "colab": {
          "base_uri": "https://localhost:8080/",
          "height": 301
        },
        "id": "fe8633db",
        "outputId": "3406d8c1-8050-4ae3-b813-51d0615aff4a"
      },
      "outputs": [
        {
          "output_type": "execute_result",
          "data": {
            "text/plain": [
              "<matplotlib.legend.Legend at 0x7f58fc19c130>"
            ]
          },
          "metadata": {},
          "execution_count": 18
        },
        {
          "output_type": "display_data",
          "data": {
            "text/plain": [
              "<Figure size 432x288 with 1 Axes>"
            ],
            "image/png": "[encoded data removed]"
          },
          "metadata": {
            "needs_background": "light"
          }
        }
      ],
      "source": [
        "plt.plot(history.history['loss'], label='strata')\n",
        "plt.plot(history.history['val_loss'], label = 'strata walidacyjna')\n",
        "plt.xlabel('Epoka')\n",
        "plt.ylabel('Strata')\n",
        "plt.ylim([0.0, 0.5])\n",
        "plt.legend(loc='upper right')"
      ]
    },
    {
      "cell_type": "code",
      "execution_count": 19,
      "id": "8b976089",
      "metadata": {
        "colab": {
          "base_uri": "https://localhost:8080/",
          "height": 301
        },
        "id": "8b976089",
        "outputId": "28f2829b-8a6c-43b9-9937-cf9c9d6dffa0",
        "scrolled": true
      },
      "outputs": [
        {
          "output_type": "execute_result",
          "data": {
            "text/plain": [
              "<matplotlib.legend.Legend at 0x7f58fc19c2e0>"
            ]
          },
          "metadata": {},
          "execution_count": 19
        },
        {
          "output_type": "display_data",
          "data": {
            "text/plain": [
              "<Figure size 432x288 with 1 Axes>"
            ],
            "image/png": "[encoded data removed]"
          },
          "metadata": {
            "needs_background": "light"
          }
        }
      ],
      "source": [
        "plt.plot(history.history['accuracy'], label='precyzja')\n",
        "plt.plot(history.history['val_accuracy'], label = 'precyzja walidacyjna')\n",
        "plt.xlabel('Epoka')\n",
        "plt.ylabel('Precyzja')\n",
        "plt.ylim([0.5, 1])\n",
        "plt.legend(loc='lower right')"
      ]
    },
    {
      "cell_type": "code",
      "execution_count": 20,
      "id": "HWqm9BVzLHfw",
      "metadata": {
        "id": "HWqm9BVzLHfw"
      },
      "outputs": [],
      "source": [
        "best_model = tf.keras.models.load_model('/content/drive/MyDrive/Sieci/Zlaczone_firefox.h5')\n"
      ]
    },
    {
      "cell_type": "code",
      "execution_count": 21,
      "id": "685a286c",
      "metadata": {
        "colab": {
          "base_uri": "https://localhost:8080/"
        },
        "id": "685a286c",
        "outputId": "2847c428-fadd-4241-e721-05994b303367"
      },
      "outputs": [
        {
          "output_type": "stream",
          "name": "stdout",
          "text": [
            "79/79 - 2s - loss: 0.1951 - accuracy: 0.7710 - mse: 0.1946 - 2s/epoch - 19ms/step\n"
          ]
        },
        {
          "output_type": "execute_result",
          "data": {
            "text/plain": [
              "[0.195075667212117, 0.7710317460317461, 0.1946017455937845]"
            ]
          },
          "metadata": {},
          "execution_count": 21
        }
      ],
      "source": [
        "best_model.evaluate(x_test,  y_test, verbose=2)"
      ]
    },
    {
      "cell_type": "code",
      "execution_count": 22,
      "id": "ee941c13",
      "metadata": {
        "colab": {
          "base_uri": "https://localhost:8080/"
        },
        "id": "ee941c13",
        "outputId": "731832ad-24d4-4e0c-eaa5-714e42f1f7a9"
      },
      "outputs": [
        {
          "output_type": "stream",
          "name": "stdout",
          "text": [
            "79/79 [==============================] - 1s 12ms/step\n"
          ]
        }
      ],
      "source": [
        "predict_x = best_model.predict(x_test) \n",
        "\n",
        "predictions = (predict_x > 0.5).astype(\"int32\")"
      ]
    },
    {
      "cell_type": "code",
      "execution_count": 23,
      "id": "d8fb12f1",
      "metadata": {
        "colab": {
          "base_uri": "https://localhost:8080/"
        },
        "id": "d8fb12f1",
        "outputId": "e6ef4345-fa73-4f04-9582-9499234cc7bb"
      },
      "outputs": [
        {
          "output_type": "stream",
          "name": "stdout",
          "text": [
            "[['Tn' 'Nn']\n",
            " ['Np' 'Tp']]\n",
            "tf.Tensor(\n",
            "[[ 688  572]\n",
            " [   5 1255]], shape=(2, 2), dtype=int32)\n"
          ]
        }
      ],
      "source": [
        "names = [['Tn','Nn'],['Np', 'Tp']]\n",
        "names = np.reshape(names,(2,2))\n",
        "print(names)\n",
        "\n",
        "conf = tf.math.confusion_matrix(y_test,predictions)\n",
        "\n",
        "print(conf)"
      ]
    }
  ],
  "metadata": {
    "accelerator": "GPU",
    "colab": {
      "provenance": [],
      "include_colab_link": true
    },
    "gpuClass": "standard",
    "kernelspec": {
      "display_name": "py39",
      "language": "python",
      "name": "py39"
    },
    "language_info": {
      "codemirror_mode": {
        "name": "ipython",
        "version": 3
      },
      "file_extension": ".py",
      "mimetype": "text/x-python",
      "name": "python",
      "nbconvert_exporter": "python",
      "pygments_lexer": "ipython3",
      "version": "3.9.12"
    }
  },
  "nbformat": 4,
  "nbformat_minor": 5
}