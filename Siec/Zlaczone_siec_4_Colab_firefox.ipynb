{
  "cells": [
    {
      "cell_type": "markdown",
      "metadata": {
        "id": "view-in-github",
        "colab_type": "text"
      },
      "source": [
        "<a href=\"https://colab.research.google.com/github/ajankowi/Praca_inz/blob/master/Siec/Zlaczone_siec_4_Colab_firefox.ipynb\" target=\"_parent\"><img src=\"https://colab.research.google.com/assets/colab-badge.svg\" alt=\"Open In Colab\"/></a>"
      ]
    },
    {
      "cell_type": "code",
      "execution_count": 1,
      "id": "613f08b5",
      "metadata": {
        "colab": {
          "base_uri": "https://localhost:8080/"
        },
        "id": "613f08b5",
        "outputId": "212a382f-a170-4a28-829f-540246f13d3a"
      },
      "outputs": [
        {
          "output_type": "stream",
          "name": "stdout",
          "text": [
            "3.8.16 (default, Dec  7 2022, 01:12:13) \n",
            "[GCC 7.5.0]\n"
          ]
        }
      ],
      "source": [
        "import sys\n",
        "print(sys.version)"
      ]
    },
    {
      "cell_type": "code",
      "execution_count": 2,
      "id": "iY1o7_NmVlGs",
      "metadata": {
        "id": "iY1o7_NmVlGs"
      },
      "outputs": [],
      "source": [
        "#from google.colab import drive\n",
        "#drive.mount(\"/content/drive\", force_remount=True)"
      ]
    },
    {
      "cell_type": "code",
      "execution_count": 3,
      "id": "5eca1117",
      "metadata": {
        "colab": {
          "base_uri": "https://localhost:8080/"
        },
        "id": "5eca1117",
        "outputId": "56068dbb-fcbd-47ea-82b7-c147d9c8c065"
      },
      "outputs": [
        {
          "output_type": "stream",
          "name": "stdout",
          "text": [
            "TensorFlow version: 2.9.2\n"
          ]
        }
      ],
      "source": [
        "import tensorflow as tf\n",
        "from tensorflow import keras\n",
        "from keras import layers, models, regularizers\n",
        "from keras.layers import Flatten, add, Dense, Dropout \n",
        "from keras.callbacks import ModelCheckpoint, EarlyStopping\n",
        "\n",
        "\n",
        "print(\"TensorFlow version:\", tf.__version__)\n",
        "tf.keras.backend.set_floatx('float64')"
      ]
    },
    {
      "cell_type": "code",
      "execution_count": 4,
      "id": "12022d37",
      "metadata": {
        "id": "12022d37"
      },
      "outputs": [],
      "source": [
        "import matplotlib.pyplot as plt\n",
        "import numpy as np\n",
        "import pandas as pd\n",
        "import seaborn as sns\n",
        "from PIL import Image\n",
        "import os\n",
        "import csv\n",
        "import random\n",
        "\n",
        "import cv2\n",
        "import imutils\n",
        "import glob\n",
        "# Make NumPy printouts easier to read.\n",
        "np.set_printoptions(precision=3, suppress=True)"
      ]
    },
    {
      "cell_type": "code",
      "execution_count": 5,
      "id": "1086f893",
      "metadata": {
        "id": "1086f893"
      },
      "outputs": [],
      "source": [
        "#Określenie ścieżek do plików\n",
        "test_zip = '/content/drive/MyDrive/Sieci/Baza_zdjec_zlaczone_2/Test.zip'\n",
        "test_csv = 'test.csv'\n",
        "\n",
        "train_zip = '/content/drive/MyDrive/Sieci/Baza_zdjec_zlaczone_2/Train.zip'\n",
        "train_csv = 'train.csv'\n",
        "\n",
        "folder = '/content/drive/MyDrive/Sieci/Baza_zdjec_zlaczone_2/'\n",
        "slesh = '/'\n",
        "png = '.png'"
      ]
    },
    {
      "cell_type": "code",
      "execution_count": 6,
      "id": "FXtX4UDo9x77",
      "metadata": {
        "id": "FXtX4UDo9x77"
      },
      "outputs": [],
      "source": [
        "#!unzip '/content/drive/MyDrive/Sieci/Baza_zdjec_zlaczone_2/Train.zip' -d '/content/train/'\n",
        "#!unzip '/content/drive/MyDrive/Sieci/Baza_zdjec_zlaczone_2/Test.zip' -d '/content/test/'"
      ]
    },
    {
      "cell_type": "code",
      "execution_count": 7,
      "id": "d0329f31",
      "metadata": {
        "id": "d0329f31"
      },
      "outputs": [],
      "source": [
        "def release_list(a):\n",
        "    \n",
        "    del a[:]\n",
        "    del a"
      ]
    },
    {
      "cell_type": "code",
      "execution_count": 8,
      "id": "5beb89e7",
      "metadata": {
        "colab": {
          "base_uri": "https://localhost:8080/"
        },
        "id": "5beb89e7",
        "outputId": "36165da7-87b7-4e08-8e79-cd0db616b6c6"
      },
      "outputs": [
        {
          "output_type": "stream",
          "name": "stdout",
          "text": [
            "22680\n"
          ]
        }
      ],
      "source": [
        "#Wczytanie etykiet do treninegu \n",
        "\n",
        "with open(folder+train_csv,\"r\") as csvfile:\n",
        "    lines = csvfile.readlines()\n",
        "csvfile.close()\n",
        "\n",
        "new = []\n",
        "\n",
        "for i in lines:\n",
        "    new.append(i.split(\" \"))\n",
        "\n",
        "    \n",
        "value_train = []\n",
        "for i in new[0]:\n",
        "    value_train.append(int(i))    \n",
        "    \n",
        "print(len(value_train))"
      ]
    },
    {
      "cell_type": "code",
      "execution_count": 9,
      "id": "_BbuBDFDgvdp",
      "metadata": {
        "colab": {
          "base_uri": "https://localhost:8080/"
        },
        "id": "_BbuBDFDgvdp",
        "outputId": "4bf0af8b-b388-4fe2-a629-f62e0a42b511"
      },
      "outputs": [
        {
          "output_type": "stream",
          "name": "stdout",
          "text": [
            "2520\n"
          ]
        }
      ],
      "source": [
        "#Wczytanie etykiet do testowania\n",
        "\n",
        "with open(folder+test_csv,\"r\") as csvfile:\n",
        "    lines = csvfile.readlines()\n",
        "csvfile.close()\n",
        "\n",
        "new = []\n",
        "\n",
        "for i in lines:\n",
        "    new.append(i.split(\" \"))\n",
        "\n",
        "    \n",
        "value_test = []\n",
        "for i in new[0]:\n",
        "    value_test.append(int(i))    \n",
        "    \n",
        "print(len(value_test))"
      ]
    },
    {
      "cell_type": "code",
      "execution_count": 10,
      "id": "d9cb09d8",
      "metadata": {
        "colab": {
          "base_uri": "https://localhost:8080/"
        },
        "id": "d9cb09d8",
        "outputId": "a9c1fdd9-9433-4e78-de33-61538a9f8f16"
      },
      "outputs": [
        {
          "output_type": "stream",
          "name": "stdout",
          "text": [
            "22680\n"
          ]
        }
      ],
      "source": [
        "#Wczytanie zdjęć treningowych (90% całego zbioru)\n",
        "images_train = []\n",
        "size = len(value_train)\n",
        "\n",
        "for i in range(size):\n",
        "    im = Image.open('/content/train/'+str(i)+'.png')\n",
        "    arr_im = np.array(im) \n",
        "    arr_im = arr_im / 255.0\n",
        "    images_train.append(arr_im) \n",
        "print(len(images_train))"
      ]
    },
    {
      "cell_type": "code",
      "execution_count": 11,
      "id": "9I51x6abky3Q",
      "metadata": {
        "colab": {
          "base_uri": "https://localhost:8080/"
        },
        "id": "9I51x6abky3Q",
        "outputId": "018367ab-545a-452e-d726-e40221816c00"
      },
      "outputs": [
        {
          "output_type": "stream",
          "name": "stdout",
          "text": [
            "2520\n"
          ]
        }
      ],
      "source": [
        "#Wczytanie zdjęć testowych (10% całego zbioru)\n",
        "images_test = []\n",
        "size = len(value_test)\n",
        "\n",
        "for i in range(size):\n",
        "    im = Image.open('/content/test/'+str(i)+'.png')\n",
        "    arr_im = np.array(im) \n",
        "    arr_im = arr_im / 255.0\n",
        "    images_test.append(arr_im) \n",
        "print(len(images_test))"
      ]
    },
    {
      "cell_type": "code",
      "execution_count": 12,
      "id": "f7f4dd4b",
      "metadata": {
        "id": "f7f4dd4b"
      },
      "outputs": [],
      "source": [
        "x_train = np.array(images_train)\n",
        "x_test = np.array(images_test)\n",
        "\n",
        "y_train = np.array(value_train)\n",
        "y_test = np.array(value_test)"
      ]
    },
    {
      "cell_type": "code",
      "execution_count": 13,
      "id": "d3a370cb",
      "metadata": {
        "colab": {
          "base_uri": "https://localhost:8080/",
          "height": 236
        },
        "id": "d3a370cb",
        "outputId": "0191ef9c-cf4a-44c3-8786-88d3521544b9"
      },
      "outputs": [
        {
          "output_type": "stream",
          "name": "stdout",
          "text": [
            "0\n"
          ]
        },
        {
          "output_type": "display_data",
          "data": {
            "text/plain": [
              "<Figure size 432x288 with 1 Axes>"
            ],
            "image/png": "[encoded data removed]"
          },
          "metadata": {
            "needs_background": "light"
          }
        }
      ],
      "source": [
        "a = 19000\n",
        "plt.imshow(x_train[a],cmap = 'gray')\n",
        "print(y_train[a])"
      ]
    },
    {
      "cell_type": "code",
      "execution_count": 14,
      "id": "772c7d7c",
      "metadata": {
        "id": "772c7d7c"
      },
      "outputs": [],
      "source": [
        "model = models.Sequential()\n",
        "model.add(layers.Conv2D(32, (3, 3), activation='relu', input_shape=(64, 128, 1)))\n",
        "model.add(layers.MaxPooling2D((2, 2)))\n",
        "model.add(layers.Conv2D(32, (3, 3), activation='relu'))\n",
        "model.add(layers.MaxPooling2D((2, 2)))\n",
        "\n",
        "model.add(layers.BatchNormalization())\n",
        "\n",
        "model.add(layers.Conv2D(64, (3, 3), activation='relu'))\n",
        "model.add(layers.MaxPooling2D((2, 2)))\n",
        "model.add(layers.Conv2D(64, (3, 3), activation='relu'))\n",
        "model.add(layers.MaxPooling2D((2, 2)))\n",
        "\n",
        "\n",
        "model.add(layers.BatchNormalization())\n",
        "\n",
        "model.add(layers.Flatten())\n",
        "model.add(layers.Dense(64, activation='relu',kernel_regularizer=keras.regularizers.l2(l=0.1)))\n",
        "model.add(layers.Dense(1, activation='relu'))"
      ]
    },
    {
      "cell_type": "code",
      "execution_count": 15,
      "id": "b86f72df",
      "metadata": {
        "colab": {
          "base_uri": "https://localhost:8080/"
        },
        "id": "b86f72df",
        "outputId": "aafa0bf6-6e02-4b90-b886-206d3bae8861"
      },
      "outputs": [
        {
          "output_type": "stream",
          "name": "stdout",
          "text": [
            "Model: \"sequential\"\n",
            "_________________________________________________________________\n",
            " Layer (type)                Output Shape              Param #   \n",
            "=================================================================\n",
            " conv2d (Conv2D)             (None, 62, 126, 32)       320       \n",
            "                                                                 \n",
            " max_pooling2d (MaxPooling2D  (None, 31, 63, 32)       0         \n",
            " )                                                               \n",
            "                                                                 \n",
            " conv2d_1 (Conv2D)           (None, 29, 61, 32)        9248      \n",
            "                                                                 \n",
            " max_pooling2d_1 (MaxPooling  (None, 14, 30, 32)       0         \n",
            " 2D)                                                             \n",
            "                                                                 \n",
            " batch_normalization (BatchN  (None, 14, 30, 32)       128       \n",
            " ormalization)                                                   \n",
            "                                                                 \n",
            " conv2d_2 (Conv2D)           (None, 12, 28, 64)        18496     \n",
            "                                                                 \n",
            " max_pooling2d_2 (MaxPooling  (None, 6, 14, 64)        0         \n",
            " 2D)                                                             \n",
            "                                                                 \n",
            " conv2d_3 (Conv2D)           (None, 4, 12, 64)         36928     \n",
            "                                                                 \n",
            " max_pooling2d_3 (MaxPooling  (None, 2, 6, 64)         0         \n",
            " 2D)                                                             \n",
            "                                                                 \n",
            " batch_normalization_1 (Batc  (None, 2, 6, 64)         256       \n",
            " hNormalization)                                                 \n",
            "                                                                 \n",
            " flatten (Flatten)           (None, 768)               0         \n",
            "                                                                 \n",
            " dense (Dense)               (None, 64)                49216     \n",
            "                                                                 \n",
            " dense_1 (Dense)             (None, 1)                 65        \n",
            "                                                                 \n",
            "=================================================================\n",
            "Total params: 114,657\n",
            "Trainable params: 114,465\n",
            "Non-trainable params: 192\n",
            "_________________________________________________________________\n"
          ]
        }
      ],
      "source": [
        "model.summary()"
      ]
    },
    {
      "cell_type": "code",
      "execution_count": 16,
      "id": "9beb77e5",
      "metadata": {
        "colab": {
          "base_uri": "https://localhost:8080/"
        },
        "id": "9beb77e5",
        "outputId": "d92cd3a4-bcd0-4640-f32a-fd389907f4a4"
      },
      "outputs": [
        {
          "output_type": "stream",
          "name": "stdout",
          "text": [
            "Epoch 1/100\n",
            "205/205 [==============================] - 27s 113ms/step - loss: 0.1203 - accuracy: 0.8784 - mse: 0.1203 - val_loss: 1.9088 - val_accuracy: 0.0000e+00 - val_mse: 1.9088\n",
            "Epoch 2/100\n",
            "205/205 [==============================] - 23s 112ms/step - loss: 0.0155 - accuracy: 0.9931 - mse: 0.0155 - val_loss: 0.7810 - val_accuracy: 0.0904 - val_mse: 0.7810\n",
            "Epoch 3/100\n",
            "205/205 [==============================] - 23s 111ms/step - loss: 0.0069 - accuracy: 0.9985 - mse: 0.0069 - val_loss: 0.0174 - val_accuracy: 0.9863 - val_mse: 0.0174\n",
            "Epoch 4/100\n",
            "205/205 [==============================] - 23s 111ms/step - loss: 0.0045 - accuracy: 0.9998 - mse: 0.0045 - val_loss: 0.0041 - val_accuracy: 0.9965 - val_mse: 0.0041\n",
            "Epoch 5/100\n",
            "205/205 [==============================] - 23s 110ms/step - loss: 0.0032 - accuracy: 0.9998 - mse: 0.0032 - val_loss: 0.0036 - val_accuracy: 0.9978 - val_mse: 0.0036\n",
            "Epoch 6/100\n",
            "205/205 [==============================] - 23s 111ms/step - loss: 0.0027 - accuracy: 1.0000 - mse: 0.0027 - val_loss: 0.0013 - val_accuracy: 1.0000 - val_mse: 0.0013\n",
            "Epoch 7/100\n",
            "205/205 [==============================] - 23s 112ms/step - loss: 0.0017 - accuracy: 1.0000 - mse: 0.0017 - val_loss: 0.0021 - val_accuracy: 0.9991 - val_mse: 0.0021\n",
            "Epoch 8/100\n",
            "205/205 [==============================] - 22s 110ms/step - loss: 0.0013 - accuracy: 1.0000 - mse: 0.0013 - val_loss: 0.0027 - val_accuracy: 0.9991 - val_mse: 0.0027\n",
            "Epoch 9/100\n",
            "205/205 [==============================] - 22s 110ms/step - loss: 0.0013 - accuracy: 1.0000 - mse: 0.0013 - val_loss: 0.0015 - val_accuracy: 0.9996 - val_mse: 0.0015\n",
            "Epoch 10/100\n",
            "205/205 [==============================] - 23s 111ms/step - loss: 0.0011 - accuracy: 1.0000 - mse: 0.0011 - val_loss: 6.0654e-04 - val_accuracy: 1.0000 - val_mse: 6.0654e-04\n",
            "Epoch 11/100\n",
            "205/205 [==============================] - 22s 110ms/step - loss: 9.9758e-04 - accuracy: 1.0000 - mse: 9.9758e-04 - val_loss: 0.0017 - val_accuracy: 0.9987 - val_mse: 0.0017\n",
            "Epoch 12/100\n",
            "205/205 [==============================] - 23s 111ms/step - loss: 9.1988e-04 - accuracy: 1.0000 - mse: 9.1988e-04 - val_loss: 2.9530e-04 - val_accuracy: 1.0000 - val_mse: 2.9530e-04\n",
            "Epoch 13/100\n",
            "205/205 [==============================] - 22s 110ms/step - loss: 9.2799e-04 - accuracy: 1.0000 - mse: 9.2799e-04 - val_loss: 6.4585e-04 - val_accuracy: 1.0000 - val_mse: 6.4585e-04\n",
            "Epoch 14/100\n",
            "205/205 [==============================] - 22s 110ms/step - loss: 5.4959e-04 - accuracy: 1.0000 - mse: 5.4959e-04 - val_loss: 5.3781e-04 - val_accuracy: 1.0000 - val_mse: 5.3781e-04\n",
            "Epoch 15/100\n",
            "205/205 [==============================] - 23s 110ms/step - loss: 0.0017 - accuracy: 0.9998 - mse: 0.0017 - val_loss: 4.7064e-04 - val_accuracy: 0.9996 - val_mse: 4.7064e-04\n",
            "Epoch 16/100\n",
            "205/205 [==============================] - 23s 112ms/step - loss: 0.0027 - accuracy: 0.9991 - mse: 0.0027 - val_loss: 2.6358e-04 - val_accuracy: 1.0000 - val_mse: 2.6358e-04\n",
            "Epoch 17/100\n",
            "205/205 [==============================] - 23s 110ms/step - loss: 5.7591e-04 - accuracy: 1.0000 - mse: 5.7591e-04 - val_loss: 5.0815e-04 - val_accuracy: 1.0000 - val_mse: 5.0815e-04\n",
            "Epoch 18/100\n",
            "205/205 [==============================] - 23s 110ms/step - loss: 2.6223e-04 - accuracy: 1.0000 - mse: 2.6223e-04 - val_loss: 7.3156e-04 - val_accuracy: 1.0000 - val_mse: 7.3156e-04\n",
            "Epoch 19/100\n",
            "205/205 [==============================] - 23s 110ms/step - loss: 1.9750e-04 - accuracy: 1.0000 - mse: 1.9750e-04 - val_loss: 4.8601e-04 - val_accuracy: 1.0000 - val_mse: 4.8601e-04\n",
            "Epoch 20/100\n",
            "205/205 [==============================] - 23s 111ms/step - loss: 2.8527e-04 - accuracy: 1.0000 - mse: 2.8527e-04 - val_loss: 1.1889e-04 - val_accuracy: 1.0000 - val_mse: 1.1889e-04\n",
            "Epoch 21/100\n",
            "205/205 [==============================] - 23s 110ms/step - loss: 5.2722e-04 - accuracy: 1.0000 - mse: 5.2722e-04 - val_loss: 0.0166 - val_accuracy: 0.9775 - val_mse: 0.0166\n",
            "Epoch 22/100\n",
            "205/205 [==============================] - 23s 111ms/step - loss: 5.9488e-04 - accuracy: 0.9999 - mse: 5.9488e-04 - val_loss: 8.0762e-04 - val_accuracy: 0.9996 - val_mse: 8.0762e-04\n",
            "Epoch 23/100\n",
            "205/205 [==============================] - 23s 110ms/step - loss: 0.0018 - accuracy: 0.9990 - mse: 0.0018 - val_loss: 0.1438 - val_accuracy: 0.8585 - val_mse: 0.1438\n",
            "Epoch 24/100\n",
            "205/205 [==============================] - 23s 110ms/step - loss: 0.0048 - accuracy: 0.9965 - mse: 0.0048 - val_loss: 0.0395 - val_accuracy: 0.9414 - val_mse: 0.0395\n",
            "Epoch 25/100\n",
            "205/205 [==============================] - 23s 114ms/step - loss: 0.0010 - accuracy: 0.9996 - mse: 0.0010 - val_loss: 0.0000e+00 - val_accuracy: 1.0000 - val_mse: 0.0000e+00\n",
            "Epoch 26/100\n",
            "205/205 [==============================] - 22s 110ms/step - loss: 0.0046 - accuracy: 0.9967 - mse: 0.0046 - val_loss: 3.5715e-04 - val_accuracy: 0.9996 - val_mse: 3.5715e-04\n",
            "Epoch 27/100\n",
            "205/205 [==============================] - 23s 110ms/step - loss: 3.8734e-04 - accuracy: 1.0000 - mse: 3.8734e-04 - val_loss: 0.0012 - val_accuracy: 0.9982 - val_mse: 0.0012\n",
            "Epoch 28/100\n",
            "205/205 [==============================] - 23s 110ms/step - loss: 3.2596e-04 - accuracy: 1.0000 - mse: 3.2596e-04 - val_loss: 0.0010 - val_accuracy: 0.9982 - val_mse: 0.0010\n",
            "Epoch 29/100\n",
            "205/205 [==============================] - 23s 110ms/step - loss: 1.5611e-04 - accuracy: 1.0000 - mse: 1.5611e-04 - val_loss: 2.4703e-04 - val_accuracy: 0.9996 - val_mse: 2.4703e-04\n",
            "Epoch 30/100\n",
            "205/205 [==============================] - 23s 110ms/step - loss: 1.1506e-04 - accuracy: 1.0000 - mse: 1.1506e-04 - val_loss: 3.6144e-04 - val_accuracy: 0.9996 - val_mse: 3.6144e-04\n",
            "Epoch 31/100\n",
            "205/205 [==============================] - 23s 110ms/step - loss: 1.0937e-04 - accuracy: 1.0000 - mse: 1.0937e-04 - val_loss: 2.7148e-04 - val_accuracy: 0.9996 - val_mse: 2.7148e-04\n",
            "Epoch 32/100\n",
            "205/205 [==============================] - 23s 110ms/step - loss: 9.3169e-05 - accuracy: 1.0000 - mse: 9.3169e-05 - val_loss: 2.1900e-04 - val_accuracy: 0.9996 - val_mse: 2.1900e-04\n",
            "Epoch 33/100\n",
            "205/205 [==============================] - 23s 110ms/step - loss: 9.6056e-05 - accuracy: 1.0000 - mse: 9.6056e-05 - val_loss: 1.6484e-04 - val_accuracy: 0.9996 - val_mse: 1.6484e-04\n",
            "Epoch 34/100\n",
            "205/205 [==============================] - 23s 110ms/step - loss: 9.1594e-05 - accuracy: 1.0000 - mse: 9.1594e-05 - val_loss: 2.3389e-04 - val_accuracy: 0.9996 - val_mse: 2.3389e-04\n",
            "Epoch 35/100\n",
            "205/205 [==============================] - 22s 110ms/step - loss: 8.3132e-05 - accuracy: 1.0000 - mse: 8.3132e-05 - val_loss: 1.1590e-04 - val_accuracy: 1.0000 - val_mse: 1.1590e-04\n",
            "Epoch 35: early stopping\n"
          ]
        }
      ],
      "source": [
        "model.compile(optimizer='adam',\n",
        "              loss='mse',\n",
        "              metrics=['accuracy','mse'])\n",
        "\n",
        "#Funckja umożliwia zatrzymanie się uczenia \n",
        "#gdy wartość strat przstanie maleć\n",
        "EarlyStop = EarlyStopping(monitor='val_loss',  \n",
        "                          verbose=1, \n",
        "                          patience=10)\n",
        "\n",
        "\n",
        "ModelCheck = ModelCheckpoint(filepath='/content/drive/MyDrive/Sieci/Zlaczone_firefox.h5',\n",
        "                             monitor='val_loss',\n",
        "                             save_best_only=True)\n",
        "\n",
        "\n",
        "history = model.fit(x=x_train, \n",
        "                    y=y_train, \n",
        "                    epochs=100,\n",
        "                    batch_size=100,\n",
        "                    validation_split=0.1,\n",
        "                    callbacks = [EarlyStop, ModelCheck]\n",
        "                   )"
      ]
    },
    {
      "cell_type": "code",
      "execution_count": 17,
      "id": "fe8633db",
      "metadata": {
        "colab": {
          "base_uri": "https://localhost:8080/",
          "height": 301
        },
        "id": "fe8633db",
        "outputId": "355b4319-d048-4ec6-f01d-a9ab2a7697ac"
      },
      "outputs": [
        {
          "output_type": "execute_result",
          "data": {
            "text/plain": [
              "<matplotlib.legend.Legend at 0x7f30f64b04c0>"
            ]
          },
          "metadata": {},
          "execution_count": 17
        },
        {
          "output_type": "display_data",
          "data": {
            "text/plain": [
              "<Figure size 432x288 with 1 Axes>"
            ],
            "image/png": "[encoded data removed]"
          },
          "metadata": {
            "needs_background": "light"
          }
        }
      ],
      "source": [
        "plt.plot(history.history['loss'], label='strata')\n",
        "plt.plot(history.history['val_loss'], label = 'strata walidacyjna')\n",
        "plt.xlabel('Epoka')\n",
        "plt.ylabel('Strata')\n",
        "plt.ylim([0.0, 0.5])\n",
        "plt.legend(loc='upper right')"
      ]
    },
    {
      "cell_type": "code",
      "execution_count": 18,
      "id": "8b976089",
      "metadata": {
        "colab": {
          "base_uri": "https://localhost:8080/",
          "height": 301
        },
        "id": "8b976089",
        "outputId": "1c8d66c8-ba7b-45da-ab25-12e6a187dce6",
        "scrolled": true
      },
      "outputs": [
        {
          "output_type": "execute_result",
          "data": {
            "text/plain": [
              "<matplotlib.legend.Legend at 0x7f30905e8a30>"
            ]
          },
          "metadata": {},
          "execution_count": 18
        },
        {
          "output_type": "display_data",
          "data": {
            "text/plain": [
              "<Figure size 432x288 with 1 Axes>"
            ],
            "image/png": "[encoded data removed]"
          },
          "metadata": {
            "needs_background": "light"
          }
        }
      ],
      "source": [
        "plt.plot(history.history['accuracy'], label='precyzja')\n",
        "plt.plot(history.history['val_accuracy'], label = 'precyzja walidacyjna')\n",
        "plt.xlabel('Epoka')\n",
        "plt.ylabel('Precyzja')\n",
        "plt.ylim([0.5, 1])\n",
        "plt.legend(loc='lower right')"
      ]
    },
    {
      "cell_type": "code",
      "execution_count": 19,
      "id": "HWqm9BVzLHfw",
      "metadata": {
        "id": "HWqm9BVzLHfw"
      },
      "outputs": [],
      "source": [
        "best_model = tf.keras.models.load_model('/content/drive/MyDrive/Sieci/Zlaczone_firefox.h5')\n"
      ]
    },
    {
      "cell_type": "code",
      "execution_count": 20,
      "id": "685a286c",
      "metadata": {
        "colab": {
          "base_uri": "https://localhost:8080/"
        },
        "id": "685a286c",
        "outputId": "b3267e84-1c19-41cf-e02c-238a16532c3d"
      },
      "outputs": [
        {
          "output_type": "stream",
          "name": "stdout",
          "text": [
            "79/79 - 1s - loss: 0.1051 - accuracy: 0.8583 - mse: 0.1051 - 1s/epoch - 18ms/step\n"
          ]
        },
        {
          "output_type": "execute_result",
          "data": {
            "text/plain": [
              "[0.10510657503277507, 0.8583333333333333, 0.10510657503277507]"
            ]
          },
          "metadata": {},
          "execution_count": 20
        }
      ],
      "source": [
        "best_model.evaluate(x_test,  y_test, verbose=2)"
      ]
    },
    {
      "cell_type": "code",
      "execution_count": 21,
      "id": "ee941c13",
      "metadata": {
        "colab": {
          "base_uri": "https://localhost:8080/"
        },
        "id": "ee941c13",
        "outputId": "e2248d11-3118-4f2a-c672-3590aa67d9ac"
      },
      "outputs": [
        {
          "output_type": "stream",
          "name": "stdout",
          "text": [
            "79/79 [==============================] - 1s 11ms/step\n"
          ]
        }
      ],
      "source": [
        "predict_x = best_model.predict(x_test) \n",
        "\n",
        "predictions = (predict_x > 0.5).astype(\"int32\")"
      ]
    },
    {
      "cell_type": "code",
      "execution_count": 22,
      "id": "d8fb12f1",
      "metadata": {
        "colab": {
          "base_uri": "https://localhost:8080/"
        },
        "id": "d8fb12f1",
        "outputId": "ab152ba3-ad7e-4722-aa84-d4259383f531"
      },
      "outputs": [
        {
          "output_type": "stream",
          "name": "stdout",
          "text": [
            "[['Tn' 'Nn']\n",
            " ['Np' 'Tp']]\n",
            "tf.Tensor(\n",
            "[[1020  240]\n",
            " [ 117 1143]], shape=(2, 2), dtype=int32)\n"
          ]
        }
      ],
      "source": [
        "names = [['Tn','Nn'],['Np', 'Tp']]\n",
        "names = np.reshape(names,(2,2))\n",
        "print(names)\n",
        "\n",
        "conf = tf.math.confusion_matrix(y_test,predictions)\n",
        "\n",
        "print(conf)"
      ]
    }
  ],
  "metadata": {
    "accelerator": "GPU",
    "colab": {
      "provenance": [],
      "include_colab_link": true
    },
    "gpuClass": "standard",
    "kernelspec": {
      "display_name": "py39",
      "language": "python",
      "name": "py39"
    },
    "language_info": {
      "codemirror_mode": {
        "name": "ipython",
        "version": 3
      },
      "file_extension": ".py",
      "mimetype": "text/x-python",
      "name": "python",
      "nbconvert_exporter": "python",
      "pygments_lexer": "ipython3",
      "version": "3.9.12"
    }
  },
  "nbformat": 4,
  "nbformat_minor": 5
}