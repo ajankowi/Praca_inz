{
  "cells": [
    {
      "cell_type": "markdown",
      "metadata": {
        "id": "view-in-github",
        "colab_type": "text"
      },
      "source": [
        "<a href=\"https://colab.research.google.com/github/ajankowi/Praca_inz/blob/master/Siec/Zlaczone_siec_4_Colab_firefox.ipynb\" target=\"_parent\"><img src=\"https://colab.research.google.com/assets/colab-badge.svg\" alt=\"Open In Colab\"/></a>"
      ]
    },
    {
      "cell_type": "code",
      "execution_count": 1,
      "id": "613f08b5",
      "metadata": {
        "colab": {
          "base_uri": "https://localhost:8080/"
        },
        "id": "613f08b5",
        "outputId": "8a45258b-e4e4-4007-c6e7-14e7955778df"
      },
      "outputs": [
        {
          "output_type": "stream",
          "name": "stdout",
          "text": [
            "3.8.16 (default, Dec  7 2022, 01:12:13) \n",
            "[GCC 7.5.0]\n"
          ]
        }
      ],
      "source": [
        "import sys\n",
        "print(sys.version)"
      ]
    },
    {
      "cell_type": "code",
      "execution_count": 2,
      "id": "iY1o7_NmVlGs",
      "metadata": {
        "id": "iY1o7_NmVlGs"
      },
      "outputs": [],
      "source": [
        "#from google.colab import drive\n",
        "#drive.mount(\"/content/drive\", force_remount=True)"
      ]
    },
    {
      "cell_type": "code",
      "execution_count": 3,
      "id": "5eca1117",
      "metadata": {
        "colab": {
          "base_uri": "https://localhost:8080/"
        },
        "id": "5eca1117",
        "outputId": "83b7017c-4129-4ff6-8982-bdfdfccf06f9"
      },
      "outputs": [
        {
          "output_type": "stream",
          "name": "stdout",
          "text": [
            "TensorFlow version: 2.9.2\n"
          ]
        }
      ],
      "source": [
        "import tensorflow as tf\n",
        "from tensorflow import keras\n",
        "from keras import layers, models, regularizers\n",
        "from keras.layers import Flatten, add, Dense, Dropout \n",
        "from keras.callbacks import ModelCheckpoint, EarlyStopping\n",
        "\n",
        "\n",
        "print(\"TensorFlow version:\", tf.__version__)\n",
        "tf.keras.backend.set_floatx('float64')"
      ]
    },
    {
      "cell_type": "code",
      "execution_count": 4,
      "id": "12022d37",
      "metadata": {
        "id": "12022d37"
      },
      "outputs": [],
      "source": [
        "import matplotlib.pyplot as plt\n",
        "import numpy as np\n",
        "import pandas as pd\n",
        "import seaborn as sns\n",
        "from PIL import Image\n",
        "import os\n",
        "import csv\n",
        "import random\n",
        "\n",
        "import cv2\n",
        "import imutils\n",
        "import glob\n",
        "# Make NumPy printouts easier to read.\n",
        "np.set_printoptions(precision=3, suppress=True)"
      ]
    },
    {
      "cell_type": "code",
      "execution_count": 5,
      "id": "1086f893",
      "metadata": {
        "id": "1086f893"
      },
      "outputs": [],
      "source": [
        "#Określenie ścieżek do plików\n",
        "test_zip = '/content/drive/MyDrive/Sieci/Baza_zdjec_zlaczone_2/Test.zip'\n",
        "test_csv = 'test.csv'\n",
        "\n",
        "train_zip = '/content/drive/MyDrive/Sieci/Baza_zdjec_zlaczone_2/Train.zip'\n",
        "train_csv = 'train.csv'\n",
        "\n",
        "folder = '/content/drive/MyDrive/Sieci/Baza_zdjec_zlaczone_2/'\n",
        "slesh = '/'\n",
        "png = '.png'"
      ]
    },
    {
      "cell_type": "code",
      "execution_count": 6,
      "id": "FXtX4UDo9x77",
      "metadata": {
        "id": "FXtX4UDo9x77"
      },
      "outputs": [],
      "source": [
        "#!unzip '/content/drive/MyDrive/Sieci/Baza_zdjec_zlaczone_2/Train.zip' -d '/content/train/'\n",
        "#!unzip '/content/drive/MyDrive/Sieci/Baza_zdjec_zlaczone_2/Test.zip' -d '/content/test/'"
      ]
    },
    {
      "cell_type": "code",
      "execution_count": 7,
      "id": "d0329f31",
      "metadata": {
        "id": "d0329f31"
      },
      "outputs": [],
      "source": [
        "def release_list(a):\n",
        "    \n",
        "    del a[:]\n",
        "    del a"
      ]
    },
    {
      "cell_type": "code",
      "execution_count": 8,
      "id": "5beb89e7",
      "metadata": {
        "colab": {
          "base_uri": "https://localhost:8080/"
        },
        "id": "5beb89e7",
        "outputId": "bfb3a62d-b9a5-41be-9f24-ef523611fda8"
      },
      "outputs": [
        {
          "output_type": "stream",
          "name": "stdout",
          "text": [
            "22680\n"
          ]
        }
      ],
      "source": [
        "#Wczytanie etykiet do treninegu \n",
        "\n",
        "with open(folder+train_csv,\"r\") as csvfile:\n",
        "    lines = csvfile.readlines()\n",
        "csvfile.close()\n",
        "\n",
        "new = []\n",
        "\n",
        "for i in lines:\n",
        "    new.append(i.split(\" \"))\n",
        "\n",
        "    \n",
        "value_train = []\n",
        "for i in new[0]:\n",
        "    value_train.append(int(i))    \n",
        "    \n",
        "print(len(value_train))"
      ]
    },
    {
      "cell_type": "code",
      "execution_count": 9,
      "id": "_BbuBDFDgvdp",
      "metadata": {
        "colab": {
          "base_uri": "https://localhost:8080/"
        },
        "id": "_BbuBDFDgvdp",
        "outputId": "3aaac3d3-e5f3-41d0-c35f-17f4bc93b806"
      },
      "outputs": [
        {
          "output_type": "stream",
          "name": "stdout",
          "text": [
            "2520\n"
          ]
        }
      ],
      "source": [
        "#Wczytanie etykiet do testowania\n",
        "\n",
        "with open(folder+test_csv,\"r\") as csvfile:\n",
        "    lines = csvfile.readlines()\n",
        "csvfile.close()\n",
        "\n",
        "new = []\n",
        "\n",
        "for i in lines:\n",
        "    new.append(i.split(\" \"))\n",
        "\n",
        "    \n",
        "value_test = []\n",
        "for i in new[0]:\n",
        "    value_test.append(int(i))    \n",
        "    \n",
        "print(len(value_test))"
      ]
    },
    {
      "cell_type": "code",
      "execution_count": 10,
      "id": "d9cb09d8",
      "metadata": {
        "colab": {
          "base_uri": "https://localhost:8080/"
        },
        "id": "d9cb09d8",
        "outputId": "29a7fd6f-7479-453f-fd19-bade78a8034f"
      },
      "outputs": [
        {
          "output_type": "stream",
          "name": "stdout",
          "text": [
            "22680\n"
          ]
        }
      ],
      "source": [
        "#Wczytanie zdjęć treningowych (90% całego zbioru)\n",
        "images_train = []\n",
        "size = len(value_train)\n",
        "\n",
        "for i in range(size):\n",
        "    im = Image.open('/content/train/'+str(i)+'.png')\n",
        "    arr_im = np.array(im) \n",
        "    arr_im = arr_im / 255.0\n",
        "    images_train.append(arr_im) \n",
        "print(len(images_train))"
      ]
    },
    {
      "cell_type": "code",
      "execution_count": 11,
      "id": "9I51x6abky3Q",
      "metadata": {
        "colab": {
          "base_uri": "https://localhost:8080/"
        },
        "id": "9I51x6abky3Q",
        "outputId": "1e01e683-28da-4f8c-bf6b-ac36ac586612"
      },
      "outputs": [
        {
          "output_type": "stream",
          "name": "stdout",
          "text": [
            "2520\n"
          ]
        }
      ],
      "source": [
        "#Wczytanie zdjęć testowych (10% całego zbioru)\n",
        "images_test = []\n",
        "size = len(value_test)\n",
        "\n",
        "for i in range(size):\n",
        "    im = Image.open('/content/test/'+str(i)+'.png')\n",
        "    arr_im = np.array(im) \n",
        "    arr_im = arr_im / 255.0\n",
        "    images_test.append(arr_im) \n",
        "print(len(images_test))"
      ]
    },
    {
      "cell_type": "code",
      "execution_count": 12,
      "id": "f7f4dd4b",
      "metadata": {
        "id": "f7f4dd4b"
      },
      "outputs": [],
      "source": [
        "x_train = np.array(images_train)\n",
        "x_test = np.array(images_test)\n",
        "\n",
        "y_train = np.array(value_train)\n",
        "y_test = np.array(value_test)"
      ]
    },
    {
      "cell_type": "code",
      "execution_count": 13,
      "id": "d3a370cb",
      "metadata": {
        "colab": {
          "base_uri": "https://localhost:8080/",
          "height": 236
        },
        "id": "d3a370cb",
        "outputId": "9244ac3a-fe72-4f84-95e4-0ad62b44b5c5"
      },
      "outputs": [
        {
          "output_type": "stream",
          "name": "stdout",
          "text": [
            "0\n"
          ]
        },
        {
          "output_type": "display_data",
          "data": {
            "text/plain": [
              "<Figure size 432x288 with 1 Axes>"
            ],
            "image/png": "[encoded data removed]"
          },
          "metadata": {
            "needs_background": "light"
          }
        }
      ],
      "source": [
        "a = 19000\n",
        "plt.imshow(x_train[a],cmap = 'gray')\n",
        "print(y_train[a])"
      ]
    },
    {
      "cell_type": "code",
      "execution_count": 14,
      "id": "772c7d7c",
      "metadata": {
        "id": "772c7d7c"
      },
      "outputs": [],
      "source": [
        "model = models.Sequential()\n",
        "model.add(layers.Conv2D(32, (3, 3), activation='relu', input_shape=(64, 128, 1)))\n",
        "model.add(layers.MaxPooling2D((2, 2)))\n",
        "model.add(layers.Conv2D(32, (3, 3), activation='relu'))\n",
        "model.add(layers.MaxPooling2D((2, 2)))\n",
        "\n",
        "model.add(layers.BatchNormalization())\n",
        "\n",
        "model.add(layers.Conv2D(64, (3, 3), activation='relu'))\n",
        "model.add(layers.MaxPooling2D((2, 2)))\n",
        "model.add(layers.Conv2D(64, (3, 3), activation='relu'))\n",
        "model.add(layers.MaxPooling2D((2, 2)))\n",
        "\n",
        "\n",
        "model.add(layers.BatchNormalization())\n",
        "\n",
        "model.add(layers.Flatten())\n",
        "model.add(layers.Dense(64, activation='relu'))\n",
        "model.add(layers.Dense(1, activation='relu'))"
      ]
    },
    {
      "cell_type": "code",
      "execution_count": 15,
      "id": "b86f72df",
      "metadata": {
        "colab": {
          "base_uri": "https://localhost:8080/"
        },
        "id": "b86f72df",
        "outputId": "14efc022-768b-471e-d368-c222b4ba0f97"
      },
      "outputs": [
        {
          "output_type": "stream",
          "name": "stdout",
          "text": [
            "Model: \"sequential\"\n",
            "_________________________________________________________________\n",
            " Layer (type)                Output Shape              Param #   \n",
            "=================================================================\n",
            " conv2d (Conv2D)             (None, 62, 126, 32)       320       \n",
            "                                                                 \n",
            " max_pooling2d (MaxPooling2D  (None, 31, 63, 32)       0         \n",
            " )                                                               \n",
            "                                                                 \n",
            " conv2d_1 (Conv2D)           (None, 29, 61, 32)        9248      \n",
            "                                                                 \n",
            " max_pooling2d_1 (MaxPooling  (None, 14, 30, 32)       0         \n",
            " 2D)                                                             \n",
            "                                                                 \n",
            " batch_normalization (BatchN  (None, 14, 30, 32)       128       \n",
            " ormalization)                                                   \n",
            "                                                                 \n",
            " conv2d_2 (Conv2D)           (None, 12, 28, 64)        18496     \n",
            "                                                                 \n",
            " max_pooling2d_2 (MaxPooling  (None, 6, 14, 64)        0         \n",
            " 2D)                                                             \n",
            "                                                                 \n",
            " conv2d_3 (Conv2D)           (None, 4, 12, 64)         36928     \n",
            "                                                                 \n",
            " max_pooling2d_3 (MaxPooling  (None, 2, 6, 64)         0         \n",
            " 2D)                                                             \n",
            "                                                                 \n",
            " batch_normalization_1 (Batc  (None, 2, 6, 64)         256       \n",
            " hNormalization)                                                 \n",
            "                                                                 \n",
            " flatten (Flatten)           (None, 768)               0         \n",
            "                                                                 \n",
            " dense (Dense)               (None, 64)                49216     \n",
            "                                                                 \n",
            " dense_1 (Dense)             (None, 1)                 65        \n",
            "                                                                 \n",
            "=================================================================\n",
            "Total params: 114,657\n",
            "Trainable params: 114,465\n",
            "Non-trainable params: 192\n",
            "_________________________________________________________________\n"
          ]
        }
      ],
      "source": [
        "model.summary()"
      ]
    },
    {
      "cell_type": "code",
      "execution_count": 16,
      "id": "9beb77e5",
      "metadata": {
        "colab": {
          "base_uri": "https://localhost:8080/"
        },
        "id": "9beb77e5",
        "outputId": "c8252a85-565d-4cd1-a957-1ebd8a7be0d8"
      },
      "outputs": [
        {
          "output_type": "stream",
          "name": "stdout",
          "text": [
            "Epoch 1/100\n",
            "205/205 [==============================] - 31s 119ms/step - loss: 1.9766 - accuracy: 0.9036 - mse: 0.0912 - val_loss: 0.5993 - val_accuracy: 0.0000e+00 - val_mse: 0.5595\n",
            "Epoch 2/100\n",
            "205/205 [==============================] - 23s 114ms/step - loss: 0.0429 - accuracy: 0.9882 - mse: 0.0199 - val_loss: 0.8685 - val_accuracy: 0.0000e+00 - val_mse: 0.8539\n",
            "Epoch 3/100\n",
            "205/205 [==============================] - 24s 116ms/step - loss: 0.0263 - accuracy: 0.9948 - mse: 0.0120 - val_loss: 0.0589 - val_accuracy: 0.9440 - val_mse: 0.0483\n",
            "Epoch 4/100\n",
            "205/205 [==============================] - 24s 115ms/step - loss: 0.0195 - accuracy: 0.9960 - mse: 0.0090 - val_loss: 0.0212 - val_accuracy: 0.9810 - val_mse: 0.0138\n",
            "Epoch 5/100\n",
            "205/205 [==============================] - 24s 116ms/step - loss: 0.0154 - accuracy: 0.9973 - mse: 0.0072 - val_loss: 0.0150 - val_accuracy: 0.9921 - val_mse: 0.0079\n",
            "Epoch 6/100\n",
            "205/205 [==============================] - 23s 113ms/step - loss: 0.0115 - accuracy: 0.9983 - mse: 0.0052 - val_loss: 0.0157 - val_accuracy: 0.9899 - val_mse: 0.0104\n",
            "Epoch 7/100\n",
            "205/205 [==============================] - 23s 112ms/step - loss: 0.0102 - accuracy: 0.9983 - mse: 0.0048 - val_loss: 0.0242 - val_accuracy: 0.9784 - val_mse: 0.0178\n",
            "Epoch 8/100\n",
            "205/205 [==============================] - 24s 115ms/step - loss: 0.0064 - accuracy: 0.9997 - mse: 0.0027 - val_loss: 0.0089 - val_accuracy: 0.9965 - val_mse: 0.0052\n",
            "Epoch 9/100\n",
            "205/205 [==============================] - 23s 114ms/step - loss: 0.0109 - accuracy: 0.9973 - mse: 0.0055 - val_loss: 0.4455 - val_accuracy: 0.4691 - val_mse: 0.4402\n",
            "Epoch 10/100\n",
            "205/205 [==============================] - 24s 119ms/step - loss: 0.0259 - accuracy: 0.9894 - mse: 0.0140 - val_loss: 0.0064 - val_accuracy: 0.9965 - val_mse: 0.0029\n",
            "Epoch 11/100\n",
            "205/205 [==============================] - 24s 115ms/step - loss: 0.0060 - accuracy: 0.9988 - mse: 0.0027 - val_loss: 0.0060 - val_accuracy: 0.9991 - val_mse: 0.0015\n",
            "Epoch 12/100\n",
            "205/205 [==============================] - 24s 116ms/step - loss: 0.0052 - accuracy: 0.9994 - mse: 0.0021 - val_loss: 0.0039 - val_accuracy: 1.0000 - val_mse: 0.0013\n",
            "Epoch 13/100\n",
            "205/205 [==============================] - 24s 116ms/step - loss: 0.0037 - accuracy: 0.9998 - mse: 0.0014 - val_loss: 0.0030 - val_accuracy: 0.9991 - val_mse: 0.0013\n",
            "Epoch 14/100\n",
            "205/205 [==============================] - 23s 112ms/step - loss: 0.0037 - accuracy: 0.9996 - mse: 0.0017 - val_loss: 0.3472 - val_accuracy: 0.5732 - val_mse: 0.3427\n",
            "Epoch 15/100\n",
            "205/205 [==============================] - 23s 113ms/step - loss: 0.0081 - accuracy: 0.9980 - mse: 0.0038 - val_loss: 0.0088 - val_accuracy: 0.9903 - val_mse: 0.0066\n",
            "Epoch 16/100\n",
            "205/205 [==============================] - 24s 116ms/step - loss: 0.0038 - accuracy: 0.9997 - mse: 0.0014 - val_loss: 0.0020 - val_accuracy: 1.0000 - val_mse: 2.0165e-04\n",
            "Epoch 17/100\n",
            "205/205 [==============================] - 23s 112ms/step - loss: 0.0044 - accuracy: 0.9993 - mse: 0.0017 - val_loss: 0.0125 - val_accuracy: 0.9872 - val_mse: 0.0094\n",
            "Epoch 18/100\n",
            "205/205 [==============================] - 23s 112ms/step - loss: 0.0043 - accuracy: 0.9993 - mse: 0.0018 - val_loss: 0.0081 - val_accuracy: 0.9947 - val_mse: 0.0044\n",
            "Epoch 19/100\n",
            "205/205 [==============================] - 23s 114ms/step - loss: 0.0059 - accuracy: 0.9984 - mse: 0.0030 - val_loss: 0.0135 - val_accuracy: 0.9872 - val_mse: 0.0089\n",
            "Epoch 20/100\n",
            "205/205 [==============================] - 23s 112ms/step - loss: 0.0170 - accuracy: 0.9911 - mse: 0.0097 - val_loss: 0.0475 - val_accuracy: 0.9462 - val_mse: 0.0448\n",
            "Epoch 21/100\n",
            "205/205 [==============================] - 23s 112ms/step - loss: 0.0051 - accuracy: 0.9984 - mse: 0.0020 - val_loss: 0.0122 - val_accuracy: 0.9854 - val_mse: 0.0095\n",
            "Epoch 22/100\n",
            "205/205 [==============================] - 23s 112ms/step - loss: 0.0029 - accuracy: 0.9990 - mse: 0.0010 - val_loss: 0.0100 - val_accuracy: 0.9903 - val_mse: 0.0089\n",
            "Epoch 23/100\n",
            "205/205 [==============================] - 24s 117ms/step - loss: 0.0020 - accuracy: 0.9997 - mse: 6.4425e-04 - val_loss: 0.0011 - val_accuracy: 1.0000 - val_mse: 8.2469e-05\n",
            "Epoch 24/100\n",
            "205/205 [==============================] - 23s 112ms/step - loss: 0.0017 - accuracy: 1.0000 - mse: 4.1270e-04 - val_loss: 0.0043 - val_accuracy: 0.9974 - val_mse: 0.0033\n",
            "Epoch 25/100\n",
            "205/205 [==============================] - 23s 112ms/step - loss: 0.0010 - accuracy: 1.0000 - mse: 2.3172e-04 - val_loss: 0.0014 - val_accuracy: 1.0000 - val_mse: 6.3473e-04\n",
            "Epoch 26/100\n",
            "205/205 [==============================] - 23s 112ms/step - loss: 0.0012 - accuracy: 0.9999 - mse: 3.0500e-04 - val_loss: 0.0015 - val_accuracy: 1.0000 - val_mse: 3.0501e-04\n",
            "Epoch 27/100\n",
            "205/205 [==============================] - 23s 112ms/step - loss: 0.0047 - accuracy: 0.9980 - mse: 0.0023 - val_loss: 0.1261 - val_accuracy: 0.8466 - val_mse: 0.1216\n",
            "Epoch 28/100\n",
            "205/205 [==============================] - 23s 112ms/step - loss: 0.0120 - accuracy: 0.9935 - mse: 0.0066 - val_loss: 0.0072 - val_accuracy: 0.9956 - val_mse: 0.0032\n",
            "Epoch 29/100\n",
            "205/205 [==============================] - 23s 112ms/step - loss: 0.0034 - accuracy: 0.9984 - mse: 0.0015 - val_loss: 0.0078 - val_accuracy: 0.9916 - val_mse: 0.0066\n",
            "Epoch 30/100\n",
            "205/205 [==============================] - 23s 114ms/step - loss: 0.0021 - accuracy: 0.9993 - mse: 7.4995e-04 - val_loss: 0.0312 - val_accuracy: 0.9603 - val_mse: 0.0301\n",
            "Epoch 31/100\n",
            "205/205 [==============================] - 23s 112ms/step - loss: 0.0025 - accuracy: 0.9993 - mse: 8.1233e-04 - val_loss: 0.0066 - val_accuracy: 0.9978 - val_mse: 0.0015\n",
            "Epoch 32/100\n",
            "205/205 [==============================] - 23s 112ms/step - loss: 0.0026 - accuracy: 0.9993 - mse: 8.7880e-04 - val_loss: 0.0013 - val_accuracy: 1.0000 - val_mse: 5.9091e-04\n",
            "Epoch 33/100\n",
            "205/205 [==============================] - 23s 112ms/step - loss: 0.0017 - accuracy: 0.9997 - mse: 4.3277e-04 - val_loss: 0.0040 - val_accuracy: 0.9960 - val_mse: 0.0029\n",
            "Epoch 33: early stopping\n"
          ]
        }
      ],
      "source": [
        "model.compile(optimizer='adam',\n",
        "              loss='mse',\n",
        "              metrics=['accuracy','mse'])\n",
        "\n",
        "#Funckja umożliwia zatrzymanie się uczenia \n",
        "#gdy wartość strat przstanie maleć\n",
        "EarlyStop = EarlyStopping(monitor='val_loss',  \n",
        "                          verbose=1, \n",
        "                          patience=10)\n",
        "\n",
        "\n",
        "ModelCheck = ModelCheckpoint(filepath='/content/drive/MyDrive/Sieci/Zlaczone_firefox.h5',\n",
        "                             monitor='val_loss',\n",
        "                             save_best_only=True)\n",
        "\n",
        "\n",
        "history = model.fit(x=x_train, \n",
        "                    y=y_train, \n",
        "                    epochs=100,\n",
        "                    batch_size=100,\n",
        "                    validation_split=0.1,\n",
        "                    callbacks = [EarlyStop, ModelCheck]\n",
        "                   )"
      ]
    },
    {
      "cell_type": "code",
      "execution_count": 17,
      "id": "fe8633db",
      "metadata": {
        "colab": {
          "base_uri": "https://localhost:8080/",
          "height": 301
        },
        "id": "fe8633db",
        "outputId": "1532ff84-3ade-49de-b451-9152d87cf504"
      },
      "outputs": [
        {
          "output_type": "execute_result",
          "data": {
            "text/plain": [
              "<matplotlib.legend.Legend at 0x7f22b66e34f0>"
            ]
          },
          "metadata": {},
          "execution_count": 17
        },
        {
          "output_type": "display_data",
          "data": {
            "text/plain": [
              "<Figure size 432x288 with 1 Axes>"
            ],
            "image/png": "[encoded data removed]"
          },
          "metadata": {
            "needs_background": "light"
          }
        }
      ],
      "source": [
        "plt.plot(history.history['loss'], label='strata')\n",
        "plt.plot(history.history['val_loss'], label = 'strata walidacyjna')\n",
        "plt.xlabel('Epoka')\n",
        "plt.ylabel('Strata')\n",
        "plt.ylim([0.0, 0.5])\n",
        "plt.legend(loc='upper right')"
      ]
    },
    {
      "cell_type": "code",
      "execution_count": 18,
      "id": "8b976089",
      "metadata": {
        "colab": {
          "base_uri": "https://localhost:8080/",
          "height": 301
        },
        "id": "8b976089",
        "outputId": "c021ed1a-d8d3-418e-838a-4a7f35e73cfa",
        "scrolled": true
      },
      "outputs": [
        {
          "output_type": "execute_result",
          "data": {
            "text/plain": [
              "<matplotlib.legend.Legend at 0x7f22b66ac4f0>"
            ]
          },
          "metadata": {},
          "execution_count": 18
        },
        {
          "output_type": "display_data",
          "data": {
            "text/plain": [
              "<Figure size 432x288 with 1 Axes>"
            ],
            "image/png": "[encoded data removed]"
          },
          "metadata": {
            "needs_background": "light"
          }
        }
      ],
      "source": [
        "plt.plot(history.history['accuracy'], label='precyzja')\n",
        "plt.plot(history.history['val_accuracy'], label = 'precyzja walidacyjna')\n",
        "plt.xlabel('Epoka')\n",
        "plt.ylabel('Precyzja')\n",
        "plt.ylim([0.5, 1])\n",
        "plt.legend(loc='lower right')"
      ]
    },
    {
      "cell_type": "code",
      "execution_count": 19,
      "id": "HWqm9BVzLHfw",
      "metadata": {
        "id": "HWqm9BVzLHfw"
      },
      "outputs": [],
      "source": [
        "best_model = tf.keras.models.load_model('/content/drive/MyDrive/Sieci/Zlaczone_firefox.h5')\n"
      ]
    },
    {
      "cell_type": "code",
      "execution_count": 20,
      "id": "685a286c",
      "metadata": {
        "colab": {
          "base_uri": "https://localhost:8080/"
        },
        "id": "685a286c",
        "outputId": "16e81443-fd05-4a1b-e62a-75ae4d50c589"
      },
      "outputs": [
        {
          "output_type": "stream",
          "name": "stdout",
          "text": [
            "79/79 - 1s - loss: 0.2243 - accuracy: 0.7425 - mse: 0.2233 - 1s/epoch - 19ms/step\n"
          ]
        },
        {
          "output_type": "execute_result",
          "data": {
            "text/plain": [
              "[0.22431119410762734, 0.7424603174603175, 0.22333733850406384]"
            ]
          },
          "metadata": {},
          "execution_count": 20
        }
      ],
      "source": [
        "best_model.evaluate(x_test,  y_test, verbose=2)"
      ]
    },
    {
      "cell_type": "code",
      "execution_count": 21,
      "id": "ee941c13",
      "metadata": {
        "colab": {
          "base_uri": "https://localhost:8080/"
        },
        "id": "ee941c13",
        "outputId": "cd03e0a3-1a76-43d9-8ad8-eeca2dd99709"
      },
      "outputs": [
        {
          "output_type": "stream",
          "name": "stdout",
          "text": [
            "79/79 [==============================] - 1s 12ms/step\n"
          ]
        }
      ],
      "source": [
        "predict_x = best_model.predict(x_test) \n",
        "\n",
        "predictions = (predict_x > 0.5).astype(\"int32\")"
      ]
    },
    {
      "cell_type": "code",
      "execution_count": 22,
      "id": "d8fb12f1",
      "metadata": {
        "colab": {
          "base_uri": "https://localhost:8080/"
        },
        "id": "d8fb12f1",
        "outputId": "b17c5e39-9563-4a28-c020-82196c304a0e"
      },
      "outputs": [
        {
          "output_type": "stream",
          "name": "stdout",
          "text": [
            "[['Tn' 'Nn']\n",
            " ['Np' 'Tp']]\n",
            "tf.Tensor(\n",
            "[[ 622  638]\n",
            " [  11 1249]], shape=(2, 2), dtype=int32)\n"
          ]
        }
      ],
      "source": [
        "names = [['Tn','Nn'],['Np', 'Tp']]\n",
        "names = np.reshape(names,(2,2))\n",
        "print(names)\n",
        "\n",
        "conf = tf.math.confusion_matrix(y_test,predictions)\n",
        "\n",
        "print(conf)"
      ]
    }
  ],
  "metadata": {
    "accelerator": "GPU",
    "colab": {
      "provenance": [],
      "include_colab_link": true
    },
    "gpuClass": "standard",
    "kernelspec": {
      "display_name": "py39",
      "language": "python",
      "name": "py39"
    },
    "language_info": {
      "codemirror_mode": {
        "name": "ipython",
        "version": 3
      },
      "file_extension": ".py",
      "mimetype": "text/x-python",
      "name": "python",
      "nbconvert_exporter": "python",
      "pygments_lexer": "ipython3",
      "version": "3.9.12"
    }
  },
  "nbformat": 4,
  "nbformat_minor": 5
}