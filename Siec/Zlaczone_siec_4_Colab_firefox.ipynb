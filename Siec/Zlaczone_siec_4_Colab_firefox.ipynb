{
  "cells": [
    {
      "cell_type": "markdown",
      "metadata": {
        "id": "view-in-github",
        "colab_type": "text"
      },
      "source": [
        "<a href=\"https://colab.research.google.com/github/ajankowi/Praca_inz/blob/master/Siec/Zlaczone_siec_4_Colab_firefox.ipynb\" target=\"_parent\"><img src=\"https://colab.research.google.com/assets/colab-badge.svg\" alt=\"Open In Colab\"/></a>"
      ]
    },
    {
      "cell_type": "code",
      "execution_count": 1,
      "id": "613f08b5",
      "metadata": {
        "colab": {
          "base_uri": "https://localhost:8080/"
        },
        "id": "613f08b5",
        "outputId": "a18de69f-8232-4854-a9df-fabd5e2bbc74"
      },
      "outputs": [
        {
          "output_type": "stream",
          "name": "stdout",
          "text": [
            "3.8.16 (default, Dec  7 2022, 01:12:13) \n",
            "[GCC 7.5.0]\n"
          ]
        }
      ],
      "source": [
        "import sys\n",
        "print(sys.version)"
      ]
    },
    {
      "cell_type": "code",
      "execution_count": 2,
      "id": "iY1o7_NmVlGs",
      "metadata": {
        "id": "iY1o7_NmVlGs"
      },
      "outputs": [],
      "source": [
        "#from google.colab import drive\n",
        "#drive.mount(\"/content/drive\", force_remount=True)"
      ]
    },
    {
      "cell_type": "code",
      "execution_count": 3,
      "id": "5eca1117",
      "metadata": {
        "colab": {
          "base_uri": "https://localhost:8080/"
        },
        "id": "5eca1117",
        "outputId": "7e6a2b82-a84d-4386-a219-84acb04287d7"
      },
      "outputs": [
        {
          "output_type": "stream",
          "name": "stdout",
          "text": [
            "TensorFlow version: 2.9.2\n"
          ]
        }
      ],
      "source": [
        "import tensorflow as tf\n",
        "from tensorflow import keras\n",
        "from keras import layers, models, regularizers\n",
        "from keras.layers import Flatten, add, Dense, Dropout \n",
        "from keras.callbacks import ModelCheckpoint, EarlyStopping\n",
        "\n",
        "\n",
        "print(\"TensorFlow version:\", tf.__version__)\n",
        "tf.keras.backend.set_floatx('float64')"
      ]
    },
    {
      "cell_type": "code",
      "execution_count": 4,
      "id": "12022d37",
      "metadata": {
        "id": "12022d37"
      },
      "outputs": [],
      "source": [
        "import matplotlib.pyplot as plt\n",
        "import numpy as np\n",
        "import pandas as pd\n",
        "import seaborn as sns\n",
        "from PIL import Image\n",
        "import os\n",
        "import csv\n",
        "import random\n",
        "\n",
        "import cv2\n",
        "import imutils\n",
        "import glob\n",
        "# Make NumPy printouts easier to read.\n",
        "np.set_printoptions(precision=3, suppress=True)"
      ]
    },
    {
      "cell_type": "code",
      "execution_count": 5,
      "id": "1086f893",
      "metadata": {
        "id": "1086f893"
      },
      "outputs": [],
      "source": [
        "#Określenie ścieżek do plików\n",
        "test_zip = '/content/drive/MyDrive/Sieci/Baza_zdjec_zlaczone_2/Test.zip'\n",
        "test_csv = 'test.csv'\n",
        "\n",
        "train_zip = '/content/drive/MyDrive/Sieci/Baza_zdjec_zlaczone_2/Train.zip'\n",
        "train_csv = 'train.csv'\n",
        "\n",
        "folder = '/content/drive/MyDrive/Sieci/Baza_zdjec_zlaczone_2/'\n",
        "slesh = '/'\n",
        "png = '.png'"
      ]
    },
    {
      "cell_type": "code",
      "execution_count": 6,
      "id": "FXtX4UDo9x77",
      "metadata": {
        "id": "FXtX4UDo9x77"
      },
      "outputs": [],
      "source": [
        "#!unzip '/content/drive/MyDrive/Sieci/Baza_zdjec_zlaczone_2/Train.zip' -d '/content/train/'\n",
        "#!unzip '/content/drive/MyDrive/Sieci/Baza_zdjec_zlaczone_2/Test.zip' -d '/content/test/'"
      ]
    },
    {
      "cell_type": "code",
      "execution_count": 7,
      "id": "d0329f31",
      "metadata": {
        "id": "d0329f31"
      },
      "outputs": [],
      "source": [
        "def release_list(a):\n",
        "    \n",
        "    del a[:]\n",
        "    del a"
      ]
    },
    {
      "cell_type": "code",
      "execution_count": 8,
      "id": "5beb89e7",
      "metadata": {
        "colab": {
          "base_uri": "https://localhost:8080/"
        },
        "id": "5beb89e7",
        "outputId": "d300c606-40e3-4c80-9508-9e95060e6121"
      },
      "outputs": [
        {
          "output_type": "stream",
          "name": "stdout",
          "text": [
            "22680\n"
          ]
        }
      ],
      "source": [
        "#Wczytanie etykiet do treninegu \n",
        "\n",
        "with open(folder+train_csv,\"r\") as csvfile:\n",
        "    lines = csvfile.readlines()\n",
        "csvfile.close()\n",
        "\n",
        "new = []\n",
        "\n",
        "for i in lines:\n",
        "    new.append(i.split(\" \"))\n",
        "\n",
        "    \n",
        "value_train = []\n",
        "for i in new[0]:\n",
        "    value_train.append(int(i))    \n",
        "    \n",
        "print(len(value_train))"
      ]
    },
    {
      "cell_type": "code",
      "execution_count": 9,
      "id": "_BbuBDFDgvdp",
      "metadata": {
        "colab": {
          "base_uri": "https://localhost:8080/"
        },
        "id": "_BbuBDFDgvdp",
        "outputId": "2f1f54e1-6f00-40d2-ac90-95993f7f102c"
      },
      "outputs": [
        {
          "output_type": "stream",
          "name": "stdout",
          "text": [
            "2520\n"
          ]
        }
      ],
      "source": [
        "#Wczytanie etykiet do testowania\n",
        "\n",
        "with open(folder+test_csv,\"r\") as csvfile:\n",
        "    lines = csvfile.readlines()\n",
        "csvfile.close()\n",
        "\n",
        "new = []\n",
        "\n",
        "for i in lines:\n",
        "    new.append(i.split(\" \"))\n",
        "\n",
        "    \n",
        "value_test = []\n",
        "for i in new[0]:\n",
        "    value_test.append(int(i))    \n",
        "    \n",
        "print(len(value_test))"
      ]
    },
    {
      "cell_type": "code",
      "execution_count": 10,
      "id": "d9cb09d8",
      "metadata": {
        "colab": {
          "base_uri": "https://localhost:8080/"
        },
        "id": "d9cb09d8",
        "outputId": "ff883397-450b-4618-e00d-e450008bf3ac"
      },
      "outputs": [
        {
          "output_type": "stream",
          "name": "stdout",
          "text": [
            "22680\n"
          ]
        }
      ],
      "source": [
        "#Wczytanie zdjęć treningowych (90% całego zbioru)\n",
        "images_train = []\n",
        "size = len(value_train)\n",
        "\n",
        "for i in range(size):\n",
        "    im = Image.open('/content/train/'+str(i)+'.png')\n",
        "    arr_im = np.array(im) \n",
        "    arr_im = arr_im / 255.0\n",
        "    images_train.append(arr_im) \n",
        "print(len(images_train))"
      ]
    },
    {
      "cell_type": "code",
      "execution_count": 11,
      "id": "9I51x6abky3Q",
      "metadata": {
        "colab": {
          "base_uri": "https://localhost:8080/"
        },
        "id": "9I51x6abky3Q",
        "outputId": "389ffe48-00cc-406c-8562-2d29cfe3f09f"
      },
      "outputs": [
        {
          "output_type": "stream",
          "name": "stdout",
          "text": [
            "2520\n"
          ]
        }
      ],
      "source": [
        "#Wczytanie zdjęć testowych (10% całego zbioru)\n",
        "images_test = []\n",
        "size = len(value_test)\n",
        "\n",
        "for i in range(size):\n",
        "    im = Image.open('/content/test/'+str(i)+'.png')\n",
        "    arr_im = np.array(im) \n",
        "    arr_im = arr_im / 255.0\n",
        "    images_test.append(arr_im) \n",
        "print(len(images_test))"
      ]
    },
    {
      "cell_type": "code",
      "execution_count": 12,
      "id": "f7f4dd4b",
      "metadata": {
        "id": "f7f4dd4b"
      },
      "outputs": [],
      "source": [
        "x_train = np.array(images_train)\n",
        "x_test = np.array(images_test)\n",
        "\n",
        "y_train = np.array(value_train)\n",
        "y_test = np.array(value_test)"
      ]
    },
    {
      "cell_type": "code",
      "execution_count": 13,
      "id": "d3a370cb",
      "metadata": {
        "colab": {
          "base_uri": "https://localhost:8080/",
          "height": 236
        },
        "id": "d3a370cb",
        "outputId": "023c4f9f-8cbe-49e1-c052-6714efdc5a01"
      },
      "outputs": [
        {
          "output_type": "stream",
          "name": "stdout",
          "text": [
            "0\n"
          ]
        },
        {
          "output_type": "display_data",
          "data": {
            "text/plain": [
              "<Figure size 432x288 with 1 Axes>"
            ],
            "image/png": "[encoded data removed]"
          },
          "metadata": {
            "needs_background": "light"
          }
        }
      ],
      "source": [
        "a = 19000\n",
        "plt.imshow(x_train[a],cmap = 'gray')\n",
        "print(y_train[a])"
      ]
    },
    {
      "cell_type": "code",
      "execution_count": 14,
      "id": "772c7d7c",
      "metadata": {
        "id": "772c7d7c"
      },
      "outputs": [],
      "source": [
        "model = models.Sequential()\n",
        "model.add(layers.Conv2D(32, (3, 3), activation='relu', input_shape=(64, 128, 1)))\n",
        "model.add(layers.MaxPooling2D((2, 2)))\n",
        "model.add(layers.Conv2D(32, (3, 3), activation='relu'))\n",
        "model.add(layers.MaxPooling2D((2, 2)))\n",
        "\n",
        "model.add(layers.BatchNormalization())\n",
        "\n",
        "model.add(layers.Conv2D(64, (3, 3), activation='relu'))\n",
        "model.add(layers.MaxPooling2D((2, 2)))\n",
        "model.add(layers.Conv2D(64, (3, 3), activation='relu'))\n",
        "model.add(layers.MaxPooling2D((2, 2)))\n",
        "\n",
        "\n",
        "model.add(layers.BatchNormalization())\n",
        "\n",
        "model.add(layers.Flatten())\n",
        "model.add(layers.Dense(64, activation='relu'))\n",
        "model.add(layers.Dense(1, activation='relu'))"
      ]
    },
    {
      "cell_type": "code",
      "execution_count": 15,
      "id": "b86f72df",
      "metadata": {
        "colab": {
          "base_uri": "https://localhost:8080/"
        },
        "id": "b86f72df",
        "outputId": "ee8ef8bc-c159-4adb-d51d-bab12f742b48"
      },
      "outputs": [
        {
          "output_type": "stream",
          "name": "stdout",
          "text": [
            "Model: \"sequential\"\n",
            "_________________________________________________________________\n",
            " Layer (type)                Output Shape              Param #   \n",
            "=================================================================\n",
            " conv2d (Conv2D)             (None, 62, 126, 32)       320       \n",
            "                                                                 \n",
            " max_pooling2d (MaxPooling2D  (None, 31, 63, 32)       0         \n",
            " )                                                               \n",
            "                                                                 \n",
            " conv2d_1 (Conv2D)           (None, 29, 61, 32)        9248      \n",
            "                                                                 \n",
            " max_pooling2d_1 (MaxPooling  (None, 14, 30, 32)       0         \n",
            " 2D)                                                             \n",
            "                                                                 \n",
            " batch_normalization (BatchN  (None, 14, 30, 32)       128       \n",
            " ormalization)                                                   \n",
            "                                                                 \n",
            " conv2d_2 (Conv2D)           (None, 12, 28, 64)        18496     \n",
            "                                                                 \n",
            " max_pooling2d_2 (MaxPooling  (None, 6, 14, 64)        0         \n",
            " 2D)                                                             \n",
            "                                                                 \n",
            " conv2d_3 (Conv2D)           (None, 4, 12, 64)         36928     \n",
            "                                                                 \n",
            " max_pooling2d_3 (MaxPooling  (None, 2, 6, 64)         0         \n",
            " 2D)                                                             \n",
            "                                                                 \n",
            " batch_normalization_1 (Batc  (None, 2, 6, 64)         256       \n",
            " hNormalization)                                                 \n",
            "                                                                 \n",
            " flatten (Flatten)           (None, 768)               0         \n",
            "                                                                 \n",
            " dense (Dense)               (None, 64)                49216     \n",
            "                                                                 \n",
            " dense_1 (Dense)             (None, 1)                 65        \n",
            "                                                                 \n",
            "=================================================================\n",
            "Total params: 114,657\n",
            "Trainable params: 114,465\n",
            "Non-trainable params: 192\n",
            "_________________________________________________________________\n"
          ]
        }
      ],
      "source": [
        "model.summary()"
      ]
    },
    {
      "cell_type": "code",
      "execution_count": 16,
      "id": "9beb77e5",
      "metadata": {
        "colab": {
          "base_uri": "https://localhost:8080/"
        },
        "id": "9beb77e5",
        "outputId": "a3a5a3ab-ac2b-448c-dbc1-a703eeecb501"
      },
      "outputs": [
        {
          "output_type": "stream",
          "name": "stdout",
          "text": [
            "Epoch 1/100\n",
            "205/205 [==============================] - 31s 119ms/step - loss: 0.1772 - accuracy: 0.8243 - mse: 0.1772 - val_loss: 1.6319 - val_accuracy: 0.0000e+00 - val_mse: 1.6319\n",
            "Epoch 2/100\n",
            "205/205 [==============================] - 24s 117ms/step - loss: 0.0221 - accuracy: 0.9892 - mse: 0.0221 - val_loss: 0.6927 - val_accuracy: 0.1980 - val_mse: 0.6927\n",
            "Epoch 3/100\n",
            "205/205 [==============================] - 24s 115ms/step - loss: 0.0117 - accuracy: 0.9971 - mse: 0.0117 - val_loss: 0.0546 - val_accuracy: 0.9189 - val_mse: 0.0546\n",
            "Epoch 4/100\n",
            "205/205 [==============================] - 24s 116ms/step - loss: 0.0067 - accuracy: 0.9995 - mse: 0.0067 - val_loss: 0.0147 - val_accuracy: 0.9841 - val_mse: 0.0147\n",
            "Epoch 5/100\n",
            "205/205 [==============================] - 24s 115ms/step - loss: 0.0045 - accuracy: 0.9996 - mse: 0.0045 - val_loss: 0.0031 - val_accuracy: 0.9987 - val_mse: 0.0031\n",
            "Epoch 6/100\n",
            "205/205 [==============================] - 24s 115ms/step - loss: 0.0034 - accuracy: 1.0000 - mse: 0.0034 - val_loss: 0.0029 - val_accuracy: 0.9987 - val_mse: 0.0029\n",
            "Epoch 7/100\n",
            "205/205 [==============================] - 23s 115ms/step - loss: 0.0022 - accuracy: 1.0000 - mse: 0.0022 - val_loss: 9.3870e-04 - val_accuracy: 1.0000 - val_mse: 9.3870e-04\n",
            "Epoch 8/100\n",
            "205/205 [==============================] - 23s 111ms/step - loss: 0.0020 - accuracy: 1.0000 - mse: 0.0020 - val_loss: 0.0033 - val_accuracy: 0.9987 - val_mse: 0.0033\n",
            "Epoch 9/100\n",
            "205/205 [==============================] - 24s 115ms/step - loss: 0.0020 - accuracy: 1.0000 - mse: 0.0020 - val_loss: 7.3346e-04 - val_accuracy: 1.0000 - val_mse: 7.3346e-04\n",
            "Epoch 10/100\n",
            "205/205 [==============================] - 23s 112ms/step - loss: 0.0015 - accuracy: 1.0000 - mse: 0.0015 - val_loss: 0.0012 - val_accuracy: 1.0000 - val_mse: 0.0012\n",
            "Epoch 11/100\n",
            "205/205 [==============================] - 24s 115ms/step - loss: 0.0014 - accuracy: 1.0000 - mse: 0.0014 - val_loss: 5.4101e-04 - val_accuracy: 1.0000 - val_mse: 5.4101e-04\n",
            "Epoch 12/100\n",
            "205/205 [==============================] - 23s 114ms/step - loss: 0.0011 - accuracy: 1.0000 - mse: 0.0011 - val_loss: 0.0047 - val_accuracy: 0.9987 - val_mse: 0.0047\n",
            "Epoch 13/100\n",
            "205/205 [==============================] - 23s 112ms/step - loss: 0.0014 - accuracy: 1.0000 - mse: 0.0014 - val_loss: 9.3099e-04 - val_accuracy: 0.9991 - val_mse: 9.3099e-04\n",
            "Epoch 14/100\n",
            "205/205 [==============================] - 23s 112ms/step - loss: 0.0022 - accuracy: 0.9999 - mse: 0.0022 - val_loss: 9.4748e-04 - val_accuracy: 0.9996 - val_mse: 9.4748e-04\n",
            "Epoch 15/100\n",
            "205/205 [==============================] - 24s 115ms/step - loss: 8.1019e-04 - accuracy: 1.0000 - mse: 8.1019e-04 - val_loss: 5.2725e-04 - val_accuracy: 1.0000 - val_mse: 5.2725e-04\n",
            "Epoch 16/100\n",
            "205/205 [==============================] - 23s 112ms/step - loss: 5.1743e-04 - accuracy: 1.0000 - mse: 5.1743e-04 - val_loss: 0.0016 - val_accuracy: 0.9982 - val_mse: 0.0016\n",
            "Epoch 17/100\n",
            "205/205 [==============================] - 23s 112ms/step - loss: 0.0034 - accuracy: 0.9992 - mse: 0.0034 - val_loss: 0.0021 - val_accuracy: 0.9982 - val_mse: 0.0021\n",
            "Epoch 18/100\n",
            "205/205 [==============================] - 24s 115ms/step - loss: 6.4878e-04 - accuracy: 1.0000 - mse: 6.4878e-04 - val_loss: 4.7544e-04 - val_accuracy: 0.9991 - val_mse: 4.7544e-04\n",
            "Epoch 19/100\n",
            "205/205 [==============================] - 23s 112ms/step - loss: 3.4254e-04 - accuracy: 1.0000 - mse: 3.4254e-04 - val_loss: 5.1328e-04 - val_accuracy: 1.0000 - val_mse: 5.1328e-04\n",
            "Epoch 20/100\n",
            "205/205 [==============================] - 23s 112ms/step - loss: 2.6937e-04 - accuracy: 1.0000 - mse: 2.6937e-04 - val_loss: 5.7873e-04 - val_accuracy: 0.9987 - val_mse: 5.7873e-04\n",
            "Epoch 21/100\n",
            "205/205 [==============================] - 24s 116ms/step - loss: 2.1441e-04 - accuracy: 1.0000 - mse: 2.1441e-04 - val_loss: 4.4789e-04 - val_accuracy: 0.9991 - val_mse: 4.4789e-04\n",
            "Epoch 22/100\n",
            "205/205 [==============================] - 24s 119ms/step - loss: 2.5061e-04 - accuracy: 1.0000 - mse: 2.5061e-04 - val_loss: 4.4546e-04 - val_accuracy: 0.9996 - val_mse: 4.4546e-04\n",
            "Epoch 23/100\n",
            "205/205 [==============================] - 23s 111ms/step - loss: 3.3985e-04 - accuracy: 1.0000 - mse: 3.3985e-04 - val_loss: 0.0026 - val_accuracy: 0.9978 - val_mse: 0.0026\n",
            "Epoch 24/100\n",
            "205/205 [==============================] - 23s 112ms/step - loss: 0.0050 - accuracy: 0.9970 - mse: 0.0050 - val_loss: 0.0138 - val_accuracy: 0.9815 - val_mse: 0.0138\n",
            "Epoch 25/100\n",
            "205/205 [==============================] - 23s 111ms/step - loss: 0.0074 - accuracy: 0.9940 - mse: 0.0074 - val_loss: 0.0015 - val_accuracy: 0.9978 - val_mse: 0.0015\n",
            "Epoch 26/100\n",
            "205/205 [==============================] - 23s 111ms/step - loss: 6.3822e-04 - accuracy: 0.9999 - mse: 6.3822e-04 - val_loss: 8.2449e-04 - val_accuracy: 0.9987 - val_mse: 8.2449e-04\n",
            "Epoch 27/100\n",
            "205/205 [==============================] - 23s 111ms/step - loss: 3.1200e-04 - accuracy: 1.0000 - mse: 3.1200e-04 - val_loss: 8.0380e-04 - val_accuracy: 0.9991 - val_mse: 8.0380e-04\n",
            "Epoch 28/100\n",
            "205/205 [==============================] - 24s 119ms/step - loss: 5.0735e-04 - accuracy: 0.9997 - mse: 5.0735e-04 - val_loss: 4.1047e-04 - val_accuracy: 0.9996 - val_mse: 4.1047e-04\n",
            "Epoch 29/100\n",
            "205/205 [==============================] - 23s 114ms/step - loss: 5.5779e-04 - accuracy: 0.9999 - mse: 5.5779e-04 - val_loss: 1.9618e-04 - val_accuracy: 0.9996 - val_mse: 1.9618e-04\n",
            "Epoch 30/100\n",
            "205/205 [==============================] - 23s 111ms/step - loss: 5.2792e-04 - accuracy: 0.9999 - mse: 5.2792e-04 - val_loss: 4.3042e-04 - val_accuracy: 0.9996 - val_mse: 4.3042e-04\n",
            "Epoch 31/100\n",
            "205/205 [==============================] - 23s 114ms/step - loss: 9.8479e-04 - accuracy: 0.9992 - mse: 9.8479e-04 - val_loss: 1.1670e-04 - val_accuracy: 1.0000 - val_mse: 1.1670e-04\n",
            "Epoch 32/100\n",
            "205/205 [==============================] - 23s 111ms/step - loss: 2.0251e-04 - accuracy: 1.0000 - mse: 2.0251e-04 - val_loss: 2.3061e-04 - val_accuracy: 0.9996 - val_mse: 2.3061e-04\n",
            "Epoch 33/100\n",
            "205/205 [==============================] - 23s 111ms/step - loss: 1.1551e-04 - accuracy: 1.0000 - mse: 1.1551e-04 - val_loss: 4.0395e-04 - val_accuracy: 0.9996 - val_mse: 4.0395e-04\n",
            "Epoch 34/100\n",
            "205/205 [==============================] - 23s 111ms/step - loss: 1.1596e-04 - accuracy: 1.0000 - mse: 1.1596e-04 - val_loss: 4.1112e-04 - val_accuracy: 0.9996 - val_mse: 4.1112e-04\n",
            "Epoch 35/100\n",
            "205/205 [==============================] - 23s 112ms/step - loss: 1.0926e-04 - accuracy: 1.0000 - mse: 1.0926e-04 - val_loss: 4.3168e-04 - val_accuracy: 0.9996 - val_mse: 4.3168e-04\n",
            "Epoch 36/100\n",
            "205/205 [==============================] - 23s 111ms/step - loss: 1.3935e-04 - accuracy: 1.0000 - mse: 1.3935e-04 - val_loss: 3.9480e-04 - val_accuracy: 0.9996 - val_mse: 3.9480e-04\n",
            "Epoch 37/100\n",
            "205/205 [==============================] - 23s 112ms/step - loss: 1.0204e-04 - accuracy: 1.0000 - mse: 1.0204e-04 - val_loss: 4.5842e-04 - val_accuracy: 0.9996 - val_mse: 4.5842e-04\n",
            "Epoch 38/100\n",
            "205/205 [==============================] - 23s 111ms/step - loss: 9.4505e-05 - accuracy: 1.0000 - mse: 9.4505e-05 - val_loss: 5.6314e-04 - val_accuracy: 0.9991 - val_mse: 5.6314e-04\n",
            "Epoch 39/100\n",
            "205/205 [==============================] - 23s 111ms/step - loss: 0.0015 - accuracy: 0.9986 - mse: 0.0015 - val_loss: 0.5315 - val_accuracy: 0.6142 - val_mse: 0.5315\n",
            "Epoch 40/100\n",
            "205/205 [==============================] - 23s 110ms/step - loss: 0.0036 - accuracy: 0.9970 - mse: 0.0036 - val_loss: 0.0252 - val_accuracy: 0.9630 - val_mse: 0.0252\n",
            "Epoch 41/100\n",
            "205/205 [==============================] - 23s 110ms/step - loss: 3.1311e-04 - accuracy: 1.0000 - mse: 3.1311e-04 - val_loss: 9.3317e-04 - val_accuracy: 0.9982 - val_mse: 9.3317e-04\n",
            "Epoch 41: early stopping\n"
          ]
        }
      ],
      "source": [
        "model.compile(optimizer='adam',\n",
        "              loss='mse',\n",
        "              metrics=['accuracy','mse'])\n",
        "\n",
        "#Funckja umożliwia zatrzymanie się uczenia \n",
        "#gdy wartość strat przstanie maleć\n",
        "EarlyStop = EarlyStopping(monitor='val_loss',  \n",
        "                          verbose=1, \n",
        "                          patience=10)\n",
        "\n",
        "\n",
        "ModelCheck = ModelCheckpoint(filepath='/content/drive/MyDrive/Sieci/Zlaczone_firefox.h5',\n",
        "                             monitor='val_loss',\n",
        "                             save_best_only=True)\n",
        "\n",
        "\n",
        "history = model.fit(x=x_train, \n",
        "                    y=y_train, \n",
        "                    epochs=100,\n",
        "                    batch_size=100,\n",
        "                    validation_split=0.1,\n",
        "                    callbacks = [EarlyStop, ModelCheck]\n",
        "                   )"
      ]
    },
    {
      "cell_type": "code",
      "execution_count": 17,
      "id": "fe8633db",
      "metadata": {
        "colab": {
          "base_uri": "https://localhost:8080/",
          "height": 301
        },
        "id": "fe8633db",
        "outputId": "a54d87db-f256-426e-e09a-aaeeb17f1d04"
      },
      "outputs": [
        {
          "output_type": "execute_result",
          "data": {
            "text/plain": [
              "<matplotlib.legend.Legend at 0x7f8c000e3e80>"
            ]
          },
          "metadata": {},
          "execution_count": 17
        },
        {
          "output_type": "display_data",
          "data": {
            "text/plain": [
              "<Figure size 432x288 with 1 Axes>"
            ],
            "image/png": "[encoded data removed]"
          },
          "metadata": {
            "needs_background": "light"
          }
        }
      ],
      "source": [
        "plt.plot(history.history['loss'], label='strata')\n",
        "plt.plot(history.history['val_loss'], label = 'strata walidacyjna')\n",
        "plt.xlabel('Epoka')\n",
        "plt.ylabel('Strata')\n",
        "plt.ylim([0.0, 0.5])\n",
        "plt.legend(loc='upper right')"
      ]
    },
    {
      "cell_type": "code",
      "execution_count": 18,
      "id": "8b976089",
      "metadata": {
        "colab": {
          "base_uri": "https://localhost:8080/",
          "height": 301
        },
        "id": "8b976089",
        "outputId": "528442ae-e29f-4e4c-9f28-2f20a16a77de",
        "scrolled": true
      },
      "outputs": [
        {
          "output_type": "execute_result",
          "data": {
            "text/plain": [
              "<matplotlib.legend.Legend at 0x7f8c000ae550>"
            ]
          },
          "metadata": {},
          "execution_count": 18
        },
        {
          "output_type": "display_data",
          "data": {
            "text/plain": [
              "<Figure size 432x288 with 1 Axes>"
            ],
            "image/png": "[encoded data removed]"
          },
          "metadata": {
            "needs_background": "light"
          }
        }
      ],
      "source": [
        "plt.plot(history.history['accuracy'], label='precyzja')\n",
        "plt.plot(history.history['val_accuracy'], label = 'precyzja walidacyjna')\n",
        "plt.xlabel('Epoka')\n",
        "plt.ylabel('Precyzja')\n",
        "plt.ylim([0.5, 1])\n",
        "plt.legend(loc='lower right')"
      ]
    },
    {
      "cell_type": "code",
      "execution_count": 19,
      "id": "HWqm9BVzLHfw",
      "metadata": {
        "id": "HWqm9BVzLHfw"
      },
      "outputs": [],
      "source": [
        "best_model = tf.keras.models.load_model('/content/drive/MyDrive/Sieci/Zlaczone_firefox.h5')\n"
      ]
    },
    {
      "cell_type": "code",
      "execution_count": 20,
      "id": "685a286c",
      "metadata": {
        "colab": {
          "base_uri": "https://localhost:8080/"
        },
        "id": "685a286c",
        "outputId": "f2f01386-f26d-4a61-d4ad-154a6ff1b2b8"
      },
      "outputs": [
        {
          "output_type": "stream",
          "name": "stdout",
          "text": [
            "79/79 - 1s - loss: 0.1116 - accuracy: 0.8504 - mse: 0.1116 - 1s/epoch - 18ms/step\n"
          ]
        },
        {
          "output_type": "execute_result",
          "data": {
            "text/plain": [
              "[0.11164893279470162, 0.8503968253968254, 0.11164893279470162]"
            ]
          },
          "metadata": {},
          "execution_count": 20
        }
      ],
      "source": [
        "best_model.evaluate(x_test,  y_test, verbose=2)"
      ]
    },
    {
      "cell_type": "code",
      "execution_count": 21,
      "id": "ee941c13",
      "metadata": {
        "colab": {
          "base_uri": "https://localhost:8080/"
        },
        "id": "ee941c13",
        "outputId": "0bf06686-2c98-4c09-82fc-54d327227a47"
      },
      "outputs": [
        {
          "output_type": "stream",
          "name": "stdout",
          "text": [
            "79/79 [==============================] - 1s 11ms/step\n"
          ]
        }
      ],
      "source": [
        "predict_x = best_model.predict(x_test) \n",
        "\n",
        "predictions = (predict_x > 0.5).astype(\"int32\")"
      ]
    },
    {
      "cell_type": "code",
      "execution_count": 22,
      "id": "d8fb12f1",
      "metadata": {
        "colab": {
          "base_uri": "https://localhost:8080/"
        },
        "id": "d8fb12f1",
        "outputId": "acf53d29-76e2-4410-f8e9-787c8959d8e7"
      },
      "outputs": [
        {
          "output_type": "stream",
          "name": "stdout",
          "text": [
            "[['Tn' 'Nn']\n",
            " ['Np' 'Tp']]\n",
            "tf.Tensor(\n",
            "[[ 952  308]\n",
            " [  69 1191]], shape=(2, 2), dtype=int32)\n"
          ]
        }
      ],
      "source": [
        "names = [['Tn','Nn'],['Np', 'Tp']]\n",
        "names = np.reshape(names,(2,2))\n",
        "print(names)\n",
        "\n",
        "conf = tf.math.confusion_matrix(y_test,predictions)\n",
        "\n",
        "print(conf)"
      ]
    }
  ],
  "metadata": {
    "accelerator": "GPU",
    "colab": {
      "provenance": [],
      "include_colab_link": true
    },
    "gpuClass": "standard",
    "kernelspec": {
      "display_name": "py39",
      "language": "python",
      "name": "py39"
    },
    "language_info": {
      "codemirror_mode": {
        "name": "ipython",
        "version": 3
      },
      "file_extension": ".py",
      "mimetype": "text/x-python",
      "name": "python",
      "nbconvert_exporter": "python",
      "pygments_lexer": "ipython3",
      "version": "3.9.12"
    }
  },
  "nbformat": 4,
  "nbformat_minor": 5
}