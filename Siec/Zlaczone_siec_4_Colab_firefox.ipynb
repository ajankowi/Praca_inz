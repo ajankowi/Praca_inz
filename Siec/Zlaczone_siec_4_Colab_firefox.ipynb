{
  "cells": [
    {
      "cell_type": "markdown",
      "metadata": {
        "id": "view-in-github",
        "colab_type": "text"
      },
      "source": [
        "<a href=\"https://colab.research.google.com/github/ajankowi/Praca_inz/blob/master/Siec/Zlaczone_siec_4_Colab_firefox.ipynb\" target=\"_parent\"><img src=\"https://colab.research.google.com/assets/colab-badge.svg\" alt=\"Open In Colab\"/></a>"
      ]
    },
    {
      "cell_type": "code",
      "execution_count": 1,
      "id": "613f08b5",
      "metadata": {
        "colab": {
          "base_uri": "https://localhost:8080/"
        },
        "id": "613f08b5",
        "outputId": "273dd92c-26a8-4f66-d98e-e6deb98fb9a2"
      },
      "outputs": [
        {
          "output_type": "stream",
          "name": "stdout",
          "text": [
            "3.8.16 (default, Dec  7 2022, 01:12:13) \n",
            "[GCC 7.5.0]\n"
          ]
        }
      ],
      "source": [
        "import sys\n",
        "print(sys.version)"
      ]
    },
    {
      "cell_type": "code",
      "execution_count": 2,
      "id": "iY1o7_NmVlGs",
      "metadata": {
        "id": "iY1o7_NmVlGs"
      },
      "outputs": [],
      "source": [
        "#from google.colab import drive\n",
        "#drive.mount(\"/content/drive\", force_remount=True)"
      ]
    },
    {
      "cell_type": "code",
      "execution_count": 3,
      "id": "5eca1117",
      "metadata": {
        "colab": {
          "base_uri": "https://localhost:8080/"
        },
        "id": "5eca1117",
        "outputId": "bf73243b-4fd1-48ee-a94b-488f5a171f8e"
      },
      "outputs": [
        {
          "output_type": "stream",
          "name": "stdout",
          "text": [
            "TensorFlow version: 2.9.2\n"
          ]
        }
      ],
      "source": [
        "import tensorflow as tf\n",
        "from tensorflow import keras\n",
        "from keras import layers, models, regularizers\n",
        "from keras.layers import Flatten, add, Dense, Dropout \n",
        "from keras.callbacks import ModelCheckpoint, EarlyStopping\n",
        "\n",
        "\n",
        "print(\"TensorFlow version:\", tf.__version__)\n",
        "tf.keras.backend.set_floatx('float64')"
      ]
    },
    {
      "cell_type": "code",
      "execution_count": 4,
      "id": "12022d37",
      "metadata": {
        "id": "12022d37"
      },
      "outputs": [],
      "source": [
        "import matplotlib.pyplot as plt\n",
        "import numpy as np\n",
        "import pandas as pd\n",
        "import seaborn as sns\n",
        "from PIL import Image\n",
        "import os\n",
        "import csv\n",
        "import random\n",
        "\n",
        "import cv2\n",
        "import imutils\n",
        "import glob\n",
        "# Make NumPy printouts easier to read.\n",
        "np.set_printoptions(precision=3, suppress=True)"
      ]
    },
    {
      "cell_type": "code",
      "execution_count": 5,
      "id": "1086f893",
      "metadata": {
        "id": "1086f893"
      },
      "outputs": [],
      "source": [
        "#Określenie ścieżek do plików\n",
        "test_zip = '/content/drive/MyDrive/Sieci/Baza_zdjec_zlaczone_2/Test.zip'\n",
        "test_csv = 'test.csv'\n",
        "\n",
        "train_zip = '/content/drive/MyDrive/Sieci/Baza_zdjec_zlaczone_2/Train.zip'\n",
        "train_csv = 'train.csv'\n",
        "\n",
        "folder = '/content/drive/MyDrive/Sieci/Baza_zdjec_zlaczone_2/'\n",
        "slesh = '/'\n",
        "png = '.png'"
      ]
    },
    {
      "cell_type": "code",
      "execution_count": 6,
      "id": "FXtX4UDo9x77",
      "metadata": {
        "id": "FXtX4UDo9x77"
      },
      "outputs": [],
      "source": [
        "#!unzip '/content/drive/MyDrive/Sieci/Baza_zdjec_zlaczone_2/Train.zip' -d '/content/train/'\n",
        "#!unzip '/content/drive/MyDrive/Sieci/Baza_zdjec_zlaczone_2/Test.zip' -d '/content/test/'"
      ]
    },
    {
      "cell_type": "code",
      "execution_count": 7,
      "id": "d0329f31",
      "metadata": {
        "id": "d0329f31"
      },
      "outputs": [],
      "source": [
        "def release_list(a):\n",
        "    \n",
        "    del a[:]\n",
        "    del a"
      ]
    },
    {
      "cell_type": "code",
      "execution_count": 8,
      "id": "5beb89e7",
      "metadata": {
        "colab": {
          "base_uri": "https://localhost:8080/"
        },
        "id": "5beb89e7",
        "outputId": "cf31ae8d-3677-41a8-ea9c-5bd113c1631f"
      },
      "outputs": [
        {
          "output_type": "stream",
          "name": "stdout",
          "text": [
            "22680\n"
          ]
        }
      ],
      "source": [
        "#Wczytanie etykiet do treninegu \n",
        "\n",
        "with open(folder+train_csv,\"r\") as csvfile:\n",
        "    lines = csvfile.readlines()\n",
        "csvfile.close()\n",
        "\n",
        "new = []\n",
        "\n",
        "for i in lines:\n",
        "    new.append(i.split(\" \"))\n",
        "\n",
        "    \n",
        "value_train = []\n",
        "for i in new[0]:\n",
        "    value_train.append(int(i))    \n",
        "    \n",
        "print(len(value_train))"
      ]
    },
    {
      "cell_type": "code",
      "execution_count": 9,
      "id": "_BbuBDFDgvdp",
      "metadata": {
        "colab": {
          "base_uri": "https://localhost:8080/"
        },
        "id": "_BbuBDFDgvdp",
        "outputId": "f09a9e25-a1b7-46d0-9728-dbd8b376721e"
      },
      "outputs": [
        {
          "output_type": "stream",
          "name": "stdout",
          "text": [
            "2520\n"
          ]
        }
      ],
      "source": [
        "#Wczytanie etykiet do testowania\n",
        "\n",
        "with open(folder+test_csv,\"r\") as csvfile:\n",
        "    lines = csvfile.readlines()\n",
        "csvfile.close()\n",
        "\n",
        "new = []\n",
        "\n",
        "for i in lines:\n",
        "    new.append(i.split(\" \"))\n",
        "\n",
        "    \n",
        "value_test = []\n",
        "for i in new[0]:\n",
        "    value_test.append(int(i))    \n",
        "    \n",
        "print(len(value_test))"
      ]
    },
    {
      "cell_type": "code",
      "execution_count": 10,
      "id": "d9cb09d8",
      "metadata": {
        "colab": {
          "base_uri": "https://localhost:8080/"
        },
        "id": "d9cb09d8",
        "outputId": "a752c9c0-bf50-45a8-d94c-d25f9a333e07"
      },
      "outputs": [
        {
          "output_type": "stream",
          "name": "stdout",
          "text": [
            "22680\n"
          ]
        }
      ],
      "source": [
        "#Wczytanie zdjęć treningowych (90% całego zbioru)\n",
        "images_train = []\n",
        "size = len(value_train)\n",
        "\n",
        "for i in range(size):\n",
        "    im = Image.open('/content/train/'+str(i)+'.png')\n",
        "    arr_im = np.array(im) \n",
        "    arr_im = arr_im / 255.0\n",
        "    images_train.append(arr_im) \n",
        "print(len(images_train))"
      ]
    },
    {
      "cell_type": "code",
      "execution_count": 11,
      "id": "9I51x6abky3Q",
      "metadata": {
        "colab": {
          "base_uri": "https://localhost:8080/"
        },
        "id": "9I51x6abky3Q",
        "outputId": "80cbd1ad-2256-4a0a-e48c-04c6daf09253"
      },
      "outputs": [
        {
          "output_type": "stream",
          "name": "stdout",
          "text": [
            "2520\n"
          ]
        }
      ],
      "source": [
        "#Wczytanie zdjęć testowych (10% całego zbioru)\n",
        "images_test = []\n",
        "size = len(value_test)\n",
        "\n",
        "for i in range(size):\n",
        "    im = Image.open('/content/test/'+str(i)+'.png')\n",
        "    arr_im = np.array(im) \n",
        "    arr_im = arr_im / 255.0\n",
        "    images_test.append(arr_im) \n",
        "print(len(images_test))"
      ]
    },
    {
      "cell_type": "code",
      "execution_count": 12,
      "id": "f7f4dd4b",
      "metadata": {
        "id": "f7f4dd4b"
      },
      "outputs": [],
      "source": [
        "x_train = np.array(images_train)\n",
        "x_test = np.array(images_test)\n",
        "\n",
        "y_train = np.array(value_train)\n",
        "y_test = np.array(value_test)"
      ]
    },
    {
      "cell_type": "code",
      "execution_count": 59,
      "id": "d3a370cb",
      "metadata": {
        "colab": {
          "base_uri": "https://localhost:8080/",
          "height": 236
        },
        "id": "d3a370cb",
        "outputId": "24ee0e00-04ee-4a3e-8d44-690032714f8f"
      },
      "outputs": [
        {
          "output_type": "stream",
          "name": "stdout",
          "text": [
            "0\n"
          ]
        },
        {
          "output_type": "display_data",
          "data": {
            "text/plain": [
              "<Figure size 432x288 with 1 Axes>"
            ],
            "image/png": "[encoded data removed]"
          },
          "metadata": {
            "needs_background": "light"
          }
        }
      ],
      "source": [
        "a = 20000\n",
        "\n",
        "plt.imshow(x_train[a],cmap = 'gray')\n",
        "print(y_train[a])"
      ]
    },
    {
      "cell_type": "code",
      "execution_count": 14,
      "id": "772c7d7c",
      "metadata": {
        "id": "772c7d7c"
      },
      "outputs": [],
      "source": [
        "model = models.Sequential()\n",
        "model.add(layers.Conv2D(32, (3, 3), activation='relu', input_shape=(64, 128, 1)))\n",
        "model.add(layers.BatchNormalization())\n",
        "model.add(layers.MaxPooling2D((2, 2)))\n",
        "\n",
        "\n",
        "model.add(layers.Conv2D(64, (3, 3), activation='relu'))\n",
        "model.add(layers.BatchNormalization())\n",
        "model.add(layers.MaxPooling2D((2, 2)))\n",
        "\n",
        "\n",
        "model.add(layers.Conv2D(64, (3, 3), activation='relu'))\n",
        "model.add(layers.BatchNormalization())\n",
        "model.add(layers.MaxPooling2D((2, 2)))\n",
        "\n",
        "\n",
        "model.add(layers.Flatten())\n",
        "model.add(layers.Dense(64, activation='relu', kernel_regularizer=keras.regularizers.l2(l=0.1)))\n",
        "model.add(layers.Dense(1, activation='relu'))\n"
      ]
    },
    {
      "cell_type": "code",
      "execution_count": 15,
      "id": "b86f72df",
      "metadata": {
        "colab": {
          "base_uri": "https://localhost:8080/"
        },
        "id": "b86f72df",
        "outputId": "2f6be629-a272-4cf4-c957-5943a3a3017d"
      },
      "outputs": [
        {
          "output_type": "stream",
          "name": "stdout",
          "text": [
            "Model: \"sequential\"\n",
            "_________________________________________________________________\n",
            " Layer (type)                Output Shape              Param #   \n",
            "=================================================================\n",
            " conv2d (Conv2D)             (None, 62, 126, 32)       320       \n",
            "                                                                 \n",
            " max_pooling2d (MaxPooling2D  (None, 31, 63, 32)       0         \n",
            " )                                                               \n",
            "                                                                 \n",
            " conv2d_1 (Conv2D)           (None, 29, 61, 64)        18496     \n",
            "                                                                 \n",
            " max_pooling2d_1 (MaxPooling  (None, 14, 30, 64)       0         \n",
            " 2D)                                                             \n",
            "                                                                 \n",
            " conv2d_2 (Conv2D)           (None, 12, 28, 64)        36928     \n",
            "                                                                 \n",
            " max_pooling2d_2 (MaxPooling  (None, 6, 14, 64)        0         \n",
            " 2D)                                                             \n",
            "                                                                 \n",
            " batch_normalization (BatchN  (None, 6, 14, 64)        256       \n",
            " ormalization)                                                   \n",
            "                                                                 \n",
            " flatten (Flatten)           (None, 5376)              0         \n",
            "                                                                 \n",
            " dense (Dense)               (None, 64)                344128    \n",
            "                                                                 \n",
            " dense_1 (Dense)             (None, 1)                 65        \n",
            "                                                                 \n",
            "=================================================================\n",
            "Total params: 400,193\n",
            "Trainable params: 400,065\n",
            "Non-trainable params: 128\n",
            "_________________________________________________________________\n"
          ]
        }
      ],
      "source": [
        "model.summary()"
      ]
    },
    {
      "cell_type": "code",
      "execution_count": 16,
      "id": "9beb77e5",
      "metadata": {
        "colab": {
          "base_uri": "https://localhost:8080/"
        },
        "id": "9beb77e5",
        "outputId": "ac988957-0cf0-4597-9aa2-a650afa71785"
      },
      "outputs": [
        {
          "output_type": "stream",
          "name": "stdout",
          "text": [
            "Epoch 1/100\n",
            "80/80 [==============================] - 44s 454ms/step - loss: 3.0296 - accuracy: 0.8057 - mse: 0.1981 - val_loss: 0.4523 - val_accuracy: 1.0000 - val_mse: 2.5668e-05\n",
            "Epoch 2/100\n",
            "80/80 [==============================] - 33s 418ms/step - loss: 0.2575 - accuracy: 0.9758 - mse: 0.0327 - val_loss: 0.0982 - val_accuracy: 1.0000 - val_mse: 4.0496e-04\n",
            "Epoch 3/100\n",
            "80/80 [==============================] - 34s 424ms/step - loss: 0.0803 - accuracy: 0.9883 - mse: 0.0206 - val_loss: 0.0373 - val_accuracy: 1.0000 - val_mse: 7.7908e-05\n",
            "Epoch 4/100\n",
            "80/80 [==============================] - 34s 422ms/step - loss: 0.0463 - accuracy: 0.9905 - mse: 0.0174 - val_loss: 0.0241 - val_accuracy: 1.0000 - val_mse: 0.0012\n",
            "Epoch 5/100\n",
            "80/80 [==============================] - 34s 421ms/step - loss: 0.0374 - accuracy: 0.9916 - mse: 0.0162 - val_loss: 0.0196 - val_accuracy: 1.0000 - val_mse: 0.0013\n",
            "Epoch 6/100\n",
            "80/80 [==============================] - 34s 422ms/step - loss: 0.0299 - accuracy: 0.9940 - mse: 0.0128 - val_loss: 0.0182 - val_accuracy: 1.0000 - val_mse: 0.0024\n",
            "Epoch 7/100\n",
            "80/80 [==============================] - 33s 413ms/step - loss: 0.0268 - accuracy: 0.9952 - mse: 0.0114 - val_loss: 0.0219 - val_accuracy: 0.9996 - val_mse: 0.0071\n",
            "Epoch 8/100\n",
            "80/80 [==============================] - 34s 422ms/step - loss: 0.0245 - accuracy: 0.9960 - mse: 0.0103 - val_loss: 0.0180 - val_accuracy: 0.9996 - val_mse: 0.0040\n",
            "Epoch 9/100\n",
            "80/80 [==============================] - 33s 413ms/step - loss: 0.0201 - accuracy: 0.9975 - mse: 0.0082 - val_loss: 0.0187 - val_accuracy: 0.9978 - val_mse: 0.0051\n",
            "Epoch 10/100\n",
            "80/80 [==============================] - 33s 413ms/step - loss: 0.0226 - accuracy: 0.9964 - mse: 0.0093 - val_loss: 0.0240 - val_accuracy: 0.9912 - val_mse: 0.0075\n",
            "Epoch 11/100\n",
            "80/80 [==============================] - 34s 423ms/step - loss: 0.0206 - accuracy: 0.9976 - mse: 0.0083 - val_loss: 0.0132 - val_accuracy: 0.9996 - val_mse: 0.0038\n",
            "Epoch 12/100\n",
            "80/80 [==============================] - 33s 412ms/step - loss: 0.0191 - accuracy: 0.9977 - mse: 0.0078 - val_loss: 0.0190 - val_accuracy: 0.9925 - val_mse: 0.0073\n",
            "Epoch 13/100\n",
            "80/80 [==============================] - 33s 412ms/step - loss: 0.0185 - accuracy: 0.9967 - mse: 0.0075 - val_loss: 0.0313 - val_accuracy: 0.9802 - val_mse: 0.0196\n",
            "Epoch 14/100\n",
            "80/80 [==============================] - 34s 422ms/step - loss: 0.0141 - accuracy: 0.9987 - mse: 0.0049 - val_loss: 0.0121 - val_accuracy: 1.0000 - val_mse: 0.0015\n",
            "Epoch 15/100\n",
            "80/80 [==============================] - 33s 413ms/step - loss: 0.0145 - accuracy: 0.9988 - mse: 0.0053 - val_loss: 0.0161 - val_accuracy: 0.9956 - val_mse: 0.0077\n",
            "Epoch 16/100\n",
            "80/80 [==============================] - 33s 413ms/step - loss: 0.0139 - accuracy: 0.9985 - mse: 0.0055 - val_loss: 0.0296 - val_accuracy: 0.9815 - val_mse: 0.0175\n",
            "Epoch 17/100\n",
            "80/80 [==============================] - 33s 413ms/step - loss: 0.0150 - accuracy: 0.9982 - mse: 0.0054 - val_loss: 0.0149 - val_accuracy: 0.9965 - val_mse: 0.0061\n",
            "Epoch 18/100\n",
            "80/80 [==============================] - 34s 422ms/step - loss: 0.0113 - accuracy: 0.9996 - mse: 0.0039 - val_loss: 0.0112 - val_accuracy: 0.9978 - val_mse: 0.0046\n",
            "Epoch 19/100\n",
            "80/80 [==============================] - 34s 425ms/step - loss: 0.0125 - accuracy: 0.9992 - mse: 0.0050 - val_loss: 0.0094 - val_accuracy: 0.9996 - val_mse: 0.0011\n",
            "Epoch 20/100\n",
            "80/80 [==============================] - 34s 422ms/step - loss: 0.0127 - accuracy: 0.9989 - mse: 0.0045 - val_loss: 0.0079 - val_accuracy: 1.0000 - val_mse: 0.0018\n",
            "Epoch 21/100\n",
            "80/80 [==============================] - 33s 413ms/step - loss: 0.0144 - accuracy: 0.9984 - mse: 0.0059 - val_loss: 0.0109 - val_accuracy: 0.9982 - val_mse: 0.0031\n",
            "Epoch 22/100\n",
            "80/80 [==============================] - 33s 413ms/step - loss: 0.0105 - accuracy: 0.9991 - mse: 0.0037 - val_loss: 0.0230 - val_accuracy: 0.9810 - val_mse: 0.0162\n",
            "Epoch 23/100\n",
            "80/80 [==============================] - 33s 413ms/step - loss: 0.0107 - accuracy: 0.9991 - mse: 0.0041 - val_loss: 0.0228 - val_accuracy: 0.9819 - val_mse: 0.0152\n",
            "Epoch 24/100\n",
            "80/80 [==============================] - 33s 412ms/step - loss: 0.0125 - accuracy: 0.9986 - mse: 0.0047 - val_loss: 0.0386 - val_accuracy: 0.9546 - val_mse: 0.0309\n",
            "Epoch 25/100\n",
            "80/80 [==============================] - 34s 426ms/step - loss: 0.0096 - accuracy: 0.9995 - mse: 0.0035 - val_loss: 0.0075 - val_accuracy: 1.0000 - val_mse: 5.6107e-04\n",
            "Epoch 26/100\n",
            "80/80 [==============================] - 33s 413ms/step - loss: 0.0161 - accuracy: 0.9978 - mse: 0.0066 - val_loss: 0.0184 - val_accuracy: 0.9969 - val_mse: 0.0116\n",
            "Epoch 27/100\n",
            "80/80 [==============================] - 34s 422ms/step - loss: 0.0075 - accuracy: 0.9996 - mse: 0.0023 - val_loss: 0.0051 - val_accuracy: 1.0000 - val_mse: 7.5768e-04\n",
            "Epoch 28/100\n",
            "80/80 [==============================] - 33s 413ms/step - loss: 0.0067 - accuracy: 0.9996 - mse: 0.0023 - val_loss: 0.0310 - val_accuracy: 0.9683 - val_mse: 0.0255\n",
            "Epoch 29/100\n",
            "80/80 [==============================] - 33s 412ms/step - loss: 0.0107 - accuracy: 0.9985 - mse: 0.0043 - val_loss: 0.0132 - val_accuracy: 0.9956 - val_mse: 0.0053\n",
            "Epoch 30/100\n",
            "80/80 [==============================] - 33s 412ms/step - loss: 0.0101 - accuracy: 0.9991 - mse: 0.0036 - val_loss: 0.0075 - val_accuracy: 0.9987 - val_mse: 0.0022\n",
            "Epoch 31/100\n",
            "80/80 [==============================] - 33s 413ms/step - loss: 0.0065 - accuracy: 0.9995 - mse: 0.0021 - val_loss: 0.0438 - val_accuracy: 0.9524 - val_mse: 0.0402\n",
            "Epoch 32/100\n",
            "80/80 [==============================] - 33s 413ms/step - loss: 0.0144 - accuracy: 0.9976 - mse: 0.0058 - val_loss: 0.0268 - val_accuracy: 0.9810 - val_mse: 0.0199\n",
            "Epoch 32: early stopping\n"
          ]
        }
      ],
      "source": [
        "model.compile(optimizer='adam',\n",
        "              loss='mse',\n",
        "              metrics=['accuracy','mse'])\n",
        "\n",
        "#Funcka umożliwia zatrzymanie się uczenia \n",
        "#gdy wartość strat przstanie maleć\n",
        "EarlyStop = EarlyStopping(monitor='val_loss',  \n",
        "                          verbose=1, \n",
        "                          patience=5)\n",
        "\n",
        "\n",
        "ModelCheck = ModelCheckpoint(filepath='/content/drive/MyDrive/Sieci/Zlaczone_firefox.h5',\n",
        "                             monitor='val_loss',\n",
        "                             save_best_only=True)\n",
        "\n",
        "\n",
        "history = model.fit(x=x_train, \n",
        "                    y=y_train, \n",
        "                    epochs=100,\n",
        "                    batch_size=256,\n",
        "                    validation_split=0.1,\n",
        "                    callbacks = [EarlyStop, ModelCheck]\n",
        "                   )"
      ]
    },
    {
      "cell_type": "code",
      "execution_count": 17,
      "id": "fe8633db",
      "metadata": {
        "colab": {
          "base_uri": "https://localhost:8080/",
          "height": 301
        },
        "id": "fe8633db",
        "outputId": "487f749b-2ce8-4f03-d9f0-d5059385cb76"
      },
      "outputs": [
        {
          "output_type": "execute_result",
          "data": {
            "text/plain": [
              "<matplotlib.legend.Legend at 0x7fc72c4e9520>"
            ]
          },
          "metadata": {},
          "execution_count": 17
        },
        {
          "output_type": "display_data",
          "data": {
            "text/plain": [
              "<Figure size 432x288 with 1 Axes>"
            ],
            "image/png": "[encoded data removed]"
          },
          "metadata": {
            "needs_background": "light"
          }
        }
      ],
      "source": [
        "plt.plot(history.history['loss'], label='strata')\n",
        "plt.plot(history.history['val_loss'], label = 'strata walidacyjna')\n",
        "plt.xlabel('Epoka')\n",
        "plt.ylabel('Strata')\n",
        "plt.ylim([0.0, 0.5])\n",
        "plt.legend(loc='upper right')"
      ]
    },
    {
      "cell_type": "code",
      "execution_count": 18,
      "id": "8b976089",
      "metadata": {
        "colab": {
          "base_uri": "https://localhost:8080/",
          "height": 301
        },
        "id": "8b976089",
        "outputId": "906f5aa4-1031-4f54-f21b-e3884dde2006",
        "scrolled": true
      },
      "outputs": [
        {
          "output_type": "execute_result",
          "data": {
            "text/plain": [
              "<matplotlib.legend.Legend at 0x7fc793b3ba00>"
            ]
          },
          "metadata": {},
          "execution_count": 18
        },
        {
          "output_type": "display_data",
          "data": {
            "text/plain": [
              "<Figure size 432x288 with 1 Axes>"
            ],
            "image/png": "[encoded data removed]"
          },
          "metadata": {
            "needs_background": "light"
          }
        }
      ],
      "source": [
        "plt.plot(history.history['accuracy'], label='precyzja')\n",
        "plt.plot(history.history['val_accuracy'], label = 'precyzja walidacyjna')\n",
        "plt.xlabel('Epoka')\n",
        "plt.ylabel('Precyzja')\n",
        "plt.ylim([0.5, 1])\n",
        "plt.legend(loc='lower right')"
      ]
    },
    {
      "cell_type": "code",
      "execution_count": 19,
      "id": "HWqm9BVzLHfw",
      "metadata": {
        "id": "HWqm9BVzLHfw"
      },
      "outputs": [],
      "source": [
        "best_model = tf.keras.models.load_model('/content/drive/MyDrive/Sieci/Zlaczone_firefox.h5')\n"
      ]
    },
    {
      "cell_type": "code",
      "execution_count": 20,
      "id": "685a286c",
      "metadata": {
        "colab": {
          "base_uri": "https://localhost:8080/"
        },
        "id": "685a286c",
        "outputId": "18afa3d2-186b-4d2d-8815-6e68f3ec0917"
      },
      "outputs": [
        {
          "output_type": "stream",
          "name": "stdout",
          "text": [
            "79/79 - 2s - loss: 0.2186 - accuracy: 0.8111 - mse: 0.2143 - 2s/epoch - 26ms/step\n"
          ]
        },
        {
          "output_type": "execute_result",
          "data": {
            "text/plain": [
              "[0.21863516599164068, 0.8111111111111111, 0.21429319738556968]"
            ]
          },
          "metadata": {},
          "execution_count": 20
        }
      ],
      "source": [
        "best_model.evaluate(x_test,  y_test, verbose=2)"
      ]
    },
    {
      "cell_type": "code",
      "execution_count": 21,
      "id": "ee941c13",
      "metadata": {
        "colab": {
          "base_uri": "https://localhost:8080/"
        },
        "id": "ee941c13",
        "outputId": "3ef5edd6-f02f-4e18-9143-8a3b2bb82408"
      },
      "outputs": [
        {
          "output_type": "stream",
          "name": "stdout",
          "text": [
            "79/79 [==============================] - 2s 19ms/step\n"
          ]
        }
      ],
      "source": [
        "predict_x = best_model.predict(x_test) \n",
        "\n",
        "predictions = (predict_x > 0.5).astype(\"int32\")"
      ]
    },
    {
      "cell_type": "code",
      "execution_count": 22,
      "id": "d8fb12f1",
      "metadata": {
        "colab": {
          "base_uri": "https://localhost:8080/"
        },
        "id": "d8fb12f1",
        "outputId": "38ce29b4-26ec-4ea5-c30e-a1f95a075540"
      },
      "outputs": [
        {
          "output_type": "stream",
          "name": "stdout",
          "text": [
            "[['Tn' 'Nn']\n",
            " ['Np' 'Tp']]\n",
            "tf.Tensor(\n",
            "[[ 793  467]\n",
            " [   9 1251]], shape=(2, 2), dtype=int32)\n"
          ]
        }
      ],
      "source": [
        "names = [['Tn','Nn'],['Np', 'Tp']]\n",
        "names = np.reshape(names,(2,2))\n",
        "print(names)\n",
        "\n",
        "conf = tf.math.confusion_matrix(y_test,predictions)\n",
        "\n",
        "print(conf)"
      ]
    },
    {
      "cell_type": "code",
      "source": [
        "for i in range(len(x_test)):\n",
        "  if predictions[i] != y_test[i]:\n",
        "    print(i)"
      ],
      "metadata": {
        "colab": {
          "base_uri": "https://localhost:8080/"
        },
        "id": "FYMGwV_X-aKk",
        "outputId": "715f798c-28e0-49b0-d6fb-a6fe5cca13f0"
      },
      "id": "FYMGwV_X-aKk",
      "execution_count": 36,
      "outputs": [
        {
          "output_type": "stream",
          "name": "stdout",
          "text": [
            "1217\n",
            "1219\n",
            "1226\n",
            "1234\n",
            "1241\n",
            "1243\n",
            "1247\n",
            "1252\n",
            "1256\n",
            "1260\n",
            "1261\n",
            "1263\n",
            "1265\n",
            "1267\n",
            "1268\n",
            "1270\n",
            "1275\n",
            "1277\n",
            "1283\n",
            "1284\n",
            "1290\n",
            "1291\n",
            "1292\n",
            "1302\n",
            "1304\n",
            "1306\n",
            "1307\n",
            "1311\n",
            "1313\n",
            "1316\n",
            "1317\n",
            "1324\n",
            "1325\n",
            "1328\n",
            "1329\n",
            "1334\n",
            "1335\n",
            "1338\n",
            "1344\n",
            "1347\n",
            "1348\n",
            "1349\n",
            "1350\n",
            "1351\n",
            "1354\n",
            "1358\n",
            "1359\n",
            "1363\n",
            "1364\n",
            "1366\n",
            "1369\n",
            "1370\n",
            "1371\n",
            "1374\n",
            "1377\n",
            "1379\n",
            "1380\n",
            "1383\n",
            "1384\n",
            "1390\n",
            "1391\n",
            "1395\n",
            "1397\n",
            "1398\n",
            "1399\n",
            "1401\n",
            "1404\n",
            "1407\n",
            "1409\n",
            "1412\n",
            "1413\n",
            "1414\n",
            "1416\n",
            "1420\n",
            "1421\n",
            "1423\n",
            "1424\n",
            "1429\n",
            "1430\n",
            "1431\n",
            "1433\n",
            "1434\n",
            "1441\n",
            "1446\n",
            "1447\n",
            "1451\n",
            "1457\n",
            "1458\n",
            "1463\n",
            "1465\n",
            "1466\n",
            "1468\n",
            "1471\n",
            "1473\n",
            "1474\n",
            "1479\n",
            "1485\n",
            "1486\n",
            "1489\n",
            "1491\n",
            "1499\n",
            "1503\n",
            "1507\n",
            "1512\n",
            "1513\n",
            "1515\n",
            "1519\n",
            "1520\n",
            "1522\n",
            "1523\n",
            "1530\n",
            "1535\n",
            "1536\n",
            "1537\n",
            "1543\n",
            "1551\n",
            "1562\n",
            "1564\n",
            "1570\n",
            "1573\n",
            "1581\n",
            "1582\n",
            "1585\n",
            "1589\n",
            "1590\n",
            "1592\n",
            "1593\n",
            "1594\n",
            "1596\n",
            "1598\n",
            "1599\n",
            "1600\n",
            "1601\n",
            "1602\n",
            "1603\n",
            "1608\n",
            "1613\n",
            "1614\n",
            "1615\n",
            "1616\n",
            "1617\n",
            "1619\n",
            "1621\n",
            "1624\n",
            "1626\n",
            "1628\n",
            "1629\n",
            "1631\n",
            "1636\n",
            "1637\n",
            "1638\n",
            "1644\n",
            "1645\n",
            "1646\n",
            "1647\n",
            "1648\n",
            "1649\n",
            "1650\n",
            "1652\n",
            "1653\n",
            "1658\n",
            "1659\n",
            "1660\n",
            "1662\n",
            "1663\n",
            "1672\n",
            "1673\n",
            "1674\n",
            "1680\n",
            "1684\n",
            "1687\n",
            "1688\n",
            "1689\n",
            "1691\n",
            "1697\n",
            "1701\n",
            "1702\n",
            "1703\n",
            "1704\n",
            "1706\n",
            "1707\n",
            "1723\n",
            "1725\n",
            "1727\n",
            "1729\n",
            "1731\n",
            "1734\n",
            "1735\n",
            "1741\n",
            "1745\n",
            "1749\n",
            "1751\n",
            "1753\n",
            "1754\n",
            "1755\n",
            "1761\n",
            "1762\n",
            "1766\n",
            "1771\n",
            "1774\n",
            "1777\n",
            "1780\n",
            "1781\n",
            "1782\n",
            "1785\n",
            "1787\n",
            "1788\n",
            "1790\n",
            "1793\n",
            "1797\n",
            "1799\n",
            "1800\n",
            "1801\n",
            "1803\n",
            "1810\n",
            "1812\n",
            "1816\n",
            "1818\n",
            "1820\n",
            "1823\n",
            "1828\n",
            "1830\n",
            "1831\n",
            "1833\n",
            "1835\n",
            "1836\n",
            "1837\n",
            "1840\n",
            "1841\n",
            "1842\n",
            "1843\n",
            "1844\n",
            "1846\n",
            "1851\n",
            "1856\n",
            "1857\n",
            "1859\n",
            "1867\n",
            "1869\n",
            "1874\n",
            "1878\n",
            "1879\n",
            "1885\n",
            "1886\n",
            "1888\n",
            "1889\n",
            "1890\n",
            "1891\n",
            "1897\n",
            "1900\n",
            "1901\n",
            "1906\n",
            "1909\n",
            "1917\n",
            "1924\n",
            "1925\n",
            "1929\n",
            "1930\n",
            "1933\n",
            "1935\n",
            "1942\n",
            "1944\n",
            "1951\n",
            "1956\n",
            "1959\n",
            "1960\n",
            "1964\n",
            "1965\n",
            "1976\n",
            "1977\n",
            "1978\n",
            "1981\n",
            "1982\n",
            "1985\n",
            "1992\n",
            "1996\n",
            "1999\n",
            "2003\n",
            "2007\n",
            "2009\n",
            "2016\n",
            "2017\n",
            "2020\n",
            "2023\n",
            "2031\n",
            "2039\n",
            "2040\n",
            "2042\n",
            "2045\n",
            "2050\n",
            "2052\n",
            "2055\n",
            "2056\n",
            "2060\n",
            "2061\n",
            "2064\n",
            "2072\n",
            "2073\n",
            "2074\n",
            "2076\n",
            "2078\n",
            "2079\n",
            "2080\n",
            "2081\n",
            "2082\n",
            "2096\n",
            "2098\n",
            "2099\n",
            "2100\n",
            "2101\n",
            "2103\n",
            "2105\n",
            "2106\n",
            "2109\n",
            "2115\n",
            "2118\n",
            "2119\n",
            "2121\n",
            "2122\n",
            "2123\n",
            "2126\n",
            "2132\n",
            "2133\n",
            "2135\n",
            "2136\n",
            "2138\n",
            "2141\n",
            "2146\n",
            "2150\n",
            "2154\n",
            "2160\n",
            "2162\n",
            "2163\n",
            "2168\n",
            "2169\n",
            "2173\n",
            "2174\n",
            "2177\n",
            "2178\n",
            "2179\n",
            "2180\n",
            "2181\n",
            "2182\n",
            "2183\n",
            "2187\n",
            "2189\n",
            "2190\n",
            "2192\n",
            "2193\n",
            "2195\n",
            "2198\n",
            "2199\n",
            "2201\n",
            "2202\n",
            "2204\n",
            "2217\n",
            "2218\n",
            "2224\n",
            "2225\n",
            "2231\n",
            "2233\n",
            "2234\n",
            "2235\n",
            "2236\n",
            "2237\n",
            "2243\n",
            "2244\n",
            "2245\n",
            "2246\n",
            "2248\n",
            "2249\n",
            "2251\n",
            "2254\n",
            "2258\n",
            "2259\n",
            "2261\n",
            "2262\n",
            "2266\n",
            "2274\n",
            "2275\n",
            "2276\n",
            "2277\n",
            "2279\n",
            "2281\n",
            "2282\n",
            "2284\n",
            "2285\n",
            "2286\n",
            "2289\n",
            "2294\n",
            "2296\n",
            "2297\n",
            "2307\n",
            "2308\n",
            "2312\n",
            "2314\n",
            "2315\n",
            "2316\n",
            "2318\n",
            "2322\n",
            "2326\n",
            "2327\n",
            "2328\n",
            "2331\n",
            "2344\n",
            "2350\n",
            "2351\n",
            "2353\n",
            "2361\n",
            "2363\n",
            "2367\n",
            "2368\n",
            "2370\n",
            "2375\n",
            "2376\n",
            "2379\n",
            "2381\n",
            "2385\n",
            "2386\n",
            "2389\n",
            "2402\n",
            "2403\n",
            "2405\n",
            "2407\n",
            "2408\n",
            "2409\n",
            "2412\n",
            "2416\n",
            "2417\n",
            "2419\n",
            "2428\n",
            "2429\n",
            "2430\n",
            "2434\n",
            "2435\n",
            "2438\n",
            "2440\n",
            "2444\n",
            "2445\n",
            "2446\n",
            "2448\n",
            "2451\n",
            "2452\n",
            "2460\n",
            "2461\n",
            "2462\n",
            "2463\n",
            "2464\n",
            "2465\n",
            "2466\n",
            "2467\n",
            "2469\n",
            "2472\n",
            "2476\n",
            "2478\n",
            "2480\n",
            "2481\n",
            "2482\n",
            "2483\n",
            "2484\n",
            "2486\n",
            "2493\n",
            "2494\n",
            "2497\n",
            "2499\n",
            "2500\n",
            "2502\n",
            "2505\n",
            "2506\n",
            "2508\n",
            "2510\n",
            "2511\n",
            "2512\n",
            "2513\n",
            "2517\n",
            "2518\n"
          ]
        }
      ]
    },
    {
      "cell_type": "code",
      "source": [
        "a = 1372\n",
        "\n",
        "\n",
        "\n",
        "print(y_test[a])\n",
        "print(predictions[a])\n",
        "print(predict_x[a])\n",
        "\n",
        "\n",
        "plt.imshow(x_test[a],cmap = 'gray')"
      ],
      "metadata": {
        "colab": {
          "base_uri": "https://localhost:8080/",
          "height": 289
        },
        "id": "hO0XoVgf9QFu",
        "outputId": "96db7da0-c049-452a-f008-048ca09b9cb9"
      },
      "id": "hO0XoVgf9QFu",
      "execution_count": 51,
      "outputs": [
        {
          "output_type": "stream",
          "name": "stdout",
          "text": [
            "0\n",
            "[0]\n",
            "[0.074]\n"
          ]
        },
        {
          "output_type": "execute_result",
          "data": {
            "text/plain": [
              "<matplotlib.image.AxesImage at 0x7fc692862670>"
            ]
          },
          "metadata": {},
          "execution_count": 51
        },
        {
          "output_type": "display_data",
          "data": {
            "text/plain": [
              "<Figure size 432x288 with 1 Axes>"
            ],
            "image/png": "[encoded data removed]"
          },
          "metadata": {
            "needs_background": "light"
          }
        }
      ]
    }
  ],
  "metadata": {
    "accelerator": "GPU",
    "colab": {
      "provenance": [],
      "include_colab_link": true
    },
    "gpuClass": "standard",
    "kernelspec": {
      "display_name": "py39",
      "language": "python",
      "name": "py39"
    },
    "language_info": {
      "codemirror_mode": {
        "name": "ipython",
        "version": 3
      },
      "file_extension": ".py",
      "mimetype": "text/x-python",
      "name": "python",
      "nbconvert_exporter": "python",
      "pygments_lexer": "ipython3",
      "version": "3.9.12"
    }
  },
  "nbformat": 4,
  "nbformat_minor": 5
}