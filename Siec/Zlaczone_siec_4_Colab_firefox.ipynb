{
  "cells": [
    {
      "cell_type": "markdown",
      "metadata": {
        "id": "view-in-github",
        "colab_type": "text"
      },
      "source": [
        "<a href=\"https://colab.research.google.com/github/ajankowi/Praca_inz/blob/master/Siec/Zlaczone_siec_4_Colab_firefox.ipynb\" target=\"_parent\"><img src=\"https://colab.research.google.com/assets/colab-badge.svg\" alt=\"Open In Colab\"/></a>"
      ]
    },
    {
      "cell_type": "code",
      "execution_count": 1,
      "id": "613f08b5",
      "metadata": {
        "colab": {
          "base_uri": "https://localhost:8080/"
        },
        "id": "613f08b5",
        "outputId": "2311517c-89ab-47f1-d836-7fc8cd3098bb"
      },
      "outputs": [
        {
          "output_type": "stream",
          "name": "stdout",
          "text": [
            "3.8.16 (default, Dec  7 2022, 01:12:13) \n",
            "[GCC 7.5.0]\n"
          ]
        }
      ],
      "source": [
        "import sys\n",
        "print(sys.version)"
      ]
    },
    {
      "cell_type": "code",
      "execution_count": 2,
      "id": "iY1o7_NmVlGs",
      "metadata": {
        "id": "iY1o7_NmVlGs"
      },
      "outputs": [],
      "source": [
        "#from google.colab import drive\n",
        "#drive.mount(\"/content/drive\", force_remount=True)"
      ]
    },
    {
      "cell_type": "code",
      "execution_count": 3,
      "id": "5eca1117",
      "metadata": {
        "colab": {
          "base_uri": "https://localhost:8080/"
        },
        "id": "5eca1117",
        "outputId": "cc859d3b-dab7-48c9-cbb0-70a1bb762c12"
      },
      "outputs": [
        {
          "output_type": "stream",
          "name": "stdout",
          "text": [
            "TensorFlow version: 2.9.2\n"
          ]
        }
      ],
      "source": [
        "import tensorflow as tf\n",
        "from tensorflow import keras\n",
        "from keras import layers, models, regularizers\n",
        "from keras.layers import Flatten, add, Dense, Dropout \n",
        "from keras.callbacks import ModelCheckpoint, EarlyStopping\n",
        "\n",
        "\n",
        "print(\"TensorFlow version:\", tf.__version__)\n",
        "tf.keras.backend.set_floatx('float64')"
      ]
    },
    {
      "cell_type": "code",
      "execution_count": 4,
      "id": "12022d37",
      "metadata": {
        "id": "12022d37"
      },
      "outputs": [],
      "source": [
        "import matplotlib.pyplot as plt\n",
        "import numpy as np\n",
        "import pandas as pd\n",
        "import seaborn as sns\n",
        "from PIL import Image\n",
        "import os\n",
        "import csv\n",
        "import random\n",
        "\n",
        "import cv2\n",
        "import imutils\n",
        "import glob\n",
        "# Make NumPy printouts easier to read.\n",
        "np.set_printoptions(precision=3, suppress=True)"
      ]
    },
    {
      "cell_type": "code",
      "execution_count": 5,
      "id": "1086f893",
      "metadata": {
        "id": "1086f893"
      },
      "outputs": [],
      "source": [
        "#Określenie ścieżek do plików\n",
        "test_zip = '/content/drive/MyDrive/Sieci/Baza_zdjec_zlaczone_2/Test.zip'\n",
        "test_csv = 'test.csv'\n",
        "\n",
        "train_zip = '/content/drive/MyDrive/Sieci/Baza_zdjec_zlaczone_2/Train.zip'\n",
        "train_csv = 'train.csv'\n",
        "\n",
        "folder = '/content/drive/MyDrive/Sieci/Baza_zdjec_zlaczone_2/'\n",
        "slesh = '/'\n",
        "png = '.png'"
      ]
    },
    {
      "cell_type": "code",
      "execution_count": 6,
      "id": "FXtX4UDo9x77",
      "metadata": {
        "id": "FXtX4UDo9x77"
      },
      "outputs": [],
      "source": [
        "#!unzip '/content/drive/MyDrive/Sieci/Baza_zdjec_zlaczone_2/Train.zip' -d '/content/train/'\n",
        "#!unzip '/content/drive/MyDrive/Sieci/Baza_zdjec_zlaczone_2/Test.zip' -d '/content/test/'"
      ]
    },
    {
      "cell_type": "code",
      "execution_count": 7,
      "id": "d0329f31",
      "metadata": {
        "id": "d0329f31"
      },
      "outputs": [],
      "source": [
        "def release_list(a):\n",
        "    \n",
        "    del a[:]\n",
        "    del a"
      ]
    },
    {
      "cell_type": "code",
      "execution_count": 8,
      "id": "5beb89e7",
      "metadata": {
        "colab": {
          "base_uri": "https://localhost:8080/"
        },
        "id": "5beb89e7",
        "outputId": "0fdf5202-f17c-40ce-ff54-034338a3e3bc"
      },
      "outputs": [
        {
          "output_type": "stream",
          "name": "stdout",
          "text": [
            "22680\n"
          ]
        }
      ],
      "source": [
        "#Wczytanie etykiet do treninegu \n",
        "\n",
        "with open(folder+train_csv,\"r\") as csvfile:\n",
        "    lines = csvfile.readlines()\n",
        "csvfile.close()\n",
        "\n",
        "new = []\n",
        "\n",
        "for i in lines:\n",
        "    new.append(i.split(\" \"))\n",
        "\n",
        "    \n",
        "value_train = []\n",
        "for i in new[0]:\n",
        "    value_train.append(int(i))    \n",
        "    \n",
        "print(len(value_train))"
      ]
    },
    {
      "cell_type": "code",
      "execution_count": 9,
      "id": "_BbuBDFDgvdp",
      "metadata": {
        "colab": {
          "base_uri": "https://localhost:8080/"
        },
        "id": "_BbuBDFDgvdp",
        "outputId": "20fa1105-f2b3-4231-f1b9-cfa782fea554"
      },
      "outputs": [
        {
          "output_type": "stream",
          "name": "stdout",
          "text": [
            "2520\n"
          ]
        }
      ],
      "source": [
        "#Wczytanie etykiet do testowania\n",
        "\n",
        "with open(folder+test_csv,\"r\") as csvfile:\n",
        "    lines = csvfile.readlines()\n",
        "csvfile.close()\n",
        "\n",
        "new = []\n",
        "\n",
        "for i in lines:\n",
        "    new.append(i.split(\" \"))\n",
        "\n",
        "    \n",
        "value_test = []\n",
        "for i in new[0]:\n",
        "    value_test.append(int(i))    \n",
        "    \n",
        "print(len(value_test))"
      ]
    },
    {
      "cell_type": "code",
      "execution_count": 10,
      "id": "d9cb09d8",
      "metadata": {
        "colab": {
          "base_uri": "https://localhost:8080/"
        },
        "id": "d9cb09d8",
        "outputId": "cae92a44-0629-44ae-933c-a627e49e7b5c"
      },
      "outputs": [
        {
          "output_type": "stream",
          "name": "stdout",
          "text": [
            "22680\n"
          ]
        }
      ],
      "source": [
        "#Wczytanie zdjęć treningowych (90% całego zbioru)\n",
        "images_train = []\n",
        "size = len(value_train)\n",
        "\n",
        "for i in range(size):\n",
        "    im = Image.open('/content/train/'+str(i)+'.png')\n",
        "    arr_im = np.array(im) \n",
        "    arr_im = arr_im / 255.0\n",
        "    images_train.append(arr_im) \n",
        "print(len(images_train))"
      ]
    },
    {
      "cell_type": "code",
      "execution_count": 11,
      "id": "9I51x6abky3Q",
      "metadata": {
        "colab": {
          "base_uri": "https://localhost:8080/"
        },
        "id": "9I51x6abky3Q",
        "outputId": "a62cd786-3d41-4f34-89b4-7c6d2dd34102"
      },
      "outputs": [
        {
          "output_type": "stream",
          "name": "stdout",
          "text": [
            "2520\n"
          ]
        }
      ],
      "source": [
        "#Wczytanie zdjęć testowych (10% całego zbioru)\n",
        "images_test = []\n",
        "size = len(value_test)\n",
        "\n",
        "for i in range(size):\n",
        "    im = Image.open('/content/test/'+str(i)+'.png')\n",
        "    arr_im = np.array(im) \n",
        "    arr_im = arr_im / 255.0\n",
        "    images_test.append(arr_im) \n",
        "print(len(images_test))"
      ]
    },
    {
      "cell_type": "code",
      "execution_count": 12,
      "id": "f7f4dd4b",
      "metadata": {
        "id": "f7f4dd4b"
      },
      "outputs": [],
      "source": [
        "x_train = np.array(images_train)\n",
        "x_test = np.array(images_test)\n",
        "\n",
        "y_train = np.array(value_train)\n",
        "y_test = np.array(value_test)"
      ]
    },
    {
      "cell_type": "code",
      "execution_count": 13,
      "id": "d3a370cb",
      "metadata": {
        "colab": {
          "base_uri": "https://localhost:8080/",
          "height": 236
        },
        "id": "d3a370cb",
        "outputId": "c5ce86e1-af6e-4fda-8308-3544b2f6ae9c"
      },
      "outputs": [
        {
          "output_type": "stream",
          "name": "stdout",
          "text": [
            "0\n"
          ]
        },
        {
          "output_type": "display_data",
          "data": {
            "text/plain": [
              "<Figure size 432x288 with 1 Axes>"
            ],
            "image/png": "[encoded data removed]"
          },
          "metadata": {
            "needs_background": "light"
          }
        }
      ],
      "source": [
        "a = 19000\n",
        "plt.imshow(x_train[a],cmap = 'gray')\n",
        "print(y_train[a])"
      ]
    },
    {
      "cell_type": "code",
      "execution_count": 14,
      "id": "772c7d7c",
      "metadata": {
        "id": "772c7d7c"
      },
      "outputs": [],
      "source": [
        "model = models.Sequential()\n",
        "model.add(layers.Conv2D(32, (3, 3), activation='relu', input_shape=(64, 128, 1)))\n",
        "model.add(layers.MaxPooling2D((2, 2)))\n",
        "model.add(layers.Conv2D(32, (3, 3), activation='relu'))\n",
        "model.add(layers.MaxPooling2D((2, 2)))\n",
        "\n",
        "model.add(layers.BatchNormalization())\n",
        "\n",
        "model.add(layers.Conv2D(64, (3, 3), activation='relu'))\n",
        "model.add(layers.MaxPooling2D((2, 2)))\n",
        "model.add(layers.Conv2D(64, (3, 3), activation='relu'))\n",
        "model.add(layers.MaxPooling2D((2, 2)))\n",
        "\n",
        "model.add(layers.BatchNormalization())\n",
        "\n",
        "\n",
        "model.add(layers.Flatten())\n",
        "model.add(layers.Dense(64, activation='relu'))\n",
        "model.add(layers.Dense(1, activation='relu'))"
      ]
    },
    {
      "cell_type": "code",
      "execution_count": 15,
      "id": "b86f72df",
      "metadata": {
        "colab": {
          "base_uri": "https://localhost:8080/"
        },
        "id": "b86f72df",
        "outputId": "ba3e88b7-3a00-4916-8168-300b6a87472b"
      },
      "outputs": [
        {
          "output_type": "stream",
          "name": "stdout",
          "text": [
            "Model: \"sequential\"\n",
            "_________________________________________________________________\n",
            " Layer (type)                Output Shape              Param #   \n",
            "=================================================================\n",
            " conv2d (Conv2D)             (None, 62, 126, 32)       320       \n",
            "                                                                 \n",
            " max_pooling2d (MaxPooling2D  (None, 31, 63, 32)       0         \n",
            " )                                                               \n",
            "                                                                 \n",
            " conv2d_1 (Conv2D)           (None, 29, 61, 32)        9248      \n",
            "                                                                 \n",
            " max_pooling2d_1 (MaxPooling  (None, 14, 30, 32)       0         \n",
            " 2D)                                                             \n",
            "                                                                 \n",
            " batch_normalization (BatchN  (None, 14, 30, 32)       128       \n",
            " ormalization)                                                   \n",
            "                                                                 \n",
            " conv2d_2 (Conv2D)           (None, 12, 28, 64)        18496     \n",
            "                                                                 \n",
            " max_pooling2d_2 (MaxPooling  (None, 6, 14, 64)        0         \n",
            " 2D)                                                             \n",
            "                                                                 \n",
            " conv2d_3 (Conv2D)           (None, 4, 12, 64)         36928     \n",
            "                                                                 \n",
            " max_pooling2d_3 (MaxPooling  (None, 2, 6, 64)         0         \n",
            " 2D)                                                             \n",
            "                                                                 \n",
            " batch_normalization_1 (Batc  (None, 2, 6, 64)         256       \n",
            " hNormalization)                                                 \n",
            "                                                                 \n",
            " flatten (Flatten)           (None, 768)               0         \n",
            "                                                                 \n",
            " dense (Dense)               (None, 64)                49216     \n",
            "                                                                 \n",
            " dense_1 (Dense)             (None, 1)                 65        \n",
            "                                                                 \n",
            "=================================================================\n",
            "Total params: 114,657\n",
            "Trainable params: 114,465\n",
            "Non-trainable params: 192\n",
            "_________________________________________________________________\n"
          ]
        }
      ],
      "source": [
        "model.summary()"
      ]
    },
    {
      "cell_type": "code",
      "execution_count": 16,
      "id": "9beb77e5",
      "metadata": {
        "colab": {
          "base_uri": "https://localhost:8080/"
        },
        "id": "9beb77e5",
        "outputId": "7f9d6bd7-4a33-4d7f-e6d7-eff6e6ac276b"
      },
      "outputs": [
        {
          "output_type": "stream",
          "name": "stdout",
          "text": [
            "Epoch 1/100\n",
            "205/205 [==============================] - 32s 122ms/step - loss: 0.1401 - accuracy: 0.8595 - mse: 0.1401 - val_loss: 2.2725 - val_accuracy: 0.0000e+00 - val_mse: 2.2725\n",
            "Epoch 2/100\n",
            "205/205 [==============================] - 24s 119ms/step - loss: 0.0173 - accuracy: 0.9908 - mse: 0.0173 - val_loss: 0.9099 - val_accuracy: 0.1204 - val_mse: 0.9099\n",
            "Epoch 3/100\n",
            "205/205 [==============================] - 24s 118ms/step - loss: 0.0086 - accuracy: 0.9976 - mse: 0.0086 - val_loss: 0.0618 - val_accuracy: 0.9109 - val_mse: 0.0618\n",
            "Epoch 4/100\n",
            "205/205 [==============================] - 25s 120ms/step - loss: 0.0061 - accuracy: 0.9988 - mse: 0.0061 - val_loss: 0.0038 - val_accuracy: 0.9982 - val_mse: 0.0038\n",
            "Epoch 5/100\n",
            "205/205 [==============================] - 25s 124ms/step - loss: 0.0030 - accuracy: 0.9998 - mse: 0.0030 - val_loss: 0.0032 - val_accuracy: 0.9987 - val_mse: 0.0032\n",
            "Epoch 6/100\n",
            "205/205 [==============================] - 24s 116ms/step - loss: 0.0026 - accuracy: 0.9999 - mse: 0.0026 - val_loss: 0.0087 - val_accuracy: 0.9912 - val_mse: 0.0087\n",
            "Epoch 7/100\n",
            "205/205 [==============================] - 24s 119ms/step - loss: 0.0018 - accuracy: 1.0000 - mse: 0.0018 - val_loss: 0.0012 - val_accuracy: 0.9996 - val_mse: 0.0012\n",
            "Epoch 8/100\n",
            "205/205 [==============================] - 24s 116ms/step - loss: 0.0016 - accuracy: 1.0000 - mse: 0.0016 - val_loss: 0.0019 - val_accuracy: 0.9996 - val_mse: 0.0019\n",
            "Epoch 9/100\n",
            "205/205 [==============================] - 24s 116ms/step - loss: 0.0014 - accuracy: 1.0000 - mse: 0.0014 - val_loss: 0.0017 - val_accuracy: 0.9996 - val_mse: 0.0017\n",
            "Epoch 10/100\n",
            "205/205 [==============================] - 25s 122ms/step - loss: 0.0017 - accuracy: 0.9999 - mse: 0.0017 - val_loss: 5.3315e-04 - val_accuracy: 0.9996 - val_mse: 5.3315e-04\n",
            "Epoch 11/100\n",
            "205/205 [==============================] - 24s 116ms/step - loss: 7.0271e-04 - accuracy: 1.0000 - mse: 7.0271e-04 - val_loss: 0.0015 - val_accuracy: 0.9996 - val_mse: 0.0015\n",
            "Epoch 12/100\n",
            "205/205 [==============================] - 24s 116ms/step - loss: 7.5709e-04 - accuracy: 1.0000 - mse: 7.5709e-04 - val_loss: 0.0021 - val_accuracy: 0.9978 - val_mse: 0.0021\n",
            "Epoch 13/100\n",
            "205/205 [==============================] - 24s 116ms/step - loss: 6.8455e-04 - accuracy: 1.0000 - mse: 6.8455e-04 - val_loss: 0.0014 - val_accuracy: 0.9996 - val_mse: 0.0014\n",
            "Epoch 14/100\n",
            "205/205 [==============================] - 24s 116ms/step - loss: 5.8463e-04 - accuracy: 1.0000 - mse: 5.8463e-04 - val_loss: 7.0790e-04 - val_accuracy: 0.9996 - val_mse: 7.0790e-04\n",
            "Epoch 15/100\n",
            "205/205 [==============================] - 24s 116ms/step - loss: 5.2445e-04 - accuracy: 1.0000 - mse: 5.2445e-04 - val_loss: 7.6804e-04 - val_accuracy: 0.9996 - val_mse: 7.6804e-04\n",
            "Epoch 16/100\n",
            "205/205 [==============================] - 24s 116ms/step - loss: 3.1166e-04 - accuracy: 1.0000 - mse: 3.1166e-04 - val_loss: 0.0013 - val_accuracy: 0.9991 - val_mse: 0.0013\n",
            "Epoch 17/100\n",
            "205/205 [==============================] - 24s 116ms/step - loss: 3.1509e-04 - accuracy: 1.0000 - mse: 3.1509e-04 - val_loss: 9.0580e-04 - val_accuracy: 0.9996 - val_mse: 9.0580e-04\n",
            "Epoch 18/100\n",
            "205/205 [==============================] - 24s 116ms/step - loss: 4.2244e-04 - accuracy: 1.0000 - mse: 4.2244e-04 - val_loss: 0.0013 - val_accuracy: 0.9991 - val_mse: 0.0013\n",
            "Epoch 19/100\n",
            "205/205 [==============================] - 24s 116ms/step - loss: 0.0094 - accuracy: 0.9923 - mse: 0.0094 - val_loss: 0.0090 - val_accuracy: 0.9877 - val_mse: 0.0090\n",
            "Epoch 20/100\n",
            "205/205 [==============================] - 24s 116ms/step - loss: 0.0014 - accuracy: 0.9994 - mse: 0.0014 - val_loss: 0.0032 - val_accuracy: 0.9974 - val_mse: 0.0032\n",
            "Epoch 20: early stopping\n"
          ]
        }
      ],
      "source": [
        "model.compile(optimizer='adam',\n",
        "              loss='mse',\n",
        "              metrics=['accuracy','mse'])\n",
        "\n",
        "#Funckja umożliwia zatrzymanie się uczenia \n",
        "#gdy wartość strat przstanie maleć\n",
        "EarlyStop = EarlyStopping(monitor='val_loss',  \n",
        "                          verbose=1, \n",
        "                          patience=10)\n",
        "\n",
        "\n",
        "ModelCheck = ModelCheckpoint(filepath='/content/drive/MyDrive/Sieci/Zlaczone_firefox.h5',\n",
        "                             monitor='val_loss',\n",
        "                             save_best_only=True)\n",
        "\n",
        "\n",
        "history = model.fit(x=x_train, \n",
        "                    y=y_train, \n",
        "                    epochs=100,\n",
        "                    batch_size=100,\n",
        "                    validation_split=0.1,\n",
        "                    callbacks = [EarlyStop, ModelCheck]\n",
        "                   )"
      ]
    },
    {
      "cell_type": "code",
      "execution_count": 17,
      "id": "fe8633db",
      "metadata": {
        "colab": {
          "base_uri": "https://localhost:8080/",
          "height": 301
        },
        "id": "fe8633db",
        "outputId": "9c56dfeb-009c-4058-da3f-22e7d1467a1d"
      },
      "outputs": [
        {
          "output_type": "execute_result",
          "data": {
            "text/plain": [
              "<matplotlib.legend.Legend at 0x7f897a1b22e0>"
            ]
          },
          "metadata": {},
          "execution_count": 17
        },
        {
          "output_type": "display_data",
          "data": {
            "text/plain": [
              "<Figure size 432x288 with 1 Axes>"
            ],
            "image/png": "[encoded data removed]"
          },
          "metadata": {
            "needs_background": "light"
          }
        }
      ],
      "source": [
        "plt.plot(history.history['loss'], label='strata')\n",
        "plt.plot(history.history['val_loss'], label = 'strata walidacyjna')\n",
        "plt.xlabel('Epoka')\n",
        "plt.ylabel('Strata')\n",
        "plt.ylim([0.0, 0.5])\n",
        "plt.legend(loc='upper right')"
      ]
    },
    {
      "cell_type": "code",
      "execution_count": 18,
      "id": "8b976089",
      "metadata": {
        "colab": {
          "base_uri": "https://localhost:8080/",
          "height": 301
        },
        "id": "8b976089",
        "outputId": "99478245-2344-4a0b-cebe-a0f72bdc3259",
        "scrolled": true
      },
      "outputs": [
        {
          "output_type": "execute_result",
          "data": {
            "text/plain": [
              "<matplotlib.legend.Legend at 0x7f897a1d2b80>"
            ]
          },
          "metadata": {},
          "execution_count": 18
        },
        {
          "output_type": "display_data",
          "data": {
            "text/plain": [
              "<Figure size 432x288 with 1 Axes>"
            ],
            "image/png": "[encoded data removed]"
          },
          "metadata": {
            "needs_background": "light"
          }
        }
      ],
      "source": [
        "plt.plot(history.history['accuracy'], label='precyzja')\n",
        "plt.plot(history.history['val_accuracy'], label = 'precyzja walidacyjna')\n",
        "plt.xlabel('Epoka')\n",
        "plt.ylabel('Precyzja')\n",
        "plt.ylim([0.5, 1])\n",
        "plt.legend(loc='lower right')"
      ]
    },
    {
      "cell_type": "code",
      "execution_count": 19,
      "id": "HWqm9BVzLHfw",
      "metadata": {
        "id": "HWqm9BVzLHfw"
      },
      "outputs": [],
      "source": [
        "best_model = tf.keras.models.load_model('/content/drive/MyDrive/Sieci/Zlaczone_firefox.h5')\n"
      ]
    },
    {
      "cell_type": "code",
      "execution_count": 20,
      "id": "685a286c",
      "metadata": {
        "colab": {
          "base_uri": "https://localhost:8080/"
        },
        "id": "685a286c",
        "outputId": "c56f3402-30fe-4673-e6e6-6b38967a70e0"
      },
      "outputs": [
        {
          "output_type": "stream",
          "name": "stdout",
          "text": [
            "79/79 - 1s - loss: 0.1234 - accuracy: 0.8607 - mse: 0.1234 - 1s/epoch - 18ms/step\n"
          ]
        },
        {
          "output_type": "execute_result",
          "data": {
            "text/plain": [
              "[0.12340476946616602, 0.8607142857142858, 0.12340476946616602]"
            ]
          },
          "metadata": {},
          "execution_count": 20
        }
      ],
      "source": [
        "best_model.evaluate(x_test,  y_test, verbose=2)"
      ]
    },
    {
      "cell_type": "code",
      "execution_count": 21,
      "id": "ee941c13",
      "metadata": {
        "colab": {
          "base_uri": "https://localhost:8080/"
        },
        "id": "ee941c13",
        "outputId": "c5b14710-3c07-4b1d-f4f7-770099df052d"
      },
      "outputs": [
        {
          "output_type": "stream",
          "name": "stdout",
          "text": [
            "79/79 [==============================] - 1s 12ms/step\n"
          ]
        }
      ],
      "source": [
        "predict_x = best_model.predict(x_test) \n",
        "\n",
        "predictions = (predict_x > 0.5).astype(\"int32\")"
      ]
    },
    {
      "cell_type": "code",
      "execution_count": 22,
      "id": "d8fb12f1",
      "metadata": {
        "colab": {
          "base_uri": "https://localhost:8080/"
        },
        "id": "d8fb12f1",
        "outputId": "d6d9d4de-ce2e-4a31-e00b-c0aebc414f29"
      },
      "outputs": [
        {
          "output_type": "stream",
          "name": "stdout",
          "text": [
            "[['Tn' 'Nn']\n",
            " ['Np' 'Tp']]\n",
            "tf.Tensor(\n",
            "[[ 961  299]\n",
            " [  52 1208]], shape=(2, 2), dtype=int32)\n"
          ]
        }
      ],
      "source": [
        "names = [['Tn','Nn'],['Np', 'Tp']]\n",
        "names = np.reshape(names,(2,2))\n",
        "print(names)\n",
        "\n",
        "conf = tf.math.confusion_matrix(y_test,predictions)\n",
        "\n",
        "print(conf)"
      ]
    },
    {
      "cell_type": "code",
      "source": [
        "for i in range(len(x_test)):\n",
        "  if predictions[i] != y_test[i]:\n",
        "    print(i)"
      ],
      "metadata": {
        "colab": {
          "base_uri": "https://localhost:8080/"
        },
        "id": "FYMGwV_X-aKk",
        "outputId": "9f1889af-9537-426c-fda6-94e4a6ea74c8"
      },
      "id": "FYMGwV_X-aKk",
      "execution_count": 23,
      "outputs": [
        {
          "output_type": "stream",
          "name": "stdout",
          "text": [
            "4\n",
            "5\n",
            "6\n",
            "8\n",
            "21\n",
            "22\n",
            "23\n",
            "51\n",
            "184\n",
            "186\n",
            "188\n",
            "203\n",
            "227\n",
            "229\n",
            "230\n",
            "231\n",
            "233\n",
            "244\n",
            "246\n",
            "247\n",
            "248\n",
            "272\n",
            "274\n",
            "275\n",
            "276\n",
            "278\n",
            "289\n",
            "291\n",
            "292\n",
            "293\n",
            "800\n",
            "966\n",
            "968\n",
            "971\n",
            "973\n",
            "1016\n",
            "1018\n",
            "1146\n",
            "1151\n",
            "1190\n",
            "1191\n",
            "1193\n",
            "1196\n",
            "1217\n",
            "1226\n",
            "1234\n",
            "1236\n",
            "1238\n",
            "1241\n",
            "1243\n",
            "1247\n",
            "1259\n",
            "1261\n",
            "1263\n",
            "1267\n",
            "1268\n",
            "1269\n",
            "1274\n",
            "1277\n",
            "1283\n",
            "1313\n",
            "1318\n",
            "1328\n",
            "1330\n",
            "1332\n",
            "1335\n",
            "1336\n",
            "1347\n",
            "1348\n",
            "1354\n",
            "1358\n",
            "1359\n",
            "1363\n",
            "1365\n",
            "1366\n",
            "1370\n",
            "1379\n",
            "1380\n",
            "1385\n",
            "1397\n",
            "1399\n",
            "1404\n",
            "1407\n",
            "1413\n",
            "1414\n",
            "1416\n",
            "1419\n",
            "1421\n",
            "1424\n",
            "1426\n",
            "1429\n",
            "1433\n",
            "1440\n",
            "1447\n",
            "1448\n",
            "1455\n",
            "1457\n",
            "1458\n",
            "1463\n",
            "1467\n",
            "1468\n",
            "1472\n",
            "1473\n",
            "1480\n",
            "1485\n",
            "1486\n",
            "1489\n",
            "1494\n",
            "1496\n",
            "1503\n",
            "1508\n",
            "1511\n",
            "1513\n",
            "1515\n",
            "1520\n",
            "1521\n",
            "1525\n",
            "1527\n",
            "1529\n",
            "1530\n",
            "1537\n",
            "1543\n",
            "1545\n",
            "1547\n",
            "1550\n",
            "1551\n",
            "1557\n",
            "1561\n",
            "1562\n",
            "1582\n",
            "1583\n",
            "1589\n",
            "1592\n",
            "1594\n",
            "1596\n",
            "1598\n",
            "1601\n",
            "1608\n",
            "1613\n",
            "1614\n",
            "1619\n",
            "1621\n",
            "1624\n",
            "1627\n",
            "1631\n",
            "1636\n",
            "1637\n",
            "1646\n",
            "1649\n",
            "1650\n",
            "1658\n",
            "1659\n",
            "1660\n",
            "1662\n",
            "1663\n",
            "1664\n",
            "1665\n",
            "1670\n",
            "1673\n",
            "1674\n",
            "1678\n",
            "1684\n",
            "1686\n",
            "1694\n",
            "1701\n",
            "1704\n",
            "1707\n",
            "1711\n",
            "1712\n",
            "1721\n",
            "1727\n",
            "1728\n",
            "1729\n",
            "1734\n",
            "1739\n",
            "1742\n",
            "1753\n",
            "1755\n",
            "1760\n",
            "1761\n",
            "1762\n",
            "1768\n",
            "1774\n",
            "1777\n",
            "1778\n",
            "1780\n",
            "1785\n",
            "1787\n",
            "1793\n",
            "1797\n",
            "1801\n",
            "1806\n",
            "1816\n",
            "1818\n",
            "1820\n",
            "1830\n",
            "1833\n",
            "1834\n",
            "1837\n",
            "1838\n",
            "1840\n",
            "1842\n",
            "1843\n",
            "1844\n",
            "1847\n",
            "1853\n",
            "1855\n",
            "1857\n",
            "1868\n",
            "1879\n",
            "1881\n",
            "1889\n",
            "1890\n",
            "1893\n",
            "1896\n",
            "1897\n",
            "1900\n",
            "1902\n",
            "1909\n",
            "1924\n",
            "1925\n",
            "1930\n",
            "1942\n",
            "1946\n",
            "1949\n",
            "1951\n",
            "1960\n",
            "1978\n",
            "1981\n",
            "1982\n",
            "1984\n",
            "1985\n",
            "1992\n",
            "1996\n",
            "2007\n",
            "2009\n",
            "2017\n",
            "2018\n",
            "2020\n",
            "2027\n",
            "2042\n",
            "2044\n",
            "2052\n",
            "2053\n",
            "2056\n",
            "2059\n",
            "2060\n",
            "2061\n",
            "2065\n",
            "2072\n",
            "2077\n",
            "2078\n",
            "2079\n",
            "2086\n",
            "2091\n",
            "2101\n",
            "2106\n",
            "2121\n",
            "2122\n",
            "2126\n",
            "2132\n",
            "2133\n",
            "2135\n",
            "2136\n",
            "2146\n",
            "2150\n",
            "2153\n",
            "2160\n",
            "2162\n",
            "2169\n",
            "2182\n",
            "2185\n",
            "2189\n",
            "2192\n",
            "2199\n",
            "2201\n",
            "2202\n",
            "2204\n",
            "2206\n",
            "2214\n",
            "2218\n",
            "2225\n",
            "2229\n",
            "2231\n",
            "2233\n",
            "2236\n",
            "2243\n",
            "2244\n",
            "2251\n",
            "2259\n",
            "2265\n",
            "2266\n",
            "2270\n",
            "2274\n",
            "2276\n",
            "2277\n",
            "2278\n",
            "2280\n",
            "2284\n",
            "2291\n",
            "2296\n",
            "2297\n",
            "2309\n",
            "2316\n",
            "2320\n",
            "2322\n",
            "2326\n",
            "2328\n",
            "2343\n",
            "2354\n",
            "2360\n",
            "2363\n",
            "2367\n",
            "2368\n",
            "2370\n",
            "2375\n",
            "2376\n",
            "2381\n",
            "2383\n",
            "2386\n",
            "2387\n",
            "2405\n",
            "2417\n",
            "2429\n",
            "2431\n",
            "2435\n",
            "2437\n",
            "2438\n",
            "2444\n",
            "2445\n",
            "2446\n",
            "2451\n",
            "2452\n",
            "2458\n",
            "2460\n",
            "2464\n",
            "2467\n",
            "2469\n",
            "2479\n",
            "2480\n",
            "2481\n",
            "2482\n",
            "2484\n",
            "2492\n",
            "2502\n",
            "2505\n",
            "2506\n",
            "2508\n",
            "2511\n",
            "2517\n",
            "2518\n"
          ]
        }
      ]
    },
    {
      "cell_type": "code",
      "source": [
        "a = 1044\n",
        "\n",
        "print(y_test[a])\n",
        "print(predictions[a])\n",
        "print(predict_x[a])\n",
        "\n",
        "plt.imshow(x_test[a],cmap = 'gray')"
      ],
      "metadata": {
        "colab": {
          "base_uri": "https://localhost:8080/",
          "height": 289
        },
        "id": "hO0XoVgf9QFu",
        "outputId": "96ec613e-8016-4682-e3a7-ed83afb8f2cd"
      },
      "id": "hO0XoVgf9QFu",
      "execution_count": 24,
      "outputs": [
        {
          "output_type": "stream",
          "name": "stdout",
          "text": [
            "1\n",
            "[1]\n",
            "[0.883]\n"
          ]
        },
        {
          "output_type": "execute_result",
          "data": {
            "text/plain": [
              "<matplotlib.image.AxesImage at 0x7f897a053610>"
            ]
          },
          "metadata": {},
          "execution_count": 24
        },
        {
          "output_type": "display_data",
          "data": {
            "text/plain": [
              "<Figure size 432x288 with 1 Axes>"
            ],
            "image/png": "[encoded data removed]"
          },
          "metadata": {
            "needs_background": "light"
          }
        }
      ]
    }
  ],
  "metadata": {
    "accelerator": "GPU",
    "colab": {
      "provenance": [],
      "include_colab_link": true
    },
    "gpuClass": "standard",
    "kernelspec": {
      "display_name": "py39",
      "language": "python",
      "name": "py39"
    },
    "language_info": {
      "codemirror_mode": {
        "name": "ipython",
        "version": 3
      },
      "file_extension": ".py",
      "mimetype": "text/x-python",
      "name": "python",
      "nbconvert_exporter": "python",
      "pygments_lexer": "ipython3",
      "version": "3.9.12"
    }
  },
  "nbformat": 4,
  "nbformat_minor": 5
}