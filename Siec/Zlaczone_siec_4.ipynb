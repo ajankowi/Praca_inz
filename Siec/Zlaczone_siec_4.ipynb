{
 "cells": [
  {
   "cell_type": "code",
   "execution_count": 1,
   "id": "613f08b5",
   "metadata": {},
   "outputs": [
    {
     "name": "stdout",
     "output_type": "stream",
     "text": [
      "3.9.12 (main, Jun  1 2022, 11:38:51) \n",
      "[GCC 7.5.0]\n"
     ]
    }
   ],
   "source": [
    "import sys\n",
    "print(sys.version)"
   ]
  },
  {
   "cell_type": "code",
   "execution_count": 2,
   "id": "5eca1117",
   "metadata": {},
   "outputs": [
    {
     "name": "stdout",
     "output_type": "stream",
     "text": [
      "TensorFlow version: 2.8.2\n"
     ]
    }
   ],
   "source": [
    "import tensorflow as tf\n",
    "from tensorflow.keras import layers, models\n",
    "from tensorflow.keras.callbacks import EarlyStopping\n",
    "\n",
    "\n",
    "print(\"TensorFlow version:\", tf.__version__)\n",
    "tf.keras.backend.set_floatx('float64')"
   ]
  },
  {
   "cell_type": "code",
   "execution_count": 3,
   "id": "12022d37",
   "metadata": {},
   "outputs": [],
   "source": [
    "import matplotlib.pyplot as plt\n",
    "import numpy as np\n",
    "import pandas as pd\n",
    "import seaborn as sns\n",
    "from PIL import Image\n",
    "import os\n",
    "import csv\n",
    "import random\n",
    "\n",
    "import cv2\n",
    "import imutils\n",
    "import glob\n",
    "# Make NumPy printouts easier to read.\n",
    "np.set_printoptions(precision=3, suppress=True)"
   ]
  },
  {
   "cell_type": "code",
   "execution_count": 4,
   "id": "1086f893",
   "metadata": {},
   "outputs": [],
   "source": [
    "#Określenie ścieżek do plików\n",
    "folder = '../../Dane/Baza_zdjec_zlaczone_2/'\n",
    "nazwa_CSV = 'nowe.csv'\n",
    "folder_aktorzy = '../../Dane/Baza_aktorzy_zlaczone/'\n",
    "nazwa_aktorzy_CSV = 'nowe.csv'\n",
    "folder_2 = '../../Dane/Baza_zdjec_moje/'\n",
    "przed = 'Przed/'\n",
    "zlaczone = 'Zlaczone/'\n",
    "slesh = '/'\n",
    "png = '.png'"
   ]
  },
  {
   "cell_type": "code",
   "execution_count": 5,
   "id": "d0329f31",
   "metadata": {},
   "outputs": [],
   "source": [
    "def release_list(a):\n",
    "    \n",
    "    del a[:]\n",
    "    del a"
   ]
  },
  {
   "cell_type": "code",
   "execution_count": 6,
   "id": "5beb89e7",
   "metadata": {},
   "outputs": [
    {
     "name": "stdout",
     "output_type": "stream",
     "text": [
      "25200\n"
     ]
    }
   ],
   "source": [
    "#Wczytanie pliku CSV do tablicy images\n",
    "\n",
    "with open(folder+nazwa_CSV,\"r\") as csvfile:\n",
    "    lines = csvfile.readlines()\n",
    "csvfile.close()\n",
    "\n",
    "new = []\n",
    "\n",
    "for i in lines:\n",
    "    new.append(i.split(\" \"))\n",
    "\n",
    "    \n",
    "value = []\n",
    "for i in new[0]:\n",
    "    value.append(int(i))    \n",
    "    \n",
    "print(len(value))"
   ]
  },
  {
   "cell_type": "code",
   "execution_count": 7,
   "id": "d9cb09d8",
   "metadata": {},
   "outputs": [
    {
     "name": "stdout",
     "output_type": "stream",
     "text": [
      "25200\n"
     ]
    }
   ],
   "source": [
    "#Wczytanie zdjęć do tablicy images\n",
    "images = []\n",
    "size = len(value)\n",
    "\n",
    "for i in range(size):\n",
    "    im = Image.open(folder+str(i)+png)\n",
    "    arr_im = np.array(im) \n",
    "    arr_im = arr_im / 255.0\n",
    "    images.append(arr_im) \n",
    "print(len(images))"
   ]
  },
  {
   "cell_type": "code",
   "execution_count": 8,
   "id": "44a7c0bf",
   "metadata": {},
   "outputs": [],
   "source": [
    "#Inicjalizacja tablic\n",
    "rand_list = []\n",
    "rand_list = np.zeros((len(images)), dtype=np.uint8)\n",
    "\n",
    "x_test = []\n",
    "y_test = []\n",
    "\n",
    "x_train = []\n",
    "y_train = []\n",
    "\n",
    "\n",
    "#Okreslanie wielkosci zbiorów\n",
    "eighty = int(len(images)*80/100)\n",
    "twenty = len(images) - eighty\n",
    "\n",
    "#Losowanie zbioru testowego\n",
    "for i in range(eighty):\n",
    "    \n",
    "    #Pierwsze losowanie wartości\n",
    "    rand = random.randint(0,len(images)-1)\n",
    "    \n",
    "    #Sprawdzenie czy wylosowana wartość się powtarza\n",
    "    while (rand_list[rand] == 1) :\n",
    "        #Jeżeli tak to ponownie losuje\n",
    "        rand = random.randint(0,len(images)-1)\n",
    "    \n",
    "    #Zapisanie zdjecia i wartości do nowej tablicy\n",
    "    x_train.append(images[rand])\n",
    "    y_train.append(value[rand])\n",
    "    rand_list[rand] = 1\n",
    "\n",
    "#Losowanie zbioru uczącego\n",
    "for j in range(twenty):\n",
    "    \n",
    "    #Pierwsze losowanie wartości\n",
    "    rand = random.randint(0,len(images)-1)\n",
    "    \n",
    "    #Sprawdzenie czy wylosowana wartość się powtarza\n",
    "    while (rand_list[rand] == 1) :\n",
    "        #Jeżeli tak to ponownie losuje\n",
    "        rand = random.randint(0,len(images)-1)\n",
    "        \n",
    "    #Zapisanie zdjecia i wartości do nowej tablicy\n",
    "    x_test.append(images[rand])\n",
    "    y_test.append(value[rand])\n",
    "    rand_list[rand] = 1\n",
    "    \n",
    "    \n",
    "release_list(images)\n",
    "release_list(value)"
   ]
  },
  {
   "cell_type": "code",
   "execution_count": 13,
   "id": "8fccbbcc",
   "metadata": {},
   "outputs": [
    {
     "name": "stdout",
     "output_type": "stream",
     "text": [
      "20.15%\n",
      "79.85%\n"
     ]
    }
   ],
   "source": [
    "#Sprawdzenie poprawności losowania\n",
    "val_1 = 100 * sum(y_test) / (size / 2)\n",
    "print(\"%.2f\" % val_1 + '%') \n",
    "\n",
    "\n",
    "val_2 = 100 * sum(y_train) / (size / 2)\n",
    "print(\"%.2f\" % val_2 + '%') \n",
    "\n",
    "\n"
   ]
  },
  {
   "cell_type": "code",
   "execution_count": 14,
   "id": "f7f4dd4b",
   "metadata": {},
   "outputs": [],
   "source": [
    "x_train = np.array(x_train)\n",
    "x_test = np.array(x_test)\n",
    "\n",
    "y_train = np.array(y_train)\n",
    "y_test = np.array(y_test)"
   ]
  },
  {
   "cell_type": "code",
   "execution_count": 15,
   "id": "d3a370cb",
   "metadata": {},
   "outputs": [
    {
     "name": "stdout",
     "output_type": "stream",
     "text": [
      "[[0.    0.188 0.239 ... 0.    0.    0.   ]\n",
      " [0.    0.208 0.271 ... 0.298 0.278 0.271]\n",
      " [0.    0.212 0.286 ... 0.298 0.29  0.298]\n",
      " ...\n",
      " [0.18  0.188 0.184 ... 0.294 0.294 0.   ]\n",
      " [0.165 0.18  0.18  ... 0.282 0.286 0.   ]\n",
      " [0.    0.    0.    ... 0.282 0.271 0.   ]]\n"
     ]
    },
    {
     "data": {
      "image/png": "[encoded data removed]",
      "text/plain": [
       "<Figure size 640x480 with 1 Axes>"
      ]
     },
     "metadata": {},
     "output_type": "display_data"
    }
   ],
   "source": [
    "plt.imshow(x_train[0],cmap = 'gray')\n",
    "print(x_train[0])"
   ]
  },
  {
   "cell_type": "code",
   "execution_count": 16,
   "id": "772c7d7c",
   "metadata": {},
   "outputs": [
    {
     "name": "stderr",
     "output_type": "stream",
     "text": [
      "2022-12-08 14:30:44.441251: I tensorflow/core/platform/cpu_feature_guard.cc:151] This TensorFlow binary is optimized with oneAPI Deep Neural Network Library (oneDNN) to use the following CPU instructions in performance-critical operations:  SSE4.1 SSE4.2 AVX AVX2 FMA\n",
      "To enable them in other operations, rebuild TensorFlow with the appropriate compiler flags.\n",
      "2022-12-08 14:30:44.443607: I tensorflow/core/common_runtime/process_util.cc:146] Creating new thread pool with default inter op setting: 2. Tune using inter_op_parallelism_threads for best performance.\n"
     ]
    }
   ],
   "source": [
    "model = models.Sequential()\n",
    "model.add(layers.Conv2D(32, (3, 3), activation='relu', input_shape=(64, 128, 1)))\n",
    "model.add(layers.MaxPooling2D((2, 2)))\n",
    "model.add(layers.Conv2D(64, (3, 3), activation='relu'))\n",
    "model.add(layers.MaxPooling2D((2, 2)))\n",
    "model.add(layers.Conv2D(64, (3, 3), activation='relu'))\n",
    "model.add(layers.Flatten())\n",
    "model.add(layers.Dense(64, activation='relu'))\n",
    "model.add(layers.Dense(1))"
   ]
  },
  {
   "cell_type": "code",
   "execution_count": 17,
   "id": "b86f72df",
   "metadata": {},
   "outputs": [
    {
     "name": "stdout",
     "output_type": "stream",
     "text": [
      "Model: \"sequential\"\n",
      "_________________________________________________________________\n",
      " Layer (type)                Output Shape              Param #   \n",
      "=================================================================\n",
      " conv2d (Conv2D)             (None, 62, 126, 32)       320       \n",
      "                                                                 \n",
      " max_pooling2d (MaxPooling2D  (None, 31, 63, 32)       0         \n",
      " )                                                               \n",
      "                                                                 \n",
      " conv2d_1 (Conv2D)           (None, 29, 61, 64)        18496     \n",
      "                                                                 \n",
      " max_pooling2d_1 (MaxPooling  (None, 14, 30, 64)       0         \n",
      " 2D)                                                             \n",
      "                                                                 \n",
      " conv2d_2 (Conv2D)           (None, 12, 28, 64)        36928     \n",
      "                                                                 \n",
      " flatten (Flatten)           (None, 21504)             0         \n",
      "                                                                 \n",
      " dense (Dense)               (None, 64)                1376320   \n",
      "                                                                 \n",
      " dense_1 (Dense)             (None, 1)                 65        \n",
      "                                                                 \n",
      "=================================================================\n",
      "Total params: 1,432,129\n",
      "Trainable params: 1,432,129\n",
      "Non-trainable params: 0\n",
      "_________________________________________________________________\n"
     ]
    }
   ],
   "source": [
    "model.summary()"
   ]
  },
  {
   "cell_type": "code",
   "execution_count": null,
   "id": "9beb77e5",
   "metadata": {},
   "outputs": [
    {
     "name": "stdout",
     "output_type": "stream",
     "text": [
      "Epoch 1/20\n",
      "567/567 [==============================] - 216s 379ms/step - loss: 0.1653 - accuracy: 0.7941 - mse: 0.1653 - val_loss: 0.0410 - val_accuracy: 0.9608 - val_mse: 0.0410\n",
      "Epoch 2/20\n",
      "304/567 [===============>..............] - ETA: 2:04 - loss: 0.0350 - accuracy: 0.9741 - mse: 0.0350"
     ]
    }
   ],
   "source": [
    "model.compile(optimizer='adam',\n",
    "              loss='mse',\n",
    "              metrics=['accuracy', 'mse'])\n",
    "\n",
    "#Funcka umożliwia zatrzymanie się uczenia \n",
    "#gdy wartość strat przstanie maleć\n",
    "EarlyStop = EarlyStopping(monitor='val_loss', \n",
    "                          mode='min', \n",
    "                          verbose=1, \n",
    "                          patience=2)\n",
    "\n",
    "\n",
    "history = model.fit(x=x_train, \n",
    "                    y=y_train, \n",
    "                    epochs=20,\n",
    "                    batch_size=256,\n",
    "                    validation_split=0.1,\n",
    "                    callbacks = [EarlyStop]\n",
    "                   )"
   ]
  },
  {
   "cell_type": "code",
   "execution_count": 16,
   "id": "fe8633db",
   "metadata": {},
   "outputs": [
    {
     "data": {
      "text/plain": [
       "<matplotlib.legend.Legend at 0x7f7a94219280>"
      ]
     },
     "execution_count": 16,
     "metadata": {},
     "output_type": "execute_result"
    },
    {
     "data": {
      "image/png": "[encoded data removed]",
      "text/plain": [
       "<Figure size 640x480 with 1 Axes>"
      ]
     },
     "metadata": {},
     "output_type": "display_data"
    }
   ],
   "source": [
    "plt.plot(history.history['loss'], label='strata')\n",
    "plt.plot(history.history['val_loss'], label = 'strata walidacyjna')\n",
    "plt.xlabel('Epoka')\n",
    "plt.ylabel('Strata')\n",
    "plt.ylim([0.0, 0.5])\n",
    "plt.legend(loc='upper right')"
   ]
  },
  {
   "cell_type": "code",
   "execution_count": 17,
   "id": "8b976089",
   "metadata": {
    "scrolled": true
   },
   "outputs": [
    {
     "data": {
      "text/plain": [
       "<matplotlib.legend.Legend at 0x7f7a8c7daa90>"
      ]
     },
     "execution_count": 17,
     "metadata": {},
     "output_type": "execute_result"
    },
    {
     "data": {
      "image/png": "[encoded data removed]",
      "text/plain": [
       "<Figure size 640x480 with 1 Axes>"
      ]
     },
     "metadata": {},
     "output_type": "display_data"
    }
   ],
   "source": [
    "plt.plot(history.history['accuracy'], label='precyzja')\n",
    "plt.plot(history.history['val_accuracy'], label = 'precyzja walidacyjna')\n",
    "plt.xlabel('Epoka')\n",
    "plt.ylabel('Precyzja')\n",
    "plt.ylim([0.5, 1])\n",
    "plt.legend(loc='lower right')"
   ]
  },
  {
   "cell_type": "code",
   "execution_count": 18,
   "id": "685a286c",
   "metadata": {},
   "outputs": [
    {
     "name": "stdout",
     "output_type": "stream",
     "text": [
      "23/23 - 2s - loss: 0.0049 - accuracy: 0.9958 - mse: 0.0049 - 2s/epoch - 99ms/step\n"
     ]
    },
    {
     "data": {
      "text/plain": [
       "[0.004898546013929364, 0.9958333333333333, 0.004898546132394294]"
      ]
     },
     "execution_count": 18,
     "metadata": {},
     "output_type": "execute_result"
    }
   ],
   "source": [
    "model.evaluate(x_test,  y_test, verbose=2)"
   ]
  },
  {
   "cell_type": "code",
   "execution_count": 22,
   "id": "123b5623",
   "metadata": {},
   "outputs": [],
   "source": [
    "probability_model = tf.keras.Sequential([\n",
    "  model\n",
    "])"
   ]
  },
  {
   "cell_type": "code",
   "execution_count": 30,
   "id": "ee941c13",
   "metadata": {},
   "outputs": [],
   "source": [
    "predict_x = model.predict(x_test) \n",
    "\n",
    "predictions = (predict_x > 0.5).astype(\"int32\")"
   ]
  },
  {
   "cell_type": "code",
   "execution_count": 34,
   "id": "d8fb12f1",
   "metadata": {},
   "outputs": [
    {
     "name": "stdout",
     "output_type": "stream",
     "text": [
      "[['Tn' 'Nn']\n",
      " ['Np' 'Tp']]\n"
     ]
    },
    {
     "data": {
      "text/plain": [
       "<tf.Tensor: shape=(2, 2), dtype=int32, numpy=\n",
       "array([[388,   3],\n",
       "       [  0, 329]], dtype=int32)>"
      ]
     },
     "execution_count": 34,
     "metadata": {},
     "output_type": "execute_result"
    }
   ],
   "source": [
    "names = [['Tn','Nn'],['Np', 'Tp']]\n",
    "names = np.reshape(names,(2,2))\n",
    "print(names)\n",
    "\n",
    "tf.math.confusion_matrix(y_test,predictions)"
   ]
  },
  {
   "cell_type": "code",
   "execution_count": 25,
   "id": "391d9616",
   "metadata": {},
   "outputs": [],
   "source": [
    "#Wczytanie zdjęć aktorów"
   ]
  },
  {
   "cell_type": "code",
   "execution_count": 26,
   "id": "53be553c",
   "metadata": {},
   "outputs": [
    {
     "name": "stdout",
     "output_type": "stream",
     "text": [
      "2837\n"
     ]
    }
   ],
   "source": [
    "with open(folder_aktorzy+nazwa_aktorzy_CSV,\"r\") as csvfile:\n",
    "    lines = csvfile.readlines()\n",
    "csvfile.close()\n",
    "\n",
    "\n",
    "tmp = []\n",
    "act_label = []\n",
    "\n",
    "for i in lines:\n",
    "    tmp.append(i.split(\" \"))\n",
    "\n",
    "    \n",
    "act_label = []\n",
    "for i in tmp[0]:\n",
    "    act_label.append(int(i))    \n",
    "    \n",
    "print(len(act_label))"
   ]
  },
  {
   "cell_type": "code",
   "execution_count": 29,
   "id": "62ceaefe",
   "metadata": {},
   "outputs": [
    {
     "name": "stdout",
     "output_type": "stream",
     "text": [
      "2837\n"
     ]
    }
   ],
   "source": [
    "#Wczytanie zdjęć aktorów do tablicy\n",
    "\n",
    "act = []\n",
    "size = len(act_label)\n",
    "\n",
    "for i in range(size):\n",
    "    im = Image.open(folder_aktorzy+str(i)+png)\n",
    "    arr_im = np.array(im) \n",
    "    arr_im = arr_im / 255.0\n",
    "    act.append(arr_im) \n",
    "print(len(act))"
   ]
  },
  {
   "cell_type": "code",
   "execution_count": 30,
   "id": "d8cd5537",
   "metadata": {},
   "outputs": [
    {
     "name": "stdout",
     "output_type": "stream",
     "text": [
      "[[0.984 0.984 0.984 ... 0.192 0.196 0.196]\n",
      " [0.984 0.984 0.98  ... 0.2   0.192 0.192]\n",
      " [0.984 0.98  0.976 ... 0.204 0.196 0.192]\n",
      " ...\n",
      " [0.98  0.98  0.98  ... 0.298 0.294 0.29 ]\n",
      " [0.98  0.98  0.98  ... 0.294 0.298 0.302]\n",
      " [0.98  0.98  0.98  ... 0.298 0.31  0.302]]\n"
     ]
    },
    {
     "data": {
      "image/png": "[encoded data removed]",
      "text/plain": [
       "<Figure size 640x480 with 1 Axes>"
      ]
     },
     "metadata": {},
     "output_type": "display_data"
    }
   ],
   "source": [
    "plt.imshow(act[0],cmap = 'gray')\n",
    "print(act[0])"
   ]
  },
  {
   "cell_type": "code",
   "execution_count": 31,
   "id": "6c4a9ea9",
   "metadata": {},
   "outputs": [],
   "source": [
    "act= np.array(act)"
   ]
  },
  {
   "cell_type": "code",
   "execution_count": 32,
   "id": "304612c1",
   "metadata": {},
   "outputs": [
    {
     "name": "stderr",
     "output_type": "stream",
     "text": [
      "2022-12-01 19:20:18.082980: W tensorflow/core/common_runtime/bfc_allocator.cc:462] Allocator (mklcpu) ran out of memory trying to allocate 5.28GiB (rounded to 5673636864)requested by op Conv2D\n",
      "If the cause is memory fragmentation maybe the environment variable 'TF_GPU_ALLOCATOR=cuda_malloc_async' will improve the situation. \n",
      "Current allocation summary follows.\n",
      "Current allocation summary follows.\n",
      "2022-12-01 19:20:18.083059: I tensorflow/core/common_runtime/bfc_allocator.cc:1010] BFCAllocator dump for mklcpu\n",
      "2022-12-01 19:20:18.083070: I tensorflow/core/common_runtime/bfc_allocator.cc:1017] Bin (256): \tTotal Chunks: 0, Chunks in use: 0. 0B allocated for chunks. 0B in use in bin. 0B client-requested in use in bin.\n",
      "2022-12-01 19:20:18.083075: I tensorflow/core/common_runtime/bfc_allocator.cc:1017] Bin (512): \tTotal Chunks: 0, Chunks in use: 0. 0B allocated for chunks. 0B in use in bin. 0B client-requested in use in bin.\n",
      "2022-12-01 19:20:18.083079: I tensorflow/core/common_runtime/bfc_allocator.cc:1017] Bin (1024): \tTotal Chunks: 0, Chunks in use: 0. 0B allocated for chunks. 0B in use in bin. 0B client-requested in use in bin.\n",
      "2022-12-01 19:20:18.083083: I tensorflow/core/common_runtime/bfc_allocator.cc:1017] Bin (2048): \tTotal Chunks: 0, Chunks in use: 0. 0B allocated for chunks. 0B in use in bin. 0B client-requested in use in bin.\n",
      "2022-12-01 19:20:18.083091: I tensorflow/core/common_runtime/bfc_allocator.cc:1017] Bin (4096): \tTotal Chunks: 4, Chunks in use: 3. 20.8KiB allocated for chunks. 15.0KiB in use in bin. 15.0KiB client-requested in use in bin.\n",
      "2022-12-01 19:20:18.083096: I tensorflow/core/common_runtime/bfc_allocator.cc:1017] Bin (8192): \tTotal Chunks: 0, Chunks in use: 0. 0B allocated for chunks. 0B in use in bin. 0B client-requested in use in bin.\n",
      "2022-12-01 19:20:18.083100: I tensorflow/core/common_runtime/bfc_allocator.cc:1017] Bin (16384): \tTotal Chunks: 0, Chunks in use: 0. 0B allocated for chunks. 0B in use in bin. 0B client-requested in use in bin.\n",
      "2022-12-01 19:20:18.083105: I tensorflow/core/common_runtime/bfc_allocator.cc:1017] Bin (32768): \tTotal Chunks: 2, Chunks in use: 1. 101.2KiB allocated for chunks. 56.2KiB in use in bin. 56.2KiB client-requested in use in bin.\n",
      "2022-12-01 19:20:18.083110: I tensorflow/core/common_runtime/bfc_allocator.cc:1017] Bin (65536): \tTotal Chunks: 1, Chunks in use: 0. 82.0KiB allocated for chunks. 0B in use in bin. 0B client-requested in use in bin.\n",
      "2022-12-01 19:20:18.083114: I tensorflow/core/common_runtime/bfc_allocator.cc:1017] Bin (131072): \tTotal Chunks: 3, Chunks in use: 3. 516.0KiB allocated for chunks. 516.0KiB in use in bin. 432.0KiB client-requested in use in bin.\n",
      "2022-12-01 19:20:18.083119: I tensorflow/core/common_runtime/bfc_allocator.cc:1017] Bin (262144): \tTotal Chunks: 5, Chunks in use: 3. 1.58MiB allocated for chunks. 864.0KiB in use in bin. 864.0KiB client-requested in use in bin.\n",
      "2022-12-01 19:20:18.083123: I tensorflow/core/common_runtime/bfc_allocator.cc:1017] Bin (524288): \tTotal Chunks: 0, Chunks in use: 0. 0B allocated for chunks. 0B in use in bin. 0B client-requested in use in bin.\n",
      "2022-12-01 19:20:18.083127: I tensorflow/core/common_runtime/bfc_allocator.cc:1017] Bin (1048576): \tTotal Chunks: 0, Chunks in use: 0. 0B allocated for chunks. 0B in use in bin. 0B client-requested in use in bin.\n",
      "2022-12-01 19:20:18.083130: I tensorflow/core/common_runtime/bfc_allocator.cc:1017] Bin (2097152): \tTotal Chunks: 0, Chunks in use: 0. 0B allocated for chunks. 0B in use in bin. 0B client-requested in use in bin.\n",
      "2022-12-01 19:20:18.083134: I tensorflow/core/common_runtime/bfc_allocator.cc:1017] Bin (4194304): \tTotal Chunks: 1, Chunks in use: 0. 5.44MiB allocated for chunks. 0B in use in bin. 0B client-requested in use in bin.\n",
      "2022-12-01 19:20:18.083139: I tensorflow/core/common_runtime/bfc_allocator.cc:1017] Bin (8388608): \tTotal Chunks: 1, Chunks in use: 1. 10.50MiB allocated for chunks. 10.50MiB in use in bin. 10.50MiB client-requested in use in bin.\n",
      "2022-12-01 19:20:18.083144: I tensorflow/core/common_runtime/bfc_allocator.cc:1017] Bin (16777216): \tTotal Chunks: 4, Chunks in use: 2. 85.05MiB allocated for chunks. 32.00MiB in use in bin. 21.00MiB client-requested in use in bin.\n",
      "2022-12-01 19:20:18.083149: I tensorflow/core/common_runtime/bfc_allocator.cc:1017] Bin (33554432): \tTotal Chunks: 0, Chunks in use: 0. 0B allocated for chunks. 0B in use in bin. 0B client-requested in use in bin.\n",
      "2022-12-01 19:20:18.083153: I tensorflow/core/common_runtime/bfc_allocator.cc:1017] Bin (67108864): \tTotal Chunks: 0, Chunks in use: 0. 0B allocated for chunks. 0B in use in bin. 0B client-requested in use in bin.\n",
      "2022-12-01 19:20:18.083158: I tensorflow/core/common_runtime/bfc_allocator.cc:1017] Bin (134217728): \tTotal Chunks: 1, Chunks in use: 1. 218.73MiB allocated for chunks. 218.73MiB in use in bin. 177.31MiB client-requested in use in bin.\n",
      "2022-12-01 19:20:18.083162: I tensorflow/core/common_runtime/bfc_allocator.cc:1017] Bin (268435456): \tTotal Chunks: 4, Chunks in use: 0. 4.75GiB allocated for chunks. 0B in use in bin. 0B client-requested in use in bin.\n",
      "2022-12-01 19:20:18.083167: I tensorflow/core/common_runtime/bfc_allocator.cc:1033] Bin for 5.28GiB was 256.00MiB, Chunk State: \n",
      "2022-12-01 19:20:18.083174: I tensorflow/core/common_runtime/bfc_allocator.cc:1039]   Size: 256.00MiB | Requested Size: 180.00MiB | in_use: 0 | bin_num: 20\n",
      "2022-12-01 19:20:18.083179: I tensorflow/core/common_runtime/bfc_allocator.cc:1039]   Size: 512.00MiB | Requested Size: 147.66MiB | in_use: 0 | bin_num: 20\n",
      "2022-12-01 19:20:18.083184: I tensorflow/core/common_runtime/bfc_allocator.cc:1039]   Size: 2.00GiB | Requested Size: 621.91MiB | in_use: 0 | bin_num: 20\n",
      "2022-12-01 19:20:18.083188: I tensorflow/core/common_runtime/bfc_allocator.cc:1039]   Size: 2.00GiB | Requested Size: 1.34GiB | in_use: 0 | bin_num: 20\n",
      "2022-12-01 19:20:18.083191: I tensorflow/core/common_runtime/bfc_allocator.cc:1046] Next region of size 33554432\n",
      "2022-12-01 19:20:18.083196: I tensorflow/core/common_runtime/bfc_allocator.cc:1066] Free  at 559188a99400 of size 27557888 next 52\n",
      "2022-12-01 19:20:18.083200: I tensorflow/core/common_runtime/bfc_allocator.cc:1066] InUse at 55918a4e1400 of size 294912 next 50\n",
      "2022-12-01 19:20:18.083203: I tensorflow/core/common_runtime/bfc_allocator.cc:1066] Free  at 55918a529400 of size 5701632 next 18446744073709551615\n",
      "2022-12-01 19:20:18.083207: I tensorflow/core/common_runtime/bfc_allocator.cc:1046] Next region of size 16777216\n",
      "2022-12-01 19:20:18.083211: I tensorflow/core/common_runtime/bfc_allocator.cc:1066] InUse at 55918be678c0 of size 16777216 next 18446744073709551615\n",
      "2022-12-01 19:20:18.083214: I tensorflow/core/common_runtime/bfc_allocator.cc:1046] Next region of size 2097152\n",
      "2022-12-01 19:20:18.083218: I tensorflow/core/common_runtime/bfc_allocator.cc:1066] InUse at 55918d228580 of size 5120 next 14\n",
      "2022-12-01 19:20:18.083223: I tensorflow/core/common_runtime/bfc_allocator.cc:1066] InUse at 55918d229980 of size 5120 next 10\n",
      "2022-12-01 19:20:18.083227: I tensorflow/core/common_runtime/bfc_allocator.cc:1066] InUse at 55918d22ad80 of size 5120 next 11\n",
      "2022-12-01 19:20:18.083230: I tensorflow/core/common_runtime/bfc_allocator.cc:1066] Free  at 55918d22c180 of size 46080 next 13\n",
      "2022-12-01 19:20:18.083233: I tensorflow/core/common_runtime/bfc_allocator.cc:1066] InUse at 55918d237580 of size 233472 next 2\n",
      "2022-12-01 19:20:18.083237: I tensorflow/core/common_runtime/bfc_allocator.cc:1066] Free  at 55918d270580 of size 5888 next 20\n",
      "2022-12-01 19:20:18.083240: I tensorflow/core/common_runtime/bfc_allocator.cc:1066] InUse at 55918d271c80 of size 57600 next 38\n",
      "2022-12-01 19:20:18.083243: I tensorflow/core/common_runtime/bfc_allocator.cc:1066] Free  at 55918d27fd80 of size 83968 next 3\n",
      "2022-12-01 19:20:18.083271: I tensorflow/core/common_runtime/bfc_allocator.cc:1066] InUse at 55918d294580 of size 294912 next 1\n",
      "2022-12-01 19:20:18.083275: I tensorflow/core/common_runtime/bfc_allocator.cc:1066] Free  at 55918d2dc580 of size 294912 next 4\n",
      "2022-12-01 19:20:18.083279: I tensorflow/core/common_runtime/bfc_allocator.cc:1066] InUse at 55918d324580 of size 147456 next 15\n",
      "2022-12-01 19:20:18.083292: I tensorflow/core/common_runtime/bfc_allocator.cc:1066] InUse at 55918d348580 of size 294912 next 16\n",
      "2022-12-01 19:20:18.083296: I tensorflow/core/common_runtime/bfc_allocator.cc:1066] InUse at 55918d390580 of size 147456 next 46\n",
      "2022-12-01 19:20:18.083300: I tensorflow/core/common_runtime/bfc_allocator.cc:1066] Free  at 55918d3b4580 of size 475136 next 18446744073709551615\n",
      "2022-12-01 19:20:18.083304: I tensorflow/core/common_runtime/bfc_allocator.cc:1046] Next region of size 16777216\n",
      "2022-12-01 19:20:18.083309: I tensorflow/core/common_runtime/bfc_allocator.cc:1066] InUse at 55918def4400 of size 16777216 next 18446744073709551615\n",
      "2022-12-01 19:20:18.083313: I tensorflow/core/common_runtime/bfc_allocator.cc:1046] Next region of size 2147483648\n",
      "2022-12-01 19:20:18.083318: I tensorflow/core/common_runtime/bfc_allocator.cc:1066] Free  at 7fa767ffd040 of size 2147483648 next 18446744073709551615\n",
      "2022-12-01 19:20:18.083322: I tensorflow/core/common_runtime/bfc_allocator.cc:1046] Next region of size 2147483648\n",
      "2022-12-01 19:20:18.083326: I tensorflow/core/common_runtime/bfc_allocator.cc:1066] Free  at 7fa7ebfff040 of size 2147483648 next 18446744073709551615\n",
      "2022-12-01 19:20:18.083330: I tensorflow/core/common_runtime/bfc_allocator.cc:1046] Next region of size 536870912\n",
      "2022-12-01 19:20:18.083334: I tensorflow/core/common_runtime/bfc_allocator.cc:1066] Free  at 7fa8b3ffe040 of size 536870912 next 18446744073709551615\n",
      "2022-12-01 19:20:18.083339: I tensorflow/core/common_runtime/bfc_allocator.cc:1046] Next region of size 268435456\n",
      "2022-12-01 19:20:18.083343: I tensorflow/core/common_runtime/bfc_allocator.cc:1066] InUse at 7fa8d3fff040 of size 229359616 next 27\n",
      "2022-12-01 19:20:18.083347: I tensorflow/core/common_runtime/bfc_allocator.cc:1066] InUse at 7fa8e1abb040 of size 11010048 next 31\n",
      "2022-12-01 19:20:18.083350: I tensorflow/core/common_runtime/bfc_allocator.cc:1066] Free  at 7fa8e253b040 of size 28065792 next 18446744073709551615\n",
      "2022-12-01 19:20:18.083354: I tensorflow/core/common_runtime/bfc_allocator.cc:1046] Next region of size 268435456\n",
      "2022-12-01 19:20:18.083371: I tensorflow/core/common_runtime/bfc_allocator.cc:1066] Free  at 7fa927fff040 of size 268435456 next 18446744073709551615\n",
      "2022-12-01 19:20:18.083434: I tensorflow/core/common_runtime/bfc_allocator.cc:1071]      Summary of in-use Chunks by size: \n",
      "2022-12-01 19:20:18.083459: I tensorflow/core/common_runtime/bfc_allocator.cc:1074] 3 Chunks of size 5120 totalling 15.0KiB\n",
      "2022-12-01 19:20:18.083472: I tensorflow/core/common_runtime/bfc_allocator.cc:1074] 1 Chunks of size 57600 totalling 56.2KiB\n",
      "2022-12-01 19:20:18.083496: I tensorflow/core/common_runtime/bfc_allocator.cc:1074] 2 Chunks of size 147456 totalling 288.0KiB\n",
      "2022-12-01 19:20:18.083501: I tensorflow/core/common_runtime/bfc_allocator.cc:1074] 1 Chunks of size 233472 totalling 228.0KiB\n",
      "2022-12-01 19:20:18.083527: I tensorflow/core/common_runtime/bfc_allocator.cc:1074] 3 Chunks of size 294912 totalling 864.0KiB\n",
      "2022-12-01 19:20:18.083547: I tensorflow/core/common_runtime/bfc_allocator.cc:1074] 1 Chunks of size 11010048 totalling 10.50MiB\n",
      "2022-12-01 19:20:18.083553: I tensorflow/core/common_runtime/bfc_allocator.cc:1074] 2 Chunks of size 16777216 totalling 32.00MiB\n",
      "2022-12-01 19:20:18.083573: I tensorflow/core/common_runtime/bfc_allocator.cc:1074] 1 Chunks of size 229359616 totalling 218.73MiB\n",
      "2022-12-01 19:20:18.083579: I tensorflow/core/common_runtime/bfc_allocator.cc:1078] Sum Total of in-use chunks: 262.65MiB\n",
      "2022-12-01 19:20:18.083603: I tensorflow/core/common_runtime/bfc_allocator.cc:1080] total_region_allocated_bytes_: 5437915136 memory_limit_: 6574743552 available bytes: 1136828416 curr_region_allocation_bytes_: 4294967296\n",
      "2022-12-01 19:20:18.083615: I tensorflow/core/common_runtime/bfc_allocator.cc:1086] Stats: \n",
      "Limit:                      6574743552\n",
      "InUse:                       275410176\n",
      "MaxInUse:                   3400248064\n",
      "NumAllocs:                       46290\n",
      "MaxAllocSize:               1439907840\n",
      "Reserved:                            0\n",
      "PeakReserved:                        0\n",
      "LargestFreeBlock:                    0\n",
      "\n",
      "2022-12-01 19:20:18.083647: W tensorflow/core/common_runtime/bfc_allocator.cc:474] **________________________________________________________________________________________*****_____\n",
      "2022-12-01 19:20:18.083738: W tensorflow/core/framework/op_kernel.cc:1745] OP_REQUIRES failed at conv_ops.cc:684 : RESOURCE_EXHAUSTED: OOM when allocating tensor with shape[2837,62,126,32] and type double on /job:localhost/replica:0/task:0/device:CPU:0 by allocator mklcpu\n"
     ]
    },
    {
     "ename": "ResourceExhaustedError",
     "evalue": "Exception encountered when calling layer \"conv2d\" (type Conv2D).\n\nOOM when allocating tensor with shape[2837,62,126,32] and type double on /job:localhost/replica:0/task:0/device:CPU:0 by allocator mklcpu [Op:Conv2D]\n\nCall arguments received:\n  • inputs=tf.Tensor(shape=(2837, 64, 128, 1), dtype=float64)",
     "output_type": "error",
     "traceback": [
      "\u001b[0;31m---------------------------------------------------------------------------\u001b[0m",
      "\u001b[0;31mResourceExhaustedError\u001b[0m                    Traceback (most recent call last)",
      "Input \u001b[0;32mIn [32]\u001b[0m, in \u001b[0;36m<cell line: 2>\u001b[0;34m()\u001b[0m\n\u001b[1;32m      1\u001b[0m \u001b[38;5;66;03m#Testowanie sieci z wykorzystaniem zdjęć aktorów \u001b[39;00m\n\u001b[0;32m----> 2\u001b[0m act_prob \u001b[38;5;241m=\u001b[39m \u001b[43mprobability_model\u001b[49m\u001b[43m(\u001b[49m\u001b[43mact\u001b[49m\u001b[43m)\u001b[49m\n",
      "File \u001b[0;32m~/anaconda3/envs/py39/lib/python3.9/site-packages/keras/utils/traceback_utils.py:67\u001b[0m, in \u001b[0;36mfilter_traceback.<locals>.error_handler\u001b[0;34m(*args, **kwargs)\u001b[0m\n\u001b[1;32m     65\u001b[0m \u001b[38;5;28;01mexcept\u001b[39;00m \u001b[38;5;167;01mException\u001b[39;00m \u001b[38;5;28;01mas\u001b[39;00m e:  \u001b[38;5;66;03m# pylint: disable=broad-except\u001b[39;00m\n\u001b[1;32m     66\u001b[0m   filtered_tb \u001b[38;5;241m=\u001b[39m _process_traceback_frames(e\u001b[38;5;241m.\u001b[39m__traceback__)\n\u001b[0;32m---> 67\u001b[0m   \u001b[38;5;28;01mraise\u001b[39;00m e\u001b[38;5;241m.\u001b[39mwith_traceback(filtered_tb) \u001b[38;5;28;01mfrom\u001b[39;00m \u001b[38;5;28mNone\u001b[39m\n\u001b[1;32m     68\u001b[0m \u001b[38;5;28;01mfinally\u001b[39;00m:\n\u001b[1;32m     69\u001b[0m   \u001b[38;5;28;01mdel\u001b[39;00m filtered_tb\n",
      "File \u001b[0;32m~/anaconda3/envs/py39/lib/python3.9/site-packages/tensorflow/python/framework/ops.py:7186\u001b[0m, in \u001b[0;36mraise_from_not_ok_status\u001b[0;34m(e, name)\u001b[0m\n\u001b[1;32m   7184\u001b[0m \u001b[38;5;28;01mdef\u001b[39;00m \u001b[38;5;21mraise_from_not_ok_status\u001b[39m(e, name):\n\u001b[1;32m   7185\u001b[0m   e\u001b[38;5;241m.\u001b[39mmessage \u001b[38;5;241m+\u001b[39m\u001b[38;5;241m=\u001b[39m (\u001b[38;5;124m\"\u001b[39m\u001b[38;5;124m name: \u001b[39m\u001b[38;5;124m\"\u001b[39m \u001b[38;5;241m+\u001b[39m name \u001b[38;5;28;01mif\u001b[39;00m name \u001b[38;5;129;01mis\u001b[39;00m \u001b[38;5;129;01mnot\u001b[39;00m \u001b[38;5;28;01mNone\u001b[39;00m \u001b[38;5;28;01melse\u001b[39;00m \u001b[38;5;124m\"\u001b[39m\u001b[38;5;124m\"\u001b[39m)\n\u001b[0;32m-> 7186\u001b[0m   \u001b[38;5;28;01mraise\u001b[39;00m core\u001b[38;5;241m.\u001b[39m_status_to_exception(e) \u001b[38;5;28;01mfrom\u001b[39;00m \u001b[38;5;28mNone\u001b[39m\n",
      "\u001b[0;31mResourceExhaustedError\u001b[0m: Exception encountered when calling layer \"conv2d\" (type Conv2D).\n\nOOM when allocating tensor with shape[2837,62,126,32] and type double on /job:localhost/replica:0/task:0/device:CPU:0 by allocator mklcpu [Op:Conv2D]\n\nCall arguments received:\n  • inputs=tf.Tensor(shape=(2837, 64, 128, 1), dtype=float64)"
     ]
    }
   ],
   "source": [
    "#Testowanie sieci z wykorzystaniem zdjęć aktorów \n",
    "act_prob = probability_model(act)"
   ]
  },
  {
   "cell_type": "code",
   "execution_count": null,
   "id": "29f5ab15",
   "metadata": {},
   "outputs": [],
   "source": []
  },
  {
   "cell_type": "code",
   "execution_count": null,
   "id": "992cfbdd",
   "metadata": {},
   "outputs": [],
   "source": []
  },
  {
   "cell_type": "code",
   "execution_count": null,
   "id": "0e1aee07",
   "metadata": {},
   "outputs": [],
   "source": []
  }
 ],
 "metadata": {
  "kernelspec": {
   "display_name": "py39",
   "language": "python",
   "name": "py39"
  },
  "language_info": {
   "codemirror_mode": {
    "name": "ipython",
    "version": 3
   },
   "file_extension": ".py",
   "mimetype": "text/x-python",
   "name": "python",
   "nbconvert_exporter": "python",
   "pygments_lexer": "ipython3",
   "version": "3.9.12"
  }
 },
 "nbformat": 4,
 "nbformat_minor": 5
}
