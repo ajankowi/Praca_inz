{
  "cells": [
    {
      "cell_type": "markdown",
      "metadata": {
        "id": "view-in-github",
        "colab_type": "text"
      },
      "source": [
        "<a href=\"https://colab.research.google.com/github/ajankowi/Praca_inz/blob/master/Siec/.ipynb_checkpoints/Zlaczone_siec_5_Colab_firefox-checkpoint.ipynb\" target=\"_parent\"><img src=\"https://colab.research.google.com/assets/colab-badge.svg\" alt=\"Open In Colab\"/></a>"
      ]
    },
    {
      "cell_type": "code",
      "execution_count": 1,
      "id": "613f08b5",
      "metadata": {
        "colab": {
          "base_uri": "https://localhost:8080/"
        },
        "id": "613f08b5",
        "outputId": "61511ddb-39e7-4da0-c95b-4990aa7d660e"
      },
      "outputs": [
        {
          "output_type": "stream",
          "name": "stdout",
          "text": [
            "3.8.16 (default, Dec  7 2022, 01:12:13) \n",
            "[GCC 7.5.0]\n"
          ]
        }
      ],
      "source": [
        "import sys\n",
        "print(sys.version)"
      ]
    },
    {
      "cell_type": "code",
      "execution_count": 2,
      "id": "iY1o7_NmVlGs",
      "metadata": {
        "id": "iY1o7_NmVlGs",
        "outputId": "92d1f941-295b-4795-f804-a03ae234cf41",
        "colab": {
          "base_uri": "https://localhost:8080/"
        }
      },
      "outputs": [
        {
          "output_type": "stream",
          "name": "stdout",
          "text": [
            "Mounted at /content/drive\n"
          ]
        }
      ],
      "source": [
        "from google.colab import drive\n",
        "drive.mount(\"/content/drive\", force_remount=True)"
      ]
    },
    {
      "cell_type": "code",
      "execution_count": 3,
      "id": "5eca1117",
      "metadata": {
        "colab": {
          "base_uri": "https://localhost:8080/"
        },
        "id": "5eca1117",
        "outputId": "c7ef5979-8acd-4cd1-e3fa-8e3d888c6b3a"
      },
      "outputs": [
        {
          "output_type": "stream",
          "name": "stdout",
          "text": [
            "TensorFlow version: 2.9.2\n"
          ]
        }
      ],
      "source": [
        "import tensorflow as tf\n",
        "from tensorflow import keras\n",
        "from keras import layers, models, regularizers\n",
        "from keras.layers import Flatten, add, Dense, Dropout \n",
        "from keras.callbacks import ModelCheckpoint, EarlyStopping\n",
        "\n",
        "\n",
        "print(\"TensorFlow version:\", tf.__version__)\n",
        "tf.keras.backend.set_floatx('float64')"
      ]
    },
    {
      "cell_type": "code",
      "execution_count": 4,
      "id": "12022d37",
      "metadata": {
        "id": "12022d37"
      },
      "outputs": [],
      "source": [
        "import matplotlib.pyplot as plt\n",
        "import numpy as np\n",
        "import pandas as pd\n",
        "import seaborn as sns\n",
        "from PIL import Image\n",
        "import os\n",
        "import csv\n",
        "import random\n",
        "\n",
        "import cv2\n",
        "import imutils\n",
        "import glob\n",
        "# Make NumPy printouts easier to read.\n",
        "np.set_printoptions(precision=3, suppress=True)"
      ]
    },
    {
      "cell_type": "code",
      "execution_count": 5,
      "id": "1086f893",
      "metadata": {
        "id": "1086f893"
      },
      "outputs": [],
      "source": [
        "#Określenie ścieżek do plików\n",
        "test_zip = '/content/drive/MyDrive/Sieci/Baza_zdjec_zlaczone_2/Test_2.zip'\n",
        "test_csv = 'test_2.csv'\n",
        "\n",
        "valid_zip = '/content/drive/MyDrive/Sieci/Baza_zdjec_zlaczone_2/Valid_2.zip'\n",
        "valid_csv = 'valid_2.csv'\n",
        "\n",
        "train_zip = '/content/drive/MyDrive/Sieci/Baza_zdjec_zlaczone_2/Train_2.zip'\n",
        "train_csv = 'train_2.csv'\n",
        "\n",
        "folder = '/content/drive/MyDrive/Sieci/Baza_zdjec_zlaczone_2/'\n",
        "slesh = '/'\n",
        "png = '.png'"
      ]
    },
    {
      "cell_type": "code",
      "execution_count": 6,
      "id": "FXtX4UDo9x77",
      "metadata": {
        "id": "FXtX4UDo9x77"
      },
      "outputs": [],
      "source": [
        "#!unzip '/content/drive/MyDrive/Sieci/Baza_zdjec_zlaczone_2/Train_2.zip' -d '/content/train_2/'\n",
        "#!unzip '/content/drive/MyDrive/Sieci/Baza_zdjec_zlaczone_2/Valid_2.zip' -d '/content/valid_2/'\n",
        "#!unzip '/content/drive/MyDrive/Sieci/Baza_zdjec_zlaczone_2/Test_2.zip' -d '/content/test_2/'"
      ]
    },
    {
      "cell_type": "code",
      "execution_count": 7,
      "id": "d0329f31",
      "metadata": {
        "id": "d0329f31"
      },
      "outputs": [],
      "source": [
        "def release_list(a):\n",
        "    \n",
        "    del a[:]\n",
        "    del a"
      ]
    },
    {
      "cell_type": "code",
      "execution_count": 8,
      "id": "5beb89e7",
      "metadata": {
        "colab": {
          "base_uri": "https://localhost:8080/"
        },
        "id": "5beb89e7",
        "outputId": "73f33f9b-6294-48c2-b0e1-bf34ae01d56e"
      },
      "outputs": [
        {
          "output_type": "stream",
          "name": "stdout",
          "text": [
            "20160\n"
          ]
        }
      ],
      "source": [
        "#Wczytanie etykiet do treninegu \n",
        "\n",
        "with open(folder+train_csv,\"r\") as csvfile:\n",
        "    lines = csvfile.readlines()\n",
        "csvfile.close()\n",
        "\n",
        "new = []\n",
        "\n",
        "for i in lines:\n",
        "    new.append(i.split(\" \"))\n",
        "\n",
        "    \n",
        "value_train = []\n",
        "for i in new[0]:\n",
        "    value_train.append(int(i))    \n",
        "    \n",
        "print(len(value_train))"
      ]
    },
    {
      "cell_type": "code",
      "source": [
        "#Wczytanie etykiet do treninegu \n",
        "\n",
        "with open(folder+valid_csv,\"r\") as csvfile:\n",
        "    lines = csvfile.readlines()\n",
        "csvfile.close()\n",
        "\n",
        "new = []\n",
        "\n",
        "for i in lines:\n",
        "    new.append(i.split(\" \"))\n",
        "\n",
        "    \n",
        "value_valid = []\n",
        "for i in new[0]:\n",
        "    value_valid.append(int(i))    \n",
        "    \n",
        "print(len(value_valid))"
      ],
      "metadata": {
        "colab": {
          "base_uri": "https://localhost:8080/"
        },
        "id": "u3DiWAjAnIVQ",
        "outputId": "45a8ac05-7dfa-4fe2-c736-408dba18671d"
      },
      "id": "u3DiWAjAnIVQ",
      "execution_count": 9,
      "outputs": [
        {
          "output_type": "stream",
          "name": "stdout",
          "text": [
            "2520\n"
          ]
        }
      ]
    },
    {
      "cell_type": "code",
      "execution_count": 10,
      "id": "_BbuBDFDgvdp",
      "metadata": {
        "colab": {
          "base_uri": "https://localhost:8080/"
        },
        "id": "_BbuBDFDgvdp",
        "outputId": "03ff20bf-a9f8-43fa-c3c3-dead10e0424d"
      },
      "outputs": [
        {
          "output_type": "stream",
          "name": "stdout",
          "text": [
            "2520\n"
          ]
        }
      ],
      "source": [
        "#Wczytanie etykiet do testowania\n",
        "\n",
        "with open(folder+test_csv,\"r\") as csvfile:\n",
        "    lines = csvfile.readlines()\n",
        "csvfile.close()\n",
        "\n",
        "new = []\n",
        "\n",
        "for i in lines:\n",
        "    new.append(i.split(\" \"))\n",
        "\n",
        "    \n",
        "value_test = []\n",
        "for i in new[0]:\n",
        "    value_test.append(int(i))    \n",
        "    \n",
        "print(len(value_test))"
      ]
    },
    {
      "cell_type": "code",
      "execution_count": 11,
      "id": "d9cb09d8",
      "metadata": {
        "colab": {
          "base_uri": "https://localhost:8080/"
        },
        "id": "d9cb09d8",
        "outputId": "70d64ac4-a907-4234-f0cf-fc40ee17c218"
      },
      "outputs": [
        {
          "output_type": "stream",
          "name": "stdout",
          "text": [
            "20160\n"
          ]
        }
      ],
      "source": [
        "#Wczytanie zdjęć treningowych (80% całego zbioru)\n",
        "images_train = []\n",
        "size = len(value_train)\n",
        "\n",
        "for i in range(size):\n",
        "    im = Image.open('/content/train_2/'+str(i)+'.png')\n",
        "    arr_im = np.array(im) \n",
        "    arr_im = arr_im / 255.0\n",
        "    images_train.append(arr_im) \n",
        "print(len(images_train))"
      ]
    },
    {
      "cell_type": "code",
      "source": [
        "#Wczytanie zdjęć walidacyjnych (80% całego zbioru)\n",
        "images_valid = []\n",
        "size = len(value_valid)\n",
        "\n",
        "for i in range(size):\n",
        "    im = Image.open('/content/valid_2/'+str(i)+'.png')\n",
        "    arr_im = np.array(im) \n",
        "    arr_im = arr_im / 255.0\n",
        "    images_valid.append(arr_im) \n",
        "print(len(images_valid))"
      ],
      "metadata": {
        "colab": {
          "base_uri": "https://localhost:8080/"
        },
        "id": "GPT7qvScnYBV",
        "outputId": "ec7e7dd9-2135-4ffb-c228-ce70e7d1e3be"
      },
      "id": "GPT7qvScnYBV",
      "execution_count": 12,
      "outputs": [
        {
          "output_type": "stream",
          "name": "stdout",
          "text": [
            "2520\n"
          ]
        }
      ]
    },
    {
      "cell_type": "code",
      "execution_count": 13,
      "id": "9I51x6abky3Q",
      "metadata": {
        "colab": {
          "base_uri": "https://localhost:8080/"
        },
        "id": "9I51x6abky3Q",
        "outputId": "d9147802-d8c5-4a15-e2f7-688ad2d6f257"
      },
      "outputs": [
        {
          "output_type": "stream",
          "name": "stdout",
          "text": [
            "2520\n"
          ]
        }
      ],
      "source": [
        "#Wczytanie zdjęć testowych (10% całego zbioru)\n",
        "images_test = []\n",
        "size = len(value_test)\n",
        "\n",
        "for i in range(size):\n",
        "    im = Image.open('/content/test_2/'+str(i)+'.png')\n",
        "    arr_im = np.array(im) \n",
        "    arr_im = arr_im / 255.0\n",
        "    images_test.append(arr_im) \n",
        "print(len(images_test))"
      ]
    },
    {
      "cell_type": "code",
      "execution_count": 14,
      "id": "f7f4dd4b",
      "metadata": {
        "id": "f7f4dd4b"
      },
      "outputs": [],
      "source": [
        "x_train = np.array(images_train)\n",
        "x_valid = np.array(images_valid)\n",
        "x_test = np.array(images_test)\n",
        "\n",
        "y_train = np.array(value_train)\n",
        "y_valid = np.array(value_valid)\n",
        "y_test = np.array(value_test)"
      ]
    },
    {
      "cell_type": "code",
      "execution_count": 15,
      "id": "d3a370cb",
      "metadata": {
        "colab": {
          "base_uri": "https://localhost:8080/",
          "height": 235
        },
        "id": "d3a370cb",
        "outputId": "6b6332e6-04f1-4a23-badd-34f5752f24ab"
      },
      "outputs": [
        {
          "output_type": "stream",
          "name": "stdout",
          "text": [
            "0\n"
          ]
        },
        {
          "output_type": "display_data",
          "data": {
            "text/plain": [
              "<Figure size 432x288 with 1 Axes>"
            ],
            "image/png": "[encoded data removed]"
          },
          "metadata": {
            "needs_background": "light"
          }
        }
      ],
      "source": [
        "a = 19000\n",
        "plt.imshow(x_train[a],cmap = 'gray')\n",
        "print(y_train[a])"
      ]
    },
    {
      "cell_type": "code",
      "execution_count": 16,
      "id": "772c7d7c",
      "metadata": {
        "id": "772c7d7c"
      },
      "outputs": [],
      "source": [
        "model = models.Sequential()\n",
        "model.add(layers.Conv2D(32, (3, 3), activation='relu', input_shape=(64, 128, 1)))\n",
        "model.add(layers.MaxPooling2D((2, 2)))\n",
        "model.add(layers.Conv2D(32, (3, 3), activation='relu'))\n",
        "model.add(layers.MaxPooling2D((2, 2)))\n",
        "\n",
        "model.add(layers.BatchNormalization())\n",
        "\n",
        "model.add(layers.Conv2D(64, (3, 3), activation='relu'))\n",
        "model.add(layers.MaxPooling2D((2, 2)))\n",
        "model.add(layers.Conv2D(64, (3, 3), activation='relu'))\n",
        "model.add(layers.MaxPooling2D((2, 2)))\n",
        "\n",
        "\n",
        "model.add(layers.BatchNormalization())\n",
        "\n",
        "model.add(layers.Flatten())\n",
        "model.add(layers.Dense(64, activation='relu'))\n",
        "model.add(layers.Dense(1, activation='relu'))"
      ]
    },
    {
      "cell_type": "code",
      "execution_count": 17,
      "id": "b86f72df",
      "metadata": {
        "colab": {
          "base_uri": "https://localhost:8080/"
        },
        "id": "b86f72df",
        "outputId": "ebcfc987-fe94-4522-913f-cf0d9ff372bb"
      },
      "outputs": [
        {
          "output_type": "stream",
          "name": "stdout",
          "text": [
            "Model: \"sequential\"\n",
            "_________________________________________________________________\n",
            " Layer (type)                Output Shape              Param #   \n",
            "=================================================================\n",
            " conv2d (Conv2D)             (None, 62, 126, 32)       320       \n",
            "                                                                 \n",
            " max_pooling2d (MaxPooling2D  (None, 31, 63, 32)       0         \n",
            " )                                                               \n",
            "                                                                 \n",
            " conv2d_1 (Conv2D)           (None, 29, 61, 32)        9248      \n",
            "                                                                 \n",
            " max_pooling2d_1 (MaxPooling  (None, 14, 30, 32)       0         \n",
            " 2D)                                                             \n",
            "                                                                 \n",
            " batch_normalization (BatchN  (None, 14, 30, 32)       128       \n",
            " ormalization)                                                   \n",
            "                                                                 \n",
            " conv2d_2 (Conv2D)           (None, 12, 28, 64)        18496     \n",
            "                                                                 \n",
            " max_pooling2d_2 (MaxPooling  (None, 6, 14, 64)        0         \n",
            " 2D)                                                             \n",
            "                                                                 \n",
            " conv2d_3 (Conv2D)           (None, 4, 12, 64)         36928     \n",
            "                                                                 \n",
            " max_pooling2d_3 (MaxPooling  (None, 2, 6, 64)         0         \n",
            " 2D)                                                             \n",
            "                                                                 \n",
            " batch_normalization_1 (Batc  (None, 2, 6, 64)         256       \n",
            " hNormalization)                                                 \n",
            "                                                                 \n",
            " flatten (Flatten)           (None, 768)               0         \n",
            "                                                                 \n",
            " dense (Dense)               (None, 64)                49216     \n",
            "                                                                 \n",
            " dense_1 (Dense)             (None, 1)                 65        \n",
            "                                                                 \n",
            "=================================================================\n",
            "Total params: 114,657\n",
            "Trainable params: 114,465\n",
            "Non-trainable params: 192\n",
            "_________________________________________________________________\n"
          ]
        }
      ],
      "source": [
        "model.summary()"
      ]
    },
    {
      "cell_type": "code",
      "execution_count": 18,
      "id": "9beb77e5",
      "metadata": {
        "colab": {
          "base_uri": "https://localhost:8080/"
        },
        "id": "9beb77e5",
        "outputId": "b5fdc438-97ee-4506-f596-c1121a204b91"
      },
      "outputs": [
        {
          "output_type": "stream",
          "name": "stdout",
          "text": [
            "Epoch 1/100\n",
            "158/158 [==============================] - 28s 153ms/step - loss: 0.0928 - accuracy: 0.9072 - mse: 0.0928 - val_loss: 0.2651 - val_accuracy: 0.5492 - val_mse: 0.2651\n",
            "Epoch 2/100\n",
            "158/158 [==============================] - 23s 148ms/step - loss: 0.0128 - accuracy: 0.9968 - mse: 0.0128 - val_loss: 0.3396 - val_accuracy: 0.5754 - val_mse: 0.3396\n",
            "Epoch 3/100\n",
            "158/158 [==============================] - 24s 152ms/step - loss: 0.0059 - accuracy: 0.9996 - mse: 0.0059 - val_loss: 0.3952 - val_accuracy: 0.6579 - val_mse: 0.3952\n",
            "Epoch 4/100\n",
            "158/158 [==============================] - 23s 147ms/step - loss: 0.0036 - accuracy: 0.9999 - mse: 0.0036 - val_loss: 0.1377 - val_accuracy: 0.8544 - val_mse: 0.1377\n",
            "Epoch 5/100\n",
            "158/158 [==============================] - 24s 149ms/step - loss: 0.0024 - accuracy: 1.0000 - mse: 0.0024 - val_loss: 0.1288 - val_accuracy: 0.8556 - val_mse: 0.1288\n",
            "Epoch 6/100\n",
            "158/158 [==============================] - 23s 149ms/step - loss: 0.0021 - accuracy: 1.0000 - mse: 0.0021 - val_loss: 0.1275 - val_accuracy: 0.8429 - val_mse: 0.1275\n",
            "Epoch 7/100\n",
            "158/158 [==============================] - 24s 149ms/step - loss: 0.0017 - accuracy: 1.0000 - mse: 0.0017 - val_loss: 0.1166 - val_accuracy: 0.8579 - val_mse: 0.1166\n",
            "Epoch 8/100\n",
            "158/158 [==============================] - 23s 148ms/step - loss: 0.0014 - accuracy: 1.0000 - mse: 0.0014 - val_loss: 0.1141 - val_accuracy: 0.8599 - val_mse: 0.1141\n",
            "Epoch 9/100\n",
            "158/158 [==============================] - 23s 146ms/step - loss: 9.8976e-04 - accuracy: 1.0000 - mse: 9.8976e-04 - val_loss: 0.1289 - val_accuracy: 0.8464 - val_mse: 0.1289\n",
            "Epoch 10/100\n",
            "158/158 [==============================] - 23s 146ms/step - loss: 8.9996e-04 - accuracy: 1.0000 - mse: 8.9996e-04 - val_loss: 0.1197 - val_accuracy: 0.8575 - val_mse: 0.1197\n",
            "Epoch 11/100\n",
            "158/158 [==============================] - 23s 148ms/step - loss: 8.3103e-04 - accuracy: 1.0000 - mse: 8.3103e-04 - val_loss: 0.1138 - val_accuracy: 0.8560 - val_mse: 0.1138\n",
            "Epoch 12/100\n",
            "158/158 [==============================] - 23s 146ms/step - loss: 6.9996e-04 - accuracy: 1.0000 - mse: 6.9996e-04 - val_loss: 0.1178 - val_accuracy: 0.8552 - val_mse: 0.1178\n",
            "Epoch 13/100\n",
            "158/158 [==============================] - 23s 146ms/step - loss: 6.6574e-04 - accuracy: 1.0000 - mse: 6.6574e-04 - val_loss: 0.1282 - val_accuracy: 0.8417 - val_mse: 0.1282\n",
            "Epoch 14/100\n",
            "158/158 [==============================] - 23s 149ms/step - loss: 5.3807e-04 - accuracy: 1.0000 - mse: 5.3807e-04 - val_loss: 0.1076 - val_accuracy: 0.8683 - val_mse: 0.1076\n",
            "Epoch 15/100\n",
            "158/158 [==============================] - 23s 146ms/step - loss: 5.0845e-04 - accuracy: 1.0000 - mse: 5.0845e-04 - val_loss: 0.1190 - val_accuracy: 0.8500 - val_mse: 0.1190\n",
            "Epoch 16/100\n",
            "158/158 [==============================] - 23s 147ms/step - loss: 5.6486e-04 - accuracy: 1.0000 - mse: 5.6486e-04 - val_loss: 0.1301 - val_accuracy: 0.8357 - val_mse: 0.1301\n",
            "Epoch 17/100\n",
            "158/158 [==============================] - 23s 147ms/step - loss: 5.5089e-04 - accuracy: 1.0000 - mse: 5.5089e-04 - val_loss: 0.1250 - val_accuracy: 0.8341 - val_mse: 0.1250\n",
            "Epoch 18/100\n",
            "158/158 [==============================] - 23s 146ms/step - loss: 4.4081e-04 - accuracy: 1.0000 - mse: 4.4081e-04 - val_loss: 0.1084 - val_accuracy: 0.8690 - val_mse: 0.1084\n",
            "Epoch 19/100\n",
            "158/158 [==============================] - 23s 146ms/step - loss: 3.1141e-04 - accuracy: 1.0000 - mse: 3.1141e-04 - val_loss: 0.1205 - val_accuracy: 0.8437 - val_mse: 0.1205\n",
            "Epoch 20/100\n",
            "158/158 [==============================] - 23s 148ms/step - loss: 3.3728e-04 - accuracy: 1.0000 - mse: 3.3728e-04 - val_loss: 0.1035 - val_accuracy: 0.8694 - val_mse: 0.1035\n",
            "Epoch 21/100\n",
            "158/158 [==============================] - 23s 146ms/step - loss: 3.2419e-04 - accuracy: 1.0000 - mse: 3.2419e-04 - val_loss: 0.1150 - val_accuracy: 0.8472 - val_mse: 0.1150\n",
            "Epoch 22/100\n",
            "158/158 [==============================] - 23s 146ms/step - loss: 6.5360e-04 - accuracy: 1.0000 - mse: 6.5360e-04 - val_loss: 0.1111 - val_accuracy: 0.8679 - val_mse: 0.1111\n",
            "Epoch 23/100\n",
            "158/158 [==============================] - 23s 146ms/step - loss: 0.0028 - accuracy: 0.9993 - mse: 0.0028 - val_loss: 0.1059 - val_accuracy: 0.8730 - val_mse: 0.1059\n",
            "Epoch 24/100\n",
            "158/158 [==============================] - 23s 148ms/step - loss: 0.0021 - accuracy: 0.9992 - mse: 0.0021 - val_loss: 0.0733 - val_accuracy: 0.9099 - val_mse: 0.0733\n",
            "Epoch 25/100\n",
            "158/158 [==============================] - 23s 148ms/step - loss: 9.0215e-04 - accuracy: 0.9998 - mse: 9.0215e-04 - val_loss: 0.0637 - val_accuracy: 0.9151 - val_mse: 0.0637\n",
            "Epoch 26/100\n",
            "158/158 [==============================] - 23s 147ms/step - loss: 2.6344e-04 - accuracy: 1.0000 - mse: 2.6344e-04 - val_loss: 0.0754 - val_accuracy: 0.9012 - val_mse: 0.0754\n",
            "Epoch 27/100\n",
            "158/158 [==============================] - 23s 146ms/step - loss: 1.7791e-04 - accuracy: 1.0000 - mse: 1.7791e-04 - val_loss: 0.0830 - val_accuracy: 0.8940 - val_mse: 0.0830\n",
            "Epoch 28/100\n",
            "158/158 [==============================] - 23s 146ms/step - loss: 2.1572e-04 - accuracy: 1.0000 - mse: 2.1572e-04 - val_loss: 0.0855 - val_accuracy: 0.8837 - val_mse: 0.0855\n",
            "Epoch 29/100\n",
            "158/158 [==============================] - 23s 146ms/step - loss: 1.3959e-04 - accuracy: 1.0000 - mse: 1.3959e-04 - val_loss: 0.0788 - val_accuracy: 0.8956 - val_mse: 0.0788\n",
            "Epoch 30/100\n",
            "158/158 [==============================] - 23s 146ms/step - loss: 1.3894e-04 - accuracy: 1.0000 - mse: 1.3894e-04 - val_loss: 0.0844 - val_accuracy: 0.8889 - val_mse: 0.0844\n",
            "Epoch 31/100\n",
            "158/158 [==============================] - 23s 146ms/step - loss: 1.1949e-04 - accuracy: 1.0000 - mse: 1.1949e-04 - val_loss: 0.0839 - val_accuracy: 0.8929 - val_mse: 0.0839\n",
            "Epoch 32/100\n",
            "158/158 [==============================] - 23s 146ms/step - loss: 2.6281e-04 - accuracy: 1.0000 - mse: 2.6281e-04 - val_loss: 0.0682 - val_accuracy: 0.9056 - val_mse: 0.0682\n",
            "Epoch 33/100\n",
            "158/158 [==============================] - 23s 146ms/step - loss: 2.0500e-04 - accuracy: 1.0000 - mse: 2.0500e-04 - val_loss: 0.0646 - val_accuracy: 0.9143 - val_mse: 0.0646\n",
            "Epoch 34/100\n",
            "158/158 [==============================] - 23s 149ms/step - loss: 1.1725e-04 - accuracy: 1.0000 - mse: 1.1725e-04 - val_loss: 0.0611 - val_accuracy: 0.9183 - val_mse: 0.0611\n",
            "Epoch 35/100\n",
            "158/158 [==============================] - 23s 146ms/step - loss: 1.2359e-04 - accuracy: 1.0000 - mse: 1.2359e-04 - val_loss: 0.0650 - val_accuracy: 0.9163 - val_mse: 0.0650\n",
            "Epoch 36/100\n",
            "158/158 [==============================] - 23s 147ms/step - loss: 9.8508e-05 - accuracy: 1.0000 - mse: 9.8508e-05 - val_loss: 0.0711 - val_accuracy: 0.9056 - val_mse: 0.0711\n",
            "Epoch 37/100\n",
            "158/158 [==============================] - 23s 146ms/step - loss: 1.2257e-04 - accuracy: 1.0000 - mse: 1.2257e-04 - val_loss: 0.0652 - val_accuracy: 0.9119 - val_mse: 0.0652\n",
            "Epoch 38/100\n",
            "158/158 [==============================] - 23s 146ms/step - loss: 8.3281e-05 - accuracy: 1.0000 - mse: 8.3281e-05 - val_loss: 0.0709 - val_accuracy: 0.9020 - val_mse: 0.0709\n",
            "Epoch 39/100\n",
            "158/158 [==============================] - 23s 146ms/step - loss: 9.0947e-05 - accuracy: 1.0000 - mse: 9.0947e-05 - val_loss: 0.0670 - val_accuracy: 0.9103 - val_mse: 0.0670\n",
            "Epoch 40/100\n",
            "158/158 [==============================] - 23s 145ms/step - loss: 0.0061 - accuracy: 0.9952 - mse: 0.0061 - val_loss: 0.4890 - val_accuracy: 0.5008 - val_mse: 0.4890\n",
            "Epoch 41/100\n",
            "158/158 [==============================] - 23s 147ms/step - loss: 0.0012 - accuracy: 0.9993 - mse: 0.0012 - val_loss: 0.0571 - val_accuracy: 0.9226 - val_mse: 0.0571\n",
            "Epoch 42/100\n",
            "158/158 [==============================] - 23s 145ms/step - loss: 3.5692e-04 - accuracy: 1.0000 - mse: 3.5692e-04 - val_loss: 0.0604 - val_accuracy: 0.9278 - val_mse: 0.0604\n",
            "Epoch 43/100\n",
            "158/158 [==============================] - 23s 145ms/step - loss: 1.4626e-04 - accuracy: 1.0000 - mse: 1.4626e-04 - val_loss: 0.0662 - val_accuracy: 0.9234 - val_mse: 0.0662\n",
            "Epoch 44/100\n",
            "158/158 [==============================] - 23s 147ms/step - loss: 1.2444e-04 - accuracy: 1.0000 - mse: 1.2444e-04 - val_loss: 0.0660 - val_accuracy: 0.9210 - val_mse: 0.0660\n",
            "Epoch 45/100\n",
            "158/158 [==============================] - 23s 146ms/step - loss: 9.1010e-05 - accuracy: 1.0000 - mse: 9.1010e-05 - val_loss: 0.0655 - val_accuracy: 0.9198 - val_mse: 0.0655\n",
            "Epoch 46/100\n",
            "158/158 [==============================] - 23s 146ms/step - loss: 9.3481e-05 - accuracy: 1.0000 - mse: 9.3481e-05 - val_loss: 0.0665 - val_accuracy: 0.9190 - val_mse: 0.0665\n",
            "Epoch 47/100\n",
            "158/158 [==============================] - 23s 146ms/step - loss: 7.5958e-05 - accuracy: 1.0000 - mse: 7.5958e-05 - val_loss: 0.0653 - val_accuracy: 0.9202 - val_mse: 0.0653\n",
            "Epoch 48/100\n",
            "158/158 [==============================] - 23s 146ms/step - loss: 5.8786e-05 - accuracy: 1.0000 - mse: 5.8786e-05 - val_loss: 0.0684 - val_accuracy: 0.9163 - val_mse: 0.0684\n",
            "Epoch 49/100\n",
            "158/158 [==============================] - 23s 146ms/step - loss: 1.1550e-04 - accuracy: 1.0000 - mse: 1.1550e-04 - val_loss: 0.0654 - val_accuracy: 0.9175 - val_mse: 0.0654\n",
            "Epoch 50/100\n",
            "158/158 [==============================] - 23s 146ms/step - loss: 7.7658e-05 - accuracy: 1.0000 - mse: 7.7658e-05 - val_loss: 0.0706 - val_accuracy: 0.9123 - val_mse: 0.0706\n",
            "Epoch 51/100\n",
            "158/158 [==============================] - 23s 146ms/step - loss: 5.9518e-05 - accuracy: 1.0000 - mse: 5.9518e-05 - val_loss: 0.0692 - val_accuracy: 0.9131 - val_mse: 0.0692\n",
            "Epoch 51: early stopping\n"
          ]
        }
      ],
      "source": [
        "model.compile(optimizer='adam',\n",
        "              loss='mse',\n",
        "              metrics=['accuracy','mse'])\n",
        "\n",
        "#Funckja umożliwia zatrzymanie się uczenia \n",
        "#gdy wartość strat przstanie maleć\n",
        "EarlyStop = EarlyStopping(monitor='val_loss',  \n",
        "                          verbose=1, \n",
        "                          patience=10)\n",
        "\n",
        "\n",
        "ModelCheck = ModelCheckpoint(filepath='/content/drive/MyDrive/Sieci/Zlaczone_firefox_2.h5',\n",
        "                             monitor='val_loss',\n",
        "                             save_best_only=True)\n",
        "\n",
        "\n",
        "history = model.fit(x=x_train, \n",
        "                    y=y_train, \n",
        "                    epochs=100,\n",
        "                    batch_size=128,\n",
        "                    #validation_split=0.1,\n",
        "                    validation_data=(x_valid, y_valid),\n",
        "                    callbacks = [EarlyStop, ModelCheck]\n",
        "                   )"
      ]
    },
    {
      "cell_type": "code",
      "execution_count": 19,
      "id": "fe8633db",
      "metadata": {
        "colab": {
          "base_uri": "https://localhost:8080/",
          "height": 300
        },
        "id": "fe8633db",
        "outputId": "7a8f9231-d069-45cd-e5c6-3abe522ca76a"
      },
      "outputs": [
        {
          "output_type": "execute_result",
          "data": {
            "text/plain": [
              "<matplotlib.legend.Legend at 0x7f80205309d0>"
            ]
          },
          "metadata": {},
          "execution_count": 19
        },
        {
          "output_type": "display_data",
          "data": {
            "text/plain": [
              "<Figure size 432x288 with 1 Axes>"
            ],
            "image/png": "[encoded data removed]"
          },
          "metadata": {
            "needs_background": "light"
          }
        }
      ],
      "source": [
        "plt.plot(history.history['loss'], label='strata')\n",
        "plt.plot(history.history['val_loss'], label = 'strata walidacyjna')\n",
        "plt.xlabel('Epoka')\n",
        "plt.ylabel('Strata')\n",
        "plt.ylim([0.0, 0.5])\n",
        "plt.legend(loc='upper right')"
      ]
    },
    {
      "cell_type": "code",
      "execution_count": 20,
      "id": "8b976089",
      "metadata": {
        "colab": {
          "base_uri": "https://localhost:8080/",
          "height": 300
        },
        "id": "8b976089",
        "outputId": "d7bb6994-03d9-4f60-df8c-ce3a114d5629",
        "scrolled": true
      },
      "outputs": [
        {
          "output_type": "execute_result",
          "data": {
            "text/plain": [
              "<matplotlib.legend.Legend at 0x7f80200b12e0>"
            ]
          },
          "metadata": {},
          "execution_count": 20
        },
        {
          "output_type": "display_data",
          "data": {
            "text/plain": [
              "<Figure size 432x288 with 1 Axes>"
            ],
            "image/png": "[encoded data removed]"
          },
          "metadata": {
            "needs_background": "light"
          }
        }
      ],
      "source": [
        "plt.plot(history.history['accuracy'], label='precyzja')\n",
        "plt.plot(history.history['val_accuracy'], label = 'precyzja walidacyjna')\n",
        "plt.xlabel('Epoka')\n",
        "plt.ylabel('Precyzja')\n",
        "plt.ylim([0.5, 1])\n",
        "plt.legend(loc='lower right')"
      ]
    },
    {
      "cell_type": "code",
      "execution_count": 21,
      "id": "HWqm9BVzLHfw",
      "metadata": {
        "id": "HWqm9BVzLHfw"
      },
      "outputs": [],
      "source": [
        "best_model = tf.keras.models.load_model('/content/drive/MyDrive/Sieci/Zlaczone_firefox_2.h5')\n"
      ]
    },
    {
      "cell_type": "code",
      "execution_count": 22,
      "id": "685a286c",
      "metadata": {
        "colab": {
          "base_uri": "https://localhost:8080/"
        },
        "id": "685a286c",
        "outputId": "20856693-23ed-4385-d4a9-f11882234b6a"
      },
      "outputs": [
        {
          "output_type": "stream",
          "name": "stdout",
          "text": [
            "79/79 - 2s - loss: 0.1278 - accuracy: 0.8329 - mse: 0.1278 - 2s/epoch - 19ms/step\n"
          ]
        },
        {
          "output_type": "execute_result",
          "data": {
            "text/plain": [
              "[0.12779131301756333, 0.832936507936508, 0.12779131301756333]"
            ]
          },
          "metadata": {},
          "execution_count": 22
        }
      ],
      "source": [
        "best_model.evaluate(x_test,  y_test, verbose=2)"
      ]
    },
    {
      "cell_type": "code",
      "execution_count": 23,
      "id": "ee941c13",
      "metadata": {
        "colab": {
          "base_uri": "https://localhost:8080/"
        },
        "id": "ee941c13",
        "outputId": "ad159951-4028-4b45-f80a-8fc96d7811ac"
      },
      "outputs": [
        {
          "output_type": "stream",
          "name": "stdout",
          "text": [
            "79/79 [==============================] - 1s 12ms/step\n"
          ]
        }
      ],
      "source": [
        "predict_x = best_model.predict(x_test) \n",
        "\n",
        "predictions = (predict_x > 0.5).astype(\"int32\")"
      ]
    },
    {
      "cell_type": "code",
      "execution_count": 24,
      "id": "d8fb12f1",
      "metadata": {
        "colab": {
          "base_uri": "https://localhost:8080/"
        },
        "id": "d8fb12f1",
        "outputId": "410e26b3-0b97-46a1-ef37-7be7e322b8dd"
      },
      "outputs": [
        {
          "output_type": "stream",
          "name": "stdout",
          "text": [
            "[['Tn' 'Nn']\n",
            " ['Np' 'Tp']]\n",
            "tf.Tensor(\n",
            "[[ 853  407]\n",
            " [  14 1246]], shape=(2, 2), dtype=int32)\n"
          ]
        }
      ],
      "source": [
        "names = [['Tn','Nn'],['Np', 'Tp']]\n",
        "names = np.reshape(names,(2,2))\n",
        "print(names)\n",
        "\n",
        "conf = tf.math.confusion_matrix(y_test,predictions)\n",
        "\n",
        "print(conf)"
      ]
    }
  ],
  "metadata": {
    "accelerator": "GPU",
    "colab": {
      "provenance": [],
      "include_colab_link": true
    },
    "gpuClass": "standard",
    "kernelspec": {
      "display_name": "py39",
      "language": "python",
      "name": "py39"
    },
    "language_info": {
      "codemirror_mode": {
        "name": "ipython",
        "version": 3
      },
      "file_extension": ".py",
      "mimetype": "text/x-python",
      "name": "python",
      "nbconvert_exporter": "python",
      "pygments_lexer": "ipython3",
      "version": "3.9.12"
    }
  },
  "nbformat": 4,
  "nbformat_minor": 5
}