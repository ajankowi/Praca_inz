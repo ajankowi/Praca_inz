{
  "cells": [
    {
      "cell_type": "markdown",
      "metadata": {
        "id": "view-in-github",
        "colab_type": "text"
      },
      "source": [
        "<a href=\"https://colab.research.google.com/github/ajankowi/Praca_inz/blob/master/Siec/.ipynb_checkpoints/Zlaczone_siec_5_Colab_firefox-checkpoint.ipynb\" target=\"_parent\"><img src=\"https://colab.research.google.com/assets/colab-badge.svg\" alt=\"Open In Colab\"/></a>"
      ]
    },
    {
      "cell_type": "code",
      "execution_count": 1,
      "id": "613f08b5",
      "metadata": {
        "colab": {
          "base_uri": "https://localhost:8080/"
        },
        "id": "613f08b5",
        "outputId": "a82b0b51-326e-4315-a766-4320b3606402"
      },
      "outputs": [
        {
          "output_type": "stream",
          "name": "stdout",
          "text": [
            "3.8.16 (default, Dec  7 2022, 01:12:13) \n",
            "[GCC 7.5.0]\n"
          ]
        }
      ],
      "source": [
        "import sys\n",
        "print(sys.version)"
      ]
    },
    {
      "cell_type": "code",
      "execution_count": 2,
      "id": "iY1o7_NmVlGs",
      "metadata": {
        "id": "iY1o7_NmVlGs",
        "outputId": "de3a7413-577d-4fa0-d5cb-d113a71d3605",
        "colab": {
          "base_uri": "https://localhost:8080/"
        }
      },
      "outputs": [
        {
          "output_type": "stream",
          "name": "stdout",
          "text": [
            "Mounted at /content/drive\n"
          ]
        }
      ],
      "source": [
        "from google.colab import drive\n",
        "drive.mount(\"/content/drive\", force_remount=True)"
      ]
    },
    {
      "cell_type": "code",
      "execution_count": 3,
      "id": "5eca1117",
      "metadata": {
        "colab": {
          "base_uri": "https://localhost:8080/"
        },
        "id": "5eca1117",
        "outputId": "9a0ec832-036c-479f-ecb5-3ef6ee9a3ea3"
      },
      "outputs": [
        {
          "output_type": "stream",
          "name": "stdout",
          "text": [
            "TensorFlow version: 2.9.2\n"
          ]
        }
      ],
      "source": [
        "import tensorflow as tf\n",
        "from tensorflow import keras\n",
        "from keras import layers, models, regularizers\n",
        "from keras.layers import Flatten, add, Dense, Dropout \n",
        "from keras.callbacks import ModelCheckpoint, EarlyStopping\n",
        "\n",
        "\n",
        "print(\"TensorFlow version:\", tf.__version__)\n",
        "tf.keras.backend.set_floatx('float64')"
      ]
    },
    {
      "cell_type": "code",
      "execution_count": 4,
      "id": "12022d37",
      "metadata": {
        "id": "12022d37"
      },
      "outputs": [],
      "source": [
        "import matplotlib.pyplot as plt\n",
        "import numpy as np\n",
        "import pandas as pd\n",
        "import seaborn as sns\n",
        "from PIL import Image\n",
        "import os\n",
        "import csv\n",
        "import random\n",
        "\n",
        "import cv2\n",
        "import imutils\n",
        "import glob\n",
        "# Make NumPy printouts easier to read.\n",
        "np.set_printoptions(precision=3, suppress=True)"
      ]
    },
    {
      "cell_type": "code",
      "execution_count": 5,
      "id": "1086f893",
      "metadata": {
        "id": "1086f893"
      },
      "outputs": [],
      "source": [
        "#Określenie ścieżek do plików\n",
        "test_zip = '/content/drive/MyDrive/Sieci/Baza_zdjec_zlaczone_2/Test_2.zip'\n",
        "test_csv = 'test_2.csv'\n",
        "\n",
        "valid_zip = '/content/drive/MyDrive/Sieci/Baza_zdjec_zlaczone_2/Valid_2.zip'\n",
        "valid_csv = 'valid_2.csv'\n",
        "\n",
        "train_zip = '/content/drive/MyDrive/Sieci/Baza_zdjec_zlaczone_2/Train_2.zip'\n",
        "train_csv = 'train_2.csv'\n",
        "\n",
        "folder = '/content/drive/MyDrive/Sieci/Baza_zdjec_zlaczone_2/'\n",
        "slesh = '/'\n",
        "png = '.png'"
      ]
    },
    {
      "cell_type": "code",
      "execution_count": 6,
      "id": "FXtX4UDo9x77",
      "metadata": {
        "id": "FXtX4UDo9x77"
      },
      "outputs": [],
      "source": [
        "#!unzip '/content/drive/MyDrive/Sieci/Baza_zdjec_zlaczone_2/Train_2.zip' -d '/content/train_2/'\n",
        "#!unzip '/content/drive/MyDrive/Sieci/Baza_zdjec_zlaczone_2/Valid_2.zip' -d '/content/valid_2/'\n",
        "#!unzip '/content/drive/MyDrive/Sieci/Baza_zdjec_zlaczone_2/Test_2.zip' -d '/content/test_2/'"
      ]
    },
    {
      "cell_type": "code",
      "execution_count": 7,
      "id": "d0329f31",
      "metadata": {
        "id": "d0329f31"
      },
      "outputs": [],
      "source": [
        "def release_list(a):\n",
        "    \n",
        "    del a[:]\n",
        "    del a"
      ]
    },
    {
      "cell_type": "code",
      "execution_count": 8,
      "id": "5beb89e7",
      "metadata": {
        "colab": {
          "base_uri": "https://localhost:8080/"
        },
        "id": "5beb89e7",
        "outputId": "50c1f706-d52c-47a3-9af4-96ad5c83c3b8"
      },
      "outputs": [
        {
          "output_type": "stream",
          "name": "stdout",
          "text": [
            "20160\n"
          ]
        }
      ],
      "source": [
        "#Wczytanie etykiet do treninegu \n",
        "\n",
        "with open(folder+train_csv,\"r\") as csvfile:\n",
        "    lines = csvfile.readlines()\n",
        "csvfile.close()\n",
        "\n",
        "new = []\n",
        "\n",
        "for i in lines:\n",
        "    new.append(i.split(\" \"))\n",
        "\n",
        "    \n",
        "value_train = []\n",
        "for i in new[0]:\n",
        "    value_train.append(int(i))    \n",
        "    \n",
        "print(len(value_train))"
      ]
    },
    {
      "cell_type": "code",
      "source": [
        "#Wczytanie etykiet do treninegu \n",
        "\n",
        "with open(folder+valid_csv,\"r\") as csvfile:\n",
        "    lines = csvfile.readlines()\n",
        "csvfile.close()\n",
        "\n",
        "new = []\n",
        "\n",
        "for i in lines:\n",
        "    new.append(i.split(\" \"))\n",
        "\n",
        "    \n",
        "value_valid = []\n",
        "for i in new[0]:\n",
        "    value_valid.append(int(i))    \n",
        "    \n",
        "print(len(value_valid))"
      ],
      "metadata": {
        "colab": {
          "base_uri": "https://localhost:8080/"
        },
        "id": "u3DiWAjAnIVQ",
        "outputId": "e56179b9-7c74-460c-9995-d19edff92f03"
      },
      "id": "u3DiWAjAnIVQ",
      "execution_count": 9,
      "outputs": [
        {
          "output_type": "stream",
          "name": "stdout",
          "text": [
            "2520\n"
          ]
        }
      ]
    },
    {
      "cell_type": "code",
      "execution_count": 10,
      "id": "_BbuBDFDgvdp",
      "metadata": {
        "colab": {
          "base_uri": "https://localhost:8080/"
        },
        "id": "_BbuBDFDgvdp",
        "outputId": "70ba17fe-5d67-4fef-e833-6bf63c6f4aae"
      },
      "outputs": [
        {
          "output_type": "stream",
          "name": "stdout",
          "text": [
            "2520\n"
          ]
        }
      ],
      "source": [
        "#Wczytanie etykiet do testowania\n",
        "\n",
        "with open(folder+test_csv,\"r\") as csvfile:\n",
        "    lines = csvfile.readlines()\n",
        "csvfile.close()\n",
        "\n",
        "new = []\n",
        "\n",
        "for i in lines:\n",
        "    new.append(i.split(\" \"))\n",
        "\n",
        "    \n",
        "value_test = []\n",
        "for i in new[0]:\n",
        "    value_test.append(int(i))    \n",
        "    \n",
        "print(len(value_test))"
      ]
    },
    {
      "cell_type": "code",
      "execution_count": 11,
      "id": "d9cb09d8",
      "metadata": {
        "colab": {
          "base_uri": "https://localhost:8080/"
        },
        "id": "d9cb09d8",
        "outputId": "4cdd4a57-0f0c-4f33-8d37-b9a344fc185d"
      },
      "outputs": [
        {
          "output_type": "stream",
          "name": "stdout",
          "text": [
            "20160\n"
          ]
        }
      ],
      "source": [
        "#Wczytanie zdjęć treningowych (80% całego zbioru)\n",
        "images_train = []\n",
        "size = len(value_train)\n",
        "\n",
        "for i in range(size):\n",
        "    im = Image.open('/content/train_2/'+str(i)+'.png')\n",
        "    arr_im = np.array(im) \n",
        "    arr_im = arr_im / 255.0\n",
        "    images_train.append(arr_im) \n",
        "print(len(images_train))"
      ]
    },
    {
      "cell_type": "code",
      "source": [
        "#Wczytanie zdjęć walidacyjnych (80% całego zbioru)\n",
        "images_valid = []\n",
        "size = len(value_valid)\n",
        "\n",
        "for i in range(size):\n",
        "    im = Image.open('/content/valid_2/'+str(i)+'.png')\n",
        "    arr_im = np.array(im) \n",
        "    arr_im = arr_im / 255.0\n",
        "    images_valid.append(arr_im) \n",
        "print(len(images_valid))"
      ],
      "metadata": {
        "colab": {
          "base_uri": "https://localhost:8080/"
        },
        "id": "GPT7qvScnYBV",
        "outputId": "71bbf63a-1e87-4a43-e3e0-b861554e54d6"
      },
      "id": "GPT7qvScnYBV",
      "execution_count": 12,
      "outputs": [
        {
          "output_type": "stream",
          "name": "stdout",
          "text": [
            "2520\n"
          ]
        }
      ]
    },
    {
      "cell_type": "code",
      "execution_count": 13,
      "id": "9I51x6abky3Q",
      "metadata": {
        "colab": {
          "base_uri": "https://localhost:8080/"
        },
        "id": "9I51x6abky3Q",
        "outputId": "32d20bb7-d889-4d76-9773-11a15068c3de"
      },
      "outputs": [
        {
          "output_type": "stream",
          "name": "stdout",
          "text": [
            "2520\n"
          ]
        }
      ],
      "source": [
        "#Wczytanie zdjęć testowych (10% całego zbioru)\n",
        "images_test = []\n",
        "size = len(value_test)\n",
        "\n",
        "for i in range(size):\n",
        "    im = Image.open('/content/test_2/'+str(i)+'.png')\n",
        "    arr_im = np.array(im) \n",
        "    arr_im = arr_im / 255.0\n",
        "    images_test.append(arr_im) \n",
        "print(len(images_test))"
      ]
    },
    {
      "cell_type": "code",
      "execution_count": 14,
      "id": "f7f4dd4b",
      "metadata": {
        "id": "f7f4dd4b"
      },
      "outputs": [],
      "source": [
        "x_train = np.array(images_train)\n",
        "x_valid = np.array(images_valid)\n",
        "x_test = np.array(images_test)\n",
        "\n",
        "y_train = np.array(value_train)\n",
        "y_valid = np.array(value_valid)\n",
        "y_test = np.array(value_test)"
      ]
    },
    {
      "cell_type": "code",
      "execution_count": 15,
      "id": "d3a370cb",
      "metadata": {
        "colab": {
          "base_uri": "https://localhost:8080/",
          "height": 235
        },
        "id": "d3a370cb",
        "outputId": "1e5577d5-269a-48c8-8440-8023b64b1de8"
      },
      "outputs": [
        {
          "output_type": "stream",
          "name": "stdout",
          "text": [
            "0\n"
          ]
        },
        {
          "output_type": "display_data",
          "data": {
            "text/plain": [
              "<Figure size 432x288 with 1 Axes>"
            ],
            "image/png": "[encoded data removed]"
          },
          "metadata": {
            "needs_background": "light"
          }
        }
      ],
      "source": [
        "a = 19000\n",
        "plt.imshow(x_train[a],cmap = 'gray')\n",
        "print(y_train[a])"
      ]
    },
    {
      "cell_type": "code",
      "execution_count": 16,
      "id": "772c7d7c",
      "metadata": {
        "id": "772c7d7c"
      },
      "outputs": [],
      "source": [
        "model = models.Sequential()\n",
        "model.add(layers.Conv2D(32, (3, 3), activation='relu', input_shape=(64, 128, 1)))\n",
        "model.add(layers.MaxPooling2D((2, 2)))\n",
        "\n",
        "model.add(layers.BatchNormalization())\n",
        "\n",
        "model.add(layers.Conv2D(32, (3, 3), activation='relu'))\n",
        "model.add(layers.MaxPooling2D((2, 2)))\n",
        "\n",
        "model.add(layers.BatchNormalization())\n",
        "\n",
        "model.add(layers.Conv2D(64, (3, 3), activation='relu'))\n",
        "model.add(layers.MaxPooling2D((2, 2)))\n",
        "\n",
        "model.add(layers.BatchNormalization())\n",
        "\n",
        "model.add(layers.Conv2D(64, (3, 3), activation='relu'))\n",
        "model.add(layers.MaxPooling2D((2, 2)))\n",
        "\n",
        "\n",
        "model.add(layers.BatchNormalization())\n",
        "\n",
        "model.add(layers.Flatten())\n",
        "model.add(layers.Dense(64, activation='relu'))\n",
        "model.add(layers.Dense(1, activation='relu'))"
      ]
    },
    {
      "cell_type": "code",
      "execution_count": 17,
      "id": "b86f72df",
      "metadata": {
        "colab": {
          "base_uri": "https://localhost:8080/"
        },
        "id": "b86f72df",
        "outputId": "52526091-3c31-496a-e50d-61a43169371a"
      },
      "outputs": [
        {
          "output_type": "stream",
          "name": "stdout",
          "text": [
            "Model: \"sequential\"\n",
            "_________________________________________________________________\n",
            " Layer (type)                Output Shape              Param #   \n",
            "=================================================================\n",
            " conv2d (Conv2D)             (None, 62, 126, 32)       320       \n",
            "                                                                 \n",
            " max_pooling2d (MaxPooling2D  (None, 31, 63, 32)       0         \n",
            " )                                                               \n",
            "                                                                 \n",
            " batch_normalization (BatchN  (None, 31, 63, 32)       128       \n",
            " ormalization)                                                   \n",
            "                                                                 \n",
            " conv2d_1 (Conv2D)           (None, 29, 61, 32)        9248      \n",
            "                                                                 \n",
            " max_pooling2d_1 (MaxPooling  (None, 14, 30, 32)       0         \n",
            " 2D)                                                             \n",
            "                                                                 \n",
            " batch_normalization_1 (Batc  (None, 14, 30, 32)       128       \n",
            " hNormalization)                                                 \n",
            "                                                                 \n",
            " conv2d_2 (Conv2D)           (None, 12, 28, 64)        18496     \n",
            "                                                                 \n",
            " max_pooling2d_2 (MaxPooling  (None, 6, 14, 64)        0         \n",
            " 2D)                                                             \n",
            "                                                                 \n",
            " batch_normalization_2 (Batc  (None, 6, 14, 64)        256       \n",
            " hNormalization)                                                 \n",
            "                                                                 \n",
            " conv2d_3 (Conv2D)           (None, 4, 12, 64)         36928     \n",
            "                                                                 \n",
            " max_pooling2d_3 (MaxPooling  (None, 2, 6, 64)         0         \n",
            " 2D)                                                             \n",
            "                                                                 \n",
            " batch_normalization_3 (Batc  (None, 2, 6, 64)         256       \n",
            " hNormalization)                                                 \n",
            "                                                                 \n",
            " flatten (Flatten)           (None, 768)               0         \n",
            "                                                                 \n",
            " dense (Dense)               (None, 64)                49216     \n",
            "                                                                 \n",
            " dense_1 (Dense)             (None, 1)                 65        \n",
            "                                                                 \n",
            "=================================================================\n",
            "Total params: 115,041\n",
            "Trainable params: 114,657\n",
            "Non-trainable params: 384\n",
            "_________________________________________________________________\n"
          ]
        }
      ],
      "source": [
        "model.summary()"
      ]
    },
    {
      "cell_type": "code",
      "execution_count": 18,
      "id": "9beb77e5",
      "metadata": {
        "colab": {
          "base_uri": "https://localhost:8080/"
        },
        "id": "9beb77e5",
        "outputId": "09b6236f-71ae-4e99-dc7b-d263d6ae989c"
      },
      "outputs": [
        {
          "output_type": "stream",
          "name": "stdout",
          "text": [
            "Epoch 1/100\n",
            "158/158 [==============================] - 30s 166ms/step - loss: 0.1136 - accuracy: 0.8886 - mse: 0.1136 - val_loss: 0.5007 - val_accuracy: 0.5000 - val_mse: 0.5007\n",
            "Epoch 2/100\n",
            "158/158 [==============================] - 25s 161ms/step - loss: 0.0130 - accuracy: 0.9969 - mse: 0.0130 - val_loss: 0.7099 - val_accuracy: 0.5000 - val_mse: 0.7099\n",
            "Epoch 3/100\n",
            "158/158 [==============================] - 25s 158ms/step - loss: 0.0066 - accuracy: 0.9995 - mse: 0.0066 - val_loss: 0.5443 - val_accuracy: 0.5504 - val_mse: 0.5443\n",
            "Epoch 4/100\n",
            "158/158 [==============================] - 25s 160ms/step - loss: 0.0038 - accuracy: 1.0000 - mse: 0.0038 - val_loss: 0.2680 - val_accuracy: 0.7345 - val_mse: 0.2680\n",
            "Epoch 5/100\n",
            "158/158 [==============================] - 25s 161ms/step - loss: 0.0029 - accuracy: 1.0000 - mse: 0.0029 - val_loss: 0.2570 - val_accuracy: 0.7079 - val_mse: 0.2570\n",
            "Epoch 6/100\n",
            "158/158 [==============================] - 25s 161ms/step - loss: 0.0021 - accuracy: 1.0000 - mse: 0.0021 - val_loss: 0.2431 - val_accuracy: 0.7087 - val_mse: 0.2431\n",
            "Epoch 7/100\n",
            "158/158 [==============================] - 25s 158ms/step - loss: 0.0016 - accuracy: 1.0000 - mse: 0.0016 - val_loss: 0.2567 - val_accuracy: 0.7099 - val_mse: 0.2567\n",
            "Epoch 8/100\n",
            "158/158 [==============================] - 25s 159ms/step - loss: 0.0013 - accuracy: 1.0000 - mse: 0.0013 - val_loss: 0.2294 - val_accuracy: 0.7155 - val_mse: 0.2294\n",
            "Epoch 9/100\n",
            "158/158 [==============================] - 25s 158ms/step - loss: 0.0013 - accuracy: 1.0000 - mse: 0.0013 - val_loss: 0.2509 - val_accuracy: 0.7163 - val_mse: 0.2509\n",
            "Epoch 10/100\n",
            "158/158 [==============================] - 25s 158ms/step - loss: 9.4429e-04 - accuracy: 1.0000 - mse: 9.4429e-04 - val_loss: 0.2419 - val_accuracy: 0.7095 - val_mse: 0.2419\n",
            "Epoch 11/100\n",
            "158/158 [==============================] - 25s 160ms/step - loss: 9.5645e-04 - accuracy: 1.0000 - mse: 9.5645e-04 - val_loss: 0.2202 - val_accuracy: 0.7357 - val_mse: 0.2202\n",
            "Epoch 12/100\n",
            "158/158 [==============================] - 25s 158ms/step - loss: 7.8441e-04 - accuracy: 1.0000 - mse: 7.8441e-04 - val_loss: 0.2286 - val_accuracy: 0.7302 - val_mse: 0.2286\n",
            "Epoch 13/100\n",
            "158/158 [==============================] - 25s 158ms/step - loss: 6.3728e-04 - accuracy: 1.0000 - mse: 6.3728e-04 - val_loss: 0.2235 - val_accuracy: 0.7325 - val_mse: 0.2235\n",
            "Epoch 14/100\n",
            "158/158 [==============================] - 25s 158ms/step - loss: 6.2422e-04 - accuracy: 1.0000 - mse: 6.2422e-04 - val_loss: 0.2276 - val_accuracy: 0.7321 - val_mse: 0.2276\n",
            "Epoch 15/100\n",
            "158/158 [==============================] - 25s 160ms/step - loss: 7.2390e-04 - accuracy: 1.0000 - mse: 7.2390e-04 - val_loss: 0.2150 - val_accuracy: 0.7222 - val_mse: 0.2150\n",
            "Epoch 16/100\n",
            "158/158 [==============================] - 25s 160ms/step - loss: 5.6299e-04 - accuracy: 1.0000 - mse: 5.6299e-04 - val_loss: 0.2124 - val_accuracy: 0.7254 - val_mse: 0.2124\n",
            "Epoch 17/100\n",
            "158/158 [==============================] - 25s 158ms/step - loss: 5.1208e-04 - accuracy: 1.0000 - mse: 5.1208e-04 - val_loss: 0.2204 - val_accuracy: 0.7298 - val_mse: 0.2204\n",
            "Epoch 18/100\n",
            "158/158 [==============================] - 25s 158ms/step - loss: 5.0963e-04 - accuracy: 1.0000 - mse: 5.0963e-04 - val_loss: 0.2125 - val_accuracy: 0.7349 - val_mse: 0.2125\n",
            "Epoch 19/100\n",
            "158/158 [==============================] - 25s 158ms/step - loss: 3.4608e-04 - accuracy: 1.0000 - mse: 3.4608e-04 - val_loss: 0.2156 - val_accuracy: 0.7282 - val_mse: 0.2156\n",
            "Epoch 20/100\n",
            "158/158 [==============================] - 25s 160ms/step - loss: 4.6799e-04 - accuracy: 1.0000 - mse: 4.6799e-04 - val_loss: 0.1980 - val_accuracy: 0.7429 - val_mse: 0.1980\n",
            "Epoch 21/100\n",
            "158/158 [==============================] - 25s 158ms/step - loss: 5.1863e-04 - accuracy: 1.0000 - mse: 5.1863e-04 - val_loss: 0.2048 - val_accuracy: 0.7540 - val_mse: 0.2048\n",
            "Epoch 22/100\n",
            "158/158 [==============================] - 25s 158ms/step - loss: 0.0030 - accuracy: 0.9997 - mse: 0.0030 - val_loss: 0.2206 - val_accuracy: 0.7738 - val_mse: 0.2206\n",
            "Epoch 23/100\n",
            "158/158 [==============================] - 25s 160ms/step - loss: 0.0020 - accuracy: 0.9994 - mse: 0.0020 - val_loss: 0.1969 - val_accuracy: 0.7810 - val_mse: 0.1969\n",
            "Epoch 24/100\n",
            "158/158 [==============================] - 25s 160ms/step - loss: 6.0327e-04 - accuracy: 0.9999 - mse: 6.0327e-04 - val_loss: 0.1654 - val_accuracy: 0.8060 - val_mse: 0.1654\n",
            "Epoch 25/100\n",
            "158/158 [==============================] - 25s 158ms/step - loss: 2.6721e-04 - accuracy: 1.0000 - mse: 2.6721e-04 - val_loss: 0.1671 - val_accuracy: 0.8032 - val_mse: 0.1671\n",
            "Epoch 26/100\n",
            "158/158 [==============================] - 25s 158ms/step - loss: 1.7257e-04 - accuracy: 1.0000 - mse: 1.7257e-04 - val_loss: 0.1673 - val_accuracy: 0.7921 - val_mse: 0.1673\n",
            "Epoch 27/100\n",
            "158/158 [==============================] - 25s 157ms/step - loss: 1.1937e-04 - accuracy: 1.0000 - mse: 1.1937e-04 - val_loss: 0.1703 - val_accuracy: 0.7897 - val_mse: 0.1703\n",
            "Epoch 28/100\n",
            "158/158 [==============================] - 25s 158ms/step - loss: 1.0778e-04 - accuracy: 1.0000 - mse: 1.0778e-04 - val_loss: 0.1719 - val_accuracy: 0.7905 - val_mse: 0.1719\n",
            "Epoch 29/100\n",
            "158/158 [==============================] - 25s 158ms/step - loss: 8.8889e-05 - accuracy: 1.0000 - mse: 8.8889e-05 - val_loss: 0.1812 - val_accuracy: 0.7774 - val_mse: 0.1812\n",
            "Epoch 30/100\n",
            "158/158 [==============================] - 25s 158ms/step - loss: 1.0987e-04 - accuracy: 1.0000 - mse: 1.0987e-04 - val_loss: 0.1685 - val_accuracy: 0.7921 - val_mse: 0.1685\n",
            "Epoch 31/100\n",
            "158/158 [==============================] - 25s 158ms/step - loss: 8.7200e-05 - accuracy: 1.0000 - mse: 8.7200e-05 - val_loss: 0.1690 - val_accuracy: 0.7881 - val_mse: 0.1690\n",
            "Epoch 32/100\n",
            "158/158 [==============================] - 25s 158ms/step - loss: 8.9638e-05 - accuracy: 1.0000 - mse: 8.9638e-05 - val_loss: 0.1719 - val_accuracy: 0.7837 - val_mse: 0.1719\n",
            "Epoch 33/100\n",
            "158/158 [==============================] - 25s 158ms/step - loss: 8.9960e-05 - accuracy: 1.0000 - mse: 8.9960e-05 - val_loss: 0.1762 - val_accuracy: 0.7786 - val_mse: 0.1762\n",
            "Epoch 34/100\n",
            "158/158 [==============================] - 25s 158ms/step - loss: 8.4994e-05 - accuracy: 1.0000 - mse: 8.4994e-05 - val_loss: 0.1710 - val_accuracy: 0.7833 - val_mse: 0.1710\n",
            "Epoch 34: early stopping\n"
          ]
        }
      ],
      "source": [
        "model.compile(optimizer='adam',\n",
        "              loss='mse',\n",
        "              metrics=['accuracy','mse'])\n",
        "\n",
        "#Funckja umożliwia zatrzymanie się uczenia \n",
        "#gdy wartość strat przstanie maleć\n",
        "EarlyStop = EarlyStopping(monitor='val_loss',  \n",
        "                          verbose=1, \n",
        "                          patience=10)\n",
        "\n",
        "\n",
        "ModelCheck = ModelCheckpoint(filepath='/content/drive/MyDrive/Sieci/Zlaczone_firefox_2.h5',\n",
        "                             monitor='val_loss',\n",
        "                             save_best_only=True)\n",
        "\n",
        "\n",
        "history = model.fit(x=x_train, \n",
        "                    y=y_train, \n",
        "                    epochs=100,\n",
        "                    batch_size=128,\n",
        "                    #validation_split=0.1,\n",
        "                    validation_data=(x_valid, y_valid),\n",
        "                    callbacks = [EarlyStop, ModelCheck]\n",
        "                   )"
      ]
    },
    {
      "cell_type": "code",
      "execution_count": 19,
      "id": "fe8633db",
      "metadata": {
        "colab": {
          "base_uri": "https://localhost:8080/",
          "height": 300
        },
        "id": "fe8633db",
        "outputId": "63da2937-d3c9-44d8-8ac6-a0f8b04e9c65"
      },
      "outputs": [
        {
          "output_type": "execute_result",
          "data": {
            "text/plain": [
              "<matplotlib.legend.Legend at 0x7f9d0b977a90>"
            ]
          },
          "metadata": {},
          "execution_count": 19
        },
        {
          "output_type": "display_data",
          "data": {
            "text/plain": [
              "<Figure size 432x288 with 1 Axes>"
            ],
            "image/png": "[encoded data removed]"
          },
          "metadata": {
            "needs_background": "light"
          }
        }
      ],
      "source": [
        "plt.plot(history.history['loss'], label='strata')\n",
        "plt.plot(history.history['val_loss'], label = 'strata walidacyjna')\n",
        "plt.xlabel('Epoka')\n",
        "plt.ylabel('Strata')\n",
        "plt.ylim([0.0, 0.5])\n",
        "plt.legend(loc='upper right')"
      ]
    },
    {
      "cell_type": "code",
      "execution_count": 20,
      "id": "8b976089",
      "metadata": {
        "colab": {
          "base_uri": "https://localhost:8080/",
          "height": 300
        },
        "id": "8b976089",
        "outputId": "57824d23-e583-4f47-ee7d-47a02ad838fd",
        "scrolled": true
      },
      "outputs": [
        {
          "output_type": "execute_result",
          "data": {
            "text/plain": [
              "<matplotlib.legend.Legend at 0x7f9c8f77dfd0>"
            ]
          },
          "metadata": {},
          "execution_count": 20
        },
        {
          "output_type": "display_data",
          "data": {
            "text/plain": [
              "<Figure size 432x288 with 1 Axes>"
            ],
            "image/png": "[encoded data removed]"
          },
          "metadata": {
            "needs_background": "light"
          }
        }
      ],
      "source": [
        "plt.plot(history.history['accuracy'], label='precyzja')\n",
        "plt.plot(history.history['val_accuracy'], label = 'precyzja walidacyjna')\n",
        "plt.xlabel('Epoka')\n",
        "plt.ylabel('Precyzja')\n",
        "plt.ylim([0.5, 1])\n",
        "plt.legend(loc='lower right')"
      ]
    },
    {
      "cell_type": "code",
      "execution_count": 21,
      "id": "HWqm9BVzLHfw",
      "metadata": {
        "id": "HWqm9BVzLHfw"
      },
      "outputs": [],
      "source": [
        "best_model = tf.keras.models.load_model('/content/drive/MyDrive/Sieci/Zlaczone_firefox_2.h5')\n"
      ]
    },
    {
      "cell_type": "code",
      "execution_count": 22,
      "id": "685a286c",
      "metadata": {
        "colab": {
          "base_uri": "https://localhost:8080/"
        },
        "id": "685a286c",
        "outputId": "c19cb991-938f-486c-cce6-647606410af0"
      },
      "outputs": [
        {
          "output_type": "stream",
          "name": "stdout",
          "text": [
            "79/79 - 1s - loss: 0.2398 - accuracy: 0.7127 - mse: 0.2398 - 1s/epoch - 19ms/step\n"
          ]
        },
        {
          "output_type": "execute_result",
          "data": {
            "text/plain": [
              "[0.23976797526908053, 0.7126984126984127, 0.23976797526908053]"
            ]
          },
          "metadata": {},
          "execution_count": 22
        }
      ],
      "source": [
        "best_model.evaluate(x_test,  y_test, verbose=2)"
      ]
    },
    {
      "cell_type": "code",
      "execution_count": 23,
      "id": "ee941c13",
      "metadata": {
        "colab": {
          "base_uri": "https://localhost:8080/"
        },
        "id": "ee941c13",
        "outputId": "27359730-d9a1-44f3-df4a-93a0a6f4c321"
      },
      "outputs": [
        {
          "output_type": "stream",
          "name": "stdout",
          "text": [
            "79/79 [==============================] - 1s 12ms/step\n"
          ]
        }
      ],
      "source": [
        "predict_x = best_model.predict(x_test) \n",
        "\n",
        "predictions = (predict_x > 0.5).astype(\"int32\")"
      ]
    },
    {
      "cell_type": "code",
      "execution_count": 24,
      "id": "d8fb12f1",
      "metadata": {
        "colab": {
          "base_uri": "https://localhost:8080/"
        },
        "id": "d8fb12f1",
        "outputId": "96cbc0cf-4eed-426c-93c9-4425617e2078"
      },
      "outputs": [
        {
          "output_type": "stream",
          "name": "stdout",
          "text": [
            "[['Tn' 'Nn']\n",
            " ['Np' 'Tp']]\n",
            "tf.Tensor(\n",
            "[[ 605  655]\n",
            " [  69 1191]], shape=(2, 2), dtype=int32)\n"
          ]
        }
      ],
      "source": [
        "names = [['Tn','Nn'],['Np', 'Tp']]\n",
        "names = np.reshape(names,(2,2))\n",
        "print(names)\n",
        "\n",
        "conf = tf.math.confusion_matrix(y_test,predictions)\n",
        "\n",
        "print(conf)"
      ]
    }
  ],
  "metadata": {
    "accelerator": "GPU",
    "colab": {
      "provenance": [],
      "include_colab_link": true
    },
    "gpuClass": "standard",
    "kernelspec": {
      "display_name": "py39",
      "language": "python",
      "name": "py39"
    },
    "language_info": {
      "codemirror_mode": {
        "name": "ipython",
        "version": 3
      },
      "file_extension": ".py",
      "mimetype": "text/x-python",
      "name": "python",
      "nbconvert_exporter": "python",
      "pygments_lexer": "ipython3",
      "version": "3.9.12"
    }
  },
  "nbformat": 4,
  "nbformat_minor": 5
}