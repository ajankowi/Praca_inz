{
 "cells": [
  {
   "cell_type": "code",
   "execution_count": 1,
   "id": "613f08b5",
   "metadata": {},
   "outputs": [
    {
     "name": "stdout",
     "output_type": "stream",
     "text": [
      "3.9.12 (main, Jun  1 2022, 11:38:51) \n",
      "[GCC 7.5.0]\n"
     ]
    }
   ],
   "source": [
    "import sys\n",
    "print(sys.version)"
   ]
  },
  {
   "cell_type": "code",
   "execution_count": 2,
   "id": "5eca1117",
   "metadata": {},
   "outputs": [
    {
     "name": "stdout",
     "output_type": "stream",
     "text": [
      "TensorFlow version: 2.8.2\n"
     ]
    }
   ],
   "source": [
    "import tensorflow as tf\n",
    "from tensorflow.keras import layers, models\n",
    "from tensorflow.keras.callbacks import EarlyStopping\n",
    "\n",
    "\n",
    "print(\"TensorFlow version:\", tf.__version__)\n",
    "tf.keras.backend.set_floatx('float64')"
   ]
  },
  {
   "cell_type": "code",
   "execution_count": 3,
   "id": "12022d37",
   "metadata": {},
   "outputs": [],
   "source": [
    "import matplotlib.pyplot as plt\n",
    "import numpy as np\n",
    "import pandas as pd\n",
    "import seaborn as sns\n",
    "from PIL import Image\n",
    "import os\n",
    "import csv\n",
    "import random\n",
    "\n",
    "import cv2\n",
    "import imutils\n",
    "import glob\n",
    "# Make NumPy printouts easier to read.\n",
    "np.set_printoptions(precision=3, suppress=True)"
   ]
  },
  {
   "cell_type": "code",
   "execution_count": 4,
   "id": "1086f893",
   "metadata": {},
   "outputs": [],
   "source": [
    "#Określenie ścieżek do plików\n",
    "folder = '../../Dane/Baza_zdjec_zlaczone_1/'\n",
    "nazwa_CSV = 'nowe.csv'\n",
    "folder_aktorzy = '../../Dane/Baza_aktorzy_zlaczone/'\n",
    "nazwa_aktorzy_CSV = 'aktorzy.csv'\n",
    "folder_2 = '../../Dane/Baza_zdjec_moje/'\n",
    "slesh = '/'\n",
    "png = '.png'"
   ]
  },
  {
   "cell_type": "code",
   "execution_count": 5,
   "id": "d0329f31",
   "metadata": {},
   "outputs": [],
   "source": [
    "def release_list(a):\n",
    "    \n",
    "    del a[:]\n",
    "    del a"
   ]
  },
  {
   "cell_type": "code",
   "execution_count": 6,
   "id": "5beb89e7",
   "metadata": {},
   "outputs": [
    {
     "name": "stdout",
     "output_type": "stream",
     "text": [
      "3600\n"
     ]
    }
   ],
   "source": [
    "#Wczytanie pliku CSV do tablicy images\n",
    "\n",
    "with open(folder+nazwa_CSV,\"r\") as csvfile:\n",
    "    lines = csvfile.readlines()\n",
    "csvfile.close()\n",
    "\n",
    "new = []\n",
    "\n",
    "for i in lines:\n",
    "    new.append(i.split(\" \"))\n",
    "\n",
    "    \n",
    "value = []\n",
    "for i in new[0]:\n",
    "    value.append(int(i))    \n",
    "    \n",
    "print(len(value))"
   ]
  },
  {
   "cell_type": "code",
   "execution_count": 7,
   "id": "d9cb09d8",
   "metadata": {},
   "outputs": [
    {
     "name": "stdout",
     "output_type": "stream",
     "text": [
      "3600\n"
     ]
    }
   ],
   "source": [
    "#Wczytanie zdjęć do tablicy images\n",
    "images = []\n",
    "size = len(value)\n",
    "\n",
    "for i in range(size):\n",
    "    im = Image.open(folder+str(i)+png)\n",
    "    arr_im = np.array(im) \n",
    "    arr_im = arr_im / 255.0\n",
    "    images.append(arr_im) \n",
    "print(len(images))"
   ]
  },
  {
   "cell_type": "code",
   "execution_count": 8,
   "id": "44a7c0bf",
   "metadata": {},
   "outputs": [],
   "source": [
    "#Inicjalizacja tablic\n",
    "rand_list = []\n",
    "rand_list = np.zeros((len(images)), dtype=np.uint8)\n",
    "\n",
    "x_test = []\n",
    "y_test = []\n",
    "\n",
    "x_train = []\n",
    "y_train = []\n",
    "\n",
    "\n",
    "#Okreslanie wielkosci zbiorów\n",
    "eighty = int(len(images)*80/100)\n",
    "twenty = len(images) - eighty\n",
    "\n",
    "#Losowanie zbioru testowego\n",
    "for i in range(eighty):\n",
    "    \n",
    "    #Pierwsze losowanie wartości\n",
    "    rand = random.randint(0,len(images)-1)\n",
    "    \n",
    "    #Sprawdzenie czy wylosowana wartość się powtarza\n",
    "    while (rand_list[rand] == 1) :\n",
    "        #Jeżeli tak to ponownie losuje\n",
    "        rand = random.randint(0,len(images)-1)\n",
    "    \n",
    "    #Zapisanie zdjecia i wartości do nowej tablicy\n",
    "    x_train.append(images[rand])\n",
    "    y_train.append(value[rand])\n",
    "    rand_list[rand] = 1\n",
    "\n",
    "#Losowanie zbioru uczącego\n",
    "for j in range(twenty):\n",
    "    \n",
    "    #Pierwsze losowanie wartości\n",
    "    rand = random.randint(0,len(images)-1)\n",
    "    \n",
    "    #Sprawdzenie czy wylosowana wartość się powtarza\n",
    "    while (rand_list[rand] == 1) :\n",
    "        #Jeżeli tak to ponownie losuje\n",
    "        rand = random.randint(0,len(images)-1)\n",
    "        \n",
    "    #Zapisanie zdjecia i wartości do nowej tablicy\n",
    "    x_test.append(images[rand])\n",
    "    y_test.append(value[rand])\n",
    "    rand_list[rand] = 1\n",
    "    \n",
    "    \n",
    "release_list(images)\n",
    "release_list(value)"
   ]
  },
  {
   "cell_type": "code",
   "execution_count": 9,
   "id": "8fccbbcc",
   "metadata": {},
   "outputs": [
    {
     "name": "stdout",
     "output_type": "stream",
     "text": [
      "0.20%\n",
      "0.80%\n"
     ]
    }
   ],
   "source": [
    "#Sprawdzenie poprawności losowania\n",
    "val_1 = sum(y_test) / 1800\n",
    "print(\"%.2f\" % val_1 + '%') \n",
    "\n",
    "\n",
    "val_2 = sum(y_train) / 1800\n",
    "print(\"%.2f\" % val_2 + '%') "
   ]
  },
  {
   "cell_type": "code",
   "execution_count": 10,
   "id": "f7f4dd4b",
   "metadata": {},
   "outputs": [],
   "source": [
    "x_train = np.array(x_train)\n",
    "x_test = np.array(x_test)\n",
    "\n",
    "y_train = np.array(y_train)\n",
    "y_test = np.array(y_test)"
   ]
  },
  {
   "cell_type": "code",
   "execution_count": 11,
   "id": "d3a370cb",
   "metadata": {},
   "outputs": [
    {
     "name": "stdout",
     "output_type": "stream",
     "text": [
      "[[0.    0.    0.    ... 0.    0.    0.   ]\n",
      " [0.    0.    0.    ... 0.    0.    0.   ]\n",
      " [0.216 0.251 0.231 ... 0.004 0.    0.   ]\n",
      " ...\n",
      " [0.    0.012 0.212 ... 0.055 0.016 0.   ]\n",
      " [0.    0.    0.2   ... 0.    0.    0.   ]\n",
      " [0.    0.    0.2   ... 0.    0.    0.   ]]\n"
     ]
    },
    {
     "data": {
      "image/png": "[encoded data removed]",
      "text/plain": [
       "<Figure size 640x480 with 1 Axes>"
      ]
     },
     "metadata": {},
     "output_type": "display_data"
    }
   ],
   "source": [
    "plt.imshow(x_train[0],cmap = 'gray')\n",
    "print(x_train[0])"
   ]
  },
  {
   "cell_type": "code",
   "execution_count": 13,
   "id": "772c7d7c",
   "metadata": {},
   "outputs": [],
   "source": [
    "model = models.Sequential()\n",
    "model.add(layers.Conv2D(32, (3, 3), activation='relu', input_shape=(64, 128, 1)))\n",
    "model.add(layers.MaxPooling2D((2, 2)))\n",
    "model.add(layers.Conv2D(64, (3, 3), activation='relu'))\n",
    "model.add(layers.MaxPooling2D((2, 2)))\n",
    "model.add(layers.Conv2D(64, (3, 3), activation='relu'))\n",
    "model.add(layers.MaxPooling2D((2, 2)))\n",
    "model.add(layers.Flatten())\n",
    "model.add(layers.Dense(64, activation='relu'))\n",
    "model.add(layers.Dense(1, activation='relu'))"
   ]
  },
  {
   "cell_type": "code",
   "execution_count": 14,
   "id": "b86f72df",
   "metadata": {},
   "outputs": [
    {
     "name": "stdout",
     "output_type": "stream",
     "text": [
      "Model: \"sequential_1\"\n",
      "_________________________________________________________________\n",
      " Layer (type)                Output Shape              Param #   \n",
      "=================================================================\n",
      " conv2d_3 (Conv2D)           (None, 62, 126, 32)       320       \n",
      "                                                                 \n",
      " max_pooling2d_3 (MaxPooling  (None, 31, 63, 32)       0         \n",
      " 2D)                                                             \n",
      "                                                                 \n",
      " conv2d_4 (Conv2D)           (None, 29, 61, 64)        18496     \n",
      "                                                                 \n",
      " max_pooling2d_4 (MaxPooling  (None, 14, 30, 64)       0         \n",
      " 2D)                                                             \n",
      "                                                                 \n",
      " conv2d_5 (Conv2D)           (None, 12, 28, 64)        36928     \n",
      "                                                                 \n",
      " max_pooling2d_5 (MaxPooling  (None, 6, 14, 64)        0         \n",
      " 2D)                                                             \n",
      "                                                                 \n",
      " flatten_1 (Flatten)         (None, 5376)              0         \n",
      "                                                                 \n",
      " dense_2 (Dense)             (None, 64)                344128    \n",
      "                                                                 \n",
      " dense_3 (Dense)             (None, 1)                 65        \n",
      "                                                                 \n",
      "=================================================================\n",
      "Total params: 399,937\n",
      "Trainable params: 399,937\n",
      "Non-trainable params: 0\n",
      "_________________________________________________________________\n"
     ]
    }
   ],
   "source": [
    "model.summary()"
   ]
  },
  {
   "cell_type": "code",
   "execution_count": 15,
   "id": "9beb77e5",
   "metadata": {},
   "outputs": [
    {
     "name": "stdout",
     "output_type": "stream",
     "text": [
      "Epoch 1/10\n",
      "11/11 [==============================] - 30s 3s/step - loss: 0.3042 - accuracy: 0.4630 - mse: 0.3042 - val_loss: 0.2527 - val_accuracy: 0.5139 - val_mse: 0.2527\n",
      "Epoch 2/10\n",
      "11/11 [==============================] - 30s 3s/step - loss: 0.2302 - accuracy: 0.5737 - mse: 0.2302 - val_loss: 0.2640 - val_accuracy: 0.5139 - val_mse: 0.2640\n",
      "Epoch 3/10\n",
      "11/11 [==============================] - 30s 3s/step - loss: 0.1777 - accuracy: 0.7253 - mse: 0.1777 - val_loss: 0.1699 - val_accuracy: 0.6910 - val_mse: 0.1699\n",
      "Epoch 4/10\n",
      "11/11 [==============================] - 26s 2s/step - loss: 0.1360 - accuracy: 0.8036 - mse: 0.1360 - val_loss: 0.0895 - val_accuracy: 0.9028 - val_mse: 0.0895\n",
      "Epoch 5/10\n",
      "11/11 [==============================] - 28s 3s/step - loss: 0.0876 - accuracy: 0.8735 - mse: 0.0876 - val_loss: 0.0484 - val_accuracy: 0.9375 - val_mse: 0.0484\n",
      "Epoch 6/10\n",
      "11/11 [==============================] - 31s 3s/step - loss: 0.0519 - accuracy: 0.9379 - mse: 0.0519 - val_loss: 0.0259 - val_accuracy: 0.9792 - val_mse: 0.0259\n",
      "Epoch 7/10\n",
      "11/11 [==============================] - 30s 3s/step - loss: 0.0310 - accuracy: 0.9722 - mse: 0.0310 - val_loss: 0.0125 - val_accuracy: 0.9896 - val_mse: 0.0125\n",
      "Epoch 8/10\n",
      "11/11 [==============================] - 30s 3s/step - loss: 0.0226 - accuracy: 0.9769 - mse: 0.0226 - val_loss: 0.0093 - val_accuracy: 0.9965 - val_mse: 0.0093\n",
      "Epoch 9/10\n",
      "11/11 [==============================] - 28s 2s/step - loss: 0.0176 - accuracy: 0.9834 - mse: 0.0176 - val_loss: 0.0080 - val_accuracy: 0.9965 - val_mse: 0.0080\n",
      "Epoch 10/10\n",
      "11/11 [==============================] - 28s 3s/step - loss: 0.0150 - accuracy: 0.9888 - mse: 0.0150 - val_loss: 0.0045 - val_accuracy: 0.9965 - val_mse: 0.0045\n"
     ]
    }
   ],
   "source": [
    "model.compile(optimizer='adam',\n",
    "              loss='mse',\n",
    "              metrics=['accuracy','mse'])\n",
    "\n",
    "#Funcka umożliwia zatrzymanie się uczenia \n",
    "#gdy wartość strat przstanie maleć\n",
    "EarlyStop = EarlyStopping(monitor='val_loss', \n",
    "                          mode='min', \n",
    "                          verbose=1, \n",
    "                          patience=5)\n",
    "\n",
    "\n",
    "#ModelCheck = ModelCheckpoint(filepath='Zlaczone.h5',\n",
    "#                             monitor='var_loss',\n",
    "#                             save_best_only=True)\n",
    "\n",
    "\n",
    "history = model.fit(x=x_train, \n",
    "                    y=y_train, \n",
    "                    epochs=10,\n",
    "                    batch_size=256,\n",
    "                    validation_split=0.1,\n",
    "                    callbacks = [EarlyStop]\n",
    "                   )"
   ]
  },
  {
   "cell_type": "code",
   "execution_count": 16,
   "id": "fe8633db",
   "metadata": {},
   "outputs": [
    {
     "name": "stdout",
     "output_type": "stream",
     "text": [
      "23/23 - 2s - loss: 0.0184 - accuracy: 0.9819 - mse: 0.0184 - 2s/epoch - 96ms/step\n"
     ]
    },
    {
     "ename": "ValueError",
     "evalue": "too many values to unpack (expected 2)",
     "output_type": "error",
     "traceback": [
      "\u001b[0;31m---------------------------------------------------------------------------\u001b[0m",
      "\u001b[0;31mValueError\u001b[0m                                Traceback (most recent call last)",
      "Input \u001b[0;32mIn [16]\u001b[0m, in \u001b[0;36m<cell line: 8>\u001b[0;34m()\u001b[0m\n\u001b[1;32m      5\u001b[0m plt\u001b[38;5;241m.\u001b[39mylim([\u001b[38;5;241m0.0\u001b[39m, \u001b[38;5;241m0.5\u001b[39m])\n\u001b[1;32m      6\u001b[0m plt\u001b[38;5;241m.\u001b[39mlegend(loc\u001b[38;5;241m=\u001b[39m\u001b[38;5;124m'\u001b[39m\u001b[38;5;124mupper right\u001b[39m\u001b[38;5;124m'\u001b[39m)\n\u001b[0;32m----> 8\u001b[0m test_loss, test_acc \u001b[38;5;241m=\u001b[39m model\u001b[38;5;241m.\u001b[39mevaluate(x_test,  y_test, verbose\u001b[38;5;241m=\u001b[39m\u001b[38;5;241m2\u001b[39m)\n",
      "\u001b[0;31mValueError\u001b[0m: too many values to unpack (expected 2)"
     ]
    },
    {
     "data": {
      "image/png": "[encoded data removed]",
      "text/plain": [
       "<Figure size 640x480 with 1 Axes>"
      ]
     },
     "metadata": {},
     "output_type": "display_data"
    }
   ],
   "source": [
    "plt.plot(history.history['loss'], label='strata')\n",
    "plt.plot(history.history['val_loss'], label = 'strata walidacyjna')\n",
    "plt.xlabel('Epoka')\n",
    "plt.ylabel('Strata')\n",
    "plt.ylim([0.0, 0.5])\n",
    "plt.legend(loc='upper right')\n",
    "\n",
    "test_loss, test_acc = model.evaluate(x_test,  y_test, verbose=2)"
   ]
  },
  {
   "cell_type": "code",
   "execution_count": 17,
   "id": "8b976089",
   "metadata": {},
   "outputs": [
    {
     "data": {
      "text/plain": [
       "<matplotlib.legend.Legend at 0x7f13a83f8130>"
      ]
     },
     "execution_count": 17,
     "metadata": {},
     "output_type": "execute_result"
    },
    {
     "data": {
      "image/png": "[encoded data removed]",
      "text/plain": [
       "<Figure size 640x480 with 1 Axes>"
      ]
     },
     "metadata": {},
     "output_type": "display_data"
    }
   ],
   "source": [
    "plt.plot(history.history['accuracy'], label='precyzja')\n",
    "plt.plot(history.history['val_accuracy'], label = 'precyzja walidacyjna')\n",
    "plt.xlabel('Epoka')\n",
    "plt.ylabel('Precyzja')\n",
    "plt.ylim([0.5, 1])\n",
    "plt.legend(loc='lower right')"
   ]
  },
  {
   "cell_type": "code",
   "execution_count": 18,
   "id": "7f269f3e",
   "metadata": {},
   "outputs": [],
   "source": [
    "#model.evaluate(x_test,  y_test, verbose=2)"
   ]
  },
  {
   "cell_type": "code",
   "execution_count": 19,
   "id": "123b5623",
   "metadata": {},
   "outputs": [],
   "source": [
    "predict_x = model.predict(x_test) \n",
    "\n",
    "predictions = (predict_x > 0.5).astype(\"int32\")"
   ]
  },
  {
   "cell_type": "code",
   "execution_count": 20,
   "id": "61b6f026",
   "metadata": {},
   "outputs": [
    {
     "name": "stdout",
     "output_type": "stream",
     "text": [
      "[['Tn' 'Nn']\n",
      " ['Np' 'Tp']]\n"
     ]
    },
    {
     "data": {
      "text/plain": [
       "<tf.Tensor: shape=(2, 2), dtype=int32, numpy=\n",
       "array([[350,  13],\n",
       "       [  0, 357]], dtype=int32)>"
      ]
     },
     "execution_count": 20,
     "metadata": {},
     "output_type": "execute_result"
    }
   ],
   "source": [
    "names = [['Tn','Nn'],['Np', 'Tp']]\n",
    "names = np.reshape(names,(2,2))\n",
    "print(names)\n",
    "\n",
    "tf.math.confusion_matrix(y_test,predictions)"
   ]
  },
  {
   "cell_type": "code",
   "execution_count": 21,
   "id": "391d9616",
   "metadata": {},
   "outputs": [],
   "source": [
    "\n",
    "\n",
    "\n",
    "\n",
    "#Wczytanie zdjęć aktorów\n",
    "\n",
    "\n",
    "\n",
    "\n"
   ]
  },
  {
   "cell_type": "code",
   "execution_count": 22,
   "id": "53be553c",
   "metadata": {},
   "outputs": [
    {
     "name": "stdout",
     "output_type": "stream",
     "text": [
      "2052\n"
     ]
    }
   ],
   "source": [
    "with open(folder_aktorzy+nazwa_aktorzy_CSV,\"r\") as csvfile:\n",
    "    lines = csvfile.readlines()\n",
    "csvfile.close()\n",
    "\n",
    "\n",
    "tmp = []\n",
    "act_label = []\n",
    "\n",
    "for i in lines:\n",
    "    tmp.append(i.split(\" \"))\n",
    "\n",
    "    \n",
    "act_label = []\n",
    "for i in tmp[0]:\n",
    "    act_label.append(int(i))    \n",
    "    \n",
    "act_label = np.array(act_label)\n",
    "print(len(act_label))"
   ]
  },
  {
   "cell_type": "code",
   "execution_count": 23,
   "id": "62ceaefe",
   "metadata": {},
   "outputs": [
    {
     "name": "stdout",
     "output_type": "stream",
     "text": [
      "2052\n"
     ]
    }
   ],
   "source": [
    "#Wczytanie zdjęć aktorów do tablicy\n",
    "\n",
    "act = []\n",
    "size = len(act_label)\n",
    "\n",
    "for i in range(size):\n",
    "    im = Image.open(folder_aktorzy+str(i)+png)\n",
    "    arr_im = np.array(im) \n",
    "    arr_im = arr_im / 255.0\n",
    "    act.append(arr_im) \n",
    "    \n",
    "act = np.array(act)\n",
    "print(len(act))"
   ]
  },
  {
   "cell_type": "code",
   "execution_count": 24,
   "id": "d8cd5537",
   "metadata": {},
   "outputs": [
    {
     "name": "stdout",
     "output_type": "stream",
     "text": [
      "[[0.984 0.984 0.984 ... 0.192 0.196 0.196]\n",
      " [0.984 0.984 0.98  ... 0.2   0.192 0.192]\n",
      " [0.984 0.98  0.976 ... 0.204 0.196 0.192]\n",
      " ...\n",
      " [0.98  0.98  0.98  ... 0.298 0.294 0.29 ]\n",
      " [0.98  0.98  0.98  ... 0.294 0.298 0.302]\n",
      " [0.98  0.98  0.98  ... 0.298 0.31  0.302]]\n"
     ]
    },
    {
     "data": {
      "image/png": "[encoded data removed]",
      "text/plain": [
       "<Figure size 640x480 with 1 Axes>"
      ]
     },
     "metadata": {},
     "output_type": "display_data"
    }
   ],
   "source": [
    "plt.imshow(act[0],cmap = 'gray')\n",
    "print(act[0])"
   ]
  },
  {
   "cell_type": "code",
   "execution_count": 25,
   "id": "304612c1",
   "metadata": {},
   "outputs": [],
   "source": [
    "predict_act = model.predict(act) \n",
    "\n",
    "predict = (predict_act > 0.5).astype(\"int32\")"
   ]
  },
  {
   "cell_type": "code",
   "execution_count": 26,
   "id": "29f5ab15",
   "metadata": {},
   "outputs": [
    {
     "name": "stdout",
     "output_type": "stream",
     "text": [
      "[['Tn' 'Nn']\n",
      " ['Np' 'Tp']]\n"
     ]
    },
    {
     "data": {
      "text/plain": [
       "<tf.Tensor: shape=(2, 2), dtype=int32, numpy=\n",
       "array([[595, 431],\n",
       "       [745, 281]], dtype=int32)>"
      ]
     },
     "execution_count": 26,
     "metadata": {},
     "output_type": "execute_result"
    }
   ],
   "source": [
    "print(names)\n",
    "\n",
    "tf.math.confusion_matrix(act_label,predict)"
   ]
  },
  {
   "cell_type": "code",
   "execution_count": null,
   "id": "992cfbdd",
   "metadata": {},
   "outputs": [],
   "source": []
  },
  {
   "cell_type": "code",
   "execution_count": null,
   "id": "0e1aee07",
   "metadata": {},
   "outputs": [],
   "source": []
  }
 ],
 "metadata": {
  "kernelspec": {
   "display_name": "py39",
   "language": "python",
   "name": "py39"
  },
  "language_info": {
   "codemirror_mode": {
    "name": "ipython",
    "version": 3
   },
   "file_extension": ".py",
   "mimetype": "text/x-python",
   "name": "python",
   "nbconvert_exporter": "python",
   "pygments_lexer": "ipython3",
   "version": "3.9.12"
  }
 },
 "nbformat": 4,
 "nbformat_minor": 5
}
