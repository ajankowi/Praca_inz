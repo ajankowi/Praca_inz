{
  "cells": [
    {
      "cell_type": "code",
      "execution_count": 1,
      "id": "613f08b5",
      "metadata": {
        "colab": {
          "base_uri": "https://localhost:8080/"
        },
        "id": "613f08b5",
        "outputId": "1320e5ab-5432-4230-d1ee-445befd9ca41"
      },
      "outputs": [
        {
          "output_type": "stream",
          "name": "stdout",
          "text": [
            "3.8.16 (default, Dec  7 2022, 01:12:13) \n",
            "[GCC 7.5.0]\n"
          ]
        }
      ],
      "source": [
        "import sys\n",
        "print(sys.version)"
      ]
    },
    {
      "cell_type": "code",
      "execution_count": 2,
      "id": "0n78XAHmDiUv",
      "metadata": {
        "id": "0n78XAHmDiUv",
        "colab": {
          "base_uri": "https://localhost:8080/"
        },
        "outputId": "06ebe09a-b70b-4332-a9a4-b9594ddaeb80"
      },
      "outputs": [
        {
          "output_type": "stream",
          "name": "stdout",
          "text": [
            "Mounted at /content/drive\n"
          ]
        }
      ],
      "source": [
        "from google.colab import drive\n",
        "drive.mount(\"/content/drive\", force_remount=True)"
      ]
    },
    {
      "cell_type": "code",
      "execution_count": 3,
      "id": "5eca1117",
      "metadata": {
        "colab": {
          "base_uri": "https://localhost:8080/"
        },
        "id": "5eca1117",
        "outputId": "e2594b34-2fdd-4148-dda4-2f1c837175ec"
      },
      "outputs": [
        {
          "output_type": "stream",
          "name": "stdout",
          "text": [
            "TensorFlow version: 2.9.2\n"
          ]
        }
      ],
      "source": [
        "import tensorflow as tf\n",
        "from tensorflow import keras\n",
        "from keras import layers, models, regularizers\n",
        "from keras.layers import Flatten, add, Dense, Dropout \n",
        "from keras.callbacks import ModelCheckpoint, EarlyStopping\n",
        "\n",
        "\n",
        "print(\"TensorFlow version:\", tf.__version__)\n",
        "tf.keras.backend.set_floatx('float64')"
      ]
    },
    {
      "cell_type": "code",
      "execution_count": 4,
      "id": "12022d37",
      "metadata": {
        "id": "12022d37"
      },
      "outputs": [],
      "source": [
        "import matplotlib.pyplot as plt\n",
        "import numpy as np\n",
        "import pandas as pd\n",
        "import seaborn as sns\n",
        "from PIL import Image\n",
        "import os\n",
        "import csv\n",
        "import random\n",
        "\n",
        "import cv2\n",
        "import imutils\n",
        "import glob\n",
        "# Make NumPy printouts easier to read.\n",
        "np.set_printoptions(precision=3, suppress=True)"
      ]
    },
    {
      "cell_type": "code",
      "execution_count": 5,
      "id": "1086f893",
      "metadata": {
        "id": "1086f893"
      },
      "outputs": [],
      "source": [
        "#Określenie ścieżek do plików\n",
        "test_zip = '/content/drive/MyDrive/Sieci/Baza_zdjec_przeplatane_2/Test.zip'\n",
        "test_csv = 'test.csv'\n",
        "\n",
        "train_zip = '/content/drive/MyDrive/Sieci/Baza_zdjec_przeplatane_2/Train.zip'\n",
        "train_csv = 'train.csv'\n",
        "\n",
        "folder = '/content/drive/MyDrive/Sieci/Baza_zdjec_przeplatane_2/'\n",
        "slesh = '/'\n",
        "png = '.png'"
      ]
    },
    {
      "cell_type": "code",
      "execution_count": null,
      "id": "P6mVaPsPDDID",
      "metadata": {
        "id": "P6mVaPsPDDID"
      },
      "outputs": [],
      "source": [
        "!unzip '/content/drive/MyDrive/Sieci/Baza_zdjec_przeplatane_2/Train.zip' -d '/content/train/'\n",
        "!unzip '/content/drive/MyDrive/Sieci/Baza_zdjec_przeplatane_2/Test.zip' -d '/content/test/'"
      ]
    },
    {
      "cell_type": "code",
      "execution_count": 7,
      "id": "723b71fc",
      "metadata": {
        "id": "723b71fc"
      },
      "outputs": [],
      "source": [
        "def release_list(a):\n",
        "    \n",
        "    del a[:]\n",
        "    del a"
      ]
    },
    {
      "cell_type": "code",
      "execution_count": 8,
      "id": "5beb89e7",
      "metadata": {
        "colab": {
          "base_uri": "https://localhost:8080/"
        },
        "id": "5beb89e7",
        "outputId": "3ec6d0f2-2dc6-4062-9a3c-0dea68bcfc0d"
      },
      "outputs": [
        {
          "output_type": "stream",
          "name": "stdout",
          "text": [
            "22680\n"
          ]
        }
      ],
      "source": [
        "#Wczytanie etykiet do treninegu \n",
        "\n",
        "with open(folder+train_csv,\"r\") as csvfile:\n",
        "    lines = csvfile.readlines()\n",
        "csvfile.close()\n",
        "\n",
        "new = []\n",
        "\n",
        "for i in lines:\n",
        "    new.append(i.split(\" \"))\n",
        "\n",
        "    \n",
        "value_train = []\n",
        "for i in new[0]:\n",
        "    value_train.append(int(i))    \n",
        "    \n",
        "print(len(value_train))"
      ]
    },
    {
      "cell_type": "code",
      "source": [
        "#Wczytanie etykiet do testowania\n",
        "\n",
        "with open(folder+test_csv,\"r\") as csvfile:\n",
        "    lines = csvfile.readlines()\n",
        "csvfile.close()\n",
        "\n",
        "new = []\n",
        "\n",
        "for i in lines:\n",
        "    new.append(i.split(\" \"))\n",
        "\n",
        "    \n",
        "value_test = []\n",
        "for i in new[0]:\n",
        "    value_test.append(int(i))    \n",
        "    \n",
        "print(len(value_test))"
      ],
      "metadata": {
        "id": "b9FTBM2X68V7",
        "colab": {
          "base_uri": "https://localhost:8080/"
        },
        "outputId": "c26c0a1c-b6ce-4aa1-8d2a-9eed4e7ae4df"
      },
      "id": "b9FTBM2X68V7",
      "execution_count": 9,
      "outputs": [
        {
          "output_type": "stream",
          "name": "stdout",
          "text": [
            "2520\n"
          ]
        }
      ]
    },
    {
      "cell_type": "code",
      "execution_count": 10,
      "id": "d9cb09d8",
      "metadata": {
        "colab": {
          "base_uri": "https://localhost:8080/"
        },
        "id": "d9cb09d8",
        "outputId": "492d3277-2f2a-4624-cbbf-e9f187c822c2"
      },
      "outputs": [
        {
          "output_type": "stream",
          "name": "stdout",
          "text": [
            "22680\n"
          ]
        }
      ],
      "source": [
        "#Wczytanie zdjęć treningowych (90% całego zbioru)\n",
        "images_train = []\n",
        "size = len(value_train)\n",
        "\n",
        "for i in range(size):\n",
        "    im = Image.open('/content/train/'+str(i)+'.png')\n",
        "    arr_im = np.array(im) \n",
        "    arr_im = arr_im / 255.0\n",
        "    images_train.append(arr_im) \n",
        "print(len(images_train))"
      ]
    },
    {
      "cell_type": "code",
      "source": [
        "#Wczytanie zdjęć testowych (10% całego zbioru)\n",
        "images_test = []\n",
        "size = len(value_test)\n",
        "\n",
        "for i in range(size):\n",
        "    im = Image.open('/content/test/'+str(i)+'.png')\n",
        "    arr_im = np.array(im) \n",
        "    arr_im = arr_im / 255.0\n",
        "    images_test.append(arr_im) \n",
        "print(len(images_test))"
      ],
      "metadata": {
        "id": "jyIF3G2Q6_eq",
        "colab": {
          "base_uri": "https://localhost:8080/"
        },
        "outputId": "13147073-c574-4b55-d932-bc6be6246be1"
      },
      "id": "jyIF3G2Q6_eq",
      "execution_count": 11,
      "outputs": [
        {
          "output_type": "stream",
          "name": "stdout",
          "text": [
            "2520\n"
          ]
        }
      ]
    },
    {
      "cell_type": "code",
      "execution_count": 12,
      "id": "f7f4dd4b",
      "metadata": {
        "id": "f7f4dd4b"
      },
      "outputs": [],
      "source": [
        "x_train = np.array(images_train)\n",
        "x_test = np.array(images_test)\n",
        "\n",
        "y_train = np.array(value_train)\n",
        "y_test = np.array(value_test)"
      ]
    },
    {
      "cell_type": "code",
      "execution_count": 13,
      "id": "d3a370cb",
      "metadata": {
        "colab": {
          "base_uri": "https://localhost:8080/",
          "height": 285
        },
        "id": "d3a370cb",
        "outputId": "0507f45a-01c0-4e4f-f207-e3ce8988978d"
      },
      "outputs": [
        {
          "output_type": "stream",
          "name": "stdout",
          "text": [
            "0\n"
          ]
        },
        {
          "output_type": "display_data",
          "data": {
            "text/plain": [
              "<Figure size 432x288 with 1 Axes>"
            ],
            "image/png": "[encoded data removed]"
          },
          "metadata": {
            "needs_background": "light"
          }
        }
      ],
      "source": [
        "a = 19000\n",
        "plt.imshow(x_train[a],cmap = 'gray')\n",
        "print(y_train[a])"
      ]
    },
    {
      "cell_type": "code",
      "execution_count": 15,
      "id": "772c7d7c",
      "metadata": {
        "id": "772c7d7c"
      },
      "outputs": [],
      "source": [
        "model = models.Sequential()\n",
        "model.add(layers.Conv2D(32, (3, 3), activation='relu', input_shape=(128, 64, 1)))\n",
        "model.add(layers.MaxPooling2D((2, 2)))\n",
        "model.add(layers.Conv2D(32, (3, 3), activation='relu'))\n",
        "model.add(layers.MaxPooling2D((2, 2)))\n",
        "\n",
        "model.add(layers.BatchNormalization())\n",
        "\n",
        "model.add(layers.Conv2D(64, (3, 3), activation='relu'))\n",
        "model.add(layers.MaxPooling2D((2, 2)))\n",
        "model.add(layers.Conv2D(64, (3, 3), activation='relu'))\n",
        "model.add(layers.MaxPooling2D((2, 2)))\n",
        "\n",
        "\n",
        "model.add(layers.BatchNormalization())\n",
        "\n",
        "model.add(layers.Flatten())\n",
        "model.add(layers.Dense(64, activation='relu'))\n",
        "model.add(layers.Dense(1, activation='relu'))\n"
      ]
    },
    {
      "cell_type": "code",
      "execution_count": 16,
      "id": "b86f72df",
      "metadata": {
        "colab": {
          "base_uri": "https://localhost:8080/"
        },
        "id": "b86f72df",
        "outputId": "50899434-cb2b-40f9-f23f-f8d6f702c3f0"
      },
      "outputs": [
        {
          "output_type": "stream",
          "name": "stdout",
          "text": [
            "Model: \"sequential_1\"\n",
            "_________________________________________________________________\n",
            " Layer (type)                Output Shape              Param #   \n",
            "=================================================================\n",
            " conv2d_4 (Conv2D)           (None, 126, 62, 32)       320       \n",
            "                                                                 \n",
            " max_pooling2d_4 (MaxPooling  (None, 63, 31, 32)       0         \n",
            " 2D)                                                             \n",
            "                                                                 \n",
            " conv2d_5 (Conv2D)           (None, 61, 29, 32)        9248      \n",
            "                                                                 \n",
            " max_pooling2d_5 (MaxPooling  (None, 30, 14, 32)       0         \n",
            " 2D)                                                             \n",
            "                                                                 \n",
            " batch_normalization_2 (Batc  (None, 30, 14, 32)       128       \n",
            " hNormalization)                                                 \n",
            "                                                                 \n",
            " conv2d_6 (Conv2D)           (None, 28, 12, 64)        18496     \n",
            "                                                                 \n",
            " max_pooling2d_6 (MaxPooling  (None, 14, 6, 64)        0         \n",
            " 2D)                                                             \n",
            "                                                                 \n",
            " conv2d_7 (Conv2D)           (None, 12, 4, 64)         36928     \n",
            "                                                                 \n",
            " max_pooling2d_7 (MaxPooling  (None, 6, 2, 64)         0         \n",
            " 2D)                                                             \n",
            "                                                                 \n",
            " batch_normalization_3 (Batc  (None, 6, 2, 64)         256       \n",
            " hNormalization)                                                 \n",
            "                                                                 \n",
            " flatten_1 (Flatten)         (None, 768)               0         \n",
            "                                                                 \n",
            " dense_1 (Dense)             (None, 64)                49216     \n",
            "                                                                 \n",
            " dense_2 (Dense)             (None, 1)                 65        \n",
            "                                                                 \n",
            "=================================================================\n",
            "Total params: 114,657\n",
            "Trainable params: 114,465\n",
            "Non-trainable params: 192\n",
            "_________________________________________________________________\n"
          ]
        }
      ],
      "source": [
        "model.summary()"
      ]
    },
    {
      "cell_type": "code",
      "execution_count": 17,
      "id": "9beb77e5",
      "metadata": {
        "colab": {
          "base_uri": "https://localhost:8080/"
        },
        "id": "9beb77e5",
        "outputId": "634cea89-cb34-48e2-a316-f89980fa01c5"
      },
      "outputs": [
        {
          "output_type": "stream",
          "name": "stdout",
          "text": [
            "Epoch 1/100\n",
            "160/160 [==============================] - 37s 203ms/step - loss: 3.8524 - accuracy: 0.8557 - mse: 0.1695 - val_loss: 0.4950 - val_accuracy: 1.0000 - val_mse: 0.0714\n",
            "Epoch 2/100\n",
            "160/160 [==============================] - 32s 198ms/step - loss: 0.1692 - accuracy: 0.9737 - mse: 0.0293 - val_loss: 0.1496 - val_accuracy: 0.9731 - val_mse: 0.1182\n",
            "Epoch 3/100\n",
            "160/160 [==============================] - 32s 201ms/step - loss: 0.0386 - accuracy: 0.9859 - mse: 0.0192 - val_loss: 0.0692 - val_accuracy: 0.9643 - val_mse: 0.0555\n",
            "Epoch 4/100\n",
            "160/160 [==============================] - 32s 200ms/step - loss: 0.0246 - accuracy: 0.9924 - mse: 0.0133 - val_loss: 0.0190 - val_accuracy: 0.9951 - val_mse: 0.0090\n",
            "Epoch 5/100\n",
            "160/160 [==============================] - 31s 195ms/step - loss: 0.0202 - accuracy: 0.9951 - mse: 0.0110 - val_loss: 0.0238 - val_accuracy: 0.9828 - val_mse: 0.0142\n",
            "Epoch 6/100\n",
            "160/160 [==============================] - 32s 200ms/step - loss: 0.0166 - accuracy: 0.9969 - mse: 0.0086 - val_loss: 0.0150 - val_accuracy: 0.9912 - val_mse: 0.0080\n",
            "Epoch 7/100\n",
            "160/160 [==============================] - 32s 199ms/step - loss: 0.0131 - accuracy: 0.9977 - mse: 0.0066 - val_loss: 0.0064 - val_accuracy: 1.0000 - val_mse: 2.3697e-05\n",
            "Epoch 8/100\n",
            "160/160 [==============================] - 31s 195ms/step - loss: 0.0121 - accuracy: 0.9979 - mse: 0.0060 - val_loss: 0.0068 - val_accuracy: 0.9996 - val_mse: 7.6407e-04\n",
            "Epoch 9/100\n",
            "160/160 [==============================] - 31s 196ms/step - loss: 0.0123 - accuracy: 0.9980 - mse: 0.0061 - val_loss: 0.0065 - val_accuracy: 0.9996 - val_mse: 2.3403e-04\n",
            "Epoch 10/100\n",
            "160/160 [==============================] - 31s 195ms/step - loss: 0.0086 - accuracy: 0.9992 - mse: 0.0042 - val_loss: 0.0126 - val_accuracy: 0.9916 - val_mse: 0.0083\n",
            "Epoch 11/100\n",
            "160/160 [==============================] - 32s 199ms/step - loss: 0.0084 - accuracy: 0.9993 - mse: 0.0041 - val_loss: 0.0051 - val_accuracy: 1.0000 - val_mse: 6.0441e-04\n",
            "Epoch 12/100\n",
            "160/160 [==============================] - 31s 195ms/step - loss: 0.0074 - accuracy: 0.9991 - mse: 0.0035 - val_loss: 0.0122 - val_accuracy: 0.9912 - val_mse: 0.0076\n",
            "Epoch 13/100\n",
            "160/160 [==============================] - 31s 196ms/step - loss: 0.0074 - accuracy: 0.9990 - mse: 0.0035 - val_loss: 0.0196 - val_accuracy: 0.9788 - val_mse: 0.0164\n",
            "Epoch 14/100\n",
            "160/160 [==============================] - 32s 200ms/step - loss: 0.0062 - accuracy: 0.9993 - mse: 0.0028 - val_loss: 0.0047 - val_accuracy: 0.9982 - val_mse: 0.0022\n",
            "Epoch 15/100\n",
            "160/160 [==============================] - 32s 200ms/step - loss: 0.0059 - accuracy: 0.9996 - mse: 0.0029 - val_loss: 0.0032 - val_accuracy: 1.0000 - val_mse: 0.0000e+00\n",
            "Epoch 16/100\n",
            "160/160 [==============================] - 31s 196ms/step - loss: 0.0072 - accuracy: 0.9993 - mse: 0.0037 - val_loss: 0.0050 - val_accuracy: 0.9991 - val_mse: 0.0015\n",
            "Epoch 17/100\n",
            "160/160 [==============================] - 32s 200ms/step - loss: 0.0065 - accuracy: 0.9989 - mse: 0.0029 - val_loss: 0.0028 - val_accuracy: 1.0000 - val_mse: 0.0000e+00\n",
            "Epoch 18/100\n",
            "160/160 [==============================] - 31s 196ms/step - loss: 0.0046 - accuracy: 0.9997 - mse: 0.0019 - val_loss: 0.0094 - val_accuracy: 0.9947 - val_mse: 0.0074\n",
            "Epoch 19/100\n",
            "160/160 [==============================] - 31s 195ms/step - loss: 0.0039 - accuracy: 0.9998 - mse: 0.0017 - val_loss: 0.0041 - val_accuracy: 0.9969 - val_mse: 0.0019\n",
            "Epoch 20/100\n",
            "160/160 [==============================] - 31s 196ms/step - loss: 0.0091 - accuracy: 0.9976 - mse: 0.0044 - val_loss: 0.0099 - val_accuracy: 0.9907 - val_mse: 0.0064\n",
            "Epoch 21/100\n",
            "160/160 [==============================] - 31s 195ms/step - loss: 0.0045 - accuracy: 0.9994 - mse: 0.0019 - val_loss: 0.0134 - val_accuracy: 0.9872 - val_mse: 0.0110\n",
            "Epoch 22/100\n",
            "160/160 [==============================] - 31s 195ms/step - loss: 0.0034 - accuracy: 0.9999 - mse: 0.0014 - val_loss: 0.0039 - val_accuracy: 0.9978 - val_mse: 0.0021\n",
            "Epoch 23/100\n",
            "160/160 [==============================] - 31s 196ms/step - loss: 0.0028 - accuracy: 0.9999 - mse: 9.9636e-04 - val_loss: 0.0125 - val_accuracy: 0.9894 - val_mse: 0.0115\n",
            "Epoch 24/100\n",
            "160/160 [==============================] - 31s 195ms/step - loss: 0.0026 - accuracy: 0.9999 - mse: 9.0320e-04 - val_loss: 0.0051 - val_accuracy: 0.9960 - val_mse: 0.0033\n",
            "Epoch 25/100\n",
            "160/160 [==============================] - 32s 200ms/step - loss: 0.0027 - accuracy: 1.0000 - mse: 9.1054e-04 - val_loss: 0.0024 - val_accuracy: 1.0000 - val_mse: 3.1563e-04\n",
            "Epoch 26/100\n",
            "160/160 [==============================] - 31s 196ms/step - loss: 0.0059 - accuracy: 0.9988 - mse: 0.0025 - val_loss: 0.0031 - val_accuracy: 1.0000 - val_mse: 3.4025e-04\n",
            "Epoch 27/100\n",
            "160/160 [==============================] - 31s 196ms/step - loss: 0.0049 - accuracy: 0.9994 - mse: 0.0017 - val_loss: 0.0313 - val_accuracy: 0.9590 - val_mse: 0.0290\n",
            "Epoch 28/100\n",
            "160/160 [==============================] - 31s 195ms/step - loss: 0.0100 - accuracy: 0.9964 - mse: 0.0050 - val_loss: 0.3270 - val_accuracy: 0.4934 - val_mse: 0.3170\n",
            "Epoch 29/100\n",
            "160/160 [==============================] - 32s 199ms/step - loss: 0.0074 - accuracy: 0.9975 - mse: 0.0031 - val_loss: 0.0023 - val_accuracy: 1.0000 - val_mse: 7.4876e-05\n",
            "Epoch 30/100\n",
            "160/160 [==============================] - 32s 199ms/step - loss: 0.0030 - accuracy: 0.9995 - mse: 0.0011 - val_loss: 0.0016 - val_accuracy: 1.0000 - val_mse: 1.9402e-07\n",
            "Epoch 31/100\n",
            "160/160 [==============================] - 31s 195ms/step - loss: 0.0024 - accuracy: 0.9999 - mse: 8.0850e-04 - val_loss: 0.0019 - val_accuracy: 1.0000 - val_mse: 4.5846e-04\n",
            "Epoch 32/100\n",
            "160/160 [==============================] - 31s 196ms/step - loss: 0.0020 - accuracy: 0.9997 - mse: 6.1466e-04 - val_loss: 0.0018 - val_accuracy: 0.9996 - val_mse: 7.9470e-04\n",
            "Epoch 33/100\n",
            "160/160 [==============================] - 31s 195ms/step - loss: 0.0016 - accuracy: 1.0000 - mse: 4.3815e-04 - val_loss: 0.0018 - val_accuracy: 0.9982 - val_mse: 0.0011\n",
            "Epoch 34/100\n",
            "160/160 [==============================] - 32s 200ms/step - loss: 0.0015 - accuracy: 0.9999 - mse: 4.2506e-04 - val_loss: 0.0015 - val_accuracy: 0.9996 - val_mse: 4.4771e-04\n",
            "Epoch 35/100\n",
            "160/160 [==============================] - 31s 195ms/step - loss: 0.0019 - accuracy: 0.9998 - mse: 5.7029e-04 - val_loss: 0.0017 - val_accuracy: 1.0000 - val_mse: 0.0000e+00\n",
            "Epoch 36/100\n",
            "160/160 [==============================] - 31s 195ms/step - loss: 0.0041 - accuracy: 0.9989 - mse: 0.0017 - val_loss: 0.0881 - val_accuracy: 0.8929 - val_mse: 0.0797\n",
            "Epoch 37/100\n",
            "160/160 [==============================] - 31s 195ms/step - loss: 0.0087 - accuracy: 0.9967 - mse: 0.0039 - val_loss: 0.0216 - val_accuracy: 0.9740 - val_mse: 0.0156\n",
            "Epoch 38/100\n",
            "160/160 [==============================] - 32s 200ms/step - loss: 0.0026 - accuracy: 0.9996 - mse: 8.3586e-04 - val_loss: 9.3301e-04 - val_accuracy: 1.0000 - val_mse: 1.9180e-05\n",
            "Epoch 39/100\n",
            "160/160 [==============================] - 31s 195ms/step - loss: 0.0039 - accuracy: 0.9987 - mse: 0.0016 - val_loss: 0.0146 - val_accuracy: 0.9916 - val_mse: 0.0077\n",
            "Epoch 40/100\n",
            "160/160 [==============================] - 31s 197ms/step - loss: 0.0057 - accuracy: 0.9983 - mse: 0.0021 - val_loss: 0.0018 - val_accuracy: 1.0000 - val_mse: 3.3100e-04\n",
            "Epoch 41/100\n",
            "160/160 [==============================] - 31s 195ms/step - loss: 0.0024 - accuracy: 0.9996 - mse: 8.3367e-04 - val_loss: 0.0013 - val_accuracy: 1.0000 - val_mse: 1.1507e-05\n",
            "Epoch 42/100\n",
            "160/160 [==============================] - 31s 195ms/step - loss: 0.0014 - accuracy: 0.9999 - mse: 4.0143e-04 - val_loss: 0.0010 - val_accuracy: 1.0000 - val_mse: 2.1235e-05\n",
            "Epoch 43/100\n",
            "160/160 [==============================] - 31s 195ms/step - loss: 0.0012 - accuracy: 0.9999 - mse: 2.5281e-04 - val_loss: 0.0012 - val_accuracy: 1.0000 - val_mse: 5.7697e-04\n",
            "Epoch 44/100\n",
            "160/160 [==============================] - 31s 195ms/step - loss: 7.9631e-04 - accuracy: 1.0000 - mse: 1.8658e-04 - val_loss: 0.0056 - val_accuracy: 0.9947 - val_mse: 0.0046\n",
            "Epoch 45/100\n",
            "160/160 [==============================] - 31s 195ms/step - loss: 0.0012 - accuracy: 1.0000 - mse: 2.8457e-04 - val_loss: 0.0046 - val_accuracy: 0.9956 - val_mse: 0.0032\n",
            "Epoch 46/100\n",
            "160/160 [==============================] - 31s 195ms/step - loss: 0.0013 - accuracy: 0.9999 - mse: 3.2811e-04 - val_loss: 0.0079 - val_accuracy: 0.9925 - val_mse: 0.0067\n",
            "Epoch 47/100\n",
            "160/160 [==============================] - 31s 195ms/step - loss: 0.0012 - accuracy: 0.9999 - mse: 3.3053e-04 - val_loss: 0.0016 - val_accuracy: 0.9991 - val_mse: 7.8782e-04\n",
            "Epoch 48/100\n",
            "160/160 [==============================] - 31s 195ms/step - loss: 0.0028 - accuracy: 0.9992 - mse: 9.0399e-04 - val_loss: 0.0034 - val_accuracy: 0.9974 - val_mse: 0.0015\n",
            "Epoch 48: early stopping\n"
          ]
        }
      ],
      "source": [
        "model.compile(optimizer='adam',\n",
        "              loss='mse',\n",
        "              metrics=['accuracy','mse'])\n",
        "\n",
        "#Funcka umożliwia zatrzymanie się uczenia \n",
        "#gdy wartość strat przstanie maleć\n",
        "EarlyStop = EarlyStopping(monitor='val_loss',  \n",
        "                          verbose=1, \n",
        "                          patience=10)\n",
        "\n",
        "\n",
        "ModelCheck = ModelCheckpoint(filepath='/content/drive/MyDrive/Sieci/Przeplatane_forefox.h5',\n",
        "                             monitor='val_loss',\n",
        "                             save_best_only=True)\n",
        "\n",
        "history = model.fit(x=x_train, \n",
        "                    y=y_train, \n",
        "                    epochs=100,\n",
        "                    batch_size=128,\n",
        "                    validation_split=0.1,\n",
        "                    callbacks = [EarlyStop, ModelCheck]\n",
        "                   )"
      ]
    },
    {
      "cell_type": "code",
      "execution_count": 18,
      "id": "3680f8c1",
      "metadata": {
        "colab": {
          "base_uri": "https://localhost:8080/",
          "height": 300
        },
        "id": "3680f8c1",
        "outputId": "c38b2df1-9f95-4c54-8e11-0c672db920b8",
        "scrolled": true
      },
      "outputs": [
        {
          "output_type": "execute_result",
          "data": {
            "text/plain": [
              "<matplotlib.legend.Legend at 0x7f10122068b0>"
            ]
          },
          "metadata": {},
          "execution_count": 18
        },
        {
          "output_type": "display_data",
          "data": {
            "text/plain": [
              "<Figure size 432x288 with 1 Axes>"
            ],
            "image/png": "[encoded data removed]"
          },
          "metadata": {
            "needs_background": "light"
          }
        }
      ],
      "source": [
        "plt.plot(history.history['loss'], label='strata')\n",
        "plt.plot(history.history['val_loss'], label = 'strata walidacyjna')\n",
        "plt.xlabel('Epoka')\n",
        "plt.ylabel('Strata')\n",
        "plt.ylim([0.0, 0.5])\n",
        "plt.legend(loc='upper right')"
      ]
    },
    {
      "cell_type": "code",
      "execution_count": 19,
      "id": "fe8633db",
      "metadata": {
        "colab": {
          "base_uri": "https://localhost:8080/",
          "height": 300
        },
        "id": "fe8633db",
        "outputId": "01f4c958-d5a5-41d0-d0f2-2cba65ae90c1"
      },
      "outputs": [
        {
          "output_type": "execute_result",
          "data": {
            "text/plain": [
              "<matplotlib.legend.Legend at 0x7f1012228760>"
            ]
          },
          "metadata": {},
          "execution_count": 19
        },
        {
          "output_type": "display_data",
          "data": {
            "text/plain": [
              "<Figure size 432x288 with 1 Axes>"
            ],
            "image/png": "[encoded data removed]"
          },
          "metadata": {
            "needs_background": "light"
          }
        }
      ],
      "source": [
        "plt.plot(history.history['accuracy'], label='precyzja')\n",
        "plt.plot(history.history['val_accuracy'], label = 'precyzja walidacyjna')\n",
        "plt.xlabel('Epoka')\n",
        "plt.ylabel('Precyzja')\n",
        "plt.ylim([0.5, 1])\n",
        "plt.legend(loc='lower right')"
      ]
    },
    {
      "cell_type": "code",
      "execution_count": 20,
      "id": "685a286c",
      "metadata": {
        "colab": {
          "base_uri": "https://localhost:8080/"
        },
        "id": "685a286c",
        "outputId": "d0ac7ad5-416c-48bc-f8b1-6356946f3b66"
      },
      "outputs": [
        {
          "output_type": "stream",
          "name": "stdout",
          "text": [
            "79/79 - 1s - loss: 0.0476 - accuracy: 0.9345 - mse: 0.0457 - 1s/epoch - 17ms/step\n"
          ]
        },
        {
          "output_type": "execute_result",
          "data": {
            "text/plain": [
              "[0.04762442026057396, 0.9345238095238095, 0.04574419846933073]"
            ]
          },
          "metadata": {},
          "execution_count": 20
        }
      ],
      "source": [
        "model.evaluate(x_test,  y_test, verbose=2)"
      ]
    },
    {
      "cell_type": "code",
      "execution_count": 21,
      "id": "194f39e9",
      "metadata": {
        "id": "194f39e9"
      },
      "outputs": [],
      "source": [
        "best_model = tf.keras.models.load_model('/content/drive/MyDrive/Sieci/Przeplatane_forefox.h5')"
      ]
    },
    {
      "cell_type": "code",
      "execution_count": 22,
      "id": "ewHB7W_bskUm",
      "metadata": {
        "colab": {
          "base_uri": "https://localhost:8080/"
        },
        "id": "ewHB7W_bskUm",
        "outputId": "1aa925ec-e1ad-4c06-ae41-72ca25eb6e99"
      },
      "outputs": [
        {
          "output_type": "stream",
          "name": "stdout",
          "text": [
            "79/79 - 1s - loss: 0.0559 - accuracy: 0.9290 - mse: 0.0550 - 1s/epoch - 16ms/step\n"
          ]
        },
        {
          "output_type": "execute_result",
          "data": {
            "text/plain": [
              "[0.05591480337771651, 0.928968253968254, 0.05500097009282782]"
            ]
          },
          "metadata": {},
          "execution_count": 22
        }
      ],
      "source": [
        "best_model.evaluate(x_test,  y_test, verbose=2)"
      ]
    },
    {
      "cell_type": "code",
      "execution_count": 23,
      "id": "UXFfOAksska6",
      "metadata": {
        "colab": {
          "base_uri": "https://localhost:8080/"
        },
        "id": "UXFfOAksska6",
        "outputId": "5c23ca54-8f0f-402c-e63c-0a96eecd8bc2"
      },
      "outputs": [
        {
          "output_type": "stream",
          "name": "stdout",
          "text": [
            "79/79 [==============================] - 1s 11ms/step\n"
          ]
        }
      ],
      "source": [
        "predict_x = best_model.predict(x_test) \n",
        "\n",
        "predictions = (predict_x > 0.5).astype(\"int32\")"
      ]
    },
    {
      "cell_type": "code",
      "execution_count": 24,
      "id": "u4OPDhfgskeU",
      "metadata": {
        "colab": {
          "base_uri": "https://localhost:8080/"
        },
        "id": "u4OPDhfgskeU",
        "outputId": "a06de13a-52ca-4812-8f0a-c1d090cd1f53"
      },
      "outputs": [
        {
          "output_type": "stream",
          "name": "stdout",
          "text": [
            "[['Tn' 'Nn']\n",
            " ['Np' 'Tp']]\n",
            "tf.Tensor(\n",
            "[[1260    0]\n",
            " [ 179 1081]], shape=(2, 2), dtype=int32)\n"
          ]
        }
      ],
      "source": [
        "names = [['Tn','Nn'],['Np', 'Tp']]\n",
        "names = np.reshape(names,(2,2))\n",
        "print(names)\n",
        "\n",
        "conf = tf.math.confusion_matrix(y_test,predictions)\n",
        "\n",
        "print(conf)"
      ]
    }
  ],
  "metadata": {
    "accelerator": "GPU",
    "colab": {
      "provenance": []
    },
    "gpuClass": "standard",
    "kernelspec": {
      "display_name": "py39",
      "language": "python",
      "name": "py39"
    },
    "language_info": {
      "codemirror_mode": {
        "name": "ipython",
        "version": 3
      },
      "file_extension": ".py",
      "mimetype": "text/x-python",
      "name": "python",
      "nbconvert_exporter": "python",
      "pygments_lexer": "ipython3",
      "version": "3.9.12"
    }
  },
  "nbformat": 4,
  "nbformat_minor": 5
}