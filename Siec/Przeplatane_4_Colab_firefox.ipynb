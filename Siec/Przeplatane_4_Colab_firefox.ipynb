{
  "cells": [
    {
      "cell_type": "code",
      "execution_count": 1,
      "id": "613f08b5",
      "metadata": {
        "colab": {
          "base_uri": "https://localhost:8080/"
        },
        "id": "613f08b5",
        "outputId": "930b7c71-c20f-4e80-c2d8-99c693893ce5"
      },
      "outputs": [
        {
          "output_type": "stream",
          "name": "stdout",
          "text": [
            "3.8.16 (default, Dec  7 2022, 01:12:13) \n",
            "[GCC 7.5.0]\n"
          ]
        }
      ],
      "source": [
        "import sys\n",
        "print(sys.version)"
      ]
    },
    {
      "cell_type": "code",
      "execution_count": 2,
      "id": "0n78XAHmDiUv",
      "metadata": {
        "id": "0n78XAHmDiUv",
        "colab": {
          "base_uri": "https://localhost:8080/"
        },
        "outputId": "8af3ddd5-644f-4f3a-aa6e-b5fc6c1bd492"
      },
      "outputs": [
        {
          "output_type": "stream",
          "name": "stdout",
          "text": [
            "Mounted at /content/drive\n"
          ]
        }
      ],
      "source": [
        "from google.colab import drive\n",
        "drive.mount(\"/content/drive\", force_remount=True)"
      ]
    },
    {
      "cell_type": "code",
      "execution_count": 3,
      "id": "5eca1117",
      "metadata": {
        "colab": {
          "base_uri": "https://localhost:8080/"
        },
        "id": "5eca1117",
        "outputId": "927c81be-7b19-4aa1-f5f3-617fed1645c6"
      },
      "outputs": [
        {
          "output_type": "stream",
          "name": "stdout",
          "text": [
            "TensorFlow version: 2.9.2\n"
          ]
        }
      ],
      "source": [
        "import tensorflow as tf\n",
        "from tensorflow import keras\n",
        "from keras import layers, models, regularizers\n",
        "from keras.layers import Flatten, add, Dense, Dropout \n",
        "from keras.callbacks import ModelCheckpoint, EarlyStopping\n",
        "\n",
        "\n",
        "print(\"TensorFlow version:\", tf.__version__)\n",
        "tf.keras.backend.set_floatx('float64')"
      ]
    },
    {
      "cell_type": "code",
      "execution_count": 4,
      "id": "12022d37",
      "metadata": {
        "id": "12022d37"
      },
      "outputs": [],
      "source": [
        "import matplotlib.pyplot as plt\n",
        "import numpy as np\n",
        "import pandas as pd\n",
        "import seaborn as sns\n",
        "from PIL import Image\n",
        "import os\n",
        "import csv\n",
        "import random\n",
        "\n",
        "import cv2\n",
        "import imutils\n",
        "import glob\n",
        "# Make NumPy printouts easier to read.\n",
        "np.set_printoptions(precision=3, suppress=True)"
      ]
    },
    {
      "cell_type": "code",
      "execution_count": 5,
      "id": "1086f893",
      "metadata": {
        "id": "1086f893"
      },
      "outputs": [],
      "source": [
        "#Określenie ścieżek do plików\n",
        "test_zip = '/content/drive/MyDrive/Sieci/Baza_zdjec_przeplatane_2/Test.zip'\n",
        "test_csv = 'test.csv'\n",
        "\n",
        "train_zip = '/content/drive/MyDrive/Sieci/Baza_zdjec_przeplatane_2/Train.zip'\n",
        "train_csv = 'train.csv'\n",
        "\n",
        "folder = '/content/drive/MyDrive/Sieci/Baza_zdjec_przeplatane_2/'\n",
        "slesh = '/'\n",
        "png = '.png'"
      ]
    },
    {
      "cell_type": "code",
      "execution_count": 6,
      "id": "P6mVaPsPDDID",
      "metadata": {
        "id": "P6mVaPsPDDID"
      },
      "outputs": [],
      "source": [
        "#!unzip '/content/drive/MyDrive/Sieci/Baza_zdjec_przeplatane_2/Train.zip' -d '/content/train/'\n",
        "#!unzip '/content/drive/MyDrive/Sieci/Baza_zdjec_przeplatane_2/Test.zip' -d '/content/test/'"
      ]
    },
    {
      "cell_type": "code",
      "execution_count": 7,
      "id": "723b71fc",
      "metadata": {
        "id": "723b71fc"
      },
      "outputs": [],
      "source": [
        "def release_list(a):\n",
        "    \n",
        "    del a[:]\n",
        "    del a"
      ]
    },
    {
      "cell_type": "code",
      "execution_count": 8,
      "id": "5beb89e7",
      "metadata": {
        "colab": {
          "base_uri": "https://localhost:8080/"
        },
        "id": "5beb89e7",
        "outputId": "d4eb4056-6bcc-4282-bc3e-aae76964cf78"
      },
      "outputs": [
        {
          "output_type": "stream",
          "name": "stdout",
          "text": [
            "22680\n"
          ]
        }
      ],
      "source": [
        "#Wczytanie etykiet do treninegu \n",
        "\n",
        "with open(folder+train_csv,\"r\") as csvfile:\n",
        "    lines = csvfile.readlines()\n",
        "csvfile.close()\n",
        "\n",
        "new = []\n",
        "\n",
        "for i in lines:\n",
        "    new.append(i.split(\" \"))\n",
        "\n",
        "    \n",
        "value_train = []\n",
        "for i in new[0]:\n",
        "    value_train.append(int(i))    \n",
        "    \n",
        "print(len(value_train))"
      ]
    },
    {
      "cell_type": "code",
      "source": [
        "#Wczytanie etykiet do testowania\n",
        "\n",
        "with open(folder+test_csv,\"r\") as csvfile:\n",
        "    lines = csvfile.readlines()\n",
        "csvfile.close()\n",
        "\n",
        "new = []\n",
        "\n",
        "for i in lines:\n",
        "    new.append(i.split(\" \"))\n",
        "\n",
        "    \n",
        "value_test = []\n",
        "for i in new[0]:\n",
        "    value_test.append(int(i))    \n",
        "    \n",
        "print(len(value_test))"
      ],
      "metadata": {
        "id": "b9FTBM2X68V7",
        "colab": {
          "base_uri": "https://localhost:8080/"
        },
        "outputId": "c954b293-9415-4891-921b-401535536bdb"
      },
      "id": "b9FTBM2X68V7",
      "execution_count": 9,
      "outputs": [
        {
          "output_type": "stream",
          "name": "stdout",
          "text": [
            "2520\n"
          ]
        }
      ]
    },
    {
      "cell_type": "code",
      "execution_count": 10,
      "id": "d9cb09d8",
      "metadata": {
        "colab": {
          "base_uri": "https://localhost:8080/"
        },
        "id": "d9cb09d8",
        "outputId": "85496d07-41d9-4593-fd1e-9c5fad76747d"
      },
      "outputs": [
        {
          "output_type": "stream",
          "name": "stdout",
          "text": [
            "22680\n"
          ]
        }
      ],
      "source": [
        "#Wczytanie zdjęć treningowych (90% całego zbioru)\n",
        "images_train = []\n",
        "size = len(value_train)\n",
        "\n",
        "for i in range(size):\n",
        "    im = Image.open('/content/train/'+str(i)+'.png')\n",
        "    arr_im = np.array(im) \n",
        "    arr_im = arr_im / 255.0\n",
        "    images_train.append(arr_im) \n",
        "print(len(images_train))"
      ]
    },
    {
      "cell_type": "code",
      "source": [
        "#Wczytanie zdjęć testowych (10% całego zbioru)\n",
        "images_test = []\n",
        "size = len(value_test)\n",
        "\n",
        "for i in range(size):\n",
        "    im = Image.open('/content/test/'+str(i)+'.png')\n",
        "    arr_im = np.array(im) \n",
        "    arr_im = arr_im / 255.0\n",
        "    images_test.append(arr_im) \n",
        "print(len(images_test))"
      ],
      "metadata": {
        "id": "jyIF3G2Q6_eq",
        "colab": {
          "base_uri": "https://localhost:8080/"
        },
        "outputId": "fa662d89-e87a-4832-a374-1ef6d392972c"
      },
      "id": "jyIF3G2Q6_eq",
      "execution_count": 11,
      "outputs": [
        {
          "output_type": "stream",
          "name": "stdout",
          "text": [
            "2520\n"
          ]
        }
      ]
    },
    {
      "cell_type": "code",
      "execution_count": 12,
      "id": "f7f4dd4b",
      "metadata": {
        "id": "f7f4dd4b"
      },
      "outputs": [],
      "source": [
        "x_train = np.array(images_train)\n",
        "x_test = np.array(images_test)\n",
        "\n",
        "y_train = np.array(value_train)\n",
        "y_test = np.array(value_test)"
      ]
    },
    {
      "cell_type": "code",
      "execution_count": 13,
      "id": "d3a370cb",
      "metadata": {
        "colab": {
          "base_uri": "https://localhost:8080/",
          "height": 285
        },
        "id": "d3a370cb",
        "outputId": "6d0313a2-c7ea-4640-a3f3-1502f57ce209"
      },
      "outputs": [
        {
          "output_type": "stream",
          "name": "stdout",
          "text": [
            "0\n"
          ]
        },
        {
          "output_type": "display_data",
          "data": {
            "text/plain": [
              "<Figure size 432x288 with 1 Axes>"
            ],
            "image/png": "[encoded data removed]"
          },
          "metadata": {
            "needs_background": "light"
          }
        }
      ],
      "source": [
        "a = 19000\n",
        "plt.imshow(x_train[a],cmap = 'gray')\n",
        "print(y_train[a])"
      ]
    },
    {
      "cell_type": "code",
      "execution_count": 14,
      "id": "772c7d7c",
      "metadata": {
        "id": "772c7d7c"
      },
      "outputs": [],
      "source": [
        "model = models.Sequential()\n",
        "model.add(layers.Conv2D(32, (3, 3), activation='relu', input_shape=(128, 64, 1)))\n",
        "model.add(layers.MaxPooling2D((2, 2)))\n",
        "model.add(layers.Conv2D(32, (3, 3), activation='relu'))\n",
        "model.add(layers.MaxPooling2D((2, 2)))\n",
        "\n",
        "model.add(layers.BatchNormalization())\n",
        "\n",
        "model.add(layers.Conv2D(64, (3, 3), activation='relu'))\n",
        "model.add(layers.MaxPooling2D((2, 2)))\n",
        "model.add(layers.Conv2D(64, (3, 3), activation='relu'))\n",
        "model.add(layers.MaxPooling2D((2, 2)))\n",
        "\n",
        "\n",
        "model.add(layers.BatchNormalization())\n",
        "\n",
        "model.add(layers.Flatten())\n",
        "model.add(layers.Dense(64, activation='relu', kernel_regularizer=keras.regularizers.l2(l=0.1)))\n",
        "model.add(layers.Dense(1, activation='relu'))\n"
      ]
    },
    {
      "cell_type": "code",
      "execution_count": 15,
      "id": "b86f72df",
      "metadata": {
        "colab": {
          "base_uri": "https://localhost:8080/"
        },
        "id": "b86f72df",
        "outputId": "7f96073c-0b15-4b20-eb87-3fc7c8776e12"
      },
      "outputs": [
        {
          "output_type": "stream",
          "name": "stdout",
          "text": [
            "Model: \"sequential\"\n",
            "_________________________________________________________________\n",
            " Layer (type)                Output Shape              Param #   \n",
            "=================================================================\n",
            " conv2d (Conv2D)             (None, 126, 62, 32)       320       \n",
            "                                                                 \n",
            " max_pooling2d (MaxPooling2D  (None, 63, 31, 32)       0         \n",
            " )                                                               \n",
            "                                                                 \n",
            " conv2d_1 (Conv2D)           (None, 61, 29, 32)        9248      \n",
            "                                                                 \n",
            " max_pooling2d_1 (MaxPooling  (None, 30, 14, 32)       0         \n",
            " 2D)                                                             \n",
            "                                                                 \n",
            " batch_normalization (BatchN  (None, 30, 14, 32)       128       \n",
            " ormalization)                                                   \n",
            "                                                                 \n",
            " conv2d_2 (Conv2D)           (None, 28, 12, 64)        18496     \n",
            "                                                                 \n",
            " max_pooling2d_2 (MaxPooling  (None, 14, 6, 64)        0         \n",
            " 2D)                                                             \n",
            "                                                                 \n",
            " conv2d_3 (Conv2D)           (None, 12, 4, 64)         36928     \n",
            "                                                                 \n",
            " max_pooling2d_3 (MaxPooling  (None, 6, 2, 64)         0         \n",
            " 2D)                                                             \n",
            "                                                                 \n",
            " batch_normalization_1 (Batc  (None, 6, 2, 64)         256       \n",
            " hNormalization)                                                 \n",
            "                                                                 \n",
            " flatten (Flatten)           (None, 768)               0         \n",
            "                                                                 \n",
            " dense (Dense)               (None, 64)                49216     \n",
            "                                                                 \n",
            " dense_1 (Dense)             (None, 1)                 65        \n",
            "                                                                 \n",
            "=================================================================\n",
            "Total params: 114,657\n",
            "Trainable params: 114,465\n",
            "Non-trainable params: 192\n",
            "_________________________________________________________________\n"
          ]
        }
      ],
      "source": [
        "model.summary()"
      ]
    },
    {
      "cell_type": "code",
      "execution_count": 16,
      "id": "9beb77e5",
      "metadata": {
        "colab": {
          "base_uri": "https://localhost:8080/"
        },
        "id": "9beb77e5",
        "outputId": "2a346bd6-cd58-40e7-c162-de3cdf316a2a"
      },
      "outputs": [
        {
          "output_type": "stream",
          "name": "stdout",
          "text": [
            "Epoch 1/100\n",
            "160/160 [==============================] - 36s 198ms/step - loss: 2.4279 - accuracy: 0.8922 - mse: 0.1037 - val_loss: 0.1327 - val_accuracy: 1.0000 - val_mse: 0.0817\n",
            "Epoch 2/100\n",
            "160/160 [==============================] - 31s 191ms/step - loss: 0.0472 - accuracy: 0.9799 - mse: 0.0236 - val_loss: 0.1740 - val_accuracy: 0.8801 - val_mse: 0.1606\n",
            "Epoch 3/100\n",
            "160/160 [==============================] - 31s 192ms/step - loss: 0.0225 - accuracy: 0.9928 - mse: 0.0117 - val_loss: 0.1693 - val_accuracy: 0.7672 - val_mse: 0.1594\n",
            "Epoch 4/100\n",
            "160/160 [==============================] - 31s 194ms/step - loss: 0.0197 - accuracy: 0.9949 - mse: 0.0104 - val_loss: 0.0240 - val_accuracy: 0.9837 - val_mse: 0.0171\n",
            "Epoch 5/100\n",
            "160/160 [==============================] - 31s 195ms/step - loss: 0.0130 - accuracy: 0.9977 - mse: 0.0067 - val_loss: 0.0095 - val_accuracy: 0.9987 - val_mse: 0.0014\n",
            "Epoch 6/100\n",
            "160/160 [==============================] - 31s 195ms/step - loss: 0.0128 - accuracy: 0.9978 - mse: 0.0061 - val_loss: 0.0060 - val_accuracy: 0.9996 - val_mse: 5.2608e-04\n",
            "Epoch 7/100\n",
            "160/160 [==============================] - 30s 190ms/step - loss: 0.0101 - accuracy: 0.9984 - mse: 0.0050 - val_loss: 0.0169 - val_accuracy: 0.9841 - val_mse: 0.0122\n",
            "Epoch 8/100\n",
            "160/160 [==============================] - 30s 190ms/step - loss: 0.0105 - accuracy: 0.9979 - mse: 0.0050 - val_loss: 0.0206 - val_accuracy: 0.9806 - val_mse: 0.0151\n",
            "Epoch 9/100\n",
            "160/160 [==============================] - 30s 191ms/step - loss: 0.0062 - accuracy: 0.9997 - mse: 0.0027 - val_loss: 0.0132 - val_accuracy: 0.9885 - val_mse: 0.0099\n",
            "Epoch 10/100\n",
            "160/160 [==============================] - 31s 195ms/step - loss: 0.0062 - accuracy: 0.9999 - mse: 0.0029 - val_loss: 0.0037 - val_accuracy: 1.0000 - val_mse: 1.9191e-04\n",
            "Epoch 11/100\n",
            "160/160 [==============================] - 32s 197ms/step - loss: 0.0058 - accuracy: 0.9997 - mse: 0.0027 - val_loss: 0.0029 - val_accuracy: 1.0000 - val_mse: 3.6624e-05\n",
            "Epoch 12/100\n",
            "160/160 [==============================] - 31s 191ms/step - loss: 0.0046 - accuracy: 0.9997 - mse: 0.0019 - val_loss: 0.0038 - val_accuracy: 0.9996 - val_mse: 2.6860e-04\n",
            "Epoch 13/100\n",
            "160/160 [==============================] - 31s 191ms/step - loss: 0.0059 - accuracy: 0.9993 - mse: 0.0027 - val_loss: 0.0038 - val_accuracy: 1.0000 - val_mse: 1.5554e-06\n",
            "Epoch 14/100\n",
            "160/160 [==============================] - 30s 190ms/step - loss: 0.0049 - accuracy: 0.9997 - mse: 0.0019 - val_loss: 0.0143 - val_accuracy: 0.9828 - val_mse: 0.0115\n",
            "Epoch 15/100\n",
            "160/160 [==============================] - 31s 195ms/step - loss: 0.0051 - accuracy: 0.9994 - mse: 0.0022 - val_loss: 0.0024 - val_accuracy: 1.0000 - val_mse: 4.1797e-04\n",
            "Epoch 16/100\n",
            "160/160 [==============================] - 31s 195ms/step - loss: 0.0039 - accuracy: 0.9997 - mse: 0.0017 - val_loss: 0.0023 - val_accuracy: 1.0000 - val_mse: 1.4850e-04\n",
            "Epoch 17/100\n",
            "160/160 [==============================] - 31s 196ms/step - loss: 0.0042 - accuracy: 0.9997 - mse: 0.0017 - val_loss: 0.0018 - val_accuracy: 1.0000 - val_mse: 5.7342e-05\n",
            "Epoch 18/100\n",
            "160/160 [==============================] - 30s 190ms/step - loss: 0.0044 - accuracy: 0.9996 - mse: 0.0017 - val_loss: 0.0083 - val_accuracy: 0.9934 - val_mse: 0.0063\n",
            "Epoch 19/100\n",
            "160/160 [==============================] - 30s 190ms/step - loss: 0.0033 - accuracy: 0.9999 - mse: 0.0013 - val_loss: 0.0551 - val_accuracy: 0.9202 - val_mse: 0.0528\n",
            "Epoch 20/100\n",
            "160/160 [==============================] - 30s 191ms/step - loss: 0.0070 - accuracy: 0.9981 - mse: 0.0033 - val_loss: 0.0074 - val_accuracy: 1.0000 - val_mse: 0.0000e+00\n",
            "Epoch 21/100\n",
            "160/160 [==============================] - 30s 190ms/step - loss: 0.0082 - accuracy: 0.9977 - mse: 0.0037 - val_loss: 0.0026 - val_accuracy: 1.0000 - val_mse: 0.0000e+00\n",
            "Epoch 22/100\n",
            "160/160 [==============================] - 31s 191ms/step - loss: 0.0055 - accuracy: 0.9982 - mse: 0.0022 - val_loss: 0.0447 - val_accuracy: 0.9369 - val_mse: 0.0428\n",
            "Epoch 23/100\n",
            "160/160 [==============================] - 31s 194ms/step - loss: 0.0036 - accuracy: 0.9994 - mse: 0.0014 - val_loss: 0.0015 - val_accuracy: 1.0000 - val_mse: 2.4911e-05\n",
            "Epoch 24/100\n",
            "160/160 [==============================] - 30s 190ms/step - loss: 0.0018 - accuracy: 1.0000 - mse: 6.4985e-04 - val_loss: 0.0023 - val_accuracy: 0.9987 - val_mse: 0.0014\n",
            "Epoch 25/100\n",
            "160/160 [==============================] - 31s 194ms/step - loss: 0.0018 - accuracy: 0.9998 - mse: 6.6067e-04 - val_loss: 0.0205 - val_accuracy: 0.9771 - val_mse: 0.0168\n",
            "Epoch 26/100\n",
            "160/160 [==============================] - 30s 190ms/step - loss: 0.0039 - accuracy: 0.9993 - mse: 0.0014 - val_loss: 0.0036 - val_accuracy: 0.9974 - val_mse: 0.0020\n",
            "Epoch 27/100\n",
            "160/160 [==============================] - 30s 190ms/step - loss: 0.0032 - accuracy: 0.9993 - mse: 0.0012 - val_loss: 0.0048 - val_accuracy: 0.9960 - val_mse: 0.0027\n",
            "Epoch 28/100\n",
            "160/160 [==============================] - 30s 190ms/step - loss: 0.0042 - accuracy: 0.9986 - mse: 0.0016 - val_loss: 0.0863 - val_accuracy: 0.8999 - val_mse: 0.0838\n",
            "Epoch 29/100\n",
            "160/160 [==============================] - 30s 190ms/step - loss: 0.0042 - accuracy: 0.9986 - mse: 0.0016 - val_loss: 0.0137 - val_accuracy: 0.9846 - val_mse: 0.0125\n",
            "Epoch 30/100\n",
            "160/160 [==============================] - 30s 190ms/step - loss: 0.0016 - accuracy: 0.9999 - mse: 4.8509e-04 - val_loss: 0.0038 - val_accuracy: 0.9978 - val_mse: 0.0018\n",
            "Epoch 31/100\n",
            "160/160 [==============================] - 30s 190ms/step - loss: 0.0016 - accuracy: 0.9999 - mse: 4.1241e-04 - val_loss: 0.0016 - val_accuracy: 1.0000 - val_mse: 9.9235e-04\n",
            "Epoch 32/100\n",
            "160/160 [==============================] - 30s 190ms/step - loss: 0.0028 - accuracy: 0.9993 - mse: 0.0010 - val_loss: 0.0037 - val_accuracy: 0.9978 - val_mse: 0.0019\n",
            "Epoch 33/100\n",
            "160/160 [==============================] - 30s 191ms/step - loss: 0.0020 - accuracy: 0.9998 - mse: 6.2295e-04 - val_loss: 0.0406 - val_accuracy: 0.9480 - val_mse: 0.0374\n",
            "Epoch 33: early stopping\n"
          ]
        }
      ],
      "source": [
        "model.compile(optimizer='adam',\n",
        "              loss='mse',\n",
        "              metrics=['accuracy','mse'])\n",
        "\n",
        "#Funcka umożliwia zatrzymanie się uczenia \n",
        "#gdy wartość strat przstanie maleć\n",
        "EarlyStop = EarlyStopping(monitor='val_loss',  \n",
        "                          verbose=1, \n",
        "                          patience=10)\n",
        "\n",
        "\n",
        "ModelCheck = ModelCheckpoint(filepath='/content/drive/MyDrive/Sieci/Przeplatane_forefox.h5',\n",
        "                             monitor='val_loss',\n",
        "                             save_best_only=True)\n",
        "\n",
        "history = model.fit(x=x_train, \n",
        "                    y=y_train, \n",
        "                    epochs=100,\n",
        "                    batch_size=128,\n",
        "                    validation_split=0.1,\n",
        "                    callbacks = [EarlyStop, ModelCheck]\n",
        "                   )"
      ]
    },
    {
      "cell_type": "code",
      "execution_count": 17,
      "id": "3680f8c1",
      "metadata": {
        "colab": {
          "base_uri": "https://localhost:8080/",
          "height": 300
        },
        "id": "3680f8c1",
        "outputId": "e7d25a15-1988-4e72-8d2c-032f94373f18",
        "scrolled": true
      },
      "outputs": [
        {
          "output_type": "execute_result",
          "data": {
            "text/plain": [
              "<matplotlib.legend.Legend at 0x7f6d262f2100>"
            ]
          },
          "metadata": {},
          "execution_count": 17
        },
        {
          "output_type": "display_data",
          "data": {
            "text/plain": [
              "<Figure size 432x288 with 1 Axes>"
            ],
            "image/png": "[encoded data removed]"
          },
          "metadata": {
            "needs_background": "light"
          }
        }
      ],
      "source": [
        "plt.plot(history.history['loss'], label='strata')\n",
        "plt.plot(history.history['val_loss'], label = 'strata walidacyjna')\n",
        "plt.xlabel('Epoka')\n",
        "plt.ylabel('Strata')\n",
        "plt.ylim([0.0, 0.5])\n",
        "plt.legend(loc='upper right')"
      ]
    },
    {
      "cell_type": "code",
      "execution_count": 18,
      "id": "fe8633db",
      "metadata": {
        "colab": {
          "base_uri": "https://localhost:8080/",
          "height": 300
        },
        "id": "fe8633db",
        "outputId": "ab0d34f0-0098-4c4a-fac2-ae9ecfb48475"
      },
      "outputs": [
        {
          "output_type": "execute_result",
          "data": {
            "text/plain": [
              "<matplotlib.legend.Legend at 0x7f6d2634f5b0>"
            ]
          },
          "metadata": {},
          "execution_count": 18
        },
        {
          "output_type": "display_data",
          "data": {
            "text/plain": [
              "<Figure size 432x288 with 1 Axes>"
            ],
            "image/png": "[encoded data removed]"
          },
          "metadata": {
            "needs_background": "light"
          }
        }
      ],
      "source": [
        "plt.plot(history.history['accuracy'], label='precyzja')\n",
        "plt.plot(history.history['val_accuracy'], label = 'precyzja walidacyjna')\n",
        "plt.xlabel('Epoka')\n",
        "plt.ylabel('Precyzja')\n",
        "plt.ylim([0.5, 1])\n",
        "plt.legend(loc='lower right')"
      ]
    },
    {
      "cell_type": "code",
      "execution_count": 19,
      "id": "685a286c",
      "metadata": {
        "colab": {
          "base_uri": "https://localhost:8080/"
        },
        "id": "685a286c",
        "outputId": "e4320056-fe52-4755-ca37-2513a9e0276c"
      },
      "outputs": [
        {
          "output_type": "stream",
          "name": "stdout",
          "text": [
            "79/79 - 1s - loss: 0.1165 - accuracy: 0.8587 - mse: 0.1132 - 1s/epoch - 14ms/step\n"
          ]
        },
        {
          "output_type": "execute_result",
          "data": {
            "text/plain": [
              "[0.11647898011551974, 0.8587301587301587, 0.11319889545124524]"
            ]
          },
          "metadata": {},
          "execution_count": 19
        }
      ],
      "source": [
        "model.evaluate(x_test,  y_test, verbose=2)"
      ]
    },
    {
      "cell_type": "code",
      "execution_count": 20,
      "id": "194f39e9",
      "metadata": {
        "id": "194f39e9"
      },
      "outputs": [],
      "source": [
        "best_model = tf.keras.models.load_model('/content/drive/MyDrive/Sieci/Przeplatane_forefox.h5')"
      ]
    },
    {
      "cell_type": "code",
      "execution_count": 21,
      "id": "ewHB7W_bskUm",
      "metadata": {
        "colab": {
          "base_uri": "https://localhost:8080/"
        },
        "id": "ewHB7W_bskUm",
        "outputId": "3f6c58b3-275f-4b4a-b361-9e54c472c8a6"
      },
      "outputs": [
        {
          "output_type": "stream",
          "name": "stdout",
          "text": [
            "79/79 - 1s - loss: 0.0686 - accuracy: 0.8984 - mse: 0.0672 - 1s/epoch - 15ms/step\n"
          ]
        },
        {
          "output_type": "execute_result",
          "data": {
            "text/plain": [
              "[0.06863931948775086, 0.8984126984126984, 0.06717921694169042]"
            ]
          },
          "metadata": {},
          "execution_count": 21
        }
      ],
      "source": [
        "best_model.evaluate(x_test,  y_test, verbose=2)"
      ]
    },
    {
      "cell_type": "code",
      "execution_count": 22,
      "id": "UXFfOAksska6",
      "metadata": {
        "colab": {
          "base_uri": "https://localhost:8080/"
        },
        "id": "UXFfOAksska6",
        "outputId": "53071374-b37a-4712-9cc4-287ef2614e9e"
      },
      "outputs": [
        {
          "output_type": "stream",
          "name": "stdout",
          "text": [
            "79/79 [==============================] - 1s 11ms/step\n"
          ]
        }
      ],
      "source": [
        "predict_x = best_model.predict(x_test) \n",
        "\n",
        "predictions = (predict_x > 0.5).astype(\"int32\")"
      ]
    },
    {
      "cell_type": "code",
      "execution_count": 23,
      "id": "u4OPDhfgskeU",
      "metadata": {
        "colab": {
          "base_uri": "https://localhost:8080/"
        },
        "id": "u4OPDhfgskeU",
        "outputId": "89e126ff-d7f2-4e98-f800-aeb2f46fa81b"
      },
      "outputs": [
        {
          "output_type": "stream",
          "name": "stdout",
          "text": [
            "[['Tn' 'Nn']\n",
            " ['Np' 'Tp']]\n",
            "tf.Tensor(\n",
            "[[1248   12]\n",
            " [ 244 1016]], shape=(2, 2), dtype=int32)\n"
          ]
        }
      ],
      "source": [
        "names = [['Tn','Nn'],['Np', 'Tp']]\n",
        "names = np.reshape(names,(2,2))\n",
        "print(names)\n",
        "\n",
        "conf = tf.math.confusion_matrix(y_test,predictions)\n",
        "\n",
        "print(conf)"
      ]
    }
  ],
  "metadata": {
    "accelerator": "GPU",
    "colab": {
      "provenance": []
    },
    "gpuClass": "standard",
    "kernelspec": {
      "display_name": "py39",
      "language": "python",
      "name": "py39"
    },
    "language_info": {
      "codemirror_mode": {
        "name": "ipython",
        "version": 3
      },
      "file_extension": ".py",
      "mimetype": "text/x-python",
      "name": "python",
      "nbconvert_exporter": "python",
      "pygments_lexer": "ipython3",
      "version": "3.9.12"
    }
  },
  "nbformat": 4,
  "nbformat_minor": 5
}