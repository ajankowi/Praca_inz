{
  "cells": [
    {
      "cell_type": "code",
      "execution_count": 1,
      "id": "613f08b5",
      "metadata": {
        "colab": {
          "base_uri": "https://localhost:8080/"
        },
        "id": "613f08b5",
        "outputId": "669f1dee-825a-4435-9e57-69db1ce247b7"
      },
      "outputs": [
        {
          "output_type": "stream",
          "name": "stdout",
          "text": [
            "3.8.16 (default, Dec  7 2022, 01:12:13) \n",
            "[GCC 7.5.0]\n"
          ]
        }
      ],
      "source": [
        "import sys\n",
        "print(sys.version)"
      ]
    },
    {
      "cell_type": "code",
      "execution_count": 2,
      "id": "0n78XAHmDiUv",
      "metadata": {
        "id": "0n78XAHmDiUv",
        "colab": {
          "base_uri": "https://localhost:8080/"
        },
        "outputId": "547df5da-fcb6-4311-f876-3139d36c8c5b"
      },
      "outputs": [
        {
          "output_type": "stream",
          "name": "stdout",
          "text": [
            "Mounted at /content/drive\n"
          ]
        }
      ],
      "source": [
        "from google.colab import drive\n",
        "drive.mount(\"/content/drive\", force_remount=True)"
      ]
    },
    {
      "cell_type": "code",
      "execution_count": 3,
      "id": "5eca1117",
      "metadata": {
        "colab": {
          "base_uri": "https://localhost:8080/"
        },
        "id": "5eca1117",
        "outputId": "15ae8799-bb20-4289-9267-f4c32cae1b50"
      },
      "outputs": [
        {
          "output_type": "stream",
          "name": "stdout",
          "text": [
            "TensorFlow version: 2.9.2\n"
          ]
        }
      ],
      "source": [
        "import tensorflow as tf\n",
        "from tensorflow import keras\n",
        "from keras import layers, models, regularizers\n",
        "from keras.layers import Flatten, add, Dense, Dropout \n",
        "from keras.callbacks import ModelCheckpoint, EarlyStopping\n",
        "\n",
        "\n",
        "print(\"TensorFlow version:\", tf.__version__)\n",
        "tf.keras.backend.set_floatx('float64')"
      ]
    },
    {
      "cell_type": "code",
      "execution_count": 4,
      "id": "12022d37",
      "metadata": {
        "id": "12022d37"
      },
      "outputs": [],
      "source": [
        "import matplotlib.pyplot as plt\n",
        "import numpy as np\n",
        "import pandas as pd\n",
        "import seaborn as sns\n",
        "from PIL import Image\n",
        "import os\n",
        "import csv\n",
        "import random\n",
        "\n",
        "import cv2\n",
        "import imutils\n",
        "import glob\n",
        "# Make NumPy printouts easier to read.\n",
        "np.set_printoptions(precision=3, suppress=True)"
      ]
    },
    {
      "cell_type": "code",
      "execution_count": 5,
      "id": "1086f893",
      "metadata": {
        "id": "1086f893"
      },
      "outputs": [],
      "source": [
        "#Określenie ścieżek do plików\n",
        "test_zip = '/content/drive/MyDrive/Sieci/Baza_zdjec_przeplatane_2/Test.zip'\n",
        "test_csv = 'test.csv'\n",
        "\n",
        "train_zip = '/content/drive/MyDrive/Sieci/Baza_zdjec_przeplatane_2/Train.zip'\n",
        "train_csv = 'train.csv'\n",
        "\n",
        "folder = '/content/drive/MyDrive/Sieci/Baza_zdjec_przeplatane_2/'\n",
        "slesh = '/'\n",
        "png = '.png'"
      ]
    },
    {
      "cell_type": "code",
      "execution_count": 6,
      "id": "P6mVaPsPDDID",
      "metadata": {
        "id": "P6mVaPsPDDID",
        "colab": {
          "base_uri": "https://localhost:8080/"
        },
        "outputId": "ac3ce80a-6243-4aa7-fd94-30bc0521f364"
      },
      "outputs": [
        {
          "output_type": "stream",
          "name": "stdout",
          "text": [
            "Archive:  /content/drive/MyDrive/Sieci/Baza_zdjec_przeplatane_2/Train.zip\n",
            "replace /content/train/22679.png? [y]es, [n]o, [A]ll, [N]one, [r]ename: Archive:  /content/drive/MyDrive/Sieci/Baza_zdjec_przeplatane_2/Test.zip\n",
            "replace /content/test/2513.png? [y]es, [n]o, [A]ll, [N]one, [r]ename: "
          ]
        }
      ],
      "source": [
        "#!unzip '/content/drive/MyDrive/Sieci/Baza_zdjec_przeplatane_2/Train.zip' -d '/content/train/'\n",
        "#!unzip '/content/drive/MyDrive/Sieci/Baza_zdjec_przeplatane_2/Test.zip' -d '/content/test/'"
      ]
    },
    {
      "cell_type": "code",
      "execution_count": 13,
      "id": "723b71fc",
      "metadata": {
        "id": "723b71fc"
      },
      "outputs": [],
      "source": [
        "def release_list(a):\n",
        "    \n",
        "    del a[:]\n",
        "    del a"
      ]
    },
    {
      "cell_type": "code",
      "execution_count": 14,
      "id": "5beb89e7",
      "metadata": {
        "colab": {
          "base_uri": "https://localhost:8080/"
        },
        "id": "5beb89e7",
        "outputId": "478f4016-e01f-46c0-aa74-2ec851810749"
      },
      "outputs": [
        {
          "output_type": "stream",
          "name": "stdout",
          "text": [
            "22680\n"
          ]
        }
      ],
      "source": [
        "#Wczytanie etykiet do treninegu \n",
        "\n",
        "with open(folder+train_csv,\"r\") as csvfile:\n",
        "    lines = csvfile.readlines()\n",
        "csvfile.close()\n",
        "\n",
        "new = []\n",
        "\n",
        "for i in lines:\n",
        "    new.append(i.split(\" \"))\n",
        "\n",
        "    \n",
        "value_train = []\n",
        "for i in new[0]:\n",
        "    value_train.append(int(i))    \n",
        "    \n",
        "print(len(value_train))"
      ]
    },
    {
      "cell_type": "code",
      "source": [
        "#Wczytanie etykiet do testowania\n",
        "\n",
        "with open(folder+test_csv,\"r\") as csvfile:\n",
        "    lines = csvfile.readlines()\n",
        "csvfile.close()\n",
        "\n",
        "new = []\n",
        "\n",
        "for i in lines:\n",
        "    new.append(i.split(\" \"))\n",
        "\n",
        "    \n",
        "value_test = []\n",
        "for i in new[0]:\n",
        "    value_test.append(int(i))    \n",
        "    \n",
        "print(len(value_test))"
      ],
      "metadata": {
        "id": "b9FTBM2X68V7",
        "colab": {
          "base_uri": "https://localhost:8080/"
        },
        "outputId": "bd39d17f-d9bd-48eb-82c6-08ff401ac08f"
      },
      "id": "b9FTBM2X68V7",
      "execution_count": 15,
      "outputs": [
        {
          "output_type": "stream",
          "name": "stdout",
          "text": [
            "2520\n"
          ]
        }
      ]
    },
    {
      "cell_type": "code",
      "execution_count": 10,
      "id": "d9cb09d8",
      "metadata": {
        "colab": {
          "base_uri": "https://localhost:8080/"
        },
        "id": "d9cb09d8",
        "outputId": "41703460-5beb-4b81-ec43-6a89085069f5"
      },
      "outputs": [
        {
          "output_type": "stream",
          "name": "stdout",
          "text": [
            "22680\n"
          ]
        }
      ],
      "source": [
        "#Wczytanie zdjęć treningowych (90% całego zbioru)\n",
        "images_train = []\n",
        "size = len(value_train)\n",
        "\n",
        "for i in range(size):\n",
        "    im = Image.open('/content/train/'+str(i)+'.png')\n",
        "    arr_im = np.array(im) \n",
        "    arr_im = arr_im / 255.0\n",
        "    images_train.append(arr_im) \n",
        "print(len(images_train))"
      ]
    },
    {
      "cell_type": "code",
      "source": [
        "#Wczytanie zdjęć testowych (10% całego zbioru)\n",
        "images_test = []\n",
        "size = len(value_test)\n",
        "\n",
        "for i in range(size):\n",
        "    im = Image.open('/content/test/'+str(i)+'.png')\n",
        "    arr_im = np.array(im) \n",
        "    arr_im = arr_im / 255.0\n",
        "    images_test.append(arr_im) \n",
        "print(len(images_test))"
      ],
      "metadata": {
        "id": "jyIF3G2Q6_eq",
        "colab": {
          "base_uri": "https://localhost:8080/"
        },
        "outputId": "bbbfeeac-2505-416f-86af-4919b232cc52"
      },
      "id": "jyIF3G2Q6_eq",
      "execution_count": 11,
      "outputs": [
        {
          "output_type": "stream",
          "name": "stdout",
          "text": [
            "2520\n"
          ]
        }
      ]
    },
    {
      "cell_type": "code",
      "execution_count": 16,
      "id": "f7f4dd4b",
      "metadata": {
        "id": "f7f4dd4b"
      },
      "outputs": [],
      "source": [
        "x_train = np.array(images_train)\n",
        "x_test = np.array(images_test)\n",
        "\n",
        "y_train = np.array(value_train)\n",
        "y_test = np.array(value_test)"
      ]
    },
    {
      "cell_type": "code",
      "execution_count": 17,
      "id": "d3a370cb",
      "metadata": {
        "colab": {
          "base_uri": "https://localhost:8080/",
          "height": 285
        },
        "id": "d3a370cb",
        "outputId": "48f37fb6-39db-41ef-e689-2c36e87f8085"
      },
      "outputs": [
        {
          "output_type": "stream",
          "name": "stdout",
          "text": [
            "0\n"
          ]
        },
        {
          "output_type": "display_data",
          "data": {
            "text/plain": [
              "<Figure size 432x288 with 1 Axes>"
            ],
            "image/png": "[encoded data removed]"
          },
          "metadata": {
            "needs_background": "light"
          }
        }
      ],
      "source": [
        "a = 19000\n",
        "plt.imshow(x_train[a],cmap = 'gray')\n",
        "print(y_train[a])"
      ]
    },
    {
      "cell_type": "code",
      "execution_count": 18,
      "id": "772c7d7c",
      "metadata": {
        "id": "772c7d7c"
      },
      "outputs": [],
      "source": [
        "model = models.Sequential()\n",
        "model.add(layers.Conv2D(32, (3, 3), activation='relu', input_shape=(128, 64, 1)))\n",
        "model.add(layers.MaxPooling2D((2, 2)))\n",
        "model.add(layers.Conv2D(32, (3, 3), activation='relu'))\n",
        "model.add(layers.MaxPooling2D((2, 2)))\n",
        "\n",
        "model.add(layers.BatchNormalization())\n",
        "\n",
        "model.add(layers.Conv2D(64, (3, 3), activation='relu'))\n",
        "model.add(layers.MaxPooling2D((2, 2)))\n",
        "model.add(layers.Conv2D(64, (3, 3), activation='relu'))\n",
        "model.add(layers.MaxPooling2D((2, 2)))\n",
        "\n",
        "\n",
        "model.add(layers.BatchNormalization())\n",
        "\n",
        "model.add(layers.Flatten())\n",
        "model.add(layers.Dense(64, activation='relu'))\n",
        "model.add(layers.Dense(1, activation='relu'))\n"
      ]
    },
    {
      "cell_type": "code",
      "execution_count": 19,
      "id": "b86f72df",
      "metadata": {
        "colab": {
          "base_uri": "https://localhost:8080/"
        },
        "id": "b86f72df",
        "outputId": "13c5886c-889b-4e08-80ec-b406cefb593e"
      },
      "outputs": [
        {
          "output_type": "stream",
          "name": "stdout",
          "text": [
            "Model: \"sequential\"\n",
            "_________________________________________________________________\n",
            " Layer (type)                Output Shape              Param #   \n",
            "=================================================================\n",
            " conv2d (Conv2D)             (None, 126, 62, 32)       320       \n",
            "                                                                 \n",
            " max_pooling2d (MaxPooling2D  (None, 63, 31, 32)       0         \n",
            " )                                                               \n",
            "                                                                 \n",
            " conv2d_1 (Conv2D)           (None, 61, 29, 32)        9248      \n",
            "                                                                 \n",
            " max_pooling2d_1 (MaxPooling  (None, 30, 14, 32)       0         \n",
            " 2D)                                                             \n",
            "                                                                 \n",
            " batch_normalization (BatchN  (None, 30, 14, 32)       128       \n",
            " ormalization)                                                   \n",
            "                                                                 \n",
            " conv2d_2 (Conv2D)           (None, 28, 12, 64)        18496     \n",
            "                                                                 \n",
            " max_pooling2d_2 (MaxPooling  (None, 14, 6, 64)        0         \n",
            " 2D)                                                             \n",
            "                                                                 \n",
            " conv2d_3 (Conv2D)           (None, 12, 4, 64)         36928     \n",
            "                                                                 \n",
            " max_pooling2d_3 (MaxPooling  (None, 6, 2, 64)         0         \n",
            " 2D)                                                             \n",
            "                                                                 \n",
            " batch_normalization_1 (Batc  (None, 6, 2, 64)         256       \n",
            " hNormalization)                                                 \n",
            "                                                                 \n",
            " flatten (Flatten)           (None, 768)               0         \n",
            "                                                                 \n",
            " dense (Dense)               (None, 64)                49216     \n",
            "                                                                 \n",
            " dense_1 (Dense)             (None, 1)                 65        \n",
            "                                                                 \n",
            "=================================================================\n",
            "Total params: 114,657\n",
            "Trainable params: 114,465\n",
            "Non-trainable params: 192\n",
            "_________________________________________________________________\n"
          ]
        }
      ],
      "source": [
        "model.summary()"
      ]
    },
    {
      "cell_type": "code",
      "execution_count": 20,
      "id": "9beb77e5",
      "metadata": {
        "colab": {
          "base_uri": "https://localhost:8080/"
        },
        "id": "9beb77e5",
        "outputId": "66b9908e-815a-425f-f956-ff760065f500"
      },
      "outputs": [
        {
          "output_type": "stream",
          "name": "stdout",
          "text": [
            "Epoch 1/100\n",
            "160/160 [==============================] - 36s 195ms/step - loss: 3.0564 - accuracy: 0.8119 - mse: 0.1838 - val_loss: 0.2620 - val_accuracy: 0.9938 - val_mse: 0.1206\n",
            "Epoch 2/100\n",
            "160/160 [==============================] - 31s 194ms/step - loss: 0.0821 - accuracy: 0.9663 - mse: 0.0352 - val_loss: 0.0497 - val_accuracy: 1.0000 - val_mse: 0.0288\n",
            "Epoch 3/100\n",
            "160/160 [==============================] - 31s 195ms/step - loss: 0.0317 - accuracy: 0.9878 - mse: 0.0169 - val_loss: 0.0496 - val_accuracy: 0.9850 - val_mse: 0.0379\n",
            "Epoch 4/100\n",
            "160/160 [==============================] - 31s 193ms/step - loss: 0.0195 - accuracy: 0.9945 - mse: 0.0102 - val_loss: 0.0230 - val_accuracy: 0.9877 - val_mse: 0.0119\n",
            "Epoch 5/100\n",
            "160/160 [==============================] - 31s 194ms/step - loss: 0.0158 - accuracy: 0.9972 - mse: 0.0075 - val_loss: 0.0186 - val_accuracy: 0.9828 - val_mse: 0.0118\n",
            "Epoch 6/100\n",
            "160/160 [==============================] - 31s 194ms/step - loss: 0.0116 - accuracy: 0.9981 - mse: 0.0058 - val_loss: 0.0091 - val_accuracy: 0.9987 - val_mse: 5.4172e-04\n",
            "Epoch 7/100\n",
            "160/160 [==============================] - 31s 191ms/step - loss: 0.0126 - accuracy: 0.9975 - mse: 0.0061 - val_loss: 0.0214 - val_accuracy: 0.9775 - val_mse: 0.0159\n",
            "Epoch 8/100\n",
            "160/160 [==============================] - 30s 190ms/step - loss: 0.0098 - accuracy: 0.9987 - mse: 0.0051 - val_loss: 0.0259 - val_accuracy: 0.9696 - val_mse: 0.0203\n",
            "Epoch 9/100\n",
            "160/160 [==============================] - 31s 194ms/step - loss: 0.0078 - accuracy: 0.9995 - mse: 0.0038 - val_loss: 0.0084 - val_accuracy: 0.9960 - val_mse: 0.0035\n",
            "Epoch 10/100\n",
            "160/160 [==============================] - 31s 194ms/step - loss: 0.0071 - accuracy: 0.9996 - mse: 0.0032 - val_loss: 0.0068 - val_accuracy: 0.9965 - val_mse: 0.0028\n",
            "Epoch 11/100\n",
            "160/160 [==============================] - 30s 190ms/step - loss: 0.0084 - accuracy: 0.9989 - mse: 0.0043 - val_loss: 0.0787 - val_accuracy: 0.8915 - val_mse: 0.0747\n",
            "Epoch 12/100\n",
            "160/160 [==============================] - 32s 197ms/step - loss: 0.0076 - accuracy: 0.9985 - mse: 0.0037 - val_loss: 0.0060 - val_accuracy: 0.9987 - val_mse: 0.0020\n",
            "Epoch 13/100\n",
            "160/160 [==============================] - 30s 190ms/step - loss: 0.0054 - accuracy: 0.9993 - mse: 0.0025 - val_loss: 0.0244 - val_accuracy: 0.9696 - val_mse: 0.0205\n",
            "Epoch 14/100\n",
            "160/160 [==============================] - 30s 190ms/step - loss: 0.0060 - accuracy: 0.9994 - mse: 0.0028 - val_loss: 0.0077 - val_accuracy: 0.9965 - val_mse: 0.0051\n",
            "Epoch 15/100\n",
            "160/160 [==============================] - 30s 190ms/step - loss: 0.0043 - accuracy: 0.9997 - mse: 0.0018 - val_loss: 0.0483 - val_accuracy: 0.9321 - val_mse: 0.0451\n",
            "Epoch 16/100\n",
            "160/160 [==============================] - 31s 194ms/step - loss: 0.0055 - accuracy: 0.9994 - mse: 0.0025 - val_loss: 0.0028 - val_accuracy: 0.9996 - val_mse: 3.6296e-04\n",
            "Epoch 17/100\n",
            "160/160 [==============================] - 30s 190ms/step - loss: 0.0043 - accuracy: 0.9999 - mse: 0.0020 - val_loss: 0.0138 - val_accuracy: 0.9868 - val_mse: 0.0105\n",
            "Epoch 18/100\n",
            "160/160 [==============================] - 30s 190ms/step - loss: 0.0043 - accuracy: 0.9995 - mse: 0.0018 - val_loss: 0.0032 - val_accuracy: 1.0000 - val_mse: 0.0000e+00\n",
            "Epoch 19/100\n",
            "160/160 [==============================] - 30s 190ms/step - loss: 0.0042 - accuracy: 0.9994 - mse: 0.0016 - val_loss: 0.0059 - val_accuracy: 0.9943 - val_mse: 0.0039\n",
            "Epoch 20/100\n",
            "160/160 [==============================] - 30s 190ms/step - loss: 0.0030 - accuracy: 0.9999 - mse: 0.0011 - val_loss: 0.0392 - val_accuracy: 0.9493 - val_mse: 0.0376\n",
            "Epoch 21/100\n",
            "160/160 [==============================] - 30s 190ms/step - loss: 0.0056 - accuracy: 0.9987 - mse: 0.0024 - val_loss: 0.0280 - val_accuracy: 0.9608 - val_mse: 0.0258\n",
            "Epoch 22/100\n",
            "160/160 [==============================] - 30s 189ms/step - loss: 0.0041 - accuracy: 0.9995 - mse: 0.0016 - val_loss: 0.0033 - val_accuracy: 0.9991 - val_mse: 5.2566e-04\n",
            "Epoch 23/100\n",
            "160/160 [==============================] - 30s 189ms/step - loss: 0.0056 - accuracy: 0.9985 - mse: 0.0023 - val_loss: 0.0038 - val_accuracy: 1.0000 - val_mse: 3.9288e-04\n",
            "Epoch 24/100\n",
            "160/160 [==============================] - 30s 191ms/step - loss: 0.0042 - accuracy: 0.9995 - mse: 0.0014 - val_loss: 0.0297 - val_accuracy: 0.9608 - val_mse: 0.0275\n",
            "Epoch 25/100\n",
            "160/160 [==============================] - 32s 200ms/step - loss: 0.0022 - accuracy: 0.9997 - mse: 7.6461e-04 - val_loss: 0.0018 - val_accuracy: 0.9996 - val_mse: 2.2319e-04\n",
            "Epoch 26/100\n",
            "160/160 [==============================] - 30s 190ms/step - loss: 0.0023 - accuracy: 0.9998 - mse: 7.0775e-04 - val_loss: 0.0030 - val_accuracy: 0.9978 - val_mse: 0.0015\n",
            "Epoch 27/100\n",
            "160/160 [==============================] - 30s 190ms/step - loss: 0.0027 - accuracy: 0.9997 - mse: 7.5324e-04 - val_loss: 0.0137 - val_accuracy: 0.9846 - val_mse: 0.0121\n",
            "Epoch 28/100\n",
            "160/160 [==============================] - 30s 189ms/step - loss: 0.0050 - accuracy: 0.9984 - mse: 0.0019 - val_loss: 0.0047 - val_accuracy: 1.0000 - val_mse: 0.0000e+00\n",
            "Epoch 29/100\n",
            "160/160 [==============================] - 30s 189ms/step - loss: 0.0051 - accuracy: 0.9986 - mse: 0.0019 - val_loss: 0.0584 - val_accuracy: 0.9193 - val_mse: 0.0568\n",
            "Epoch 30/100\n",
            "160/160 [==============================] - 30s 190ms/step - loss: 0.0036 - accuracy: 0.9989 - mse: 0.0013 - val_loss: 0.0020 - val_accuracy: 1.0000 - val_mse: 0.0000e+00\n",
            "Epoch 31/100\n",
            "160/160 [==============================] - 30s 189ms/step - loss: 0.0061 - accuracy: 0.9980 - mse: 0.0024 - val_loss: 0.0020 - val_accuracy: 1.0000 - val_mse: 0.0000e+00\n",
            "Epoch 32/100\n",
            "160/160 [==============================] - 30s 190ms/step - loss: 0.0024 - accuracy: 0.9997 - mse: 8.1579e-04 - val_loss: 0.0035 - val_accuracy: 0.9982 - val_mse: 8.8760e-04\n",
            "Epoch 33/100\n",
            "160/160 [==============================] - 30s 190ms/step - loss: 0.0021 - accuracy: 0.9996 - mse: 5.5636e-04 - val_loss: 0.0035 - val_accuracy: 0.9974 - val_mse: 0.0019\n",
            "Epoch 34/100\n",
            "160/160 [==============================] - 30s 189ms/step - loss: 0.0013 - accuracy: 1.0000 - mse: 2.9389e-04 - val_loss: 0.0093 - val_accuracy: 0.9907 - val_mse: 0.0085\n",
            "Epoch 35/100\n",
            "160/160 [==============================] - 30s 190ms/step - loss: 0.0019 - accuracy: 0.9998 - mse: 5.5800e-04 - val_loss: 0.0035 - val_accuracy: 0.9982 - val_mse: 0.0021\n",
            "Epoch 35: early stopping\n"
          ]
        }
      ],
      "source": [
        "model.compile(optimizer='adam',\n",
        "              loss='mse',\n",
        "              metrics=['accuracy','mse'])\n",
        "\n",
        "#Funcka umożliwia zatrzymanie się uczenia \n",
        "#gdy wartość strat przstanie maleć\n",
        "EarlyStop = EarlyStopping(monitor='val_loss',  \n",
        "                          verbose=1, \n",
        "                          patience=10)\n",
        "\n",
        "\n",
        "ModelCheck = ModelCheckpoint(filepath='/content/drive/MyDrive/Sieci/Przeplatane_forefox.h5',\n",
        "                             monitor='val_loss',\n",
        "                             save_best_only=True)\n",
        "\n",
        "history = model.fit(x=x_train, \n",
        "                    y=y_train, \n",
        "                    epochs=100,\n",
        "                    batch_size=128,\n",
        "                    validation_split=0.1,\n",
        "                    callbacks = [EarlyStop, ModelCheck]\n",
        "                   )"
      ]
    },
    {
      "cell_type": "code",
      "execution_count": 21,
      "id": "3680f8c1",
      "metadata": {
        "colab": {
          "base_uri": "https://localhost:8080/",
          "height": 300
        },
        "id": "3680f8c1",
        "outputId": "d8e29875-cf2e-48f1-840d-b42063a0686b",
        "scrolled": true
      },
      "outputs": [
        {
          "output_type": "execute_result",
          "data": {
            "text/plain": [
              "<matplotlib.legend.Legend at 0x7f60fc5b84c0>"
            ]
          },
          "metadata": {},
          "execution_count": 21
        },
        {
          "output_type": "display_data",
          "data": {
            "text/plain": [
              "<Figure size 432x288 with 1 Axes>"
            ],
            "image/png": "[encoded data removed]"
          },
          "metadata": {
            "needs_background": "light"
          }
        }
      ],
      "source": [
        "plt.plot(history.history['loss'], label='strata')\n",
        "plt.plot(history.history['val_loss'], label = 'strata walidacyjna')\n",
        "plt.xlabel('Epoka')\n",
        "plt.ylabel('Strata')\n",
        "plt.ylim([0.0, 0.5])\n",
        "plt.legend(loc='upper right')"
      ]
    },
    {
      "cell_type": "code",
      "execution_count": 22,
      "id": "fe8633db",
      "metadata": {
        "colab": {
          "base_uri": "https://localhost:8080/",
          "height": 300
        },
        "id": "fe8633db",
        "outputId": "998ff5cb-d16a-46b9-f004-0dfe7049900a"
      },
      "outputs": [
        {
          "output_type": "execute_result",
          "data": {
            "text/plain": [
              "<matplotlib.legend.Legend at 0x7f60fc62e5b0>"
            ]
          },
          "metadata": {},
          "execution_count": 22
        },
        {
          "output_type": "display_data",
          "data": {
            "text/plain": [
              "<Figure size 432x288 with 1 Axes>"
            ],
            "image/png": "[encoded data removed]"
          },
          "metadata": {
            "needs_background": "light"
          }
        }
      ],
      "source": [
        "plt.plot(history.history['accuracy'], label='precyzja')\n",
        "plt.plot(history.history['val_accuracy'], label = 'precyzja walidacyjna')\n",
        "plt.xlabel('Epoka')\n",
        "plt.ylabel('Precyzja')\n",
        "plt.ylim([0.5, 1])\n",
        "plt.legend(loc='lower right')"
      ]
    },
    {
      "cell_type": "code",
      "execution_count": 23,
      "id": "685a286c",
      "metadata": {
        "colab": {
          "base_uri": "https://localhost:8080/"
        },
        "id": "685a286c",
        "outputId": "6ce72fa1-b01e-4f5e-ee27-433d7836284f"
      },
      "outputs": [
        {
          "output_type": "stream",
          "name": "stdout",
          "text": [
            "79/79 - 1s - loss: 0.0223 - accuracy: 0.9722 - mse: 0.0209 - 1s/epoch - 16ms/step\n"
          ]
        },
        {
          "output_type": "execute_result",
          "data": {
            "text/plain": [
              "[0.022335898849290922, 0.9722222222222222, 0.020934954015023138]"
            ]
          },
          "metadata": {},
          "execution_count": 23
        }
      ],
      "source": [
        "model.evaluate(x_test,  y_test, verbose=2)"
      ]
    },
    {
      "cell_type": "code",
      "execution_count": 24,
      "id": "194f39e9",
      "metadata": {
        "id": "194f39e9"
      },
      "outputs": [],
      "source": [
        "best_model = tf.keras.models.load_model('/content/drive/MyDrive/Sieci/Przeplatane_forefox.h5')"
      ]
    },
    {
      "cell_type": "code",
      "execution_count": 25,
      "id": "ewHB7W_bskUm",
      "metadata": {
        "colab": {
          "base_uri": "https://localhost:8080/"
        },
        "id": "ewHB7W_bskUm",
        "outputId": "83bd40a2-3fbc-44a1-a769-a6891ed87ba0"
      },
      "outputs": [
        {
          "output_type": "stream",
          "name": "stdout",
          "text": [
            "79/79 - 1s - loss: 0.1057 - accuracy: 0.8722 - mse: 0.1041 - 1s/epoch - 16ms/step\n"
          ]
        },
        {
          "output_type": "execute_result",
          "data": {
            "text/plain": [
              "[0.10574003217665777, 0.8722222222222222, 0.10413515069386103]"
            ]
          },
          "metadata": {},
          "execution_count": 25
        }
      ],
      "source": [
        "best_model.evaluate(x_test,  y_test, verbose=2)"
      ]
    },
    {
      "cell_type": "code",
      "execution_count": 26,
      "id": "UXFfOAksska6",
      "metadata": {
        "colab": {
          "base_uri": "https://localhost:8080/"
        },
        "id": "UXFfOAksska6",
        "outputId": "dd87cd21-0f2f-4e94-d9ac-8e21e333f511"
      },
      "outputs": [
        {
          "output_type": "stream",
          "name": "stdout",
          "text": [
            "79/79 [==============================] - 1s 11ms/step\n"
          ]
        }
      ],
      "source": [
        "predict_x = best_model.predict(x_test) \n",
        "\n",
        "predictions = (predict_x > 0.5).astype(\"int32\")"
      ]
    },
    {
      "cell_type": "code",
      "execution_count": 27,
      "id": "u4OPDhfgskeU",
      "metadata": {
        "colab": {
          "base_uri": "https://localhost:8080/"
        },
        "id": "u4OPDhfgskeU",
        "outputId": "082af546-36a0-4bc6-bd64-86f8c13b8dab"
      },
      "outputs": [
        {
          "output_type": "stream",
          "name": "stdout",
          "text": [
            "[['Tn' 'Nn']\n",
            " ['Np' 'Tp']]\n",
            "tf.Tensor(\n",
            "[[1260    0]\n",
            " [ 322  938]], shape=(2, 2), dtype=int32)\n"
          ]
        }
      ],
      "source": [
        "names = [['Tn','Nn'],['Np', 'Tp']]\n",
        "names = np.reshape(names,(2,2))\n",
        "print(names)\n",
        "\n",
        "conf = tf.math.confusion_matrix(y_test,predictions)\n",
        "\n",
        "print(conf)"
      ]
    }
  ],
  "metadata": {
    "accelerator": "GPU",
    "colab": {
      "provenance": []
    },
    "gpuClass": "standard",
    "kernelspec": {
      "display_name": "py39",
      "language": "python",
      "name": "py39"
    },
    "language_info": {
      "codemirror_mode": {
        "name": "ipython",
        "version": 3
      },
      "file_extension": ".py",
      "mimetype": "text/x-python",
      "name": "python",
      "nbconvert_exporter": "python",
      "pygments_lexer": "ipython3",
      "version": "3.9.12"
    }
  },
  "nbformat": 4,
  "nbformat_minor": 5
}