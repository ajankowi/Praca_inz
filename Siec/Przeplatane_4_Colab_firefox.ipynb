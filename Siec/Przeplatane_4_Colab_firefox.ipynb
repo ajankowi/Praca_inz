{
  "cells": [
    {
      "cell_type": "code",
      "execution_count": 1,
      "id": "613f08b5",
      "metadata": {
        "colab": {
          "base_uri": "https://localhost:8080/"
        },
        "id": "613f08b5",
        "outputId": "da037d73-521d-4e0d-ddc9-791ffab184d4"
      },
      "outputs": [
        {
          "output_type": "stream",
          "name": "stdout",
          "text": [
            "3.8.16 (default, Dec  7 2022, 01:12:13) \n",
            "[GCC 7.5.0]\n"
          ]
        }
      ],
      "source": [
        "import sys\n",
        "print(sys.version)"
      ]
    },
    {
      "cell_type": "code",
      "execution_count": 2,
      "id": "0n78XAHmDiUv",
      "metadata": {
        "id": "0n78XAHmDiUv",
        "colab": {
          "base_uri": "https://localhost:8080/"
        },
        "outputId": "aca70d0a-5fbd-44d8-d913-d50818292b70"
      },
      "outputs": [
        {
          "output_type": "stream",
          "name": "stdout",
          "text": [
            "Mounted at /content/drive\n"
          ]
        }
      ],
      "source": [
        "from google.colab import drive\n",
        "drive.mount(\"/content/drive\", force_remount=True)"
      ]
    },
    {
      "cell_type": "code",
      "execution_count": 3,
      "id": "5eca1117",
      "metadata": {
        "colab": {
          "base_uri": "https://localhost:8080/"
        },
        "id": "5eca1117",
        "outputId": "79af4bc4-31b0-4b30-e4cf-a8e88409523d"
      },
      "outputs": [
        {
          "output_type": "stream",
          "name": "stdout",
          "text": [
            "TensorFlow version: 2.9.2\n"
          ]
        }
      ],
      "source": [
        "import tensorflow as tf\n",
        "from tensorflow import keras\n",
        "from keras import layers, models, regularizers\n",
        "from keras.layers import Flatten, add, Dense, Dropout \n",
        "from keras.callbacks import ModelCheckpoint, EarlyStopping\n",
        "\n",
        "\n",
        "print(\"TensorFlow version:\", tf.__version__)\n",
        "tf.keras.backend.set_floatx('float64')"
      ]
    },
    {
      "cell_type": "code",
      "execution_count": 4,
      "id": "12022d37",
      "metadata": {
        "id": "12022d37"
      },
      "outputs": [],
      "source": [
        "import matplotlib.pyplot as plt\n",
        "import numpy as np\n",
        "import pandas as pd\n",
        "import seaborn as sns\n",
        "from PIL import Image\n",
        "import os\n",
        "import csv\n",
        "import random\n",
        "\n",
        "import cv2\n",
        "import imutils\n",
        "import glob\n",
        "# Make NumPy printouts easier to read.\n",
        "np.set_printoptions(precision=3, suppress=True)"
      ]
    },
    {
      "cell_type": "code",
      "execution_count": 5,
      "id": "1086f893",
      "metadata": {
        "id": "1086f893"
      },
      "outputs": [],
      "source": [
        "#Określenie ścieżek do plików\n",
        "test_zip = '/content/drive/MyDrive/Sieci/Baza_zdjec_przeplatane_2/Test.zip'\n",
        "test_csv = 'test.csv'\n",
        "\n",
        "train_zip = '/content/drive/MyDrive/Sieci/Baza_zdjec_przeplatane_2/Train_2.zip'\n",
        "train_csv = 'train_2.csv'\n",
        "\n",
        "valid_csv = 'valid_2.csv'\n",
        "\n",
        "folder = '/content/drive/MyDrive/Sieci/Baza_zdjec_przeplatane_2/'\n",
        "slesh = '/'\n",
        "png = '.png'"
      ]
    },
    {
      "cell_type": "code",
      "execution_count": 6,
      "id": "P6mVaPsPDDID",
      "metadata": {
        "id": "P6mVaPsPDDID"
      },
      "outputs": [],
      "source": [
        "#!unzip '/content/drive/MyDrive/Sieci/Baza_zdjec_przeplatane_2/Train_2.zip' -d '/content/train/'\n",
        "#!unzip '/content/drive/MyDrive/Sieci/Baza_zdjec_przeplatane_2/Test.zip' -d '/content/test/'\n",
        "#!unzip '/content/drive/MyDrive/Sieci/Baza_zdjec_przeplatane_2/Valid_2.zip' -d '/content/valid/'"
      ]
    },
    {
      "cell_type": "code",
      "execution_count": 7,
      "id": "723b71fc",
      "metadata": {
        "id": "723b71fc"
      },
      "outputs": [],
      "source": [
        "def release_list(a):\n",
        "    \n",
        "    del a[:]\n",
        "    del a"
      ]
    },
    {
      "cell_type": "code",
      "execution_count": 8,
      "id": "5beb89e7",
      "metadata": {
        "colab": {
          "base_uri": "https://localhost:8080/"
        },
        "id": "5beb89e7",
        "outputId": "648c3ace-f4fe-4fc1-dbf1-0ca884a77d37"
      },
      "outputs": [
        {
          "output_type": "stream",
          "name": "stdout",
          "text": [
            "20160\n"
          ]
        }
      ],
      "source": [
        "#Wczytanie etykiet do treninegu \n",
        "\n",
        "with open(folder+train_csv,\"r\") as csvfile:\n",
        "    lines = csvfile.readlines()\n",
        "csvfile.close()\n",
        "\n",
        "new = []\n",
        "\n",
        "for i in lines:\n",
        "    new.append(i.split(\" \"))\n",
        "\n",
        "    \n",
        "value_train = []\n",
        "for i in new[0]:\n",
        "    value_train.append(int(i))    \n",
        "    \n",
        "print(len(value_train))"
      ]
    },
    {
      "cell_type": "code",
      "source": [
        "#Wczytanie etykiet do walidacji\n",
        "\n",
        "with open(folder+valid_csv,\"r\") as csvfile:\n",
        "    lines = csvfile.readlines()\n",
        "csvfile.close()\n",
        "\n",
        "new = []\n",
        "\n",
        "for i in lines:\n",
        "    new.append(i.split(\" \"))\n",
        "\n",
        "    \n",
        "value_valid = []\n",
        "for i in new[0]:\n",
        "    value_valid.append(int(i))    \n",
        "    \n",
        "print(len(value_valid))"
      ],
      "metadata": {
        "colab": {
          "base_uri": "https://localhost:8080/"
        },
        "id": "mhVB00YnIfby",
        "outputId": "4bd801a3-ad11-4f13-b21a-eb7a29048b45"
      },
      "id": "mhVB00YnIfby",
      "execution_count": 9,
      "outputs": [
        {
          "output_type": "stream",
          "name": "stdout",
          "text": [
            "2520\n"
          ]
        }
      ]
    },
    {
      "cell_type": "code",
      "source": [
        "#Wczytanie etykiet do testowania\n",
        "\n",
        "with open(folder+test_csv,\"r\") as csvfile:\n",
        "    lines = csvfile.readlines()\n",
        "csvfile.close()\n",
        "\n",
        "new = []\n",
        "\n",
        "for i in lines:\n",
        "    new.append(i.split(\" \"))\n",
        "\n",
        "    \n",
        "value_test = []\n",
        "for i in new[0]:\n",
        "    value_test.append(int(i))    \n",
        "    \n",
        "print(len(value_test))"
      ],
      "metadata": {
        "id": "b9FTBM2X68V7",
        "colab": {
          "base_uri": "https://localhost:8080/"
        },
        "outputId": "210dd9d2-2e6d-4a66-b5db-7e8a06ebf94f"
      },
      "id": "b9FTBM2X68V7",
      "execution_count": 10,
      "outputs": [
        {
          "output_type": "stream",
          "name": "stdout",
          "text": [
            "2520\n"
          ]
        }
      ]
    },
    {
      "cell_type": "code",
      "execution_count": 11,
      "id": "d9cb09d8",
      "metadata": {
        "colab": {
          "base_uri": "https://localhost:8080/"
        },
        "id": "d9cb09d8",
        "outputId": "6a035c27-10e2-4a41-d2a9-f6b4be6efd36"
      },
      "outputs": [
        {
          "output_type": "stream",
          "name": "stdout",
          "text": [
            "20160\n"
          ]
        }
      ],
      "source": [
        "#Wczytanie zdjęć treningowych (80% całego zbioru)\n",
        "images_train = []\n",
        "size = len(value_train)\n",
        "\n",
        "for i in range(size):\n",
        "    im = Image.open('/content/train/'+str(i)+'.png')\n",
        "    arr_im = np.array(im) \n",
        "    arr_im = arr_im / 255.0\n",
        "    images_train.append(arr_im) \n",
        "print(len(images_train))"
      ]
    },
    {
      "cell_type": "code",
      "source": [
        "#Wczytanie zdjęć treningowych (10% całego zbioru)\n",
        "images_valid = []\n",
        "size = len(value_valid)\n",
        "\n",
        "for i in range(size):\n",
        "    im = Image.open('/content/valid/'+str(i)+'.png')\n",
        "    arr_im = np.array(im) \n",
        "    arr_im = arr_im / 255.0\n",
        "    images_valid.append(arr_im) \n",
        "print(len(images_valid))"
      ],
      "metadata": {
        "colab": {
          "base_uri": "https://localhost:8080/"
        },
        "id": "slNwxqJXIlxn",
        "outputId": "7e084e2c-e0a3-4114-d384-f333ab9cfbd4"
      },
      "id": "slNwxqJXIlxn",
      "execution_count": 12,
      "outputs": [
        {
          "output_type": "stream",
          "name": "stdout",
          "text": [
            "2520\n"
          ]
        }
      ]
    },
    {
      "cell_type": "code",
      "source": [
        "#Wczytanie zdjęć testowych (10% całego zbioru)\n",
        "images_test = []\n",
        "size = len(value_test)\n",
        "\n",
        "for i in range(size):\n",
        "    im = Image.open('/content/test/'+str(i)+'.png')\n",
        "    arr_im = np.array(im) \n",
        "    arr_im = arr_im / 255.0\n",
        "    images_test.append(arr_im) \n",
        "print(len(images_test))"
      ],
      "metadata": {
        "id": "jyIF3G2Q6_eq",
        "colab": {
          "base_uri": "https://localhost:8080/"
        },
        "outputId": "2c9f078a-5d79-438a-bd4f-08ea733df9d1"
      },
      "id": "jyIF3G2Q6_eq",
      "execution_count": 13,
      "outputs": [
        {
          "output_type": "stream",
          "name": "stdout",
          "text": [
            "2520\n"
          ]
        }
      ]
    },
    {
      "cell_type": "code",
      "execution_count": 14,
      "id": "f7f4dd4b",
      "metadata": {
        "id": "f7f4dd4b"
      },
      "outputs": [],
      "source": [
        "x_train = np.array(images_train)\n",
        "x_test = np.array(images_test)\n",
        "x_valid = np.array(images_valid)\n",
        "\n",
        "y_train = np.array(value_train)\n",
        "y_test = np.array(value_test)\n",
        "y_valid = np.array(value_valid)"
      ]
    },
    {
      "cell_type": "code",
      "execution_count": 15,
      "id": "d3a370cb",
      "metadata": {
        "colab": {
          "base_uri": "https://localhost:8080/",
          "height": 285
        },
        "id": "d3a370cb",
        "outputId": "d7330ddc-7911-4e13-fe43-d40d8e77dcf9"
      },
      "outputs": [
        {
          "output_type": "stream",
          "name": "stdout",
          "text": [
            "0\n"
          ]
        },
        {
          "output_type": "display_data",
          "data": {
            "text/plain": [
              "<Figure size 432x288 with 1 Axes>"
            ],
            "image/png": "[encoded data removed]"
          },
          "metadata": {
            "needs_background": "light"
          }
        }
      ],
      "source": [
        "a = 19000\n",
        "plt.imshow(x_train[a],cmap = 'gray')\n",
        "print(y_train[a])"
      ]
    },
    {
      "cell_type": "code",
      "execution_count": 16,
      "id": "772c7d7c",
      "metadata": {
        "id": "772c7d7c"
      },
      "outputs": [],
      "source": [
        "model = models.Sequential()\n",
        "model.add(layers.Conv2D(32, (3, 3), activation='relu', input_shape=(128, 64, 1)))\n",
        "model.add(layers.MaxPooling2D((2, 2)))\n",
        "\n",
        "model.add(layers.BatchNormalization())\n",
        "\n",
        "model.add(layers.Conv2D(32, (3, 3), activation='relu'))\n",
        "model.add(layers.MaxPooling2D((2, 2)))\n",
        "\n",
        "model.add(layers.BatchNormalization())\n",
        "\n",
        "model.add(layers.Conv2D(64, (3, 3), activation='relu'))\n",
        "model.add(layers.MaxPooling2D((2, 2)))\n",
        "\n",
        "model.add(layers.BatchNormalization())\n",
        "\n",
        "model.add(layers.Conv2D(64, (3, 3), activation='relu'))\n",
        "model.add(layers.MaxPooling2D((2, 2)))\n",
        "\n",
        "\n",
        "model.add(layers.BatchNormalization())\n",
        "\n",
        "model.add(layers.Flatten())\n",
        "model.add(layers.Dense(64, activation='relu'))\n",
        "model.add(layers.Dense(1, activation='relu'))\n"
      ]
    },
    {
      "cell_type": "code",
      "execution_count": 17,
      "id": "b86f72df",
      "metadata": {
        "colab": {
          "base_uri": "https://localhost:8080/"
        },
        "id": "b86f72df",
        "outputId": "a74145f9-f7a7-40d3-d1e9-b3ab6cae7108"
      },
      "outputs": [
        {
          "output_type": "stream",
          "name": "stdout",
          "text": [
            "Model: \"sequential\"\n",
            "_________________________________________________________________\n",
            " Layer (type)                Output Shape              Param #   \n",
            "=================================================================\n",
            " conv2d (Conv2D)             (None, 126, 62, 32)       320       \n",
            "                                                                 \n",
            " max_pooling2d (MaxPooling2D  (None, 63, 31, 32)       0         \n",
            " )                                                               \n",
            "                                                                 \n",
            " batch_normalization (BatchN  (None, 63, 31, 32)       128       \n",
            " ormalization)                                                   \n",
            "                                                                 \n",
            " conv2d_1 (Conv2D)           (None, 61, 29, 32)        9248      \n",
            "                                                                 \n",
            " max_pooling2d_1 (MaxPooling  (None, 30, 14, 32)       0         \n",
            " 2D)                                                             \n",
            "                                                                 \n",
            " batch_normalization_1 (Batc  (None, 30, 14, 32)       128       \n",
            " hNormalization)                                                 \n",
            "                                                                 \n",
            " conv2d_2 (Conv2D)           (None, 28, 12, 64)        18496     \n",
            "                                                                 \n",
            " max_pooling2d_2 (MaxPooling  (None, 14, 6, 64)        0         \n",
            " 2D)                                                             \n",
            "                                                                 \n",
            " batch_normalization_2 (Batc  (None, 14, 6, 64)        256       \n",
            " hNormalization)                                                 \n",
            "                                                                 \n",
            " conv2d_3 (Conv2D)           (None, 12, 4, 64)         36928     \n",
            "                                                                 \n",
            " max_pooling2d_3 (MaxPooling  (None, 6, 2, 64)         0         \n",
            " 2D)                                                             \n",
            "                                                                 \n",
            " batch_normalization_3 (Batc  (None, 6, 2, 64)         256       \n",
            " hNormalization)                                                 \n",
            "                                                                 \n",
            " flatten (Flatten)           (None, 768)               0         \n",
            "                                                                 \n",
            " dense (Dense)               (None, 64)                49216     \n",
            "                                                                 \n",
            " dense_1 (Dense)             (None, 1)                 65        \n",
            "                                                                 \n",
            "=================================================================\n",
            "Total params: 115,041\n",
            "Trainable params: 114,657\n",
            "Non-trainable params: 384\n",
            "_________________________________________________________________\n"
          ]
        }
      ],
      "source": [
        "model.summary()"
      ]
    },
    {
      "cell_type": "code",
      "execution_count": 18,
      "id": "9beb77e5",
      "metadata": {
        "colab": {
          "base_uri": "https://localhost:8080/"
        },
        "id": "9beb77e5",
        "outputId": "2547a38d-07d2-4f77-ceed-c13f7a9add51"
      },
      "outputs": [
        {
          "output_type": "stream",
          "name": "stdout",
          "text": [
            "Epoch 1/100\n",
            "158/158 [==============================] - 38s 215ms/step - loss: 0.0880 - accuracy: 0.9152 - mse: 0.0880 - val_loss: 0.2796 - val_accuracy: 0.5000 - val_mse: 0.2796\n",
            "Epoch 2/100\n",
            "158/158 [==============================] - 33s 208ms/step - loss: 0.0113 - accuracy: 0.9955 - mse: 0.0113 - val_loss: 0.3100 - val_accuracy: 0.5246 - val_mse: 0.3100\n",
            "Epoch 3/100\n",
            "158/158 [==============================] - 33s 211ms/step - loss: 0.0045 - accuracy: 0.9990 - mse: 0.0045 - val_loss: 0.2338 - val_accuracy: 0.6548 - val_mse: 0.2338\n",
            "Epoch 4/100\n",
            "158/158 [==============================] - 33s 211ms/step - loss: 0.0032 - accuracy: 0.9994 - mse: 0.0032 - val_loss: 0.1618 - val_accuracy: 0.7992 - val_mse: 0.1618\n",
            "Epoch 5/100\n",
            "158/158 [==============================] - 33s 210ms/step - loss: 0.0021 - accuracy: 0.9998 - mse: 0.0021 - val_loss: 0.0976 - val_accuracy: 0.8841 - val_mse: 0.0976\n",
            "Epoch 6/100\n",
            "158/158 [==============================] - 33s 207ms/step - loss: 0.0019 - accuracy: 0.9998 - mse: 0.0019 - val_loss: 0.0989 - val_accuracy: 0.8813 - val_mse: 0.0989\n",
            "Epoch 7/100\n",
            "158/158 [==============================] - 33s 206ms/step - loss: 0.0016 - accuracy: 1.0000 - mse: 0.0016 - val_loss: 0.1031 - val_accuracy: 0.8806 - val_mse: 0.1031\n",
            "Epoch 8/100\n",
            "158/158 [==============================] - 33s 211ms/step - loss: 9.8374e-04 - accuracy: 0.9999 - mse: 9.8374e-04 - val_loss: 0.0937 - val_accuracy: 0.8905 - val_mse: 0.0937\n",
            "Epoch 9/100\n",
            "158/158 [==============================] - 34s 212ms/step - loss: 8.0527e-04 - accuracy: 0.9999 - mse: 8.0527e-04 - val_loss: 0.0904 - val_accuracy: 0.8960 - val_mse: 0.0904\n",
            "Epoch 10/100\n",
            "158/158 [==============================] - 33s 206ms/step - loss: 8.2977e-04 - accuracy: 1.0000 - mse: 8.2977e-04 - val_loss: 0.0998 - val_accuracy: 0.8885 - val_mse: 0.0998\n",
            "Epoch 11/100\n",
            "158/158 [==============================] - 33s 211ms/step - loss: 9.7617e-04 - accuracy: 1.0000 - mse: 9.7617e-04 - val_loss: 0.0762 - val_accuracy: 0.9012 - val_mse: 0.0762\n",
            "Epoch 12/100\n",
            "158/158 [==============================] - 33s 207ms/step - loss: 7.0521e-04 - accuracy: 1.0000 - mse: 7.0521e-04 - val_loss: 0.0789 - val_accuracy: 0.9091 - val_mse: 0.0789\n",
            "Epoch 13/100\n",
            "158/158 [==============================] - 33s 207ms/step - loss: 5.5633e-04 - accuracy: 1.0000 - mse: 5.5633e-04 - val_loss: 0.0855 - val_accuracy: 0.8948 - val_mse: 0.0855\n",
            "Epoch 14/100\n",
            "158/158 [==============================] - 33s 206ms/step - loss: 5.3629e-04 - accuracy: 1.0000 - mse: 5.3629e-04 - val_loss: 0.1038 - val_accuracy: 0.8873 - val_mse: 0.1038\n",
            "Epoch 15/100\n",
            "158/158 [==============================] - 33s 207ms/step - loss: 6.9284e-04 - accuracy: 1.0000 - mse: 6.9284e-04 - val_loss: 0.0864 - val_accuracy: 0.9024 - val_mse: 0.0864\n",
            "Epoch 16/100\n",
            "158/158 [==============================] - 33s 207ms/step - loss: 4.8353e-04 - accuracy: 1.0000 - mse: 4.8353e-04 - val_loss: 0.0914 - val_accuracy: 0.8952 - val_mse: 0.0914\n",
            "Epoch 17/100\n",
            "158/158 [==============================] - 33s 207ms/step - loss: 4.3372e-04 - accuracy: 1.0000 - mse: 4.3372e-04 - val_loss: 0.0897 - val_accuracy: 0.8940 - val_mse: 0.0897\n",
            "Epoch 18/100\n",
            "158/158 [==============================] - 33s 208ms/step - loss: 4.0775e-04 - accuracy: 1.0000 - mse: 4.0775e-04 - val_loss: 0.0910 - val_accuracy: 0.8956 - val_mse: 0.0910\n",
            "Epoch 19/100\n",
            "158/158 [==============================] - 33s 208ms/step - loss: 2.8811e-04 - accuracy: 1.0000 - mse: 2.8811e-04 - val_loss: 0.1027 - val_accuracy: 0.8893 - val_mse: 0.1027\n",
            "Epoch 20/100\n",
            "158/158 [==============================] - 33s 208ms/step - loss: 9.7486e-04 - accuracy: 0.9996 - mse: 9.7486e-04 - val_loss: 0.0888 - val_accuracy: 0.8901 - val_mse: 0.0888\n",
            "Epoch 21/100\n",
            "158/158 [==============================] - 34s 218ms/step - loss: 0.0018 - accuracy: 0.9994 - mse: 0.0018 - val_loss: 0.0701 - val_accuracy: 0.9131 - val_mse: 0.0701\n",
            "Epoch 22/100\n",
            "158/158 [==============================] - 33s 208ms/step - loss: 4.9120e-04 - accuracy: 1.0000 - mse: 4.9120e-04 - val_loss: 0.0837 - val_accuracy: 0.8913 - val_mse: 0.0837\n",
            "Epoch 23/100\n",
            "158/158 [==============================] - 33s 208ms/step - loss: 2.8261e-04 - accuracy: 1.0000 - mse: 2.8261e-04 - val_loss: 0.0886 - val_accuracy: 0.8881 - val_mse: 0.0886\n",
            "Epoch 24/100\n",
            "158/158 [==============================] - 33s 207ms/step - loss: 3.0354e-04 - accuracy: 1.0000 - mse: 3.0354e-04 - val_loss: 0.0869 - val_accuracy: 0.8722 - val_mse: 0.0869\n",
            "Epoch 25/100\n",
            "158/158 [==============================] - 33s 207ms/step - loss: 2.4125e-04 - accuracy: 1.0000 - mse: 2.4125e-04 - val_loss: 0.0924 - val_accuracy: 0.8849 - val_mse: 0.0924\n",
            "Epoch 26/100\n",
            "158/158 [==============================] - 33s 208ms/step - loss: 1.8593e-04 - accuracy: 1.0000 - mse: 1.8593e-04 - val_loss: 0.0809 - val_accuracy: 0.8980 - val_mse: 0.0809\n",
            "Epoch 27/100\n",
            "158/158 [==============================] - 33s 208ms/step - loss: 1.8308e-04 - accuracy: 1.0000 - mse: 1.8308e-04 - val_loss: 0.0803 - val_accuracy: 0.8857 - val_mse: 0.0803\n",
            "Epoch 28/100\n",
            "158/158 [==============================] - 33s 207ms/step - loss: 2.2388e-04 - accuracy: 1.0000 - mse: 2.2388e-04 - val_loss: 0.0755 - val_accuracy: 0.8940 - val_mse: 0.0755\n",
            "Epoch 29/100\n",
            "158/158 [==============================] - 33s 208ms/step - loss: 3.5999e-04 - accuracy: 1.0000 - mse: 3.5999e-04 - val_loss: 0.0852 - val_accuracy: 0.8933 - val_mse: 0.0852\n",
            "Epoch 30/100\n",
            "158/158 [==============================] - 33s 209ms/step - loss: 0.0036 - accuracy: 0.9970 - mse: 0.0036 - val_loss: 0.0770 - val_accuracy: 0.9028 - val_mse: 0.0770\n",
            "Epoch 31/100\n",
            "158/158 [==============================] - 33s 211ms/step - loss: 4.9747e-04 - accuracy: 0.9999 - mse: 4.9747e-04 - val_loss: 0.0743 - val_accuracy: 0.8857 - val_mse: 0.0743\n",
            "Epoch 31: early stopping\n"
          ]
        }
      ],
      "source": [
        "model.compile(optimizer='adam',\n",
        "              loss='mse',\n",
        "              metrics=['accuracy','mse'])\n",
        "\n",
        "#Funcka umożliwia zatrzymanie się uczenia \n",
        "#gdy wartość strat przstanie maleć\n",
        "EarlyStop = EarlyStopping(monitor='val_loss',  \n",
        "                          verbose=1, \n",
        "                          patience=10)\n",
        "\n",
        "\n",
        "ModelCheck = ModelCheckpoint(filepath='/content/drive/MyDrive/Sieci/Przeplatane_forefox.h5',\n",
        "                             monitor='val_loss',\n",
        "                             save_best_only=True)\n",
        "\n",
        "history = model.fit(x=x_train, \n",
        "                    y=y_train, \n",
        "                    epochs=100,\n",
        "                    batch_size=128,\n",
        "                    #validation_split=0.1,\n",
        "                    validation_data = (x_valid, y_valid),\n",
        "                    callbacks = [EarlyStop, ModelCheck]\n",
        "                   )"
      ]
    },
    {
      "cell_type": "code",
      "execution_count": 19,
      "id": "3680f8c1",
      "metadata": {
        "colab": {
          "base_uri": "https://localhost:8080/",
          "height": 300
        },
        "id": "3680f8c1",
        "outputId": "3c37767f-d5c3-4656-ddc1-163b760a5165",
        "scrolled": true
      },
      "outputs": [
        {
          "output_type": "execute_result",
          "data": {
            "text/plain": [
              "<matplotlib.legend.Legend at 0x7f0547907610>"
            ]
          },
          "metadata": {},
          "execution_count": 19
        },
        {
          "output_type": "display_data",
          "data": {
            "text/plain": [
              "<Figure size 432x288 with 1 Axes>"
            ],
            "image/png": "[encoded data removed]"
          },
          "metadata": {
            "needs_background": "light"
          }
        }
      ],
      "source": [
        "plt.plot(history.history['loss'], label='strata')\n",
        "plt.plot(history.history['val_loss'], label = 'strata walidacyjna')\n",
        "plt.xlabel('Epoka')\n",
        "plt.ylabel('Strata')\n",
        "plt.ylim([0.0, 0.5])\n",
        "plt.legend(loc='upper right')"
      ]
    },
    {
      "cell_type": "code",
      "execution_count": 20,
      "id": "fe8633db",
      "metadata": {
        "colab": {
          "base_uri": "https://localhost:8080/",
          "height": 300
        },
        "id": "fe8633db",
        "outputId": "b38132f3-132e-4726-ee3c-60dbe3051d7c"
      },
      "outputs": [
        {
          "output_type": "execute_result",
          "data": {
            "text/plain": [
              "<matplotlib.legend.Legend at 0x7f04e2154fd0>"
            ]
          },
          "metadata": {},
          "execution_count": 20
        },
        {
          "output_type": "display_data",
          "data": {
            "text/plain": [
              "<Figure size 432x288 with 1 Axes>"
            ],
            "image/png": "[encoded data removed]"
          },
          "metadata": {
            "needs_background": "light"
          }
        }
      ],
      "source": [
        "plt.plot(history.history['accuracy'], label='precyzja')\n",
        "plt.plot(history.history['val_accuracy'], label = 'precyzja walidacyjna')\n",
        "plt.xlabel('Epoka')\n",
        "plt.ylabel('Precyzja')\n",
        "plt.ylim([0.5, 1])\n",
        "plt.legend(loc='lower right')"
      ]
    },
    {
      "cell_type": "code",
      "execution_count": 21,
      "id": "685a286c",
      "metadata": {
        "colab": {
          "base_uri": "https://localhost:8080/"
        },
        "id": "685a286c",
        "outputId": "54570553-f2a8-44de-8d36-47a354b5760e"
      },
      "outputs": [
        {
          "output_type": "stream",
          "name": "stdout",
          "text": [
            "79/79 - 1s - loss: 0.0313 - accuracy: 0.9587 - mse: 0.0313 - 1s/epoch - 18ms/step\n"
          ]
        },
        {
          "output_type": "execute_result",
          "data": {
            "text/plain": [
              "[0.031328392017306694, 0.9587301587301588, 0.031328392017306694]"
            ]
          },
          "metadata": {},
          "execution_count": 21
        }
      ],
      "source": [
        "model.evaluate(x_test,  y_test, verbose=2)"
      ]
    },
    {
      "cell_type": "code",
      "execution_count": 22,
      "id": "194f39e9",
      "metadata": {
        "id": "194f39e9"
      },
      "outputs": [],
      "source": [
        "best_model = tf.keras.models.load_model('/content/drive/MyDrive/Sieci/Przeplatane_forefox.h5')"
      ]
    },
    {
      "cell_type": "code",
      "execution_count": 23,
      "id": "ewHB7W_bskUm",
      "metadata": {
        "colab": {
          "base_uri": "https://localhost:8080/"
        },
        "id": "ewHB7W_bskUm",
        "outputId": "0bb577df-a979-4ee3-dfb0-886dae999a06"
      },
      "outputs": [
        {
          "output_type": "stream",
          "name": "stdout",
          "text": [
            "79/79 - 1s - loss: 0.0230 - accuracy: 0.9734 - mse: 0.0230 - 1s/epoch - 17ms/step\n"
          ]
        },
        {
          "output_type": "execute_result",
          "data": {
            "text/plain": [
              "[0.022984898853378365, 0.9734126984126984, 0.022984898853378365]"
            ]
          },
          "metadata": {},
          "execution_count": 23
        }
      ],
      "source": [
        "best_model.evaluate(x_test,  y_test, verbose=2)"
      ]
    },
    {
      "cell_type": "code",
      "execution_count": 24,
      "id": "UXFfOAksska6",
      "metadata": {
        "colab": {
          "base_uri": "https://localhost:8080/"
        },
        "id": "UXFfOAksska6",
        "outputId": "b3b94cf6-5cda-4ad1-b998-5e76b5ec897d"
      },
      "outputs": [
        {
          "output_type": "stream",
          "name": "stdout",
          "text": [
            "79/79 [==============================] - 1s 12ms/step\n"
          ]
        }
      ],
      "source": [
        "predict_x = best_model.predict(x_test) \n",
        "\n",
        "predictions = (predict_x > 0.5).astype(\"int32\")"
      ]
    },
    {
      "cell_type": "code",
      "execution_count": 25,
      "id": "u4OPDhfgskeU",
      "metadata": {
        "colab": {
          "base_uri": "https://localhost:8080/"
        },
        "id": "u4OPDhfgskeU",
        "outputId": "6d9f1260-3a77-4f6d-b65f-7fdd99e87704"
      },
      "outputs": [
        {
          "output_type": "stream",
          "name": "stdout",
          "text": [
            "[['Tn' 'Nn']\n",
            " ['Np' 'Tp']]\n",
            "tf.Tensor(\n",
            "[[1215   45]\n",
            " [  22 1238]], shape=(2, 2), dtype=int32)\n"
          ]
        }
      ],
      "source": [
        "names = [['Tn','Nn'],['Np', 'Tp']]\n",
        "names = np.reshape(names,(2,2))\n",
        "print(names)\n",
        "\n",
        "conf = tf.math.confusion_matrix(y_test,predictions)\n",
        "\n",
        "print(conf)"
      ]
    }
  ],
  "metadata": {
    "accelerator": "GPU",
    "colab": {
      "provenance": []
    },
    "gpuClass": "standard",
    "kernelspec": {
      "display_name": "py39",
      "language": "python",
      "name": "py39"
    },
    "language_info": {
      "codemirror_mode": {
        "name": "ipython",
        "version": 3
      },
      "file_extension": ".py",
      "mimetype": "text/x-python",
      "name": "python",
      "nbconvert_exporter": "python",
      "pygments_lexer": "ipython3",
      "version": "3.9.12"
    }
  },
  "nbformat": 4,
  "nbformat_minor": 5
}