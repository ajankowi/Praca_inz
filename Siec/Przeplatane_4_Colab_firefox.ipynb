{
  "cells": [
    {
      "cell_type": "code",
      "execution_count": null,
      "id": "613f08b5",
      "metadata": {
        "colab": {
          "base_uri": "https://localhost:8080/"
        },
        "id": "613f08b5",
        "outputId": "ca4f5eb6-bc35-4009-dead-bf50d6917e16"
      },
      "outputs": [
        {
          "name": "stdout",
          "output_type": "stream",
          "text": [
            "3.8.16 (default, Dec  7 2022, 01:12:13) \n",
            "[GCC 7.5.0]\n"
          ]
        }
      ],
      "source": [
        "import sys\n",
        "print(sys.version)"
      ]
    },
    {
      "cell_type": "code",
      "execution_count": null,
      "id": "0n78XAHmDiUv",
      "metadata": {
        "id": "0n78XAHmDiUv"
      },
      "outputs": [],
      "source": [
        "#from google.colab import drive\n",
        "#drive.mount(\"/content/drive\", force_remount=True)"
      ]
    },
    {
      "cell_type": "code",
      "execution_count": null,
      "id": "5eca1117",
      "metadata": {
        "colab": {
          "base_uri": "https://localhost:8080/"
        },
        "id": "5eca1117",
        "outputId": "64b24de8-7bd6-48e7-9015-8bcda0703e53"
      },
      "outputs": [
        {
          "name": "stdout",
          "output_type": "stream",
          "text": [
            "TensorFlow version: 2.9.2\n"
          ]
        }
      ],
      "source": [
        "import tensorflow as tf\n",
        "from tensorflow import keras\n",
        "from keras import layers, models, regularizers\n",
        "from keras.layers import Flatten, add, Dense, Dropout \n",
        "from keras.callbacks import ModelCheckpoint, EarlyStopping\n",
        "\n",
        "\n",
        "print(\"TensorFlow version:\", tf.__version__)\n",
        "tf.keras.backend.set_floatx('float64')"
      ]
    },
    {
      "cell_type": "code",
      "execution_count": null,
      "id": "12022d37",
      "metadata": {
        "id": "12022d37"
      },
      "outputs": [],
      "source": [
        "import matplotlib.pyplot as plt\n",
        "import numpy as np\n",
        "import pandas as pd\n",
        "import seaborn as sns\n",
        "from PIL import Image\n",
        "import os\n",
        "import csv\n",
        "import random\n",
        "\n",
        "import cv2\n",
        "import imutils\n",
        "import glob\n",
        "# Make NumPy printouts easier to read.\n",
        "np.set_printoptions(precision=3, suppress=True)"
      ]
    },
    {
      "cell_type": "code",
      "execution_count": null,
      "id": "1086f893",
      "metadata": {
        "id": "1086f893"
      },
      "outputs": [],
      "source": [
        "#Określenie ścieżek do plików\n",
        "test_zip = '/content/drive/MyDrive/Sieci/Baza_zdjec_przeplatane_2/Test.zip'\n",
        "test_csv = 'test.csv'\n",
        "\n",
        "train_zip = '/content/drive/MyDrive/Sieci/Baza_zdjec_przeplatane_2/Train.zip'\n",
        "train_csv = 'train.csv'\n",
        "\n",
        "folder = '/content/drive/MyDrive/Sieci/Baza_zdjec_przeplatane_2/'\n",
        "slesh = '/'\n",
        "png = '.png'"
      ]
    },
    {
      "cell_type": "code",
      "execution_count": null,
      "id": "P6mVaPsPDDID",
      "metadata": {
        "id": "P6mVaPsPDDID"
      },
      "outputs": [],
      "source": [
        "#!unzip '/content/drive/MyDrive/Sieci/Baza_zdjec_przeplatane_2/Train.zip' -d '/content/train/'\n",
        "#!unzip '/content/drive/MyDrive/Sieci/Baza_zdjec_przeplatane_2/Test.zip' -d '/content/test/'"
      ]
    },
    {
      "cell_type": "code",
      "execution_count": null,
      "id": "723b71fc",
      "metadata": {
        "id": "723b71fc"
      },
      "outputs": [],
      "source": [
        "def release_list(a):\n",
        "    \n",
        "    del a[:]\n",
        "    del a"
      ]
    },
    {
      "cell_type": "code",
      "execution_count": null,
      "id": "5beb89e7",
      "metadata": {
        "colab": {
          "base_uri": "https://localhost:8080/"
        },
        "id": "5beb89e7",
        "outputId": "e8985f89-aadf-42f9-8ead-5c40e4ea721a"
      },
      "outputs": [
        {
          "name": "stdout",
          "output_type": "stream",
          "text": [
            "25200\n"
          ]
        }
      ],
      "source": [
        "#Wczytanie etykiet do treninegu \n",
        "\n",
        "with open(folder+train_csv,\"r\") as csvfile:\n",
        "    lines = csvfile.readlines()\n",
        "csvfile.close()\n",
        "\n",
        "new = []\n",
        "\n",
        "for i in lines:\n",
        "    new.append(i.split(\" \"))\n",
        "\n",
        "    \n",
        "value_train = []\n",
        "for i in new[0]:\n",
        "    value_train.append(int(i))    \n",
        "    \n",
        "print(len(value_train))"
      ]
    },
    {
      "cell_type": "code",
      "source": [
        "#Wczytanie etykiet do testowania\n",
        "\n",
        "with open(folder+test_csv,\"r\") as csvfile:\n",
        "    lines = csvfile.readlines()\n",
        "csvfile.close()\n",
        "\n",
        "new = []\n",
        "\n",
        "for i in lines:\n",
        "    new.append(i.split(\" \"))\n",
        "\n",
        "    \n",
        "value_test = []\n",
        "for i in new[0]:\n",
        "    value_test.append(int(i))    \n",
        "    \n",
        "print(len(value_test))"
      ],
      "metadata": {
        "id": "b9FTBM2X68V7"
      },
      "id": "b9FTBM2X68V7",
      "execution_count": null,
      "outputs": []
    },
    {
      "cell_type": "code",
      "execution_count": null,
      "id": "d9cb09d8",
      "metadata": {
        "colab": {
          "base_uri": "https://localhost:8080/"
        },
        "id": "d9cb09d8",
        "outputId": "3c95e358-51dd-47cb-9937-9d2625475475"
      },
      "outputs": [
        {
          "name": "stdout",
          "output_type": "stream",
          "text": [
            "25200\n"
          ]
        }
      ],
      "source": [
        "#Wczytanie zdjęć treningowych (90% całego zbioru)\n",
        "images_train = []\n",
        "size = len(value_train)\n",
        "\n",
        "for i in range(size):\n",
        "    im = Image.open('/content/train/'+str(i)+'.png')\n",
        "    arr_im = np.array(im) \n",
        "    arr_im = arr_im / 255.0\n",
        "    images_train.append(arr_im) \n",
        "print(len(images_train))"
      ]
    },
    {
      "cell_type": "code",
      "source": [
        "#Wczytanie zdjęć testowych (10% całego zbioru)\n",
        "images_test = []\n",
        "size = len(value_test)\n",
        "\n",
        "for i in range(size):\n",
        "    im = Image.open('/content/test/'+str(i)+'.png')\n",
        "    arr_im = np.array(im) \n",
        "    arr_im = arr_im / 255.0\n",
        "    images_test.append(arr_im) \n",
        "print(len(images_test))"
      ],
      "metadata": {
        "id": "jyIF3G2Q6_eq"
      },
      "id": "jyIF3G2Q6_eq",
      "execution_count": null,
      "outputs": []
    },
    {
      "cell_type": "code",
      "execution_count": null,
      "id": "f7f4dd4b",
      "metadata": {
        "id": "f7f4dd4b"
      },
      "outputs": [],
      "source": [
        "x_train = np.array(images_train)\n",
        "x_test = np.array(images_test)\n",
        "\n",
        "y_train = np.array(value_train)\n",
        "y_test = np.array(value_test)"
      ]
    },
    {
      "cell_type": "code",
      "execution_count": null,
      "id": "d3a370cb",
      "metadata": {
        "colab": {
          "base_uri": "https://localhost:8080/",
          "height": 393
        },
        "id": "d3a370cb",
        "outputId": "38c1ea63-0308-426f-96ac-dfa31f186017"
      },
      "outputs": [
        {
          "name": "stdout",
          "output_type": "stream",
          "text": [
            "[[0.    0.    0.    ... 0.251 0.051 0.   ]\n",
            " [0.    0.    0.    ... 0.439 0.4   0.   ]\n",
            " [0.302 0.204 0.333 ... 0.071 0.243 0.024]\n",
            " ...\n",
            " [0.    0.38  0.373 ... 0.294 0.29  0.286]\n",
            " [0.082 0.047 0.604 ... 0.    0.059 0.   ]\n",
            " [0.    0.392 0.38  ... 0.    0.    0.   ]]\n"
          ]
        },
        {
          "data": {
            "image/png": "[encoded data removed]",
            "text/plain": [
              "<Figure size 432x288 with 1 Axes>"
            ]
          },
          "metadata": {
            "needs_background": "light"
          },
          "output_type": "display_data"
        }
      ],
      "source": [
        "a = 19000\n",
        "plt.imshow(x_train[a],cmap = 'gray')\n",
        "print(y_train[a])"
      ]
    },
    {
      "cell_type": "code",
      "execution_count": null,
      "id": "772c7d7c",
      "metadata": {
        "id": "772c7d7c"
      },
      "outputs": [],
      "source": [
        "model = models.Sequential()\n",
        "model.add(layers.Conv2D(32, (3, 3), activation='relu', input_shape=(128, 64, 1)))\n",
        "model.add(layers.MaxPooling2D((2, 2)))\n",
        "model.add(layers.Conv2D(32, (3, 3), activation='relu'))\n",
        "model.add(layers.MaxPooling2D((2, 2)))\n",
        "\n",
        "model.add(layers.BatchNormalization())\n",
        "\n",
        "model.add(layers.Conv2D(64, (3, 3), activation='relu'))\n",
        "model.add(layers.MaxPooling2D((2, 2)))\n",
        "model.add(layers.Conv2D(64, (3, 3), activation='relu'))\n",
        "model.add(layers.MaxPooling2D((2, 2)))\n",
        "\n",
        "\n",
        "model.add(layers.BatchNormalization())\n",
        "\n",
        "model.add(layers.Flatten())\n",
        "model.add(layers.Dense(64, activation='relu'))\n",
        "model.add(layers.Dense(1, activation='relu'))\n"
      ]
    },
    {
      "cell_type": "code",
      "execution_count": null,
      "id": "b86f72df",
      "metadata": {
        "colab": {
          "base_uri": "https://localhost:8080/"
        },
        "id": "b86f72df",
        "outputId": "3070e798-0334-489f-e971-7344aa35b4ef"
      },
      "outputs": [
        {
          "name": "stdout",
          "output_type": "stream",
          "text": [
            "Model: \"sequential\"\n",
            "_________________________________________________________________\n",
            " Layer (type)                Output Shape              Param #   \n",
            "=================================================================\n",
            " conv2d (Conv2D)             (None, 126, 62, 32)       320       \n",
            "                                                                 \n",
            " max_pooling2d (MaxPooling2D  (None, 63, 31, 32)       0         \n",
            " )                                                               \n",
            "                                                                 \n",
            " dropout (Dropout)           (None, 63, 31, 32)        0         \n",
            "                                                                 \n",
            " conv2d_1 (Conv2D)           (None, 61, 29, 64)        18496     \n",
            "                                                                 \n",
            " max_pooling2d_1 (MaxPooling  (None, 30, 14, 64)       0         \n",
            " 2D)                                                             \n",
            "                                                                 \n",
            " dropout_1 (Dropout)         (None, 30, 14, 64)        0         \n",
            "                                                                 \n",
            " conv2d_2 (Conv2D)           (None, 28, 12, 64)        36928     \n",
            "                                                                 \n",
            " max_pooling2d_2 (MaxPooling  (None, 14, 6, 64)        0         \n",
            " 2D)                                                             \n",
            "                                                                 \n",
            " dropout_2 (Dropout)         (None, 14, 6, 64)         0         \n",
            "                                                                 \n",
            " flatten (Flatten)           (None, 5376)              0         \n",
            "                                                                 \n",
            " dense (Dense)               (None, 64)                344128    \n",
            "                                                                 \n",
            " dense_1 (Dense)             (None, 1)                 65        \n",
            "                                                                 \n",
            "=================================================================\n",
            "Total params: 399,937\n",
            "Trainable params: 399,937\n",
            "Non-trainable params: 0\n",
            "_________________________________________________________________\n"
          ]
        }
      ],
      "source": [
        "model.summary()"
      ]
    },
    {
      "cell_type": "code",
      "execution_count": null,
      "id": "9beb77e5",
      "metadata": {
        "colab": {
          "base_uri": "https://localhost:8080/"
        },
        "id": "9beb77e5",
        "outputId": "c6c2c166-d657-40ea-9f4f-bc86140b20f8"
      },
      "outputs": [
        {
          "name": "stdout",
          "output_type": "stream",
          "text": [
            "Epoch 1/100\n",
            "80/80 [==============================] - 48s 507ms/step - loss: 2.2471 - accuracy: 0.6869 - mse: 0.2075 - val_loss: 0.1882 - val_accuracy: 0.8496 - val_mse: 0.1074\n",
            "Epoch 2/100\n",
            "80/80 [==============================] - 39s 489ms/step - loss: 0.1254 - accuracy: 0.8720 - mse: 0.0933 - val_loss: 0.1266 - val_accuracy: 0.8536 - val_mse: 0.1127\n",
            "Epoch 3/100\n",
            "80/80 [==============================] - 39s 493ms/step - loss: 0.0954 - accuracy: 0.8912 - mse: 0.0827 - val_loss: 0.1244 - val_accuracy: 0.8589 - val_mse: 0.1123\n",
            "Epoch 4/100\n",
            "80/80 [==============================] - 39s 483ms/step - loss: 0.0848 - accuracy: 0.9066 - mse: 0.0724 - val_loss: 0.1491 - val_accuracy: 0.8175 - val_mse: 0.1366\n",
            "Epoch 5/100\n",
            "80/80 [==============================] - 39s 493ms/step - loss: 0.0757 - accuracy: 0.9229 - mse: 0.0628 - val_loss: 0.1071 - val_accuracy: 0.8818 - val_mse: 0.0954\n",
            "Epoch 6/100\n",
            "80/80 [==============================] - 39s 486ms/step - loss: 0.0733 - accuracy: 0.9283 - mse: 0.0594 - val_loss: 0.1150 - val_accuracy: 0.8752 - val_mse: 0.1015\n",
            "Epoch 7/100\n",
            "80/80 [==============================] - 39s 494ms/step - loss: 0.0664 - accuracy: 0.9374 - mse: 0.0529 - val_loss: 0.0610 - val_accuracy: 0.9414 - val_mse: 0.0474\n",
            "Epoch 8/100\n",
            "80/80 [==============================] - 39s 494ms/step - loss: 0.0570 - accuracy: 0.9496 - mse: 0.0435 - val_loss: 0.0539 - val_accuracy: 0.9638 - val_mse: 0.0407\n",
            "Epoch 9/100\n",
            "80/80 [==============================] - 39s 494ms/step - loss: 0.0456 - accuracy: 0.9649 - mse: 0.0328 - val_loss: 0.0522 - val_accuracy: 0.9621 - val_mse: 0.0398\n",
            "Epoch 10/100\n",
            "80/80 [==============================] - 40s 498ms/step - loss: 0.0391 - accuracy: 0.9706 - mse: 0.0277 - val_loss: 0.0398 - val_accuracy: 0.9797 - val_mse: 0.0289\n",
            "Epoch 11/100\n",
            "80/80 [==============================] - 39s 485ms/step - loss: 0.0385 - accuracy: 0.9721 - mse: 0.0269 - val_loss: 0.0600 - val_accuracy: 0.9471 - val_mse: 0.0495\n",
            "Epoch 12/100\n",
            "80/80 [==============================] - 40s 496ms/step - loss: 0.0333 - accuracy: 0.9763 - mse: 0.0230 - val_loss: 0.0392 - val_accuracy: 0.9757 - val_mse: 0.0289\n",
            "Epoch 13/100\n",
            "80/80 [==============================] - 39s 484ms/step - loss: 0.0316 - accuracy: 0.9784 - mse: 0.0216 - val_loss: 0.0402 - val_accuracy: 0.9806 - val_mse: 0.0309\n",
            "Epoch 14/100\n",
            "80/80 [==============================] - 40s 494ms/step - loss: 0.0291 - accuracy: 0.9792 - mse: 0.0197 - val_loss: 0.0326 - val_accuracy: 0.9872 - val_mse: 0.0238\n",
            "Epoch 15/100\n",
            "80/80 [==============================] - 39s 484ms/step - loss: 0.0272 - accuracy: 0.9819 - mse: 0.0184 - val_loss: 0.0394 - val_accuracy: 0.9793 - val_mse: 0.0302\n",
            "Epoch 16/100\n",
            "80/80 [==============================] - 40s 495ms/step - loss: 0.0251 - accuracy: 0.9833 - mse: 0.0164 - val_loss: 0.0197 - val_accuracy: 0.9903 - val_mse: 0.0120\n",
            "Epoch 17/100\n",
            "80/80 [==============================] - 39s 485ms/step - loss: 0.0224 - accuracy: 0.9857 - mse: 0.0146 - val_loss: 0.0350 - val_accuracy: 0.9797 - val_mse: 0.0272\n",
            "Epoch 18/100\n",
            "80/80 [==============================] - 40s 496ms/step - loss: 0.0218 - accuracy: 0.9864 - mse: 0.0139 - val_loss: 0.0184 - val_accuracy: 0.9907 - val_mse: 0.0102\n",
            "Epoch 19/100\n",
            "80/80 [==============================] - 39s 484ms/step - loss: 0.0218 - accuracy: 0.9875 - mse: 0.0139 - val_loss: 0.0302 - val_accuracy: 0.9872 - val_mse: 0.0225\n",
            "Epoch 20/100\n",
            "80/80 [==============================] - 39s 484ms/step - loss: 0.0198 - accuracy: 0.9892 - mse: 0.0123 - val_loss: 0.0186 - val_accuracy: 0.9929 - val_mse: 0.0116\n",
            "Epoch 21/100\n",
            "80/80 [==============================] - 39s 494ms/step - loss: 0.0214 - accuracy: 0.9885 - mse: 0.0136 - val_loss: 0.0182 - val_accuracy: 0.9925 - val_mse: 0.0109\n",
            "Epoch 22/100\n",
            "80/80 [==============================] - 40s 496ms/step - loss: 0.0170 - accuracy: 0.9910 - mse: 0.0101 - val_loss: 0.0156 - val_accuracy: 0.9938 - val_mse: 0.0092\n",
            "Epoch 23/100\n",
            "80/80 [==============================] - 39s 486ms/step - loss: 0.0163 - accuracy: 0.9915 - mse: 0.0097 - val_loss: 0.0183 - val_accuracy: 0.9965 - val_mse: 0.0117\n",
            "Epoch 24/100\n",
            "80/80 [==============================] - 39s 486ms/step - loss: 0.0160 - accuracy: 0.9916 - mse: 0.0096 - val_loss: 0.0216 - val_accuracy: 0.9960 - val_mse: 0.0150\n",
            "Epoch 25/100\n",
            "80/80 [==============================] - 39s 485ms/step - loss: 0.0160 - accuracy: 0.9928 - mse: 0.0094 - val_loss: 0.0235 - val_accuracy: 0.9854 - val_mse: 0.0168\n",
            "Epoch 26/100\n",
            "80/80 [==============================] - 39s 494ms/step - loss: 0.0153 - accuracy: 0.9924 - mse: 0.0089 - val_loss: 0.0138 - val_accuracy: 0.9969 - val_mse: 0.0079\n",
            "Epoch 27/100\n",
            "80/80 [==============================] - 39s 485ms/step - loss: 0.0134 - accuracy: 0.9939 - mse: 0.0074 - val_loss: 0.0235 - val_accuracy: 0.9854 - val_mse: 0.0178\n",
            "Epoch 28/100\n",
            "80/80 [==============================] - 39s 485ms/step - loss: 0.0141 - accuracy: 0.9929 - mse: 0.0082 - val_loss: 0.0207 - val_accuracy: 0.9877 - val_mse: 0.0148\n",
            "Epoch 29/100\n",
            "80/80 [==============================] - 39s 486ms/step - loss: 0.0139 - accuracy: 0.9929 - mse: 0.0080 - val_loss: 0.0376 - val_accuracy: 0.9696 - val_mse: 0.0315\n",
            "Epoch 30/100\n",
            "80/80 [==============================] - 40s 494ms/step - loss: 0.0153 - accuracy: 0.9918 - mse: 0.0090 - val_loss: 0.0127 - val_accuracy: 0.9929 - val_mse: 0.0063\n",
            "Epoch 31/100\n",
            "80/80 [==============================] - 39s 486ms/step - loss: 0.0135 - accuracy: 0.9933 - mse: 0.0073 - val_loss: 0.0166 - val_accuracy: 0.9934 - val_mse: 0.0101\n",
            "Epoch 32/100\n",
            "80/80 [==============================] - 41s 507ms/step - loss: 0.0117 - accuracy: 0.9954 - mse: 0.0063 - val_loss: 0.0099 - val_accuracy: 0.9965 - val_mse: 0.0046\n",
            "Epoch 33/100\n",
            "80/80 [==============================] - 39s 484ms/step - loss: 0.0121 - accuracy: 0.9944 - mse: 0.0068 - val_loss: 0.0134 - val_accuracy: 0.9938 - val_mse: 0.0073\n",
            "Epoch 34/100\n",
            "80/80 [==============================] - 39s 494ms/step - loss: 0.0116 - accuracy: 0.9947 - mse: 0.0065 - val_loss: 0.0094 - val_accuracy: 0.9969 - val_mse: 0.0040\n",
            "Epoch 35/100\n",
            "80/80 [==============================] - 39s 485ms/step - loss: 0.0118 - accuracy: 0.9944 - mse: 0.0065 - val_loss: 0.0109 - val_accuracy: 0.9960 - val_mse: 0.0056\n",
            "Epoch 36/100\n",
            "80/80 [==============================] - 39s 494ms/step - loss: 0.0119 - accuracy: 0.9940 - mse: 0.0067 - val_loss: 0.0081 - val_accuracy: 0.9978 - val_mse: 0.0036\n",
            "Epoch 37/100\n",
            "80/80 [==============================] - 41s 508ms/step - loss: 0.0112 - accuracy: 0.9951 - mse: 0.0060 - val_loss: 0.0081 - val_accuracy: 0.9969 - val_mse: 0.0037\n",
            "Epoch 38/100\n",
            "80/80 [==============================] - 39s 485ms/step - loss: 0.0109 - accuracy: 0.9949 - mse: 0.0060 - val_loss: 0.0098 - val_accuracy: 0.9974 - val_mse: 0.0049\n",
            "Epoch 39/100\n",
            "80/80 [==============================] - 39s 486ms/step - loss: 0.0107 - accuracy: 0.9949 - mse: 0.0058 - val_loss: 0.0097 - val_accuracy: 0.9969 - val_mse: 0.0043\n",
            "Epoch 40/100\n",
            "80/80 [==============================] - 39s 484ms/step - loss: 0.0103 - accuracy: 0.9956 - mse: 0.0055 - val_loss: 0.0089 - val_accuracy: 0.9974 - val_mse: 0.0044\n",
            "Epoch 41/100\n",
            "80/80 [==============================] - 39s 485ms/step - loss: 0.0095 - accuracy: 0.9958 - mse: 0.0049 - val_loss: 0.0093 - val_accuracy: 0.9965 - val_mse: 0.0051\n",
            "Epoch 42/100\n",
            "80/80 [==============================] - 39s 494ms/step - loss: 0.0107 - accuracy: 0.9948 - mse: 0.0058 - val_loss: 0.0076 - val_accuracy: 0.9987 - val_mse: 0.0040\n",
            "Epoch 43/100\n",
            "80/80 [==============================] - 39s 485ms/step - loss: 0.0101 - accuracy: 0.9960 - mse: 0.0054 - val_loss: 0.0081 - val_accuracy: 0.9969 - val_mse: 0.0040\n",
            "Epoch 44/100\n",
            "80/80 [==============================] - 40s 496ms/step - loss: 0.0084 - accuracy: 0.9965 - mse: 0.0042 - val_loss: 0.0073 - val_accuracy: 0.9974 - val_mse: 0.0028\n",
            "Epoch 45/100\n",
            "80/80 [==============================] - 39s 484ms/step - loss: 0.0094 - accuracy: 0.9954 - mse: 0.0049 - val_loss: 0.0078 - val_accuracy: 0.9987 - val_mse: 0.0035\n",
            "Epoch 46/100\n",
            "80/80 [==============================] - 39s 485ms/step - loss: 0.0087 - accuracy: 0.9960 - mse: 0.0045 - val_loss: 0.0085 - val_accuracy: 0.9951 - val_mse: 0.0044\n",
            "Epoch 47/100\n",
            "80/80 [==============================] - 39s 484ms/step - loss: 0.0097 - accuracy: 0.9951 - mse: 0.0052 - val_loss: 0.0102 - val_accuracy: 0.9947 - val_mse: 0.0061\n",
            "Epoch 48/100\n",
            "80/80 [==============================] - 39s 486ms/step - loss: 0.0087 - accuracy: 0.9960 - mse: 0.0046 - val_loss: 0.0078 - val_accuracy: 0.9965 - val_mse: 0.0035\n",
            "Epoch 49/100\n",
            "80/80 [==============================] - 39s 494ms/step - loss: 0.0085 - accuracy: 0.9958 - mse: 0.0044 - val_loss: 0.0059 - val_accuracy: 0.9987 - val_mse: 0.0026\n",
            "Epoch 50/100\n",
            "80/80 [==============================] - 39s 486ms/step - loss: 0.0085 - accuracy: 0.9967 - mse: 0.0045 - val_loss: 0.0077 - val_accuracy: 0.9960 - val_mse: 0.0032\n",
            "Epoch 51/100\n",
            "80/80 [==============================] - 39s 484ms/step - loss: 0.0089 - accuracy: 0.9955 - mse: 0.0047 - val_loss: 0.0097 - val_accuracy: 0.9974 - val_mse: 0.0041\n",
            "Epoch 52/100\n",
            "80/80 [==============================] - 39s 484ms/step - loss: 0.0084 - accuracy: 0.9965 - mse: 0.0040 - val_loss: 0.0078 - val_accuracy: 0.9969 - val_mse: 0.0033\n",
            "Epoch 53/100\n",
            "80/80 [==============================] - 39s 484ms/step - loss: 0.0082 - accuracy: 0.9965 - mse: 0.0041 - val_loss: 0.0069 - val_accuracy: 0.9965 - val_mse: 0.0032\n",
            "Epoch 54/100\n",
            "80/80 [==============================] - 39s 485ms/step - loss: 0.0082 - accuracy: 0.9958 - mse: 0.0043 - val_loss: 0.0064 - val_accuracy: 0.9991 - val_mse: 0.0029\n",
            "Epoch 54: early stopping\n"
          ]
        }
      ],
      "source": [
        "model.compile(optimizer='adam',\n",
        "              loss='mse',\n",
        "              metrics=['accuracy','mse'])\n",
        "\n",
        "#Funcka umożliwia zatrzymanie się uczenia \n",
        "#gdy wartość strat przstanie maleć\n",
        "EarlyStop = EarlyStopping(monitor='val_loss',  \n",
        "                          verbose=1, \n",
        "                          patience=10)\n",
        "\n",
        "\n",
        "ModelCheck = ModelCheckpoint(filepath='/content/drive/MyDrive/Sieci/Przeplatane_forefox.h5',\n",
        "                             monitor='val_loss',\n",
        "                             save_best_only=True)\n",
        "\n",
        "history = model.fit(x=x_train, \n",
        "                    y=y_train, \n",
        "                    epochs=100,\n",
        "                    batch_size=128,\n",
        "                    validation_split=0.1,\n",
        "                    callbacks = [EarlyStop, ModelCheck]\n",
        "                   )"
      ]
    },
    {
      "cell_type": "code",
      "execution_count": null,
      "id": "3680f8c1",
      "metadata": {
        "colab": {
          "base_uri": "https://localhost:8080/",
          "height": 301
        },
        "id": "3680f8c1",
        "outputId": "6ecb75af-7056-42dc-8a52-c18d266b73bd",
        "scrolled": true
      },
      "outputs": [
        {
          "data": {
            "text/plain": [
              "<matplotlib.legend.Legend at 0x7f9d3430c070>"
            ]
          },
          "execution_count": 17,
          "metadata": {},
          "output_type": "execute_result"
        },
        {
          "data": {
            "image/png": "[encoded data removed]",
            "text/plain": [
              "<Figure size 432x288 with 1 Axes>"
            ]
          },
          "metadata": {
            "needs_background": "light"
          },
          "output_type": "display_data"
        }
      ],
      "source": [
        "plt.plot(history.history['loss'], label='strata')\n",
        "plt.plot(history.history['val_loss'], label = 'strata walidacyjna')\n",
        "plt.xlabel('Epoka')\n",
        "plt.ylabel('Strata')\n",
        "plt.ylim([0.0, 0.5])\n",
        "plt.legend(loc='upper right')"
      ]
    },
    {
      "cell_type": "code",
      "execution_count": null,
      "id": "fe8633db",
      "metadata": {
        "colab": {
          "base_uri": "https://localhost:8080/",
          "height": 301
        },
        "id": "fe8633db",
        "outputId": "4bcb9261-5bba-4366-f1ea-6865c6daad07"
      },
      "outputs": [
        {
          "data": {
            "text/plain": [
              "<matplotlib.legend.Legend at 0x7f9d3439e460>"
            ]
          },
          "execution_count": 18,
          "metadata": {},
          "output_type": "execute_result"
        },
        {
          "data": {
            "image/png": "[encoded data removed]",
            "text/plain": [
              "<Figure size 432x288 with 1 Axes>"
            ]
          },
          "metadata": {
            "needs_background": "light"
          },
          "output_type": "display_data"
        }
      ],
      "source": [
        "plt.plot(history.history['accuracy'], label='precyzja')\n",
        "plt.plot(history.history['val_accuracy'], label = 'precyzja walidacyjna')\n",
        "plt.xlabel('Epoka')\n",
        "plt.ylabel('Precyzja')\n",
        "plt.ylim([0.5, 1])\n",
        "plt.legend(loc='lower right')"
      ]
    },
    {
      "cell_type": "code",
      "execution_count": null,
      "id": "685a286c",
      "metadata": {
        "colab": {
          "base_uri": "https://localhost:8080/"
        },
        "id": "685a286c",
        "outputId": "e20b3492-765f-4973-b47a-d86517a4c57f"
      },
      "outputs": [
        {
          "name": "stdout",
          "output_type": "stream",
          "text": [
            "79/79 - 2s - loss: 0.0064 - accuracy: 0.9980 - mse: 0.0029 - 2s/epoch - 24ms/step\n"
          ]
        },
        {
          "data": {
            "text/plain": [
              "[0.006404248911883936, 0.998015873015873, 0.0028857954082525342]"
            ]
          },
          "execution_count": 19,
          "metadata": {},
          "output_type": "execute_result"
        }
      ],
      "source": [
        "model.evaluate(x_test,  y_test, verbose=2)"
      ]
    },
    {
      "cell_type": "code",
      "execution_count": null,
      "id": "194f39e9",
      "metadata": {
        "id": "194f39e9"
      },
      "outputs": [],
      "source": [
        "best_model = tf.keras.models.load_model('/content/drive/MyDrive/Sieci/Przeplatane_forefox.h5')"
      ]
    },
    {
      "cell_type": "code",
      "execution_count": null,
      "id": "ewHB7W_bskUm",
      "metadata": {
        "colab": {
          "base_uri": "https://localhost:8080/"
        },
        "id": "ewHB7W_bskUm",
        "outputId": "55369a52-0635-47bb-b270-85dbf84f3c3f"
      },
      "outputs": [
        {
          "name": "stdout",
          "output_type": "stream",
          "text": [
            "79/79 - 2s - loss: 0.0057 - accuracy: 0.9988 - mse: 0.0024 - 2s/epoch - 22ms/step\n"
          ]
        },
        {
          "data": {
            "text/plain": [
              "[0.005736317373222073, 0.9988095238095238, 0.002426077955663856]"
            ]
          },
          "execution_count": 21,
          "metadata": {},
          "output_type": "execute_result"
        }
      ],
      "source": [
        "best_model.evaluate(x_test,  y_test, verbose=2)"
      ]
    },
    {
      "cell_type": "code",
      "execution_count": null,
      "id": "UXFfOAksska6",
      "metadata": {
        "colab": {
          "base_uri": "https://localhost:8080/"
        },
        "id": "UXFfOAksska6",
        "outputId": "e19ac5b3-e7c9-427f-b975-17c0b0fb7f54"
      },
      "outputs": [
        {
          "name": "stdout",
          "output_type": "stream",
          "text": [
            "79/79 [==============================] - 2s 18ms/step\n"
          ]
        }
      ],
      "source": [
        "predict_x = best_model.predict(x_test) \n",
        "\n",
        "predictions = (predict_x > 0.5).astype(\"int32\")"
      ]
    },
    {
      "cell_type": "code",
      "execution_count": null,
      "id": "u4OPDhfgskeU",
      "metadata": {
        "colab": {
          "base_uri": "https://localhost:8080/"
        },
        "id": "u4OPDhfgskeU",
        "outputId": "43aabbcc-890a-4a6e-f5f4-2bbc5e88ea04"
      },
      "outputs": [
        {
          "name": "stdout",
          "output_type": "stream",
          "text": [
            "[['Tn' 'Nn']\n",
            " ['Np' 'Tp']]\n",
            "tf.Tensor(\n",
            "[[1302    3]\n",
            " [   0 1215]], shape=(2, 2), dtype=int32)\n"
          ]
        }
      ],
      "source": [
        "names = [['Tn','Nn'],['Np', 'Tp']]\n",
        "names = np.reshape(names,(2,2))\n",
        "print(names)\n",
        "\n",
        "conf = tf.math.confusion_matrix(y_test,predictions)\n",
        "\n",
        "print(conf)"
      ]
    }
  ],
  "metadata": {
    "accelerator": "GPU",
    "colab": {
      "provenance": []
    },
    "gpuClass": "standard",
    "kernelspec": {
      "display_name": "py39",
      "language": "python",
      "name": "py39"
    },
    "language_info": {
      "codemirror_mode": {
        "name": "ipython",
        "version": 3
      },
      "file_extension": ".py",
      "mimetype": "text/x-python",
      "name": "python",
      "nbconvert_exporter": "python",
      "pygments_lexer": "ipython3",
      "version": "3.9.12"
    }
  },
  "nbformat": 4,
  "nbformat_minor": 5
}