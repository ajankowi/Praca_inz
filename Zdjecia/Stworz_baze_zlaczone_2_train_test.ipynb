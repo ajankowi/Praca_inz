{
 "cells": [
  {
   "cell_type": "code",
   "execution_count": 5,
   "id": "d4ae2250",
   "metadata": {},
   "outputs": [
    {
     "name": "stdout",
     "output_type": "stream",
     "text": [
      "3.9.12 (main, Jun  1 2022, 11:38:51) \n",
      "[GCC 7.5.0]\n"
     ]
    }
   ],
   "source": [
    "import sys\n",
    "print(sys.version)"
   ]
  },
  {
   "cell_type": "code",
   "execution_count": 6,
   "id": "3b61ba48",
   "metadata": {},
   "outputs": [],
   "source": [
    "import matplotlib.pyplot as plt\n",
    "import numpy as np\n",
    "import pandas as pd\n",
    "import seaborn as sns\n",
    "from PIL import Image\n",
    "import os\n",
    "import csv\n",
    "import random\n",
    "\n",
    "import cv2\n",
    "import imutils\n",
    "\n",
    "# Make NumPy printouts easier to read.\n",
    "np.set_printoptions(precision=3, suppress=True)"
   ]
  },
  {
   "cell_type": "code",
   "execution_count": 7,
   "id": "9f61d673",
   "metadata": {},
   "outputs": [],
   "source": [
    "folder = 'Baza_zdjec_przerobiona/s'\n",
    "folder_docelowy = '../../Dane/Baza_zdjec_zlaczone_2/'\n",
    "slesh = '/'\n",
    "png = '.png'"
   ]
  },
  {
   "cell_type": "code",
   "execution_count": 8,
   "id": "fa4fc08b",
   "metadata": {},
   "outputs": [],
   "source": [
    "#Tablica przechowująca zdjęcia osób\n",
    "people = []\n",
    "for i in range(1,41):\n",
    "    images = []\n",
    "    for j in range(1,141):\n",
    "        im = Image.open('../Zdjecia/'+folder+str(i)+slesh+str(j)+png)\n",
    "        arr_im = np.array(im) \n",
    "        images.append(arr_im) \n",
    "    people.append(images)\n",
    "   \n",
    "\n",
    "\n",
    "\n",
    "valid_ppl =[]\n",
    "\n",
    "for i in range(33,37):\n",
    "    images_4 = []\n",
    "    for j in range(1,141):\n",
    "        im = Image.open('../Zdjecia/'+folder+str(i)+slesh+str(j)+png)\n",
    "        arr_im = np.array(im) \n",
    "        images_4.append(arr_im) \n",
    "    valid_ppl.append(images_4) \n",
    "    \n",
    "\n",
    "test_ppl = []    \n",
    "for i in range(37,41):\n",
    "    images_2 = []\n",
    "    for j in range(1,141):\n",
    "        im = Image.open('../Zdjecia/'+folder+str(i)+slesh+str(j)+png)\n",
    "        arr_im = np.array(im) \n",
    "        images_2.append(arr_im) \n",
    "    test_ppl.append(images_2) \n",
    "    "
   ]
  },
  {
   "cell_type": "code",
   "execution_count": 9,
   "id": "3531f143",
   "metadata": {},
   "outputs": [
    {
     "name": "stdout",
     "output_type": "stream",
     "text": [
      "10080\n"
     ]
    }
   ],
   "source": [
    "# Tworzenie zbioru testowego\n",
    "\n",
    "#Laczna ilosc zdjec\n",
    "lacznie = 25200\n",
    "\n",
    "train = int(0.8*lacznie)      # 80% próbek jest treningowych\n",
    "test = int(0.1*lacznie)        # 10% próbek jest testowych\n",
    "valid = int(0.1*lacznie)        # 10% próbek jest testowych\n",
    "\n",
    "ilosc = 40\n",
    "rozmiar = 10\n",
    "poloczone = []\n",
    "n = 0\n",
    "\n",
    "# Inicjalizacja tablicy zerami o rozmiarze 'rozmiar'\n",
    "tab_train = np.zeros(train, dtype=np.uint8)\n",
    "\n",
    "\n",
    "#Stworzenie nowego katalogu\n",
    "newpath = folder_docelowy+'Train_2/'\n",
    "if not os.path.exists(newpath):\n",
    "    os.makedirs(newpath)\n",
    "\n",
    "#Petla przechodzi po ludziach\n",
    "for i in range(0,32):\n",
    "    #Petla przechodzi po zdjeciach\n",
    "    \n",
    "    for l in range(0,70,10):\n",
    "    \n",
    "        m = 10\n",
    "    \n",
    "        for j in range(rozmiar):       \n",
    "            m = m - 1\n",
    "        \n",
    "            for k in range(m):\n",
    "                con = np.concatenate((people[i][j+l], people[i][9-k+l]), axis=1)\n",
    "    \n",
    "                #Zapisanie zmienionego zdjecia\n",
    "                con = Image.fromarray(con)\n",
    "                con.save(folder_docelowy+'Train_2/'+str(n)+png) \n",
    "      \n",
    "                poloczone.append(con)\n",
    "                tab_train[n] = 1\n",
    "                n = n + 1\n",
    "                \n",
    "print(n)"
   ]
  },
  {
   "cell_type": "code",
   "execution_count": 10,
   "id": "f67de426",
   "metadata": {},
   "outputs": [
    {
     "name": "stdout",
     "output_type": "stream",
     "text": [
      "49600\n"
     ]
    }
   ],
   "source": [
    "x = 0 #Zamiast n \n",
    "\n",
    "#polaczone = n\n",
    "m = 33\n",
    "rozne = []\n",
    "\n",
    "\n",
    "for i in range(32):\n",
    "\n",
    "    rand_1 = random.randint(0,8)\n",
    "    rand_2 = random.randint(0,8)\n",
    "   \n",
    "    \n",
    "    m = m - 1\n",
    "    \n",
    "    for k in range(1,m):\n",
    "    \n",
    "        for j in range(10):\n",
    "       \n",
    "            for l in range(10):\n",
    "                con = np.concatenate((people[i][10*rand_1+j], people[i+k][10*rand_2+l]), axis=1)\n",
    "                con = Image.fromarray(con)\n",
    "                x = x + 1\n",
    "                rozne.append(con)\n",
    "print(x)\n"
   ]
  },
  {
   "cell_type": "code",
   "execution_count": 11,
   "id": "7537ae69",
   "metadata": {},
   "outputs": [],
   "source": [
    "for i in range(train - n):\n",
    "    \n",
    "    rand_1 = random.randint(0,x-1)\n",
    "    \n",
    "    con = rozne[rand_1]\n",
    "    \n",
    "    con.save(folder_docelowy+'Train_2/'+str(n)+png) \n",
    "    \n",
    "    poloczone.append(con)\n",
    "    \n",
    "    tab_train[n] = 0\n",
    "    n = n + 1\n",
    "    \n",
    "    \n",
    "    "
   ]
  },
  {
   "cell_type": "code",
   "execution_count": 12,
   "id": "49374d93",
   "metadata": {},
   "outputs": [
    {
     "name": "stdout",
     "output_type": "stream",
     "text": [
      "20160\n",
      "20160\n",
      "0\n"
     ]
    }
   ],
   "source": [
    "print(n)\n",
    "print(len(tab_train))\n",
    "\n",
    "print(tab_train[20000])"
   ]
  },
  {
   "cell_type": "code",
   "execution_count": 13,
   "id": "014e6575",
   "metadata": {},
   "outputs": [],
   "source": [
    "#Zapis tablicy do pliku CSV\n",
    "tab_train.tofile(folder_docelowy+'Train_2/'+'train_2.csv', sep = ' ')   "
   ]
  },
  {
   "cell_type": "code",
   "execution_count": null,
   "id": "941bd45c",
   "metadata": {},
   "outputs": [],
   "source": []
  },
  {
   "cell_type": "code",
   "execution_count": 14,
   "id": "3997279f",
   "metadata": {},
   "outputs": [],
   "source": [
    "# Tworzenie zbioru validacyjnego"
   ]
  },
  {
   "cell_type": "code",
   "execution_count": null,
   "id": "d2d2dd4b",
   "metadata": {},
   "outputs": [],
   "source": []
  },
  {
   "cell_type": "code",
   "execution_count": 15,
   "id": "436f48b5",
   "metadata": {},
   "outputs": [
    {
     "name": "stdout",
     "output_type": "stream",
     "text": [
      "1260\n"
     ]
    }
   ],
   "source": [
    "ilosc = 40\n",
    "rozmiar = 10\n",
    "poloczone = []\n",
    "n = 0\n",
    "\n",
    "# Inicjalizacja tablicy zerami o rozmiarze 'rozmiar'\n",
    "tab_valid = np.zeros(test, dtype=np.uint8)\n",
    "\n",
    "\n",
    "#Stworzenie nowego katalogu\n",
    "newpath = folder_docelowy+'Valid_2/'\n",
    "if not os.path.exists(newpath):\n",
    "    os.makedirs(newpath)\n",
    "\n",
    "#Petla przechodzi po ludziach\n",
    "for i in range(32,36):\n",
    "    #Petla przechodzi po zdjeciach\n",
    "    \n",
    "    for l in range(0,70,10):\n",
    "    \n",
    "        m = 10\n",
    "    \n",
    "        for j in range(rozmiar):       \n",
    "            m = m - 1\n",
    "        \n",
    "            for k in range(m):\n",
    "                con = np.concatenate((people[i][j+l], people[i][9-k+l]), axis=1)\n",
    "    \n",
    "                #Zapisanie zmienionego zdjecia\n",
    "                con = Image.fromarray(con)\n",
    "                con.save(folder_docelowy+'Valid_2/'+str(n)+png) \n",
    "      \n",
    "                poloczone.append(con)\n",
    "                tab_valid[n] = 1\n",
    "                n = n + 1\n",
    "                \n",
    "print(n)"
   ]
  },
  {
   "cell_type": "code",
   "execution_count": 16,
   "id": "071e93e3",
   "metadata": {},
   "outputs": [
    {
     "name": "stdout",
     "output_type": "stream",
     "text": [
      "1800\n"
     ]
    }
   ],
   "source": [
    "x = 0 #Zamiast n \n",
    "\n",
    "polaczone = n\n",
    "m = 5\n",
    "rozne_valid = []\n",
    "\n",
    "\n",
    "for i in range(4):\n",
    "\n",
    "    rand_1 = random.randint(2,5)\n",
    "    rand_2 = random.randint(2,5)\n",
    "   \n",
    "    \n",
    "    m = m - 1\n",
    "    \n",
    "    for k in range(1,m):\n",
    "    \n",
    "        for j in range(10):\n",
    "       \n",
    "            for l in range(10):\n",
    "                con = np.concatenate((valid_ppl[i][10*rand_1+j], valid_ppl[i+k][10*rand_2+l]), axis=1)\n",
    "                con = Image.fromarray(con)\n",
    "                x = x + 1\n",
    "                rozne_valid.append(con)\n",
    "                \n",
    "                con = np.concatenate((valid_ppl[i][10*(rand_1+2)+j], valid_ppl[i+k][10*(rand_2+2)+l]), axis=1)\n",
    "                con = Image.fromarray(con)\n",
    "                x = x + 1\n",
    "                rozne_valid.append(con)\n",
    "                \n",
    "                con = np.concatenate((valid_ppl[i][10*(rand_1-2)+j], valid_ppl[i+k][10*(rand_2-2)+l]), axis=1)\n",
    "                con = Image.fromarray(con)\n",
    "                x = x + 1\n",
    "                rozne_valid.append(con)\n",
    "                \n",
    "print(x)"
   ]
  },
  {
   "cell_type": "code",
   "execution_count": 17,
   "id": "691c2c05",
   "metadata": {},
   "outputs": [
    {
     "name": "stdout",
     "output_type": "stream",
     "text": [
      "2520\n",
      "2520\n"
     ]
    }
   ],
   "source": [
    "for i in range(valid - n):\n",
    "    \n",
    "    rand_2 = random.randint(0,x-1)\n",
    "    \n",
    "    con = rozne_valid[rand_2]\n",
    "    \n",
    "    con.save(folder_docelowy+'Valid_2/'+str(n)+png) \n",
    "    \n",
    "    poloczone.append(con)\n",
    "    \n",
    "    tab_valid[n] = 0\n",
    "    n = n + 1\n",
    "    \n",
    "print(n)\n",
    "print(len(tab_valid))"
   ]
  },
  {
   "cell_type": "code",
   "execution_count": 18,
   "id": "6fc40bce",
   "metadata": {},
   "outputs": [],
   "source": [
    "#Zapis tablicy do pliku CSV\n",
    "tab_valid.tofile(folder_docelowy+'Valid_2/'+'valid_2.csv', sep = ' ')   "
   ]
  },
  {
   "cell_type": "code",
   "execution_count": null,
   "id": "b3c6ffb8",
   "metadata": {},
   "outputs": [],
   "source": []
  },
  {
   "cell_type": "code",
   "execution_count": null,
   "id": "325933d8",
   "metadata": {},
   "outputs": [],
   "source": []
  },
  {
   "cell_type": "code",
   "execution_count": null,
   "id": "bdb1dd4a",
   "metadata": {},
   "outputs": [],
   "source": []
  },
  {
   "cell_type": "code",
   "execution_count": null,
   "id": "6e0200b0",
   "metadata": {},
   "outputs": [],
   "source": []
  },
  {
   "cell_type": "code",
   "execution_count": 19,
   "id": "3da4cfe2",
   "metadata": {},
   "outputs": [],
   "source": [
    "# Tworzenie zbioru testowego"
   ]
  },
  {
   "cell_type": "code",
   "execution_count": null,
   "id": "edb409ef",
   "metadata": {},
   "outputs": [],
   "source": []
  },
  {
   "cell_type": "code",
   "execution_count": null,
   "id": "747af2b7",
   "metadata": {},
   "outputs": [],
   "source": []
  },
  {
   "cell_type": "code",
   "execution_count": null,
   "id": "60852a8a",
   "metadata": {},
   "outputs": [],
   "source": []
  },
  {
   "cell_type": "code",
   "execution_count": null,
   "id": "4f531cd4",
   "metadata": {},
   "outputs": [],
   "source": []
  },
  {
   "cell_type": "code",
   "execution_count": 20,
   "id": "c9ae39be",
   "metadata": {},
   "outputs": [
    {
     "name": "stdout",
     "output_type": "stream",
     "text": [
      "1260\n"
     ]
    }
   ],
   "source": [
    "ilosc = 40\n",
    "rozmiar = 10\n",
    "poloczone = []\n",
    "n = 0\n",
    "\n",
    "# Inicjalizacja tablicy zerami o rozmiarze 'rozmiar'\n",
    "tab = np.zeros(test, dtype=np.uint8)\n",
    "\n",
    "\n",
    "#Stworzenie nowego katalogu\n",
    "newpath = folder_docelowy+'Test_2/'\n",
    "if not os.path.exists(newpath):\n",
    "    os.makedirs(newpath)\n",
    "\n",
    "#Petla przechodzi po ludziach\n",
    "for i in range(36,40):\n",
    "    #Petla przechodzi po zdjeciach\n",
    "    \n",
    "    for l in range(0,70,10):\n",
    "    \n",
    "        m = 10\n",
    "    \n",
    "        for j in range(rozmiar):       \n",
    "            m = m - 1\n",
    "        \n",
    "            for k in range(m):\n",
    "                con = np.concatenate((people[i][j+l], people[i][9-k+l]), axis=1)\n",
    "    \n",
    "                #Zapisanie zmienionego zdjecia\n",
    "                con = Image.fromarray(con)\n",
    "                con.save(folder_docelowy+'Test_2/'+str(n)+png) \n",
    "      \n",
    "                poloczone.append(con)\n",
    "                tab[n] = 1\n",
    "                n = n + 1\n",
    "                \n",
    "print(n)"
   ]
  },
  {
   "cell_type": "code",
   "execution_count": 21,
   "id": "ebacc21b",
   "metadata": {},
   "outputs": [
    {
     "name": "stdout",
     "output_type": "stream",
     "text": [
      "1800\n"
     ]
    }
   ],
   "source": [
    "x = 0 #Zamiast n \n",
    "\n",
    "polaczone = n\n",
    "m = 5\n",
    "rozne_test = []\n",
    "\n",
    "\n",
    "for i in range(4):\n",
    "\n",
    "    rand_1 = random.randint(2,5)\n",
    "    rand_2 = random.randint(2,5)\n",
    "   \n",
    "    \n",
    "    m = m - 1\n",
    "    \n",
    "    for k in range(1,m):\n",
    "    \n",
    "        for j in range(10):\n",
    "       \n",
    "            for l in range(10):\n",
    "                con = np.concatenate((test_ppl[i][10*rand_1+j], test_ppl[i+k][10*rand_2+l]), axis=1)\n",
    "                con = Image.fromarray(con)\n",
    "                x = x + 1\n",
    "                rozne_test.append(con)\n",
    "                \n",
    "                con = np.concatenate((test_ppl[i][10*(rand_1+2)+j], test_ppl[i+k][10*(rand_2+2)+l]), axis=1)\n",
    "                con = Image.fromarray(con)\n",
    "                x = x + 1\n",
    "                rozne_test.append(con)\n",
    "                \n",
    "                con = np.concatenate((test_ppl[i][10*(rand_1-2)+j], test_ppl[i+k][10*(rand_2-2)+l]), axis=1)\n",
    "                con = Image.fromarray(con)\n",
    "                x = x + 1\n",
    "                rozne_test.append(con)\n",
    "                \n",
    "print(x)"
   ]
  },
  {
   "cell_type": "code",
   "execution_count": 22,
   "id": "0913f7f1",
   "metadata": {},
   "outputs": [
    {
     "data": {
      "text/plain": [
       "<matplotlib.image.AxesImage at 0x7f2d41b65790>"
      ]
     },
     "execution_count": 22,
     "metadata": {},
     "output_type": "execute_result"
    },
    {
     "data": {
      "image/png": "[encoded data removed]",
      "text/plain": [
       "<Figure size 640x480 with 1 Axes>"
      ]
     },
     "metadata": {},
     "output_type": "display_data"
    }
   ],
   "source": [
    "a = 2500\n",
    "plt.imshow(test_ppl[0][1], cmap = 'gray')"
   ]
  },
  {
   "cell_type": "code",
   "execution_count": 23,
   "id": "e9ec94c8",
   "metadata": {},
   "outputs": [
    {
     "name": "stdout",
     "output_type": "stream",
     "text": [
      "2520\n",
      "2520\n"
     ]
    }
   ],
   "source": [
    "for i in range(test - n):\n",
    "    \n",
    "    rand_1 = random.randint(0,x-1)\n",
    "    \n",
    "    con = rozne_test[rand_1]\n",
    "    \n",
    "    con.save(folder_docelowy+'Test_2/'+str(n)+png) \n",
    "    \n",
    "    poloczone.append(con)\n",
    "    \n",
    "    tab[n] = 0\n",
    "    n = n + 1\n",
    "    \n",
    "print(n)\n",
    "print(len(tab))"
   ]
  },
  {
   "cell_type": "code",
   "execution_count": 24,
   "id": "bcc704be",
   "metadata": {},
   "outputs": [],
   "source": [
    "#Zapis tablicy do pliku CSV\n",
    "tab.tofile(folder_docelowy+'Test_2/'+'test_2.csv', sep = ' ')   "
   ]
  },
  {
   "cell_type": "code",
   "execution_count": 25,
   "id": "cccf80b9",
   "metadata": {},
   "outputs": [
    {
     "name": "stdout",
     "output_type": "stream",
     "text": [
      "2520\n"
     ]
    }
   ],
   "source": [
    "print(len(poloczone))"
   ]
  },
  {
   "cell_type": "code",
   "execution_count": null,
   "id": "68d88982",
   "metadata": {},
   "outputs": [],
   "source": []
  },
  {
   "cell_type": "code",
   "execution_count": 26,
   "id": "71cf9405",
   "metadata": {},
   "outputs": [
    {
     "name": "stdout",
     "output_type": "stream",
     "text": [
      "0\n"
     ]
    },
    {
     "data": {
      "image/png": "[encoded data removed]",
      "text/plain": [
       "<Figure size 640x480 with 1 Axes>"
      ]
     },
     "metadata": {},
     "output_type": "display_data"
    }
   ],
   "source": [
    "a = 2500\n",
    "plt.imshow(poloczone[2000], cmap = 'gray')\n",
    "print(tab[a])"
   ]
  },
  {
   "cell_type": "code",
   "execution_count": null,
   "id": "72b19737",
   "metadata": {},
   "outputs": [],
   "source": []
  },
  {
   "cell_type": "code",
   "execution_count": null,
   "id": "f6ee7899",
   "metadata": {},
   "outputs": [],
   "source": []
  },
  {
   "cell_type": "code",
   "execution_count": 27,
   "id": "f6e6bf89",
   "metadata": {},
   "outputs": [
    {
     "data": {
      "text/plain": [
       "<matplotlib.image.AxesImage at 0x7f2d41a05820>"
      ]
     },
     "execution_count": 27,
     "metadata": {},
     "output_type": "execute_result"
    },
    {
     "data": {
      "image/png": "[encoded data removed]",
      "text/plain": [
       "<Figure size 640x480 with 1 Axes>"
      ]
     },
     "metadata": {},
     "output_type": "display_data"
    }
   ],
   "source": [
    "plt.imshow(test_ppl[1][10], cmap = 'gray')"
   ]
  }
 ],
 "metadata": {
  "kernelspec": {
   "display_name": "py39",
   "language": "python",
   "name": "py39"
  },
  "language_info": {
   "codemirror_mode": {
    "name": "ipython",
    "version": 3
   },
   "file_extension": ".py",
   "mimetype": "text/x-python",
   "name": "python",
   "nbconvert_exporter": "python",
   "pygments_lexer": "ipython3",
   "version": "3.9.12"
  }
 },
 "nbformat": 4,
 "nbformat_minor": 5
}
