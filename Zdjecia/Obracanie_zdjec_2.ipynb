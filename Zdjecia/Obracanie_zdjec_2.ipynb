{
 "cells": [
  {
   "cell_type": "code",
   "execution_count": 1,
   "id": "19aeeff9",
   "metadata": {},
   "outputs": [
    {
     "name": "stdout",
     "output_type": "stream",
     "text": [
      "3.9.12 (main, Jun  1 2022, 11:38:51) \n",
      "[GCC 7.5.0]\n"
     ]
    }
   ],
   "source": [
    "import sys\n",
    "print(sys.version)"
   ]
  },
  {
   "cell_type": "code",
   "execution_count": 2,
   "id": "e832f7f1",
   "metadata": {},
   "outputs": [],
   "source": [
    "import matplotlib.pyplot as plt\n",
    "import numpy as np\n",
    "import pandas as pd\n",
    "import seaborn as sns\n",
    "from PIL import Image\n",
    "import os\n",
    "\n",
    "import cv2\n",
    "import imutils\n",
    "\n",
    "# Make NumPy printouts easier to read.\n",
    "np.set_printoptions(precision=3, suppress=True)"
   ]
  },
  {
   "cell_type": "code",
   "execution_count": 3,
   "id": "aaca24c3",
   "metadata": {},
   "outputs": [],
   "source": [
    "folder = 'Baza_zdjec/s'\n",
    "folder_docelowy = 'Baza_zdjec_przerobiona/s'\n",
    "slesh = '/'\n",
    "png = '.png'"
   ]
  },
  {
   "cell_type": "code",
   "execution_count": 4,
   "id": "cd6456a9",
   "metadata": {},
   "outputs": [],
   "source": [
    "#Wlasciwa czesc kodu\n",
    "\n",
    "for i in range(1,41):\n",
    "    for j in range(1,11):\n",
    "        \n",
    "        #Wczytanie obrazu\n",
    "        im = cv2.imread(folder_docelowy+str(i)+slesh+str(j)+png)\n",
    "        \n",
    "        #Konwersja zdjec na czarno - biale\n",
    "        gray = cv2.cvtColor(im, cv2.COLOR_BGR2GRAY)\n",
    "        \n",
    "        #Obracanie obrazu \n",
    "        rot_2 = imutils.rotate(gray, angle=2)    \n",
    "        rot_4 = imutils.rotate(gray, angle=4)\n",
    "        rot_6 = imutils.rotate(gray, angle=6)\n",
    "        \n",
    "        rot_min_2 = imutils.rotate(gray, angle=-2)\n",
    "        rot_min_4 = imutils.rotate(gray, angle=-4)\n",
    "        rot_min_6 = imutils.rotate(gray, angle=-6)\n",
    "            \n",
    "        #Zapisanie zmienionego zdjecia\n",
    "        cv2.imwrite(folder_docelowy+str(i)+slesh+str(j+10)+png, rot_2)  \n",
    "        cv2.imwrite(folder_docelowy+str(i)+slesh+str(j+20)+png, rot_4) \n",
    "        cv2.imwrite(folder_docelowy+str(i)+slesh+str(j+30)+png, rot_6) \n",
    "        \n",
    "        cv2.imwrite(folder_docelowy+str(i)+slesh+str(j+40)+png, rot_min_2) \n",
    "        cv2.imwrite(folder_docelowy+str(i)+slesh+str(j+50)+png, rot_min_4) \n",
    "        cv2.imwrite(folder_docelowy+str(i)+slesh+str(j+60)+png, rot_min_6) "
   ]
  },
  {
   "cell_type": "code",
   "execution_count": null,
   "id": "d17df97a",
   "metadata": {},
   "outputs": [],
   "source": []
  }
 ],
 "metadata": {
  "kernelspec": {
   "display_name": "py39",
   "language": "python",
   "name": "py39"
  },
  "language_info": {
   "codemirror_mode": {
    "name": "ipython",
    "version": 3
   },
   "file_extension": ".py",
   "mimetype": "text/x-python",
   "name": "python",
   "nbconvert_exporter": "python",
   "pygments_lexer": "ipython3",
   "version": "3.9.12"
  }
 },
 "nbformat": 4,
 "nbformat_minor": 5
}
