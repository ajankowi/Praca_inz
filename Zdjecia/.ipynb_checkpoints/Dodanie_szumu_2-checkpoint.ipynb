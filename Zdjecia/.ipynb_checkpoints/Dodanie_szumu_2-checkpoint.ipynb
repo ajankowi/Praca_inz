{
 "cells": [
  {
   "cell_type": "code",
   "execution_count": 1,
   "id": "6411cec5",
   "metadata": {},
   "outputs": [
    {
     "name": "stdout",
     "output_type": "stream",
     "text": [
      "3.9.12 (main, Jun  1 2022, 11:38:51) \n",
      "[GCC 7.5.0]\n"
     ]
    }
   ],
   "source": [
    "import sys\n",
    "print(sys.version)"
   ]
  },
  {
   "cell_type": "code",
   "execution_count": 2,
   "id": "62408cee",
   "metadata": {},
   "outputs": [],
   "source": [
    "import matplotlib.pyplot as plt\n",
    "import numpy as np\n",
    "import pandas as pd\n",
    "import seaborn as sns\n",
    "from PIL import Image\n",
    "import os\n",
    "\n",
    "import cv2\n",
    "import imutils\n",
    "\n",
    "# Make NumPy printouts easier to read.\n",
    "np.set_printoptions(precision=3, suppress=True)"
   ]
  },
  {
   "cell_type": "code",
   "execution_count": 3,
   "id": "40ba2f54",
   "metadata": {},
   "outputs": [],
   "source": [
    "folder = 'Baza_zdjec/s'\n",
    "folder_docelowy = 'Baza_zdjec_przerobiona/s'\n",
    "slesh = '/'\n",
    "png = '.png'"
   ]
  },
  {
   "cell_type": "code",
   "execution_count": 13,
   "id": "0963c4f4",
   "metadata": {},
   "outputs": [
    {
     "ename": "ValueError",
     "evalue": "operands could not be broadcast together with shapes (64,64,3) (64,64) ",
     "output_type": "error",
     "traceback": [
      "\u001b[0;31m---------------------------------------------------------------------------\u001b[0m",
      "\u001b[0;31mValueError\u001b[0m                                Traceback (most recent call last)",
      "Input \u001b[0;32mIn [13]\u001b[0m, in \u001b[0;36m<cell line: 7>\u001b[0;34m()\u001b[0m\n\u001b[1;32m     20\u001b[0m n \u001b[38;5;241m=\u001b[39m np\u001b[38;5;241m.\u001b[39mrandom\u001b[38;5;241m.\u001b[39mnormal(mean,sigma,size\u001b[38;5;241m=\u001b[39m(\u001b[38;5;241m64\u001b[39m,\u001b[38;5;241m64\u001b[39m))\n\u001b[1;32m     22\u001b[0m \u001b[38;5;66;03m#Dodanie szumu do obrazu\u001b[39;00m\n\u001b[0;32m---> 23\u001b[0m g \u001b[38;5;241m=\u001b[39m \u001b[43mim\u001b[49m\u001b[43m \u001b[49m\u001b[38;5;241;43m+\u001b[39;49m\u001b[43m \u001b[49m\u001b[43mn\u001b[49m\n\u001b[1;32m     25\u001b[0m \u001b[38;5;66;03m#Zmaiana wartosci na skale od 0 do 255\u001b[39;00m\n\u001b[1;32m     26\u001b[0m g \u001b[38;5;241m=\u001b[39m g \u001b[38;5;241m*\u001b[39m \u001b[38;5;241m255\u001b[39m\n",
      "\u001b[0;31mValueError\u001b[0m: operands could not be broadcast together with shapes (64,64,3) (64,64) "
     ]
    }
   ],
   "source": [
    "#Wlasciwa czesc kodu\n",
    "\n",
    "mean = 0\n",
    "var = 0.01\n",
    "sigma = np.sqrt(var)\n",
    "\n",
    "for i in range(1,41):\n",
    "    for j in range(1,71):\n",
    "        \n",
    "        #Wczytanie obrazu\n",
    "        im = cv2.imread(folder_docelowy+str(i)+slesh+str(j)+png)\n",
    "        \n",
    "        #Konwersja zdjec na czarno - biale\n",
    "        im = cv2.cvtColor(im, cv2.COLOR_BGR2GRAY)\n",
    "        \n",
    "        #Zmiana wartosci na skale od 0 do 1\n",
    "        im = im/255\n",
    "        \n",
    "        #Tworzenie szumu\n",
    "        n = np.random.normal(mean,sigma,size=(64,64))\n",
    "        \n",
    "        #Dodanie szumu do obrazu\n",
    "        g = im + n\n",
    "        \n",
    "        #Zmaiana wartosci na skale od 0 do 255\n",
    "        g = g * 255\n",
    "        \n",
    "        #Zapisanie zmienionego zdjecia\n",
    "        cv2.imwrite(folder_docelowy+str(i)+slesh+str(j+70)+png, g) "
   ]
  },
  {
   "cell_type": "code",
   "execution_count": null,
   "id": "c6f3f4db",
   "metadata": {},
   "outputs": [],
   "source": []
  }
 ],
 "metadata": {
  "kernelspec": {
   "display_name": "py39",
   "language": "python",
   "name": "py39"
  },
  "language_info": {
   "codemirror_mode": {
    "name": "ipython",
    "version": 3
   },
   "file_extension": ".py",
   "mimetype": "text/x-python",
   "name": "python",
   "nbconvert_exporter": "python",
   "pygments_lexer": "ipython3",
   "version": "3.9.12"
  }
 },
 "nbformat": 4,
 "nbformat_minor": 5
}
