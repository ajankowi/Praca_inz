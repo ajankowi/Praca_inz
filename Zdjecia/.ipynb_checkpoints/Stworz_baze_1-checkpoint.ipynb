{
 "cells": [
  {
   "cell_type": "code",
   "execution_count": 1,
   "id": "d4ae2250",
   "metadata": {},
   "outputs": [
    {
     "name": "stdout",
     "output_type": "stream",
     "text": [
      "3.9.12 (main, Jun  1 2022, 11:38:51) \n",
      "[GCC 7.5.0]\n"
     ]
    }
   ],
   "source": [
    "import sys\n",
    "print(sys.version)"
   ]
  },
  {
   "cell_type": "code",
   "execution_count": 2,
   "id": "3b61ba48",
   "metadata": {},
   "outputs": [],
   "source": [
    "import matplotlib.pyplot as plt\n",
    "import numpy as np\n",
    "import pandas as pd\n",
    "import seaborn as sns\n",
    "from PIL import Image\n",
    "import os\n",
    "import csv\n",
    "import random\n",
    "\n",
    "import cv2\n",
    "import imutils\n",
    "\n",
    "# Make NumPy printouts easier to read.\n",
    "np.set_printoptions(precision=3, suppress=True)"
   ]
  },
  {
   "cell_type": "code",
   "execution_count": 3,
   "id": "9f61d673",
   "metadata": {},
   "outputs": [],
   "source": [
    "folder = 'Baza_zdjec_przerobiona/s'\n",
    "folder_docelowy = '../../Dane/Baza_zdjec_1/'\n",
    "slesh = '/'\n",
    "png = '.png'"
   ]
  },
  {
   "cell_type": "code",
   "execution_count": 4,
   "id": "fa4fc08b",
   "metadata": {},
   "outputs": [],
   "source": [
    "people = []\n",
    "for i in range(1,41):\n",
    "    images = []\n",
    "    for j in range(1,141):\n",
    "        im = Image.open('../Zdjecia/'+folder+str(i)+slesh+str(j)+png)\n",
    "        arr_im = np.array(im) \n",
    "        images.append(arr_im) \n",
    "    people.append(images)"
   ]
  },
  {
   "cell_type": "code",
   "execution_count": 5,
   "id": "3531f143",
   "metadata": {},
   "outputs": [],
   "source": [
    "#Laczna ilosc zdjec\n",
    "lacznie = 2000\n",
    "\n",
    "ilosc = 40\n",
    "rozmiar = 10\n",
    "poloczone = []\n",
    "n = 0\n",
    "\n",
    "# Inicjalizacja tablicy zerami o rozmiarze 'rozmiar'\n",
    "tab = np.zeros(lacznie, dtype=np.uint8)\n",
    "\n",
    "\n",
    "#Stworzenie nowego katalogu\n",
    "newpath = folder_docelowy\n",
    "if not os.path.exists(newpath):\n",
    "    os.makedirs(newpath)\n",
    "\n",
    "#Petla przechodzi po ludziach\n",
    "for i in range(ilosc):\n",
    "    #Petla przechodzi po zdjeciach\n",
    "    m = 10\n",
    "    \n",
    "    for j in range(rozmiar):       \n",
    "        m = m - 1\n",
    "        \n",
    "        for k in range(m):\n",
    "            con = np.concatenate((people[i][j], people[i][9-k]), axis=1)\n",
    "    \n",
    "            #Zapisanie zmienionego zdjecia\n",
    "            con = Image.fromarray(con)\n",
    "            con.save(folder_docelowy+str(n)+png) \n",
    "      \n",
    "            poloczone.append(con)\n",
    "            tab[n] = 1\n",
    "            n = n + 1"
   ]
  },
  {
   "cell_type": "code",
   "execution_count": 10,
   "id": "46ee68f6",
   "metadata": {},
   "outputs": [],
   "source": [
    "#Algorytm do wyszukiwania losowych zdjęć bez powtarzania\n",
    "\n",
    "h = 40\n",
    "w = 140\n",
    "n = lacznie - (lacznie - (ilosc*45))\n",
    "\n",
    "check = [0,0]\n",
    "rand_list = np.zeros((h, w), dtype=np.uint8)\n",
    "\n",
    "#Wylosowywanie zdjec\n",
    "for i in range(lacznie - (ilosc*45)):\n",
    "    \n",
    "    images = []\n",
    "    #Losowanie 2 zdjec do polaczenia\n",
    "    for j in range(2):   \n",
    "    \n",
    "        #Losowanie wspolrzednych x i y\n",
    "        rand_x = random.randint(0,39)\n",
    "        rand_y = random.randint(10,139)\n",
    "    \n",
    "        #Ponowne losowanie wspolrzednych x,y oraz sprawdzenie czy osoby nie są takie same\n",
    "        while (rand_list[rand_x][rand_y] == 1) or (check[0] == rand_x) :\n",
    "            rand_x = random.randint(0,39)\n",
    "            rand_y = random.randint(10,139)\n",
    "\n",
    "        check[j] = rand_x\n",
    "        #Zapisanie wybranej kombinacji\n",
    "        rand_list[rand_x][rand_y] = 1\n",
    "        images.append(people[rand_x][rand_y])\n",
    "        \n",
    "    #Laczenie zdjec    \n",
    "    con = np.concatenate((images[0], images[1]), axis=1)\n",
    "    \n",
    "    #Zapisanie zdjecia\n",
    "    con = Image.fromarray(con)\n",
    "    con.save(folder_docelowy+str(n)+png) \n",
    "    \n",
    "    #Dodanie polaczonego zdjecia do tablicy\n",
    "    poloczone.append(con)\n",
    "\n",
    "    #Wartosc wykorzystywana do nauki sieci\n",
    "    tab[n] = 0\n",
    "    n = n + 1    "
   ]
  },
  {
   "cell_type": "code",
   "execution_count": 11,
   "id": "014e6575",
   "metadata": {},
   "outputs": [],
   "source": [
    "#Zapis tablicy do pliku CSV\n",
    "tab.tofile('../../Dane/Baza_zdjec_1/nowe.csv', sep = ' ')   "
   ]
  },
  {
   "cell_type": "code",
   "execution_count": 13,
   "id": "c4fb67cc",
   "metadata": {},
   "outputs": [
    {
     "data": {
      "text/plain": [
       "<matplotlib.image.AxesImage at 0x7f3823251970>"
      ]
     },
     "execution_count": 13,
     "metadata": {},
     "output_type": "execute_result"
    },
    {
     "data": {
      "image/png": "[encoded data removed]",
      "text/plain": [
       "<Figure size 640x480 with 1 Axes>"
      ]
     },
     "metadata": {},
     "output_type": "display_data"
    }
   ],
   "source": [
    "plt.imshow(poloczone[1850], cmap = 'gray')"
   ]
  },
  {
   "cell_type": "code",
   "execution_count": 9,
   "id": "941bd45c",
   "metadata": {},
   "outputs": [],
   "source": []
  },
  {
   "cell_type": "code",
   "execution_count": null,
   "id": "e9ec94c8",
   "metadata": {},
   "outputs": [],
   "source": []
  },
  {
   "cell_type": "code",
   "execution_count": null,
   "id": "71cf9405",
   "metadata": {},
   "outputs": [],
   "source": []
  },
  {
   "cell_type": "code",
   "execution_count": null,
   "id": "baf8be34",
   "metadata": {},
   "outputs": [],
   "source": []
  },
  {
   "cell_type": "code",
   "execution_count": null,
   "id": "72b19737",
   "metadata": {},
   "outputs": [],
   "source": []
  },
  {
   "cell_type": "code",
   "execution_count": null,
   "id": "f6ee7899",
   "metadata": {},
   "outputs": [],
   "source": []
  },
  {
   "cell_type": "code",
   "execution_count": null,
   "id": "f6e6bf89",
   "metadata": {},
   "outputs": [],
   "source": []
  },
  {
   "cell_type": "code",
   "execution_count": null,
   "id": "e190c033",
   "metadata": {},
   "outputs": [],
   "source": []
  },
  {
   "cell_type": "code",
   "execution_count": 12,
   "id": "d43035f7",
   "metadata": {},
   "outputs": [
    {
     "name": "stdout",
     "output_type": "stream",
     "text": [
      "2000\n",
      "1\n"
     ]
    }
   ],
   "source": [
    "\n",
    "\n",
    "#Czytanie z pliku CSV i zapis do tablicy\n",
    "\n",
    "with open('../../Dane/Baza_zdjec_1/nowe.csv',\"r\") as csvfile:\n",
    "    lines = csvfile.readlines()\n",
    "csvfile.close()\n",
    "\n",
    "new = []\n",
    "\n",
    "for i in lines:\n",
    "    new.append(i.split(\" \"))\n",
    "\n",
    "    \n",
    "value = []\n",
    "for i in new[0]:\n",
    "    value.append(int(i))    \n",
    "    \n",
    "print(len(value))\n",
    "print(value[1799])\n"
   ]
  },
  {
   "cell_type": "code",
   "execution_count": null,
   "id": "992d1801",
   "metadata": {},
   "outputs": [],
   "source": [
    " "
   ]
  }
 ],
 "metadata": {
  "kernelspec": {
   "display_name": "py39",
   "language": "python",
   "name": "py39"
  },
  "language_info": {
   "codemirror_mode": {
    "name": "ipython",
    "version": 3
   },
   "file_extension": ".py",
   "mimetype": "text/x-python",
   "name": "python",
   "nbconvert_exporter": "python",
   "pygments_lexer": "ipython3",
   "version": "3.9.12"
  }
 },
 "nbformat": 4,
 "nbformat_minor": 5
}
