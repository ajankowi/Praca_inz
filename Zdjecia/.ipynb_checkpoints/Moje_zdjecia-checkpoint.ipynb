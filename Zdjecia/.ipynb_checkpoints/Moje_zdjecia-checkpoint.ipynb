{
 "cells": [
  {
   "cell_type": "code",
   "execution_count": 9,
   "id": "aef935b2",
   "metadata": {},
   "outputs": [
    {
     "name": "stdout",
     "output_type": "stream",
     "text": [
      "3.9.12 (main, Jun  1 2022, 11:38:51) \n",
      "[GCC 7.5.0]\n"
     ]
    }
   ],
   "source": [
    "import sys\n",
    "print(sys.version)"
   ]
  },
  {
   "cell_type": "code",
   "execution_count": 10,
   "id": "fb160081",
   "metadata": {},
   "outputs": [],
   "source": [
    "import matplotlib.pyplot as plt\n",
    "import numpy as np\n",
    "import pandas as pd\n",
    "import seaborn as sns\n",
    "import imageio as iio\n",
    "from PIL import Image\n",
    "import os\n",
    "\n",
    "# Make NumPy printouts easier to read.\n",
    "np.set_printoptions(precision=3, suppress=True)"
   ]
  },
  {
   "cell_type": "code",
   "execution_count": 11,
   "id": "d9b4efd9",
   "metadata": {},
   "outputs": [],
   "source": [
    "folder = '../../Dane/Baza_zdjec_moje/'\n",
    "przed = 'Przed/'\n",
    "zlaczone = 'Zlaczone/'\n",
    "png = '.png'\n",
    "jpg = '.jpg'"
   ]
  },
  {
   "cell_type": "code",
   "execution_count": 12,
   "id": "7a9e775f",
   "metadata": {},
   "outputs": [
    {
     "name": "stdout",
     "output_type": "stream",
     "text": [
      "4\n"
     ]
    }
   ],
   "source": [
    "images = []\n",
    "for i in range(1,5):\n",
    "    im = Image.open(folder+przed+str(i)+jpg).convert('L')\n",
    "    arr_im = np.array(im)\n",
    "    images.append(arr_im) \n",
    "print(len(images))"
   ]
  },
  {
   "cell_type": "code",
   "execution_count": 13,
   "id": "247bb5a6",
   "metadata": {},
   "outputs": [],
   "source": [
    "con = []\n",
    "\n",
    "con.append(np.concatenate((images[0], images[1]), axis=1))\n",
    "con.append(np.concatenate((images[0], images[2]), axis=1))\n",
    "con.append(np.concatenate((images[0], images[3]), axis=1))\n",
    "\n",
    "con.append(np.concatenate((images[1], images[2]), axis=1))\n",
    "con.append(np.concatenate((images[1], images[3]), axis=1))\n",
    "\n",
    "con.append(np.concatenate((images[2], images[3]), axis=1))\n"
   ]
  },
  {
   "cell_type": "code",
   "execution_count": null,
   "id": "17ab05a1",
   "metadata": {},
   "outputs": [],
   "source": [
    "for j in range(len(images)):    \n",
    "    m = m - 1\n",
    "    \n",
    "    for k in range(m):\n",
    "        con = np.concatenate((images[j], images[len(images)-k]), axis=1)\n",
    "    \n",
    "        #Zapisanie zmienionego zdjecia\n",
    "        con = Image.fromarray(con)\n",
    "        con.save(folder_docelowy+str(n)+png) \n",
    "      \n",
    "        poloczone.append(con)\n",
    "        tab[n] = 1\n",
    "        n = n + 1"
   ]
  },
  {
   "cell_type": "code",
   "execution_count": 14,
   "id": "efb53f1a",
   "metadata": {},
   "outputs": [
    {
     "data": {
      "text/plain": [
       "<matplotlib.image.AxesImage at 0x7f6f711ffb50>"
      ]
     },
     "execution_count": 14,
     "metadata": {},
     "output_type": "execute_result"
    },
    {
     "data": {
      "image/png": "[encoded data removed]",
      "text/plain": [
       "<Figure size 640x480 with 1 Axes>"
      ]
     },
     "metadata": {},
     "output_type": "display_data"
    }
   ],
   "source": [
    "plt.imshow(con[1], cmap = 'gray')"
   ]
  },
  {
   "cell_type": "code",
   "execution_count": 15,
   "id": "0e9bfe08",
   "metadata": {},
   "outputs": [],
   "source": [
    "newpath = folder + zlaczone\n",
    "if not os.path.exists(newpath):\n",
    "    os.makedirs(newpath)\n",
    "\n",
    "\n",
    "    \n",
    "for i in range(len(con)):\n",
    "\n",
    "    con[i] = Image.fromarray(con[i])\n",
    "    con[i].save(folder+zlaczone+str(i)+png)"
   ]
  },
  {
   "cell_type": "code",
   "execution_count": null,
   "id": "b3ffe442",
   "metadata": {},
   "outputs": [],
   "source": []
  },
  {
   "cell_type": "code",
   "execution_count": null,
   "id": "d1f94e41",
   "metadata": {},
   "outputs": [],
   "source": []
  }
 ],
 "metadata": {
  "kernelspec": {
   "display_name": "py39",
   "language": "python",
   "name": "py39"
  },
  "language_info": {
   "codemirror_mode": {
    "name": "ipython",
    "version": 3
   },
   "file_extension": ".py",
   "mimetype": "text/x-python",
   "name": "python",
   "nbconvert_exporter": "python",
   "pygments_lexer": "ipython3",
   "version": "3.9.12"
  }
 },
 "nbformat": 4,
 "nbformat_minor": 5
}
