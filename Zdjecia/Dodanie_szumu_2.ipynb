{
 "cells": [
  {
   "cell_type": "code",
   "execution_count": 1,
   "id": "f6a6b1bb",
   "metadata": {},
   "outputs": [
    {
     "name": "stdout",
     "output_type": "stream",
     "text": [
      "3.9.12 (main, Jun  1 2022, 11:38:51) \n",
      "[GCC 7.5.0]\n"
     ]
    }
   ],
   "source": [
    "import sys\n",
    "print(sys.version)"
   ]
  },
  {
   "cell_type": "code",
   "execution_count": 2,
   "id": "989af40d",
   "metadata": {},
   "outputs": [],
   "source": [
    "import matplotlib.pyplot as plt\n",
    "import numpy as np\n",
    "import pandas as pd\n",
    "import seaborn as sns\n",
    "from PIL import Image\n",
    "import os\n",
    "\n",
    "import cv2\n",
    "import imutils\n",
    "\n",
    "# Make NumPy printouts easier to read.\n",
    "np.set_printoptions(precision=3, suppress=True)"
   ]
  },
  {
   "cell_type": "code",
   "execution_count": 3,
   "id": "3a2b4842",
   "metadata": {},
   "outputs": [],
   "source": [
    "folder = 'Baza_zdjec/s'\n",
    "folder_docelowy = 'Baza_zdjec_przerobiona/s'\n",
    "slesh = '/'\n",
    "png = '.png'"
   ]
  },
  {
   "cell_type": "code",
   "execution_count": 14,
   "id": "a5d5fff5",
   "metadata": {},
   "outputs": [],
   "source": [
    "#Wlasciwa czesc kodu\n",
    "\n",
    "mean = 0\n",
    "var = 0.01\n",
    "sigma = np.sqrt(var)\n",
    "\n",
    "for i in range(1,41):\n",
    "    for j in range(1,71):\n",
    "        \n",
    "        #Wczytanie obrazu\n",
    "        im = cv2.imread(folder_docelowy+str(i)+slesh+str(j)+png)\n",
    "        \n",
    "        #Konwersja zdjec na czarno - biale\n",
    "        im = cv2.cvtColor(im, cv2.COLOR_BGR2GRAY)\n",
    "        \n",
    "        #Zmiana wartosci na skale od 0 do 1\n",
    "        im = im/255\n",
    "        \n",
    "        #Tworzenie szumu\n",
    "        n = np.random.normal(mean,sigma,size=(64,64))\n",
    "        \n",
    "        #Dodanie szumu do obrazu\n",
    "        g = im + n\n",
    "        \n",
    "        #Zmaiana wartosci na skale od 0 do 255\n",
    "        g = g * 255\n",
    "        \n",
    "        #Zapisanie zmienionego zdjecia\n",
    "        cv2.imwrite(folder_docelowy+str(i)+slesh+str(j+70)+png, g) "
   ]
  },
  {
   "cell_type": "code",
   "execution_count": null,
   "id": "3a66635b",
   "metadata": {},
   "outputs": [],
   "source": []
  }
 ],
 "metadata": {
  "kernelspec": {
   "display_name": "py39",
   "language": "python",
   "name": "py39"
  },
  "language_info": {
   "codemirror_mode": {
    "name": "ipython",
    "version": 3
   },
   "file_extension": ".py",
   "mimetype": "text/x-python",
   "name": "python",
   "nbconvert_exporter": "python",
   "pygments_lexer": "ipython3",
   "version": "3.9.12"
  }
 },
 "nbformat": 4,
 "nbformat_minor": 5
}
