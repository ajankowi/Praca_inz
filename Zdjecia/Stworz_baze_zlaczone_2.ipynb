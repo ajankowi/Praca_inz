{
 "cells": [
  {
   "cell_type": "code",
   "execution_count": 1,
   "id": "d4ae2250",
   "metadata": {},
   "outputs": [
    {
     "name": "stdout",
     "output_type": "stream",
     "text": [
      "3.9.12 (main, Jun  1 2022, 11:38:51) \n",
      "[GCC 7.5.0]\n"
     ]
    }
   ],
   "source": [
    "import sys\n",
    "print(sys.version)"
   ]
  },
  {
   "cell_type": "code",
   "execution_count": 2,
   "id": "3b61ba48",
   "metadata": {},
   "outputs": [],
   "source": [
    "import matplotlib.pyplot as plt\n",
    "import numpy as np\n",
    "import pandas as pd\n",
    "import seaborn as sns\n",
    "from PIL import Image\n",
    "import os\n",
    "import csv\n",
    "import random\n",
    "\n",
    "import cv2\n",
    "import imutils\n",
    "\n",
    "# Make NumPy printouts easier to read.\n",
    "np.set_printoptions(precision=3, suppress=True)"
   ]
  },
  {
   "cell_type": "code",
   "execution_count": 3,
   "id": "9f61d673",
   "metadata": {},
   "outputs": [],
   "source": [
    "folder = 'Baza_zdjec_przerobiona/s'\n",
    "folder_docelowy = '../../Dane/Baza_zdjec_zlaczone_2/'\n",
    "slesh = '/'\n",
    "png = '.png'"
   ]
  },
  {
   "cell_type": "code",
   "execution_count": 4,
   "id": "fa4fc08b",
   "metadata": {},
   "outputs": [],
   "source": [
    "#Tablica przechowująca zdjęcia osób\n",
    "people = []\n",
    "for i in range(1,41):\n",
    "    images = []\n",
    "    for j in range(1,141):\n",
    "        im = Image.open('../Zdjecia/'+folder+str(i)+slesh+str(j)+png)\n",
    "        arr_im = np.array(im) \n",
    "        images.append(arr_im) \n",
    "    people.append(images)"
   ]
  },
  {
   "cell_type": "code",
   "execution_count": 5,
   "id": "3531f143",
   "metadata": {},
   "outputs": [],
   "source": [
    "#Laczna ilosc zdjec\n",
    "lacznie = 25200\n",
    "\n",
    "ilosc = 40\n",
    "rozmiar = 10\n",
    "poloczone = []\n",
    "n = 0\n",
    "\n",
    "# Inicjalizacja tablicy zerami o rozmiarze 'rozmiar'\n",
    "tab = np.zeros(lacznie, dtype=np.uint8)\n",
    "\n",
    "\n",
    "#Stworzenie nowego katalogu\n",
    "newpath = folder_docelowy\n",
    "if not os.path.exists(newpath):\n",
    "    os.makedirs(newpath)\n",
    "\n",
    "#Petla przechodzi po ludziach\n",
    "for i in range(ilosc):\n",
    "    #Petla przechodzi po zdjeciach\n",
    "    \n",
    "    for l in range(0,70,10):\n",
    "    \n",
    "        m = 10\n",
    "    \n",
    "        for j in range(rozmiar):       \n",
    "            m = m - 1\n",
    "        \n",
    "            for k in range(m):\n",
    "                con = np.concatenate((people[i][j+l], people[i][9-k+l]), axis=1)\n",
    "    \n",
    "                #Zapisanie zmienionego zdjecia\n",
    "                con = Image.fromarray(con)\n",
    "                con.save(folder_docelowy+str(n)+png) \n",
    "      \n",
    "                poloczone.append(con)\n",
    "                tab[n] = 1\n",
    "                n = n + 1\n",
    "                \n"
   ]
  },
  {
   "cell_type": "code",
   "execution_count": 6,
   "id": "f67de426",
   "metadata": {},
   "outputs": [
    {
     "name": "stdout",
     "output_type": "stream",
     "text": [
      "78000\n"
     ]
    }
   ],
   "source": [
    "x = 0 #Zamiast n \n",
    "\n",
    "polaczone = n\n",
    "m = 41\n",
    "rozne = []\n",
    "\n",
    "\n",
    "for i in range(40):\n",
    "\n",
    "    rand_1 = random.randint(0,8)\n",
    "    rand_2 = random.randint(0,8)\n",
    "   \n",
    "    \n",
    "    m = m - 1\n",
    "    \n",
    "    for k in range(1,m):\n",
    "    \n",
    "        for j in range(10):\n",
    "       \n",
    "            for l in range(10):\n",
    "                con = np.concatenate((people[i][10*rand_1+j], people[i+k][10*rand_2+l]), axis=1)\n",
    "                con = Image.fromarray(con)\n",
    "                x = x + 1\n",
    "                rozne.append(con)\n",
    "print(x)\n"
   ]
  },
  {
   "cell_type": "code",
   "execution_count": 7,
   "id": "7537ae69",
   "metadata": {},
   "outputs": [],
   "source": [
    "for i in range(lacznie - n):\n",
    "    \n",
    "    rand_1 = random.randint(0,x-1)\n",
    "    \n",
    "    con = rozne[rand_1]\n",
    "    \n",
    "    con.save(folder_docelowy+str(n)+png) \n",
    "    \n",
    "    poloczone.append(con)\n",
    "    \n",
    "    tab[n] = 0\n",
    "    n = n + 1\n",
    "    \n",
    "    \n",
    "    "
   ]
  },
  {
   "cell_type": "code",
   "execution_count": 8,
   "id": "49374d93",
   "metadata": {},
   "outputs": [
    {
     "name": "stdout",
     "output_type": "stream",
     "text": [
      "25200\n"
     ]
    }
   ],
   "source": [
    "print(n)"
   ]
  },
  {
   "cell_type": "code",
   "execution_count": 9,
   "id": "014e6575",
   "metadata": {},
   "outputs": [],
   "source": [
    "#Zapis tablicy do pliku CSV\n",
    "tab.tofile(folder_docelowy+'nowe.csv', sep = ' ')   "
   ]
  },
  {
   "cell_type": "code",
   "execution_count": null,
   "id": "941bd45c",
   "metadata": {},
   "outputs": [],
   "source": []
  },
  {
   "cell_type": "code",
   "execution_count": null,
   "id": "e9ec94c8",
   "metadata": {},
   "outputs": [],
   "source": []
  },
  {
   "cell_type": "code",
   "execution_count": 11,
   "id": "71cf9405",
   "metadata": {},
   "outputs": [
    {
     "name": "stdout",
     "output_type": "stream",
     "text": [
      "0\n"
     ]
    },
    {
     "data": {
      "image/png": "[encoded data removed]",
      "text/plain": [
       "<Figure size 640x480 with 1 Axes>"
      ]
     },
     "metadata": {},
     "output_type": "display_data"
    }
   ],
   "source": [
    "a = 24000\n",
    "plt.imshow(poloczone[a], cmap = 'gray')\n",
    "print(tab[a])"
   ]
  },
  {
   "cell_type": "code",
   "execution_count": null,
   "id": "72b19737",
   "metadata": {},
   "outputs": [],
   "source": []
  },
  {
   "cell_type": "code",
   "execution_count": null,
   "id": "f6ee7899",
   "metadata": {},
   "outputs": [],
   "source": []
  },
  {
   "cell_type": "code",
   "execution_count": null,
   "id": "f6e6bf89",
   "metadata": {},
   "outputs": [],
   "source": []
  },
  {
   "cell_type": "code",
   "execution_count": null,
   "id": "e190c033",
   "metadata": {},
   "outputs": [],
   "source": []
  },
  {
   "cell_type": "code",
   "execution_count": 12,
   "id": "d43035f7",
   "metadata": {},
   "outputs": [
    {
     "name": "stdout",
     "output_type": "stream",
     "text": [
      "2000\n",
      "1\n"
     ]
    }
   ],
   "source": [
    "\n",
    "\n",
    "#Czytanie z pliku CSV i zapis do tablicy\n",
    "\n",
    "with open('../../Dane/Baza_zdjec_1/nowe.csv',\"r\") as csvfile:\n",
    "    lines = csvfile.readlines()\n",
    "csvfile.close()\n",
    "\n",
    "new = []\n",
    "\n",
    "for i in lines:\n",
    "    new.append(i.split(\" \"))\n",
    "\n",
    "    \n",
    "value = []\n",
    "for i in new[0]:\n",
    "    value.append(int(i))    \n",
    "    \n",
    "print(len(value))\n",
    "print(value[1799])\n"
   ]
  },
  {
   "cell_type": "code",
   "execution_count": null,
   "id": "992d1801",
   "metadata": {},
   "outputs": [],
   "source": [
    " "
   ]
  }
 ],
 "metadata": {
  "kernelspec": {
   "display_name": "py39",
   "language": "python",
   "name": "py39"
  },
  "language_info": {
   "codemirror_mode": {
    "name": "ipython",
    "version": 3
   },
   "file_extension": ".py",
   "mimetype": "text/x-python",
   "name": "python",
   "nbconvert_exporter": "python",
   "pygments_lexer": "ipython3",
   "version": "3.9.12"
  }
 },
 "nbformat": 4,
 "nbformat_minor": 5
}
