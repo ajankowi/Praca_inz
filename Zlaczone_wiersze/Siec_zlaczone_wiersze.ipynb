{
  "cells": [
    {
      "cell_type": "markdown",
      "metadata": {
        "id": "view-in-github",
        "colab_type": "text"
      },
      "source": [
        "<a href=\"https://colab.research.google.com/github/ajankowi/Praca_inz/blob/master/Zlaczone_wiersze/Siec_zlaczone_wiersze.ipynb\" target=\"_parent\"><img src=\"https://colab.research.google.com/assets/colab-badge.svg\" alt=\"Open In Colab\"/></a>"
      ]
    },
    {
      "cell_type": "code",
      "execution_count": 1,
      "id": "613f08b5",
      "metadata": {
        "colab": {
          "base_uri": "https://localhost:8080/"
        },
        "id": "613f08b5",
        "outputId": "9867cb5d-f3ee-408d-a0af-5d8a0d069642"
      },
      "outputs": [
        {
          "output_type": "stream",
          "name": "stdout",
          "text": [
            "3.8.10 (default, Nov 14 2022, 12:59:47) \n",
            "[GCC 9.4.0]\n"
          ]
        }
      ],
      "source": [
        "import sys\n",
        "print(sys.version)"
      ]
    },
    {
      "cell_type": "code",
      "execution_count": 2,
      "id": "0n78XAHmDiUv",
      "metadata": {
        "colab": {
          "base_uri": "https://localhost:8080/"
        },
        "id": "0n78XAHmDiUv",
        "outputId": "7ca4881c-d920-4d19-c4fd-fbe52ce3ab83"
      },
      "outputs": [
        {
          "output_type": "stream",
          "name": "stdout",
          "text": [
            "Mounted at /content/drive\n"
          ]
        }
      ],
      "source": [
        "from google.colab import drive\n",
        "drive.mount(\"/content/drive\", force_remount=True)"
      ]
    },
    {
      "cell_type": "code",
      "execution_count": 3,
      "id": "5eca1117",
      "metadata": {
        "colab": {
          "base_uri": "https://localhost:8080/"
        },
        "id": "5eca1117",
        "outputId": "8608d6aa-e3fc-4bc0-9031-d42181ccf51e"
      },
      "outputs": [
        {
          "output_type": "stream",
          "name": "stdout",
          "text": [
            "TensorFlow version: 2.11.0\n"
          ]
        }
      ],
      "source": [
        "import tensorflow as tf\n",
        "from tensorflow import keras\n",
        "from keras import layers, models, regularizers\n",
        "from keras.layers import Flatten, add, Dense, Dropout \n",
        "from keras.callbacks import ModelCheckpoint, EarlyStopping\n",
        "\n",
        "\n",
        "print(\"TensorFlow version:\", tf.__version__)\n",
        "tf.keras.backend.set_floatx('float64')"
      ]
    },
    {
      "cell_type": "code",
      "execution_count": 4,
      "id": "12022d37",
      "metadata": {
        "id": "12022d37"
      },
      "outputs": [],
      "source": [
        "import matplotlib.pyplot as plt\n",
        "import numpy as np\n",
        "import pandas as pd\n",
        "import seaborn as sns\n",
        "from PIL import Image\n",
        "import os\n",
        "import csv\n",
        "import random\n",
        "\n",
        "import cv2\n",
        "import imutils\n",
        "import glob\n",
        "# Make NumPy printouts easier to read.\n",
        "np.set_printoptions(precision=3, suppress=True)"
      ]
    },
    {
      "cell_type": "code",
      "execution_count": 5,
      "id": "1086f893",
      "metadata": {
        "id": "1086f893"
      },
      "outputs": [],
      "source": [
        "#Określenie ścieżek do plików\n",
        "test_csv = 'Test/test.csv'\n",
        "valid_csv = 'Valid/valid.csv'\n",
        "train_csv = 'Train/train.csv'\n",
        "\n",
        "folder = '/content/drive/MyDrive/Sieci_rozszerzenie/Zlaczone_wiersze/'\n",
        "slesh = '/'\n",
        "png = '.png'"
      ]
    },
    {
      "cell_type": "code",
      "execution_count": 6,
      "id": "P6mVaPsPDDID",
      "metadata": {
        "id": "P6mVaPsPDDID"
      },
      "outputs": [],
      "source": [
        "#!unzip '/content/drive/MyDrive/Sieci_rozszerzenie/Zlaczone_wiersze/Train/Train.zip' -d '/content/train/'\n",
        "#!unzip '/content/drive/MyDrive/Sieci_rozszerzenie/Zlaczone_wiersze/Valid/Valid.zip' -d '/content/valid/'\n",
        "#!unzip '/content/drive/MyDrive/Sieci_rozszerzenie/Zlaczone_wiersze/Test/Test.zip' -d '/content/test/'"
      ]
    },
    {
      "cell_type": "code",
      "execution_count": 7,
      "id": "723b71fc",
      "metadata": {
        "id": "723b71fc"
      },
      "outputs": [],
      "source": [
        "def release_list(a):\n",
        "    \n",
        "    del a[:]\n",
        "    del a"
      ]
    },
    {
      "cell_type": "code",
      "execution_count": 8,
      "id": "5beb89e7",
      "metadata": {
        "colab": {
          "base_uri": "https://localhost:8080/"
        },
        "id": "5beb89e7",
        "outputId": "678493fd-e80d-4391-e2e3-0c40bc8bbd65"
      },
      "outputs": [
        {
          "output_type": "stream",
          "name": "stdout",
          "text": [
            "20160\n"
          ]
        }
      ],
      "source": [
        "#Wczytanie etykiet do treninegu \n",
        "\n",
        "with open(folder+train_csv,\"r\") as csvfile:\n",
        "    lines = csvfile.readlines()\n",
        "csvfile.close()\n",
        "\n",
        "new = []\n",
        "\n",
        "for i in lines:\n",
        "    new.append(i.split(\" \"))\n",
        "\n",
        "    \n",
        "value_train = []\n",
        "for i in new[0]:\n",
        "    value_train.append(int(i))    \n",
        "    \n",
        "print(len(value_train))"
      ]
    },
    {
      "cell_type": "code",
      "source": [
        "#Wczytanie etykiet do treninegu \n",
        "\n",
        "with open(folder+valid_csv,\"r\") as csvfile:\n",
        "    lines = csvfile.readlines()\n",
        "csvfile.close()\n",
        "\n",
        "new = []\n",
        "\n",
        "for i in lines:\n",
        "    new.append(i.split(\" \"))\n",
        "\n",
        "    \n",
        "value_valid = []\n",
        "for i in new[0]:\n",
        "    value_valid.append(int(i))    \n",
        "    \n",
        "print(len(value_valid))"
      ],
      "metadata": {
        "colab": {
          "base_uri": "https://localhost:8080/"
        },
        "id": "81v7kN-MjQlr",
        "outputId": "54186be1-4ea5-4f06-86b0-bc13e47c7cb9"
      },
      "id": "81v7kN-MjQlr",
      "execution_count": 9,
      "outputs": [
        {
          "output_type": "stream",
          "name": "stdout",
          "text": [
            "2520\n"
          ]
        }
      ]
    },
    {
      "cell_type": "code",
      "execution_count": 10,
      "id": "b9FTBM2X68V7",
      "metadata": {
        "colab": {
          "base_uri": "https://localhost:8080/"
        },
        "id": "b9FTBM2X68V7",
        "outputId": "2b28e8e5-0e11-4cfd-e36d-5bdaebd3463d"
      },
      "outputs": [
        {
          "output_type": "stream",
          "name": "stdout",
          "text": [
            "2520\n"
          ]
        }
      ],
      "source": [
        "#Wczytanie etykiet do testowania\n",
        "\n",
        "with open(folder+test_csv,\"r\") as csvfile:\n",
        "    lines = csvfile.readlines()\n",
        "csvfile.close()\n",
        "\n",
        "new = []\n",
        "\n",
        "for i in lines:\n",
        "    new.append(i.split(\" \"))\n",
        "\n",
        "    \n",
        "value_test = []\n",
        "for i in new[0]:\n",
        "    value_test.append(int(i))    \n",
        "    \n",
        "print(len(value_test))"
      ]
    },
    {
      "cell_type": "code",
      "execution_count": 11,
      "id": "d9cb09d8",
      "metadata": {
        "colab": {
          "base_uri": "https://localhost:8080/"
        },
        "id": "d9cb09d8",
        "outputId": "1eaacf0c-86ca-4c76-de76-2e2957dee98e"
      },
      "outputs": [
        {
          "output_type": "stream",
          "name": "stdout",
          "text": [
            "20160\n"
          ]
        }
      ],
      "source": [
        "#Wczytanie zdjęć treningowych (80% całego zbioru)\n",
        "images_train = []\n",
        "size = len(value_train)\n",
        "\n",
        "for i in range(size):\n",
        "    im = Image.open('/content/train/'+str(i)+'.png')\n",
        "    arr_im = np.array(im) \n",
        "    arr_im = arr_im / 255.0\n",
        "    images_train.append(arr_im) \n",
        "print(len(images_train))"
      ]
    },
    {
      "cell_type": "code",
      "source": [
        "#Wczytanie zdjęć walidacji (10% całego zbioru)\n",
        "images_valid = []\n",
        "size = len(value_valid)\n",
        "\n",
        "for i in range(size):\n",
        "    im = Image.open('/content/valid/'+str(i)+'.png')\n",
        "    arr_im = np.array(im) \n",
        "    arr_im = arr_im / 255.0\n",
        "    images_valid.append(arr_im) \n",
        "print(len(images_valid))"
      ],
      "metadata": {
        "colab": {
          "base_uri": "https://localhost:8080/"
        },
        "id": "ejTH7UQCjv4_",
        "outputId": "5f5ca25d-0004-4b49-fe4b-26106743acdd"
      },
      "id": "ejTH7UQCjv4_",
      "execution_count": 12,
      "outputs": [
        {
          "output_type": "stream",
          "name": "stdout",
          "text": [
            "2520\n"
          ]
        }
      ]
    },
    {
      "cell_type": "code",
      "execution_count": 13,
      "id": "jyIF3G2Q6_eq",
      "metadata": {
        "colab": {
          "base_uri": "https://localhost:8080/"
        },
        "id": "jyIF3G2Q6_eq",
        "outputId": "c46986e9-6c41-484e-d1cb-9fedc0f31302"
      },
      "outputs": [
        {
          "output_type": "stream",
          "name": "stdout",
          "text": [
            "2520\n"
          ]
        }
      ],
      "source": [
        "#Wczytanie zdjęć testowych (10% całego zbioru)\n",
        "images_test = []\n",
        "size = len(value_test)\n",
        "\n",
        "for i in range(size):\n",
        "    im = Image.open('/content/test/'+str(i)+'.png')\n",
        "    arr_im = np.array(im) \n",
        "    arr_im = arr_im / 255.0\n",
        "    images_test.append(arr_im) \n",
        "print(len(images_test))"
      ]
    },
    {
      "cell_type": "code",
      "execution_count": 14,
      "id": "f7f4dd4b",
      "metadata": {
        "id": "f7f4dd4b"
      },
      "outputs": [],
      "source": [
        "x_train = np.array(images_train)\n",
        "y_train = np.array(value_train)\n",
        "\n",
        "x_valid = np.array(images_valid)\n",
        "y_valid = np.array(value_valid)\n",
        "\n",
        "x_test = np.array(images_test)\n",
        "y_test = np.array(value_test)"
      ]
    },
    {
      "cell_type": "code",
      "execution_count": 29,
      "id": "d3a370cb",
      "metadata": {
        "colab": {
          "base_uri": "https://localhost:8080/",
          "height": 236
        },
        "id": "d3a370cb",
        "outputId": "14227192-e841-438c-81bb-d9d5169234ed"
      },
      "outputs": [
        {
          "output_type": "stream",
          "name": "stdout",
          "text": [
            "0\n"
          ]
        },
        {
          "output_type": "display_data",
          "data": {
            "text/plain": [
              "<Figure size 432x288 with 1 Axes>"
            ],
            "image/png": "[encoded data removed]"
          },
          "metadata": {
            "needs_background": "light"
          }
        }
      ],
      "source": [
        "a = 19000\n",
        "plt.imshow(x_train[a],cmap = 'gray')\n",
        "print(y_train[a])"
      ]
    },
    {
      "cell_type": "code",
      "execution_count": 16,
      "id": "772c7d7c",
      "metadata": {
        "id": "772c7d7c"
      },
      "outputs": [],
      "source": [
        "model = models.Sequential()\n",
        "model.add(layers.Conv2D(32, (3, 3), activation='relu', input_shape=(64, 128, 1)))\n",
        "model.add(layers.MaxPooling2D((2, 2)))\n",
        "model.add(layers.Conv2D(32, (3, 3), activation='relu'))\n",
        "model.add(layers.MaxPooling2D((2, 2)))\n",
        "\n",
        "model.add(layers.BatchNormalization())\n",
        "\n",
        "model.add(layers.Conv2D(64, (3, 3), activation='relu'))\n",
        "model.add(layers.MaxPooling2D((2, 2)))\n",
        "model.add(layers.Conv2D(64, (3, 3), activation='relu'))\n",
        "model.add(layers.MaxPooling2D((2, 2)))\n",
        "\n",
        "model.add(layers.BatchNormalization())\n",
        "\n",
        "model.add(layers.Flatten())\n",
        "model.add(layers.Dense(64, activation='relu'))\n",
        "model.add(layers.Dense(1, activation='relu'))\n"
      ]
    },
    {
      "cell_type": "code",
      "execution_count": 17,
      "id": "b86f72df",
      "metadata": {
        "colab": {
          "base_uri": "https://localhost:8080/"
        },
        "id": "b86f72df",
        "outputId": "b02e7dde-df74-4986-a027-dd5c09207e9f"
      },
      "outputs": [
        {
          "output_type": "stream",
          "name": "stdout",
          "text": [
            "Model: \"sequential\"\n",
            "_________________________________________________________________\n",
            " Layer (type)                Output Shape              Param #   \n",
            "=================================================================\n",
            " conv2d (Conv2D)             (None, 62, 126, 32)       320       \n",
            "                                                                 \n",
            " max_pooling2d (MaxPooling2D  (None, 31, 63, 32)       0         \n",
            " )                                                               \n",
            "                                                                 \n",
            " conv2d_1 (Conv2D)           (None, 29, 61, 32)        9248      \n",
            "                                                                 \n",
            " max_pooling2d_1 (MaxPooling  (None, 14, 30, 32)       0         \n",
            " 2D)                                                             \n",
            "                                                                 \n",
            " batch_normalization (BatchN  (None, 14, 30, 32)       128       \n",
            " ormalization)                                                   \n",
            "                                                                 \n",
            " conv2d_2 (Conv2D)           (None, 12, 28, 64)        18496     \n",
            "                                                                 \n",
            " max_pooling2d_2 (MaxPooling  (None, 6, 14, 64)        0         \n",
            " 2D)                                                             \n",
            "                                                                 \n",
            " conv2d_3 (Conv2D)           (None, 4, 12, 64)         36928     \n",
            "                                                                 \n",
            " max_pooling2d_3 (MaxPooling  (None, 2, 6, 64)         0         \n",
            " 2D)                                                             \n",
            "                                                                 \n",
            " batch_normalization_1 (Batc  (None, 2, 6, 64)         256       \n",
            " hNormalization)                                                 \n",
            "                                                                 \n",
            " flatten (Flatten)           (None, 768)               0         \n",
            "                                                                 \n",
            " dense (Dense)               (None, 64)                49216     \n",
            "                                                                 \n",
            " dense_1 (Dense)             (None, 1)                 65        \n",
            "                                                                 \n",
            "=================================================================\n",
            "Total params: 114,657\n",
            "Trainable params: 114,465\n",
            "Non-trainable params: 192\n",
            "_________________________________________________________________\n"
          ]
        }
      ],
      "source": [
        "model.summary()"
      ]
    },
    {
      "cell_type": "code",
      "execution_count": 18,
      "id": "9beb77e5",
      "metadata": {
        "colab": {
          "base_uri": "https://localhost:8080/"
        },
        "id": "9beb77e5",
        "outputId": "2d4cbf2d-d55a-4ae8-ddad-5973ed63114d"
      },
      "outputs": [
        {
          "output_type": "stream",
          "name": "stdout",
          "text": [
            "Epoch 1/100\n",
            "158/158 [==============================] - 32s 159ms/step - loss: 0.1631 - accuracy: 0.8414 - mse: 0.1631 - val_loss: 0.4511 - val_accuracy: 0.5000 - val_mse: 0.4511\n",
            "Epoch 2/100\n",
            "158/158 [==============================] - 23s 144ms/step - loss: 0.0159 - accuracy: 0.9939 - mse: 0.0159 - val_loss: 1.3747 - val_accuracy: 0.5000 - val_mse: 1.3747\n",
            "Epoch 3/100\n",
            "158/158 [==============================] - 23s 143ms/step - loss: 0.0083 - accuracy: 0.9988 - mse: 0.0083 - val_loss: 0.5410 - val_accuracy: 0.6008 - val_mse: 0.5410\n",
            "Epoch 4/100\n",
            "158/158 [==============================] - 23s 147ms/step - loss: 0.0054 - accuracy: 0.9996 - mse: 0.0054 - val_loss: 0.1848 - val_accuracy: 0.7774 - val_mse: 0.1848\n",
            "Epoch 5/100\n",
            "158/158 [==============================] - 23s 147ms/step - loss: 0.0040 - accuracy: 1.0000 - mse: 0.0040 - val_loss: 0.1471 - val_accuracy: 0.8123 - val_mse: 0.1471\n",
            "Epoch 6/100\n",
            "158/158 [==============================] - 23s 147ms/step - loss: 0.0030 - accuracy: 1.0000 - mse: 0.0030 - val_loss: 0.1348 - val_accuracy: 0.8313 - val_mse: 0.1348\n",
            "Epoch 7/100\n",
            "158/158 [==============================] - 23s 144ms/step - loss: 0.0025 - accuracy: 1.0000 - mse: 0.0025 - val_loss: 0.1464 - val_accuracy: 0.8103 - val_mse: 0.1464\n",
            "Epoch 8/100\n",
            "158/158 [==============================] - 22s 141ms/step - loss: 0.0021 - accuracy: 1.0000 - mse: 0.0021 - val_loss: 0.1563 - val_accuracy: 0.8044 - val_mse: 0.1563\n",
            "Epoch 9/100\n",
            "158/158 [==============================] - 23s 144ms/step - loss: 0.0017 - accuracy: 1.0000 - mse: 0.0017 - val_loss: 0.1485 - val_accuracy: 0.8131 - val_mse: 0.1485\n",
            "Epoch 10/100\n",
            "158/158 [==============================] - 22s 142ms/step - loss: 0.0013 - accuracy: 1.0000 - mse: 0.0013 - val_loss: 0.1468 - val_accuracy: 0.8210 - val_mse: 0.1468\n",
            "Epoch 11/100\n",
            "158/158 [==============================] - 23s 144ms/step - loss: 0.0014 - accuracy: 1.0000 - mse: 0.0014 - val_loss: 0.1398 - val_accuracy: 0.8226 - val_mse: 0.1398\n",
            "Epoch 12/100\n",
            "158/158 [==============================] - 23s 147ms/step - loss: 0.0012 - accuracy: 1.0000 - mse: 0.0012 - val_loss: 0.1204 - val_accuracy: 0.8444 - val_mse: 0.1204\n",
            "Epoch 13/100\n",
            "158/158 [==============================] - 22s 142ms/step - loss: 0.0011 - accuracy: 1.0000 - mse: 0.0011 - val_loss: 0.1375 - val_accuracy: 0.8266 - val_mse: 0.1375\n",
            "Epoch 14/100\n",
            "158/158 [==============================] - 23s 142ms/step - loss: 0.0010 - accuracy: 1.0000 - mse: 0.0010 - val_loss: 0.1395 - val_accuracy: 0.8210 - val_mse: 0.1395\n",
            "Epoch 15/100\n",
            "158/158 [==============================] - 23s 144ms/step - loss: 9.7339e-04 - accuracy: 1.0000 - mse: 9.7339e-04 - val_loss: 0.1373 - val_accuracy: 0.8321 - val_mse: 0.1373\n",
            "Epoch 16/100\n",
            "158/158 [==============================] - 23s 145ms/step - loss: 0.0010 - accuracy: 1.0000 - mse: 0.0010 - val_loss: 0.1484 - val_accuracy: 0.8139 - val_mse: 0.1484\n",
            "Epoch 17/100\n",
            "158/158 [==============================] - 22s 142ms/step - loss: 8.9614e-04 - accuracy: 1.0000 - mse: 8.9614e-04 - val_loss: 0.1249 - val_accuracy: 0.8468 - val_mse: 0.1249\n",
            "Epoch 18/100\n",
            "158/158 [==============================] - 23s 144ms/step - loss: 8.4667e-04 - accuracy: 1.0000 - mse: 8.4667e-04 - val_loss: 0.1245 - val_accuracy: 0.8484 - val_mse: 0.1245\n",
            "Epoch 19/100\n",
            "158/158 [==============================] - 23s 144ms/step - loss: 7.3206e-04 - accuracy: 1.0000 - mse: 7.3206e-04 - val_loss: 0.1400 - val_accuracy: 0.8302 - val_mse: 0.1400\n",
            "Epoch 20/100\n",
            "158/158 [==============================] - 23s 145ms/step - loss: 6.5126e-04 - accuracy: 1.0000 - mse: 6.5126e-04 - val_loss: 0.1353 - val_accuracy: 0.8357 - val_mse: 0.1353\n",
            "Epoch 21/100\n",
            "158/158 [==============================] - 23s 144ms/step - loss: 4.9535e-04 - accuracy: 1.0000 - mse: 4.9535e-04 - val_loss: 0.1357 - val_accuracy: 0.8373 - val_mse: 0.1357\n",
            "Epoch 22/100\n",
            "158/158 [==============================] - 22s 142ms/step - loss: 5.7714e-04 - accuracy: 1.0000 - mse: 5.7714e-04 - val_loss: 0.1449 - val_accuracy: 0.8246 - val_mse: 0.1449\n",
            "Epoch 22: early stopping\n"
          ]
        }
      ],
      "source": [
        "model.compile(optimizer='adam',\n",
        "              loss='mse',\n",
        "              metrics=['accuracy','mse'])\n",
        "\n",
        "#Funcka umożliwia zatrzymanie się uczenia \n",
        "#gdy wartość strat przstanie maleć\n",
        "EarlyStop = EarlyStopping(monitor='val_loss',  \n",
        "                          verbose=1, \n",
        "                          patience=10)\n",
        "\n",
        "\n",
        "ModelCheck = ModelCheckpoint(filepath='/content/drive/MyDrive/Sieci_rozszerzenie/Zlaczone_wiersze/Model_zlaczone_wiersze.h5',\n",
        "                             monitor='val_loss',\n",
        "                             save_best_only=True)\n",
        "\n",
        "history = model.fit(x=x_train, \n",
        "                    y=y_train, \n",
        "                    epochs=100,\n",
        "                    batch_size=128,\n",
        "                    #validation_split=0.1,\n",
        "                    validation_data = (x_valid, y_valid),\n",
        "                    callbacks = [EarlyStop, ModelCheck]\n",
        "                   )"
      ]
    },
    {
      "cell_type": "code",
      "execution_count": 19,
      "id": "3680f8c1",
      "metadata": {
        "colab": {
          "base_uri": "https://localhost:8080/",
          "height": 301
        },
        "id": "3680f8c1",
        "outputId": "f3ca3e37-3f5f-4aaa-918f-1f88a1816636",
        "scrolled": true
      },
      "outputs": [
        {
          "output_type": "execute_result",
          "data": {
            "text/plain": [
              "<matplotlib.legend.Legend at 0x7fcc943b5fd0>"
            ]
          },
          "metadata": {},
          "execution_count": 19
        },
        {
          "output_type": "display_data",
          "data": {
            "text/plain": [
              "<Figure size 432x288 with 1 Axes>"
            ],
            "image/png": "[encoded data removed]"
          },
          "metadata": {
            "needs_background": "light"
          }
        }
      ],
      "source": [
        "plt.plot(history.history['loss'], label='strata')\n",
        "plt.plot(history.history['val_loss'], label = 'strata walidacyjna')\n",
        "plt.xlabel('Epoka')\n",
        "plt.ylabel('Strata')\n",
        "plt.ylim([0.0, 0.5])\n",
        "plt.legend(loc='upper right')"
      ]
    },
    {
      "cell_type": "code",
      "execution_count": 20,
      "id": "fe8633db",
      "metadata": {
        "colab": {
          "base_uri": "https://localhost:8080/",
          "height": 301
        },
        "id": "fe8633db",
        "outputId": "148f8174-345c-4642-a047-580bb01f3530"
      },
      "outputs": [
        {
          "output_type": "execute_result",
          "data": {
            "text/plain": [
              "<matplotlib.legend.Legend at 0x7fcc943eed60>"
            ]
          },
          "metadata": {},
          "execution_count": 20
        },
        {
          "output_type": "display_data",
          "data": {
            "text/plain": [
              "<Figure size 432x288 with 1 Axes>"
            ],
            "image/png": "[encoded data removed]"
          },
          "metadata": {
            "needs_background": "light"
          }
        }
      ],
      "source": [
        "plt.plot(history.history['accuracy'], label='precyzja')\n",
        "plt.plot(history.history['val_accuracy'], label = 'precyzja walidacyjna')\n",
        "plt.xlabel('Epoka')\n",
        "plt.ylabel('Precyzja')\n",
        "plt.ylim([0.5, 1])\n",
        "plt.legend(loc='lower right')"
      ]
    },
    {
      "cell_type": "code",
      "execution_count": 21,
      "id": "194f39e9",
      "metadata": {
        "id": "194f39e9"
      },
      "outputs": [],
      "source": [
        "best_model = tf.keras.models.load_model('/content/drive/MyDrive/Sieci_rozszerzenie/Zlaczone_wiersze/Model_zlaczone_wiersze.h5')"
      ]
    },
    {
      "cell_type": "code",
      "execution_count": 22,
      "id": "ewHB7W_bskUm",
      "metadata": {
        "colab": {
          "base_uri": "https://localhost:8080/"
        },
        "id": "ewHB7W_bskUm",
        "outputId": "9f533dff-8888-41fa-cb5f-e686559c6292"
      },
      "outputs": [
        {
          "output_type": "stream",
          "name": "stdout",
          "text": [
            "79/79 - 2s - loss: 0.1771 - accuracy: 0.7794 - mse: 0.1771 - 2s/epoch - 19ms/step\n"
          ]
        },
        {
          "output_type": "execute_result",
          "data": {
            "text/plain": [
              "[0.17709822507236495, 0.7793650793650794, 0.17709822507236495]"
            ]
          },
          "metadata": {},
          "execution_count": 22
        }
      ],
      "source": [
        "best_model.evaluate(x_test,  y_test, verbose=2)"
      ]
    },
    {
      "cell_type": "code",
      "execution_count": 23,
      "id": "UXFfOAksska6",
      "metadata": {
        "colab": {
          "base_uri": "https://localhost:8080/"
        },
        "id": "UXFfOAksska6",
        "outputId": "cb741bf7-9883-48ee-c2ac-d36231f7e52b"
      },
      "outputs": [
        {
          "output_type": "stream",
          "name": "stdout",
          "text": [
            "79/79 [==============================] - 1s 13ms/step\n"
          ]
        }
      ],
      "source": [
        "predict_x = best_model.predict(x_test) \n",
        "\n",
        "predictions = (predict_x > 0.5).astype(\"int32\")"
      ]
    },
    {
      "cell_type": "code",
      "execution_count": 24,
      "id": "u4OPDhfgskeU",
      "metadata": {
        "colab": {
          "base_uri": "https://localhost:8080/"
        },
        "id": "u4OPDhfgskeU",
        "outputId": "b8d36459-f211-4db7-bbfc-9950608c17f6"
      },
      "outputs": [
        {
          "output_type": "stream",
          "name": "stdout",
          "text": [
            "[['Tn' 'Nn']\n",
            " ['Np' 'Tp']]\n",
            "tf.Tensor(\n",
            "[[ 749  511]\n",
            " [  45 1215]], shape=(2, 2), dtype=int32)\n"
          ]
        }
      ],
      "source": [
        "names = [['Tn','Nn'],['Np', 'Tp']]\n",
        "names = np.reshape(names,(2,2))\n",
        "print(names)\n",
        "\n",
        "conf = tf.math.confusion_matrix(y_test,predictions)\n",
        "\n",
        "print(conf)"
      ]
    },
    {
      "cell_type": "code",
      "source": [
        "#Zapisanie danych statystycznych do plików csv\n",
        "np.array(history.history['accuracy']).tofile(folder+'accuracy.csv', sep = '\\n') \n",
        "np.array(history.history['val_accuracy']).tofile(folder+'val_accuracy.csv', sep = '\\n') \n",
        "np.array(history.history['loss']).tofile(folder+'loss.csv', sep = '\\n') \n",
        "np.array(history.history['val_loss']).tofile(folder+'val_loss.csv', sep = '\\n') \n",
        "\n",
        "predictions.tofile(folder+'predictions.csv', sep = '\\n') \n",
        "predict_x.tofile(folder+'predict_x.csv', sep = '\\n') "
      ],
      "metadata": {
        "id": "oU_pK1pQrj7g"
      },
      "id": "oU_pK1pQrj7g",
      "execution_count": 25,
      "outputs": []
    }
  ],
  "metadata": {
    "accelerator": "GPU",
    "colab": {
      "provenance": [],
      "include_colab_link": true
    },
    "gpuClass": "standard",
    "kernelspec": {
      "display_name": "py39",
      "language": "python",
      "name": "py39"
    },
    "language_info": {
      "codemirror_mode": {
        "name": "ipython",
        "version": 3
      },
      "file_extension": ".py",
      "mimetype": "text/x-python",
      "name": "python",
      "nbconvert_exporter": "python",
      "pygments_lexer": "ipython3",
      "version": "3.9.12"
    }
  },
  "nbformat": 4,
  "nbformat_minor": 5
}