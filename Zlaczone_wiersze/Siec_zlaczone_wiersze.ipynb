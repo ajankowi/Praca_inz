{
  "cells": [
    {
      "cell_type": "markdown",
      "metadata": {
        "id": "view-in-github",
        "colab_type": "text"
      },
      "source": [
        "<a href=\"https://colab.research.google.com/github/ajankowi/Praca_inz/blob/master/Zlaczone_wiersze/Siec_zlaczone_wiersze.ipynb\" target=\"_parent\"><img src=\"https://colab.research.google.com/assets/colab-badge.svg\" alt=\"Open In Colab\"/></a>"
      ]
    },
    {
      "cell_type": "code",
      "execution_count": 1,
      "id": "613f08b5",
      "metadata": {
        "colab": {
          "base_uri": "https://localhost:8080/"
        },
        "id": "613f08b5",
        "outputId": "2ceedc49-657d-4ed4-8f45-8fe87a98da7e"
      },
      "outputs": [
        {
          "output_type": "stream",
          "name": "stdout",
          "text": [
            "3.8.10 (default, Nov 14 2022, 12:59:47) \n",
            "[GCC 9.4.0]\n"
          ]
        }
      ],
      "source": [
        "import sys\n",
        "print(sys.version)"
      ]
    },
    {
      "cell_type": "code",
      "execution_count": 3,
      "id": "0n78XAHmDiUv",
      "metadata": {
        "colab": {
          "base_uri": "https://localhost:8080/"
        },
        "id": "0n78XAHmDiUv",
        "outputId": "8223baa4-73bd-41be-ae07-54cbfba8f97b"
      },
      "outputs": [
        {
          "output_type": "stream",
          "name": "stdout",
          "text": [
            "Mounted at /content/drive\n"
          ]
        }
      ],
      "source": [
        "from google.colab import drive\n",
        "drive.mount(\"/content/drive\", force_remount=True)"
      ]
    },
    {
      "cell_type": "code",
      "execution_count": 4,
      "id": "5eca1117",
      "metadata": {
        "colab": {
          "base_uri": "https://localhost:8080/"
        },
        "id": "5eca1117",
        "outputId": "69ca77fb-5484-4a97-d300-b6008da3b515"
      },
      "outputs": [
        {
          "output_type": "stream",
          "name": "stdout",
          "text": [
            "TensorFlow version: 2.11.0\n"
          ]
        }
      ],
      "source": [
        "import tensorflow as tf\n",
        "from tensorflow import keras\n",
        "from keras import layers, models, regularizers\n",
        "from keras.layers import Flatten, add, Dense, Dropout \n",
        "from keras.callbacks import ModelCheckpoint, EarlyStopping\n",
        "\n",
        "\n",
        "print(\"TensorFlow version:\", tf.__version__)\n",
        "tf.keras.backend.set_floatx('float64')"
      ]
    },
    {
      "cell_type": "code",
      "execution_count": 5,
      "id": "12022d37",
      "metadata": {
        "id": "12022d37"
      },
      "outputs": [],
      "source": [
        "import matplotlib.pyplot as plt\n",
        "import numpy as np\n",
        "import pandas as pd\n",
        "import seaborn as sns\n",
        "from PIL import Image\n",
        "import os\n",
        "import csv\n",
        "import random\n",
        "\n",
        "import cv2\n",
        "import imutils\n",
        "import glob\n",
        "# Make NumPy printouts easier to read.\n",
        "np.set_printoptions(precision=3, suppress=True)"
      ]
    },
    {
      "cell_type": "code",
      "execution_count": 6,
      "id": "1086f893",
      "metadata": {
        "id": "1086f893"
      },
      "outputs": [],
      "source": [
        "#Określenie ścieżek do plików\n",
        "test_csv = 'Test/test.csv'\n",
        "valid_csv = 'Valid/valid.csv'\n",
        "train_csv = 'Train/train.csv'\n",
        "\n",
        "folder = '/content/drive/MyDrive/Sieci_rozszerzenie/Zlaczone_wiersze/'\n",
        "slesh = '/'\n",
        "png = '.png'"
      ]
    },
    {
      "cell_type": "code",
      "execution_count": null,
      "id": "P6mVaPsPDDID",
      "metadata": {
        "id": "P6mVaPsPDDID"
      },
      "outputs": [],
      "source": [
        "!unzip '/content/drive/MyDrive/Sieci_rozszerzenie/Zlaczone_wiersze/Train/Train.zip' -d '/content/train/'\n",
        "!unzip '/content/drive/MyDrive/Sieci_rozszerzenie/Zlaczone_wiersze/Valid/Valid.zip' -d '/content/valid/'\n",
        "!unzip '/content/drive/MyDrive/Sieci_rozszerzenie/Zlaczone_wiersze/Test/Test.zip' -d '/content/test/'"
      ]
    },
    {
      "cell_type": "code",
      "execution_count": 8,
      "id": "723b71fc",
      "metadata": {
        "id": "723b71fc"
      },
      "outputs": [],
      "source": [
        "def release_list(a):\n",
        "    \n",
        "    del a[:]\n",
        "    del a"
      ]
    },
    {
      "cell_type": "code",
      "execution_count": 9,
      "id": "5beb89e7",
      "metadata": {
        "colab": {
          "base_uri": "https://localhost:8080/"
        },
        "id": "5beb89e7",
        "outputId": "5add771c-de8d-4602-f129-d0daf987cd2c"
      },
      "outputs": [
        {
          "output_type": "stream",
          "name": "stdout",
          "text": [
            "20160\n"
          ]
        }
      ],
      "source": [
        "#Wczytanie etykiet do treninegu \n",
        "\n",
        "with open(folder+train_csv,\"r\") as csvfile:\n",
        "    lines = csvfile.readlines()\n",
        "csvfile.close()\n",
        "\n",
        "new = []\n",
        "\n",
        "for i in lines:\n",
        "    new.append(i.split(\" \"))\n",
        "\n",
        "    \n",
        "value_train = []\n",
        "for i in new[0]:\n",
        "    value_train.append(int(i))    \n",
        "    \n",
        "print(len(value_train))"
      ]
    },
    {
      "cell_type": "code",
      "source": [
        "#Wczytanie etykiet do treninegu \n",
        "\n",
        "with open(folder+valid_csv,\"r\") as csvfile:\n",
        "    lines = csvfile.readlines()\n",
        "csvfile.close()\n",
        "\n",
        "new = []\n",
        "\n",
        "for i in lines:\n",
        "    new.append(i.split(\" \"))\n",
        "\n",
        "    \n",
        "value_valid = []\n",
        "for i in new[0]:\n",
        "    value_valid.append(int(i))    \n",
        "    \n",
        "print(len(value_valid))"
      ],
      "metadata": {
        "colab": {
          "base_uri": "https://localhost:8080/"
        },
        "id": "81v7kN-MjQlr",
        "outputId": "1b00c20e-8f20-4951-d5b4-dc9a83b9d40c"
      },
      "id": "81v7kN-MjQlr",
      "execution_count": 10,
      "outputs": [
        {
          "output_type": "stream",
          "name": "stdout",
          "text": [
            "2520\n"
          ]
        }
      ]
    },
    {
      "cell_type": "code",
      "execution_count": 11,
      "id": "b9FTBM2X68V7",
      "metadata": {
        "colab": {
          "base_uri": "https://localhost:8080/"
        },
        "id": "b9FTBM2X68V7",
        "outputId": "d1a33f98-ef85-4e22-b554-e678853c2292"
      },
      "outputs": [
        {
          "output_type": "stream",
          "name": "stdout",
          "text": [
            "2520\n"
          ]
        }
      ],
      "source": [
        "#Wczytanie etykiet do testowania\n",
        "\n",
        "with open(folder+test_csv,\"r\") as csvfile:\n",
        "    lines = csvfile.readlines()\n",
        "csvfile.close()\n",
        "\n",
        "new = []\n",
        "\n",
        "for i in lines:\n",
        "    new.append(i.split(\" \"))\n",
        "\n",
        "    \n",
        "value_test = []\n",
        "for i in new[0]:\n",
        "    value_test.append(int(i))    \n",
        "    \n",
        "print(len(value_test))"
      ]
    },
    {
      "cell_type": "code",
      "execution_count": 12,
      "id": "d9cb09d8",
      "metadata": {
        "colab": {
          "base_uri": "https://localhost:8080/"
        },
        "id": "d9cb09d8",
        "outputId": "0b73d0a5-100a-4679-dd95-89dca106f221"
      },
      "outputs": [
        {
          "output_type": "stream",
          "name": "stdout",
          "text": [
            "20160\n"
          ]
        }
      ],
      "source": [
        "#Wczytanie zdjęć treningowych (80% całego zbioru)\n",
        "images_train = []\n",
        "size = len(value_train)\n",
        "\n",
        "for i in range(size):\n",
        "    im = Image.open('/content/train/'+str(i)+'.png')\n",
        "    arr_im = np.array(im) \n",
        "    arr_im = arr_im / 255.0\n",
        "    images_train.append(arr_im) \n",
        "print(len(images_train))"
      ]
    },
    {
      "cell_type": "code",
      "source": [
        "#Wczytanie zdjęć walidacji (10% całego zbioru)\n",
        "images_valid = []\n",
        "size = len(value_valid)\n",
        "\n",
        "for i in range(size):\n",
        "    im = Image.open('/content/valid/'+str(i)+'.png')\n",
        "    arr_im = np.array(im) \n",
        "    arr_im = arr_im / 255.0\n",
        "    images_valid.append(arr_im) \n",
        "print(len(images_valid))"
      ],
      "metadata": {
        "colab": {
          "base_uri": "https://localhost:8080/"
        },
        "id": "ejTH7UQCjv4_",
        "outputId": "31d3310c-8d99-42be-c5ca-b24226ea80be"
      },
      "id": "ejTH7UQCjv4_",
      "execution_count": 13,
      "outputs": [
        {
          "output_type": "stream",
          "name": "stdout",
          "text": [
            "2520\n"
          ]
        }
      ]
    },
    {
      "cell_type": "code",
      "execution_count": 14,
      "id": "jyIF3G2Q6_eq",
      "metadata": {
        "colab": {
          "base_uri": "https://localhost:8080/"
        },
        "id": "jyIF3G2Q6_eq",
        "outputId": "b59d5aef-7073-4688-e753-9d463575b3fb"
      },
      "outputs": [
        {
          "output_type": "stream",
          "name": "stdout",
          "text": [
            "2520\n"
          ]
        }
      ],
      "source": [
        "#Wczytanie zdjęć testowych (10% całego zbioru)\n",
        "images_test = []\n",
        "size = len(value_test)\n",
        "\n",
        "for i in range(size):\n",
        "    im = Image.open('/content/test/'+str(i)+'.png')\n",
        "    arr_im = np.array(im) \n",
        "    arr_im = arr_im / 255.0\n",
        "    images_test.append(arr_im) \n",
        "print(len(images_test))"
      ]
    },
    {
      "cell_type": "code",
      "execution_count": 15,
      "id": "f7f4dd4b",
      "metadata": {
        "id": "f7f4dd4b"
      },
      "outputs": [],
      "source": [
        "x_train = np.array(images_train)\n",
        "y_train = np.array(value_train)\n",
        "\n",
        "x_valid = np.array(images_valid)\n",
        "y_valid = np.array(value_valid)\n",
        "\n",
        "x_test = np.array(images_test)\n",
        "y_test = np.array(value_test)"
      ]
    },
    {
      "cell_type": "code",
      "execution_count": 16,
      "id": "d3a370cb",
      "metadata": {
        "colab": {
          "base_uri": "https://localhost:8080/",
          "height": 235
        },
        "id": "d3a370cb",
        "outputId": "7110e9bf-a1e5-4263-d584-d7121b6727d8"
      },
      "outputs": [
        {
          "output_type": "stream",
          "name": "stdout",
          "text": [
            "0\n"
          ]
        },
        {
          "output_type": "display_data",
          "data": {
            "text/plain": [
              "<Figure size 432x288 with 1 Axes>"
            ],
            "image/png": "[encoded data removed]"
          },
          "metadata": {
            "needs_background": "light"
          }
        }
      ],
      "source": [
        "a = 19000\n",
        "plt.imshow(x_train[a],cmap = 'gray')\n",
        "print(y_train[a])"
      ]
    },
    {
      "cell_type": "code",
      "execution_count": 17,
      "id": "772c7d7c",
      "metadata": {
        "id": "772c7d7c"
      },
      "outputs": [],
      "source": [
        "model = models.Sequential()\n",
        "model.add(layers.Conv2D(32, (3, 3), activation='relu', input_shape=(64, 128, 1)))\n",
        "model.add(layers.MaxPooling2D((2, 2)))\n",
        "model.add(layers.Conv2D(32, (3, 3), activation='relu'))\n",
        "model.add(layers.MaxPooling2D((2, 2)))\n",
        "\n",
        "model.add(layers.BatchNormalization())\n",
        "\n",
        "model.add(layers.Conv2D(64, (3, 3), activation='relu'))\n",
        "model.add(layers.MaxPooling2D((2, 2)))\n",
        "model.add(layers.Conv2D(64, (3, 3), activation='relu'))\n",
        "model.add(layers.MaxPooling2D((2, 2)))\n",
        "\n",
        "model.add(layers.BatchNormalization())\n",
        "\n",
        "model.add(layers.Flatten())\n",
        "model.add(layers.Dense(64, activation='relu'))\n",
        "model.add(layers.Dense(1, activation='relu'))\n"
      ]
    },
    {
      "cell_type": "code",
      "execution_count": 18,
      "id": "b86f72df",
      "metadata": {
        "colab": {
          "base_uri": "https://localhost:8080/"
        },
        "id": "b86f72df",
        "outputId": "25abb613-f67e-47b6-8436-a61ac2a3f327"
      },
      "outputs": [
        {
          "output_type": "stream",
          "name": "stdout",
          "text": [
            "Model: \"sequential\"\n",
            "_________________________________________________________________\n",
            " Layer (type)                Output Shape              Param #   \n",
            "=================================================================\n",
            " conv2d (Conv2D)             (None, 62, 126, 32)       320       \n",
            "                                                                 \n",
            " max_pooling2d (MaxPooling2D  (None, 31, 63, 32)       0         \n",
            " )                                                               \n",
            "                                                                 \n",
            " conv2d_1 (Conv2D)           (None, 29, 61, 32)        9248      \n",
            "                                                                 \n",
            " max_pooling2d_1 (MaxPooling  (None, 14, 30, 32)       0         \n",
            " 2D)                                                             \n",
            "                                                                 \n",
            " batch_normalization (BatchN  (None, 14, 30, 32)       128       \n",
            " ormalization)                                                   \n",
            "                                                                 \n",
            " conv2d_2 (Conv2D)           (None, 12, 28, 64)        18496     \n",
            "                                                                 \n",
            " max_pooling2d_2 (MaxPooling  (None, 6, 14, 64)        0         \n",
            " 2D)                                                             \n",
            "                                                                 \n",
            " conv2d_3 (Conv2D)           (None, 4, 12, 64)         36928     \n",
            "                                                                 \n",
            " max_pooling2d_3 (MaxPooling  (None, 2, 6, 64)         0         \n",
            " 2D)                                                             \n",
            "                                                                 \n",
            " batch_normalization_1 (Batc  (None, 2, 6, 64)         256       \n",
            " hNormalization)                                                 \n",
            "                                                                 \n",
            " flatten (Flatten)           (None, 768)               0         \n",
            "                                                                 \n",
            " dense (Dense)               (None, 64)                49216     \n",
            "                                                                 \n",
            " dense_1 (Dense)             (None, 1)                 65        \n",
            "                                                                 \n",
            "=================================================================\n",
            "Total params: 114,657\n",
            "Trainable params: 114,465\n",
            "Non-trainable params: 192\n",
            "_________________________________________________________________\n"
          ]
        }
      ],
      "source": [
        "model.summary()"
      ]
    },
    {
      "cell_type": "code",
      "execution_count": 19,
      "id": "9beb77e5",
      "metadata": {
        "colab": {
          "base_uri": "https://localhost:8080/"
        },
        "id": "9beb77e5",
        "outputId": "44a0c128-547e-4400-9d29-bcce78516ab6"
      },
      "outputs": [
        {
          "output_type": "stream",
          "name": "stdout",
          "text": [
            "Epoch 1/100\n",
            "158/158 [==============================] - 40s 145ms/step - loss: 0.1225 - accuracy: 0.8737 - mse: 0.1225 - val_loss: 0.5604 - val_accuracy: 0.5000 - val_mse: 0.5604\n",
            "Epoch 2/100\n",
            "158/158 [==============================] - 23s 143ms/step - loss: 0.0142 - accuracy: 0.9954 - mse: 0.0142 - val_loss: 0.9163 - val_accuracy: 0.5194 - val_mse: 0.9163\n",
            "Epoch 3/100\n",
            "158/158 [==============================] - 22s 142ms/step - loss: 0.0082 - accuracy: 0.9994 - mse: 0.0082 - val_loss: 0.3281 - val_accuracy: 0.5853 - val_mse: 0.3281\n",
            "Epoch 4/100\n",
            "158/158 [==============================] - 22s 142ms/step - loss: 0.0048 - accuracy: 0.9999 - mse: 0.0048 - val_loss: 0.2212 - val_accuracy: 0.6996 - val_mse: 0.2212\n",
            "Epoch 5/100\n",
            "158/158 [==============================] - 23s 143ms/step - loss: 0.0034 - accuracy: 1.0000 - mse: 0.0034 - val_loss: 0.2146 - val_accuracy: 0.7163 - val_mse: 0.2146\n",
            "Epoch 6/100\n",
            "158/158 [==============================] - 23s 146ms/step - loss: 0.0027 - accuracy: 1.0000 - mse: 0.0027 - val_loss: 0.1941 - val_accuracy: 0.7659 - val_mse: 0.1941\n",
            "Epoch 7/100\n",
            "158/158 [==============================] - 23s 144ms/step - loss: 0.0022 - accuracy: 1.0000 - mse: 0.0022 - val_loss: 0.1844 - val_accuracy: 0.7698 - val_mse: 0.1844\n",
            "Epoch 8/100\n",
            "158/158 [==============================] - 23s 145ms/step - loss: 0.0021 - accuracy: 0.9999 - mse: 0.0021 - val_loss: 0.1834 - val_accuracy: 0.7619 - val_mse: 0.1834\n",
            "Epoch 9/100\n",
            "158/158 [==============================] - 23s 148ms/step - loss: 0.0017 - accuracy: 1.0000 - mse: 0.0017 - val_loss: 0.1787 - val_accuracy: 0.7861 - val_mse: 0.1787\n",
            "Epoch 10/100\n",
            "158/158 [==============================] - 23s 148ms/step - loss: 0.0016 - accuracy: 1.0000 - mse: 0.0016 - val_loss: 0.1644 - val_accuracy: 0.7861 - val_mse: 0.1644\n",
            "Epoch 11/100\n",
            "158/158 [==============================] - 23s 146ms/step - loss: 0.0011 - accuracy: 1.0000 - mse: 0.0011 - val_loss: 0.1816 - val_accuracy: 0.7829 - val_mse: 0.1816\n",
            "Epoch 12/100\n",
            "158/158 [==============================] - 23s 144ms/step - loss: 9.0871e-04 - accuracy: 1.0000 - mse: 9.0871e-04 - val_loss: 0.1651 - val_accuracy: 0.7901 - val_mse: 0.1651\n",
            "Epoch 13/100\n",
            "158/158 [==============================] - 23s 148ms/step - loss: 8.2374e-04 - accuracy: 1.0000 - mse: 8.2374e-04 - val_loss: 0.1553 - val_accuracy: 0.8056 - val_mse: 0.1553\n",
            "Epoch 14/100\n",
            "158/158 [==============================] - 24s 151ms/step - loss: 6.3775e-04 - accuracy: 1.0000 - mse: 6.3775e-04 - val_loss: 0.1431 - val_accuracy: 0.8250 - val_mse: 0.1431\n",
            "Epoch 15/100\n",
            "158/158 [==============================] - 23s 146ms/step - loss: 6.6702e-04 - accuracy: 1.0000 - mse: 6.6702e-04 - val_loss: 0.1551 - val_accuracy: 0.8127 - val_mse: 0.1551\n",
            "Epoch 16/100\n",
            "158/158 [==============================] - 23s 143ms/step - loss: 5.5452e-04 - accuracy: 1.0000 - mse: 5.5452e-04 - val_loss: 0.1652 - val_accuracy: 0.8036 - val_mse: 0.1652\n",
            "Epoch 17/100\n",
            "158/158 [==============================] - 23s 146ms/step - loss: 6.5227e-04 - accuracy: 1.0000 - mse: 6.5227e-04 - val_loss: 0.1517 - val_accuracy: 0.8103 - val_mse: 0.1517\n",
            "Epoch 18/100\n",
            "158/158 [==============================] - 23s 144ms/step - loss: 5.9584e-04 - accuracy: 1.0000 - mse: 5.9584e-04 - val_loss: 0.1529 - val_accuracy: 0.8167 - val_mse: 0.1529\n",
            "Epoch 19/100\n",
            "158/158 [==============================] - 23s 146ms/step - loss: 5.3101e-04 - accuracy: 1.0000 - mse: 5.3101e-04 - val_loss: 0.1493 - val_accuracy: 0.8171 - val_mse: 0.1493\n",
            "Epoch 20/100\n",
            "158/158 [==============================] - 23s 146ms/step - loss: 5.7588e-04 - accuracy: 1.0000 - mse: 5.7588e-04 - val_loss: 0.1537 - val_accuracy: 0.8107 - val_mse: 0.1537\n",
            "Epoch 21/100\n",
            "158/158 [==============================] - 23s 143ms/step - loss: 3.2731e-04 - accuracy: 1.0000 - mse: 3.2731e-04 - val_loss: 0.1433 - val_accuracy: 0.8258 - val_mse: 0.1433\n",
            "Epoch 22/100\n",
            "158/158 [==============================] - 23s 149ms/step - loss: 3.2277e-04 - accuracy: 1.0000 - mse: 3.2277e-04 - val_loss: 0.1328 - val_accuracy: 0.8397 - val_mse: 0.1328\n",
            "Epoch 23/100\n",
            "158/158 [==============================] - 23s 146ms/step - loss: 2.6557e-04 - accuracy: 1.0000 - mse: 2.6557e-04 - val_loss: 0.1444 - val_accuracy: 0.8198 - val_mse: 0.1444\n",
            "Epoch 24/100\n",
            "158/158 [==============================] - 23s 143ms/step - loss: 3.0775e-04 - accuracy: 1.0000 - mse: 3.0775e-04 - val_loss: 0.1446 - val_accuracy: 0.8270 - val_mse: 0.1446\n",
            "Epoch 25/100\n",
            "158/158 [==============================] - 23s 145ms/step - loss: 6.5838e-04 - accuracy: 1.0000 - mse: 6.5838e-04 - val_loss: 0.1636 - val_accuracy: 0.7964 - val_mse: 0.1636\n",
            "Epoch 26/100\n",
            "158/158 [==============================] - 23s 143ms/step - loss: 0.0047 - accuracy: 0.9979 - mse: 0.0047 - val_loss: 0.1670 - val_accuracy: 0.8012 - val_mse: 0.1670\n",
            "Epoch 27/100\n",
            "158/158 [==============================] - 24s 150ms/step - loss: 9.3328e-04 - accuracy: 0.9999 - mse: 9.3328e-04 - val_loss: 0.1070 - val_accuracy: 0.8679 - val_mse: 0.1070\n",
            "Epoch 28/100\n",
            "158/158 [==============================] - 23s 145ms/step - loss: 3.0566e-04 - accuracy: 1.0000 - mse: 3.0566e-04 - val_loss: 0.1120 - val_accuracy: 0.8575 - val_mse: 0.1120\n",
            "Epoch 29/100\n",
            "158/158 [==============================] - 23s 143ms/step - loss: 1.8552e-04 - accuracy: 1.0000 - mse: 1.8552e-04 - val_loss: 0.1132 - val_accuracy: 0.8516 - val_mse: 0.1132\n",
            "Epoch 30/100\n",
            "158/158 [==============================] - 23s 143ms/step - loss: 1.8416e-04 - accuracy: 1.0000 - mse: 1.8416e-04 - val_loss: 0.1128 - val_accuracy: 0.8532 - val_mse: 0.1128\n",
            "Epoch 31/100\n",
            "158/158 [==============================] - 23s 143ms/step - loss: 1.5944e-04 - accuracy: 1.0000 - mse: 1.5944e-04 - val_loss: 0.1186 - val_accuracy: 0.8444 - val_mse: 0.1186\n",
            "Epoch 32/100\n",
            "158/158 [==============================] - 23s 148ms/step - loss: 1.6574e-04 - accuracy: 1.0000 - mse: 1.6574e-04 - val_loss: 0.1069 - val_accuracy: 0.8663 - val_mse: 0.1069\n",
            "Epoch 33/100\n",
            "158/158 [==============================] - 23s 146ms/step - loss: 1.0812e-04 - accuracy: 1.0000 - mse: 1.0812e-04 - val_loss: 0.1074 - val_accuracy: 0.8643 - val_mse: 0.1074\n",
            "Epoch 34/100\n",
            "158/158 [==============================] - 23s 144ms/step - loss: 1.4155e-04 - accuracy: 1.0000 - mse: 1.4155e-04 - val_loss: 0.1153 - val_accuracy: 0.8552 - val_mse: 0.1153\n",
            "Epoch 35/100\n",
            "158/158 [==============================] - 23s 145ms/step - loss: 1.4925e-04 - accuracy: 1.0000 - mse: 1.4925e-04 - val_loss: 0.1187 - val_accuracy: 0.8460 - val_mse: 0.1187\n",
            "Epoch 36/100\n",
            "158/158 [==============================] - 23s 146ms/step - loss: 9.8142e-05 - accuracy: 1.0000 - mse: 9.8142e-05 - val_loss: 0.1181 - val_accuracy: 0.8536 - val_mse: 0.1181\n",
            "Epoch 37/100\n",
            "158/158 [==============================] - 23s 143ms/step - loss: 1.0035e-04 - accuracy: 1.0000 - mse: 1.0035e-04 - val_loss: 0.1176 - val_accuracy: 0.8488 - val_mse: 0.1176\n",
            "Epoch 38/100\n",
            "158/158 [==============================] - 23s 145ms/step - loss: 1.9006e-04 - accuracy: 1.0000 - mse: 1.9006e-04 - val_loss: 0.1130 - val_accuracy: 0.8528 - val_mse: 0.1130\n",
            "Epoch 39/100\n",
            "158/158 [==============================] - 23s 143ms/step - loss: 1.9482e-04 - accuracy: 1.0000 - mse: 1.9482e-04 - val_loss: 0.1284 - val_accuracy: 0.8397 - val_mse: 0.1284\n",
            "Epoch 40/100\n",
            "158/158 [==============================] - 23s 143ms/step - loss: 0.0035 - accuracy: 0.9974 - mse: 0.0035 - val_loss: 0.5000 - val_accuracy: 0.5000 - val_mse: 0.5000\n",
            "Epoch 41/100\n",
            "158/158 [==============================] - 23s 145ms/step - loss: 0.0025 - accuracy: 0.9985 - mse: 0.0025 - val_loss: 0.1507 - val_accuracy: 0.8349 - val_mse: 0.1507\n",
            "Epoch 42/100\n",
            "158/158 [==============================] - 23s 146ms/step - loss: 3.4310e-04 - accuracy: 1.0000 - mse: 3.4310e-04 - val_loss: 0.0574 - val_accuracy: 0.9357 - val_mse: 0.0574\n",
            "Epoch 43/100\n",
            "158/158 [==============================] - 23s 147ms/step - loss: 1.3329e-04 - accuracy: 1.0000 - mse: 1.3329e-04 - val_loss: 0.0565 - val_accuracy: 0.9345 - val_mse: 0.0565\n",
            "Epoch 44/100\n",
            "158/158 [==============================] - 23s 145ms/step - loss: 1.1991e-04 - accuracy: 1.0000 - mse: 1.1991e-04 - val_loss: 0.0481 - val_accuracy: 0.9389 - val_mse: 0.0481\n",
            "Epoch 45/100\n",
            "158/158 [==============================] - 23s 143ms/step - loss: 1.0085e-04 - accuracy: 1.0000 - mse: 1.0085e-04 - val_loss: 0.0568 - val_accuracy: 0.9329 - val_mse: 0.0568\n",
            "Epoch 46/100\n",
            "158/158 [==============================] - 23s 145ms/step - loss: 9.1608e-05 - accuracy: 1.0000 - mse: 9.1608e-05 - val_loss: 0.0524 - val_accuracy: 0.9353 - val_mse: 0.0524\n",
            "Epoch 47/100\n",
            "158/158 [==============================] - 23s 145ms/step - loss: 7.3769e-05 - accuracy: 1.0000 - mse: 7.3769e-05 - val_loss: 0.0555 - val_accuracy: 0.9337 - val_mse: 0.0555\n",
            "Epoch 48/100\n",
            "158/158 [==============================] - 23s 145ms/step - loss: 1.0825e-04 - accuracy: 1.0000 - mse: 1.0825e-04 - val_loss: 0.0507 - val_accuracy: 0.9369 - val_mse: 0.0507\n",
            "Epoch 49/100\n",
            "158/158 [==============================] - 23s 143ms/step - loss: 7.2481e-05 - accuracy: 1.0000 - mse: 7.2481e-05 - val_loss: 0.0610 - val_accuracy: 0.9242 - val_mse: 0.0610\n",
            "Epoch 50/100\n",
            "158/158 [==============================] - 23s 145ms/step - loss: 5.8126e-05 - accuracy: 1.0000 - mse: 5.8126e-05 - val_loss: 0.0607 - val_accuracy: 0.9270 - val_mse: 0.0607\n",
            "Epoch 51/100\n",
            "158/158 [==============================] - 23s 143ms/step - loss: 5.6825e-05 - accuracy: 1.0000 - mse: 5.6825e-05 - val_loss: 0.0488 - val_accuracy: 0.9381 - val_mse: 0.0488\n",
            "Epoch 52/100\n",
            "158/158 [==============================] - 23s 145ms/step - loss: 8.6145e-05 - accuracy: 1.0000 - mse: 8.6145e-05 - val_loss: 0.0492 - val_accuracy: 0.9385 - val_mse: 0.0492\n",
            "Epoch 53/100\n",
            "158/158 [==============================] - 23s 143ms/step - loss: 5.3062e-05 - accuracy: 1.0000 - mse: 5.3062e-05 - val_loss: 0.0536 - val_accuracy: 0.9329 - val_mse: 0.0536\n",
            "Epoch 54/100\n",
            "158/158 [==============================] - 23s 145ms/step - loss: 5.4339e-05 - accuracy: 1.0000 - mse: 5.4339e-05 - val_loss: 0.0544 - val_accuracy: 0.9337 - val_mse: 0.0544\n",
            "Epoch 54: early stopping\n"
          ]
        }
      ],
      "source": [
        "model.compile(optimizer='adam',\n",
        "              loss='mse',\n",
        "              metrics=['accuracy','mse'])\n",
        "\n",
        "#Funcka umożliwia zatrzymanie się uczenia \n",
        "#gdy wartość strat przstanie maleć\n",
        "EarlyStop = EarlyStopping(monitor='val_loss',  \n",
        "                          verbose=1, \n",
        "                          patience=10)\n",
        "\n",
        "\n",
        "ModelCheck = ModelCheckpoint(filepath='/content/drive/MyDrive/Sieci_rozszerzenie/Zlaczone_wiersze/Model_zlaczone_wiersze.h5',\n",
        "                             monitor='val_loss',\n",
        "                             save_best_only=True)\n",
        "\n",
        "history = model.fit(x=x_train, \n",
        "                    y=y_train, \n",
        "                    epochs=100,\n",
        "                    batch_size=128,\n",
        "                    #validation_split=0.1,\n",
        "                    validation_data = (x_valid, y_valid),\n",
        "                    callbacks = [EarlyStop, ModelCheck]\n",
        "                   )"
      ]
    },
    {
      "cell_type": "code",
      "execution_count": 20,
      "id": "3680f8c1",
      "metadata": {
        "colab": {
          "base_uri": "https://localhost:8080/",
          "height": 300
        },
        "id": "3680f8c1",
        "outputId": "56b643a8-585e-481f-c604-6dc02e4aa440",
        "scrolled": true
      },
      "outputs": [
        {
          "output_type": "execute_result",
          "data": {
            "text/plain": [
              "<matplotlib.legend.Legend at 0x7f1f43b720d0>"
            ]
          },
          "metadata": {},
          "execution_count": 20
        },
        {
          "output_type": "display_data",
          "data": {
            "text/plain": [
              "<Figure size 432x288 with 1 Axes>"
            ],
            "image/png": "[encoded data removed]"
          },
          "metadata": {
            "needs_background": "light"
          }
        }
      ],
      "source": [
        "plt.plot(history.history['loss'], label='strata')\n",
        "plt.plot(history.history['val_loss'], label = 'strata walidacyjna')\n",
        "plt.xlabel('Epoka')\n",
        "plt.ylabel('Strata')\n",
        "plt.ylim([0.0, 0.5])\n",
        "plt.legend(loc='upper right')"
      ]
    },
    {
      "cell_type": "code",
      "execution_count": 21,
      "id": "fe8633db",
      "metadata": {
        "colab": {
          "base_uri": "https://localhost:8080/",
          "height": 300
        },
        "id": "fe8633db",
        "outputId": "2a65c9ff-bd48-4059-b6fd-46359df39913"
      },
      "outputs": [
        {
          "output_type": "execute_result",
          "data": {
            "text/plain": [
              "<matplotlib.legend.Legend at 0x7f1f44f9cfd0>"
            ]
          },
          "metadata": {},
          "execution_count": 21
        },
        {
          "output_type": "display_data",
          "data": {
            "text/plain": [
              "<Figure size 432x288 with 1 Axes>"
            ],
            "image/png": "[encoded data removed]"
          },
          "metadata": {
            "needs_background": "light"
          }
        }
      ],
      "source": [
        "plt.plot(history.history['accuracy'], label='precyzja')\n",
        "plt.plot(history.history['val_accuracy'], label = 'precyzja walidacyjna')\n",
        "plt.xlabel('Epoka')\n",
        "plt.ylabel('Precyzja')\n",
        "plt.ylim([0.5, 1])\n",
        "plt.legend(loc='lower right')"
      ]
    },
    {
      "cell_type": "code",
      "execution_count": 22,
      "id": "194f39e9",
      "metadata": {
        "id": "194f39e9"
      },
      "outputs": [],
      "source": [
        "best_model = tf.keras.models.load_model('/content/drive/MyDrive/Sieci_rozszerzenie/Zlaczone_wiersze/Model_zlaczone_wiersze.h5')"
      ]
    },
    {
      "cell_type": "code",
      "execution_count": 23,
      "id": "ewHB7W_bskUm",
      "metadata": {
        "colab": {
          "base_uri": "https://localhost:8080/"
        },
        "id": "ewHB7W_bskUm",
        "outputId": "1109f5bd-03ec-4f32-c6ec-a01690cb8494"
      },
      "outputs": [
        {
          "output_type": "stream",
          "name": "stdout",
          "text": [
            "79/79 - 1s - loss: 0.1786 - accuracy: 0.7770 - mse: 0.1786 - 1s/epoch - 19ms/step\n"
          ]
        },
        {
          "output_type": "execute_result",
          "data": {
            "text/plain": [
              "[0.1786031899701725, 0.776984126984127, 0.1786031899701725]"
            ]
          },
          "metadata": {},
          "execution_count": 23
        }
      ],
      "source": [
        "best_model.evaluate(x_test,  y_test, verbose=2)"
      ]
    },
    {
      "cell_type": "code",
      "execution_count": 24,
      "id": "UXFfOAksska6",
      "metadata": {
        "colab": {
          "base_uri": "https://localhost:8080/"
        },
        "id": "UXFfOAksska6",
        "outputId": "80f218c8-7622-4cb9-9fb7-e6ab3893fe8b"
      },
      "outputs": [
        {
          "output_type": "stream",
          "name": "stdout",
          "text": [
            "79/79 [==============================] - 1s 13ms/step\n"
          ]
        }
      ],
      "source": [
        "predict_x = best_model.predict(x_test) \n",
        "\n",
        "predictions = (predict_x > 0.5).astype(\"int32\")"
      ]
    },
    {
      "cell_type": "code",
      "execution_count": 25,
      "id": "u4OPDhfgskeU",
      "metadata": {
        "colab": {
          "base_uri": "https://localhost:8080/"
        },
        "id": "u4OPDhfgskeU",
        "outputId": "14ec306c-6e4f-4c9c-e951-15fca5fd3475"
      },
      "outputs": [
        {
          "output_type": "stream",
          "name": "stdout",
          "text": [
            "[['Tn' 'Nn']\n",
            " ['Np' 'Tp']]\n",
            "tf.Tensor(\n",
            "[[ 720  540]\n",
            " [  22 1238]], shape=(2, 2), dtype=int32)\n"
          ]
        }
      ],
      "source": [
        "names = [['Tn','Nn'],['Np', 'Tp']]\n",
        "names = np.reshape(names,(2,2))\n",
        "print(names)\n",
        "\n",
        "conf = tf.math.confusion_matrix(y_test,predictions)\n",
        "\n",
        "print(conf)"
      ]
    },
    {
      "cell_type": "code",
      "source": [
        "#Zapisanie danych statystycznych do plików csv\n",
        "np.array(history.history['accuracy']).tofile(folder+'accuracy.csv', sep = '\\n') \n",
        "np.array(history.history['val_accuracy']).tofile(folder+'val_accuracy.csv', sep = '\\n') \n",
        "np.array(history.history['loss']).tofile(folder+'loss.csv', sep = '\\n') \n",
        "np.array(history.history['val_loss']).tofile(folder+'val_loss.csv', sep = '\\n') \n",
        "\n",
        "predictions.tofile(folder+'predictions.csv', sep = '\\n') \n",
        "predict_x.tofile(folder+'predict_x.csv', sep = '\\n') "
      ],
      "metadata": {
        "id": "oU_pK1pQrj7g"
      },
      "id": "oU_pK1pQrj7g",
      "execution_count": 26,
      "outputs": []
    }
  ],
  "metadata": {
    "accelerator": "GPU",
    "colab": {
      "provenance": [],
      "include_colab_link": true
    },
    "gpuClass": "standard",
    "kernelspec": {
      "display_name": "py39",
      "language": "python",
      "name": "py39"
    },
    "language_info": {
      "codemirror_mode": {
        "name": "ipython",
        "version": 3
      },
      "file_extension": ".py",
      "mimetype": "text/x-python",
      "name": "python",
      "nbconvert_exporter": "python",
      "pygments_lexer": "ipython3",
      "version": "3.9.12"
    }
  },
  "nbformat": 4,
  "nbformat_minor": 5
}