{
 "cells": [
  {
   "cell_type": "code",
   "execution_count": 1,
   "id": "8781c5e9",
   "metadata": {},
   "outputs": [
    {
     "name": "stdout",
     "output_type": "stream",
     "text": [
      "3.9.12 (main, Jun  1 2022, 11:38:51) \n",
      "[GCC 7.5.0]\n"
     ]
    }
   ],
   "source": [
    "import sys\n",
    "print(sys.version)"
   ]
  },
  {
   "cell_type": "code",
   "execution_count": 2,
   "id": "0d870fb9",
   "metadata": {},
   "outputs": [
    {
     "name": "stdout",
     "output_type": "stream",
     "text": [
      "TensorFlow version: 2.8.2\n"
     ]
    }
   ],
   "source": [
    "import tensorflow as tf\n",
    "from tensorflow import keras\n",
    "from keras import layers, models, regularizers\n",
    "from keras.layers import Flatten, add, Dense, Dropout \n",
    "from keras.callbacks import ModelCheckpoint, EarlyStopping\n",
    "\n",
    "\n",
    "print(\"TensorFlow version:\", tf.__version__)\n",
    "tf.keras.backend.set_floatx('float64')"
   ]
  },
  {
   "cell_type": "code",
   "execution_count": 3,
   "id": "9a784a20",
   "metadata": {},
   "outputs": [],
   "source": [
    "import matplotlib.pyplot as plt\n",
    "import numpy as np\n",
    "import pandas as pd\n",
    "import seaborn as sns\n",
    "from PIL import Image\n",
    "import os\n",
    "import csv\n",
    "import random\n",
    "\n",
    "import cv2\n",
    "import imutils\n",
    "import glob\n",
    "# Make NumPy printouts easier to read.\n",
    "np.set_printoptions(precision=3, suppress=True)"
   ]
  },
  {
   "cell_type": "code",
   "execution_count": null,
   "id": "9b058887",
   "metadata": {},
   "outputs": [],
   "source": []
  },
  {
   "cell_type": "code",
   "execution_count": 4,
   "id": "0847dc99",
   "metadata": {},
   "outputs": [],
   "source": [
    "##############################################################\n",
    "##### Wczytanie zbioru testowego po rozszerzeniu danych  #####\n",
    "##############################################################"
   ]
  },
  {
   "cell_type": "code",
   "execution_count": 8,
   "id": "00869f6b",
   "metadata": {},
   "outputs": [
    {
     "name": "stdout",
     "output_type": "stream",
     "text": [
      "2520\n"
     ]
    }
   ],
   "source": [
    "#Wczytanie etykiet do testowania\n",
    "\n",
    "with open(  '../../../Dane/Baza_zdjec_zlaczone_2/Test_2/test_2.csv'   ,\"r\") as csvfile:\n",
    "    lines = csvfile.readlines()\n",
    "csvfile.close()\n",
    "\n",
    "new = []\n",
    "\n",
    "for i in lines:\n",
    "    new.append(i.split(\" \"))\n",
    "\n",
    "    \n",
    "value_test = []\n",
    "for i in new[0]:\n",
    "    value_test.append(int(i))    \n",
    "    \n",
    "print(len(value_test))"
   ]
  },
  {
   "cell_type": "code",
   "execution_count": 9,
   "id": "28318992",
   "metadata": {},
   "outputs": [
    {
     "name": "stdout",
     "output_type": "stream",
     "text": [
      "2520\n"
     ]
    }
   ],
   "source": [
    "#Wczytanie zdjęć testowych \n",
    "images_test = []\n",
    "size = len(value_test)\n",
    "\n",
    "for i in range(size):\n",
    "    im = Image.open('../../../Dane/Baza_zdjec_zlaczone_2/Test_2/'+str(i)+'.png')\n",
    "    arr_im = np.array(im) \n",
    "    arr_im = arr_im / 255.0\n",
    "    images_test.append(arr_im) \n",
    "print(len(images_test))"
   ]
  },
  {
   "cell_type": "code",
   "execution_count": 10,
   "id": "7ce686fc",
   "metadata": {},
   "outputs": [],
   "source": [
    "x_test = np.array(images_test)\n",
    "y_test = np.array(value_test)"
   ]
  },
  {
   "cell_type": "code",
   "execution_count": 11,
   "id": "8bb42c54",
   "metadata": {},
   "outputs": [
    {
     "name": "stdout",
     "output_type": "stream",
     "text": [
      "1\n"
     ]
    },
    {
     "data": {
      "image/png": "[encoded data removed]",
      "text/plain": [
       "<Figure size 640x480 with 1 Axes>"
      ]
     },
     "metadata": {},
     "output_type": "display_data"
    }
   ],
   "source": [
    "a = 2\n",
    "plt.imshow(x_test[a],cmap = 'gray')\n",
    "print(y_test[a])"
   ]
  },
  {
   "cell_type": "code",
   "execution_count": 13,
   "id": "a85bcd44",
   "metadata": {},
   "outputs": [
    {
     "name": "stderr",
     "output_type": "stream",
     "text": [
      "2023-10-24 21:11:46.168755: I tensorflow/core/platform/cpu_feature_guard.cc:151] This TensorFlow binary is optimized with oneAPI Deep Neural Network Library (oneDNN) to use the following CPU instructions in performance-critical operations:  SSE4.1 SSE4.2 AVX AVX2 FMA\n",
      "To enable them in other operations, rebuild TensorFlow with the appropriate compiler flags.\n",
      "2023-10-24 21:11:46.171260: I tensorflow/core/common_runtime/process_util.cc:146] Creating new thread pool with default inter op setting: 2. Tune using inter_op_parallelism_threads for best performance.\n"
     ]
    }
   ],
   "source": [
    "best_model = tf.keras.models.load_model('Model_zlaczone_wiersze.h5', compile=False) \n",
    "\n",
    "best_model.compile(optimizer='adam',\n",
    "              loss='mse',\n",
    "              metrics=['accuracy','mse'])"
   ]
  },
  {
   "cell_type": "code",
   "execution_count": 14,
   "id": "dac41af4",
   "metadata": {},
   "outputs": [
    {
     "name": "stdout",
     "output_type": "stream",
     "text": [
      "79/79 - 7s - loss: 0.1112 - accuracy: 0.8500 - mse: 0.1112 - 7s/epoch - 89ms/step\n"
     ]
    },
    {
     "data": {
      "text/plain": [
       "[0.11121770086742583, 0.85, 0.11121770224897054]"
      ]
     },
     "execution_count": 14,
     "metadata": {},
     "output_type": "execute_result"
    }
   ],
   "source": [
    "best_model.evaluate(x_test,  y_test, verbose=2)"
   ]
  },
  {
   "cell_type": "code",
   "execution_count": 15,
   "id": "7cb2a8a0",
   "metadata": {},
   "outputs": [],
   "source": [
    "predict_x = best_model.predict(x_test) \n",
    "\n",
    "predictions = (predict_x > 0.5).astype(\"int32\")"
   ]
  },
  {
   "cell_type": "code",
   "execution_count": 16,
   "id": "db293a1a",
   "metadata": {},
   "outputs": [
    {
     "name": "stdout",
     "output_type": "stream",
     "text": [
      "[['Tn' 'Nn']\n",
      " ['Np' 'Tp']]\n",
      "tf.Tensor(\n",
      "[[ 927  333]\n",
      " [  45 1215]], shape=(2, 2), dtype=int32)\n"
     ]
    }
   ],
   "source": [
    "names = [['Tn','Nn'],['Np', 'Tp']]\n",
    "names = np.reshape(names,(2,2))\n",
    "print(names)\n",
    "\n",
    "conf = tf.math.confusion_matrix(y_test,predictions)\n",
    "\n",
    "print(conf)"
   ]
  },
  {
   "cell_type": "code",
   "execution_count": 17,
   "id": "eaafc9f4",
   "metadata": {},
   "outputs": [],
   "source": [
    "predictions.tofile('predictions.csv', sep = '\\n') \n",
    "predict_x.tofile('predict_x.csv', sep = '\\n') \n",
    "y_test.tofile('test_label.csv', sep = '\\n') "
   ]
  },
  {
   "cell_type": "code",
   "execution_count": null,
   "id": "75a1b2dc",
   "metadata": {},
   "outputs": [],
   "source": []
  },
  {
   "cell_type": "code",
   "execution_count": null,
   "id": "c12dfe25",
   "metadata": {},
   "outputs": [],
   "source": []
  },
  {
   "cell_type": "code",
   "execution_count": null,
   "id": "f3190bba",
   "metadata": {},
   "outputs": [],
   "source": []
  },
  {
   "cell_type": "code",
   "execution_count": null,
   "id": "72a2ad3d",
   "metadata": {},
   "outputs": [],
   "source": [
    "#Wczytanie zbioru testowego BEZ rozszerzenia danych"
   ]
  },
  {
   "cell_type": "code",
   "execution_count": 18,
   "id": "bcd40aa1",
   "metadata": {},
   "outputs": [
    {
     "name": "stdout",
     "output_type": "stream",
     "text": [
      "360\n"
     ]
    }
   ],
   "source": [
    "#Wczytanie etykiet do testowania\n",
    "\n",
    "with open(  './Dane_testowe/test_label_clear.csv',\"r\") as csvfile:\n",
    "    lines = csvfile.readlines()\n",
    "csvfile.close()\n",
    "\n",
    "new = []\n",
    "\n",
    "for i in lines:\n",
    "    new.append(i.split(\" \"))\n",
    "\n",
    "    \n",
    "value_test = []\n",
    "for i in new[0]:\n",
    "    value_test.append(int(i))    \n",
    "    \n",
    "print(len(value_test))"
   ]
  },
  {
   "cell_type": "code",
   "execution_count": 19,
   "id": "87b4ba96",
   "metadata": {},
   "outputs": [
    {
     "name": "stdout",
     "output_type": "stream",
     "text": [
      "360\n"
     ]
    }
   ],
   "source": [
    "#Wczytanie zdjęć testowych bez rozszerzenia\n",
    "images_test = []\n",
    "size = len(value_test)\n",
    "\n",
    "for i in range(size):\n",
    "    im = Image.open('./Dane_testowe/'+str(i)+'.png')\n",
    "    arr_im = np.array(im) \n",
    "    arr_im = arr_im / 255.0\n",
    "    images_test.append(arr_im) \n",
    "print(len(images_test))"
   ]
  },
  {
   "cell_type": "code",
   "execution_count": 20,
   "id": "36aced53",
   "metadata": {},
   "outputs": [],
   "source": [
    "x_test_clear = np.array(images_test)\n",
    "y_test_clear = np.array(value_test)"
   ]
  },
  {
   "cell_type": "code",
   "execution_count": 21,
   "id": "0790e001",
   "metadata": {},
   "outputs": [
    {
     "name": "stdout",
     "output_type": "stream",
     "text": [
      "0\n"
     ]
    },
    {
     "data": {
      "image/png": "[encoded data removed]",
      "text/plain": [
       "<Figure size 640x480 with 1 Axes>"
      ]
     },
     "metadata": {},
     "output_type": "display_data"
    }
   ],
   "source": [
    "a = 200\n",
    "plt.imshow(x_test_clear[a],cmap = 'gray')\n",
    "print(y_test_clear[a])"
   ]
  },
  {
   "cell_type": "code",
   "execution_count": 22,
   "id": "4d3c6efa",
   "metadata": {},
   "outputs": [
    {
     "name": "stdout",
     "output_type": "stream",
     "text": [
      "12/12 - 1s - loss: 0.1195 - accuracy: 0.8472 - mse: 0.1195 - 986ms/epoch - 82ms/step\n"
     ]
    },
    {
     "data": {
      "text/plain": [
       "[0.11954195412496725, 0.8472222222222222, 0.11954195364304017]"
      ]
     },
     "execution_count": 22,
     "metadata": {},
     "output_type": "execute_result"
    }
   ],
   "source": [
    "best_model.evaluate(x_test_clear,  y_test_clear, verbose=2)"
   ]
  },
  {
   "cell_type": "code",
   "execution_count": 23,
   "id": "458e4ef9",
   "metadata": {},
   "outputs": [],
   "source": [
    "predict_x_clear = best_model.predict(x_test_clear) \n",
    "\n",
    "predictions_clear = (predict_x_clear > 0.5).astype(\"int32\")"
   ]
  },
  {
   "cell_type": "code",
   "execution_count": 24,
   "id": "c7af2c29",
   "metadata": {},
   "outputs": [
    {
     "name": "stdout",
     "output_type": "stream",
     "text": [
      "[['Tn' 'Nn']\n",
      " ['Np' 'Tp']]\n",
      "tf.Tensor(\n",
      "[[141  39]\n",
      " [ 16 164]], shape=(2, 2), dtype=int32)\n"
     ]
    }
   ],
   "source": [
    "names = [['Tn','Nn'],['Np', 'Tp']]\n",
    "names = np.reshape(names,(2,2))\n",
    "print(names)\n",
    "\n",
    "conf = tf.math.confusion_matrix(y_test_clear,predictions_clear)\n",
    "\n",
    "print(conf)"
   ]
  },
  {
   "cell_type": "code",
   "execution_count": 25,
   "id": "abd21637",
   "metadata": {},
   "outputs": [],
   "source": [
    "predictions_clear.tofile('predictions_clear.csv', sep = '\\n') \n",
    "predict_x_clear.tofile('predict_x_clear.csv', sep = '\\n')"
   ]
  },
  {
   "cell_type": "code",
   "execution_count": null,
   "id": "5b6c5309",
   "metadata": {},
   "outputs": [],
   "source": []
  }
 ],
 "metadata": {
  "kernelspec": {
   "display_name": "py39",
   "language": "python",
   "name": "py39"
  },
  "language_info": {
   "codemirror_mode": {
    "name": "ipython",
    "version": 3
   },
   "file_extension": ".py",
   "mimetype": "text/x-python",
   "name": "python",
   "nbconvert_exporter": "python",
   "pygments_lexer": "ipython3",
   "version": "3.9.12"
  }
 },
 "nbformat": 4,
 "nbformat_minor": 5
}
