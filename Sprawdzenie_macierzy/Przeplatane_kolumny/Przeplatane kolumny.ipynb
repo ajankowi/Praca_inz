{
 "cells": [
  {
   "cell_type": "code",
   "execution_count": 1,
   "id": "7af5316a",
   "metadata": {},
   "outputs": [
    {
     "name": "stdout",
     "output_type": "stream",
     "text": [
      "3.9.12 (main, Jun  1 2022, 11:38:51) \n",
      "[GCC 7.5.0]\n"
     ]
    }
   ],
   "source": [
    "import sys\n",
    "print(sys.version)"
   ]
  },
  {
   "cell_type": "code",
   "execution_count": 2,
   "id": "d021c933",
   "metadata": {},
   "outputs": [
    {
     "name": "stdout",
     "output_type": "stream",
     "text": [
      "TensorFlow version: 2.8.2\n"
     ]
    }
   ],
   "source": [
    "import tensorflow as tf\n",
    "from tensorflow import keras\n",
    "from keras import layers, models, regularizers\n",
    "from keras.layers import Flatten, add, Dense, Dropout \n",
    "from keras.callbacks import ModelCheckpoint, EarlyStopping\n",
    "\n",
    "\n",
    "print(\"TensorFlow version:\", tf.__version__)\n",
    "tf.keras.backend.set_floatx('float64')"
   ]
  },
  {
   "cell_type": "code",
   "execution_count": 3,
   "id": "b8b2907c",
   "metadata": {},
   "outputs": [],
   "source": [
    "import matplotlib.pyplot as plt\n",
    "import numpy as np\n",
    "import pandas as pd\n",
    "import seaborn as sns\n",
    "from PIL import Image\n",
    "import os\n",
    "import csv\n",
    "import random\n",
    "\n",
    "import cv2\n",
    "import imutils\n",
    "import glob\n",
    "# Make NumPy printouts easier to read.\n",
    "np.set_printoptions(precision=3, suppress=True)"
   ]
  },
  {
   "cell_type": "code",
   "execution_count": null,
   "id": "3dda9d27",
   "metadata": {},
   "outputs": [],
   "source": []
  },
  {
   "cell_type": "code",
   "execution_count": null,
   "id": "5cd825af",
   "metadata": {},
   "outputs": [],
   "source": [
    "##############################################################\n",
    "##### Wczytanie zbioru testowego po rozszerzeniu danych  #####\n",
    "##############################################################"
   ]
  },
  {
   "cell_type": "code",
   "execution_count": 8,
   "id": "0dde334e",
   "metadata": {},
   "outputs": [
    {
     "name": "stdout",
     "output_type": "stream",
     "text": [
      "2520\n"
     ]
    }
   ],
   "source": [
    "#Wczytanie etykiet do testowania\n",
    "\n",
    "with open(  '../../../Dane/Przeplatane_kolumny_probki/Test/test.csv'   ,\"r\") as csvfile:\n",
    "    lines = csvfile.readlines()\n",
    "csvfile.close()\n",
    "\n",
    "new = []\n",
    "\n",
    "for i in lines:\n",
    "    new.append(i.split(\" \"))\n",
    "\n",
    "    \n",
    "value_test = []\n",
    "for i in new[0]:\n",
    "    value_test.append(int(i))    \n",
    "    \n",
    "print(len(value_test))"
   ]
  },
  {
   "cell_type": "code",
   "execution_count": 10,
   "id": "4a3f022d",
   "metadata": {},
   "outputs": [
    {
     "name": "stdout",
     "output_type": "stream",
     "text": [
      "2520\n"
     ]
    }
   ],
   "source": [
    "#Wczytanie zdjęć testowych \n",
    "images_test = []\n",
    "size = len(value_test)\n",
    "\n",
    "for i in range(size):\n",
    "    im = Image.open('../../../Dane/Przeplatane_kolumny_probki/Test/'+str(i)+'.png')\n",
    "    arr_im = np.array(im) \n",
    "    arr_im = arr_im / 255.0\n",
    "    images_test.append(arr_im) \n",
    "print(len(images_test))"
   ]
  },
  {
   "cell_type": "code",
   "execution_count": 11,
   "id": "85b6e99b",
   "metadata": {},
   "outputs": [],
   "source": [
    "x_test = np.array(images_test)\n",
    "y_test = np.array(value_test)"
   ]
  },
  {
   "cell_type": "code",
   "execution_count": 12,
   "id": "68652fad",
   "metadata": {},
   "outputs": [
    {
     "name": "stdout",
     "output_type": "stream",
     "text": [
      "1\n"
     ]
    },
    {
     "data": {
      "image/png": "[encoded data removed]",
      "text/plain": [
       "<Figure size 640x480 with 1 Axes>"
      ]
     },
     "metadata": {},
     "output_type": "display_data"
    }
   ],
   "source": [
    "a = 2\n",
    "plt.imshow(x_test[a],cmap = 'gray')\n",
    "print(y_test[a])"
   ]
  },
  {
   "cell_type": "code",
   "execution_count": 14,
   "id": "0d7ffaa8",
   "metadata": {},
   "outputs": [
    {
     "name": "stderr",
     "output_type": "stream",
     "text": [
      "2023-10-24 22:05:04.463161: I tensorflow/core/platform/cpu_feature_guard.cc:151] This TensorFlow binary is optimized with oneAPI Deep Neural Network Library (oneDNN) to use the following CPU instructions in performance-critical operations:  SSE4.1 SSE4.2 AVX AVX2 FMA\n",
      "To enable them in other operations, rebuild TensorFlow with the appropriate compiler flags.\n",
      "2023-10-24 22:05:04.480427: I tensorflow/core/common_runtime/process_util.cc:146] Creating new thread pool with default inter op setting: 2. Tune using inter_op_parallelism_threads for best performance.\n"
     ]
    }
   ],
   "source": [
    "best_model = tf.keras.models.load_model('Model_przeplatane_kolumny.h5', compile=False) \n",
    "\n",
    "best_model.compile(optimizer='adam',\n",
    "              loss='mse',\n",
    "              metrics=['accuracy','mse'])"
   ]
  },
  {
   "cell_type": "code",
   "execution_count": 15,
   "id": "1b086297",
   "metadata": {},
   "outputs": [
    {
     "name": "stdout",
     "output_type": "stream",
     "text": [
      "79/79 - 8s - loss: 0.0808 - accuracy: 0.8802 - mse: 0.0808 - 8s/epoch - 98ms/step\n"
     ]
    },
    {
     "data": {
      "text/plain": [
       "[0.08078201901581553, 0.8801587301587301, 0.08078201920385497]"
      ]
     },
     "execution_count": 15,
     "metadata": {},
     "output_type": "execute_result"
    }
   ],
   "source": [
    "best_model.evaluate(x_test,  y_test, verbose=2)"
   ]
  },
  {
   "cell_type": "code",
   "execution_count": 16,
   "id": "b1372f73",
   "metadata": {},
   "outputs": [],
   "source": [
    "predict_x = best_model.predict(x_test) \n",
    "\n",
    "predictions = (predict_x > 0.5).astype(\"int32\")"
   ]
  },
  {
   "cell_type": "code",
   "execution_count": 17,
   "id": "7879250b",
   "metadata": {},
   "outputs": [
    {
     "name": "stdout",
     "output_type": "stream",
     "text": [
      "[['Tn' 'Nn']\n",
      " ['Np' 'Tp']]\n",
      "tf.Tensor(\n",
      "[[1026  234]\n",
      " [  68 1192]], shape=(2, 2), dtype=int32)\n"
     ]
    }
   ],
   "source": [
    "names = [['Tn','Nn'],['Np', 'Tp']]\n",
    "names = np.reshape(names,(2,2))\n",
    "print(names)\n",
    "\n",
    "conf = tf.math.confusion_matrix(y_test,predictions)\n",
    "\n",
    "print(conf)"
   ]
  },
  {
   "cell_type": "code",
   "execution_count": 18,
   "id": "e2554a2e",
   "metadata": {},
   "outputs": [],
   "source": [
    "predictions.tofile('predictions.csv', sep = '\\n') \n",
    "predict_x.tofile('predict_x.csv', sep = '\\n') \n",
    "y_test.tofile('test_label.csv', sep = '\\n') "
   ]
  },
  {
   "cell_type": "code",
   "execution_count": null,
   "id": "3d5187e5",
   "metadata": {},
   "outputs": [],
   "source": []
  },
  {
   "cell_type": "code",
   "execution_count": null,
   "id": "ae9fd735",
   "metadata": {},
   "outputs": [],
   "source": []
  },
  {
   "cell_type": "code",
   "execution_count": null,
   "id": "a4bd0bff",
   "metadata": {},
   "outputs": [],
   "source": [
    "#Wczytanie zbioru testowego BEZ rozszerzenia danych"
   ]
  },
  {
   "cell_type": "code",
   "execution_count": 19,
   "id": "5d05a685",
   "metadata": {},
   "outputs": [
    {
     "name": "stdout",
     "output_type": "stream",
     "text": [
      "360\n"
     ]
    }
   ],
   "source": [
    "#Wczytanie etykiet do testowania\n",
    "\n",
    "with open(  './Dane_testowe/test_label_clear.csv',\"r\") as csvfile:\n",
    "    lines = csvfile.readlines()\n",
    "csvfile.close()\n",
    "\n",
    "new = []\n",
    "\n",
    "for i in lines:\n",
    "    new.append(i.split(\" \"))\n",
    "\n",
    "    \n",
    "value_test = []\n",
    "for i in new[0]:\n",
    "    value_test.append(int(i))    \n",
    "    \n",
    "print(len(value_test))"
   ]
  },
  {
   "cell_type": "code",
   "execution_count": 20,
   "id": "e9e52a96",
   "metadata": {},
   "outputs": [
    {
     "name": "stdout",
     "output_type": "stream",
     "text": [
      "360\n"
     ]
    }
   ],
   "source": [
    "#Wczytanie zdjęć testowych bez rozszerzenia\n",
    "images_test = []\n",
    "size = len(value_test)\n",
    "\n",
    "for i in range(size):\n",
    "    im = Image.open('./Dane_testowe/'+str(i)+'.png')\n",
    "    arr_im = np.array(im) \n",
    "    arr_im = arr_im / 255.0\n",
    "    images_test.append(arr_im) \n",
    "print(len(images_test))"
   ]
  },
  {
   "cell_type": "code",
   "execution_count": 21,
   "id": "1f584a07",
   "metadata": {},
   "outputs": [],
   "source": [
    "x_test_clear = np.array(images_test)\n",
    "y_test_clear = np.array(value_test)"
   ]
  },
  {
   "cell_type": "code",
   "execution_count": 22,
   "id": "fac37561",
   "metadata": {},
   "outputs": [
    {
     "name": "stdout",
     "output_type": "stream",
     "text": [
      "0\n"
     ]
    },
    {
     "data": {
      "image/png": "[encoded data removed]",
      "text/plain": [
       "<Figure size 640x480 with 1 Axes>"
      ]
     },
     "metadata": {},
     "output_type": "display_data"
    }
   ],
   "source": [
    "a = 200\n",
    "plt.imshow(x_test_clear[a],cmap = 'gray')\n",
    "print(y_test_clear[a])"
   ]
  },
  {
   "cell_type": "code",
   "execution_count": 23,
   "id": "87720543",
   "metadata": {},
   "outputs": [
    {
     "name": "stdout",
     "output_type": "stream",
     "text": [
      "12/12 - 1s - loss: 0.0942 - accuracy: 0.8667 - mse: 0.0942 - 1s/epoch - 87ms/step\n"
     ]
    },
    {
     "data": {
      "text/plain": [
       "[0.0941837415099144, 0.8666666666666667, 0.09418374256763132]"
      ]
     },
     "execution_count": 23,
     "metadata": {},
     "output_type": "execute_result"
    }
   ],
   "source": [
    "best_model.evaluate(x_test_clear,  y_test_clear, verbose=2)"
   ]
  },
  {
   "cell_type": "code",
   "execution_count": 24,
   "id": "09c82537",
   "metadata": {},
   "outputs": [],
   "source": [
    "predict_x_clear = best_model.predict(x_test_clear) \n",
    "\n",
    "predictions_clear = (predict_x_clear > 0.5).astype(\"int32\")"
   ]
  },
  {
   "cell_type": "code",
   "execution_count": 25,
   "id": "95f7cf56",
   "metadata": {},
   "outputs": [
    {
     "name": "stdout",
     "output_type": "stream",
     "text": [
      "[['Tn' 'Nn']\n",
      " ['Np' 'Tp']]\n",
      "tf.Tensor(\n",
      "[[143  37]\n",
      " [ 11 169]], shape=(2, 2), dtype=int32)\n"
     ]
    }
   ],
   "source": [
    "names = [['Tn','Nn'],['Np', 'Tp']]\n",
    "names = np.reshape(names,(2,2))\n",
    "print(names)\n",
    "\n",
    "conf = tf.math.confusion_matrix(y_test_clear,predictions_clear)\n",
    "\n",
    "print(conf)"
   ]
  },
  {
   "cell_type": "code",
   "execution_count": 26,
   "id": "1c68c08b",
   "metadata": {},
   "outputs": [],
   "source": [
    "predictions_clear.tofile('predictions_clear.csv', sep = '\\n') \n",
    "predict_x_clear.tofile('predict_x_clear.csv', sep = '\\n') "
   ]
  },
  {
   "cell_type": "code",
   "execution_count": null,
   "id": "d51f8fb7",
   "metadata": {},
   "outputs": [],
   "source": []
  }
 ],
 "metadata": {
  "kernelspec": {
   "display_name": "py39",
   "language": "python",
   "name": "py39"
  },
  "language_info": {
   "codemirror_mode": {
    "name": "ipython",
    "version": 3
   },
   "file_extension": ".py",
   "mimetype": "text/x-python",
   "name": "python",
   "nbconvert_exporter": "python",
   "pygments_lexer": "ipython3",
   "version": "3.9.12"
  }
 },
 "nbformat": 4,
 "nbformat_minor": 5
}
