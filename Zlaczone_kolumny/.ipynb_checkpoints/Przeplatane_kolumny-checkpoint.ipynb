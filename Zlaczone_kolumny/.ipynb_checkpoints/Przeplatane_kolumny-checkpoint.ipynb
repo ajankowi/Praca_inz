{
 "cells": [
  {
   "cell_type": "code",
   "execution_count": null,
   "id": "c441cb5e",
   "metadata": {},
   "outputs": [],
   "source": [
    "import sys\n",
    "print(sys.version)"
   ]
  },
  {
   "cell_type": "code",
   "execution_count": null,
   "id": "13750211",
   "metadata": {},
   "outputs": [],
   "source": [
    "from google.colab import drive\n",
    "drive.mount(\"/content/drive\", force_remount=True)"
   ]
  },
  {
   "cell_type": "code",
   "execution_count": null,
   "id": "0a951202",
   "metadata": {},
   "outputs": [],
   "source": [
    "import tensorflow as tf\n",
    "from tensorflow import keras\n",
    "from keras import layers, models, regularizers\n",
    "from keras.layers import Flatten, add, Dense, Dropout \n",
    "from keras.callbacks import ModelCheckpoint, EarlyStopping\n",
    "\n",
    "\n",
    "print(\"TensorFlow version:\", tf.__version__)\n",
    "tf.keras.backend.set_floatx('float64')"
   ]
  },
  {
   "cell_type": "code",
   "execution_count": null,
   "id": "6c76f5c6",
   "metadata": {},
   "outputs": [],
   "source": [
    "import matplotlib.pyplot as plt\n",
    "import numpy as np\n",
    "import pandas as pd\n",
    "import seaborn as sns\n",
    "from PIL import Image\n",
    "import os\n",
    "import csv\n",
    "import random\n",
    "\n",
    "import cv2\n",
    "import imutils\n",
    "import glob\n",
    "# Make NumPy printouts easier to read.\n",
    "np.set_printoptions(precision=3, suppress=True)"
   ]
  },
  {
   "cell_type": "code",
   "execution_count": null,
   "id": "2e6a1348",
   "metadata": {},
   "outputs": [],
   "source": [
    "#Określenie ścieżek do plików\n",
    "test_zip = '/content/drive/MyDrive/Sieci/Baza_zdjec_przeplatane_2/Test_2.zip'\n",
    "test_csv = 'test.csv'\n",
    "\n",
    "valid_zip = '/content/drive/MyDrive/Sieci/Baza_zdjec_przeplatane_2/Valid_2.zip'\n",
    "valid_csv = 'valid_2.csv'\n",
    "\n",
    "train_zip = '/content/drive/MyDrive/Sieci/Baza_zdjec_przeplatane_2/Train_2.zip'\n",
    "train_csv = 'train_2.csv'\n",
    "\n",
    "folder = '/content/drive/MyDrive/Sieci/Baza_zdjec_przeplatane_2/'\n",
    "slesh = '/'\n",
    "png = '.png'"
   ]
  },
  {
   "cell_type": "code",
   "execution_count": null,
   "id": "1f41e01a",
   "metadata": {},
   "outputs": [],
   "source": [
    "#!unzip '/content/drive/MyDrive/Sieci/Baza_zdjec_przeplatane_2/Train_2.zip' -d '/content/train_2/'\n",
    "#!unzip '/content/drive/MyDrive/Sieci/Baza_zdjec_przeplatane_2/Valid_2.zip' -d '/content/valid_2/'\n",
    "#!unzip '/content/drive/MyDrive/Sieci/Baza_zdjec_przeplatane_2/Test.zip' -d '/content/test_2/'"
   ]
  },
  {
   "cell_type": "code",
   "execution_count": null,
   "id": "007401a6",
   "metadata": {},
   "outputs": [],
   "source": [
    "#Wczytanie etykiet do treninegu \n",
    "\n",
    "with open(folder+train_csv,\"r\") as csvfile:\n",
    "    lines = csvfile.readlines()\n",
    "csvfile.close()\n",
    "\n",
    "new = []\n",
    "\n",
    "for i in lines:\n",
    "    new.append(i.split(\" \"))\n",
    "\n",
    "    \n",
    "value_train = []\n",
    "for i in new[0]:\n",
    "    value_train.append(int(i))    \n",
    "    \n",
    "print(len(value_train))"
   ]
  },
  {
   "cell_type": "code",
   "execution_count": null,
   "id": "a5709e21",
   "metadata": {},
   "outputs": [],
   "source": [
    "#Wczytanie etykiet do treninegu \n",
    "\n",
    "with open(folder+valid_csv,\"r\") as csvfile:\n",
    "    lines = csvfile.readlines()\n",
    "csvfile.close()\n",
    "\n",
    "new = []\n",
    "\n",
    "for i in lines:\n",
    "    new.append(i.split(\" \"))\n",
    "\n",
    "    \n",
    "value_valid = []\n",
    "for i in new[0]:\n",
    "    value_valid.append(int(i))    \n",
    "    \n",
    "print(len(value_valid))"
   ]
  },
  {
   "cell_type": "code",
   "execution_count": null,
   "id": "4344dee6",
   "metadata": {},
   "outputs": [],
   "source": [
    "#Wczytanie zdjęć treningowych (80% całego zbioru)\n",
    "images_train = []\n",
    "size = len(value_train)\n",
    "\n",
    "for i in range(size):\n",
    "    im = Image.open('/content/train_2/'+str(i)+'.png')\n",
    "    arr_im = np.array(im) \n",
    "    arr_im = arr_im / 255.0\n",
    "    images_train.append(arr_im) \n",
    "print(len(images_train))"
   ]
  },
  {
   "cell_type": "code",
   "execution_count": null,
   "id": "bf8df977",
   "metadata": {},
   "outputs": [],
   "source": [
    "#Wczytanie zdjęć walidacji (10% całego zbioru)\n",
    "images_valid = []\n",
    "size = len(value_valid)\n",
    "\n",
    "for i in range(size):\n",
    "    im = Image.open('/content/valid_2/'+str(i)+'.png')\n",
    "    arr_im = np.array(im) \n",
    "    arr_im = arr_im / 255.0\n",
    "    images_valid.append(arr_im) \n",
    "print(len(images_valid))"
   ]
  },
  {
   "cell_type": "code",
   "execution_count": null,
   "id": "09272ab9",
   "metadata": {},
   "outputs": [],
   "source": [
    "#Wczytanie zdjęć testowych (10% całego zbioru)\n",
    "images_test = []\n",
    "size = len(value_test)\n",
    "\n",
    "for i in range(size):\n",
    "    im = Image.open('/content/test_2/'+str(i)+'.png')\n",
    "    arr_im = np.array(im) \n",
    "    arr_im = arr_im / 255.0\n",
    "    images_test.append(arr_im) \n",
    "print(len(images_test))"
   ]
  },
  {
   "cell_type": "code",
   "execution_count": null,
   "id": "df91cf75",
   "metadata": {},
   "outputs": [],
   "source": [
    "x_train = np.array(images_train)\n",
    "y_train = np.array(value_train)\n",
    "\n",
    "x_valid = np.array(images_valid)\n",
    "y_valid = np.array(value_valid)\n",
    "\n",
    "x_test = np.array(images_test)\n",
    "y_test = np.array(value_test)"
   ]
  },
  {
   "cell_type": "code",
   "execution_count": null,
   "id": "366bd6c8",
   "metadata": {},
   "outputs": [],
   "source": [
    "a = 19000\n",
    "plt.imshow(x_train[a],cmap = 'gray')\n",
    "print(y_train[a])"
   ]
  },
  {
   "cell_type": "code",
   "execution_count": null,
   "id": "b3e50499",
   "metadata": {},
   "outputs": [],
   "source": [
    "model = models.Sequential()\n",
    "model.add(layers.Conv2D(32, (3, 3), activation='relu', input_shape=(128, 64, 1)))\n",
    "model.add(layers.MaxPooling2D((2, 2)))\n",
    "\n",
    "\n",
    "model.add(layers.Conv2D(32, (3, 3), activation='relu'))\n",
    "model.add(layers.MaxPooling2D((2, 2)))\n",
    "\n",
    "model.add(layers.BatchNormalization())\n",
    "\n",
    "model.add(layers.Conv2D(64, (3, 3), activation='relu'))\n",
    "model.add(layers.MaxPooling2D((2, 2)))\n",
    "\n",
    "\n",
    "model.add(layers.Conv2D(64, (3, 3), activation='relu'))\n",
    "model.add(layers.MaxPooling2D((2, 2)))\n",
    "\n",
    "\n",
    "model.add(layers.BatchNormalization())\n",
    "\n",
    "model.add(layers.Flatten())\n",
    "model.add(layers.Dense(64, activation='relu', kernel_regularizer=keras.regularizers.l2(l=0.1)))\n",
    "model.add(layers.Dense(1, activation='relu'))"
   ]
  },
  {
   "cell_type": "code",
   "execution_count": null,
   "id": "e9fd3825",
   "metadata": {},
   "outputs": [],
   "source": [
    "model.summary()"
   ]
  },
  {
   "cell_type": "code",
   "execution_count": null,
   "id": "c303eb2c",
   "metadata": {},
   "outputs": [],
   "source": [
    "model.compile(optimizer='adam',\n",
    "              loss='mse',\n",
    "              metrics=['accuracy','mse'])\n",
    "\n",
    "#Funcka umożliwia zatrzymanie się uczenia \n",
    "#gdy wartość strat przstanie maleć\n",
    "EarlyStop = EarlyStopping(monitor='val_loss',  \n",
    "                          verbose=1, \n",
    "                          patience=5)\n",
    "\n",
    "\n",
    "ModelCheck = ModelCheckpoint(filepath='/content/drive/MyDrive/Sieci/Przeplatane_forefox_2.h5',\n",
    "                             monitor='val_loss',\n",
    "                             save_best_only=True)\n",
    "\n",
    "history = model.fit(x=x_train, \n",
    "                    y=y_train, \n",
    "                    epochs=100,\n",
    "                    batch_size=128,\n",
    "                    #validation_split=0.1,\n",
    "                    validation_data = (x_valid, y_valid),\n",
    "                    callbacks = [EarlyStop, ModelCheck]\n",
    "                   )"
   ]
  },
  {
   "cell_type": "code",
   "execution_count": null,
   "id": "b0d3ed27",
   "metadata": {},
   "outputs": [],
   "source": [
    "plt.plot(history.history['loss'], label='strata')\n",
    "plt.plot(history.history['val_loss'], label = 'strata walidacyjna')\n",
    "plt.xlabel('Epoka')\n",
    "plt.ylabel('Strata')\n",
    "plt.ylim([0.0, 0.5])\n",
    "plt.legend(loc='upper right')"
   ]
  },
  {
   "cell_type": "code",
   "execution_count": null,
   "id": "2b585486",
   "metadata": {},
   "outputs": [],
   "source": [
    "plt.plot(history.history['accuracy'], label='precyzja')\n",
    "plt.plot(history.history['val_accuracy'], label = 'precyzja walidacyjna')\n",
    "plt.xlabel('Epoka')\n",
    "plt.ylabel('Precyzja')\n",
    "plt.ylim([0.5, 1])\n",
    "plt.legend(loc='lower right')"
   ]
  },
  {
   "cell_type": "code",
   "execution_count": null,
   "id": "2eddc3fc",
   "metadata": {},
   "outputs": [],
   "source": [
    "best_model = tf.keras.models.load_model('/content/drive/MyDrive/Sieci/Przeplatane_forefox_2.h5')"
   ]
  },
  {
   "cell_type": "code",
   "execution_count": null,
   "id": "df5330d9",
   "metadata": {},
   "outputs": [],
   "source": [
    "best_model.evaluate(x_test,  y_test, verbose=2)"
   ]
  },
  {
   "cell_type": "code",
   "execution_count": null,
   "id": "dfd893b9",
   "metadata": {},
   "outputs": [],
   "source": [
    "predict_x = best_model.predict(x_test) \n",
    "\n",
    "predictions = (predict_x > 0.5).astype(\"int32\")"
   ]
  },
  {
   "cell_type": "code",
   "execution_count": null,
   "id": "65834d3a",
   "metadata": {},
   "outputs": [],
   "source": [
    "names = [['Tn','Nn'],['Np', 'Tp']]\n",
    "names = np.reshape(names,(2,2))\n",
    "print(names)\n",
    "\n",
    "conf = tf.math.confusion_matrix(y_test,predictions)\n",
    "\n",
    "print(conf)"
   ]
  }
 ],
 "metadata": {
  "kernelspec": {
   "display_name": "py39",
   "language": "python",
   "name": "py39"
  },
  "language_info": {
   "codemirror_mode": {
    "name": "ipython",
    "version": 3
   },
   "file_extension": ".py",
   "mimetype": "text/x-python",
   "name": "python",
   "nbconvert_exporter": "python",
   "pygments_lexer": "ipython3",
   "version": "3.9.12"
  }
 },
 "nbformat": 4,
 "nbformat_minor": 5
}
