{
  "cells": [
    {
      "cell_type": "code",
      "execution_count": 1,
      "id": "c441cb5e",
      "metadata": {
        "colab": {
          "base_uri": "https://localhost:8080/"
        },
        "id": "c441cb5e",
        "outputId": "a85e2f81-ebf4-4323-f4e5-b15961ced017"
      },
      "outputs": [
        {
          "output_type": "stream",
          "name": "stdout",
          "text": [
            "3.8.10 (default, Nov 14 2022, 12:59:47) \n",
            "[GCC 9.4.0]\n"
          ]
        }
      ],
      "source": [
        "import sys\n",
        "print(sys.version)"
      ]
    },
    {
      "cell_type": "code",
      "execution_count": 2,
      "id": "13750211",
      "metadata": {
        "colab": {
          "base_uri": "https://localhost:8080/"
        },
        "id": "13750211",
        "outputId": "6e594ce9-89b8-4285-d22d-381a71987c2f"
      },
      "outputs": [
        {
          "output_type": "stream",
          "name": "stdout",
          "text": [
            "Mounted at /content/drive\n"
          ]
        }
      ],
      "source": [
        "from google.colab import drive\n",
        "drive.mount(\"/content/drive\", force_remount=True)"
      ]
    },
    {
      "cell_type": "code",
      "execution_count": 3,
      "id": "0a951202",
      "metadata": {
        "colab": {
          "base_uri": "https://localhost:8080/"
        },
        "id": "0a951202",
        "outputId": "b75c6fb2-8c74-4eb8-e8ea-610c5034a673"
      },
      "outputs": [
        {
          "output_type": "stream",
          "name": "stdout",
          "text": [
            "TensorFlow version: 2.9.2\n"
          ]
        }
      ],
      "source": [
        "import tensorflow as tf\n",
        "from tensorflow import keras\n",
        "from keras import layers, models, regularizers\n",
        "from keras.layers import Flatten, add, Dense, Dropout \n",
        "from keras.callbacks import ModelCheckpoint, EarlyStopping\n",
        "\n",
        "\n",
        "print(\"TensorFlow version:\", tf.__version__)\n",
        "tf.keras.backend.set_floatx('float64')"
      ]
    },
    {
      "cell_type": "code",
      "execution_count": 4,
      "id": "6c76f5c6",
      "metadata": {
        "id": "6c76f5c6"
      },
      "outputs": [],
      "source": [
        "import matplotlib.pyplot as plt\n",
        "import numpy as np\n",
        "import pandas as pd\n",
        "import seaborn as sns\n",
        "from PIL import Image\n",
        "import os\n",
        "import csv\n",
        "import random\n",
        "\n",
        "import cv2\n",
        "import imutils\n",
        "import glob\n",
        "# Make NumPy printouts easier to read.\n",
        "np.set_printoptions(precision=3, suppress=True)"
      ]
    },
    {
      "cell_type": "code",
      "execution_count": 5,
      "id": "2e6a1348",
      "metadata": {
        "id": "2e6a1348"
      },
      "outputs": [],
      "source": [
        "#Określenie ścieżek do plików\n",
        "folder = '/content/drive/MyDrive/Sieci_rozszerzenie/Zlaczone_kolumny/'\n",
        "test_zip = '/content/drive/MyDrive/Sieci_rozszerzone/Zlaczone_kolumny/Test/Test.zip'\n",
        "test_csv = '/Test/test.csv'\n",
        "\n",
        "valid_zip = '/content/drive/MyDrive/Sieci_rozszerzone/Zlaczone_kolumny/Valid/Valid.zip'\n",
        "valid_csv = '/Valid/valid.csv'\n",
        "\n",
        "train_zip = '/content/drive/MyDrive/Sieci_rozszerzone/Zlaczone_kolumny/Train/Train.zip'\n",
        "train_csv = '/Train/train.csv'\n",
        "\n",
        "slesh = '/'\n",
        "png = '.png'"
      ]
    },
    {
      "cell_type": "code",
      "execution_count": 6,
      "id": "1f41e01a",
      "metadata": {
        "id": "1f41e01a"
      },
      "outputs": [],
      "source": [
        "#!unzip '/content/drive/MyDrive/Sieci_rozszerzenie/Zlaczone_kolumny/Train/Train.zip' -d '/content/train/'\n",
        "#!unzip '/content/drive/MyDrive/Sieci_rozszerzenie/Zlaczone_kolumny/Valid/Valid.zip' -d '/content/valid/'\n",
        "#!unzip '/content/drive/MyDrive/Sieci_rozszerzenie/Zlaczone_kolumny/Test/Test.zip' -d '/content/test/'"
      ]
    },
    {
      "cell_type": "code",
      "execution_count": 7,
      "id": "007401a6",
      "metadata": {
        "colab": {
          "base_uri": "https://localhost:8080/"
        },
        "id": "007401a6",
        "outputId": "8409764f-8a5a-4473-db0e-be052df98692"
      },
      "outputs": [
        {
          "output_type": "stream",
          "name": "stdout",
          "text": [
            "20160\n"
          ]
        }
      ],
      "source": [
        "#Wczytanie etykiet do treninegu \n",
        "\n",
        "with open(folder+train_csv,\"r\") as csvfile:\n",
        "    lines = csvfile.readlines()\n",
        "csvfile.close()\n",
        "\n",
        "new = []\n",
        "\n",
        "for i in lines:\n",
        "    new.append(i.split(\" \"))\n",
        "\n",
        "    \n",
        "value_train = []\n",
        "for i in new[0]:\n",
        "    value_train.append(int(i))    \n",
        "    \n",
        "print(len(value_train))"
      ]
    },
    {
      "cell_type": "code",
      "execution_count": 8,
      "id": "a5709e21",
      "metadata": {
        "colab": {
          "base_uri": "https://localhost:8080/"
        },
        "id": "a5709e21",
        "outputId": "d21a71f1-e76f-4963-e82b-08522532b270"
      },
      "outputs": [
        {
          "output_type": "stream",
          "name": "stdout",
          "text": [
            "2520\n"
          ]
        }
      ],
      "source": [
        "#Wczytanie etykiet do walidacji\n",
        "\n",
        "with open(folder+valid_csv,\"r\") as csvfile:\n",
        "    lines = csvfile.readlines()\n",
        "csvfile.close()\n",
        "\n",
        "new = []\n",
        "\n",
        "for i in lines:\n",
        "    new.append(i.split(\" \"))\n",
        "\n",
        "    \n",
        "value_valid = []\n",
        "for i in new[0]:\n",
        "    value_valid.append(int(i))    \n",
        "    \n",
        "print(len(value_valid))"
      ]
    },
    {
      "cell_type": "code",
      "source": [
        "#Wczytanie etykiet do testowania\n",
        "\n",
        "with open(folder+test_csv,\"r\") as csvfile:\n",
        "    lines = csvfile.readlines()\n",
        "csvfile.close()\n",
        "\n",
        "new = []\n",
        "\n",
        "for i in lines:\n",
        "    new.append(i.split(\" \"))\n",
        "\n",
        "    \n",
        "value_test = []\n",
        "for i in new[0]:\n",
        "    value_test.append(int(i))    \n",
        "    \n",
        "print(len(value_test))"
      ],
      "metadata": {
        "colab": {
          "base_uri": "https://localhost:8080/"
        },
        "id": "Fr6Lm7RwYxWI",
        "outputId": "80d61052-c512-41d6-8345-45a19182f654"
      },
      "id": "Fr6Lm7RwYxWI",
      "execution_count": 9,
      "outputs": [
        {
          "output_type": "stream",
          "name": "stdout",
          "text": [
            "2520\n"
          ]
        }
      ]
    },
    {
      "cell_type": "code",
      "execution_count": 10,
      "id": "4344dee6",
      "metadata": {
        "colab": {
          "base_uri": "https://localhost:8080/"
        },
        "id": "4344dee6",
        "outputId": "c349b94e-f737-4a7c-99bc-4c397b9f65e5"
      },
      "outputs": [
        {
          "output_type": "stream",
          "name": "stdout",
          "text": [
            "20160\n"
          ]
        }
      ],
      "source": [
        "#Wczytanie zdjęć treningowych (80% całego zbioru)\n",
        "images_train = []\n",
        "size = len(value_train)\n",
        "\n",
        "for i in range(size):\n",
        "    im = Image.open('/content/train/'+str(i)+'.png')\n",
        "    arr_im = np.array(im) \n",
        "    arr_im = arr_im / 255.0\n",
        "    images_train.append(arr_im) \n",
        "print(len(images_train))"
      ]
    },
    {
      "cell_type": "code",
      "execution_count": 11,
      "id": "bf8df977",
      "metadata": {
        "colab": {
          "base_uri": "https://localhost:8080/"
        },
        "id": "bf8df977",
        "outputId": "386ec9b1-9101-4119-9671-c4d7c2698e5c"
      },
      "outputs": [
        {
          "output_type": "stream",
          "name": "stdout",
          "text": [
            "2520\n"
          ]
        }
      ],
      "source": [
        "#Wczytanie zdjęć walidacji (10% całego zbioru)\n",
        "images_valid = []\n",
        "size = len(value_valid)\n",
        "\n",
        "for i in range(size):\n",
        "    im = Image.open('/content/valid/'+str(i)+'.png')\n",
        "    arr_im = np.array(im) \n",
        "    arr_im = arr_im / 255.0\n",
        "    images_valid.append(arr_im) \n",
        "print(len(images_valid))"
      ]
    },
    {
      "cell_type": "code",
      "execution_count": 12,
      "id": "09272ab9",
      "metadata": {
        "colab": {
          "base_uri": "https://localhost:8080/"
        },
        "id": "09272ab9",
        "outputId": "7867e758-dc58-4f0a-b2d2-5c80af4dac3d"
      },
      "outputs": [
        {
          "output_type": "stream",
          "name": "stdout",
          "text": [
            "2520\n"
          ]
        }
      ],
      "source": [
        "#Wczytanie zdjęć testowych (10% całego zbioru)\n",
        "images_test = []\n",
        "size = len(value_test)\n",
        "\n",
        "for i in range(size):\n",
        "    im = Image.open('/content/test/'+str(i)+'.png')\n",
        "    arr_im = np.array(im) \n",
        "    arr_im = arr_im / 255.0\n",
        "    images_test.append(arr_im) \n",
        "print(len(images_test))"
      ]
    },
    {
      "cell_type": "code",
      "execution_count": 13,
      "id": "df91cf75",
      "metadata": {
        "id": "df91cf75"
      },
      "outputs": [],
      "source": [
        "x_train = np.array(images_train)\n",
        "y_train = np.array(value_train)\n",
        "\n",
        "x_valid = np.array(images_valid)\n",
        "y_valid = np.array(value_valid)\n",
        "\n",
        "x_test = np.array(images_test)\n",
        "y_test = np.array(value_test)"
      ]
    },
    {
      "cell_type": "code",
      "execution_count": 14,
      "id": "366bd6c8",
      "metadata": {
        "colab": {
          "base_uri": "https://localhost:8080/",
          "height": 285
        },
        "id": "366bd6c8",
        "outputId": "efc53820-988d-44e4-9945-fa98c13cbcea"
      },
      "outputs": [
        {
          "output_type": "stream",
          "name": "stdout",
          "text": [
            "0\n"
          ]
        },
        {
          "output_type": "display_data",
          "data": {
            "text/plain": [
              "<Figure size 432x288 with 1 Axes>"
            ],
            "image/png": "[encoded data removed]"
          },
          "metadata": {
            "needs_background": "light"
          }
        }
      ],
      "source": [
        "a = 19000\n",
        "plt.imshow(x_train[a],cmap = 'gray')\n",
        "print(y_train[a])"
      ]
    },
    {
      "cell_type": "code",
      "execution_count": 15,
      "id": "b3e50499",
      "metadata": {
        "id": "b3e50499"
      },
      "outputs": [],
      "source": [
        "model = models.Sequential()\n",
        "model.add(layers.Conv2D(32, (3, 3), activation='relu', input_shape=(128, 64, 1)))\n",
        "model.add(layers.MaxPooling2D((2, 2)))\n",
        "\n",
        "\n",
        "model.add(layers.Conv2D(32, (3, 3), activation='relu'))\n",
        "model.add(layers.MaxPooling2D((2, 2)))\n",
        "\n",
        "model.add(layers.BatchNormalization())\n",
        "\n",
        "model.add(layers.Conv2D(64, (3, 3), activation='relu'))\n",
        "model.add(layers.MaxPooling2D((2, 2)))\n",
        "\n",
        "\n",
        "model.add(layers.Conv2D(64, (3, 3), activation='relu'))\n",
        "model.add(layers.MaxPooling2D((2, 2)))\n",
        "\n",
        "\n",
        "model.add(layers.BatchNormalization())\n",
        "\n",
        "model.add(layers.Flatten())\n",
        "model.add(layers.Dense(64, activation='relu'))\n",
        "model.add(layers.Dense(1, activation='relu'))"
      ]
    },
    {
      "cell_type": "code",
      "execution_count": 16,
      "id": "e9fd3825",
      "metadata": {
        "colab": {
          "base_uri": "https://localhost:8080/"
        },
        "id": "e9fd3825",
        "outputId": "ed474d8e-116a-4386-8ce5-686fd4947b33"
      },
      "outputs": [
        {
          "output_type": "stream",
          "name": "stdout",
          "text": [
            "Model: \"sequential\"\n",
            "_________________________________________________________________\n",
            " Layer (type)                Output Shape              Param #   \n",
            "=================================================================\n",
            " conv2d (Conv2D)             (None, 126, 62, 32)       320       \n",
            "                                                                 \n",
            " max_pooling2d (MaxPooling2D  (None, 63, 31, 32)       0         \n",
            " )                                                               \n",
            "                                                                 \n",
            " conv2d_1 (Conv2D)           (None, 61, 29, 32)        9248      \n",
            "                                                                 \n",
            " max_pooling2d_1 (MaxPooling  (None, 30, 14, 32)       0         \n",
            " 2D)                                                             \n",
            "                                                                 \n",
            " batch_normalization (BatchN  (None, 30, 14, 32)       128       \n",
            " ormalization)                                                   \n",
            "                                                                 \n",
            " conv2d_2 (Conv2D)           (None, 28, 12, 64)        18496     \n",
            "                                                                 \n",
            " max_pooling2d_2 (MaxPooling  (None, 14, 6, 64)        0         \n",
            " 2D)                                                             \n",
            "                                                                 \n",
            " conv2d_3 (Conv2D)           (None, 12, 4, 64)         36928     \n",
            "                                                                 \n",
            " max_pooling2d_3 (MaxPooling  (None, 6, 2, 64)         0         \n",
            " 2D)                                                             \n",
            "                                                                 \n",
            " batch_normalization_1 (Batc  (None, 6, 2, 64)         256       \n",
            " hNormalization)                                                 \n",
            "                                                                 \n",
            " flatten (Flatten)           (None, 768)               0         \n",
            "                                                                 \n",
            " dense (Dense)               (None, 64)                49216     \n",
            "                                                                 \n",
            " dense_1 (Dense)             (None, 1)                 65        \n",
            "                                                                 \n",
            "=================================================================\n",
            "Total params: 114,657\n",
            "Trainable params: 114,465\n",
            "Non-trainable params: 192\n",
            "_________________________________________________________________\n"
          ]
        }
      ],
      "source": [
        "model.summary()"
      ]
    },
    {
      "cell_type": "code",
      "execution_count": 17,
      "id": "c303eb2c",
      "metadata": {
        "colab": {
          "base_uri": "https://localhost:8080/"
        },
        "id": "c303eb2c",
        "outputId": "2a9aad17-bd4b-4475-fd82-7da17e5553b7"
      },
      "outputs": [
        {
          "output_type": "stream",
          "name": "stdout",
          "text": [
            "Epoch 1/100\n",
            "158/158 [==============================] - 29s 163ms/step - loss: 0.3266 - accuracy: 0.6830 - mse: 0.3266 - val_loss: 0.9557 - val_accuracy: 0.5000 - val_mse: 0.9557\n",
            "Epoch 2/100\n",
            "158/158 [==============================] - 23s 145ms/step - loss: 0.0181 - accuracy: 0.9897 - mse: 0.0181 - val_loss: 1.8983 - val_accuracy: 0.5000 - val_mse: 1.8983\n",
            "Epoch 3/100\n",
            "158/158 [==============================] - 22s 142ms/step - loss: 0.0069 - accuracy: 0.9986 - mse: 0.0069 - val_loss: 1.0286 - val_accuracy: 0.4996 - val_mse: 1.0286\n",
            "Epoch 4/100\n",
            "158/158 [==============================] - 24s 152ms/step - loss: 0.0038 - accuracy: 0.9995 - mse: 0.0038 - val_loss: 0.3061 - val_accuracy: 0.6179 - val_mse: 0.3061\n",
            "Epoch 5/100\n",
            "158/158 [==============================] - 24s 151ms/step - loss: 0.0029 - accuracy: 0.9998 - mse: 0.0029 - val_loss: 0.2283 - val_accuracy: 0.7060 - val_mse: 0.2283\n",
            "Epoch 6/100\n",
            "158/158 [==============================] - 23s 143ms/step - loss: 0.0020 - accuracy: 1.0000 - mse: 0.0020 - val_loss: 0.2680 - val_accuracy: 0.6988 - val_mse: 0.2680\n",
            "Epoch 7/100\n",
            "158/158 [==============================] - 23s 143ms/step - loss: 0.0015 - accuracy: 1.0000 - mse: 0.0015 - val_loss: 0.2355 - val_accuracy: 0.7190 - val_mse: 0.2355\n",
            "Epoch 8/100\n",
            "158/158 [==============================] - 23s 144ms/step - loss: 0.0015 - accuracy: 1.0000 - mse: 0.0015 - val_loss: 0.2286 - val_accuracy: 0.7262 - val_mse: 0.2286\n",
            "Epoch 9/100\n",
            "158/158 [==============================] - 24s 151ms/step - loss: 0.0012 - accuracy: 1.0000 - mse: 0.0012 - val_loss: 0.2266 - val_accuracy: 0.7290 - val_mse: 0.2266\n",
            "Epoch 10/100\n",
            "158/158 [==============================] - 24s 151ms/step - loss: 0.0011 - accuracy: 1.0000 - mse: 0.0011 - val_loss: 0.2018 - val_accuracy: 0.7575 - val_mse: 0.2018\n",
            "Epoch 11/100\n",
            "158/158 [==============================] - 23s 143ms/step - loss: 9.8937e-04 - accuracy: 1.0000 - mse: 9.8937e-04 - val_loss: 0.2318 - val_accuracy: 0.7187 - val_mse: 0.2318\n",
            "Epoch 12/100\n",
            "158/158 [==============================] - 23s 146ms/step - loss: 9.5154e-04 - accuracy: 1.0000 - mse: 9.5154e-04 - val_loss: 0.2095 - val_accuracy: 0.7290 - val_mse: 0.2095\n",
            "Epoch 13/100\n",
            "158/158 [==============================] - 23s 143ms/step - loss: 6.3365e-04 - accuracy: 1.0000 - mse: 6.3365e-04 - val_loss: 0.2027 - val_accuracy: 0.7210 - val_mse: 0.2027\n",
            "Epoch 14/100\n",
            "158/158 [==============================] - 24s 151ms/step - loss: 6.5588e-04 - accuracy: 1.0000 - mse: 6.5588e-04 - val_loss: 0.2001 - val_accuracy: 0.7337 - val_mse: 0.2001\n",
            "Epoch 15/100\n",
            "158/158 [==============================] - 24s 152ms/step - loss: 6.5704e-04 - accuracy: 1.0000 - mse: 6.5704e-04 - val_loss: 0.1900 - val_accuracy: 0.7460 - val_mse: 0.1900\n",
            "Epoch 16/100\n",
            "158/158 [==============================] - 23s 144ms/step - loss: 5.6299e-04 - accuracy: 1.0000 - mse: 5.6299e-04 - val_loss: 0.1927 - val_accuracy: 0.7425 - val_mse: 0.1927\n",
            "Epoch 17/100\n",
            "158/158 [==============================] - 23s 144ms/step - loss: 6.3523e-04 - accuracy: 1.0000 - mse: 6.3523e-04 - val_loss: 0.1999 - val_accuracy: 0.7325 - val_mse: 0.1999\n",
            "Epoch 18/100\n",
            "158/158 [==============================] - 24s 150ms/step - loss: 6.4083e-04 - accuracy: 1.0000 - mse: 6.4083e-04 - val_loss: 0.1745 - val_accuracy: 0.7714 - val_mse: 0.1745\n",
            "Epoch 19/100\n",
            "158/158 [==============================] - 23s 144ms/step - loss: 5.9399e-04 - accuracy: 1.0000 - mse: 5.9399e-04 - val_loss: 0.2046 - val_accuracy: 0.7302 - val_mse: 0.2046\n",
            "Epoch 20/100\n",
            "158/158 [==============================] - 23s 145ms/step - loss: 5.9455e-04 - accuracy: 1.0000 - mse: 5.9455e-04 - val_loss: 0.1880 - val_accuracy: 0.7500 - val_mse: 0.1880\n",
            "Epoch 21/100\n",
            "158/158 [==============================] - 23s 144ms/step - loss: 5.6869e-04 - accuracy: 1.0000 - mse: 5.6869e-04 - val_loss: 0.2106 - val_accuracy: 0.7234 - val_mse: 0.2106\n",
            "Epoch 22/100\n",
            "158/158 [==============================] - 23s 144ms/step - loss: 4.8472e-04 - accuracy: 1.0000 - mse: 4.8472e-04 - val_loss: 0.1769 - val_accuracy: 0.7726 - val_mse: 0.1769\n",
            "Epoch 23/100\n",
            "158/158 [==============================] - 23s 143ms/step - loss: 2.7650e-04 - accuracy: 1.0000 - mse: 2.7650e-04 - val_loss: 0.1834 - val_accuracy: 0.7647 - val_mse: 0.1834\n",
            "Epoch 23: early stopping\n"
          ]
        }
      ],
      "source": [
        "model.compile(optimizer='adam',\n",
        "              loss='mse',\n",
        "              metrics=['accuracy','mse'])\n",
        "\n",
        "#Funcka umożliwia zatrzymanie się uczenia \n",
        "#gdy wartość strat przstanie maleć\n",
        "EarlyStop = EarlyStopping(monitor='val_loss',  \n",
        "                          verbose=1, \n",
        "                          patience=5)\n",
        "\n",
        "\n",
        "ModelCheck = ModelCheckpoint(filepath='/content/drive/MyDrive/Sieci_rozszerzenie/Zlaczone_kolumny/Model_sieci.h5',\n",
        "                             monitor='val_loss',\n",
        "                             save_best_only=True)\n",
        "\n",
        "history = model.fit(x=x_train, \n",
        "                    y=y_train, \n",
        "                    epochs=100,\n",
        "                    batch_size=128,\n",
        "                    validation_data = (x_valid, y_valid),\n",
        "                    callbacks = [EarlyStop, ModelCheck]\n",
        "                   )"
      ]
    },
    {
      "cell_type": "code",
      "execution_count": 18,
      "id": "b0d3ed27",
      "metadata": {
        "colab": {
          "base_uri": "https://localhost:8080/",
          "height": 300
        },
        "id": "b0d3ed27",
        "outputId": "9cf445b2-d97e-446a-cb5c-4711c668f29b"
      },
      "outputs": [
        {
          "output_type": "execute_result",
          "data": {
            "text/plain": [
              "<matplotlib.legend.Legend at 0x7ff69833a6d0>"
            ]
          },
          "metadata": {},
          "execution_count": 18
        },
        {
          "output_type": "display_data",
          "data": {
            "text/plain": [
              "<Figure size 432x288 with 1 Axes>"
            ],
            "image/png": "[encoded data removed]"
          },
          "metadata": {
            "needs_background": "light"
          }
        }
      ],
      "source": [
        "plt.plot(history.history['loss'], label='strata')\n",
        "plt.plot(history.history['val_loss'], label = 'strata walidacyjna')\n",
        "plt.xlabel('Epoka')\n",
        "plt.ylabel('Strata')\n",
        "plt.ylim([0.0, 0.5])\n",
        "plt.legend(loc='upper right')"
      ]
    },
    {
      "cell_type": "code",
      "execution_count": 19,
      "id": "2b585486",
      "metadata": {
        "colab": {
          "base_uri": "https://localhost:8080/",
          "height": 300
        },
        "id": "2b585486",
        "outputId": "8640a1c7-88b3-4b4b-ff71-b8811c478130"
      },
      "outputs": [
        {
          "output_type": "execute_result",
          "data": {
            "text/plain": [
              "<matplotlib.legend.Legend at 0x7ff698f722b0>"
            ]
          },
          "metadata": {},
          "execution_count": 19
        },
        {
          "output_type": "display_data",
          "data": {
            "text/plain": [
              "<Figure size 432x288 with 1 Axes>"
            ],
            "image/png": "[encoded data removed]"
          },
          "metadata": {
            "needs_background": "light"
          }
        }
      ],
      "source": [
        "plt.plot(history.history['accuracy'], label='precyzja')\n",
        "plt.plot(history.history['val_accuracy'], label = 'precyzja walidacyjna')\n",
        "plt.xlabel('Epoka')\n",
        "plt.ylabel('Precyzja')\n",
        "plt.ylim([0.5, 1])\n",
        "plt.legend(loc='lower right')"
      ]
    },
    {
      "cell_type": "code",
      "execution_count": 20,
      "id": "2eddc3fc",
      "metadata": {
        "id": "2eddc3fc"
      },
      "outputs": [],
      "source": [
        "best_model = tf.keras.models.load_model('/content/drive/MyDrive/Sieci/Przeplatane_forefox_2.h5')"
      ]
    },
    {
      "cell_type": "code",
      "execution_count": 21,
      "id": "df5330d9",
      "metadata": {
        "colab": {
          "base_uri": "https://localhost:8080/"
        },
        "id": "df5330d9",
        "outputId": "12e73567-0cd0-46a3-f429-11b4cb288d98"
      },
      "outputs": [
        {
          "output_type": "stream",
          "name": "stdout",
          "text": [
            "79/79 - 2s - loss: 0.3503 - accuracy: 0.4996 - mse: 0.3451 - 2s/epoch - 20ms/step\n"
          ]
        },
        {
          "output_type": "execute_result",
          "data": {
            "text/plain": [
              "[0.3502980255599068, 0.4996031746031746, 0.3450832715648871]"
            ]
          },
          "metadata": {},
          "execution_count": 21
        }
      ],
      "source": [
        "best_model.evaluate(x_test,  y_test, verbose=2)"
      ]
    },
    {
      "cell_type": "code",
      "execution_count": 22,
      "id": "dfd893b9",
      "metadata": {
        "colab": {
          "base_uri": "https://localhost:8080/"
        },
        "id": "dfd893b9",
        "outputId": "7588c250-b662-44bc-f62c-223fcd8fcb5e"
      },
      "outputs": [
        {
          "output_type": "stream",
          "name": "stdout",
          "text": [
            "79/79 [==============================] - 1s 13ms/step\n"
          ]
        }
      ],
      "source": [
        "predict_x = best_model.predict(x_test) \n",
        "\n",
        "predictions = (predict_x > 0.5).astype(\"int32\")"
      ]
    },
    {
      "cell_type": "code",
      "execution_count": 23,
      "id": "65834d3a",
      "metadata": {
        "colab": {
          "base_uri": "https://localhost:8080/"
        },
        "id": "65834d3a",
        "outputId": "bfe7482d-f84d-4028-f9c3-10cfbc2b1c0c"
      },
      "outputs": [
        {
          "output_type": "stream",
          "name": "stdout",
          "text": [
            "[['Tn' 'Nn']\n",
            " ['Np' 'Tp']]\n",
            "tf.Tensor(\n",
            "[[   2 1258]\n",
            " [   3 1257]], shape=(2, 2), dtype=int32)\n"
          ]
        }
      ],
      "source": [
        "names = [['Tn','Nn'],['Np', 'Tp']]\n",
        "names = np.reshape(names,(2,2))\n",
        "print(names)\n",
        "\n",
        "conf = tf.math.confusion_matrix(y_test,predictions)\n",
        "\n",
        "print(conf)"
      ]
    }
  ],
  "metadata": {
    "kernelspec": {
      "display_name": "py39",
      "language": "python",
      "name": "py39"
    },
    "language_info": {
      "codemirror_mode": {
        "name": "ipython",
        "version": 3
      },
      "file_extension": ".py",
      "mimetype": "text/x-python",
      "name": "python",
      "nbconvert_exporter": "python",
      "pygments_lexer": "ipython3",
      "version": "3.9.12"
    },
    "colab": {
      "provenance": []
    },
    "accelerator": "GPU",
    "gpuClass": "standard"
  },
  "nbformat": 4,
  "nbformat_minor": 5
}