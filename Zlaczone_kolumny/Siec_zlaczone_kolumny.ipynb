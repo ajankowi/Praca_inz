{
  "cells": [
    {
      "cell_type": "markdown",
      "metadata": {
        "id": "view-in-github",
        "colab_type": "text"
      },
      "source": [
        "<a href=\"https://colab.research.google.com/github/ajankowi/Praca_inz/blob/master/Zlaczone_kolumny/Siec_zlaczone_kolumny.ipynb\" target=\"_parent\"><img src=\"https://colab.research.google.com/assets/colab-badge.svg\" alt=\"Open In Colab\"/></a>"
      ]
    },
    {
      "cell_type": "code",
      "execution_count": 1,
      "id": "613f08b5",
      "metadata": {
        "colab": {
          "base_uri": "https://localhost:8080/"
        },
        "id": "613f08b5",
        "outputId": "05b634d3-41fb-4e32-eb14-487ce889a2ec"
      },
      "outputs": [
        {
          "output_type": "stream",
          "name": "stdout",
          "text": [
            "3.8.10 (default, Nov 14 2022, 12:59:47) \n",
            "[GCC 9.4.0]\n"
          ]
        }
      ],
      "source": [
        "import sys\n",
        "print(sys.version)"
      ]
    },
    {
      "cell_type": "code",
      "execution_count": 2,
      "id": "0n78XAHmDiUv",
      "metadata": {
        "colab": {
          "base_uri": "https://localhost:8080/"
        },
        "id": "0n78XAHmDiUv",
        "outputId": "ecce3dfd-f124-4b6c-e13c-704c8a22fbd1"
      },
      "outputs": [
        {
          "output_type": "stream",
          "name": "stdout",
          "text": [
            "Mounted at /content/drive\n"
          ]
        }
      ],
      "source": [
        "from google.colab import drive\n",
        "drive.mount(\"/content/drive\", force_remount=True)"
      ]
    },
    {
      "cell_type": "code",
      "execution_count": 3,
      "id": "5eca1117",
      "metadata": {
        "colab": {
          "base_uri": "https://localhost:8080/"
        },
        "id": "5eca1117",
        "outputId": "d5134c24-e87e-4e47-a86e-3d0e2671d821"
      },
      "outputs": [
        {
          "output_type": "stream",
          "name": "stdout",
          "text": [
            "TensorFlow version: 2.11.0\n"
          ]
        }
      ],
      "source": [
        "import tensorflow as tf\n",
        "from tensorflow import keras\n",
        "from keras import layers, models, regularizers\n",
        "from keras.layers import Flatten, add, Dense, Dropout \n",
        "from keras.callbacks import ModelCheckpoint, EarlyStopping\n",
        "\n",
        "\n",
        "print(\"TensorFlow version:\", tf.__version__)\n",
        "tf.keras.backend.set_floatx('float64')"
      ]
    },
    {
      "cell_type": "code",
      "execution_count": 4,
      "id": "12022d37",
      "metadata": {
        "id": "12022d37"
      },
      "outputs": [],
      "source": [
        "import matplotlib.pyplot as plt\n",
        "import numpy as np\n",
        "import pandas as pd\n",
        "import seaborn as sns\n",
        "from PIL import Image\n",
        "import os\n",
        "import csv\n",
        "import random\n",
        "\n",
        "import cv2\n",
        "import imutils\n",
        "import glob\n",
        "# Make NumPy printouts easier to read.\n",
        "np.set_printoptions(precision=3, suppress=True)"
      ]
    },
    {
      "cell_type": "code",
      "execution_count": 5,
      "id": "1086f893",
      "metadata": {
        "id": "1086f893"
      },
      "outputs": [],
      "source": [
        "#Określenie ścieżek do plików\n",
        "test_csv = 'Test/test.csv'\n",
        "valid_csv = 'Valid/valid.csv'\n",
        "train_csv = 'Train/train.csv'\n",
        "\n",
        "folder = '/content/drive/MyDrive/Sieci_rozszerzenie/Zlaczone_kolumny/'\n",
        "slesh = '/'\n",
        "png = '.png'"
      ]
    },
    {
      "cell_type": "code",
      "execution_count": 6,
      "id": "P6mVaPsPDDID",
      "metadata": {
        "id": "P6mVaPsPDDID"
      },
      "outputs": [],
      "source": [
        "#!unzip '/content/drive/MyDrive/Sieci_rozszerzenie/Zlaczone_kolumny/Train/Train.zip' -d '/content/train/'\n",
        "#!unzip '/content/drive/MyDrive/Sieci_rozszerzenie/Zlaczone_kolumny/Valid/Valid.zip' -d '/content/valid/'\n",
        "#!unzip '/content/drive/MyDrive/Sieci_rozszerzenie/Zlaczone_kolumny/Test/Test.zip' -d '/content/test/'"
      ]
    },
    {
      "cell_type": "code",
      "execution_count": 7,
      "id": "723b71fc",
      "metadata": {
        "id": "723b71fc"
      },
      "outputs": [],
      "source": [
        "def release_list(a):\n",
        "    \n",
        "    del a[:]\n",
        "    del a"
      ]
    },
    {
      "cell_type": "code",
      "execution_count": 8,
      "id": "5beb89e7",
      "metadata": {
        "colab": {
          "base_uri": "https://localhost:8080/"
        },
        "id": "5beb89e7",
        "outputId": "857e8f0b-2a53-4d1b-e282-fc5caafa8a07"
      },
      "outputs": [
        {
          "output_type": "stream",
          "name": "stdout",
          "text": [
            "20160\n"
          ]
        }
      ],
      "source": [
        "#Wczytanie etykiet do treninegu \n",
        "\n",
        "with open(folder+train_csv,\"r\") as csvfile:\n",
        "    lines = csvfile.readlines()\n",
        "csvfile.close()\n",
        "\n",
        "new = []\n",
        "\n",
        "for i in lines:\n",
        "    new.append(i.split(\" \"))\n",
        "\n",
        "    \n",
        "value_train = []\n",
        "for i in new[0]:\n",
        "    value_train.append(int(i))    \n",
        "    \n",
        "print(len(value_train))"
      ]
    },
    {
      "cell_type": "code",
      "source": [
        "#Wczytanie etykiet do treninegu \n",
        "\n",
        "with open(folder+valid_csv,\"r\") as csvfile:\n",
        "    lines = csvfile.readlines()\n",
        "csvfile.close()\n",
        "\n",
        "new = []\n",
        "\n",
        "for i in lines:\n",
        "    new.append(i.split(\" \"))\n",
        "\n",
        "    \n",
        "value_valid = []\n",
        "for i in new[0]:\n",
        "    value_valid.append(int(i))    \n",
        "    \n",
        "print(len(value_valid))"
      ],
      "metadata": {
        "colab": {
          "base_uri": "https://localhost:8080/"
        },
        "id": "81v7kN-MjQlr",
        "outputId": "5be38a19-517d-4f11-a030-1b5401fbf85c"
      },
      "id": "81v7kN-MjQlr",
      "execution_count": 9,
      "outputs": [
        {
          "output_type": "stream",
          "name": "stdout",
          "text": [
            "2520\n"
          ]
        }
      ]
    },
    {
      "cell_type": "code",
      "execution_count": 10,
      "id": "b9FTBM2X68V7",
      "metadata": {
        "colab": {
          "base_uri": "https://localhost:8080/"
        },
        "id": "b9FTBM2X68V7",
        "outputId": "91e23f41-f2f0-4bff-9d3e-9696804ea8de"
      },
      "outputs": [
        {
          "output_type": "stream",
          "name": "stdout",
          "text": [
            "2520\n"
          ]
        }
      ],
      "source": [
        "#Wczytanie etykiet do testowania\n",
        "\n",
        "with open(folder+test_csv,\"r\") as csvfile:\n",
        "    lines = csvfile.readlines()\n",
        "csvfile.close()\n",
        "\n",
        "new = []\n",
        "\n",
        "for i in lines:\n",
        "    new.append(i.split(\" \"))\n",
        "\n",
        "    \n",
        "value_test = []\n",
        "for i in new[0]:\n",
        "    value_test.append(int(i))    \n",
        "    \n",
        "print(len(value_test))"
      ]
    },
    {
      "cell_type": "code",
      "execution_count": 11,
      "id": "d9cb09d8",
      "metadata": {
        "colab": {
          "base_uri": "https://localhost:8080/"
        },
        "id": "d9cb09d8",
        "outputId": "8183ec70-e3cc-4408-a067-2fbd47650cfd"
      },
      "outputs": [
        {
          "output_type": "stream",
          "name": "stdout",
          "text": [
            "20160\n"
          ]
        }
      ],
      "source": [
        "#Wczytanie zdjęć treningowych (80% całego zbioru)\n",
        "images_train = []\n",
        "size = len(value_train)\n",
        "\n",
        "for i in range(size):\n",
        "    im = Image.open('/content/train/'+str(i)+'.png')\n",
        "    arr_im = np.array(im) \n",
        "    arr_im = arr_im / 255.0\n",
        "    images_train.append(arr_im) \n",
        "print(len(images_train))"
      ]
    },
    {
      "cell_type": "code",
      "source": [
        "#Wczytanie zdjęć walidacji (10% całego zbioru)\n",
        "images_valid = []\n",
        "size = len(value_valid)\n",
        "\n",
        "for i in range(size):\n",
        "    im = Image.open('/content/valid/'+str(i)+'.png')\n",
        "    arr_im = np.array(im) \n",
        "    arr_im = arr_im / 255.0\n",
        "    images_valid.append(arr_im) \n",
        "print(len(images_valid))"
      ],
      "metadata": {
        "colab": {
          "base_uri": "https://localhost:8080/"
        },
        "id": "ejTH7UQCjv4_",
        "outputId": "fc57ebb4-64b7-4268-dd67-1ca5ccb51a59"
      },
      "id": "ejTH7UQCjv4_",
      "execution_count": 12,
      "outputs": [
        {
          "output_type": "stream",
          "name": "stdout",
          "text": [
            "2520\n"
          ]
        }
      ]
    },
    {
      "cell_type": "code",
      "execution_count": 13,
      "id": "jyIF3G2Q6_eq",
      "metadata": {
        "colab": {
          "base_uri": "https://localhost:8080/"
        },
        "id": "jyIF3G2Q6_eq",
        "outputId": "8de6abdf-19ab-4bb7-a164-ecd3a58c6149"
      },
      "outputs": [
        {
          "output_type": "stream",
          "name": "stdout",
          "text": [
            "2520\n"
          ]
        }
      ],
      "source": [
        "#Wczytanie zdjęć testowych (10% całego zbioru)\n",
        "images_test = []\n",
        "size = len(value_test)\n",
        "\n",
        "for i in range(size):\n",
        "    im = Image.open('/content/test/'+str(i)+'.png')\n",
        "    arr_im = np.array(im) \n",
        "    arr_im = arr_im / 255.0\n",
        "    images_test.append(arr_im) \n",
        "print(len(images_test))"
      ]
    },
    {
      "cell_type": "code",
      "execution_count": 14,
      "id": "f7f4dd4b",
      "metadata": {
        "id": "f7f4dd4b"
      },
      "outputs": [],
      "source": [
        "x_train = np.array(images_train)\n",
        "y_train = np.array(value_train)\n",
        "\n",
        "x_valid = np.array(images_valid)\n",
        "y_valid = np.array(value_valid)\n",
        "\n",
        "x_test = np.array(images_test)\n",
        "y_test = np.array(value_test)"
      ]
    },
    {
      "cell_type": "code",
      "execution_count": 15,
      "id": "d3a370cb",
      "metadata": {
        "colab": {
          "base_uri": "https://localhost:8080/",
          "height": 285
        },
        "id": "d3a370cb",
        "outputId": "fd8d1836-91a9-409c-b633-916b6fbd76b7"
      },
      "outputs": [
        {
          "output_type": "stream",
          "name": "stdout",
          "text": [
            "0\n"
          ]
        },
        {
          "output_type": "display_data",
          "data": {
            "text/plain": [
              "<Figure size 432x288 with 1 Axes>"
            ],
            "image/png": "[encoded data removed]"
          },
          "metadata": {
            "needs_background": "light"
          }
        }
      ],
      "source": [
        "a = 15000\n",
        "plt.imshow(x_train[a],cmap = 'gray')\n",
        "print(y_train[a])"
      ]
    },
    {
      "cell_type": "code",
      "execution_count": 16,
      "id": "772c7d7c",
      "metadata": {
        "id": "772c7d7c"
      },
      "outputs": [],
      "source": [
        "model = models.Sequential()\n",
        "model.add(layers.Conv2D(32, (3, 3), activation='relu', input_shape=(128, 64, 1)))\n",
        "model.add(layers.MaxPooling2D((2, 2)))\n",
        "\n",
        "\n",
        "model.add(layers.Conv2D(32, (3, 3), activation='relu'))\n",
        "model.add(layers.MaxPooling2D((2, 2)))\n",
        "model.add(layers.BatchNormalization())\n",
        "\n",
        "model.add(layers.Conv2D(64, (3, 3), activation='relu'))\n",
        "model.add(layers.MaxPooling2D((2, 2)))\n",
        "\n",
        "\n",
        "model.add(layers.Conv2D(64, (3, 3), activation='relu'))\n",
        "model.add(layers.MaxPooling2D((2, 2)))\n",
        "model.add(layers.BatchNormalization())\n",
        "\n",
        "model.add(layers.Flatten())\n",
        "model.add(layers.Dense(64, activation='relu'))\n",
        "model.add(layers.Dense(1, activation='relu'))\n"
      ]
    },
    {
      "cell_type": "code",
      "execution_count": 17,
      "id": "b86f72df",
      "metadata": {
        "colab": {
          "base_uri": "https://localhost:8080/"
        },
        "id": "b86f72df",
        "outputId": "75f39229-c501-441c-a520-ea47d0776bc1"
      },
      "outputs": [
        {
          "output_type": "stream",
          "name": "stdout",
          "text": [
            "Model: \"sequential\"\n",
            "_________________________________________________________________\n",
            " Layer (type)                Output Shape              Param #   \n",
            "=================================================================\n",
            " conv2d (Conv2D)             (None, 126, 62, 32)       320       \n",
            "                                                                 \n",
            " max_pooling2d (MaxPooling2D  (None, 63, 31, 32)       0         \n",
            " )                                                               \n",
            "                                                                 \n",
            " conv2d_1 (Conv2D)           (None, 61, 29, 32)        9248      \n",
            "                                                                 \n",
            " max_pooling2d_1 (MaxPooling  (None, 30, 14, 32)       0         \n",
            " 2D)                                                             \n",
            "                                                                 \n",
            " batch_normalization (BatchN  (None, 30, 14, 32)       128       \n",
            " ormalization)                                                   \n",
            "                                                                 \n",
            " conv2d_2 (Conv2D)           (None, 28, 12, 64)        18496     \n",
            "                                                                 \n",
            " max_pooling2d_2 (MaxPooling  (None, 14, 6, 64)        0         \n",
            " 2D)                                                             \n",
            "                                                                 \n",
            " conv2d_3 (Conv2D)           (None, 12, 4, 64)         36928     \n",
            "                                                                 \n",
            " max_pooling2d_3 (MaxPooling  (None, 6, 2, 64)         0         \n",
            " 2D)                                                             \n",
            "                                                                 \n",
            " batch_normalization_1 (Batc  (None, 6, 2, 64)         256       \n",
            " hNormalization)                                                 \n",
            "                                                                 \n",
            " flatten (Flatten)           (None, 768)               0         \n",
            "                                                                 \n",
            " dense (Dense)               (None, 64)                49216     \n",
            "                                                                 \n",
            " dense_1 (Dense)             (None, 1)                 65        \n",
            "                                                                 \n",
            "=================================================================\n",
            "Total params: 114,657\n",
            "Trainable params: 114,465\n",
            "Non-trainable params: 192\n",
            "_________________________________________________________________\n"
          ]
        }
      ],
      "source": [
        "model.summary()"
      ]
    },
    {
      "cell_type": "code",
      "execution_count": 18,
      "id": "9beb77e5",
      "metadata": {
        "colab": {
          "base_uri": "https://localhost:8080/"
        },
        "id": "9beb77e5",
        "outputId": "fd5588d0-3f80-44f2-cbd5-166e24fcad22"
      },
      "outputs": [
        {
          "output_type": "stream",
          "name": "stdout",
          "text": [
            "Epoch 1/100\n",
            "158/158 [==============================] - 31s 155ms/step - loss: 0.0869 - accuracy: 0.9155 - mse: 0.0869 - val_loss: 0.7931 - val_accuracy: 0.5000 - val_mse: 0.7931\n",
            "Epoch 2/100\n",
            "158/158 [==============================] - 24s 150ms/step - loss: 0.0094 - accuracy: 0.9968 - mse: 0.0094 - val_loss: 1.3327 - val_accuracy: 0.5000 - val_mse: 1.3327\n",
            "Epoch 3/100\n",
            "158/158 [==============================] - 24s 153ms/step - loss: 0.0048 - accuracy: 0.9996 - mse: 0.0048 - val_loss: 1.0206 - val_accuracy: 0.5091 - val_mse: 1.0206\n",
            "Epoch 4/100\n",
            "158/158 [==============================] - 25s 157ms/step - loss: 0.0033 - accuracy: 0.9998 - mse: 0.0033 - val_loss: 0.3275 - val_accuracy: 0.6611 - val_mse: 0.3275\n",
            "Epoch 5/100\n",
            "158/158 [==============================] - 24s 155ms/step - loss: 0.0022 - accuracy: 0.9999 - mse: 0.0022 - val_loss: 0.2213 - val_accuracy: 0.7139 - val_mse: 0.2213\n",
            "Epoch 6/100\n",
            "158/158 [==============================] - 25s 155ms/step - loss: 0.0019 - accuracy: 1.0000 - mse: 0.0019 - val_loss: 0.1966 - val_accuracy: 0.7397 - val_mse: 0.1966\n",
            "Epoch 7/100\n",
            "158/158 [==============================] - 25s 156ms/step - loss: 0.0013 - accuracy: 1.0000 - mse: 0.0013 - val_loss: 0.1753 - val_accuracy: 0.7440 - val_mse: 0.1753\n",
            "Epoch 8/100\n",
            "158/158 [==============================] - 25s 158ms/step - loss: 0.0010 - accuracy: 1.0000 - mse: 0.0010 - val_loss: 0.1710 - val_accuracy: 0.7520 - val_mse: 0.1710\n",
            "Epoch 9/100\n",
            "158/158 [==============================] - 24s 153ms/step - loss: 0.0010 - accuracy: 1.0000 - mse: 0.0010 - val_loss: 0.1777 - val_accuracy: 0.7599 - val_mse: 0.1777\n",
            "Epoch 10/100\n",
            "158/158 [==============================] - 24s 154ms/step - loss: 8.3762e-04 - accuracy: 1.0000 - mse: 8.3762e-04 - val_loss: 0.1699 - val_accuracy: 0.7675 - val_mse: 0.1699\n",
            "Epoch 11/100\n",
            "158/158 [==============================] - 24s 152ms/step - loss: 7.5130e-04 - accuracy: 1.0000 - mse: 7.5130e-04 - val_loss: 0.1738 - val_accuracy: 0.7488 - val_mse: 0.1738\n",
            "Epoch 12/100\n",
            "158/158 [==============================] - 25s 155ms/step - loss: 7.3309e-04 - accuracy: 1.0000 - mse: 7.3309e-04 - val_loss: 0.1581 - val_accuracy: 0.7841 - val_mse: 0.1581\n",
            "Epoch 13/100\n",
            "158/158 [==============================] - 24s 152ms/step - loss: 6.3962e-04 - accuracy: 1.0000 - mse: 6.3962e-04 - val_loss: 0.1842 - val_accuracy: 0.7377 - val_mse: 0.1842\n",
            "Epoch 14/100\n",
            "158/158 [==============================] - 24s 152ms/step - loss: 5.6711e-04 - accuracy: 1.0000 - mse: 5.6711e-04 - val_loss: 0.1652 - val_accuracy: 0.7532 - val_mse: 0.1652\n",
            "Epoch 15/100\n",
            "158/158 [==============================] - 24s 155ms/step - loss: 5.0731e-04 - accuracy: 1.0000 - mse: 5.0731e-04 - val_loss: 0.1457 - val_accuracy: 0.7746 - val_mse: 0.1457\n",
            "Epoch 16/100\n",
            "158/158 [==============================] - 24s 152ms/step - loss: 4.7870e-04 - accuracy: 1.0000 - mse: 4.7870e-04 - val_loss: 0.1698 - val_accuracy: 0.7429 - val_mse: 0.1698\n",
            "Epoch 17/100\n",
            "158/158 [==============================] - 24s 150ms/step - loss: 4.4603e-04 - accuracy: 1.0000 - mse: 4.4603e-04 - val_loss: 0.1486 - val_accuracy: 0.7833 - val_mse: 0.1486\n",
            "Epoch 18/100\n",
            "158/158 [==============================] - 24s 152ms/step - loss: 3.8053e-04 - accuracy: 1.0000 - mse: 3.8053e-04 - val_loss: 0.1688 - val_accuracy: 0.7571 - val_mse: 0.1688\n",
            "Epoch 19/100\n",
            "158/158 [==============================] - 24s 155ms/step - loss: 4.1881e-04 - accuracy: 1.0000 - mse: 4.1881e-04 - val_loss: 0.1452 - val_accuracy: 0.7909 - val_mse: 0.1452\n",
            "Epoch 20/100\n",
            "158/158 [==============================] - 24s 151ms/step - loss: 4.1910e-04 - accuracy: 1.0000 - mse: 4.1910e-04 - val_loss: 0.1453 - val_accuracy: 0.7905 - val_mse: 0.1453\n",
            "Epoch 21/100\n",
            "158/158 [==============================] - 24s 153ms/step - loss: 3.2293e-04 - accuracy: 1.0000 - mse: 3.2293e-04 - val_loss: 0.1350 - val_accuracy: 0.8119 - val_mse: 0.1350\n",
            "Epoch 22/100\n",
            "158/158 [==============================] - 24s 152ms/step - loss: 5.3133e-04 - accuracy: 1.0000 - mse: 5.3133e-04 - val_loss: 0.1454 - val_accuracy: 0.7885 - val_mse: 0.1454\n",
            "Epoch 23/100\n",
            "158/158 [==============================] - 24s 150ms/step - loss: 2.7515e-04 - accuracy: 1.0000 - mse: 2.7515e-04 - val_loss: 0.1427 - val_accuracy: 0.8040 - val_mse: 0.1427\n",
            "Epoch 24/100\n",
            "158/158 [==============================] - 24s 155ms/step - loss: 3.0078e-04 - accuracy: 1.0000 - mse: 3.0078e-04 - val_loss: 0.1079 - val_accuracy: 0.8504 - val_mse: 0.1079\n",
            "Epoch 25/100\n",
            "158/158 [==============================] - 24s 152ms/step - loss: 2.9389e-04 - accuracy: 1.0000 - mse: 2.9389e-04 - val_loss: 0.1228 - val_accuracy: 0.8433 - val_mse: 0.1228\n",
            "Epoch 26/100\n",
            "158/158 [==============================] - 24s 150ms/step - loss: 2.7159e-04 - accuracy: 1.0000 - mse: 2.7159e-04 - val_loss: 0.1388 - val_accuracy: 0.8095 - val_mse: 0.1388\n",
            "Epoch 27/100\n",
            "158/158 [==============================] - 24s 152ms/step - loss: 2.3136e-04 - accuracy: 1.0000 - mse: 2.3136e-04 - val_loss: 0.1246 - val_accuracy: 0.8444 - val_mse: 0.1246\n",
            "Epoch 28/100\n",
            "158/158 [==============================] - 24s 152ms/step - loss: 3.7214e-04 - accuracy: 1.0000 - mse: 3.7214e-04 - val_loss: 0.1572 - val_accuracy: 0.7762 - val_mse: 0.1572\n",
            "Epoch 29/100\n",
            "158/158 [==============================] - 24s 150ms/step - loss: 6.1454e-04 - accuracy: 0.9998 - mse: 6.1454e-04 - val_loss: 0.1657 - val_accuracy: 0.7552 - val_mse: 0.1657\n",
            "Epoch 30/100\n",
            "158/158 [==============================] - 24s 150ms/step - loss: 0.0030 - accuracy: 0.9988 - mse: 0.0030 - val_loss: 0.1293 - val_accuracy: 0.8405 - val_mse: 0.1293\n",
            "Epoch 31/100\n",
            "158/158 [==============================] - 24s 151ms/step - loss: 8.4499e-04 - accuracy: 0.9998 - mse: 8.4499e-04 - val_loss: 0.1268 - val_accuracy: 0.8377 - val_mse: 0.1268\n",
            "Epoch 32/100\n",
            "158/158 [==============================] - 24s 152ms/step - loss: 2.2306e-04 - accuracy: 1.0000 - mse: 2.2306e-04 - val_loss: 0.1023 - val_accuracy: 0.8671 - val_mse: 0.1023\n",
            "Epoch 33/100\n",
            "158/158 [==============================] - 24s 151ms/step - loss: 1.7158e-04 - accuracy: 1.0000 - mse: 1.7158e-04 - val_loss: 0.1063 - val_accuracy: 0.8607 - val_mse: 0.1063\n",
            "Epoch 34/100\n",
            "158/158 [==============================] - 24s 152ms/step - loss: 1.5801e-04 - accuracy: 1.0000 - mse: 1.5801e-04 - val_loss: 0.1036 - val_accuracy: 0.8655 - val_mse: 0.1036\n",
            "Epoch 35/100\n",
            "158/158 [==============================] - 24s 151ms/step - loss: 1.3592e-04 - accuracy: 1.0000 - mse: 1.3592e-04 - val_loss: 0.1076 - val_accuracy: 0.8603 - val_mse: 0.1076\n",
            "Epoch 36/100\n",
            "158/158 [==============================] - 24s 150ms/step - loss: 1.3266e-04 - accuracy: 1.0000 - mse: 1.3266e-04 - val_loss: 0.1079 - val_accuracy: 0.8540 - val_mse: 0.1079\n",
            "Epoch 37/100\n",
            "158/158 [==============================] - 24s 151ms/step - loss: 1.2228e-04 - accuracy: 1.0000 - mse: 1.2228e-04 - val_loss: 0.1041 - val_accuracy: 0.8599 - val_mse: 0.1041\n",
            "Epoch 38/100\n",
            "158/158 [==============================] - 24s 152ms/step - loss: 1.0616e-04 - accuracy: 1.0000 - mse: 1.0616e-04 - val_loss: 0.1057 - val_accuracy: 0.8635 - val_mse: 0.1057\n",
            "Epoch 39/100\n",
            "158/158 [==============================] - 24s 153ms/step - loss: 1.6232e-04 - accuracy: 1.0000 - mse: 1.6232e-04 - val_loss: 0.0915 - val_accuracy: 0.8861 - val_mse: 0.0915\n",
            "Epoch 40/100\n",
            "158/158 [==============================] - 24s 150ms/step - loss: 1.2638e-04 - accuracy: 1.0000 - mse: 1.2638e-04 - val_loss: 0.1116 - val_accuracy: 0.8548 - val_mse: 0.1116\n",
            "Epoch 41/100\n",
            "158/158 [==============================] - 24s 151ms/step - loss: 9.0085e-05 - accuracy: 1.0000 - mse: 9.0085e-05 - val_loss: 0.1159 - val_accuracy: 0.8532 - val_mse: 0.1159\n",
            "Epoch 42/100\n",
            "158/158 [==============================] - 24s 149ms/step - loss: 3.6397e-04 - accuracy: 1.0000 - mse: 3.6397e-04 - val_loss: 0.2592 - val_accuracy: 0.7143 - val_mse: 0.2592\n",
            "Epoch 43/100\n",
            "158/158 [==============================] - 24s 152ms/step - loss: 0.0017 - accuracy: 0.9992 - mse: 0.0017 - val_loss: 0.0874 - val_accuracy: 0.8929 - val_mse: 0.0874\n",
            "Epoch 44/100\n",
            "158/158 [==============================] - 24s 153ms/step - loss: 2.1959e-04 - accuracy: 1.0000 - mse: 2.1959e-04 - val_loss: 0.0763 - val_accuracy: 0.9111 - val_mse: 0.0763\n",
            "Epoch 45/100\n",
            "158/158 [==============================] - 24s 150ms/step - loss: 1.3722e-04 - accuracy: 1.0000 - mse: 1.3722e-04 - val_loss: 0.0797 - val_accuracy: 0.9119 - val_mse: 0.0797\n",
            "Epoch 46/100\n",
            "158/158 [==============================] - 24s 153ms/step - loss: 1.3843e-04 - accuracy: 1.0000 - mse: 1.3843e-04 - val_loss: 0.0763 - val_accuracy: 0.9115 - val_mse: 0.0763\n",
            "Epoch 47/100\n",
            "158/158 [==============================] - 24s 154ms/step - loss: 8.2591e-05 - accuracy: 1.0000 - mse: 8.2591e-05 - val_loss: 0.0759 - val_accuracy: 0.9163 - val_mse: 0.0759\n",
            "Epoch 48/100\n",
            "158/158 [==============================] - 24s 154ms/step - loss: 7.6165e-05 - accuracy: 1.0000 - mse: 7.6165e-05 - val_loss: 0.0746 - val_accuracy: 0.9179 - val_mse: 0.0746\n",
            "Epoch 49/100\n",
            "158/158 [==============================] - 24s 152ms/step - loss: 6.7766e-05 - accuracy: 1.0000 - mse: 6.7766e-05 - val_loss: 0.0750 - val_accuracy: 0.9167 - val_mse: 0.0750\n",
            "Epoch 50/100\n",
            "158/158 [==============================] - 24s 150ms/step - loss: 9.7044e-05 - accuracy: 1.0000 - mse: 9.7044e-05 - val_loss: 0.0772 - val_accuracy: 0.9151 - val_mse: 0.0772\n",
            "Epoch 51/100\n",
            "158/158 [==============================] - 24s 150ms/step - loss: 9.7179e-05 - accuracy: 1.0000 - mse: 9.7179e-05 - val_loss: 0.0751 - val_accuracy: 0.9167 - val_mse: 0.0751\n",
            "Epoch 52/100\n",
            "158/158 [==============================] - 24s 151ms/step - loss: 5.3912e-05 - accuracy: 1.0000 - mse: 5.3912e-05 - val_loss: 0.0756 - val_accuracy: 0.9147 - val_mse: 0.0756\n",
            "Epoch 53/100\n",
            "158/158 [==============================] - 24s 151ms/step - loss: 7.0860e-05 - accuracy: 1.0000 - mse: 7.0860e-05 - val_loss: 0.0759 - val_accuracy: 0.9190 - val_mse: 0.0759\n",
            "Epoch 54/100\n",
            "158/158 [==============================] - 24s 152ms/step - loss: 5.7453e-05 - accuracy: 1.0000 - mse: 5.7453e-05 - val_loss: 0.0757 - val_accuracy: 0.9167 - val_mse: 0.0757\n",
            "Epoch 55/100\n",
            "158/158 [==============================] - 24s 150ms/step - loss: 5.7662e-05 - accuracy: 1.0000 - mse: 5.7662e-05 - val_loss: 0.0765 - val_accuracy: 0.9159 - val_mse: 0.0765\n",
            "Epoch 56/100\n",
            "158/158 [==============================] - 24s 150ms/step - loss: 6.9356e-05 - accuracy: 1.0000 - mse: 6.9356e-05 - val_loss: 0.0810 - val_accuracy: 0.9139 - val_mse: 0.0810\n",
            "Epoch 57/100\n",
            "158/158 [==============================] - 24s 150ms/step - loss: 6.2207e-05 - accuracy: 1.0000 - mse: 6.2207e-05 - val_loss: 0.0806 - val_accuracy: 0.9123 - val_mse: 0.0806\n",
            "Epoch 58/100\n",
            "158/158 [==============================] - 24s 150ms/step - loss: 5.8657e-05 - accuracy: 1.0000 - mse: 5.8657e-05 - val_loss: 0.0803 - val_accuracy: 0.9155 - val_mse: 0.0803\n",
            "Epoch 58: early stopping\n"
          ]
        }
      ],
      "source": [
        "model.compile(optimizer='adam',\n",
        "              loss='mse',\n",
        "              metrics=['accuracy','mse'])\n",
        "\n",
        "#Funcka umożliwia zatrzymanie się uczenia \n",
        "#gdy wartość strat przstanie maleć\n",
        "EarlyStop = EarlyStopping(monitor='val_loss',  \n",
        "                          verbose=1, \n",
        "                          patience=10)\n",
        "\n",
        "\n",
        "ModelCheck = ModelCheckpoint(filepath='/content/drive/MyDrive/Sieci_rozszerzenie/Zlaczone_kolumny/Model_zlaczone_kolumny.h5',\n",
        "                             monitor='val_loss',\n",
        "                             save_best_only=True)\n",
        "\n",
        "history = model.fit(x=x_train, \n",
        "                    y=y_train, \n",
        "                    epochs=100,\n",
        "                    batch_size=128,\n",
        "                    #validation_split=0.1,\n",
        "                    validation_data = (x_valid, y_valid),\n",
        "                    callbacks = [EarlyStop, ModelCheck]\n",
        "                   )"
      ]
    },
    {
      "cell_type": "code",
      "execution_count": 19,
      "id": "3680f8c1",
      "metadata": {
        "colab": {
          "base_uri": "https://localhost:8080/",
          "height": 300
        },
        "id": "3680f8c1",
        "outputId": "cad6973c-62bc-4936-a235-96f35560e812",
        "scrolled": true
      },
      "outputs": [
        {
          "output_type": "execute_result",
          "data": {
            "text/plain": [
              "<matplotlib.legend.Legend at 0x7fd5584e22b0>"
            ]
          },
          "metadata": {},
          "execution_count": 19
        },
        {
          "output_type": "display_data",
          "data": {
            "text/plain": [
              "<Figure size 432x288 with 1 Axes>"
            ],
            "image/png": "[encoded data removed]"
          },
          "metadata": {
            "needs_background": "light"
          }
        }
      ],
      "source": [
        "plt.plot(history.history['loss'], label='strata')\n",
        "plt.plot(history.history['val_loss'], label = 'strata walidacyjna')\n",
        "plt.xlabel('Epoka')\n",
        "plt.ylabel('Strata')\n",
        "plt.ylim([0.0, 0.5])\n",
        "plt.legend(loc='upper right')"
      ]
    },
    {
      "cell_type": "code",
      "execution_count": 20,
      "id": "fe8633db",
      "metadata": {
        "colab": {
          "base_uri": "https://localhost:8080/",
          "height": 300
        },
        "id": "fe8633db",
        "outputId": "cb1815e7-4339-4199-c61e-606f814f1bc7"
      },
      "outputs": [
        {
          "output_type": "execute_result",
          "data": {
            "text/plain": [
              "<matplotlib.legend.Legend at 0x7fd55842b820>"
            ]
          },
          "metadata": {},
          "execution_count": 20
        },
        {
          "output_type": "display_data",
          "data": {
            "text/plain": [
              "<Figure size 432x288 with 1 Axes>"
            ],
            "image/png": "[encoded data removed]"
          },
          "metadata": {
            "needs_background": "light"
          }
        }
      ],
      "source": [
        "plt.plot(history.history['accuracy'], label='precyzja')\n",
        "plt.plot(history.history['val_accuracy'], label = 'precyzja walidacyjna')\n",
        "plt.xlabel('Epoka')\n",
        "plt.ylabel('Precyzja')\n",
        "plt.ylim([0.5, 1])\n",
        "plt.legend(loc='lower right')"
      ]
    },
    {
      "cell_type": "code",
      "execution_count": 21,
      "id": "194f39e9",
      "metadata": {
        "id": "194f39e9"
      },
      "outputs": [],
      "source": [
        "best_model = tf.keras.models.load_model('/content/drive/MyDrive/Sieci_rozszerzenie/Zlaczone_kolumny/Model_zlaczone_kolumny.h5')"
      ]
    },
    {
      "cell_type": "code",
      "execution_count": 22,
      "id": "ewHB7W_bskUm",
      "metadata": {
        "colab": {
          "base_uri": "https://localhost:8080/"
        },
        "id": "ewHB7W_bskUm",
        "outputId": "ef72705e-4dc4-4a4f-bfd9-3f8a8edc5848"
      },
      "outputs": [
        {
          "output_type": "stream",
          "name": "stdout",
          "text": [
            "79/79 - 2s - loss: 0.1980 - accuracy: 0.7738 - mse: 0.1980 - 2s/epoch - 21ms/step\n"
          ]
        },
        {
          "output_type": "execute_result",
          "data": {
            "text/plain": [
              "[0.19803596184593356, 0.7738095238095238, 0.19803596184593356]"
            ]
          },
          "metadata": {},
          "execution_count": 22
        }
      ],
      "source": [
        "best_model.evaluate(x_test,  y_test, verbose=2)"
      ]
    },
    {
      "cell_type": "code",
      "execution_count": 23,
      "id": "UXFfOAksska6",
      "metadata": {
        "colab": {
          "base_uri": "https://localhost:8080/"
        },
        "id": "UXFfOAksska6",
        "outputId": "950b40bb-7869-466d-d093-b8c6e0a5e7ec"
      },
      "outputs": [
        {
          "output_type": "stream",
          "name": "stdout",
          "text": [
            "79/79 [==============================] - 1s 13ms/step\n"
          ]
        }
      ],
      "source": [
        "predict_x = best_model.predict(x_test) \n",
        "\n",
        "predictions = (predict_x > 0.5).astype(\"int32\")"
      ]
    },
    {
      "cell_type": "code",
      "execution_count": 24,
      "id": "u4OPDhfgskeU",
      "metadata": {
        "colab": {
          "base_uri": "https://localhost:8080/"
        },
        "id": "u4OPDhfgskeU",
        "outputId": "68ccc09e-8dd2-41b3-8ba2-b3409796f230"
      },
      "outputs": [
        {
          "output_type": "stream",
          "name": "stdout",
          "text": [
            "[['Tn' 'Nn']\n",
            " ['Np' 'Tp']]\n",
            "tf.Tensor(\n",
            "[[ 731  529]\n",
            " [  41 1219]], shape=(2, 2), dtype=int32)\n"
          ]
        }
      ],
      "source": [
        "names = [['Tn','Nn'],['Np', 'Tp']]\n",
        "names = np.reshape(names,(2,2))\n",
        "print(names)\n",
        "\n",
        "conf = tf.math.confusion_matrix(y_test,predictions)\n",
        "\n",
        "print(conf)"
      ]
    },
    {
      "cell_type": "code",
      "source": [
        "#Zapisanie danych statystycznych do plików csv\n",
        "np.array(history.history['accuracy']).tofile(folder+'accuracy.csv', sep = '\\n') \n",
        "np.array(history.history['val_accuracy']).tofile(folder+'val_accuracy.csv', sep = '\\n') \n",
        "np.array(history.history['loss']).tofile(folder+'loss.csv', sep = '\\n') \n",
        "np.array(history.history['val_loss']).tofile(folder+'val_loss.csv', sep = '\\n') \n",
        "\n",
        "predictions.tofile(folder+'predictions.csv', sep = '\\n') \n",
        "predict_x.tofile(folder+'predict_x.csv', sep = '\\n') "
      ],
      "metadata": {
        "id": "oU_pK1pQrj7g"
      },
      "id": "oU_pK1pQrj7g",
      "execution_count": 25,
      "outputs": []
    }
  ],
  "metadata": {
    "accelerator": "GPU",
    "colab": {
      "provenance": [],
      "include_colab_link": true
    },
    "gpuClass": "standard",
    "kernelspec": {
      "display_name": "Python 3",
      "name": "python3"
    },
    "language_info": {
      "name": "python"
    }
  },
  "nbformat": 4,
  "nbformat_minor": 5
}