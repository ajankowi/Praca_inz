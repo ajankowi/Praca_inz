{
  "cells": [
    {
      "cell_type": "markdown",
      "metadata": {
        "id": "view-in-github",
        "colab_type": "text"
      },
      "source": [
        "<a href=\"https://colab.research.google.com/github/ajankowi/Praca_inz/blob/master/Zlaczone_kolumny/Siec_zlaczone_kolumny.ipynb\" target=\"_parent\"><img src=\"https://colab.research.google.com/assets/colab-badge.svg\" alt=\"Open In Colab\"/></a>"
      ]
    },
    {
      "cell_type": "code",
      "execution_count": 1,
      "id": "613f08b5",
      "metadata": {
        "colab": {
          "base_uri": "https://localhost:8080/"
        },
        "id": "613f08b5",
        "outputId": "78c4c979-f13c-45bf-9cc4-f43ba6979187"
      },
      "outputs": [
        {
          "output_type": "stream",
          "name": "stdout",
          "text": [
            "3.8.10 (default, Nov 14 2022, 12:59:47) \n",
            "[GCC 9.4.0]\n"
          ]
        }
      ],
      "source": [
        "import sys\n",
        "print(sys.version)"
      ]
    },
    {
      "cell_type": "code",
      "execution_count": 2,
      "id": "0n78XAHmDiUv",
      "metadata": {
        "colab": {
          "base_uri": "https://localhost:8080/"
        },
        "id": "0n78XAHmDiUv",
        "outputId": "a9626aa1-9def-4e43-9100-809e8a93641d"
      },
      "outputs": [
        {
          "output_type": "stream",
          "name": "stdout",
          "text": [
            "Mounted at /content/drive\n"
          ]
        }
      ],
      "source": [
        "from google.colab import drive\n",
        "drive.mount(\"/content/drive\", force_remount=True)"
      ]
    },
    {
      "cell_type": "code",
      "execution_count": 3,
      "id": "5eca1117",
      "metadata": {
        "colab": {
          "base_uri": "https://localhost:8080/"
        },
        "id": "5eca1117",
        "outputId": "13fbe6e4-513c-440e-c2aa-96c889080a17"
      },
      "outputs": [
        {
          "output_type": "stream",
          "name": "stdout",
          "text": [
            "TensorFlow version: 2.11.0\n"
          ]
        }
      ],
      "source": [
        "import tensorflow as tf\n",
        "from tensorflow import keras\n",
        "from keras import layers, models, regularizers\n",
        "from keras.layers import Flatten, add, Dense, Dropout \n",
        "from keras.callbacks import ModelCheckpoint, EarlyStopping\n",
        "\n",
        "\n",
        "print(\"TensorFlow version:\", tf.__version__)\n",
        "tf.keras.backend.set_floatx('float64')"
      ]
    },
    {
      "cell_type": "code",
      "execution_count": 4,
      "id": "12022d37",
      "metadata": {
        "id": "12022d37"
      },
      "outputs": [],
      "source": [
        "import matplotlib.pyplot as plt\n",
        "import numpy as np\n",
        "import pandas as pd\n",
        "import seaborn as sns\n",
        "from PIL import Image\n",
        "import os\n",
        "import csv\n",
        "import random\n",
        "\n",
        "import cv2\n",
        "import imutils\n",
        "import glob\n",
        "# Make NumPy printouts easier to read.\n",
        "np.set_printoptions(precision=3, suppress=True)"
      ]
    },
    {
      "cell_type": "code",
      "execution_count": 5,
      "id": "1086f893",
      "metadata": {
        "id": "1086f893"
      },
      "outputs": [],
      "source": [
        "#Określenie ścieżek do plików\n",
        "test_csv = 'Test/test.csv'\n",
        "valid_csv = 'Valid/valid.csv'\n",
        "train_csv = 'Train/train.csv'\n",
        "\n",
        "folder = '/content/drive/MyDrive/Sieci_rozszerzenie/Zlaczone_kolumny/'\n",
        "slesh = '/'\n",
        "png = '.png'"
      ]
    },
    {
      "cell_type": "code",
      "execution_count": null,
      "id": "P6mVaPsPDDID",
      "metadata": {
        "id": "P6mVaPsPDDID"
      },
      "outputs": [],
      "source": [
        "!unzip '/content/drive/MyDrive/Sieci_rozszerzenie/Zlaczone_kolumny/Train/Train.zip' -d '/content/train/'\n",
        "!unzip '/content/drive/MyDrive/Sieci_rozszerzenie/Zlaczone_kolumny/Valid/Valid.zip' -d '/content/valid/'\n",
        "!unzip '/content/drive/MyDrive/Sieci_rozszerzenie/Zlaczone_kolumny/Test/Test.zip' -d '/content/test/'"
      ]
    },
    {
      "cell_type": "code",
      "execution_count": 7,
      "id": "723b71fc",
      "metadata": {
        "id": "723b71fc"
      },
      "outputs": [],
      "source": [
        "def release_list(a):\n",
        "    \n",
        "    del a[:]\n",
        "    del a"
      ]
    },
    {
      "cell_type": "code",
      "execution_count": 8,
      "id": "5beb89e7",
      "metadata": {
        "colab": {
          "base_uri": "https://localhost:8080/"
        },
        "id": "5beb89e7",
        "outputId": "1119dc04-20fc-41bd-aa28-f97b19ded2f2"
      },
      "outputs": [
        {
          "output_type": "stream",
          "name": "stdout",
          "text": [
            "20160\n"
          ]
        }
      ],
      "source": [
        "#Wczytanie etykiet do treninegu \n",
        "\n",
        "with open(folder+train_csv,\"r\") as csvfile:\n",
        "    lines = csvfile.readlines()\n",
        "csvfile.close()\n",
        "\n",
        "new = []\n",
        "\n",
        "for i in lines:\n",
        "    new.append(i.split(\" \"))\n",
        "\n",
        "    \n",
        "value_train = []\n",
        "for i in new[0]:\n",
        "    value_train.append(int(i))    \n",
        "    \n",
        "print(len(value_train))"
      ]
    },
    {
      "cell_type": "code",
      "source": [
        "#Wczytanie etykiet do treninegu \n",
        "\n",
        "with open(folder+valid_csv,\"r\") as csvfile:\n",
        "    lines = csvfile.readlines()\n",
        "csvfile.close()\n",
        "\n",
        "new = []\n",
        "\n",
        "for i in lines:\n",
        "    new.append(i.split(\" \"))\n",
        "\n",
        "    \n",
        "value_valid = []\n",
        "for i in new[0]:\n",
        "    value_valid.append(int(i))    \n",
        "    \n",
        "print(len(value_valid))"
      ],
      "metadata": {
        "colab": {
          "base_uri": "https://localhost:8080/"
        },
        "id": "81v7kN-MjQlr",
        "outputId": "ccedef67-781b-4068-91e1-49ec03ab96ff"
      },
      "id": "81v7kN-MjQlr",
      "execution_count": 9,
      "outputs": [
        {
          "output_type": "stream",
          "name": "stdout",
          "text": [
            "2520\n"
          ]
        }
      ]
    },
    {
      "cell_type": "code",
      "execution_count": 10,
      "id": "b9FTBM2X68V7",
      "metadata": {
        "colab": {
          "base_uri": "https://localhost:8080/"
        },
        "id": "b9FTBM2X68V7",
        "outputId": "8fbc047f-e87b-4750-973d-2cd11430d760"
      },
      "outputs": [
        {
          "output_type": "stream",
          "name": "stdout",
          "text": [
            "2520\n"
          ]
        }
      ],
      "source": [
        "#Wczytanie etykiet do testowania\n",
        "\n",
        "with open(folder+test_csv,\"r\") as csvfile:\n",
        "    lines = csvfile.readlines()\n",
        "csvfile.close()\n",
        "\n",
        "new = []\n",
        "\n",
        "for i in lines:\n",
        "    new.append(i.split(\" \"))\n",
        "\n",
        "    \n",
        "value_test = []\n",
        "for i in new[0]:\n",
        "    value_test.append(int(i))    \n",
        "    \n",
        "print(len(value_test))"
      ]
    },
    {
      "cell_type": "code",
      "execution_count": 11,
      "id": "d9cb09d8",
      "metadata": {
        "colab": {
          "base_uri": "https://localhost:8080/"
        },
        "id": "d9cb09d8",
        "outputId": "8b1d321a-a993-42c0-d539-19dc75ca7021"
      },
      "outputs": [
        {
          "output_type": "stream",
          "name": "stdout",
          "text": [
            "20160\n"
          ]
        }
      ],
      "source": [
        "#Wczytanie zdjęć treningowych (80% całego zbioru)\n",
        "images_train = []\n",
        "size = len(value_train)\n",
        "\n",
        "for i in range(size):\n",
        "    im = Image.open('/content/train/'+str(i)+'.png')\n",
        "    arr_im = np.array(im) \n",
        "    arr_im = arr_im / 255.0\n",
        "    images_train.append(arr_im) \n",
        "print(len(images_train))"
      ]
    },
    {
      "cell_type": "code",
      "source": [
        "#Wczytanie zdjęć walidacji (10% całego zbioru)\n",
        "images_valid = []\n",
        "size = len(value_valid)\n",
        "\n",
        "for i in range(size):\n",
        "    im = Image.open('/content/valid/'+str(i)+'.png')\n",
        "    arr_im = np.array(im) \n",
        "    arr_im = arr_im / 255.0\n",
        "    images_valid.append(arr_im) \n",
        "print(len(images_valid))"
      ],
      "metadata": {
        "colab": {
          "base_uri": "https://localhost:8080/"
        },
        "id": "ejTH7UQCjv4_",
        "outputId": "f1a48cc1-e609-4f09-8de7-416862e93757"
      },
      "id": "ejTH7UQCjv4_",
      "execution_count": 12,
      "outputs": [
        {
          "output_type": "stream",
          "name": "stdout",
          "text": [
            "2520\n"
          ]
        }
      ]
    },
    {
      "cell_type": "code",
      "execution_count": 13,
      "id": "jyIF3G2Q6_eq",
      "metadata": {
        "colab": {
          "base_uri": "https://localhost:8080/"
        },
        "id": "jyIF3G2Q6_eq",
        "outputId": "7ff8c529-acad-4232-e1d9-e5a70be965a2"
      },
      "outputs": [
        {
          "output_type": "stream",
          "name": "stdout",
          "text": [
            "2520\n"
          ]
        }
      ],
      "source": [
        "#Wczytanie zdjęć testowych (10% całego zbioru)\n",
        "images_test = []\n",
        "size = len(value_test)\n",
        "\n",
        "for i in range(size):\n",
        "    im = Image.open('/content/test/'+str(i)+'.png')\n",
        "    arr_im = np.array(im) \n",
        "    arr_im = arr_im / 255.0\n",
        "    images_test.append(arr_im) \n",
        "print(len(images_test))"
      ]
    },
    {
      "cell_type": "code",
      "execution_count": 14,
      "id": "f7f4dd4b",
      "metadata": {
        "id": "f7f4dd4b"
      },
      "outputs": [],
      "source": [
        "x_train = np.array(images_train)\n",
        "y_train = np.array(value_train)\n",
        "\n",
        "x_valid = np.array(images_valid)\n",
        "y_valid = np.array(value_valid)\n",
        "\n",
        "x_test = np.array(images_test)\n",
        "y_test = np.array(value_test)"
      ]
    },
    {
      "cell_type": "code",
      "execution_count": 19,
      "id": "d3a370cb",
      "metadata": {
        "colab": {
          "base_uri": "https://localhost:8080/",
          "height": 285
        },
        "id": "d3a370cb",
        "outputId": "ddc9c57b-add3-4521-ac81-eed195bf428c"
      },
      "outputs": [
        {
          "output_type": "stream",
          "name": "stdout",
          "text": [
            "0\n"
          ]
        },
        {
          "output_type": "display_data",
          "data": {
            "text/plain": [
              "<Figure size 432x288 with 1 Axes>"
            ],
            "image/png": "[encoded data removed]"
          },
          "metadata": {
            "needs_background": "light"
          }
        }
      ],
      "source": [
        "a = 15000\n",
        "plt.imshow(x_train[a],cmap = 'gray')\n",
        "print(y_train[a])"
      ]
    },
    {
      "cell_type": "code",
      "execution_count": 16,
      "id": "772c7d7c",
      "metadata": {
        "id": "772c7d7c"
      },
      "outputs": [],
      "source": [
        "model = models.Sequential()\n",
        "model.add(layers.Conv2D(32, (3, 3), activation='relu', input_shape=(128, 64, 1)))\n",
        "model.add(layers.MaxPooling2D((2, 2)))\n",
        "\n",
        "\n",
        "model.add(layers.Conv2D(32, (3, 3), activation='relu'))\n",
        "model.add(layers.MaxPooling2D((2, 2)))\n",
        "\n",
        "model.add(layers.BatchNormalization())\n",
        "\n",
        "model.add(layers.Conv2D(64, (3, 3), activation='relu'))\n",
        "model.add(layers.MaxPooling2D((2, 2)))\n",
        "\n",
        "\n",
        "model.add(layers.Conv2D(64, (3, 3), activation='relu'))\n",
        "model.add(layers.MaxPooling2D((2, 2)))\n",
        "\n",
        "\n",
        "model.add(layers.BatchNormalization())\n",
        "\n",
        "model.add(layers.Flatten())\n",
        "model.add(layers.Dense(64, activation='relu'))\n",
        "model.add(layers.Dense(1, activation='relu'))\n"
      ]
    },
    {
      "cell_type": "code",
      "execution_count": 17,
      "id": "b86f72df",
      "metadata": {
        "colab": {
          "base_uri": "https://localhost:8080/"
        },
        "id": "b86f72df",
        "outputId": "9d80fc44-e7e1-4378-ed35-51a2836a4c39"
      },
      "outputs": [
        {
          "output_type": "stream",
          "name": "stdout",
          "text": [
            "Model: \"sequential\"\n",
            "_________________________________________________________________\n",
            " Layer (type)                Output Shape              Param #   \n",
            "=================================================================\n",
            " conv2d (Conv2D)             (None, 126, 62, 32)       320       \n",
            "                                                                 \n",
            " max_pooling2d (MaxPooling2D  (None, 63, 31, 32)       0         \n",
            " )                                                               \n",
            "                                                                 \n",
            " conv2d_1 (Conv2D)           (None, 61, 29, 32)        9248      \n",
            "                                                                 \n",
            " max_pooling2d_1 (MaxPooling  (None, 30, 14, 32)       0         \n",
            " 2D)                                                             \n",
            "                                                                 \n",
            " batch_normalization (BatchN  (None, 30, 14, 32)       128       \n",
            " ormalization)                                                   \n",
            "                                                                 \n",
            " conv2d_2 (Conv2D)           (None, 28, 12, 64)        18496     \n",
            "                                                                 \n",
            " max_pooling2d_2 (MaxPooling  (None, 14, 6, 64)        0         \n",
            " 2D)                                                             \n",
            "                                                                 \n",
            " conv2d_3 (Conv2D)           (None, 12, 4, 64)         36928     \n",
            "                                                                 \n",
            " max_pooling2d_3 (MaxPooling  (None, 6, 2, 64)         0         \n",
            " 2D)                                                             \n",
            "                                                                 \n",
            " batch_normalization_1 (Batc  (None, 6, 2, 64)         256       \n",
            " hNormalization)                                                 \n",
            "                                                                 \n",
            " flatten (Flatten)           (None, 768)               0         \n",
            "                                                                 \n",
            " dense (Dense)               (None, 64)                49216     \n",
            "                                                                 \n",
            " dense_1 (Dense)             (None, 1)                 65        \n",
            "                                                                 \n",
            "=================================================================\n",
            "Total params: 114,657\n",
            "Trainable params: 114,465\n",
            "Non-trainable params: 192\n",
            "_________________________________________________________________\n"
          ]
        }
      ],
      "source": [
        "model.summary()"
      ]
    },
    {
      "cell_type": "code",
      "execution_count": 18,
      "id": "9beb77e5",
      "metadata": {
        "colab": {
          "base_uri": "https://localhost:8080/"
        },
        "id": "9beb77e5",
        "outputId": "a9475fd2-c408-4504-9d85-8d564e3d0160"
      },
      "outputs": [
        {
          "output_type": "stream",
          "name": "stdout",
          "text": [
            "Epoch 1/100\n",
            "158/158 [==============================] - 37s 150ms/step - loss: 0.0789 - accuracy: 0.9249 - mse: 0.0789 - val_loss: 0.9944 - val_accuracy: 0.5000 - val_mse: 0.9944\n",
            "Epoch 2/100\n",
            "158/158 [==============================] - 23s 143ms/step - loss: 0.0101 - accuracy: 0.9976 - mse: 0.0101 - val_loss: 1.2867 - val_accuracy: 0.5000 - val_mse: 1.2867\n",
            "Epoch 3/100\n",
            "158/158 [==============================] - 24s 153ms/step - loss: 0.0049 - accuracy: 0.9996 - mse: 0.0049 - val_loss: 0.4391 - val_accuracy: 0.5595 - val_mse: 0.4391\n",
            "Epoch 4/100\n",
            "158/158 [==============================] - 24s 152ms/step - loss: 0.0033 - accuracy: 0.9999 - mse: 0.0033 - val_loss: 0.2967 - val_accuracy: 0.6548 - val_mse: 0.2967\n",
            "Epoch 5/100\n",
            "158/158 [==============================] - 23s 147ms/step - loss: 0.0025 - accuracy: 1.0000 - mse: 0.0025 - val_loss: 0.3021 - val_accuracy: 0.6837 - val_mse: 0.3021\n",
            "Epoch 6/100\n",
            "158/158 [==============================] - 24s 153ms/step - loss: 0.0016 - accuracy: 1.0000 - mse: 0.0016 - val_loss: 0.2812 - val_accuracy: 0.6861 - val_mse: 0.2812\n",
            "Epoch 7/100\n",
            "158/158 [==============================] - 24s 152ms/step - loss: 0.0012 - accuracy: 1.0000 - mse: 0.0012 - val_loss: 0.2694 - val_accuracy: 0.6972 - val_mse: 0.2694\n",
            "Epoch 8/100\n",
            "158/158 [==============================] - 23s 146ms/step - loss: 0.0012 - accuracy: 1.0000 - mse: 0.0012 - val_loss: 0.2921 - val_accuracy: 0.6889 - val_mse: 0.2921\n",
            "Epoch 9/100\n",
            "158/158 [==============================] - 23s 144ms/step - loss: 0.0013 - accuracy: 0.9999 - mse: 0.0013 - val_loss: 0.2810 - val_accuracy: 0.7060 - val_mse: 0.2810\n",
            "Epoch 10/100\n",
            "158/158 [==============================] - 23s 146ms/step - loss: 9.1807e-04 - accuracy: 1.0000 - mse: 9.1807e-04 - val_loss: 0.2711 - val_accuracy: 0.7127 - val_mse: 0.2711\n",
            "Epoch 11/100\n",
            "158/158 [==============================] - 24s 150ms/step - loss: 8.7384e-04 - accuracy: 1.0000 - mse: 8.7384e-04 - val_loss: 0.2431 - val_accuracy: 0.7349 - val_mse: 0.2431\n",
            "Epoch 12/100\n",
            "158/158 [==============================] - 24s 151ms/step - loss: 8.3316e-04 - accuracy: 1.0000 - mse: 8.3316e-04 - val_loss: 0.2420 - val_accuracy: 0.7381 - val_mse: 0.2420\n",
            "Epoch 13/100\n",
            "158/158 [==============================] - 24s 152ms/step - loss: 7.4409e-04 - accuracy: 1.0000 - mse: 7.4409e-04 - val_loss: 0.2327 - val_accuracy: 0.7107 - val_mse: 0.2327\n",
            "Epoch 14/100\n",
            "158/158 [==============================] - 23s 145ms/step - loss: 6.2090e-04 - accuracy: 1.0000 - mse: 6.2090e-04 - val_loss: 0.2353 - val_accuracy: 0.7444 - val_mse: 0.2353\n",
            "Epoch 15/100\n",
            "158/158 [==============================] - 23s 144ms/step - loss: 4.6084e-04 - accuracy: 1.0000 - mse: 4.6084e-04 - val_loss: 0.2394 - val_accuracy: 0.7377 - val_mse: 0.2394\n",
            "Epoch 16/100\n",
            "158/158 [==============================] - 24s 152ms/step - loss: 4.5687e-04 - accuracy: 1.0000 - mse: 4.5687e-04 - val_loss: 0.2110 - val_accuracy: 0.7548 - val_mse: 0.2110\n",
            "Epoch 17/100\n",
            "158/158 [==============================] - 23s 145ms/step - loss: 5.4763e-04 - accuracy: 1.0000 - mse: 5.4763e-04 - val_loss: 0.2174 - val_accuracy: 0.7548 - val_mse: 0.2174\n",
            "Epoch 18/100\n",
            "158/158 [==============================] - 23s 143ms/step - loss: 4.7457e-04 - accuracy: 1.0000 - mse: 4.7457e-04 - val_loss: 0.2355 - val_accuracy: 0.7460 - val_mse: 0.2355\n",
            "Epoch 19/100\n",
            "158/158 [==============================] - 24s 151ms/step - loss: 3.4098e-04 - accuracy: 1.0000 - mse: 3.4098e-04 - val_loss: 0.2053 - val_accuracy: 0.7627 - val_mse: 0.2053\n",
            "Epoch 20/100\n",
            "158/158 [==============================] - 24s 152ms/step - loss: 3.9125e-04 - accuracy: 1.0000 - mse: 3.9125e-04 - val_loss: 0.1859 - val_accuracy: 0.7726 - val_mse: 0.1859\n",
            "Epoch 21/100\n",
            "158/158 [==============================] - 24s 154ms/step - loss: 3.2417e-04 - accuracy: 1.0000 - mse: 3.2417e-04 - val_loss: 0.1858 - val_accuracy: 0.7730 - val_mse: 0.1858\n",
            "Epoch 22/100\n",
            "158/158 [==============================] - 23s 146ms/step - loss: 2.8365e-04 - accuracy: 1.0000 - mse: 2.8365e-04 - val_loss: 0.1865 - val_accuracy: 0.7817 - val_mse: 0.1865\n",
            "Epoch 23/100\n",
            "158/158 [==============================] - 23s 146ms/step - loss: 2.7453e-04 - accuracy: 1.0000 - mse: 2.7453e-04 - val_loss: 0.1988 - val_accuracy: 0.7623 - val_mse: 0.1988\n",
            "Epoch 24/100\n",
            "158/158 [==============================] - 23s 145ms/step - loss: 7.5940e-04 - accuracy: 0.9999 - mse: 7.5940e-04 - val_loss: 0.1955 - val_accuracy: 0.7544 - val_mse: 0.1955\n",
            "Epoch 25/100\n",
            "158/158 [==============================] - 23s 143ms/step - loss: 0.0018 - accuracy: 0.9997 - mse: 0.0018 - val_loss: 0.1982 - val_accuracy: 0.7480 - val_mse: 0.1982\n",
            "Epoch 26/100\n",
            "158/158 [==============================] - 24s 150ms/step - loss: 5.5303e-04 - accuracy: 1.0000 - mse: 5.5303e-04 - val_loss: 0.1358 - val_accuracy: 0.8298 - val_mse: 0.1358\n",
            "Epoch 27/100\n",
            "158/158 [==============================] - 23s 143ms/step - loss: 2.6148e-04 - accuracy: 1.0000 - mse: 2.6148e-04 - val_loss: 0.1501 - val_accuracy: 0.8079 - val_mse: 0.1501\n",
            "Epoch 28/100\n",
            "158/158 [==============================] - 23s 145ms/step - loss: 1.6875e-04 - accuracy: 1.0000 - mse: 1.6875e-04 - val_loss: 0.1447 - val_accuracy: 0.8083 - val_mse: 0.1447\n",
            "Epoch 29/100\n",
            "158/158 [==============================] - 23s 145ms/step - loss: 1.4753e-04 - accuracy: 1.0000 - mse: 1.4753e-04 - val_loss: 0.1538 - val_accuracy: 0.8052 - val_mse: 0.1538\n",
            "Epoch 30/100\n",
            "158/158 [==============================] - 23s 145ms/step - loss: 2.0403e-04 - accuracy: 1.0000 - mse: 2.0403e-04 - val_loss: 0.1534 - val_accuracy: 0.8020 - val_mse: 0.1534\n",
            "Epoch 31/100\n",
            "158/158 [==============================] - 24s 153ms/step - loss: 1.6056e-04 - accuracy: 1.0000 - mse: 1.6056e-04 - val_loss: 0.1233 - val_accuracy: 0.8381 - val_mse: 0.1233\n",
            "Epoch 32/100\n",
            "158/158 [==============================] - 23s 145ms/step - loss: 1.1180e-04 - accuracy: 1.0000 - mse: 1.1180e-04 - val_loss: 0.1424 - val_accuracy: 0.8103 - val_mse: 0.1424\n",
            "Epoch 33/100\n",
            "158/158 [==============================] - 23s 145ms/step - loss: 1.6679e-04 - accuracy: 1.0000 - mse: 1.6679e-04 - val_loss: 0.1410 - val_accuracy: 0.8167 - val_mse: 0.1410\n",
            "Epoch 34/100\n",
            "158/158 [==============================] - 23s 145ms/step - loss: 1.0299e-04 - accuracy: 1.0000 - mse: 1.0299e-04 - val_loss: 0.1435 - val_accuracy: 0.8163 - val_mse: 0.1435\n",
            "Epoch 35/100\n",
            "158/158 [==============================] - 23s 143ms/step - loss: 1.1096e-04 - accuracy: 1.0000 - mse: 1.1096e-04 - val_loss: 0.1310 - val_accuracy: 0.8194 - val_mse: 0.1310\n",
            "Epoch 36/100\n",
            "158/158 [==============================] - 23s 143ms/step - loss: 1.1809e-04 - accuracy: 1.0000 - mse: 1.1809e-04 - val_loss: 0.1444 - val_accuracy: 0.8151 - val_mse: 0.1444\n",
            "Epoch 37/100\n",
            "158/158 [==============================] - 23s 145ms/step - loss: 1.0147e-04 - accuracy: 1.0000 - mse: 1.0147e-04 - val_loss: 0.1419 - val_accuracy: 0.8159 - val_mse: 0.1419\n",
            "Epoch 38/100\n",
            "158/158 [==============================] - 23s 145ms/step - loss: 1.2190e-04 - accuracy: 1.0000 - mse: 1.2190e-04 - val_loss: 0.1419 - val_accuracy: 0.8254 - val_mse: 0.1419\n",
            "Epoch 39/100\n",
            "158/158 [==============================] - 23s 145ms/step - loss: 0.0040 - accuracy: 0.9972 - mse: 0.0040 - val_loss: 0.1607 - val_accuracy: 0.8083 - val_mse: 0.1607\n",
            "Epoch 40/100\n",
            "158/158 [==============================] - 24s 150ms/step - loss: 0.0012 - accuracy: 0.9996 - mse: 0.0012 - val_loss: 0.0960 - val_accuracy: 0.8889 - val_mse: 0.0960\n",
            "Epoch 41/100\n",
            "158/158 [==============================] - 23s 143ms/step - loss: 2.2911e-04 - accuracy: 1.0000 - mse: 2.2911e-04 - val_loss: 0.1093 - val_accuracy: 0.8754 - val_mse: 0.1093\n",
            "Epoch 42/100\n",
            "158/158 [==============================] - 24s 152ms/step - loss: 1.4058e-04 - accuracy: 1.0000 - mse: 1.4058e-04 - val_loss: 0.0925 - val_accuracy: 0.8929 - val_mse: 0.0925\n",
            "Epoch 43/100\n",
            "158/158 [==============================] - 23s 145ms/step - loss: 9.8639e-05 - accuracy: 1.0000 - mse: 9.8639e-05 - val_loss: 0.0984 - val_accuracy: 0.8853 - val_mse: 0.0984\n",
            "Epoch 44/100\n",
            "158/158 [==============================] - 23s 145ms/step - loss: 1.4406e-04 - accuracy: 1.0000 - mse: 1.4406e-04 - val_loss: 0.0991 - val_accuracy: 0.8853 - val_mse: 0.0991\n",
            "Epoch 45/100\n",
            "158/158 [==============================] - 23s 145ms/step - loss: 8.5818e-05 - accuracy: 1.0000 - mse: 8.5818e-05 - val_loss: 0.0953 - val_accuracy: 0.8865 - val_mse: 0.0953\n",
            "Epoch 46/100\n",
            "158/158 [==============================] - 23s 145ms/step - loss: 1.0497e-04 - accuracy: 1.0000 - mse: 1.0497e-04 - val_loss: 0.1046 - val_accuracy: 0.8802 - val_mse: 0.1046\n",
            "Epoch 47/100\n",
            "158/158 [==============================] - 24s 153ms/step - loss: 8.5289e-05 - accuracy: 1.0000 - mse: 8.5289e-05 - val_loss: 0.0841 - val_accuracy: 0.8988 - val_mse: 0.0841\n",
            "Epoch 48/100\n",
            "158/158 [==============================] - 24s 153ms/step - loss: 1.1111e-04 - accuracy: 1.0000 - mse: 1.1111e-04 - val_loss: 0.0818 - val_accuracy: 0.9024 - val_mse: 0.0818\n",
            "Epoch 49/100\n",
            "158/158 [==============================] - 23s 143ms/step - loss: 6.4785e-05 - accuracy: 1.0000 - mse: 6.4785e-05 - val_loss: 0.0875 - val_accuracy: 0.8972 - val_mse: 0.0875\n",
            "Epoch 50/100\n",
            "158/158 [==============================] - 23s 145ms/step - loss: 1.0093e-04 - accuracy: 1.0000 - mse: 1.0093e-04 - val_loss: 0.0879 - val_accuracy: 0.8956 - val_mse: 0.0879\n",
            "Epoch 51/100\n",
            "158/158 [==============================] - 23s 145ms/step - loss: 7.0685e-05 - accuracy: 1.0000 - mse: 7.0685e-05 - val_loss: 0.0899 - val_accuracy: 0.8925 - val_mse: 0.0899\n",
            "Epoch 52/100\n",
            "158/158 [==============================] - 23s 145ms/step - loss: 6.2726e-05 - accuracy: 1.0000 - mse: 6.2726e-05 - val_loss: 0.0868 - val_accuracy: 0.8937 - val_mse: 0.0868\n",
            "Epoch 53/100\n",
            "158/158 [==============================] - 23s 145ms/step - loss: 5.5324e-05 - accuracy: 1.0000 - mse: 5.5324e-05 - val_loss: 0.0832 - val_accuracy: 0.8996 - val_mse: 0.0832\n",
            "Epoch 54/100\n",
            "158/158 [==============================] - 23s 145ms/step - loss: 7.5424e-05 - accuracy: 1.0000 - mse: 7.5424e-05 - val_loss: 0.0879 - val_accuracy: 0.8944 - val_mse: 0.0879\n",
            "Epoch 55/100\n",
            "158/158 [==============================] - 24s 153ms/step - loss: 9.3932e-05 - accuracy: 1.0000 - mse: 9.3932e-05 - val_loss: 0.0747 - val_accuracy: 0.9187 - val_mse: 0.0747\n",
            "Epoch 56/100\n",
            "158/158 [==============================] - 23s 145ms/step - loss: 0.0035 - accuracy: 0.9969 - mse: 0.0035 - val_loss: 0.1543 - val_accuracy: 0.8067 - val_mse: 0.1543\n",
            "Epoch 57/100\n",
            "158/158 [==============================] - 23s 145ms/step - loss: 8.1299e-04 - accuracy: 0.9995 - mse: 8.1299e-04 - val_loss: 0.0839 - val_accuracy: 0.9095 - val_mse: 0.0839\n",
            "Epoch 58/100\n",
            "158/158 [==============================] - 23s 145ms/step - loss: 1.6331e-04 - accuracy: 1.0000 - mse: 1.6331e-04 - val_loss: 0.0878 - val_accuracy: 0.8996 - val_mse: 0.0878\n",
            "Epoch 59/100\n",
            "158/158 [==============================] - 23s 145ms/step - loss: 8.9757e-05 - accuracy: 1.0000 - mse: 8.9757e-05 - val_loss: 0.0871 - val_accuracy: 0.9032 - val_mse: 0.0871\n",
            "Epoch 60/100\n",
            "158/158 [==============================] - 23s 145ms/step - loss: 9.8740e-05 - accuracy: 1.0000 - mse: 9.8740e-05 - val_loss: 0.0840 - val_accuracy: 0.9052 - val_mse: 0.0840\n",
            "Epoch 61/100\n",
            "158/158 [==============================] - 23s 145ms/step - loss: 6.5441e-05 - accuracy: 1.0000 - mse: 6.5441e-05 - val_loss: 0.0801 - val_accuracy: 0.9083 - val_mse: 0.0801\n",
            "Epoch 62/100\n",
            "158/158 [==============================] - 23s 145ms/step - loss: 6.8677e-05 - accuracy: 1.0000 - mse: 6.8677e-05 - val_loss: 0.0812 - val_accuracy: 0.9079 - val_mse: 0.0812\n",
            "Epoch 63/100\n",
            "158/158 [==============================] - 23s 145ms/step - loss: 6.1745e-05 - accuracy: 1.0000 - mse: 6.1745e-05 - val_loss: 0.0812 - val_accuracy: 0.9071 - val_mse: 0.0812\n",
            "Epoch 64/100\n",
            "158/158 [==============================] - 22s 142ms/step - loss: 8.3601e-05 - accuracy: 1.0000 - mse: 8.3601e-05 - val_loss: 0.0825 - val_accuracy: 0.9052 - val_mse: 0.0825\n",
            "Epoch 65/100\n",
            "158/158 [==============================] - 23s 145ms/step - loss: 7.3827e-05 - accuracy: 1.0000 - mse: 7.3827e-05 - val_loss: 0.0808 - val_accuracy: 0.9060 - val_mse: 0.0808\n",
            "Epoch 65: early stopping\n"
          ]
        }
      ],
      "source": [
        "model.compile(optimizer='adam',\n",
        "              loss='mse',\n",
        "              metrics=['accuracy','mse'])\n",
        "\n",
        "#Funcka umożliwia zatrzymanie się uczenia \n",
        "#gdy wartość strat przstanie maleć\n",
        "EarlyStop = EarlyStopping(monitor='val_loss',  \n",
        "                          verbose=1, \n",
        "                          patience=10)\n",
        "\n",
        "\n",
        "ModelCheck = ModelCheckpoint(filepath='/content/drive/MyDrive/Sieci_rozszerzenie/Zlaczone_kolumny/Model_zlaczone_kolumny.h5',\n",
        "                             monitor='val_loss',\n",
        "                             save_best_only=True)\n",
        "\n",
        "history = model.fit(x=x_train, \n",
        "                    y=y_train, \n",
        "                    epochs=100,\n",
        "                    batch_size=128,\n",
        "                    #validation_split=0.1,\n",
        "                    validation_data = (x_valid, y_valid),\n",
        "                    callbacks = [EarlyStop, ModelCheck]\n",
        "                   )"
      ]
    },
    {
      "cell_type": "code",
      "execution_count": 20,
      "id": "3680f8c1",
      "metadata": {
        "colab": {
          "base_uri": "https://localhost:8080/",
          "height": 300
        },
        "id": "3680f8c1",
        "outputId": "a4562ae2-964d-419f-dea8-701fbb5bfd0e",
        "scrolled": true
      },
      "outputs": [
        {
          "output_type": "execute_result",
          "data": {
            "text/plain": [
              "<matplotlib.legend.Legend at 0x7f70a82255e0>"
            ]
          },
          "metadata": {},
          "execution_count": 20
        },
        {
          "output_type": "display_data",
          "data": {
            "text/plain": [
              "<Figure size 432x288 with 1 Axes>"
            ],
            "image/png": "[encoded data removed]"
          },
          "metadata": {
            "needs_background": "light"
          }
        }
      ],
      "source": [
        "plt.plot(history.history['loss'], label='strata')\n",
        "plt.plot(history.history['val_loss'], label = 'strata walidacyjna')\n",
        "plt.xlabel('Epoka')\n",
        "plt.ylabel('Strata')\n",
        "plt.ylim([0.0, 0.5])\n",
        "plt.legend(loc='upper right')"
      ]
    },
    {
      "cell_type": "code",
      "execution_count": 21,
      "id": "fe8633db",
      "metadata": {
        "colab": {
          "base_uri": "https://localhost:8080/",
          "height": 300
        },
        "id": "fe8633db",
        "outputId": "053233a5-99e5-46d5-d1f3-abfc81111f2e"
      },
      "outputs": [
        {
          "output_type": "execute_result",
          "data": {
            "text/plain": [
              "<matplotlib.legend.Legend at 0x7f70a821ae80>"
            ]
          },
          "metadata": {},
          "execution_count": 21
        },
        {
          "output_type": "display_data",
          "data": {
            "text/plain": [
              "<Figure size 432x288 with 1 Axes>"
            ],
            "image/png": "[encoded data removed]"
          },
          "metadata": {
            "needs_background": "light"
          }
        }
      ],
      "source": [
        "plt.plot(history.history['accuracy'], label='precyzja')\n",
        "plt.plot(history.history['val_accuracy'], label = 'precyzja walidacyjna')\n",
        "plt.xlabel('Epoka')\n",
        "plt.ylabel('Precyzja')\n",
        "plt.ylim([0.5, 1])\n",
        "plt.legend(loc='lower right')"
      ]
    },
    {
      "cell_type": "code",
      "execution_count": 22,
      "id": "194f39e9",
      "metadata": {
        "id": "194f39e9"
      },
      "outputs": [],
      "source": [
        "best_model = tf.keras.models.load_model('/content/drive/MyDrive/Sieci_rozszerzenie/Zlaczone_kolumny/Model_zlaczone_kolumny.h5')"
      ]
    },
    {
      "cell_type": "code",
      "execution_count": 23,
      "id": "ewHB7W_bskUm",
      "metadata": {
        "colab": {
          "base_uri": "https://localhost:8080/"
        },
        "id": "ewHB7W_bskUm",
        "outputId": "1e3b8ecc-d6d3-4df3-a335-dad313fdb1fc"
      },
      "outputs": [
        {
          "output_type": "stream",
          "name": "stdout",
          "text": [
            "79/79 - 1s - loss: 0.2950 - accuracy: 0.6857 - mse: 0.2950 - 1s/epoch - 19ms/step\n"
          ]
        },
        {
          "output_type": "execute_result",
          "data": {
            "text/plain": [
              "[0.2950214430226569, 0.6857142857142857, 0.2950214430226569]"
            ]
          },
          "metadata": {},
          "execution_count": 23
        }
      ],
      "source": [
        "best_model.evaluate(x_test,  y_test, verbose=2)"
      ]
    },
    {
      "cell_type": "code",
      "execution_count": 24,
      "id": "UXFfOAksska6",
      "metadata": {
        "colab": {
          "base_uri": "https://localhost:8080/"
        },
        "id": "UXFfOAksska6",
        "outputId": "ee62e33b-cfe7-4427-bad9-dd60f05fc7c8"
      },
      "outputs": [
        {
          "output_type": "stream",
          "name": "stdout",
          "text": [
            "79/79 [==============================] - 1s 13ms/step\n"
          ]
        }
      ],
      "source": [
        "predict_x = best_model.predict(x_test) \n",
        "\n",
        "predictions = (predict_x > 0.5).astype(\"int32\")"
      ]
    },
    {
      "cell_type": "code",
      "execution_count": 25,
      "id": "u4OPDhfgskeU",
      "metadata": {
        "colab": {
          "base_uri": "https://localhost:8080/"
        },
        "id": "u4OPDhfgskeU",
        "outputId": "66ac9252-3181-46df-c922-3733ff25616c"
      },
      "outputs": [
        {
          "output_type": "stream",
          "name": "stdout",
          "text": [
            "[['Tn' 'Nn']\n",
            " ['Np' 'Tp']]\n",
            "tf.Tensor(\n",
            "[[ 469  791]\n",
            " [   1 1259]], shape=(2, 2), dtype=int32)\n"
          ]
        }
      ],
      "source": [
        "names = [['Tn','Nn'],['Np', 'Tp']]\n",
        "names = np.reshape(names,(2,2))\n",
        "print(names)\n",
        "\n",
        "conf = tf.math.confusion_matrix(y_test,predictions)\n",
        "\n",
        "print(conf)"
      ]
    },
    {
      "cell_type": "code",
      "source": [
        "#Zapisanie danych statystycznych do plików csv\n",
        "np.array(history.history['accuracy']).tofile(folder+'accuracy.csv', sep = '\\n') \n",
        "np.array(history.history['val_accuracy']).tofile(folder+'val_accuracy.csv', sep = '\\n') \n",
        "np.array(history.history['loss']).tofile(folder+'loss.csv', sep = '\\n') \n",
        "np.array(history.history['val_loss']).tofile(folder+'val_loss.csv', sep = '\\n') \n",
        "\n",
        "predictions.tofile(folder+'predictions.csv', sep = '\\n') \n",
        "predict_x.tofile(folder+'predict_x.csv', sep = '\\n') "
      ],
      "metadata": {
        "id": "oU_pK1pQrj7g"
      },
      "id": "oU_pK1pQrj7g",
      "execution_count": 26,
      "outputs": []
    }
  ],
  "metadata": {
    "accelerator": "GPU",
    "colab": {
      "provenance": [],
      "include_colab_link": true
    },
    "gpuClass": "standard",
    "kernelspec": {
      "display_name": "Python 3",
      "name": "python3"
    },
    "language_info": {
      "name": "python"
    }
  },
  "nbformat": 4,
  "nbformat_minor": 5
}