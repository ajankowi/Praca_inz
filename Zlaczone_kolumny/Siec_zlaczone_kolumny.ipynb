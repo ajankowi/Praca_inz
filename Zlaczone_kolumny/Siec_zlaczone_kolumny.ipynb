{
  "cells": [
    {
      "cell_type": "markdown",
      "metadata": {
        "id": "view-in-github",
        "colab_type": "text"
      },
      "source": [
        "<a href=\"https://colab.research.google.com/github/ajankowi/Praca_inz/blob/master/Zlaczone_kolumny/Siec_zlaczone_kolumny.ipynb\" target=\"_parent\"><img src=\"https://colab.research.google.com/assets/colab-badge.svg\" alt=\"Open In Colab\"/></a>"
      ]
    },
    {
      "cell_type": "code",
      "execution_count": 1,
      "id": "613f08b5",
      "metadata": {
        "colab": {
          "base_uri": "https://localhost:8080/"
        },
        "id": "613f08b5",
        "outputId": "6467c08b-757e-4f6d-afb4-7e04137ac5fa"
      },
      "outputs": [
        {
          "output_type": "stream",
          "name": "stdout",
          "text": [
            "3.8.10 (default, Nov 14 2022, 12:59:47) \n",
            "[GCC 9.4.0]\n"
          ]
        }
      ],
      "source": [
        "import sys\n",
        "print(sys.version)"
      ]
    },
    {
      "cell_type": "code",
      "execution_count": 2,
      "id": "0n78XAHmDiUv",
      "metadata": {
        "colab": {
          "base_uri": "https://localhost:8080/"
        },
        "id": "0n78XAHmDiUv",
        "outputId": "336f4537-c26d-483c-ea82-d66b4ceb0074"
      },
      "outputs": [
        {
          "output_type": "stream",
          "name": "stdout",
          "text": [
            "Mounted at /content/drive\n"
          ]
        }
      ],
      "source": [
        "from google.colab import drive\n",
        "drive.mount(\"/content/drive\", force_remount=True)"
      ]
    },
    {
      "cell_type": "code",
      "execution_count": 3,
      "id": "5eca1117",
      "metadata": {
        "colab": {
          "base_uri": "https://localhost:8080/"
        },
        "id": "5eca1117",
        "outputId": "aaedd9e0-891e-4542-95ee-e2859bc11abc"
      },
      "outputs": [
        {
          "output_type": "stream",
          "name": "stdout",
          "text": [
            "TensorFlow version: 2.11.0\n"
          ]
        }
      ],
      "source": [
        "import tensorflow as tf\n",
        "from tensorflow import keras\n",
        "from keras import layers, models, regularizers\n",
        "from keras.layers import Flatten, add, Dense, Dropout \n",
        "from keras.callbacks import ModelCheckpoint, EarlyStopping\n",
        "\n",
        "\n",
        "print(\"TensorFlow version:\", tf.__version__)\n",
        "tf.keras.backend.set_floatx('float64')"
      ]
    },
    {
      "cell_type": "code",
      "execution_count": 4,
      "id": "12022d37",
      "metadata": {
        "id": "12022d37"
      },
      "outputs": [],
      "source": [
        "import matplotlib.pyplot as plt\n",
        "import numpy as np\n",
        "import pandas as pd\n",
        "import seaborn as sns\n",
        "from PIL import Image\n",
        "import os\n",
        "import csv\n",
        "import random\n",
        "\n",
        "import cv2\n",
        "import imutils\n",
        "import glob\n",
        "# Make NumPy printouts easier to read.\n",
        "np.set_printoptions(precision=3, suppress=True)"
      ]
    },
    {
      "cell_type": "code",
      "execution_count": 5,
      "id": "1086f893",
      "metadata": {
        "id": "1086f893"
      },
      "outputs": [],
      "source": [
        "#Określenie ścieżek do plików\n",
        "test_csv = 'Test/test.csv'\n",
        "valid_csv = 'Valid/valid.csv'\n",
        "train_csv = 'Train/train.csv'\n",
        "\n",
        "folder = '/content/drive/MyDrive/Sieci_rozszerzenie/Zlaczone_kolumny/'\n",
        "slesh = '/'\n",
        "png = '.png'"
      ]
    },
    {
      "cell_type": "code",
      "execution_count": 6,
      "id": "P6mVaPsPDDID",
      "metadata": {
        "id": "P6mVaPsPDDID"
      },
      "outputs": [],
      "source": [
        "#!unzip '/content/drive/MyDrive/Sieci_rozszerzenie/Zlaczone_kolumny/Train/Train.zip' -d '/content/train/'\n",
        "#!unzip '/content/drive/MyDrive/Sieci_rozszerzenie/Zlaczone_kolumny/Valid/Valid.zip' -d '/content/valid/'\n",
        "#!unzip '/content/drive/MyDrive/Sieci_rozszerzenie/Zlaczone_kolumny/Test/Test.zip' -d '/content/test/'"
      ]
    },
    {
      "cell_type": "code",
      "execution_count": 7,
      "id": "723b71fc",
      "metadata": {
        "id": "723b71fc"
      },
      "outputs": [],
      "source": [
        "def release_list(a):\n",
        "    \n",
        "    del a[:]\n",
        "    del a"
      ]
    },
    {
      "cell_type": "code",
      "execution_count": 8,
      "id": "5beb89e7",
      "metadata": {
        "colab": {
          "base_uri": "https://localhost:8080/"
        },
        "id": "5beb89e7",
        "outputId": "3ebdd8f3-5545-435d-e1b4-743fd66a270a"
      },
      "outputs": [
        {
          "output_type": "stream",
          "name": "stdout",
          "text": [
            "20160\n"
          ]
        }
      ],
      "source": [
        "#Wczytanie etykiet do treninegu \n",
        "\n",
        "with open(folder+train_csv,\"r\") as csvfile:\n",
        "    lines = csvfile.readlines()\n",
        "csvfile.close()\n",
        "\n",
        "new = []\n",
        "\n",
        "for i in lines:\n",
        "    new.append(i.split(\" \"))\n",
        "\n",
        "    \n",
        "value_train = []\n",
        "for i in new[0]:\n",
        "    value_train.append(int(i))    \n",
        "    \n",
        "print(len(value_train))"
      ]
    },
    {
      "cell_type": "code",
      "source": [
        "#Wczytanie etykiet do treninegu \n",
        "\n",
        "with open(folder+valid_csv,\"r\") as csvfile:\n",
        "    lines = csvfile.readlines()\n",
        "csvfile.close()\n",
        "\n",
        "new = []\n",
        "\n",
        "for i in lines:\n",
        "    new.append(i.split(\" \"))\n",
        "\n",
        "    \n",
        "value_valid = []\n",
        "for i in new[0]:\n",
        "    value_valid.append(int(i))    \n",
        "    \n",
        "print(len(value_valid))"
      ],
      "metadata": {
        "colab": {
          "base_uri": "https://localhost:8080/"
        },
        "id": "81v7kN-MjQlr",
        "outputId": "f8e2906f-e79e-423f-db4b-7a71fa808fe2"
      },
      "id": "81v7kN-MjQlr",
      "execution_count": 9,
      "outputs": [
        {
          "output_type": "stream",
          "name": "stdout",
          "text": [
            "2520\n"
          ]
        }
      ]
    },
    {
      "cell_type": "code",
      "execution_count": 10,
      "id": "b9FTBM2X68V7",
      "metadata": {
        "colab": {
          "base_uri": "https://localhost:8080/"
        },
        "id": "b9FTBM2X68V7",
        "outputId": "2b255de0-0646-4675-a327-3a31f291facc"
      },
      "outputs": [
        {
          "output_type": "stream",
          "name": "stdout",
          "text": [
            "2520\n"
          ]
        }
      ],
      "source": [
        "#Wczytanie etykiet do testowania\n",
        "\n",
        "with open(folder+test_csv,\"r\") as csvfile:\n",
        "    lines = csvfile.readlines()\n",
        "csvfile.close()\n",
        "\n",
        "new = []\n",
        "\n",
        "for i in lines:\n",
        "    new.append(i.split(\" \"))\n",
        "\n",
        "    \n",
        "value_test = []\n",
        "for i in new[0]:\n",
        "    value_test.append(int(i))    \n",
        "    \n",
        "print(len(value_test))"
      ]
    },
    {
      "cell_type": "code",
      "execution_count": 11,
      "id": "d9cb09d8",
      "metadata": {
        "colab": {
          "base_uri": "https://localhost:8080/"
        },
        "id": "d9cb09d8",
        "outputId": "11be7521-e066-4181-9b2c-4c5b3de93218"
      },
      "outputs": [
        {
          "output_type": "stream",
          "name": "stdout",
          "text": [
            "20160\n"
          ]
        }
      ],
      "source": [
        "#Wczytanie zdjęć treningowych (80% całego zbioru)\n",
        "images_train = []\n",
        "size = len(value_train)\n",
        "\n",
        "for i in range(size):\n",
        "    im = Image.open('/content/train/'+str(i)+'.png')\n",
        "    arr_im = np.array(im) \n",
        "    arr_im = arr_im / 255.0\n",
        "    images_train.append(arr_im) \n",
        "print(len(images_train))"
      ]
    },
    {
      "cell_type": "code",
      "source": [
        "#Wczytanie zdjęć walidacji (10% całego zbioru)\n",
        "images_valid = []\n",
        "size = len(value_valid)\n",
        "\n",
        "for i in range(size):\n",
        "    im = Image.open('/content/valid/'+str(i)+'.png')\n",
        "    arr_im = np.array(im) \n",
        "    arr_im = arr_im / 255.0\n",
        "    images_valid.append(arr_im) \n",
        "print(len(images_valid))"
      ],
      "metadata": {
        "colab": {
          "base_uri": "https://localhost:8080/"
        },
        "id": "ejTH7UQCjv4_",
        "outputId": "ee18c369-e4c7-4411-fd28-509deb108105"
      },
      "id": "ejTH7UQCjv4_",
      "execution_count": 12,
      "outputs": [
        {
          "output_type": "stream",
          "name": "stdout",
          "text": [
            "2520\n"
          ]
        }
      ]
    },
    {
      "cell_type": "code",
      "execution_count": 13,
      "id": "jyIF3G2Q6_eq",
      "metadata": {
        "colab": {
          "base_uri": "https://localhost:8080/"
        },
        "id": "jyIF3G2Q6_eq",
        "outputId": "84beaa65-1a70-432a-f1ea-6a247d48ff9a"
      },
      "outputs": [
        {
          "output_type": "stream",
          "name": "stdout",
          "text": [
            "2520\n"
          ]
        }
      ],
      "source": [
        "#Wczytanie zdjęć testowych (10% całego zbioru)\n",
        "images_test = []\n",
        "size = len(value_test)\n",
        "\n",
        "for i in range(size):\n",
        "    im = Image.open('/content/test/'+str(i)+'.png')\n",
        "    arr_im = np.array(im) \n",
        "    arr_im = arr_im / 255.0\n",
        "    images_test.append(arr_im) \n",
        "print(len(images_test))"
      ]
    },
    {
      "cell_type": "code",
      "execution_count": 14,
      "id": "f7f4dd4b",
      "metadata": {
        "id": "f7f4dd4b"
      },
      "outputs": [],
      "source": [
        "x_train = np.array(images_train)\n",
        "y_train = np.array(value_train)\n",
        "\n",
        "x_valid = np.array(images_valid)\n",
        "y_valid = np.array(value_valid)\n",
        "\n",
        "x_test = np.array(images_test)\n",
        "y_test = np.array(value_test)"
      ]
    },
    {
      "cell_type": "code",
      "execution_count": 15,
      "id": "d3a370cb",
      "metadata": {
        "colab": {
          "base_uri": "https://localhost:8080/",
          "height": 285
        },
        "id": "d3a370cb",
        "outputId": "3ceb49db-5728-400d-be7b-8295d92de4ea"
      },
      "outputs": [
        {
          "output_type": "stream",
          "name": "stdout",
          "text": [
            "0\n"
          ]
        },
        {
          "output_type": "display_data",
          "data": {
            "text/plain": [
              "<Figure size 432x288 with 1 Axes>"
            ],
            "image/png": "[encoded data removed]"
          },
          "metadata": {
            "needs_background": "light"
          }
        }
      ],
      "source": [
        "a = 15000\n",
        "plt.imshow(x_train[a],cmap = 'gray')\n",
        "print(y_train[a])"
      ]
    },
    {
      "cell_type": "code",
      "execution_count": 16,
      "id": "772c7d7c",
      "metadata": {
        "id": "772c7d7c"
      },
      "outputs": [],
      "source": [
        "model = models.Sequential()\n",
        "model.add(layers.Conv2D(32, (3, 3), activation='relu', input_shape=(128, 64, 1)))\n",
        "model.add(layers.MaxPooling2D((2, 2)))\n",
        "model.add(layers.BatchNormalization())\n",
        "\n",
        "model.add(layers.Conv2D(32, (3, 3), activation='relu'))\n",
        "model.add(layers.MaxPooling2D((2, 2)))\n",
        "model.add(layers.BatchNormalization())\n",
        "\n",
        "model.add(layers.Conv2D(64, (3, 3), activation='relu'))\n",
        "model.add(layers.MaxPooling2D((2, 2)))\n",
        "model.add(layers.BatchNormalization())\n",
        "\n",
        "model.add(layers.Conv2D(64, (3, 3), activation='relu'))\n",
        "model.add(layers.MaxPooling2D((2, 2)))\n",
        "model.add(layers.BatchNormalization())\n",
        "\n",
        "model.add(layers.Flatten())\n",
        "model.add(layers.Dense(64, activation='relu'))\n",
        "model.add(layers.Dense(1, activation='relu'))\n"
      ]
    },
    {
      "cell_type": "code",
      "execution_count": 17,
      "id": "b86f72df",
      "metadata": {
        "colab": {
          "base_uri": "https://localhost:8080/"
        },
        "id": "b86f72df",
        "outputId": "6b7a25e7-2992-4993-c43d-6c5386c8b776"
      },
      "outputs": [
        {
          "output_type": "stream",
          "name": "stdout",
          "text": [
            "Model: \"sequential\"\n",
            "_________________________________________________________________\n",
            " Layer (type)                Output Shape              Param #   \n",
            "=================================================================\n",
            " conv2d (Conv2D)             (None, 126, 62, 32)       320       \n",
            "                                                                 \n",
            " max_pooling2d (MaxPooling2D  (None, 63, 31, 32)       0         \n",
            " )                                                               \n",
            "                                                                 \n",
            " batch_normalization (BatchN  (None, 63, 31, 32)       128       \n",
            " ormalization)                                                   \n",
            "                                                                 \n",
            " conv2d_1 (Conv2D)           (None, 61, 29, 32)        9248      \n",
            "                                                                 \n",
            " max_pooling2d_1 (MaxPooling  (None, 30, 14, 32)       0         \n",
            " 2D)                                                             \n",
            "                                                                 \n",
            " batch_normalization_1 (Batc  (None, 30, 14, 32)       128       \n",
            " hNormalization)                                                 \n",
            "                                                                 \n",
            " conv2d_2 (Conv2D)           (None, 28, 12, 64)        18496     \n",
            "                                                                 \n",
            " max_pooling2d_2 (MaxPooling  (None, 14, 6, 64)        0         \n",
            " 2D)                                                             \n",
            "                                                                 \n",
            " batch_normalization_2 (Batc  (None, 14, 6, 64)        256       \n",
            " hNormalization)                                                 \n",
            "                                                                 \n",
            " conv2d_3 (Conv2D)           (None, 12, 4, 64)         36928     \n",
            "                                                                 \n",
            " max_pooling2d_3 (MaxPooling  (None, 6, 2, 64)         0         \n",
            " 2D)                                                             \n",
            "                                                                 \n",
            " batch_normalization_3 (Batc  (None, 6, 2, 64)         256       \n",
            " hNormalization)                                                 \n",
            "                                                                 \n",
            " flatten (Flatten)           (None, 768)               0         \n",
            "                                                                 \n",
            " dense (Dense)               (None, 64)                49216     \n",
            "                                                                 \n",
            " dense_1 (Dense)             (None, 1)                 65        \n",
            "                                                                 \n",
            "=================================================================\n",
            "Total params: 115,041\n",
            "Trainable params: 114,657\n",
            "Non-trainable params: 384\n",
            "_________________________________________________________________\n"
          ]
        }
      ],
      "source": [
        "model.summary()"
      ]
    },
    {
      "cell_type": "code",
      "execution_count": 18,
      "id": "9beb77e5",
      "metadata": {
        "colab": {
          "base_uri": "https://localhost:8080/"
        },
        "id": "9beb77e5",
        "outputId": "832e12d7-47cb-4e60-84c1-5fd624b0e6a5"
      },
      "outputs": [
        {
          "output_type": "stream",
          "name": "stdout",
          "text": [
            "Epoch 1/100\n",
            "158/158 [==============================] - 35s 170ms/step - loss: 0.2697 - accuracy: 0.7363 - mse: 0.2697 - val_loss: 0.4922 - val_accuracy: 0.5000 - val_mse: 0.4922\n",
            "Epoch 2/100\n",
            "158/158 [==============================] - 26s 163ms/step - loss: 0.0104 - accuracy: 0.9938 - mse: 0.0104 - val_loss: 0.6371 - val_accuracy: 0.5000 - val_mse: 0.6371\n",
            "Epoch 3/100\n",
            "158/158 [==============================] - 27s 170ms/step - loss: 0.0039 - accuracy: 0.9989 - mse: 0.0039 - val_loss: 0.4779 - val_accuracy: 0.5048 - val_mse: 0.4779\n",
            "Epoch 4/100\n",
            "158/158 [==============================] - 27s 170ms/step - loss: 0.0024 - accuracy: 0.9996 - mse: 0.0024 - val_loss: 0.2804 - val_accuracy: 0.6786 - val_mse: 0.2804\n",
            "Epoch 5/100\n",
            "158/158 [==============================] - 27s 168ms/step - loss: 0.0018 - accuracy: 0.9999 - mse: 0.0018 - val_loss: 0.2281 - val_accuracy: 0.7448 - val_mse: 0.2281\n",
            "Epoch 6/100\n",
            "158/158 [==============================] - 27s 169ms/step - loss: 0.0014 - accuracy: 1.0000 - mse: 0.0014 - val_loss: 0.2165 - val_accuracy: 0.7524 - val_mse: 0.2165\n",
            "Epoch 7/100\n",
            "158/158 [==============================] - 25s 161ms/step - loss: 0.0011 - accuracy: 1.0000 - mse: 0.0011 - val_loss: 0.2173 - val_accuracy: 0.7409 - val_mse: 0.2173\n",
            "Epoch 8/100\n",
            "158/158 [==============================] - 27s 168ms/step - loss: 8.4073e-04 - accuracy: 1.0000 - mse: 8.4073e-04 - val_loss: 0.2091 - val_accuracy: 0.7595 - val_mse: 0.2091\n",
            "Epoch 9/100\n",
            "158/158 [==============================] - 25s 160ms/step - loss: 7.7080e-04 - accuracy: 1.0000 - mse: 7.7080e-04 - val_loss: 0.2121 - val_accuracy: 0.7385 - val_mse: 0.2121\n",
            "Epoch 10/100\n",
            "158/158 [==============================] - 25s 160ms/step - loss: 5.5276e-04 - accuracy: 1.0000 - mse: 5.5276e-04 - val_loss: 0.2107 - val_accuracy: 0.7563 - val_mse: 0.2107\n",
            "Epoch 11/100\n",
            "158/158 [==============================] - 27s 170ms/step - loss: 5.2405e-04 - accuracy: 1.0000 - mse: 5.2405e-04 - val_loss: 0.2013 - val_accuracy: 0.7730 - val_mse: 0.2013\n",
            "Epoch 12/100\n",
            "158/158 [==============================] - 25s 160ms/step - loss: 4.5317e-04 - accuracy: 1.0000 - mse: 4.5317e-04 - val_loss: 0.2042 - val_accuracy: 0.7472 - val_mse: 0.2042\n",
            "Epoch 13/100\n",
            "158/158 [==============================] - 26s 168ms/step - loss: 4.1296e-04 - accuracy: 1.0000 - mse: 4.1296e-04 - val_loss: 0.1845 - val_accuracy: 0.7667 - val_mse: 0.1845\n",
            "Epoch 14/100\n",
            "158/158 [==============================] - 26s 163ms/step - loss: 4.0492e-04 - accuracy: 1.0000 - mse: 4.0492e-04 - val_loss: 0.1884 - val_accuracy: 0.7560 - val_mse: 0.1884\n",
            "Epoch 15/100\n",
            "158/158 [==============================] - 26s 163ms/step - loss: 4.0866e-04 - accuracy: 1.0000 - mse: 4.0866e-04 - val_loss: 0.1960 - val_accuracy: 0.7544 - val_mse: 0.1960\n",
            "Epoch 16/100\n",
            "158/158 [==============================] - 26s 162ms/step - loss: 3.2174e-04 - accuracy: 1.0000 - mse: 3.2174e-04 - val_loss: 0.1940 - val_accuracy: 0.7603 - val_mse: 0.1940\n",
            "Epoch 17/100\n",
            "158/158 [==============================] - 27s 170ms/step - loss: 3.7362e-04 - accuracy: 1.0000 - mse: 3.7362e-04 - val_loss: 0.1833 - val_accuracy: 0.7742 - val_mse: 0.1833\n",
            "Epoch 18/100\n",
            "158/158 [==============================] - 26s 162ms/step - loss: 3.7023e-04 - accuracy: 1.0000 - mse: 3.7023e-04 - val_loss: 0.1952 - val_accuracy: 0.7548 - val_mse: 0.1952\n",
            "Epoch 19/100\n",
            "158/158 [==============================] - 26s 163ms/step - loss: 4.1846e-04 - accuracy: 0.9999 - mse: 4.1846e-04 - val_loss: 0.1907 - val_accuracy: 0.7421 - val_mse: 0.1907\n",
            "Epoch 20/100\n",
            "158/158 [==============================] - 26s 163ms/step - loss: 3.5289e-04 - accuracy: 1.0000 - mse: 3.5289e-04 - val_loss: 0.1954 - val_accuracy: 0.7476 - val_mse: 0.1954\n",
            "Epoch 21/100\n",
            "158/158 [==============================] - 25s 160ms/step - loss: 2.7348e-04 - accuracy: 1.0000 - mse: 2.7348e-04 - val_loss: 0.1967 - val_accuracy: 0.7508 - val_mse: 0.1967\n",
            "Epoch 22/100\n",
            "158/158 [==============================] - 25s 160ms/step - loss: 3.6864e-04 - accuracy: 1.0000 - mse: 3.6864e-04 - val_loss: 0.1906 - val_accuracy: 0.7496 - val_mse: 0.1906\n",
            "Epoch 23/100\n",
            "158/158 [==============================] - 27s 171ms/step - loss: 5.0336e-04 - accuracy: 1.0000 - mse: 5.0336e-04 - val_loss: 0.1795 - val_accuracy: 0.7603 - val_mse: 0.1795\n",
            "Epoch 24/100\n",
            "158/158 [==============================] - 26s 163ms/step - loss: 6.2599e-04 - accuracy: 1.0000 - mse: 6.2599e-04 - val_loss: 0.2184 - val_accuracy: 0.7373 - val_mse: 0.2184\n",
            "Epoch 25/100\n",
            "158/158 [==============================] - 26s 162ms/step - loss: 0.0013 - accuracy: 0.9997 - mse: 0.0013 - val_loss: 0.1857 - val_accuracy: 0.7690 - val_mse: 0.1857\n",
            "Epoch 26/100\n",
            "158/158 [==============================] - 27s 168ms/step - loss: 0.0041 - accuracy: 0.9973 - mse: 0.0041 - val_loss: 0.1474 - val_accuracy: 0.7905 - val_mse: 0.1474\n",
            "Epoch 27/100\n",
            "158/158 [==============================] - 25s 161ms/step - loss: 4.4060e-04 - accuracy: 0.9999 - mse: 4.4060e-04 - val_loss: 0.1566 - val_accuracy: 0.7921 - val_mse: 0.1566\n",
            "Epoch 28/100\n",
            "158/158 [==============================] - 26s 162ms/step - loss: 1.5379e-04 - accuracy: 1.0000 - mse: 1.5379e-04 - val_loss: 0.1696 - val_accuracy: 0.7690 - val_mse: 0.1696\n",
            "Epoch 29/100\n",
            "158/158 [==============================] - 26s 162ms/step - loss: 1.1952e-04 - accuracy: 1.0000 - mse: 1.1952e-04 - val_loss: 0.1755 - val_accuracy: 0.7631 - val_mse: 0.1755\n",
            "Epoch 30/100\n",
            "158/158 [==============================] - 26s 163ms/step - loss: 1.0415e-04 - accuracy: 1.0000 - mse: 1.0415e-04 - val_loss: 0.1634 - val_accuracy: 0.7821 - val_mse: 0.1634\n",
            "Epoch 31/100\n",
            "158/158 [==============================] - 25s 161ms/step - loss: 7.7966e-05 - accuracy: 1.0000 - mse: 7.7966e-05 - val_loss: 0.1741 - val_accuracy: 0.7647 - val_mse: 0.1741\n",
            "Epoch 32/100\n",
            "158/158 [==============================] - 26s 163ms/step - loss: 8.2730e-05 - accuracy: 1.0000 - mse: 8.2730e-05 - val_loss: 0.1667 - val_accuracy: 0.7750 - val_mse: 0.1667\n",
            "Epoch 33/100\n",
            "158/158 [==============================] - 25s 161ms/step - loss: 6.8564e-05 - accuracy: 1.0000 - mse: 6.8564e-05 - val_loss: 0.1671 - val_accuracy: 0.7754 - val_mse: 0.1671\n",
            "Epoch 34/100\n",
            "158/158 [==============================] - 26s 163ms/step - loss: 8.3569e-05 - accuracy: 1.0000 - mse: 8.3569e-05 - val_loss: 0.1698 - val_accuracy: 0.7762 - val_mse: 0.1698\n",
            "Epoch 35/100\n",
            "158/158 [==============================] - 26s 163ms/step - loss: 7.3149e-05 - accuracy: 1.0000 - mse: 7.3149e-05 - val_loss: 0.1690 - val_accuracy: 0.7750 - val_mse: 0.1690\n",
            "Epoch 36/100\n",
            "158/158 [==============================] - 25s 161ms/step - loss: 7.8453e-05 - accuracy: 1.0000 - mse: 7.8453e-05 - val_loss: 0.1725 - val_accuracy: 0.7643 - val_mse: 0.1725\n",
            "Epoch 36: early stopping\n"
          ]
        }
      ],
      "source": [
        "model.compile(optimizer='adam',\n",
        "              loss='mse',\n",
        "              metrics=['accuracy','mse'])\n",
        "\n",
        "#Funcka umożliwia zatrzymanie się uczenia \n",
        "#gdy wartość strat przstanie maleć\n",
        "EarlyStop = EarlyStopping(monitor='val_loss',  \n",
        "                          verbose=1, \n",
        "                          patience=10)\n",
        "\n",
        "\n",
        "ModelCheck = ModelCheckpoint(filepath='/content/drive/MyDrive/Sieci_rozszerzenie/Zlaczone_kolumny/Model_zlaczone_kolumny.h5',\n",
        "                             monitor='val_loss',\n",
        "                             save_best_only=True)\n",
        "\n",
        "history = model.fit(x=x_train, \n",
        "                    y=y_train, \n",
        "                    epochs=100,\n",
        "                    batch_size=128,\n",
        "                    #validation_split=0.1,\n",
        "                    validation_data = (x_valid, y_valid),\n",
        "                    callbacks = [EarlyStop, ModelCheck]\n",
        "                   )"
      ]
    },
    {
      "cell_type": "code",
      "execution_count": 19,
      "id": "3680f8c1",
      "metadata": {
        "colab": {
          "base_uri": "https://localhost:8080/",
          "height": 300
        },
        "id": "3680f8c1",
        "outputId": "beb03175-3a3a-4472-d1ce-dbaf762d5fde",
        "scrolled": true
      },
      "outputs": [
        {
          "output_type": "execute_result",
          "data": {
            "text/plain": [
              "<matplotlib.legend.Legend at 0x7fb1d020da90>"
            ]
          },
          "metadata": {},
          "execution_count": 19
        },
        {
          "output_type": "display_data",
          "data": {
            "text/plain": [
              "<Figure size 432x288 with 1 Axes>"
            ],
            "image/png": "[encoded data removed]"
          },
          "metadata": {
            "needs_background": "light"
          }
        }
      ],
      "source": [
        "plt.plot(history.history['loss'], label='strata')\n",
        "plt.plot(history.history['val_loss'], label = 'strata walidacyjna')\n",
        "plt.xlabel('Epoka')\n",
        "plt.ylabel('Strata')\n",
        "plt.ylim([0.0, 0.5])\n",
        "plt.legend(loc='upper right')"
      ]
    },
    {
      "cell_type": "code",
      "execution_count": 20,
      "id": "fe8633db",
      "metadata": {
        "colab": {
          "base_uri": "https://localhost:8080/",
          "height": 300
        },
        "id": "fe8633db",
        "outputId": "e18ed22a-ba9f-4443-f135-292014735ec8"
      },
      "outputs": [
        {
          "output_type": "execute_result",
          "data": {
            "text/plain": [
              "<matplotlib.legend.Legend at 0x7fb1d01d8cd0>"
            ]
          },
          "metadata": {},
          "execution_count": 20
        },
        {
          "output_type": "display_data",
          "data": {
            "text/plain": [
              "<Figure size 432x288 with 1 Axes>"
            ],
            "image/png": "[encoded data removed]"
          },
          "metadata": {
            "needs_background": "light"
          }
        }
      ],
      "source": [
        "plt.plot(history.history['accuracy'], label='precyzja')\n",
        "plt.plot(history.history['val_accuracy'], label = 'precyzja walidacyjna')\n",
        "plt.xlabel('Epoka')\n",
        "plt.ylabel('Precyzja')\n",
        "plt.ylim([0.5, 1])\n",
        "plt.legend(loc='lower right')"
      ]
    },
    {
      "cell_type": "code",
      "execution_count": 21,
      "id": "194f39e9",
      "metadata": {
        "id": "194f39e9"
      },
      "outputs": [],
      "source": [
        "best_model = tf.keras.models.load_model('/content/drive/MyDrive/Sieci_rozszerzenie/Zlaczone_kolumny/Model_zlaczone_kolumny.h5')"
      ]
    },
    {
      "cell_type": "code",
      "execution_count": 22,
      "id": "ewHB7W_bskUm",
      "metadata": {
        "colab": {
          "base_uri": "https://localhost:8080/"
        },
        "id": "ewHB7W_bskUm",
        "outputId": "2d64d912-20e3-4e85-e495-1e33b10672b7"
      },
      "outputs": [
        {
          "output_type": "stream",
          "name": "stdout",
          "text": [
            "79/79 - 2s - loss: 0.2015 - accuracy: 0.7306 - mse: 0.2015 - 2s/epoch - 20ms/step\n"
          ]
        },
        {
          "output_type": "execute_result",
          "data": {
            "text/plain": [
              "[0.20151830687712902, 0.7305555555555555, 0.20151830687712902]"
            ]
          },
          "metadata": {},
          "execution_count": 22
        }
      ],
      "source": [
        "best_model.evaluate(x_test,  y_test, verbose=2)"
      ]
    },
    {
      "cell_type": "code",
      "execution_count": 23,
      "id": "UXFfOAksska6",
      "metadata": {
        "colab": {
          "base_uri": "https://localhost:8080/"
        },
        "id": "UXFfOAksska6",
        "outputId": "e5a57dfb-f040-43a0-d4c2-c403c9972cf2"
      },
      "outputs": [
        {
          "output_type": "stream",
          "name": "stdout",
          "text": [
            "79/79 [==============================] - 1s 12ms/step\n"
          ]
        }
      ],
      "source": [
        "predict_x = best_model.predict(x_test) \n",
        "\n",
        "predictions = (predict_x > 0.5).astype(\"int32\")"
      ]
    },
    {
      "cell_type": "code",
      "execution_count": 24,
      "id": "u4OPDhfgskeU",
      "metadata": {
        "colab": {
          "base_uri": "https://localhost:8080/"
        },
        "id": "u4OPDhfgskeU",
        "outputId": "529f676c-cc5f-4b8b-d00c-5341ab8e6778"
      },
      "outputs": [
        {
          "output_type": "stream",
          "name": "stdout",
          "text": [
            "[['Tn' 'Nn']\n",
            " ['Np' 'Tp']]\n",
            "tf.Tensor(\n",
            "[[ 616  644]\n",
            " [  35 1225]], shape=(2, 2), dtype=int32)\n"
          ]
        }
      ],
      "source": [
        "names = [['Tn','Nn'],['Np', 'Tp']]\n",
        "names = np.reshape(names,(2,2))\n",
        "print(names)\n",
        "\n",
        "conf = tf.math.confusion_matrix(y_test,predictions)\n",
        "\n",
        "print(conf)"
      ]
    },
    {
      "cell_type": "code",
      "source": [
        "#Zapisanie danych statystycznych do plików csv\n",
        "np.array(history.history['accuracy']).tofile(folder+'accuracy.csv', sep = '\\n') \n",
        "np.array(history.history['val_accuracy']).tofile(folder+'val_accuracy.csv', sep = '\\n') \n",
        "np.array(history.history['loss']).tofile(folder+'loss.csv', sep = '\\n') \n",
        "np.array(history.history['val_loss']).tofile(folder+'val_loss.csv', sep = '\\n') \n",
        "\n",
        "predictions.tofile(folder+'predictions.csv', sep = '\\n') \n",
        "predict_x.tofile(folder+'predict_x.csv', sep = '\\n') "
      ],
      "metadata": {
        "id": "oU_pK1pQrj7g"
      },
      "id": "oU_pK1pQrj7g",
      "execution_count": 25,
      "outputs": []
    }
  ],
  "metadata": {
    "accelerator": "GPU",
    "colab": {
      "provenance": [],
      "include_colab_link": true
    },
    "gpuClass": "standard",
    "kernelspec": {
      "display_name": "Python 3",
      "name": "python3"
    },
    "language_info": {
      "name": "python"
    }
  },
  "nbformat": 4,
  "nbformat_minor": 5
}