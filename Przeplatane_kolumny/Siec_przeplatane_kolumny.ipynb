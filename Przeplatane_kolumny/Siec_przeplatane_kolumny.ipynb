{
  "cells": [
    {
      "cell_type": "markdown",
      "metadata": {
        "id": "view-in-github",
        "colab_type": "text"
      },
      "source": [
        "<a href=\"https://colab.research.google.com/github/ajankowi/Praca_inz/blob/master/Przeplatane_kolumny/Siec_przeplatane_kolumny.ipynb\" target=\"_parent\"><img src=\"https://colab.research.google.com/assets/colab-badge.svg\" alt=\"Open In Colab\"/></a>"
      ]
    },
    {
      "cell_type": "code",
      "execution_count": 1,
      "id": "613f08b5",
      "metadata": {
        "colab": {
          "base_uri": "https://localhost:8080/"
        },
        "id": "613f08b5",
        "outputId": "fb22f8db-c8b7-43f8-c28b-6c591ab5b018"
      },
      "outputs": [
        {
          "output_type": "stream",
          "name": "stdout",
          "text": [
            "3.8.10 (default, Nov 14 2022, 12:59:47) \n",
            "[GCC 9.4.0]\n"
          ]
        }
      ],
      "source": [
        "import sys\n",
        "print(sys.version)"
      ]
    },
    {
      "cell_type": "code",
      "execution_count": 2,
      "id": "0n78XAHmDiUv",
      "metadata": {
        "colab": {
          "base_uri": "https://localhost:8080/"
        },
        "id": "0n78XAHmDiUv",
        "outputId": "7ceb0840-4773-4444-df76-61493a79929c"
      },
      "outputs": [
        {
          "output_type": "stream",
          "name": "stdout",
          "text": [
            "Mounted at /content/drive\n"
          ]
        }
      ],
      "source": [
        "from google.colab import drive\n",
        "drive.mount(\"/content/drive\", force_remount=True)"
      ]
    },
    {
      "cell_type": "code",
      "execution_count": 3,
      "id": "5eca1117",
      "metadata": {
        "colab": {
          "base_uri": "https://localhost:8080/"
        },
        "id": "5eca1117",
        "outputId": "94489cbd-b20e-4317-fa19-93be22f1ea48"
      },
      "outputs": [
        {
          "output_type": "stream",
          "name": "stdout",
          "text": [
            "TensorFlow version: 2.11.0\n"
          ]
        }
      ],
      "source": [
        "import tensorflow as tf\n",
        "from tensorflow import keras\n",
        "from keras import layers, models, regularizers\n",
        "from keras.layers import Flatten, add, Dense, Dropout \n",
        "from keras.callbacks import ModelCheckpoint, EarlyStopping\n",
        "\n",
        "\n",
        "print(\"TensorFlow version:\", tf.__version__)\n",
        "tf.keras.backend.set_floatx('float64')"
      ]
    },
    {
      "cell_type": "code",
      "execution_count": 4,
      "id": "12022d37",
      "metadata": {
        "id": "12022d37"
      },
      "outputs": [],
      "source": [
        "import matplotlib.pyplot as plt\n",
        "import numpy as np\n",
        "import pandas as pd\n",
        "import seaborn as sns\n",
        "from PIL import Image\n",
        "import os\n",
        "import csv\n",
        "import random\n",
        "\n",
        "import cv2\n",
        "import imutils\n",
        "import glob\n",
        "# Make NumPy printouts easier to read.\n",
        "np.set_printoptions(precision=3, suppress=True)"
      ]
    },
    {
      "cell_type": "code",
      "execution_count": 5,
      "id": "1086f893",
      "metadata": {
        "id": "1086f893"
      },
      "outputs": [],
      "source": [
        "#Określenie ścieżek do plików\n",
        "test_csv = 'Test/test.csv'\n",
        "valid_csv = 'Valid/valid.csv'\n",
        "train_csv = 'Train/train.csv'\n",
        "\n",
        "folder = '/content/drive/MyDrive/Sieci_rozszerzenie/Przeplatane_kolumny/'\n",
        "slesh = '/'\n",
        "png = '.png'"
      ]
    },
    {
      "cell_type": "code",
      "execution_count": 6,
      "id": "P6mVaPsPDDID",
      "metadata": {
        "id": "P6mVaPsPDDID"
      },
      "outputs": [],
      "source": [
        "#!unzip '/content/drive/MyDrive/Sieci_rozszerzenie/Przeplatane_kolumny/Train/Train.zip' -d '/content/train/'\n",
        "#!unzip '/content/drive/MyDrive/Sieci_rozszerzenie/Przeplatane_kolumny/Valid/Valid.zip' -d '/content/valid/'\n",
        "#!unzip '/content/drive/MyDrive/Sieci_rozszerzenie/Przeplatane_kolumny/Test/Test.zip' -d '/content/test/'"
      ]
    },
    {
      "cell_type": "code",
      "execution_count": 7,
      "id": "723b71fc",
      "metadata": {
        "id": "723b71fc"
      },
      "outputs": [],
      "source": [
        "def release_list(a):\n",
        "    \n",
        "    del a[:]\n",
        "    del a"
      ]
    },
    {
      "cell_type": "code",
      "execution_count": 8,
      "id": "5beb89e7",
      "metadata": {
        "colab": {
          "base_uri": "https://localhost:8080/"
        },
        "id": "5beb89e7",
        "outputId": "1f222f0e-8f80-4cad-bed8-4062079eab52"
      },
      "outputs": [
        {
          "output_type": "stream",
          "name": "stdout",
          "text": [
            "20160\n"
          ]
        }
      ],
      "source": [
        "#Wczytanie etykiet do treninegu \n",
        "\n",
        "with open(folder+train_csv,\"r\") as csvfile:\n",
        "    lines = csvfile.readlines()\n",
        "csvfile.close()\n",
        "\n",
        "new = []\n",
        "\n",
        "for i in lines:\n",
        "    new.append(i.split(\" \"))\n",
        "\n",
        "    \n",
        "value_train = []\n",
        "for i in new[0]:\n",
        "    value_train.append(int(i))    \n",
        "    \n",
        "print(len(value_train))"
      ]
    },
    {
      "cell_type": "code",
      "source": [
        "#Wczytanie etykiet do treninegu \n",
        "\n",
        "with open(folder+valid_csv,\"r\") as csvfile:\n",
        "    lines = csvfile.readlines()\n",
        "csvfile.close()\n",
        "\n",
        "new = []\n",
        "\n",
        "for i in lines:\n",
        "    new.append(i.split(\" \"))\n",
        "\n",
        "    \n",
        "value_valid = []\n",
        "for i in new[0]:\n",
        "    value_valid.append(int(i))    \n",
        "    \n",
        "print(len(value_valid))"
      ],
      "metadata": {
        "colab": {
          "base_uri": "https://localhost:8080/"
        },
        "id": "81v7kN-MjQlr",
        "outputId": "de1adb73-2c95-4268-ce35-e859808db967"
      },
      "id": "81v7kN-MjQlr",
      "execution_count": 9,
      "outputs": [
        {
          "output_type": "stream",
          "name": "stdout",
          "text": [
            "2520\n"
          ]
        }
      ]
    },
    {
      "cell_type": "code",
      "execution_count": 10,
      "id": "b9FTBM2X68V7",
      "metadata": {
        "colab": {
          "base_uri": "https://localhost:8080/"
        },
        "id": "b9FTBM2X68V7",
        "outputId": "80336ddb-69ff-4f9f-a676-6d9cf5b83c9c"
      },
      "outputs": [
        {
          "output_type": "stream",
          "name": "stdout",
          "text": [
            "2520\n"
          ]
        }
      ],
      "source": [
        "#Wczytanie etykiet do testowania\n",
        "\n",
        "with open(folder+test_csv,\"r\") as csvfile:\n",
        "    lines = csvfile.readlines()\n",
        "csvfile.close()\n",
        "\n",
        "new = []\n",
        "\n",
        "for i in lines:\n",
        "    new.append(i.split(\" \"))\n",
        "\n",
        "    \n",
        "value_test = []\n",
        "for i in new[0]:\n",
        "    value_test.append(int(i))    \n",
        "    \n",
        "print(len(value_test))"
      ]
    },
    {
      "cell_type": "code",
      "execution_count": 11,
      "id": "d9cb09d8",
      "metadata": {
        "colab": {
          "base_uri": "https://localhost:8080/"
        },
        "id": "d9cb09d8",
        "outputId": "399f840a-ca56-48e7-a4e2-b60f9748efe0"
      },
      "outputs": [
        {
          "output_type": "stream",
          "name": "stdout",
          "text": [
            "20160\n"
          ]
        }
      ],
      "source": [
        "#Wczytanie zdjęć treningowych (80% całego zbioru)\n",
        "images_train = []\n",
        "size = len(value_train)\n",
        "\n",
        "for i in range(size):\n",
        "    im = Image.open('/content/train/'+str(i)+'.png')\n",
        "    arr_im = np.array(im) \n",
        "    arr_im = arr_im / 255.0\n",
        "    images_train.append(arr_im) \n",
        "print(len(images_train))"
      ]
    },
    {
      "cell_type": "code",
      "source": [
        "#Wczytanie zdjęć walidacji (10% całego zbioru)\n",
        "images_valid = []\n",
        "size = len(value_valid)\n",
        "\n",
        "for i in range(size):\n",
        "    im = Image.open('/content/valid/'+str(i)+'.png')\n",
        "    arr_im = np.array(im) \n",
        "    arr_im = arr_im / 255.0\n",
        "    images_valid.append(arr_im) \n",
        "print(len(images_valid))"
      ],
      "metadata": {
        "colab": {
          "base_uri": "https://localhost:8080/"
        },
        "id": "ejTH7UQCjv4_",
        "outputId": "3d2c7ef7-9fe9-4e2a-f0b8-4898c9c2aedd"
      },
      "id": "ejTH7UQCjv4_",
      "execution_count": 12,
      "outputs": [
        {
          "output_type": "stream",
          "name": "stdout",
          "text": [
            "2520\n"
          ]
        }
      ]
    },
    {
      "cell_type": "code",
      "execution_count": 13,
      "id": "jyIF3G2Q6_eq",
      "metadata": {
        "colab": {
          "base_uri": "https://localhost:8080/"
        },
        "id": "jyIF3G2Q6_eq",
        "outputId": "d69662d9-0b49-46c8-dfa1-1f25ace39d1e"
      },
      "outputs": [
        {
          "output_type": "stream",
          "name": "stdout",
          "text": [
            "2520\n"
          ]
        }
      ],
      "source": [
        "#Wczytanie zdjęć testowych (10% całego zbioru)\n",
        "images_test = []\n",
        "size = len(value_test)\n",
        "\n",
        "for i in range(size):\n",
        "    im = Image.open('/content/test/'+str(i)+'.png')\n",
        "    arr_im = np.array(im) \n",
        "    arr_im = arr_im / 255.0\n",
        "    images_test.append(arr_im) \n",
        "print(len(images_test))"
      ]
    },
    {
      "cell_type": "code",
      "execution_count": 14,
      "id": "f7f4dd4b",
      "metadata": {
        "id": "f7f4dd4b"
      },
      "outputs": [],
      "source": [
        "x_train = np.array(images_train)\n",
        "y_train = np.array(value_train)\n",
        "\n",
        "x_valid = np.array(images_valid)\n",
        "y_valid = np.array(value_valid)\n",
        "\n",
        "x_test = np.array(images_test)\n",
        "y_test = np.array(value_test)"
      ]
    },
    {
      "cell_type": "code",
      "execution_count": 15,
      "id": "d3a370cb",
      "metadata": {
        "colab": {
          "base_uri": "https://localhost:8080/",
          "height": 235
        },
        "id": "d3a370cb",
        "outputId": "466a8bfe-8df9-413e-b0be-a5503ca67c02"
      },
      "outputs": [
        {
          "output_type": "stream",
          "name": "stdout",
          "text": [
            "0\n"
          ]
        },
        {
          "output_type": "display_data",
          "data": {
            "text/plain": [
              "<Figure size 432x288 with 1 Axes>"
            ],
            "image/png": "[encoded data removed]"
          },
          "metadata": {
            "needs_background": "light"
          }
        }
      ],
      "source": [
        "a = 19000\n",
        "plt.imshow(x_train[a],cmap = 'gray')\n",
        "print(y_train[a])"
      ]
    },
    {
      "cell_type": "code",
      "execution_count": 16,
      "id": "772c7d7c",
      "metadata": {
        "id": "772c7d7c"
      },
      "outputs": [],
      "source": [
        "model = models.Sequential()\n",
        "model.add(layers.Conv2D(32, (3, 3), activation='relu', input_shape=(64, 128, 1)))\n",
        "model.add(layers.MaxPooling2D((2, 2)))\n",
        "\n",
        "\n",
        "model.add(layers.Conv2D(32, (3, 3), activation='relu'))\n",
        "model.add(layers.MaxPooling2D((2, 2)))\n",
        "\n",
        "model.add(layers.BatchNormalization())\n",
        "\n",
        "model.add(layers.Conv2D(64, (3, 3), activation='relu'))\n",
        "model.add(layers.MaxPooling2D((2, 2)))\n",
        "\n",
        "\n",
        "model.add(layers.Conv2D(64, (3, 3), activation='relu'))\n",
        "model.add(layers.MaxPooling2D((2, 2)))\n",
        "\n",
        "\n",
        "model.add(layers.BatchNormalization())\n",
        "\n",
        "model.add(layers.Flatten())\n",
        "model.add(layers.Dense(64, activation='relu'))\n",
        "model.add(layers.Dense(1, activation='relu'))\n"
      ]
    },
    {
      "cell_type": "code",
      "execution_count": 17,
      "id": "b86f72df",
      "metadata": {
        "colab": {
          "base_uri": "https://localhost:8080/"
        },
        "id": "b86f72df",
        "outputId": "7f65dd88-bf84-4ca7-cd4d-b916427a15f0"
      },
      "outputs": [
        {
          "output_type": "stream",
          "name": "stdout",
          "text": [
            "Model: \"sequential\"\n",
            "_________________________________________________________________\n",
            " Layer (type)                Output Shape              Param #   \n",
            "=================================================================\n",
            " conv2d (Conv2D)             (None, 62, 126, 32)       320       \n",
            "                                                                 \n",
            " max_pooling2d (MaxPooling2D  (None, 31, 63, 32)       0         \n",
            " )                                                               \n",
            "                                                                 \n",
            " conv2d_1 (Conv2D)           (None, 29, 61, 32)        9248      \n",
            "                                                                 \n",
            " max_pooling2d_1 (MaxPooling  (None, 14, 30, 32)       0         \n",
            " 2D)                                                             \n",
            "                                                                 \n",
            " batch_normalization (BatchN  (None, 14, 30, 32)       128       \n",
            " ormalization)                                                   \n",
            "                                                                 \n",
            " conv2d_2 (Conv2D)           (None, 12, 28, 64)        18496     \n",
            "                                                                 \n",
            " max_pooling2d_2 (MaxPooling  (None, 6, 14, 64)        0         \n",
            " 2D)                                                             \n",
            "                                                                 \n",
            " conv2d_3 (Conv2D)           (None, 4, 12, 64)         36928     \n",
            "                                                                 \n",
            " max_pooling2d_3 (MaxPooling  (None, 2, 6, 64)         0         \n",
            " 2D)                                                             \n",
            "                                                                 \n",
            " batch_normalization_1 (Batc  (None, 2, 6, 64)         256       \n",
            " hNormalization)                                                 \n",
            "                                                                 \n",
            " flatten (Flatten)           (None, 768)               0         \n",
            "                                                                 \n",
            " dense (Dense)               (None, 64)                49216     \n",
            "                                                                 \n",
            " dense_1 (Dense)             (None, 1)                 65        \n",
            "                                                                 \n",
            "=================================================================\n",
            "Total params: 114,657\n",
            "Trainable params: 114,465\n",
            "Non-trainable params: 192\n",
            "_________________________________________________________________\n"
          ]
        }
      ],
      "source": [
        "model.summary()"
      ]
    },
    {
      "cell_type": "code",
      "execution_count": 18,
      "id": "9beb77e5",
      "metadata": {
        "colab": {
          "base_uri": "https://localhost:8080/"
        },
        "id": "9beb77e5",
        "outputId": "66c48ed7-6c1b-4efa-8de7-4b4821122864"
      },
      "outputs": [
        {
          "output_type": "stream",
          "name": "stdout",
          "text": [
            "Epoch 1/100\n",
            "158/158 [==============================] - 34s 159ms/step - loss: 0.1332 - accuracy: 0.8722 - mse: 0.1332 - val_loss: 0.2037 - val_accuracy: 0.6738 - val_mse: 0.2037\n",
            "Epoch 2/100\n",
            "158/158 [==============================] - 23s 146ms/step - loss: 0.0206 - accuracy: 0.9881 - mse: 0.0206 - val_loss: 0.3311 - val_accuracy: 0.5179 - val_mse: 0.3311\n",
            "Epoch 3/100\n",
            "158/158 [==============================] - 23s 144ms/step - loss: 0.0148 - accuracy: 0.9940 - mse: 0.0148 - val_loss: 0.3166 - val_accuracy: 0.6075 - val_mse: 0.3166\n",
            "Epoch 4/100\n",
            "158/158 [==============================] - 23s 146ms/step - loss: 0.0075 - accuracy: 0.9979 - mse: 0.0075 - val_loss: 0.1754 - val_accuracy: 0.7960 - val_mse: 0.1754\n",
            "Epoch 5/100\n",
            "158/158 [==============================] - 23s 148ms/step - loss: 0.0052 - accuracy: 0.9995 - mse: 0.0052 - val_loss: 0.1226 - val_accuracy: 0.8500 - val_mse: 0.1226\n",
            "Epoch 6/100\n",
            "158/158 [==============================] - 22s 142ms/step - loss: 0.0031 - accuracy: 0.9998 - mse: 0.0031 - val_loss: 0.1382 - val_accuracy: 0.8417 - val_mse: 0.1382\n",
            "Epoch 7/100\n",
            "158/158 [==============================] - 23s 143ms/step - loss: 0.0028 - accuracy: 0.9998 - mse: 0.0028 - val_loss: 0.1273 - val_accuracy: 0.8480 - val_mse: 0.1273\n",
            "Epoch 8/100\n",
            "158/158 [==============================] - 23s 145ms/step - loss: 0.0023 - accuracy: 0.9998 - mse: 0.0023 - val_loss: 0.0979 - val_accuracy: 0.8917 - val_mse: 0.0979\n",
            "Epoch 9/100\n",
            "158/158 [==============================] - 23s 144ms/step - loss: 0.0024 - accuracy: 1.0000 - mse: 0.0024 - val_loss: 0.1116 - val_accuracy: 0.8750 - val_mse: 0.1116\n",
            "Epoch 10/100\n",
            "158/158 [==============================] - 23s 145ms/step - loss: 0.0016 - accuracy: 1.0000 - mse: 0.0016 - val_loss: 0.1080 - val_accuracy: 0.8766 - val_mse: 0.1080\n",
            "Epoch 11/100\n",
            "158/158 [==============================] - 22s 142ms/step - loss: 0.0011 - accuracy: 1.0000 - mse: 0.0011 - val_loss: 0.1338 - val_accuracy: 0.8456 - val_mse: 0.1338\n",
            "Epoch 12/100\n",
            "158/158 [==============================] - 23s 144ms/step - loss: 0.0011 - accuracy: 1.0000 - mse: 0.0011 - val_loss: 0.1561 - val_accuracy: 0.8218 - val_mse: 0.1561\n",
            "Epoch 13/100\n",
            "158/158 [==============================] - 22s 142ms/step - loss: 9.2776e-04 - accuracy: 1.0000 - mse: 9.2776e-04 - val_loss: 0.1494 - val_accuracy: 0.8242 - val_mse: 0.1494\n",
            "Epoch 14/100\n",
            "158/158 [==============================] - 23s 145ms/step - loss: 9.1771e-04 - accuracy: 1.0000 - mse: 9.1771e-04 - val_loss: 0.1028 - val_accuracy: 0.8905 - val_mse: 0.1028\n",
            "Epoch 15/100\n",
            "158/158 [==============================] - 23s 144ms/step - loss: 6.2881e-04 - accuracy: 1.0000 - mse: 6.2881e-04 - val_loss: 0.1070 - val_accuracy: 0.8810 - val_mse: 0.1070\n",
            "Epoch 16/100\n",
            "158/158 [==============================] - 24s 150ms/step - loss: 8.7985e-04 - accuracy: 1.0000 - mse: 8.7985e-04 - val_loss: 0.0932 - val_accuracy: 0.8960 - val_mse: 0.0932\n",
            "Epoch 17/100\n",
            "158/158 [==============================] - 22s 142ms/step - loss: 7.9447e-04 - accuracy: 1.0000 - mse: 7.9447e-04 - val_loss: 0.1143 - val_accuracy: 0.8698 - val_mse: 0.1143\n",
            "Epoch 18/100\n",
            "158/158 [==============================] - 23s 145ms/step - loss: 7.3608e-04 - accuracy: 1.0000 - mse: 7.3608e-04 - val_loss: 0.0805 - val_accuracy: 0.9087 - val_mse: 0.0805\n",
            "Epoch 19/100\n",
            "158/158 [==============================] - 23s 144ms/step - loss: 0.0014 - accuracy: 0.9998 - mse: 0.0014 - val_loss: 0.2008 - val_accuracy: 0.7671 - val_mse: 0.2008\n",
            "Epoch 20/100\n",
            "158/158 [==============================] - 23s 144ms/step - loss: 9.9876e-04 - accuracy: 0.9998 - mse: 9.9876e-04 - val_loss: 0.1021 - val_accuracy: 0.8845 - val_mse: 0.1021\n",
            "Epoch 21/100\n",
            "158/158 [==============================] - 23s 147ms/step - loss: 4.4702e-04 - accuracy: 1.0000 - mse: 4.4702e-04 - val_loss: 0.0738 - val_accuracy: 0.9190 - val_mse: 0.0738\n",
            "Epoch 22/100\n",
            "158/158 [==============================] - 23s 145ms/step - loss: 4.3817e-04 - accuracy: 1.0000 - mse: 4.3817e-04 - val_loss: 0.1066 - val_accuracy: 0.8845 - val_mse: 0.1066\n",
            "Epoch 23/100\n",
            "158/158 [==============================] - 23s 144ms/step - loss: 6.2190e-04 - accuracy: 0.9999 - mse: 6.2190e-04 - val_loss: 0.2782 - val_accuracy: 0.7028 - val_mse: 0.2782\n",
            "Epoch 24/100\n",
            "158/158 [==============================] - 23s 145ms/step - loss: 8.4648e-04 - accuracy: 0.9999 - mse: 8.4648e-04 - val_loss: 0.1538 - val_accuracy: 0.8171 - val_mse: 0.1538\n",
            "Epoch 25/100\n",
            "158/158 [==============================] - 23s 148ms/step - loss: 5.4761e-04 - accuracy: 1.0000 - mse: 5.4761e-04 - val_loss: 0.0375 - val_accuracy: 0.9599 - val_mse: 0.0375\n",
            "Epoch 26/100\n",
            "158/158 [==============================] - 22s 142ms/step - loss: 0.0011 - accuracy: 0.9998 - mse: 0.0011 - val_loss: 0.0776 - val_accuracy: 0.9127 - val_mse: 0.0776\n",
            "Epoch 27/100\n",
            "158/158 [==============================] - 22s 142ms/step - loss: 9.1213e-04 - accuracy: 1.0000 - mse: 9.1213e-04 - val_loss: 0.2221 - val_accuracy: 0.7563 - val_mse: 0.2221\n",
            "Epoch 28/100\n",
            "158/158 [==============================] - 23s 145ms/step - loss: 4.5222e-04 - accuracy: 1.0000 - mse: 4.5222e-04 - val_loss: 0.0621 - val_accuracy: 0.9333 - val_mse: 0.0621\n",
            "Epoch 29/100\n",
            "158/158 [==============================] - 23s 144ms/step - loss: 3.7671e-04 - accuracy: 1.0000 - mse: 3.7671e-04 - val_loss: 0.2829 - val_accuracy: 0.7024 - val_mse: 0.2829\n",
            "Epoch 30/100\n",
            "158/158 [==============================] - 23s 144ms/step - loss: 0.0010 - accuracy: 0.9997 - mse: 0.0010 - val_loss: 0.0417 - val_accuracy: 0.9560 - val_mse: 0.0417\n",
            "Epoch 31/100\n",
            "158/158 [==============================] - 22s 142ms/step - loss: 8.4187e-04 - accuracy: 0.9998 - mse: 8.4187e-04 - val_loss: 0.1181 - val_accuracy: 0.8770 - val_mse: 0.1181\n",
            "Epoch 32/100\n",
            "158/158 [==============================] - 22s 142ms/step - loss: 3.1882e-04 - accuracy: 1.0000 - mse: 3.1882e-04 - val_loss: 0.1123 - val_accuracy: 0.8825 - val_mse: 0.1123\n",
            "Epoch 33/100\n",
            "158/158 [==============================] - 22s 142ms/step - loss: 3.7837e-04 - accuracy: 1.0000 - mse: 3.7837e-04 - val_loss: 0.0718 - val_accuracy: 0.9190 - val_mse: 0.0718\n",
            "Epoch 34/100\n",
            "158/158 [==============================] - 23s 145ms/step - loss: 4.2240e-04 - accuracy: 1.0000 - mse: 4.2240e-04 - val_loss: 0.0986 - val_accuracy: 0.8857 - val_mse: 0.0986\n",
            "Epoch 35/100\n",
            "158/158 [==============================] - 23s 144ms/step - loss: 0.0030 - accuracy: 0.9979 - mse: 0.0030 - val_loss: 0.2024 - val_accuracy: 0.7881 - val_mse: 0.2024\n",
            "Epoch 35: early stopping\n"
          ]
        }
      ],
      "source": [
        "model.compile(optimizer='adam',\n",
        "              loss='mse',\n",
        "              metrics=['accuracy','mse'])\n",
        "\n",
        "#Funcka umożliwia zatrzymanie się uczenia \n",
        "#gdy wartość strat przstanie maleć\n",
        "EarlyStop = EarlyStopping(monitor='val_loss',  \n",
        "                          verbose=1, \n",
        "                          patience=10)\n",
        "\n",
        "\n",
        "ModelCheck = ModelCheckpoint(filepath='/content/drive/MyDrive/Sieci_rozszerzenie/Przeplatane_kolumny/Model_przeplatane_kolumny.h5',\n",
        "                             monitor='val_loss',\n",
        "                             save_best_only=True)\n",
        "\n",
        "history = model.fit(x=x_train, \n",
        "                    y=y_train, \n",
        "                    epochs=100,\n",
        "                    batch_size=128,\n",
        "                    #validation_split=0.1,\n",
        "                    validation_data = (x_valid, y_valid),\n",
        "                    callbacks = [EarlyStop, ModelCheck]\n",
        "                   )"
      ]
    },
    {
      "cell_type": "code",
      "execution_count": 19,
      "id": "3680f8c1",
      "metadata": {
        "colab": {
          "base_uri": "https://localhost:8080/",
          "height": 300
        },
        "id": "3680f8c1",
        "outputId": "bfb2aec7-178a-4e1b-bbb3-e873f242f20f",
        "scrolled": true
      },
      "outputs": [
        {
          "output_type": "execute_result",
          "data": {
            "text/plain": [
              "<matplotlib.legend.Legend at 0x7f3424342100>"
            ]
          },
          "metadata": {},
          "execution_count": 19
        },
        {
          "output_type": "display_data",
          "data": {
            "text/plain": [
              "<Figure size 432x288 with 1 Axes>"
            ],
            "image/png": "[encoded data removed]"
          },
          "metadata": {
            "needs_background": "light"
          }
        }
      ],
      "source": [
        "plt.plot(history.history['loss'], label='strata')\n",
        "plt.plot(history.history['val_loss'], label = 'strata walidacyjna')\n",
        "plt.xlabel('Epoka')\n",
        "plt.ylabel('Strata')\n",
        "plt.ylim([0.0, 0.5])\n",
        "plt.legend(loc='upper right')"
      ]
    },
    {
      "cell_type": "code",
      "execution_count": 20,
      "id": "fe8633db",
      "metadata": {
        "colab": {
          "base_uri": "https://localhost:8080/",
          "height": 300
        },
        "id": "fe8633db",
        "outputId": "3fc64fc5-42ef-4d3f-ef38-369c6bae9c80"
      },
      "outputs": [
        {
          "output_type": "execute_result",
          "data": {
            "text/plain": [
              "<matplotlib.legend.Legend at 0x7f34242dea00>"
            ]
          },
          "metadata": {},
          "execution_count": 20
        },
        {
          "output_type": "display_data",
          "data": {
            "text/plain": [
              "<Figure size 432x288 with 1 Axes>"
            ],
            "image/png": "[encoded data removed]"
          },
          "metadata": {
            "needs_background": "light"
          }
        }
      ],
      "source": [
        "plt.plot(history.history['accuracy'], label='precyzja')\n",
        "plt.plot(history.history['val_accuracy'], label = 'precyzja walidacyjna')\n",
        "plt.xlabel('Epoka')\n",
        "plt.ylabel('Precyzja')\n",
        "plt.ylim([0.5, 1])\n",
        "plt.legend(loc='lower right')"
      ]
    },
    {
      "cell_type": "code",
      "execution_count": 21,
      "id": "194f39e9",
      "metadata": {
        "id": "194f39e9"
      },
      "outputs": [],
      "source": [
        "best_model = tf.keras.models.load_model('/content/drive/MyDrive/Sieci_rozszerzenie/Przeplatane_kolumny/Model_przeplatane_kolumny.h5')"
      ]
    },
    {
      "cell_type": "code",
      "execution_count": 22,
      "id": "ewHB7W_bskUm",
      "metadata": {
        "colab": {
          "base_uri": "https://localhost:8080/"
        },
        "id": "ewHB7W_bskUm",
        "outputId": "ce468baa-9102-4a19-aef9-b8ab0d423ad3"
      },
      "outputs": [
        {
          "output_type": "stream",
          "name": "stdout",
          "text": [
            "79/79 - 2s - loss: 0.0808 - accuracy: 0.8802 - mse: 0.0808 - 2s/epoch - 19ms/step\n"
          ]
        },
        {
          "output_type": "execute_result",
          "data": {
            "text/plain": [
              "[0.08078201920385497, 0.8801587301587301, 0.08078201920385497]"
            ]
          },
          "metadata": {},
          "execution_count": 22
        }
      ],
      "source": [
        "best_model.evaluate(x_test,  y_test, verbose=2)"
      ]
    },
    {
      "cell_type": "code",
      "execution_count": 23,
      "id": "UXFfOAksska6",
      "metadata": {
        "colab": {
          "base_uri": "https://localhost:8080/"
        },
        "id": "UXFfOAksska6",
        "outputId": "5e66589b-e220-45e8-a6a9-55fffa9ce251"
      },
      "outputs": [
        {
          "output_type": "stream",
          "name": "stdout",
          "text": [
            "79/79 [==============================] - 1s 12ms/step\n"
          ]
        }
      ],
      "source": [
        "predict_x = best_model.predict(x_test) \n",
        "\n",
        "predictions = (predict_x > 0.5).astype(\"int32\")"
      ]
    },
    {
      "cell_type": "code",
      "execution_count": 24,
      "id": "u4OPDhfgskeU",
      "metadata": {
        "colab": {
          "base_uri": "https://localhost:8080/"
        },
        "id": "u4OPDhfgskeU",
        "outputId": "e4dd69e2-8948-45a4-d540-52edb890631e"
      },
      "outputs": [
        {
          "output_type": "stream",
          "name": "stdout",
          "text": [
            "[['Tn' 'Nn']\n",
            " ['Np' 'Tp']]\n",
            "tf.Tensor(\n",
            "[[1026  234]\n",
            " [  68 1192]], shape=(2, 2), dtype=int32)\n"
          ]
        }
      ],
      "source": [
        "names = [['Tn','Nn'],['Np', 'Tp']]\n",
        "names = np.reshape(names,(2,2))\n",
        "print(names)\n",
        "\n",
        "conf = tf.math.confusion_matrix(y_test,predictions)\n",
        "\n",
        "print(conf)"
      ]
    },
    {
      "cell_type": "code",
      "source": [
        "#Zapisanie danych statystycznych do plików csv\n",
        "np.array(history.history['accuracy']).tofile(folder+'accuracy.csv', sep = '\\n') \n",
        "np.array(history.history['val_accuracy']).tofile(folder+'val_accuracy.csv', sep = '\\n') \n",
        "np.array(history.history['loss']).tofile(folder+'loss.csv', sep = '\\n') \n",
        "np.array(history.history['val_loss']).tofile(folder+'val_loss.csv', sep = '\\n') \n",
        "\n",
        "predictions.tofile(folder+'predictions.csv', sep = '\\n') \n",
        "predict_x.tofile(folder+'predict_x.csv', sep = '\\n') "
      ],
      "metadata": {
        "id": "oU_pK1pQrj7g"
      },
      "id": "oU_pK1pQrj7g",
      "execution_count": 25,
      "outputs": []
    },
    {
      "cell_type": "code",
      "source": [],
      "metadata": {
        "id": "znkPbm26kfvJ"
      },
      "id": "znkPbm26kfvJ",
      "execution_count": 25,
      "outputs": []
    }
  ],
  "metadata": {
    "accelerator": "GPU",
    "colab": {
      "provenance": [],
      "include_colab_link": true
    },
    "gpuClass": "standard",
    "kernelspec": {
      "display_name": "Python 3",
      "name": "python3"
    },
    "language_info": {
      "name": "python"
    }
  },
  "nbformat": 4,
  "nbformat_minor": 5
}